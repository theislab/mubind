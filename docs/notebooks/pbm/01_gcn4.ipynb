{
 "cells": [
  {
   "cell_type": "code",
   "execution_count": 1,
   "id": "d41546ef-50a4-4f82-a112-5b32166b5967",
   "metadata": {
    "pycharm": {
     "name": "#%%\n"
    }
   },
   "outputs": [],
   "source": [
    "%load_ext autoreload\n",
    "%autoreload 2"
   ]
  },
  {
   "cell_type": "code",
   "execution_count": 2,
   "outputs": [
    {
     "data": {
      "text/plain": "'/mnt/c/Users/ignacio.ibarra/Dropbox/jupyter/lenovo'"
     },
     "execution_count": 2,
     "metadata": {},
     "output_type": "execute_result"
    }
   ],
   "source": [
    "pwd"
   ],
   "metadata": {
    "collapsed": false,
    "pycharm": {
     "name": "#%%\n"
    }
   }
  },
  {
   "cell_type": "code",
   "execution_count": 3,
   "id": "7112493c-84e6-496c-8a5c-72accf85d1c8",
   "metadata": {
    "pycharm": {
     "name": "#%%\n"
    }
   },
   "outputs": [
    {
     "name": "stdout",
     "output_type": "stream",
     "text": [
      "Using device: cuda:0\n"
     ]
    }
   ],
   "source": [
    "import mubind as mb\n",
    "import numpy as np\n",
    "import pandas as pd\n",
    "import torch\n",
    "import bindome as bd\n",
    "bd.constants.ANNOTATIONS_DIRECTORY = '../../annotations'\n",
    "# mb.models.Mubind\n",
    "import torch.optim as topti\n",
    "import torch.utils.data as tdata\n",
    "import matplotlib.pyplot as plt\n",
    "import seaborn as sns\n",
    "import logomaker\n",
    "\n",
    "# Use a GPU if available, as it should be faster.\n",
    "device = torch.device(\"cuda:0\" if torch.cuda.is_available() else \"cpu\")\n",
    "print(\"Using device: \" + str(device))"
   ]
  },
  {
   "cell_type": "code",
   "execution_count": 4,
   "id": "10bf1cb2-07ca-450c-8198-810425a55656",
   "metadata": {
    "pycharm": {
     "name": "#%%\n"
    }
   },
   "outputs": [],
   "source": [
    "df = mb.bindome.datasets.PBM.gcn4_dream_v11()\n",
    "df = df.sort_values('intensity', ascending=False).reset_index(drop=True)"
   ]
  },
  {
   "cell_type": "code",
   "execution_count": 5,
   "outputs": [
    {
     "data": {
      "text/plain": "        tf_name  tech      intensity  \\\n0      gcn4.v11  upbm  437117.583408   \n1      gcn4.v11  upbm  409629.925695   \n2      gcn4.v11  upbm  390667.969212   \n3      gcn4.v11  upbm  377628.072915   \n4      gcn4.v11  upbm  360399.922962   \n...         ...   ...            ...   \n41899  gcn4.v11  upbm    5709.272026   \n41900  gcn4.v11  upbm    5058.172853   \n41901  gcn4.v11  upbm    4634.742298   \n41902  gcn4.v11  upbm    2481.035063   \n41903  gcn4.v11  upbm    1163.764928   \n\n                                                     seq  \n0      CGCTGATAATGAGTCACACCTTGCCTTCCAGACAAAGTCTGTGTTC...  \n1      TCCTGTGACTCATCCATACTCGAACATCCTTATGGAGTCTGTGTTC...  \n2      CTAGTATGATGCTAACAGCATGATGACTCATACCGAGTCTGTGTTC...  \n3      TTGCGTGGTCGTCGTATTGTATGACTCATGAATTTAGTCTGTGTTC...  \n4      TGTGAGTGACTCATAGTAGATTGATTTGAAGGTTAAGTCTGTGTTC...  \n...                                                  ...  \n41899  CCGGGCTAAGAAAGGATGGAGCGCTAGTCCGGGTGCGTCTGTGTTC...  \n41900  AGAGCCATCAAGCTCCTATCTAGGACGGCCGAGCGCGTCTGTGTTC...  \n41901  GATGCAAGATAAAATAGATTCGGAGCTTCTAGAATGGTCTGTGTTC...  \n41902  CACGCCATCGTTATGAGCCTCCGGAGCGTTTAGAACGTCTGTGTTC...  \n41903  GCCAAGGACCTATACTAAGGAGCGCTCATCACTACGGTCTGTGTTC...  \n\n[41904 rows x 4 columns]",
      "text/html": "<div>\n<style scoped>\n    .dataframe tbody tr th:only-of-type {\n        vertical-align: middle;\n    }\n\n    .dataframe tbody tr th {\n        vertical-align: top;\n    }\n\n    .dataframe thead th {\n        text-align: right;\n    }\n</style>\n<table border=\"1\" class=\"dataframe\">\n  <thead>\n    <tr style=\"text-align: right;\">\n      <th></th>\n      <th>tf_name</th>\n      <th>tech</th>\n      <th>intensity</th>\n      <th>seq</th>\n    </tr>\n  </thead>\n  <tbody>\n    <tr>\n      <th>0</th>\n      <td>gcn4.v11</td>\n      <td>upbm</td>\n      <td>437117.583408</td>\n      <td>CGCTGATAATGAGTCACACCTTGCCTTCCAGACAAAGTCTGTGTTC...</td>\n    </tr>\n    <tr>\n      <th>1</th>\n      <td>gcn4.v11</td>\n      <td>upbm</td>\n      <td>409629.925695</td>\n      <td>TCCTGTGACTCATCCATACTCGAACATCCTTATGGAGTCTGTGTTC...</td>\n    </tr>\n    <tr>\n      <th>2</th>\n      <td>gcn4.v11</td>\n      <td>upbm</td>\n      <td>390667.969212</td>\n      <td>CTAGTATGATGCTAACAGCATGATGACTCATACCGAGTCTGTGTTC...</td>\n    </tr>\n    <tr>\n      <th>3</th>\n      <td>gcn4.v11</td>\n      <td>upbm</td>\n      <td>377628.072915</td>\n      <td>TTGCGTGGTCGTCGTATTGTATGACTCATGAATTTAGTCTGTGTTC...</td>\n    </tr>\n    <tr>\n      <th>4</th>\n      <td>gcn4.v11</td>\n      <td>upbm</td>\n      <td>360399.922962</td>\n      <td>TGTGAGTGACTCATAGTAGATTGATTTGAAGGTTAAGTCTGTGTTC...</td>\n    </tr>\n    <tr>\n      <th>...</th>\n      <td>...</td>\n      <td>...</td>\n      <td>...</td>\n      <td>...</td>\n    </tr>\n    <tr>\n      <th>41899</th>\n      <td>gcn4.v11</td>\n      <td>upbm</td>\n      <td>5709.272026</td>\n      <td>CCGGGCTAAGAAAGGATGGAGCGCTAGTCCGGGTGCGTCTGTGTTC...</td>\n    </tr>\n    <tr>\n      <th>41900</th>\n      <td>gcn4.v11</td>\n      <td>upbm</td>\n      <td>5058.172853</td>\n      <td>AGAGCCATCAAGCTCCTATCTAGGACGGCCGAGCGCGTCTGTGTTC...</td>\n    </tr>\n    <tr>\n      <th>41901</th>\n      <td>gcn4.v11</td>\n      <td>upbm</td>\n      <td>4634.742298</td>\n      <td>GATGCAAGATAAAATAGATTCGGAGCTTCTAGAATGGTCTGTGTTC...</td>\n    </tr>\n    <tr>\n      <th>41902</th>\n      <td>gcn4.v11</td>\n      <td>upbm</td>\n      <td>2481.035063</td>\n      <td>CACGCCATCGTTATGAGCCTCCGGAGCGTTTAGAACGTCTGTGTTC...</td>\n    </tr>\n    <tr>\n      <th>41903</th>\n      <td>gcn4.v11</td>\n      <td>upbm</td>\n      <td>1163.764928</td>\n      <td>GCCAAGGACCTATACTAAGGAGCGCTCATCACTACGGTCTGTGTTC...</td>\n    </tr>\n  </tbody>\n</table>\n<p>41904 rows × 4 columns</p>\n</div>"
     },
     "execution_count": 5,
     "metadata": {},
     "output_type": "execute_result"
    }
   ],
   "source": [
    "df"
   ],
   "metadata": {
    "collapsed": false,
    "pycharm": {
     "name": "#%%\n"
    }
   }
  },
  {
   "cell_type": "code",
   "execution_count": 6,
   "id": "ccd7e8b6-430d-4cfe-9a42-7b99ece351e3",
   "metadata": {
    "pycharm": {
     "name": "#%%\n"
    }
   },
   "outputs": [
    {
     "data": {
      "text/plain": "        tf_name  tech      intensity  \\\n0      gcn4.v11  upbm  437117.583408   \n1      gcn4.v11  upbm  409629.925695   \n2      gcn4.v11  upbm  390667.969212   \n3      gcn4.v11  upbm  377628.072915   \n4      gcn4.v11  upbm  360399.922962   \n...         ...   ...            ...   \n41899  gcn4.v11  upbm    5709.272026   \n41900  gcn4.v11  upbm    5058.172853   \n41901  gcn4.v11  upbm    4634.742298   \n41902  gcn4.v11  upbm    2481.035063   \n41903  gcn4.v11  upbm    1163.764928   \n\n                                                     seq  \n0      CGCTGATAATGAGTCACACCTTGCCTTCCAGACAAAGTCTGTGTTC...  \n1      TCCTGTGACTCATCCATACTCGAACATCCTTATGGAGTCTGTGTTC...  \n2      CTAGTATGATGCTAACAGCATGATGACTCATACCGAGTCTGTGTTC...  \n3      TTGCGTGGTCGTCGTATTGTATGACTCATGAATTTAGTCTGTGTTC...  \n4      TGTGAGTGACTCATAGTAGATTGATTTGAAGGTTAAGTCTGTGTTC...  \n...                                                  ...  \n41899  CCGGGCTAAGAAAGGATGGAGCGCTAGTCCGGGTGCGTCTGTGTTC...  \n41900  AGAGCCATCAAGCTCCTATCTAGGACGGCCGAGCGCGTCTGTGTTC...  \n41901  GATGCAAGATAAAATAGATTCGGAGCTTCTAGAATGGTCTGTGTTC...  \n41902  CACGCCATCGTTATGAGCCTCCGGAGCGTTTAGAACGTCTGTGTTC...  \n41903  GCCAAGGACCTATACTAAGGAGCGCTCATCACTACGGTCTGTGTTC...  \n\n[41904 rows x 4 columns]",
      "text/html": "<div>\n<style scoped>\n    .dataframe tbody tr th:only-of-type {\n        vertical-align: middle;\n    }\n\n    .dataframe tbody tr th {\n        vertical-align: top;\n    }\n\n    .dataframe thead th {\n        text-align: right;\n    }\n</style>\n<table border=\"1\" class=\"dataframe\">\n  <thead>\n    <tr style=\"text-align: right;\">\n      <th></th>\n      <th>tf_name</th>\n      <th>tech</th>\n      <th>intensity</th>\n      <th>seq</th>\n    </tr>\n  </thead>\n  <tbody>\n    <tr>\n      <th>0</th>\n      <td>gcn4.v11</td>\n      <td>upbm</td>\n      <td>437117.583408</td>\n      <td>CGCTGATAATGAGTCACACCTTGCCTTCCAGACAAAGTCTGTGTTC...</td>\n    </tr>\n    <tr>\n      <th>1</th>\n      <td>gcn4.v11</td>\n      <td>upbm</td>\n      <td>409629.925695</td>\n      <td>TCCTGTGACTCATCCATACTCGAACATCCTTATGGAGTCTGTGTTC...</td>\n    </tr>\n    <tr>\n      <th>2</th>\n      <td>gcn4.v11</td>\n      <td>upbm</td>\n      <td>390667.969212</td>\n      <td>CTAGTATGATGCTAACAGCATGATGACTCATACCGAGTCTGTGTTC...</td>\n    </tr>\n    <tr>\n      <th>3</th>\n      <td>gcn4.v11</td>\n      <td>upbm</td>\n      <td>377628.072915</td>\n      <td>TTGCGTGGTCGTCGTATTGTATGACTCATGAATTTAGTCTGTGTTC...</td>\n    </tr>\n    <tr>\n      <th>4</th>\n      <td>gcn4.v11</td>\n      <td>upbm</td>\n      <td>360399.922962</td>\n      <td>TGTGAGTGACTCATAGTAGATTGATTTGAAGGTTAAGTCTGTGTTC...</td>\n    </tr>\n    <tr>\n      <th>...</th>\n      <td>...</td>\n      <td>...</td>\n      <td>...</td>\n      <td>...</td>\n    </tr>\n    <tr>\n      <th>41899</th>\n      <td>gcn4.v11</td>\n      <td>upbm</td>\n      <td>5709.272026</td>\n      <td>CCGGGCTAAGAAAGGATGGAGCGCTAGTCCGGGTGCGTCTGTGTTC...</td>\n    </tr>\n    <tr>\n      <th>41900</th>\n      <td>gcn4.v11</td>\n      <td>upbm</td>\n      <td>5058.172853</td>\n      <td>AGAGCCATCAAGCTCCTATCTAGGACGGCCGAGCGCGTCTGTGTTC...</td>\n    </tr>\n    <tr>\n      <th>41901</th>\n      <td>gcn4.v11</td>\n      <td>upbm</td>\n      <td>4634.742298</td>\n      <td>GATGCAAGATAAAATAGATTCGGAGCTTCTAGAATGGTCTGTGTTC...</td>\n    </tr>\n    <tr>\n      <th>41902</th>\n      <td>gcn4.v11</td>\n      <td>upbm</td>\n      <td>2481.035063</td>\n      <td>CACGCCATCGTTATGAGCCTCCGGAGCGTTTAGAACGTCTGTGTTC...</td>\n    </tr>\n    <tr>\n      <th>41903</th>\n      <td>gcn4.v11</td>\n      <td>upbm</td>\n      <td>1163.764928</td>\n      <td>GCCAAGGACCTATACTAAGGAGCGCTCATCACTACGGTCTGTGTTC...</td>\n    </tr>\n  </tbody>\n</table>\n<p>41904 rows × 4 columns</p>\n</div>"
     },
     "execution_count": 6,
     "metadata": {},
     "output_type": "execute_result"
    }
   ],
   "source": [
    "df"
   ]
  },
  {
   "cell_type": "code",
   "execution_count": 7,
   "id": "f3708c94-9cbf-495a-9687-469c619579cd",
   "metadata": {
    "pycharm": {
     "name": "#%%\n"
    }
   },
   "outputs": [],
   "source": [
    "df = df[['seq', 'intensity']]\n",
    "df.columns = ['seq', 0]"
   ]
  },
  {
   "cell_type": "code",
   "execution_count": 31,
   "id": "cacc030a-8a2f-4fc2-82c7-b924865232ec",
   "metadata": {
    "pycharm": {
     "name": "#%%\n"
    }
   },
   "outputs": [],
   "source": [
    "data = df.copy() # head(10000)\n",
    "data = df.sample(n=20000)"
   ]
  },
  {
   "cell_type": "code",
   "execution_count": 32,
   "id": "bac1c2e7-3b3e-4863-acb1-05f404797494",
   "metadata": {
    "pycharm": {
     "name": "#%%\n"
    }
   },
   "outputs": [],
   "source": [
    "# data[1] = data[0]\n",
    "# data[0] = np.median(data[1])\n",
    "# data[1] = np.log(data[1])\n",
    "\n",
    "data[0] = np.log(data[0])\n"
   ]
  },
  {
   "cell_type": "code",
   "execution_count": 33,
   "id": "8e0f219a-3771-4745-8545-8cdb7a8bcaf0",
   "metadata": {
    "pycharm": {
     "name": "#%%\n"
    }
   },
   "outputs": [],
   "source": [
    "# data['seq'] = data['seq'].str[:-23]\n"
   ]
  },
  {
   "cell_type": "code",
   "execution_count": 34,
   "outputs": [
    {
     "data": {
      "text/plain": "                                                     seq          0\n36472  CAGGAGTACACCCTAGCGTGTTCCGGTCGAGAGGTAGTCTGTGTTC...   9.500519\n36087  CAGGGAATTTCCATTGGGATTAGGACTGGGCTAAAGGTCTGTGTTC...   9.515209\n17823  CCGCCGAAGACTCTCATTATTTCTTAGCAAGCTAGGGTCTGTGTTC...   9.986600\n40778  CTAGGAGTCGTCCGCTCCACCATGTAGAAGTTGCCCGTCTGTGTTC...   9.256776\n16231  CGGGCCTTCCCCCTTATGCTGCCACAGTTACGGAAAGTCTGTGTTC...  10.031071\n...                                                  ...        ...\n30163  AAAACAGGATACAAATTGGACATAAAAGGTGGACTCGTCTGTGTTC...   9.686712\n12428  ACTCGTCCAGGTTCGCGCCCCACGGTATAGCGTATAGTCTGTGTTC...  10.148747\n41855  ACAGCATGGCCTAAGTGAAAGAACGGGCGAACGCTGGTCTGTGTTC...   8.913397\n18194  CCAGCCATCCAGTAGAACCGTCTTTGCTGACAGCCGGTCTGTGTTC...   9.977350\n39261  AAACGTTGATTGCCCTAGGTTCGTACAGAGCTTGCCGTCTGTGTTC...   9.374443\n\n[20000 rows x 2 columns]",
      "text/html": "<div>\n<style scoped>\n    .dataframe tbody tr th:only-of-type {\n        vertical-align: middle;\n    }\n\n    .dataframe tbody tr th {\n        vertical-align: top;\n    }\n\n    .dataframe thead th {\n        text-align: right;\n    }\n</style>\n<table border=\"1\" class=\"dataframe\">\n  <thead>\n    <tr style=\"text-align: right;\">\n      <th></th>\n      <th>seq</th>\n      <th>0</th>\n    </tr>\n  </thead>\n  <tbody>\n    <tr>\n      <th>36472</th>\n      <td>CAGGAGTACACCCTAGCGTGTTCCGGTCGAGAGGTAGTCTGTGTTC...</td>\n      <td>9.500519</td>\n    </tr>\n    <tr>\n      <th>36087</th>\n      <td>CAGGGAATTTCCATTGGGATTAGGACTGGGCTAAAGGTCTGTGTTC...</td>\n      <td>9.515209</td>\n    </tr>\n    <tr>\n      <th>17823</th>\n      <td>CCGCCGAAGACTCTCATTATTTCTTAGCAAGCTAGGGTCTGTGTTC...</td>\n      <td>9.986600</td>\n    </tr>\n    <tr>\n      <th>40778</th>\n      <td>CTAGGAGTCGTCCGCTCCACCATGTAGAAGTTGCCCGTCTGTGTTC...</td>\n      <td>9.256776</td>\n    </tr>\n    <tr>\n      <th>16231</th>\n      <td>CGGGCCTTCCCCCTTATGCTGCCACAGTTACGGAAAGTCTGTGTTC...</td>\n      <td>10.031071</td>\n    </tr>\n    <tr>\n      <th>...</th>\n      <td>...</td>\n      <td>...</td>\n    </tr>\n    <tr>\n      <th>30163</th>\n      <td>AAAACAGGATACAAATTGGACATAAAAGGTGGACTCGTCTGTGTTC...</td>\n      <td>9.686712</td>\n    </tr>\n    <tr>\n      <th>12428</th>\n      <td>ACTCGTCCAGGTTCGCGCCCCACGGTATAGCGTATAGTCTGTGTTC...</td>\n      <td>10.148747</td>\n    </tr>\n    <tr>\n      <th>41855</th>\n      <td>ACAGCATGGCCTAAGTGAAAGAACGGGCGAACGCTGGTCTGTGTTC...</td>\n      <td>8.913397</td>\n    </tr>\n    <tr>\n      <th>18194</th>\n      <td>CCAGCCATCCAGTAGAACCGTCTTTGCTGACAGCCGGTCTGTGTTC...</td>\n      <td>9.977350</td>\n    </tr>\n    <tr>\n      <th>39261</th>\n      <td>AAACGTTGATTGCCCTAGGTTCGTACAGAGCTTGCCGTCTGTGTTC...</td>\n      <td>9.374443</td>\n    </tr>\n  </tbody>\n</table>\n<p>20000 rows × 2 columns</p>\n</div>"
     },
     "execution_count": 34,
     "metadata": {},
     "output_type": "execute_result"
    }
   ],
   "source": [
    "data"
   ],
   "metadata": {
    "collapsed": false,
    "pycharm": {
     "name": "#%%\n"
    }
   }
  },
  {
   "cell_type": "code",
   "execution_count": 35,
   "id": "450b5410-5e1a-467d-9b7c-b94edda0e447",
   "metadata": {
    "pycharm": {
     "name": "#%%\n"
    }
   },
   "outputs": [],
   "source": [
    "data[0] = (data[0] - data[0].mean()) / data[0].std()\n",
    "# data[1] = data[0]"
   ]
  },
  {
   "cell_type": "code",
   "execution_count": 36,
   "outputs": [
    {
     "data": {
      "text/plain": "                                                     seq         0\n36472  CAGGAGTACACCCTAGCGTGTTCCGGTCGAGAGGTAGTCTGTGTTC... -0.995895\n36087  CAGGGAATTTCCATTGGGATTAGGACTGGGCTAAAGGTCTGTGTTC... -0.965518\n17823  CCGCCGAAGACTCTCATTATTTCTTAGCAAGCTAGGGTCTGTGTTC...  0.009261\n40778  CTAGGAGTCGTCCGCTCCACCATGTAGAAGTTGCCCGTCTGTGTTC... -1.499925\n16231  CGGGCCTTCCCCCTTATGCTGCCACAGTTACGGAAAGTCTGTGTTC...  0.101221\n...                                                  ...       ...\n30163  AAAACAGGATACAAATTGGACATAAAAGGTGGACTCGTCTGTGTTC... -0.610871\n12428  ACTCGTCCAGGTTCGCGCCCCACGGTATAGCGTATAGTCTGTGTTC...  0.344560\n41855  ACAGCATGGCCTAAGTGAAAGAACGGGCGAACGCTGGTCTGTGTTC... -2.209990\n18194  CCAGCCATCCAGTAGAACCGTCTTTGCTGACAGCCGGTCTGTGTTC... -0.009867\n39261  AAACGTTGATTGCCCTAGGTTCGTACAGAGCTTGCCGTCTGTGTTC... -1.256603\n\n[20000 rows x 2 columns]",
      "text/html": "<div>\n<style scoped>\n    .dataframe tbody tr th:only-of-type {\n        vertical-align: middle;\n    }\n\n    .dataframe tbody tr th {\n        vertical-align: top;\n    }\n\n    .dataframe thead th {\n        text-align: right;\n    }\n</style>\n<table border=\"1\" class=\"dataframe\">\n  <thead>\n    <tr style=\"text-align: right;\">\n      <th></th>\n      <th>seq</th>\n      <th>0</th>\n    </tr>\n  </thead>\n  <tbody>\n    <tr>\n      <th>36472</th>\n      <td>CAGGAGTACACCCTAGCGTGTTCCGGTCGAGAGGTAGTCTGTGTTC...</td>\n      <td>-0.995895</td>\n    </tr>\n    <tr>\n      <th>36087</th>\n      <td>CAGGGAATTTCCATTGGGATTAGGACTGGGCTAAAGGTCTGTGTTC...</td>\n      <td>-0.965518</td>\n    </tr>\n    <tr>\n      <th>17823</th>\n      <td>CCGCCGAAGACTCTCATTATTTCTTAGCAAGCTAGGGTCTGTGTTC...</td>\n      <td>0.009261</td>\n    </tr>\n    <tr>\n      <th>40778</th>\n      <td>CTAGGAGTCGTCCGCTCCACCATGTAGAAGTTGCCCGTCTGTGTTC...</td>\n      <td>-1.499925</td>\n    </tr>\n    <tr>\n      <th>16231</th>\n      <td>CGGGCCTTCCCCCTTATGCTGCCACAGTTACGGAAAGTCTGTGTTC...</td>\n      <td>0.101221</td>\n    </tr>\n    <tr>\n      <th>...</th>\n      <td>...</td>\n      <td>...</td>\n    </tr>\n    <tr>\n      <th>30163</th>\n      <td>AAAACAGGATACAAATTGGACATAAAAGGTGGACTCGTCTGTGTTC...</td>\n      <td>-0.610871</td>\n    </tr>\n    <tr>\n      <th>12428</th>\n      <td>ACTCGTCCAGGTTCGCGCCCCACGGTATAGCGTATAGTCTGTGTTC...</td>\n      <td>0.344560</td>\n    </tr>\n    <tr>\n      <th>41855</th>\n      <td>ACAGCATGGCCTAAGTGAAAGAACGGGCGAACGCTGGTCTGTGTTC...</td>\n      <td>-2.209990</td>\n    </tr>\n    <tr>\n      <th>18194</th>\n      <td>CCAGCCATCCAGTAGAACCGTCTTTGCTGACAGCCGGTCTGTGTTC...</td>\n      <td>-0.009867</td>\n    </tr>\n    <tr>\n      <th>39261</th>\n      <td>AAACGTTGATTGCCCTAGGTTCGTACAGAGCTTGCCGTCTGTGTTC...</td>\n      <td>-1.256603</td>\n    </tr>\n  </tbody>\n</table>\n<p>20000 rows × 2 columns</p>\n</div>"
     },
     "execution_count": 36,
     "metadata": {},
     "output_type": "execute_result"
    }
   ],
   "source": [
    "data"
   ],
   "metadata": {
    "collapsed": false,
    "pycharm": {
     "name": "#%%\n"
    }
   }
  },
  {
   "cell_type": "code",
   "execution_count": 37,
   "id": "c9f0bf4c-8a39-439e-a532-a077b1d5ed58",
   "metadata": {
    "pycharm": {
     "name": "#%%\n"
    }
   },
   "outputs": [
    {
     "data": {
      "text/plain": "<AxesSubplot: >"
     },
     "execution_count": 37,
     "metadata": {},
     "output_type": "execute_result"
    },
    {
     "data": {
      "text/plain": "<Figure size 516x516 with 1 Axes>",
      "image/png": "[encoded data removed]"
     },
     "metadata": {},
     "output_type": "display_data"
    }
   ],
   "source": [
    "sns.boxplot(data=np.array(data[0]))"
   ]
  },
  {
   "cell_type": "code",
   "execution_count": 38,
   "id": "0b7bf104-3fc9-4f4a-9c52-1db30c146a26",
   "metadata": {
    "pycharm": {
     "name": "#%%\n"
    }
   },
   "outputs": [
    {
     "data": {
      "text/plain": "<AxesSubplot: ylabel='Density'>"
     },
     "execution_count": 38,
     "metadata": {},
     "output_type": "execute_result"
    },
    {
     "data": {
      "text/plain": "<Figure size 516x516 with 1 Axes>",
      "image/png": "[encoded data removed]"
     },
     "metadata": {},
     "output_type": "display_data"
    }
   ],
   "source": [
    "sns.distplot(np.array(data[0]))"
   ]
  },
  {
   "cell_type": "code",
   "execution_count": 39,
   "id": "5e3fad7a-8cc5-4225-8dcf-e80860405a04",
   "metadata": {
    "pycharm": {
     "name": "#%%\n"
    }
   },
   "outputs": [],
   "source": [
    "from matplotlib import rcParams\n",
    "rcParams['figure.figsize'] = 5, 1"
   ]
  },
  {
   "cell_type": "code",
   "execution_count": 40,
   "id": "cd1dc22f-d822-4ff7-bf3a-0efd4ddc54f4",
   "metadata": {
    "pycharm": {
     "name": "#%%\n"
    }
   },
   "outputs": [],
   "source": [
    "data = data.set_index('seq')"
   ]
  },
  {
   "cell_type": "code",
   "execution_count": 41,
   "id": "347a2eb9-1b28-483d-b319-b162e0d6bae5",
   "metadata": {
    "pycharm": {
     "name": "#%%\n"
    }
   },
   "outputs": [
    {
     "name": "stdout",
     "output_type": "stream",
     "text": [
      "loading object (# entries) 20000\n"
     ]
    }
   ],
   "source": [
    "print('loading object (# entries)', data.shape[0])\n",
    "dataset = mb.datasets.SelexDataset(data, n_rounds=1, enr_series=False)\n",
    "train = tdata.DataLoader(dataset=dataset, batch_size=256, shuffle=True)"
   ]
  },
  {
   "cell_type": "markdown",
   "id": "e76d7730-3bfa-4b59-a57a-451af5ea7b27",
   "metadata": {
    "tags": [],
    "pycharm": {
     "name": "#%% md\n"
    }
   },
   "source": [
    "# Simple model with MSE Loss"
   ]
  },
  {
   "cell_type": "code",
   "execution_count": 50,
   "outputs": [
    {
     "data": {
      "text/plain": "                                                     seq              0\n0      CGCTGATAATGAGTCACACCTTGCCTTCCAGACAAAGTCTGTGTTC...  437117.583408\n1      TCCTGTGACTCATCCATACTCGAACATCCTTATGGAGTCTGTGTTC...  409629.925695\n2      CTAGTATGATGCTAACAGCATGATGACTCATACCGAGTCTGTGTTC...  390667.969212\n3      TTGCGTGGTCGTCGTATTGTATGACTCATGAATTTAGTCTGTGTTC...  377628.072915\n4      TGTGAGTGACTCATAGTAGATTGATTTGAAGGTTAAGTCTGTGTTC...  360399.922962\n...                                                  ...            ...\n41899  CCGGGCTAAGAAAGGATGGAGCGCTAGTCCGGGTGCGTCTGTGTTC...    5709.272026\n41900  AGAGCCATCAAGCTCCTATCTAGGACGGCCGAGCGCGTCTGTGTTC...    5058.172853\n41901  GATGCAAGATAAAATAGATTCGGAGCTTCTAGAATGGTCTGTGTTC...    4634.742298\n41902  CACGCCATCGTTATGAGCCTCCGGAGCGTTTAGAACGTCTGTGTTC...    2481.035063\n41903  GCCAAGGACCTATACTAAGGAGCGCTCATCACTACGGTCTGTGTTC...    1163.764928\n\n[41904 rows x 2 columns]",
      "text/html": "<div>\n<style scoped>\n    .dataframe tbody tr th:only-of-type {\n        vertical-align: middle;\n    }\n\n    .dataframe tbody tr th {\n        vertical-align: top;\n    }\n\n    .dataframe thead th {\n        text-align: right;\n    }\n</style>\n<table border=\"1\" class=\"dataframe\">\n  <thead>\n    <tr style=\"text-align: right;\">\n      <th></th>\n      <th>seq</th>\n      <th>0</th>\n    </tr>\n  </thead>\n  <tbody>\n    <tr>\n      <th>0</th>\n      <td>CGCTGATAATGAGTCACACCTTGCCTTCCAGACAAAGTCTGTGTTC...</td>\n      <td>437117.583408</td>\n    </tr>\n    <tr>\n      <th>1</th>\n      <td>TCCTGTGACTCATCCATACTCGAACATCCTTATGGAGTCTGTGTTC...</td>\n      <td>409629.925695</td>\n    </tr>\n    <tr>\n      <th>2</th>\n      <td>CTAGTATGATGCTAACAGCATGATGACTCATACCGAGTCTGTGTTC...</td>\n      <td>390667.969212</td>\n    </tr>\n    <tr>\n      <th>3</th>\n      <td>TTGCGTGGTCGTCGTATTGTATGACTCATGAATTTAGTCTGTGTTC...</td>\n      <td>377628.072915</td>\n    </tr>\n    <tr>\n      <th>4</th>\n      <td>TGTGAGTGACTCATAGTAGATTGATTTGAAGGTTAAGTCTGTGTTC...</td>\n      <td>360399.922962</td>\n    </tr>\n    <tr>\n      <th>...</th>\n      <td>...</td>\n      <td>...</td>\n    </tr>\n    <tr>\n      <th>41899</th>\n      <td>CCGGGCTAAGAAAGGATGGAGCGCTAGTCCGGGTGCGTCTGTGTTC...</td>\n      <td>5709.272026</td>\n    </tr>\n    <tr>\n      <th>41900</th>\n      <td>AGAGCCATCAAGCTCCTATCTAGGACGGCCGAGCGCGTCTGTGTTC...</td>\n      <td>5058.172853</td>\n    </tr>\n    <tr>\n      <th>41901</th>\n      <td>GATGCAAGATAAAATAGATTCGGAGCTTCTAGAATGGTCTGTGTTC...</td>\n      <td>4634.742298</td>\n    </tr>\n    <tr>\n      <th>41902</th>\n      <td>CACGCCATCGTTATGAGCCTCCGGAGCGTTTAGAACGTCTGTGTTC...</td>\n      <td>2481.035063</td>\n    </tr>\n    <tr>\n      <th>41903</th>\n      <td>GCCAAGGACCTATACTAAGGAGCGCTCATCACTACGGTCTGTGTTC...</td>\n      <td>1163.764928</td>\n    </tr>\n  </tbody>\n</table>\n<p>41904 rows × 2 columns</p>\n</div>"
     },
     "execution_count": 50,
     "metadata": {},
     "output_type": "execute_result"
    }
   ],
   "source": [],
   "metadata": {
    "collapsed": false,
    "pycharm": {
     "name": "#%%\n"
    }
   }
  },
  {
   "cell_type": "code",
   "execution_count": 42,
   "outputs": [
    {
     "name": "stdout",
     "output_type": "stream",
     "text": [
      "here... 2\n",
      "Using device: cuda:0\n"
     ]
    }
   ],
   "source": [
    "# mb.models.Mubind.make_model()\n",
    "# model = mb.models.Mubind(\"pbm\", n_kernels=2, criterion = mb.tl.MSELoss(), use_dinuc=False,\n",
    "#                             kernels=[0, 14], n_rounds=1,\n",
    "#                             n_batches=1).to(device)\n",
    "\n",
    "criterion = mb.tl.MSELoss()\n",
    "model = mb.models.Mubind.make_model(train, 4, criterion, kernels=[0, 2, 20, 20], n_rounds=1,\n",
    "                                       use_dinuc=True, dinuc_mode='local').cuda()\n",
    "model.datatype = 'pbm'\n",
    "model.selex_module.enr_series = False\n",
    "\n"
   ],
   "metadata": {
    "collapsed": false,
    "pycharm": {
     "name": "#%%\n"
    }
   }
  },
  {
   "cell_type": "code",
   "execution_count": 43,
   "id": "bc285830-7b24-42e1-a12a-59f0c24dc3c2",
   "metadata": {
    "pycharm": {
     "name": "#%%\n"
    }
   },
   "outputs": [],
   "source": [
    "# model = mb.models.Mubind(use_dinuc=False, kernels=[0, 14], n_rounds=1, n_batches=1).to(device)\n",
    "# optimiser = topti.Adam(model.parameters(), lr=0.001, weight_decay=0.0001)\n",
    "# optimiser = topti.LBFGS(model.parameters())\n",
    "# criterion = mb.tl.PoissonLoss()"
   ]
  },
  {
   "cell_type": "code",
   "execution_count": 44,
   "outputs": [],
   "source": [
    "import warnings\n",
    "warnings.filterwarnings(\"ignore\")"
   ],
   "metadata": {
    "collapsed": false,
    "pycharm": {
     "name": "#%%\n"
    }
   }
  },
  {
   "cell_type": "code",
   "execution_count": 45,
   "id": "ca741e22-70bf-4ae5-ba94-e95cce30aa44",
   "metadata": {
    "pycharm": {
     "name": "#%%\n"
    }
   },
   "outputs": [
    {
     "name": "stdout",
     "output_type": "stream",
     "text": [
      "current kernels\n",
      "\n",
      "Kernel to optimize 0\n",
      "\n",
      "FREEZING KERNELS\n",
      "optimizing feature type mono\n",
      "setting grad status of kernel (mono, dinuc) at 0 to (1, 0)\n",
      "setting grad status of kernel (mono, dinuc) at 1 to (0, 0)\n",
      "setting grad status of kernel (mono, dinuc) at 2 to (0, 0)\n",
      "setting grad status of kernel (mono, dinuc) at 3 to (0, 0)\n",
      "\n",
      "\n",
      "kernels mask None\n",
      "optimizer:  Adam \n",
      "criterion: MSELoss \n",
      "# epochs: 1000 \n",
      "early_stopping: 10\n",
      "lr= 0.1, weight_decay= 0.001, dir weight= 0\n",
      "Epoch: 11, Loss: 210.060936, R2: -194.16,  best epoch: 9,  secs per epoch: 2.675 s,  secs epoch*1k trials: 0.134s\n",
      "Epoch: 21, Loss: 70.580553, R2: -66.65,  best epoch: 19,  secs per epoch: 2.593 s,  secs epoch*1k trials: 0.130s\n",
      "Epoch: 31, Loss: 34.184700, R2: -32.18,  best epoch: 29,  secs per epoch: 2.536 s,  secs epoch*1k trials: 0.127s\n",
      "Epoch: 41, Loss: 19.403972, R2: -17.91,  best epoch: 39,  secs per epoch: 2.532 s,  secs epoch*1k trials: 0.127s\n",
      "Epoch: 51, Loss: 12.005164, R2: -10.73,  best epoch: 49,  secs per epoch: 2.518 s,  secs epoch*1k trials: 0.126s\n",
      "Epoch: 61, Loss: 7.864640, R2: -6.71,  best epoch: 59,  secs per epoch: 2.526 s,  secs epoch*1k trials: 0.126s\n",
      "Epoch: 71, Loss: 5.415559, R2: -4.31,  best epoch: 69,  secs per epoch: 2.526 s,  secs epoch*1k trials: 0.126s\n",
      "Epoch: 81, Loss: 3.871544, R2: -2.81,  best epoch: 79,  secs per epoch: 2.530 s,  secs epoch*1k trials: 0.126s\n",
      "Epoch: 91, Loss: 2.895131, R2: -1.86,  best epoch: 89,  secs per epoch: 2.531 s,  secs epoch*1k trials: 0.127s\n",
      "Epoch: 101, Loss: 2.258688, R2: -1.23,  best epoch: 99,  secs per epoch: 2.530 s,  secs epoch*1k trials: 0.127s\n",
      "Epoch: 111, Loss: 1.841958, R2: -0.82,  best epoch: 109,  secs per epoch: 2.534 s,  secs epoch*1k trials: 0.127s\n",
      "Epoch: 121, Loss: 1.560764, R2: -0.55,  best epoch: 119,  secs per epoch: 2.531 s,  secs epoch*1k trials: 0.127s\n",
      "Epoch: 131, Loss: 1.379115, R2: -0.37,  best epoch: 129,  secs per epoch: 2.528 s,  secs epoch*1k trials: 0.126s\n",
      "Epoch: 141, Loss: 1.255325, R2: -0.25,  best epoch: 139,  secs per epoch: 2.531 s,  secs epoch*1k trials: 0.127s\n",
      "Epoch: 151, Loss: 1.175613, R2: -0.17,  best epoch: 149,  secs per epoch: 2.532 s,  secs epoch*1k trials: 0.127s\n",
      "Epoch: 161, Loss: 1.114119, R2: -0.12,  best epoch: 159,  secs per epoch: 2.533 s,  secs epoch*1k trials: 0.127s\n",
      "Epoch: 171, Loss: 1.085663, R2: -0.08,  best epoch: 169,  secs per epoch: 2.531 s,  secs epoch*1k trials: 0.127s\n",
      "Epoch: 181, Loss: 1.058415, R2: -0.05,  best epoch: 179,  secs per epoch: 2.534 s,  secs epoch*1k trials: 0.127s\n",
      "Epoch: 191, Loss: 1.033017, R2: -0.04,  best epoch: 189,  secs per epoch: 2.536 s,  secs epoch*1k trials: 0.127s\n",
      "Epoch: 201, Loss: 1.043370, R2: -0.03,  best epoch: 198,  secs per epoch: 2.569 s,  secs epoch*1k trials: 0.128s\n",
      "Epoch: 211, Loss: 1.015619, R2: -0.02,  best epoch: 209,  secs per epoch: 2.576 s,  secs epoch*1k trials: 0.129s\n",
      "Epoch: 221, Loss: 1.017766, R2: -0.01,  best epoch: 219,  secs per epoch: 2.581 s,  secs epoch*1k trials: 0.129s\n",
      "Epoch: 231, Loss: 1.011589, R2: -0.01,  best epoch: 225,  secs per epoch: 2.606 s,  secs epoch*1k trials: 0.130s\n",
      "Epoch: 241, Loss: 1.005841, R2: -0.01,  best epoch: 231,  secs per epoch: 2.646 s,  secs epoch*1k trials: 0.132s\n",
      "Epoch: 242, Loss: 1.004665, R2: -0.01,  best epoch: 231,  secs per epoch: 2.656s,  secs epoch*1k trials: 0.133s\n",
      "early stop!\n",
      "Final loss: 1.0046646946 , R2: -0.01\n",
      "Total time (model/function): (640.101s / 640.101s)\n",
      "Time per epoch (model/function): (2.656s/ 2.656s)\n",
      "Time per epoch per 1k trials: 0.133s\n",
      "Current time: 2023-01-21 15:19:02.050289\n",
      "optimization of dinuc is not necessary for the intercepts (kernel=0). Skip...\n",
      "current kernels\n",
      "\n",
      "Kernel to optimize 1\n",
      "\n",
      "FREEZING KERNELS\n",
      "optimizing feature type mono\n",
      "setting grad status of kernel (mono, dinuc) at 0 to (0, 0)\n",
      "setting grad status of kernel (mono, dinuc) at 1 to (1, 0)\n",
      "setting grad status of kernel (mono, dinuc) at 2 to (0, 0)\n",
      "setting grad status of kernel (mono, dinuc) at 3 to (0, 0)\n",
      "\n",
      "\n",
      "kernels mask None\n",
      "optimizer:  Adam \n",
      "criterion: MSELoss \n",
      "# epochs: 200 \n",
      "early_stopping: 20\n",
      "lr= 0.05, weight_decay= 0.001, dir weight= 0\n",
      "Epoch: 11, Loss: 1.004734, R2: -0.00,  best epoch: 8,  secs per epoch: 3.172 s,  secs epoch*1k trials: 0.159s\n",
      "Epoch: 21, Loss: 1.003483, R2: -0.00,  best epoch: 17,  secs per epoch: 3.075 s,  secs epoch*1k trials: 0.154s\n",
      "Epoch: 31, Loss: 0.999834, R2: -0.00,  best epoch: 25,  secs per epoch: 2.996 s,  secs epoch*1k trials: 0.150s\n",
      "Epoch: 41, Loss: 1.002479, R2: -0.00,  best epoch: 25,  secs per epoch: 2.915 s,  secs epoch*1k trials: 0.146s\n",
      "Epoch: 46, Loss: 1.000121, R2: -0.00,  best epoch: 25,  secs per epoch: 2.894s,  secs epoch*1k trials: 0.145s\n",
      "early stop!\n",
      "Final loss: 1.0001205028 , R2: -0.00\n",
      "Total time (model/function): (770.350s / 130.249s)\n",
      "Time per epoch (model/function): (17.119s/ 2.894s)\n",
      "Time per epoch per 1k trials: 0.145s\n",
      "Current time: 2023-01-21 15:21:13.436116\n",
      "\n",
      "\n",
      "final refinement step (after shift)...\n",
      "\n",
      "unfreezing all layers for final refinement\n",
      "kernel grad (0) = 1 \n",
      "kernel grad (1) = 1 \n",
      "kernel grad (2) = 1 \n",
      "kernel grad (3) = 1 \n",
      "\n",
      "kernels mask None\n",
      "kernels mask None\n",
      "optimizer:  Adam \n",
      "criterion: MSELoss \n",
      "# epochs: 200 \n",
      "early_stopping: 20\n",
      "lr= 0.05, weight_decay= 0.001, dir weight= 0\n",
      "Epoch: 11, Loss: 1.001563, R2: -0.00,  best epoch: 6,  secs per epoch: 2.755 s,  secs epoch*1k trials: 0.138s\n",
      "Epoch: 21, Loss: 1.000736, R2: -0.00,  best epoch: 6,  secs per epoch: 2.626 s,  secs epoch*1k trials: 0.131s\n",
      "Epoch: 27, Loss: 1.000928, R2: -0.00,  best epoch: 6,  secs per epoch: 2.626s,  secs epoch*1k trials: 0.131s\n",
      "early stop!\n",
      "Final loss: 1.0009282690 , R2: -0.00\n",
      "Total time (model/function): (838.621s / 68.271s)\n",
      "Time per epoch (model/function): (32.255s/ 2.626s)\n",
      "Time per epoch per 1k trials: 0.131s\n",
      "Current time: 2023-01-21 15:22:22.915911\n",
      "best loss 0.9979625494907887\n",
      "optimizing feature type dinuc\n",
      "setting grad status of kernel (mono, dinuc) at 0 to (0, 0)\n",
      "setting grad status of kernel (mono, dinuc) at 1 to (0, 1)\n",
      "setting grad status of kernel (mono, dinuc) at 2 to (0, 0)\n",
      "setting grad status of kernel (mono, dinuc) at 3 to (0, 0)\n",
      "\n",
      "\n",
      "kernels mask None\n",
      "optimizer:  Adam \n",
      "criterion: MSELoss \n",
      "# epochs: 200 \n",
      "early_stopping: 20\n",
      "lr= 0.05, weight_decay= 0.001, dir weight= 0\n",
      "Epoch: 11, Loss: 1.010496, R2: -0.00,  best epoch: 3,  secs per epoch: 2.681 s,  secs epoch*1k trials: 0.134s\n",
      "Epoch: 21, Loss: 1.002171, R2: -0.00,  best epoch: 15,  secs per epoch: 2.560 s,  secs epoch*1k trials: 0.128s\n",
      "Epoch: 31, Loss: 1.005396, R2: -0.00,  best epoch: 15,  secs per epoch: 2.587 s,  secs epoch*1k trials: 0.129s\n",
      "Epoch: 36, Loss: 1.001499, R2: -0.00,  best epoch: 15,  secs per epoch: 2.656s,  secs epoch*1k trials: 0.133s\n",
      "early stop!\n",
      "Final loss: 1.0014986240 , R2: -0.00\n",
      "Total time (model/function): (931.568s / 92.947s)\n",
      "Time per epoch (model/function): (26.616s/ 2.656s)\n",
      "Time per epoch per 1k trials: 0.133s\n",
      "Current time: 2023-01-21 15:23:56.969708\n",
      "\n",
      "\n",
      "final refinement step (after shift)...\n",
      "\n",
      "unfreezing all layers for final refinement\n",
      "kernel grad (0) = 1 \n",
      "kernel grad (1) = 1 \n",
      "kernel grad (2) = 1 \n",
      "kernel grad (3) = 1 \n",
      "\n",
      "kernels mask None\n",
      "kernels mask None\n",
      "optimizer:  Adam \n",
      "criterion: MSELoss \n",
      "# epochs: 200 \n",
      "early_stopping: 20\n",
      "lr= 0.05, weight_decay= 0.001, dir weight= 0\n",
      "Epoch: 11, Loss: 1.004245, R2: -0.00,  best epoch: 7,  secs per epoch: 2.808 s,  secs epoch*1k trials: 0.140s\n",
      "Epoch: 21, Loss: 1.000268, R2: -0.00,  best epoch: 7,  secs per epoch: 3.322 s,  secs epoch*1k trials: 0.166s\n",
      "Epoch: 31, Loss: 1.009347, R2: -0.00,  best epoch: 22,  secs per epoch: 3.710 s,  secs epoch*1k trials: 0.185s\n",
      "Epoch: 41, Loss: 1.001070, R2: -0.00,  best epoch: 22,  secs per epoch: 3.897 s,  secs epoch*1k trials: 0.195s\n",
      "Epoch: 43, Loss: 0.999292, R2: -0.00,  best epoch: 22,  secs per epoch: 3.966s,  secs epoch*1k trials: 0.198s\n",
      "early stop!\n",
      "Final loss: 0.9992924698 , R2: -0.00\n",
      "Total time (model/function): (1098.156s / 166.588s)\n",
      "Time per epoch (model/function): (26.147s/ 3.966s)\n",
      "Time per epoch per 1k trials: 0.198s\n",
      "Current time: 2023-01-21 15:26:45.781215\n",
      "best loss 0.9975717422841912\n",
      "current kernels\n",
      "\n",
      "Kernel to optimize 2\n",
      "\n",
      "FREEZING KERNELS\n",
      "optimizing feature type mono\n",
      "setting grad status of kernel (mono, dinuc) at 0 to (0, 0)\n",
      "setting grad status of kernel (mono, dinuc) at 1 to (0, 0)\n",
      "setting grad status of kernel (mono, dinuc) at 2 to (1, 0)\n",
      "setting grad status of kernel (mono, dinuc) at 3 to (0, 0)\n",
      "\n",
      "\n",
      "kernels mask None\n",
      "optimizer:  Adam \n",
      "criterion: MSELoss \n",
      "# epochs: 200 \n",
      "early_stopping: 20\n",
      "lr= 0.05, weight_decay= 0.001, dir weight= 0\n",
      "Epoch: 11, Loss: 1.000807, R2: -0.00,  best epoch: 8,  secs per epoch: 5.020 s,  secs epoch*1k trials: 0.251s\n",
      "Epoch: 21, Loss: 0.999323, R2: -0.00,  best epoch: 8,  secs per epoch: 4.979 s,  secs epoch*1k trials: 0.249s\n",
      "Epoch: 29, Loss: 1.001815, R2: -0.00,  best epoch: 8,  secs per epoch: 4.919s,  secs epoch*1k trials: 0.246s\n",
      "early stop!\n",
      "Final loss: 1.0018146098 , R2: -0.00\n",
      "Total time (model/function): (1235.900s / 137.744s)\n",
      "Time per epoch (model/function): (44.139s/ 4.919s)\n",
      "Time per epoch per 1k trials: 0.246s\n",
      "Current time: 2023-01-21 15:29:05.340397\n",
      "\n",
      "WIDTH OPTIMIZATION (first)...\n",
      "Reached maximum w. Stop...\n",
      "\n",
      "SHIFT OPTIMIZATION (first)...\n",
      "options to try [[0, 0, -2], [0, 0, -1], [0, 0, 0], [0, 0, 1], [0, 0, 2]]\n",
      "next expand left: 0, next expand right: 0, shift: -2\n",
      "optimizer:  Adam \n",
      "criterion: MSELoss \n",
      "# epochs: 600 \n",
      "early_stopping: 20\n",
      "lr= 0.05, weight_decay= 0.001, dir weight= 0\n",
      "Epoch: 26, Loss: 1.001275, R2: -0.00,  best epoch: 5,  secs per epoch: 4.439s,  secs epoch*1k trials: 0.222s\n",
      "early stop!\n",
      "Final loss: 1.0012751943 , R2: -0.00\n",
      "Total time (model/function): (1346.877s / 110.976s)\n",
      "Time per epoch (model/function): (53.875s/ 4.439s)\n",
      "Time per epoch per 1k trials: 0.222s\n",
      "Current time: 2023-01-21 15:30:58.325943\n",
      "\n",
      "next expand left: 0, next expand right: 0, shift: -1\n",
      "optimizer:  Adam \n",
      "criterion: MSELoss \n",
      "# epochs: 600 \n",
      "early_stopping: 20\n",
      "lr= 0.05, weight_decay= 0.001, dir weight= 0\n",
      "Epoch: 31, Loss: 1.001527, R2: -0.00,  best epoch: 21,  secs per epoch: 4.645 s,  secs epoch*1k trials: 0.232s\n",
      "Epoch: 42, Loss: 1.001416, R2: -0.00,  best epoch: 21,  secs per epoch: 4.690s,  secs epoch*1k trials: 0.234s\n",
      "early stop!\n",
      "Final loss: 1.0014160901 , R2: -0.00\n",
      "Total time (model/function): (1428.186s / 192.286s)\n",
      "Time per epoch (model/function): (34.834s/ 4.690s)\n",
      "Time per epoch per 1k trials: 0.234s\n",
      "Current time: 2023-01-21 15:34:12.758527\n",
      "\n",
      "next expand left: 0, next expand right: 0, shift: 0\n",
      "optimizer:  Adam \n",
      "criterion: MSELoss \n",
      "# epochs: 600 \n",
      "early_stopping: 20\n",
      "lr= 0.05, weight_decay= 0.001, dir weight= 0\n",
      "Epoch: 21, Loss: 1.002132, R2: -0.00,  best epoch: 0,  secs per epoch: 4.694s,  secs epoch*1k trials: 0.235s\n",
      "early stop!\n",
      "Final loss: 1.0021319598 , R2: -0.00\n",
      "Total time (model/function): (1329.783s / 93.883s)\n",
      "Time per epoch (model/function): (66.489s/ 4.694s)\n",
      "Time per epoch per 1k trials: 0.235s\n",
      "Current time: 2023-01-21 15:35:48.512207\n",
      "\n",
      "next expand left: 0, next expand right: 0, shift: 1\n",
      "optimizer:  Adam \n",
      "criterion: MSELoss \n",
      "# epochs: 600 \n",
      "early_stopping: 20\n",
      "lr= 0.05, weight_decay= 0.001, dir weight= 0\n",
      "Epoch: 31, Loss: 0.998756, R2: -0.00,  best epoch: 25,  secs per epoch: 4.652 s,  secs epoch*1k trials: 0.233s\n",
      "Epoch: 46, Loss: 1.000679, R2: -0.00,  best epoch: 25,  secs per epoch: 4.560s,  secs epoch*1k trials: 0.228s\n",
      "early stop!\n",
      "Final loss: 1.0006789457 , R2: -0.00\n",
      "Total time (model/function): (1441.081s / 205.181s)\n",
      "Time per epoch (model/function): (32.024s/ 4.560s)\n",
      "Time per epoch per 1k trials: 0.228s\n",
      "Current time: 2023-01-21 15:39:15.610636\n",
      "\n",
      "next expand left: 0, next expand right: 0, shift: 2\n",
      "optimizer:  Adam \n",
      "criterion: MSELoss \n",
      "# epochs: 600 \n",
      "early_stopping: 20\n",
      "lr= 0.05, weight_decay= 0.001, dir weight= 0\n",
      "Epoch: 31, Loss: 0.999543, R2: -0.01,  best epoch: 27,  secs per epoch: 4.249 s,  secs epoch*1k trials: 0.212s\n",
      "Epoch: 48, Loss: 1.006675, R2: -0.00,  best epoch: 27,  secs per epoch: 4.283s,  secs epoch*1k trials: 0.214s\n",
      "early stop!\n",
      "Final loss: 1.0066745884 , R2: -0.00\n",
      "Total time (model/function): (1437.203s / 201.302s)\n",
      "Time per epoch (model/function): (30.579s/ 4.283s)\n",
      "Time per epoch per 1k trials: 0.214s\n",
      "Current time: 2023-01-21 15:42:39.104627\n",
      "\n",
      "sorted\n",
      "   expand.left  expand.right  shift  pos_w_sum  width  loss_diff_pct  \\\n",
      "0            0             0     -1   0.164093     20       0.056706   \n",
      "1            0             0     -2   0.000000     20       0.009483   \n",
      "2            0             0      1   0.309041     20       0.002341   \n",
      "3            0             0      0   0.000000     20       0.000000   \n",
      "4            0             0      0   0.000000     20      -0.010245   \n",
      "5            0             0      2   0.000000     20      -0.037029   \n",
      "\n",
      "       loss  last_loss  \n",
      "0  0.997356   0.997922  \n",
      "1  0.997828   0.997922  \n",
      "2  0.997899   0.997922  \n",
      "3  0.997922   0.997922  \n",
      "4  0.998024   0.997922  \n",
      "5  0.998292   0.997922  \n",
      "0 0 -1 0.16409265995025635 20 0.056705805651630116 0.9973562684008163\n",
      "action (expand left, expand right, shift): (0, 0, -1)\n",
      "\n",
      "\n",
      "SHIFT OPTIMIZATION (again)...\n",
      "options to try [[0, 0, -2], [0, 0, -1], [0, 0, 0], [0, 0, 1], [0, 0, 2]]\n",
      "next expand left: 0, next expand right: 0, shift: -2\n",
      "optimizer:  Adam \n",
      "criterion: MSELoss \n",
      "# epochs: 600 \n",
      "early_stopping: 20\n",
      "lr= 0.05, weight_decay= 0.001, dir weight= 0\n",
      "Epoch: 24, Loss: 1.002413, R2: -0.00,  best epoch: 3,  secs per epoch: 4.838s,  secs epoch*1k trials: 0.242s\n",
      "early stop!\n",
      "Final loss: 1.0024130258 , R2: -0.00\n",
      "Total time (model/function): (1539.456s / 111.269s)\n",
      "Time per epoch (model/function): (66.933s/ 4.838s)\n",
      "Time per epoch per 1k trials: 0.242s\n",
      "Current time: 2023-01-21 15:44:32.446012\n",
      "\n",
      "next expand left: 0, next expand right: 0, shift: -1\n",
      "optimizer:  Adam \n",
      "criterion: MSELoss \n",
      "# epochs: 600 \n",
      "early_stopping: 20\n",
      "lr= 0.05, weight_decay= 0.001, dir weight= 0\n",
      "Epoch: 31, Loss: 1.001583, R2: -0.00,  best epoch: 21,  secs per epoch: 4.701 s,  secs epoch*1k trials: 0.235s\n",
      "Epoch: 56, Loss: 1.007111, R2: -0.00,  best epoch: 35,  secs per epoch: 4.534s,  secs epoch*1k trials: 0.227s\n",
      "early stop!\n",
      "Final loss: 1.0071114798 , R2: -0.00\n",
      "Total time (model/function): (1677.573s / 249.387s)\n",
      "Time per epoch (model/function): (30.501s/ 4.534s)\n",
      "Time per epoch per 1k trials: 0.227s\n",
      "Current time: 2023-01-21 15:48:43.923298\n",
      "\n",
      "next expand left: 0, next expand right: 0, shift: 0\n",
      "optimizer:  Adam \n",
      "criterion: MSELoss \n",
      "# epochs: 600 \n",
      "early_stopping: 20\n",
      "lr= 0.05, weight_decay= 0.001, dir weight= 0\n",
      "Epoch: 23, Loss: 1.001292, R2: -0.00,  best epoch: 2,  secs per epoch: 4.665s,  secs epoch*1k trials: 0.233s\n",
      "early stop!\n",
      "Final loss: 1.0012924531 , R2: -0.00\n",
      "Total time (model/function): (1530.812s / 102.626s)\n",
      "Time per epoch (model/function): (69.582s/ 4.665s)\n",
      "Time per epoch per 1k trials: 0.233s\n",
      "Current time: 2023-01-21 15:50:28.860193\n",
      "\n",
      "next expand left: 0, next expand right: 0, shift: 1\n",
      "optimizer:  Adam \n",
      "criterion: MSELoss \n",
      "# epochs: 600 \n",
      "early_stopping: 20\n",
      "lr= 0.05, weight_decay= 0.001, dir weight= 0\n",
      "Epoch: 31, Loss: 1.000529, R2: -0.00,  best epoch: 19,  secs per epoch: 4.613 s,  secs epoch*1k trials: 0.231s\n",
      "Epoch: 40, Loss: 1.005139, R2: -0.00,  best epoch: 19,  secs per epoch: 4.590s,  secs epoch*1k trials: 0.229s\n",
      "early stop!\n",
      "Final loss: 1.0051386512 , R2: -0.00\n",
      "Total time (model/function): (1607.196s / 179.010s)\n",
      "Time per epoch (model/function): (41.210s/ 4.590s)\n",
      "Time per epoch per 1k trials: 0.229s\n",
      "Current time: 2023-01-21 15:53:29.856056\n",
      "\n",
      "next expand left: 0, next expand right: 0, shift: 2\n",
      "optimizer:  Adam \n",
      "criterion: MSELoss \n",
      "# epochs: 600 \n",
      "early_stopping: 20\n",
      "lr= 0.05, weight_decay= 0.001, dir weight= 0\n",
      "Epoch: 26, Loss: 1.013340, R2: -0.01,  best epoch: 5,  secs per epoch: 4.455s,  secs epoch*1k trials: 0.223s\n",
      "early stop!\n",
      "Final loss: 1.0133400017 , R2: -0.01\n",
      "Total time (model/function): (1539.565s / 111.379s)\n",
      "Time per epoch (model/function): (61.583s/ 4.455s)\n",
      "Time per epoch per 1k trials: 0.223s\n",
      "Current time: 2023-01-21 15:55:23.195640\n",
      "\n",
      "sorted\n",
      "   expand.left  expand.right  shift  pos_w_sum  width  loss_diff_pct  \\\n",
      "0            0             0      0   0.000000     20       0.090106   \n",
      "1            0             0     -1   0.000000     20       0.053523   \n",
      "2            0             0      0   1.693215     20       0.000000   \n",
      "3            0             0      1   0.000000     20      -0.042583   \n",
      "4            0             0      2   1.693215     20      -0.134437   \n",
      "5            0             0     -2   0.000000     20      -0.195759   \n",
      "\n",
      "       loss  last_loss  \n",
      "0  0.996458   0.997356  \n",
      "1  0.996822   0.997356  \n",
      "2  0.997356   0.997356  \n",
      "3  0.997781   0.997356  \n",
      "4  0.998697   0.997356  \n",
      "5  0.999309   0.997356  \n",
      "0 0 0 0.0 20 0.09010599771950505 0.9964575905843557\n",
      "action (expand left, expand right, shift): (0, 0, 0)\n",
      "\n",
      "This was the last iteration. Done with kernel shift optimization...\n",
      "\n",
      "\n",
      "final refinement step (after shift)...\n",
      "\n",
      "unfreezing all layers for final refinement\n",
      "kernel grad (0) = 1 \n",
      "kernel grad (1) = 1 \n",
      "kernel grad (2) = 1 \n",
      "kernel grad (3) = 1 \n",
      "\n",
      "kernels mask None\n",
      "kernels mask None\n",
      "optimizer:  Adam \n",
      "criterion: MSELoss \n",
      "# epochs: 200 \n",
      "early_stopping: 20\n",
      "lr= 0.05, weight_decay= 0.001, dir weight= 0\n",
      "Epoch: 11, Loss: 0.993242, R2: 0.00,  best epoch: 7,  secs per epoch: 4.878 s,  secs epoch*1k trials: 0.244s\n",
      "Epoch: 21, Loss: 1.003853, R2: -0.00,  best epoch: 7,  secs per epoch: 4.661 s,  secs epoch*1k trials: 0.233s\n",
      "Epoch: 28, Loss: 0.998981, R2: -0.00,  best epoch: 7,  secs per epoch: 4.657s,  secs epoch*1k trials: 0.233s\n",
      "early stop!\n",
      "Final loss: 0.9989806307 , R2: -0.00\n",
      "Total time (model/function): (1656.542s / 125.731s)\n",
      "Time per epoch (model/function): (61.353s/ 4.657s)\n",
      "Time per epoch per 1k trials: 0.233s\n",
      "Current time: 2023-01-21 15:57:30.840502\n",
      "best loss 0.9546200921707552\n",
      "optimizing feature type dinuc\n",
      "setting grad status of kernel (mono, dinuc) at 0 to (0, 0)\n",
      "setting grad status of kernel (mono, dinuc) at 1 to (0, 0)\n",
      "setting grad status of kernel (mono, dinuc) at 2 to (0, 1)\n",
      "setting grad status of kernel (mono, dinuc) at 3 to (0, 0)\n",
      "\n",
      "\n",
      "kernels mask None\n",
      "optimizer:  Adam \n",
      "criterion: MSELoss \n",
      "# epochs: 200 \n",
      "early_stopping: 20\n",
      "lr= 0.05, weight_decay= 0.001, dir weight= 0\n",
      "Epoch: 11, Loss: 0.993923, R2: 0.00,  best epoch: 1,  secs per epoch: 5.005 s,  secs epoch*1k trials: 0.250s\n"
     ]
    },
    {
     "ename": "KeyboardInterrupt",
     "evalue": "",
     "output_type": "error",
     "traceback": [
      "\u001B[0;31m---------------------------------------------------------------------------\u001B[0m",
      "\u001B[0;31mKeyboardInterrupt\u001B[0m                         Traceback (most recent call last)",
      "Cell \u001B[0;32mIn [45], line 3\u001B[0m\n\u001B[1;32m      1\u001B[0m \u001B[38;5;66;03m# mb.tl.train_network(model, train, device, optimiser, criterion, num_epochs=500, early_stopping=10, log_each=10, verbose=2)\u001B[39;00m\n\u001B[0;32m----> 3\u001B[0m model, model_by_k \u001B[38;5;241m=\u001B[39m \u001B[43mmodel\u001B[49m\u001B[38;5;241;43m.\u001B[39;49m\u001B[43moptimize_iterative\u001B[49m\u001B[43m(\u001B[49m\u001B[43mtrain\u001B[49m\u001B[43m,\u001B[49m\u001B[43m \u001B[49m\u001B[43mlog_each\u001B[49m\u001B[38;5;241;43m=\u001B[39;49m\u001B[38;5;241;43m10\u001B[39;49m\u001B[43m,\u001B[49m\u001B[43m \u001B[49m\u001B[43mverbose\u001B[49m\u001B[38;5;241;43m=\u001B[39;49m\u001B[38;5;241;43m2\u001B[39;49m\u001B[43m,\u001B[49m\u001B[43m \u001B[49m\u001B[43mr2_per_epoch\u001B[49m\u001B[38;5;241;43m=\u001B[39;49m\u001B[38;5;28;43;01mTrue\u001B[39;49;00m\u001B[43m,\u001B[49m\n\u001B[1;32m      4\u001B[0m \u001B[43m                                             \u001B[49m\u001B[43mlr\u001B[49m\u001B[38;5;241;43m=\u001B[39;49m\u001B[43m[\u001B[49m\u001B[38;5;241;43m0.1\u001B[39;49m\u001B[43m,\u001B[49m\u001B[43m \u001B[49m\u001B[38;5;241;43m0.05\u001B[39;49m\u001B[43m,\u001B[49m\u001B[43m \u001B[49m\u001B[38;5;241;43m0.05\u001B[39;49m\u001B[43m,\u001B[49m\u001B[43m \u001B[49m\u001B[38;5;241;43m0.01\u001B[39;49m\u001B[43m]\u001B[49m\u001B[43m,\u001B[49m\n\u001B[1;32m      5\u001B[0m \u001B[43m                                             \u001B[49m\u001B[43mwd\u001B[49m\u001B[38;5;241;43m=\u001B[39;49m\u001B[43m[\u001B[49m\u001B[38;5;241;43m0.01\u001B[39;49m\u001B[43m,\u001B[49m\u001B[43m \u001B[49m\u001B[38;5;241;43m0.005\u001B[39;49m\u001B[43m,\u001B[49m\u001B[43m \u001B[49m\u001B[38;5;241;43m0.001\u001B[39;49m\u001B[43m,\u001B[49m\u001B[43m \u001B[49m\u001B[38;5;241;43m0.001\u001B[39;49m\u001B[43m]\u001B[49m\u001B[43m,\u001B[49m\n\u001B[1;32m      6\u001B[0m \u001B[43m                                             \u001B[49m\u001B[43mn_epochs\u001B[49m\u001B[38;5;241;43m=\u001B[39;49m\u001B[43m[\u001B[49m\u001B[38;5;241;43m1000\u001B[39;49m\u001B[43m,\u001B[49m\u001B[43m \u001B[49m\u001B[38;5;241;43m200\u001B[39;49m\u001B[43m,\u001B[49m\u001B[43m \u001B[49m\u001B[38;5;241;43m200\u001B[39;49m\u001B[43m,\u001B[49m\u001B[43m \u001B[49m\u001B[38;5;241;43m200\u001B[39;49m\u001B[43m]\u001B[49m\u001B[43m,\u001B[49m\u001B[43mearly_stopping\u001B[49m\u001B[38;5;241;43m=\u001B[39;49m\u001B[43m[\u001B[49m\u001B[38;5;241;43m10\u001B[39;49m\u001B[43m,\u001B[49m\u001B[43m \u001B[49m\u001B[38;5;241;43m20\u001B[39;49m\u001B[43m,\u001B[49m\u001B[43m \u001B[49m\u001B[38;5;241;43m20\u001B[39;49m\u001B[43m,\u001B[49m\u001B[43m \u001B[49m\u001B[38;5;241;43m20\u001B[39;49m\u001B[43m]\u001B[49m\u001B[43m,\u001B[49m\n\u001B[1;32m      7\u001B[0m \u001B[43m                                             \u001B[49m\u001B[43mopt_kernel_length\u001B[49m\u001B[38;5;241;43m=\u001B[39;49m\u001B[43m[\u001B[49m\u001B[38;5;241;43m0\u001B[39;49m\u001B[43m,\u001B[49m\u001B[43m \u001B[49m\u001B[38;5;241;43m0\u001B[39;49m\u001B[43m,\u001B[49m\u001B[43m \u001B[49m\u001B[38;5;241;43m0\u001B[39;49m\u001B[43m,\u001B[49m\u001B[43m \u001B[49m\u001B[38;5;241;43m0\u001B[39;49m\u001B[43m]\u001B[49m\u001B[43m,\u001B[49m\u001B[43m \u001B[49m\u001B[43mopt_kernel_shift\u001B[49m\u001B[38;5;241;43m=\u001B[39;49m\u001B[43m[\u001B[49m\u001B[38;5;241;43m0\u001B[39;49m\u001B[43m,\u001B[49m\u001B[43m \u001B[49m\u001B[38;5;241;43m0\u001B[39;49m\u001B[43m,\u001B[49m\u001B[43m \u001B[49m\u001B[38;5;241;43m1\u001B[39;49m\u001B[43m,\u001B[49m\u001B[43m \u001B[49m\u001B[38;5;241;43m1\u001B[39;49m\u001B[43m]\u001B[49m\u001B[43m)\u001B[49m\n",
      "File \u001B[0;32m/mnt/c/Users/ignacio.ibarra/Dropbox/workspace/theislab/mubind/mubind/models/models.py:684\u001B[0m, in \u001B[0;36mMultibind.optimize_iterative\u001B[0;34m(self, train, max_w, n_epochs, early_stopping, log_each, opt_kernel_shift, opt_kernel_length, expand_length_max, expand_length_step, show_logo, optimiser, seed, init_random, joint_learning, ignore_kernel, lr, weight_decay, stop_at_kernel, dirichlet_regularization, verbose, exp_max, shift_max, shift_step, r2_per_epoch, **kwargs)\u001B[0m\n\u001B[1;32m    680\u001B[0m     \u001B[38;5;28mprint\u001B[39m(\u001B[38;5;124m\"\u001B[39m\u001B[38;5;124mkernels mask\u001B[39m\u001B[38;5;124m\"\u001B[39m, \u001B[38;5;28mself\u001B[39m\u001B[38;5;241m.\u001B[39mget_ignore_kernel())\n\u001B[1;32m    682\u001B[0m \u001B[38;5;66;03m# assert False\u001B[39;00m\n\u001B[0;32m--> 684\u001B[0m \u001B[38;5;28;43mself\u001B[39;49m\u001B[38;5;241;43m.\u001B[39;49m\u001B[43moptimize_simple\u001B[49m\u001B[43m(\u001B[49m\n\u001B[1;32m    685\u001B[0m \u001B[43m    \u001B[49m\u001B[43mtrain\u001B[49m\u001B[43m,\u001B[49m\n\u001B[1;32m    686\u001B[0m \u001B[43m    \u001B[49m\u001B[43mnext_optimiser\u001B[49m\u001B[43m,\u001B[49m\n\u001B[1;32m    687\u001B[0m \u001B[43m    \u001B[49m\u001B[43mnum_epochs\u001B[49m\u001B[38;5;241;43m=\u001B[39;49m\u001B[43mn_epochs\u001B[49m\u001B[43m[\u001B[49m\u001B[43mi\u001B[49m\u001B[43m]\u001B[49m\u001B[43m \u001B[49m\u001B[38;5;28;43;01mif\u001B[39;49;00m\u001B[43m \u001B[49m\u001B[38;5;28;43misinstance\u001B[39;49m\u001B[43m(\u001B[49m\u001B[43mn_epochs\u001B[49m\u001B[43m,\u001B[49m\u001B[43m \u001B[49m\u001B[38;5;28;43mlist\u001B[39;49m\u001B[43m)\u001B[49m\u001B[43m \u001B[49m\u001B[38;5;28;43;01melse\u001B[39;49;00m\u001B[43m \u001B[49m\u001B[43mn_epochs\u001B[49m\u001B[43m,\u001B[49m\n\u001B[1;32m    688\u001B[0m \u001B[43m    \u001B[49m\u001B[43mearly_stopping\u001B[49m\u001B[38;5;241;43m=\u001B[39;49m\u001B[43mnext_early_stopping\u001B[49m\u001B[43m,\u001B[49m\n\u001B[1;32m    689\u001B[0m \u001B[43m    \u001B[49m\u001B[43mlog_each\u001B[49m\u001B[38;5;241;43m=\u001B[39;49m\u001B[43mlog_each\u001B[49m\u001B[43m,\u001B[49m\n\u001B[1;32m    690\u001B[0m \u001B[43m    \u001B[49m\u001B[43mdirichlet_regularization\u001B[49m\u001B[38;5;241;43m=\u001B[39;49m\u001B[43mdirichlet_regularization\u001B[49m\u001B[43m,\u001B[49m\n\u001B[1;32m    691\u001B[0m \u001B[43m    \u001B[49m\u001B[43mexp_max\u001B[49m\u001B[38;5;241;43m=\u001B[39;49m\u001B[43mexp_max\u001B[49m\u001B[43m,\u001B[49m\n\u001B[1;32m    692\u001B[0m \u001B[43m    \u001B[49m\u001B[43mverbose\u001B[49m\u001B[38;5;241;43m=\u001B[39;49m\u001B[43mverbose\u001B[49m\u001B[43m,\u001B[49m\n\u001B[1;32m    693\u001B[0m \u001B[43m    \u001B[49m\u001B[43mr2_per_epoch\u001B[49m\u001B[38;5;241;43m=\u001B[39;49m\u001B[43mr2_per_epoch\u001B[49m\u001B[43m,\u001B[49m\n\u001B[1;32m    694\u001B[0m \u001B[43m\u001B[49m\u001B[43m)\u001B[49m\n\u001B[1;32m    696\u001B[0m \u001B[38;5;66;03m# vprint('grad')\u001B[39;00m\n\u001B[1;32m    697\u001B[0m \u001B[38;5;66;03m# vprint(model.binding_modes.conv_mono[1].weight.grad)\u001B[39;00m\n\u001B[1;32m    698\u001B[0m \u001B[38;5;66;03m# vprint(model.binding_modes.conv_di[1].weight.grad)\u001B[39;00m\n\u001B[1;32m    699\u001B[0m \u001B[38;5;66;03m# vprint('')\u001B[39;00m\n\u001B[1;32m    701\u001B[0m \u001B[38;5;28mself\u001B[39m\u001B[38;5;241m.\u001B[39mloss_color \u001B[38;5;241m+\u001B[39m\u001B[38;5;241m=\u001B[39m \u001B[38;5;28mlist\u001B[39m(np\u001B[38;5;241m.\u001B[39mrepeat(colors[i], \u001B[38;5;28mlen\u001B[39m(\u001B[38;5;28mself\u001B[39m\u001B[38;5;241m.\u001B[39mloss_history) \u001B[38;5;241m-\u001B[39m \u001B[38;5;28mlen\u001B[39m(\u001B[38;5;28mself\u001B[39m\u001B[38;5;241m.\u001B[39mloss_color)))\n",
      "File \u001B[0;32m/mnt/c/Users/ignacio.ibarra/Dropbox/workspace/theislab/mubind/mubind/models/models.py:476\u001B[0m, in \u001B[0;36mMultibind.optimize_simple\u001B[0;34m(self, dataloader, optimiser, num_epochs, early_stopping, dirichlet_regularization, exp_max, log_each, verbose, r2_per_epoch)\u001B[0m\n\u001B[1;32m    474\u001B[0m     \u001B[38;5;28;01mfor\u001B[39;00m i \u001B[38;5;129;01min\u001B[39;00m \u001B[38;5;28mrange\u001B[39m(mask\u001B[38;5;241m.\u001B[39mshape[\u001B[38;5;241m1\u001B[39m]):\n\u001B[1;32m    475\u001B[0m         mask[:, i] \u001B[38;5;241m=\u001B[39m \u001B[38;5;241m~\u001B[39m(n_rounds \u001B[38;5;241m-\u001B[39m \u001B[38;5;241m1\u001B[39m \u001B[38;5;241m<\u001B[39m i)\n\u001B[0;32m--> 476\u001B[0m     loss \u001B[38;5;241m=\u001B[39m \u001B[38;5;28;43mself\u001B[39;49m\u001B[38;5;241;43m.\u001B[39;49m\u001B[43mcriterion\u001B[49m\u001B[43m(\u001B[49m\u001B[43moutputs\u001B[49m\u001B[43m[\u001B[49m\u001B[43mmask\u001B[49m\u001B[43m]\u001B[49m\u001B[43m,\u001B[49m\u001B[43m \u001B[49m\u001B[43mrounds\u001B[49m\u001B[43m[\u001B[49m\u001B[43mmask\u001B[49m\u001B[43m]\u001B[49m\u001B[43m)\u001B[49m\n\u001B[1;32m    477\u001B[0m \u001B[38;5;28;01melse\u001B[39;00m:\n\u001B[1;32m    478\u001B[0m     loss \u001B[38;5;241m=\u001B[39m \u001B[38;5;28mself\u001B[39m\u001B[38;5;241m.\u001B[39mcriterion(outputs, rounds)\n",
      "File \u001B[0;32m~/miniconda3/envs/mubind/lib/python3.10/site-packages/torch/nn/modules/module.py:1124\u001B[0m, in \u001B[0;36mModule._call_impl\u001B[0;34m(self, *input, **kwargs)\u001B[0m\n\u001B[1;32m   1121\u001B[0m             tracing_state\u001B[38;5;241m.\u001B[39mpop_scope()\n\u001B[1;32m   1122\u001B[0m     \u001B[38;5;28;01mreturn\u001B[39;00m result\n\u001B[0;32m-> 1124\u001B[0m \u001B[38;5;28;01mdef\u001B[39;00m \u001B[38;5;21m_call_impl\u001B[39m(\u001B[38;5;28mself\u001B[39m, \u001B[38;5;241m*\u001B[39m\u001B[38;5;28minput\u001B[39m, \u001B[38;5;241m*\u001B[39m\u001B[38;5;241m*\u001B[39mkwargs):\n\u001B[1;32m   1125\u001B[0m     forward_call \u001B[38;5;241m=\u001B[39m (\u001B[38;5;28mself\u001B[39m\u001B[38;5;241m.\u001B[39m_slow_forward \u001B[38;5;28;01mif\u001B[39;00m torch\u001B[38;5;241m.\u001B[39m_C\u001B[38;5;241m.\u001B[39m_get_tracing_state() \u001B[38;5;28;01melse\u001B[39;00m \u001B[38;5;28mself\u001B[39m\u001B[38;5;241m.\u001B[39mforward)\n\u001B[1;32m   1126\u001B[0m     \u001B[38;5;66;03m# If we don't have any hooks, we want to skip the rest of the logic in\u001B[39;00m\n\u001B[1;32m   1127\u001B[0m     \u001B[38;5;66;03m# this function, and just call forward.\u001B[39;00m\n",
      "\u001B[0;31mKeyboardInterrupt\u001B[0m: "
     ]
    }
   ],
   "source": [
    "# mb.tl.train_network(model, train, device, optimiser, criterion, num_epochs=500, early_stopping=10, log_each=10, verbose=2)\n",
    "\n",
    "model, model_by_k = model.optimize_iterative(train, log_each=10, verbose=2, r2_per_epoch=True,\n",
    "                                             lr=[0.1, 0.05, 0.05, 0.01],\n",
    "                                             wd=[0.01, 0.005, 0.001, 0.001],\n",
    "                                             n_epochs=[1000, 200, 200, 200],early_stopping=[10, 20, 20, 20],\n",
    "                                             opt_kernel_length=[0, 0, 0, 0], opt_kernel_shift=[0, 0, 1, 1])"
   ]
  },
  {
   "cell_type": "code",
   "execution_count": 46,
   "id": "464f70fa-43c8-49d7-821a-e9aaa580ca6c",
   "metadata": {
    "pycharm": {
     "name": "#%%\n"
    }
   },
   "outputs": [
    {
     "name": "stdout",
     "output_type": "stream",
     "text": [
      "(4,)\n"
     ]
    },
    {
     "data": {
      "text/plain": "<Figure size 720x360 with 3 Axes>",
      "image/png": "[encoded data removed]"
     },
     "metadata": {},
     "output_type": "display_data"
    }
   ],
   "source": [
    "rcParams['figure.figsize'] = 12, 6\n",
    "rcParams['figure.dpi'] = 60\n",
    "mb.pl.logo(model)"
   ]
  },
  {
   "cell_type": "code",
   "execution_count": 47,
   "id": "dc9ad910-d1ed-4eeb-8b83-18db06f73df6",
   "metadata": {
    "pycharm": {
     "name": "#%%\n"
    }
   },
   "outputs": [],
   "source": [
    "seqs, targets, preds = mb.tl.test_network(model, train, device)"
   ]
  },
  {
   "cell_type": "code",
   "execution_count": 48,
   "id": "4244d595-6198-4406-88b5-bf0f5e014b13",
   "metadata": {
    "pycharm": {
     "name": "#%%\n"
    }
   },
   "outputs": [
    {
     "data": {
      "text/plain": "{0: {'r2_counts': -0.009707455162572876,\n  'r2_foldchange': -0.009707455162572876,\n  'r2_enr': -0.009707455162572876,\n  'r2_fc': 0.02854690876446428,\n  'pearson_foldchange': -0.16895830481057827}}"
     },
     "execution_count": 48,
     "metadata": {},
     "output_type": "execute_result"
    }
   ],
   "source": [
    "mb.tl.scores(model, train, by='batch')\n"
   ]
  },
  {
   "cell_type": "code",
   "execution_count": null,
   "id": "6d21fb05-a1cf-4328-88ce-632bfaf76d94",
   "metadata": {
    "pycharm": {
     "name": "#%%\n"
    }
   },
   "outputs": [],
   "source": [
    "rcParams['figure.figsize'] = 6, 6\n",
    "rcParams['figure.dpi'] = 86\n",
    "mb.pl.kmer_enrichment(model, train, log_scale=False, style='scatter', ylab='t0', xlab='p0')\n"
   ]
  }
 ],
 "metadata": {
  "kernelspec": {
   "name": "mubind",
   "language": "python",
   "display_name": "mubind"
  },
  "language_info": {
   "codemirror_mode": {
    "name": "ipython",
    "version": 3
   },
   "file_extension": ".py",
   "mimetype": "text/x-python",
   "name": "python",
   "nbconvert_exporter": "python",
   "pygments_lexer": "ipython3",
   "version": "3.10.4"
  }
 },
 "nbformat": 4,
 "nbformat_minor": 5
}