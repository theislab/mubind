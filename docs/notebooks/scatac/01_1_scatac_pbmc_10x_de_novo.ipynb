{
 "cells": [
  {
   "cell_type": "code",
   "execution_count": null,
   "outputs": [],
   "source": [
    "print('here...')"
   ],
   "metadata": {
    "collapsed": false,
    "pycharm": {
     "name": "#%%\n"
    }
   }
  },
  {
   "cell_type": "code",
   "execution_count": null,
   "id": "004d2a17-2952-4822-83ae-09dd177136d6",
   "metadata": {
    "pycharm": {
     "name": "#%%\n",
     "is_executing": true
    }
   },
   "outputs": [],
   "source": [
    "%load_ext autoreload\n",
    "%autoreload 2"
   ]
  },
  {
   "cell_type": "code",
   "execution_count": 2,
   "id": "27c59d94-fd4a-4a3c-9abf-5109ef97c02f",
   "metadata": {
    "pycharm": {
     "name": "#%%\n"
    }
   },
   "outputs": [
    {
     "name": "stderr",
     "output_type": "stream",
     "text": [
      "/home/johanna/anaconda3/envs/multibind/lib/python3.10/site-packages/tqdm/auto.py:22: TqdmWarning: IProgress not found. Please update jupyter and ipywidgets. See https://ipywidgets.readthedocs.io/en/stable/user_install.html\n",
      "  from .autonotebook import tqdm as notebook_tqdm\n"
     ]
    },
    {
     "name": "stdout",
     "output_type": "stream",
     "text": [
      "Using device: cpu\n"
     ]
    }
   ],
   "source": [
    "import multibind as mb\n",
    "import numpy as np\n",
    "import pandas as pd\n",
    "import torch\n",
    "import bindome as bd\n",
    "bd.constants.ANNOTATIONS_DIRECTORY = 'annotations'\n",
    "# mb.models.MultiBind\n",
    "import torch.optim as topti\n",
    "import torch.utils.data as tdata\n",
    "import matplotlib.pyplot as plt\n",
    "import logomaker\n",
    "import os\n",
    "import scipy\n",
    "import pickle\n",
    "\n",
    "# Use a GPU if available, as it should be faster.\n",
    "device = torch.device(\"cuda:0\" if torch.cuda.is_available() else \"cpu\")\n",
    "print(\"Using device: \" + str(device))"
   ]
  },
  {
   "cell_type": "code",
   "execution_count": 3,
   "id": "e226d21e-d360-4316-872a-777b6895b51e",
   "metadata": {
    "pycharm": {
     "name": "#%%\n"
    }
   },
   "outputs": [],
   "source": [
    "adata = mb.bindome.datasets.scATAC.PBMCs_10x_v2(datadir='../../atac_poisson_study/data/')\n",
    "peak_ids = adata.var_names"
   ]
  },
  {
   "cell_type": "code",
   "execution_count": 4,
   "id": "4c6414ce-fd5d-4022-8366-af929eb2d0b3",
   "metadata": {
    "pycharm": {
     "name": "#%%\n"
    }
   },
   "outputs": [],
   "source": [
    "adata.var['summit'] = ((adata.var['end'] + adata.var['start']) / 2).astype(int)\n",
    "adata.var['summit.start'] = adata.var['summit'] - 100\n",
    "adata.var['summit.end'] = adata.var['summit'] + 100"
   ]
  },
  {
   "cell_type": "code",
   "execution_count": 5,
   "id": "2f6301bc-467a-4b74-a736-3e2613aab729",
   "metadata": {
    "pycharm": {
     "name": "#%%\n"
    }
   },
   "outputs": [],
   "source": [
    "adata.var['k.summit'] = adata.var['chr'] + ':' + adata.var['summit.start'].astype(str) + '-' + adata.var['summit.end'].astype(str)"
   ]
  },
  {
   "cell_type": "code",
   "execution_count": 6,
   "id": "3cf46010-160b-48b0-91a7-52465540a639",
   "metadata": {
    "pycharm": {
     "name": "#%%\n"
    }
   },
   "outputs": [
    {
     "data": {
      "text/plain": [
       "(10246, 165434)"
      ]
     },
     "execution_count": 6,
     "metadata": {},
     "output_type": "execute_result"
    }
   ],
   "source": [
    "adata.shape"
   ]
  },
  {
   "cell_type": "code",
   "execution_count": 7,
   "id": "7effe82e-e5d9-4eb2-810d-8aa4cd6b0963",
   "metadata": {
    "pycharm": {
     "name": "#%%\n"
    }
   },
   "outputs": [
    {
     "name": "stdout",
     "output_type": "stream",
     "text": [
      "/tmp/tmp6tapcn2d\n",
      "genome hg38 False\n",
      "options\n",
      "/home/johanna/ICB/annotations/hg38/genome/hg38.fa\n",
      "True /home/johanna/ICB/annotations/hg38/genome/hg38.fa\n",
      "running bedtools...\n",
      "bedtools getfasta -fi /home/johanna/ICB/annotations/hg38/genome/hg38.fa -bed /tmp/tmp6tapcn2d -fo /tmp/tmp36id3l7r\n"
     ]
    }
   ],
   "source": [
    "n_seqs = 1000\n",
    "seqs = mb.bindome.tl.get_sequences_from_bed(adata.var[['chr', 'summit.start', 'summit.end']].head(n_seqs), genome='hg38', uppercase=True)\n",
    "keys = set([s[0] for s in seqs])\n",
    "adata = adata[:,adata.var['k.summit'].isin(keys)]\n",
    "# seqs = [[s[0], s[1].upper()] for s in seqs[0]]"
   ]
  },
  {
   "cell_type": "code",
   "execution_count": 8,
   "id": "983b1890-a1f3-4c58-85da-8c95dd0cbfce",
   "metadata": {
    "pycharm": {
     "name": "#%%\n"
    }
   },
   "outputs": [
    {
     "name": "stdout",
     "output_type": "stream",
     "text": [
      "/usr/bin/bedtools\n"
     ]
    }
   ],
   "source": [
    "!which bedtools"
   ]
  },
  {
   "cell_type": "code",
   "execution_count": 9,
   "id": "88a0f698-3282-43bd-835e-af784c80bad1",
   "metadata": {
    "pycharm": {
     "name": "#%%\n"
    }
   },
   "outputs": [
    {
     "data": {
      "text/plain": [
       "(10246, 1000)"
      ]
     },
     "execution_count": 9,
     "metadata": {},
     "output_type": "execute_result"
    }
   ],
   "source": [
    "adata.shape"
   ]
  },
  {
   "cell_type": "code",
   "execution_count": 10,
   "id": "fbee1199-34d9-495d-a17a-c9a757e63bc4",
   "metadata": {
    "pycharm": {
     "name": "#%%\n"
    }
   },
   "outputs": [
    {
     "data": {
      "text/plain": [
       "1000"
      ]
     },
     "execution_count": 10,
     "metadata": {},
     "output_type": "execute_result"
    }
   ],
   "source": [
    "len(seqs)"
   ]
  },
  {
   "cell_type": "code",
   "execution_count": 11,
   "id": "43712938-90b9-43f4-8a1d-14c40766ba81",
   "metadata": {
    "pycharm": {
     "name": "#%%\n"
    }
   },
   "outputs": [],
   "source": [
    "# remove Ns\n",
    "seqs = [[s[0], s[1].replace('N', '')] for s in seqs]\n",
    "counts = adata.X.T"
   ]
  },
  {
   "cell_type": "code",
   "execution_count": 27,
   "id": "8babeabf-0b8f-478a-b479-121fa62c8408",
   "metadata": {
    "pycharm": {
     "name": "#%%\n"
    }
   },
   "outputs": [],
   "source": [
    "next_data = pd.DataFrame.sparse.from_spmatrix(counts)"
   ]
  },
  {
   "cell_type": "code",
   "execution_count": 28,
   "id": "6c7c007a-f087-40d5-8930-acbf575c91b5",
   "metadata": {
    "pycharm": {
     "name": "#%%\n"
    }
   },
   "outputs": [],
   "source": [
    "next_data = next_data[range(100)].copy()"
   ]
  },
  {
   "cell_type": "code",
   "execution_count": 29,
   "id": "0d579216-c739-4e93-b686-dda243b07310",
   "metadata": {
    "pycharm": {
     "name": "#%%\n"
    }
   },
   "outputs": [],
   "source": [
    "next_data['seq'] = [s[1] for s in seqs]"
   ]
  },
  {
   "cell_type": "code",
   "execution_count": 30,
   "id": "f97306ac-efa3-4f4f-a15d-164788fe5a12",
   "metadata": {
    "pycharm": {
     "name": "#%%\n"
    }
   },
   "outputs": [
    {
     "data": {
      "text/html": [
       "<div>\n",
       "<style scoped>\n",
       "    .dataframe tbody tr th:only-of-type {\n",
       "        vertical-align: middle;\n",
       "    }\n",
       "\n",
       "    .dataframe tbody tr th {\n",
       "        vertical-align: top;\n",
       "    }\n",
       "\n",
       "    .dataframe thead th {\n",
       "        text-align: right;\n",
       "    }\n",
       "</style>\n",
       "<table border=\"1\" class=\"dataframe\">\n",
       "  <thead>\n",
       "    <tr style=\"text-align: right;\">\n",
       "      <th></th>\n",
       "      <th>0</th>\n",
       "      <th>1</th>\n",
       "      <th>2</th>\n",
       "      <th>3</th>\n",
       "      <th>4</th>\n",
       "      <th>5</th>\n",
       "      <th>6</th>\n",
       "      <th>7</th>\n",
       "      <th>8</th>\n",
       "      <th>9</th>\n",
       "      <th>...</th>\n",
       "      <th>91</th>\n",
       "      <th>92</th>\n",
       "      <th>93</th>\n",
       "      <th>94</th>\n",
       "      <th>95</th>\n",
       "      <th>96</th>\n",
       "      <th>97</th>\n",
       "      <th>98</th>\n",
       "      <th>99</th>\n",
       "      <th>seq</th>\n",
       "    </tr>\n",
       "  </thead>\n",
       "  <tbody>\n",
       "    <tr>\n",
       "      <th>0</th>\n",
       "      <td>0.0</td>\n",
       "      <td>0.0</td>\n",
       "      <td>0.0</td>\n",
       "      <td>0.0</td>\n",
       "      <td>0.0</td>\n",
       "      <td>0.0</td>\n",
       "      <td>0.0</td>\n",
       "      <td>0.0</td>\n",
       "      <td>0.0</td>\n",
       "      <td>0.0</td>\n",
       "      <td>...</td>\n",
       "      <td>0.0</td>\n",
       "      <td>0.0</td>\n",
       "      <td>0.0</td>\n",
       "      <td>0.0</td>\n",
       "      <td>0.0</td>\n",
       "      <td>0.0</td>\n",
       "      <td>0.0</td>\n",
       "      <td>0.0</td>\n",
       "      <td>0.0</td>\n",
       "      <td>CCCTAACCCTAACCCTAACCCTAACCCTAACCCCTAACCCTAACCC...</td>\n",
       "    </tr>\n",
       "    <tr>\n",
       "      <th>1</th>\n",
       "      <td>0.0</td>\n",
       "      <td>0.0</td>\n",
       "      <td>0.0</td>\n",
       "      <td>0.0</td>\n",
       "      <td>0.0</td>\n",
       "      <td>0.0</td>\n",
       "      <td>0.0</td>\n",
       "      <td>0.0</td>\n",
       "      <td>0.0</td>\n",
       "      <td>0.0</td>\n",
       "      <td>...</td>\n",
       "      <td>0.0</td>\n",
       "      <td>0.0</td>\n",
       "      <td>0.0</td>\n",
       "      <td>0.0</td>\n",
       "      <td>0.0</td>\n",
       "      <td>0.0</td>\n",
       "      <td>0.0</td>\n",
       "      <td>0.0</td>\n",
       "      <td>0.0</td>\n",
       "      <td>ACAACCCTAACCCTAACCCTAACAACCCTAACCCTAACCCTAACCC...</td>\n",
       "    </tr>\n",
       "    <tr>\n",
       "      <th>2</th>\n",
       "      <td>0.0</td>\n",
       "      <td>0.0</td>\n",
       "      <td>0.0</td>\n",
       "      <td>0.0</td>\n",
       "      <td>0.0</td>\n",
       "      <td>0.0</td>\n",
       "      <td>0.0</td>\n",
       "      <td>0.0</td>\n",
       "      <td>0.0</td>\n",
       "      <td>0.0</td>\n",
       "      <td>...</td>\n",
       "      <td>0.0</td>\n",
       "      <td>0.0</td>\n",
       "      <td>0.0</td>\n",
       "      <td>0.0</td>\n",
       "      <td>0.0</td>\n",
       "      <td>0.0</td>\n",
       "      <td>0.0</td>\n",
       "      <td>0.0</td>\n",
       "      <td>0.0</td>\n",
       "      <td>CGCAGAGAGGCGCGCCGCGCCGGCGCAGGCGCAGAGACACATGCTA...</td>\n",
       "    </tr>\n",
       "    <tr>\n",
       "      <th>3</th>\n",
       "      <td>0.0</td>\n",
       "      <td>0.0</td>\n",
       "      <td>0.0</td>\n",
       "      <td>0.0</td>\n",
       "      <td>0.0</td>\n",
       "      <td>0.0</td>\n",
       "      <td>0.0</td>\n",
       "      <td>0.0</td>\n",
       "      <td>0.0</td>\n",
       "      <td>0.0</td>\n",
       "      <td>...</td>\n",
       "      <td>0.0</td>\n",
       "      <td>0.0</td>\n",
       "      <td>0.0</td>\n",
       "      <td>0.0</td>\n",
       "      <td>0.0</td>\n",
       "      <td>0.0</td>\n",
       "      <td>0.0</td>\n",
       "      <td>0.0</td>\n",
       "      <td>0.0</td>\n",
       "      <td>ACTGGGGCCTGAGCTGCGTGGTGGGGAGAGAGTCTCTCCCCTGCCC...</td>\n",
       "    </tr>\n",
       "    <tr>\n",
       "      <th>4</th>\n",
       "      <td>0.0</td>\n",
       "      <td>0.0</td>\n",
       "      <td>0.0</td>\n",
       "      <td>0.0</td>\n",
       "      <td>0.0</td>\n",
       "      <td>0.0</td>\n",
       "      <td>0.0</td>\n",
       "      <td>0.0</td>\n",
       "      <td>0.0</td>\n",
       "      <td>0.0</td>\n",
       "      <td>...</td>\n",
       "      <td>0.0</td>\n",
       "      <td>0.0</td>\n",
       "      <td>0.0</td>\n",
       "      <td>0.0</td>\n",
       "      <td>0.0</td>\n",
       "      <td>0.0</td>\n",
       "      <td>0.0</td>\n",
       "      <td>0.0</td>\n",
       "      <td>0.0</td>\n",
       "      <td>CTTCTGAAAGGGTTGCTTGACCCACAGATGTGAAGCTGAGGCTGAA...</td>\n",
       "    </tr>\n",
       "    <tr>\n",
       "      <th>...</th>\n",
       "      <td>...</td>\n",
       "      <td>...</td>\n",
       "      <td>...</td>\n",
       "      <td>...</td>\n",
       "      <td>...</td>\n",
       "      <td>...</td>\n",
       "      <td>...</td>\n",
       "      <td>...</td>\n",
       "      <td>...</td>\n",
       "      <td>...</td>\n",
       "      <td>...</td>\n",
       "      <td>...</td>\n",
       "      <td>...</td>\n",
       "      <td>...</td>\n",
       "      <td>...</td>\n",
       "      <td>...</td>\n",
       "      <td>...</td>\n",
       "      <td>...</td>\n",
       "      <td>...</td>\n",
       "      <td>...</td>\n",
       "      <td>...</td>\n",
       "    </tr>\n",
       "    <tr>\n",
       "      <th>995</th>\n",
       "      <td>0.0</td>\n",
       "      <td>0.0</td>\n",
       "      <td>0.0</td>\n",
       "      <td>0.0</td>\n",
       "      <td>0.0</td>\n",
       "      <td>0.0</td>\n",
       "      <td>0.0</td>\n",
       "      <td>0.0</td>\n",
       "      <td>0.0</td>\n",
       "      <td>0.0</td>\n",
       "      <td>...</td>\n",
       "      <td>0.0</td>\n",
       "      <td>0.0</td>\n",
       "      <td>0.0</td>\n",
       "      <td>0.0</td>\n",
       "      <td>0.0</td>\n",
       "      <td>0.0</td>\n",
       "      <td>0.0</td>\n",
       "      <td>0.0</td>\n",
       "      <td>0.0</td>\n",
       "      <td>GCTGGGCGGTGAGGAGGGAGCTGCTGCCTGGCACGGGGACAGGGTT...</td>\n",
       "    </tr>\n",
       "    <tr>\n",
       "      <th>996</th>\n",
       "      <td>0.0</td>\n",
       "      <td>0.0</td>\n",
       "      <td>0.0</td>\n",
       "      <td>0.0</td>\n",
       "      <td>0.0</td>\n",
       "      <td>0.0</td>\n",
       "      <td>0.0</td>\n",
       "      <td>0.0</td>\n",
       "      <td>0.0</td>\n",
       "      <td>0.0</td>\n",
       "      <td>...</td>\n",
       "      <td>0.0</td>\n",
       "      <td>0.0</td>\n",
       "      <td>0.0</td>\n",
       "      <td>0.0</td>\n",
       "      <td>0.0</td>\n",
       "      <td>1.0</td>\n",
       "      <td>0.0</td>\n",
       "      <td>0.0</td>\n",
       "      <td>0.0</td>\n",
       "      <td>CTGAAGCCGCTCTCCCCCCACCTCCTGAAAAACGCCAACATTAAAG...</td>\n",
       "    </tr>\n",
       "    <tr>\n",
       "      <th>997</th>\n",
       "      <td>0.0</td>\n",
       "      <td>0.0</td>\n",
       "      <td>0.0</td>\n",
       "      <td>0.0</td>\n",
       "      <td>0.0</td>\n",
       "      <td>0.0</td>\n",
       "      <td>0.0</td>\n",
       "      <td>0.0</td>\n",
       "      <td>0.0</td>\n",
       "      <td>0.0</td>\n",
       "      <td>...</td>\n",
       "      <td>0.0</td>\n",
       "      <td>0.0</td>\n",
       "      <td>1.0</td>\n",
       "      <td>0.0</td>\n",
       "      <td>0.0</td>\n",
       "      <td>0.0</td>\n",
       "      <td>0.0</td>\n",
       "      <td>0.0</td>\n",
       "      <td>0.0</td>\n",
       "      <td>GCAGCCCCCGGCAGCGCCCACCGGACGGGCTGGAACGGTGGGTTAC...</td>\n",
       "    </tr>\n",
       "    <tr>\n",
       "      <th>998</th>\n",
       "      <td>0.0</td>\n",
       "      <td>0.0</td>\n",
       "      <td>0.0</td>\n",
       "      <td>1.0</td>\n",
       "      <td>0.0</td>\n",
       "      <td>0.0</td>\n",
       "      <td>0.0</td>\n",
       "      <td>0.0</td>\n",
       "      <td>0.0</td>\n",
       "      <td>0.0</td>\n",
       "      <td>...</td>\n",
       "      <td>0.0</td>\n",
       "      <td>0.0</td>\n",
       "      <td>0.0</td>\n",
       "      <td>0.0</td>\n",
       "      <td>1.0</td>\n",
       "      <td>0.0</td>\n",
       "      <td>0.0</td>\n",
       "      <td>0.0</td>\n",
       "      <td>0.0</td>\n",
       "      <td>TACCTAAGCTGTCCAAGATCTCCCGGCAGCTGCTGACCCCGAGGGA...</td>\n",
       "    </tr>\n",
       "    <tr>\n",
       "      <th>999</th>\n",
       "      <td>0.0</td>\n",
       "      <td>0.0</td>\n",
       "      <td>0.0</td>\n",
       "      <td>0.0</td>\n",
       "      <td>0.0</td>\n",
       "      <td>1.0</td>\n",
       "      <td>1.0</td>\n",
       "      <td>1.0</td>\n",
       "      <td>0.0</td>\n",
       "      <td>0.0</td>\n",
       "      <td>...</td>\n",
       "      <td>0.0</td>\n",
       "      <td>0.0</td>\n",
       "      <td>0.0</td>\n",
       "      <td>0.0</td>\n",
       "      <td>0.0</td>\n",
       "      <td>0.0</td>\n",
       "      <td>1.0</td>\n",
       "      <td>0.0</td>\n",
       "      <td>0.0</td>\n",
       "      <td>CCAAGCGGCGCCCGAGTGAGGAGTCGTTTCTGCTTTTCTCAGCAAT...</td>\n",
       "    </tr>\n",
       "  </tbody>\n",
       "</table>\n",
       "<p>1000 rows × 101 columns</p>\n",
       "</div>"
      ],
      "text/plain": [
       "       0    1    2    3    4    5    6    7    8    9  ...   91   92   93  \\\n",
       "0    0.0  0.0  0.0  0.0  0.0  0.0  0.0  0.0  0.0  0.0  ...  0.0  0.0  0.0   \n",
       "1    0.0  0.0  0.0  0.0  0.0  0.0  0.0  0.0  0.0  0.0  ...  0.0  0.0  0.0   \n",
       "2    0.0  0.0  0.0  0.0  0.0  0.0  0.0  0.0  0.0  0.0  ...  0.0  0.0  0.0   \n",
       "3    0.0  0.0  0.0  0.0  0.0  0.0  0.0  0.0  0.0  0.0  ...  0.0  0.0  0.0   \n",
       "4    0.0  0.0  0.0  0.0  0.0  0.0  0.0  0.0  0.0  0.0  ...  0.0  0.0  0.0   \n",
       "..   ...  ...  ...  ...  ...  ...  ...  ...  ...  ...  ...  ...  ...  ...   \n",
       "995  0.0  0.0  0.0  0.0  0.0  0.0  0.0  0.0  0.0  0.0  ...  0.0  0.0  0.0   \n",
       "996  0.0  0.0  0.0  0.0  0.0  0.0  0.0  0.0  0.0  0.0  ...  0.0  0.0  0.0   \n",
       "997  0.0  0.0  0.0  0.0  0.0  0.0  0.0  0.0  0.0  0.0  ...  0.0  0.0  1.0   \n",
       "998  0.0  0.0  0.0  1.0  0.0  0.0  0.0  0.0  0.0  0.0  ...  0.0  0.0  0.0   \n",
       "999  0.0  0.0  0.0  0.0  0.0  1.0  1.0  1.0  0.0  0.0  ...  0.0  0.0  0.0   \n",
       "\n",
       "      94   95   96   97   98   99  \\\n",
       "0    0.0  0.0  0.0  0.0  0.0  0.0   \n",
       "1    0.0  0.0  0.0  0.0  0.0  0.0   \n",
       "2    0.0  0.0  0.0  0.0  0.0  0.0   \n",
       "3    0.0  0.0  0.0  0.0  0.0  0.0   \n",
       "4    0.0  0.0  0.0  0.0  0.0  0.0   \n",
       "..   ...  ...  ...  ...  ...  ...   \n",
       "995  0.0  0.0  0.0  0.0  0.0  0.0   \n",
       "996  0.0  0.0  1.0  0.0  0.0  0.0   \n",
       "997  0.0  0.0  0.0  0.0  0.0  0.0   \n",
       "998  0.0  1.0  0.0  0.0  0.0  0.0   \n",
       "999  0.0  0.0  0.0  1.0  0.0  0.0   \n",
       "\n",
       "                                                   seq  \n",
       "0    CCCTAACCCTAACCCTAACCCTAACCCTAACCCCTAACCCTAACCC...  \n",
       "1    ACAACCCTAACCCTAACCCTAACAACCCTAACCCTAACCCTAACCC...  \n",
       "2    CGCAGAGAGGCGCGCCGCGCCGGCGCAGGCGCAGAGACACATGCTA...  \n",
       "3    ACTGGGGCCTGAGCTGCGTGGTGGGGAGAGAGTCTCTCCCCTGCCC...  \n",
       "4    CTTCTGAAAGGGTTGCTTGACCCACAGATGTGAAGCTGAGGCTGAA...  \n",
       "..                                                 ...  \n",
       "995  GCTGGGCGGTGAGGAGGGAGCTGCTGCCTGGCACGGGGACAGGGTT...  \n",
       "996  CTGAAGCCGCTCTCCCCCCACCTCCTGAAAAACGCCAACATTAAAG...  \n",
       "997  GCAGCCCCCGGCAGCGCCCACCGGACGGGCTGGAACGGTGGGTTAC...  \n",
       "998  TACCTAAGCTGTCCAAGATCTCCCGGCAGCTGCTGACCCCGAGGGA...  \n",
       "999  CCAAGCGGCGCCCGAGTGAGGAGTCGTTTCTGCTTTTCTCAGCAAT...  \n",
       "\n",
       "[1000 rows x 101 columns]"
      ]
     },
     "execution_count": 30,
     "metadata": {},
     "output_type": "execute_result"
    }
   ],
   "source": [
    "next_data"
   ]
  },
  {
   "cell_type": "code",
   "execution_count": 52,
   "id": "32ca62c7-c514-4436-8cc2-4533687bb627",
   "metadata": {
    "pycharm": {
     "name": "#%%\n"
    }
   },
   "outputs": [],
   "source": [
    "# next_data[next_data.columns[:-1]].sum(axis=1).sort_values(ascending=False)"
   ]
  },
  {
   "cell_type": "code",
   "execution_count": 31,
   "id": "0402f0e4-eee8-429c-bdc7-3da32fbd00ed",
   "metadata": {
    "pycharm": {
     "name": "#%%\n"
    }
   },
   "outputs": [
    {
     "name": "stderr",
     "output_type": "stream",
     "text": [
      "/tmp/ipykernel_35357/3781555156.py:1: FutureWarning: Dropping of nuisance columns in DataFrame reductions (with 'numeric_only=None') is deprecated; in a future version this will raise TypeError.  Select only valid columns before calling the reduction.\n",
      "  next_data.head(1000).var(axis=1)\n"
     ]
    },
    {
     "data": {
      "text/plain": [
       "0      0.010000\n",
       "1      0.010000\n",
       "2      0.010000\n",
       "3      0.000000\n",
       "4      0.010000\n",
       "         ...   \n",
       "995    0.047980\n",
       "996    0.077172\n",
       "997    0.082727\n",
       "998    0.038788\n",
       "999    0.098889\n",
       "Length: 1000, dtype: float64"
      ]
     },
     "execution_count": 31,
     "metadata": {},
     "output_type": "execute_result"
    }
   ],
   "source": [
    "next_data.head(1000).var(axis=1)"
   ]
  },
  {
   "cell_type": "code",
   "execution_count": 54,
   "id": "f51aec63-035e-440d-90ab-03d783a7aac3",
   "metadata": {
    "pycharm": {
     "name": "#%%\n"
    }
   },
   "outputs": [],
   "source": [
    "# next_data.var(axis=1)"
   ]
  },
  {
   "cell_type": "code",
   "execution_count": 32,
   "id": "c1d56c4d-003b-4649-991b-e5445046d39b",
   "metadata": {
    "pycharm": {
     "name": "#%%\n"
    }
   },
   "outputs": [
    {
     "name": "stdout",
     "output_type": "stream",
     "text": [
      "0 (1000, 101)\n"
     ]
    }
   ],
   "source": [
    "var = []\n",
    "for ri, r in next_data.iterrows():\n",
    "    if ri % 10000 == 0:\n",
    "        print(ri, next_data.shape)\n",
    "    # print(ri, r.values[:-1], r.values[:-1].var())\n",
    "    var.append(r.values[:-1].var())\n",
    "    # break"
   ]
  },
  {
   "cell_type": "code",
   "execution_count": 33,
   "id": "f4544a8b-2354-4ded-b2dc-e8b3f7e5ead6",
   "metadata": {
    "pycharm": {
     "name": "#%%\n"
    }
   },
   "outputs": [],
   "source": [
    "next_data['var'] = var"
   ]
  },
  {
   "cell_type": "code",
   "execution_count": 57,
   "id": "2cd45e71-f7d5-4813-81af-95b6b93bd924",
   "metadata": {
    "pycharm": {
     "name": "#%%\n"
    }
   },
   "outputs": [],
   "source": [
    "# sum_index = next_data[next_data.columns[:-1]].var(axis=1).sort_values(ascending=False).index"
   ]
  },
  {
   "cell_type": "code",
   "execution_count": 34,
   "id": "78bca871-c907-4b78-a0f9-ec5eea75edde",
   "metadata": {
    "pycharm": {
     "name": "#%%\n"
    }
   },
   "outputs": [],
   "source": [
    "top_var = next_data[['var']].sort_values('var', ascending=False).index[:1000]"
   ]
  },
  {
   "cell_type": "code",
   "execution_count": 35,
   "id": "8083e53a-9928-4d00-a243-9c40283b4aab",
   "metadata": {
    "pycharm": {
     "name": "#%%\n"
    }
   },
   "outputs": [],
   "source": [
    "# next_data = next_data.head(10000)\n",
    "next_data_sel = next_data.reindex(top_var).reset_index(drop=True)"
   ]
  },
  {
   "cell_type": "code",
   "execution_count": 36,
   "id": "609c8c1d-44e5-475b-8031-02f2472df9b8",
   "metadata": {
    "pycharm": {
     "name": "#%%\n"
    }
   },
   "outputs": [
    {
     "data": {
      "text/html": [
       "<div>\n",
       "<style scoped>\n",
       "    .dataframe tbody tr th:only-of-type {\n",
       "        vertical-align: middle;\n",
       "    }\n",
       "\n",
       "    .dataframe tbody tr th {\n",
       "        vertical-align: top;\n",
       "    }\n",
       "\n",
       "    .dataframe thead th {\n",
       "        text-align: right;\n",
       "    }\n",
       "</style>\n",
       "<table border=\"1\" class=\"dataframe\">\n",
       "  <thead>\n",
       "    <tr style=\"text-align: right;\">\n",
       "      <th></th>\n",
       "      <th>0</th>\n",
       "      <th>1</th>\n",
       "      <th>2</th>\n",
       "      <th>3</th>\n",
       "      <th>4</th>\n",
       "      <th>5</th>\n",
       "      <th>6</th>\n",
       "      <th>7</th>\n",
       "      <th>8</th>\n",
       "      <th>9</th>\n",
       "      <th>...</th>\n",
       "      <th>92</th>\n",
       "      <th>93</th>\n",
       "      <th>94</th>\n",
       "      <th>95</th>\n",
       "      <th>96</th>\n",
       "      <th>97</th>\n",
       "      <th>98</th>\n",
       "      <th>99</th>\n",
       "      <th>seq</th>\n",
       "      <th>var</th>\n",
       "    </tr>\n",
       "  </thead>\n",
       "  <tbody>\n",
       "    <tr>\n",
       "      <th>0</th>\n",
       "      <td>2.0</td>\n",
       "      <td>3.0</td>\n",
       "      <td>0.0</td>\n",
       "      <td>3.0</td>\n",
       "      <td>3.0</td>\n",
       "      <td>1.0</td>\n",
       "      <td>7.0</td>\n",
       "      <td>3.0</td>\n",
       "      <td>1.0</td>\n",
       "      <td>1.0</td>\n",
       "      <td>...</td>\n",
       "      <td>1.0</td>\n",
       "      <td>4.0</td>\n",
       "      <td>1.0</td>\n",
       "      <td>1.0</td>\n",
       "      <td>6.0</td>\n",
       "      <td>3.0</td>\n",
       "      <td>1.0</td>\n",
       "      <td>1.0</td>\n",
       "      <td>CGGCCTGGGAAACACTGTAGTGACGCCCAATCAAAACGCCACGTCT...</td>\n",
       "      <td>2.9675</td>\n",
       "    </tr>\n",
       "    <tr>\n",
       "      <th>1</th>\n",
       "      <td>3.0</td>\n",
       "      <td>1.0</td>\n",
       "      <td>2.0</td>\n",
       "      <td>2.0</td>\n",
       "      <td>3.0</td>\n",
       "      <td>1.0</td>\n",
       "      <td>7.0</td>\n",
       "      <td>4.0</td>\n",
       "      <td>3.0</td>\n",
       "      <td>3.0</td>\n",
       "      <td>...</td>\n",
       "      <td>3.0</td>\n",
       "      <td>1.0</td>\n",
       "      <td>5.0</td>\n",
       "      <td>0.0</td>\n",
       "      <td>6.0</td>\n",
       "      <td>0.0</td>\n",
       "      <td>3.0</td>\n",
       "      <td>2.0</td>\n",
       "      <td>GCGCCGGGGCGGGGCCTGCGGGCGGGGCGGGGCCCGGGGCCGCGAA...</td>\n",
       "      <td>2.9000</td>\n",
       "    </tr>\n",
       "    <tr>\n",
       "      <th>2</th>\n",
       "      <td>0.0</td>\n",
       "      <td>1.0</td>\n",
       "      <td>1.0</td>\n",
       "      <td>2.0</td>\n",
       "      <td>1.0</td>\n",
       "      <td>1.0</td>\n",
       "      <td>3.0</td>\n",
       "      <td>3.0</td>\n",
       "      <td>0.0</td>\n",
       "      <td>0.0</td>\n",
       "      <td>...</td>\n",
       "      <td>0.0</td>\n",
       "      <td>3.0</td>\n",
       "      <td>0.0</td>\n",
       "      <td>2.0</td>\n",
       "      <td>5.0</td>\n",
       "      <td>1.0</td>\n",
       "      <td>3.0</td>\n",
       "      <td>2.0</td>\n",
       "      <td>AGGGGCAGACGGCCATGTTCGTGAACGGCGCTTCCCTTGGTGCACC...</td>\n",
       "      <td>2.5979</td>\n",
       "    </tr>\n",
       "    <tr>\n",
       "      <th>3</th>\n",
       "      <td>5.0</td>\n",
       "      <td>0.0</td>\n",
       "      <td>1.0</td>\n",
       "      <td>0.0</td>\n",
       "      <td>1.0</td>\n",
       "      <td>2.0</td>\n",
       "      <td>1.0</td>\n",
       "      <td>1.0</td>\n",
       "      <td>1.0</td>\n",
       "      <td>3.0</td>\n",
       "      <td>...</td>\n",
       "      <td>0.0</td>\n",
       "      <td>1.0</td>\n",
       "      <td>0.0</td>\n",
       "      <td>4.0</td>\n",
       "      <td>7.0</td>\n",
       "      <td>2.0</td>\n",
       "      <td>2.0</td>\n",
       "      <td>1.0</td>\n",
       "      <td>TGTCCGGATTGCATTTCCTCTCTGGAGCTCTCTCTGTCCTGACCTC...</td>\n",
       "      <td>2.1099</td>\n",
       "    </tr>\n",
       "    <tr>\n",
       "      <th>4</th>\n",
       "      <td>3.0</td>\n",
       "      <td>1.0</td>\n",
       "      <td>2.0</td>\n",
       "      <td>1.0</td>\n",
       "      <td>2.0</td>\n",
       "      <td>2.0</td>\n",
       "      <td>3.0</td>\n",
       "      <td>0.0</td>\n",
       "      <td>0.0</td>\n",
       "      <td>5.0</td>\n",
       "      <td>...</td>\n",
       "      <td>0.0</td>\n",
       "      <td>3.0</td>\n",
       "      <td>2.0</td>\n",
       "      <td>0.0</td>\n",
       "      <td>3.0</td>\n",
       "      <td>2.0</td>\n",
       "      <td>2.0</td>\n",
       "      <td>0.0</td>\n",
       "      <td>GTTGCTCGTCGGTTCCCTCGGCTCCGCCCCCTCGGCTGTGCGTCTG...</td>\n",
       "      <td>2.0331</td>\n",
       "    </tr>\n",
       "  </tbody>\n",
       "</table>\n",
       "<p>5 rows × 102 columns</p>\n",
       "</div>"
      ],
      "text/plain": [
       "     0    1    2    3    4    5    6    7    8    9  ...   92   93   94   95  \\\n",
       "0  2.0  3.0  0.0  3.0  3.0  1.0  7.0  3.0  1.0  1.0  ...  1.0  4.0  1.0  1.0   \n",
       "1  3.0  1.0  2.0  2.0  3.0  1.0  7.0  4.0  3.0  3.0  ...  3.0  1.0  5.0  0.0   \n",
       "2  0.0  1.0  1.0  2.0  1.0  1.0  3.0  3.0  0.0  0.0  ...  0.0  3.0  0.0  2.0   \n",
       "3  5.0  0.0  1.0  0.0  1.0  2.0  1.0  1.0  1.0  3.0  ...  0.0  1.0  0.0  4.0   \n",
       "4  3.0  1.0  2.0  1.0  2.0  2.0  3.0  0.0  0.0  5.0  ...  0.0  3.0  2.0  0.0   \n",
       "\n",
       "    96   97   98   99                                                seq  \\\n",
       "0  6.0  3.0  1.0  1.0  CGGCCTGGGAAACACTGTAGTGACGCCCAATCAAAACGCCACGTCT...   \n",
       "1  6.0  0.0  3.0  2.0  GCGCCGGGGCGGGGCCTGCGGGCGGGGCGGGGCCCGGGGCCGCGAA...   \n",
       "2  5.0  1.0  3.0  2.0  AGGGGCAGACGGCCATGTTCGTGAACGGCGCTTCCCTTGGTGCACC...   \n",
       "3  7.0  2.0  2.0  1.0  TGTCCGGATTGCATTTCCTCTCTGGAGCTCTCTCTGTCCTGACCTC...   \n",
       "4  3.0  2.0  2.0  0.0  GTTGCTCGTCGGTTCCCTCGGCTCCGCCCCCTCGGCTGTGCGTCTG...   \n",
       "\n",
       "      var  \n",
       "0  2.9675  \n",
       "1  2.9000  \n",
       "2  2.5979  \n",
       "3  2.1099  \n",
       "4  2.0331  \n",
       "\n",
       "[5 rows x 102 columns]"
      ]
     },
     "execution_count": 36,
     "metadata": {},
     "output_type": "execute_result"
    }
   ],
   "source": [
    "next_data_sel.head()"
   ]
  },
  {
   "cell_type": "code",
   "execution_count": 37,
   "id": "6ddde91f-8c11-49b9-8c44-17cb244818c4",
   "metadata": {
    "pycharm": {
     "name": "#%%\n"
    }
   },
   "outputs": [],
   "source": [
    "del next_data_sel['var']\n",
    "next_data_sel.index = next_data_sel['seq']\n",
    "del next_data_sel['seq']"
   ]
  },
  {
   "cell_type": "code",
   "execution_count": 38,
   "id": "2e1cf5ad-83a6-4d67-9ee8-a465c2a223f5",
   "metadata": {
    "pycharm": {
     "name": "#%%\n"
    }
   },
   "outputs": [
    {
     "data": {
      "text/html": [
       "<div>\n",
       "<style scoped>\n",
       "    .dataframe tbody tr th:only-of-type {\n",
       "        vertical-align: middle;\n",
       "    }\n",
       "\n",
       "    .dataframe tbody tr th {\n",
       "        vertical-align: top;\n",
       "    }\n",
       "\n",
       "    .dataframe thead th {\n",
       "        text-align: right;\n",
       "    }\n",
       "</style>\n",
       "<table border=\"1\" class=\"dataframe\">\n",
       "  <thead>\n",
       "    <tr style=\"text-align: right;\">\n",
       "      <th></th>\n",
       "      <th>0</th>\n",
       "      <th>1</th>\n",
       "      <th>2</th>\n",
       "      <th>3</th>\n",
       "      <th>4</th>\n",
       "      <th>5</th>\n",
       "      <th>6</th>\n",
       "      <th>7</th>\n",
       "      <th>8</th>\n",
       "      <th>9</th>\n",
       "      <th>...</th>\n",
       "      <th>90</th>\n",
       "      <th>91</th>\n",
       "      <th>92</th>\n",
       "      <th>93</th>\n",
       "      <th>94</th>\n",
       "      <th>95</th>\n",
       "      <th>96</th>\n",
       "      <th>97</th>\n",
       "      <th>98</th>\n",
       "      <th>99</th>\n",
       "    </tr>\n",
       "    <tr>\n",
       "      <th>seq</th>\n",
       "      <th></th>\n",
       "      <th></th>\n",
       "      <th></th>\n",
       "      <th></th>\n",
       "      <th></th>\n",
       "      <th></th>\n",
       "      <th></th>\n",
       "      <th></th>\n",
       "      <th></th>\n",
       "      <th></th>\n",
       "      <th></th>\n",
       "      <th></th>\n",
       "      <th></th>\n",
       "      <th></th>\n",
       "      <th></th>\n",
       "      <th></th>\n",
       "      <th></th>\n",
       "      <th></th>\n",
       "      <th></th>\n",
       "      <th></th>\n",
       "      <th></th>\n",
       "    </tr>\n",
       "  </thead>\n",
       "  <tbody>\n",
       "    <tr>\n",
       "      <th>CGGCCTGGGAAACACTGTAGTGACGCCCAATCAAAACGCCACGTCTCGGCCTCGAGGAAATATTCCGTGTCGGGCCCGTCCTGATTGGACAGTTCTTTCGGGTTCTGGCCACTAGGAAGCTTTGTTTAGGTCCGGAAGGCGGGCTTTCCTGGGAGTGGGTGGGGAGGGGGCGTTGATTCTTGACCAATCCTTTCAGTCCG</th>\n",
       "      <td>2.0</td>\n",
       "      <td>3.0</td>\n",
       "      <td>0.0</td>\n",
       "      <td>3.0</td>\n",
       "      <td>3.0</td>\n",
       "      <td>1.0</td>\n",
       "      <td>7.0</td>\n",
       "      <td>3.0</td>\n",
       "      <td>1.0</td>\n",
       "      <td>1.0</td>\n",
       "      <td>...</td>\n",
       "      <td>2.0</td>\n",
       "      <td>2.0</td>\n",
       "      <td>1.0</td>\n",
       "      <td>4.0</td>\n",
       "      <td>1.0</td>\n",
       "      <td>1.0</td>\n",
       "      <td>6.0</td>\n",
       "      <td>3.0</td>\n",
       "      <td>1.0</td>\n",
       "      <td>1.0</td>\n",
       "    </tr>\n",
       "    <tr>\n",
       "      <th>GCGCCGGGGCGGGGCCTGCGGGCGGGGCGGGGCCCGGGGCCGCGAATTGGTTAACTCAGCCTGTGGGCGGGGCTGCGCGGTGCGGGGCGGGGCCTTGTGGCGCATGTGAACGCTCATTGGGCCCTCCTGGAAGGGGGCGAGACCAGCGACATAGGGACGGGGCCATGCGGTGGGCGGGTGGAACACGGCGCCGGTAGTGA</th>\n",
       "      <td>3.0</td>\n",
       "      <td>1.0</td>\n",
       "      <td>2.0</td>\n",
       "      <td>2.0</td>\n",
       "      <td>3.0</td>\n",
       "      <td>1.0</td>\n",
       "      <td>7.0</td>\n",
       "      <td>4.0</td>\n",
       "      <td>3.0</td>\n",
       "      <td>3.0</td>\n",
       "      <td>...</td>\n",
       "      <td>1.0</td>\n",
       "      <td>5.0</td>\n",
       "      <td>3.0</td>\n",
       "      <td>1.0</td>\n",
       "      <td>5.0</td>\n",
       "      <td>0.0</td>\n",
       "      <td>6.0</td>\n",
       "      <td>0.0</td>\n",
       "      <td>3.0</td>\n",
       "      <td>2.0</td>\n",
       "    </tr>\n",
       "    <tr>\n",
       "      <th>AGGGGCAGACGGCCATGTTCGTGAACGGCGCTTCCCTTGGTGCACCTGTGGCCGCCATGTTTGAGCGAGGTGGGCAACTATGTTCTTGAGGGGGGAGCAACCATGTTCTTGAGGGGCTCTTCCCTTGAAGCCTCTTTGGCCACCATGTTTGAGAGGGGCAGACGGCCATGTTTGTAAGGGGCGCTTCTCTTGGTGCGCCT</th>\n",
       "      <td>0.0</td>\n",
       "      <td>1.0</td>\n",
       "      <td>1.0</td>\n",
       "      <td>2.0</td>\n",
       "      <td>1.0</td>\n",
       "      <td>1.0</td>\n",
       "      <td>3.0</td>\n",
       "      <td>3.0</td>\n",
       "      <td>0.0</td>\n",
       "      <td>0.0</td>\n",
       "      <td>...</td>\n",
       "      <td>1.0</td>\n",
       "      <td>0.0</td>\n",
       "      <td>0.0</td>\n",
       "      <td>3.0</td>\n",
       "      <td>0.0</td>\n",
       "      <td>2.0</td>\n",
       "      <td>5.0</td>\n",
       "      <td>1.0</td>\n",
       "      <td>3.0</td>\n",
       "      <td>2.0</td>\n",
       "    </tr>\n",
       "    <tr>\n",
       "      <th>TGTCCGGATTGCATTTCCTCTCTGGAGCTCTCTCTGTCCTGACCTCATTTCCTGTCTGGAGCCAGTGACCTCATTTCCTGTCTGTGTCACTCTGTCCTGACCTCATTTCCTGTCTGTGCCACTCTTTGTCCTGACCTCATTTCCTGTATGCAACACACTGTGCCCGGACTGCATTTCCTGTCTGGAGCTCTCTCTGTCCT</th>\n",
       "      <td>5.0</td>\n",
       "      <td>0.0</td>\n",
       "      <td>1.0</td>\n",
       "      <td>0.0</td>\n",
       "      <td>1.0</td>\n",
       "      <td>2.0</td>\n",
       "      <td>1.0</td>\n",
       "      <td>1.0</td>\n",
       "      <td>1.0</td>\n",
       "      <td>3.0</td>\n",
       "      <td>...</td>\n",
       "      <td>2.0</td>\n",
       "      <td>1.0</td>\n",
       "      <td>0.0</td>\n",
       "      <td>1.0</td>\n",
       "      <td>0.0</td>\n",
       "      <td>4.0</td>\n",
       "      <td>7.0</td>\n",
       "      <td>2.0</td>\n",
       "      <td>2.0</td>\n",
       "      <td>1.0</td>\n",
       "    </tr>\n",
       "    <tr>\n",
       "      <th>GTTGCTCGTCGGTTCCCTCGGCTCCGCCCCCTCGGCTGTGCGTCTGGCCCTCAGCTCCACCCCCAGCTGCGCGTCCGTTCCTCAGCTCAGTCCCCAAGCTGTGCGTCCTTCCCTCAGCTCTACCCCCAGCTGTGCGCCCGCCCCTTGGTTCCACCCCCCTCCCCAGCTGTGCGCCCGCCCCTTGGTTCCACCCCCCCCAG</th>\n",
       "      <td>3.0</td>\n",
       "      <td>1.0</td>\n",
       "      <td>2.0</td>\n",
       "      <td>1.0</td>\n",
       "      <td>2.0</td>\n",
       "      <td>2.0</td>\n",
       "      <td>3.0</td>\n",
       "      <td>0.0</td>\n",
       "      <td>0.0</td>\n",
       "      <td>5.0</td>\n",
       "      <td>...</td>\n",
       "      <td>0.0</td>\n",
       "      <td>3.0</td>\n",
       "      <td>0.0</td>\n",
       "      <td>3.0</td>\n",
       "      <td>2.0</td>\n",
       "      <td>0.0</td>\n",
       "      <td>3.0</td>\n",
       "      <td>2.0</td>\n",
       "      <td>2.0</td>\n",
       "      <td>0.0</td>\n",
       "    </tr>\n",
       "    <tr>\n",
       "      <th>...</th>\n",
       "      <td>...</td>\n",
       "      <td>...</td>\n",
       "      <td>...</td>\n",
       "      <td>...</td>\n",
       "      <td>...</td>\n",
       "      <td>...</td>\n",
       "      <td>...</td>\n",
       "      <td>...</td>\n",
       "      <td>...</td>\n",
       "      <td>...</td>\n",
       "      <td>...</td>\n",
       "      <td>...</td>\n",
       "      <td>...</td>\n",
       "      <td>...</td>\n",
       "      <td>...</td>\n",
       "      <td>...</td>\n",
       "      <td>...</td>\n",
       "      <td>...</td>\n",
       "      <td>...</td>\n",
       "      <td>...</td>\n",
       "      <td>...</td>\n",
       "    </tr>\n",
       "    <tr>\n",
       "      <th>CAGTCCCTCCTCCCTATGGCTCCATCTGGTGGGGACAGAGCAGAGGCCCAGAGGGTTCCAAGACGCAGAGCATGCAGCCAGTGTTAAGGTGGCATCCTGCCCGTCCCGGGTGAGGGGCTCCAGGGAGGAGCAACCTCACCTCAGAACTCCTTGTCCTGCCAGCTCCTGGCCCCTCGTGGCTGCCCCACCACCCTCCTGGC</th>\n",
       "      <td>0.0</td>\n",
       "      <td>0.0</td>\n",
       "      <td>0.0</td>\n",
       "      <td>0.0</td>\n",
       "      <td>0.0</td>\n",
       "      <td>0.0</td>\n",
       "      <td>0.0</td>\n",
       "      <td>0.0</td>\n",
       "      <td>0.0</td>\n",
       "      <td>0.0</td>\n",
       "      <td>...</td>\n",
       "      <td>0.0</td>\n",
       "      <td>0.0</td>\n",
       "      <td>0.0</td>\n",
       "      <td>0.0</td>\n",
       "      <td>0.0</td>\n",
       "      <td>0.0</td>\n",
       "      <td>0.0</td>\n",
       "      <td>0.0</td>\n",
       "      <td>0.0</td>\n",
       "      <td>0.0</td>\n",
       "    </tr>\n",
       "    <tr>\n",
       "      <th>GCACCATTAAAGGTGTACTTTAGGAAGGACTTTGAATGAAGCAATGATGAACAAATAGGCAAACACAAACTGGTAAGAATGTGAGAAGATCTAAAAAAGGATTAAAAATTTAGAAATAAGCATAACAACAAATTTGGGAAAGTAAAAACAAACTGAAACTAAAATACTGGGCAACAGCATCGTGGCAGATGAAAGGGAAG</th>\n",
       "      <td>0.0</td>\n",
       "      <td>0.0</td>\n",
       "      <td>0.0</td>\n",
       "      <td>0.0</td>\n",
       "      <td>0.0</td>\n",
       "      <td>0.0</td>\n",
       "      <td>0.0</td>\n",
       "      <td>0.0</td>\n",
       "      <td>0.0</td>\n",
       "      <td>0.0</td>\n",
       "      <td>...</td>\n",
       "      <td>0.0</td>\n",
       "      <td>0.0</td>\n",
       "      <td>0.0</td>\n",
       "      <td>0.0</td>\n",
       "      <td>0.0</td>\n",
       "      <td>0.0</td>\n",
       "      <td>0.0</td>\n",
       "      <td>0.0</td>\n",
       "      <td>0.0</td>\n",
       "      <td>0.0</td>\n",
       "    </tr>\n",
       "    <tr>\n",
       "      <th>AGGAGGAGGGAGGGAGGCGAGCAGCCAGTCATTCCGGAAGAGCTGCCGGGCCAGACGCAGGGGCTGGGAGAAAGCCAGCTGGCAGGCCCAGTGCTCTCCTTGAGGGCCTGCCCAGGACCACGGCTGGCAGCTGTGTGGGGCTTGGGTCGGGGCTGGGAGGGCTTCTGCTGGCAGCGGGCACCACATTGGAGCCTCGGTGG</th>\n",
       "      <td>0.0</td>\n",
       "      <td>0.0</td>\n",
       "      <td>0.0</td>\n",
       "      <td>0.0</td>\n",
       "      <td>0.0</td>\n",
       "      <td>0.0</td>\n",
       "      <td>0.0</td>\n",
       "      <td>0.0</td>\n",
       "      <td>0.0</td>\n",
       "      <td>0.0</td>\n",
       "      <td>...</td>\n",
       "      <td>0.0</td>\n",
       "      <td>0.0</td>\n",
       "      <td>0.0</td>\n",
       "      <td>0.0</td>\n",
       "      <td>0.0</td>\n",
       "      <td>0.0</td>\n",
       "      <td>0.0</td>\n",
       "      <td>0.0</td>\n",
       "      <td>0.0</td>\n",
       "      <td>0.0</td>\n",
       "    </tr>\n",
       "    <tr>\n",
       "      <th>GAAAGAAAGGAGGAGCCTTTGCCTGAGAATCTCGTATGTATTGTAGTATTCAGTGGCAGTGCATACACGTGCACAAACACATACACACACGTGCACACGTGCTTTGTCATAGCCTGTTTCCCCAACCTCTGGGGAAAATCAGTCAACACTTCCTCCTCTCCAAGCCACATTCTTTGTAGGGCAGCCTTGTCCCTGCCAGA</th>\n",
       "      <td>0.0</td>\n",
       "      <td>0.0</td>\n",
       "      <td>0.0</td>\n",
       "      <td>0.0</td>\n",
       "      <td>0.0</td>\n",
       "      <td>0.0</td>\n",
       "      <td>0.0</td>\n",
       "      <td>0.0</td>\n",
       "      <td>0.0</td>\n",
       "      <td>0.0</td>\n",
       "      <td>...</td>\n",
       "      <td>0.0</td>\n",
       "      <td>0.0</td>\n",
       "      <td>0.0</td>\n",
       "      <td>0.0</td>\n",
       "      <td>0.0</td>\n",
       "      <td>0.0</td>\n",
       "      <td>0.0</td>\n",
       "      <td>0.0</td>\n",
       "      <td>0.0</td>\n",
       "      <td>0.0</td>\n",
       "    </tr>\n",
       "    <tr>\n",
       "      <th>ATGAATAAATGAAGTCATCTCCTTCAAAACGCTAGTCACATCCTGGAGAGTAAGAATAGGGCTCTTGATCAGACAAGCCTCACGCAGGCCAGGCTCTGACGATCATGCTGTGTGATGTGGGCAAGTTCCTCTACCTCTCTGGGCCTCCGTTTCCTTACAAGTCATGTGGTCATAAGAATAACGCTGTTCTCCTGAGGGTC</th>\n",
       "      <td>0.0</td>\n",
       "      <td>0.0</td>\n",
       "      <td>0.0</td>\n",
       "      <td>0.0</td>\n",
       "      <td>0.0</td>\n",
       "      <td>0.0</td>\n",
       "      <td>0.0</td>\n",
       "      <td>0.0</td>\n",
       "      <td>0.0</td>\n",
       "      <td>0.0</td>\n",
       "      <td>...</td>\n",
       "      <td>0.0</td>\n",
       "      <td>0.0</td>\n",
       "      <td>0.0</td>\n",
       "      <td>0.0</td>\n",
       "      <td>0.0</td>\n",
       "      <td>0.0</td>\n",
       "      <td>0.0</td>\n",
       "      <td>0.0</td>\n",
       "      <td>0.0</td>\n",
       "      <td>0.0</td>\n",
       "    </tr>\n",
       "  </tbody>\n",
       "</table>\n",
       "<p>1000 rows × 100 columns</p>\n",
       "</div>"
      ],
      "text/plain": [
       "                                                     0    1    2    3    4   \\\n",
       "seq                                                                           \n",
       "CGGCCTGGGAAACACTGTAGTGACGCCCAATCAAAACGCCACGTCTC...  2.0  3.0  0.0  3.0  3.0   \n",
       "GCGCCGGGGCGGGGCCTGCGGGCGGGGCGGGGCCCGGGGCCGCGAAT...  3.0  1.0  2.0  2.0  3.0   \n",
       "AGGGGCAGACGGCCATGTTCGTGAACGGCGCTTCCCTTGGTGCACCT...  0.0  1.0  1.0  2.0  1.0   \n",
       "TGTCCGGATTGCATTTCCTCTCTGGAGCTCTCTCTGTCCTGACCTCA...  5.0  0.0  1.0  0.0  1.0   \n",
       "GTTGCTCGTCGGTTCCCTCGGCTCCGCCCCCTCGGCTGTGCGTCTGG...  3.0  1.0  2.0  1.0  2.0   \n",
       "...                                                 ...  ...  ...  ...  ...   \n",
       "CAGTCCCTCCTCCCTATGGCTCCATCTGGTGGGGACAGAGCAGAGGC...  0.0  0.0  0.0  0.0  0.0   \n",
       "GCACCATTAAAGGTGTACTTTAGGAAGGACTTTGAATGAAGCAATGA...  0.0  0.0  0.0  0.0  0.0   \n",
       "AGGAGGAGGGAGGGAGGCGAGCAGCCAGTCATTCCGGAAGAGCTGCC...  0.0  0.0  0.0  0.0  0.0   \n",
       "GAAAGAAAGGAGGAGCCTTTGCCTGAGAATCTCGTATGTATTGTAGT...  0.0  0.0  0.0  0.0  0.0   \n",
       "ATGAATAAATGAAGTCATCTCCTTCAAAACGCTAGTCACATCCTGGA...  0.0  0.0  0.0  0.0  0.0   \n",
       "\n",
       "                                                     5    6    7    8    9   \\\n",
       "seq                                                                           \n",
       "CGGCCTGGGAAACACTGTAGTGACGCCCAATCAAAACGCCACGTCTC...  1.0  7.0  3.0  1.0  1.0   \n",
       "GCGCCGGGGCGGGGCCTGCGGGCGGGGCGGGGCCCGGGGCCGCGAAT...  1.0  7.0  4.0  3.0  3.0   \n",
       "AGGGGCAGACGGCCATGTTCGTGAACGGCGCTTCCCTTGGTGCACCT...  1.0  3.0  3.0  0.0  0.0   \n",
       "TGTCCGGATTGCATTTCCTCTCTGGAGCTCTCTCTGTCCTGACCTCA...  2.0  1.0  1.0  1.0  3.0   \n",
       "GTTGCTCGTCGGTTCCCTCGGCTCCGCCCCCTCGGCTGTGCGTCTGG...  2.0  3.0  0.0  0.0  5.0   \n",
       "...                                                 ...  ...  ...  ...  ...   \n",
       "CAGTCCCTCCTCCCTATGGCTCCATCTGGTGGGGACAGAGCAGAGGC...  0.0  0.0  0.0  0.0  0.0   \n",
       "GCACCATTAAAGGTGTACTTTAGGAAGGACTTTGAATGAAGCAATGA...  0.0  0.0  0.0  0.0  0.0   \n",
       "AGGAGGAGGGAGGGAGGCGAGCAGCCAGTCATTCCGGAAGAGCTGCC...  0.0  0.0  0.0  0.0  0.0   \n",
       "GAAAGAAAGGAGGAGCCTTTGCCTGAGAATCTCGTATGTATTGTAGT...  0.0  0.0  0.0  0.0  0.0   \n",
       "ATGAATAAATGAAGTCATCTCCTTCAAAACGCTAGTCACATCCTGGA...  0.0  0.0  0.0  0.0  0.0   \n",
       "\n",
       "                                                    ...   90   91   92   93  \\\n",
       "seq                                                 ...                       \n",
       "CGGCCTGGGAAACACTGTAGTGACGCCCAATCAAAACGCCACGTCTC...  ...  2.0  2.0  1.0  4.0   \n",
       "GCGCCGGGGCGGGGCCTGCGGGCGGGGCGGGGCCCGGGGCCGCGAAT...  ...  1.0  5.0  3.0  1.0   \n",
       "AGGGGCAGACGGCCATGTTCGTGAACGGCGCTTCCCTTGGTGCACCT...  ...  1.0  0.0  0.0  3.0   \n",
       "TGTCCGGATTGCATTTCCTCTCTGGAGCTCTCTCTGTCCTGACCTCA...  ...  2.0  1.0  0.0  1.0   \n",
       "GTTGCTCGTCGGTTCCCTCGGCTCCGCCCCCTCGGCTGTGCGTCTGG...  ...  0.0  3.0  0.0  3.0   \n",
       "...                                                 ...  ...  ...  ...  ...   \n",
       "CAGTCCCTCCTCCCTATGGCTCCATCTGGTGGGGACAGAGCAGAGGC...  ...  0.0  0.0  0.0  0.0   \n",
       "GCACCATTAAAGGTGTACTTTAGGAAGGACTTTGAATGAAGCAATGA...  ...  0.0  0.0  0.0  0.0   \n",
       "AGGAGGAGGGAGGGAGGCGAGCAGCCAGTCATTCCGGAAGAGCTGCC...  ...  0.0  0.0  0.0  0.0   \n",
       "GAAAGAAAGGAGGAGCCTTTGCCTGAGAATCTCGTATGTATTGTAGT...  ...  0.0  0.0  0.0  0.0   \n",
       "ATGAATAAATGAAGTCATCTCCTTCAAAACGCTAGTCACATCCTGGA...  ...  0.0  0.0  0.0  0.0   \n",
       "\n",
       "                                                     94   95   96   97   98  \\\n",
       "seq                                                                           \n",
       "CGGCCTGGGAAACACTGTAGTGACGCCCAATCAAAACGCCACGTCTC...  1.0  1.0  6.0  3.0  1.0   \n",
       "GCGCCGGGGCGGGGCCTGCGGGCGGGGCGGGGCCCGGGGCCGCGAAT...  5.0  0.0  6.0  0.0  3.0   \n",
       "AGGGGCAGACGGCCATGTTCGTGAACGGCGCTTCCCTTGGTGCACCT...  0.0  2.0  5.0  1.0  3.0   \n",
       "TGTCCGGATTGCATTTCCTCTCTGGAGCTCTCTCTGTCCTGACCTCA...  0.0  4.0  7.0  2.0  2.0   \n",
       "GTTGCTCGTCGGTTCCCTCGGCTCCGCCCCCTCGGCTGTGCGTCTGG...  2.0  0.0  3.0  2.0  2.0   \n",
       "...                                                 ...  ...  ...  ...  ...   \n",
       "CAGTCCCTCCTCCCTATGGCTCCATCTGGTGGGGACAGAGCAGAGGC...  0.0  0.0  0.0  0.0  0.0   \n",
       "GCACCATTAAAGGTGTACTTTAGGAAGGACTTTGAATGAAGCAATGA...  0.0  0.0  0.0  0.0  0.0   \n",
       "AGGAGGAGGGAGGGAGGCGAGCAGCCAGTCATTCCGGAAGAGCTGCC...  0.0  0.0  0.0  0.0  0.0   \n",
       "GAAAGAAAGGAGGAGCCTTTGCCTGAGAATCTCGTATGTATTGTAGT...  0.0  0.0  0.0  0.0  0.0   \n",
       "ATGAATAAATGAAGTCATCTCCTTCAAAACGCTAGTCACATCCTGGA...  0.0  0.0  0.0  0.0  0.0   \n",
       "\n",
       "                                                     99  \n",
       "seq                                                      \n",
       "CGGCCTGGGAAACACTGTAGTGACGCCCAATCAAAACGCCACGTCTC...  1.0  \n",
       "GCGCCGGGGCGGGGCCTGCGGGCGGGGCGGGGCCCGGGGCCGCGAAT...  2.0  \n",
       "AGGGGCAGACGGCCATGTTCGTGAACGGCGCTTCCCTTGGTGCACCT...  2.0  \n",
       "TGTCCGGATTGCATTTCCTCTCTGGAGCTCTCTCTGTCCTGACCTCA...  1.0  \n",
       "GTTGCTCGTCGGTTCCCTCGGCTCCGCCCCCTCGGCTGTGCGTCTGG...  0.0  \n",
       "...                                                 ...  \n",
       "CAGTCCCTCCTCCCTATGGCTCCATCTGGTGGGGACAGAGCAGAGGC...  0.0  \n",
       "GCACCATTAAAGGTGTACTTTAGGAAGGACTTTGAATGAAGCAATGA...  0.0  \n",
       "AGGAGGAGGGAGGGAGGCGAGCAGCCAGTCATTCCGGAAGAGCTGCC...  0.0  \n",
       "GAAAGAAAGGAGGAGCCTTTGCCTGAGAATCTCGTATGTATTGTAGT...  0.0  \n",
       "ATGAATAAATGAAGTCATCTCCTTCAAAACGCTAGTCACATCCTGGA...  0.0  \n",
       "\n",
       "[1000 rows x 100 columns]"
      ]
     },
     "execution_count": 38,
     "metadata": {},
     "output_type": "execute_result"
    }
   ],
   "source": [
    "next_data_sel"
   ]
  },
  {
   "cell_type": "raw",
   "id": "c9acc510-dc15-4c4e-bb2e-aae98b59655e",
   "metadata": {
    "pycharm": {
     "name": "#%% raw\n"
    }
   },
   "source": [
    "--------------------"
   ]
  },
  {
   "cell_type": "code",
   "execution_count": 100,
   "id": "832945d9-e298-482d-97ad-4c123bc57a6f",
   "metadata": {
    "pycharm": {
     "name": "#%%\n"
    }
   },
   "outputs": [],
   "source": [
    "df = next_data_sel\n",
    "dataset = mb.datasets.GenomicsDataset(df)\n",
    "train = tdata.DataLoader(dataset=dataset, batch_size=256, shuffle=True)"
   ]
  },
  {
   "cell_type": "code",
   "execution_count": 101,
   "id": "79a7c2ca-86f6-4a97-ad3b-d6fe05d46130",
   "metadata": {
    "tags": [],
    "pycharm": {
     "name": "#%%\n"
    }
   },
   "outputs": [
    {
     "name": "stdout",
     "output_type": "stream",
     "text": [
      "next w 15 <class 'int'>\n",
      "# cells 101\n",
      "\n",
      "Kernel to optimize 0\n",
      "\n",
      "Freezing kernels\n",
      "setting grad status of kernel at 0 to 1\n",
      "setting grad status of kernel at 1 to 0\n",
      "\n",
      "\n",
      "kernels mask None\n",
      "optimizing using <class 'torch.optim.adam.Adam'> and <class 'multibind.tl.loss.MSELoss'> n_epochs 500 early_stopping 50\n",
      "lr= 0.01, weight_decay= 0.001, dir weight= 0\n",
      "Epoch: 51, Loss: 176283.604351 , best epoch: 31 secs per epoch: 7.890 s\n",
      "Epoch: 82, Loss: 176283.6633 , best epoch: 31 secs per epoch: 7.832 s\n",
      "early stop!\n",
      "total time: 634.367 s\n",
      "secs per epoch: 7.832 s\n",
      "\n",
      "Kernel to optimize 1\n",
      "\n",
      "Freezing kernels\n",
      "setting grad status of kernel at 0 to 0\n",
      "setting grad status of kernel at 1 to 1\n",
      "\n",
      "\n",
      "kernels mask None\n",
      "optimizing using <class 'torch.optim.adam.Adam'> and <class 'multibind.tl.loss.MSELoss'> n_epochs 500 early_stopping 50\n",
      "lr= 0.01, weight_decay= 0.001, dir weight= 0\n",
      "Epoch: 51, Loss: 0.291397 , best epoch: 49 secs per epoch: 14.582 s\n",
      "Epoch: 101, Loss: 0.291997 , best epoch: 51 secs per epoch: 14.610 s\n",
      "Epoch: 102, Loss: 0.2920 , best epoch: 51 secs per epoch: 14.612 s\n",
      "early stop!\n",
      "total time: 1475.826 s\n",
      "secs per epoch: 14.612 s\n",
      "\n",
      "optimize_motif_shift (first)...\n",
      "next expand left: 1, next expand right: 1, shift: 0\n",
      "optimizing using <class 'torch.optim.adam.Adam'> and <class 'multibind.tl.loss.MSELoss'> n_epochs 500 early_stopping 50\n",
      "lr= 0.01, weight_decay= 0.001, dir weight= 0\n",
      "Epoch: 51, Loss: 0.286987 , best epoch: 44 secs per epoch: 14.900 s\n",
      "Epoch: 95, Loss: 0.2865 , best epoch: 44 secs per epoch: 14.939 s\n",
      "early stop!\n",
      "total time: 1404.303 s\n",
      "secs per epoch: 14.939 s\n",
      "after opt.\n",
      "next expand left: 1, next expand right: 2, shift: 0\n",
      "optimizing using <class 'torch.optim.adam.Adam'> and <class 'multibind.tl.loss.MSELoss'> n_epochs 500 early_stopping 50\n",
      "lr= 0.01, weight_decay= 0.001, dir weight= 0\n",
      "Epoch: 51, Loss: 0.284799 , best epoch: 4 secs per epoch: 15.183 s\n",
      "Epoch: 55, Loss: 0.2846 , best epoch: 4 secs per epoch: 15.152 s\n",
      "early stop!\n",
      "total time: 818.231 s\n",
      "secs per epoch: 15.152 s\n",
      "after opt.\n",
      "next expand left: 2, next expand right: 1, shift: 0\n",
      "optimizing using <class 'torch.optim.adam.Adam'> and <class 'multibind.tl.loss.MSELoss'> n_epochs 500 early_stopping 50\n",
      "lr= 0.01, weight_decay= 0.001, dir weight= 0\n",
      "Epoch: 51, Loss: 0.284418 , best epoch: 10 secs per epoch: 14.420 s\n",
      "Epoch: 61, Loss: 0.2847 , best epoch: 10 secs per epoch: 14.516 s\n",
      "early stop!\n",
      "total time: 870.979 s\n",
      "secs per epoch: 14.516 s\n",
      "after opt.\n",
      "next expand left: 2, next expand right: 2, shift: 0\n",
      "optimizing using <class 'torch.optim.adam.Adam'> and <class 'multibind.tl.loss.MSELoss'> n_epochs 500 early_stopping 50\n",
      "lr= 0.01, weight_decay= 0.001, dir weight= 0\n",
      "Epoch: 51, Loss: 0.282738 , best epoch: 7 secs per epoch: 15.278 s\n",
      "Epoch: 58, Loss: 0.2833 , best epoch: 7 secs per epoch: 15.180 s\n",
      "early stop!\n",
      "total time: 865.280 s\n",
      "secs per epoch: 15.180 s\n",
      "after opt.\n",
      "sorted\n",
      "   expand.left  expand.right  shift      loss\n",
      "0            2             2      0  0.282072\n",
      "1            2             1      0  0.284221\n",
      "2            1             2      0  0.284276\n",
      "3            1             1      0  0.286432\n",
      "4            0             0      0  0.291178\n",
      "action: (2, 2, 0)\n",
      "\n",
      "\n",
      "optimize_motif_shift (again)...\n",
      "sorted\n",
      "   expand.left  expand.right  shift      loss\n",
      "0            0             0      0  0.282072\n",
      "action: (0, 0, 0)\n",
      "\n",
      "\n",
      "optimize_motif_shift (first)...\n",
      "sorted\n",
      "   expand.left  expand.right  shift      loss\n",
      "0            0             0      0  0.282072\n",
      "action: (0, 0, 0)\n",
      "\n",
      "\n",
      "\n",
      "final refinement step (after shift)...\n",
      "\n",
      "unfreezing all layers for final refinement\n",
      "kernel grad (0) = 1 \n",
      "kernel grad (1) = 1 \n",
      "\n",
      "kernels mask None\n",
      "optimizing using <class 'torch.optim.adam.Adam'> and <class 'multibind.tl.loss.MSELoss'> n_epochs 500 early_stopping 50\n",
      "lr= 0.01, weight_decay= 0.001, dir weight= 0\n",
      "Epoch: 51, Loss: 0.282737 , best epoch: 17 secs per epoch: 15.158 s\n",
      "Epoch: 68, Loss: 0.2826 , best epoch: 17 secs per epoch: 15.115 s\n",
      "early stop!\n",
      "total time: 1012.735 s\n",
      "secs per epoch: 15.115 s\n",
      "best loss 0.28216557838494266\n"
     ]
    }
   ],
   "source": [
    "model_atac, best_loss = mb.tl.train_iterative(train, device, num_epochs=500, show_logo=False,\n",
    "                                         early_stopping=50, log_each=50, n_kernels=2)"
   ]
  },
  {
   "cell_type": "code",
   "execution_count": 104,
   "id": "935e0e08-1e43-4439-90a7-95e737d8ea90",
   "metadata": {
    "pycharm": {
     "name": "#%%\n"
    }
   },
   "outputs": [
    {
     "name": "stdout",
     "output_type": "stream",
     "text": [
      "R^2: [-1.07838477e-01 -4.83364150e-01 -1.22575523e-01 -1.86266528e-01\n",
      " -6.55286009e-01 -1.91636657e-01  1.14242773e-02 -1.42249611e-01\n",
      " -2.03141783e-01 -2.01363935e-02 -3.13520506e-01 -1.99622547e-01\n",
      " -1.15867587e+00 -3.66144871e-01 -2.09081271e-01 -4.20815736e-02\n",
      " -7.55392481e-02 -3.03890481e-01 -1.44256184e-01 -3.12236872e-01\n",
      " -3.50523434e-01 -4.29710304e-01 -1.06089621e-01 -1.27048975e-01\n",
      "  3.84339951e-03 -3.66993557e-01 -5.33315923e-02 -3.56014660e-01\n",
      " -4.79638330e-02 -2.03529243e-01 -4.50742875e-02 -3.35805922e-01\n",
      " -2.14879643e-01 -5.78298102e-01 -1.44947804e-01 -1.75238575e-01\n",
      " -1.00858233e-01 -3.09273628e-01 -2.21251696e-01 -2.33505850e-01\n",
      " -4.86881020e-01 -1.30283465e-01 -3.13618923e-01 -1.97571817e-01\n",
      " -6.00388170e-02 -4.01306723e-02 -1.02899442e-01 -8.86769430e-03\n",
      " -1.71792531e-01 -4.00070044e-01 -5.39912283e-01 -1.69664298e-01\n",
      " -1.79217337e-01 -2.99818352e-01 -1.58237059e-01 -1.36133970e+01\n",
      " -8.78090722e-02 -1.46786142e-01 -1.22680398e-02 -4.17124474e-01\n",
      " -2.08813071e-01 -2.30359964e-01 -5.49871300e-01 -1.63010293e-01\n",
      " -4.39018906e-02 -1.16757378e-01 -3.07694829e-02 -2.46270593e-01\n",
      " -2.42319659e-01 -4.27380415e-01 -2.47110328e-01 -6.79719449e-02\n",
      " -2.51973936e-01  1.60874016e-02 -8.14317784e-02 -4.21120061e-01\n",
      " -5.28413157e-02 -3.53560878e-01 -9.17683361e-02 -4.99084269e-01\n",
      " -1.30463232e-01 -1.27412815e-01  8.59056476e-03 -1.01002075e-01\n",
      " -1.61752623e-01 -9.61138312e-02 -2.40212090e-01 -9.89086593e-02\n",
      " -3.97039516e-02 -3.65409301e-01 -4.61774276e-01 -5.12415675e-02\n",
      " -1.21114883e-01 -1.05713719e-01 -6.03959163e-02 -1.19329888e-01\n",
      " -2.22751679e-01 -2.59417430e-02 -1.12592156e-01 -1.19268487e-01\n",
      "  8.68123041e-04]\n"
     ]
    }
   ],
   "source": [
    "r2 = mb.pl.R2_calculation(model_atac, train)\n",
    "print(\"R^2:\", r2)"
   ]
  },
  {
   "cell_type": "code",
   "execution_count": 103,
   "id": "f45e8690-3ecd-4468-b6dc-65a63acae1bf",
   "metadata": {
    "collapsed": true,
    "jupyter": {
     "outputs_hidden": true
    },
    "tags": [],
    "pycharm": {
     "name": "#%%\n"
    }
   },
   "outputs": [
    {
     "data": {
      "text/plain": [
       "Multibind(\n",
       "  (padding): ConstantPad2d(padding=(12, 12, 0, 0), value=0.25)\n",
       "  (binding_modes): BindingModesPerProtein(\n",
       "    (generator): BMCollection(\n",
       "      (conv_mono_list): ModuleList(\n",
       "        (0): None\n",
       "        (1): ModuleList(\n",
       "          (0): Conv2d(1, 1, kernel_size=(4, 15), stride=(1, 1), bias=False)\n",
       "          (1): Conv2d(1, 1, kernel_size=(4, 15), stride=(1, 1), bias=False)\n",
       "          (2): Conv2d(1, 1, kernel_size=(4, 15), stride=(1, 1), bias=False)\n",
       "          (3): Conv2d(1, 1, kernel_size=(4, 15), stride=(1, 1), bias=False)\n",
       "          (4): Conv2d(1, 1, kernel_size=(4, 15), stride=(1, 1), bias=False)\n",
       "          (5): Conv2d(1, 1, kernel_size=(4, 15), stride=(1, 1), bias=False)\n",
       "          (6): Conv2d(1, 1, kernel_size=(4, 15), stride=(1, 1), bias=False)\n",
       "          (7): Conv2d(1, 1, kernel_size=(4, 15), stride=(1, 1), bias=False)\n",
       "          (8): Conv2d(1, 1, kernel_size=(4, 15), stride=(1, 1), bias=False)\n",
       "          (9): Conv2d(1, 1, kernel_size=(4, 15), stride=(1, 1), bias=False)\n",
       "          (10): Conv2d(1, 1, kernel_size=(4, 15), stride=(1, 1), bias=False)\n",
       "          (11): Conv2d(1, 1, kernel_size=(4, 15), stride=(1, 1), bias=False)\n",
       "          (12): Conv2d(1, 1, kernel_size=(4, 15), stride=(1, 1), bias=False)\n",
       "          (13): Conv2d(1, 1, kernel_size=(4, 15), stride=(1, 1), bias=False)\n",
       "          (14): Conv2d(1, 1, kernel_size=(4, 15), stride=(1, 1), bias=False)\n",
       "          (15): Conv2d(1, 1, kernel_size=(4, 15), stride=(1, 1), bias=False)\n",
       "          (16): Conv2d(1, 1, kernel_size=(4, 15), stride=(1, 1), bias=False)\n",
       "          (17): Conv2d(1, 1, kernel_size=(4, 15), stride=(1, 1), bias=False)\n",
       "          (18): Conv2d(1, 1, kernel_size=(4, 15), stride=(1, 1), bias=False)\n",
       "          (19): Conv2d(1, 1, kernel_size=(4, 15), stride=(1, 1), bias=False)\n",
       "          (20): Conv2d(1, 1, kernel_size=(4, 15), stride=(1, 1), bias=False)\n",
       "          (21): Conv2d(1, 1, kernel_size=(4, 15), stride=(1, 1), bias=False)\n",
       "          (22): Conv2d(1, 1, kernel_size=(4, 15), stride=(1, 1), bias=False)\n",
       "          (23): Conv2d(1, 1, kernel_size=(4, 15), stride=(1, 1), bias=False)\n",
       "          (24): Conv2d(1, 1, kernel_size=(4, 15), stride=(1, 1), bias=False)\n",
       "          (25): Conv2d(1, 1, kernel_size=(4, 15), stride=(1, 1), bias=False)\n",
       "          (26): Conv2d(1, 1, kernel_size=(4, 15), stride=(1, 1), bias=False)\n",
       "          (27): Conv2d(1, 1, kernel_size=(4, 15), stride=(1, 1), bias=False)\n",
       "          (28): Conv2d(1, 1, kernel_size=(4, 15), stride=(1, 1), bias=False)\n",
       "          (29): Conv2d(1, 1, kernel_size=(4, 15), stride=(1, 1), bias=False)\n",
       "          (30): Conv2d(1, 1, kernel_size=(4, 15), stride=(1, 1), bias=False)\n",
       "          (31): Conv2d(1, 1, kernel_size=(4, 15), stride=(1, 1), bias=False)\n",
       "          (32): Conv2d(1, 1, kernel_size=(4, 15), stride=(1, 1), bias=False)\n",
       "          (33): Conv2d(1, 1, kernel_size=(4, 15), stride=(1, 1), bias=False)\n",
       "          (34): Conv2d(1, 1, kernel_size=(4, 15), stride=(1, 1), bias=False)\n",
       "          (35): Conv2d(1, 1, kernel_size=(4, 15), stride=(1, 1), bias=False)\n",
       "          (36): Conv2d(1, 1, kernel_size=(4, 15), stride=(1, 1), bias=False)\n",
       "          (37): Conv2d(1, 1, kernel_size=(4, 15), stride=(1, 1), bias=False)\n",
       "          (38): Conv2d(1, 1, kernel_size=(4, 15), stride=(1, 1), bias=False)\n",
       "          (39): Conv2d(1, 1, kernel_size=(4, 15), stride=(1, 1), bias=False)\n",
       "          (40): Conv2d(1, 1, kernel_size=(4, 15), stride=(1, 1), bias=False)\n",
       "          (41): Conv2d(1, 1, kernel_size=(4, 15), stride=(1, 1), bias=False)\n",
       "          (42): Conv2d(1, 1, kernel_size=(4, 15), stride=(1, 1), bias=False)\n",
       "          (43): Conv2d(1, 1, kernel_size=(4, 15), stride=(1, 1), bias=False)\n",
       "          (44): Conv2d(1, 1, kernel_size=(4, 15), stride=(1, 1), bias=False)\n",
       "          (45): Conv2d(1, 1, kernel_size=(4, 15), stride=(1, 1), bias=False)\n",
       "          (46): Conv2d(1, 1, kernel_size=(4, 15), stride=(1, 1), bias=False)\n",
       "          (47): Conv2d(1, 1, kernel_size=(4, 15), stride=(1, 1), bias=False)\n",
       "          (48): Conv2d(1, 1, kernel_size=(4, 15), stride=(1, 1), bias=False)\n",
       "          (49): Conv2d(1, 1, kernel_size=(4, 15), stride=(1, 1), bias=False)\n",
       "          (50): Conv2d(1, 1, kernel_size=(4, 15), stride=(1, 1), bias=False)\n",
       "          (51): Conv2d(1, 1, kernel_size=(4, 15), stride=(1, 1), bias=False)\n",
       "          (52): Conv2d(1, 1, kernel_size=(4, 15), stride=(1, 1), bias=False)\n",
       "          (53): Conv2d(1, 1, kernel_size=(4, 15), stride=(1, 1), bias=False)\n",
       "          (54): Conv2d(1, 1, kernel_size=(4, 15), stride=(1, 1), bias=False)\n",
       "          (55): Conv2d(1, 1, kernel_size=(4, 15), stride=(1, 1), bias=False)\n",
       "          (56): Conv2d(1, 1, kernel_size=(4, 15), stride=(1, 1), bias=False)\n",
       "          (57): Conv2d(1, 1, kernel_size=(4, 15), stride=(1, 1), bias=False)\n",
       "          (58): Conv2d(1, 1, kernel_size=(4, 15), stride=(1, 1), bias=False)\n",
       "          (59): Conv2d(1, 1, kernel_size=(4, 15), stride=(1, 1), bias=False)\n",
       "          (60): Conv2d(1, 1, kernel_size=(4, 15), stride=(1, 1), bias=False)\n",
       "          (61): Conv2d(1, 1, kernel_size=(4, 15), stride=(1, 1), bias=False)\n",
       "          (62): Conv2d(1, 1, kernel_size=(4, 15), stride=(1, 1), bias=False)\n",
       "          (63): Conv2d(1, 1, kernel_size=(4, 15), stride=(1, 1), bias=False)\n",
       "          (64): Conv2d(1, 1, kernel_size=(4, 15), stride=(1, 1), bias=False)\n",
       "          (65): Conv2d(1, 1, kernel_size=(4, 15), stride=(1, 1), bias=False)\n",
       "          (66): Conv2d(1, 1, kernel_size=(4, 15), stride=(1, 1), bias=False)\n",
       "          (67): Conv2d(1, 1, kernel_size=(4, 15), stride=(1, 1), bias=False)\n",
       "          (68): Conv2d(1, 1, kernel_size=(4, 15), stride=(1, 1), bias=False)\n",
       "          (69): Conv2d(1, 1, kernel_size=(4, 15), stride=(1, 1), bias=False)\n",
       "          (70): Conv2d(1, 1, kernel_size=(4, 15), stride=(1, 1), bias=False)\n",
       "          (71): Conv2d(1, 1, kernel_size=(4, 15), stride=(1, 1), bias=False)\n",
       "          (72): Conv2d(1, 1, kernel_size=(4, 15), stride=(1, 1), bias=False)\n",
       "          (73): Conv2d(1, 1, kernel_size=(4, 15), stride=(1, 1), bias=False)\n",
       "          (74): Conv2d(1, 1, kernel_size=(4, 15), stride=(1, 1), bias=False)\n",
       "          (75): Conv2d(1, 1, kernel_size=(4, 15), stride=(1, 1), bias=False)\n",
       "          (76): Conv2d(1, 1, kernel_size=(4, 15), stride=(1, 1), bias=False)\n",
       "          (77): Conv2d(1, 1, kernel_size=(4, 15), stride=(1, 1), bias=False)\n",
       "          (78): Conv2d(1, 1, kernel_size=(4, 15), stride=(1, 1), bias=False)\n",
       "          (79): Conv2d(1, 1, kernel_size=(4, 15), stride=(1, 1), bias=False)\n",
       "          (80): Conv2d(1, 1, kernel_size=(4, 15), stride=(1, 1), bias=False)\n",
       "          (81): Conv2d(1, 1, kernel_size=(4, 15), stride=(1, 1), bias=False)\n",
       "          (82): Conv2d(1, 1, kernel_size=(4, 15), stride=(1, 1), bias=False)\n",
       "          (83): Conv2d(1, 1, kernel_size=(4, 15), stride=(1, 1), bias=False)\n",
       "          (84): Conv2d(1, 1, kernel_size=(4, 15), stride=(1, 1), bias=False)\n",
       "          (85): Conv2d(1, 1, kernel_size=(4, 15), stride=(1, 1), bias=False)\n",
       "          (86): Conv2d(1, 1, kernel_size=(4, 15), stride=(1, 1), bias=False)\n",
       "          (87): Conv2d(1, 1, kernel_size=(4, 15), stride=(1, 1), bias=False)\n",
       "          (88): Conv2d(1, 1, kernel_size=(4, 15), stride=(1, 1), bias=False)\n",
       "          (89): Conv2d(1, 1, kernel_size=(4, 15), stride=(1, 1), bias=False)\n",
       "          (90): Conv2d(1, 1, kernel_size=(4, 15), stride=(1, 1), bias=False)\n",
       "          (91): Conv2d(1, 1, kernel_size=(4, 15), stride=(1, 1), bias=False)\n",
       "          (92): Conv2d(1, 1, kernel_size=(4, 15), stride=(1, 1), bias=False)\n",
       "          (93): Conv2d(1, 1, kernel_size=(4, 15), stride=(1, 1), bias=False)\n",
       "          (94): Conv2d(1, 1, kernel_size=(4, 15), stride=(1, 1), bias=False)\n",
       "          (95): Conv2d(1, 1, kernel_size=(4, 15), stride=(1, 1), bias=False)\n",
       "          (96): Conv2d(1, 1, kernel_size=(4, 15), stride=(1, 1), bias=False)\n",
       "          (97): Conv2d(1, 1, kernel_size=(4, 15), stride=(1, 1), bias=False)\n",
       "          (98): Conv2d(1, 1, kernel_size=(4, 15), stride=(1, 1), bias=False)\n",
       "          (99): Conv2d(1, 1, kernel_size=(4, 15), stride=(1, 1), bias=False)\n",
       "          (100): Conv2d(1, 1, kernel_size=(4, 15), stride=(1, 1), bias=False)\n",
       "        )\n",
       "      )\n",
       "    )\n",
       "  )\n",
       "  (activities): ActivitiesLayer(\n",
       "    (log_activities): ParameterList(\n",
       "        (0): Parameter containing: [torch.FloatTensor of size 101x1]\n",
       "        (1): Parameter containing: [torch.FloatTensor of size 101x1]\n",
       "    )\n",
       "  )\n",
       ")"
      ]
     },
     "execution_count": 103,
     "metadata": {},
     "output_type": "execute_result"
    }
   ],
   "source": [
    "model_atac"
   ]
  },
  {
   "cell_type": "raw",
   "id": "1691dbfb-0211-4987-b8e9-c298e5c80b6a",
   "metadata": {
    "pycharm": {
     "name": "#%% raw\n"
    }
   },
   "source": [
    "--------------------"
   ]
  },
  {
   "cell_type": "code",
   "execution_count": 39,
   "id": "61b16eaa-2c0a-4c12-9619-dd1242bf2272",
   "metadata": {
    "pycharm": {
     "name": "#%%\n"
    }
   },
   "outputs": [],
   "source": [
    "df = next_data_sel.copy()\n",
    "dataset = mb.datasets.GenomicsDataset(df)\n",
    "train = tdata.DataLoader(dataset=dataset, batch_size=256, shuffle=True)"
   ]
  },
  {
   "cell_type": "code",
   "execution_count": 40,
   "id": "03c5d106-1ae9-4e82-bebf-58b5bf5be508",
   "metadata": {
    "tags": [],
    "pycharm": {
     "name": "#%%\n"
    }
   },
   "outputs": [
    {
     "name": "stdout",
     "output_type": "stream",
     "text": [
      "next w 15 <class 'int'>\n",
      "# cells 100\n",
      "\n",
      "Kernel to optimize 0\n",
      "\n",
      "Freezing kernels\n",
      "setting grad status of kernel at 0 to 1\n",
      "setting grad status of kernel at 1 to 0\n",
      "\n",
      "\n",
      "kernels mask None\n",
      "optimizing using <class 'torch.optim.adam.Adam'> and <class 'multibind.tl.loss.MSELoss'> n_epochs 500 early_stopping 50\n",
      "lr= 0.01, weight_decay= 0.001, dir weight= 0\n",
      "Epoch: 51, Loss: 183065.608536 , best epoch: 36 secs per epoch: 10.108 s\n",
      "Epoch: 101, Loss: 183065.639626 , best epoch: 89 secs per epoch: 10.010 s\n",
      "Epoch: 140, Loss: 183065.5580 , best epoch: 89 secs per epoch: 9.949 s\n",
      "early stop!\n",
      "total time: 1382.901 s\n",
      "secs per epoch: 9.949 s\n",
      "\n",
      "Kernel to optimize 1\n",
      "\n",
      "Freezing kernels\n",
      "setting grad status of kernel at 0 to 0\n",
      "setting grad status of kernel at 1 to 1\n",
      "\n",
      "\n",
      "kernels mask None\n",
      "optimizing using <class 'torch.optim.adam.Adam'> and <class 'multibind.tl.loss.MSELoss'> n_epochs 500 early_stopping 50\n",
      "lr= 0.01, weight_decay= 0.001, dir weight= 0\n",
      "Epoch: 51, Loss: 0.232748 , best epoch: 49 secs per epoch: 13.612 s\n",
      "Epoch: 101, Loss: 0.217115 , best epoch: 99 secs per epoch: 13.428 s\n",
      "Epoch: 151, Loss: 0.212057 , best epoch: 141 secs per epoch: 13.358 s\n",
      "Epoch: 201, Loss: 0.211831 , best epoch: 198 secs per epoch: 13.318 s\n",
      "Epoch: 249, Loss: 0.2117 , best epoch: 198 secs per epoch: 13.321 s\n",
      "early stop!\n",
      "total time: 3303.708 s\n",
      "secs per epoch: 13.321 s\n",
      "\n",
      "optimize_motif_shift (first)...\n",
      "next expand left: 1, next expand right: 1, shift: 0\n",
      "optimizing using <class 'torch.optim.adam.Adam'> and <class 'multibind.tl.loss.MSELoss'> n_epochs 500 early_stopping 50\n",
      "lr= 0.01, weight_decay= 0.001, dir weight= 0\n",
      "Epoch: 51, Loss: 0.209535 , best epoch: 38 secs per epoch: 6.857 s\n",
      "Epoch: 89, Loss: 0.2092 , best epoch: 38 secs per epoch: 6.765 s\n",
      "early stop!\n",
      "total time: 595.337 s\n",
      "secs per epoch: 6.765 s\n",
      "after opt.\n",
      "next expand left: 1, next expand right: 2, shift: 0\n",
      "optimizing using <class 'torch.optim.adam.Adam'> and <class 'multibind.tl.loss.MSELoss'> n_epochs 500 early_stopping 50\n",
      "lr= 0.01, weight_decay= 0.001, dir weight= 0\n",
      "Epoch: 51, Loss: 0.209015 , best epoch: 13 secs per epoch: 6.889 s\n",
      "Epoch: 64, Loss: 0.2094 , best epoch: 13 secs per epoch: 6.863 s\n",
      "early stop!\n",
      "total time: 432.338 s\n",
      "secs per epoch: 6.863 s\n",
      "after opt.\n",
      "next expand left: 2, next expand right: 1, shift: 0\n",
      "optimizing using <class 'torch.optim.adam.Adam'> and <class 'multibind.tl.loss.MSELoss'> n_epochs 500 early_stopping 50\n",
      "lr= 0.01, weight_decay= 0.001, dir weight= 0\n",
      "Epoch: 51, Loss: 0.208165 , best epoch: 10 secs per epoch: 6.890 s\n",
      "Epoch: 101, Loss: 0.208561 , best epoch: 92 secs per epoch: 6.826 s\n",
      "Epoch: 143, Loss: 0.2082 , best epoch: 92 secs per epoch: 6.776 s\n",
      "early stop!\n",
      "total time: 962.254 s\n",
      "secs per epoch: 6.776 s\n",
      "after opt.\n",
      "next expand left: 2, next expand right: 2, shift: 0\n",
      "optimizing using <class 'torch.optim.adam.Adam'> and <class 'multibind.tl.loss.MSELoss'> n_epochs 500 early_stopping 50\n",
      "lr= 0.01, weight_decay= 0.001, dir weight= 0\n",
      "Epoch: 51, Loss: 0.207536 , best epoch: 10 secs per epoch: 7.054 s\n",
      "Epoch: 61, Loss: 0.2082 , best epoch: 10 secs per epoch: 7.040 s\n",
      "early stop!\n",
      "total time: 422.383 s\n",
      "secs per epoch: 7.040 s\n",
      "after opt.\n",
      "sorted\n",
      "   expand.left  expand.right  shift      loss\n",
      "0            2             1      0  0.207432\n",
      "1            2             2      0  0.207490\n",
      "2            1             2      0  0.208430\n",
      "3            1             1      0  0.208538\n",
      "4            0             0      0  0.211008\n",
      "action: (2, 1, 0)\n",
      "\n",
      "\n",
      "optimize_motif_shift (again)...\n",
      "next expand left: 1, next expand right: 1, shift: 0\n",
      "optimizing using <class 'torch.optim.adam.Adam'> and <class 'multibind.tl.loss.MSELoss'> n_epochs 500 early_stopping 50\n",
      "lr= 0.01, weight_decay= 0.001, dir weight= 0\n",
      "Epoch: 51, Loss: 0.203624 , best epoch: 23 secs per epoch: 7.418 s\n",
      "Epoch: 101, Loss: 0.201184 , best epoch: 93 secs per epoch: 7.338 s\n",
      "Epoch: 151, Loss: 0.201382 , best epoch: 141 secs per epoch: 7.312 s\n",
      "Epoch: 192, Loss: 0.2010 , best epoch: 141 secs per epoch: 7.309 s\n",
      "early stop!\n",
      "total time: 1395.958 s\n",
      "secs per epoch: 7.309 s\n",
      "after opt.\n",
      "sorted\n",
      "   expand.left  expand.right  shift      loss\n",
      "0            1             1      0  0.200548\n",
      "1            0             0      0  0.207432\n",
      "action: (1, 1, 0)\n",
      "\n",
      "stop. Reached maximum w...\n",
      "stop. Reached maximum w...\n",
      "\n",
      "\n",
      "final refinement step (after shift)...\n",
      "\n",
      "unfreezing all layers for final refinement\n",
      "kernel grad (0) = 1 \n",
      "kernel grad (1) = 1 \n",
      "\n",
      "kernels mask None\n",
      "optimizing using <class 'torch.optim.adam.Adam'> and <class 'multibind.tl.loss.MSELoss'> n_epochs 500 early_stopping 50\n",
      "lr= 0.01, weight_decay= 0.001, dir weight= 0\n",
      "Epoch: 51, Loss: 0.201727 , best epoch: 6 secs per epoch: 7.461 s\n",
      "Epoch: 57, Loss: 0.2014 , best epoch: 6 secs per epoch: 7.447 s\n",
      "early stop!\n",
      "total time: 417.033 s\n",
      "secs per epoch: 7.447 s\n",
      "best loss 0.20069872452627363\n"
     ]
    }
   ],
   "source": [
    "model_atac, best_loss = mb.tl.train_iterative(train, device, num_epochs=500, show_logo=False,\n",
    "                                         early_stopping=50, log_each=50, n_kernels=2, joint_learning=True)"
   ]
  },
  {
   "cell_type": "code",
   "execution_count": 41,
   "id": "88b14fdd-8d15-40f5-9ca8-a58bbbb11235",
   "metadata": {
    "pycharm": {
     "name": "#%%\n"
    }
   },
   "outputs": [
    {
     "name": "stdout",
     "output_type": "stream",
     "text": [
      "R^2: [ 0.13878875  0.04024839  0.18196623  0.20543248  0.16138362  0.21210567\n",
      "  0.3165799   0.12787851  0.08510719  0.17636798  0.20414352  0.22971884\n",
      "  0.02325066  0.21320886  0.08227756  0.13408572  0.15370412  0.10735762\n",
      "  0.11178474  0.17171434  0.0765277   0.25880751  0.3070136   0.15056937\n",
      "  0.13319635  0.15720241  0.11522282  0.04697617  0.20400748  0.15545127\n",
      "  0.18280953  0.1832558   0.14678854  0.12133795  0.15698757  0.21034409\n",
      "  0.28173869  0.14738089  0.13387148  0.07459993  0.27474017  0.20752409\n",
      "  0.11371403  0.07238896  0.29358685  0.17234216  0.22219302  0.1688822\n",
      "  0.21386017  0.11685206  0.0891051   0.1452552   0.19389668  0.12077422\n",
      "  0.04535193 -5.32148851  0.21553399  0.17289137  0.11450446  0.14526198\n",
      "  0.18550727  0.23322659  0.03277174  0.24332716  0.21298807  0.17896186\n",
      "  0.19811828  0.1549659   0.11449261  0.09346913  0.13473171  0.18012241\n",
      "  0.12753222  0.27793425  0.21873088  0.23055508  0.22269199  0.1351325\n",
      "  0.20930503  0.17675668  0.18872199  0.09080182  0.26543911  0.21659781\n",
      "  0.15745791  0.15514158  0.10434815  0.19720559  0.19707822  0.11019659\n",
      "  0.11283881  0.16698481  0.12298923  0.19645801  0.20400896  0.08887823\n",
      "  0.28812798  0.12608694  0.13934001  0.1084599 ]\n"
     ]
    }
   ],
   "source": [
    "r2 = mb.pl.R2_calculation(model_atac, train)\n",
    "print(\"R^2:\", r2)"
   ]
  },
  {
   "cell_type": "code",
   "execution_count": null,
   "id": "e7e00e39-9697-416f-a5ea-59b9b915ac7d",
   "metadata": {
    "pycharm": {
     "name": "#%%\n"
    }
   },
   "outputs": [],
   "source": []
  },
  {
   "cell_type": "code",
   "execution_count": null,
   "id": "716d755f-97a3-40fc-8049-f8bbd1f7df4b",
   "metadata": {
    "pycharm": {
     "name": "#%%\n"
    }
   },
   "outputs": [],
   "source": []
  }
 ],
 "metadata": {
  "kernelspec": {
   "name": "conda-env-mubind-py",
   "language": "python",
   "display_name": "Python [conda env:mubind]"
  },
  "language_info": {
   "codemirror_mode": {
    "name": "ipython",
    "version": 3
   },
   "file_extension": ".py",
   "mimetype": "text/x-python",
   "name": "python",
   "nbconvert_exporter": "python",
   "pygments_lexer": "ipython3",
   "version": "3.10.4"
  }
 },
 "nbformat": 4,
 "nbformat_minor": 5
}