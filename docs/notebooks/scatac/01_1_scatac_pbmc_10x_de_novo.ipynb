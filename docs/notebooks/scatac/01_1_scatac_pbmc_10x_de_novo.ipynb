{
 "cells": [
  {
   "cell_type": "code",
   "execution_count": 1,
   "outputs": [
    {
     "name": "stdout",
     "output_type": "stream",
     "text": [
      "here...\n"
     ]
    }
   ],
   "source": [
    "print('here...')"
   ],
   "metadata": {
    "collapsed": false,
    "pycharm": {
     "name": "#%%\n"
    }
   }
  },
  {
   "cell_type": "code",
   "execution_count": 2,
   "id": "004d2a17-2952-4822-83ae-09dd177136d6",
   "metadata": {
    "pycharm": {
     "name": "#%%\n"
    }
   },
   "outputs": [],
   "source": [
    "%load_ext autoreload\n",
    "%autoreload 2"
   ]
  },
  {
   "cell_type": "code",
   "execution_count": 3,
   "id": "27c59d94-fd4a-4a3c-9abf-5109ef97c02f",
   "metadata": {
    "pycharm": {
     "name": "#%%\n"
    }
   },
   "outputs": [
    {
     "ename": "ModuleNotFoundError",
     "evalue": "No module named 'multibind'",
     "output_type": "error",
     "traceback": [
      "\u001B[0;31m---------------------------------------------------------------------------\u001B[0m",
      "\u001B[0;31mModuleNotFoundError\u001B[0m                       Traceback (most recent call last)",
      "Cell \u001B[0;32mIn[3], line 1\u001B[0m\n\u001B[0;32m----> 1\u001B[0m \u001B[38;5;28;01mimport\u001B[39;00m \u001B[38;5;21;01mmultibind\u001B[39;00m \u001B[38;5;28;01mas\u001B[39;00m \u001B[38;5;21;01mmb\u001B[39;00m\n\u001B[1;32m      2\u001B[0m \u001B[38;5;28;01mimport\u001B[39;00m \u001B[38;5;21;01mnumpy\u001B[39;00m \u001B[38;5;28;01mas\u001B[39;00m \u001B[38;5;21;01mnp\u001B[39;00m\n\u001B[1;32m      3\u001B[0m \u001B[38;5;28;01mimport\u001B[39;00m \u001B[38;5;21;01mpandas\u001B[39;00m \u001B[38;5;28;01mas\u001B[39;00m \u001B[38;5;21;01mpd\u001B[39;00m\n",
      "\u001B[0;31mModuleNotFoundError\u001B[0m: No module named 'multibind'"
     ]
    }
   ],
   "source": [
    "import multibind as mb\n",
    "import numpy as np\n",
    "import pandas as pd\n",
    "import torch\n",
    "import bindome as bd\n",
    "bd.constants.ANNOTATIONS_DIRECTORY = 'annotations'\n",
    "# mb.models.MultiBind\n",
    "import torch.optim as topti\n",
    "import torch.utils.data as tdata\n",
    "import matplotlib.pyplot as plt\n",
    "import logomaker\n",
    "import os\n",
    "import scipy\n",
    "import pickle\n",
    "\n",
    "# Use a GPU if available, as it should be faster.\n",
    "device = torch.device(\"cuda:0\" if torch.cuda.is_available() else \"cpu\")\n",
    "print(\"Using device: \" + str(device))"
   ]
  },
  {
   "cell_type": "code",
   "execution_count": null,
   "id": "e226d21e-d360-4316-872a-777b6895b51e",
   "metadata": {
    "pycharm": {
     "name": "#%%\n"
    }
   },
   "outputs": [],
   "source": [
    "adata = mb.bindome.datasets.scATAC.PBMCs_10x_v2(datadir='../../atac_poisson_study/data/')\n",
    "peak_ids = adata.var_names"
   ]
  },
  {
   "cell_type": "code",
   "execution_count": null,
   "id": "4c6414ce-fd5d-4022-8366-af929eb2d0b3",
   "metadata": {
    "pycharm": {
     "name": "#%%\n"
    }
   },
   "outputs": [],
   "source": [
    "adata.var['summit'] = ((adata.var['end'] + adata.var['start']) / 2).astype(int)\n",
    "adata.var['summit.start'] = adata.var['summit'] - 100\n",
    "adata.var['summit.end'] = adata.var['summit'] + 100"
   ]
  },
  {
   "cell_type": "code",
   "execution_count": null,
   "id": "2f6301bc-467a-4b74-a736-3e2613aab729",
   "metadata": {
    "pycharm": {
     "name": "#%%\n"
    }
   },
   "outputs": [],
   "source": [
    "adata.var['k.summit'] = adata.var['chr'] + ':' + adata.var['summit.start'].astype(str) + '-' + adata.var['summit.end'].astype(str)"
   ]
  },
  {
   "cell_type": "code",
   "execution_count": null,
   "id": "3cf46010-160b-48b0-91a7-52465540a639",
   "metadata": {
    "pycharm": {
     "name": "#%%\n"
    }
   },
   "outputs": [],
   "source": [
    "adata.shape"
   ]
  },
  {
   "cell_type": "code",
   "execution_count": null,
   "id": "7effe82e-e5d9-4eb2-810d-8aa4cd6b0963",
   "metadata": {
    "pycharm": {
     "name": "#%%\n"
    }
   },
   "outputs": [],
   "source": [
    "n_seqs = 1000\n",
    "seqs = mb.bindome.tl.get_sequences_from_bed(adata.var[['chr', 'summit.start', 'summit.end']].head(n_seqs), genome='hg38', uppercase=True)\n",
    "keys = set([s[0] for s in seqs])\n",
    "adata = adata[:,adata.var['k.summit'].isin(keys)]\n",
    "# seqs = [[s[0], s[1].upper()] for s in seqs[0]]"
   ]
  },
  {
   "cell_type": "code",
   "execution_count": null,
   "id": "983b1890-a1f3-4c58-85da-8c95dd0cbfce",
   "metadata": {
    "pycharm": {
     "name": "#%%\n"
    }
   },
   "outputs": [],
   "source": [
    "!which bedtools"
   ]
  },
  {
   "cell_type": "code",
   "execution_count": null,
   "id": "88a0f698-3282-43bd-835e-af784c80bad1",
   "metadata": {
    "pycharm": {
     "name": "#%%\n"
    }
   },
   "outputs": [],
   "source": [
    "adata.shape"
   ]
  },
  {
   "cell_type": "code",
   "execution_count": null,
   "id": "fbee1199-34d9-495d-a17a-c9a757e63bc4",
   "metadata": {
    "pycharm": {
     "name": "#%%\n"
    }
   },
   "outputs": [],
   "source": [
    "len(seqs)"
   ]
  },
  {
   "cell_type": "code",
   "execution_count": null,
   "id": "43712938-90b9-43f4-8a1d-14c40766ba81",
   "metadata": {
    "pycharm": {
     "name": "#%%\n"
    }
   },
   "outputs": [],
   "source": [
    "# remove Ns\n",
    "seqs = [[s[0], s[1].replace('N', '')] for s in seqs]\n",
    "counts = adata.X.T"
   ]
  },
  {
   "cell_type": "code",
   "execution_count": null,
   "id": "8babeabf-0b8f-478a-b479-121fa62c8408",
   "metadata": {
    "pycharm": {
     "name": "#%%\n"
    }
   },
   "outputs": [],
   "source": [
    "next_data = pd.DataFrame.sparse.from_spmatrix(counts)"
   ]
  },
  {
   "cell_type": "code",
   "execution_count": null,
   "id": "6c7c007a-f087-40d5-8930-acbf575c91b5",
   "metadata": {
    "pycharm": {
     "name": "#%%\n"
    }
   },
   "outputs": [],
   "source": [
    "next_data = next_data[range(100)].copy()"
   ]
  },
  {
   "cell_type": "code",
   "execution_count": null,
   "id": "0d579216-c739-4e93-b686-dda243b07310",
   "metadata": {
    "pycharm": {
     "name": "#%%\n"
    }
   },
   "outputs": [],
   "source": [
    "next_data['seq'] = [s[1] for s in seqs]"
   ]
  },
  {
   "cell_type": "code",
   "execution_count": null,
   "id": "f97306ac-efa3-4f4f-a15d-164788fe5a12",
   "metadata": {
    "pycharm": {
     "name": "#%%\n"
    }
   },
   "outputs": [],
   "source": [
    "next_data"
   ]
  },
  {
   "cell_type": "code",
   "execution_count": null,
   "id": "32ca62c7-c514-4436-8cc2-4533687bb627",
   "metadata": {
    "pycharm": {
     "name": "#%%\n"
    }
   },
   "outputs": [],
   "source": [
    "# next_data[next_data.columns[:-1]].sum(axis=1).sort_values(ascending=False)"
   ]
  },
  {
   "cell_type": "code",
   "execution_count": null,
   "id": "0402f0e4-eee8-429c-bdc7-3da32fbd00ed",
   "metadata": {
    "pycharm": {
     "name": "#%%\n"
    }
   },
   "outputs": [],
   "source": [
    "next_data.head(1000).var(axis=1)"
   ]
  },
  {
   "cell_type": "code",
   "execution_count": null,
   "id": "f51aec63-035e-440d-90ab-03d783a7aac3",
   "metadata": {
    "pycharm": {
     "name": "#%%\n"
    }
   },
   "outputs": [],
   "source": [
    "# next_data.var(axis=1)"
   ]
  },
  {
   "cell_type": "code",
   "execution_count": null,
   "id": "c1d56c4d-003b-4649-991b-e5445046d39b",
   "metadata": {
    "pycharm": {
     "name": "#%%\n"
    }
   },
   "outputs": [],
   "source": [
    "var = []\n",
    "for ri, r in next_data.iterrows():\n",
    "    if ri % 10000 == 0:\n",
    "        print(ri, next_data.shape)\n",
    "    # print(ri, r.values[:-1], r.values[:-1].var())\n",
    "    var.append(r.values[:-1].var())\n",
    "    # break"
   ]
  },
  {
   "cell_type": "code",
   "execution_count": null,
   "id": "f4544a8b-2354-4ded-b2dc-e8b3f7e5ead6",
   "metadata": {
    "pycharm": {
     "name": "#%%\n"
    }
   },
   "outputs": [],
   "source": [
    "next_data['var'] = var"
   ]
  },
  {
   "cell_type": "code",
   "execution_count": null,
   "id": "2cd45e71-f7d5-4813-81af-95b6b93bd924",
   "metadata": {
    "pycharm": {
     "name": "#%%\n"
    }
   },
   "outputs": [],
   "source": [
    "# sum_index = next_data[next_data.columns[:-1]].var(axis=1).sort_values(ascending=False).index"
   ]
  },
  {
   "cell_type": "code",
   "execution_count": null,
   "id": "78bca871-c907-4b78-a0f9-ec5eea75edde",
   "metadata": {
    "pycharm": {
     "name": "#%%\n"
    }
   },
   "outputs": [],
   "source": [
    "top_var = next_data[['var']].sort_values('var', ascending=False).index[:1000]"
   ]
  },
  {
   "cell_type": "code",
   "execution_count": null,
   "id": "8083e53a-9928-4d00-a243-9c40283b4aab",
   "metadata": {
    "pycharm": {
     "name": "#%%\n"
    }
   },
   "outputs": [],
   "source": [
    "# next_data = next_data.head(10000)\n",
    "next_data_sel = next_data.reindex(top_var).reset_index(drop=True)"
   ]
  },
  {
   "cell_type": "code",
   "execution_count": null,
   "id": "609c8c1d-44e5-475b-8031-02f2472df9b8",
   "metadata": {
    "pycharm": {
     "name": "#%%\n"
    }
   },
   "outputs": [],
   "source": [
    "next_data_sel.head()"
   ]
  },
  {
   "cell_type": "code",
   "execution_count": null,
   "id": "6ddde91f-8c11-49b9-8c44-17cb244818c4",
   "metadata": {
    "pycharm": {
     "name": "#%%\n"
    }
   },
   "outputs": [],
   "source": [
    "del next_data_sel['var']\n",
    "next_data_sel.index = next_data_sel['seq']\n",
    "del next_data_sel['seq']"
   ]
  },
  {
   "cell_type": "code",
   "execution_count": null,
   "id": "2e1cf5ad-83a6-4d67-9ee8-a465c2a223f5",
   "metadata": {
    "pycharm": {
     "name": "#%%\n"
    }
   },
   "outputs": [],
   "source": [
    "next_data_sel"
   ]
  },
  {
   "cell_type": "raw",
   "id": "c9acc510-dc15-4c4e-bb2e-aae98b59655e",
   "metadata": {
    "pycharm": {
     "name": "#%% raw\n"
    }
   },
   "source": [
    "--------------------"
   ]
  },
  {
   "cell_type": "code",
   "execution_count": null,
   "id": "832945d9-e298-482d-97ad-4c123bc57a6f",
   "metadata": {
    "pycharm": {
     "name": "#%%\n"
    }
   },
   "outputs": [],
   "source": [
    "df = next_data_sel\n",
    "dataset = mb.datasets.GenomicsDataset(df)\n",
    "train = tdata.DataLoader(dataset=dataset, batch_size=256, shuffle=True)"
   ]
  },
  {
   "cell_type": "code",
   "execution_count": null,
   "id": "79a7c2ca-86f6-4a97-ad3b-d6fe05d46130",
   "metadata": {
    "tags": [],
    "pycharm": {
     "name": "#%%\n"
    }
   },
   "outputs": [],
   "source": [
    "model_atac, best_loss = mb.tl.train_iterative(train, device, num_epochs=500, show_logo=False,\n",
    "                                         early_stopping=50, log_each=50, n_kernels=2)"
   ]
  },
  {
   "cell_type": "code",
   "execution_count": null,
   "id": "935e0e08-1e43-4439-90a7-95e737d8ea90",
   "metadata": {
    "pycharm": {
     "name": "#%%\n"
    }
   },
   "outputs": [],
   "source": [
    "r2 = mb.pl.R2_calculation(model_atac, train)\n",
    "print(\"R^2:\", r2)"
   ]
  },
  {
   "cell_type": "code",
   "execution_count": null,
   "id": "f45e8690-3ecd-4468-b6dc-65a63acae1bf",
   "metadata": {
    "collapsed": true,
    "jupyter": {
     "outputs_hidden": true
    },
    "tags": [],
    "pycharm": {
     "name": "#%%\n"
    }
   },
   "outputs": [],
   "source": [
    "model_atac"
   ]
  },
  {
   "cell_type": "raw",
   "id": "1691dbfb-0211-4987-b8e9-c298e5c80b6a",
   "metadata": {
    "pycharm": {
     "name": "#%% raw\n"
    }
   },
   "source": [
    "--------------------"
   ]
  },
  {
   "cell_type": "code",
   "execution_count": null,
   "id": "61b16eaa-2c0a-4c12-9619-dd1242bf2272",
   "metadata": {
    "pycharm": {
     "name": "#%%\n"
    }
   },
   "outputs": [],
   "source": [
    "df = next_data_sel.copy()\n",
    "dataset = mb.datasets.GenomicsDataset(df)\n",
    "train = tdata.DataLoader(dataset=dataset, batch_size=256, shuffle=True)"
   ]
  },
  {
   "cell_type": "code",
   "execution_count": null,
   "id": "03c5d106-1ae9-4e82-bebf-58b5bf5be508",
   "metadata": {
    "tags": [],
    "pycharm": {
     "name": "#%%\n"
    }
   },
   "outputs": [],
   "source": [
    "model_atac, best_loss = mb.tl.train_iterative(train, device, num_epochs=500, show_logo=False,\n",
    "                                         early_stopping=50, log_each=50, n_kernels=2, joint_learning=True)"
   ]
  },
  {
   "cell_type": "code",
   "execution_count": null,
   "id": "88b14fdd-8d15-40f5-9ca8-a58bbbb11235",
   "metadata": {
    "pycharm": {
     "name": "#%%\n"
    }
   },
   "outputs": [],
   "source": [
    "r2 = mb.pl.R2_calculation(model_atac, train)\n",
    "print(\"R^2:\", r2)"
   ]
  },
  {
   "cell_type": "code",
   "execution_count": null,
   "id": "e7e00e39-9697-416f-a5ea-59b9b915ac7d",
   "metadata": {
    "pycharm": {
     "name": "#%%\n"
    }
   },
   "outputs": [],
   "source": []
  },
  {
   "cell_type": "code",
   "execution_count": null,
   "id": "716d755f-97a3-40fc-8049-f8bbd1f7df4b",
   "metadata": {
    "pycharm": {
     "name": "#%%\n"
    }
   },
   "outputs": [],
   "source": []
  }
 ],
 "metadata": {
  "kernelspec": {
   "name": "conda-env-mubind-py",
   "language": "python",
   "display_name": "Python [conda env:mubind]"
  },
  "language_info": {
   "codemirror_mode": {
    "name": "ipython",
    "version": 3
   },
   "file_extension": ".py",
   "mimetype": "text/x-python",
   "name": "python",
   "nbconvert_exporter": "python",
   "pygments_lexer": "ipython3",
   "version": "3.10.4"
  }
 },
 "nbformat": 4,
 "nbformat_minor": 5
}