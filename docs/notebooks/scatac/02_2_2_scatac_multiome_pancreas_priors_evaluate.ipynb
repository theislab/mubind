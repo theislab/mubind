{
 "cells": [
  {
   "cell_type": "markdown",
   "metadata": {},
   "source": [
    "### Model assessment\n",
    "Here we compared the weights learned by several model iterations, to highlight\n",
    "- Performance user parameter combinations\n",
    "- Interpretation based on TF regulators\n",
    "- Coherence or learned graph-weights when assisting RNA-weights, or only using ATAC-weights"
   ]
  },
  {
   "cell_type": "code",
   "execution_count": null,
   "metadata": {},
   "outputs": [
    {
     "ename": "",
     "evalue": "",
     "output_type": "error",
     "traceback": [
      "\u001b[1;31mFailed to start the Kernel 'mubind (02_2_2_scatac_multiome_pancreas_priors_evaluate.ipynb)'. \n",
      "\u001b[1;31mView Jupyter <a href='command:jupyter.viewOutput'>log</a> for further details. Unable to get resolved server information for ms-toolsai.jupyter:_builtin.jupyterServerUrlProvider:faffaaee-285d-4b41-bf8d-0bcbf9ccf2c5"
     ]
    }
   ],
   "source": [
    "%load_ext autoreload\n",
    "%autoreload 2"
   ]
  },
  {
   "cell_type": "code",
   "execution_count": null,
   "metadata": {},
   "outputs": [
    {
     "ename": "",
     "evalue": "",
     "output_type": "error",
     "traceback": [
      "\u001b[1;31mFailed to start the Kernel 'mubind (02_2_2_scatac_multiome_pancreas_priors_evaluate.ipynb)'. \n",
      "\u001b[1;31mView Jupyter <a href='command:jupyter.viewOutput'>log</a> for further details. Unable to get resolved server information for ms-toolsai.jupyter:_builtin.jupyterServerUrlProvider:faffaaee-285d-4b41-bf8d-0bcbf9ccf2c5"
     ]
    }
   ],
   "source": [
    "cd ~/workspace/theislab/mubind/docs/notebooks/scatac"
   ]
  },
  {
   "cell_type": "code",
   "execution_count": null,
   "metadata": {},
   "outputs": [
    {
     "ename": "",
     "evalue": "",
     "output_type": "error",
     "traceback": [
      "\u001b[1;31mFailed to start the Kernel 'mubind (02_2_2_scatac_multiome_pancreas_priors_evaluate.ipynb)'. \n",
      "\u001b[1;31mView Jupyter <a href='command:jupyter.viewOutput'>log</a> for further details. Unable to get resolved server information for ms-toolsai.jupyter:_builtin.jupyterServerUrlProvider:faffaaee-285d-4b41-bf8d-0bcbf9ccf2c5"
     ]
    }
   ],
   "source": [
    "import torch\n",
    "import mubind as mb\n",
    "import scanpy as sc"
   ]
  },
  {
   "cell_type": "code",
   "execution_count": null,
   "metadata": {},
   "outputs": [
    {
     "ename": "",
     "evalue": "",
     "output_type": "error",
     "traceback": [
      "\u001b[1;31mFailed to start the Kernel 'mubind (02_2_2_scatac_multiome_pancreas_priors_evaluate.ipynb)'. \n",
      "\u001b[1;31mView Jupyter <a href='command:jupyter.viewOutput'>log</a> for further details. Unable to get resolved server information for ms-toolsai.jupyter:_builtin.jupyterServerUrlProvider:faffaaee-285d-4b41-bf8d-0bcbf9ccf2c5"
     ]
    }
   ],
   "source": [
    "# load models\n",
    "model_by_logdynamic = {}\n",
    "for use_logdynamic in [False, True]:\n",
    "    p = 'pancreas_multiome_use_logdynamic_%i.pth' % use_logdynamic\n",
    "    print(p)\n",
    "    model_by_logdynamic[use_logdynamic] = torch.load(p)"
   ]
  },
  {
   "cell_type": "code",
   "execution_count": null,
   "metadata": {},
   "outputs": [
    {
     "ename": "",
     "evalue": "",
     "output_type": "error",
     "traceback": [
      "\u001b[1;31mFailed to start the Kernel 'mubind (02_2_2_scatac_multiome_pancreas_priors_evaluate.ipynb)'. \n",
      "\u001b[1;31mView Jupyter <a href='command:jupyter.viewOutput'>log</a> for further details. Unable to get resolved server information for ms-toolsai.jupyter:_builtin.jupyterServerUrlProvider:faffaaee-285d-4b41-bf8d-0bcbf9ccf2c5"
     ]
    }
   ],
   "source": [
    "ad = sc.read_h5ad('atac_train.h5ad')\n",
    "rna_sample = sc.read_h5ad('rna_sample_train.h5ad')"
   ]
  },
  {
   "cell_type": "code",
   "execution_count": null,
   "metadata": {},
   "outputs": [
    {
     "ename": "",
     "evalue": "",
     "output_type": "error",
     "traceback": [
      "\u001b[1;31mFailed to start the Kernel 'mubind (02_2_2_scatac_multiome_pancreas_priors_evaluate.ipynb)'. \n",
      "\u001b[1;31mView Jupyter <a href='command:jupyter.viewOutput'>log</a> for further details. Unable to get resolved server information for ms-toolsai.jupyter:_builtin.jupyterServerUrlProvider:faffaaee-285d-4b41-bf8d-0bcbf9ccf2c5"
     ]
    }
   ],
   "source": [
    "import pickle\n",
    "train = pickle.load(open('train_dataloader.pkl', 'rb'))"
   ]
  },
  {
   "cell_type": "code",
   "execution_count": null,
   "metadata": {},
   "outputs": [
    {
     "ename": "",
     "evalue": "",
     "output_type": "error",
     "traceback": [
      "\u001b[1;31mFailed to start the Kernel 'mubind (02_2_2_scatac_multiome_pancreas_priors_evaluate.ipynb)'. \n",
      "\u001b[1;31mView Jupyter <a href='command:jupyter.viewOutput'>log</a> for further details. Unable to get resolved server information for ms-toolsai.jupyter:_builtin.jupyterServerUrlProvider:faffaaee-285d-4b41-bf8d-0bcbf9ccf2c5"
     ]
    }
   ],
   "source": [
    "%load_ext line_profiler"
   ]
  },
  {
   "cell_type": "code",
   "execution_count": null,
   "metadata": {},
   "outputs": [
    {
     "ename": "",
     "evalue": "",
     "output_type": "error",
     "traceback": [
      "\u001b[1;31mFailed to start the Kernel 'mubind (02_2_2_scatac_multiome_pancreas_priors_evaluate.ipynb)'. \n",
      "\u001b[1;31mView Jupyter <a href='command:jupyter.viewOutput'>log</a> for further details. Unable to get resolved server information for ms-toolsai.jupyter:_builtin.jupyterServerUrlProvider:faffaaee-285d-4b41-bf8d-0bcbf9ccf2c5"
     ]
    }
   ],
   "source": [
    "# load the pancreas multiome dataset\n",
    "rna, atac = mb.datasets.pancreas_multiome() # data_directory='../../../annotations/scatac')\n"
   ]
  },
  {
   "cell_type": "code",
   "execution_count": null,
   "metadata": {},
   "outputs": [
    {
     "ename": "",
     "evalue": "",
     "output_type": "error",
     "traceback": [
      "\u001b[1;31mFailed to start the Kernel 'mubind (02_2_2_scatac_multiome_pancreas_priors_evaluate.ipynb)'. \n",
      "\u001b[1;31mView Jupyter <a href='command:jupyter.viewOutput'>log</a> for further details. Unable to get resolved server information for ms-toolsai.jupyter:_builtin.jupyterServerUrlProvider:faffaaee-285d-4b41-bf8d-0bcbf9ccf2c5"
     ]
    }
   ],
   "source": [
    "# %lprun -f model.forward model.optimize_iterative(train, n_epochs=10, skip_kernels=list([0]) + list(range(2, 500)), opt_kernel_shift=[0, 0] + [0] * (n_kernels), opt_kernel_length=[0, 0] + [0] * (n_kernels))"
   ]
  },
  {
   "cell_type": "code",
   "execution_count": null,
   "metadata": {},
   "outputs": [
    {
     "ename": "",
     "evalue": "",
     "output_type": "error",
     "traceback": [
      "\u001b[1;31mFailed to start the Kernel 'mubind (02_2_2_scatac_multiome_pancreas_priors_evaluate.ipynb)'. \n",
      "\u001b[1;31mView Jupyter <a href='command:jupyter.viewOutput'>log</a> for further details. Unable to get resolved server information for ms-toolsai.jupyter:_builtin.jupyterServerUrlProvider:faffaaee-285d-4b41-bf8d-0bcbf9ccf2c5"
     ]
    }
   ],
   "source": [
    "# %lprun -f model.binding_modes.forward model.optimize_iterative(train, n_epochs=10, skip_kernels=list([0]) + list(range(2, 500)), opt_kernel_shift=[0, 0] + [0] * (n_kernels), opt_kernel_length=[0, 0] + [0] * (n_kernels))"
   ]
  },
  {
   "cell_type": "code",
   "execution_count": null,
   "metadata": {},
   "outputs": [
    {
     "ename": "",
     "evalue": "",
     "output_type": "error",
     "traceback": [
      "\u001b[1;31mFailed to start the Kernel 'mubind (02_2_2_scatac_multiome_pancreas_priors_evaluate.ipynb)'. \n",
      "\u001b[1;31mView Jupyter <a href='command:jupyter.viewOutput'>log</a> for further details. Unable to get resolved server information for ms-toolsai.jupyter:_builtin.jupyterServerUrlProvider:faffaaee-285d-4b41-bf8d-0bcbf9ccf2c5"
     ]
    }
   ],
   "source": [
    "import matplotlib.pyplot as plt"
   ]
  },
  {
   "cell_type": "code",
   "execution_count": null,
   "metadata": {},
   "outputs": [
    {
     "ename": "",
     "evalue": "",
     "output_type": "error",
     "traceback": [
      "\u001b[1;31mFailed to start the Kernel 'mubind (02_2_2_scatac_multiome_pancreas_priors_evaluate.ipynb)'. \n",
      "\u001b[1;31mView Jupyter <a href='command:jupyter.viewOutput'>log</a> for further details. Unable to get resolved server information for ms-toolsai.jupyter:_builtin.jupyterServerUrlProvider:faffaaee-285d-4b41-bf8d-0bcbf9ccf2c5"
     ]
    }
   ],
   "source": [
    "\n",
    "for optimize_log_dynamic in model_by_logdynamic:\n",
    "    model = model_by_logdynamic[optimize_log_dynamic]\n",
    "    print(optimize_log_dynamic)\n",
    "    from matplotlib import rcParams\n",
    "    rcParams['figure.figsize'] = 20, 5\n",
    "    rcParams['figure.dpi'] = 100\n",
    "    mb.pl.logo(model, n_cols=3, show=True, n_rows=6, stop_at=4) #  log=True)\n",
    "    plt.show()\n"
   ]
  },
  {
   "cell_type": "code",
   "execution_count": null,
   "metadata": {},
   "outputs": [
    {
     "ename": "",
     "evalue": "",
     "output_type": "error",
     "traceback": [
      "\u001b[1;31mFailed to start the Kernel 'mubind (02_2_2_scatac_multiome_pancreas_priors_evaluate.ipynb)'. \n",
      "\u001b[1;31mView Jupyter <a href='command:jupyter.viewOutput'>log</a> for further details. Unable to get resolved server information for ms-toolsai.jupyter:_builtin.jupyterServerUrlProvider:faffaaee-285d-4b41-bf8d-0bcbf9ccf2c5"
     ]
    }
   ],
   "source": [
    "for optimize_log_dynamic in model_by_logdynamic:\n",
    "    if not optimize_log_dynamic:\n",
    "        continue\n",
    "    model = model_by_logdynamic[optimize_log_dynamic]\n",
    "    print(optimize_log_dynamic)\n",
    "\n",
    "    tsum = torch.sum\n",
    "    texp = torch.exp\n",
    "    tspa = torch.sparse_coo_tensor\n",
    "    tsmm = torch.sparse.mm\n",
    "    t = torch.transpose\n",
    "\n",
    "    # connectivities\n",
    "    C = model.graph_module.conn_sparse\n",
    "    a_ind = C.indices()\n",
    "\n",
    "    log_dynamic = model.graph_module.log_dynamic\n",
    "    D = model.graph_module.log_dynamic\n",
    "    D_tril = tspa(a_ind, D, C.shape)  # .requires_grad_(True).cuda()\n",
    "    D_triu = tspa(a_ind, -D, C.shape)  # .requires_grad_(True).cuda()\n",
    "    D = D_tril + t(D_triu, 0, 1)\n",
    "    # log_dynamic = log_dynamic + -torch.transpose(log_dynamic, 0, 1)\n",
    "    # triu_indices = torch.triu_indices(row=n_rounds, col=n_rounds, offset=1)\n",
    "    D\n",
    "\n",
    "    import seaborn as sns\n",
    "    mb.pl.set_rcParams({'figure.figsize': [3, 3]})\n",
    "    sns.heatmap(D.to_dense().detach().cpu(), cmap='RdBu_r')\n",
    "    plt.show()"
   ]
  },
  {
   "cell_type": "code",
   "execution_count": null,
   "metadata": {},
   "outputs": [
    {
     "ename": "",
     "evalue": "",
     "output_type": "error",
     "traceback": [
      "\u001b[1;31mFailed to start the Kernel 'mubind (02_2_2_scatac_multiome_pancreas_priors_evaluate.ipynb)'. \n",
      "\u001b[1;31mView Jupyter <a href='command:jupyter.viewOutput'>log</a> for further details. Unable to get resolved server information for ms-toolsai.jupyter:_builtin.jupyterServerUrlProvider:faffaaee-285d-4b41-bf8d-0bcbf9ccf2c5"
     ]
    }
   ],
   "source": [
    "model = model_by_logdynamic[1]"
   ]
  },
  {
   "cell_type": "code",
   "execution_count": null,
   "metadata": {},
   "outputs": [
    {
     "ename": "",
     "evalue": "",
     "output_type": "error",
     "traceback": [
      "\u001b[1;31mFailed to start the Kernel 'mubind (02_2_2_scatac_multiome_pancreas_priors_evaluate.ipynb)'. \n",
      "\u001b[1;31mView Jupyter <a href='command:jupyter.viewOutput'>log</a> for further details. Unable to get resolved server information for ms-toolsai.jupyter:_builtin.jupyterServerUrlProvider:faffaaee-285d-4b41-bf8d-0bcbf9ccf2c5"
     ]
    }
   ],
   "source": [
    "mb.pl.set_rcParams({'figure.figsize': [12, 3], 'figure.dpi': 110})\n",
    "plt.subplot(1, 4, 1)\n",
    "plt.plot(model.loss_history_log_dynamic)\n",
    "plt.ylabel('log dynamic loss')\n",
    "plt.subplot(1, 4, 2)\n",
    "plt.plot(model.loss_history)\n",
    "plt.ylabel('overall loss')\n",
    "plt.subplot(1, 4, 3)\n",
    "plt.plot(model.loss_history_sym_weights)\n",
    "plt.ylabel('similar weights loss')\n",
    "plt.tight_layout()\n",
    "plt.show()"
   ]
  },
  {
   "cell_type": "code",
   "execution_count": null,
   "metadata": {},
   "outputs": [
    {
     "ename": "",
     "evalue": "",
     "output_type": "error",
     "traceback": [
      "\u001b[1;31mFailed to start the Kernel 'mubind (02_2_2_scatac_multiome_pancreas_priors_evaluate.ipynb)'. \n",
      "\u001b[1;31mView Jupyter <a href='command:jupyter.viewOutput'>log</a> for further details. Unable to get resolved server information for ms-toolsai.jupyter:_builtin.jupyterServerUrlProvider:faffaaee-285d-4b41-bf8d-0bcbf9ccf2c5"
     ]
    }
   ],
   "source": [
    "import pandas as pd\n",
    "import numpy as np"
   ]
  },
  {
   "cell_type": "code",
   "execution_count": null,
   "metadata": {},
   "outputs": [
    {
     "ename": "",
     "evalue": "",
     "output_type": "error",
     "traceback": [
      "\u001b[1;31mFailed to start the Kernel 'mubind (02_2_2_scatac_multiome_pancreas_priors_evaluate.ipynb)'. \n",
      "\u001b[1;31mView Jupyter <a href='command:jupyter.viewOutput'>log</a> for further details. Unable to get resolved server information for ms-toolsai.jupyter:_builtin.jupyterServerUrlProvider:faffaaee-285d-4b41-bf8d-0bcbf9ccf2c5"
     ]
    }
   ],
   "source": [
    "rcParams['figure.figsize'] = 3, 5\n",
    "r2_all = []\n",
    "for optimize_log_dynamic in model_by_logdynamic:\n",
    "    print(optimize_log_dynamic)\n",
    "    model = model_by_logdynamic[optimize_log_dynamic]\n",
    "    # contributions per newly added kernel\n",
    "    import seaborn as sns\n",
    "    if len(model.best_r2_by_new_filter) != 0:\n",
    "        r2 = pd.DataFrame(model.best_r2_by_new_filter, columns=['r2']).reset_index()\n",
    "        r2['opt_log_dynamic'] = optimize_log_dynamic\n",
    "        r2_all.append(r2)\n",
    "\n",
    "if len(r2_all) > 0:\n",
    "    r2_all = pd.concat(r2_all)\n",
    "    rcParams['figure.figsize'] = 3, 3\n",
    "    rcParams['figure.dpi'] = 80\n",
    "    ax = sns.barplot(data=r2_all, x='index', y='r2', hue='opt_log_dynamic', )\n",
    "    sns.move_legend(ax, \"lower center\", bbox_to_anchor=(.4, 1), ncol=3, title=None, frameon=False)\n",
    "\n",
    "    plt.xlabel('number of filters in model')\n",
    "    plt.show()"
   ]
  },
  {
   "cell_type": "code",
   "execution_count": null,
   "metadata": {},
   "outputs": [
    {
     "ename": "",
     "evalue": "",
     "output_type": "error",
     "traceback": [
      "\u001b[1;31mFailed to start the Kernel 'mubind (02_2_2_scatac_multiome_pancreas_priors_evaluate.ipynb)'. \n",
      "\u001b[1;31mView Jupyter <a href='command:jupyter.viewOutput'>log</a> for further details. Unable to get resolved server information for ms-toolsai.jupyter:_builtin.jupyterServerUrlProvider:faffaaee-285d-4b41-bf8d-0bcbf9ccf2c5"
     ]
    }
   ],
   "source": [
    "\n",
    "model = model_by_logdynamic[True]\n",
    "\n",
    "torch.set_printoptions(precision=2)\n",
    "dynamic_score = D.to_dense().detach().cpu().sum(axis=0)\n",
    "# dyn_score\n",
    "dynamic_score = dynamic_score\n",
    "dynamic_score = (dynamic_score - dynamic_score.min()) / (dynamic_score.max() - dynamic_score.min())\n",
    "ad.obs['dynamic_score'] = dynamic_score\n",
    "\n",
    "ad.obs['dynamic_score_cluster'] = np.where(dynamic_score > dynamic_score.mean(), 'dynamic', 'static')\n",
    "z1 = np.where(((dynamic_score - dynamic_score.mean()) / dynamic_score.std()) > 1, 'dynamic', 'static')\n",
    "z2 = np.where(((dynamic_score - dynamic_score.mean()) / dynamic_score.std()) > 2, 'dynamic', 'static')\n",
    "\n",
    "ad.obs['dynamic_score_z1'] = z1\n",
    "ad.obs['dynamic_score_z2'] = z2\n"
   ]
  },
  {
   "cell_type": "code",
   "execution_count": null,
   "metadata": {},
   "outputs": [
    {
     "ename": "",
     "evalue": "",
     "output_type": "error",
     "traceback": [
      "\u001b[1;31mFailed to start the Kernel 'mubind (02_2_2_scatac_multiome_pancreas_priors_evaluate.ipynb)'. \n",
      "\u001b[1;31mView Jupyter <a href='command:jupyter.viewOutput'>log</a> for further details. Unable to get resolved server information for ms-toolsai.jupyter:_builtin.jupyterServerUrlProvider:faffaaee-285d-4b41-bf8d-0bcbf9ccf2c5"
     ]
    }
   ],
   "source": [
    "ad.obs['dynamic_score'].describe()"
   ]
  },
  {
   "cell_type": "code",
   "execution_count": null,
   "metadata": {},
   "outputs": [
    {
     "ename": "",
     "evalue": "",
     "output_type": "error",
     "traceback": [
      "\u001b[1;31mFailed to start the Kernel 'mubind (02_2_2_scatac_multiome_pancreas_priors_evaluate.ipynb)'. \n",
      "\u001b[1;31mView Jupyter <a href='command:jupyter.viewOutput'>log</a> for further details. Unable to get resolved server information for ms-toolsai.jupyter:_builtin.jupyterServerUrlProvider:faffaaee-285d-4b41-bf8d-0bcbf9ccf2c5"
     ]
    }
   ],
   "source": [
    "ad.obs['dynamic_score_abs'] = ad.obs['dynamic_score'].abs()\n",
    "sc.pl.umap(ad, color='dynamic_score_abs', color_map='Reds', vmin=.45)"
   ]
  },
  {
   "cell_type": "code",
   "execution_count": null,
   "metadata": {},
   "outputs": [
    {
     "ename": "",
     "evalue": "",
     "output_type": "error",
     "traceback": [
      "\u001b[1;31mFailed to start the Kernel 'mubind (02_2_2_scatac_multiome_pancreas_priors_evaluate.ipynb)'. \n",
      "\u001b[1;31mView Jupyter <a href='command:jupyter.viewOutput'>log</a> for further details. Unable to get resolved server information for ms-toolsai.jupyter:_builtin.jupyterServerUrlProvider:faffaaee-285d-4b41-bf8d-0bcbf9ccf2c5"
     ]
    }
   ],
   "source": [
    "\n",
    "\n",
    "# contributions per newly added kernel\n",
    "mb.pl.set_rcParams({'figure.figsize': [5, 5], 'figure.dpi': 90})\n",
    "sc.pl.umap(ad, color=['dynamic_score'], cmap='RdBu_r', sort_order=True)\n",
    "sc.pl.umap(ad, color=['dynamic_score_z1'], cmap='RdBu_r', sort_order=True)\n",
    "\n",
    "sc.tl.embedding_density(ad, basis='umap', groupby='dynamic_score_z1')\n",
    "sc.pl.embedding_density(ad, basis='umap', key='umap_density_dynamic_score_z1', group='dynamic') # basis='umap', groupby='dynamic_score_cluster')\n",
    "sc.tl.embedding_density(ad, basis='umap', groupby='dynamic_score_z2')\n",
    "sc.pl.embedding_density(ad, basis='umap', key='umap_density_dynamic_score_z2', group='dynamic', color_map='viridis') # basis='umap', groupby='dynamic_score_cluster')"
   ]
  },
  {
   "cell_type": "code",
   "execution_count": null,
   "metadata": {},
   "outputs": [
    {
     "ename": "",
     "evalue": "",
     "output_type": "error",
     "traceback": [
      "\u001b[1;31mFailed to start the Kernel 'mubind (02_2_2_scatac_multiome_pancreas_priors_evaluate.ipynb)'. \n",
      "\u001b[1;31mView Jupyter <a href='command:jupyter.viewOutput'>log</a> for further details. Unable to get resolved server information for ms-toolsai.jupyter:_builtin.jupyterServerUrlProvider:faffaaee-285d-4b41-bf8d-0bcbf9ccf2c5"
     ]
    }
   ],
   "source": [
    "import seaborn as sns\n",
    "umap = ad.obsm['X_umap']\n",
    "sns.histplot(x=umap[:, 0], y=umap[:, 1], bins=50, cmap='PiYG')"
   ]
  },
  {
   "cell_type": "code",
   "execution_count": null,
   "metadata": {},
   "outputs": [
    {
     "ename": "",
     "evalue": "",
     "output_type": "error",
     "traceback": [
      "\u001b[1;31mFailed to start the Kernel 'mubind (02_2_2_scatac_multiome_pancreas_priors_evaluate.ipynb)'. \n",
      "\u001b[1;31mView Jupyter <a href='command:jupyter.viewOutput'>log</a> for further details. Unable to get resolved server information for ms-toolsai.jupyter:_builtin.jupyterServerUrlProvider:faffaaee-285d-4b41-bf8d-0bcbf9ccf2c5"
     ]
    }
   ],
   "source": [
    "plt.pcolormesh(\n",
    "    np.histogram2d(umap[:, 0], umap[:, 1], bins=50)[0]\n",
    ")"
   ]
  },
  {
   "cell_type": "code",
   "execution_count": null,
   "metadata": {},
   "outputs": [
    {
     "ename": "",
     "evalue": "",
     "output_type": "error",
     "traceback": [
      "\u001b[1;31mFailed to start the Kernel 'mubind (02_2_2_scatac_multiome_pancreas_priors_evaluate.ipynb)'. \n",
      "\u001b[1;31mView Jupyter <a href='command:jupyter.viewOutput'>log</a> for further details. Unable to get resolved server information for ms-toolsai.jupyter:_builtin.jupyterServerUrlProvider:faffaaee-285d-4b41-bf8d-0bcbf9ccf2c5"
     ]
    }
   ],
   "source": [
    "x, y = np.meshgrid(umap[:, 0], umap[:, 1])"
   ]
  },
  {
   "cell_type": "code",
   "execution_count": null,
   "metadata": {},
   "outputs": [
    {
     "ename": "",
     "evalue": "",
     "output_type": "error",
     "traceback": [
      "\u001b[1;31mFailed to start the Kernel 'mubind (02_2_2_scatac_multiome_pancreas_priors_evaluate.ipynb)'. \n",
      "\u001b[1;31mView Jupyter <a href='command:jupyter.viewOutput'>log</a> for further details. Unable to get resolved server information for ms-toolsai.jupyter:_builtin.jupyterServerUrlProvider:faffaaee-285d-4b41-bf8d-0bcbf9ccf2c5"
     ]
    }
   ],
   "source": [
    "x = umap[:,1] # array_txt[:,0]\n",
    "y = umap[:,1] # array_txt[:,1]\n",
    "z = ad.obs['dynamic_score'].values # array_txt[:,2]\n"
   ]
  },
  {
   "cell_type": "code",
   "execution_count": null,
   "metadata": {},
   "outputs": [
    {
     "ename": "",
     "evalue": "",
     "output_type": "error",
     "traceback": [
      "\u001b[1;31mFailed to start the Kernel 'mubind (02_2_2_scatac_multiome_pancreas_priors_evaluate.ipynb)'. \n",
      "\u001b[1;31mView Jupyter <a href='command:jupyter.viewOutput'>log</a> for further details. Unable to get resolved server information for ms-toolsai.jupyter:_builtin.jupyterServerUrlProvider:faffaaee-285d-4b41-bf8d-0bcbf9ccf2c5"
     ]
    }
   ],
   "source": [
    "sc.pl.umap(ad, color='dynamic_score')"
   ]
  },
  {
   "cell_type": "code",
   "execution_count": null,
   "metadata": {},
   "outputs": [
    {
     "ename": "",
     "evalue": "",
     "output_type": "error",
     "traceback": [
      "\u001b[1;31mFailed to start the Kernel 'mubind (02_2_2_scatac_multiome_pancreas_priors_evaluate.ipynb)'. \n",
      "\u001b[1;31mView Jupyter <a href='command:jupyter.viewOutput'>log</a> for further details. Unable to get resolved server information for ms-toolsai.jupyter:_builtin.jupyterServerUrlProvider:faffaaee-285d-4b41-bf8d-0bcbf9ccf2c5"
     ]
    }
   ],
   "source": [
    "import matplotlib.pyplot as plt\n",
    "import numpy as np\n",
    "rcParams['figure.figsize'] = 5, 3\n",
    "\n",
    "# generate 2 2d grids for the x & y bounds\n",
    "y, x = np.meshgrid(np.linspace(-3, 3, 100), np.linspace(-3, 3, 100))\n",
    "z = (1 - x / 2. + x ** 5 + y ** 3) * np.exp(-x ** 2 - y ** 2)\n",
    "z = z[:-1, :-1]\n",
    "z_min, z_max = -np.abs(z).max(), np.abs(z).max()\n",
    "fig, ax = plt.subplots()\n",
    "c = ax.pcolormesh(x, y, z, cmap='RdBu', vmin=z_min, vmax=z_max)\n",
    "ax.set_title('pcolormesh')\n",
    "# set the limits of the plot to the limits of the data\n",
    "ax.axis([x.min(), x.max(), y.min(), y.max()])\n",
    "fig.colorbar(c, ax=ax)\n",
    "\n",
    "plt.show()"
   ]
  },
  {
   "cell_type": "code",
   "execution_count": null,
   "metadata": {},
   "outputs": [
    {
     "ename": "",
     "evalue": "",
     "output_type": "error",
     "traceback": [
      "\u001b[1;31mFailed to start the Kernel 'mubind (02_2_2_scatac_multiome_pancreas_priors_evaluate.ipynb)'. \n",
      "\u001b[1;31mView Jupyter <a href='command:jupyter.viewOutput'>log</a> for further details. Unable to get resolved server information for ms-toolsai.jupyter:_builtin.jupyterServerUrlProvider:faffaaee-285d-4b41-bf8d-0bcbf9ccf2c5"
     ]
    }
   ],
   "source": [
    "import itertools\n",
    "import numpy as np\n",
    "\n",
    "def grid(x, y, z, size_x=1, size_y=1):\n",
    "\n",
    "    def pairwise(iterable):\n",
    "        \"s -> (s0,s1), (s1,s2), (s2, s3), ...\"\n",
    "        a, b = itertools.tee(iterable)\n",
    "        next(b, None)\n",
    "        return zip(a, b)\n",
    "\n",
    "    minx, maxx = int(min(x)), int(max(x)) + 1\n",
    "    miny, maxy = int(min(y)), int(max(y)) + 1\n",
    "\n",
    "    result = []\n",
    "    x_edges = pairwise(np.arange(minx, maxx + 1, size_x))\n",
    "    for xleft, xright in x_edges:\n",
    "        xmask = np.logical_and(x >= xleft, x < xright)\n",
    "        y_edges = pairwise(np.arange(miny, maxy + 1, size_y))\n",
    "        for yleft, yright in y_edges:\n",
    "            ymask = np.logical_and(y >= yleft, y < yright)\n",
    "            cell = z[np.logical_and(xmask, ymask)]\n",
    "            result.append(cell.sum())\n",
    "\n",
    "    result = np.array(result).reshape((maxx - minx, maxy - miny))\n",
    "    return np.flip(result.T, 0)\n"
   ]
  },
  {
   "cell_type": "code",
   "execution_count": null,
   "metadata": {},
   "outputs": [
    {
     "ename": "",
     "evalue": "",
     "output_type": "error",
     "traceback": [
      "\u001b[1;31mFailed to start the Kernel 'mubind (02_2_2_scatac_multiome_pancreas_priors_evaluate.ipynb)'. \n",
      "\u001b[1;31mView Jupyter <a href='command:jupyter.viewOutput'>log</a> for further details. Unable to get resolved server information for ms-toolsai.jupyter:_builtin.jupyterServerUrlProvider:faffaaee-285d-4b41-bf8d-0bcbf9ccf2c5"
     ]
    }
   ],
   "source": [
    "grid_dyn_score = grid(umap[:,0], umap[:,1], ad.obs['dynamic_score'], size_x=1, size_y=1)\n",
    "grid_counts = grid(umap[:,0], umap[:,1], ad.obs['celltype'].cat.codes.values, size_x=1, size_y=1)"
   ]
  },
  {
   "cell_type": "code",
   "execution_count": null,
   "metadata": {},
   "outputs": [
    {
     "ename": "",
     "evalue": "",
     "output_type": "error",
     "traceback": [
      "\u001b[1;31mFailed to start the Kernel 'mubind (02_2_2_scatac_multiome_pancreas_priors_evaluate.ipynb)'. \n",
      "\u001b[1;31mView Jupyter <a href='command:jupyter.viewOutput'>log</a> for further details. Unable to get resolved server information for ms-toolsai.jupyter:_builtin.jupyterServerUrlProvider:faffaaee-285d-4b41-bf8d-0bcbf9ccf2c5"
     ]
    }
   ],
   "source": [
    "\n",
    "sns.heatmap(grid_dyn_score, cmap='Reds')\n",
    "plt.show()\n",
    "sns.heatmap(grid_counts, cmap='Reds')\n",
    "plt.show()\n",
    "\n",
    "sc.pl.umap(ad, color='celltype')"
   ]
  },
  {
   "cell_type": "code",
   "execution_count": null,
   "metadata": {},
   "outputs": [
    {
     "ename": "",
     "evalue": "",
     "output_type": "error",
     "traceback": [
      "\u001b[1;31mFailed to start the Kernel 'mubind (02_2_2_scatac_multiome_pancreas_priors_evaluate.ipynb)'. \n",
      "\u001b[1;31mView Jupyter <a href='command:jupyter.viewOutput'>log</a> for further details. Unable to get resolved server information for ms-toolsai.jupyter:_builtin.jupyterServerUrlProvider:faffaaee-285d-4b41-bf8d-0bcbf9ccf2c5"
     ]
    }
   ],
   "source": [
    "# for optimize_log_dynamic in model_by_logdynamic:\n",
    "#     mb.pl.set_rcParams({'figure.figsize': [3, 3], 'figure.dpi': 90})\n",
    "#     print(optimize_log_dynamic)\n",
    "#     model = model_by_logdynamic[optimize_log_dynamic]\n",
    "#     mb.pl.kmer_enrichment(model, train, log_scale=False, style='scatter', ylab='t1', xlab='p1', k=8)\n",
    "#     plt.show()\n",
    "\n",
    "#     mb.pl.set_rcParams({'figure.figsize': [10, 7], 'figure.dpi': 90})\n",
    "#     mb.pl.logo(model,\n",
    "#                title=False,\n",
    "#                xticks=False,\n",
    "#                rowspan_dinuc=0,\n",
    "#                rowspan_mono=1,\n",
    "#                n_rows=12,\n",
    "#                n_cols=3,\n",
    "#                stop_at=20) # n_cols=len(reduced_groups))\n",
    "#     plt.show()\n"
   ]
  },
  {
   "cell_type": "code",
   "execution_count": null,
   "metadata": {},
   "outputs": [
    {
     "ename": "",
     "evalue": "",
     "output_type": "error",
     "traceback": [
      "\u001b[1;31mFailed to start the Kernel 'mubind (02_2_2_scatac_multiome_pancreas_priors_evaluate.ipynb)'. \n",
      "\u001b[1;31mView Jupyter <a href='command:jupyter.viewOutput'>log</a> for further details. Unable to get resolved server information for ms-toolsai.jupyter:_builtin.jupyterServerUrlProvider:faffaaee-285d-4b41-bf8d-0bcbf9ccf2c5"
     ]
    }
   ],
   "source": [
    "model = model_by_logdynamic[True]"
   ]
  },
  {
   "cell_type": "code",
   "execution_count": null,
   "metadata": {},
   "outputs": [
    {
     "ename": "",
     "evalue": "",
     "output_type": "error",
     "traceback": [
      "\u001b[1;31mFailed to start the Kernel 'mubind (02_2_2_scatac_multiome_pancreas_priors_evaluate.ipynb)'. \n",
      "\u001b[1;31mView Jupyter <a href='command:jupyter.viewOutput'>log</a> for further details. Unable to get resolved server information for ms-toolsai.jupyter:_builtin.jupyterServerUrlProvider:faffaaee-285d-4b41-bf8d-0bcbf9ccf2c5"
     ]
    }
   ],
   "source": [
    "G = model.graph_module.conn_sparse.detach().cpu().to_dense() # (C, C)"
   ]
  },
  {
   "cell_type": "code",
   "execution_count": null,
   "metadata": {},
   "outputs": [
    {
     "ename": "",
     "evalue": "",
     "output_type": "error",
     "traceback": [
      "\u001b[1;31mFailed to start the Kernel 'mubind (02_2_2_scatac_multiome_pancreas_priors_evaluate.ipynb)'. \n",
      "\u001b[1;31mView Jupyter <a href='command:jupyter.viewOutput'>log</a> for further details. Unable to get resolved server information for ms-toolsai.jupyter:_builtin.jupyterServerUrlProvider:faffaaee-285d-4b41-bf8d-0bcbf9ccf2c5"
     ]
    }
   ],
   "source": [
    "# number of non_zero weights\n",
    "len(G[G != 0])"
   ]
  },
  {
   "cell_type": "code",
   "execution_count": null,
   "metadata": {},
   "outputs": [
    {
     "ename": "",
     "evalue": "",
     "output_type": "error",
     "traceback": [
      "\u001b[1;31mFailed to start the Kernel 'mubind (02_2_2_scatac_multiome_pancreas_priors_evaluate.ipynb)'. \n",
      "\u001b[1;31mView Jupyter <a href='command:jupyter.viewOutput'>log</a> for further details. Unable to get resolved server information for ms-toolsai.jupyter:_builtin.jupyterServerUrlProvider:faffaaee-285d-4b41-bf8d-0bcbf9ccf2c5"
     ]
    }
   ],
   "source": [
    "# output = model(**inputs, use_conn=False, return_binding_scores=True)"
   ]
  },
  {
   "cell_type": "code",
   "execution_count": null,
   "metadata": {},
   "outputs": [
    {
     "ename": "",
     "evalue": "",
     "output_type": "error",
     "traceback": [
      "\u001b[1;31mFailed to start the Kernel 'mubind (02_2_2_scatac_multiome_pancreas_priors_evaluate.ipynb)'. \n",
      "\u001b[1;31mView Jupyter <a href='command:jupyter.viewOutput'>log</a> for further details. Unable to get resolved server information for ms-toolsai.jupyter:_builtin.jupyterServerUrlProvider:faffaaee-285d-4b41-bf8d-0bcbf9ccf2c5"
     ]
    }
   ],
   "source": [
    "print('here...')"
   ]
  },
  {
   "cell_type": "code",
   "execution_count": null,
   "metadata": {},
   "outputs": [
    {
     "ename": "",
     "evalue": "",
     "output_type": "error",
     "traceback": [
      "\u001b[1;31mFailed to start the Kernel 'mubind (02_2_2_scatac_multiome_pancreas_priors_evaluate.ipynb)'. \n",
      "\u001b[1;31mView Jupyter <a href='command:jupyter.viewOutput'>log</a> for further details. Unable to get resolved server information for ms-toolsai.jupyter:_builtin.jupyterServerUrlProvider:faffaaee-285d-4b41-bf8d-0bcbf9ccf2c5"
     ]
    }
   ],
   "source": [
    "ad"
   ]
  },
  {
   "cell_type": "code",
   "execution_count": null,
   "metadata": {},
   "outputs": [
    {
     "ename": "",
     "evalue": "",
     "output_type": "error",
     "traceback": [
      "\u001b[1;31mFailed to start the Kernel 'mubind (02_2_2_scatac_multiome_pancreas_priors_evaluate.ipynb)'. \n",
      "\u001b[1;31mView Jupyter <a href='command:jupyter.viewOutput'>log</a> for further details. Unable to get resolved server information for ms-toolsai.jupyter:_builtin.jupyterServerUrlProvider:faffaaee-285d-4b41-bf8d-0bcbf9ccf2c5"
     ]
    }
   ],
   "source": [
    "model = model.cuda()"
   ]
  },
  {
   "cell_type": "code",
   "execution_count": null,
   "metadata": {},
   "outputs": [
    {
     "ename": "",
     "evalue": "",
     "output_type": "error",
     "traceback": [
      "\u001b[1;31mFailed to start the Kernel 'mubind (02_2_2_scatac_multiome_pancreas_priors_evaluate.ipynb)'. \n",
      "\u001b[1;31mView Jupyter <a href='command:jupyter.viewOutput'>log</a> for further details. Unable to get resolved server information for ms-toolsai.jupyter:_builtin.jupyterServerUrlProvider:faffaaee-285d-4b41-bf8d-0bcbf9ccf2c5"
     ]
    }
   ],
   "source": [
    "device = torch.device(\"cuda:0\" if torch.cuda.is_available() else \"cpu\")\n",
    "# device"
   ]
  },
  {
   "cell_type": "code",
   "execution_count": null,
   "metadata": {},
   "outputs": [
    {
     "ename": "",
     "evalue": "",
     "output_type": "error",
     "traceback": [
      "\u001b[1;31mFailed to start the Kernel 'mubind (02_2_2_scatac_multiome_pancreas_priors_evaluate.ipynb)'. \n",
      "\u001b[1;31mView Jupyter <a href='command:jupyter.viewOutput'>log</a> for further details. Unable to get resolved server information for ms-toolsai.jupyter:_builtin.jupyterServerUrlProvider:faffaaee-285d-4b41-bf8d-0bcbf9ccf2c5"
     ]
    }
   ],
   "source": [
    "for optimize_log_dynamic in model_by_logdynamic:\n",
    "    print(optimize_log_dynamic)\n",
    "    if not optimize_log_dynamic:\n",
    "        continue\n",
    "    model = model_by_logdynamic[optimize_log_dynamic].cuda()\n",
    "\n",
    "    umap = ad.obsm['X_umap'].copy()\n",
    "    umap = np.sort(umap, 0)\n",
    "\n",
    "    x = umap[:,0]\n",
    "    y = umap[:,1]\n",
    "    X, Y = np.meshgrid(x, y)\n",
    "\n",
    "    n_points = x.shape[0]\n",
    "    # x-component to the right\n",
    "    u = np.ones((n_points, n_points))\n",
    "    # y-component zero\n",
    "    v = np.zeros((n_points, n_points))\n",
    "\n",
    "    pred = []\n",
    "    for i, batch in enumerate(train):\n",
    "        # Get a batch and potentially send it to GPU memory.\n",
    "        mononuc = batch[\"mononuc\"].to(device)\n",
    "        # print(i, mononuc.shape)\n",
    "        b = batch[\"batch\"].to(device) if \"batch\" in batch else None\n",
    "        rounds = batch[\"rounds\"].to(device) if \"rounds\" in batch else None\n",
    "        countsum = batch[\"countsum\"].to(device) if \"countsum\" in batch else None\n",
    "        seq = batch[\"seq\"] if \"seq\" in batch else None\n",
    "        residues = batch[\"residues\"].to(device) if \"residues\" in batch else None\n",
    "        if residues is not None and train.dataset.store_rev:\n",
    "            mononuc_rev = batch[\"mononuc_rev\"].to(device)\n",
    "            inputs = {\"mono\": mononuc, \"mono_rev\": mononuc_rev, \"batch\": b, \"countsum\": countsum,\n",
    "                      \"residues\": residues}\n",
    "        elif residues is not None:\n",
    "            inputs = {\"mono\": mononuc, \"batch\": b, \"countsum\": countsum, \"residues\": residues}\n",
    "        elif train.dataset.store_rev:\n",
    "            mononuc_rev = batch[\"mononuc_rev\"].to(device)\n",
    "            inputs = {\"mono\": mononuc, \"mono_rev\": mononuc_rev, \"batch\": b, \"countsum\": countsum}\n",
    "        else:\n",
    "            inputs = {\"mono\": mononuc, \"batch\": b, \"countsum\": countsum}\n",
    "\n",
    "        inputs['scale_countsum'] = model.datatype == 'selex'\n",
    "        output = model(**inputs, use_conn=False, return_binding_scores=True)\n",
    "\n",
    "        output = output.cpu().detach().numpy()\n",
    "        print('here...')\n",
    "        print(output.shape)\n",
    "\n",
    "        print(output.sum())\n",
    "        pred.append(output)\n",
    "\n",
    "    # pred = np.concatenate(pred).T\n",
    "\n",
    "    binding_scores = np.concatenate(pred).T\n",
    "\n",
    "\n",
    "    # ad.layers['velocity'] = pred\n",
    "    \n",
    "    # conn = model.graph_module.conn_sparse.detach().cpu()\n",
    "    # conn = model.graph_module.conn_sparse.detach().cpu().to_dense()\n",
    "    # v = conn.sum(axis=1)\n",
    "    # ad.layers['velocity'] = torch.stack([v,] * ad.shape[1], axis=1).numpy()\n",
    "    \n",
    "    # ad.layers['counts'] = ad.X\n",
    "\n",
    "    # mb.pl.set_rcParams({'figure.figsize': [5, 4], 'figure.dpi': 90})\n",
    "    # plt.hist(model.graph_module.conn_sparse.values().detach().cpu().numpy())\n",
    "    # plt.show()\n",
    "\n",
    "    # import scvelo as scv\n",
    "\n",
    "    # sc.pp.neighbors(ad)\n",
    "\n",
    "    # # scv.tl.velocity_graph(ad, vkey='velocity', xkey='counts')\n",
    "    # # ad.layers['velocity'] = ad.obs['dynamic_score']\n",
    "    \n",
    "    # scv.tl.velocity_graph(ad, vkey='velocity', xkey='counts')\n",
    "    # ax = scv.pl.velocity_embedding_stream(ad, color='celltype', show=False) #  X_grid='X_umap', V=V)\n",
    "\n",
    "\n",
    "X = ad.X.A\n",
    "G @ binding_scores\n",
    "np.random.shuffle(binding_scores)"
   ]
  },
  {
   "cell_type": "code",
   "execution_count": null,
   "metadata": {},
   "outputs": [
    {
     "ename": "",
     "evalue": "",
     "output_type": "error",
     "traceback": [
      "\u001b[1;31mFailed to start the Kernel 'mubind (02_2_2_scatac_multiome_pancreas_priors_evaluate.ipynb)'. \n",
      "\u001b[1;31mView Jupyter <a href='command:jupyter.viewOutput'>log</a> for further details. Unable to get resolved server information for ms-toolsai.jupyter:_builtin.jupyterServerUrlProvider:faffaaee-285d-4b41-bf8d-0bcbf9ccf2c5"
     ]
    }
   ],
   "source": [
    "import scvelo as scv"
   ]
  },
  {
   "cell_type": "code",
   "execution_count": null,
   "metadata": {},
   "outputs": [
    {
     "ename": "",
     "evalue": "",
     "output_type": "error",
     "traceback": [
      "\u001b[1;31mFailed to start the Kernel 'mubind (02_2_2_scatac_multiome_pancreas_priors_evaluate.ipynb)'. \n",
      "\u001b[1;31mView Jupyter <a href='command:jupyter.viewOutput'>log</a> for further details. Unable to get resolved server information for ms-toolsai.jupyter:_builtin.jupyterServerUrlProvider:faffaaee-285d-4b41-bf8d-0bcbf9ccf2c5"
     ]
    }
   ],
   "source": [
    "ad\n",
    "ad.layers['velocity'] = binding_scores\n",
    "# scv.tl.velocity_graph(ad, vkey='velocity', xkey='counts')\n",
    "# ax = scv.pl.velocity_embedding_stream(ad, color='celltype', show=False) #  X_grid='X_umap', V=V)"
   ]
  },
  {
   "cell_type": "code",
   "execution_count": null,
   "metadata": {},
   "outputs": [
    {
     "ename": "",
     "evalue": "",
     "output_type": "error",
     "traceback": [
      "\u001b[1;31mFailed to start the Kernel 'mubind (02_2_2_scatac_multiome_pancreas_priors_evaluate.ipynb)'. \n",
      "\u001b[1;31mView Jupyter <a href='command:jupyter.viewOutput'>log</a> for further details. Unable to get resolved server information for ms-toolsai.jupyter:_builtin.jupyterServerUrlProvider:faffaaee-285d-4b41-bf8d-0bcbf9ccf2c5"
     ]
    }
   ],
   "source": [
    "np.random.shuffle(binding_scores)\n",
    "binding_scores"
   ]
  },
  {
   "cell_type": "code",
   "execution_count": null,
   "metadata": {},
   "outputs": [
    {
     "ename": "",
     "evalue": "",
     "output_type": "error",
     "traceback": [
      "\u001b[1;31mFailed to start the Kernel 'mubind (02_2_2_scatac_multiome_pancreas_priors_evaluate.ipynb)'. \n",
      "\u001b[1;31mView Jupyter <a href='command:jupyter.viewOutput'>log</a> for further details. Unable to get resolved server information for ms-toolsai.jupyter:_builtin.jupyterServerUrlProvider:faffaaee-285d-4b41-bf8d-0bcbf9ccf2c5"
     ]
    }
   ],
   "source": [
    "try:\n",
    "    scv.pl.velocity_embedding_stream(rna_sample, color='celltype')\n",
    "except Exception:\n",
    "    print(\"sample too small.\")"
   ]
  },
  {
   "cell_type": "code",
   "execution_count": null,
   "metadata": {},
   "outputs": [
    {
     "ename": "",
     "evalue": "",
     "output_type": "error",
     "traceback": [
      "\u001b[1;31mFailed to start the Kernel 'mubind (02_2_2_scatac_multiome_pancreas_priors_evaluate.ipynb)'. \n",
      "\u001b[1;31mView Jupyter <a href='command:jupyter.viewOutput'>log</a> for further details. Unable to get resolved server information for ms-toolsai.jupyter:_builtin.jupyterServerUrlProvider:faffaaee-285d-4b41-bf8d-0bcbf9ccf2c5"
     ]
    }
   ],
   "source": [
    "# np.random.shuffle(binding_scores)\n",
    "# ad.layers['velocity'] = binding_scores\n",
    "# scv.tl.velocity_graph(ad, vkey='velocity', xkey='counts')\n",
    "# ax = scv.pl.velocity_embedding_stream(ad, color='celltype', show=False) #  X_grid='X_umap', V=V)"
   ]
  },
  {
   "cell_type": "code",
   "execution_count": null,
   "metadata": {},
   "outputs": [
    {
     "ename": "",
     "evalue": "",
     "output_type": "error",
     "traceback": [
      "\u001b[1;31mFailed to start the Kernel 'mubind (02_2_2_scatac_multiome_pancreas_priors_evaluate.ipynb)'. \n",
      "\u001b[1;31mView Jupyter <a href='command:jupyter.viewOutput'>log</a> for further details. Unable to get resolved server information for ms-toolsai.jupyter:_builtin.jupyterServerUrlProvider:faffaaee-285d-4b41-bf8d-0bcbf9ccf2c5"
     ]
    }
   ],
   "source": [
    "import seaborn as sns\n",
    "act = model.get_log_activities().detach().cpu().squeeze(0)\n",
    "sns.heatmap(act, cmap='RdBu_r', cbar_kws={'label': 'activities'})"
   ]
  },
  {
   "cell_type": "code",
   "execution_count": null,
   "metadata": {},
   "outputs": [
    {
     "ename": "",
     "evalue": "",
     "output_type": "error",
     "traceback": [
      "\u001b[1;31mFailed to start the Kernel 'mubind (02_2_2_scatac_multiome_pancreas_priors_evaluate.ipynb)'. \n",
      "\u001b[1;31mView Jupyter <a href='command:jupyter.viewOutput'>log</a> for further details. Unable to get resolved server information for ms-toolsai.jupyter:_builtin.jupyterServerUrlProvider:faffaaee-285d-4b41-bf8d-0bcbf9ccf2c5"
     ]
    }
   ],
   "source": [
    "scv.pl.velocity_graph(rna)"
   ]
  },
  {
   "cell_type": "code",
   "execution_count": null,
   "metadata": {},
   "outputs": [
    {
     "ename": "",
     "evalue": "",
     "output_type": "error",
     "traceback": [
      "\u001b[1;31mFailed to start the Kernel 'mubind (02_2_2_scatac_multiome_pancreas_priors_evaluate.ipynb)'. \n",
      "\u001b[1;31mView Jupyter <a href='command:jupyter.viewOutput'>log</a> for further details. Unable to get resolved server information for ms-toolsai.jupyter:_builtin.jupyterServerUrlProvider:faffaaee-285d-4b41-bf8d-0bcbf9ccf2c5"
     ]
    }
   ],
   "source": [
    "\n",
    "# ax = scv.pl.velocity_embedding_stream(ad,\n",
    "#                                       color='celltype',\n",
    "#                                       # density=2,\n",
    "#                                       arrow_color='black',\n",
    "#                                       n_neighbors=15) # show=False) #  X_grid='X_umap', V=V)"
   ]
  },
  {
   "cell_type": "code",
   "execution_count": null,
   "metadata": {},
   "outputs": [
    {
     "ename": "",
     "evalue": "",
     "output_type": "error",
     "traceback": [
      "\u001b[1;31mFailed to start the Kernel 'mubind (02_2_2_scatac_multiome_pancreas_priors_evaluate.ipynb)'. \n",
      "\u001b[1;31mView Jupyter <a href='command:jupyter.viewOutput'>log</a> for further details. Unable to get resolved server information for ms-toolsai.jupyter:_builtin.jupyterServerUrlProvider:faffaaee-285d-4b41-bf8d-0bcbf9ccf2c5"
     ]
    }
   ],
   "source": [
    "# ax = scv.pl.velocity_embedding_stream(ad, color='celltype', density=2, arrow_color='black', n_neighbors=15) # show=False) #  X_grid='X_umap', V=V)"
   ]
  },
  {
   "cell_type": "code",
   "execution_count": null,
   "metadata": {},
   "outputs": [
    {
     "ename": "",
     "evalue": "",
     "output_type": "error",
     "traceback": [
      "\u001b[1;31mFailed to start the Kernel 'mubind (02_2_2_scatac_multiome_pancreas_priors_evaluate.ipynb)'. \n",
      "\u001b[1;31mView Jupyter <a href='command:jupyter.viewOutput'>log</a> for further details. Unable to get resolved server information for ms-toolsai.jupyter:_builtin.jupyterServerUrlProvider:faffaaee-285d-4b41-bf8d-0bcbf9ccf2c5"
     ]
    }
   ],
   "source": [
    "# scv.pl.velocity_embedding_stream(ad, color='celltype', n_neighbors=15) #  X_grid='X_umap', V=V)"
   ]
  },
  {
   "cell_type": "markdown",
   "metadata": {},
   "source": [
    "## Study the asssociations betweeen obtained weights and cluster-specific transcription factors\n",
    "\n",
    "Load information from archetypes DB (Vierstra et al 2020)"
   ]
  },
  {
   "cell_type": "code",
   "execution_count": null,
   "metadata": {},
   "outputs": [
    {
     "ename": "",
     "evalue": "",
     "output_type": "error",
     "traceback": [
      "\u001b[1;31mFailed to start the Kernel 'mubind (02_2_2_scatac_multiome_pancreas_priors_evaluate.ipynb)'. \n",
      "\u001b[1;31mView Jupyter <a href='command:jupyter.viewOutput'>log</a> for further details. Unable to get resolved server information for ms-toolsai.jupyter:_builtin.jupyterServerUrlProvider:faffaaee-285d-4b41-bf8d-0bcbf9ccf2c5"
     ]
    }
   ],
   "source": [
    "rna_sample, ad.shape"
   ]
  },
  {
   "cell_type": "code",
   "execution_count": null,
   "metadata": {},
   "outputs": [
    {
     "ename": "",
     "evalue": "",
     "output_type": "error",
     "traceback": [
      "\u001b[1;31mFailed to start the Kernel 'mubind (02_2_2_scatac_multiome_pancreas_priors_evaluate.ipynb)'. \n",
      "\u001b[1;31mView Jupyter <a href='command:jupyter.viewOutput'>log</a> for further details. Unable to get resolved server information for ms-toolsai.jupyter:_builtin.jupyterServerUrlProvider:faffaaee-285d-4b41-bf8d-0bcbf9ccf2c5"
     ]
    }
   ],
   "source": [
    "rna_sel = rna_sample # rna[rna.obs_names.isin(ad.obs_names),:].copy()\n",
    "rna_sel.shape"
   ]
  },
  {
   "cell_type": "code",
   "execution_count": null,
   "metadata": {},
   "outputs": [
    {
     "ename": "",
     "evalue": "",
     "output_type": "error",
     "traceback": [
      "\u001b[1;31mFailed to start the Kernel 'mubind (02_2_2_scatac_multiome_pancreas_priors_evaluate.ipynb)'. \n",
      "\u001b[1;31mView Jupyter <a href='command:jupyter.viewOutput'>log</a> for further details. Unable to get resolved server information for ms-toolsai.jupyter:_builtin.jupyterServerUrlProvider:faffaaee-285d-4b41-bf8d-0bcbf9ccf2c5"
     ]
    }
   ],
   "source": [
    "pwd"
   ]
  },
  {
   "cell_type": "code",
   "execution_count": null,
   "metadata": {},
   "outputs": [
    {
     "ename": "",
     "evalue": "",
     "output_type": "error",
     "traceback": [
      "\u001b[1;31mFailed to start the Kernel 'mubind (02_2_2_scatac_multiome_pancreas_priors_evaluate.ipynb)'. \n",
      "\u001b[1;31mView Jupyter <a href='command:jupyter.viewOutput'>log</a> for further details. Unable to get resolved server information for ms-toolsai.jupyter:_builtin.jupyterServerUrlProvider:faffaaee-285d-4b41-bf8d-0bcbf9ccf2c5"
     ]
    }
   ],
   "source": [
    "import bindome as bd\n",
    "bd.constants.ANNOTATIONS_DIRECTORY = 'annotations'\n",
    "\n",
    "anno = mb.datasets.archetypes_anno()"
   ]
  },
  {
   "cell_type": "code",
   "execution_count": null,
   "metadata": {},
   "outputs": [
    {
     "ename": "",
     "evalue": "",
     "output_type": "error",
     "traceback": [
      "\u001b[1;31mFailed to start the Kernel 'mubind (02_2_2_scatac_multiome_pancreas_priors_evaluate.ipynb)'. \n",
      "\u001b[1;31mView Jupyter <a href='command:jupyter.viewOutput'>log</a> for further details. Unable to get resolved server information for ms-toolsai.jupyter:_builtin.jupyterServerUrlProvider:faffaaee-285d-4b41-bf8d-0bcbf9ccf2c5"
     ]
    }
   ],
   "source": [
    "rna_sel.shape\n",
    "anno.sort_values('Cluster_ID')"
   ]
  },
  {
   "cell_type": "code",
   "execution_count": null,
   "metadata": {},
   "outputs": [
    {
     "ename": "",
     "evalue": "",
     "output_type": "error",
     "traceback": [
      "\u001b[1;31mFailed to start the Kernel 'mubind (02_2_2_scatac_multiome_pancreas_priors_evaluate.ipynb)'. \n",
      "\u001b[1;31mView Jupyter <a href='command:jupyter.viewOutput'>log</a> for further details. Unable to get resolved server information for ms-toolsai.jupyter:_builtin.jupyterServerUrlProvider:faffaaee-285d-4b41-bf8d-0bcbf9ccf2c5"
     ]
    }
   ],
   "source": [
    "for optimize_log_dynamic in model_by_logdynamic:\n",
    "    print(optimize_log_dynamic)\n",
    "    model = model_by_logdynamic[optimize_log_dynamic]\n",
    "    log_act = torch.stack(list(model.activities.log_activities), dim=1).squeeze(0).T\n",
    "    log_act = pd.DataFrame(log_act.detach().cpu().numpy())\n",
    "    # log_act.columns = anno['Seed_motif'][2]\n",
    "    # log_act.columns = ['intercept', 'dinuc_bias'] + list(anno['Seed_motif'].values)\n",
    "    log_act.index = ad.obs_names\n",
    "    ad.obsm['mubind_activities'] = log_act\n",
    "\n",
    "    mb.pl.set_rcParams({'figure.figsize': [5, 3], 'figure.dpi': 110})\n",
    "    delta = (log_act.max(axis=0) - log_act.min(axis=0))\n",
    "    var = log_act.var(axis=0)\n",
    "    plt.scatter(delta, var, color='gray', edgecolors='black')\n",
    "    plt.xlabel('effect size')\n",
    "    plt.ylabel('variability')\n",
    "    plt.title('TF modules (by score) | GraphLayer = %i' % optimize_log_dynamic )\n",
    "    plt.show()"
   ]
  },
  {
   "cell_type": "code",
   "execution_count": null,
   "metadata": {},
   "outputs": [
    {
     "ename": "",
     "evalue": "",
     "output_type": "error",
     "traceback": [
      "\u001b[1;31mFailed to start the Kernel 'mubind (02_2_2_scatac_multiome_pancreas_priors_evaluate.ipynb)'. \n",
      "\u001b[1;31mView Jupyter <a href='command:jupyter.viewOutput'>log</a> for further details. Unable to get resolved server information for ms-toolsai.jupyter:_builtin.jupyterServerUrlProvider:faffaaee-285d-4b41-bf8d-0bcbf9ccf2c5"
     ]
    }
   ],
   "source": [
    "# unique names for annotation\n",
    "names = anno['Name'] # .sort_values('Name')\n",
    "added = dict()\n",
    "new_name = []\n",
    "for name in names:\n",
    "    if not name in added:\n",
    "        new_name.append(name)\n",
    "        added[name] = 0\n",
    "    else:\n",
    "        new_name.append(name + '_%i' % added[name])\n",
    "        added[name] += 1\n",
    "anno['Name_unique'] = new_name\n"
   ]
  },
  {
   "cell_type": "code",
   "execution_count": null,
   "metadata": {},
   "outputs": [
    {
     "ename": "",
     "evalue": "",
     "output_type": "error",
     "traceback": [
      "\u001b[1;31mFailed to start the Kernel 'mubind (02_2_2_scatac_multiome_pancreas_priors_evaluate.ipynb)'. \n",
      "\u001b[1;31mView Jupyter <a href='command:jupyter.viewOutput'>log</a> for further details. Unable to get resolved server information for ms-toolsai.jupyter:_builtin.jupyterServerUrlProvider:faffaaee-285d-4b41-bf8d-0bcbf9ccf2c5"
     ]
    }
   ],
   "source": [
    "from scipy.stats import spearmanr\n",
    "res = []\n",
    "for optimize_log_dynamic in model_by_logdynamic:\n",
    "    if not optimize_log_dynamic:\n",
    "        continue\n",
    "\n",
    "    model = model_by_logdynamic[optimize_log_dynamic]\n",
    "    log_act = torch.stack(list(model.activities.log_activities), dim=1).squeeze(0).T\n",
    "    log_act = pd.DataFrame(log_act.detach().cpu().numpy())\n",
    "    # log_act.columns = anno['Seed_motif'][2]\n",
    "    log_act.columns = ['intercept', 'dinuc_bias'] + list(range(1, 287))\n",
    "    log_act.index = ad.obs_names\n",
    "    ad.obsm['mubind_activities'] = log_act\n",
    "\n",
    "    mb.pl.set_rcParams({'figure.figsize': [5, 3], 'figure.dpi': 90})\n",
    "    delta = (log_act.max(axis=0) - log_act.min(axis=0))\n",
    "    var = log_act.var(axis=0)\n",
    "    plt.scatter(delta, var)\n",
    "    plt.xlabel('min-max range')\n",
    "    plt.ylabel('variability')\n",
    "    plt.title('TF modules (by score)')\n",
    "    plt.show()\n",
    "\n",
    "    for c in log_act:\n",
    "        a = log_act[c]\n",
    "        b = ad.obs['dynamic_score'].values\n",
    "        # print(a.shape, b.shape)\n",
    "        res.append([optimize_log_dynamic, c] + list(spearmanr(a, b)))\n",
    "\n",
    "res = pd.DataFrame(res, columns=['opt_log_dynamic', 'archetype_id', 'spearman', 'p_val'])\n",
    "\n"
   ]
  },
  {
   "cell_type": "code",
   "execution_count": null,
   "metadata": {},
   "outputs": [
    {
     "ename": "",
     "evalue": "",
     "output_type": "error",
     "traceback": [
      "\u001b[1;31mFailed to start the Kernel 'mubind (02_2_2_scatac_multiome_pancreas_priors_evaluate.ipynb)'. \n",
      "\u001b[1;31mView Jupyter <a href='command:jupyter.viewOutput'>log</a> for further details. Unable to get resolved server information for ms-toolsai.jupyter:_builtin.jupyterServerUrlProvider:faffaaee-285d-4b41-bf8d-0bcbf9ccf2c5"
     ]
    }
   ],
   "source": [
    "\n",
    "# add archetypes name\n",
    "meta = pd.DataFrame(pd.concat([delta, var], axis=1))\n",
    "meta.columns = ['max_effect', 'variability']\n",
    "meta['name'] = ['intercept', 'dinuc_bias'] + list(range(1, 287))\n",
    "clu = mb.datasets.archetypes_clu()\n",
    "meta['archetypes_name'] = meta['name'].map(anno.set_index('Cluster_ID')['Name_unique'])\n",
    "meta['archetypes_name'] = np.where(pd.isnull(meta['archetypes_name']), meta['name'], meta['archetypes_name'])\n",
    "\n",
    "meta['archetypes_seed'] = meta['name'].map(anno.set_index('Cluster_ID')['Seed_motif'])\n",
    "meta = meta.sort_values('max_effect', ascending=0)\n",
    "meta\n",
    "\n",
    "res = res.merge(meta, left_on='archetype_id', right_on='name')\n",
    "res = res.sort_values('p_val', ascending=True)"
   ]
  },
  {
   "cell_type": "code",
   "execution_count": null,
   "metadata": {},
   "outputs": [
    {
     "ename": "",
     "evalue": "",
     "output_type": "error",
     "traceback": [
      "\u001b[1;31mFailed to start the Kernel 'mubind (02_2_2_scatac_multiome_pancreas_priors_evaluate.ipynb)'. \n",
      "\u001b[1;31mView Jupyter <a href='command:jupyter.viewOutput'>log</a> for further details. Unable to get resolved server information for ms-toolsai.jupyter:_builtin.jupyterServerUrlProvider:faffaaee-285d-4b41-bf8d-0bcbf9ccf2c5"
     ]
    }
   ],
   "source": [
    "name_by_filter_id = meta['archetypes_name'].to_dict()\n",
    "# name_by_filter_id"
   ]
  },
  {
   "cell_type": "markdown",
   "metadata": {},
   "source": [
    "## Observe general scores per case"
   ]
  },
  {
   "cell_type": "code",
   "execution_count": null,
   "metadata": {},
   "outputs": [
    {
     "ename": "",
     "evalue": "",
     "output_type": "error",
     "traceback": [
      "\u001b[1;31mFailed to start the Kernel 'mubind (02_2_2_scatac_multiome_pancreas_priors_evaluate.ipynb)'. \n",
      "\u001b[1;31mView Jupyter <a href='command:jupyter.viewOutput'>log</a> for further details. Unable to get resolved server information for ms-toolsai.jupyter:_builtin.jupyterServerUrlProvider:faffaaee-285d-4b41-bf8d-0bcbf9ccf2c5"
     ]
    }
   ],
   "source": []
  },
  {
   "cell_type": "code",
   "execution_count": null,
   "metadata": {},
   "outputs": [
    {
     "ename": "",
     "evalue": "",
     "output_type": "error",
     "traceback": [
      "\u001b[1;31mFailed to start the Kernel 'mubind (02_2_2_scatac_multiome_pancreas_priors_evaluate.ipynb)'. \n",
      "\u001b[1;31mView Jupyter <a href='command:jupyter.viewOutput'>log</a> for further details. Unable to get resolved server information for ms-toolsai.jupyter:_builtin.jupyterServerUrlProvider:faffaaee-285d-4b41-bf8d-0bcbf9ccf2c5"
     ]
    }
   ],
   "source": [
    "rcParams['figure.figsize'] =3, 5\n",
    "sns.barplot(data=res.sort_values('max_effect', ascending=False).head(25), x='max_effect', y='archetypes_name', color='orange')"
   ]
  },
  {
   "cell_type": "code",
   "execution_count": null,
   "metadata": {},
   "outputs": [
    {
     "ename": "",
     "evalue": "",
     "output_type": "error",
     "traceback": [
      "\u001b[1;31mFailed to start the Kernel 'mubind (02_2_2_scatac_multiome_pancreas_priors_evaluate.ipynb)'. \n",
      "\u001b[1;31mView Jupyter <a href='command:jupyter.viewOutput'>log</a> for further details. Unable to get resolved server information for ms-toolsai.jupyter:_builtin.jupyterServerUrlProvider:faffaaee-285d-4b41-bf8d-0bcbf9ccf2c5"
     ]
    }
   ],
   "source": []
  },
  {
   "cell_type": "code",
   "execution_count": null,
   "metadata": {},
   "outputs": [
    {
     "ename": "",
     "evalue": "",
     "output_type": "error",
     "traceback": [
      "\u001b[1;31mFailed to start the Kernel 'mubind (02_2_2_scatac_multiome_pancreas_priors_evaluate.ipynb)'. \n",
      "\u001b[1;31mView Jupyter <a href='command:jupyter.viewOutput'>log</a> for further details. Unable to get resolved server information for ms-toolsai.jupyter:_builtin.jupyterServerUrlProvider:faffaaee-285d-4b41-bf8d-0bcbf9ccf2c5"
     ]
    }
   ],
   "source": [
    "res"
   ]
  },
  {
   "cell_type": "code",
   "execution_count": null,
   "metadata": {},
   "outputs": [
    {
     "ename": "",
     "evalue": "",
     "output_type": "error",
     "traceback": [
      "\u001b[1;31mFailed to start the Kernel 'mubind (02_2_2_scatac_multiome_pancreas_priors_evaluate.ipynb)'. \n",
      "\u001b[1;31mView Jupyter <a href='command:jupyter.viewOutput'>log</a> for further details. Unable to get resolved server information for ms-toolsai.jupyter:_builtin.jupyterServerUrlProvider:faffaaee-285d-4b41-bf8d-0bcbf9ccf2c5"
     ]
    }
   ],
   "source": [
    "# visualize the logos as obtained by the model in each step\n",
    "mb.pl.set_rcParams({'figure.figsize': [5, 20], 'figure.dpi': 90})\n",
    "mb.pl.logo(model, title=False, xticks=False, rowspan_dinuc=0, rowspan_mono=1, n_rows=40, n_cols=1, stop_at=20)\n",
    "           # n_rows=len(res.head(20).index),"
   ]
  },
  {
   "cell_type": "code",
   "execution_count": null,
   "metadata": {},
   "outputs": [
    {
     "ename": "",
     "evalue": "",
     "output_type": "error",
     "traceback": [
      "\u001b[1;31mFailed to start the Kernel 'mubind (02_2_2_scatac_multiome_pancreas_priors_evaluate.ipynb)'. \n",
      "\u001b[1;31mView Jupyter <a href='command:jupyter.viewOutput'>log</a> for further details. Unable to get resolved server information for ms-toolsai.jupyter:_builtin.jupyterServerUrlProvider:faffaaee-285d-4b41-bf8d-0bcbf9ccf2c5"
     ]
    }
   ],
   "source": [
    "mb.pl.set_rcParams({'figure.figsize': [2, 20], 'figure.dpi': 90})\n",
    "mb.pl.logo(model, title=False, xticks=False, rowspan_dinuc=0, rowspan_mono=1, n_rows=40,\n",
    "           # n_rows=len(res.head(20).index),\n",
    "           n_cols=1, order=res.head(20).index) # n_cols=len(reduced_groups))\n",
    "plt.tight_layout()\n",
    "plt.show()"
   ]
  },
  {
   "cell_type": "code",
   "execution_count": null,
   "metadata": {},
   "outputs": [
    {
     "ename": "",
     "evalue": "",
     "output_type": "error",
     "traceback": [
      "\u001b[1;31mFailed to start the Kernel 'mubind (02_2_2_scatac_multiome_pancreas_priors_evaluate.ipynb)'. \n",
      "\u001b[1;31mView Jupyter <a href='command:jupyter.viewOutput'>log</a> for further details. Unable to get resolved server information for ms-toolsai.jupyter:_builtin.jupyterServerUrlProvider:faffaaee-285d-4b41-bf8d-0bcbf9ccf2c5"
     ]
    }
   ],
   "source": [
    "import resource\n",
    "print('total GB used:', resource.getrusage(resource.RUSAGE_SELF).ru_maxrss / 1e6)\n"
   ]
  },
  {
   "cell_type": "code",
   "execution_count": null,
   "metadata": {},
   "outputs": [
    {
     "ename": "",
     "evalue": "",
     "output_type": "error",
     "traceback": [
      "\u001b[1;31mFailed to start the Kernel 'mubind (02_2_2_scatac_multiome_pancreas_priors_evaluate.ipynb)'. \n",
      "\u001b[1;31mView Jupyter <a href='command:jupyter.viewOutput'>log</a> for further details. Unable to get resolved server information for ms-toolsai.jupyter:_builtin.jupyterServerUrlProvider:faffaaee-285d-4b41-bf8d-0bcbf9ccf2c5"
     ]
    }
   ],
   "source": [
    "# for k in ad.obsm['log_activities'].iloc[:,2:]:\n",
    "#     ad.obs[str(k)] = ad.obsm['log_activities'][k]\n",
    "# sc.pl.umap(ad, color=map(str, ad.obsm['log_activities'].iloc[:,2:]), cmap='Reds')\n"
   ]
  },
  {
   "cell_type": "code",
   "execution_count": null,
   "metadata": {},
   "outputs": [
    {
     "ename": "",
     "evalue": "",
     "output_type": "error",
     "traceback": [
      "\u001b[1;31mFailed to start the Kernel 'mubind (02_2_2_scatac_multiome_pancreas_priors_evaluate.ipynb)'. \n",
      "\u001b[1;31mView Jupyter <a href='command:jupyter.viewOutput'>log</a> for further details. Unable to get resolved server information for ms-toolsai.jupyter:_builtin.jupyterServerUrlProvider:faffaaee-285d-4b41-bf8d-0bcbf9ccf2c5"
     ]
    }
   ],
   "source": [
    "rna_sel.obsm['X_umap'] = ad.obsm['X_umap']"
   ]
  },
  {
   "cell_type": "code",
   "execution_count": null,
   "metadata": {},
   "outputs": [
    {
     "ename": "",
     "evalue": "",
     "output_type": "error",
     "traceback": [
      "\u001b[1;31mFailed to start the Kernel 'mubind (02_2_2_scatac_multiome_pancreas_priors_evaluate.ipynb)'. \n",
      "\u001b[1;31mView Jupyter <a href='command:jupyter.viewOutput'>log</a> for further details. Unable to get resolved server information for ms-toolsai.jupyter:_builtin.jupyterServerUrlProvider:faffaaee-285d-4b41-bf8d-0bcbf9ccf2c5"
     ]
    }
   ],
   "source": [
    "def find_varname(ad, k):\n",
    "    return ad.var_names[ad.var_names.str.upper().str.contains(k.upper())]"
   ]
  },
  {
   "cell_type": "code",
   "execution_count": null,
   "metadata": {},
   "outputs": [
    {
     "ename": "",
     "evalue": "",
     "output_type": "error",
     "traceback": [
      "\u001b[1;31mFailed to start the Kernel 'mubind (02_2_2_scatac_multiome_pancreas_priors_evaluate.ipynb)'. \n",
      "\u001b[1;31mView Jupyter <a href='command:jupyter.viewOutput'>log</a> for further details. Unable to get resolved server information for ms-toolsai.jupyter:_builtin.jupyterServerUrlProvider:faffaaee-285d-4b41-bf8d-0bcbf9ccf2c5"
     ]
    }
   ],
   "source": [
    "from scipy.stats import spearmanr, pearsonr"
   ]
  },
  {
   "cell_type": "markdown",
   "metadata": {},
   "source": [
    "Calculate global correlations between the activities obtained per motif and gene-specific expression"
   ]
  },
  {
   "cell_type": "code",
   "execution_count": null,
   "metadata": {},
   "outputs": [
    {
     "ename": "",
     "evalue": "",
     "output_type": "error",
     "traceback": [
      "\u001b[1;31mFailed to start the Kernel 'mubind (02_2_2_scatac_multiome_pancreas_priors_evaluate.ipynb)'. \n",
      "\u001b[1;31mView Jupyter <a href='command:jupyter.viewOutput'>log</a> for further details. Unable to get resolved server information for ms-toolsai.jupyter:_builtin.jupyterServerUrlProvider:faffaaee-285d-4b41-bf8d-0bcbf9ccf2c5"
     ]
    }
   ],
   "source": [
    "\n",
    "all_targets = set()\n",
    "for optimize_log_dynamic in model_by_logdynamic:\n",
    "    print(optimize_log_dynamic)\n",
    "    model = model_by_logdynamic[optimize_log_dynamic]\n",
    "\n",
    "    log_act = torch.stack(list(model.activities.log_activities), dim=1).squeeze(0).T\n",
    "    log_act = pd.DataFrame(log_act.detach().cpu().numpy())\n",
    "    log_act.index = ad.obs_names\n",
    "\n",
    "    ad.obsm['log_activities'] = log_act\n",
    "    ad.obsm['log_activities'].columns = ['intercept', 'dinuc_bias'] + list(range(1, 287))\n",
    "\n",
    "    # collect all targets\n",
    "    for k in ad.obsm['log_activities'].iloc[:,2:]:\n",
    "        log_act = ad.obsm['log_activities'][k].values\n",
    "        names = set()\n",
    "        clu_sel = clu[clu['Cluster_ID'] == k]['Motif']\n",
    "        for g in clu_sel:\n",
    "            names.add(g.split('_')[0].split('.')[0].split('+')[0].upper())\n",
    "        for g in anno[anno['Cluster_ID'] == k]['Seed_motif']:\n",
    "            names.add(g.split('_')[0].split('.')[0])\n",
    "        # print(k, names)\n",
    "        targets = set()\n",
    "        for name in names:\n",
    "            target = find_varname(rna_sel, name)\n",
    "            for t in target:\n",
    "                all_targets.add(t)\n",
    "        if len(targets) > 0 and False:\n",
    "            sc.pl.umap(rna_sel, color=targets, cmap='Reds')\n"
   ]
  },
  {
   "cell_type": "code",
   "execution_count": null,
   "metadata": {},
   "outputs": [
    {
     "ename": "",
     "evalue": "",
     "output_type": "error",
     "traceback": [
      "\u001b[1;31mFailed to start the Kernel 'mubind (02_2_2_scatac_multiome_pancreas_priors_evaluate.ipynb)'. \n",
      "\u001b[1;31mView Jupyter <a href='command:jupyter.viewOutput'>log</a> for further details. Unable to get resolved server information for ms-toolsai.jupyter:_builtin.jupyterServerUrlProvider:faffaaee-285d-4b41-bf8d-0bcbf9ccf2c5"
     ]
    }
   ],
   "source": [
    "\n",
    "\n",
    "print('association between motif activities and related TF targets ')\n",
    "res = []\n",
    "print(len(all_targets))\n",
    "\n",
    "rna_sel_df = rna_sel.to_df()\n",
    "\n",
    "for optimize_log_dynamic in model_by_logdynamic:\n",
    "    print('use GraphLayer = %i' % optimize_log_dynamic)\n",
    "    model = model_by_logdynamic[optimize_log_dynamic]\n",
    "\n",
    "    log_act = torch.stack(list(model.activities.log_activities), dim=1).squeeze(0).T\n",
    "    log_act = pd.DataFrame(log_act.detach().cpu().numpy())\n",
    "    log_act.index = ad.obs_names\n",
    "\n",
    "    ad.obsm['log_activities'] = log_act\n",
    "    ad.obsm['log_activities'].columns = ['intercept', 'dinuc_bias'] + list(range(1, 287))\n",
    "\n",
    "    log_act = ad.obsm['log_activities'][k].values\n",
    "    for ki, k in enumerate(ad.obsm['log_activities'].iloc[:,2:]):\n",
    "        # print(ki)\n",
    "        if ki % 30 == 0:\n",
    "            print(ki)\n",
    "        names = set()\n",
    "        clu_sel = clu[clu['Cluster_ID'] == k]['Motif']\n",
    "        for g in clu_sel:\n",
    "            names.add(g.split('_')[0].split('.')[0].split('+')[0].upper())\n",
    "        for g in anno[anno['Cluster_ID'] == k]['Seed_motif']:\n",
    "            names.add(g.split('_')[0].split('.')[0])\n",
    "        # print(k, names)\n",
    "        next_targets = set()\n",
    "        for name in names:\n",
    "            target = find_varname(rna_sel, name)\n",
    "            # print(name, target)\n",
    "            for t in target:\n",
    "                next_targets.add(t)\n",
    "\n",
    "        # for t in all_targets:\n",
    "        for t in set(all_targets).intersection(next_targets):\n",
    "            gex = rna_sel_df[[t]].to_numpy() # rna_sel_df[t].A\n",
    "            assert gex.shape[1] == 1\n",
    "            gex = gex.flatten()\n",
    "            # print(log_act.shape, gex.shape)\n",
    "            # print(t, pearsonr(log_act, gex))\n",
    "            res.append([ki, optimize_log_dynamic, k, t, t in next_targets] +\n",
    "                       list(spearmanr(log_act, gex)))\n",
    "            \n",
    "res = pd.DataFrame(res, columns=['filter_id', 'opt_log_dynamic', 'archetype_id', 'gene_name', 'matched', 'spearman', 'p_val'])\n",
    "\n",
    "# p-values\n",
    "res['module_name'] = res['archetype_id'].map(anno.set_index('Cluster_ID')['Name'].to_dict())\n",
    "res['p_val'] = np.where(pd.isnull(res['p_val']), 1.0, res['p_val'])\n",
    "\n",
    "# p-val adjust\n",
    "from statsmodels.stats.multitest import fdrcorrection\n",
    "res['p_adj'] = fdrcorrection(res['p_val'])[1]\n",
    "res[res['p_adj'] < 0.1]"
   ]
  },
  {
   "cell_type": "code",
   "execution_count": null,
   "metadata": {},
   "outputs": [
    {
     "ename": "",
     "evalue": "",
     "output_type": "error",
     "traceback": [
      "\u001b[1;31mFailed to start the Kernel 'mubind (02_2_2_scatac_multiome_pancreas_priors_evaluate.ipynb)'. \n",
      "\u001b[1;31mView Jupyter <a href='command:jupyter.viewOutput'>log</a> for further details. Unable to get resolved server information for ms-toolsai.jupyter:_builtin.jupyterServerUrlProvider:faffaaee-285d-4b41-bf8d-0bcbf9ccf2c5"
     ]
    }
   ],
   "source": [
    "genes_by_module_name = res.groupby(['module_name'])['gene_name'].apply(lambda grp: list(grp.value_counts().index)).to_dict()\n",
    "# genes_by_module_name"
   ]
  },
  {
   "cell_type": "code",
   "execution_count": null,
   "metadata": {},
   "outputs": [
    {
     "ename": "",
     "evalue": "",
     "output_type": "error",
     "traceback": [
      "\u001b[1;31mFailed to start the Kernel 'mubind (02_2_2_scatac_multiome_pancreas_priors_evaluate.ipynb)'. \n",
      "\u001b[1;31mView Jupyter <a href='command:jupyter.viewOutput'>log</a> for further details. Unable to get resolved server information for ms-toolsai.jupyter:_builtin.jupyterServerUrlProvider:faffaaee-285d-4b41-bf8d-0bcbf9ccf2c5"
     ]
    }
   ],
   "source": [
    "res.sort_values('p_adj')"
   ]
  },
  {
   "cell_type": "code",
   "execution_count": null,
   "metadata": {},
   "outputs": [
    {
     "ename": "",
     "evalue": "",
     "output_type": "error",
     "traceback": [
      "\u001b[1;31mFailed to start the Kernel 'mubind (02_2_2_scatac_multiome_pancreas_priors_evaluate.ipynb)'. \n",
      "\u001b[1;31mView Jupyter <a href='command:jupyter.viewOutput'>log</a> for further details. Unable to get resolved server information for ms-toolsai.jupyter:_builtin.jupyterServerUrlProvider:faffaaee-285d-4b41-bf8d-0bcbf9ccf2c5"
     ]
    }
   ],
   "source": [
    "res['k'] = res['gene_name'] + '_' + res['archetype_id'].astype(str)\n",
    "df2 = res.pivot(index='k', columns='opt_log_dynamic', values='spearman')\n",
    "# df2 = res # .pivot(index='k', columns='opt_log_dynamic', values='spearman')"
   ]
  },
  {
   "cell_type": "code",
   "execution_count": null,
   "metadata": {},
   "outputs": [
    {
     "ename": "",
     "evalue": "",
     "output_type": "error",
     "traceback": [
      "\u001b[1;31mFailed to start the Kernel 'mubind (02_2_2_scatac_multiome_pancreas_priors_evaluate.ipynb)'. \n",
      "\u001b[1;31mView Jupyter <a href='command:jupyter.viewOutput'>log</a> for further details. Unable to get resolved server information for ms-toolsai.jupyter:_builtin.jupyterServerUrlProvider:faffaaee-285d-4b41-bf8d-0bcbf9ccf2c5"
     ]
    }
   ],
   "source": [
    "df2"
   ]
  },
  {
   "cell_type": "code",
   "execution_count": null,
   "metadata": {},
   "outputs": [
    {
     "ename": "",
     "evalue": "",
     "output_type": "error",
     "traceback": [
      "\u001b[1;31mFailed to start the Kernel 'mubind (02_2_2_scatac_multiome_pancreas_priors_evaluate.ipynb)'. \n",
      "\u001b[1;31mView Jupyter <a href='command:jupyter.viewOutput'>log</a> for further details. Unable to get resolved server information for ms-toolsai.jupyter:_builtin.jupyterServerUrlProvider:faffaaee-285d-4b41-bf8d-0bcbf9ccf2c5"
     ]
    }
   ],
   "source": [
    "mb.pl.set_rcParams({'figure.figsize': [5, 4], 'figure.dpi': 120})\n",
    "# df2 = df2.sort_values('matched', ascending=True)\n",
    "# plt.scatter(df2[True], df2[True],\n",
    "#             color=np.where(df2['matched'], 'blue', 'gray'),\n",
    "#             s=np.where(df2['matched'], 30, 5))\n",
    "# plt.xlabel('TF activity (graph = off)')\n",
    "# plt.ylabel('TF activity (graph = on)')\n",
    "# plt.axhline(0, color='gray', ls='--', zorder=0)\n",
    "# plt.axvline(0, color='gray', ls='--', zorder=0)\n"
   ]
  },
  {
   "cell_type": "code",
   "execution_count": null,
   "metadata": {},
   "outputs": [
    {
     "ename": "",
     "evalue": "",
     "output_type": "error",
     "traceback": [
      "\u001b[1;31mFailed to start the Kernel 'mubind (02_2_2_scatac_multiome_pancreas_priors_evaluate.ipynb)'. \n",
      "\u001b[1;31mView Jupyter <a href='command:jupyter.viewOutput'>log</a> for further details. Unable to get resolved server information for ms-toolsai.jupyter:_builtin.jupyterServerUrlProvider:faffaaee-285d-4b41-bf8d-0bcbf9ccf2c5"
     ]
    }
   ],
   "source": [
    "# df2[df2['matched'] == True].sort_values(True, ascending=False)"
   ]
  },
  {
   "cell_type": "code",
   "execution_count": null,
   "metadata": {},
   "outputs": [
    {
     "ename": "",
     "evalue": "",
     "output_type": "error",
     "traceback": [
      "\u001b[1;31mFailed to start the Kernel 'mubind (02_2_2_scatac_multiome_pancreas_priors_evaluate.ipynb)'. \n",
      "\u001b[1;31mView Jupyter <a href='command:jupyter.viewOutput'>log</a> for further details. Unable to get resolved server information for ms-toolsai.jupyter:_builtin.jupyterServerUrlProvider:faffaaee-285d-4b41-bf8d-0bcbf9ccf2c5"
     ]
    }
   ],
   "source": [
    "# res['arch_name'] = name_by_filter_id"
   ]
  },
  {
   "cell_type": "code",
   "execution_count": null,
   "metadata": {},
   "outputs": [
    {
     "ename": "",
     "evalue": "",
     "output_type": "error",
     "traceback": [
      "\u001b[1;31mFailed to start the Kernel 'mubind (02_2_2_scatac_multiome_pancreas_priors_evaluate.ipynb)'. \n",
      "\u001b[1;31mView Jupyter <a href='command:jupyter.viewOutput'>log</a> for further details. Unable to get resolved server information for ms-toolsai.jupyter:_builtin.jupyterServerUrlProvider:faffaaee-285d-4b41-bf8d-0bcbf9ccf2c5"
     ]
    }
   ],
   "source": [
    "res"
   ]
  },
  {
   "cell_type": "code",
   "execution_count": null,
   "metadata": {},
   "outputs": [
    {
     "ename": "",
     "evalue": "",
     "output_type": "error",
     "traceback": [
      "\u001b[1;31mFailed to start the Kernel 'mubind (02_2_2_scatac_multiome_pancreas_priors_evaluate.ipynb)'. \n",
      "\u001b[1;31mView Jupyter <a href='command:jupyter.viewOutput'>log</a> for further details. Unable to get resolved server information for ms-toolsai.jupyter:_builtin.jupyterServerUrlProvider:faffaaee-285d-4b41-bf8d-0bcbf9ccf2c5"
     ]
    }
   ],
   "source": [
    "rcParams['figure.figsize'] = 4, 4\n",
    "rcParams['figure.dpi'] = 90\n",
    "\n",
    "for optimize_log_dynamic, grp in res.groupby('opt_log_dynamic'):\n",
    "    grp['minus_log10_pval'] = -np.log10(grp['p_val'])\n",
    "    grp = grp.sort_values('matched')\n",
    "    plt.scatter(grp['spearman'], grp['minus_log10_pval'],\n",
    "                s=np.power(grp['minus_log10_pval'], 2), color=np.where(grp['matched'], 'red', 'blue'))\n",
    "    plt.ylabel('-log(p-adj)')\n",
    "    plt.xlabel('spearman')\n",
    "    plt.title('corr(filter, GEX) | GraphLayer = %i' % optimize_log_dynamic)\n",
    "    plt.axhline(1, ls='--', color='red', lw=0.6)\n",
    "    plt.show()"
   ]
  },
  {
   "cell_type": "code",
   "execution_count": null,
   "metadata": {},
   "outputs": [
    {
     "ename": "",
     "evalue": "",
     "output_type": "error",
     "traceback": [
      "\u001b[1;31mFailed to start the Kernel 'mubind (02_2_2_scatac_multiome_pancreas_priors_evaluate.ipynb)'. \n",
      "\u001b[1;31mView Jupyter <a href='command:jupyter.viewOutput'>log</a> for further details. Unable to get resolved server information for ms-toolsai.jupyter:_builtin.jupyterServerUrlProvider:faffaaee-285d-4b41-bf8d-0bcbf9ccf2c5"
     ]
    }
   ],
   "source": [
    "# sc.pl.umap(ad, color=[96], cmap='RdBu_r')\n",
    "# sc.pl.umap(rna_sel, color=['Ehf', 'Ergic2'], cmap='plasma')"
   ]
  },
  {
   "cell_type": "code",
   "execution_count": null,
   "metadata": {},
   "outputs": [
    {
     "ename": "",
     "evalue": "",
     "output_type": "error",
     "traceback": [
      "\u001b[1;31mFailed to start the Kernel 'mubind (02_2_2_scatac_multiome_pancreas_priors_evaluate.ipynb)'. \n",
      "\u001b[1;31mView Jupyter <a href='command:jupyter.viewOutput'>log</a> for further details. Unable to get resolved server information for ms-toolsai.jupyter:_builtin.jupyterServerUrlProvider:faffaaee-285d-4b41-bf8d-0bcbf9ccf2c5"
     ]
    }
   ],
   "source": [
    "rcParams['figure.figsize'] = 3, 3\n",
    "rcParams['figure.dpi'] = 90\n",
    "plt.hist(res['p_val'], color='gray', bins=20, label='raw', alpha=.5, edgecolor = 'black')\n",
    "plt.hist(res['p_adj'], color='red', bins=20, label='adjusted (BH)', alpha=.5, edgecolor = 'black')\n",
    "plt.xlabel('p-value')\n",
    "plt.legend()\n",
    "plt.ylabel('# associations')"
   ]
  },
  {
   "cell_type": "code",
   "execution_count": null,
   "metadata": {},
   "outputs": [
    {
     "ename": "",
     "evalue": "",
     "output_type": "error",
     "traceback": [
      "\u001b[1;31mFailed to start the Kernel 'mubind (02_2_2_scatac_multiome_pancreas_priors_evaluate.ipynb)'. \n",
      "\u001b[1;31mView Jupyter <a href='command:jupyter.viewOutput'>log</a> for further details. Unable to get resolved server information for ms-toolsai.jupyter:_builtin.jupyterServerUrlProvider:faffaaee-285d-4b41-bf8d-0bcbf9ccf2c5"
     ]
    }
   ],
   "source": [
    "res[res['p_adj'] < 0.05]"
   ]
  },
  {
   "cell_type": "code",
   "execution_count": null,
   "metadata": {},
   "outputs": [
    {
     "ename": "",
     "evalue": "",
     "output_type": "error",
     "traceback": [
      "\u001b[1;31mFailed to start the Kernel 'mubind (02_2_2_scatac_multiome_pancreas_priors_evaluate.ipynb)'. \n",
      "\u001b[1;31mView Jupyter <a href='command:jupyter.viewOutput'>log</a> for further details. Unable to get resolved server information for ms-toolsai.jupyter:_builtin.jupyterServerUrlProvider:faffaaee-285d-4b41-bf8d-0bcbf9ccf2c5"
     ]
    }
   ],
   "source": [
    "pval_thr = 1e-5\n",
    "sel_genes = set(list(res[res['p_adj'] < pval_thr]['gene_name']))"
   ]
  },
  {
   "cell_type": "code",
   "execution_count": null,
   "metadata": {},
   "outputs": [
    {
     "ename": "",
     "evalue": "",
     "output_type": "error",
     "traceback": [
      "\u001b[1;31mFailed to start the Kernel 'mubind (02_2_2_scatac_multiome_pancreas_priors_evaluate.ipynb)'. \n",
      "\u001b[1;31mView Jupyter <a href='command:jupyter.viewOutput'>log</a> for further details. Unable to get resolved server information for ms-toolsai.jupyter:_builtin.jupyterServerUrlProvider:faffaaee-285d-4b41-bf8d-0bcbf9ccf2c5"
     ]
    }
   ],
   "source": [
    "log_act = ad.obsm['log_activities'].copy()"
   ]
  },
  {
   "cell_type": "code",
   "execution_count": null,
   "metadata": {},
   "outputs": [
    {
     "ename": "",
     "evalue": "",
     "output_type": "error",
     "traceback": [
      "\u001b[1;31mFailed to start the Kernel 'mubind (02_2_2_scatac_multiome_pancreas_priors_evaluate.ipynb)'. \n",
      "\u001b[1;31mView Jupyter <a href='command:jupyter.viewOutput'>log</a> for further details. Unable to get resolved server information for ms-toolsai.jupyter:_builtin.jupyterServerUrlProvider:faffaaee-285d-4b41-bf8d-0bcbf9ccf2c5"
     ]
    }
   ],
   "source": [
    "cols_act = ['intercept', 'dinuc_bias'] + [name_by_filter_id[k] for k in log_act.columns[2:]]\n",
    "log_act.columns = cols_act"
   ]
  },
  {
   "cell_type": "code",
   "execution_count": null,
   "metadata": {},
   "outputs": [
    {
     "ename": "",
     "evalue": "",
     "output_type": "error",
     "traceback": [
      "\u001b[1;31mFailed to start the Kernel 'mubind (02_2_2_scatac_multiome_pancreas_priors_evaluate.ipynb)'. \n",
      "\u001b[1;31mView Jupyter <a href='command:jupyter.viewOutput'>log</a> for further details. Unable to get resolved server information for ms-toolsai.jupyter:_builtin.jupyterServerUrlProvider:faffaaee-285d-4b41-bf8d-0bcbf9ccf2c5"
     ]
    }
   ],
   "source": [
    "import anndata\n",
    "ad_act = anndata.AnnData(log_act)\n",
    "ad_act.obsm['X_umap'] = ad.obsm['X_umap']\n",
    "ad_act.obs = ad.obs"
   ]
  },
  {
   "cell_type": "code",
   "execution_count": null,
   "metadata": {},
   "outputs": [
    {
     "ename": "",
     "evalue": "",
     "output_type": "error",
     "traceback": [
      "\u001b[1;31mFailed to start the Kernel 'mubind (02_2_2_scatac_multiome_pancreas_priors_evaluate.ipynb)'. \n",
      "\u001b[1;31mView Jupyter <a href='command:jupyter.viewOutput'>log</a> for further details. Unable to get resolved server information for ms-toolsai.jupyter:_builtin.jupyterServerUrlProvider:faffaaee-285d-4b41-bf8d-0bcbf9ccf2c5"
     ]
    }
   ],
   "source": [
    "sc.pl.umap(ad_act, color='celltype')\n"
   ]
  },
  {
   "cell_type": "markdown",
   "metadata": {},
   "source": [
    "Rank genes groups using the annotation"
   ]
  },
  {
   "cell_type": "code",
   "execution_count": null,
   "metadata": {},
   "outputs": [
    {
     "ename": "",
     "evalue": "",
     "output_type": "error",
     "traceback": [
      "\u001b[1;31mFailed to start the Kernel 'mubind (02_2_2_scatac_multiome_pancreas_priors_evaluate.ipynb)'. \n",
      "\u001b[1;31mView Jupyter <a href='command:jupyter.viewOutput'>log</a> for further details. Unable to get resolved server information for ms-toolsai.jupyter:_builtin.jupyterServerUrlProvider:faffaaee-285d-4b41-bf8d-0bcbf9ccf2c5"
     ]
    }
   ],
   "source": [
    "sc.tl.rank_genes_groups(ad_act, 'celltype')\n",
    "rkg_df = []\n",
    "for ct in ad_act.obs['celltype'].values.unique():\n",
    "    print(ct)\n",
    "    rkg_df2 = sc.get.rank_genes_groups_df(ad_act, ct)\n",
    "    rkg_df2['celltype'] = ct\n",
    "    rkg_df.append(rkg_df2)\n",
    "rkg_df = pd.concat(rkg_df)\n",
    "rkg_df['module_name'] = rkg_df['names'].map(anno.set_index('Cluster_ID')['Name'].to_dict())\n",
    "rkg_df['module_name'] = np.where(~pd.isnull(rkg_df['module_name']), rkg_df['module_name'], rkg_df['names'])\n",
    "rkg_df.head()"
   ]
  },
  {
   "cell_type": "markdown",
   "metadata": {},
   "source": [
    "Get top modules"
   ]
  },
  {
   "cell_type": "code",
   "execution_count": null,
   "metadata": {},
   "outputs": [
    {
     "ename": "",
     "evalue": "",
     "output_type": "error",
     "traceback": [
      "\u001b[1;31mFailed to start the Kernel 'mubind (02_2_2_scatac_multiome_pancreas_priors_evaluate.ipynb)'. \n",
      "\u001b[1;31mView Jupyter <a href='command:jupyter.viewOutput'>log</a> for further details. Unable to get resolved server information for ms-toolsai.jupyter:_builtin.jupyterServerUrlProvider:faffaaee-285d-4b41-bf8d-0bcbf9ccf2c5"
     ]
    }
   ],
   "source": [
    "ad_act.var_names = ad_act.var_names.map(rkg_df.set_index('names')['module_name'].to_dict())"
   ]
  },
  {
   "cell_type": "code",
   "execution_count": null,
   "metadata": {},
   "outputs": [
    {
     "ename": "",
     "evalue": "",
     "output_type": "error",
     "traceback": [
      "\u001b[1;31mFailed to start the Kernel 'mubind (02_2_2_scatac_multiome_pancreas_priors_evaluate.ipynb)'. \n",
      "\u001b[1;31mView Jupyter <a href='command:jupyter.viewOutput'>log</a> for further details. Unable to get resolved server information for ms-toolsai.jupyter:_builtin.jupyterServerUrlProvider:faffaaee-285d-4b41-bf8d-0bcbf9ccf2c5"
     ]
    }
   ],
   "source": [
    "sc.tl.rank_genes_groups(ad_act, 'celltype')"
   ]
  },
  {
   "cell_type": "code",
   "execution_count": null,
   "metadata": {},
   "outputs": [
    {
     "ename": "",
     "evalue": "",
     "output_type": "error",
     "traceback": [
      "\u001b[1;31mFailed to start the Kernel 'mubind (02_2_2_scatac_multiome_pancreas_priors_evaluate.ipynb)'. \n",
      "\u001b[1;31mView Jupyter <a href='command:jupyter.viewOutput'>log</a> for further details. Unable to get resolved server information for ms-toolsai.jupyter:_builtin.jupyterServerUrlProvider:faffaaee-285d-4b41-bf8d-0bcbf9ccf2c5"
     ]
    }
   ],
   "source": [
    "rcParams['figure.figsize'] = 3.5, 3.5\n",
    "rcParams['figure.dpi'] = 80\n",
    "sc.pl.rank_genes_groups(ad_act)\n"
   ]
  },
  {
   "cell_type": "code",
   "execution_count": null,
   "metadata": {},
   "outputs": [
    {
     "ename": "",
     "evalue": "",
     "output_type": "error",
     "traceback": [
      "\u001b[1;31mFailed to start the Kernel 'mubind (02_2_2_scatac_multiome_pancreas_priors_evaluate.ipynb)'. \n",
      "\u001b[1;31mView Jupyter <a href='command:jupyter.viewOutput'>log</a> for further details. Unable to get resolved server information for ms-toolsai.jupyter:_builtin.jupyterServerUrlProvider:faffaaee-285d-4b41-bf8d-0bcbf9ccf2c5"
     ]
    }
   ],
   "source": [
    "set(res[(res['p_adj'] < 1e-5)]['k'])"
   ]
  },
  {
   "cell_type": "code",
   "execution_count": null,
   "metadata": {},
   "outputs": [
    {
     "ename": "",
     "evalue": "",
     "output_type": "error",
     "traceback": [
      "\u001b[1;31mFailed to start the Kernel 'mubind (02_2_2_scatac_multiome_pancreas_priors_evaluate.ipynb)'. \n",
      "\u001b[1;31mView Jupyter <a href='command:jupyter.viewOutput'>log</a> for further details. Unable to get resolved server information for ms-toolsai.jupyter:_builtin.jupyterServerUrlProvider:faffaaee-285d-4b41-bf8d-0bcbf9ccf2c5"
     ]
    }
   ],
   "source": [
    "res[res['module_name'].str.contains('HD')].sort_values('p_adj')"
   ]
  },
  {
   "cell_type": "code",
   "execution_count": null,
   "metadata": {},
   "outputs": [
    {
     "ename": "",
     "evalue": "",
     "output_type": "error",
     "traceback": [
      "\u001b[1;31mFailed to start the Kernel 'mubind (02_2_2_scatac_multiome_pancreas_priors_evaluate.ipynb)'. \n",
      "\u001b[1;31mView Jupyter <a href='command:jupyter.viewOutput'>log</a> for further details. Unable to get resolved server information for ms-toolsai.jupyter:_builtin.jupyterServerUrlProvider:faffaaee-285d-4b41-bf8d-0bcbf9ccf2c5"
     ]
    }
   ],
   "source": [
    "mod_names_best = set(rkg_df.sort_values('scores', ascending=False).groupby('celltype').head(5)['module_name'])\n",
    "best = rkg_df[rkg_df['module_name'].isin(mod_names_best)]\n",
    "rcParams['figure.dpi'] = 130\n",
    "sns.clustermap(best.pivot(index='celltype', columns='module_name', values='scores'),\n",
    "               cbar_kws={'label': 'activity'}, cmap='RdBu_r',\n",
    "               vmin=-5, vmax=5,\n",
    "               figsize=[6.2, 5],\n",
    "               # dpi=100,\n",
    "               xticklabels=True)\n"
   ]
  },
  {
   "cell_type": "code",
   "execution_count": null,
   "metadata": {},
   "outputs": [
    {
     "ename": "",
     "evalue": "",
     "output_type": "error",
     "traceback": [
      "\u001b[1;31mFailed to start the Kernel 'mubind (02_2_2_scatac_multiome_pancreas_priors_evaluate.ipynb)'. \n",
      "\u001b[1;31mView Jupyter <a href='command:jupyter.viewOutput'>log</a> for further details. Unable to get resolved server information for ms-toolsai.jupyter:_builtin.jupyterServerUrlProvider:faffaaee-285d-4b41-bf8d-0bcbf9ccf2c5"
     ]
    }
   ],
   "source": [
    "rna_tfs = rna_sel.to_df()[list(set(res['gene_name']))]\n",
    "rna_tfs['celltype'] = rna_sel.obs['celltype']\n",
    "mean_tfs = rna_tfs.groupby('celltype').mean()\n",
    "\n",
    "act_tfs_df = ad_act.to_df()\n",
    "act_tfs_df['celltype'] = ad_act.obs['celltype']\n",
    "mean_act_tf = act_tfs_df.groupby('celltype').mean()"
   ]
  },
  {
   "cell_type": "code",
   "execution_count": null,
   "metadata": {},
   "outputs": [
    {
     "ename": "",
     "evalue": "",
     "output_type": "error",
     "traceback": [
      "\u001b[1;31mFailed to start the Kernel 'mubind (02_2_2_scatac_multiome_pancreas_priors_evaluate.ipynb)'. \n",
      "\u001b[1;31mView Jupyter <a href='command:jupyter.viewOutput'>log</a> for further details. Unable to get resolved server information for ms-toolsai.jupyter:_builtin.jupyterServerUrlProvider:faffaaee-285d-4b41-bf8d-0bcbf9ccf2c5"
     ]
    }
   ],
   "source": [
    "corr_celltype = []\n",
    "for i, c1 in enumerate(mean_act_tf):\n",
    "    if i % 50 == 0:\n",
    "        print(i, mean_act_tf.shape[1])\n",
    "    for j, c2 in enumerate(mean_tfs):\n",
    "        if not c1 in genes_by_module_name or not c2 in genes_by_module_name[c1]:\n",
    "            continue\n",
    "        a = mean_act_tf[c1]\n",
    "        b = mean_tfs[c2]\n",
    "        corr_celltype.append([c1, c2, mean_act_tf.index[np.argmax(mean_act_tf[c1])]] + list(pearsonr(a, b)))\n",
    "\n",
    "corr = pd.DataFrame(corr_celltype,\n",
    "                    columns=['module_name', 'gene_name', 'cell_type', 'pearsonr', 'p_val'])\n",
    "corr = corr.sort_values('pearsonr', ascending=False)\n"
   ]
  },
  {
   "cell_type": "code",
   "execution_count": null,
   "metadata": {},
   "outputs": [
    {
     "ename": "",
     "evalue": "",
     "output_type": "error",
     "traceback": [
      "\u001b[1;31mFailed to start the Kernel 'mubind (02_2_2_scatac_multiome_pancreas_priors_evaluate.ipynb)'. \n",
      "\u001b[1;31mView Jupyter <a href='command:jupyter.viewOutput'>log</a> for further details. Unable to get resolved server information for ms-toolsai.jupyter:_builtin.jupyterServerUrlProvider:faffaaee-285d-4b41-bf8d-0bcbf9ccf2c5"
     ]
    }
   ],
   "source": []
  },
  {
   "cell_type": "code",
   "execution_count": null,
   "metadata": {},
   "outputs": [
    {
     "ename": "",
     "evalue": "",
     "output_type": "error",
     "traceback": [
      "\u001b[1;31mFailed to start the Kernel 'mubind (02_2_2_scatac_multiome_pancreas_priors_evaluate.ipynb)'. \n",
      "\u001b[1;31mView Jupyter <a href='command:jupyter.viewOutput'>log</a> for further details. Unable to get resolved server information for ms-toolsai.jupyter:_builtin.jupyterServerUrlProvider:faffaaee-285d-4b41-bf8d-0bcbf9ccf2c5"
     ]
    }
   ],
   "source": [
    "# sc.pl.dotplot(rna_sel, groupby='celltype', var_names=list(set(res['gene_name'])))"
   ]
  },
  {
   "cell_type": "code",
   "execution_count": null,
   "metadata": {},
   "outputs": [
    {
     "ename": "",
     "evalue": "",
     "output_type": "error",
     "traceback": [
      "\u001b[1;31mFailed to start the Kernel 'mubind (02_2_2_scatac_multiome_pancreas_priors_evaluate.ipynb)'. \n",
      "\u001b[1;31mView Jupyter <a href='command:jupyter.viewOutput'>log</a> for further details. Unable to get resolved server information for ms-toolsai.jupyter:_builtin.jupyterServerUrlProvider:faffaaee-285d-4b41-bf8d-0bcbf9ccf2c5"
     ]
    }
   ],
   "source": [
    "\n",
    "for ri, r in corr.sort_values('p_val').groupby('cell_type').head(3).iterrows():\n",
    "    # ad_act.obs['HD/2'] = log_act['HD/2']\n",
    "    sc.pl.dotplot(ad_act,\n",
    "                groupby='celltype',\n",
    "                cmap='Blues',\n",
    "                var_names=r['module_name'],\n",
    "                figsize=[2, 3.2],\n",
    "                colorbar_title='mean activity in group')\n",
    "    sc.pl.dotplot(rna_sel,\n",
    "                  groupby='celltype',\n",
    "                  var_names=r['gene_name'],\n",
    "                  figsize=[2, 3.2])"
   ]
  },
  {
   "cell_type": "code",
   "execution_count": null,
   "metadata": {},
   "outputs": [
    {
     "ename": "",
     "evalue": "",
     "output_type": "error",
     "traceback": [
      "\u001b[1;31mFailed to start the Kernel 'mubind (02_2_2_scatac_multiome_pancreas_priors_evaluate.ipynb)'. \n",
      "\u001b[1;31mView Jupyter <a href='command:jupyter.viewOutput'>log</a> for further details. Unable to get resolved server information for ms-toolsai.jupyter:_builtin.jupyterServerUrlProvider:faffaaee-285d-4b41-bf8d-0bcbf9ccf2c5"
     ]
    }
   ],
   "source": [
    "### attempt to show together\n",
    "\n",
    "for key_interaction in varm_ligrec_by_k:\n",
    "    # if not 'Resident' in key_interaction:\n",
    "    #     continue\n",
    "    \n",
    "    viz = varm_ligrec_by_k[key_interaction]\n",
    "        \n",
    "    obs = viz[['group']]\n",
    "    obs['k2'] = obs.index.str.replace('index_', '').str.replace('neighbor', '') + '_' + obs['group']\n",
    "    viz = anndata.AnnData(viz[viz.columns[1:]], obs=obs)\n",
    "\n",
    "\n",
    "    import matplotlib.pyplot as plt\n",
    "    from matplotlib import rcParams\n",
    "    from matplotlib import colors\n",
    "    import matplotlib.pyplot as plt\n",
    "    import matplotlib.patches as patches\n",
    "\n",
    "    plt.rcParams['figure.dpi'] = 150\n",
    "    SMALL_SIZE = 14\n",
    "    MEDIUM_SIZE = 19\n",
    "    BIGGER_SIZE = 21\n",
    "    plt.rc('font', size=SMALL_SIZE)          # controls default text sizes\n",
    "    plt.rc('axes', titlesize=SMALL_SIZE)     # fontsize of the axes title\n",
    "    plt.rc('axes', labelsize=SMALL_SIZE)    # fontsize of the x and y labels\n",
    "    plt.rc('xtick', labelsize=SMALL_SIZE)    # fontsize of the tick labels\n",
    "    plt.rc('ytick', labelsize=SMALL_SIZE)    # fontsize of the tick labels\n",
    "    plt.rc('legend', fontsize=SMALL_SIZE)    # legend fontsize\n",
    "    plt.rc('figure', titlesize=BIGGER_SIZE)  # fontsize of the figure title\n",
    "\n",
    "    viz_df = viz.to_df()\n",
    "    print(viz_df.shape)\n",
    "\n",
    "    viz_df.index = viz.obs['k2']\n",
    "    z = viz_df.copy()\n",
    "    for c in z:\n",
    "        z[c] = (z[c] - z[c].mean()) / z[c].std()\n",
    "\n",
    "    tree_genes_2 = viz_df.idxmax(axis=1).to_dict()\n",
    "\n",
    "    tree_genes = {}\n",
    "    for k in tree_genes_2:\n",
    "        tree_genes[k] = set([tree_genes_2[k]])\n",
    "\n",
    "    z = z.T\n",
    "    tree_genes = {}\n",
    "    n = 3\n",
    "    for c in z:\n",
    "        tree_genes[c] = set(z.sort_values(c, ascending=False).index[:n])\n",
    "    tree_genes\n",
    "\n",
    "    diagonal_rectangle_heights = { k: 1 for k in tree_genes}\n",
    "    #     'AT1'                                  :2,\n",
    "    #     'AT2'                                  :2,\n",
    "    #     'Club'                                 :2,\n",
    "    #     'Multiciliated'                        :2,\n",
    "    #     'Deuterosomal'                         :2,\n",
    "    # #    'Basal'                                :2,\n",
    "    # #    'Smooth muscle'                        :2,\n",
    "    # #    'Pericytes'                            :2,\n",
    "    # #    'Adventitial Fibroblast'               :1,\n",
    "    # #    'Alveolar Fibroblast'                  :2,\n",
    "    # #    '(Vascular) Endothelial cell'          :2,\n",
    "    # #    'Cappillary (G) endothelial cell'      :2,\n",
    "    # #    'Cappillary Aerocyte endothelial cell' :1,\n",
    "    # #    'Lymphatic EC'                         :1,    \n",
    "    #     'Lymphocyte'                           :2,\n",
    "    # #    'DC'                                   :1,\n",
    "    # #   'Monocytes'                            :1,\n",
    "    # #    'Alv Macrophage'                       :2,\n",
    "    #     'Interstitial macrophages'             :2,\n",
    "    #     'Mast cells'                           :2,\n",
    "    # }\n",
    "\n",
    "    dot_color_df = viz_df # [list(set(g for k in tree_genes for g in tree_genes[k]))]\n",
    "    # dot_color_df[dot_color_df < 0] = -dot_color_df[dot_color_df < 0]\n",
    "    # dot_color_df.index = viz.obs_names\n",
    "\n",
    "    sc_ct_list = [k for k in set(viz.obs['k2']) if 'immune' in k]\n",
    "    ST_ct_list_with_space = [k for k in set(viz.obs['k2']) if 'tumor' in k]\n",
    "\n",
    "    genes_by_group = {}\n",
    "    for ri, r in cellphone_interactions.iterrows():\n",
    "        # print(r)\n",
    "        a, b = str(r['protein_name_a']).split('_')[0], str(r['protein_name_b']).split('_')[0]\n",
    "\n",
    "        found_a = False\n",
    "        found_b = False\n",
    "        for ct in tree_genes:\n",
    "            if a in tree_genes[ct]:\n",
    "                found_a = True\n",
    "            if b in tree_genes[ct]:\n",
    "                found_b = True\n",
    "\n",
    "        key_class = ' '.join(str(r['classification']).split(' ')[2:])\n",
    "        if key_class == '':\n",
    "            key_class = 'Others'\n",
    "        # print(key_class)\n",
    "\n",
    "        if a != 'nan' and found_a:\n",
    "            if not key_class in genes_by_group:\n",
    "                genes_by_group[key_class] = set()\n",
    "            genes_by_group[key_class].add(a)\n",
    "        if b != 'nan' and found_b:\n",
    "            if not key_class in genes_by_group:\n",
    "                genes_by_group[key_class] = set()\n",
    "            genes_by_group[key_class].add(b)\n",
    "        # if a in cpdb_names or b in cpdb_names:\n",
    "\n",
    "\n",
    "    ## remove duplicates and empty\n",
    "    order = [v for g in genes_by_group for v in genes_by_group[g]]\n",
    "    order = list(dict.fromkeys(order))\n",
    "    # order\n",
    "    found_genes = set()\n",
    "    for g in genes_by_group:\n",
    "        values_group = [v for v in genes_by_group[g]]\n",
    "        for v in values_group:\n",
    "            if not v in found_genes:\n",
    "                found_genes.add(v)\n",
    "            else:\n",
    "                genes_by_group[g].remove(v)\n",
    "\n",
    "    # remove empty gruops\n",
    "    key_groups = list(genes_by_group.keys())\n",
    "    for g in key_groups:\n",
    "        if len(genes_by_group[g]) == 0:\n",
    "            del genes_by_group[g]\n",
    "\n",
    "    fig = plt.figure(figsize=(10,5),\n",
    "                    dpi=150)\n",
    "    ax = plt.gca()\n",
    "\n",
    "    reduced_tree_genes = {ct: tree_genes[ct] for ct in diagonal_rectangle_heights}\n",
    "\n",
    "    print(viz.shape, dot_color_df.shape)\n",
    "    # one can add arbitrary names\n",
    "    # reduced_tree_genes['hello'] = reduced_tree_genes['AngiogenicTAMs:_MES2like2_immune']\n",
    "\n",
    "    vmax = 0.2\n",
    "    dp = sc.pl.DotPlot(viz,\n",
    "                    genes_by_group, # reduced_tree_genes,\n",
    "                    groupby=\"k2\",\n",
    "                    ax=ax,cmap=\"bwr\",\n",
    "                    vmin=-vmax,vmax=vmax,\n",
    "                    var_group_rotation=90, # var_group_positions='ha',\n",
    "                    dot_color_df=dot_color_df)\n",
    "                    # standard_scale='var')\n",
    "\n",
    "    # dp.dot_max = .9\n",
    "    # dp.dot_min = 0.01\n",
    "    # dp.smallest_dot=.15\n",
    "    dp.make_figure()\n",
    "\n",
    "    # assuming no duplicates, this is the matrix to inspect pairs.\n",
    "    data = dot_color_df[[v for g in genes_by_group for v in genes_by_group[g]]]\n",
    "\n",
    "    x_coord = 0\n",
    "\n",
    "    thr_max = .1\n",
    "    thr_diff = .1\n",
    "    diffs = []\n",
    "    for ci, c in enumerate(data):\n",
    "        for i in range(0, len(data[c]), 2):\n",
    "            a, b = data[c][i], data[c][i + 1]\n",
    "            diffs.append([c, a, b, abs(a - b)])\n",
    "            if abs(a - b) > thr_diff and abs(max(a, b)) > thr_max and (a > 0 or b > 0):\n",
    "                print(c, a, b)\n",
    "                rect = patches.Rectangle((ci, i), 1, 2,\n",
    "                                        linewidth=2,\n",
    "                                        linestyle='--',\n",
    "                                        edgecolor='green',\n",
    "                                        facecolor='none')#, zorder=1)\n",
    "                dp.ax_dict[\"mainplot_ax\"].add_patch(rect)\n",
    "\n",
    "    for ct,height in diagonal_rectangle_heights.items():\n",
    "        break\n",
    "        print(ct, height)\n",
    "        y = dot_color_df.index.get_loc(ct)\n",
    "        width = len(tree_genes[ct])\n",
    "        if height != 0:\n",
    "            rect = patches.Rectangle((x_coord, y), width, height, linewidth=1, edgecolor='black', facecolor='none')#, zorder=1)\n",
    "            dp.ax_dict[\"mainplot_ax\"].add_patch(rect)\n",
    "        x_coord += width\n",
    "        \n",
    "\n",
    "    old_ytick_labels = dp.ax_dict[\"mainplot_ax\"].get_yticklabels()\n",
    "    new_ticks = []\n",
    "    yshift = 0\n",
    "    for i, lab in enumerate(old_ytick_labels):\n",
    "        # print(lab)\n",
    "        x, y = lab.get_position()\n",
    "        old_text = lab._text\n",
    "        if lab._text in sc_ct_list:\n",
    "            lab._text = '_'.join(lab._text.split('_')[:2]) + ' ' + lab._text.split('_')[-1]\n",
    "            lab.set_color('purple')\n",
    "            lab.set_x(x)\n",
    "            lab.set_y(y + yshift)\n",
    "            # print(x, y)\n",
    "            new_ticks.append(y + yshift)\n",
    "        elif lab._text in ST_ct_list_with_space:\n",
    "            lab._text = old_text.split('_')[-1]\n",
    "            lab.set_color('green')\n",
    "            new_ticks.append(y + yshift)\n",
    "        old_ytick_labels[i] = lab\n",
    "\n",
    "    # print(old_ytick_labels)\n",
    "    dp.ax_dict[\"mainplot_ax\"].set_yticklabels(old_ytick_labels)\n",
    "    print(dp.ax_dict[\"mainplot_ax\"].get_yticklabels())\n",
    "    print(dp.ax_dict[\"mainplot_ax\"].set_yticks(new_ticks))\n",
    "    print(dp.ax_dict[\"mainplot_ax\"].get_yticks())\n",
    "\n",
    "\n",
    "    # plt.show()\n",
    "    # fig.savefig(\"./dotplot_sc_and_ST.png\", bbox_inches = \"tight\")\n",
    "\n",
    "    # break\n"
   ]
  },
  {
   "cell_type": "code",
   "execution_count": null,
   "metadata": {},
   "outputs": [
    {
     "ename": "",
     "evalue": "",
     "output_type": "error",
     "traceback": [
      "\u001b[1;31mFailed to start the Kernel 'mubind (02_2_2_scatac_multiome_pancreas_priors_evaluate.ipynb)'. \n",
      "\u001b[1;31mView Jupyter <a href='command:jupyter.viewOutput'>log</a> for further details. Unable to get resolved server information for ms-toolsai.jupyter:_builtin.jupyterServerUrlProvider:faffaaee-285d-4b41-bf8d-0bcbf9ccf2c5"
     ]
    }
   ],
   "source": [
    "sc.pl.umap(rna_sel, color='Isl1', cmap='Blues')\n"
   ]
  },
  {
   "cell_type": "code",
   "execution_count": null,
   "metadata": {},
   "outputs": [
    {
     "ename": "",
     "evalue": "",
     "output_type": "error",
     "traceback": [
      "\u001b[1;31mFailed to start the Kernel 'mubind (02_2_2_scatac_multiome_pancreas_priors_evaluate.ipynb)'. \n",
      "\u001b[1;31mView Jupyter <a href='command:jupyter.viewOutput'>log</a> for further details. Unable to get resolved server information for ms-toolsai.jupyter:_builtin.jupyterServerUrlProvider:faffaaee-285d-4b41-bf8d-0bcbf9ccf2c5"
     ]
    }
   ],
   "source": [
    "ad_act"
   ]
  },
  {
   "cell_type": "code",
   "execution_count": null,
   "metadata": {},
   "outputs": [
    {
     "ename": "",
     "evalue": "",
     "output_type": "error",
     "traceback": [
      "\u001b[1;31mFailed to start the Kernel 'mubind (02_2_2_scatac_multiome_pancreas_priors_evaluate.ipynb)'. \n",
      "\u001b[1;31mView Jupyter <a href='command:jupyter.viewOutput'>log</a> for further details. Unable to get resolved server information for ms-toolsai.jupyter:_builtin.jupyterServerUrlProvider:faffaaee-285d-4b41-bf8d-0bcbf9ccf2c5"
     ]
    }
   ],
   "source": [
    "from matplotlib import rcParams, cm\n",
    "cmap = cm.get_cmap('YlOrRd')\n",
    "cmap.set_over('black')\n",
    "cmap.set_under('lightgray')"
   ]
  },
  {
   "cell_type": "code",
   "execution_count": null,
   "metadata": {},
   "outputs": [
    {
     "ename": "",
     "evalue": "",
     "output_type": "error",
     "traceback": [
      "\u001b[1;31mFailed to start the Kernel 'mubind (02_2_2_scatac_multiome_pancreas_priors_evaluate.ipynb)'. \n",
      "\u001b[1;31mView Jupyter <a href='command:jupyter.viewOutput'>log</a> for further details. Unable to get resolved server information for ms-toolsai.jupyter:_builtin.jupyterServerUrlProvider:faffaaee-285d-4b41-bf8d-0bcbf9ccf2c5"
     ]
    }
   ],
   "source": [
    "cmap"
   ]
  },
  {
   "cell_type": "code",
   "execution_count": null,
   "metadata": {},
   "outputs": [
    {
     "ename": "",
     "evalue": "",
     "output_type": "error",
     "traceback": [
      "\u001b[1;31mFailed to start the Kernel 'mubind (02_2_2_scatac_multiome_pancreas_priors_evaluate.ipynb)'. \n",
      "\u001b[1;31mView Jupyter <a href='command:jupyter.viewOutput'>log</a> for further details. Unable to get resolved server information for ms-toolsai.jupyter:_builtin.jupyterServerUrlProvider:faffaaee-285d-4b41-bf8d-0bcbf9ccf2c5"
     ]
    }
   ],
   "source": [
    "sc.pl.embedding(rna_sel, basis='X_umap', color='Ehf', color_map=cmap)\n"
   ]
  }
 ],
 "metadata": {
  "kernelspec": {
   "display_name": "mubind",
   "language": "python",
   "name": "mubind"
  }
 },
 "nbformat": 4,
 "nbformat_minor": 2
}
