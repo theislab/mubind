{
 "cells": [
  {
   "cell_type": "code",
   "execution_count": 1,
   "id": "004d2a17-2952-4822-83ae-09dd177136d6",
   "metadata": {
    "pycharm": {
     "name": "#%%\n"
    }
   },
   "outputs": [],
   "source": [
    "%load_ext autoreload\n",
    "%autoreload 2"
   ]
  },
  {
   "cell_type": "code",
   "execution_count": 2,
   "id": "cd157681",
   "metadata": {
    "collapsed": false,
    "jupyter": {
     "outputs_hidden": false
    },
    "pycharm": {
     "name": "#%%\n"
    }
   },
   "outputs": [],
   "source": [
    "import os\n",
    "working_dir = os.path.expanduser('~/workspace/theislab/mubind/docs/notebooks/scatac')\n",
    "if os.path.exists(working_dir):\n",
    "    os.chdir(working_dir)"
   ]
  },
  {
   "cell_type": "code",
   "execution_count": 3,
   "id": "196b204d",
   "metadata": {
    "collapsed": false,
    "jupyter": {
     "outputs_hidden": false
    },
    "pycharm": {
     "name": "#%%\n"
    }
   },
   "outputs": [
    {
     "data": {
      "text/plain": [
       "'/mnt/c/Users/IgnacioIbarra/Dropbox/workspace/theislab/mubind/docs/notebooks/scatac'"
      ]
     },
     "execution_count": 3,
     "metadata": {},
     "output_type": "execute_result"
    }
   ],
   "source": [
    "pwd"
   ]
  },
  {
   "cell_type": "code",
   "execution_count": 4,
   "id": "27c59d94-fd4a-4a3c-9abf-5109ef97c02f",
   "metadata": {
    "pycharm": {
     "name": "#%%\n"
    }
   },
   "outputs": [
    {
     "name": "stdout",
     "output_type": "stream",
     "text": [
      "Using device: cuda:0\n"
     ]
    }
   ],
   "source": [
    "import mubind as mb\n",
    "import numpy as np\n",
    "import pandas as pd\n",
    "import torch\n",
    "import bindome as bd\n",
    "bd.constants.ANNOTATIONS_DIRECTORY = 'annotations'\n",
    "# mb.models.Mubind\n",
    "import torch.optim as topti\n",
    "import torch.utils.data as tdata\n",
    "import matplotlib.pyplot as plt\n",
    "import logomaker\n",
    "import os\n",
    "import scipy\n",
    "import pickle\n",
    "\n",
    "# Use a GPU if available, as it should be faster.\n",
    "device = torch.device(\"cuda:0\" if torch.cuda.is_available() else \"cpu\")\n",
    "print(\"Using device: \" + str(device))"
   ]
  },
  {
   "cell_type": "code",
   "execution_count": 5,
   "id": "e226d21e-d360-4316-872a-777b6895b51e",
   "metadata": {
    "pycharm": {
     "name": "#%%\n"
    }
   },
   "outputs": [
    {
     "data": {
      "text/plain": [
       "True"
      ]
     },
     "execution_count": 5,
     "metadata": {},
     "output_type": "execute_result"
    }
   ],
   "source": [
    "atac_path = '../../../annotations/scatac/pancreas_multiome_2022_processed_sample_10000.h5ad'\n",
    "os.path.exists(atac_path)"
   ]
  },
  {
   "cell_type": "code",
   "execution_count": 6,
   "id": "e8d07386",
   "metadata": {
    "collapsed": false,
    "jupyter": {
     "outputs_hidden": false
    },
    "pycharm": {
     "name": "#%%\n"
    }
   },
   "outputs": [],
   "source": [
    "import scanpy as sc\n",
    "adata = sc.read_h5ad(atac_path)"
   ]
  },
  {
   "cell_type": "code",
   "execution_count": 7,
   "id": "bf49995b",
   "metadata": {
    "collapsed": false,
    "jupyter": {
     "outputs_hidden": false
    },
    "pycharm": {
     "name": "#%%\n"
    }
   },
   "outputs": [
    {
     "data": {
      "text/plain": [
       "AnnData object with n_obs × n_vars = 10000 × 10000\n",
       "    obs: 'n_counts', 'sample', 'n_genes', 'log_genes', 'mt_frac', 'rp_frac', 'ambi_frac', 'nCount_RNA', 'nFeature_RNA', 'nCount_ATAC', 'nFeature_ATAC', 'nucleosome_signal', 'nucleosome_percentile', 'TSS.enrichment', 'TSS.percentile', 'S_score', 'G2M_score', 'phase', 'proliferation', 'celltype', 'nCount_peaks', 'nFeature_peaks'\n",
       "    var: 'modality'\n",
       "    uns: 'celltype_colors', 'neighbors'\n",
       "    obsm: 'X_pca', 'X_pca_wsnn', 'X_spca_wsnn', 'X_umap', 'X_umap_ATAC', 'X_umap_GEX', 'X_umap_wsnn', 'lsi_full', 'lsi_red', 'umap', 'umap_ATAC', 'umap_GEX'\n",
       "    obsp: 'connectivities', 'connectivities_wnn', 'distances', 'distances_wnn'"
      ]
     },
     "execution_count": 7,
     "metadata": {},
     "output_type": "execute_result"
    }
   ],
   "source": [
    "adata"
   ]
  },
  {
   "cell_type": "code",
   "execution_count": 8,
   "id": "c8c093a0",
   "metadata": {
    "collapsed": false,
    "jupyter": {
     "outputs_hidden": false
    },
    "pycharm": {
     "name": "#%%\n"
    }
   },
   "outputs": [],
   "source": [
    "n_sample_cells = 500\n",
    "n_sample_peaks = 3"
   ]
  },
  {
   "cell_type": "code",
   "execution_count": 9,
   "id": "551ac37d",
   "metadata": {
    "collapsed": false,
    "jupyter": {
     "outputs_hidden": false
    },
    "pycharm": {
     "name": "#%%\n"
    }
   },
   "outputs": [
    {
     "data": {
      "text/plain": [
       "(10000, 10000)"
      ]
     },
     "execution_count": 9,
     "metadata": {},
     "output_type": "execute_result"
    }
   ],
   "source": [
    "adata.shape"
   ]
  },
  {
   "cell_type": "code",
   "execution_count": 10,
   "id": "7e30a384",
   "metadata": {
    "collapsed": false,
    "jupyter": {
     "outputs_hidden": false
    },
    "pycharm": {
     "name": "#%%\n"
    }
   },
   "outputs": [],
   "source": [
    "np.random.seed(100)\n",
    "\n",
    "adata = adata[:,adata.var.modality == 'ATAC'].copy()\n",
    "obs_sample = pd.Series(adata.obs_names).sample(n_sample_cells)\n",
    "var_sample = pd.Series(adata.var_names).sample(n_sample_peaks)\n",
    "\n",
    "adata = adata[adata.obs_names.isin(obs_sample),adata.var_names.isin(var_sample)]"
   ]
  },
  {
   "cell_type": "code",
   "execution_count": 11,
   "id": "1f4d79d9",
   "metadata": {
    "collapsed": false,
    "jupyter": {
     "outputs_hidden": false
    },
    "pycharm": {
     "name": "#%%\n"
    }
   },
   "outputs": [
    {
     "data": {
      "text/plain": [
       "(500, 3)"
      ]
     },
     "execution_count": 11,
     "metadata": {},
     "output_type": "execute_result"
    }
   ],
   "source": [
    "adata.shape"
   ]
  },
  {
   "cell_type": "code",
   "execution_count": 12,
   "id": "c5558213",
   "metadata": {
    "collapsed": false,
    "jupyter": {
     "outputs_hidden": false
    },
    "pycharm": {
     "name": "#%%\n"
    }
   },
   "outputs": [
    {
     "data": {
      "text/plain": [
       "View of AnnData object with n_obs × n_vars = 500 × 3\n",
       "    obs: 'n_counts', 'sample', 'n_genes', 'log_genes', 'mt_frac', 'rp_frac', 'ambi_frac', 'nCount_RNA', 'nFeature_RNA', 'nCount_ATAC', 'nFeature_ATAC', 'nucleosome_signal', 'nucleosome_percentile', 'TSS.enrichment', 'TSS.percentile', 'S_score', 'G2M_score', 'phase', 'proliferation', 'celltype', 'nCount_peaks', 'nFeature_peaks'\n",
       "    var: 'modality'\n",
       "    uns: 'celltype_colors', 'neighbors'\n",
       "    obsm: 'X_pca', 'X_pca_wsnn', 'X_spca_wsnn', 'X_umap', 'X_umap_ATAC', 'X_umap_GEX', 'X_umap_wsnn', 'lsi_full', 'lsi_red', 'umap', 'umap_ATAC', 'umap_GEX'\n",
       "    obsp: 'connectivities', 'connectivities_wnn', 'distances', 'distances_wnn'"
      ]
     },
     "execution_count": 12,
     "metadata": {},
     "output_type": "execute_result"
    }
   ],
   "source": [
    "adata"
   ]
  },
  {
   "cell_type": "code",
   "execution_count": 13,
   "id": "48931629",
   "metadata": {
    "collapsed": false,
    "jupyter": {
     "outputs_hidden": false
    },
    "pycharm": {
     "name": "#%%\n"
    }
   },
   "outputs": [
    {
     "data": {
      "image/png": "[encoded data removed]",
      "text/plain": [
       "<Figure size 640x480 with 1 Axes>"
      ]
     },
     "metadata": {},
     "output_type": "display_data"
    }
   ],
   "source": [
    "sc.pl.umap(adata)"
   ]
  },
  {
   "cell_type": "code",
   "execution_count": 14,
   "id": "cd34dc97",
   "metadata": {
    "collapsed": false,
    "jupyter": {
     "outputs_hidden": false
    },
    "pycharm": {
     "name": "#%%\n"
    }
   },
   "outputs": [
    {
     "data": {
      "text/html": [
       "<div>\n",
       "<style scoped>\n",
       "    .dataframe tbody tr th:only-of-type {\n",
       "        vertical-align: middle;\n",
       "    }\n",
       "\n",
       "    .dataframe tbody tr th {\n",
       "        vertical-align: top;\n",
       "    }\n",
       "\n",
       "    .dataframe thead th {\n",
       "        text-align: right;\n",
       "    }\n",
       "</style>\n",
       "<table border=\"1\" class=\"dataframe\">\n",
       "  <thead>\n",
       "    <tr style=\"text-align: right;\">\n",
       "      <th></th>\n",
       "      <th>modality</th>\n",
       "    </tr>\n",
       "  </thead>\n",
       "  <tbody>\n",
       "    <tr>\n",
       "      <th>3-63786611-63787410</th>\n",
       "      <td>ATAC</td>\n",
       "    </tr>\n",
       "    <tr>\n",
       "      <th>10-67578442-67578949</th>\n",
       "      <td>ATAC</td>\n",
       "    </tr>\n",
       "    <tr>\n",
       "      <th>11-50114145-50115009</th>\n",
       "      <td>ATAC</td>\n",
       "    </tr>\n",
       "  </tbody>\n",
       "</table>\n",
       "</div>"
      ],
      "text/plain": [
       "                     modality\n",
       "3-63786611-63787410      ATAC\n",
       "10-67578442-67578949     ATAC\n",
       "11-50114145-50115009     ATAC"
      ]
     },
     "execution_count": 14,
     "metadata": {},
     "output_type": "execute_result"
    }
   ],
   "source": [
    "adata.var"
   ]
  },
  {
   "cell_type": "code",
   "execution_count": 15,
   "id": "6cf0f869",
   "metadata": {
    "collapsed": false,
    "jupyter": {
     "outputs_hidden": false
    },
    "pycharm": {
     "name": "#%%\n"
    }
   },
   "outputs": [],
   "source": [
    "adata.var['chr'] = 'chr' + adata.var_names.str.split('-').str[0]\n",
    "adata.var['start'] = adata.var_names.str.split('-').str[1].astype(int)\n",
    "adata.var['end'] = adata.var_names.str.split('-').str[2].astype(int)"
   ]
  },
  {
   "cell_type": "code",
   "execution_count": 16,
   "id": "29761710",
   "metadata": {
    "collapsed": false,
    "jupyter": {
     "outputs_hidden": false
    },
    "pycharm": {
     "name": "#%%\n"
    }
   },
   "outputs": [
    {
     "data": {
      "text/plain": [
       "chr\n",
       "chr3     1\n",
       "chr10    1\n",
       "chr11    1\n",
       "Name: count, dtype: int64"
      ]
     },
     "execution_count": 16,
     "metadata": {},
     "output_type": "execute_result"
    }
   ],
   "source": [
    "extend = 50\n",
    "\n",
    "adata.var['chr'].value_counts()"
   ]
  },
  {
   "cell_type": "code",
   "execution_count": 17,
   "id": "76e919d8",
   "metadata": {
    "collapsed": false,
    "jupyter": {
     "outputs_hidden": false
    },
    "pycharm": {
     "name": "#%%\n"
    }
   },
   "outputs": [],
   "source": [
    "adata.var['summit'] = ((adata.var['end'] + adata.var['start']) / 2).astype(int)\n",
    "adata.var['summit.start'] = adata.var['summit'] - extend\n",
    "adata.var['summit.end'] = adata.var['summit'] + extend"
   ]
  },
  {
   "cell_type": "code",
   "execution_count": 18,
   "id": "2f6301bc-467a-4b74-a736-3e2613aab729",
   "metadata": {
    "pycharm": {
     "name": "#%%\n"
    }
   },
   "outputs": [],
   "source": [
    "adata.var['k.summit'] = adata.var['chr'] + ':' + adata.var['summit.start'].astype(str) + '-' + adata.var['summit.end'].astype(str)"
   ]
  },
  {
   "cell_type": "code",
   "execution_count": 19,
   "id": "3cf46010-160b-48b0-91a7-52465540a639",
   "metadata": {
    "pycharm": {
     "name": "#%%\n"
    }
   },
   "outputs": [
    {
     "data": {
      "text/plain": [
       "(500, 3)"
      ]
     },
     "execution_count": 19,
     "metadata": {},
     "output_type": "execute_result"
    }
   ],
   "source": [
    "adata.shape"
   ]
  },
  {
   "cell_type": "code",
   "execution_count": 20,
   "id": "2d0d0572",
   "metadata": {},
   "outputs": [],
   "source": [
    "!which bedtools"
   ]
  },
  {
   "cell_type": "code",
   "execution_count": 21,
   "id": "7effe82e-e5d9-4eb2-810d-8aa4cd6b0963",
   "metadata": {
    "pycharm": {
     "name": "#%%\n"
    }
   },
   "outputs": [
    {
     "name": "stdout",
     "output_type": "stream",
     "text": [
      "/tmp/tmptr0a4wsq\n",
      "genome mm10 True\n",
      "../../../annotations/mm10/genome/mm10.fa\n",
      "True ../../../annotations/mm10/genome/mm10.fa\n",
      "running bedtools...\n",
      "['bedtools', 'getfasta', '-fi', '../../../annotations/mm10/genome/mm10.fa', '-bed', '/tmp/tmptr0a4wsq', '-fo', '/tmp/tmp1ipnz357']\n",
      "bedtools getfasta -fi ../../../annotations/mm10/genome/mm10.fa -bed /tmp/tmptr0a4wsq -fo /tmp/tmp1ipnz357\n"
     ]
    },
    {
     "name": "stderr",
     "output_type": "stream",
     "text": [
      "sh: 1: bedtools: not found\n"
     ]
    }
   ],
   "source": [
    "n_seqs = 10000 # adata.shape[1] # None # 1000\n",
    "seqs = mb.bindome.tl.get_sequences_from_bed(adata.var[['chr', 'summit.start', 'summit.end']].head(n_seqs), genome='mm10', uppercase=True,\n",
    "                                            gen_path='../../../annotations/mm10/genome/mm10.fa')\n",
    "keys = set([s[0] for s in seqs])\n",
    "adata = adata[:,adata.var['k.summit'].isin(keys)]\n",
    "# seqs = [[s[0], s[1].upper()] for s in seqs[0]]"
   ]
  },
  {
   "cell_type": "code",
   "execution_count": 22,
   "id": "71165181",
   "metadata": {
    "collapsed": false,
    "jupyter": {
     "outputs_hidden": false
    },
    "pycharm": {
     "name": "#%%\n"
    }
   },
   "outputs": [
    {
     "data": {
      "text/plain": [
       "1"
      ]
     },
     "execution_count": 22,
     "metadata": {},
     "output_type": "execute_result"
    }
   ],
   "source": [
    "len(seqs)"
   ]
  },
  {
   "cell_type": "code",
   "execution_count": 23,
   "id": "23ee49be",
   "metadata": {
    "collapsed": false,
    "jupyter": {
     "outputs_hidden": false
    },
    "pycharm": {
     "name": "#%%\n"
    }
   },
   "outputs": [],
   "source": [
    "# remove Ns\n",
    "for s in seqs:\n",
    "    if 'N' in s:\n",
    "        assert False\n",
    "    # seqs = [[s[0], s[1].replace('N', '')] for s in seqs]\n",
    "counts = adata.X.T"
   ]
  },
  {
   "cell_type": "code",
   "execution_count": 24,
   "id": "6c7c007a-f087-40d5-8930-acbf575c91b5",
   "metadata": {
    "pycharm": {
     "name": "#%%\n"
    }
   },
   "outputs": [
    {
     "ename": "ValueError",
     "evalue": "Length mismatch: Expected axis has 0 elements, new values have 1 elements",
     "output_type": "error",
     "traceback": [
      "\u001b[0;31m---------------------------------------------------------------------------\u001b[0m",
      "\u001b[0;31mValueError\u001b[0m                                Traceback (most recent call last)",
      "Cell \u001b[0;32mIn[24], line 14\u001b[0m\n\u001b[1;32m     11\u001b[0m next_data[\u001b[38;5;124m'\u001b[39m\u001b[38;5;124mvar\u001b[39m\u001b[38;5;124m'\u001b[39m] \u001b[38;5;241m=\u001b[39m next_data\u001b[38;5;241m.\u001b[39mvar(axis\u001b[38;5;241m=\u001b[39m\u001b[38;5;241m1\u001b[39m)\n\u001b[1;32m     12\u001b[0m \u001b[38;5;66;03m# next_data = next_data[range(100)].copy()\u001b[39;00m\n\u001b[0;32m---> 14\u001b[0m \u001b[43mnext_data\u001b[49m\u001b[38;5;241;43m.\u001b[39;49m\u001b[43mindex\u001b[49m \u001b[38;5;241m=\u001b[39m [s[\u001b[38;5;241m1\u001b[39m] \u001b[38;5;28;01mfor\u001b[39;00m s \u001b[38;5;129;01min\u001b[39;00m seqs]\n\u001b[1;32m     15\u001b[0m next_data\u001b[38;5;241m.\u001b[39mindex\u001b[38;5;241m.\u001b[39mname \u001b[38;5;241m=\u001b[39m \u001b[38;5;124m'\u001b[39m\u001b[38;5;124mseq\u001b[39m\u001b[38;5;124m'\u001b[39m\n\u001b[1;32m     16\u001b[0m next_data\u001b[38;5;241m.\u001b[39mshape\n",
      "File \u001b[0;32m~/.conda/envs/mubind/lib/python3.8/site-packages/pandas/core/generic.py:6002\u001b[0m, in \u001b[0;36mNDFrame.__setattr__\u001b[0;34m(self, name, value)\u001b[0m\n\u001b[1;32m   6000\u001b[0m \u001b[38;5;28;01mtry\u001b[39;00m:\n\u001b[1;32m   6001\u001b[0m     \u001b[38;5;28mobject\u001b[39m\u001b[38;5;241m.\u001b[39m\u001b[38;5;21m__getattribute__\u001b[39m(\u001b[38;5;28mself\u001b[39m, name)\n\u001b[0;32m-> 6002\u001b[0m     \u001b[38;5;28;01mreturn\u001b[39;00m \u001b[38;5;28;43mobject\u001b[39;49m\u001b[38;5;241;43m.\u001b[39;49m\u001b[38;5;21;43m__setattr__\u001b[39;49m\u001b[43m(\u001b[49m\u001b[38;5;28;43mself\u001b[39;49m\u001b[43m,\u001b[49m\u001b[43m \u001b[49m\u001b[43mname\u001b[49m\u001b[43m,\u001b[49m\u001b[43m \u001b[49m\u001b[43mvalue\u001b[49m\u001b[43m)\u001b[49m\n\u001b[1;32m   6003\u001b[0m \u001b[38;5;28;01mexcept\u001b[39;00m \u001b[38;5;167;01mAttributeError\u001b[39;00m:\n\u001b[1;32m   6004\u001b[0m     \u001b[38;5;28;01mpass\u001b[39;00m\n",
      "File \u001b[0;32m~/.conda/envs/mubind/lib/python3.8/site-packages/pandas/_libs/properties.pyx:69\u001b[0m, in \u001b[0;36mpandas._libs.properties.AxisProperty.__set__\u001b[0;34m()\u001b[0m\n",
      "File \u001b[0;32m~/.conda/envs/mubind/lib/python3.8/site-packages/pandas/core/generic.py:730\u001b[0m, in \u001b[0;36mNDFrame._set_axis\u001b[0;34m(self, axis, labels)\u001b[0m\n\u001b[1;32m    725\u001b[0m \u001b[38;5;250m\u001b[39m\u001b[38;5;124;03m\"\"\"\u001b[39;00m\n\u001b[1;32m    726\u001b[0m \u001b[38;5;124;03mThis is called from the cython code when we set the `index` attribute\u001b[39;00m\n\u001b[1;32m    727\u001b[0m \u001b[38;5;124;03mdirectly, e.g. `series.index = [1, 2, 3]`.\u001b[39;00m\n\u001b[1;32m    728\u001b[0m \u001b[38;5;124;03m\"\"\"\u001b[39;00m\n\u001b[1;32m    729\u001b[0m labels \u001b[38;5;241m=\u001b[39m ensure_index(labels)\n\u001b[0;32m--> 730\u001b[0m \u001b[38;5;28;43mself\u001b[39;49m\u001b[38;5;241;43m.\u001b[39;49m\u001b[43m_mgr\u001b[49m\u001b[38;5;241;43m.\u001b[39;49m\u001b[43mset_axis\u001b[49m\u001b[43m(\u001b[49m\u001b[43maxis\u001b[49m\u001b[43m,\u001b[49m\u001b[43m \u001b[49m\u001b[43mlabels\u001b[49m\u001b[43m)\u001b[49m\n\u001b[1;32m    731\u001b[0m \u001b[38;5;28mself\u001b[39m\u001b[38;5;241m.\u001b[39m_clear_item_cache()\n",
      "File \u001b[0;32m~/.conda/envs/mubind/lib/python3.8/site-packages/pandas/core/internals/managers.py:225\u001b[0m, in \u001b[0;36mBaseBlockManager.set_axis\u001b[0;34m(self, axis, new_labels)\u001b[0m\n\u001b[1;32m    223\u001b[0m \u001b[38;5;28;01mdef\u001b[39;00m \u001b[38;5;21mset_axis\u001b[39m(\u001b[38;5;28mself\u001b[39m, axis: AxisInt, new_labels: Index) \u001b[38;5;241m-\u001b[39m\u001b[38;5;241m>\u001b[39m \u001b[38;5;28;01mNone\u001b[39;00m:\n\u001b[1;32m    224\u001b[0m     \u001b[38;5;66;03m# Caller is responsible for ensuring we have an Index object.\u001b[39;00m\n\u001b[0;32m--> 225\u001b[0m     \u001b[38;5;28;43mself\u001b[39;49m\u001b[38;5;241;43m.\u001b[39;49m\u001b[43m_validate_set_axis\u001b[49m\u001b[43m(\u001b[49m\u001b[43maxis\u001b[49m\u001b[43m,\u001b[49m\u001b[43m \u001b[49m\u001b[43mnew_labels\u001b[49m\u001b[43m)\u001b[49m\n\u001b[1;32m    226\u001b[0m     \u001b[38;5;28mself\u001b[39m\u001b[38;5;241m.\u001b[39maxes[axis] \u001b[38;5;241m=\u001b[39m new_labels\n",
      "File \u001b[0;32m~/.conda/envs/mubind/lib/python3.8/site-packages/pandas/core/internals/base.py:70\u001b[0m, in \u001b[0;36mDataManager._validate_set_axis\u001b[0;34m(self, axis, new_labels)\u001b[0m\n\u001b[1;32m     67\u001b[0m     \u001b[38;5;28;01mpass\u001b[39;00m\n\u001b[1;32m     69\u001b[0m \u001b[38;5;28;01melif\u001b[39;00m new_len \u001b[38;5;241m!=\u001b[39m old_len:\n\u001b[0;32m---> 70\u001b[0m     \u001b[38;5;28;01mraise\u001b[39;00m \u001b[38;5;167;01mValueError\u001b[39;00m(\n\u001b[1;32m     71\u001b[0m         \u001b[38;5;124mf\u001b[39m\u001b[38;5;124m\"\u001b[39m\u001b[38;5;124mLength mismatch: Expected axis has \u001b[39m\u001b[38;5;132;01m{\u001b[39;00mold_len\u001b[38;5;132;01m}\u001b[39;00m\u001b[38;5;124m elements, new \u001b[39m\u001b[38;5;124m\"\u001b[39m\n\u001b[1;32m     72\u001b[0m         \u001b[38;5;124mf\u001b[39m\u001b[38;5;124m\"\u001b[39m\u001b[38;5;124mvalues have \u001b[39m\u001b[38;5;132;01m{\u001b[39;00mnew_len\u001b[38;5;132;01m}\u001b[39;00m\u001b[38;5;124m elements\u001b[39m\u001b[38;5;124m\"\u001b[39m\n\u001b[1;32m     73\u001b[0m     )\n",
      "\u001b[0;31mValueError\u001b[0m: Length mismatch: Expected axis has 0 elements, new values have 1 elements"
     ]
    }
   ],
   "source": [
    "next_data = pd.DataFrame(counts.A) # sparse.from_spmatrix(counts.A)\n",
    "# next_data = pd.DataFrame.sparse.from_spmatrix(counts)# var = []\n",
    "# for ri, r in next_data.iterrows():\n",
    "#     if ri % 1000 == 0:\n",
    "#         print(ri, next_data.shape)\n",
    "#     # print(ri, r.values[:-1], r.values[:-1].var())\n",
    "#     var.append(r.values[:-1].var())\n",
    "#     # break\n",
    "\n",
    "\n",
    "next_data['var'] = next_data.var(axis=1)\n",
    "# next_data = next_data[range(100)].copy()\n",
    "\n",
    "next_data.index = [s[1] for s in seqs]\n",
    "next_data.index.name = 'seq'\n",
    "next_data.shape\n",
    "\n",
    "n_cells = 10000\n",
    "top_var = next_data[['var']].sort_values('var', ascending=False).index[:n_cells]\n",
    "\n",
    "# next_data = next_data.head(10000)\n",
    "next_data_sel = next_data.reindex(top_var) # .reset_index(drop=True)\n",
    "\n",
    "next_data_sel\n",
    "\n",
    "del next_data_sel['var']\n",
    "# next_data_sel.index = next_data_sel['seq']\n",
    "# del next_data_sel['seq']\n",
    "\n",
    "df = next_data_sel.copy() # sample\n",
    "# df = df[df.columns[:5000]] # .head(100) # sample\n",
    "\n",
    "# shorten sequences/remove duplicates\n",
    "# df.index = df.index.astype(str).str[35:-35]\n",
    "# df = df[~df.index.duplicated(keep='first')]\n",
    "\n",
    "zero_counts = df.sum(axis=1) == 0\n",
    "df = df[~zero_counts] # remove zeroes\n",
    "\n",
    "df.shape"
   ]
  },
  {
   "cell_type": "code",
   "execution_count": null,
   "id": "a75c7230",
   "metadata": {
    "collapsed": false,
    "jupyter": {
     "outputs_hidden": false
    },
    "pycharm": {
     "name": "#%%\n"
    }
   },
   "outputs": [],
   "source": []
  },
  {
   "cell_type": "code",
   "execution_count": null,
   "id": "2cd45e71-f7d5-4813-81af-95b6b93bd924",
   "metadata": {
    "pycharm": {
     "name": "#%%\n"
    }
   },
   "outputs": [],
   "source": [
    "# sum_index = next_data[next_data.columns[:-1]].var(axis=1).sort_values(ascending=False).index"
   ]
  },
  {
   "cell_type": "raw",
   "id": "8c4c2cf1",
   "metadata": {
    "collapsed": false,
    "jupyter": {
     "outputs_hidden": false
    },
    "pycharm": {
     "name": "#%%\n"
    }
   },
   "source": [
    "--------------------"
   ]
  },
  {
   "cell_type": "code",
   "execution_count": null,
   "id": "f605ab09",
   "metadata": {
    "collapsed": false,
    "jupyter": {
     "outputs_hidden": false
    },
    "pycharm": {
     "name": "#%% md\n"
    }
   },
   "outputs": [],
   "source": []
  },
  {
   "cell_type": "code",
   "execution_count": null,
   "id": "4cfb29d7",
   "metadata": {
    "collapsed": false,
    "jupyter": {
     "outputs_hidden": false
    },
    "pycharm": {
     "name": "#%%\n"
    }
   },
   "outputs": [],
   "source": [
    "df2 = df.reset_index().melt('seq').set_index('seq')\n",
    "# add a baseline count\n",
    "df2[0] = 1.0\n",
    "cols = ['batch', 1, 0]\n",
    "df2.columns = cols\n",
    "df2 = df2[[0, 1, 'batch']] # cols[::-1]]\n",
    "df2['batch'] = df2['batch'].astype(int)\n",
    "print(df2.shape)\n",
    "print(len(set(df2['batch'])))\n",
    "n_cells = 200\n",
    "df2 = df2[df2['batch'].isin(range(0, n_cells))]\n",
    "print(df2['batch'].value_counts())\n",
    "df2.head()"
   ]
  },
  {
   "cell_type": "markdown",
   "id": "1c3871fa",
   "metadata": {
    "collapsed": false,
    "jupyter": {
     "outputs_hidden": false
    },
    "pycharm": {
     "name": "#%%\n"
    }
   },
   "source": [
    "### This is the relatedness graph and used for dynamics filters learning"
   ]
  },
  {
   "cell_type": "code",
   "execution_count": null,
   "id": "cb07ade8",
   "metadata": {
    "collapsed": false,
    "jupyter": {
     "outputs_hidden": false
    },
    "pycharm": {
     "name": "#%%\n"
    }
   },
   "outputs": [],
   "source": [
    "# sum(adata.obs_names.isin(df.index)"
   ]
  },
  {
   "cell_type": "code",
   "execution_count": null,
   "id": "ab73ec1f",
   "metadata": {
    "collapsed": false,
    "jupyter": {
     "outputs_hidden": false
    },
    "pycharm": {
     "name": "#%%\n"
    }
   },
   "outputs": [],
   "source": [
    "len(seqs)"
   ]
  },
  {
   "cell_type": "code",
   "execution_count": null,
   "id": "81e83ec2",
   "metadata": {
    "collapsed": false,
    "jupyter": {
     "outputs_hidden": false
    },
    "pycharm": {
     "name": "#%%\n"
    }
   },
   "outputs": [],
   "source": [
    "# conn_sparse = adata[:,~zero_counts].uns['neighbors']['connectivities']\n",
    "# conn_sparse"
   ]
  },
  {
   "cell_type": "code",
   "execution_count": null,
   "id": "c3c3a996",
   "metadata": {
    "collapsed": false,
    "jupyter": {
     "outputs_hidden": false
    },
    "pycharm": {
     "name": "#%%\n"
    }
   },
   "outputs": [],
   "source": [
    "# rel = conn_sparse.A\n",
    "# # rel[:n_cells,:n_cells].sum()\n",
    "# rel.shape"
   ]
  },
  {
   "cell_type": "code",
   "execution_count": null,
   "id": "91452786",
   "metadata": {
    "collapsed": false,
    "jupyter": {
     "outputs_hidden": false
    },
    "pycharm": {
     "name": "#%%\n"
    }
   },
   "outputs": [],
   "source": [
    "# df2 = []\n",
    "# for i in df.columns:\n",
    "#     df3 = df[[i]].copy()\n",
    "#     df3 = df3.head(100)\n",
    "#     df3.columns = [0]\n",
    "#     df3[1] = 1 # need a minimal non-zero count\n",
    "#     df3['batch'] = i\n",
    "#     df2.append(df3)\n",
    "# df2 = pd.concat(df2)\n",
    "# # df2['is_count_data'] = True\n",
    "# dataset = mb.datasets.SelexDataset(df2, n_rounds=2, labels=[0, 1], enr_series=False)\n",
    "dataset = mb.datasets.SelexDataset(df, n_rounds=df.shape[1], enr_series=False)\n",
    "len(set(dataset.batch))"
   ]
  },
  {
   "cell_type": "code",
   "execution_count": null,
   "id": "5e9feab0",
   "metadata": {
    "collapsed": false,
    "jupyter": {
     "outputs_hidden": false
    },
    "pycharm": {
     "name": "#%%\n"
    }
   },
   "outputs": [],
   "source": [
    "n_batch = len(set(dataset.batch))\n",
    "n_batch"
   ]
  },
  {
   "cell_type": "code",
   "execution_count": null,
   "id": "5763336a",
   "metadata": {
    "collapsed": false,
    "jupyter": {
     "outputs_hidden": false
    },
    "pycharm": {
     "name": "#%%\n"
    }
   },
   "outputs": [],
   "source": [
    "# df = next_data_sel.copy()\n",
    "# dataset = mb.datasets.GenomicsDataset(df)\n",
    "# train = tdata.DataLoader(dataset=dataset, batch_size=1000, shuffle=True)\n",
    "\n",
    "train = tdata.DataLoader(dataset=dataset, batch_size=1024, shuffle=True)\n"
   ]
  },
  {
   "cell_type": "code",
   "execution_count": null,
   "id": "549cbe12",
   "metadata": {
    "collapsed": false,
    "jupyter": {
     "outputs_hidden": false
    },
    "pycharm": {
     "name": "#%%\n"
    }
   },
   "outputs": [],
   "source": [
    "# log_etas = torch.tensor(np.log(df.sum(axis=0) / df.sum().sum())).reshape(1, n_batch).to(device)\n",
    "# log_etas"
   ]
  },
  {
   "cell_type": "code",
   "execution_count": null,
   "id": "a7d12469",
   "metadata": {
    "collapsed": false,
    "jupyter": {
     "outputs_hidden": false
    },
    "pycharm": {
     "name": "#%%\n"
    }
   },
   "outputs": [],
   "source": [
    "b = np.random.randint(0, 2, (3, 4))\n",
    "conn = np.random.randint(0, 2, (4, 4))"
   ]
  },
  {
   "cell_type": "code",
   "execution_count": null,
   "id": "1f23f137",
   "metadata": {
    "collapsed": false,
    "jupyter": {
     "outputs_hidden": false
    },
    "pycharm": {
     "name": "#%%\n"
    }
   },
   "outputs": [],
   "source": [
    "n_kernels = 5"
   ]
  },
  {
   "cell_type": "code",
   "execution_count": null,
   "id": "289526a5",
   "metadata": {
    "collapsed": false,
    "jupyter": {
     "outputs_hidden": false
    },
    "pycharm": {
     "name": "#%%\n"
    }
   },
   "outputs": [],
   "source": [
    "import torch.optim as topti\n",
    "import warnings\n",
    "warnings.filterwarnings(\"ignore\")\n",
    "\n",
    "criterion = mb.tl.PoissonLoss()\n",
    "\n",
    "w = [20 for i in range(n_kernels - 2)]\n",
    "model = mb.models.Mubind.make_model(train, n_kernels, criterion, kernels=[0, 2] + w,\n",
    "                                       # use_dinuc=True, dinuc_mode='full',\n",
    "                                       optimize_sym_weight=False,\n",
    "                                       optimize_exp_barrier=True,\n",
    "                                       optimize_log_dynamic=False,\n",
    "                                       use_dinuc=False,\n",
    "                                       device=device,\n",
    "                                       dinuc_mode=None)# .cuda()\n",
    "\n"
   ]
  },
  {
   "cell_type": "code",
   "execution_count": null,
   "id": "ea0ccb14",
   "metadata": {
    "collapsed": false,
    "jupyter": {
     "outputs_hidden": false
    },
    "pycharm": {
     "name": "#%%\n"
    }
   },
   "outputs": [],
   "source": [
    "# model.prepare_knn(adata)"
   ]
  },
  {
   "cell_type": "code",
   "execution_count": null,
   "id": "4d53b2bf",
   "metadata": {
    "collapsed": false,
    "jupyter": {
     "outputs_hidden": false
    },
    "pycharm": {
     "name": "#%%\n"
    }
   },
   "outputs": [],
   "source": [
    "# %load_ext line_profiler"
   ]
  },
  {
   "cell_type": "code",
   "execution_count": null,
   "id": "49cb009c",
   "metadata": {
    "collapsed": false,
    "jupyter": {
     "outputs_hidden": false
    },
    "pycharm": {
     "name": "#%%\n"
    }
   },
   "outputs": [],
   "source": [
    "# %lprun -f model.selex_module.forward model.optimize_iterative(train, n_epochs=[500] + [200] * (n_kernels - 1), show_logo=False, use_mono=True, use_dinuc=False)"
   ]
  },
  {
   "cell_type": "code",
   "execution_count": null,
   "id": "b90413f7",
   "metadata": {
    "collapsed": false,
    "jupyter": {
     "outputs_hidden": false
    },
    "pycharm": {
     "name": "#%%\n"
    }
   },
   "outputs": [],
   "source": [
    "model, best_loss = model.optimize_iterative(train, n_epochs=[500] + [200] * (n_kernels - 1), show_logo=False, use_mono=True, use_dinuc=False, dinuc_mode='local',\n",
    "                                            opt_kernel_shift=[0, 0] + [0] * (n_kernels - 2),\n",
    "                                            opt_kernel_length=[0, 0] + [0] * (n_kernels - 2),\n",
    "                                            shift_max=1, shift_step=1, optimiser=topti.Adam,\n",
    "                                            n_batches=1, n_rounds=2, num_epochs_shift_factor=1, # log_etas=log_etas, # log_etas=log_etas,\n",
    "                                            kernels = [0] + [2] + [20] * (n_kernels - 2), r2_per_epoch=True,\n",
    "                                            exp_max=8,\n",
    "                                            skip_kernels=range(3, 100),\n",
    "                                            early_stopping=50, log_each=10, w=20, max_w=20) #  target_dim=train.dataset.signal.shape[1])"
   ]
  },
  {
   "cell_type": "code",
   "execution_count": null,
   "id": "31496143",
   "metadata": {
    "collapsed": false,
    "jupyter": {
     "outputs_hidden": false
    },
    "pycharm": {
     "name": "#%%\n"
    }
   },
   "outputs": [],
   "source": [
    "n_cols = len(model.binding_modes)"
   ]
  },
  {
   "cell_type": "code",
   "execution_count": null,
   "id": "69667fe1",
   "metadata": {
    "collapsed": false,
    "jupyter": {
     "outputs_hidden": false
    },
    "pycharm": {
     "name": "#%%\n"
    }
   },
   "outputs": [],
   "source": [
    "from matplotlib import rcParams\n",
    "rcParams['figure.figsize'] = 20, 5\n",
    "rcParams['figure.dpi'] = 100\n",
    "mb.pl.logo(model, n_cols=int(n_cols / 2), n_rows=2, show=True)\n",
    "plt.show()\n"
   ]
  },
  {
   "cell_type": "code",
   "execution_count": null,
   "id": "a80a07fe",
   "metadata": {
    "collapsed": false,
    "jupyter": {
     "outputs_hidden": false
    },
    "pycharm": {
     "name": "#%%\n"
    }
   },
   "outputs": [],
   "source": [
    "# log_dynamic = model.selex_module.log_dynamic\n",
    "# print(log_dynamic)\n",
    "# log_dynamic = log_dynamic + -torch.transpose(log_dynamic, 0, 1)\n"
   ]
  },
  {
   "cell_type": "code",
   "execution_count": null,
   "id": "b3f8918f",
   "metadata": {
    "collapsed": false,
    "jupyter": {
     "outputs_hidden": false
    },
    "pycharm": {
     "name": "#%%\n"
    }
   },
   "outputs": [],
   "source": [
    "tsum = torch.sum\n",
    "texp = torch.exp\n",
    "tspa = torch.sparse_coo_tensor\n",
    "tsmm = torch.sparse.mm\n",
    "t = torch.transpose\n",
    "\n",
    "# connectivities\n",
    "C = model.selex_module.conn_sparse\n",
    "a_ind = C.indices()\n",
    "\n",
    "log_dynamic = model.selex_module.log_dynamic\n",
    "D = model.selex_module.log_dynamic\n",
    "D_tril = tspa(a_ind, D, C.shape)  # .requires_grad_(True).cuda()\n",
    "D_triu = tspa(a_ind, -D, C.shape)  # .requires_grad_(True).cuda()\n",
    "D = D_tril + t(D_triu, 0, 1)\n",
    "# log_dynamic = log_dynamic + -torch.transpose(log_dynamic, 0, 1)\n",
    "# triu_indices = torch.triu_indices(row=n_rounds, col=n_rounds, offset=1)\n",
    "D"
   ]
  },
  {
   "cell_type": "code",
   "execution_count": null,
   "id": "aeefc872",
   "metadata": {
    "collapsed": false,
    "jupyter": {
     "outputs_hidden": false
    },
    "pycharm": {
     "name": "#%%\n"
    }
   },
   "outputs": [],
   "source": [
    "# triu_indices = torch.triu_indices(row=n_rounds, col=n_rounds, offset=1)\n",
    "log_dynamic"
   ]
  },
  {
   "cell_type": "code",
   "execution_count": null,
   "id": "5d0c3e53",
   "metadata": {
    "collapsed": false,
    "jupyter": {
     "outputs_hidden": false
    },
    "pycharm": {
     "name": "#%%\n"
    }
   },
   "outputs": [],
   "source": [
    "log_dynamic.max()"
   ]
  },
  {
   "cell_type": "code",
   "execution_count": null,
   "id": "d2d39575",
   "metadata": {
    "collapsed": false,
    "jupyter": {
     "outputs_hidden": false
    },
    "pycharm": {
     "name": "#%%\n"
    }
   },
   "outputs": [],
   "source": [
    "import seaborn as sns\n",
    "mb.pl.set_rcParams({'figure.figsize': [3, 3]})\n",
    "sns.heatmap(D.to_dense().detach().cpu(), cmap='RdBu_r')"
   ]
  },
  {
   "cell_type": "code",
   "execution_count": null,
   "id": "88e6b04d",
   "metadata": {
    "collapsed": false,
    "jupyter": {
     "outputs_hidden": false
    },
    "pycharm": {
     "name": "#%%\n"
    }
   },
   "outputs": [],
   "source": [
    "# contributions per newly added kernel\n",
    "rcParams['figure.figsize'] = 2, 3\n",
    "rcParams['figure.dpi'] = 80\n",
    "import seaborn as sns\n",
    "r2 = pd.DataFrame(model.best_r2_by_new_filter, columns=['r2']).reset_index()\n",
    "sns.barplot(data=r2, x='index', y='r2')"
   ]
  },
  {
   "cell_type": "code",
   "execution_count": null,
   "id": "a71e276c",
   "metadata": {
    "collapsed": false,
    "jupyter": {
     "outputs_hidden": false
    },
    "pycharm": {
     "name": "#%%\n"
    }
   },
   "outputs": [],
   "source": [
    "torch.set_printoptions(precision=2)\n",
    "dynamic_score = D.to_dense().detach().cpu().sum(axis=0)\n"
   ]
  },
  {
   "cell_type": "code",
   "execution_count": null,
   "id": "180e7bf3",
   "metadata": {
    "collapsed": false,
    "jupyter": {
     "outputs_hidden": false
    },
    "pycharm": {
     "name": "#%%\n"
    }
   },
   "outputs": [],
   "source": [
    "\n",
    "# dyn_score\n",
    "dynamic_score = dynamic_score\n",
    "dynamic_score = (dynamic_score - dynamic_score.min()) / (dynamic_score.max() - dynamic_score.min())\n",
    "adata.obs['dynamic_score'] = dynamic_score"
   ]
  },
  {
   "cell_type": "code",
   "execution_count": null,
   "id": "f4d7707d",
   "metadata": {
    "collapsed": false,
    "jupyter": {
     "outputs_hidden": false
    },
    "pycharm": {
     "name": "#%%\n"
    }
   },
   "outputs": [],
   "source": [
    "adata.obs['dynamic_score_cluster'] = np.where(dynamic_score > dynamic_score.mean(), 'dynamic', 'static')\n",
    "z1 = np.where(((dynamic_score - dynamic_score.mean()) / dynamic_score.std()) > 1, 'dynamic', 'static')\n",
    "z2 = np.where(((dynamic_score - dynamic_score.mean()) / dynamic_score.std()) > 2, 'dynamic', 'static')\n",
    "\n",
    "adata.obs['dynamic_score_z1'] = z1\n",
    "adata.obs['dynamic_score_z2'] = z2\n",
    "\n",
    "#  ad.obs['dynamic_score_cluster'] = np.where(dynamic_score > .5, , 0)\n",
    "sns.displot(dynamic_score)\n",
    "plt.xlabel('dynamic score (normalized)')\n"
   ]
  },
  {
   "cell_type": "code",
   "execution_count": null,
   "id": "79185e66",
   "metadata": {
    "collapsed": false,
    "jupyter": {
     "outputs_hidden": false
    },
    "pycharm": {
     "name": "#%%\n"
    }
   },
   "outputs": [],
   "source": [
    "# contributions per newly added kernel\n",
    "rcParams['figure.figsize'] = 5, 5\n",
    "rcParams['figure.dpi'] = 120\n",
    "sc.pl.umap(adata, color=['dynamic_score'], cmap='RdBu_r', sort_order=True)\n",
    "sc.pl.umap(adata, color=['dynamic_score_z1'], cmap='RdBu_r', sort_order=True)\n"
   ]
  },
  {
   "cell_type": "code",
   "execution_count": null,
   "id": "540b0870",
   "metadata": {
    "collapsed": false,
    "jupyter": {
     "outputs_hidden": false
    },
    "pycharm": {
     "name": "#%%\n"
    }
   },
   "outputs": [],
   "source": [
    "# dyn_score\n",
    "dynamic_score = dynamic_score\n",
    "dynamic_score = (dynamic_score - dynamic_score.min()) / (dynamic_score.max() - dynamic_score.min())\n",
    "adata.obs['dynamic_score'] = dynamic_score"
   ]
  },
  {
   "cell_type": "code",
   "execution_count": null,
   "id": "69925835",
   "metadata": {
    "collapsed": false,
    "jupyter": {
     "outputs_hidden": false
    },
    "pycharm": {
     "name": "#%%\n"
    }
   },
   "outputs": [],
   "source": [
    "# contributions per newly added kernel\n",
    "rcParams['figure.figsize'] = 5, 5\n",
    "rcParams['figure.dpi'] = 120\n",
    "sc.pl.umap(adata, color='dynamic_score', cmap='RdBu_r', sort_order=True)\n"
   ]
  },
  {
   "cell_type": "code",
   "execution_count": null,
   "id": "64152ec0",
   "metadata": {
    "collapsed": false,
    "jupyter": {
     "outputs_hidden": false
    },
    "pycharm": {
     "name": "#%%\n"
    }
   },
   "outputs": [],
   "source": [
    "# contributions per newly added kernel\n",
    "rcParams['figure.figsize'] = 5, 5\n",
    "rcParams['figure.dpi'] = 90\n",
    "sc.tl.embedding_density(adata, basis='umap', groupby='dynamic_score_z1')\n",
    "sc.pl.embedding_density(adata, basis='umap', key='umap_density_dynamic_score_z1', group='dynamic') # basis='umap', groupby='dynamic_score_cluster')\n",
    "sc.tl.embedding_density(adata, basis='umap', groupby='dynamic_score_z2')\n",
    "sc.pl.embedding_density(adata, basis='umap', key='umap_density_dynamic_score_z2', group='dynamic') # basis='umap', groupby='dynamic_score_cluster')"
   ]
  },
  {
   "cell_type": "code",
   "execution_count": null,
   "id": "13539cb9",
   "metadata": {
    "collapsed": false,
    "jupyter": {
     "outputs_hidden": false
    },
    "pycharm": {
     "name": "#%%\n"
    }
   },
   "outputs": [],
   "source": [
    "mb.pl.kmer_enrichment(model, train, log_scale=False, style='scatter', ylab='t1', xlab='p1', k=8)"
   ]
  },
  {
   "cell_type": "code",
   "execution_count": null,
   "id": "48a58123",
   "metadata": {
    "collapsed": false,
    "jupyter": {
     "outputs_hidden": false
    },
    "pycharm": {
     "name": "#%%\n"
    }
   },
   "outputs": [],
   "source": [
    "import resource\n",
    "print('total GB used:', resource.getrusage(resource.RUSAGE_SELF).ru_maxrss / 1e6)\n"
   ]
  }
 ],
 "metadata": {
  "kernelspec": {
   "display_name": "mubind",
   "language": "python",
   "name": "mubind"
  }
 },
 "nbformat": 4,
 "nbformat_minor": 5
}
