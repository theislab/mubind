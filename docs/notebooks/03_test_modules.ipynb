{
 "cells": [
  {
   "cell_type": "code",
   "execution_count": 1,
   "id": "3c6ae27f-2214-4842-89cf-5625283091d2",
   "metadata": {},
   "outputs": [],
   "source": [
    "%load_ext autoreload\n",
    "%autoreload 2"
   ]
  },
  {
   "cell_type": "code",
   "execution_count": 15,
   "id": "7350a843-8766-4fc1-a99d-9cda99974001",
   "metadata": {},
   "outputs": [],
   "source": [
    "import mubind as mb\n",
    "import numpy as np"
   ]
  },
  {
   "cell_type": "code",
   "execution_count": 97,
   "id": "9d46e97c-3b67-466c-96bf-290e286d1824",
   "metadata": {},
   "outputs": [],
   "source": [
    "x = np.array([3,4,5,6])\n",
    "y = np.array([2,7,8,10])"
   ]
  },
  {
   "cell_type": "code",
   "execution_count": 98,
   "id": "f9302e2c-1c0b-4a7a-8f49-a20de6c9b546",
   "metadata": {},
   "outputs": [
    {
     "data": {
      "image/png": "[encoded data removed]",
      "text/plain": [
       "<Figure size 432x288 with 1 Axes>"
      ]
     },
     "metadata": {
      "needs_background": "light"
     },
     "output_type": "display_data"
    }
   ],
   "source": [
    "mb.pl.scatter(x, y)"
   ]
  },
  {
   "cell_type": "markdown",
   "id": "38a1ed87-f6f4-4e31-8934-95f2444b0bb4",
   "metadata": {},
   "source": [
    "### Simulating data\n",
    "- We can plug random motifs into a set of sequences,"
   ]
  },
  {
   "cell_type": "code",
   "execution_count": 3,
   "id": "8ed8e471-16ec-49d9-88c0-2dae25c26fc7",
   "metadata": {},
   "outputs": [
    {
     "name": "stdout",
     "output_type": "stream",
     "text": [
      "AGCCTAGGTAACAT____AT\n",
      "CTACGCATGCAAGTTG____\n",
      "TGTTAATAGAAAGA____CA\n",
      "GATAGGTC____AGCAGTGC\n",
      "GAGTGGCTACGA____ACCA\n",
      "TGGCGG____ATAAAGCTGC\n",
      "GAG____AGGATGTGGTAGA\n",
      "CCAGCAGGTT____AGGTAT\n",
      "AC____TCAAAAATTTTGCT\n",
      "____CAAGCGTGCAATGGTA\n"
     ]
    }
   ],
   "source": [
    "sim = mb.datasets.simulate_data('____', n_trials=10, seqlen=20)\n",
    "for s in sim:\n",
    "    print(s)"
   ]
  },
  {
   "cell_type": "code",
   "execution_count": 4,
   "id": "6b274395-b0af-4790-91ec-3039d456ca23",
   "metadata": {},
   "outputs": [
    {
     "name": "stdout",
     "output_type": "stream",
     "text": [
      "CTCGTAATGTTCGAGATATT\n",
      "GCAACGGCGGGCGTTAGATA\n",
      "TAATTGCTGATTAAGATAGA\n",
      "GCCTGTGGGATACAGATTGC\n",
      "TTAGGCAAATTTGATAGGGC\n",
      "CTATAAGATATCCCGATTTA\n",
      "CTCGATAGATCTGAGTCAGT\n",
      "GTTTTCTAGCGATACGCCAC\n",
      "ACGATAGCATATCGAACATC\n",
      "GATAGTTATTTCTATTGCAC\n"
     ]
    }
   ],
   "source": [
    "sim = mb.datasets.simulate_data('GATA', n_trials=10, seqlen=20)\n",
    "for s in sim:\n",
    "    print(s)"
   ]
  },
  {
   "cell_type": "markdown",
   "id": "0ba8beda-9c18-4ad7-a666-57ffb0e63395",
   "metadata": {},
   "source": [
    "### Simulated data w/continuous values (SELEX) or binary output (ChIP-seq)"
   ]
  },
  {
   "cell_type": "code",
   "execution_count": 5,
   "id": "652d4f6e-0410-4f0e-a804-6b769e84d77b",
   "metadata": {},
   "outputs": [
    {
     "data": {
      "text/plain": [
       "(array(['GAGGAACCTATCGTAATGTTACGT', 'CAGGAACCTACAACGGCGGGACGT',\n",
       "        'CGTTAGTAGGAACCTATGATACGT', 'TAAAAACGAGAGGAACCTAAACGT',\n",
       "        'ACAGATTGCAGGAACCTATTACGT', 'TTAGGAACCTAATAAATGATACGT',\n",
       "        'CCCAGGAACCTAAGGGGATCACGT', 'TGAGGAACCTATTTCTAGCAACGT',\n",
       "        'GAGCGCCACAAGGAACCTAAACGT', 'TCGAAGGAACCTAGTTATTTACGT',\n",
       "        'CTATTGAGGAACCTAAACTTACGT', 'AGGAACCTATCGTCGTTTAGACGT',\n",
       "        'AAGGAACCTAGCCGGGGCTGACGT', 'GTAAGGAACCTAGCCTAGGGACGT',\n",
       "        'TTAAGGAACCTAAGATGATGACGT', 'CCGAAGGAACCTACTAAAGCACGT',\n",
       "        'AGGAACCTATTAACTTCTCGACGT', 'CGAGGAACCTAAGCGTTGGCACGT',\n",
       "        'GGACTCGATAGGAACCTATAACGT', 'TGGGAGGAACCTATGTAACTACGT'],\n",
       "       dtype='<U24'),\n",
       " array([100, 100, 100, 100, 100, 100, 100, 100, 100, 100, 100, 100, 100,\n",
       "        100, 100, 100, 100, 100, 100, 100]))"
      ]
     },
     "execution_count": 5,
     "metadata": {},
     "output_type": "execute_result"
    }
   ],
   "source": [
    "motif = 'AGGAACCTA'\n",
    "# SELEX\n",
    "x1, y1 = mb.datasets.simulate_xy(motif, n_trials=500, seqlen=20, max_mismatches=5)\n",
    "# ChIP-seq\n",
    "x2, y2 = mb.datasets.simulate_xy(motif, n_trials=500, seqlen=100, max_mismatches=2)\n",
    "y2 = (y2 - y2.min()) / (np.max(y2) - np.min(y2))\n",
    "\n",
    "x1[:20], y1[:20]"
   ]
  },
  {
   "cell_type": "markdown",
   "id": "a523438c-00cb-4e7d-9b4a-6dd343ad0657",
   "metadata": {},
   "source": [
    "### Tests of the network with simulated data"
   ]
  },
  {
   "cell_type": "code",
   "execution_count": 2,
   "id": "8d8b504a-377d-4a85-9619-0d7ff8382cf2",
   "metadata": {},
   "outputs": [],
   "source": [
    "import mubind as mb\n",
    "import numpy as np\n",
    "import pandas as pd\n",
    "import torch\n",
    "import torch.nn as tnn\n",
    "import torch.optim as topti\n",
    "import torch.utils.data as tdata\n",
    "import matplotlib.pyplot as plt\n",
    "import seaborn as sns\n",
    "from sklearn.metrics import r2_score"
   ]
  },
  {
   "cell_type": "code",
   "execution_count": 3,
   "id": "0ee987f4-c4ab-472d-9885-8ecf82cc982c",
   "metadata": {},
   "outputs": [
    {
     "name": "stdout",
     "output_type": "stream",
     "text": [
      "Using device: cpu\n"
     ]
    }
   ],
   "source": [
    "# Use a GPU if available, as it should be faster.\n",
    "device = torch.device(\"cuda:0\" if torch.cuda.is_available() else \"cpu\")\n",
    "print(\"Using device: \" + str(device))"
   ]
  },
  {
   "cell_type": "code",
   "execution_count": 4,
   "id": "eea21322-ccd2-44a0-9caa-922666c9bb29",
   "metadata": {},
   "outputs": [],
   "source": [
    "# motif = 'AGGAACCTA'\n",
    "motif = 'GATA'\n",
    "# SELEX\n",
    "# x1, y1 = mb.datasets.simulate_xy(motif, n_trials=20000, seqlen=20, max_mismatches=5)\n",
    "# ChIP-seq\n",
    "x2, y2 = mb.datasets.simulate_xy(motif, n_trials=20000, seqlen=100, max_mismatches=2)\n",
    "y2 = ((y2 - y2.min()) / (np.max(y2) - np.min(y2))).astype(np.float32)\n",
    "# data = pd.DataFrame({'seq': x1, 'enr_approx': y1})\n",
    "data = pd.DataFrame({'seq': x2, 'target': y2})\n",
    "# divide in train and test data -- copied from above, organize differently!\n",
    "test_dataframe = data.sample(frac=0.01)\n",
    "train_dataframe = data.drop(test_dataframe.index)\n",
    "train_100_dataframe = train_dataframe.sample(n=100)\n",
    "train_10_dataframe = train_100_dataframe.sample(n=10)\n",
    "train_4_dataframe = train_10_dataframe.sample(n=4)\n",
    "train_1_dataframe = train_4_dataframe.sample(n=1)\n",
    "\n",
    "test_dataframe.index = range(len(test_dataframe))\n",
    "train_dataframe.index = range(len(train_dataframe))\n",
    "train_1_dataframe.index = range(1)\n",
    "train_4_dataframe.index = range(4)\n",
    "train_10_dataframe.index = range(10)\n",
    "train_100_dataframe.index = range(100)\n",
    "\n",
    "# create datasets and dataloaders\n",
    "train_data = mb.tl.ChipSeqDataset(data_frame=train_dataframe)\n",
    "train_loader = tdata.DataLoader(dataset=train_data, batch_size=256, shuffle=True)\n",
    "test_data = mb.tl.ChipSeqDataset(data_frame=test_dataframe)\n",
    "test_loader = tdata.DataLoader(dataset=test_data, batch_size=1, shuffle=False)\n",
    "train_1_data = mb.tl.ChipSeqDataset(data_frame=train_1_dataframe)\n",
    "train_1_loader = tdata.DataLoader(dataset=train_1_data, batch_size=1, shuffle=False)\n",
    "train_4_data = mb.tl.ChipSeqDataset(data_frame=train_4_dataframe)\n",
    "train_4_loader = tdata.DataLoader(dataset=train_4_data, batch_size=4, shuffle=False)\n",
    "train_10_data = mb.tl.ChipSeqDataset(data_frame=train_10_dataframe)\n",
    "train_10_loader = tdata.DataLoader(dataset=train_10_data, batch_size=10, shuffle=False)\n",
    "train_100_data = mb.tl.ChipSeqDataset(data_frame=train_100_dataframe)\n",
    "train_100_loader = tdata.DataLoader(dataset=train_100_data, batch_size=10, shuffle=True)\n",
    "test_100_loader = tdata.DataLoader(dataset=train_100_data, batch_size=1, shuffle=False)"
   ]
  },
  {
   "cell_type": "code",
   "execution_count": 12,
   "id": "660f0f1b-a69f-4967-9324-eb3480a56dfb",
   "metadata": {},
   "outputs": [
    {
     "data": {
      "text/html": [
       "<div>\n",
       "<style scoped>\n",
       "    .dataframe tbody tr th:only-of-type {\n",
       "        vertical-align: middle;\n",
       "    }\n",
       "\n",
       "    .dataframe tbody tr th {\n",
       "        vertical-align: top;\n",
       "    }\n",
       "\n",
       "    .dataframe thead th {\n",
       "        text-align: right;\n",
       "    }\n",
       "</style>\n",
       "<table border=\"1\" class=\"dataframe\">\n",
       "  <thead>\n",
       "    <tr style=\"text-align: right;\">\n",
       "      <th></th>\n",
       "      <th>seq</th>\n",
       "      <th>target</th>\n",
       "    </tr>\n",
       "  </thead>\n",
       "  <tbody>\n",
       "    <tr>\n",
       "      <th>0</th>\n",
       "      <td>TCCGACTCTGTATTTTGGTCGCAGACGGAGATTAGCCTTTACTAGG...</td>\n",
       "      <td>0.0</td>\n",
       "    </tr>\n",
       "    <tr>\n",
       "      <th>1</th>\n",
       "      <td>ATCTTTATCGGTTTCGGTTGGTAAGGTCCCATCGGTCGCGATAGCT...</td>\n",
       "      <td>0.0</td>\n",
       "    </tr>\n",
       "    <tr>\n",
       "      <th>2</th>\n",
       "      <td>ATGAACTCAAGGCAACGCTGGTATAGGCACTAATACTGGACAAGCG...</td>\n",
       "      <td>0.0</td>\n",
       "    </tr>\n",
       "    <tr>\n",
       "      <th>3</th>\n",
       "      <td>TCTTAAACAATACAGTTAGCCCACCTCGTAAATAACTCAAGTACTG...</td>\n",
       "      <td>1.0</td>\n",
       "    </tr>\n",
       "  </tbody>\n",
       "</table>\n",
       "</div>"
      ],
      "text/plain": [
       "                                                 seq  target\n",
       "0  TCCGACTCTGTATTTTGGTCGCAGACGGAGATTAGCCTTTACTAGG...     0.0\n",
       "1  ATCTTTATCGGTTTCGGTTGGTAAGGTCCCATCGGTCGCGATAGCT...     0.0\n",
       "2  ATGAACTCAAGGCAACGCTGGTATAGGCACTAATACTGGACAAGCG...     0.0\n",
       "3  TCTTAAACAATACAGTTAGCCCACCTCGTAAATAACTCAAGTACTG...     1.0"
      ]
     },
     "execution_count": 12,
     "metadata": {},
     "output_type": "execute_result"
    }
   ],
   "source": [
    "train_4_dataframe"
   ]
  },
  {
   "cell_type": "code",
   "execution_count": 4,
   "id": "2973a635-88c2-41eb-a314-90f9f01efaba",
   "metadata": {
    "jupyter": {
     "source_hidden": true
    },
    "tags": []
   },
   "outputs": [],
   "source": [
    "train_loader, test_loader = create_simulated_data()\n",
    "# train_loader, test_loader = create_datasets('data/countTable.0.CTCF_r3.tsv.gz')\n",
    "\n",
    "net = mb.tl.Network().to(device)  # Create an instance of the network in memory (potentially GPU memory).\n",
    "optimiser = topti.Adam(net.parameters(), lr=0.001)  # Minimise the loss using the Adam algorithm.\n",
    "# criterion = PoissonLoss()\n",
    "# criterion = tnn.PoissonNLLLoss()\n",
    "criterion = tnn.BCELoss()\n",
    "# criterion = tnn.BCEWithLogitsLoss()"
   ]
  },
  {
   "cell_type": "code",
   "execution_count": 5,
   "id": "77d09401-ea42-45f6-a47b-e7d9fa232d65",
   "metadata": {},
   "outputs": [],
   "source": [
    "net = mb.tl.Network().to(device)\n",
    "optimiser = topti.Adam(net.parameters(), lr=0.001)\n",
    "criterion = tnn.BCELoss()"
   ]
  },
  {
   "cell_type": "code",
   "execution_count": 6,
   "id": "b8faf61c-904e-4094-a17a-a72eac4e32bd",
   "metadata": {},
   "outputs": [
    {
     "data": {
      "image/png": "[encoded data removed]",
      "text/plain": [
       "<Figure size 720x180 with 1 Axes>"
      ]
     },
     "metadata": {
      "needs_background": "light"
     },
     "output_type": "display_data"
    }
   ],
   "source": [
    "mb.tl.create_logo(net)"
   ]
  },
  {
   "cell_type": "code",
   "execution_count": 8,
   "id": "e4370cb8-c0b5-4e5b-8bc3-1109f90a1a10",
   "metadata": {},
   "outputs": [
    {
     "ename": "NameError",
     "evalue": "name 'm' is not defined",
     "output_type": "error",
     "traceback": [
      "\u001b[0;31m---------------------------------------------------------------------------\u001b[0m",
      "\u001b[0;31mNameError\u001b[0m                                 Traceback (most recent call last)",
      "\u001b[0;32m<ipython-input-8-78460806275a>\u001b[0m in \u001b[0;36m<module>\u001b[0;34m\u001b[0m\n\u001b[0;32m----> 1\u001b[0;31m \u001b[0msns\u001b[0m\u001b[0;34m.\u001b[0m\u001b[0mheatmap\u001b[0m\u001b[0;34m(\u001b[0m\u001b[0mm\u001b[0m\u001b[0;34m,\u001b[0m \u001b[0mcmap\u001b[0m\u001b[0;34m=\u001b[0m\u001b[0;34m'Reds'\u001b[0m\u001b[0;34m,\u001b[0m \u001b[0mvmin\u001b[0m\u001b[0;34m=\u001b[0m\u001b[0;36m0\u001b[0m\u001b[0;34m)\u001b[0m\u001b[0;34m\u001b[0m\u001b[0m\n\u001b[0m",
      "\u001b[0;31mNameError\u001b[0m: name 'm' is not defined"
     ]
    }
   ],
   "source": [
    "sns.heatmap(m, cmap='Reds', vmin=0)"
   ]
  },
  {
   "cell_type": "code",
   "execution_count": 137,
   "id": "2271fa1d-b82c-4a40-8263-5241143cce41",
   "metadata": {},
   "outputs": [
    {
     "name": "stdout",
     "output_type": "stream",
     "text": [
      "Epoch:  1, Loss: 0.041\n",
      "Epoch:  2, Loss: 0.041\n",
      "Epoch:  3, Loss: 0.041\n",
      "Epoch:  4, Loss: 0.041\n",
      "Epoch:  5, Loss: 0.041\n",
      "Epoch:  6, Loss: 0.041\n",
      "Epoch:  7, Loss: 0.041\n",
      "Epoch:  8, Loss: 0.041\n",
      "Epoch:  9, Loss: 0.041\n",
      "Epoch: 10, Loss: 0.041\n",
      "Epoch: 11, Loss: 0.041\n",
      "Epoch: 12, Loss: 0.041\n",
      "Epoch: 13, Loss: 0.041\n",
      "Epoch: 14, Loss: 0.041\n",
      "Epoch: 15, Loss: 0.041\n",
      "Epoch: 16, Loss: 0.041\n",
      "Epoch: 17, Loss: 0.040\n",
      "Epoch: 18, Loss: 0.040\n",
      "Epoch: 19, Loss: 0.040\n",
      "Epoch: 20, Loss: 0.040\n",
      "Epoch: 21, Loss: 0.040\n",
      "Epoch: 22, Loss: 0.040\n",
      "Epoch: 23, Loss: 0.040\n",
      "Epoch: 24, Loss: 0.040\n",
      "Epoch: 25, Loss: 0.040\n",
      "Epoch: 26, Loss: 0.040\n",
      "Epoch: 27, Loss: 0.040\n",
      "Epoch: 28, Loss: 0.040\n",
      "Epoch: 29, Loss: 0.040\n",
      "Epoch: 30, Loss: 0.040\n",
      "Epoch: 31, Loss: 0.040\n",
      "Epoch: 32, Loss: 0.040\n",
      "Epoch: 33, Loss: 0.040\n",
      "Epoch: 34, Loss: 0.040\n",
      "Epoch: 35, Loss: 0.040\n",
      "Epoch: 36, Loss: 0.040\n",
      "Epoch: 37, Loss: 0.040\n",
      "Epoch: 38, Loss: 0.040\n",
      "Epoch: 39, Loss: 0.040\n",
      "Epoch: 40, Loss: 0.040\n",
      "Epoch: 41, Loss: 0.040\n",
      "Epoch: 42, Loss: 0.040\n",
      "Epoch: 43, Loss: 0.040\n",
      "Epoch: 44, Loss: 0.040\n",
      "Epoch: 45, Loss: 0.040\n",
      "Epoch: 46, Loss: 0.040\n",
      "Epoch: 47, Loss: 0.040\n",
      "Epoch: 48, Loss: 0.040\n",
      "Epoch: 49, Loss: 0.040\n",
      "Epoch: 50, Loss: 0.040\n",
      "Epoch: 51, Loss: 0.040\n",
      "Epoch: 52, Loss: 0.040\n",
      "Epoch: 53, Loss: 0.040\n",
      "Epoch: 54, Loss: 0.040\n",
      "Epoch: 55, Loss: 0.040\n",
      "Epoch: 56, Loss: 0.040\n",
      "Epoch: 57, Loss: 0.040\n",
      "Epoch: 58, Loss: 0.040\n",
      "Epoch: 59, Loss: 0.040\n",
      "Epoch: 60, Loss: 0.040\n",
      "Epoch: 61, Loss: 0.040\n",
      "Epoch: 62, Loss: 0.040\n",
      "Epoch: 63, Loss: 0.040\n",
      "Epoch: 64, Loss: 0.040\n",
      "Epoch: 65, Loss: 0.040\n",
      "Epoch: 66, Loss: 0.040\n",
      "Epoch: 67, Loss: 0.040\n",
      "Epoch: 68, Loss: 0.039\n",
      "Epoch: 69, Loss: 0.039\n",
      "Epoch: 70, Loss: 0.039\n",
      "Epoch: 71, Loss: 0.039\n",
      "Epoch: 72, Loss: 0.039\n",
      "Epoch: 73, Loss: 0.039\n",
      "Epoch: 74, Loss: 0.039\n",
      "Epoch: 75, Loss: 0.039\n",
      "Epoch: 76, Loss: 0.039\n",
      "Epoch: 77, Loss: 0.039\n",
      "Epoch: 78, Loss: 0.039\n",
      "Epoch: 79, Loss: 0.039\n",
      "Epoch: 80, Loss: 0.039\n",
      "Epoch: 81, Loss: 0.039\n",
      "Epoch: 82, Loss: 0.039\n",
      "Epoch: 83, Loss: 0.039\n",
      "Epoch: 84, Loss: 0.039\n",
      "Epoch: 85, Loss: 0.039\n",
      "Epoch: 86, Loss: 0.039\n",
      "Epoch: 87, Loss: 0.039\n",
      "Epoch: 88, Loss: 0.039\n",
      "Epoch: 89, Loss: 0.039\n",
      "Epoch: 90, Loss: 0.039\n",
      "Epoch: 91, Loss: 0.039\n",
      "Epoch: 92, Loss: 0.039\n",
      "Epoch: 93, Loss: 0.039\n",
      "Epoch: 94, Loss: 0.039\n",
      "Epoch: 95, Loss: 0.039\n",
      "Epoch: 96, Loss: 0.039\n",
      "Epoch: 97, Loss: 0.039\n",
      "Epoch: 98, Loss: 0.039\n",
      "Epoch: 99, Loss: 0.039\n",
      "Epoch: 100, Loss: 0.039\n"
     ]
    }
   ],
   "source": [
    "# optimiser = topti.Adam(net.parameters(), lr=0.001)\n",
    "mb.tl.train_network(net, train_10_loader, device, optimiser, criterion, num_epochs=100)"
   ]
  },
  {
   "cell_type": "code",
   "execution_count": 139,
   "id": "ee0fe7dc-0b67-4271-99f2-9fb1ffdc512e",
   "metadata": {},
   "outputs": [
    {
     "data": {
      "image/png": "[encoded data removed]",
      "text/plain": [
       "<Figure size 720x180 with 1 Axes>"
      ]
     },
     "metadata": {
      "needs_background": "light"
     },
     "output_type": "display_data"
    }
   ],
   "source": [
    "mb.tl.create_logo(net)"
   ]
  },
  {
   "cell_type": "code",
   "execution_count": 45,
   "id": "26d3f475-60eb-476b-9e23-80179c46654b",
   "metadata": {},
   "outputs": [
    {
     "data": {
      "text/html": [
       "<div>\n",
       "<style scoped>\n",
       "    .dataframe tbody tr th:only-of-type {\n",
       "        vertical-align: middle;\n",
       "    }\n",
       "\n",
       "    .dataframe tbody tr th {\n",
       "        vertical-align: top;\n",
       "    }\n",
       "\n",
       "    .dataframe thead th {\n",
       "        text-align: right;\n",
       "    }\n",
       "</style>\n",
       "<table border=\"1\" class=\"dataframe\">\n",
       "  <thead>\n",
       "    <tr style=\"text-align: right;\">\n",
       "      <th></th>\n",
       "      <th>seq</th>\n",
       "      <th>target</th>\n",
       "    </tr>\n",
       "  </thead>\n",
       "  <tbody>\n",
       "    <tr>\n",
       "      <th>0</th>\n",
       "      <td>GCGTCTTGAAATTTCATGTGTTTCACGATCTTTAGCGGCCGAGGTG...</td>\n",
       "      <td>1.0</td>\n",
       "    </tr>\n",
       "    <tr>\n",
       "      <th>1</th>\n",
       "      <td>TCCCTATAGTACCGCTCGTGTGCGTCTCAATGCGTATTTTAGACGT...</td>\n",
       "      <td>0.0</td>\n",
       "    </tr>\n",
       "    <tr>\n",
       "      <th>2</th>\n",
       "      <td>CCGCAGTCGGGGTCGGTAGGCCAACCAAGTCATATTCTGATCACAG...</td>\n",
       "      <td>0.0</td>\n",
       "    </tr>\n",
       "    <tr>\n",
       "      <th>3</th>\n",
       "      <td>ATCTTTATCGGTTTCGGTTGGTAAGGTCCCATCGGTCGCGATAGCT...</td>\n",
       "      <td>0.0</td>\n",
       "    </tr>\n",
       "    <tr>\n",
       "      <th>4</th>\n",
       "      <td>CTGACTCTGCGGCGAGGAGAAAAGAATGCACGGGTTGGATAATTGT...</td>\n",
       "      <td>1.0</td>\n",
       "    </tr>\n",
       "    <tr>\n",
       "      <th>5</th>\n",
       "      <td>GAGTCGCCGTTCTGGAGACATGTTGGACCGCTTCTTGTCTGGGATA...</td>\n",
       "      <td>1.0</td>\n",
       "    </tr>\n",
       "    <tr>\n",
       "      <th>6</th>\n",
       "      <td>TCTTAAACAATACAGTTAGCCCACCTCGTAAATAACTCAAGTACTG...</td>\n",
       "      <td>1.0</td>\n",
       "    </tr>\n",
       "    <tr>\n",
       "      <th>7</th>\n",
       "      <td>GCATGTGCGGAAGATCCATATCCAAACTTCATTGCAACTGTGCAGG...</td>\n",
       "      <td>0.0</td>\n",
       "    </tr>\n",
       "    <tr>\n",
       "      <th>8</th>\n",
       "      <td>ATGAACTCAAGGCAACGCTGGTATAGGCACTAATACTGGACAAGCG...</td>\n",
       "      <td>0.0</td>\n",
       "    </tr>\n",
       "    <tr>\n",
       "      <th>9</th>\n",
       "      <td>TCCGACTCTGTATTTTGGTCGCAGACGGAGATTAGCCTTTACTAGG...</td>\n",
       "      <td>0.0</td>\n",
       "    </tr>\n",
       "  </tbody>\n",
       "</table>\n",
       "</div>"
      ],
      "text/plain": [
       "                                                 seq  target\n",
       "0  GCGTCTTGAAATTTCATGTGTTTCACGATCTTTAGCGGCCGAGGTG...     1.0\n",
       "1  TCCCTATAGTACCGCTCGTGTGCGTCTCAATGCGTATTTTAGACGT...     0.0\n",
       "2  CCGCAGTCGGGGTCGGTAGGCCAACCAAGTCATATTCTGATCACAG...     0.0\n",
       "3  ATCTTTATCGGTTTCGGTTGGTAAGGTCCCATCGGTCGCGATAGCT...     0.0\n",
       "4  CTGACTCTGCGGCGAGGAGAAAAGAATGCACGGGTTGGATAATTGT...     1.0\n",
       "5  GAGTCGCCGTTCTGGAGACATGTTGGACCGCTTCTTGTCTGGGATA...     1.0\n",
       "6  TCTTAAACAATACAGTTAGCCCACCTCGTAAATAACTCAAGTACTG...     1.0\n",
       "7  GCATGTGCGGAAGATCCATATCCAAACTTCATTGCAACTGTGCAGG...     0.0\n",
       "8  ATGAACTCAAGGCAACGCTGGTATAGGCACTAATACTGGACAAGCG...     0.0\n",
       "9  TCCGACTCTGTATTTTGGTCGCAGACGGAGATTAGCCTTTACTAGG...     0.0"
      ]
     },
     "execution_count": 45,
     "metadata": {},
     "output_type": "execute_result"
    }
   ],
   "source": [
    "train_10_dataframe"
   ]
  },
  {
   "cell_type": "code",
   "execution_count": 138,
   "id": "ea00508e-b4b2-490c-8292-5c1e3197d484",
   "metadata": {},
   "outputs": [
    {
     "name": "stdout",
     "output_type": "stream",
     "text": [
      "tensor([1., 0., 0., 0., 1., 1., 1., 0., 0., 0.])\n",
      "tensor([9.1489e-01, 7.6725e-05, 6.0248e-02, 5.5136e-02, 9.6415e-01, 9.9875e-01,\n",
      "        9.3349e-01, 2.9766e-02, 3.0815e-02, 1.2235e-02])\n"
     ]
    }
   ],
   "source": [
    "with torch.no_grad():  # we don't need gradients in the testing phase\n",
    "    for i, batch in enumerate(train_10_loader):\n",
    "        # Get a batch and potentially send it to GPU memory.\n",
    "        inputs, target = batch[\"input\"].to(device), batch[\"target\"].to(device)\n",
    "        output = net(inputs)\n",
    "        print(target)\n",
    "        print(output)"
   ]
  },
  {
   "cell_type": "code",
   "execution_count": 255,
   "id": "40b64fe1-5483-4567-81b5-562873e33cd1",
   "metadata": {},
   "outputs": [
    {
     "name": "stdout",
     "output_type": "stream",
     "text": [
      "Epoch:  1, Loss: 0.598\n",
      "Epoch:  2, Loss: 0.595\n",
      "Epoch:  3, Loss: 0.596\n",
      "Epoch:  4, Loss: 0.596\n",
      "Epoch:  5, Loss: 0.596\n",
      "Epoch:  6, Loss: 0.598\n",
      "Epoch:  7, Loss: 0.597\n",
      "Epoch:  8, Loss: 0.596\n",
      "Epoch:  9, Loss: 0.597\n",
      "Epoch: 10, Loss: 0.597\n",
      "Epoch: 11, Loss: 0.598\n",
      "Epoch: 12, Loss: 0.597\n",
      "Epoch: 13, Loss: 0.593\n",
      "Epoch: 14, Loss: 0.601\n",
      "Epoch: 15, Loss: 0.599\n",
      "Epoch: 16, Loss: 0.597\n",
      "Epoch: 17, Loss: 0.597\n",
      "Epoch: 18, Loss: 0.596\n",
      "Epoch: 19, Loss: 0.597\n",
      "Epoch: 20, Loss: 0.596\n",
      "Epoch: 21, Loss: 0.595\n",
      "Epoch: 22, Loss: 0.596\n",
      "Epoch: 23, Loss: 0.595\n",
      "Epoch: 24, Loss: 0.596\n",
      "Epoch: 25, Loss: 0.595\n",
      "Epoch: 26, Loss: 0.596\n",
      "Epoch: 27, Loss: 0.600\n",
      "Epoch: 28, Loss: 0.596\n",
      "Epoch: 29, Loss: 0.595\n",
      "Epoch: 30, Loss: 0.599\n",
      "Epoch: 31, Loss: 0.597\n",
      "Epoch: 32, Loss: 0.595\n",
      "Epoch: 33, Loss: 0.596\n",
      "Epoch: 34, Loss: 0.596\n",
      "Epoch: 35, Loss: 0.613\n",
      "Epoch: 36, Loss: 0.594\n",
      "Epoch: 37, Loss: 0.597\n",
      "Epoch: 38, Loss: 0.596\n",
      "Epoch: 39, Loss: 0.596\n",
      "Epoch: 40, Loss: 0.596\n",
      "Epoch: 41, Loss: 0.595\n",
      "Epoch: 42, Loss: 0.596\n",
      "Epoch: 43, Loss: 0.597\n",
      "Epoch: 44, Loss: 0.597\n",
      "Epoch: 45, Loss: 0.597\n",
      "Epoch: 46, Loss: 0.596\n",
      "Epoch: 47, Loss: 0.595\n",
      "Epoch: 48, Loss: 0.596\n",
      "Epoch: 49, Loss: 0.596\n",
      "Epoch: 50, Loss: 0.597\n",
      "Epoch: 51, Loss: 0.597\n",
      "Epoch: 52, Loss: 0.597\n",
      "Epoch: 53, Loss: 0.600\n",
      "Epoch: 54, Loss: 0.595\n",
      "Epoch: 55, Loss: 0.597\n",
      "Epoch: 56, Loss: 0.596\n",
      "Epoch: 57, Loss: 0.599\n",
      "Epoch: 58, Loss: 0.595\n",
      "Epoch: 59, Loss: 0.596\n",
      "Epoch: 60, Loss: 0.595\n",
      "Epoch: 61, Loss: 0.596\n",
      "Epoch: 62, Loss: 0.596\n",
      "Epoch: 63, Loss: 0.596\n",
      "Epoch: 64, Loss: 0.599\n",
      "Epoch: 65, Loss: 0.596\n",
      "Epoch: 66, Loss: 0.597\n",
      "Epoch: 67, Loss: 0.596\n",
      "Epoch: 68, Loss: 0.596\n",
      "Epoch: 69, Loss: 0.596\n",
      "Epoch: 70, Loss: 0.596\n",
      "Epoch: 71, Loss: 0.597\n",
      "Epoch: 72, Loss: 0.598\n",
      "Epoch: 73, Loss: 0.597\n",
      "Epoch: 74, Loss: 0.600\n",
      "Epoch: 75, Loss: 0.596\n",
      "Epoch: 76, Loss: 0.600\n",
      "Epoch: 77, Loss: 0.597\n",
      "Epoch: 78, Loss: 0.595\n",
      "Epoch: 79, Loss: 0.597\n",
      "Epoch: 80, Loss: 0.595\n",
      "Epoch: 81, Loss: 0.595\n",
      "Epoch: 82, Loss: 0.598\n",
      "Epoch: 83, Loss: 0.597\n",
      "Epoch: 84, Loss: 0.598\n",
      "Epoch: 85, Loss: 0.596\n",
      "Epoch: 86, Loss: 0.596\n",
      "Epoch: 87, Loss: 0.596\n",
      "Epoch: 88, Loss: 0.595\n",
      "Epoch: 89, Loss: 0.596\n",
      "Epoch: 90, Loss: 0.596\n",
      "Epoch: 91, Loss: 0.597\n",
      "Epoch: 92, Loss: 0.596\n",
      "Epoch: 93, Loss: 0.596\n",
      "Epoch: 94, Loss: 0.597\n",
      "Epoch: 95, Loss: 0.596\n",
      "Epoch: 96, Loss: 0.597\n",
      "Epoch: 97, Loss: 0.599\n",
      "Epoch: 98, Loss: 0.597\n",
      "Epoch: 99, Loss: 0.596\n",
      "Epoch: 100, Loss: 0.596\n"
     ]
    }
   ],
   "source": [
    "# I had to use a smaller learning rate than for 10 samples, because otherwise the loss wouldn't go down at all\n",
    "# However, also with this, it needed thousands of epochs for the loss to go down a little bit.\n",
    "# optimiser = topti.Adam(net.parameters(), lr=0.0001)\n",
    "mb.tl.train_network(net, train_100_loader, device, optimiser, criterion, num_epochs=100)"
   ]
  },
  {
   "cell_type": "code",
   "execution_count": 256,
   "id": "21df98a6-d442-4b80-964a-18841d4d3e30",
   "metadata": {},
   "outputs": [
    {
     "data": {
      "image/png": "[encoded data removed]",
      "text/plain": [
       "<Figure size 720x180 with 1 Axes>"
      ]
     },
     "metadata": {
      "needs_background": "light"
     },
     "output_type": "display_data"
    }
   ],
   "source": [
    "mb.tl.create_logo(net)"
   ]
  },
  {
   "cell_type": "code",
   "execution_count": 257,
   "id": "5e8685b0-a562-4ec8-b82a-cea43f68bb43",
   "metadata": {},
   "outputs": [
    {
     "data": {
      "text/plain": [
       "<matplotlib.collections.PathCollection at 0x7ff60bb307b8>"
      ]
     },
     "execution_count": 257,
     "metadata": {},
     "output_type": "execute_result"
    },
    {
     "data": {
      "image/png": "[encoded data removed]",
      "text/plain": [
       "<Figure size 432x288 with 1 Axes>"
      ]
     },
     "metadata": {
      "needs_background": "light"
     },
     "output_type": "display_data"
    }
   ],
   "source": [
    "all_targets, all_outputs = [], []\n",
    "with torch.no_grad():  # we don't need gradients in the testing phase\n",
    "    for i, batch in enumerate(test_100_loader):\n",
    "        # Get a batch and potentially send it to GPU memory.\n",
    "        inputs, target = batch[\"input\"].to(device), batch[\"target\"].to(device)\n",
    "        output = net(inputs)\n",
    "        all_outputs.append(output.squeeze().cpu().detach().numpy())\n",
    "        all_targets.append(target)\n",
    "        # print(target)\n",
    "        # print(output)\n",
    "plt.scatter(np.array(all_targets), np.array(all_outputs))"
   ]
  },
  {
   "cell_type": "code",
   "execution_count": 283,
   "id": "baea0b53-5871-42ee-a309-b68f3703cdb6",
   "metadata": {},
   "outputs": [
    {
     "data": {
      "text/plain": [
       "0.64321023"
      ]
     },
     "execution_count": 283,
     "metadata": {},
     "output_type": "execute_result"
    }
   ],
   "source": [
    "np.median(np.array(all_outputs)[np.array(all_targets) == 1])"
   ]
  },
  {
   "cell_type": "code",
   "execution_count": 284,
   "id": "c8c620dd-7613-43e1-afdc-5bdce6459d95",
   "metadata": {},
   "outputs": [
    {
     "data": {
      "text/plain": [
       "0.42768595"
      ]
     },
     "execution_count": 284,
     "metadata": {},
     "output_type": "execute_result"
    }
   ],
   "source": [
    "np.median(np.array(all_outputs)[np.array(all_targets) == 0])"
   ]
  },
  {
   "cell_type": "code",
   "execution_count": 287,
   "id": "950b5111-4b26-4ea4-99a8-6597f7593185",
   "metadata": {},
   "outputs": [
    {
     "data": {
      "text/plain": [
       "<AxesSubplot:>"
      ]
     },
     "execution_count": 287,
     "metadata": {},
     "output_type": "execute_result"
    },
    {
     "data": {
      "image/png": "[encoded data removed]",
      "text/plain": [
       "<Figure size 432x288 with 1 Axes>"
      ]
     },
     "metadata": {
      "needs_background": "light"
     },
     "output_type": "display_data"
    }
   ],
   "source": [
    "sns.boxplot(data=(np.array(all_outputs)[np.array(all_targets) == 0], np.array(all_outputs)[np.array(all_targets) == 1]))"
   ]
  },
  {
   "cell_type": "code",
   "execution_count": 288,
   "id": "ff910dda-46f2-439e-95a5-4da732f6e030",
   "metadata": {},
   "outputs": [],
   "source": [
    "# Another try with a newly initialized network\n",
    "net = mb.tl.Network().to(device)\n",
    "optimiser = topti.Adam(net.parameters(), lr=0.0001)\n",
    "criterion = tnn.BCELoss()"
   ]
  },
  {
   "cell_type": "code",
   "execution_count": 289,
   "id": "af9a9cbe-5c93-4496-8e21-fcf346a69b2f",
   "metadata": {},
   "outputs": [
    {
     "data": {
      "image/png": "[encoded data removed]",
      "text/plain": [
       "<Figure size 720x180 with 1 Axes>"
      ]
     },
     "metadata": {
      "needs_background": "light"
     },
     "output_type": "display_data"
    }
   ],
   "source": [
    "mb.tl.create_logo(net)"
   ]
  },
  {
   "cell_type": "code",
   "execution_count": 290,
   "id": "bf5fc3ed-30f8-4d08-9588-8e4f76c64316",
   "metadata": {},
   "outputs": [
    {
     "name": "stdout",
     "output_type": "stream",
     "text": [
      "Epoch:  1, Loss: 29.993\n",
      "Epoch:  2, Loss: 24.021\n",
      "Epoch:  3, Loss: 17.905\n",
      "Epoch:  4, Loss: 15.125\n",
      "Epoch:  5, Loss: 7.193\n",
      "Epoch:  6, Loss: 6.769\n",
      "Epoch:  7, Loss: 5.441\n",
      "Epoch:  8, Loss: 4.975\n",
      "Epoch:  9, Loss: 4.526\n",
      "Epoch: 10, Loss: 4.093\n",
      "Epoch: 11, Loss: 3.635\n",
      "Epoch: 12, Loss: 3.213\n",
      "Epoch: 13, Loss: 2.820\n",
      "Epoch: 14, Loss: 2.409\n",
      "Epoch: 15, Loss: 2.067\n",
      "Epoch: 16, Loss: 1.753\n",
      "Epoch: 17, Loss: 1.498\n",
      "Epoch: 18, Loss: 1.318\n",
      "Epoch: 19, Loss: 1.192\n",
      "Epoch: 20, Loss: 1.116\n",
      "Epoch: 21, Loss: 1.089\n",
      "Epoch: 22, Loss: 1.060\n",
      "Epoch: 23, Loss: 1.052\n",
      "Epoch: 24, Loss: 1.049\n",
      "Epoch: 25, Loss: 1.048\n",
      "Epoch: 26, Loss: 1.045\n",
      "Epoch: 27, Loss: 1.045\n",
      "Epoch: 28, Loss: 1.045\n",
      "Epoch: 29, Loss: 1.042\n",
      "Epoch: 30, Loss: 1.040\n",
      "Epoch: 31, Loss: 1.038\n",
      "Epoch: 32, Loss: 1.039\n",
      "Epoch: 33, Loss: 1.035\n",
      "Epoch: 34, Loss: 1.038\n",
      "Epoch: 35, Loss: 1.031\n",
      "Epoch: 36, Loss: 1.030\n",
      "Epoch: 37, Loss: 1.030\n",
      "Epoch: 38, Loss: 1.031\n",
      "Epoch: 39, Loss: 1.025\n",
      "Epoch: 40, Loss: 1.023\n",
      "Epoch: 41, Loss: 1.021\n",
      "Epoch: 42, Loss: 1.020\n",
      "Epoch: 43, Loss: 1.019\n",
      "Epoch: 44, Loss: 1.017\n",
      "Epoch: 45, Loss: 1.015\n",
      "Epoch: 46, Loss: 1.013\n",
      "Epoch: 47, Loss: 1.011\n",
      "Epoch: 48, Loss: 1.010\n",
      "Epoch: 49, Loss: 1.009\n",
      "Epoch: 50, Loss: 1.007\n",
      "Epoch: 51, Loss: 1.005\n",
      "Epoch: 52, Loss: 1.005\n",
      "Epoch: 53, Loss: 1.001\n",
      "Epoch: 54, Loss: 0.998\n",
      "Epoch: 55, Loss: 0.998\n",
      "Epoch: 56, Loss: 0.997\n",
      "Epoch: 57, Loss: 0.994\n",
      "Epoch: 58, Loss: 0.992\n",
      "Epoch: 59, Loss: 0.990\n",
      "Epoch: 60, Loss: 0.988\n",
      "Epoch: 61, Loss: 0.986\n",
      "Epoch: 62, Loss: 0.985\n",
      "Epoch: 63, Loss: 0.982\n",
      "Epoch: 64, Loss: 0.981\n",
      "Epoch: 65, Loss: 0.978\n",
      "Epoch: 66, Loss: 0.977\n",
      "Epoch: 67, Loss: 0.976\n",
      "Epoch: 68, Loss: 0.973\n",
      "Epoch: 69, Loss: 0.971\n",
      "Epoch: 70, Loss: 0.969\n",
      "Epoch: 71, Loss: 0.967\n",
      "Epoch: 72, Loss: 0.967\n",
      "Epoch: 73, Loss: 0.965\n",
      "Epoch: 74, Loss: 0.967\n",
      "Epoch: 75, Loss: 0.961\n",
      "Epoch: 76, Loss: 0.959\n",
      "Epoch: 77, Loss: 0.959\n",
      "Epoch: 78, Loss: 0.955\n",
      "Epoch: 79, Loss: 0.954\n",
      "Epoch: 80, Loss: 0.950\n",
      "Epoch: 81, Loss: 0.951\n",
      "Epoch: 82, Loss: 0.948\n",
      "Epoch: 83, Loss: 0.945\n",
      "Epoch: 84, Loss: 0.945\n",
      "Epoch: 85, Loss: 0.941\n",
      "Epoch: 86, Loss: 0.940\n",
      "Epoch: 87, Loss: 0.939\n",
      "Epoch: 88, Loss: 0.937\n",
      "Epoch: 89, Loss: 0.935\n",
      "Epoch: 90, Loss: 0.933\n",
      "Epoch: 91, Loss: 0.931\n",
      "Epoch: 92, Loss: 0.929\n",
      "Epoch: 93, Loss: 0.927\n",
      "Epoch: 94, Loss: 0.926\n",
      "Epoch: 95, Loss: 0.923\n",
      "Epoch: 96, Loss: 0.921\n",
      "Epoch: 97, Loss: 0.920\n",
      "Epoch: 98, Loss: 0.921\n",
      "Epoch: 99, Loss: 0.919\n",
      "Epoch: 100, Loss: 0.915\n"
     ]
    }
   ],
   "source": [
    "# optimiser = topti.Adam(net.parameters(), lr=0.0001)\n",
    "mb.tl.train_network(net, train_100_loader, device, optimiser, criterion, num_epochs=100)"
   ]
  },
  {
   "cell_type": "code",
   "execution_count": 307,
   "id": "3fb4cb2d-2843-4891-9f9c-c9d763bc04a9",
   "metadata": {},
   "outputs": [
    {
     "name": "stdout",
     "output_type": "stream",
     "text": [
      "Epoch:  1, Loss: 0.623\n",
      "Epoch:  2, Loss: 0.623\n",
      "Epoch:  3, Loss: 0.624\n",
      "Epoch:  4, Loss: 0.622\n",
      "Epoch:  5, Loss: 0.623\n",
      "Epoch:  6, Loss: 0.623\n",
      "Epoch:  7, Loss: 0.624\n",
      "Epoch:  8, Loss: 0.624\n",
      "Epoch:  9, Loss: 0.623\n",
      "Epoch: 10, Loss: 0.627\n",
      "Epoch: 11, Loss: 0.623\n",
      "Epoch: 12, Loss: 0.625\n",
      "Epoch: 13, Loss: 0.623\n",
      "Epoch: 14, Loss: 0.623\n",
      "Epoch: 15, Loss: 0.624\n",
      "Epoch: 16, Loss: 0.629\n",
      "Epoch: 17, Loss: 0.624\n",
      "Epoch: 18, Loss: 0.623\n",
      "Epoch: 19, Loss: 0.626\n",
      "Epoch: 20, Loss: 0.624\n",
      "Epoch: 21, Loss: 0.629\n",
      "Epoch: 22, Loss: 0.621\n",
      "Epoch: 23, Loss: 0.623\n",
      "Epoch: 24, Loss: 0.624\n",
      "Epoch: 25, Loss: 0.622\n",
      "Epoch: 26, Loss: 0.623\n",
      "Epoch: 27, Loss: 0.625\n",
      "Epoch: 28, Loss: 0.624\n",
      "Epoch: 29, Loss: 0.622\n",
      "Epoch: 30, Loss: 0.622\n",
      "Epoch: 31, Loss: 0.625\n",
      "Epoch: 32, Loss: 0.623\n",
      "Epoch: 33, Loss: 0.622\n",
      "Epoch: 34, Loss: 0.623\n",
      "Epoch: 35, Loss: 0.623\n",
      "Epoch: 36, Loss: 0.624\n",
      "Epoch: 37, Loss: 0.622\n",
      "Epoch: 38, Loss: 0.622\n",
      "Epoch: 39, Loss: 0.623\n",
      "Epoch: 40, Loss: 0.622\n",
      "Epoch: 41, Loss: 0.624\n",
      "Epoch: 42, Loss: 0.623\n",
      "Epoch: 43, Loss: 0.623\n",
      "Epoch: 44, Loss: 0.622\n",
      "Epoch: 45, Loss: 0.623\n",
      "Epoch: 46, Loss: 0.622\n",
      "Epoch: 47, Loss: 0.626\n",
      "Epoch: 48, Loss: 0.623\n",
      "Epoch: 49, Loss: 0.623\n",
      "Epoch: 50, Loss: 0.623\n",
      "Epoch: 51, Loss: 0.622\n",
      "Epoch: 52, Loss: 0.622\n",
      "Epoch: 53, Loss: 0.623\n",
      "Epoch: 54, Loss: 0.623\n",
      "Epoch: 55, Loss: 0.627\n",
      "Epoch: 56, Loss: 0.625\n",
      "Epoch: 57, Loss: 0.624\n",
      "Epoch: 58, Loss: 0.623\n",
      "Epoch: 59, Loss: 0.623\n",
      "Epoch: 60, Loss: 0.623\n",
      "Epoch: 61, Loss: 0.622\n",
      "Epoch: 62, Loss: 0.622\n",
      "Epoch: 63, Loss: 0.624\n",
      "Epoch: 64, Loss: 0.624\n",
      "Epoch: 65, Loss: 0.623\n",
      "Epoch: 66, Loss: 0.628\n",
      "Epoch: 67, Loss: 0.623\n",
      "Epoch: 68, Loss: 0.623\n",
      "Epoch: 69, Loss: 0.622\n",
      "Epoch: 70, Loss: 0.623\n",
      "Epoch: 71, Loss: 0.630\n",
      "Epoch: 72, Loss: 0.623\n",
      "Epoch: 73, Loss: 0.622\n",
      "Epoch: 74, Loss: 0.622\n",
      "Epoch: 75, Loss: 0.623\n",
      "Epoch: 76, Loss: 0.623\n",
      "Epoch: 77, Loss: 0.623\n",
      "Epoch: 78, Loss: 0.626\n",
      "Epoch: 79, Loss: 0.622\n",
      "Epoch: 80, Loss: 0.623\n",
      "Epoch: 81, Loss: 0.628\n",
      "Epoch: 82, Loss: 0.627\n",
      "Epoch: 83, Loss: 0.623\n",
      "Epoch: 84, Loss: 0.624\n",
      "Epoch: 85, Loss: 0.622\n",
      "Epoch: 86, Loss: 0.622\n",
      "Epoch: 87, Loss: 0.624\n",
      "Epoch: 88, Loss: 0.623\n",
      "Epoch: 89, Loss: 0.623\n",
      "Epoch: 90, Loss: 0.625\n",
      "Epoch: 91, Loss: 0.624\n",
      "Epoch: 92, Loss: 0.628\n",
      "Epoch: 93, Loss: 0.623\n",
      "Epoch: 94, Loss: 0.622\n",
      "Epoch: 95, Loss: 0.624\n",
      "Epoch: 96, Loss: 0.622\n",
      "Epoch: 97, Loss: 0.624\n",
      "Epoch: 98, Loss: 0.626\n",
      "Epoch: 99, Loss: 0.623\n",
      "Epoch: 100, Loss: 0.625\n"
     ]
    }
   ],
   "source": [
    "# optimiser = topti.Adam(net.parameters(), lr=0.0001)\n",
    "mb.tl.train_network(net, train_100_loader, device, optimiser, criterion, num_epochs=100)"
   ]
  },
  {
   "cell_type": "code",
   "execution_count": 308,
   "id": "8a262665-eae0-43ca-adf0-925e7b83fc97",
   "metadata": {},
   "outputs": [
    {
     "data": {
      "image/png": "[encoded data removed]",
      "text/plain": [
       "<Figure size 720x180 with 1 Axes>"
      ]
     },
     "metadata": {
      "needs_background": "light"
     },
     "output_type": "display_data"
    }
   ],
   "source": [
    "mb.tl.create_logo(net)"
   ]
  },
  {
   "cell_type": "code",
   "execution_count": 309,
   "id": "f7720201-197a-4724-b2e4-20994352fa2f",
   "metadata": {},
   "outputs": [
    {
     "data": {
      "text/plain": [
       "<matplotlib.collections.PathCollection at 0x7ff60b8869e8>"
      ]
     },
     "execution_count": 309,
     "metadata": {},
     "output_type": "execute_result"
    },
    {
     "data": {
      "image/png": "[encoded data removed]",
      "text/plain": [
       "<Figure size 432x288 with 1 Axes>"
      ]
     },
     "metadata": {
      "needs_background": "light"
     },
     "output_type": "display_data"
    }
   ],
   "source": [
    "all_targets, all_outputs = [], []\n",
    "with torch.no_grad():  # we don't need gradients in the testing phase\n",
    "    for i, batch in enumerate(test_100_loader):\n",
    "        # Get a batch and potentially send it to GPU memory.\n",
    "        inputs, target = batch[\"input\"].to(device), batch[\"target\"].to(device)\n",
    "        output = net(inputs)\n",
    "        all_outputs.append(output.squeeze().cpu().detach().numpy())\n",
    "        all_targets.append(target)\n",
    "        # print(target)\n",
    "        # print(output)\n",
    "plt.scatter(np.array(all_targets), np.array(all_outputs))"
   ]
  },
  {
   "cell_type": "code",
   "execution_count": 310,
   "id": "1da54ed9-d795-41aa-934a-e5699ae87fcd",
   "metadata": {},
   "outputs": [
    {
     "data": {
      "text/plain": [
       "0.6303624"
      ]
     },
     "execution_count": 310,
     "metadata": {},
     "output_type": "execute_result"
    }
   ],
   "source": [
    "np.median(np.array(all_outputs)[np.array(all_targets) == 1])"
   ]
  },
  {
   "cell_type": "code",
   "execution_count": 311,
   "id": "518fdfb0-afa6-4126-a4ea-749a0e4cef93",
   "metadata": {},
   "outputs": [
    {
     "data": {
      "text/plain": [
       "0.4752125"
      ]
     },
     "execution_count": 311,
     "metadata": {},
     "output_type": "execute_result"
    }
   ],
   "source": [
    "np.median(np.array(all_outputs)[np.array(all_targets) == 0])"
   ]
  },
  {
   "cell_type": "code",
   "execution_count": 312,
   "id": "190d24cf-e2bc-470d-a0de-b3e0f914b4fc",
   "metadata": {},
   "outputs": [
    {
     "data": {
      "text/plain": [
       "<AxesSubplot:>"
      ]
     },
     "execution_count": 312,
     "metadata": {},
     "output_type": "execute_result"
    },
    {
     "data": {
      "image/png": "[encoded data removed]",
      "text/plain": [
       "<Figure size 432x288 with 1 Axes>"
      ]
     },
     "metadata": {
      "needs_background": "light"
     },
     "output_type": "display_data"
    }
   ],
   "source": [
    "sns.boxplot(data=(np.array(all_outputs)[np.array(all_targets) == 0], np.array(all_outputs)[np.array(all_targets) == 1]))"
   ]
  },
  {
   "cell_type": "code",
   "execution_count": 314,
   "id": "0a44109d-3883-4a1d-885f-b22c7d6ec273",
   "metadata": {},
   "outputs": [
    {
     "name": "stdout",
     "output_type": "stream",
     "text": [
      "0.1328193280413119\n",
      "0.0688142\n"
     ]
    }
   ],
   "source": [
    "y, y_pred = np.array(all_targets), np.array(all_outputs)\n",
    "print(r2_score(y, y_pred))\n",
    "print(np.sum((y_pred - np.mean(y)) ** 2) / np.sum((y - np.mean(y)) ** 2))"
   ]
  },
  {
   "cell_type": "code",
   "execution_count": 315,
   "id": "a9f763aa-cc09-4cbb-a10e-c0b1ef38cfe3",
   "metadata": {},
   "outputs": [
    {
     "data": {
      "image/png": "[encoded data removed]",
      "text/plain": [
       "<Figure size 720x180 with 1 Axes>"
      ]
     },
     "metadata": {
      "needs_background": "light"
     },
     "output_type": "display_data"
    }
   ],
   "source": [
    "# Full dataset\n",
    "net = mb.tl.Network().to(device)\n",
    "optimiser = topti.Adam(net.parameters(), lr=0.0001)\n",
    "criterion = tnn.BCELoss()\n",
    "mb.tl.create_logo(net)"
   ]
  },
  {
   "cell_type": "code",
   "execution_count": 316,
   "id": "df02157e-6bf9-48c4-a5a4-7d630b8e1aaf",
   "metadata": {},
   "outputs": [
    {
     "name": "stdout",
     "output_type": "stream",
     "text": [
      "Epoch:  1, Loss: 1.390\n",
      "Epoch:  2, Loss: 1.286\n",
      "Epoch:  3, Loss: 1.185\n",
      "Epoch:  4, Loss: 1.094\n",
      "Epoch:  5, Loss: 1.009\n",
      "Epoch:  6, Loss: 0.934\n",
      "Epoch:  7, Loss: 0.870\n",
      "Epoch:  8, Loss: 0.819\n",
      "Epoch:  9, Loss: 0.779\n",
      "Epoch: 10, Loss: 0.749\n",
      "Epoch: 11, Loss: 0.729\n",
      "Epoch: 12, Loss: 0.717\n",
      "Epoch: 13, Loss: 0.710\n",
      "Epoch: 14, Loss: 0.705\n",
      "Epoch: 15, Loss: 0.702\n",
      "Epoch: 16, Loss: 0.701\n",
      "Epoch: 17, Loss: 0.700\n",
      "Epoch: 18, Loss: 0.700\n",
      "Epoch: 19, Loss: 0.699\n",
      "Epoch: 20, Loss: 0.699\n",
      "Epoch: 21, Loss: 0.699\n",
      "Epoch: 22, Loss: 0.699\n",
      "Epoch: 23, Loss: 0.699\n",
      "Epoch: 24, Loss: 0.699\n",
      "Epoch: 25, Loss: 0.700\n",
      "Epoch: 26, Loss: 0.700\n",
      "Epoch: 27, Loss: 0.699\n",
      "Epoch: 28, Loss: 0.700\n",
      "Epoch: 29, Loss: 0.700\n",
      "Epoch: 30, Loss: 0.700\n",
      "Epoch: 31, Loss: 0.699\n",
      "Epoch: 32, Loss: 0.699\n",
      "Epoch: 33, Loss: 0.699\n",
      "Epoch: 34, Loss: 0.699\n",
      "Epoch: 35, Loss: 0.700\n",
      "Epoch: 36, Loss: 0.699\n",
      "Epoch: 37, Loss: 0.699\n",
      "Epoch: 38, Loss: 0.700\n",
      "Epoch: 39, Loss: 0.700\n",
      "Epoch: 40, Loss: 0.699\n",
      "Epoch: 41, Loss: 0.699\n",
      "Epoch: 42, Loss: 0.699\n",
      "Epoch: 43, Loss: 0.700\n",
      "Epoch: 44, Loss: 0.699\n",
      "Epoch: 45, Loss: 0.699\n",
      "Epoch: 46, Loss: 0.700\n",
      "Epoch: 47, Loss: 0.700\n",
      "Epoch: 48, Loss: 0.700\n",
      "Epoch: 49, Loss: 0.699\n",
      "Epoch: 50, Loss: 0.699\n",
      "Epoch: 51, Loss: 0.699\n",
      "Epoch: 52, Loss: 0.699\n",
      "Epoch: 53, Loss: 0.699\n",
      "Epoch: 54, Loss: 0.699\n",
      "Epoch: 55, Loss: 0.699\n",
      "Epoch: 56, Loss: 0.699\n",
      "Epoch: 57, Loss: 0.699\n",
      "Epoch: 58, Loss: 0.699\n",
      "Epoch: 59, Loss: 0.700\n",
      "Epoch: 60, Loss: 0.699\n",
      "Epoch: 61, Loss: 0.699\n",
      "Epoch: 62, Loss: 0.699\n",
      "Epoch: 63, Loss: 0.699\n",
      "Epoch: 64, Loss: 0.699\n",
      "Epoch: 65, Loss: 0.699\n",
      "Epoch: 66, Loss: 0.699\n",
      "Epoch: 67, Loss: 0.699\n",
      "Epoch: 68, Loss: 0.699\n",
      "Epoch: 69, Loss: 0.699\n",
      "Epoch: 70, Loss: 0.699\n",
      "Epoch: 71, Loss: 0.699\n",
      "Epoch: 72, Loss: 0.700\n",
      "Epoch: 73, Loss: 0.699\n",
      "Epoch: 74, Loss: 0.699\n",
      "Epoch: 75, Loss: 0.699\n",
      "Epoch: 76, Loss: 0.698\n",
      "Epoch: 77, Loss: 0.699\n",
      "Epoch: 78, Loss: 0.699\n",
      "Epoch: 79, Loss: 0.698\n",
      "Epoch: 80, Loss: 0.699\n",
      "Epoch: 81, Loss: 0.699\n",
      "Epoch: 82, Loss: 0.699\n",
      "Epoch: 83, Loss: 0.699\n",
      "Epoch: 84, Loss: 0.699\n",
      "Epoch: 85, Loss: 0.699\n",
      "Epoch: 86, Loss: 0.699\n",
      "Epoch: 87, Loss: 0.699\n",
      "Epoch: 88, Loss: 0.699\n",
      "Epoch: 89, Loss: 0.699\n",
      "Epoch: 90, Loss: 0.699\n",
      "Epoch: 91, Loss: 0.698\n",
      "Epoch: 92, Loss: 0.699\n",
      "Epoch: 93, Loss: 0.698\n",
      "Epoch: 94, Loss: 0.699\n",
      "Epoch: 95, Loss: 0.698\n",
      "Epoch: 96, Loss: 0.698\n",
      "Epoch: 97, Loss: 0.699\n",
      "Epoch: 98, Loss: 0.699\n",
      "Epoch: 99, Loss: 0.699\n",
      "Epoch: 100, Loss: 0.699\n"
     ]
    }
   ],
   "source": [
    "# optimiser = topti.Adam(net.parameters(), lr=0.0001)\n",
    "mb.tl.train_network(net, train_loader, device, optimiser, criterion, num_epochs=100)"
   ]
  },
  {
   "cell_type": "code",
   "execution_count": 322,
   "id": "0188c76f-b2fb-4cf2-865a-b209cf0148c4",
   "metadata": {},
   "outputs": [
    {
     "name": "stdout",
     "output_type": "stream",
     "text": [
      "Epoch:  1, Loss: 0.698\n",
      "Epoch:  2, Loss: 0.698\n",
      "Epoch:  3, Loss: 0.697\n",
      "Epoch:  4, Loss: 0.697\n",
      "Epoch:  5, Loss: 0.697\n",
      "Epoch:  6, Loss: 0.697\n",
      "Epoch:  7, Loss: 0.697\n",
      "Epoch:  8, Loss: 0.697\n",
      "Epoch:  9, Loss: 0.697\n",
      "Epoch: 10, Loss: 0.697\n",
      "Epoch: 11, Loss: 0.698\n",
      "Epoch: 12, Loss: 0.697\n",
      "Epoch: 13, Loss: 0.698\n",
      "Epoch: 14, Loss: 0.697\n",
      "Epoch: 15, Loss: 0.698\n",
      "Epoch: 16, Loss: 0.697\n",
      "Epoch: 17, Loss: 0.697\n",
      "Epoch: 18, Loss: 0.697\n",
      "Epoch: 19, Loss: 0.698\n",
      "Epoch: 20, Loss: 0.698\n",
      "Epoch: 21, Loss: 0.697\n",
      "Epoch: 22, Loss: 0.697\n",
      "Epoch: 23, Loss: 0.697\n",
      "Epoch: 24, Loss: 0.697\n",
      "Epoch: 25, Loss: 0.697\n",
      "Epoch: 26, Loss: 0.697\n",
      "Epoch: 27, Loss: 0.698\n",
      "Epoch: 28, Loss: 0.697\n",
      "Epoch: 29, Loss: 0.697\n",
      "Epoch: 30, Loss: 0.697\n",
      "Epoch: 31, Loss: 0.698\n",
      "Epoch: 32, Loss: 0.697\n",
      "Epoch: 33, Loss: 0.697\n",
      "Epoch: 34, Loss: 0.698\n",
      "Epoch: 35, Loss: 0.697\n",
      "Epoch: 36, Loss: 0.697\n",
      "Epoch: 37, Loss: 0.697\n",
      "Epoch: 38, Loss: 0.697\n",
      "Epoch: 39, Loss: 0.698\n",
      "Epoch: 40, Loss: 0.697\n",
      "Epoch: 41, Loss: 0.697\n",
      "Epoch: 42, Loss: 0.697\n",
      "Epoch: 43, Loss: 0.697\n",
      "Epoch: 44, Loss: 0.697\n",
      "Epoch: 45, Loss: 0.699\n",
      "Epoch: 46, Loss: 0.697\n",
      "Epoch: 47, Loss: 0.697\n",
      "Epoch: 48, Loss: 0.697\n",
      "Epoch: 49, Loss: 0.697\n",
      "Epoch: 50, Loss: 0.697\n"
     ]
    }
   ],
   "source": [
    "optimiser = topti.Adam(net.parameters(), lr=0.0001)\n",
    "mb.tl.train_network(net, train_loader, device, optimiser, criterion, num_epochs=50)"
   ]
  },
  {
   "cell_type": "code",
   "execution_count": 323,
   "id": "308c6ee4-338a-4f0c-a376-37101df92721",
   "metadata": {},
   "outputs": [
    {
     "data": {
      "image/png": "[encoded data removed]",
      "text/plain": [
       "<Figure size 720x180 with 1 Axes>"
      ]
     },
     "metadata": {
      "needs_background": "light"
     },
     "output_type": "display_data"
    }
   ],
   "source": [
    "mb.tl.create_logo(net)"
   ]
  },
  {
   "cell_type": "code",
   "execution_count": 324,
   "id": "e6778ff8-2fde-4557-875a-97596c70f5bc",
   "metadata": {},
   "outputs": [
    {
     "data": {
      "text/plain": [
       "<matplotlib.collections.PathCollection at 0x7ff60bfbf668>"
      ]
     },
     "execution_count": 324,
     "metadata": {},
     "output_type": "execute_result"
    },
    {
     "data": {
      "image/png": "[encoded data removed]",
      "text/plain": [
       "<Figure size 432x288 with 1 Axes>"
      ]
     },
     "metadata": {
      "needs_background": "light"
     },
     "output_type": "display_data"
    }
   ],
   "source": [
    "# Test with unseen data (well, even the training data won't work...)\n",
    "all_targets, all_outputs = [], []\n",
    "with torch.no_grad():  # we don't need gradients in the testing phase\n",
    "    for i, batch in enumerate(test_loader):\n",
    "        # Get a batch and potentially send it to GPU memory.\n",
    "        inputs, target = batch[\"input\"].to(device), batch[\"target\"].to(device)\n",
    "        output = net(inputs)\n",
    "        all_outputs.append(output.squeeze().cpu().detach().numpy())\n",
    "        all_targets.append(target)\n",
    "        # print(target)\n",
    "        # print(output)\n",
    "plt.scatter(np.array(all_targets), np.array(all_outputs))"
   ]
  }
 ],
 "metadata": {
  "kernelspec": {
   "display_name": "Python (multibind)",
   "language": "python",
   "name": "multibind"
  },
  "language_info": {
   "codemirror_mode": {
    "name": "ipython",
    "version": 3
   },
   "file_extension": ".py",
   "mimetype": "text/x-python",
   "name": "python",
   "nbconvert_exporter": "python",
   "pygments_lexer": "ipython3",
   "version": "3.6.3"
  }
 },
 "nbformat": 4,
 "nbformat_minor": 5
}
