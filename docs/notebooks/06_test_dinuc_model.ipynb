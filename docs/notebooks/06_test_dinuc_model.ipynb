{
 "cells": [
  {
   "cell_type": "code",
   "execution_count": 1,
   "id": "8a318bbc-a976-449c-b511-ed023be01569",
   "metadata": {},
   "outputs": [],
   "source": [
    "%load_ext autoreload\n",
    "%autoreload 2"
   ]
  },
  {
   "cell_type": "code",
   "execution_count": 2,
   "id": "9d11ca2f-dfc7-4d53-81d4-9275cbddf768",
   "metadata": {},
   "outputs": [],
   "source": [
    "import mubind as mb\n",
    "import numpy as np\n",
    "import pandas as pd\n",
    "import torch\n",
    "import torch.nn as tnn\n",
    "import torch.optim as topti\n",
    "import torch.utils.data as tdata\n",
    "import matplotlib.pyplot as plt\n",
    "import seaborn as sns\n",
    "from sklearn.metrics import r2_score"
   ]
  },
  {
   "cell_type": "code",
   "execution_count": 3,
   "id": "b41701f9-44de-4da6-8c4d-690ad88917c1",
   "metadata": {},
   "outputs": [
    {
     "name": "stdout",
     "output_type": "stream",
     "text": [
      "Using device: cpu\n"
     ]
    }
   ],
   "source": [
    "# Use a GPU if available, as it should be faster.\n",
    "device = torch.device(\"cuda:0\" if torch.cuda.is_available() else \"cpu\")\n",
    "print(\"Using device: \" + str(device))"
   ]
  },
  {
   "cell_type": "code",
   "execution_count": 4,
   "id": "0b235bd4-0fac-4ada-98d5-05fae818fbbb",
   "metadata": {},
   "outputs": [],
   "source": [
    "data = pd.read_csv('../data/gata1_remap.tsv.gz', sep=',')\n",
    "data.columns = ['id', 'loc', 'seq', 'target']\n",
    "misreads = []\n",
    "for index, seq in enumerate(data['seq']):\n",
    "    if seq.replace('A', '').replace('C', '').replace('G', '').replace('T', '') is not '':\n",
    "        misreads.append(index)\n",
    "data = data.drop(misreads)\n",
    "data.index = range(len(data))\n",
    "\n",
    "# train_10000_dataframe = data.sample(n=10000)\n",
    "train_1000_dataframe = data.sample(n=1000)\n",
    "train_100_dataframe = train_1000_dataframe.sample(n=100)\n",
    "train_10_dataframe = train_100_dataframe.sample(n=10)\n",
    "train_4_dataframe = train_10_dataframe.sample(n=4)\n",
    "train_1_dataframe = train_4_dataframe.sample(n=1)\n",
    "\n",
    "train_1_dataframe.index = range(1)\n",
    "train_4_dataframe.index = range(4)\n",
    "train_10_dataframe.index = range(10)\n",
    "train_100_dataframe.index = range(100)\n",
    "train_1000_dataframe.index = range(1000)\n",
    "# train_10000_dataframe.index = range(10000)\n",
    "\n",
    "# train_data = mb.tl.ChipSeqDataset(data_frame=data)\n",
    "# train_loader = tdata.DataLoader(dataset=train_data, batch_size=256, shuffle=True)\n",
    "train_1_data = mb.tl.ChipSeqDataset(data_frame=train_1_dataframe)\n",
    "train_1_loader = tdata.DataLoader(dataset=train_1_data, batch_size=1, shuffle=False)\n",
    "train_4_data = mb.tl.ChipSeqDataset(data_frame=train_4_dataframe)\n",
    "train_4_loader = tdata.DataLoader(dataset=train_4_data, batch_size=4, shuffle=False)\n",
    "train_10_data = mb.tl.ChipSeqDataset(data_frame=train_10_dataframe)\n",
    "train_10_loader = tdata.DataLoader(dataset=train_10_data, batch_size=10, shuffle=False)\n",
    "train_100_data = mb.tl.ChipSeqDataset(data_frame=train_100_dataframe)\n",
    "train_100_loader = tdata.DataLoader(dataset=train_100_data, batch_size=10, shuffle=True)\n",
    "test_100_loader = tdata.DataLoader(dataset=train_100_data, batch_size=1, shuffle=False)\n",
    "train_1000_data = mb.tl.ChipSeqDataset(data_frame=train_1000_dataframe)\n",
    "train_1000_loader = tdata.DataLoader(dataset=train_1000_data, batch_size=64, shuffle=True)\n",
    "test_1000_loader = tdata.DataLoader(dataset=train_1000_data, batch_size=1, shuffle=False)\n",
    "# train_10000_data = mb.tl.ChipSeqDataset(data_frame=train_10000_dataframe)\n",
    "# train_10000_loader = tdata.DataLoader(dataset=train_10000_data, batch_size=256, shuffle=True)\n",
    "# test_10000_loader = tdata.DataLoader(dataset=train_10000_data, batch_size=1, shuffle=False)"
   ]
  },
  {
   "cell_type": "code",
   "execution_count": 5,
   "id": "2ed5b3cf-4120-43d1-949d-3fa954750900",
   "metadata": {},
   "outputs": [],
   "source": [
    "# Mono + Dinuc model, combined via weighted sum\n",
    "net = mb.tl.NetworkDinuc().to(device)\n",
    "optimiser = topti.Adam(net.parameters(), lr=0.001)\n",
    "criterion = tnn.BCELoss()\n",
    "loss_history = []"
   ]
  },
  {
   "cell_type": "code",
   "execution_count": 15,
   "id": "b67cca01-9411-4872-be21-da89edb1894d",
   "metadata": {
    "collapsed": true,
    "jupyter": {
     "outputs_hidden": true
    },
    "tags": []
   },
   "outputs": [
    {
     "name": "stdout",
     "output_type": "stream",
     "text": [
      "Epoch:  1, Loss: 0.434\n",
      "Epoch:  2, Loss: 0.433\n",
      "Epoch:  3, Loss: 0.436\n",
      "Epoch:  4, Loss: 0.433\n",
      "Epoch:  5, Loss: 0.438\n",
      "Epoch:  6, Loss: 0.437\n",
      "Epoch:  7, Loss: 0.434\n",
      "Epoch:  8, Loss: 0.434\n",
      "Epoch:  9, Loss: 0.437\n",
      "Epoch: 10, Loss: 0.434\n",
      "Epoch: 11, Loss: 0.435\n",
      "Epoch: 12, Loss: 0.435\n",
      "Epoch: 13, Loss: 0.434\n",
      "Epoch: 14, Loss: 0.434\n",
      "Epoch: 15, Loss: 0.435\n",
      "Epoch: 16, Loss: 0.434\n",
      "Epoch: 17, Loss: 0.436\n",
      "Epoch: 18, Loss: 0.434\n",
      "Epoch: 19, Loss: 0.436\n",
      "Epoch: 20, Loss: 0.437\n",
      "Epoch: 21, Loss: 0.439\n",
      "Epoch: 22, Loss: 0.434\n",
      "Epoch: 23, Loss: 0.435\n",
      "Epoch: 24, Loss: 0.432\n",
      "Epoch: 25, Loss: 0.435\n",
      "Epoch: 26, Loss: 0.434\n",
      "Epoch: 27, Loss: 0.433\n",
      "Epoch: 28, Loss: 0.433\n",
      "Epoch: 29, Loss: 0.433\n",
      "Epoch: 30, Loss: 0.437\n",
      "Epoch: 31, Loss: 0.435\n",
      "Epoch: 32, Loss: 0.435\n",
      "Epoch: 33, Loss: 0.436\n",
      "Epoch: 34, Loss: 0.433\n",
      "Epoch: 35, Loss: 0.435\n",
      "Epoch: 36, Loss: 0.434\n",
      "Epoch: 37, Loss: 0.434\n",
      "Epoch: 38, Loss: 0.438\n",
      "Epoch: 39, Loss: 0.436\n",
      "Epoch: 40, Loss: 0.432\n",
      "Epoch: 41, Loss: 0.432\n",
      "Epoch: 42, Loss: 0.433\n",
      "Epoch: 43, Loss: 0.433\n",
      "Epoch: 44, Loss: 0.435\n",
      "Epoch: 45, Loss: 0.436\n",
      "Epoch: 46, Loss: 0.433\n",
      "Epoch: 47, Loss: 0.435\n",
      "Epoch: 48, Loss: 0.434\n",
      "Epoch: 49, Loss: 0.434\n",
      "Epoch: 50, Loss: 0.437\n",
      "Epoch: 51, Loss: 0.435\n",
      "Epoch: 52, Loss: 0.436\n",
      "Epoch: 53, Loss: 0.433\n",
      "Epoch: 54, Loss: 0.435\n",
      "Epoch: 55, Loss: 0.433\n",
      "Epoch: 56, Loss: 0.432\n",
      "Epoch: 57, Loss: 0.436\n",
      "Epoch: 58, Loss: 0.433\n",
      "Epoch: 59, Loss: 0.432\n",
      "Epoch: 60, Loss: 0.435\n",
      "Epoch: 61, Loss: 0.433\n",
      "Epoch: 62, Loss: 0.435\n",
      "Epoch: 63, Loss: 0.433\n",
      "Epoch: 64, Loss: 0.433\n",
      "Epoch: 65, Loss: 0.434\n",
      "Epoch: 66, Loss: 0.436\n",
      "Epoch: 67, Loss: 0.432\n",
      "Epoch: 68, Loss: 0.434\n",
      "Epoch: 69, Loss: 0.435\n",
      "Epoch: 70, Loss: 0.435\n",
      "Epoch: 71, Loss: 0.434\n",
      "Epoch: 72, Loss: 0.435\n",
      "Epoch: 73, Loss: 0.433\n",
      "Epoch: 74, Loss: 0.433\n",
      "Epoch: 75, Loss: 0.435\n",
      "Epoch: 76, Loss: 0.433\n",
      "Epoch: 77, Loss: 0.435\n",
      "Epoch: 78, Loss: 0.435\n",
      "Epoch: 79, Loss: 0.433\n",
      "Epoch: 80, Loss: 0.434\n",
      "Epoch: 81, Loss: 0.432\n",
      "Epoch: 82, Loss: 0.433\n",
      "Epoch: 83, Loss: 0.434\n",
      "Epoch: 84, Loss: 0.434\n",
      "Epoch: 85, Loss: 0.435\n",
      "Epoch: 86, Loss: 0.434\n",
      "Epoch: 87, Loss: 0.432\n",
      "Epoch: 88, Loss: 0.434\n",
      "Epoch: 89, Loss: 0.434\n",
      "Epoch: 90, Loss: 0.433\n",
      "Epoch: 91, Loss: 0.433\n",
      "Epoch: 92, Loss: 0.436\n",
      "Epoch: 93, Loss: 0.433\n",
      "Epoch: 94, Loss: 0.433\n",
      "Epoch: 95, Loss: 0.433\n",
      "Epoch: 96, Loss: 0.434\n",
      "Epoch: 97, Loss: 0.432\n",
      "Epoch: 98, Loss: 0.434\n",
      "Epoch: 99, Loss: 0.436\n",
      "Epoch: 100, Loss: 0.433\n"
     ]
    }
   ],
   "source": [
    "loss_history += mb.tl.train_network(net, train_1000_loader, device, optimiser, criterion, num_epochs=100)"
   ]
  },
  {
   "cell_type": "code",
   "execution_count": 18,
   "id": "8ef3e8d9-b7c3-48ea-81e1-b637303f494d",
   "metadata": {},
   "outputs": [
    {
     "data": {
      "image/png": "[encoded data removed]",
      "text/plain": [
       "<Figure size 720x180 with 1 Axes>"
      ]
     },
     "metadata": {
      "needs_background": "light"
     },
     "output_type": "display_data"
    }
   ],
   "source": [
    "import logomaker\n",
    "weights = net.conv_mono.weight\n",
    "weights = weights.squeeze().cpu().detach().numpy()\n",
    "weights = pd.DataFrame(weights)\n",
    "weights.index = 'A', 'C', 'G', 'T'\n",
    "crp_logo = logomaker.Logo(weights.T, shade_below=.5, fade_below=.5)"
   ]
  },
  {
   "cell_type": "code",
   "execution_count": 20,
   "id": "98d63527-2d60-45b3-af5c-f4490ad93ce5",
   "metadata": {},
   "outputs": [
    {
     "data": {
      "text/plain": [
       "<AxesSubplot:>"
      ]
     },
     "execution_count": 20,
     "metadata": {},
     "output_type": "execute_result"
    },
    {
     "data": {
      "image/png": "[encoded data removed]",
      "text/plain": [
       "<Figure size 432x288 with 2 Axes>"
      ]
     },
     "metadata": {
      "needs_background": "light"
     },
     "output_type": "display_data"
    }
   ],
   "source": [
    "weights = net.conv_di.weight\n",
    "weights = weights.squeeze().cpu().detach().numpy()\n",
    "weights = pd.DataFrame(weights)\n",
    "weights.index = 'AA', 'AC', 'AG', 'AT', 'CA', 'CC', 'CG', 'CT', 'GA', 'GC', 'GG', 'GT', 'TA', 'TC', 'TG', 'TT' \n",
    "sns.heatmap(weights, cmap='Reds', vmin=0)"
   ]
  },
  {
   "cell_type": "code",
   "execution_count": 21,
   "id": "23662829-322e-4805-990f-bad5ba1d49db",
   "metadata": {},
   "outputs": [
    {
     "data": {
      "text/plain": [
       "<AxesSubplot:>"
      ]
     },
     "execution_count": 21,
     "metadata": {},
     "output_type": "execute_result"
    },
    {
     "data": {
      "image/png": "[encoded data removed]",
      "text/plain": [
       "<Figure size 432x288 with 2 Axes>"
      ]
     },
     "metadata": {
      "needs_background": "light"
     },
     "output_type": "display_data"
    }
   ],
   "source": [
    "weights = -net.conv_di.weight\n",
    "weights = weights.squeeze().cpu().detach().numpy()\n",
    "weights = pd.DataFrame(weights)\n",
    "weights.index = 'AA', 'AC', 'AG', 'AT', 'CA', 'CC', 'CG', 'CT', 'GA', 'GC', 'GG', 'GT', 'TA', 'TC', 'TG', 'TT' \n",
    "sns.heatmap(weights, cmap='Reds', vmin=0)"
   ]
  },
  {
   "cell_type": "code",
   "execution_count": 22,
   "id": "da3425e8-5e40-40fd-8e27-125c4b688c2b",
   "metadata": {},
   "outputs": [
    {
     "name": "stdout",
     "output_type": "stream",
     "text": [
      "0.0012390771\n",
      "0.0029834642\n"
     ]
    }
   ],
   "source": [
    "print(np.exp(net.log_weight_1.squeeze().cpu().detach().numpy()))\n",
    "print(np.exp(net.log_weight_2.squeeze().cpu().detach().numpy()))"
   ]
  },
  {
   "cell_type": "code",
   "execution_count": 23,
   "id": "e65b4c04-f4a0-4353-aeb2-8fd04d9df810",
   "metadata": {
    "collapsed": true,
    "jupyter": {
     "outputs_hidden": true
    },
    "tags": []
   },
   "outputs": [
    {
     "name": "stderr",
     "output_type": "stream",
     "text": [
      "[autoreload of multibind.tl.binding_prediction failed: Traceback (most recent call last):\n",
      "  File \"/home/johanna/anaconda3/envs/multibind/lib/python3.6/site-packages/IPython/extensions/autoreload.py\", line 245, in check\n",
      "    superreload(m, reload, self.old_objects)\n",
      "  File \"/home/johanna/anaconda3/envs/multibind/lib/python3.6/site-packages/IPython/extensions/autoreload.py\", line 410, in superreload\n",
      "    update_generic(old_obj, new_obj)\n",
      "  File \"/home/johanna/anaconda3/envs/multibind/lib/python3.6/site-packages/IPython/extensions/autoreload.py\", line 347, in update_generic\n",
      "    update(a, b)\n",
      "  File \"/home/johanna/anaconda3/envs/multibind/lib/python3.6/site-packages/IPython/extensions/autoreload.py\", line 302, in update_class\n",
      "    if update_generic(old_obj, new_obj): continue\n",
      "  File \"/home/johanna/anaconda3/envs/multibind/lib/python3.6/site-packages/IPython/extensions/autoreload.py\", line 347, in update_generic\n",
      "    update(a, b)\n",
      "  File \"/home/johanna/anaconda3/envs/multibind/lib/python3.6/site-packages/IPython/extensions/autoreload.py\", line 302, in update_class\n",
      "    if update_generic(old_obj, new_obj): continue\n",
      "  File \"/home/johanna/anaconda3/envs/multibind/lib/python3.6/site-packages/IPython/extensions/autoreload.py\", line 347, in update_generic\n",
      "    update(a, b)\n",
      "  File \"/home/johanna/anaconda3/envs/multibind/lib/python3.6/site-packages/IPython/extensions/autoreload.py\", line 302, in update_class\n",
      "    if update_generic(old_obj, new_obj): continue\n",
      "  File \"/home/johanna/anaconda3/envs/multibind/lib/python3.6/site-packages/IPython/extensions/autoreload.py\", line 347, in update_generic\n",
      "    update(a, b)\n",
      "  File \"/home/johanna/anaconda3/envs/multibind/lib/python3.6/site-packages/IPython/extensions/autoreload.py\", line 302, in update_class\n",
      "    if update_generic(old_obj, new_obj): continue\n",
      "RecursionError: maximum recursion depth exceeded\n",
      "]\n"
     ]
    },
    {
     "data": {
      "text/plain": [
       "[<matplotlib.lines.Line2D at 0x7feebab6f860>]"
      ]
     },
     "execution_count": 23,
     "metadata": {},
     "output_type": "execute_result"
    },
    {
     "data": {
      "image/png": "[encoded data removed]",
      "text/plain": [
       "<Figure size 432x288 with 1 Axes>"
      ]
     },
     "metadata": {
      "needs_background": "light"
     },
     "output_type": "display_data"
    }
   ],
   "source": [
    "loss_history = np.array(loss_history)\n",
    "plt.plot(loss_history)"
   ]
  },
  {
   "cell_type": "markdown",
   "id": "8369e6a0-6213-414d-9041-40670c6aab38",
   "metadata": {},
   "source": [
    "If we look for 'TG' in the kmer_analysis, it is mainly found in the upper half. If we look for 'CG', it is only found in the lower half.\n",
    "\n",
    "-----"
   ]
  },
  {
   "cell_type": "code",
   "execution_count": 5,
   "id": "1c2c8f0b-5530-4311-9556-ff24689e07ed",
   "metadata": {},
   "outputs": [],
   "source": [
    "# Mono + Dinuc model, combined via weighted sum\n",
    "net = mb.tl.NetworkDinuc().to(device)\n",
    "optimiser = topti.Adam(net.parameters(), lr=0.001)\n",
    "criterion = tnn.BCELoss()\n",
    "loss_history = []"
   ]
  },
  {
   "cell_type": "code",
   "execution_count": 16,
   "id": "51fa0b54-1f9e-4a40-abe2-1d42986acbaa",
   "metadata": {
    "collapsed": true,
    "jupyter": {
     "outputs_hidden": true
    },
    "tags": []
   },
   "outputs": [
    {
     "name": "stdout",
     "output_type": "stream",
     "text": [
      "Epoch:  1, Loss: 0.417\n",
      "Epoch:  2, Loss: 0.419\n",
      "Epoch:  3, Loss: 0.417\n",
      "Epoch:  4, Loss: 0.417\n",
      "Epoch:  5, Loss: 0.419\n",
      "Epoch:  6, Loss: 0.421\n",
      "Epoch:  7, Loss: 0.416\n",
      "Epoch:  8, Loss: 0.418\n",
      "Epoch:  9, Loss: 0.419\n",
      "Epoch: 10, Loss: 0.418\n",
      "Epoch: 11, Loss: 0.424\n",
      "Epoch: 12, Loss: 0.416\n",
      "Epoch: 13, Loss: 0.416\n",
      "Epoch: 14, Loss: 0.418\n",
      "Epoch: 15, Loss: 0.418\n",
      "Epoch: 16, Loss: 0.419\n",
      "Epoch: 17, Loss: 0.418\n",
      "Epoch: 18, Loss: 0.418\n",
      "Epoch: 19, Loss: 0.420\n",
      "Epoch: 20, Loss: 0.416\n",
      "Epoch: 21, Loss: 0.416\n",
      "Epoch: 22, Loss: 0.419\n",
      "Epoch: 23, Loss: 0.421\n",
      "Epoch: 24, Loss: 0.417\n",
      "Epoch: 25, Loss: 0.417\n",
      "Epoch: 26, Loss: 0.419\n",
      "Epoch: 27, Loss: 0.419\n",
      "Epoch: 28, Loss: 0.418\n",
      "Epoch: 29, Loss: 0.417\n",
      "Epoch: 30, Loss: 0.419\n",
      "Epoch: 31, Loss: 0.417\n",
      "Epoch: 32, Loss: 0.416\n",
      "Epoch: 33, Loss: 0.417\n",
      "Epoch: 34, Loss: 0.419\n",
      "Epoch: 35, Loss: 0.417\n",
      "Epoch: 36, Loss: 0.415\n",
      "Epoch: 37, Loss: 0.416\n",
      "Epoch: 38, Loss: 0.415\n",
      "Epoch: 39, Loss: 0.416\n",
      "Epoch: 40, Loss: 0.417\n",
      "Epoch: 41, Loss: 0.419\n",
      "Epoch: 42, Loss: 0.418\n",
      "Epoch: 43, Loss: 0.415\n",
      "Epoch: 44, Loss: 0.418\n",
      "Epoch: 45, Loss: 0.418\n",
      "Epoch: 46, Loss: 0.417\n",
      "Epoch: 47, Loss: 0.418\n",
      "Epoch: 48, Loss: 0.416\n",
      "Epoch: 49, Loss: 0.415\n",
      "Epoch: 50, Loss: 0.423\n",
      "Epoch: 51, Loss: 0.416\n",
      "Epoch: 52, Loss: 0.418\n",
      "Epoch: 53, Loss: 0.415\n",
      "Epoch: 54, Loss: 0.418\n",
      "Epoch: 55, Loss: 0.416\n",
      "Epoch: 56, Loss: 0.418\n",
      "Epoch: 57, Loss: 0.418\n",
      "Epoch: 58, Loss: 0.416\n",
      "Epoch: 59, Loss: 0.422\n",
      "Epoch: 60, Loss: 0.416\n",
      "Epoch: 61, Loss: 0.415\n",
      "Epoch: 62, Loss: 0.416\n",
      "Epoch: 63, Loss: 0.415\n",
      "Epoch: 64, Loss: 0.415\n",
      "Epoch: 65, Loss: 0.415\n",
      "Epoch: 66, Loss: 0.418\n",
      "Epoch: 67, Loss: 0.415\n",
      "Epoch: 68, Loss: 0.414\n",
      "Epoch: 69, Loss: 0.416\n",
      "Epoch: 70, Loss: 0.414\n",
      "Epoch: 71, Loss: 0.418\n",
      "Epoch: 72, Loss: 0.418\n",
      "Epoch: 73, Loss: 0.420\n",
      "Epoch: 74, Loss: 0.416\n",
      "Epoch: 75, Loss: 0.413\n",
      "Epoch: 76, Loss: 0.418\n",
      "Epoch: 77, Loss: 0.418\n",
      "Epoch: 78, Loss: 0.418\n",
      "Epoch: 79, Loss: 0.415\n",
      "Epoch: 80, Loss: 0.415\n",
      "Epoch: 81, Loss: 0.413\n",
      "Epoch: 82, Loss: 0.419\n",
      "Epoch: 83, Loss: 0.416\n",
      "Epoch: 84, Loss: 0.416\n",
      "Epoch: 85, Loss: 0.416\n",
      "Epoch: 86, Loss: 0.416\n",
      "Epoch: 87, Loss: 0.418\n",
      "Epoch: 88, Loss: 0.418\n",
      "Epoch: 89, Loss: 0.418\n",
      "Epoch: 90, Loss: 0.414\n",
      "Epoch: 91, Loss: 0.415\n",
      "Epoch: 92, Loss: 0.416\n",
      "Epoch: 93, Loss: 0.414\n",
      "Epoch: 94, Loss: 0.412\n",
      "Epoch: 95, Loss: 0.415\n",
      "Epoch: 96, Loss: 0.417\n",
      "Epoch: 97, Loss: 0.415\n",
      "Epoch: 98, Loss: 0.414\n",
      "Epoch: 99, Loss: 0.416\n",
      "Epoch: 100, Loss: 0.413\n"
     ]
    }
   ],
   "source": [
    "loss_history += mb.tl.train_network(net, train_1000_loader, device, optimiser, criterion, num_epochs=100)"
   ]
  },
  {
   "cell_type": "code",
   "execution_count": 17,
   "id": "c1babff4-51b7-4a7e-9065-c7bd839e1083",
   "metadata": {},
   "outputs": [
    {
     "data": {
      "image/png": "[encoded data removed]",
      "text/plain": [
       "<Figure size 720x180 with 1 Axes>"
      ]
     },
     "metadata": {
      "needs_background": "light"
     },
     "output_type": "display_data"
    }
   ],
   "source": [
    "import logomaker\n",
    "weights = net.conv_mono.weight\n",
    "weights = weights.squeeze().cpu().detach().numpy()\n",
    "weights = pd.DataFrame(weights)\n",
    "weights.index = 'A', 'C', 'G', 'T'\n",
    "crp_logo = logomaker.Logo(weights.T, shade_below=.5, fade_below=.5)"
   ]
  },
  {
   "cell_type": "code",
   "execution_count": 18,
   "id": "d6f8faba-f1be-43bf-a43e-b598e39071c2",
   "metadata": {},
   "outputs": [
    {
     "data": {
      "text/plain": [
       "<AxesSubplot:>"
      ]
     },
     "execution_count": 18,
     "metadata": {},
     "output_type": "execute_result"
    },
    {
     "data": {
      "image/png": "[encoded data removed]",
      "text/plain": [
       "<Figure size 432x288 with 2 Axes>"
      ]
     },
     "metadata": {
      "needs_background": "light"
     },
     "output_type": "display_data"
    }
   ],
   "source": [
    "weights = net.conv_di.weight\n",
    "weights = weights.squeeze().cpu().detach().numpy()\n",
    "weights = pd.DataFrame(weights)\n",
    "weights.index = 'AA', 'AC', 'AG', 'AT', 'CA', 'CC', 'CG', 'CT', 'GA', 'GC', 'GG', 'GT', 'TA', 'TC', 'TG', 'TT' \n",
    "sns.heatmap(weights, cmap='Reds', vmin=0)"
   ]
  },
  {
   "cell_type": "code",
   "execution_count": 19,
   "id": "d478b265-5915-485d-a017-93bafe45386f",
   "metadata": {},
   "outputs": [
    {
     "data": {
      "text/plain": [
       "<AxesSubplot:>"
      ]
     },
     "execution_count": 19,
     "metadata": {},
     "output_type": "execute_result"
    },
    {
     "data": {
      "image/png": "[encoded data removed]",
      "text/plain": [
       "<Figure size 432x288 with 2 Axes>"
      ]
     },
     "metadata": {
      "needs_background": "light"
     },
     "output_type": "display_data"
    }
   ],
   "source": [
    "weights = -net.conv_di.weight\n",
    "weights = weights.squeeze().cpu().detach().numpy()\n",
    "weights = pd.DataFrame(weights)\n",
    "weights.index = 'AA', 'AC', 'AG', 'AT', 'CA', 'CC', 'CG', 'CT', 'GA', 'GC', 'GG', 'GT', 'TA', 'TC', 'TG', 'TT' \n",
    "sns.heatmap(weights, cmap='Reds', vmin=0)"
   ]
  },
  {
   "cell_type": "code",
   "execution_count": 20,
   "id": "02beed24-e2e7-4221-bdb1-d87efa44e5a2",
   "metadata": {},
   "outputs": [
    {
     "name": "stdout",
     "output_type": "stream",
     "text": [
      "0.0011126555\n",
      "0.0028813744\n"
     ]
    },
    {
     "data": {
      "text/plain": [
       "[<matplotlib.lines.Line2D at 0x7f2f843241d0>]"
      ]
     },
     "execution_count": 20,
     "metadata": {},
     "output_type": "execute_result"
    },
    {
     "data": {
      "image/png": "[encoded data removed]",
      "text/plain": [
       "<Figure size 432x288 with 1 Axes>"
      ]
     },
     "metadata": {
      "needs_background": "light"
     },
     "output_type": "display_data"
    }
   ],
   "source": [
    "print(np.exp(net.log_weight_1.squeeze().cpu().detach().numpy()))\n",
    "print(np.exp(net.log_weight_2.squeeze().cpu().detach().numpy()))\n",
    "loss_history = np.array(loss_history)\n",
    "plt.plot(loss_history)"
   ]
  },
  {
   "cell_type": "markdown",
   "id": "bd53f702-b53b-463d-b16d-913a58c0a766",
   "metadata": {},
   "source": [
    "---"
   ]
  },
  {
   "cell_type": "code",
   "execution_count": 1,
   "id": "56f5da54-f359-4e9c-a098-f21f8a872b2a",
   "metadata": {
    "tags": []
   },
   "outputs": [
    {
     "data": {
      "text/html": [
       "<div>\n",
       "<style scoped>\n",
       "    .dataframe tbody tr th:only-of-type {\n",
       "        vertical-align: middle;\n",
       "    }\n",
       "\n",
       "    .dataframe tbody tr th {\n",
       "        vertical-align: top;\n",
       "    }\n",
       "\n",
       "    .dataframe thead th {\n",
       "        text-align: right;\n",
       "    }\n",
       "</style>\n",
       "<table border=\"1\" class=\"dataframe\">\n",
       "  <thead>\n",
       "    <tr style=\"text-align: right;\">\n",
       "      <th></th>\n",
       "      <th>0</th>\n",
       "      <th>1</th>\n",
       "      <th>ratio</th>\n",
       "    </tr>\n",
       "  </thead>\n",
       "  <tbody>\n",
       "    <tr>\n",
       "      <th>CT</th>\n",
       "      <td>3866568</td>\n",
       "      <td>4820786</td>\n",
       "      <td>1.246787</td>\n",
       "    </tr>\n",
       "    <tr>\n",
       "      <th>AG</th>\n",
       "      <td>3870645</td>\n",
       "      <td>4824545</td>\n",
       "      <td>1.246445</td>\n",
       "    </tr>\n",
       "    <tr>\n",
       "      <th>TG</th>\n",
       "      <td>3802074</td>\n",
       "      <td>4725015</td>\n",
       "      <td>1.242747</td>\n",
       "    </tr>\n",
       "    <tr>\n",
       "      <th>CA</th>\n",
       "      <td>3798485</td>\n",
       "      <td>4718970</td>\n",
       "      <td>1.242330</td>\n",
       "    </tr>\n",
       "    <tr>\n",
       "      <th>CC</th>\n",
       "      <td>3378098</td>\n",
       "      <td>3749224</td>\n",
       "      <td>1.109862</td>\n",
       "    </tr>\n",
       "    <tr>\n",
       "      <th>GG</th>\n",
       "      <td>3387473</td>\n",
       "      <td>3756510</td>\n",
       "      <td>1.108942</td>\n",
       "    </tr>\n",
       "    <tr>\n",
       "      <th>TC</th>\n",
       "      <td>3867034</td>\n",
       "      <td>4049587</td>\n",
       "      <td>1.047207</td>\n",
       "    </tr>\n",
       "    <tr>\n",
       "      <th>GA</th>\n",
       "      <td>3871269</td>\n",
       "      <td>4051729</td>\n",
       "      <td>1.046615</td>\n",
       "    </tr>\n",
       "    <tr>\n",
       "      <th>AA</th>\n",
       "      <td>5249995</td>\n",
       "      <td>5381105</td>\n",
       "      <td>1.024973</td>\n",
       "    </tr>\n",
       "    <tr>\n",
       "      <th>TT</th>\n",
       "      <td>5258193</td>\n",
       "      <td>5384237</td>\n",
       "      <td>1.023971</td>\n",
       "    </tr>\n",
       "    <tr>\n",
       "      <th>GC</th>\n",
       "      <td>3201608</td>\n",
       "      <td>3237394</td>\n",
       "      <td>1.011178</td>\n",
       "    </tr>\n",
       "    <tr>\n",
       "      <th>AT</th>\n",
       "      <td>5051643</td>\n",
       "      <td>4554572</td>\n",
       "      <td>0.901602</td>\n",
       "    </tr>\n",
       "    <tr>\n",
       "      <th>GT</th>\n",
       "      <td>3800458</td>\n",
       "      <td>3216576</td>\n",
       "      <td>0.846365</td>\n",
       "    </tr>\n",
       "    <tr>\n",
       "      <th>AC</th>\n",
       "      <td>3797157</td>\n",
       "      <td>3208958</td>\n",
       "      <td>0.845095</td>\n",
       "    </tr>\n",
       "    <tr>\n",
       "      <th>TA</th>\n",
       "      <td>5049912</td>\n",
       "      <td>3815431</td>\n",
       "      <td>0.755544</td>\n",
       "    </tr>\n",
       "    <tr>\n",
       "      <th>CG</th>\n",
       "      <td>3200911</td>\n",
       "      <td>956884</td>\n",
       "      <td>0.298941</td>\n",
       "    </tr>\n",
       "  </tbody>\n",
       "</table>\n",
       "</div>"
      ],
      "text/plain": [
       "          0        1     ratio\n",
       "CT  3866568  4820786  1.246787\n",
       "AG  3870645  4824545  1.246445\n",
       "TG  3802074  4725015  1.242747\n",
       "CA  3798485  4718970  1.242330\n",
       "CC  3378098  3749224  1.109862\n",
       "GG  3387473  3756510  1.108942\n",
       "TC  3867034  4049587  1.047207\n",
       "GA  3871269  4051729  1.046615\n",
       "AA  5249995  5381105  1.024973\n",
       "TT  5258193  5384237  1.023971\n",
       "GC  3201608  3237394  1.011178\n",
       "AT  5051643  4554572  0.901602\n",
       "GT  3800458  3216576  0.846365\n",
       "AC  3797157  3208958  0.845095\n",
       "TA  5049912  3815431  0.755544\n",
       "CG  3200911   956884  0.298941"
      ]
     },
     "execution_count": 1,
     "metadata": {},
     "output_type": "execute_result"
    }
   ],
   "source": [
    "import itertools\n",
    "import pandas as pd\n",
    "\n",
    "data = pd.read_csv('../data/gata1_remap.tsv.gz', sep=',')\n",
    "data.columns = ['id', 'loc', 'seq', 'target']\n",
    "misreads = []\n",
    "for index, seq in enumerate(data['seq']):\n",
    "    if seq.replace('A', '').replace('C', '').replace('G', '').replace('T', '') is not '':\n",
    "        misreads.append(index)\n",
    "data = data.drop(misreads)\n",
    "data.index = range(len(data))\n",
    "\n",
    "\n",
    "counts = {''.join(opt): [0, 0] for opt in itertools.product('ACTG', repeat=2)}\n",
    "for i, seq in enumerate(data['seq']):\n",
    "    for j in range(len(seq) - 1):\n",
    "        kmer = seq[j:j+2]\n",
    "        counts[kmer][data['target'][i]] += 1\n",
    "counts_df = pd.DataFrame.from_dict(counts, orient='index')\n",
    "counts_df['ratio'] = counts_df[1]/counts_df[0]\n",
    "counts_df.sort_values('ratio', ascending=False)"
   ]
  },
  {
   "cell_type": "code",
   "execution_count": 2,
   "id": "8769a560-6ff0-4453-b3f6-dab605803568",
   "metadata": {},
   "outputs": [
    {
     "data": {
      "text/html": [
       "<div>\n",
       "<style scoped>\n",
       "    .dataframe tbody tr th:only-of-type {\n",
       "        vertical-align: middle;\n",
       "    }\n",
       "\n",
       "    .dataframe tbody tr th {\n",
       "        vertical-align: top;\n",
       "    }\n",
       "\n",
       "    .dataframe thead th {\n",
       "        text-align: right;\n",
       "    }\n",
       "</style>\n",
       "<table border=\"1\" class=\"dataframe\">\n",
       "  <thead>\n",
       "    <tr style=\"text-align: right;\">\n",
       "      <th></th>\n",
       "      <th>id</th>\n",
       "      <th>loc</th>\n",
       "      <th>seq</th>\n",
       "      <th>target</th>\n",
       "    </tr>\n",
       "  </thead>\n",
       "  <tbody>\n",
       "    <tr>\n",
       "      <th>0</th>\n",
       "      <td>0</td>\n",
       "      <td>chr1:115630-115830</td>\n",
       "      <td>GGAGCCGGGTCATGAAAAAGGGGATCTTGTGTGTCTGTCCACGATA...</td>\n",
       "      <td>1</td>\n",
       "    </tr>\n",
       "    <tr>\n",
       "      <th>1</th>\n",
       "      <td>1</td>\n",
       "      <td>chr1:629839-630039</td>\n",
       "      <td>CATAATCCTTCTAATAGCTATCCTCTTCAACAATATACTCTCCGGA...</td>\n",
       "      <td>1</td>\n",
       "    </tr>\n",
       "    <tr>\n",
       "      <th>2</th>\n",
       "      <td>2</td>\n",
       "      <td>chr1:630217-630417</td>\n",
       "      <td>TCTACCGTACAACCCTAACATAACCATTCTTAATTTAACTATTTAT...</td>\n",
       "      <td>1</td>\n",
       "    </tr>\n",
       "    <tr>\n",
       "      <th>3</th>\n",
       "      <td>3</td>\n",
       "      <td>chr1:631766-631966</td>\n",
       "      <td>CAACACCTATTCTGATTTTTCGGTCACCCTGAAGTTTATATTCTCA...</td>\n",
       "      <td>1</td>\n",
       "    </tr>\n",
       "    <tr>\n",
       "      <th>4</th>\n",
       "      <td>4</td>\n",
       "      <td>chr1:632943-633143</td>\n",
       "      <td>CCGTCTGAACTATCCTGCCCGCCATCATCCTAGTCCTTATCGCCCT...</td>\n",
       "      <td>1</td>\n",
       "    </tr>\n",
       "    <tr>\n",
       "      <th>...</th>\n",
       "      <td>...</td>\n",
       "      <td>...</td>\n",
       "      <td>...</td>\n",
       "      <td>...</td>\n",
       "    </tr>\n",
       "    <tr>\n",
       "      <th>647749</th>\n",
       "      <td>647773</td>\n",
       "      <td>chrY:56845083-56845283_rand</td>\n",
       "      <td>GGGCTACTGTGATTTGGGTTAAATGCTTGCAGTTGTAATCACGCGT...</td>\n",
       "      <td>0</td>\n",
       "    </tr>\n",
       "    <tr>\n",
       "      <th>647750</th>\n",
       "      <td>647774</td>\n",
       "      <td>chrY:56846140-56846340_rand</td>\n",
       "      <td>CGATTGTAGTTTCGAATTTGTGACCACTCGGTTCGTGCGGATCTCA...</td>\n",
       "      <td>0</td>\n",
       "    </tr>\n",
       "    <tr>\n",
       "      <th>647751</th>\n",
       "      <td>647775</td>\n",
       "      <td>chrY:56849467-56849667_rand</td>\n",
       "      <td>GATGATTTCCATATAAAATGAAGTACATGCTCTTGGGAAGTTTACC...</td>\n",
       "      <td>0</td>\n",
       "    </tr>\n",
       "    <tr>\n",
       "      <th>647752</th>\n",
       "      <td>647776</td>\n",
       "      <td>chrY:56850584-56850784_rand</td>\n",
       "      <td>TTTATTTCTAACGTAAAGGCTTCCGGGCGTTACTAGTCTATTAGTG...</td>\n",
       "      <td>0</td>\n",
       "    </tr>\n",
       "    <tr>\n",
       "      <th>647753</th>\n",
       "      <td>647777</td>\n",
       "      <td>chrY:56851220-56851420_rand</td>\n",
       "      <td>GAATCTTCTCAGTCTTCACAAGGCAGTTTTAGATTTGCACACGGGA...</td>\n",
       "      <td>0</td>\n",
       "    </tr>\n",
       "  </tbody>\n",
       "</table>\n",
       "<p>647754 rows × 4 columns</p>\n",
       "</div>"
      ],
      "text/plain": [
       "            id                          loc  \\\n",
       "0            0           chr1:115630-115830   \n",
       "1            1           chr1:629839-630039   \n",
       "2            2           chr1:630217-630417   \n",
       "3            3           chr1:631766-631966   \n",
       "4            4           chr1:632943-633143   \n",
       "...        ...                          ...   \n",
       "647749  647773  chrY:56845083-56845283_rand   \n",
       "647750  647774  chrY:56846140-56846340_rand   \n",
       "647751  647775  chrY:56849467-56849667_rand   \n",
       "647752  647776  chrY:56850584-56850784_rand   \n",
       "647753  647777  chrY:56851220-56851420_rand   \n",
       "\n",
       "                                                      seq  target  \n",
       "0       GGAGCCGGGTCATGAAAAAGGGGATCTTGTGTGTCTGTCCACGATA...       1  \n",
       "1       CATAATCCTTCTAATAGCTATCCTCTTCAACAATATACTCTCCGGA...       1  \n",
       "2       TCTACCGTACAACCCTAACATAACCATTCTTAATTTAACTATTTAT...       1  \n",
       "3       CAACACCTATTCTGATTTTTCGGTCACCCTGAAGTTTATATTCTCA...       1  \n",
       "4       CCGTCTGAACTATCCTGCCCGCCATCATCCTAGTCCTTATCGCCCT...       1  \n",
       "...                                                   ...     ...  \n",
       "647749  GGGCTACTGTGATTTGGGTTAAATGCTTGCAGTTGTAATCACGCGT...       0  \n",
       "647750  CGATTGTAGTTTCGAATTTGTGACCACTCGGTTCGTGCGGATCTCA...       0  \n",
       "647751  GATGATTTCCATATAAAATGAAGTACATGCTCTTGGGAAGTTTACC...       0  \n",
       "647752  TTTATTTCTAACGTAAAGGCTTCCGGGCGTTACTAGTCTATTAGTG...       0  \n",
       "647753  GAATCTTCTCAGTCTTCACAAGGCAGTTTTAGATTTGCACACGGGA...       0  \n",
       "\n",
       "[647754 rows x 4 columns]"
      ]
     },
     "execution_count": 2,
     "metadata": {},
     "output_type": "execute_result"
    }
   ],
   "source": [
    "data"
   ]
  },
  {
   "cell_type": "code",
   "execution_count": null,
   "id": "33b78600-017a-4bd2-8096-a8058387b4c9",
   "metadata": {},
   "outputs": [],
   "source": [
    "# Mono + Dinuc model, combined via weighted sum\n",
    "net = mb.tl.NetworkDinuc().to(device)\n",
    "optimiser = topti.Adam(net.parameters(), lr=0.001)\n",
    "criterion = tnn.BCELoss()\n",
    "loss_history = []"
   ]
  },
  {
   "cell_type": "code",
   "execution_count": null,
   "id": "1dc74a8c-21f8-4262-9116-95a34f87681a",
   "metadata": {},
   "outputs": [],
   "source": []
  },
  {
   "cell_type": "code",
   "execution_count": null,
   "id": "336d2ab2-00c2-471d-a348-95216179ca6a",
   "metadata": {},
   "outputs": [],
   "source": []
  },
  {
   "cell_type": "code",
   "execution_count": null,
   "id": "a5b733da-12d9-4974-8448-8f9c921af586",
   "metadata": {},
   "outputs": [],
   "source": []
  },
  {
   "cell_type": "code",
   "execution_count": null,
   "id": "674025fe-eed5-4997-91a6-00c4bd22767f",
   "metadata": {},
   "outputs": [],
   "source": []
  }
 ],
 "metadata": {
  "kernelspec": {
   "display_name": "Python (multibind)",
   "language": "python",
   "name": "multibind"
  },
  "language_info": {
   "codemirror_mode": {
    "name": "ipython",
    "version": 3
   },
   "file_extension": ".py",
   "mimetype": "text/x-python",
   "name": "python",
   "nbconvert_exporter": "python",
   "pygments_lexer": "ipython3",
   "version": "3.6.3"
  }
 },
 "nbformat": 4,
 "nbformat_minor": 5
}
