{
 "cells": [
  {
   "cell_type": "code",
   "execution_count": 1,
   "id": "f3ddb2a8-c741-4666-bf92-45b3360b8aa9",
   "metadata": {},
   "outputs": [
    {
     "name": "stdout",
     "output_type": "stream",
     "text": [
      "/home/rio/miniconda3/envs/multibind/bin/ipython\n"
     ]
    }
   ],
   "source": [
    "!which ipython"
   ]
  },
  {
   "cell_type": "code",
   "execution_count": 2,
   "id": "433b6cfa",
   "metadata": {},
   "outputs": [],
   "source": [
    "%load_ext autoreload\n",
    "%autoreload 2"
   ]
  },
  {
   "cell_type": "code",
   "execution_count": 3,
   "id": "67c2b127",
   "metadata": {},
   "outputs": [
    {
     "name": "stderr",
     "output_type": "stream",
     "text": [
      "/home/rio/miniconda3/envs/multibind/lib/python3.10/site-packages/tqdm/auto.py:22: TqdmWarning: IProgress not found. Please update jupyter and ipywidgets. See https://ipywidgets.readthedocs.io/en/stable/user_install.html\n",
      "  from .autonotebook import tqdm as notebook_tqdm\n"
     ]
    },
    {
     "name": "stdout",
     "output_type": "stream",
     "text": [
      "Using device: cuda:0\n"
     ]
    }
   ],
   "source": [
    "import mubind as mb\n",
    "import numpy as np\n",
    "import pandas as pd\n",
    "import torch\n",
    "import bindome as bd\n",
    "bd.constants.ANNOTATIONS_DIRECTORY = '/mnt/c/Users/ignacio.ibarra/Dropbox/annotations'\n",
    "# mb.models.Mubind\n",
    "import torch.optim as topti\n",
    "import torch.utils.data as tdata\n",
    "import matplotlib.pyplot as plt\n",
    "import logomaker\n",
    "\n",
    "# Use a GPU if available, as it should be faster.\n",
    "device = torch.device(\"cuda:0\" if torch.cuda.is_available() else \"cpu\")\n",
    "print(\"Using device: \" + str(device))"
   ]
  },
  {
   "cell_type": "code",
   "execution_count": 4,
   "id": "c95ccaac-0cd1-4278-841a-93a75101e648",
   "metadata": {},
   "outputs": [
    {
     "data": {
      "text/plain": [
       "\u001b[0;31mSignature:\u001b[0m \u001b[0mbd\u001b[0m\u001b[0;34m.\u001b[0m\u001b[0mbindome\u001b[0m\u001b[0;34m.\u001b[0m\u001b[0mdatasets\u001b[0m\u001b[0;34m.\u001b[0m\u001b[0mSELEX\u001b[0m\u001b[0;34m.\u001b[0m\u001b[0mget_data\u001b[0m\u001b[0;34m(\u001b[0m\u001b[0maccession\u001b[0m\u001b[0;34m=\u001b[0m\u001b[0;32mNone\u001b[0m\u001b[0;34m)\u001b[0m\u001b[0;34m\u001b[0m\u001b[0;34m\u001b[0m\u001b[0m\n",
       "\u001b[0;31mDocstring:\u001b[0m <no docstring>\n",
       "\u001b[0;31mFile:\u001b[0m      /mnt/c/Users/ignacio.ibarra/Dropbox/workspace/theislab/bindome/bindome/datasets/selex.py\n",
       "\u001b[0;31mType:\u001b[0m      function\n"
      ]
     },
     "metadata": {},
     "output_type": "display_data"
    }
   ],
   "source": [
    "bd.bindome.datasets.SELEX.get_data?"
   ]
  },
  {
   "cell_type": "code",
   "execution_count": 5,
   "id": "d17bdb07-674b-4c4f-9357-fb5f06a49259",
   "metadata": {},
   "outputs": [],
   "source": [
    "import os"
   ]
  },
  {
   "cell_type": "code",
   "execution_count": 6,
   "id": "3b6906c3",
   "metadata": {},
   "outputs": [
    {
     "name": "stdout",
     "output_type": "stream",
     "text": [
      "cardiac_complexes\n",
      "# filenames 22\n",
      "PRJEB14744\n",
      "PRJEB20112\n",
      "PRJEB3289\n",
      "PRJEB9797\n"
     ]
    }
   ],
   "source": [
    "data = bd.bindome.datasets.SELEX.get_data(accession='cardiac_complexes')\n",
    "# data[data['cycle'] == 'AF']\n",
    "\n",
    "data = data[~data['filename'].str.endswith('.xlsx')]\n",
    "metadata = pd.read_excel(os.path.join(bd.constants.ANNOTATIONS_DIRECTORY, 'selex', 'cardiac_complexes', 'SAMPLE_INFO.xlsx'))\n",
    "data = data.merge(metadata, on='filename')\n",
    "data['cycle'] = data['Round']\n",
    "data['library'] = data['filename'].str.split('.txt.gz').str[0].str.split('_').str[-1]\n",
    "data = data[['filename', 'cycle', 'tf.name', 'accession', 'library']]"
   ]
  },
  {
   "cell_type": "code",
   "execution_count": 7,
   "id": "950af7d8-fecc-4882-b268-adc44147a450",
   "metadata": {},
   "outputs": [],
   "source": [
    "import os"
   ]
  },
  {
   "cell_type": "markdown",
   "id": "9bac2838",
   "metadata": {},
   "source": [
    "All TF's, using subsets of only round 0 and 1"
   ]
  },
  {
   "cell_type": "code",
   "execution_count": 8,
   "id": "332e73b5",
   "metadata": {},
   "outputs": [],
   "source": [
    "# %time np.array([mb.tl.onehot_mononuc(row['seq'], le, oe) for index, row in next_data.head(10000).iterrows()]).shape"
   ]
  },
  {
   "cell_type": "code",
   "execution_count": 9,
   "id": "4a661903",
   "metadata": {},
   "outputs": [],
   "source": [
    "# %time next_data.head(10000)['seq'].apply(mb.tl.onehot_mononuc, args=(le, oe)) # (row['seq'], le, oe) for index, row in next_data.head(10).iterrows()])"
   ]
  },
  {
   "cell_type": "code",
   "execution_count": 10,
   "id": "b78a9f00",
   "metadata": {},
   "outputs": [],
   "source": [
    "import copy"
   ]
  },
  {
   "cell_type": "code",
   "execution_count": 11,
   "id": "aca2ed55-ff95-41f9-93d8-7f5eb17a450d",
   "metadata": {},
   "outputs": [
    {
     "data": {
      "text/html": [
       "<div>\n",
       "<style scoped>\n",
       "    .dataframe tbody tr th:only-of-type {\n",
       "        vertical-align: middle;\n",
       "    }\n",
       "\n",
       "    .dataframe tbody tr th {\n",
       "        vertical-align: top;\n",
       "    }\n",
       "\n",
       "    .dataframe thead th {\n",
       "        text-align: right;\n",
       "    }\n",
       "</style>\n",
       "<table border=\"1\" class=\"dataframe\">\n",
       "  <thead>\n",
       "    <tr style=\"text-align: right;\">\n",
       "      <th></th>\n",
       "      <th>filename</th>\n",
       "      <th>cycle</th>\n",
       "      <th>tf.name</th>\n",
       "      <th>accession</th>\n",
       "      <th>library</th>\n",
       "    </tr>\n",
       "  </thead>\n",
       "  <tbody>\n",
       "    <tr>\n",
       "      <th>0</th>\n",
       "      <td>GATA4TBX5_R1_R46_016_999.txt.gz</td>\n",
       "      <td>1</td>\n",
       "      <td>GATA4TBX5</td>\n",
       "      <td>cardiac_complexes</td>\n",
       "      <td>999</td>\n",
       "    </tr>\n",
       "    <tr>\n",
       "      <th>1</th>\n",
       "      <td>GATA4TBX5_R2_R46_033_999.txt.gz</td>\n",
       "      <td>2</td>\n",
       "      <td>GATA4TBX5</td>\n",
       "      <td>cardiac_complexes</td>\n",
       "      <td>999</td>\n",
       "    </tr>\n",
       "    <tr>\n",
       "      <th>2</th>\n",
       "      <td>GATA4TBX5_R3_R46_051_999.txt.gz</td>\n",
       "      <td>3</td>\n",
       "      <td>GATA4TBX5</td>\n",
       "      <td>cardiac_complexes</td>\n",
       "      <td>999</td>\n",
       "    </tr>\n",
       "    <tr>\n",
       "      <th>3</th>\n",
       "      <td>GATA4_R1_R46_032_777.txt.gz</td>\n",
       "      <td>1</td>\n",
       "      <td>GATA4</td>\n",
       "      <td>cardiac_complexes</td>\n",
       "      <td>777</td>\n",
       "    </tr>\n",
       "    <tr>\n",
       "      <th>4</th>\n",
       "      <td>GATA4_R2_R46_046_777.txt.gz</td>\n",
       "      <td>2</td>\n",
       "      <td>GATA4</td>\n",
       "      <td>cardiac_complexes</td>\n",
       "      <td>777</td>\n",
       "    </tr>\n",
       "    <tr>\n",
       "      <th>5</th>\n",
       "      <td>GATA4_R3_R46_054_777.txt.gz</td>\n",
       "      <td>3</td>\n",
       "      <td>GATA4</td>\n",
       "      <td>cardiac_complexes</td>\n",
       "      <td>777</td>\n",
       "    </tr>\n",
       "    <tr>\n",
       "      <th>6</th>\n",
       "      <td>NKX2-5GATA4_R1_R46_036_777.txt.gz</td>\n",
       "      <td>1</td>\n",
       "      <td>NKX2-5GATA4</td>\n",
       "      <td>cardiac_complexes</td>\n",
       "      <td>777</td>\n",
       "    </tr>\n",
       "    <tr>\n",
       "      <th>7</th>\n",
       "      <td>NKX2-5GATA4_R2_R46_048_777.txt.gz</td>\n",
       "      <td>2</td>\n",
       "      <td>NKX2-5GATA4</td>\n",
       "      <td>cardiac_complexes</td>\n",
       "      <td>777</td>\n",
       "    </tr>\n",
       "    <tr>\n",
       "      <th>8</th>\n",
       "      <td>NKX2-5GATA4_R3_R46_056_777.txt.gz</td>\n",
       "      <td>3</td>\n",
       "      <td>NKX2-5GATA4</td>\n",
       "      <td>cardiac_complexes</td>\n",
       "      <td>777</td>\n",
       "    </tr>\n",
       "    <tr>\n",
       "      <th>9</th>\n",
       "      <td>NKX2-5TBX5_R1_R46_067_888.txt.gz</td>\n",
       "      <td>1</td>\n",
       "      <td>NKX2-5TBX5</td>\n",
       "      <td>cardiac_complexes</td>\n",
       "      <td>888</td>\n",
       "    </tr>\n",
       "    <tr>\n",
       "      <th>10</th>\n",
       "      <td>NKX2-5TBX5_R2_R46_084_888.txt.gz</td>\n",
       "      <td>2</td>\n",
       "      <td>NKX2-5TBX5</td>\n",
       "      <td>cardiac_complexes</td>\n",
       "      <td>888</td>\n",
       "    </tr>\n",
       "    <tr>\n",
       "      <th>11</th>\n",
       "      <td>NKX2-5TBX5_R3_R46_019_888.txt.gz</td>\n",
       "      <td>3</td>\n",
       "      <td>NKX2-5TBX5</td>\n",
       "      <td>cardiac_complexes</td>\n",
       "      <td>888</td>\n",
       "    </tr>\n",
       "    <tr>\n",
       "      <th>12</th>\n",
       "      <td>NKX2-5_R1_R46_028_777.txt.gz</td>\n",
       "      <td>1</td>\n",
       "      <td>NKX2-5</td>\n",
       "      <td>cardiac_complexes</td>\n",
       "      <td>777</td>\n",
       "    </tr>\n",
       "    <tr>\n",
       "      <th>13</th>\n",
       "      <td>NKX2-5_R2_R46_045_777.txt.gz</td>\n",
       "      <td>2</td>\n",
       "      <td>NKX2-5</td>\n",
       "      <td>cardiac_complexes</td>\n",
       "      <td>777</td>\n",
       "    </tr>\n",
       "    <tr>\n",
       "      <th>14</th>\n",
       "      <td>NKX2-5_R3_R46_052_777.txt.gz</td>\n",
       "      <td>3</td>\n",
       "      <td>NKX2-5</td>\n",
       "      <td>cardiac_complexes</td>\n",
       "      <td>777</td>\n",
       "    </tr>\n",
       "    <tr>\n",
       "      <th>15</th>\n",
       "      <td>R46_777.txt.gz</td>\n",
       "      <td>0</td>\n",
       "      <td>R46</td>\n",
       "      <td>cardiac_complexes</td>\n",
       "      <td>777</td>\n",
       "    </tr>\n",
       "    <tr>\n",
       "      <th>16</th>\n",
       "      <td>R46_777.txt.gz</td>\n",
       "      <td>0</td>\n",
       "      <td>R46</td>\n",
       "      <td>cardiac_complexes</td>\n",
       "      <td>777</td>\n",
       "    </tr>\n",
       "    <tr>\n",
       "      <th>17</th>\n",
       "      <td>R46_888.txt.gz</td>\n",
       "      <td>0</td>\n",
       "      <td>R46</td>\n",
       "      <td>cardiac_complexes</td>\n",
       "      <td>888</td>\n",
       "    </tr>\n",
       "    <tr>\n",
       "      <th>18</th>\n",
       "      <td>R46_888.txt.gz</td>\n",
       "      <td>0</td>\n",
       "      <td>R46</td>\n",
       "      <td>cardiac_complexes</td>\n",
       "      <td>888</td>\n",
       "    </tr>\n",
       "    <tr>\n",
       "      <th>19</th>\n",
       "      <td>R46_999.txt.gz</td>\n",
       "      <td>0</td>\n",
       "      <td>R46</td>\n",
       "      <td>cardiac_complexes</td>\n",
       "      <td>999</td>\n",
       "    </tr>\n",
       "    <tr>\n",
       "      <th>20</th>\n",
       "      <td>R46_999.txt.gz</td>\n",
       "      <td>0</td>\n",
       "      <td>R46</td>\n",
       "      <td>cardiac_complexes</td>\n",
       "      <td>999</td>\n",
       "    </tr>\n",
       "    <tr>\n",
       "      <th>21</th>\n",
       "      <td>TBX5_R1_R46_014_999.txt.gz</td>\n",
       "      <td>1</td>\n",
       "      <td>TBX5</td>\n",
       "      <td>cardiac_complexes</td>\n",
       "      <td>999</td>\n",
       "    </tr>\n",
       "    <tr>\n",
       "      <th>22</th>\n",
       "      <td>TBX5_R1_R46_049_999.txt.gz</td>\n",
       "      <td>2</td>\n",
       "      <td>TBX5</td>\n",
       "      <td>cardiac_complexes</td>\n",
       "      <td>999</td>\n",
       "    </tr>\n",
       "    <tr>\n",
       "      <th>23</th>\n",
       "      <td>TBX5_R2_R46_031_999.txt.gz</td>\n",
       "      <td>3</td>\n",
       "      <td>TBX5</td>\n",
       "      <td>cardiac_complexes</td>\n",
       "      <td>999</td>\n",
       "    </tr>\n",
       "  </tbody>\n",
       "</table>\n",
       "</div>"
      ],
      "text/plain": [
       "                             filename  cycle      tf.name          accession  \\\n",
       "0     GATA4TBX5_R1_R46_016_999.txt.gz      1    GATA4TBX5  cardiac_complexes   \n",
       "1     GATA4TBX5_R2_R46_033_999.txt.gz      2    GATA4TBX5  cardiac_complexes   \n",
       "2     GATA4TBX5_R3_R46_051_999.txt.gz      3    GATA4TBX5  cardiac_complexes   \n",
       "3         GATA4_R1_R46_032_777.txt.gz      1        GATA4  cardiac_complexes   \n",
       "4         GATA4_R2_R46_046_777.txt.gz      2        GATA4  cardiac_complexes   \n",
       "5         GATA4_R3_R46_054_777.txt.gz      3        GATA4  cardiac_complexes   \n",
       "6   NKX2-5GATA4_R1_R46_036_777.txt.gz      1  NKX2-5GATA4  cardiac_complexes   \n",
       "7   NKX2-5GATA4_R2_R46_048_777.txt.gz      2  NKX2-5GATA4  cardiac_complexes   \n",
       "8   NKX2-5GATA4_R3_R46_056_777.txt.gz      3  NKX2-5GATA4  cardiac_complexes   \n",
       "9    NKX2-5TBX5_R1_R46_067_888.txt.gz      1   NKX2-5TBX5  cardiac_complexes   \n",
       "10   NKX2-5TBX5_R2_R46_084_888.txt.gz      2   NKX2-5TBX5  cardiac_complexes   \n",
       "11   NKX2-5TBX5_R3_R46_019_888.txt.gz      3   NKX2-5TBX5  cardiac_complexes   \n",
       "12       NKX2-5_R1_R46_028_777.txt.gz      1       NKX2-5  cardiac_complexes   \n",
       "13       NKX2-5_R2_R46_045_777.txt.gz      2       NKX2-5  cardiac_complexes   \n",
       "14       NKX2-5_R3_R46_052_777.txt.gz      3       NKX2-5  cardiac_complexes   \n",
       "15                     R46_777.txt.gz      0          R46  cardiac_complexes   \n",
       "16                     R46_777.txt.gz      0          R46  cardiac_complexes   \n",
       "17                     R46_888.txt.gz      0          R46  cardiac_complexes   \n",
       "18                     R46_888.txt.gz      0          R46  cardiac_complexes   \n",
       "19                     R46_999.txt.gz      0          R46  cardiac_complexes   \n",
       "20                     R46_999.txt.gz      0          R46  cardiac_complexes   \n",
       "21         TBX5_R1_R46_014_999.txt.gz      1         TBX5  cardiac_complexes   \n",
       "22         TBX5_R1_R46_049_999.txt.gz      2         TBX5  cardiac_complexes   \n",
       "23         TBX5_R2_R46_031_999.txt.gz      3         TBX5  cardiac_complexes   \n",
       "\n",
       "   library  \n",
       "0      999  \n",
       "1      999  \n",
       "2      999  \n",
       "3      777  \n",
       "4      777  \n",
       "5      777  \n",
       "6      777  \n",
       "7      777  \n",
       "8      777  \n",
       "9      888  \n",
       "10     888  \n",
       "11     888  \n",
       "12     777  \n",
       "13     777  \n",
       "14     777  \n",
       "15     777  \n",
       "16     777  \n",
       "17     888  \n",
       "18     888  \n",
       "19     999  \n",
       "20     999  \n",
       "21     999  \n",
       "22     999  \n",
       "23     999  "
      ]
     },
     "execution_count": 11,
     "metadata": {},
     "output_type": "execute_result"
    }
   ],
   "source": [
    "data"
   ]
  },
  {
   "cell_type": "code",
   "execution_count": 13,
   "id": "8364da81-de56-470f-847e-1bb757577f9d",
   "metadata": {},
   "outputs": [],
   "source": [
    "import copy"
   ]
  },
  {
   "cell_type": "code",
   "execution_count": 15,
   "id": "b40477d7-d3ab-429b-b6fb-a23768b6e861",
   "metadata": {},
   "outputs": [],
   "source": [
    "from sklearn.preprocessing import LabelEncoder\n",
    "from sklearn.preprocessing import OneHotEncoder\n"
   ]
  },
  {
   "cell_type": "code",
   "execution_count": 16,
   "id": "2a996ab4-659f-497d-98a6-d00000d9477f",
   "metadata": {},
   "outputs": [],
   "source": [
    "import timeit\n"
   ]
  },
  {
   "cell_type": "code",
   "execution_count": 17,
   "id": "500374bf-cc37-4b3f-a81b-1593d684c51e",
   "metadata": {},
   "outputs": [
    {
     "data": {
      "text/html": [
       "<div>\n",
       "<style scoped>\n",
       "    .dataframe tbody tr th:only-of-type {\n",
       "        vertical-align: middle;\n",
       "    }\n",
       "\n",
       "    .dataframe tbody tr th {\n",
       "        vertical-align: top;\n",
       "    }\n",
       "\n",
       "    .dataframe thead th {\n",
       "        text-align: right;\n",
       "    }\n",
       "</style>\n",
       "<table border=\"1\" class=\"dataframe\">\n",
       "  <thead>\n",
       "    <tr style=\"text-align: right;\">\n",
       "      <th></th>\n",
       "      <th>filename</th>\n",
       "      <th>cycle</th>\n",
       "      <th>tf.name</th>\n",
       "      <th>accession</th>\n",
       "      <th>library</th>\n",
       "    </tr>\n",
       "  </thead>\n",
       "  <tbody>\n",
       "    <tr>\n",
       "      <th>0</th>\n",
       "      <td>GATA4TBX5_R1_R46_016_999.txt.gz</td>\n",
       "      <td>1</td>\n",
       "      <td>GATA4TBX5</td>\n",
       "      <td>cardiac_complexes</td>\n",
       "      <td>999</td>\n",
       "    </tr>\n",
       "    <tr>\n",
       "      <th>1</th>\n",
       "      <td>GATA4TBX5_R2_R46_033_999.txt.gz</td>\n",
       "      <td>2</td>\n",
       "      <td>GATA4TBX5</td>\n",
       "      <td>cardiac_complexes</td>\n",
       "      <td>999</td>\n",
       "    </tr>\n",
       "    <tr>\n",
       "      <th>2</th>\n",
       "      <td>GATA4TBX5_R3_R46_051_999.txt.gz</td>\n",
       "      <td>3</td>\n",
       "      <td>GATA4TBX5</td>\n",
       "      <td>cardiac_complexes</td>\n",
       "      <td>999</td>\n",
       "    </tr>\n",
       "    <tr>\n",
       "      <th>3</th>\n",
       "      <td>GATA4_R1_R46_032_777.txt.gz</td>\n",
       "      <td>1</td>\n",
       "      <td>GATA4</td>\n",
       "      <td>cardiac_complexes</td>\n",
       "      <td>777</td>\n",
       "    </tr>\n",
       "    <tr>\n",
       "      <th>4</th>\n",
       "      <td>GATA4_R2_R46_046_777.txt.gz</td>\n",
       "      <td>2</td>\n",
       "      <td>GATA4</td>\n",
       "      <td>cardiac_complexes</td>\n",
       "      <td>777</td>\n",
       "    </tr>\n",
       "    <tr>\n",
       "      <th>5</th>\n",
       "      <td>GATA4_R3_R46_054_777.txt.gz</td>\n",
       "      <td>3</td>\n",
       "      <td>GATA4</td>\n",
       "      <td>cardiac_complexes</td>\n",
       "      <td>777</td>\n",
       "    </tr>\n",
       "    <tr>\n",
       "      <th>6</th>\n",
       "      <td>NKX2-5GATA4_R1_R46_036_777.txt.gz</td>\n",
       "      <td>1</td>\n",
       "      <td>NKX2-5GATA4</td>\n",
       "      <td>cardiac_complexes</td>\n",
       "      <td>777</td>\n",
       "    </tr>\n",
       "    <tr>\n",
       "      <th>7</th>\n",
       "      <td>NKX2-5GATA4_R2_R46_048_777.txt.gz</td>\n",
       "      <td>2</td>\n",
       "      <td>NKX2-5GATA4</td>\n",
       "      <td>cardiac_complexes</td>\n",
       "      <td>777</td>\n",
       "    </tr>\n",
       "    <tr>\n",
       "      <th>8</th>\n",
       "      <td>NKX2-5GATA4_R3_R46_056_777.txt.gz</td>\n",
       "      <td>3</td>\n",
       "      <td>NKX2-5GATA4</td>\n",
       "      <td>cardiac_complexes</td>\n",
       "      <td>777</td>\n",
       "    </tr>\n",
       "    <tr>\n",
       "      <th>9</th>\n",
       "      <td>NKX2-5TBX5_R1_R46_067_888.txt.gz</td>\n",
       "      <td>1</td>\n",
       "      <td>NKX2-5TBX5</td>\n",
       "      <td>cardiac_complexes</td>\n",
       "      <td>888</td>\n",
       "    </tr>\n",
       "    <tr>\n",
       "      <th>10</th>\n",
       "      <td>NKX2-5TBX5_R2_R46_084_888.txt.gz</td>\n",
       "      <td>2</td>\n",
       "      <td>NKX2-5TBX5</td>\n",
       "      <td>cardiac_complexes</td>\n",
       "      <td>888</td>\n",
       "    </tr>\n",
       "    <tr>\n",
       "      <th>11</th>\n",
       "      <td>NKX2-5TBX5_R3_R46_019_888.txt.gz</td>\n",
       "      <td>3</td>\n",
       "      <td>NKX2-5TBX5</td>\n",
       "      <td>cardiac_complexes</td>\n",
       "      <td>888</td>\n",
       "    </tr>\n",
       "    <tr>\n",
       "      <th>12</th>\n",
       "      <td>NKX2-5_R1_R46_028_777.txt.gz</td>\n",
       "      <td>1</td>\n",
       "      <td>NKX2-5</td>\n",
       "      <td>cardiac_complexes</td>\n",
       "      <td>777</td>\n",
       "    </tr>\n",
       "    <tr>\n",
       "      <th>13</th>\n",
       "      <td>NKX2-5_R2_R46_045_777.txt.gz</td>\n",
       "      <td>2</td>\n",
       "      <td>NKX2-5</td>\n",
       "      <td>cardiac_complexes</td>\n",
       "      <td>777</td>\n",
       "    </tr>\n",
       "    <tr>\n",
       "      <th>14</th>\n",
       "      <td>NKX2-5_R3_R46_052_777.txt.gz</td>\n",
       "      <td>3</td>\n",
       "      <td>NKX2-5</td>\n",
       "      <td>cardiac_complexes</td>\n",
       "      <td>777</td>\n",
       "    </tr>\n",
       "    <tr>\n",
       "      <th>15</th>\n",
       "      <td>R46_777.txt.gz</td>\n",
       "      <td>0</td>\n",
       "      <td>R46</td>\n",
       "      <td>cardiac_complexes</td>\n",
       "      <td>777</td>\n",
       "    </tr>\n",
       "    <tr>\n",
       "      <th>16</th>\n",
       "      <td>R46_777.txt.gz</td>\n",
       "      <td>0</td>\n",
       "      <td>R46</td>\n",
       "      <td>cardiac_complexes</td>\n",
       "      <td>777</td>\n",
       "    </tr>\n",
       "    <tr>\n",
       "      <th>17</th>\n",
       "      <td>R46_888.txt.gz</td>\n",
       "      <td>0</td>\n",
       "      <td>R46</td>\n",
       "      <td>cardiac_complexes</td>\n",
       "      <td>888</td>\n",
       "    </tr>\n",
       "    <tr>\n",
       "      <th>18</th>\n",
       "      <td>R46_888.txt.gz</td>\n",
       "      <td>0</td>\n",
       "      <td>R46</td>\n",
       "      <td>cardiac_complexes</td>\n",
       "      <td>888</td>\n",
       "    </tr>\n",
       "    <tr>\n",
       "      <th>19</th>\n",
       "      <td>R46_999.txt.gz</td>\n",
       "      <td>0</td>\n",
       "      <td>R46</td>\n",
       "      <td>cardiac_complexes</td>\n",
       "      <td>999</td>\n",
       "    </tr>\n",
       "    <tr>\n",
       "      <th>20</th>\n",
       "      <td>R46_999.txt.gz</td>\n",
       "      <td>0</td>\n",
       "      <td>R46</td>\n",
       "      <td>cardiac_complexes</td>\n",
       "      <td>999</td>\n",
       "    </tr>\n",
       "    <tr>\n",
       "      <th>21</th>\n",
       "      <td>TBX5_R1_R46_014_999.txt.gz</td>\n",
       "      <td>1</td>\n",
       "      <td>TBX5</td>\n",
       "      <td>cardiac_complexes</td>\n",
       "      <td>999</td>\n",
       "    </tr>\n",
       "    <tr>\n",
       "      <th>22</th>\n",
       "      <td>TBX5_R1_R46_049_999.txt.gz</td>\n",
       "      <td>2</td>\n",
       "      <td>TBX5</td>\n",
       "      <td>cardiac_complexes</td>\n",
       "      <td>999</td>\n",
       "    </tr>\n",
       "    <tr>\n",
       "      <th>23</th>\n",
       "      <td>TBX5_R2_R46_031_999.txt.gz</td>\n",
       "      <td>3</td>\n",
       "      <td>TBX5</td>\n",
       "      <td>cardiac_complexes</td>\n",
       "      <td>999</td>\n",
       "    </tr>\n",
       "  </tbody>\n",
       "</table>\n",
       "</div>"
      ],
      "text/plain": [
       "                             filename  cycle      tf.name          accession  \\\n",
       "0     GATA4TBX5_R1_R46_016_999.txt.gz      1    GATA4TBX5  cardiac_complexes   \n",
       "1     GATA4TBX5_R2_R46_033_999.txt.gz      2    GATA4TBX5  cardiac_complexes   \n",
       "2     GATA4TBX5_R3_R46_051_999.txt.gz      3    GATA4TBX5  cardiac_complexes   \n",
       "3         GATA4_R1_R46_032_777.txt.gz      1        GATA4  cardiac_complexes   \n",
       "4         GATA4_R2_R46_046_777.txt.gz      2        GATA4  cardiac_complexes   \n",
       "5         GATA4_R3_R46_054_777.txt.gz      3        GATA4  cardiac_complexes   \n",
       "6   NKX2-5GATA4_R1_R46_036_777.txt.gz      1  NKX2-5GATA4  cardiac_complexes   \n",
       "7   NKX2-5GATA4_R2_R46_048_777.txt.gz      2  NKX2-5GATA4  cardiac_complexes   \n",
       "8   NKX2-5GATA4_R3_R46_056_777.txt.gz      3  NKX2-5GATA4  cardiac_complexes   \n",
       "9    NKX2-5TBX5_R1_R46_067_888.txt.gz      1   NKX2-5TBX5  cardiac_complexes   \n",
       "10   NKX2-5TBX5_R2_R46_084_888.txt.gz      2   NKX2-5TBX5  cardiac_complexes   \n",
       "11   NKX2-5TBX5_R3_R46_019_888.txt.gz      3   NKX2-5TBX5  cardiac_complexes   \n",
       "12       NKX2-5_R1_R46_028_777.txt.gz      1       NKX2-5  cardiac_complexes   \n",
       "13       NKX2-5_R2_R46_045_777.txt.gz      2       NKX2-5  cardiac_complexes   \n",
       "14       NKX2-5_R3_R46_052_777.txt.gz      3       NKX2-5  cardiac_complexes   \n",
       "15                     R46_777.txt.gz      0          R46  cardiac_complexes   \n",
       "16                     R46_777.txt.gz      0          R46  cardiac_complexes   \n",
       "17                     R46_888.txt.gz      0          R46  cardiac_complexes   \n",
       "18                     R46_888.txt.gz      0          R46  cardiac_complexes   \n",
       "19                     R46_999.txt.gz      0          R46  cardiac_complexes   \n",
       "20                     R46_999.txt.gz      0          R46  cardiac_complexes   \n",
       "21         TBX5_R1_R46_014_999.txt.gz      1         TBX5  cardiac_complexes   \n",
       "22         TBX5_R1_R46_049_999.txt.gz      2         TBX5  cardiac_complexes   \n",
       "23         TBX5_R2_R46_031_999.txt.gz      3         TBX5  cardiac_complexes   \n",
       "\n",
       "   library  \n",
       "0      999  \n",
       "1      999  \n",
       "2      999  \n",
       "3      777  \n",
       "4      777  \n",
       "5      777  \n",
       "6      777  \n",
       "7      777  \n",
       "8      777  \n",
       "9      888  \n",
       "10     888  \n",
       "11     888  \n",
       "12     777  \n",
       "13     777  \n",
       "14     777  \n",
       "15     777  \n",
       "16     777  \n",
       "17     888  \n",
       "18     888  \n",
       "19     999  \n",
       "20     999  \n",
       "21     999  \n",
       "22     999  \n",
       "23     999  "
      ]
     },
     "execution_count": 17,
     "metadata": {},
     "output_type": "execute_result"
    }
   ],
   "source": [
    "data"
   ]
  },
  {
   "cell_type": "code",
   "execution_count": 18,
   "id": "93ec65e9-978e-4344-a46c-36d7907f94ac",
   "metadata": {},
   "outputs": [
    {
     "data": {
      "text/plain": [
       "178"
      ]
     },
     "execution_count": 18,
     "metadata": {},
     "output_type": "execute_result"
    }
   ],
   "source": [
    "import gc; gc.collect()"
   ]
  },
  {
   "cell_type": "code",
   "execution_count": 37,
   "id": "599790ab-1d60-47f2-bdaa-833ef523006c",
   "metadata": {},
   "outputs": [],
   "source": [
    "# update main object to skip reading again in future iterations\n",
    "def update_dict(d1, d2):\n",
    "    for k in list(d2.keys()):\n",
    "        if not k in d1:\n",
    "            d1[k] = d2[k]\n",
    "        else:\n",
    "            d2[k] = d1[k]\n"
   ]
  },
  {
   "cell_type": "code",
   "execution_count": 19,
   "id": "0cc21296-c0d9-455d-8672-e22d1e9221ef",
   "metadata": {},
   "outputs": [],
   "source": [
    "reads_tf = {}\n",
    "reads_zero = {}"
   ]
  },
  {
   "cell_type": "code",
   "execution_count": 52,
   "id": "2dab5f50",
   "metadata": {
    "tags": []
   },
   "outputs": [
    {
     "name": "stdout",
     "output_type": "stream",
     "text": [
      "NKX2-5TBX5\n",
      "NKX2-5TBX5 888\n",
      "3 2\n",
      "3\n",
      "Loading dataset # features = 4361801\n",
      "Loading time: (s) 0.142073\n",
      "next w 14\n",
      "kernel to optimize 0\n",
      "Epoch:  1, Loss: 18.908\n",
      "Epoch: 11, Loss: 18.908\n",
      "before shift optim.\n"
     ]
    },
    {
     "data": {
      "image/png": "[encoded data removed]",
      "text/plain": [
       "<Figure size 360x72 with 4 Axes>"
      ]
     },
     "metadata": {
      "needs_background": "light"
     },
     "output_type": "display_data"
    },
    {
     "name": "stdout",
     "output_type": "stream",
     "text": [
      "after shift optimz model\n"
     ]
    },
    {
     "data": {
      "image/png": "[encoded data removed]",
      "text/plain": [
       "<Figure size 360x72 with 4 Axes>"
      ]
     },
     "metadata": {
      "needs_background": "light"
     },
     "output_type": "display_data"
    },
    {
     "name": "stdout",
     "output_type": "stream",
     "text": [
      "\n",
      "kernel to optimize 1\n",
      "Epoch:  1, Loss: 18.908\n",
      "Epoch: 11, Loss: 18.908\n",
      "before shift optim.\n"
     ]
    },
    {
     "data": {
      "image/png": "[encoded data removed]",
      "text/plain": [
       "<Figure size 360x72 with 4 Axes>"
      ]
     },
     "metadata": {
      "needs_background": "light"
     },
     "output_type": "display_data"
    },
    {
     "name": "stdout",
     "output_type": "stream",
     "text": [
      "optimize_motif_shift (once)...18.908252716064453 18.908252716064453 18.908252716064453\n",
      "after shift optimz model\n"
     ]
    },
    {
     "data": {
      "image/png": "[encoded data removed]",
      "text/plain": [
       "<Figure size 360x72 with 4 Axes>"
      ]
     },
     "metadata": {
      "needs_background": "light"
     },
     "output_type": "display_data"
    },
    {
     "name": "stdout",
     "output_type": "stream",
     "text": [
      "\n",
      "kernel to optimize 2\n",
      "Epoch:  1, Loss: 18.908\n",
      "Epoch: 11, Loss: 18.908\n",
      "before shift optim.\n"
     ]
    },
    {
     "data": {
      "image/png": "[encoded data removed]",
      "text/plain": [
       "<Figure size 360x72 with 4 Axes>"
      ]
     },
     "metadata": {
      "needs_background": "light"
     },
     "output_type": "display_data"
    },
    {
     "name": "stdout",
     "output_type": "stream",
     "text": [
      "optimize_motif_shift (once)...18.908252716064453 18.908252716064453 18.908252716064453\n",
      "after shift optimz model\n"
     ]
    },
    {
     "data": {
      "image/png": "[encoded data removed]",
      "text/plain": [
       "<Figure size 360x72 with 4 Axes>"
      ]
     },
     "metadata": {
      "needs_background": "light"
     },
     "output_type": "display_data"
    },
    {
     "name": "stdout",
     "output_type": "stream",
     "text": [
      "\n",
      "kernel to optimize 3\n",
      "Epoch:  1, Loss: 18.908\n",
      "Epoch: 11, Loss: 18.908\n",
      "before shift optim.\n"
     ]
    },
    {
     "data": {
      "image/png": "[encoded data removed]",
      "text/plain": [
       "<Figure size 360x72 with 4 Axes>"
      ]
     },
     "metadata": {
      "needs_background": "light"
     },
     "output_type": "display_data"
    },
    {
     "name": "stdout",
     "output_type": "stream",
     "text": [
      "optimize_motif_shift (once)...18.908252716064453 18.908252716064453 18.908252716064453\n",
      "after shift optimz model\n"
     ]
    },
    {
     "data": {
      "image/png": "[encoded data removed]",
      "text/plain": [
       "<Figure size 360x72 with 4 Axes>"
      ]
     },
     "metadata": {
      "needs_background": "light"
     },
     "output_type": "display_data"
    },
    {
     "name": "stdout",
     "output_type": "stream",
     "text": [
      "\n"
     ]
    }
   ],
   "source": [
    "from matplotlib import rcParams\n",
    "rcParams['figure.figsize'] = 5, 1\n",
    "\n",
    "num_epochs = 500\n",
    "early_stopping = 15\n",
    "log_each = 25\n",
    "res = []\n",
    "model_by_k = {}\n",
    "\n",
    "for tf in set(data['tf.name']):\n",
    "    if 'ZERO' in tf:\n",
    "        continue\n",
    "    if tf != 'NKX2-5TBX5':\n",
    "        continue\n",
    "    print(tf)\n",
    "    \n",
    "    for library, grp in data.groupby('library'):\n",
    "        if library != '888':\n",
    "            continue\n",
    "        print(tf, library)\n",
    "        \n",
    "        reads_tf_next, reads_zero_next = mb.bindome.datasets.SELEX.load_tf_and_zero_reads(tf, data, library=library,\n",
    "                                                                                          fastq=False, k_skip=reads_tf.keys())\n",
    "        \n",
    "        # update main object to skip reading again in future iterations\n",
    "        update_dict(reads_tf, reads_tf_next)\n",
    "        update_dict(reads_zero, reads_zero_next)\n",
    "        \n",
    "        for k_r0 in reads_zero_next:\n",
    "\n",
    "            k_model = tf + ':' + k_r0\n",
    "            # print(k_r0, k_tf, k_model)\n",
    "\n",
    "            n_rounds = len(reads_tf_next.keys())\n",
    "            print(n_rounds)\n",
    "            \n",
    "            # combine all the positive round data\n",
    "            df2 = []\n",
    "            for k in reads_tf_next.keys():\n",
    "                df = reads_tf_next[k]\n",
    "                df['k'] = k\n",
    "                df2.append(df)\n",
    "            df = pd.concat(df2)\n",
    "            df = df.pivot('seq', 'k', 'counts').fillna(0).reset_index()\n",
    "            seqlen = list(df['seq'].str.len())[0]\n",
    "            \n",
    "            next_data = reads_zero_next[k_r0].merge(df, on='seq', how='outer').fillna(0) # .astype(int)\n",
    "            \n",
    "            new_cols = ['seq', k_r0] + list(df.columns[1:])\n",
    "            next_data.columns = new_cols\n",
    "            for i, k in enumerate(next_data.columns[1:]):\n",
    "                next_data[k] = next_data[k].astype(int)\n",
    "                next_data[i] = next_data[k].astype(int)\n",
    "                \n",
    "            next_data['sum'] = next_data[[i for i in range(1, n_rounds + 1)]].sum(axis=1).values\n",
    "            next_data = next_data.sort_values('sum', ascending=False)\n",
    "            \n",
    "            next_data['batch'] = 1\n",
    "            next_data['is_count_data'] = 1\n",
    "\n",
    "            print('Loading dataset # features =', next_data.shape[0])\n",
    "            start = timeit.default_timer()\n",
    "            next_data = next_data.head(10000).reset_index(drop=True)\n",
    "            dataset = mb.datasets.SelexDataset(next_data, n_rounds=n_rounds, single_encoding_step=True)\n",
    "            stop = timeit.default_timer()\n",
    "            print('Loading time: (s)', '%.6f' % (stop - start))\n",
    "\n",
    "            train = tdata.DataLoader(dataset=dataset, batch_size=10000, shuffle=True)\n",
    "            train_test = tdata.DataLoader(dataset=dataset, batch_size=1, shuffle=False)                \n",
    "            \n",
    "            model_by_k_next, res_next = mb.tl.train_iterative(train, device, min_w=10, max_w=15, n_rounds=n_rounds)                \n",
    "            update_dict(model_by_k, model_by_k_next)\n",
    "            res += res_next"
   ]
  }
 ],
 "metadata": {
  "kernelspec": {
   "display_name": "multibind",
   "language": "python",
   "name": "multibind"
  },
  "language_info": {
   "codemirror_mode": {
    "name": "ipython",
    "version": 3
   },
   "file_extension": ".py",
   "mimetype": "text/x-python",
   "name": "python",
   "nbconvert_exporter": "python",
   "pygments_lexer": "ipython3",
   "version": "3.10.4"
  }
 },
 "nbformat": 4,
 "nbformat_minor": 5
}
