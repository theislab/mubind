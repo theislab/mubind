{
 "cells": [
  {
   "cell_type": "markdown",
   "metadata": {},
   "source": [
    "##### Find out if matrix D is following some random distribution or not"
   ]
  },
  {
   "cell_type": "code",
   "execution_count": 1,
   "metadata": {},
   "outputs": [],
   "source": [
    "%load_ext autoreload\n",
    "%autoreload 2"
   ]
  },
  {
   "cell_type": "code",
   "execution_count": 2,
   "metadata": {},
   "outputs": [
    {
     "name": "stderr",
     "output_type": "stream",
     "text": [
      "Matplotlib is building the font cache; this may take a moment.\n"
     ]
    }
   ],
   "source": [
    "\n",
    "import mubind as mb"
   ]
  },
  {
   "cell_type": "code",
   "execution_count": 3,
   "metadata": {},
   "outputs": [],
   "source": [
    "import torch\n",
    "import numpy as np\n",
    "import pandas as pd\n",
    "import sys\n",
    "import matplotlib.pyplot as plt\n",
    "import seaborn as sns"
   ]
  },
  {
   "cell_type": "code",
   "execution_count": 4,
   "metadata": {},
   "outputs": [],
   "source": [
    "import sys\n",
    "sys.path.append('/Users/lennartredl/Desktop/MachineLearningProjects/TheisLab_Mubind/mubindNew')\n"
   ]
  },
  {
   "cell_type": "code",
   "execution_count": 5,
   "metadata": {},
   "outputs": [
    {
     "name": "stdout",
     "output_type": "stream",
     "text": [
      "/Users/lennartredl/Documents/MachineLearningProjects/TheisLab_Mubind/mubindNew\n"
     ]
    }
   ],
   "source": [
    "cd ../../..\n"
   ]
  },
  {
   "cell_type": "code",
   "execution_count": 6,
   "metadata": {},
   "outputs": [],
   "source": [
    "import mubind as mb"
   ]
  },
  {
   "cell_type": "code",
   "execution_count": 7,
   "metadata": {},
   "outputs": [
    {
     "data": {
      "text/plain": [
       "<module 'mubind.tl.graph' from '/Users/lennartredl/Documents/MachineLearningProjects/TheisLab_Mubind/mubindNew/mubind/tl/graph.py'>"
      ]
     },
     "execution_count": 7,
     "metadata": {},
     "output_type": "execute_result"
    }
   ],
   "source": [
    "# changing directory remove if another filesystem\n",
    "mb.tl.graph"
   ]
  },
  {
   "cell_type": "code",
   "execution_count": 8,
   "metadata": {},
   "outputs": [
    {
     "name": "stdout",
     "output_type": "stream",
     "text": [
      "/Users/lennartredl/Documents/MachineLearningProjects/TheisLab_Mubind/mubindNew/docs/notebooks/single_cell\n"
     ]
    }
   ],
   "source": [
    "cd docs/notebooks/single_cell"
   ]
  },
  {
   "cell_type": "code",
   "execution_count": 9,
   "metadata": {},
   "outputs": [
    {
     "name": "stdout",
     "output_type": "stream",
     "text": [
      "pancreas_multiome_use_logdynamic_0.pth\n",
      "pancreas_multiome_use_logdynamic_1.pth\n"
     ]
    }
   ],
   "source": [
    "# load models\n",
    "model_by_logdynamic = {}\n",
    "for use_logdynamic in [False, True]:\n",
    "    p = 'pancreas_multiome_use_logdynamic_%i.pth' % use_logdynamic\n",
    "    # p = 'noack_2022_use_logdynamic_%i.pth' % use_logdynamic\n",
    "    print(p)\n",
    "    model_by_logdynamic[use_logdynamic] = torch.load(p)"
   ]
  },
  {
   "cell_type": "code",
   "execution_count": 10,
   "metadata": {},
   "outputs": [],
   "source": [
    "model = model_by_logdynamic[1]"
   ]
  },
  {
   "cell_type": "code",
   "execution_count": 11,
   "metadata": {},
   "outputs": [],
   "source": [
    "# for convenience\n",
    "tsum = torch.sum\n",
    "texp = torch.exp\n",
    "tspa = torch.sparse_coo_tensor\n",
    "tsmm = torch.sparse.mm\n",
    "t = torch.transpose\n",
    "\n",
    "# get the connectivity and weight matrix from the model\n",
    "C = model.graph_module.conn_sparse\n",
    "a_ind = C.indices()\n",
    "D = model.graph_module.log_dynamic\n",
    "D_tril = tspa(a_ind, D, C.shape) \n",
    "D_triu = tspa(a_ind, -D, C.shape)  \n",
    "D = D_tril + torch.transpose(D_triu, 0, 1)"
   ]
  },
  {
   "cell_type": "code",
   "execution_count": 12,
   "metadata": {},
   "outputs": [
    {
     "name": "stdout",
     "output_type": "stream",
     "text": [
      "graph module contents: ['__builtins__', '__cached__', '__doc__', '__file__', '__loader__', '__name__', '__package__', '__spec__', 'compute_contributions', 'metric_scramble_comparison', 'normalized_alignment_score', 'np', 'pd', 'torch']\n",
      "metric_scramble_comparison function: <function metric_scramble_comparison at 0x7f9ad2b033a0>\n"
     ]
    }
   ],
   "source": [
    "try:\n",
    "    import mubind.tl.graph as graph\n",
    "    print(\"graph module contents:\", dir(graph))\n",
    "except ModuleNotFoundError as e:\n",
    "    print(f\"Error importing graph module: {e}\")\n",
    "\n",
    "try:\n",
    "    from mubind.tl.graph import metric_scramble_comparison\n",
    "    print(\"metric_scramble_comparison function:\", metric_scramble_comparison)\n",
    "except ImportError as e:\n",
    "    print(f\"Error importing metric_scramble_comparison: {e}\")\n"
   ]
  },
  {
   "cell_type": "code",
   "execution_count": 13,
   "metadata": {},
   "outputs": [],
   "source": [
    "import mubind as mb\n",
    "\n",
    "scramble = mb.tl.metric_scramble_comparison\n",
    "normalized = mb.tl.normalized_alignment_score\n",
    "\n",
    "scores_alignment_flat = scramble(C, D, normalized, 'flat', verbose=0)\n",
    "scores_alignment_row = scramble(C, D, normalized, 'row', verbose=0)\n",
    "scores_alignment_column = scramble(C, D, normalized, 'column', verbose=0)\n",
    "original_score = normalized(C, D)\n"
   ]
  },
  {
   "cell_type": "code",
   "execution_count": 14,
   "metadata": {},
   "outputs": [],
   "source": [
    "def hist(x, y, lab1, lab2, title,\n",
    "         xlab='Normalized Alignment Score',\n",
    "         ylab='Frequency'):\n",
    "    plt.hist(x, bins=30, alpha=0.7, label=lab1)\n",
    "    plt.axvline(y,\n",
    "                color='r',\n",
    "                linestyle='dashed',\n",
    "                linewidth=2,\n",
    "                label=lab2)\n",
    "    plt.title(title)\n",
    "    plt.xlabel(xlab)\n",
    "    plt.ylabel(ylab)\n",
    "    plt.legend()\n"
   ]
  },
  {
   "cell_type": "code",
   "execution_count": 15,
   "metadata": {},
   "outputs": [
    {
     "data": {
      "image/png": "[encoded data removed]",
      "text/plain": [
       "<Figure size 1400x300 with 3 Axes>"
      ]
     },
     "metadata": {},
     "output_type": "display_data"
    }
   ],
   "source": [
    "plt.figure(figsize=(14, 3))\n",
    "# flat scrambling\n",
    "plt.subplot(1, 3, 1)\n",
    "hist(scores_alignment_flat,\n",
    "     original_score,\n",
    "     'Flat Scrambling',\n",
    "     'Original Score',\n",
    "     'Alignment Scores | Flat Scrambling')\n",
    "# row scrambling\n",
    "plt.subplot(1, 3, 2)\n",
    "hist(scores_alignment_row,\n",
    "     original_score,\n",
    "     'Row Scrambling',\n",
    "     'Original Score',\n",
    "     'Alignment Scores | Row Scrambling')\n",
    "# column scrambling\n",
    "plt.subplot(1, 3, 3)\n",
    "hist(scores_alignment_column,\n",
    "     original_score,\n",
    "     'Column Scrambling',\n",
    "     'Original Score',\n",
    "     'Alignment Scores | Column Scrambling')\n",
    "plt.show()"
   ]
  },
  {
   "cell_type": "code",
   "execution_count": 16,
   "metadata": {},
   "outputs": [],
   "source": [
    "\n",
    "positives_alignment_flat = scramble(C, C, normalized, 'flat', verbose=0)\n",
    "positives_alignment_row = scramble(C, C, normalized, 'row', verbose=0)\n",
    "positives_alignment_column = scramble(C, C, normalized, 'column', verbose=0)\n",
    "positives_original_score = normalized(C, C)"
   ]
  },
  {
   "cell_type": "code",
   "execution_count": 17,
   "metadata": {},
   "outputs": [
    {
     "data": {
      "image/png": "[encoded data removed]",
      "text/plain": [
       "<Figure size 1400x300 with 3 Axes>"
      ]
     },
     "metadata": {},
     "output_type": "display_data"
    }
   ],
   "source": [
    "plt.figure(figsize=(14, 3))\n",
    "plt.subplot(1, 3, 1)\n",
    "\n",
    "hist(positives_alignment_flat,\n",
    "     positives_original_score,\n",
    "     'Flat Scrambling',\n",
    "     'Original Score',\n",
    "     'Alignment Scores | Flat Scrambling')\n",
    "\n",
    "plt.subplot(1, 3, 2)\n",
    "hist(positives_alignment_row,\n",
    "     positives_original_score,\n",
    "     'Row Scrambling',\n",
    "     'Original Score',\n",
    "     'Alignment Scores | Row Scrambling')\n",
    "\n",
    "plt.subplot(1, 3, 3)\n",
    "hist(positives_alignment_column,\n",
    "     positives_original_score,\n",
    "     'Column Scrambling',\n",
    "     'Original Score',\n",
    "     'Alignment Scores | Column Scrambling')\n"
   ]
  },
  {
   "cell_type": "markdown",
   "metadata": {},
   "source": [
    "#### Understand the contribution of the filters"
   ]
  },
  {
   "cell_type": "code",
   "execution_count": 18,
   "metadata": {},
   "outputs": [
    {
     "name": "stdout",
     "output_type": "stream",
     "text": [
      "ParameterList(\n",
      "    (0): Parameter containing: [torch.float32 of size 1x496]\n",
      "    (1): Parameter containing: [torch.float32 of size 1x496]\n",
      "    (2): Parameter containing: [torch.float32 of size 1x496]\n",
      "    (3): Parameter containing: [torch.float32 of size 1x496]\n",
      "    (4): Parameter containing: [torch.float32 of size 1x496]\n",
      "    (5): Parameter containing: [torch.float32 of size 1x496]\n",
      "    (6): Parameter containing: [torch.float32 of size 1x496]\n",
      "    (7): Parameter containing: [torch.float32 of size 1x496]\n",
      "    (8): Parameter containing: [torch.float32 of size 1x496]\n",
      "    (9): Parameter containing: [torch.float32 of size 1x496]\n",
      "    (10): Parameter containing: [torch.float32 of size 1x496]\n",
      "    (11): Parameter containing: [torch.float32 of size 1x496]\n",
      "    (12): Parameter containing: [torch.float32 of size 1x496]\n",
      "    (13): Parameter containing: [torch.float32 of size 1x496]\n",
      "    (14): Parameter containing: [torch.float32 of size 1x496]\n",
      "    (15): Parameter containing: [torch.float32 of size 1x496]\n",
      "    (16): Parameter containing: [torch.float32 of size 1x496]\n",
      "    (17): Parameter containing: [torch.float32 of size 1x496]\n",
      "    (18): Parameter containing: [torch.float32 of size 1x496]\n",
      "    (19): Parameter containing: [torch.float32 of size 1x496]\n",
      "    (20): Parameter containing: [torch.float32 of size 1x496]\n",
      "    (21): Parameter containing: [torch.float32 of size 1x496]\n",
      "    (22): Parameter containing: [torch.float32 of size 1x496]\n",
      "    (23): Parameter containing: [torch.float32 of size 1x496]\n",
      "    (24): Parameter containing: [torch.float32 of size 1x496]\n",
      "    (25): Parameter containing: [torch.float32 of size 1x496]\n",
      "    (26): Parameter containing: [torch.float32 of size 1x496]\n",
      "    (27): Parameter containing: [torch.float32 of size 1x496]\n",
      "    (28): Parameter containing: [torch.float32 of size 1x496]\n",
      "    (29): Parameter containing: [torch.float32 of size 1x496]\n",
      "    (30): Parameter containing: [torch.float32 of size 1x496]\n",
      "    (31): Parameter containing: [torch.float32 of size 1x496]\n",
      "    (32): Parameter containing: [torch.float32 of size 1x496]\n",
      "    (33): Parameter containing: [torch.float32 of size 1x496]\n",
      "    (34): Parameter containing: [torch.float32 of size 1x496]\n",
      "    (35): Parameter containing: [torch.float32 of size 1x496]\n",
      "    (36): Parameter containing: [torch.float32 of size 1x496]\n",
      "    (37): Parameter containing: [torch.float32 of size 1x496]\n",
      "    (38): Parameter containing: [torch.float32 of size 1x496]\n",
      "    (39): Parameter containing: [torch.float32 of size 1x496]\n",
      "    (40): Parameter containing: [torch.float32 of size 1x496]\n",
      "    (41): Parameter containing: [torch.float32 of size 1x496]\n",
      "    (42): Parameter containing: [torch.float32 of size 1x496]\n",
      "    (43): Parameter containing: [torch.float32 of size 1x496]\n",
      "    (44): Parameter containing: [torch.float32 of size 1x496]\n",
      "    (45): Parameter containing: [torch.float32 of size 1x496]\n",
      "    (46): Parameter containing: [torch.float32 of size 1x496]\n",
      "    (47): Parameter containing: [torch.float32 of size 1x496]\n",
      "    (48): Parameter containing: [torch.float32 of size 1x496]\n",
      "    (49): Parameter containing: [torch.float32 of size 1x496]\n",
      "    (50): Parameter containing: [torch.float32 of size 1x496]\n",
      "    (51): Parameter containing: [torch.float32 of size 1x496]\n",
      "    (52): Parameter containing: [torch.float32 of size 1x496]\n",
      "    (53): Parameter containing: [torch.float32 of size 1x496]\n",
      "    (54): Parameter containing: [torch.float32 of size 1x496]\n",
      "    (55): Parameter containing: [torch.float32 of size 1x496]\n",
      "    (56): Parameter containing: [torch.float32 of size 1x496]\n",
      "    (57): Parameter containing: [torch.float32 of size 1x496]\n",
      "    (58): Parameter containing: [torch.float32 of size 1x496]\n",
      "    (59): Parameter containing: [torch.float32 of size 1x496]\n",
      "    (60): Parameter containing: [torch.float32 of size 1x496]\n",
      "    (61): Parameter containing: [torch.float32 of size 1x496]\n",
      "    (62): Parameter containing: [torch.float32 of size 1x496]\n",
      "    (63): Parameter containing: [torch.float32 of size 1x496]\n",
      "    (64): Parameter containing: [torch.float32 of size 1x496]\n",
      "    (65): Parameter containing: [torch.float32 of size 1x496]\n",
      "    (66): Parameter containing: [torch.float32 of size 1x496]\n",
      "    (67): Parameter containing: [torch.float32 of size 1x496]\n",
      "    (68): Parameter containing: [torch.float32 of size 1x496]\n",
      "    (69): Parameter containing: [torch.float32 of size 1x496]\n",
      "    (70): Parameter containing: [torch.float32 of size 1x496]\n",
      "    (71): Parameter containing: [torch.float32 of size 1x496]\n",
      "    (72): Parameter containing: [torch.float32 of size 1x496]\n",
      "    (73): Parameter containing: [torch.float32 of size 1x496]\n",
      "    (74): Parameter containing: [torch.float32 of size 1x496]\n",
      "    (75): Parameter containing: [torch.float32 of size 1x496]\n",
      "    (76): Parameter containing: [torch.float32 of size 1x496]\n",
      "    (77): Parameter containing: [torch.float32 of size 1x496]\n",
      "    (78): Parameter containing: [torch.float32 of size 1x496]\n",
      "    (79): Parameter containing: [torch.float32 of size 1x496]\n",
      "    (80): Parameter containing: [torch.float32 of size 1x496]\n",
      "    (81): Parameter containing: [torch.float32 of size 1x496]\n",
      "    (82): Parameter containing: [torch.float32 of size 1x496]\n",
      "    (83): Parameter containing: [torch.float32 of size 1x496]\n",
      "    (84): Parameter containing: [torch.float32 of size 1x496]\n",
      "    (85): Parameter containing: [torch.float32 of size 1x496]\n",
      "    (86): Parameter containing: [torch.float32 of size 1x496]\n",
      "    (87): Parameter containing: [torch.float32 of size 1x496]\n",
      "    (88): Parameter containing: [torch.float32 of size 1x496]\n",
      "    (89): Parameter containing: [torch.float32 of size 1x496]\n",
      "    (90): Parameter containing: [torch.float32 of size 1x496]\n",
      "    (91): Parameter containing: [torch.float32 of size 1x496]\n",
      "    (92): Parameter containing: [torch.float32 of size 1x496]\n",
      "    (93): Parameter containing: [torch.float32 of size 1x496]\n",
      "    (94): Parameter containing: [torch.float32 of size 1x496]\n",
      "    (95): Parameter containing: [torch.float32 of size 1x496]\n",
      "    (96): Parameter containing: [torch.float32 of size 1x496]\n",
      "    (97): Parameter containing: [torch.float32 of size 1x496]\n",
      "    (98): Parameter containing: [torch.float32 of size 1x496]\n",
      "    (99): Parameter containing: [torch.float32 of size 1x496]\n",
      "    (100): Parameter containing: [torch.float32 of size 1x496]\n",
      "    (101): Parameter containing: [torch.float32 of size 1x496]\n",
      "    (102): Parameter containing: [torch.float32 of size 1x496]\n",
      "    (103): Parameter containing: [torch.float32 of size 1x496]\n",
      "    (104): Parameter containing: [torch.float32 of size 1x496]\n",
      "    (105): Parameter containing: [torch.float32 of size 1x496]\n",
      "    (106): Parameter containing: [torch.float32 of size 1x496]\n",
      "    (107): Parameter containing: [torch.float32 of size 1x496]\n",
      "    (108): Parameter containing: [torch.float32 of size 1x496]\n",
      "    (109): Parameter containing: [torch.float32 of size 1x496]\n",
      "    (110): Parameter containing: [torch.float32 of size 1x496]\n",
      "    (111): Parameter containing: [torch.float32 of size 1x496]\n",
      "    (112): Parameter containing: [torch.float32 of size 1x496]\n",
      "    (113): Parameter containing: [torch.float32 of size 1x496]\n",
      "    (114): Parameter containing: [torch.float32 of size 1x496]\n",
      "    (115): Parameter containing: [torch.float32 of size 1x496]\n",
      "    (116): Parameter containing: [torch.float32 of size 1x496]\n",
      "    (117): Parameter containing: [torch.float32 of size 1x496]\n",
      "    (118): Parameter containing: [torch.float32 of size 1x496]\n",
      "    (119): Parameter containing: [torch.float32 of size 1x496]\n",
      "    (120): Parameter containing: [torch.float32 of size 1x496]\n",
      "    (121): Parameter containing: [torch.float32 of size 1x496]\n",
      "    (122): Parameter containing: [torch.float32 of size 1x496]\n",
      "    (123): Parameter containing: [torch.float32 of size 1x496]\n",
      "    (124): Parameter containing: [torch.float32 of size 1x496]\n",
      "    (125): Parameter containing: [torch.float32 of size 1x496]\n",
      "    (126): Parameter containing: [torch.float32 of size 1x496]\n",
      "    (127): Parameter containing: [torch.float32 of size 1x496]\n",
      "    (128): Parameter containing: [torch.float32 of size 1x496]\n",
      "    (129): Parameter containing: [torch.float32 of size 1x496]\n",
      "    (130): Parameter containing: [torch.float32 of size 1x496]\n",
      "    (131): Parameter containing: [torch.float32 of size 1x496]\n",
      "    (132): Parameter containing: [torch.float32 of size 1x496]\n",
      "    (133): Parameter containing: [torch.float32 of size 1x496]\n",
      "    (134): Parameter containing: [torch.float32 of size 1x496]\n",
      "    (135): Parameter containing: [torch.float32 of size 1x496]\n",
      "    (136): Parameter containing: [torch.float32 of size 1x496]\n",
      "    (137): Parameter containing: [torch.float32 of size 1x496]\n",
      "    (138): Parameter containing: [torch.float32 of size 1x496]\n",
      "    (139): Parameter containing: [torch.float32 of size 1x496]\n",
      "    (140): Parameter containing: [torch.float32 of size 1x496]\n",
      "    (141): Parameter containing: [torch.float32 of size 1x496]\n",
      "    (142): Parameter containing: [torch.float32 of size 1x496]\n",
      "    (143): Parameter containing: [torch.float32 of size 1x496]\n",
      "    (144): Parameter containing: [torch.float32 of size 1x496]\n",
      "    (145): Parameter containing: [torch.float32 of size 1x496]\n",
      "    (146): Parameter containing: [torch.float32 of size 1x496]\n",
      "    (147): Parameter containing: [torch.float32 of size 1x496]\n",
      "    (148): Parameter containing: [torch.float32 of size 1x496]\n",
      "    (149): Parameter containing: [torch.float32 of size 1x496]\n",
      "    (150): Parameter containing: [torch.float32 of size 1x496]\n",
      "    (151): Parameter containing: [torch.float32 of size 1x496]\n",
      "    (152): Parameter containing: [torch.float32 of size 1x496]\n",
      "    (153): Parameter containing: [torch.float32 of size 1x496]\n",
      "    (154): Parameter containing: [torch.float32 of size 1x496]\n",
      "    (155): Parameter containing: [torch.float32 of size 1x496]\n",
      "    (156): Parameter containing: [torch.float32 of size 1x496]\n",
      "    (157): Parameter containing: [torch.float32 of size 1x496]\n",
      "    (158): Parameter containing: [torch.float32 of size 1x496]\n",
      "    (159): Parameter containing: [torch.float32 of size 1x496]\n",
      "    (160): Parameter containing: [torch.float32 of size 1x496]\n",
      "    (161): Parameter containing: [torch.float32 of size 1x496]\n",
      "    (162): Parameter containing: [torch.float32 of size 1x496]\n",
      "    (163): Parameter containing: [torch.float32 of size 1x496]\n",
      "    (164): Parameter containing: [torch.float32 of size 1x496]\n",
      "    (165): Parameter containing: [torch.float32 of size 1x496]\n",
      "    (166): Parameter containing: [torch.float32 of size 1x496]\n",
      "    (167): Parameter containing: [torch.float32 of size 1x496]\n",
      "    (168): Parameter containing: [torch.float32 of size 1x496]\n",
      "    (169): Parameter containing: [torch.float32 of size 1x496]\n",
      "    (170): Parameter containing: [torch.float32 of size 1x496]\n",
      "    (171): Parameter containing: [torch.float32 of size 1x496]\n",
      "    (172): Parameter containing: [torch.float32 of size 1x496]\n",
      "    (173): Parameter containing: [torch.float32 of size 1x496]\n",
      "    (174): Parameter containing: [torch.float32 of size 1x496]\n",
      "    (175): Parameter containing: [torch.float32 of size 1x496]\n",
      "    (176): Parameter containing: [torch.float32 of size 1x496]\n",
      "    (177): Parameter containing: [torch.float32 of size 1x496]\n",
      "    (178): Parameter containing: [torch.float32 of size 1x496]\n",
      "    (179): Parameter containing: [torch.float32 of size 1x496]\n",
      "    (180): Parameter containing: [torch.float32 of size 1x496]\n",
      "    (181): Parameter containing: [torch.float32 of size 1x496]\n",
      "    (182): Parameter containing: [torch.float32 of size 1x496]\n",
      "    (183): Parameter containing: [torch.float32 of size 1x496]\n",
      "    (184): Parameter containing: [torch.float32 of size 1x496]\n",
      "    (185): Parameter containing: [torch.float32 of size 1x496]\n",
      "    (186): Parameter containing: [torch.float32 of size 1x496]\n",
      "    (187): Parameter containing: [torch.float32 of size 1x496]\n",
      "    (188): Parameter containing: [torch.float32 of size 1x496]\n",
      "    (189): Parameter containing: [torch.float32 of size 1x496]\n",
      "    (190): Parameter containing: [torch.float32 of size 1x496]\n",
      "    (191): Parameter containing: [torch.float32 of size 1x496]\n",
      "    (192): Parameter containing: [torch.float32 of size 1x496]\n",
      "    (193): Parameter containing: [torch.float32 of size 1x496]\n",
      "    (194): Parameter containing: [torch.float32 of size 1x496]\n",
      "    (195): Parameter containing: [torch.float32 of size 1x496]\n",
      "    (196): Parameter containing: [torch.float32 of size 1x496]\n",
      "    (197): Parameter containing: [torch.float32 of size 1x496]\n",
      "    (198): Parameter containing: [torch.float32 of size 1x496]\n",
      "    (199): Parameter containing: [torch.float32 of size 1x496]\n",
      "    (200): Parameter containing: [torch.float32 of size 1x496]\n",
      "    (201): Parameter containing: [torch.float32 of size 1x496]\n",
      "    (202): Parameter containing: [torch.float32 of size 1x496]\n",
      "    (203): Parameter containing: [torch.float32 of size 1x496]\n",
      "    (204): Parameter containing: [torch.float32 of size 1x496]\n",
      "    (205): Parameter containing: [torch.float32 of size 1x496]\n",
      "    (206): Parameter containing: [torch.float32 of size 1x496]\n",
      "    (207): Parameter containing: [torch.float32 of size 1x496]\n",
      "    (208): Parameter containing: [torch.float32 of size 1x496]\n",
      "    (209): Parameter containing: [torch.float32 of size 1x496]\n",
      "    (210): Parameter containing: [torch.float32 of size 1x496]\n",
      "    (211): Parameter containing: [torch.float32 of size 1x496]\n",
      "    (212): Parameter containing: [torch.float32 of size 1x496]\n",
      "    (213): Parameter containing: [torch.float32 of size 1x496]\n",
      "    (214): Parameter containing: [torch.float32 of size 1x496]\n",
      "    (215): Parameter containing: [torch.float32 of size 1x496]\n",
      "    (216): Parameter containing: [torch.float32 of size 1x496]\n",
      "    (217): Parameter containing: [torch.float32 of size 1x496]\n",
      "    (218): Parameter containing: [torch.float32 of size 1x496]\n",
      "    (219): Parameter containing: [torch.float32 of size 1x496]\n",
      "    (220): Parameter containing: [torch.float32 of size 1x496]\n",
      "    (221): Parameter containing: [torch.float32 of size 1x496]\n",
      "    (222): Parameter containing: [torch.float32 of size 1x496]\n",
      "    (223): Parameter containing: [torch.float32 of size 1x496]\n",
      "    (224): Parameter containing: [torch.float32 of size 1x496]\n",
      "    (225): Parameter containing: [torch.float32 of size 1x496]\n",
      "    (226): Parameter containing: [torch.float32 of size 1x496]\n",
      "    (227): Parameter containing: [torch.float32 of size 1x496]\n",
      "    (228): Parameter containing: [torch.float32 of size 1x496]\n",
      "    (229): Parameter containing: [torch.float32 of size 1x496]\n",
      "    (230): Parameter containing: [torch.float32 of size 1x496]\n",
      "    (231): Parameter containing: [torch.float32 of size 1x496]\n",
      "    (232): Parameter containing: [torch.float32 of size 1x496]\n",
      "    (233): Parameter containing: [torch.float32 of size 1x496]\n",
      "    (234): Parameter containing: [torch.float32 of size 1x496]\n",
      "    (235): Parameter containing: [torch.float32 of size 1x496]\n",
      "    (236): Parameter containing: [torch.float32 of size 1x496]\n",
      "    (237): Parameter containing: [torch.float32 of size 1x496]\n",
      "    (238): Parameter containing: [torch.float32 of size 1x496]\n",
      "    (239): Parameter containing: [torch.float32 of size 1x496]\n",
      "    (240): Parameter containing: [torch.float32 of size 1x496]\n",
      "    (241): Parameter containing: [torch.float32 of size 1x496]\n",
      "    (242): Parameter containing: [torch.float32 of size 1x496]\n",
      "    (243): Parameter containing: [torch.float32 of size 1x496]\n",
      "    (244): Parameter containing: [torch.float32 of size 1x496]\n",
      "    (245): Parameter containing: [torch.float32 of size 1x496]\n",
      "    (246): Parameter containing: [torch.float32 of size 1x496]\n",
      "    (247): Parameter containing: [torch.float32 of size 1x496]\n",
      "    (248): Parameter containing: [torch.float32 of size 1x496]\n",
      "    (249): Parameter containing: [torch.float32 of size 1x496]\n",
      "    (250): Parameter containing: [torch.float32 of size 1x496]\n",
      "    (251): Parameter containing: [torch.float32 of size 1x496]\n",
      "    (252): Parameter containing: [torch.float32 of size 1x496]\n",
      "    (253): Parameter containing: [torch.float32 of size 1x496]\n",
      "    (254): Parameter containing: [torch.float32 of size 1x496]\n",
      "    (255): Parameter containing: [torch.float32 of size 1x496]\n",
      "    (256): Parameter containing: [torch.float32 of size 1x496]\n",
      "    (257): Parameter containing: [torch.float32 of size 1x496]\n",
      "    (258): Parameter containing: [torch.float32 of size 1x496]\n",
      "    (259): Parameter containing: [torch.float32 of size 1x496]\n",
      "    (260): Parameter containing: [torch.float32 of size 1x496]\n",
      "    (261): Parameter containing: [torch.float32 of size 1x496]\n",
      "    (262): Parameter containing: [torch.float32 of size 1x496]\n",
      "    (263): Parameter containing: [torch.float32 of size 1x496]\n",
      "    (264): Parameter containing: [torch.float32 of size 1x496]\n",
      "    (265): Parameter containing: [torch.float32 of size 1x496]\n",
      "    (266): Parameter containing: [torch.float32 of size 1x496]\n",
      "    (267): Parameter containing: [torch.float32 of size 1x496]\n",
      "    (268): Parameter containing: [torch.float32 of size 1x496]\n",
      "    (269): Parameter containing: [torch.float32 of size 1x496]\n",
      "    (270): Parameter containing: [torch.float32 of size 1x496]\n",
      "    (271): Parameter containing: [torch.float32 of size 1x496]\n",
      "    (272): Parameter containing: [torch.float32 of size 1x496]\n",
      "    (273): Parameter containing: [torch.float32 of size 1x496]\n",
      "    (274): Parameter containing: [torch.float32 of size 1x496]\n",
      "    (275): Parameter containing: [torch.float32 of size 1x496]\n",
      "    (276): Parameter containing: [torch.float32 of size 1x496]\n",
      "    (277): Parameter containing: [torch.float32 of size 1x496]\n",
      "    (278): Parameter containing: [torch.float32 of size 1x496]\n",
      "    (279): Parameter containing: [torch.float32 of size 1x496]\n",
      "    (280): Parameter containing: [torch.float32 of size 1x496]\n",
      "    (281): Parameter containing: [torch.float32 of size 1x496]\n",
      "    (282): Parameter containing: [torch.float32 of size 1x496]\n",
      "    (283): Parameter containing: [torch.float32 of size 1x496]\n",
      "    (284): Parameter containing: [torch.float32 of size 1x496]\n",
      "    (285): Parameter containing: [torch.float32 of size 1x496]\n",
      "    (286): Parameter containing: [torch.float32 of size 1x496]\n",
      "    (287): Parameter containing: [torch.float32 of size 1x496]\n",
      ")\n"
     ]
    }
   ],
   "source": [
    "print(model.get_log_activities())"
   ]
  },
  {
   "cell_type": "code",
   "execution_count": 19,
   "metadata": {},
   "outputs": [],
   "source": [
    "# Y_com = B @ A @ (G * D)"
   ]
  },
  {
   "cell_type": "code",
   "execution_count": 20,
   "metadata": {},
   "outputs": [],
   "source": [
    "\n",
    "# considering  graph-independent effects\n",
    "# indices, contributions, max_eig = compute_contributions(B.T @ A.T, C * D)\n"
   ]
  },
  {
   "cell_type": "code",
   "execution_count": 21,
   "metadata": {},
   "outputs": [
    {
     "name": "stdout",
     "output_type": "stream",
     "text": [
      "tensor([[-2.0708e-06, -1.1779e-06, -1.7033e-06,  ..., -1.1779e-06,\n",
      "         -2.4437e-06, -1.1779e-06],\n",
      "        [-1.2006e-04, -6.6639e-05, -8.9532e-05,  ..., -6.6639e-05,\n",
      "         -1.4285e-04, -6.6639e-05],\n",
      "        [-8.6376e-04, -4.9427e-04, -4.6408e-04,  ..., -4.9427e-04,\n",
      "         -1.1545e-03, -4.9427e-04],\n",
      "        ...,\n",
      "        [-7.1370e-02, -4.2256e-02, -5.4299e-02,  ..., -4.2256e-02,\n",
      "         -7.5210e-02, -4.2256e-02],\n",
      "        [-1.7568e-02, -9.6862e-03, -1.7253e-02,  ..., -9.6862e-03,\n",
      "         -1.9372e-02, -9.6862e-03],\n",
      "        [-1.5328e-02, -8.8673e-03, -1.5203e-02,  ..., -8.8673e-03,\n",
      "         -1.6410e-02, -8.8673e-03]])\n",
      "torch.Size([288, 496])\n"
     ]
    }
   ],
   "source": [
    "A = torch.cat([activity.data for activity in model.get_log_activities()])\n",
    "print(A)\n",
    "print(A.shape)"
   ]
  },
  {
   "cell_type": "code",
   "execution_count": 22,
   "metadata": {},
   "outputs": [
    {
     "name": "stdout",
     "output_type": "stream",
     "text": [
      "True\n",
      "7.623079\n"
     ]
    },
    {
     "name": "stderr",
     "output_type": "stream",
     "text": [
      "/var/folders/gh/hfnthwvx2llf18h1yxth5y_h0000gn/T/ipykernel_84918/1276055173.py:2: UserWarning: Sparse CSR tensor support is in beta state. If you miss a functionality in the sparse tensor support, please submit a feature request to https://github.com/pytorch/pytorch/issues. (Triggered internally at /Users/runner/work/_temp/anaconda/conda-bld/pytorch_1711403209812/work/aten/src/ATen/SparseCsrTensorImpl.cpp:55.)\n",
      "  print(np.linalg.svd((C@D).to_dense().detach().numpy(), compute_uv=False)[0])\n"
     ]
    }
   ],
   "source": [
    "print(\"onehot_dinuc_fast\" in dir(mb.tl))\n",
    "print(np.linalg.svd((C@D).to_dense().detach().numpy(), compute_uv=False)[0])"
   ]
  },
  {
   "cell_type": "code",
   "execution_count": 23,
   "metadata": {},
   "outputs": [
    {
     "name": "stdout",
     "output_type": "stream",
     "text": [
      "Summary statistics of the normalized contributions: \n",
      "\n",
      "            index\n",
      "count  288.000000\n",
      "mean     0.677910\n",
      "std      0.106887\n",
      "min      0.269308\n",
      "25%      0.611569\n",
      "50%      0.708600\n",
      "75%      0.751901\n",
      "max      0.859076\n",
      "tensor(0.2500)\n"
     ]
    }
   ],
   "source": [
    "# this function assesses the contributions of A on the graph\n",
    "indices, contributions, max_singular_value = mb.tl.compute_contributions(A, C, D, use_hadamard=False)\n",
    "\n",
    "contributions_normalized = torch.abs(contributions) / max_singular_value\n",
    "contributions_df = pd.DataFrame(contributions_normalized.detach(), columns=['index'])\n",
    "print(\"Summary statistics of the normalized contributions: \\n\")\n",
    "print(contributions_df.describe())\n",
    "print(sum(contributions_df.describe().loc['75%'].item() <= contributions_normalized)/len(contributions_normalized))"
   ]
  },
  {
   "cell_type": "code",
   "execution_count": 24,
   "metadata": {},
   "outputs": [
    {
     "ename": "NameError",
     "evalue": "name 'ListedColormap' is not defined",
     "output_type": "error",
     "traceback": [
      "\u001b[0;31m---------------------------------------------------------------------------\u001b[0m",
      "\u001b[0;31mNameError\u001b[0m                                 Traceback (most recent call last)",
      "Cell \u001b[0;32mIn[24], line 1\u001b[0m\n\u001b[0;32m----> 1\u001b[0m \u001b[43mmb\u001b[49m\u001b[38;5;241;43m.\u001b[39;49m\u001b[43mpl\u001b[49m\u001b[38;5;241;43m.\u001b[39;49m\u001b[43mfilter_contrib_heatmap\u001b[49m\u001b[43m(\u001b[49m\u001b[43mcontributions_normalized\u001b[49m\u001b[43m,\u001b[49m\u001b[43m \u001b[49m\u001b[43mtitle\u001b[49m\u001b[38;5;241;43m=\u001b[39;49m\u001b[38;5;124;43m\"\u001b[39;49m\u001b[38;5;124;43mAlignedness by Filters\u001b[39;49m\u001b[38;5;124;43m\"\u001b[39;49m\u001b[43m,\u001b[49m\u001b[43m \u001b[49m\u001b[43mscore\u001b[49m\u001b[38;5;241;43m=\u001b[39;49m\u001b[38;5;124;43m\"\u001b[39;49m\u001b[38;5;124;43mAlignedness Score\u001b[39;49m\u001b[38;5;124;43m\"\u001b[39;49m\u001b[43m)\u001b[49m\n",
      "File \u001b[0;32m~/Documents/MachineLearningProjects/TheisLab_Mubind/mubindNew/mubind/pl/graph.py:26\u001b[0m, in \u001b[0;36mfilter_contrib_heatmap\u001b[0;34m(filter_contrib_normed, title, score)\u001b[0m\n\u001b[1;32m     24\u001b[0m gray \u001b[38;5;241m=\u001b[39m np\u001b[38;5;241m.\u001b[39marray([\u001b[38;5;241m0.99\u001b[39m, \u001b[38;5;241m0.99\u001b[39m, \u001b[38;5;241m0.99\u001b[39m, \u001b[38;5;241m1.0\u001b[39m])  \u001b[38;5;66;03m# RGBA for white-gray\u001b[39;00m\n\u001b[1;32m     25\u001b[0m colors[:\u001b[38;5;241m64\u001b[39m] \u001b[38;5;241m=\u001b[39m gray  \u001b[38;5;66;03m# Map the lowest 25% to gray\u001b[39;00m\n\u001b[0;32m---> 26\u001b[0m custom_cmap \u001b[38;5;241m=\u001b[39m \u001b[43mListedColormap\u001b[49m(colors)\n\u001b[1;32m     28\u001b[0m ax \u001b[38;5;241m=\u001b[39m sns\u001b[38;5;241m.\u001b[39mheatmap(contrib_arr,\n\u001b[1;32m     29\u001b[0m                  cmap\u001b[38;5;241m=\u001b[39mcustom_cmap,\n\u001b[1;32m     30\u001b[0m                  vmin\u001b[38;5;241m=\u001b[39mvmin,\n\u001b[1;32m     31\u001b[0m                  cbar_kws\u001b[38;5;241m=\u001b[39m{\u001b[38;5;124m\"\u001b[39m\u001b[38;5;124mlabel\u001b[39m\u001b[38;5;124m\"\u001b[39m: score})\n\u001b[1;32m     32\u001b[0m ax\u001b[38;5;241m.\u001b[39mset_xlabel(\u001b[38;5;124m'\u001b[39m\u001b[38;5;124mFilter Number\u001b[39m\u001b[38;5;124m'\u001b[39m, fontsize\u001b[38;5;241m=\u001b[39m\u001b[38;5;241m10\u001b[39m)\n",
      "\u001b[0;31mNameError\u001b[0m: name 'ListedColormap' is not defined"
     ]
    },
    {
     "data": {
      "text/plain": [
       "<Figure size 1500x50 with 0 Axes>"
      ]
     },
     "metadata": {},
     "output_type": "display_data"
    }
   ],
   "source": [
    "mb.pl.filter_contrib_heatmap(contributions_normalized, title=\"Alignedness by Filters\", score=\"Alignedness Score\")"
   ]
  },
  {
   "cell_type": "code",
   "execution_count": null,
   "metadata": {},
   "outputs": [
    {
     "data": {
      "image/png": "[encoded data removed]",
      "text/plain": [
       "<Figure size 1500x50 with 2 Axes>"
      ]
     },
     "metadata": {},
     "output_type": "display_data"
    }
   ],
   "source": [
    "sum_A = A.abs().sum(axis=1)\n",
    "sum_A_normalized = sum_A / sum_A.max()\n",
    "mb.pl.filter_contrib_heatmap(sum_A_normalized, title='Sum of absolute values of log activities', score=\"Normalized Sum\")"
   ]
  },
  {
   "cell_type": "code",
   "execution_count": null,
   "metadata": {},
   "outputs": [
    {
     "name": "stdout",
     "output_type": "stream",
     "text": [
      "(array([  9,  18,  20,  41,  52,  53,  57,  81,  88,  93,  94, 105, 106,\n",
      "       126, 136, 137, 145, 147, 151, 153, 156, 158, 165, 175, 179, 180,\n",
      "       181, 182, 196, 200, 201, 211, 219, 228, 230, 232, 233, 234, 235,\n",
      "       236, 237, 239, 240, 242, 244, 245, 246, 248, 249, 250, 251, 252,\n",
      "       253, 255, 256, 259, 262, 263, 264, 265, 267, 271, 272, 273, 274,\n",
      "       276, 279, 280, 282, 284, 285, 286]),)\n",
      "[145, 147, 181, 182, 246, 286]\n",
      "tensor(0.2500)\n"
     ]
    },
    {
     "data": {
      "image/png": "[encoded data removed]",
      "text/plain": [
       "<Figure size 1500x50 with 2 Axes>"
      ]
     },
     "metadata": {},
     "output_type": "display_data"
    }
   ],
   "source": [
    "contrib_np = contributions_normalized.detach().numpy()\n",
    "sum_A_np = sum_A_normalized.detach().numpy()\n",
    "rel_idcC = np.where(contrib_np >= np.percentile(contrib_np, 75))\n",
    "rel_idcA = np.where(sum_A_np >= np.percentile(sum_A_np, 75))\n",
    "print(rel_idcA)\n",
    "print([x for x in rel_idcC[0] if x in rel_idcA[0]])\n",
    "\n",
    "contrib_activites_prod = contributions_normalized * sum_A_normalized\n",
    "print(sum(contrib_activites_prod >= np.sort(contrib_activites_prod.detach().numpy())[3*len(contrib_activites_prod) // 4])/len(contrib_activites_prod))\n",
    "mb.pl.filter_contrib_heatmap(contrib_activites_prod, title=\"Product of contributions and activities\", score=\"Product\")"
   ]
  },
  {
   "cell_type": "code",
   "execution_count": null,
   "metadata": {},
   "outputs": [
    {
     "name": "stdout",
     "output_type": "stream",
     "text": [
      "Percentage of non-zero entries of the filter matrix A: 100.0 %\n"
     ]
    },
    {
     "data": {
      "text/plain": [
       "<Figure size 1000x500 with 0 Axes>"
      ]
     },
     "metadata": {},
     "output_type": "display_data"
    },
    {
     "data": {
      "image/png": "[encoded data removed]",
      "text/plain": [
       "<Figure size 500x200 with 3 Axes>"
      ]
     },
     "metadata": {},
     "output_type": "display_data"
    }
   ],
   "source": [
    "from matplotlib.pyplot import rcParams\n",
    "rcParams['figure.dpi'] = 100\n",
    "plt.figure(figsize=(10, 5))\n",
    "\n",
    "\n",
    "print(f\"Percentage of non-zero entries of the filter matrix A: {100 * torch.sum(A != 0).item() / A.numel()} %\")\n",
    "\n",
    "mb.pl.filter_contrib_simple(contributions_normalized, A, 'filter_contrib_plot.pdf')"
   ]
  },
  {
   "cell_type": "code",
   "execution_count": null,
   "metadata": {},
   "outputs": [
    {
     "name": "stdout",
     "output_type": "stream",
     "text": [
      "(288,) (288,)\n"
     ]
    },
    {
     "data": {
      "application/vnd.plotly.v1+json": {
       "config": {
        "plotlyServerURL": "https://plot.ly"
       },
       "data": [
        {
         "marker": {
          "color": [
           0.000016003197742975317,
           0.0008956730016507208,
           0.008264313451945782,
           0.044753286987543106,
           0.013388678431510925,
           0.05934815853834152,
           0.018257955089211464,
           0.015257392078638077,
           0.09571366012096405,
           0.12941117584705353,
           0.028079384937882423,
           0.017730362713336945,
           0.08597538620233536,
           0.006900014355778694,
           0.023172425106167793,
           0.05043720081448555,
           0.022231904789805412,
           0.02862727642059326,
           0.14725497364997864,
           0.008351476863026619,
           0.10475852340459824,
           0.028752481564879417,
           0.013845665380358696,
           0.01228453777730465,
           0.07164483517408371,
           0.009626394137740135,
           0.03772462531924248,
           0.053604304790496826,
           0.055963821709156036,
           0.025183772668242455,
           0.03127320110797882,
           0.0143049918115139,
           0.020296987146139145,
           0.05087627097964287,
           0.02091316133737564,
           0.0637587457895279,
           0.0047685494646430016,
           0.06989847868680954,
           0.042599573731422424,
           0.07979468256235123,
           0.02264031209051609,
           0.42547136545181274,
           0.01908576674759388,
           0.008633123710751534,
           0.03150031715631485,
           0.06801491230726242,
           0.03344905748963356,
           0.027186444029211998,
           0.039586640894412994,
           0.02228470891714096,
           0.05828811600804329,
           0.03523581475019455,
           0.10312213003635406,
           0.25635552406311035,
           0.01338561438024044,
           0.016655700281262398,
           0.04793527349829674,
           0.20298458635807037,
           0.026572590693831444,
           0.004187361802905798,
           0.05483812838792801,
           0.06158008053898811,
           0.05403999984264374,
           0.02201065979897976,
           0.020104100927710533,
           0.0339156910777092,
           0.021350152790546417,
           0.007501224987208843,
           0.009531944058835506,
           0.018162431195378304,
           0.007622741162776947,
           0.013645357452332973,
           0.0027270792052149773,
           0.028499701991677284,
           0.008144382387399673,
           0.015129120089113712,
           0.006844209507107735,
           0.007008962798863649,
           0.011865902692079544,
           0.004991844762116671,
           0.005745375528931618,
           0.11256570369005203,
           0.007735815364867449,
           0.04319039732217789,
           0.011024144478142262,
           0.013571416959166527,
           0.01326289214193821,
           0.016397230327129364,
           0.3485428988933563,
           0.014774180948734283,
           0.024783745408058167,
           0.008745698258280754,
           0.04714423418045044,
           0.2649131417274475,
           0.32147330045700073,
           0.005723301321268082,
           0.01566842384636402,
           0.03523067384958267,
           0.028399981558322906,
           0.037935249507427216,
           0.059284552931785583,
           0.05868319794535637,
           0.07712779939174652,
           0.0748915821313858,
           0.03344404697418213,
           0.15017490088939667,
           0.15397724509239197,
           0.016520973294973373,
           0.03116631880402565,
           0.006340408697724342,
           0.026132958009839058,
           0.05348549038171768,
           0.009900998324155807,
           0.013297122903168201,
           0.019402826204895973,
           0.003648595418781042,
           0.10059131681919098,
           0.009474208578467369,
           0.06586408615112305,
           0.025863146409392357,
           0.010993173345923424,
           0.05287669599056244,
           0.03912406042218208,
           0.03919827938079834,
           0.0459706112742424,
           0.010918359272181988,
           0.08204725384712219,
           0.0359424389898777,
           0.08565963059663773,
           0.011719897389411926,
           0.09114605188369751,
           0.021738534793257713,
           0.10030834376811981,
           0.042664479464292526,
           0.002805173397064209,
           0.07100840657949448,
           0.19085313379764557,
           0.12629634141921997,
           0.008579188026487827,
           0.06902160495519638,
           0.005170113407075405,
           0.05128034949302673,
           0.10400009900331497,
           0.08418823778629303,
           0.06763337552547455,
           0.16523276269435883,
           0.014020957984030247,
           0.11381015926599503,
           0.1003699079155922,
           0.08281253278255463,
           0.0627511516213417,
           0.12152597308158875,
           0.04725601524114609,
           0.26022982597351074,
           0.08421934396028519,
           0.010273792780935764,
           0.237919420003891,
           0.034603048115968704,
           0.11840976774692535,
           0.00705406628549099,
           0.06925211101770401,
           0.08049003034830093,
           0.0852421373128891,
           0.0058464533649384975,
           0.07794126868247986,
           0.13461655378341675,
           0.08259796351194382,
           0.029280737042427063,
           0.0177452452480793,
           0.02418912574648857,
           0.05770676210522652,
           0.04008640721440315,
           0.023339366540312767,
           0.034543927758932114,
           0.09549175947904587,
           0.20397813618183136,
           0.018339745700359344,
           0.023488638922572136,
           0.005260140635073185,
           0.5245083570480347,
           0.28457510471343994,
           0.11951668560504913,
           0.12161996215581894,
           0.0158134326338768,
           0.0944136306643486,
           0.07550652325153351,
           0.03383975476026535,
           0.06131163239479065,
           0.03132425621151924,
           0.040825262665748596,
           0.03636425361037254,
           0.024204280227422714,
           0.0787479504942894,
           0.014438038691878319,
           0.035090554505586624,
           0.004410609602928162,
           0.09725562483072281,
           0.05973760411143303,
           0.03968570753931999,
           0.04102453961968422,
           0.07771292328834534,
           0.09031955897808075,
           0.09808787703514099,
           0.04561212658882141,
           0.03965700417757034,
           0.0208160188049078,
           0.017491096630692482,
           0.03411148115992546,
           0.016747256740927696,
           0.019888930022716522,
           0.008708113804459572,
           0.09776454418897629,
           0.0699865072965622,
           0.10077027231454849,
           0.05162311717867851,
           0.028245950117707253,
           0.026267150416970253,
           0.08781757950782776,
           0.06645680963993073,
           0.17344531416893005,
           0.007997540757060051,
           0.05392906442284584,
           0.038364946842193604,
           0.02348688244819641,
           0.031951792538166046,
           0.06390590965747833,
           0.07043913751840591,
           0.02371201291680336,
           0.31466591358184814,
           0.026149865239858627,
           0.11975900828838348,
           0.02133682370185852,
           0.16157527267932892,
           0.22015617787837982,
           0.18672172725200653,
           0.367155522108078,
           0.21759837865829468,
           0.18920686841011047,
           0.006472417619079351,
           0.20873266458511353,
           0.14554548263549805,
           0.03992978855967522,
           0.09734896570444107,
           0.025112491101026535,
           0.16819556057453156,
           0.1583438217639923,
           0.127237930893898,
           0.09655986726284027,
           0.10700857639312744,
           0.21336638927459717,
           0.2743375301361084,
           0.37190160155296326,
           0.2588790953159332,
           0.21178826689720154,
           0.01624465547502041,
           0.08109810203313828,
           0.2640475034713745,
           0.023044047877192497,
           0.03385978937149048,
           0.34400689601898193,
           0.05005159229040146,
           0.0897824764251709,
           0.10836528241634369,
           0.1541096270084381,
           0.17453932762145996,
           0.5360846519470215,
           0.0321907103061676,
           0.5093921422958374,
           0.06043650582432747,
           0.07821827381849289,
           0.008132933638989925,
           0.20000316202640533,
           0.18455035984516144,
           0.17345306277275085,
           0.21370641887187958,
           0.02181333117187023,
           0.21207062900066376,
           0.01947268843650818,
           0.0757618099451065,
           0.20794880390167236,
           0.24565573036670685,
           0.05495830252766609,
           0.2593599855899811,
           0.027689041569828987,
           0.10267207026481628,
           0.29638659954071045,
           0.11139817535877228,
           0.0954364687204361
          ],
          "colorscale": [
           [
            0,
            "#440154"
           ],
           [
            0.1111111111111111,
            "#482878"
           ],
           [
            0.2222222222222222,
            "#3e4989"
           ],
           [
            0.3333333333333333,
            "#31688e"
           ],
           [
            0.4444444444444444,
            "#26828e"
           ],
           [
            0.5555555555555556,
            "#1f9e89"
           ],
           [
            0.6666666666666666,
            "#35b779"
           ],
           [
            0.7777777777777778,
            "#6ece58"
           ],
           [
            0.8888888888888888,
            "#b5de2b"
           ],
           [
            1,
            "#fde725"
           ]
          ],
          "opacity": 0.8,
          "size": 5
         },
         "mode": "markers",
         "type": "scatter3d",
         "x": [
          0.000019745699319173582,
          0.0011075201909989119,
          0.01057516597211361,
          0.05463424324989319,
          0.018704786896705627,
          0.08550404012203217,
          0.030623408034443855,
          0.02269769459962845,
          0.12991134822368622,
          0.2179257869720459,
          0.03453307971358299,
          0.02367689087986946,
          0.11401749402284622,
          0.00961852353066206,
          0.028740577399730682,
          0.07577496021986008,
          0.041914280503988266,
          0.04095080494880676,
          0.20657305419445038,
          0.0233610812574625,
          0.20066650211811066,
          0.06930477917194366,
          0.023883316665887833,
          0.017417997121810913,
          0.12450630962848663,
          0.015795594081282616,
          0.051081493496894836,
          0.07522249221801758,
          0.087828129529953,
          0.0335250087082386,
          0.04609854519367218,
          0.019141055643558502,
          0.02971574291586876,
          0.06698330491781235,
          0.027332503348588943,
          0.08337503671646118,
          0.006785474251955748,
          0.11502715200185776,
          0.05387312173843384,
          0.09885956346988678,
          0.047088246792554855,
          0.7404927015304565,
          0.023492377251386642,
          0.011436961591243744,
          0.05454437807202339,
          0.1295785903930664,
          0.09173315763473511,
          0.048662345856428146,
          0.08175507187843323,
          0.03293927013874054,
          0.07650351524353027,
          0.052071526646614075,
          0.1450367420911789,
          0.41017356514930725,
          0.018014540895819664,
          0.020796488970518112,
          0.06418927013874054,
          0.28376251459121704,
          0.03586641326546669,
          0.006027881521731615,
          0.06895028054714203,
          0.08893878757953644,
          0.07601527124643326,
          0.03841331601142883,
          0.052629437297582626,
          0.07004507631063461,
          0.02688378468155861,
          0.01010604202747345,
          0.01810411736369133,
          0.027525926008820534,
          0.02830493077635765,
          0.01817198283970356,
          0.004890652373433113,
          0.052292343229055405,
          0.016350101679563522,
          0.021718040108680725,
          0.0102081298828125,
          0.010600659996271133,
          0.015727104619145393,
          0.006776137743145227,
          0.00928934570401907,
          0.2314508557319641,
          0.011583036743104458,
          0.12237630784511566,
          0.015562686137855053,
          0.03764233738183975,
          0.024516265839338303,
          0.03231729194521904,
          0.5884509086608887,
          0.019316431134939194,
          0.03192344307899475,
          0.012340785004198551,
          0.06326019763946533,
          0.5243952870368958,
          0.6430217027664185,
          0.008307603187859058,
          0.02357141487300396,
          0.04322711005806923,
          0.040330905467271805,
          0.05637626722455025,
          0.08036717027425766,
          0.06830965727567673,
          0.09240994602441788,
          0.10178744792938232,
          0.05997958034276962,
          0.20214666426181793,
          0.2334459125995636,
          0.021185915917158127,
          0.03933929279446602,
          0.010372032411396503,
          0.032007284462451935,
          0.06963479518890381,
          0.013906825333833694,
          0.01934988610446453,
          0.024141376838088036,
          0.004550105892121792,
          0.13257193565368652,
          0.01612989418208599,
          0.09101574122905731,
          0.03351966664195061,
          0.014450647868216038,
          0.07430288940668106,
          0.051477257162332535,
          0.04949065297842026,
          0.05591714009642601,
          0.014111272059381008,
          0.1426050364971161,
          0.062099818140268326,
          0.12212760001420975,
          0.015152118168771267,
          0.12631727755069733,
          0.03006879799067974,
          0.12109292298555374,
          0.05616028234362602,
          0.007223519962280989,
          0.0956312045454979,
          0.26646867394447327,
          0.18227048218250275,
          0.012008123099803925,
          0.08913452923297882,
          0.009186157956719398,
          0.07916177809238434,
          0.13942287862300873,
          0.1115831583738327,
          0.0912369042634964,
          0.21895663440227509,
          0.029620777815580368,
          0.150937020778656,
          0.14010588824748993,
          0.11523456126451492,
          0.09341324120759964,
          0.22011494636535645,
          0.0665612444281578,
          0.3821048140525818,
          0.11362513899803162,
          0.01268802024424076,
          0.33535146713256836,
          0.06212741509079933,
          0.16109010577201843,
          0.009457515552639961,
          0.1308383345603943,
          0.12661419808864594,
          0.13582897186279297,
          0.007518680766224861,
          0.13073468208312988,
          0.19251082837581635,
          0.11516378074884415,
          0.04640985652804375,
          0.04470476880669594,
          0.04428267478942871,
          0.07037786394357681,
          0.0478392094373703,
          0.03222021833062172,
          0.04745790362358093,
          0.13445793092250824,
          0.29323112964630127,
          0.0269237719476223,
          0.029364878311753273,
          0.008169256150722504,
          0.947416365146637,
          0.43622660636901855,
          0.1574239283800125,
          0.16017410159111023,
          0.020679961889982224,
          0.1259470134973526,
          0.1061166375875473,
          0.051130324602127075,
          0.0972304716706276,
          0.04176238551735878,
          0.05598267912864685,
          0.044165682047605515,
          0.030328581109642982,
          0.09867071360349655,
          0.019624022766947746,
          0.04685729742050171,
          0.007672465406358242,
          0.17212043702602386,
          0.09655953198671341,
          0.08743714541196823,
          0.08504379540681839,
          0.192027285695076,
          0.15099038183689117,
          0.1349903792142868,
          0.06893423944711685,
          0.04972296953201294,
          0.02602781169116497,
          0.022830555215477943,
          0.045947685837745667,
          0.020472710952162743,
          0.024411054328083992,
          0.01255339477211237,
          0.14189767837524414,
          0.11442074924707413,
          0.14160674810409546,
          0.06400372087955475,
          0.04526692256331444,
          0.03530357405543327,
          0.12610213458538055,
          0.08965504914522171,
          0.2573596239089966,
          0.011015748605132103,
          0.07004716992378235,
          0.051357701420784,
          0.034379132091999054,
          0.042072881013154984,
          0.08929449319839478,
          0.08991910517215729,
          0.030964158475399017,
          0.4712061285972595,
          0.03757587820291519,
          0.16902737319469452,
          0.028765257447957993,
          0.24507227540016174,
          0.3056177496910095,
          0.29305076599121094,
          0.7216908931732178,
          0.3666771948337555,
          0.2528315782546997,
          0.00902154017239809,
          0.4161089062690735,
          0.22665710747241974,
          0.07211291044950485,
          0.18658670783042908,
          0.033468034118413925,
          0.25854605436325073,
          0.2215815633535385,
          0.16778643429279327,
          0.12437274307012558,
          0.188080832362175,
          0.324302613735199,
          0.4548161029815674,
          0.648605227470398,
          0.3823204040527344,
          0.36683622002601624,
          0.025743041187524796,
          0.1815405935049057,
          0.43974724411964417,
          0.02811640314757824,
          0.04694933816790581,
          0.5179954767227173,
          0.08502309024333954,
          0.11342979967594147,
          0.14759482443332672,
          0.23575365543365479,
          0.3068608045578003,
          0.9443975687026978,
          0.04570736736059189,
          1,
          0.0810684859752655,
          0.11402103304862976,
          0.010623912326991558,
          0.30797454714775085,
          0.3044890761375427,
          0.25102466344833374,
          0.2965638041496277,
          0.032424572855234146,
          0.285873681306839,
          0.03729434683918953,
          0.10090931504964828,
          0.30615973472595215,
          0.38424575328826904,
          0.07826650142669678,
          0.3645636737346649,
          0.03428586944937706,
          0.1611403524875641,
          0.5132513046264648,
          0.14757783710956573,
          0.13071469962596893
         ],
         "y": [
          0.8104649782180786,
          0.8087193369865417,
          0.7814831137657166,
          0.819143533706665,
          0.7157889008522034,
          0.6940976977348328,
          0.5962091088294983,
          0.672200083732605,
          0.7367613315582275,
          0.5938314199447632,
          0.8131155967712402,
          0.748846709728241,
          0.7540543675422668,
          0.7173672914505005,
          0.8062616586685181,
          0.6656183004379272,
          0.5304136276245117,
          0.6990650296211243,
          0.7128469944000244,
          0.3574953079223633,
          0.5220528841018677,
          0.41487011313438416,
          0.579721212387085,
          0.7052784562110901,
          0.5754313468933105,
          0.6094353795051575,
          0.7385184168815613,
          0.7126100659370422,
          0.6371970176696777,
          0.751193642616272,
          0.6783989071846008,
          0.747346043586731,
          0.6830381751060486,
          0.7595365643501282,
          0.7651388645172119,
          0.7647222280502319,
          0.7027584314346313,
          0.6076694130897522,
          0.7907388806343079,
          0.8071518540382385,
          0.48080602288246155,
          0.5745787620544434,
          0.812423825263977,
          0.7548441886901855,
          0.5775172114372253,
          0.5248931050300598,
          0.36463433504104614,
          0.5586751699447632,
          0.48421019315719604,
          0.6765392422676086,
          0.7619011402130127,
          0.6766810417175293,
          0.7110069394111633,
          0.6249927878379822,
          0.7430449724197388,
          0.8008899688720703,
          0.7467801570892334,
          0.7153326272964478,
          0.7408767342567444,
          0.6946655511856079,
          0.7953285574913025,
          0.6923872232437134,
          0.7109097838401794,
          0.5729955434799194,
          0.38199347257614136,
          0.48419806361198425,
          0.7941647171974182,
          0.7422515153884888,
          0.5265069603919983,
          0.6598299741744995,
          0.2693078815937042,
          0.7509008646011353,
          0.5576105117797852,
          0.5450071692466736,
          0.49812427163124084,
          0.6966153383255005,
          0.6704665422439575,
          0.6611817479133606,
          0.7544874548912048,
          0.7366799712181091,
          0.6184908747673035,
          0.4863481819629669,
          0.66785728931427,
          0.35293102264404297,
          0.7083702683448792,
          0.36053597927093506,
          0.5409833788871765,
          0.5073825716972351,
          0.5923058390617371,
          0.7648504376411438,
          0.7763493657112122,
          0.7086824774742126,
          0.7452432513237,
          0.5051783323287964,
          0.4999416172504425,
          0.6889232993125916,
          0.6647214293479919,
          0.8150134086608887,
          0.7041741609573364,
          0.6728939414024353,
          0.7376712560653687,
          0.8590761423110962,
          0.8346266150474548,
          0.7357644438743591,
          0.5575905442237854,
          0.7429007291793823,
          0.6595842242240906,
          0.779809296131134,
          0.792244017124176,
          0.6112985610961914,
          0.8164690732955933,
          0.7680857181549072,
          0.7119524478912354,
          0.6871938705444336,
          0.8037165999412537,
          0.8018704652786255,
          0.7587677836418152,
          0.5873695611953735,
          0.7236559987068176,
          0.77158123254776,
          0.7607391476631165,
          0.7116371393203735,
          0.7600261569023132,
          0.7920339703559875,
          0.822120189666748,
          0.7737331390380859,
          0.5753461122512817,
          0.5787849426269531,
          0.7013945579528809,
          0.7734824419021606,
          0.7215644121170044,
          0.7229598760604858,
          0.8283584117889404,
          0.7596913576126099,
          0.3883388340473175,
          0.7425234317779541,
          0.7162310481071472,
          0.6929062008857727,
          0.7144486904144287,
          0.7743531465530396,
          0.5628156661987305,
          0.6477918028831482,
          0.7459328174591064,
          0.7544887661933899,
          0.7412940263748169,
          0.7546369433403015,
          0.4733487367630005,
          0.7540241479873657,
          0.716386079788208,
          0.7186431884765625,
          0.6717586517333984,
          0.5521023273468018,
          0.7099629044532776,
          0.6810430288314819,
          0.7412034273147583,
          0.8097238540649414,
          0.7094628810882568,
          0.5569690465927124,
          0.7350530028343201,
          0.7458688616752625,
          0.5292952656745911,
          0.6357109546661377,
          0.6275696158409119,
          0.7775903344154358,
          0.5961789488792419,
          0.6992674469947815,
          0.717221736907959,
          0.6309163570404053,
          0.39694300293922424,
          0.5462435483932495,
          0.8199561238288879,
          0.8379404544830322,
          0.7243702411651611,
          0.7278856635093689,
          0.7101980447769165,
          0.6956223845481873,
          0.6811729669570923,
          0.7998888492584229,
          0.6438946723937988,
          0.5536196827888489,
          0.6523561477661133,
          0.759202778339386,
          0.75929856300354,
          0.7646741271018982,
          0.7496297955513,
          0.7115427255630493,
          0.6618333458900452,
          0.6305804252624512,
          0.7500590682029724,
          0.7292481064796448,
          0.8233599066734314,
          0.7980683445930481,
          0.7980883717536926,
          0.7357328534126282,
          0.7488812804222107,
          0.5748621225357056,
          0.5650440454483032,
          0.6186608672142029,
          0.45387697219848633,
          0.4823930859565735,
          0.4046972990036011,
          0.598180890083313,
          0.7266286611557007,
          0.6616759300231934,
          0.7975590229034424,
          0.799760639667511,
          0.7661266326904297,
          0.742398202419281,
          0.8180282711982727,
          0.8147509694099426,
          0.6936859488487244,
          0.6889791488647461,
          0.6116592288017273,
          0.711620569229126,
          0.8065643310546875,
          0.623986542224884,
          0.7440365552902222,
          0.6964004039764404,
          0.7412500381469727,
          0.673941433429718,
          0.726009726524353,
          0.769896388053894,
          0.7470144629478455,
          0.6831726431846619,
          0.7594391703605652,
          0.7156758308410645,
          0.7833611965179443,
          0.7657890319824219,
          0.6677882671356201,
          0.6959215998649597,
          0.7085184454917908,
          0.7417567372322083,
          0.6592963933944702,
          0.720364511013031,
          0.6371651291847229,
          0.5087434649467468,
          0.5934330821037292,
          0.7483513951301575,
          0.7174404263496399,
          0.5016298890113831,
          0.6421394944190979,
          0.5537120699882507,
          0.5217357873916626,
          0.750342607498169,
          0.6505439281463623,
          0.7146074175834656,
          0.7583326697349548,
          0.7763748168945312,
          0.5689499378204346,
          0.6579237580299377,
          0.603183388710022,
          0.5733866691589355,
          0.6771260499954224,
          0.577337384223938,
          0.6310309171676636,
          0.4467215836048126,
          0.6004528999328613,
          0.8195944428443909,
          0.7211984395980835,
          0.6641117930412292,
          0.5886823534965515,
          0.7915245890617371,
          0.7342078685760498,
          0.6536892652511597,
          0.5687898993492126,
          0.5676472187042236,
          0.7042784094810486,
          0.5093921422958374,
          0.7454993724822998,
          0.6859986186027527,
          0.7655309438705444,
          0.649414598941803,
          0.606098473072052,
          0.6909801363945007,
          0.7206085920333862,
          0.6727407574653625,
          0.7418333292007446,
          0.5221351385116577,
          0.750791072845459,
          0.6792166829109192,
          0.6393193006515503,
          0.7021944522857666,
          0.7114257216453552,
          0.8075934052467346,
          0.6371592879295349,
          0.577468752861023,
          0.754843533039093,
          0.7301127314567566
         ],
         "z": [
          0.000016003197742975317,
          0.0008956730016507208,
          0.008264313451945782,
          0.044753286987543106,
          0.013388678431510925,
          0.05934815853834152,
          0.018257955089211464,
          0.015257392078638077,
          0.09571366012096405,
          0.12941117584705353,
          0.028079384937882423,
          0.017730362713336945,
          0.08597538620233536,
          0.006900014355778694,
          0.023172425106167793,
          0.05043720081448555,
          0.022231904789805412,
          0.02862727642059326,
          0.14725497364997864,
          0.008351476863026619,
          0.10475852340459824,
          0.028752481564879417,
          0.013845665380358696,
          0.01228453777730465,
          0.07164483517408371,
          0.009626394137740135,
          0.03772462531924248,
          0.053604304790496826,
          0.055963821709156036,
          0.025183772668242455,
          0.03127320110797882,
          0.0143049918115139,
          0.020296987146139145,
          0.05087627097964287,
          0.02091316133737564,
          0.0637587457895279,
          0.0047685494646430016,
          0.06989847868680954,
          0.042599573731422424,
          0.07979468256235123,
          0.02264031209051609,
          0.42547136545181274,
          0.01908576674759388,
          0.008633123710751534,
          0.03150031715631485,
          0.06801491230726242,
          0.03344905748963356,
          0.027186444029211998,
          0.039586640894412994,
          0.02228470891714096,
          0.05828811600804329,
          0.03523581475019455,
          0.10312213003635406,
          0.25635552406311035,
          0.01338561438024044,
          0.016655700281262398,
          0.04793527349829674,
          0.20298458635807037,
          0.026572590693831444,
          0.004187361802905798,
          0.05483812838792801,
          0.06158008053898811,
          0.05403999984264374,
          0.02201065979897976,
          0.020104100927710533,
          0.0339156910777092,
          0.021350152790546417,
          0.007501224987208843,
          0.009531944058835506,
          0.018162431195378304,
          0.007622741162776947,
          0.013645357452332973,
          0.0027270792052149773,
          0.028499701991677284,
          0.008144382387399673,
          0.015129120089113712,
          0.006844209507107735,
          0.007008962798863649,
          0.011865902692079544,
          0.004991844762116671,
          0.005745375528931618,
          0.11256570369005203,
          0.007735815364867449,
          0.04319039732217789,
          0.011024144478142262,
          0.013571416959166527,
          0.01326289214193821,
          0.016397230327129364,
          0.3485428988933563,
          0.014774180948734283,
          0.024783745408058167,
          0.008745698258280754,
          0.04714423418045044,
          0.2649131417274475,
          0.32147330045700073,
          0.005723301321268082,
          0.01566842384636402,
          0.03523067384958267,
          0.028399981558322906,
          0.037935249507427216,
          0.059284552931785583,
          0.05868319794535637,
          0.07712779939174652,
          0.0748915821313858,
          0.03344404697418213,
          0.15017490088939667,
          0.15397724509239197,
          0.016520973294973373,
          0.03116631880402565,
          0.006340408697724342,
          0.026132958009839058,
          0.05348549038171768,
          0.009900998324155807,
          0.013297122903168201,
          0.019402826204895973,
          0.003648595418781042,
          0.10059131681919098,
          0.009474208578467369,
          0.06586408615112305,
          0.025863146409392357,
          0.010993173345923424,
          0.05287669599056244,
          0.03912406042218208,
          0.03919827938079834,
          0.0459706112742424,
          0.010918359272181988,
          0.08204725384712219,
          0.0359424389898777,
          0.08565963059663773,
          0.011719897389411926,
          0.09114605188369751,
          0.021738534793257713,
          0.10030834376811981,
          0.042664479464292526,
          0.002805173397064209,
          0.07100840657949448,
          0.19085313379764557,
          0.12629634141921997,
          0.008579188026487827,
          0.06902160495519638,
          0.005170113407075405,
          0.05128034949302673,
          0.10400009900331497,
          0.08418823778629303,
          0.06763337552547455,
          0.16523276269435883,
          0.014020957984030247,
          0.11381015926599503,
          0.1003699079155922,
          0.08281253278255463,
          0.0627511516213417,
          0.12152597308158875,
          0.04725601524114609,
          0.26022982597351074,
          0.08421934396028519,
          0.010273792780935764,
          0.237919420003891,
          0.034603048115968704,
          0.11840976774692535,
          0.00705406628549099,
          0.06925211101770401,
          0.08049003034830093,
          0.0852421373128891,
          0.0058464533649384975,
          0.07794126868247986,
          0.13461655378341675,
          0.08259796351194382,
          0.029280737042427063,
          0.0177452452480793,
          0.02418912574648857,
          0.05770676210522652,
          0.04008640721440315,
          0.023339366540312767,
          0.034543927758932114,
          0.09549175947904587,
          0.20397813618183136,
          0.018339745700359344,
          0.023488638922572136,
          0.005260140635073185,
          0.5245083570480347,
          0.28457510471343994,
          0.11951668560504913,
          0.12161996215581894,
          0.0158134326338768,
          0.0944136306643486,
          0.07550652325153351,
          0.03383975476026535,
          0.06131163239479065,
          0.03132425621151924,
          0.040825262665748596,
          0.03636425361037254,
          0.024204280227422714,
          0.0787479504942894,
          0.014438038691878319,
          0.035090554505586624,
          0.004410609602928162,
          0.09725562483072281,
          0.05973760411143303,
          0.03968570753931999,
          0.04102453961968422,
          0.07771292328834534,
          0.09031955897808075,
          0.09808787703514099,
          0.04561212658882141,
          0.03965700417757034,
          0.0208160188049078,
          0.017491096630692482,
          0.03411148115992546,
          0.016747256740927696,
          0.019888930022716522,
          0.008708113804459572,
          0.09776454418897629,
          0.0699865072965622,
          0.10077027231454849,
          0.05162311717867851,
          0.028245950117707253,
          0.026267150416970253,
          0.08781757950782776,
          0.06645680963993073,
          0.17344531416893005,
          0.007997540757060051,
          0.05392906442284584,
          0.038364946842193604,
          0.02348688244819641,
          0.031951792538166046,
          0.06390590965747833,
          0.07043913751840591,
          0.02371201291680336,
          0.31466591358184814,
          0.026149865239858627,
          0.11975900828838348,
          0.02133682370185852,
          0.16157527267932892,
          0.22015617787837982,
          0.18672172725200653,
          0.367155522108078,
          0.21759837865829468,
          0.18920686841011047,
          0.006472417619079351,
          0.20873266458511353,
          0.14554548263549805,
          0.03992978855967522,
          0.09734896570444107,
          0.025112491101026535,
          0.16819556057453156,
          0.1583438217639923,
          0.127237930893898,
          0.09655986726284027,
          0.10700857639312744,
          0.21336638927459717,
          0.2743375301361084,
          0.37190160155296326,
          0.2588790953159332,
          0.21178826689720154,
          0.01624465547502041,
          0.08109810203313828,
          0.2640475034713745,
          0.023044047877192497,
          0.03385978937149048,
          0.34400689601898193,
          0.05005159229040146,
          0.0897824764251709,
          0.10836528241634369,
          0.1541096270084381,
          0.17453932762145996,
          0.5360846519470215,
          0.0321907103061676,
          0.5093921422958374,
          0.06043650582432747,
          0.07821827381849289,
          0.008132933638989925,
          0.20000316202640533,
          0.18455035984516144,
          0.17345306277275085,
          0.21370641887187958,
          0.02181333117187023,
          0.21207062900066376,
          0.01947268843650818,
          0.0757618099451065,
          0.20794880390167236,
          0.24565573036670685,
          0.05495830252766609,
          0.2593599855899811,
          0.027689041569828987,
          0.10267207026481628,
          0.29638659954071045,
          0.11139817535877228,
          0.0954364687204361
         ]
        }
       ],
       "layout": {
        "margin": {
         "b": 0,
         "l": 0,
         "r": 0,
         "t": 0
        },
        "scene": {
         "xaxis": {
          "title": {
           "text": "Sum Activities (Normalized)"
          }
         },
         "yaxis": {
          "title": {
           "text": "Contrib Scores"
          }
         },
         "zaxis": {
          "title": {
           "text": "Product (Sum Activities * Contrib Scores)"
          }
         }
        },
        "template": {
         "data": {
          "bar": [
           {
            "error_x": {
             "color": "#2a3f5f"
            },
            "error_y": {
             "color": "#2a3f5f"
            },
            "marker": {
             "line": {
              "color": "#E5ECF6",
              "width": 0.5
             },
             "pattern": {
              "fillmode": "overlay",
              "size": 10,
              "solidity": 0.2
             }
            },
            "type": "bar"
           }
          ],
          "barpolar": [
           {
            "marker": {
             "line": {
              "color": "#E5ECF6",
              "width": 0.5
             },
             "pattern": {
              "fillmode": "overlay",
              "size": 10,
              "solidity": 0.2
             }
            },
            "type": "barpolar"
           }
          ],
          "carpet": [
           {
            "aaxis": {
             "endlinecolor": "#2a3f5f",
             "gridcolor": "white",
             "linecolor": "white",
             "minorgridcolor": "white",
             "startlinecolor": "#2a3f5f"
            },
            "baxis": {
             "endlinecolor": "#2a3f5f",
             "gridcolor": "white",
             "linecolor": "white",
             "minorgridcolor": "white",
             "startlinecolor": "#2a3f5f"
            },
            "type": "carpet"
           }
          ],
          "choropleth": [
           {
            "colorbar": {
             "outlinewidth": 0,
             "ticks": ""
            },
            "type": "choropleth"
           }
          ],
          "contour": [
           {
            "colorbar": {
             "outlinewidth": 0,
             "ticks": ""
            },
            "colorscale": [
             [
              0,
              "#0d0887"
             ],
             [
              0.1111111111111111,
              "#46039f"
             ],
             [
              0.2222222222222222,
              "#7201a8"
             ],
             [
              0.3333333333333333,
              "#9c179e"
             ],
             [
              0.4444444444444444,
              "#bd3786"
             ],
             [
              0.5555555555555556,
              "#d8576b"
             ],
             [
              0.6666666666666666,
              "#ed7953"
             ],
             [
              0.7777777777777778,
              "#fb9f3a"
             ],
             [
              0.8888888888888888,
              "#fdca26"
             ],
             [
              1,
              "#f0f921"
             ]
            ],
            "type": "contour"
           }
          ],
          "contourcarpet": [
           {
            "colorbar": {
             "outlinewidth": 0,
             "ticks": ""
            },
            "type": "contourcarpet"
           }
          ],
          "heatmap": [
           {
            "colorbar": {
             "outlinewidth": 0,
             "ticks": ""
            },
            "colorscale": [
             [
              0,
              "#0d0887"
             ],
             [
              0.1111111111111111,
              "#46039f"
             ],
             [
              0.2222222222222222,
              "#7201a8"
             ],
             [
              0.3333333333333333,
              "#9c179e"
             ],
             [
              0.4444444444444444,
              "#bd3786"
             ],
             [
              0.5555555555555556,
              "#d8576b"
             ],
             [
              0.6666666666666666,
              "#ed7953"
             ],
             [
              0.7777777777777778,
              "#fb9f3a"
             ],
             [
              0.8888888888888888,
              "#fdca26"
             ],
             [
              1,
              "#f0f921"
             ]
            ],
            "type": "heatmap"
           }
          ],
          "heatmapgl": [
           {
            "colorbar": {
             "outlinewidth": 0,
             "ticks": ""
            },
            "colorscale": [
             [
              0,
              "#0d0887"
             ],
             [
              0.1111111111111111,
              "#46039f"
             ],
             [
              0.2222222222222222,
              "#7201a8"
             ],
             [
              0.3333333333333333,
              "#9c179e"
             ],
             [
              0.4444444444444444,
              "#bd3786"
             ],
             [
              0.5555555555555556,
              "#d8576b"
             ],
             [
              0.6666666666666666,
              "#ed7953"
             ],
             [
              0.7777777777777778,
              "#fb9f3a"
             ],
             [
              0.8888888888888888,
              "#fdca26"
             ],
             [
              1,
              "#f0f921"
             ]
            ],
            "type": "heatmapgl"
           }
          ],
          "histogram": [
           {
            "marker": {
             "pattern": {
              "fillmode": "overlay",
              "size": 10,
              "solidity": 0.2
             }
            },
            "type": "histogram"
           }
          ],
          "histogram2d": [
           {
            "colorbar": {
             "outlinewidth": 0,
             "ticks": ""
            },
            "colorscale": [
             [
              0,
              "#0d0887"
             ],
             [
              0.1111111111111111,
              "#46039f"
             ],
             [
              0.2222222222222222,
              "#7201a8"
             ],
             [
              0.3333333333333333,
              "#9c179e"
             ],
             [
              0.4444444444444444,
              "#bd3786"
             ],
             [
              0.5555555555555556,
              "#d8576b"
             ],
             [
              0.6666666666666666,
              "#ed7953"
             ],
             [
              0.7777777777777778,
              "#fb9f3a"
             ],
             [
              0.8888888888888888,
              "#fdca26"
             ],
             [
              1,
              "#f0f921"
             ]
            ],
            "type": "histogram2d"
           }
          ],
          "histogram2dcontour": [
           {
            "colorbar": {
             "outlinewidth": 0,
             "ticks": ""
            },
            "colorscale": [
             [
              0,
              "#0d0887"
             ],
             [
              0.1111111111111111,
              "#46039f"
             ],
             [
              0.2222222222222222,
              "#7201a8"
             ],
             [
              0.3333333333333333,
              "#9c179e"
             ],
             [
              0.4444444444444444,
              "#bd3786"
             ],
             [
              0.5555555555555556,
              "#d8576b"
             ],
             [
              0.6666666666666666,
              "#ed7953"
             ],
             [
              0.7777777777777778,
              "#fb9f3a"
             ],
             [
              0.8888888888888888,
              "#fdca26"
             ],
             [
              1,
              "#f0f921"
             ]
            ],
            "type": "histogram2dcontour"
           }
          ],
          "mesh3d": [
           {
            "colorbar": {
             "outlinewidth": 0,
             "ticks": ""
            },
            "type": "mesh3d"
           }
          ],
          "parcoords": [
           {
            "line": {
             "colorbar": {
              "outlinewidth": 0,
              "ticks": ""
             }
            },
            "type": "parcoords"
           }
          ],
          "pie": [
           {
            "automargin": true,
            "type": "pie"
           }
          ],
          "scatter": [
           {
            "fillpattern": {
             "fillmode": "overlay",
             "size": 10,
             "solidity": 0.2
            },
            "type": "scatter"
           }
          ],
          "scatter3d": [
           {
            "line": {
             "colorbar": {
              "outlinewidth": 0,
              "ticks": ""
             }
            },
            "marker": {
             "colorbar": {
              "outlinewidth": 0,
              "ticks": ""
             }
            },
            "type": "scatter3d"
           }
          ],
          "scattercarpet": [
           {
            "marker": {
             "colorbar": {
              "outlinewidth": 0,
              "ticks": ""
             }
            },
            "type": "scattercarpet"
           }
          ],
          "scattergeo": [
           {
            "marker": {
             "colorbar": {
              "outlinewidth": 0,
              "ticks": ""
             }
            },
            "type": "scattergeo"
           }
          ],
          "scattergl": [
           {
            "marker": {
             "colorbar": {
              "outlinewidth": 0,
              "ticks": ""
             }
            },
            "type": "scattergl"
           }
          ],
          "scattermapbox": [
           {
            "marker": {
             "colorbar": {
              "outlinewidth": 0,
              "ticks": ""
             }
            },
            "type": "scattermapbox"
           }
          ],
          "scatterpolar": [
           {
            "marker": {
             "colorbar": {
              "outlinewidth": 0,
              "ticks": ""
             }
            },
            "type": "scatterpolar"
           }
          ],
          "scatterpolargl": [
           {
            "marker": {
             "colorbar": {
              "outlinewidth": 0,
              "ticks": ""
             }
            },
            "type": "scatterpolargl"
           }
          ],
          "scatterternary": [
           {
            "marker": {
             "colorbar": {
              "outlinewidth": 0,
              "ticks": ""
             }
            },
            "type": "scatterternary"
           }
          ],
          "surface": [
           {
            "colorbar": {
             "outlinewidth": 0,
             "ticks": ""
            },
            "colorscale": [
             [
              0,
              "#0d0887"
             ],
             [
              0.1111111111111111,
              "#46039f"
             ],
             [
              0.2222222222222222,
              "#7201a8"
             ],
             [
              0.3333333333333333,
              "#9c179e"
             ],
             [
              0.4444444444444444,
              "#bd3786"
             ],
             [
              0.5555555555555556,
              "#d8576b"
             ],
             [
              0.6666666666666666,
              "#ed7953"
             ],
             [
              0.7777777777777778,
              "#fb9f3a"
             ],
             [
              0.8888888888888888,
              "#fdca26"
             ],
             [
              1,
              "#f0f921"
             ]
            ],
            "type": "surface"
           }
          ],
          "table": [
           {
            "cells": {
             "fill": {
              "color": "#EBF0F8"
             },
             "line": {
              "color": "white"
             }
            },
            "header": {
             "fill": {
              "color": "#C8D4E3"
             },
             "line": {
              "color": "white"
             }
            },
            "type": "table"
           }
          ]
         },
         "layout": {
          "annotationdefaults": {
           "arrowcolor": "#2a3f5f",
           "arrowhead": 0,
           "arrowwidth": 1
          },
          "autotypenumbers": "strict",
          "coloraxis": {
           "colorbar": {
            "outlinewidth": 0,
            "ticks": ""
           }
          },
          "colorscale": {
           "diverging": [
            [
             0,
             "#8e0152"
            ],
            [
             0.1,
             "#c51b7d"
            ],
            [
             0.2,
             "#de77ae"
            ],
            [
             0.3,
             "#f1b6da"
            ],
            [
             0.4,
             "#fde0ef"
            ],
            [
             0.5,
             "#f7f7f7"
            ],
            [
             0.6,
             "#e6f5d0"
            ],
            [
             0.7,
             "#b8e186"
            ],
            [
             0.8,
             "#7fbc41"
            ],
            [
             0.9,
             "#4d9221"
            ],
            [
             1,
             "#276419"
            ]
           ],
           "sequential": [
            [
             0,
             "#0d0887"
            ],
            [
             0.1111111111111111,
             "#46039f"
            ],
            [
             0.2222222222222222,
             "#7201a8"
            ],
            [
             0.3333333333333333,
             "#9c179e"
            ],
            [
             0.4444444444444444,
             "#bd3786"
            ],
            [
             0.5555555555555556,
             "#d8576b"
            ],
            [
             0.6666666666666666,
             "#ed7953"
            ],
            [
             0.7777777777777778,
             "#fb9f3a"
            ],
            [
             0.8888888888888888,
             "#fdca26"
            ],
            [
             1,
             "#f0f921"
            ]
           ],
           "sequentialminus": [
            [
             0,
             "#0d0887"
            ],
            [
             0.1111111111111111,
             "#46039f"
            ],
            [
             0.2222222222222222,
             "#7201a8"
            ],
            [
             0.3333333333333333,
             "#9c179e"
            ],
            [
             0.4444444444444444,
             "#bd3786"
            ],
            [
             0.5555555555555556,
             "#d8576b"
            ],
            [
             0.6666666666666666,
             "#ed7953"
            ],
            [
             0.7777777777777778,
             "#fb9f3a"
            ],
            [
             0.8888888888888888,
             "#fdca26"
            ],
            [
             1,
             "#f0f921"
            ]
           ]
          },
          "colorway": [
           "#636efa",
           "#EF553B",
           "#00cc96",
           "#ab63fa",
           "#FFA15A",
           "#19d3f3",
           "#FF6692",
           "#B6E880",
           "#FF97FF",
           "#FECB52"
          ],
          "font": {
           "color": "#2a3f5f"
          },
          "geo": {
           "bgcolor": "white",
           "lakecolor": "white",
           "landcolor": "#E5ECF6",
           "showlakes": true,
           "showland": true,
           "subunitcolor": "white"
          },
          "hoverlabel": {
           "align": "left"
          },
          "hovermode": "closest",
          "mapbox": {
           "style": "light"
          },
          "paper_bgcolor": "white",
          "plot_bgcolor": "#E5ECF6",
          "polar": {
           "angularaxis": {
            "gridcolor": "white",
            "linecolor": "white",
            "ticks": ""
           },
           "bgcolor": "#E5ECF6",
           "radialaxis": {
            "gridcolor": "white",
            "linecolor": "white",
            "ticks": ""
           }
          },
          "scene": {
           "xaxis": {
            "backgroundcolor": "#E5ECF6",
            "gridcolor": "white",
            "gridwidth": 2,
            "linecolor": "white",
            "showbackground": true,
            "ticks": "",
            "zerolinecolor": "white"
           },
           "yaxis": {
            "backgroundcolor": "#E5ECF6",
            "gridcolor": "white",
            "gridwidth": 2,
            "linecolor": "white",
            "showbackground": true,
            "ticks": "",
            "zerolinecolor": "white"
           },
           "zaxis": {
            "backgroundcolor": "#E5ECF6",
            "gridcolor": "white",
            "gridwidth": 2,
            "linecolor": "white",
            "showbackground": true,
            "ticks": "",
            "zerolinecolor": "white"
           }
          },
          "shapedefaults": {
           "line": {
            "color": "#2a3f5f"
           }
          },
          "ternary": {
           "aaxis": {
            "gridcolor": "white",
            "linecolor": "white",
            "ticks": ""
           },
           "baxis": {
            "gridcolor": "white",
            "linecolor": "white",
            "ticks": ""
           },
           "bgcolor": "#E5ECF6",
           "caxis": {
            "gridcolor": "white",
            "linecolor": "white",
            "ticks": ""
           }
          },
          "title": {
           "x": 0.05
          },
          "xaxis": {
           "automargin": true,
           "gridcolor": "white",
           "linecolor": "white",
           "ticks": "",
           "title": {
            "standoff": 15
           },
           "zerolinecolor": "white",
           "zerolinewidth": 2
          },
          "yaxis": {
           "automargin": true,
           "gridcolor": "white",
           "linecolor": "white",
           "ticks": "",
           "title": {
            "standoff": 15
           },
           "zerolinecolor": "white",
           "zerolinewidth": 2
          }
         }
        }
       }
      }
     },
     "metadata": {},
     "output_type": "display_data"
    }
   ],
   "source": [
    "import plotly.graph_objs as go\n",
    "import numpy as np\n",
    "\n",
    "# Assuming filter_contrib_normed and A are already defined\n",
    "filter_contrib_normed = contributions_normalized\n",
    "contrib_arr = filter_contrib_normed.unsqueeze(dim=0).detach().numpy()\n",
    "sum_A = A.abs().sum(axis=1).detach().numpy()\n",
    "sum_A_normalized = sum_A / sum_A.max()\n",
    "contrib = contrib_arr[0]\n",
    "\n",
    "# Compute the product of sum_A_normalized and contrib\n",
    "product = sum_A_normalized * contrib\n",
    "\n",
    "print(sum_A.shape, contrib.shape)\n",
    "\n",
    "# Create the 3D scatter plot\n",
    "trace = go.Scatter3d(\n",
    "    x=sum_A_normalized,\n",
    "    y=contrib,\n",
    "    z=product,\n",
    "    mode='markers',\n",
    "    marker=dict(\n",
    "        size=5,\n",
    "        color=product,  \n",
    "        colorscale='Viridis',  \n",
    "        opacity=0.8\n",
    "    )\n",
    ")\n",
    "\n",
    "data = [trace]\n",
    "\n",
    "layout = go.Layout(\n",
    "    margin=dict(l=0, r=0, b=0, t=0),\n",
    "    scene=dict(\n",
    "        xaxis_title='Sum Activities (Normalized)',\n",
    "        yaxis_title='Contrib Scores',\n",
    "        zaxis_title='Product (Sum Activities * Contrib Scores)'\n",
    "    )\n",
    ")\n",
    "\n",
    "fig = go.Figure(data=data, layout=layout)\n",
    "\n",
    "fig.show()\n"
   ]
  },
  {
   "cell_type": "code",
   "execution_count": null,
   "metadata": {},
   "outputs": [
    {
     "name": "stdout",
     "output_type": "stream",
     "text": [
      "[1.         0.94741637 0.94439757 0.7404927  0.7216909  0.6486052\n",
      " 0.6430217  0.5884509  0.5243953 ]\n"
     ]
    }
   ],
   "source": [
    "# normalize the data, and look at summary stats\n",
    "sum_A = A.abs().sum(axis=1).detach().numpy()\n",
    "sum_A_norm = sum_A / np.max(sum_A)\n",
    "sum_A_df = pd.DataFrame(sum_A_norm, columns=['sum_A'])\n",
    "sum_A_df.describe()\n",
    "print(np.sort(sum_A_norm)[:-10:-1])"
   ]
  },
  {
   "cell_type": "code",
   "execution_count": null,
   "metadata": {},
   "outputs": [
    {
     "data": {
      "text/html": [
       "<div>\n",
       "<style scoped>\n",
       "    .dataframe tbody tr th:only-of-type {\n",
       "        vertical-align: middle;\n",
       "    }\n",
       "\n",
       "    .dataframe tbody tr th {\n",
       "        vertical-align: top;\n",
       "    }\n",
       "\n",
       "    .dataframe thead th {\n",
       "        text-align: right;\n",
       "    }\n",
       "</style>\n",
       "<table border=\"1\" class=\"dataframe\">\n",
       "  <thead>\n",
       "    <tr style=\"text-align: right;\">\n",
       "      <th></th>\n",
       "      <th>contribution_times_activities</th>\n",
       "    </tr>\n",
       "  </thead>\n",
       "  <tbody>\n",
       "    <tr>\n",
       "      <th>count</th>\n",
       "      <td>288.000000</td>\n",
       "    </tr>\n",
       "    <tr>\n",
       "      <th>mean</th>\n",
       "      <td>6.565629</td>\n",
       "    </tr>\n",
       "    <tr>\n",
       "      <th>std</th>\n",
       "      <td>7.652411</td>\n",
       "    </tr>\n",
       "    <tr>\n",
       "      <th>min</th>\n",
       "      <td>0.001339</td>\n",
       "    </tr>\n",
       "    <tr>\n",
       "      <th>25%</th>\n",
       "      <td>1.655675</td>\n",
       "    </tr>\n",
       "    <tr>\n",
       "      <th>50%</th>\n",
       "      <td>3.679736</td>\n",
       "    </tr>\n",
       "    <tr>\n",
       "      <th>75%</th>\n",
       "      <td>8.155237</td>\n",
       "    </tr>\n",
       "    <tr>\n",
       "      <th>max</th>\n",
       "      <td>44.861660</td>\n",
       "    </tr>\n",
       "  </tbody>\n",
       "</table>\n",
       "</div>"
      ],
      "text/plain": [
       "       contribution_times_activities\n",
       "count                     288.000000\n",
       "mean                        6.565629\n",
       "std                         7.652411\n",
       "min                         0.001339\n",
       "25%                         1.655675\n",
       "50%                         3.679736\n",
       "75%                         8.155237\n",
       "max                        44.861660"
      ]
     },
     "execution_count": 30,
     "metadata": {},
     "output_type": "execute_result"
    }
   ],
   "source": [
    "contrib_arr = contributions_normalized.unsqueeze(dim=0).detach().numpy()\n",
    "sum_A = A.abs().sum(axis=1).detach().numpy()\n",
    "contrib = contrib_arr[0]\n",
    "\n",
    "contrib_times_activities = contrib * sum_A\n",
    "contrib_times_activities_norm = contrib_times_activities / np.max(contrib_times_activities)\n",
    "contrib_times_activities_df = pd.DataFrame(contrib_times_activities, columns=['contribution_times_activities'])\n",
    "contrib_times_activities_df.describe()"
   ]
  },
  {
   "cell_type": "code",
   "execution_count": 32,
   "metadata": {},
   "outputs": [
    {
     "data": {
      "image/png": "[encoded data removed]",
      "text/plain": [
       "<Figure size 480x240 with 6 Axes>"
      ]
     },
     "metadata": {},
     "output_type": "display_data"
    }
   ],
   "source": [
    "from matplotlib.pyplot import rcParams\n",
    "rcParams['figure.dpi'] = 60\n",
    "\n",
    "mb.pl.contrib_heatmaps(A, C, D, use_hadamard=False, save_pdf=True)"
   ]
  },
  {
   "cell_type": "code",
   "execution_count": null,
   "metadata": {},
   "outputs": [
    {
     "data": {
      "image/png": "[encoded data removed]",
      "text/plain": [
       "<Figure size 384x288 with 1 Axes>"
      ]
     },
     "metadata": {},
     "output_type": "display_data"
    }
   ],
   "source": [
    "plt.plot(np.log(sum_A))\n",
    "plt.show()"
   ]
  }
 ],
 "metadata": {
  "kernelspec": {
   "display_name": "mubind_env",
   "language": "python",
   "name": "python3"
  },
  "language_info": {
   "codemirror_mode": {
    "name": "ipython",
    "version": 3
   },
   "file_extension": ".py",
   "mimetype": "text/x-python",
   "name": "python",
   "nbconvert_exporter": "python",
   "pygments_lexer": "ipython3",
   "version": "3.9.19"
  }
 },
 "nbformat": 4,
 "nbformat_minor": 2
}
