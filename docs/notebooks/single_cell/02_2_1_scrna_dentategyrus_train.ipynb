{
 "cells": [
  {
   "attachments": {},
   "cell_type": "markdown",
   "metadata": {},
   "source": [
    "## Modeling scRNA-seq using sequence features and a custom kNN graph\n",
    "\n",
    "In this tutorial we demonstrate the applicability of mubind in a case where an arbitrarily complex graph is provided.\n",
    "The dataset is mouse pancreatic endocrinogenesis multiome [Klein et al 2023]\n"
   ]
  },
  {
   "cell_type": "code",
   "execution_count": 1,
   "metadata": {
    "collapsed": false,
    "pycharm": {
     "name": "#%%\n"
    }
   },
   "outputs": [],
   "source": [
    "%load_ext autoreload\n",
    "%autoreload 2"
   ]
  },
  {
   "cell_type": "code",
   "execution_count": 2,
   "metadata": {},
   "outputs": [
    {
     "name": "stdout",
     "output_type": "stream",
     "text": [
      "/home/ilibarra/workspace/theislab/mubind/docs/notebooks/single_cell\n"
     ]
    },
    {
     "name": "stderr",
     "output_type": "stream",
     "text": [
      "/home/ilibarra/miniconda3/envs/mubind/lib/python3.9/site-packages/IPython/core/magics/osm.py:393: UserWarning: using bookmarks requires you to install the `pickleshare` library.\n",
      "  bkms = self.shell.db.get('bookmarks', {})\n",
      "/home/ilibarra/miniconda3/envs/mubind/lib/python3.9/site-packages/IPython/core/magics/osm.py:417: UserWarning: using dhist requires you to install the `pickleshare` library.\n",
      "  self.shell.db['dhist'] = compress_dhist(dhist)[-100:]\n"
     ]
    }
   ],
   "source": [
    "cd ~/workspace/theislab/mubind/docs/notebooks/single_cell"
   ]
  },
  {
   "cell_type": "code",
   "execution_count": 3,
   "metadata": {},
   "outputs": [
    {
     "name": "stdout",
     "output_type": "stream",
     "text": [
      "/home/ilibarra/workspace/theislab/mubind/docs/notebooks/single_cell\n"
     ]
    }
   ],
   "source": [
    "!readlink -f ."
   ]
  },
  {
   "cell_type": "code",
   "execution_count": 4,
   "metadata": {},
   "outputs": [],
   "source": [
    "import pandas as pd\n",
    "import numpy as np\n",
    "import os\n",
    "import seaborn\n",
    "import itertools\n",
    "import glob\n",
    "\n",
    "import pandas as pd\n",
    "from pathlib import Path\n",
    "import bindome as bd\n",
    "bd.constants.ANNOTATIONS_DIRECTORY = 'annotations'\n",
    "import mubind as mb\n",
    "from tqdm.notebook import tqdm_notebook as tqdm"
   ]
  },
  {
   "cell_type": "code",
   "execution_count": 5,
   "metadata": {
    "collapsed": false,
    "pycharm": {
     "name": "#%%\n"
    }
   },
   "outputs": [
    {
     "name": "stdout",
     "output_type": "stream",
     "text": [
      "# motifs loaded 2179\n"
     ]
    },
    {
     "data": {
      "text/plain": [
       "286"
      ]
     },
     "execution_count": 5,
     "metadata": {},
     "output_type": "execute_result"
    }
   ],
   "source": [
    "# these are motifs used during training (pre-weights)\n",
    "# pwms = mb.datasets.cisbp_hs()\n",
    "pwms = mb.datasets.archetypes()\n",
    "# pwms = pwms[:20]\n",
    "len(pwms)"
   ]
  },
  {
   "cell_type": "code",
   "execution_count": 6,
   "metadata": {
    "collapsed": false,
    "pycharm": {
     "name": "#%%\n"
    }
   },
   "outputs": [],
   "source": [
    "import random\n",
    "# reduced_groups = [p.to_numpy() for p in random.sample(pwms, 20) if p.shape[-1] != 0]"
   ]
  },
  {
   "cell_type": "code",
   "execution_count": 7,
   "metadata": {
    "collapsed": false,
    "pycharm": {
     "name": "#%%\n"
    }
   },
   "outputs": [],
   "source": [
    "\n",
    "# suppress numba deprecations warnings\n",
    "from numba.core.errors import NumbaDeprecationWarning, NumbaPendingDeprecationWarning\n",
    "import warnings\n",
    "\n",
    "warnings.simplefilter('ignore', category=NumbaDeprecationWarning)\n",
    "warnings.simplefilter('ignore', category=NumbaPendingDeprecationWarning)"
   ]
  },
  {
   "cell_type": "code",
   "execution_count": 8,
   "metadata": {
    "collapsed": false,
    "pycharm": {
     "name": "#%%\n"
    }
   },
   "outputs": [
    {
     "name": "stdout",
     "output_type": "stream",
     "text": [
      "Using device: cuda:0\n"
     ]
    }
   ],
   "source": [
    "\n",
    "import mubind as mb\n",
    "import numpy as np\n",
    "import pandas as pd\n",
    "import torch\n",
    "# mb.models.Mubind\n",
    "import torch\n",
    "import torch\n",
    "import torch.optim as topti\n",
    "import torch.utils.data as tdata\n",
    "import matplotlib.pyplot as plt\n",
    "import logomaker\n",
    "import os\n",
    "import scipy\n",
    "import pickle\n",
    "\n",
    "\n",
    "# Use a GPU if available, as it should be faster.\n",
    "device = torch.device(\"cuda:0\" if torch.cuda.is_available() else \"cpu\")\n",
    "print(\"Using device: \" + str(device))"
   ]
  },
  {
   "cell_type": "code",
   "execution_count": 9,
   "metadata": {},
   "outputs": [],
   "source": [
    "device = 'cpu'"
   ]
  },
  {
   "cell_type": "code",
   "execution_count": 10,
   "metadata": {
    "collapsed": false,
    "pycharm": {
     "name": "#%%\n"
    }
   },
   "outputs": [],
   "source": [
    "import scanpy as sc"
   ]
  },
  {
   "cell_type": "code",
   "execution_count": 11,
   "metadata": {},
   "outputs": [
    {
     "name": "stdout",
     "output_type": "stream",
     "text": [
      "here...\n"
     ]
    }
   ],
   "source": [
    "print('here...')"
   ]
  },
  {
   "cell_type": "code",
   "execution_count": null,
   "metadata": {},
   "outputs": [],
   "source": []
  },
  {
   "cell_type": "code",
   "execution_count": 12,
   "metadata": {},
   "outputs": [
    {
     "data": {
      "text/plain": [
       "True"
      ]
     },
     "execution_count": 12,
     "metadata": {},
     "output_type": "execute_result"
    }
   ],
   "source": [
    "ad_path = '../../../data/dentategyrus/dentategyrus.h5ad'\n",
    "os.path.exists(ad_path)"
   ]
  },
  {
   "cell_type": "code",
   "execution_count": 13,
   "metadata": {},
   "outputs": [],
   "source": [
    "# pybiomart is requred\n",
    "annot = sc.queries.biomart_annotations(\n",
    "    \"mmusculus\",\n",
    "    [\"ensembl_gene_id\", \"start_position\", \"end_position\", \"chromosome_name\", \"external_gene_name\"],\n",
    ").set_index(\"external_gene_name\")\n"
   ]
  },
  {
   "cell_type": "code",
   "execution_count": 14,
   "metadata": {},
   "outputs": [],
   "source": [
    "tss_path = os.path.join(bd.constants.ANNOTATIONS_DIRECTORY, 'mm10', 'genome', 'TSS.in')\n",
    "tss = pd.read_csv(tss_path, sep='\\t', header=None)\n",
    "tss.columns = ['chrom', 'pos', 'strand', 'symbol']\n",
    "tss = tss.set_index('symbol')\n",
    "tss = tss[~tss.index.duplicated(keep='first')]"
   ]
  },
  {
   "cell_type": "code",
   "execution_count": 15,
   "metadata": {},
   "outputs": [],
   "source": [
    "# annot = annot[~annot.index.duplicated(keep='first')]"
   ]
  },
  {
   "cell_type": "code",
   "execution_count": 16,
   "metadata": {
    "collapsed": false,
    "pycharm": {
     "name": "#%%\n"
    }
   },
   "outputs": [],
   "source": [
    "# load the pancreas multiome dataset\n",
    "rna = sc.read_h5ad(ad_path)\n",
    "# rna, atac = mb.datasets.pancreas_multiome() # data_directory='../../../annotations/scatac')"
   ]
  },
  {
   "cell_type": "code",
   "execution_count": 17,
   "metadata": {},
   "outputs": [],
   "source": [
    "rna.var[tss.columns] = tss"
   ]
  },
  {
   "cell_type": "code",
   "execution_count": 18,
   "metadata": {},
   "outputs": [],
   "source": [
    "rna = rna[:,~pd.isnull(rna.var['pos'])].copy()\n"
   ]
  },
  {
   "cell_type": "code",
   "execution_count": 19,
   "metadata": {},
   "outputs": [
    {
     "data": {
      "text/plain": [
       "(2930, 13197)"
      ]
     },
     "execution_count": 19,
     "metadata": {},
     "output_type": "execute_result"
    }
   ],
   "source": [
    "rna.shape"
   ]
  },
  {
   "cell_type": "code",
   "execution_count": 20,
   "metadata": {},
   "outputs": [],
   "source": [
    "rna.var['tss_start'] = rna.var['pos'].astype(int)\n",
    "rna = rna[:,~pd.isnull(rna.var['tss_start'])]\n",
    "bp = 250\n",
    "tss_start = rna.var['tss_start'].astype(int)\n",
    "rna.var['tss_start'] = np.where(rna.var['strand'] == '+', tss_start - bp, tss_start)\n",
    "rna.var['tss_end'] = np.where(rna.var['strand'] == '+', tss_start, tss_start + bp)\n",
    "\n",
    "rna.var['chromosome_name'] = rna.var['chrom']\n",
    "rna.var['k'] = rna.var['chromosome_name'].astype(str) + ':' + rna.var['tss_start'].astype(str) + '-' + rna.var['tss_end'].astype(str)"
   ]
  },
  {
   "cell_type": "code",
   "execution_count": 21,
   "metadata": {},
   "outputs": [],
   "source": [
    "# rna.shape, atac.shape\n",
    "# atac_path = '../../../annotations/scatac/noack_et_al_velocity_graph.h5ad'\n",
    "# os.path.exists(atac_path)\n",
    "# ad = sc.read_h5ad(atac_path)"
   ]
  },
  {
   "cell_type": "code",
   "execution_count": 22,
   "metadata": {},
   "outputs": [],
   "source": [
    "ad = rna"
   ]
  },
  {
   "cell_type": "code",
   "execution_count": 23,
   "metadata": {},
   "outputs": [
    {
     "data": {
      "text/plain": [
       "Index(['Lypla1', 'Tcea1', 'Atp6v1h', 'Rb1cc1', 'St18', 'Pcmtd1', 'Rrs1',\n",
       "       'Adhfe1', '3110035E14Rik', 'Sgk3',\n",
       "       ...\n",
       "       'Tlr7', 'Prps2', 'Frmpd4', 'Msl3', 'Hccs', 'Kdm5d', 'Eif2s3y', 'Erdr1',\n",
       "       'Uty', 'Ddx3y'],\n",
       "      dtype='object', name='index', length=13197)"
      ]
     },
     "execution_count": 23,
     "metadata": {},
     "output_type": "execute_result"
    }
   ],
   "source": [
    "ad.var_names"
   ]
  },
  {
   "cell_type": "code",
   "execution_count": 24,
   "metadata": {},
   "outputs": [
    {
     "data": {
      "text/plain": [
       "AnnData object with n_obs × n_vars = 2930 × 13197\n",
       "    obs: 'clusters', 'age(days)', 'clusters_enlarged', 'n_counts', 'velocity_self_transition'\n",
       "    var: 'gene_count_corr', 'velocity_gamma', 'velocity_qreg_ratio', 'velocity_r2', 'velocity_genes', 'chrom', 'pos', 'strand', 'tss_start', 'tss_end', 'chromosome_name', 'k'\n",
       "    uns: 'clusters_colors', 'clusters_enlarged_colors', 'neighbors', 'pca', 'velocity_graph', 'velocity_graph_neg', 'velocity_params'\n",
       "    obsm: 'X_pca', 'X_umap', 'velocity_umap'\n",
       "    varm: 'PCs'\n",
       "    layers: 'Ms', 'Mu', 'ambiguous', 'spliced', 'unspliced', 'variance_velocity', 'velocity'\n",
       "    obsp: 'connectivities', 'distances'"
      ]
     },
     "execution_count": 24,
     "metadata": {},
     "output_type": "execute_result"
    }
   ],
   "source": [
    "ad"
   ]
  },
  {
   "cell_type": "code",
   "execution_count": 25,
   "metadata": {},
   "outputs": [],
   "source": [
    "# if rapids is available, use it\n",
    "# import rapids_singlecell as rapids\n",
    "# rapids.pp.neighbors(rna)\n",
    "\n",
    "# if rapids is not avaible, default scanpy\n",
    "sc.pp.neighbors(rna)\n"
   ]
  },
  {
   "cell_type": "code",
   "execution_count": 26,
   "metadata": {},
   "outputs": [
    {
     "data": {
      "text/html": [
       "<div>\n",
       "<style scoped>\n",
       "    .dataframe tbody tr th:only-of-type {\n",
       "        vertical-align: middle;\n",
       "    }\n",
       "\n",
       "    .dataframe tbody tr th {\n",
       "        vertical-align: top;\n",
       "    }\n",
       "\n",
       "    .dataframe thead th {\n",
       "        text-align: right;\n",
       "    }\n",
       "</style>\n",
       "<table border=\"1\" class=\"dataframe\">\n",
       "  <thead>\n",
       "    <tr style=\"text-align: right;\">\n",
       "      <th></th>\n",
       "      <th>clusters</th>\n",
       "      <th>age(days)</th>\n",
       "      <th>clusters_enlarged</th>\n",
       "      <th>n_counts</th>\n",
       "      <th>velocity_self_transition</th>\n",
       "    </tr>\n",
       "    <tr>\n",
       "      <th>index</th>\n",
       "      <th></th>\n",
       "      <th></th>\n",
       "      <th></th>\n",
       "      <th></th>\n",
       "      <th></th>\n",
       "    </tr>\n",
       "  </thead>\n",
       "  <tbody>\n",
       "    <tr>\n",
       "      <th>AAACATACCCATGA</th>\n",
       "      <td>Granule immature</td>\n",
       "      <td>35</td>\n",
       "      <td>Granule-immature</td>\n",
       "      <td>2460.500000</td>\n",
       "      <td>0.051353</td>\n",
       "    </tr>\n",
       "    <tr>\n",
       "      <th>AAACATACCGTAGT</th>\n",
       "      <td>Radial Glia-like</td>\n",
       "      <td>12</td>\n",
       "      <td>Radial Glia-like</td>\n",
       "      <td>2460.499756</td>\n",
       "      <td>0.220968</td>\n",
       "    </tr>\n",
       "    <tr>\n",
       "      <th>AAACATACGAGAGC</th>\n",
       "      <td>Granule mature</td>\n",
       "      <td>35</td>\n",
       "      <td>Granule-mature</td>\n",
       "      <td>2460.499756</td>\n",
       "      <td>0.069691</td>\n",
       "    </tr>\n",
       "    <tr>\n",
       "      <th>AAACATACTGAGGG</th>\n",
       "      <td>Granule immature</td>\n",
       "      <td>12</td>\n",
       "      <td>Granule-immature</td>\n",
       "      <td>2460.500000</td>\n",
       "      <td>0.080728</td>\n",
       "    </tr>\n",
       "    <tr>\n",
       "      <th>AAACATTGGCATCA</th>\n",
       "      <td>Granule immature</td>\n",
       "      <td>35</td>\n",
       "      <td>Granule-immature</td>\n",
       "      <td>2460.500000</td>\n",
       "      <td>0.119560</td>\n",
       "    </tr>\n",
       "    <tr>\n",
       "      <th>...</th>\n",
       "      <td>...</td>\n",
       "      <td>...</td>\n",
       "      <td>...</td>\n",
       "      <td>...</td>\n",
       "      <td>...</td>\n",
       "    </tr>\n",
       "    <tr>\n",
       "      <th>TTTCTACTTCCCGT</th>\n",
       "      <td>Granule immature</td>\n",
       "      <td>35</td>\n",
       "      <td>Granule-immature</td>\n",
       "      <td>2460.500000</td>\n",
       "      <td>0.034482</td>\n",
       "    </tr>\n",
       "    <tr>\n",
       "      <th>TTTGACTGCCTGTC</th>\n",
       "      <td>Neuroblast</td>\n",
       "      <td>12</td>\n",
       "      <td>Neuroblast 2</td>\n",
       "      <td>2460.499756</td>\n",
       "      <td>0.131426</td>\n",
       "    </tr>\n",
       "    <tr>\n",
       "      <th>TTTGACTGTCTGGA</th>\n",
       "      <td>Granule mature</td>\n",
       "      <td>35</td>\n",
       "      <td>Granule-mature</td>\n",
       "      <td>2460.499756</td>\n",
       "      <td>0.100035</td>\n",
       "    </tr>\n",
       "    <tr>\n",
       "      <th>TTTGCATGGGAGTG</th>\n",
       "      <td>Microglia</td>\n",
       "      <td>35</td>\n",
       "      <td>Microglia</td>\n",
       "      <td>2460.500244</td>\n",
       "      <td>0.284692</td>\n",
       "    </tr>\n",
       "    <tr>\n",
       "      <th>TTTGCATGTTCTTG</th>\n",
       "      <td>Granule immature</td>\n",
       "      <td>35</td>\n",
       "      <td>Granule-immature</td>\n",
       "      <td>2460.499756</td>\n",
       "      <td>0.189407</td>\n",
       "    </tr>\n",
       "  </tbody>\n",
       "</table>\n",
       "<p>2930 rows × 5 columns</p>\n",
       "</div>"
      ],
      "text/plain": [
       "                        clusters age(days) clusters_enlarged     n_counts  \\\n",
       "index                                                                       \n",
       "AAACATACCCATGA  Granule immature        35  Granule-immature  2460.500000   \n",
       "AAACATACCGTAGT  Radial Glia-like        12  Radial Glia-like  2460.499756   \n",
       "AAACATACGAGAGC    Granule mature        35    Granule-mature  2460.499756   \n",
       "AAACATACTGAGGG  Granule immature        12  Granule-immature  2460.500000   \n",
       "AAACATTGGCATCA  Granule immature        35  Granule-immature  2460.500000   \n",
       "...                          ...       ...               ...          ...   \n",
       "TTTCTACTTCCCGT  Granule immature        35  Granule-immature  2460.500000   \n",
       "TTTGACTGCCTGTC        Neuroblast        12      Neuroblast 2  2460.499756   \n",
       "TTTGACTGTCTGGA    Granule mature        35    Granule-mature  2460.499756   \n",
       "TTTGCATGGGAGTG         Microglia        35         Microglia  2460.500244   \n",
       "TTTGCATGTTCTTG  Granule immature        35  Granule-immature  2460.499756   \n",
       "\n",
       "                velocity_self_transition  \n",
       "index                                     \n",
       "AAACATACCCATGA                  0.051353  \n",
       "AAACATACCGTAGT                  0.220968  \n",
       "AAACATACGAGAGC                  0.069691  \n",
       "AAACATACTGAGGG                  0.080728  \n",
       "AAACATTGGCATCA                  0.119560  \n",
       "...                                  ...  \n",
       "TTTCTACTTCCCGT                  0.034482  \n",
       "TTTGACTGCCTGTC                  0.131426  \n",
       "TTTGACTGTCTGGA                  0.100035  \n",
       "TTTGCATGGGAGTG                  0.284692  \n",
       "TTTGCATGTTCTTG                  0.189407  \n",
       "\n",
       "[2930 rows x 5 columns]"
      ]
     },
     "execution_count": 26,
     "metadata": {},
     "output_type": "execute_result"
    }
   ],
   "source": [
    "rna.obs"
   ]
  },
  {
   "cell_type": "code",
   "execution_count": 27,
   "metadata": {},
   "outputs": [
    {
     "data": {
      "image/png": "[encoded data removed]",
      "text/plain": [
       "<Figure size 500x500 with 1 Axes>"
      ]
     },
     "metadata": {},
     "output_type": "display_data"
    }
   ],
   "source": [
    "from matplotlib import rcParams\n",
    "rcParams['figure.figsize'] = 5, 5\n",
    "\n",
    "# RNA\n",
    "sc.pl.umap(rna, color='clusters')\n",
    "\n",
    "#ATAC\n",
    "# sc.pl.umap(atac, color='celltype')"
   ]
  },
  {
   "cell_type": "code",
   "execution_count": 28,
   "metadata": {},
   "outputs": [
    {
     "data": {
      "text/plain": [
       "AnnData object with n_obs × n_vars = 2930 × 13197\n",
       "    obs: 'clusters', 'age(days)', 'clusters_enlarged', 'n_counts', 'velocity_self_transition'\n",
       "    var: 'gene_count_corr', 'velocity_gamma', 'velocity_qreg_ratio', 'velocity_r2', 'velocity_genes', 'chrom', 'pos', 'strand', 'tss_start', 'tss_end', 'chromosome_name', 'k'\n",
       "    uns: 'clusters_colors', 'clusters_enlarged_colors', 'neighbors', 'pca', 'velocity_graph', 'velocity_graph_neg', 'velocity_params'\n",
       "    obsm: 'X_pca', 'X_umap', 'velocity_umap'\n",
       "    varm: 'PCs'\n",
       "    layers: 'Ms', 'Mu', 'ambiguous', 'spliced', 'unspliced', 'variance_velocity', 'velocity'\n",
       "    obsp: 'connectivities', 'distances'"
      ]
     },
     "execution_count": 28,
     "metadata": {},
     "output_type": "execute_result"
    }
   ],
   "source": [
    "rna"
   ]
  },
  {
   "cell_type": "code",
   "execution_count": 29,
   "metadata": {
    "collapsed": false,
    "pycharm": {
     "name": "#%%\n"
    }
   },
   "outputs": [],
   "source": [
    "# scv.pl.velocity_embedding_stream(rna, color='celltype')"
   ]
  },
  {
   "cell_type": "code",
   "execution_count": null,
   "metadata": {},
   "outputs": [],
   "source": []
  },
  {
   "cell_type": "code",
   "execution_count": 30,
   "metadata": {
    "collapsed": false,
    "pycharm": {
     "name": "#%%\n"
    }
   },
   "outputs": [
    {
     "data": {
      "text/plain": [
       "(array([  62.,   63.,   64.,   50.,   45.,   61.,   62.,   49.,   77.,\n",
       "          82.,   85.,   84.,   73.,   98.,   94.,  126.,  124.,  134.,\n",
       "         142.,  126.,  150.,  184.,  218.,  219.,  299.,  330.,  395.,\n",
       "         437.,  482.,  611.,  719.,  937., 1106., 1581., 3828.]),\n",
       " array([0.00068259, 0.01494881, 0.02921502, 0.04348123, 0.05774744,\n",
       "        0.07201365, 0.08627986, 0.10054608, 0.11481229, 0.1290785 ,\n",
       "        0.14334471, 0.15761092, 0.17187713, 0.18614334, 0.20040956,\n",
       "        0.21467577, 0.22894198, 0.24320819, 0.2574744 , 0.27174061,\n",
       "        0.28600683, 0.30027304, 0.31453925, 0.32880546, 0.34307167,\n",
       "        0.35733788, 0.3716041 , 0.38587031, 0.40013652, 0.41440273,\n",
       "        0.42866894, 0.44293515, 0.45720137, 0.47146758, 0.48573379,\n",
       "        0.5       ]),\n",
       " <BarContainer object of 35 artists>)"
      ]
     },
     "execution_count": 30,
     "metadata": {},
     "output_type": "execute_result"
    },
    {
     "data": {
      "image/png": "[encoded data removed]",
      "text/plain": [
       "<Figure size 500x500 with 1 Axes>"
      ]
     },
     "metadata": {},
     "output_type": "display_data"
    }
   ],
   "source": [
    "acc = (rna.X != 0).sum(axis=0) / rna.shape[0]\n",
    "acc_score = abs(.5 - acc)\n",
    "rna.var['acc_score'] = acc_score.A.T\n",
    "rna.var['acc_score_rank'] = rna.var['acc_score'].rank(ascending=False)\n",
    "plt.hist(rna.var['acc_score'], bins=35)\n",
    "# var_sample = atac.var.sort_values('acc_score_rank').index[:n_sample_peaks]\n"
   ]
  },
  {
   "cell_type": "code",
   "execution_count": 31,
   "metadata": {
    "collapsed": false,
    "pycharm": {
     "name": "#%%\n"
    }
   },
   "outputs": [],
   "source": [
    "# n_sample_cells = 750\n",
    "# n_sample_peaks = 1500"
   ]
  },
  {
   "cell_type": "code",
   "execution_count": 32,
   "metadata": {},
   "outputs": [],
   "source": [
    "n_cell_types = len(set(rna.obs['clusters']))"
   ]
  },
  {
   "cell_type": "code",
   "execution_count": 33,
   "metadata": {},
   "outputs": [
    {
     "data": {
      "text/plain": [
       "14"
      ]
     },
     "execution_count": 33,
     "metadata": {},
     "output_type": "execute_result"
    }
   ],
   "source": [
    "n_cell_types"
   ]
  },
  {
   "cell_type": "code",
   "execution_count": 34,
   "metadata": {},
   "outputs": [
    {
     "data": {
      "text/plain": [
       "(2930, 13197)"
      ]
     },
     "execution_count": 34,
     "metadata": {},
     "output_type": "execute_result"
    }
   ],
   "source": [
    "rna.shape"
   ]
  },
  {
   "cell_type": "code",
   "execution_count": 35,
   "metadata": {},
   "outputs": [
    {
     "data": {
      "text/plain": [
       "clusters\n",
       "Granule mature      1070\n",
       "Granule immature     785\n",
       "Neuroblast           417\n",
       "Astrocytes           120\n",
       "Endothelial           87\n",
       "Microglia             81\n",
       "Mossy                 75\n",
       "GABA                  61\n",
       "OPC                   53\n",
       "Radial Glia-like      51\n",
       "OL                    50\n",
       "Cajal Retzius         34\n",
       "Cck-Tox               27\n",
       "nIPC                  19\n",
       "Name: count, dtype: int64"
      ]
     },
     "execution_count": 35,
     "metadata": {},
     "output_type": "execute_result"
    }
   ],
   "source": [
    "rna.obs['clusters'].value_counts()"
   ]
  },
  {
   "cell_type": "code",
   "execution_count": 36,
   "metadata": {},
   "outputs": [
    {
     "data": {
      "text/plain": [
       "(2930, 13197)"
      ]
     },
     "execution_count": 36,
     "metadata": {},
     "output_type": "execute_result"
    }
   ],
   "source": [
    "rna.shape"
   ]
  },
  {
   "cell_type": "code",
   "execution_count": null,
   "metadata": {},
   "outputs": [],
   "source": []
  },
  {
   "cell_type": "code",
   "execution_count": null,
   "metadata": {},
   "outputs": [],
   "source": []
  },
  {
   "cell_type": "code",
   "execution_count": 37,
   "metadata": {},
   "outputs": [
    {
     "data": {
      "text/plain": [
       "((2930, 13197), (2930, 13197))"
      ]
     },
     "execution_count": 37,
     "metadata": {},
     "output_type": "execute_result"
    }
   ],
   "source": [
    " # int(n_sample_cells * 1.5)\n",
    "n_select = 50000\n",
    "n_sample_cells = n_select\n",
    "n_sample_peaks = rna.shape[1]\n",
    "# n_select =  int(n_sample_cells / n_cell_types) # bug if > 20\n",
    "obs_sample = rna.obs.groupby('clusters').sample(n_select, random_state=n_sample_cells, replace=True).index.drop_duplicates()\n",
    "var_sample = pd.Series(rna.var_names).sample(n_sample_peaks, random_state=n_sample_peaks)\n",
    "# var_sample = atac.var.sort_values('acc_score_rank').index[:n_sample_peaks]\n",
    "\n",
    "ad = rna[rna.obs_names.isin(obs_sample),rna.var_names.isin(var_sample)].copy()\n",
    "rna.shape, ad.shape"
   ]
  },
  {
   "cell_type": "code",
   "execution_count": 38,
   "metadata": {},
   "outputs": [
    {
     "data": {
      "text/plain": [
       "13197"
      ]
     },
     "execution_count": 38,
     "metadata": {},
     "output_type": "execute_result"
    }
   ],
   "source": [
    "n_sample_peaks"
   ]
  },
  {
   "cell_type": "code",
   "execution_count": 39,
   "metadata": {},
   "outputs": [
    {
     "data": {
      "text/plain": [
       "clusters\n",
       "Granule mature      1070\n",
       "Granule immature     785\n",
       "Neuroblast           417\n",
       "Astrocytes           120\n",
       "Endothelial           87\n",
       "Microglia             81\n",
       "Mossy                 75\n",
       "GABA                  61\n",
       "OPC                   53\n",
       "Radial Glia-like      51\n",
       "OL                    50\n",
       "Cajal Retzius         34\n",
       "Cck-Tox               27\n",
       "nIPC                  19\n",
       "Name: count, dtype: int64"
      ]
     },
     "execution_count": 39,
     "metadata": {},
     "output_type": "execute_result"
    }
   ],
   "source": [
    "ad.obs['clusters'].value_counts()"
   ]
  },
  {
   "cell_type": "code",
   "execution_count": 40,
   "metadata": {},
   "outputs": [],
   "source": [
    "\n",
    "# ad.uns['velocity_graph'] = rna_sample.uns['velocity_graph']\n",
    "# # ad.layers['velocity'] = rna_sample.layers['velocity']\n",
    "# ad.uns['velocity_graph'].shape\n",
    "\n"
   ]
  },
  {
   "cell_type": "code",
   "execution_count": 41,
   "metadata": {},
   "outputs": [
    {
     "data": {
      "text/plain": [
       "(2930, 2930)"
      ]
     },
     "execution_count": 41,
     "metadata": {},
     "output_type": "execute_result"
    }
   ],
   "source": [
    "\n",
    "rna_sample = rna[ad.obs_names]\n",
    "\n",
    "mask = rna.obs_names.isin(rna_sample.obs_names)\n",
    "\n",
    "# local one step transposition to finalize processing\n",
    "vgraph = rna.uns['velocity_graph']\n",
    "vgraph = vgraph[mask == 1]\n",
    "vgraph = vgraph.T\n",
    "vgraph = vgraph[mask == 1]\n",
    "vgraph = vgraph.T\n",
    "vgraph.shape"
   ]
  },
  {
   "cell_type": "code",
   "execution_count": 42,
   "metadata": {},
   "outputs": [],
   "source": [
    "# pip install scvelo"
   ]
  },
  {
   "cell_type": "code",
   "execution_count": 43,
   "metadata": {},
   "outputs": [],
   "source": [
    "# the scvelo package is a condition to explore the vector stream visualization. Not priority\n",
    "import scvelo as scv"
   ]
  },
  {
   "cell_type": "code",
   "execution_count": 44,
   "metadata": {},
   "outputs": [
    {
     "data": {
      "image/png": "[encoded data removed]",
      "text/plain": [
       "<Figure size 500x500 with 1 Axes>"
      ]
     },
     "metadata": {},
     "output_type": "display_data"
    },
    {
     "data": {
      "image/png": "[encoded data removed]",
      "text/plain": [
       "<Figure size 500x500 with 1 Axes>"
      ]
     },
     "metadata": {},
     "output_type": "display_data"
    },
    {
     "data": {
      "image/png": "[encoded data removed]",
      "text/plain": [
       "<Figure size 500x500 with 1 Axes>"
      ]
     },
     "metadata": {},
     "output_type": "display_data"
    }
   ],
   "source": [
    "\n",
    "rna_sample.uns['velocity_graph'] = vgraph\n",
    "try:\n",
    "# atac\n",
    "    sc.pl.umap(ad)\n",
    "\n",
    "    # rna\n",
    "    # append the estimated velocities to the sample adata\n",
    "    scv.pl.velocity_embedding_stream(rna_sample)\n",
    "\n",
    "    scv.pl.velocity_embedding_stream(rna_sample)\n",
    "    rna_sample.shape\n",
    "except Exception:\n",
    "    print('sample too small to plot graph')\n"
   ]
  },
  {
   "cell_type": "code",
   "execution_count": 45,
   "metadata": {
    "collapsed": false,
    "pycharm": {
     "name": "#%%\n"
    }
   },
   "outputs": [],
   "source": [
    "# ad.var['chr'] = 'chr' + ad.var_names.str.split('-').str[0]\n",
    "# ad.var['start'] = ad.var_names.str.split('-').str[1].astype(int)\n",
    "# ad.var['end'] = ad.var_names.str.split('-').str[2].astype(int)\n",
    "\n",
    "# print('features by chromosome')\n",
    "# extend = 50\n",
    "# ad.var['chr'].value_counts()"
   ]
  },
  {
   "cell_type": "code",
   "execution_count": 46,
   "metadata": {
    "collapsed": false,
    "pycharm": {
     "name": "#%%\n"
    }
   },
   "outputs": [],
   "source": [
    "# ad.var['summit'] = ((ad.var['end'] + ad.var['start']) / 2).astype(int)\n",
    "# ad.var['summit.start'] = ad.var['summit'] - extend\n",
    "# ad.var['summit.end'] = ad.var['summit'] + extend\n",
    "# ad.var['k.summit'] = ad.var['chr'] + ':' + ad.var['summit.start'].astype(str) + '-' + ad.var['summit.end'].astype(str)\n",
    "ad.var['chr'] = ad.var['chrom'].astype(str)\n",
    "ad.var['summit.start'] = ad.var['tss_start'].astype(str)\n",
    "ad.var['summit.end'] = ad.var['tss_end'].astype(str)\n",
    "ad.var['k.summit'] = ad.var['chr'] + ':' + ad.var['summit.start'].astype(str) + '-' + ad.var['summit.end'].astype(str)"
   ]
  },
  {
   "cell_type": "code",
   "execution_count": 47,
   "metadata": {},
   "outputs": [],
   "source": [
    "# remove chromosome duplicates\n",
    "dups = (ad.var['k.summit'].value_counts() > 1)\n",
    "dups = dups[dups].index\n",
    "ad = ad[:,~ad.var['k.summit'].isin(dups)]"
   ]
  },
  {
   "cell_type": "code",
   "execution_count": 48,
   "metadata": {
    "collapsed": false,
    "pycharm": {
     "name": "#%%\n"
    }
   },
   "outputs": [
    {
     "name": "stdout",
     "output_type": "stream",
     "text": [
      "/tmp/tmptqn6eira\n",
      "genome mm10 True\n",
      "annotations/mm10/genome/mm10.fa\n",
      "True annotations/mm10/genome/mm10.fa\n",
      "running bedtools...\n",
      "['/home/ilibarra/miniconda3/envs/mubind/bin/bedtools', 'getfasta', '-fi', 'annotations/mm10/genome/mm10.fa', '-bed', '/tmp/tmptqn6eira', '-fo', '/tmp/tmpre5_lrwb']\n",
      "/home/ilibarra/miniconda3/envs/mubind/bin/bedtools getfasta -fi annotations/mm10/genome/mm10.fa -bed /tmp/tmptqn6eira -fo /tmp/tmpre5_lrwb\n"
     ]
    },
    {
     "data": {
      "text/plain": [
       "13187"
      ]
     },
     "execution_count": 48,
     "metadata": {},
     "output_type": "execute_result"
    }
   ],
   "source": [
    "n_seqs = ad.shape[1] # None # 1000\n",
    "seqs = mb.bindome.tl.get_sequences_from_bed(ad.var[['chr', 'summit.start', 'summit.end']].head(n_seqs), genome='mm10', uppercase=True,\n",
    "                                            gen_path='annotations/mm10/genome/mm10.fa',\n",
    "                                            bin='/home/ilibarra/miniconda3/envs/mubind/bin/bedtools')\n",
    "                                            # bin='/home/ilibarra/.conda/envs/mubind/bin/bedtools')\n",
    "                                            # gen_path='../../../annotations/hg38/genome/hg38.fa')\n",
    "\n",
    "keys = set([s[0] for s in seqs])\n",
    "ad = ad[:,ad.var['k.summit'].isin(keys)]\n",
    "# seqs = [[s[0], s[1].upper()] for s in seqs[0]]\n",
    "len(seqs)"
   ]
  },
  {
   "cell_type": "code",
   "execution_count": 49,
   "metadata": {
    "collapsed": false,
    "pycharm": {
     "name": "#%%\n"
    }
   },
   "outputs": [],
   "source": [
    "# remove Ns\n",
    "for s in seqs:\n",
    "    if 'N' in s:\n",
    "        assert False\n",
    "    # seqs = [[s[0], s[1].replace('N', '')] for s in seqs]\n",
    "counts = ad.X.T"
   ]
  },
  {
   "cell_type": "code",
   "execution_count": 50,
   "metadata": {},
   "outputs": [
    {
     "data": {
      "text/plain": [
       "((2930, 13187), (13187, 2930))"
      ]
     },
     "execution_count": 50,
     "metadata": {},
     "output_type": "execute_result"
    }
   ],
   "source": [
    "ad.shape, counts.shape"
   ]
  },
  {
   "cell_type": "code",
   "execution_count": 51,
   "metadata": {
    "collapsed": false,
    "pycharm": {
     "name": "#%%\n"
    }
   },
   "outputs": [],
   "source": [
    "next_data = pd.DataFrame(counts.A) # sparse.from_spmatrix(counts.A)"
   ]
  },
  {
   "cell_type": "code",
   "execution_count": 52,
   "metadata": {},
   "outputs": [
    {
     "data": {
      "text/plain": [
       "((13187, 2930), (13187, 2930))"
      ]
     },
     "execution_count": 52,
     "metadata": {},
     "output_type": "execute_result"
    }
   ],
   "source": [
    "counts.shape, next_data.shape"
   ]
  },
  {
   "cell_type": "code",
   "execution_count": 53,
   "metadata": {
    "collapsed": false,
    "pycharm": {
     "name": "#%%\n"
    }
   },
   "outputs": [],
   "source": [
    "next_data['var'] = next_data.var(axis=1)\n",
    "# next_data = next_data[range(100)].copy()"
   ]
  },
  {
   "cell_type": "code",
   "execution_count": 54,
   "metadata": {},
   "outputs": [
    {
     "data": {
      "text/plain": [
       "((13187, 2931), (2930, 13187))"
      ]
     },
     "execution_count": 54,
     "metadata": {},
     "output_type": "execute_result"
    }
   ],
   "source": [
    "next_data.shape, ad.shape"
   ]
  },
  {
   "cell_type": "code",
   "execution_count": 55,
   "metadata": {
    "collapsed": false,
    "pycharm": {
     "name": "#%%\n"
    }
   },
   "outputs": [
    {
     "data": {
      "text/plain": [
       "(13187, 2931)"
      ]
     },
     "execution_count": 55,
     "metadata": {},
     "output_type": "execute_result"
    }
   ],
   "source": [
    "next_data.index = [s[1] for s in seqs]\n",
    "next_data.index.name = 'seq'\n",
    "next_data.shape"
   ]
  },
  {
   "cell_type": "code",
   "execution_count": 56,
   "metadata": {},
   "outputs": [
    {
     "data": {
      "text/plain": [
       "(13184, 2931)"
      ]
     },
     "execution_count": 56,
     "metadata": {},
     "output_type": "execute_result"
    }
   ],
   "source": [
    "next_data = next_data[~next_data.index.str.contains('N')]\n",
    "next_data.shape"
   ]
  },
  {
   "cell_type": "code",
   "execution_count": 57,
   "metadata": {
    "collapsed": false,
    "pycharm": {
     "name": "#%%\n"
    }
   },
   "outputs": [],
   "source": [
    "# sum_index = next_data[next_data.columns[:-1]].var(axis=1).sort_values(ascending=False).index"
   ]
  },
  {
   "cell_type": "code",
   "execution_count": 58,
   "metadata": {
    "collapsed": false,
    "pycharm": {
     "name": "#%%\n"
    }
   },
   "outputs": [],
   "source": [
    "n_cells = ad.shape[0] # next_data.shape[1]\n",
    "top_var = next_data[['var']].sort_values('var', ascending=False).index[:n_cells]"
   ]
  },
  {
   "cell_type": "code",
   "execution_count": 59,
   "metadata": {},
   "outputs": [
    {
     "data": {
      "text/plain": [
       "(13184, 2931)"
      ]
     },
     "execution_count": 59,
     "metadata": {},
     "output_type": "execute_result"
    }
   ],
   "source": [
    "next_data.shape"
   ]
  },
  {
   "cell_type": "code",
   "execution_count": 60,
   "metadata": {},
   "outputs": [
    {
     "data": {
      "text/plain": [
       "2930"
      ]
     },
     "execution_count": 60,
     "metadata": {},
     "output_type": "execute_result"
    }
   ],
   "source": [
    "n_cells"
   ]
  },
  {
   "cell_type": "code",
   "execution_count": 61,
   "metadata": {},
   "outputs": [
    {
     "data": {
      "text/plain": [
       "(2930, 13187)"
      ]
     },
     "execution_count": 61,
     "metadata": {},
     "output_type": "execute_result"
    }
   ],
   "source": [
    "ad.shape"
   ]
  },
  {
   "cell_type": "code",
   "execution_count": 62,
   "metadata": {},
   "outputs": [],
   "source": [
    "# next_data.index"
   ]
  },
  {
   "cell_type": "code",
   "execution_count": 63,
   "metadata": {},
   "outputs": [
    {
     "data": {
      "text/plain": [
       "(2930, 13187)"
      ]
     },
     "execution_count": 63,
     "metadata": {},
     "output_type": "execute_result"
    }
   ],
   "source": [
    "ad.shape"
   ]
  },
  {
   "cell_type": "code",
   "execution_count": 64,
   "metadata": {},
   "outputs": [],
   "source": [
    "next_data = next_data[~next_data.index.duplicated(keep='first')]"
   ]
  },
  {
   "cell_type": "code",
   "execution_count": 65,
   "metadata": {
    "collapsed": false,
    "pycharm": {
     "name": "#%%\n"
    }
   },
   "outputs": [
    {
     "data": {
      "text/plain": [
       "(2930, 2931)"
      ]
     },
     "execution_count": 65,
     "metadata": {},
     "output_type": "execute_result"
    }
   ],
   "source": [
    "# next_data = next_data.head(10000)\n",
    "next_data_sel = next_data.reindex(top_var) # .reset_index(drop=True)\n",
    "next_data_sel.shape"
   ]
  },
  {
   "cell_type": "code",
   "execution_count": 66,
   "metadata": {},
   "outputs": [
    {
     "data": {
      "text/html": [
       "<div>\n",
       "<style scoped>\n",
       "    .dataframe tbody tr th:only-of-type {\n",
       "        vertical-align: middle;\n",
       "    }\n",
       "\n",
       "    .dataframe tbody tr th {\n",
       "        vertical-align: top;\n",
       "    }\n",
       "\n",
       "    .dataframe thead th {\n",
       "        text-align: right;\n",
       "    }\n",
       "</style>\n",
       "<table border=\"1\" class=\"dataframe\">\n",
       "  <thead>\n",
       "    <tr style=\"text-align: right;\">\n",
       "      <th></th>\n",
       "      <th>0</th>\n",
       "      <th>1</th>\n",
       "      <th>2</th>\n",
       "      <th>3</th>\n",
       "      <th>4</th>\n",
       "      <th>5</th>\n",
       "      <th>6</th>\n",
       "      <th>7</th>\n",
       "      <th>8</th>\n",
       "      <th>9</th>\n",
       "      <th>...</th>\n",
       "      <th>2921</th>\n",
       "      <th>2922</th>\n",
       "      <th>2923</th>\n",
       "      <th>2924</th>\n",
       "      <th>2925</th>\n",
       "      <th>2926</th>\n",
       "      <th>2927</th>\n",
       "      <th>2928</th>\n",
       "      <th>2929</th>\n",
       "      <th>var</th>\n",
       "    </tr>\n",
       "    <tr>\n",
       "      <th>seq</th>\n",
       "      <th></th>\n",
       "      <th></th>\n",
       "      <th></th>\n",
       "      <th></th>\n",
       "      <th></th>\n",
       "      <th></th>\n",
       "      <th></th>\n",
       "      <th></th>\n",
       "      <th></th>\n",
       "      <th></th>\n",
       "      <th></th>\n",
       "      <th></th>\n",
       "      <th></th>\n",
       "      <th></th>\n",
       "      <th></th>\n",
       "      <th></th>\n",
       "      <th></th>\n",
       "      <th></th>\n",
       "      <th></th>\n",
       "      <th></th>\n",
       "      <th></th>\n",
       "    </tr>\n",
       "  </thead>\n",
       "  <tbody>\n",
       "    <tr>\n",
       "      <th>ACGCAGAGCCCGGAGCGCCGGTATTTATTGCAAAGGGACACGTCACTCCACCGGAACCTAGTAACCCTCCACCACCTTGGTGAAGGAAGAAAAATAGTTCCTCAGAGAGTTAAAAATAGATCCTGACTTCCAAGTTTCTAGATTTTTCTTGACGTCGTGTGGGCCTCTTGGACCTTGCTAATACAGAGAAATGTTTAGCTTGTACCAGCTAAATAGGTACAAATAGGTTTAAAATTTCTGGTCACAAGGA</th>\n",
       "      <td>192.896332</td>\n",
       "      <td>146.569702</td>\n",
       "      <td>176.720993</td>\n",
       "      <td>74.879700</td>\n",
       "      <td>212.214920</td>\n",
       "      <td>34.730770</td>\n",
       "      <td>103.064430</td>\n",
       "      <td>63.729908</td>\n",
       "      <td>27.008781</td>\n",
       "      <td>207.418335</td>\n",
       "      <td>...</td>\n",
       "      <td>330.720581</td>\n",
       "      <td>143.385773</td>\n",
       "      <td>152.479034</td>\n",
       "      <td>17.642859</td>\n",
       "      <td>101.004532</td>\n",
       "      <td>94.754105</td>\n",
       "      <td>160.864792</td>\n",
       "      <td>93.063194</td>\n",
       "      <td>78.259262</td>\n",
       "      <td>6649.693359</td>\n",
       "    </tr>\n",
       "    <tr>\n",
       "      <th>GCGGCCACCCTCCCTTTTCCGTCTGCCCCCTAGCGGGCCCCGCCTCCTCTTCCGAACGGCCCCGCCCTCCCTCTGCTTCAGTCAGCTGCTAGTCTGTTCTTGCCTTGTAGGTCAGATACCTCTTAAAGAGCTGCCAGATTCCCATTCCCTGCTGAGCCTCCCCTCCCCCATCCCTGCCCCGCCTCTCCCTTCCTTCTTCACTCTTAGCTTTCTGTTCTTACCAGTTCCTCTTCTGTGCCCTTTTCCACAG</th>\n",
       "      <td>0.857317</td>\n",
       "      <td>43.659061</td>\n",
       "      <td>0.000000</td>\n",
       "      <td>0.584998</td>\n",
       "      <td>0.000000</td>\n",
       "      <td>0.538462</td>\n",
       "      <td>0.000000</td>\n",
       "      <td>0.657009</td>\n",
       "      <td>44.564491</td>\n",
       "      <td>0.000000</td>\n",
       "      <td>...</td>\n",
       "      <td>1.531114</td>\n",
       "      <td>0.000000</td>\n",
       "      <td>0.947075</td>\n",
       "      <td>4.071429</td>\n",
       "      <td>1.485361</td>\n",
       "      <td>1.553346</td>\n",
       "      <td>0.000000</td>\n",
       "      <td>295.078430</td>\n",
       "      <td>0.000000</td>\n",
       "      <td>1339.492188</td>\n",
       "    </tr>\n",
       "    <tr>\n",
       "      <th>ATCATCCTCATCGGTACCCTCTGTGCCCATCTGGGACCCAGATGCCTCTGCAGTACGGCTAGATCCAACTACGCCCGCCCCGGGCCACAGAAACAGCGCGCTTGTTGCCAGGCACCGCTCTTGCAGAAGCTCAGAGCCCCTTGCGTCGCCTCACACTCACACAGGCTCCTCCCCGCCCGCGCCCTGCGGGTTTGGGCAACACGCCCACAGGAAGAGGCGGGGCGGCGCGGCCCGCTGCGCTGATTGGCCA</th>\n",
       "      <td>32.578049</td>\n",
       "      <td>8.316011</td>\n",
       "      <td>36.250458</td>\n",
       "      <td>31.589874</td>\n",
       "      <td>32.386211</td>\n",
       "      <td>15.615385</td>\n",
       "      <td>43.052227</td>\n",
       "      <td>29.565422</td>\n",
       "      <td>13.504391</td>\n",
       "      <td>50.558216</td>\n",
       "      <td>...</td>\n",
       "      <td>26.028936</td>\n",
       "      <td>54.486595</td>\n",
       "      <td>33.147614</td>\n",
       "      <td>8.142858</td>\n",
       "      <td>35.648659</td>\n",
       "      <td>20.193497</td>\n",
       "      <td>34.122833</td>\n",
       "      <td>4.539668</td>\n",
       "      <td>51.694191</td>\n",
       "      <td>370.427185</td>\n",
       "    </tr>\n",
       "    <tr>\n",
       "      <th>ACCCCTCCATTTAATTTACACCCCTAATTCACACTTCCTGATTTATTTAAAGCAAAATGAAATTCTAGAGAAGCTTTAGGGGGGAAAAGAGAGAGAAAGAAAAAAAACAATTGGGAGTGAAAAGGCATAAAGAGAAGATGGAGCCCTTAAAGAAGGGAGTATCCCAAAGGAGGTGGGGACAAGGGGAGGAGAAGGGGAGGAGGAGAGGAGGAGGGAAACGAGCCTGTCTCTTTAAGGGGGTTGGCTGTCA</th>\n",
       "      <td>0.000000</td>\n",
       "      <td>0.000000</td>\n",
       "      <td>0.000000</td>\n",
       "      <td>0.000000</td>\n",
       "      <td>0.000000</td>\n",
       "      <td>0.000000</td>\n",
       "      <td>0.000000</td>\n",
       "      <td>0.000000</td>\n",
       "      <td>0.000000</td>\n",
       "      <td>0.000000</td>\n",
       "      <td>...</td>\n",
       "      <td>0.000000</td>\n",
       "      <td>0.000000</td>\n",
       "      <td>0.000000</td>\n",
       "      <td>0.000000</td>\n",
       "      <td>0.000000</td>\n",
       "      <td>0.000000</td>\n",
       "      <td>0.000000</td>\n",
       "      <td>0.000000</td>\n",
       "      <td>0.000000</td>\n",
       "      <td>360.813110</td>\n",
       "    </tr>\n",
       "    <tr>\n",
       "      <th>AGAGGGCACTGTGGAGACCCCCTATTTATGAGTCAGGCTTGGCCTCCACCCAAAGCCCAAGGACTGCCCACTGAAGGCTCGTGATGTTGGTGTGAGGGAGGGTGGCTGTCCCAGCTGCAGCCTCATCTGCTAATTATGTAAGAGGTTCCAGCTGAGCCCCACACCTCCTAGAAGAAGAAACCTCTGCCTGCCCCCATCCCCAGCTCCAGAGGCAGAACTGGCTCAGACCTTGCCCACTCCTGCCGGCAAA</th>\n",
       "      <td>0.000000</td>\n",
       "      <td>0.000000</td>\n",
       "      <td>0.000000</td>\n",
       "      <td>0.000000</td>\n",
       "      <td>0.000000</td>\n",
       "      <td>0.000000</td>\n",
       "      <td>0.000000</td>\n",
       "      <td>0.000000</td>\n",
       "      <td>0.000000</td>\n",
       "      <td>0.000000</td>\n",
       "      <td>...</td>\n",
       "      <td>0.000000</td>\n",
       "      <td>0.000000</td>\n",
       "      <td>0.000000</td>\n",
       "      <td>0.000000</td>\n",
       "      <td>0.000000</td>\n",
       "      <td>0.000000</td>\n",
       "      <td>0.000000</td>\n",
       "      <td>0.000000</td>\n",
       "      <td>0.000000</td>\n",
       "      <td>217.319138</td>\n",
       "    </tr>\n",
       "    <tr>\n",
       "      <th>...</th>\n",
       "      <td>...</td>\n",
       "      <td>...</td>\n",
       "      <td>...</td>\n",
       "      <td>...</td>\n",
       "      <td>...</td>\n",
       "      <td>...</td>\n",
       "      <td>...</td>\n",
       "      <td>...</td>\n",
       "      <td>...</td>\n",
       "      <td>...</td>\n",
       "      <td>...</td>\n",
       "      <td>...</td>\n",
       "      <td>...</td>\n",
       "      <td>...</td>\n",
       "      <td>...</td>\n",
       "      <td>...</td>\n",
       "      <td>...</td>\n",
       "      <td>...</td>\n",
       "      <td>...</td>\n",
       "      <td>...</td>\n",
       "      <td>...</td>\n",
       "    </tr>\n",
       "    <tr>\n",
       "      <th>TCCCGGGCCCGCGCCGCGCGCCCCCGCCTGCGCCGCCGCGCCCGCGCCACGCCGCGCGCCCCCGCGCCAGCTCTCTCTCGCGCTCTCTCTCTCCAGCTCGCTCTGTCTCTCTGTCTCTCTCCCCTTTCTTTCTCTGTCTCTCTCCTCTCTCTGTCTGTCTCTCTCTCTCTGTGTCTCTCCCCCCTCTCTTTCTCTGTCTCTCTCTCTCCTCTCTCTGTGTCTCTCTGTCTGTCTGTCTCTCTCTCTGTGT</th>\n",
       "      <td>0.857317</td>\n",
       "      <td>0.000000</td>\n",
       "      <td>0.000000</td>\n",
       "      <td>0.000000</td>\n",
       "      <td>0.000000</td>\n",
       "      <td>0.000000</td>\n",
       "      <td>1.304613</td>\n",
       "      <td>0.000000</td>\n",
       "      <td>0.000000</td>\n",
       "      <td>0.000000</td>\n",
       "      <td>...</td>\n",
       "      <td>0.000000</td>\n",
       "      <td>7.169289</td>\n",
       "      <td>0.000000</td>\n",
       "      <td>0.000000</td>\n",
       "      <td>0.742680</td>\n",
       "      <td>0.000000</td>\n",
       "      <td>0.000000</td>\n",
       "      <td>0.000000</td>\n",
       "      <td>0.000000</td>\n",
       "      <td>0.214795</td>\n",
       "    </tr>\n",
       "    <tr>\n",
       "      <th>TCCAGGGCTTTGACTTGCCGCACTCGGTGACCGGCCTGCAGTCCTCGGCGGAGCCGCGCGGGGGCGCTGCGGGGAGGCCTCGGCTTTCCTGCCGTGGCGGGGCACGGCCAGGCGGGGGCGCTGCGGGCGGCGGGCGAGGGCTAGGCCGGCCTCTCCTGCGGGGCCGGCTGGGGCGGGGCGCGGCGCCGCACCGCGCTTCCGCAAGTGTGGAGCTGCGGGATGGCTACGCTGCTACTGCAGCTGCTGGGGC</th>\n",
       "      <td>0.000000</td>\n",
       "      <td>0.000000</td>\n",
       "      <td>0.000000</td>\n",
       "      <td>0.000000</td>\n",
       "      <td>0.852269</td>\n",
       "      <td>0.000000</td>\n",
       "      <td>0.000000</td>\n",
       "      <td>0.000000</td>\n",
       "      <td>1.350439</td>\n",
       "      <td>0.000000</td>\n",
       "      <td>...</td>\n",
       "      <td>0.000000</td>\n",
       "      <td>0.000000</td>\n",
       "      <td>0.000000</td>\n",
       "      <td>2.714286</td>\n",
       "      <td>0.000000</td>\n",
       "      <td>0.000000</td>\n",
       "      <td>0.000000</td>\n",
       "      <td>0.000000</td>\n",
       "      <td>0.000000</td>\n",
       "      <td>0.214610</td>\n",
       "    </tr>\n",
       "    <tr>\n",
       "      <th>TCCCGCTCTAAAAGCGCAAGCCCACGTGGGGGCGGGGCGGCTCACCCGGAAGCGGCTCCCGTACCGCCCGCCCCTCCGGGAATGCAGCTTACGCTCCCTTCGGGGCAGTCTCCGGATCACTGGTCAGCTCGCGCGGCCAGATCCACGCTGAGCGGGGCTGGAATCTTGGCCAATCCAGAGTTGCCCGAGAGCCCGCCCGTCTCCCCGCCCCCCAGCTCGGGTCTCACTTGAGGTGGGAAGGCCCGAGGGG</th>\n",
       "      <td>0.857317</td>\n",
       "      <td>0.000000</td>\n",
       "      <td>1.510436</td>\n",
       "      <td>0.584998</td>\n",
       "      <td>0.000000</td>\n",
       "      <td>0.269231</td>\n",
       "      <td>0.000000</td>\n",
       "      <td>0.000000</td>\n",
       "      <td>0.000000</td>\n",
       "      <td>0.000000</td>\n",
       "      <td>...</td>\n",
       "      <td>0.000000</td>\n",
       "      <td>1.433858</td>\n",
       "      <td>0.000000</td>\n",
       "      <td>0.000000</td>\n",
       "      <td>0.000000</td>\n",
       "      <td>0.000000</td>\n",
       "      <td>0.000000</td>\n",
       "      <td>0.000000</td>\n",
       "      <td>0.000000</td>\n",
       "      <td>0.214427</td>\n",
       "    </tr>\n",
       "    <tr>\n",
       "      <th>GGAGAGGCCCTCTGCGCCCTAGCGCGAAGGCCGCGCGCCTGGCTCGCACCCAGGACGTCCACGCTCCCTAGGGATCGGCCCGCGGCAGCGACCTGAGGAGCAGCGCAGGGCAGTGACGTCACCGCCGCCCCTCCCCCGCCCAAGCCGCAGTTCCGGCCCTCCCACATCCGGGTCTCTCCAGCCCATGGGCCGCGCCGCAGCTGCAGGGCCGGGGGTGGGGGAAACGGCGGCGCGGGGCGGGGCGGGGCCG</th>\n",
       "      <td>0.000000</td>\n",
       "      <td>0.000000</td>\n",
       "      <td>0.000000</td>\n",
       "      <td>0.000000</td>\n",
       "      <td>0.000000</td>\n",
       "      <td>0.000000</td>\n",
       "      <td>0.000000</td>\n",
       "      <td>0.000000</td>\n",
       "      <td>0.000000</td>\n",
       "      <td>0.000000</td>\n",
       "      <td>...</td>\n",
       "      <td>0.000000</td>\n",
       "      <td>0.000000</td>\n",
       "      <td>0.000000</td>\n",
       "      <td>0.000000</td>\n",
       "      <td>0.000000</td>\n",
       "      <td>0.000000</td>\n",
       "      <td>0.000000</td>\n",
       "      <td>0.000000</td>\n",
       "      <td>0.000000</td>\n",
       "      <td>0.214397</td>\n",
       "    </tr>\n",
       "    <tr>\n",
       "      <th>CAATGGGTGACGTCGCGCGGCTCCTACCACCGCGCGCGACCGTGGGGGGAGACGTTCGCTAGAAGACTTAGGGGCGCGGGACGGCGCAAACCGTGCGAGACCACTGCCCACACTGTCTGCCCAGAGATAGTTTATATGGTTGCGAGCGATTCCGGGGACGGGGCACCGACTTCGCCGAGCCCAGGTCCTAGGACCTCTCGGTCCTAGGAGGCACCCTCGGCGACTGCCAATTGGCTGCTCCCACTCGCGG</th>\n",
       "      <td>0.000000</td>\n",
       "      <td>0.000000</td>\n",
       "      <td>0.000000</td>\n",
       "      <td>0.000000</td>\n",
       "      <td>0.000000</td>\n",
       "      <td>0.538462</td>\n",
       "      <td>0.000000</td>\n",
       "      <td>0.657009</td>\n",
       "      <td>0.000000</td>\n",
       "      <td>0.000000</td>\n",
       "      <td>...</td>\n",
       "      <td>0.000000</td>\n",
       "      <td>1.433858</td>\n",
       "      <td>0.000000</td>\n",
       "      <td>0.000000</td>\n",
       "      <td>0.000000</td>\n",
       "      <td>0.000000</td>\n",
       "      <td>0.000000</td>\n",
       "      <td>0.000000</td>\n",
       "      <td>0.000000</td>\n",
       "      <td>0.214236</td>\n",
       "    </tr>\n",
       "  </tbody>\n",
       "</table>\n",
       "<p>2930 rows × 2931 columns</p>\n",
       "</div>"
      ],
      "text/plain": [
       "                                                             0           1  \\\n",
       "seq                                                                          \n",
       "ACGCAGAGCCCGGAGCGCCGGTATTTATTGCAAAGGGACACGTCACT...  192.896332  146.569702   \n",
       "GCGGCCACCCTCCCTTTTCCGTCTGCCCCCTAGCGGGCCCCGCCTCC...    0.857317   43.659061   \n",
       "ATCATCCTCATCGGTACCCTCTGTGCCCATCTGGGACCCAGATGCCT...   32.578049    8.316011   \n",
       "ACCCCTCCATTTAATTTACACCCCTAATTCACACTTCCTGATTTATT...    0.000000    0.000000   \n",
       "AGAGGGCACTGTGGAGACCCCCTATTTATGAGTCAGGCTTGGCCTCC...    0.000000    0.000000   \n",
       "...                                                        ...         ...   \n",
       "TCCCGGGCCCGCGCCGCGCGCCCCCGCCTGCGCCGCCGCGCCCGCGC...    0.857317    0.000000   \n",
       "TCCAGGGCTTTGACTTGCCGCACTCGGTGACCGGCCTGCAGTCCTCG...    0.000000    0.000000   \n",
       "TCCCGCTCTAAAAGCGCAAGCCCACGTGGGGGCGGGGCGGCTCACCC...    0.857317    0.000000   \n",
       "GGAGAGGCCCTCTGCGCCCTAGCGCGAAGGCCGCGCGCCTGGCTCGC...    0.000000    0.000000   \n",
       "CAATGGGTGACGTCGCGCGGCTCCTACCACCGCGCGCGACCGTGGGG...    0.000000    0.000000   \n",
       "\n",
       "                                                             2          3  \\\n",
       "seq                                                                         \n",
       "ACGCAGAGCCCGGAGCGCCGGTATTTATTGCAAAGGGACACGTCACT...  176.720993  74.879700   \n",
       "GCGGCCACCCTCCCTTTTCCGTCTGCCCCCTAGCGGGCCCCGCCTCC...    0.000000   0.584998   \n",
       "ATCATCCTCATCGGTACCCTCTGTGCCCATCTGGGACCCAGATGCCT...   36.250458  31.589874   \n",
       "ACCCCTCCATTTAATTTACACCCCTAATTCACACTTCCTGATTTATT...    0.000000   0.000000   \n",
       "AGAGGGCACTGTGGAGACCCCCTATTTATGAGTCAGGCTTGGCCTCC...    0.000000   0.000000   \n",
       "...                                                        ...        ...   \n",
       "TCCCGGGCCCGCGCCGCGCGCCCCCGCCTGCGCCGCCGCGCCCGCGC...    0.000000   0.000000   \n",
       "TCCAGGGCTTTGACTTGCCGCACTCGGTGACCGGCCTGCAGTCCTCG...    0.000000   0.000000   \n",
       "TCCCGCTCTAAAAGCGCAAGCCCACGTGGGGGCGGGGCGGCTCACCC...    1.510436   0.584998   \n",
       "GGAGAGGCCCTCTGCGCCCTAGCGCGAAGGCCGCGCGCCTGGCTCGC...    0.000000   0.000000   \n",
       "CAATGGGTGACGTCGCGCGGCTCCTACCACCGCGCGCGACCGTGGGG...    0.000000   0.000000   \n",
       "\n",
       "                                                             4          5  \\\n",
       "seq                                                                         \n",
       "ACGCAGAGCCCGGAGCGCCGGTATTTATTGCAAAGGGACACGTCACT...  212.214920  34.730770   \n",
       "GCGGCCACCCTCCCTTTTCCGTCTGCCCCCTAGCGGGCCCCGCCTCC...    0.000000   0.538462   \n",
       "ATCATCCTCATCGGTACCCTCTGTGCCCATCTGGGACCCAGATGCCT...   32.386211  15.615385   \n",
       "ACCCCTCCATTTAATTTACACCCCTAATTCACACTTCCTGATTTATT...    0.000000   0.000000   \n",
       "AGAGGGCACTGTGGAGACCCCCTATTTATGAGTCAGGCTTGGCCTCC...    0.000000   0.000000   \n",
       "...                                                        ...        ...   \n",
       "TCCCGGGCCCGCGCCGCGCGCCCCCGCCTGCGCCGCCGCGCCCGCGC...    0.000000   0.000000   \n",
       "TCCAGGGCTTTGACTTGCCGCACTCGGTGACCGGCCTGCAGTCCTCG...    0.852269   0.000000   \n",
       "TCCCGCTCTAAAAGCGCAAGCCCACGTGGGGGCGGGGCGGCTCACCC...    0.000000   0.269231   \n",
       "GGAGAGGCCCTCTGCGCCCTAGCGCGAAGGCCGCGCGCCTGGCTCGC...    0.000000   0.000000   \n",
       "CAATGGGTGACGTCGCGCGGCTCCTACCACCGCGCGCGACCGTGGGG...    0.000000   0.538462   \n",
       "\n",
       "                                                             6          7  \\\n",
       "seq                                                                         \n",
       "ACGCAGAGCCCGGAGCGCCGGTATTTATTGCAAAGGGACACGTCACT...  103.064430  63.729908   \n",
       "GCGGCCACCCTCCCTTTTCCGTCTGCCCCCTAGCGGGCCCCGCCTCC...    0.000000   0.657009   \n",
       "ATCATCCTCATCGGTACCCTCTGTGCCCATCTGGGACCCAGATGCCT...   43.052227  29.565422   \n",
       "ACCCCTCCATTTAATTTACACCCCTAATTCACACTTCCTGATTTATT...    0.000000   0.000000   \n",
       "AGAGGGCACTGTGGAGACCCCCTATTTATGAGTCAGGCTTGGCCTCC...    0.000000   0.000000   \n",
       "...                                                        ...        ...   \n",
       "TCCCGGGCCCGCGCCGCGCGCCCCCGCCTGCGCCGCCGCGCCCGCGC...    1.304613   0.000000   \n",
       "TCCAGGGCTTTGACTTGCCGCACTCGGTGACCGGCCTGCAGTCCTCG...    0.000000   0.000000   \n",
       "TCCCGCTCTAAAAGCGCAAGCCCACGTGGGGGCGGGGCGGCTCACCC...    0.000000   0.000000   \n",
       "GGAGAGGCCCTCTGCGCCCTAGCGCGAAGGCCGCGCGCCTGGCTCGC...    0.000000   0.000000   \n",
       "CAATGGGTGACGTCGCGCGGCTCCTACCACCGCGCGCGACCGTGGGG...    0.000000   0.657009   \n",
       "\n",
       "                                                            8           9  \\\n",
       "seq                                                                         \n",
       "ACGCAGAGCCCGGAGCGCCGGTATTTATTGCAAAGGGACACGTCACT...  27.008781  207.418335   \n",
       "GCGGCCACCCTCCCTTTTCCGTCTGCCCCCTAGCGGGCCCCGCCTCC...  44.564491    0.000000   \n",
       "ATCATCCTCATCGGTACCCTCTGTGCCCATCTGGGACCCAGATGCCT...  13.504391   50.558216   \n",
       "ACCCCTCCATTTAATTTACACCCCTAATTCACACTTCCTGATTTATT...   0.000000    0.000000   \n",
       "AGAGGGCACTGTGGAGACCCCCTATTTATGAGTCAGGCTTGGCCTCC...   0.000000    0.000000   \n",
       "...                                                       ...         ...   \n",
       "TCCCGGGCCCGCGCCGCGCGCCCCCGCCTGCGCCGCCGCGCCCGCGC...   0.000000    0.000000   \n",
       "TCCAGGGCTTTGACTTGCCGCACTCGGTGACCGGCCTGCAGTCCTCG...   1.350439    0.000000   \n",
       "TCCCGCTCTAAAAGCGCAAGCCCACGTGGGGGCGGGGCGGCTCACCC...   0.000000    0.000000   \n",
       "GGAGAGGCCCTCTGCGCCCTAGCGCGAAGGCCGCGCGCCTGGCTCGC...   0.000000    0.000000   \n",
       "CAATGGGTGACGTCGCGCGGCTCCTACCACCGCGCGCGACCGTGGGG...   0.000000    0.000000   \n",
       "\n",
       "                                                    ...        2921  \\\n",
       "seq                                                 ...               \n",
       "ACGCAGAGCCCGGAGCGCCGGTATTTATTGCAAAGGGACACGTCACT...  ...  330.720581   \n",
       "GCGGCCACCCTCCCTTTTCCGTCTGCCCCCTAGCGGGCCCCGCCTCC...  ...    1.531114   \n",
       "ATCATCCTCATCGGTACCCTCTGTGCCCATCTGGGACCCAGATGCCT...  ...   26.028936   \n",
       "ACCCCTCCATTTAATTTACACCCCTAATTCACACTTCCTGATTTATT...  ...    0.000000   \n",
       "AGAGGGCACTGTGGAGACCCCCTATTTATGAGTCAGGCTTGGCCTCC...  ...    0.000000   \n",
       "...                                                 ...         ...   \n",
       "TCCCGGGCCCGCGCCGCGCGCCCCCGCCTGCGCCGCCGCGCCCGCGC...  ...    0.000000   \n",
       "TCCAGGGCTTTGACTTGCCGCACTCGGTGACCGGCCTGCAGTCCTCG...  ...    0.000000   \n",
       "TCCCGCTCTAAAAGCGCAAGCCCACGTGGGGGCGGGGCGGCTCACCC...  ...    0.000000   \n",
       "GGAGAGGCCCTCTGCGCCCTAGCGCGAAGGCCGCGCGCCTGGCTCGC...  ...    0.000000   \n",
       "CAATGGGTGACGTCGCGCGGCTCCTACCACCGCGCGCGACCGTGGGG...  ...    0.000000   \n",
       "\n",
       "                                                          2922        2923  \\\n",
       "seq                                                                          \n",
       "ACGCAGAGCCCGGAGCGCCGGTATTTATTGCAAAGGGACACGTCACT...  143.385773  152.479034   \n",
       "GCGGCCACCCTCCCTTTTCCGTCTGCCCCCTAGCGGGCCCCGCCTCC...    0.000000    0.947075   \n",
       "ATCATCCTCATCGGTACCCTCTGTGCCCATCTGGGACCCAGATGCCT...   54.486595   33.147614   \n",
       "ACCCCTCCATTTAATTTACACCCCTAATTCACACTTCCTGATTTATT...    0.000000    0.000000   \n",
       "AGAGGGCACTGTGGAGACCCCCTATTTATGAGTCAGGCTTGGCCTCC...    0.000000    0.000000   \n",
       "...                                                        ...         ...   \n",
       "TCCCGGGCCCGCGCCGCGCGCCCCCGCCTGCGCCGCCGCGCCCGCGC...    7.169289    0.000000   \n",
       "TCCAGGGCTTTGACTTGCCGCACTCGGTGACCGGCCTGCAGTCCTCG...    0.000000    0.000000   \n",
       "TCCCGCTCTAAAAGCGCAAGCCCACGTGGGGGCGGGGCGGCTCACCC...    1.433858    0.000000   \n",
       "GGAGAGGCCCTCTGCGCCCTAGCGCGAAGGCCGCGCGCCTGGCTCGC...    0.000000    0.000000   \n",
       "CAATGGGTGACGTCGCGCGGCTCCTACCACCGCGCGCGACCGTGGGG...    1.433858    0.000000   \n",
       "\n",
       "                                                         2924        2925  \\\n",
       "seq                                                                         \n",
       "ACGCAGAGCCCGGAGCGCCGGTATTTATTGCAAAGGGACACGTCACT...  17.642859  101.004532   \n",
       "GCGGCCACCCTCCCTTTTCCGTCTGCCCCCTAGCGGGCCCCGCCTCC...   4.071429    1.485361   \n",
       "ATCATCCTCATCGGTACCCTCTGTGCCCATCTGGGACCCAGATGCCT...   8.142858   35.648659   \n",
       "ACCCCTCCATTTAATTTACACCCCTAATTCACACTTCCTGATTTATT...   0.000000    0.000000   \n",
       "AGAGGGCACTGTGGAGACCCCCTATTTATGAGTCAGGCTTGGCCTCC...   0.000000    0.000000   \n",
       "...                                                       ...         ...   \n",
       "TCCCGGGCCCGCGCCGCGCGCCCCCGCCTGCGCCGCCGCGCCCGCGC...   0.000000    0.742680   \n",
       "TCCAGGGCTTTGACTTGCCGCACTCGGTGACCGGCCTGCAGTCCTCG...   2.714286    0.000000   \n",
       "TCCCGCTCTAAAAGCGCAAGCCCACGTGGGGGCGGGGCGGCTCACCC...   0.000000    0.000000   \n",
       "GGAGAGGCCCTCTGCGCCCTAGCGCGAAGGCCGCGCGCCTGGCTCGC...   0.000000    0.000000   \n",
       "CAATGGGTGACGTCGCGCGGCTCCTACCACCGCGCGCGACCGTGGGG...   0.000000    0.000000   \n",
       "\n",
       "                                                         2926        2927  \\\n",
       "seq                                                                         \n",
       "ACGCAGAGCCCGGAGCGCCGGTATTTATTGCAAAGGGACACGTCACT...  94.754105  160.864792   \n",
       "GCGGCCACCCTCCCTTTTCCGTCTGCCCCCTAGCGGGCCCCGCCTCC...   1.553346    0.000000   \n",
       "ATCATCCTCATCGGTACCCTCTGTGCCCATCTGGGACCCAGATGCCT...  20.193497   34.122833   \n",
       "ACCCCTCCATTTAATTTACACCCCTAATTCACACTTCCTGATTTATT...   0.000000    0.000000   \n",
       "AGAGGGCACTGTGGAGACCCCCTATTTATGAGTCAGGCTTGGCCTCC...   0.000000    0.000000   \n",
       "...                                                       ...         ...   \n",
       "TCCCGGGCCCGCGCCGCGCGCCCCCGCCTGCGCCGCCGCGCCCGCGC...   0.000000    0.000000   \n",
       "TCCAGGGCTTTGACTTGCCGCACTCGGTGACCGGCCTGCAGTCCTCG...   0.000000    0.000000   \n",
       "TCCCGCTCTAAAAGCGCAAGCCCACGTGGGGGCGGGGCGGCTCACCC...   0.000000    0.000000   \n",
       "GGAGAGGCCCTCTGCGCCCTAGCGCGAAGGCCGCGCGCCTGGCTCGC...   0.000000    0.000000   \n",
       "CAATGGGTGACGTCGCGCGGCTCCTACCACCGCGCGCGACCGTGGGG...   0.000000    0.000000   \n",
       "\n",
       "                                                          2928       2929  \\\n",
       "seq                                                                         \n",
       "ACGCAGAGCCCGGAGCGCCGGTATTTATTGCAAAGGGACACGTCACT...   93.063194  78.259262   \n",
       "GCGGCCACCCTCCCTTTTCCGTCTGCCCCCTAGCGGGCCCCGCCTCC...  295.078430   0.000000   \n",
       "ATCATCCTCATCGGTACCCTCTGTGCCCATCTGGGACCCAGATGCCT...    4.539668  51.694191   \n",
       "ACCCCTCCATTTAATTTACACCCCTAATTCACACTTCCTGATTTATT...    0.000000   0.000000   \n",
       "AGAGGGCACTGTGGAGACCCCCTATTTATGAGTCAGGCTTGGCCTCC...    0.000000   0.000000   \n",
       "...                                                        ...        ...   \n",
       "TCCCGGGCCCGCGCCGCGCGCCCCCGCCTGCGCCGCCGCGCCCGCGC...    0.000000   0.000000   \n",
       "TCCAGGGCTTTGACTTGCCGCACTCGGTGACCGGCCTGCAGTCCTCG...    0.000000   0.000000   \n",
       "TCCCGCTCTAAAAGCGCAAGCCCACGTGGGGGCGGGGCGGCTCACCC...    0.000000   0.000000   \n",
       "GGAGAGGCCCTCTGCGCCCTAGCGCGAAGGCCGCGCGCCTGGCTCGC...    0.000000   0.000000   \n",
       "CAATGGGTGACGTCGCGCGGCTCCTACCACCGCGCGCGACCGTGGGG...    0.000000   0.000000   \n",
       "\n",
       "                                                            var  \n",
       "seq                                                              \n",
       "ACGCAGAGCCCGGAGCGCCGGTATTTATTGCAAAGGGACACGTCACT...  6649.693359  \n",
       "GCGGCCACCCTCCCTTTTCCGTCTGCCCCCTAGCGGGCCCCGCCTCC...  1339.492188  \n",
       "ATCATCCTCATCGGTACCCTCTGTGCCCATCTGGGACCCAGATGCCT...   370.427185  \n",
       "ACCCCTCCATTTAATTTACACCCCTAATTCACACTTCCTGATTTATT...   360.813110  \n",
       "AGAGGGCACTGTGGAGACCCCCTATTTATGAGTCAGGCTTGGCCTCC...   217.319138  \n",
       "...                                                         ...  \n",
       "TCCCGGGCCCGCGCCGCGCGCCCCCGCCTGCGCCGCCGCGCCCGCGC...     0.214795  \n",
       "TCCAGGGCTTTGACTTGCCGCACTCGGTGACCGGCCTGCAGTCCTCG...     0.214610  \n",
       "TCCCGCTCTAAAAGCGCAAGCCCACGTGGGGGCGGGGCGGCTCACCC...     0.214427  \n",
       "GGAGAGGCCCTCTGCGCCCTAGCGCGAAGGCCGCGCGCCTGGCTCGC...     0.214397  \n",
       "CAATGGGTGACGTCGCGCGGCTCCTACCACCGCGCGCGACCGTGGGG...     0.214236  \n",
       "\n",
       "[2930 rows x 2931 columns]"
      ]
     },
     "execution_count": 66,
     "metadata": {},
     "output_type": "execute_result"
    }
   ],
   "source": [
    "next_data_sel"
   ]
  },
  {
   "cell_type": "code",
   "execution_count": 67,
   "metadata": {},
   "outputs": [
    {
     "data": {
      "text/plain": [
       "(2930, 13187)"
      ]
     },
     "execution_count": 67,
     "metadata": {},
     "output_type": "execute_result"
    }
   ],
   "source": [
    "ad.shape"
   ]
  },
  {
   "cell_type": "code",
   "execution_count": 68,
   "metadata": {},
   "outputs": [
    {
     "data": {
      "text/plain": [
       "(2930, (13183, 2931))"
      ]
     },
     "execution_count": 68,
     "metadata": {},
     "output_type": "execute_result"
    }
   ],
   "source": [
    "len(top_var), next_data.shape"
   ]
  },
  {
   "cell_type": "code",
   "execution_count": 69,
   "metadata": {},
   "outputs": [
    {
     "data": {
      "text/plain": [
       "(2930, 13187)"
      ]
     },
     "execution_count": 69,
     "metadata": {},
     "output_type": "execute_result"
    }
   ],
   "source": [
    "ad.shape"
   ]
  },
  {
   "cell_type": "code",
   "execution_count": 70,
   "metadata": {
    "collapsed": false,
    "pycharm": {
     "name": "#%%\n"
    }
   },
   "outputs": [
    {
     "data": {
      "text/plain": [
       "(2930, 2930)"
      ]
     },
     "execution_count": 70,
     "metadata": {},
     "output_type": "execute_result"
    }
   ],
   "source": [
    "del next_data_sel['var']\n",
    "# next_data_sel.index = next_data_sel['seq']\n",
    "# del next_data_sel['seq']\n",
    "next_data_sel.shape"
   ]
  },
  {
   "cell_type": "code",
   "execution_count": null,
   "metadata": {},
   "outputs": [],
   "source": []
  },
  {
   "cell_type": "code",
   "execution_count": 71,
   "metadata": {
    "collapsed": false,
    "pycharm": {
     "name": "#%%\n"
    }
   },
   "outputs": [
    {
     "data": {
      "text/plain": [
       "(2930, 2930)"
      ]
     },
     "execution_count": 71,
     "metadata": {},
     "output_type": "execute_result"
    }
   ],
   "source": [
    "df = next_data_sel.copy() # sample\n",
    "# df = df[df.columns[:5000]] # .head(100) # sample\n",
    "\n",
    "# shorten sequences/remove duplicates\n",
    "# df.index = df.index.astype(str).str[35:-35]\n",
    "# df = df[~df.index.duplicated(keep='first')]\n",
    "\n",
    "zero_counts = df.sum(axis=1) == 0\n",
    "df = df[~zero_counts] # remove zeroes\n",
    "\n",
    "df.shape"
   ]
  },
  {
   "cell_type": "code",
   "execution_count": 72,
   "metadata": {},
   "outputs": [
    {
     "data": {
      "text/plain": [
       "((2930, 13187), (2930, 2930))"
      ]
     },
     "execution_count": 72,
     "metadata": {},
     "output_type": "execute_result"
    }
   ],
   "source": [
    "ad.shape, df.shape"
   ]
  },
  {
   "cell_type": "code",
   "execution_count": 73,
   "metadata": {},
   "outputs": [
    {
     "data": {
      "text/plain": [
       "(2930,)"
      ]
     },
     "execution_count": 73,
     "metadata": {},
     "output_type": "execute_result"
    }
   ],
   "source": [
    "zero_counts.shape"
   ]
  },
  {
   "cell_type": "code",
   "execution_count": 74,
   "metadata": {},
   "outputs": [
    {
     "data": {
      "text/plain": [
       "((2930,), (2930, 13187))"
      ]
     },
     "execution_count": 74,
     "metadata": {},
     "output_type": "execute_result"
    }
   ],
   "source": [
    "zero_counts.shape, ad.shape"
   ]
  },
  {
   "cell_type": "code",
   "execution_count": 75,
   "metadata": {},
   "outputs": [
    {
     "data": {
      "text/plain": [
       "((2930, 13187), (2930,))"
      ]
     },
     "execution_count": 75,
     "metadata": {},
     "output_type": "execute_result"
    }
   ],
   "source": [
    "ad.shape, zero_counts.shape"
   ]
  },
  {
   "cell_type": "code",
   "execution_count": 76,
   "metadata": {
    "collapsed": false,
    "pycharm": {
     "name": "#%%\n"
    }
   },
   "outputs": [],
   "source": [
    "ad = ad[~zero_counts,:].copy()\n"
   ]
  },
  {
   "cell_type": "code",
   "execution_count": 77,
   "metadata": {},
   "outputs": [
    {
     "data": {
      "text/plain": [
       "(2930, 13187)"
      ]
     },
     "execution_count": 77,
     "metadata": {},
     "output_type": "execute_result"
    }
   ],
   "source": [
    "ad.shape"
   ]
  },
  {
   "cell_type": "code",
   "execution_count": 78,
   "metadata": {
    "collapsed": false,
    "pycharm": {
     "name": "#%%\n"
    }
   },
   "outputs": [
    {
     "name": "stdout",
     "output_type": "stream",
     "text": [
      "(8584900, 3)\n",
      "2930\n",
      "batch\n",
      "0      2930\n",
      "137    2930\n",
      "127    2930\n",
      "128    2930\n",
      "129    2930\n",
      "       ... \n",
      "69     2930\n",
      "70     2930\n",
      "71     2930\n",
      "72     2930\n",
      "199    2930\n",
      "Name: count, Length: 200, dtype: int64\n"
     ]
    },
    {
     "data": {
      "text/html": [
       "<div>\n",
       "<style scoped>\n",
       "    .dataframe tbody tr th:only-of-type {\n",
       "        vertical-align: middle;\n",
       "    }\n",
       "\n",
       "    .dataframe tbody tr th {\n",
       "        vertical-align: top;\n",
       "    }\n",
       "\n",
       "    .dataframe thead th {\n",
       "        text-align: right;\n",
       "    }\n",
       "</style>\n",
       "<table border=\"1\" class=\"dataframe\">\n",
       "  <thead>\n",
       "    <tr style=\"text-align: right;\">\n",
       "      <th></th>\n",
       "      <th>0</th>\n",
       "      <th>1</th>\n",
       "      <th>batch</th>\n",
       "    </tr>\n",
       "    <tr>\n",
       "      <th>seq</th>\n",
       "      <th></th>\n",
       "      <th></th>\n",
       "      <th></th>\n",
       "    </tr>\n",
       "  </thead>\n",
       "  <tbody>\n",
       "    <tr>\n",
       "      <th>ACGCAGAGCCCGGAGCGCCGGTATTTATTGCAAAGGGACACGTCACTCCACCGGAACCTAGTAACCCTCCACCACCTTGGTGAAGGAAGAAAAATAGTTCCTCAGAGAGTTAAAAATAGATCCTGACTTCCAAGTTTCTAGATTTTTCTTGACGTCGTGTGGGCCTCTTGGACCTTGCTAATACAGAGAAATGTTTAGCTTGTACCAGCTAAATAGGTACAAATAGGTTTAAAATTTCTGGTCACAAGGA</th>\n",
       "      <td>1.0</td>\n",
       "      <td>192.896332</td>\n",
       "      <td>0</td>\n",
       "    </tr>\n",
       "    <tr>\n",
       "      <th>GCGGCCACCCTCCCTTTTCCGTCTGCCCCCTAGCGGGCCCCGCCTCCTCTTCCGAACGGCCCCGCCCTCCCTCTGCTTCAGTCAGCTGCTAGTCTGTTCTTGCCTTGTAGGTCAGATACCTCTTAAAGAGCTGCCAGATTCCCATTCCCTGCTGAGCCTCCCCTCCCCCATCCCTGCCCCGCCTCTCCCTTCCTTCTTCACTCTTAGCTTTCTGTTCTTACCAGTTCCTCTTCTGTGCCCTTTTCCACAG</th>\n",
       "      <td>1.0</td>\n",
       "      <td>0.857317</td>\n",
       "      <td>0</td>\n",
       "    </tr>\n",
       "    <tr>\n",
       "      <th>ATCATCCTCATCGGTACCCTCTGTGCCCATCTGGGACCCAGATGCCTCTGCAGTACGGCTAGATCCAACTACGCCCGCCCCGGGCCACAGAAACAGCGCGCTTGTTGCCAGGCACCGCTCTTGCAGAAGCTCAGAGCCCCTTGCGTCGCCTCACACTCACACAGGCTCCTCCCCGCCCGCGCCCTGCGGGTTTGGGCAACACGCCCACAGGAAGAGGCGGGGCGGCGCGGCCCGCTGCGCTGATTGGCCA</th>\n",
       "      <td>1.0</td>\n",
       "      <td>32.578049</td>\n",
       "      <td>0</td>\n",
       "    </tr>\n",
       "    <tr>\n",
       "      <th>ACCCCTCCATTTAATTTACACCCCTAATTCACACTTCCTGATTTATTTAAAGCAAAATGAAATTCTAGAGAAGCTTTAGGGGGGAAAAGAGAGAGAAAGAAAAAAAACAATTGGGAGTGAAAAGGCATAAAGAGAAGATGGAGCCCTTAAAGAAGGGAGTATCCCAAAGGAGGTGGGGACAAGGGGAGGAGAAGGGGAGGAGGAGAGGAGGAGGGAAACGAGCCTGTCTCTTTAAGGGGGTTGGCTGTCA</th>\n",
       "      <td>1.0</td>\n",
       "      <td>0.000000</td>\n",
       "      <td>0</td>\n",
       "    </tr>\n",
       "    <tr>\n",
       "      <th>AGAGGGCACTGTGGAGACCCCCTATTTATGAGTCAGGCTTGGCCTCCACCCAAAGCCCAAGGACTGCCCACTGAAGGCTCGTGATGTTGGTGTGAGGGAGGGTGGCTGTCCCAGCTGCAGCCTCATCTGCTAATTATGTAAGAGGTTCCAGCTGAGCCCCACACCTCCTAGAAGAAGAAACCTCTGCCTGCCCCCATCCCCAGCTCCAGAGGCAGAACTGGCTCAGACCTTGCCCACTCCTGCCGGCAAA</th>\n",
       "      <td>1.0</td>\n",
       "      <td>0.000000</td>\n",
       "      <td>0</td>\n",
       "    </tr>\n",
       "  </tbody>\n",
       "</table>\n",
       "</div>"
      ],
      "text/plain": [
       "                                                      0           1  batch\n",
       "seq                                                                       \n",
       "ACGCAGAGCCCGGAGCGCCGGTATTTATTGCAAAGGGACACGTCACT...  1.0  192.896332      0\n",
       "GCGGCCACCCTCCCTTTTCCGTCTGCCCCCTAGCGGGCCCCGCCTCC...  1.0    0.857317      0\n",
       "ATCATCCTCATCGGTACCCTCTGTGCCCATCTGGGACCCAGATGCCT...  1.0   32.578049      0\n",
       "ACCCCTCCATTTAATTTACACCCCTAATTCACACTTCCTGATTTATT...  1.0    0.000000      0\n",
       "AGAGGGCACTGTGGAGACCCCCTATTTATGAGTCAGGCTTGGCCTCC...  1.0    0.000000      0"
      ]
     },
     "execution_count": 78,
     "metadata": {},
     "output_type": "execute_result"
    }
   ],
   "source": [
    "df2 = df.reset_index().melt('seq').set_index('seq')\n",
    "# add a baseline count\n",
    "df2[0] = 1.0\n",
    "cols = ['batch', 1, 0]\n",
    "df2.columns = cols\n",
    "df2 = df2[[0, 1, 'batch']] # cols[::-1]]\n",
    "df2['batch'] = df2['batch'].astype(int)\n",
    "print(df2.shape)\n",
    "print(len(set(df2['batch'])))\n",
    "n_cells = 200\n",
    "df2 = df2[df2['batch'].isin(range(0, n_cells))]\n",
    "print(df2['batch'].value_counts())\n",
    "df2.head()"
   ]
  },
  {
   "cell_type": "markdown",
   "metadata": {
    "collapsed": false,
    "pycharm": {
     "name": "#%% md\n"
    }
   },
   "source": [
    "### Simple motif enrichment"
   ]
  },
  {
   "cell_type": "code",
   "execution_count": 79,
   "metadata": {
    "collapsed": false,
    "pycharm": {
     "name": "#%%\n"
    }
   },
   "outputs": [],
   "source": [
    "use_kmers = False\n",
    "if use_kmers:\n",
    "    kmers_by_module = {}\n",
    "    pwm_by_module = {}\n",
    "    glossary_kmers_dir = '../../../../../zaugglab/apobec2_data_analysis/src/analyses_2023_new_sample/Glossary Modules'\n",
    "    for f in os.listdir(glossary_kmers_dir):\n",
    "        if not f.endswith('.xlsx'):\n",
    "            continue\n",
    "        name = f.replace('Glossary_module_', '').replace('.xlsx', '')\n",
    "        kmers = pd.read_excel(os.path.join(glossary_kmers_dir, f), sheet_name='8mers')\n",
    "        kmers_by_module[name] = kmers[kmers.columns[0]]\n",
    "        pwm = pd.read_excel(os.path.join(glossary_kmers_dir, f), sheet_name='PWM', index_col=0)\n",
    "        pwm_by_module[name] = pwm"
   ]
  },
  {
   "cell_type": "markdown",
   "metadata": {
    "collapsed": false,
    "pycharm": {
     "name": "#%% md\n"
    }
   },
   "source": [
    "### Generate pos and neg"
   ]
  },
  {
   "cell_type": "code",
   "execution_count": 80,
   "metadata": {
    "collapsed": false,
    "pycharm": {
     "name": "#%%\n"
    }
   },
   "outputs": [],
   "source": [
    "# import ushuffle\n",
    "\n",
    "# fg = df.index\n",
    "# bg = []\n",
    "\n",
    "# for i, s in enumerate(fg):\n",
    "#     # print(i, s)\n",
    "#     bg.append(ushuffle.shuffle(str.encode(s), 2))\n",
    "\n"
   ]
  },
  {
   "cell_type": "code",
   "execution_count": 81,
   "metadata": {
    "collapsed": false,
    "pycharm": {
     "name": "#%%\n"
    }
   },
   "outputs": [],
   "source": [
    "# for a, b in zip(fg, bg):\n",
    "#     # print(len(a[1]), len(b))\n",
    "#     assert len(a) == len(b)"
   ]
  },
  {
   "cell_type": "code",
   "execution_count": 82,
   "metadata": {
    "collapsed": false,
    "pycharm": {
     "name": "#%%\n"
    }
   },
   "outputs": [],
   "source": [
    "frac_acc = (df > 0).sum(axis=0) / df.shape[1]"
   ]
  },
  {
   "cell_type": "code",
   "execution_count": 83,
   "metadata": {
    "collapsed": false,
    "pycharm": {
     "name": "#%%\n"
    }
   },
   "outputs": [],
   "source": [
    "reduced_groups = pwms"
   ]
  },
  {
   "cell_type": "code",
   "execution_count": 84,
   "metadata": {},
   "outputs": [
    {
     "data": {
      "text/html": [
       "<div>\n",
       "<style scoped>\n",
       "    .dataframe tbody tr th:only-of-type {\n",
       "        vertical-align: middle;\n",
       "    }\n",
       "\n",
       "    .dataframe tbody tr th {\n",
       "        vertical-align: top;\n",
       "    }\n",
       "\n",
       "    .dataframe thead th {\n",
       "        text-align: right;\n",
       "    }\n",
       "</style>\n",
       "<table border=\"1\" class=\"dataframe\">\n",
       "  <thead>\n",
       "    <tr style=\"text-align: right;\">\n",
       "      <th></th>\n",
       "      <th>0</th>\n",
       "      <th>1</th>\n",
       "      <th>2</th>\n",
       "      <th>3</th>\n",
       "      <th>4</th>\n",
       "      <th>5</th>\n",
       "      <th>6</th>\n",
       "      <th>7</th>\n",
       "      <th>8</th>\n",
       "      <th>9</th>\n",
       "      <th>...</th>\n",
       "      <th>2920</th>\n",
       "      <th>2921</th>\n",
       "      <th>2922</th>\n",
       "      <th>2923</th>\n",
       "      <th>2924</th>\n",
       "      <th>2925</th>\n",
       "      <th>2926</th>\n",
       "      <th>2927</th>\n",
       "      <th>2928</th>\n",
       "      <th>2929</th>\n",
       "    </tr>\n",
       "    <tr>\n",
       "      <th>seq</th>\n",
       "      <th></th>\n",
       "      <th></th>\n",
       "      <th></th>\n",
       "      <th></th>\n",
       "      <th></th>\n",
       "      <th></th>\n",
       "      <th></th>\n",
       "      <th></th>\n",
       "      <th></th>\n",
       "      <th></th>\n",
       "      <th></th>\n",
       "      <th></th>\n",
       "      <th></th>\n",
       "      <th></th>\n",
       "      <th></th>\n",
       "      <th></th>\n",
       "      <th></th>\n",
       "      <th></th>\n",
       "      <th></th>\n",
       "      <th></th>\n",
       "      <th></th>\n",
       "    </tr>\n",
       "  </thead>\n",
       "  <tbody>\n",
       "    <tr>\n",
       "      <th>ACGCAGAGCCCGGAGCGCCGGTATTTATTGCAAAGGGACACGTCACTCCACCGGAACCTAGTAACCCTCCACCACCTTGGTGAAGGAAGAAAAATAGTTCCTCAGAGAGTTAAAAATAGATCCTGACTTCCAAGTTTCTAGATTTTTCTTGACGTCGTGTGGGCCTCTTGGACCTTGCTAATACAGAGAAATGTTTAGCTTGTACCAGCTAAATAGGTACAAATAGGTTTAAAATTTCTGGTCACAAGGA</th>\n",
       "      <td>192.896332</td>\n",
       "      <td>146.569702</td>\n",
       "      <td>176.720993</td>\n",
       "      <td>74.879700</td>\n",
       "      <td>212.214920</td>\n",
       "      <td>34.730770</td>\n",
       "      <td>103.064430</td>\n",
       "      <td>63.729908</td>\n",
       "      <td>27.008781</td>\n",
       "      <td>207.418335</td>\n",
       "      <td>...</td>\n",
       "      <td>37.665909</td>\n",
       "      <td>330.720581</td>\n",
       "      <td>143.385773</td>\n",
       "      <td>152.479034</td>\n",
       "      <td>17.642859</td>\n",
       "      <td>101.004532</td>\n",
       "      <td>94.754105</td>\n",
       "      <td>160.864792</td>\n",
       "      <td>93.063194</td>\n",
       "      <td>78.259262</td>\n",
       "    </tr>\n",
       "    <tr>\n",
       "      <th>GCGGCCACCCTCCCTTTTCCGTCTGCCCCCTAGCGGGCCCCGCCTCCTCTTCCGAACGGCCCCGCCCTCCCTCTGCTTCAGTCAGCTGCTAGTCTGTTCTTGCCTTGTAGGTCAGATACCTCTTAAAGAGCTGCCAGATTCCCATTCCCTGCTGAGCCTCCCCTCCCCCATCCCTGCCCCGCCTCTCCCTTCCTTCTTCACTCTTAGCTTTCTGTTCTTACCAGTTCCTCTTCTGTGCCCTTTTCCACAG</th>\n",
       "      <td>0.857317</td>\n",
       "      <td>43.659061</td>\n",
       "      <td>0.000000</td>\n",
       "      <td>0.584998</td>\n",
       "      <td>0.000000</td>\n",
       "      <td>0.538462</td>\n",
       "      <td>0.000000</td>\n",
       "      <td>0.657009</td>\n",
       "      <td>44.564491</td>\n",
       "      <td>0.000000</td>\n",
       "      <td>...</td>\n",
       "      <td>0.000000</td>\n",
       "      <td>1.531114</td>\n",
       "      <td>0.000000</td>\n",
       "      <td>0.947075</td>\n",
       "      <td>4.071429</td>\n",
       "      <td>1.485361</td>\n",
       "      <td>1.553346</td>\n",
       "      <td>0.000000</td>\n",
       "      <td>295.078430</td>\n",
       "      <td>0.000000</td>\n",
       "    </tr>\n",
       "    <tr>\n",
       "      <th>ATCATCCTCATCGGTACCCTCTGTGCCCATCTGGGACCCAGATGCCTCTGCAGTACGGCTAGATCCAACTACGCCCGCCCCGGGCCACAGAAACAGCGCGCTTGTTGCCAGGCACCGCTCTTGCAGAAGCTCAGAGCCCCTTGCGTCGCCTCACACTCACACAGGCTCCTCCCCGCCCGCGCCCTGCGGGTTTGGGCAACACGCCCACAGGAAGAGGCGGGGCGGCGCGGCCCGCTGCGCTGATTGGCCA</th>\n",
       "      <td>32.578049</td>\n",
       "      <td>8.316011</td>\n",
       "      <td>36.250458</td>\n",
       "      <td>31.589874</td>\n",
       "      <td>32.386211</td>\n",
       "      <td>15.615385</td>\n",
       "      <td>43.052227</td>\n",
       "      <td>29.565422</td>\n",
       "      <td>13.504391</td>\n",
       "      <td>50.558216</td>\n",
       "      <td>...</td>\n",
       "      <td>11.197972</td>\n",
       "      <td>26.028936</td>\n",
       "      <td>54.486595</td>\n",
       "      <td>33.147614</td>\n",
       "      <td>8.142858</td>\n",
       "      <td>35.648659</td>\n",
       "      <td>20.193497</td>\n",
       "      <td>34.122833</td>\n",
       "      <td>4.539668</td>\n",
       "      <td>51.694191</td>\n",
       "    </tr>\n",
       "    <tr>\n",
       "      <th>ACCCCTCCATTTAATTTACACCCCTAATTCACACTTCCTGATTTATTTAAAGCAAAATGAAATTCTAGAGAAGCTTTAGGGGGGAAAAGAGAGAGAAAGAAAAAAAACAATTGGGAGTGAAAAGGCATAAAGAGAAGATGGAGCCCTTAAAGAAGGGAGTATCCCAAAGGAGGTGGGGACAAGGGGAGGAGAAGGGGAGGAGGAGAGGAGGAGGGAAACGAGCCTGTCTCTTTAAGGGGGTTGGCTGTCA</th>\n",
       "      <td>0.000000</td>\n",
       "      <td>0.000000</td>\n",
       "      <td>0.000000</td>\n",
       "      <td>0.000000</td>\n",
       "      <td>0.000000</td>\n",
       "      <td>0.000000</td>\n",
       "      <td>0.000000</td>\n",
       "      <td>0.000000</td>\n",
       "      <td>0.000000</td>\n",
       "      <td>0.000000</td>\n",
       "      <td>...</td>\n",
       "      <td>0.000000</td>\n",
       "      <td>0.000000</td>\n",
       "      <td>0.000000</td>\n",
       "      <td>0.000000</td>\n",
       "      <td>0.000000</td>\n",
       "      <td>0.000000</td>\n",
       "      <td>0.000000</td>\n",
       "      <td>0.000000</td>\n",
       "      <td>0.000000</td>\n",
       "      <td>0.000000</td>\n",
       "    </tr>\n",
       "    <tr>\n",
       "      <th>AGAGGGCACTGTGGAGACCCCCTATTTATGAGTCAGGCTTGGCCTCCACCCAAAGCCCAAGGACTGCCCACTGAAGGCTCGTGATGTTGGTGTGAGGGAGGGTGGCTGTCCCAGCTGCAGCCTCATCTGCTAATTATGTAAGAGGTTCCAGCTGAGCCCCACACCTCCTAGAAGAAGAAACCTCTGCCTGCCCCCATCCCCAGCTCCAGAGGCAGAACTGGCTCAGACCTTGCCCACTCCTGCCGGCAAA</th>\n",
       "      <td>0.000000</td>\n",
       "      <td>0.000000</td>\n",
       "      <td>0.000000</td>\n",
       "      <td>0.000000</td>\n",
       "      <td>0.000000</td>\n",
       "      <td>0.000000</td>\n",
       "      <td>0.000000</td>\n",
       "      <td>0.000000</td>\n",
       "      <td>0.000000</td>\n",
       "      <td>0.000000</td>\n",
       "      <td>...</td>\n",
       "      <td>0.000000</td>\n",
       "      <td>0.000000</td>\n",
       "      <td>0.000000</td>\n",
       "      <td>0.000000</td>\n",
       "      <td>0.000000</td>\n",
       "      <td>0.000000</td>\n",
       "      <td>0.000000</td>\n",
       "      <td>0.000000</td>\n",
       "      <td>0.000000</td>\n",
       "      <td>0.000000</td>\n",
       "    </tr>\n",
       "    <tr>\n",
       "      <th>...</th>\n",
       "      <td>...</td>\n",
       "      <td>...</td>\n",
       "      <td>...</td>\n",
       "      <td>...</td>\n",
       "      <td>...</td>\n",
       "      <td>...</td>\n",
       "      <td>...</td>\n",
       "      <td>...</td>\n",
       "      <td>...</td>\n",
       "      <td>...</td>\n",
       "      <td>...</td>\n",
       "      <td>...</td>\n",
       "      <td>...</td>\n",
       "      <td>...</td>\n",
       "      <td>...</td>\n",
       "      <td>...</td>\n",
       "      <td>...</td>\n",
       "      <td>...</td>\n",
       "      <td>...</td>\n",
       "      <td>...</td>\n",
       "      <td>...</td>\n",
       "    </tr>\n",
       "    <tr>\n",
       "      <th>TCCCGGGCCCGCGCCGCGCGCCCCCGCCTGCGCCGCCGCGCCCGCGCCACGCCGCGCGCCCCCGCGCCAGCTCTCTCTCGCGCTCTCTCTCTCCAGCTCGCTCTGTCTCTCTGTCTCTCTCCCCTTTCTTTCTCTGTCTCTCTCCTCTCTCTGTCTGTCTCTCTCTCTCTGTGTCTCTCCCCCCTCTCTTTCTCTGTCTCTCTCTCTCCTCTCTCTGTGTCTCTCTGTCTGTCTGTCTCTCTCTCTGTGT</th>\n",
       "      <td>0.857317</td>\n",
       "      <td>0.000000</td>\n",
       "      <td>0.000000</td>\n",
       "      <td>0.000000</td>\n",
       "      <td>0.000000</td>\n",
       "      <td>0.000000</td>\n",
       "      <td>1.304613</td>\n",
       "      <td>0.000000</td>\n",
       "      <td>0.000000</td>\n",
       "      <td>0.000000</td>\n",
       "      <td>...</td>\n",
       "      <td>0.000000</td>\n",
       "      <td>0.000000</td>\n",
       "      <td>7.169289</td>\n",
       "      <td>0.000000</td>\n",
       "      <td>0.000000</td>\n",
       "      <td>0.742680</td>\n",
       "      <td>0.000000</td>\n",
       "      <td>0.000000</td>\n",
       "      <td>0.000000</td>\n",
       "      <td>0.000000</td>\n",
       "    </tr>\n",
       "    <tr>\n",
       "      <th>TCCAGGGCTTTGACTTGCCGCACTCGGTGACCGGCCTGCAGTCCTCGGCGGAGCCGCGCGGGGGCGCTGCGGGGAGGCCTCGGCTTTCCTGCCGTGGCGGGGCACGGCCAGGCGGGGGCGCTGCGGGCGGCGGGCGAGGGCTAGGCCGGCCTCTCCTGCGGGGCCGGCTGGGGCGGGGCGCGGCGCCGCACCGCGCTTCCGCAAGTGTGGAGCTGCGGGATGGCTACGCTGCTACTGCAGCTGCTGGGGC</th>\n",
       "      <td>0.000000</td>\n",
       "      <td>0.000000</td>\n",
       "      <td>0.000000</td>\n",
       "      <td>0.000000</td>\n",
       "      <td>0.852269</td>\n",
       "      <td>0.000000</td>\n",
       "      <td>0.000000</td>\n",
       "      <td>0.000000</td>\n",
       "      <td>1.350439</td>\n",
       "      <td>0.000000</td>\n",
       "      <td>...</td>\n",
       "      <td>0.508999</td>\n",
       "      <td>0.000000</td>\n",
       "      <td>0.000000</td>\n",
       "      <td>0.000000</td>\n",
       "      <td>2.714286</td>\n",
       "      <td>0.000000</td>\n",
       "      <td>0.000000</td>\n",
       "      <td>0.000000</td>\n",
       "      <td>0.000000</td>\n",
       "      <td>0.000000</td>\n",
       "    </tr>\n",
       "    <tr>\n",
       "      <th>TCCCGCTCTAAAAGCGCAAGCCCACGTGGGGGCGGGGCGGCTCACCCGGAAGCGGCTCCCGTACCGCCCGCCCCTCCGGGAATGCAGCTTACGCTCCCTTCGGGGCAGTCTCCGGATCACTGGTCAGCTCGCGCGGCCAGATCCACGCTGAGCGGGGCTGGAATCTTGGCCAATCCAGAGTTGCCCGAGAGCCCGCCCGTCTCCCCGCCCCCCAGCTCGGGTCTCACTTGAGGTGGGAAGGCCCGAGGGG</th>\n",
       "      <td>0.857317</td>\n",
       "      <td>0.000000</td>\n",
       "      <td>1.510436</td>\n",
       "      <td>0.584998</td>\n",
       "      <td>0.000000</td>\n",
       "      <td>0.269231</td>\n",
       "      <td>0.000000</td>\n",
       "      <td>0.000000</td>\n",
       "      <td>0.000000</td>\n",
       "      <td>0.000000</td>\n",
       "      <td>...</td>\n",
       "      <td>0.000000</td>\n",
       "      <td>0.000000</td>\n",
       "      <td>1.433858</td>\n",
       "      <td>0.000000</td>\n",
       "      <td>0.000000</td>\n",
       "      <td>0.000000</td>\n",
       "      <td>0.000000</td>\n",
       "      <td>0.000000</td>\n",
       "      <td>0.000000</td>\n",
       "      <td>0.000000</td>\n",
       "    </tr>\n",
       "    <tr>\n",
       "      <th>GGAGAGGCCCTCTGCGCCCTAGCGCGAAGGCCGCGCGCCTGGCTCGCACCCAGGACGTCCACGCTCCCTAGGGATCGGCCCGCGGCAGCGACCTGAGGAGCAGCGCAGGGCAGTGACGTCACCGCCGCCCCTCCCCCGCCCAAGCCGCAGTTCCGGCCCTCCCACATCCGGGTCTCTCCAGCCCATGGGCCGCGCCGCAGCTGCAGGGCCGGGGGTGGGGGAAACGGCGGCGCGGGGCGGGGCGGGGCCG</th>\n",
       "      <td>0.000000</td>\n",
       "      <td>0.000000</td>\n",
       "      <td>0.000000</td>\n",
       "      <td>0.000000</td>\n",
       "      <td>0.000000</td>\n",
       "      <td>0.000000</td>\n",
       "      <td>0.000000</td>\n",
       "      <td>0.000000</td>\n",
       "      <td>0.000000</td>\n",
       "      <td>0.000000</td>\n",
       "      <td>...</td>\n",
       "      <td>0.508999</td>\n",
       "      <td>0.000000</td>\n",
       "      <td>0.000000</td>\n",
       "      <td>0.000000</td>\n",
       "      <td>0.000000</td>\n",
       "      <td>0.000000</td>\n",
       "      <td>0.000000</td>\n",
       "      <td>0.000000</td>\n",
       "      <td>0.000000</td>\n",
       "      <td>0.000000</td>\n",
       "    </tr>\n",
       "    <tr>\n",
       "      <th>CAATGGGTGACGTCGCGCGGCTCCTACCACCGCGCGCGACCGTGGGGGGAGACGTTCGCTAGAAGACTTAGGGGCGCGGGACGGCGCAAACCGTGCGAGACCACTGCCCACACTGTCTGCCCAGAGATAGTTTATATGGTTGCGAGCGATTCCGGGGACGGGGCACCGACTTCGCCGAGCCCAGGTCCTAGGACCTCTCGGTCCTAGGAGGCACCCTCGGCGACTGCCAATTGGCTGCTCCCACTCGCGG</th>\n",
       "      <td>0.000000</td>\n",
       "      <td>0.000000</td>\n",
       "      <td>0.000000</td>\n",
       "      <td>0.000000</td>\n",
       "      <td>0.000000</td>\n",
       "      <td>0.538462</td>\n",
       "      <td>0.000000</td>\n",
       "      <td>0.657009</td>\n",
       "      <td>0.000000</td>\n",
       "      <td>0.000000</td>\n",
       "      <td>...</td>\n",
       "      <td>0.000000</td>\n",
       "      <td>0.000000</td>\n",
       "      <td>1.433858</td>\n",
       "      <td>0.000000</td>\n",
       "      <td>0.000000</td>\n",
       "      <td>0.000000</td>\n",
       "      <td>0.000000</td>\n",
       "      <td>0.000000</td>\n",
       "      <td>0.000000</td>\n",
       "      <td>0.000000</td>\n",
       "    </tr>\n",
       "  </tbody>\n",
       "</table>\n",
       "<p>2930 rows × 2930 columns</p>\n",
       "</div>"
      ],
      "text/plain": [
       "                                                          0           1     \\\n",
       "seq                                                                          \n",
       "ACGCAGAGCCCGGAGCGCCGGTATTTATTGCAAAGGGACACGTCACT...  192.896332  146.569702   \n",
       "GCGGCCACCCTCCCTTTTCCGTCTGCCCCCTAGCGGGCCCCGCCTCC...    0.857317   43.659061   \n",
       "ATCATCCTCATCGGTACCCTCTGTGCCCATCTGGGACCCAGATGCCT...   32.578049    8.316011   \n",
       "ACCCCTCCATTTAATTTACACCCCTAATTCACACTTCCTGATTTATT...    0.000000    0.000000   \n",
       "AGAGGGCACTGTGGAGACCCCCTATTTATGAGTCAGGCTTGGCCTCC...    0.000000    0.000000   \n",
       "...                                                        ...         ...   \n",
       "TCCCGGGCCCGCGCCGCGCGCCCCCGCCTGCGCCGCCGCGCCCGCGC...    0.857317    0.000000   \n",
       "TCCAGGGCTTTGACTTGCCGCACTCGGTGACCGGCCTGCAGTCCTCG...    0.000000    0.000000   \n",
       "TCCCGCTCTAAAAGCGCAAGCCCACGTGGGGGCGGGGCGGCTCACCC...    0.857317    0.000000   \n",
       "GGAGAGGCCCTCTGCGCCCTAGCGCGAAGGCCGCGCGCCTGGCTCGC...    0.000000    0.000000   \n",
       "CAATGGGTGACGTCGCGCGGCTCCTACCACCGCGCGCGACCGTGGGG...    0.000000    0.000000   \n",
       "\n",
       "                                                          2          3     \\\n",
       "seq                                                                         \n",
       "ACGCAGAGCCCGGAGCGCCGGTATTTATTGCAAAGGGACACGTCACT...  176.720993  74.879700   \n",
       "GCGGCCACCCTCCCTTTTCCGTCTGCCCCCTAGCGGGCCCCGCCTCC...    0.000000   0.584998   \n",
       "ATCATCCTCATCGGTACCCTCTGTGCCCATCTGGGACCCAGATGCCT...   36.250458  31.589874   \n",
       "ACCCCTCCATTTAATTTACACCCCTAATTCACACTTCCTGATTTATT...    0.000000   0.000000   \n",
       "AGAGGGCACTGTGGAGACCCCCTATTTATGAGTCAGGCTTGGCCTCC...    0.000000   0.000000   \n",
       "...                                                        ...        ...   \n",
       "TCCCGGGCCCGCGCCGCGCGCCCCCGCCTGCGCCGCCGCGCCCGCGC...    0.000000   0.000000   \n",
       "TCCAGGGCTTTGACTTGCCGCACTCGGTGACCGGCCTGCAGTCCTCG...    0.000000   0.000000   \n",
       "TCCCGCTCTAAAAGCGCAAGCCCACGTGGGGGCGGGGCGGCTCACCC...    1.510436   0.584998   \n",
       "GGAGAGGCCCTCTGCGCCCTAGCGCGAAGGCCGCGCGCCTGGCTCGC...    0.000000   0.000000   \n",
       "CAATGGGTGACGTCGCGCGGCTCCTACCACCGCGCGCGACCGTGGGG...    0.000000   0.000000   \n",
       "\n",
       "                                                          4          5     \\\n",
       "seq                                                                         \n",
       "ACGCAGAGCCCGGAGCGCCGGTATTTATTGCAAAGGGACACGTCACT...  212.214920  34.730770   \n",
       "GCGGCCACCCTCCCTTTTCCGTCTGCCCCCTAGCGGGCCCCGCCTCC...    0.000000   0.538462   \n",
       "ATCATCCTCATCGGTACCCTCTGTGCCCATCTGGGACCCAGATGCCT...   32.386211  15.615385   \n",
       "ACCCCTCCATTTAATTTACACCCCTAATTCACACTTCCTGATTTATT...    0.000000   0.000000   \n",
       "AGAGGGCACTGTGGAGACCCCCTATTTATGAGTCAGGCTTGGCCTCC...    0.000000   0.000000   \n",
       "...                                                        ...        ...   \n",
       "TCCCGGGCCCGCGCCGCGCGCCCCCGCCTGCGCCGCCGCGCCCGCGC...    0.000000   0.000000   \n",
       "TCCAGGGCTTTGACTTGCCGCACTCGGTGACCGGCCTGCAGTCCTCG...    0.852269   0.000000   \n",
       "TCCCGCTCTAAAAGCGCAAGCCCACGTGGGGGCGGGGCGGCTCACCC...    0.000000   0.269231   \n",
       "GGAGAGGCCCTCTGCGCCCTAGCGCGAAGGCCGCGCGCCTGGCTCGC...    0.000000   0.000000   \n",
       "CAATGGGTGACGTCGCGCGGCTCCTACCACCGCGCGCGACCGTGGGG...    0.000000   0.538462   \n",
       "\n",
       "                                                          6          7     \\\n",
       "seq                                                                         \n",
       "ACGCAGAGCCCGGAGCGCCGGTATTTATTGCAAAGGGACACGTCACT...  103.064430  63.729908   \n",
       "GCGGCCACCCTCCCTTTTCCGTCTGCCCCCTAGCGGGCCCCGCCTCC...    0.000000   0.657009   \n",
       "ATCATCCTCATCGGTACCCTCTGTGCCCATCTGGGACCCAGATGCCT...   43.052227  29.565422   \n",
       "ACCCCTCCATTTAATTTACACCCCTAATTCACACTTCCTGATTTATT...    0.000000   0.000000   \n",
       "AGAGGGCACTGTGGAGACCCCCTATTTATGAGTCAGGCTTGGCCTCC...    0.000000   0.000000   \n",
       "...                                                        ...        ...   \n",
       "TCCCGGGCCCGCGCCGCGCGCCCCCGCCTGCGCCGCCGCGCCCGCGC...    1.304613   0.000000   \n",
       "TCCAGGGCTTTGACTTGCCGCACTCGGTGACCGGCCTGCAGTCCTCG...    0.000000   0.000000   \n",
       "TCCCGCTCTAAAAGCGCAAGCCCACGTGGGGGCGGGGCGGCTCACCC...    0.000000   0.000000   \n",
       "GGAGAGGCCCTCTGCGCCCTAGCGCGAAGGCCGCGCGCCTGGCTCGC...    0.000000   0.000000   \n",
       "CAATGGGTGACGTCGCGCGGCTCCTACCACCGCGCGCGACCGTGGGG...    0.000000   0.657009   \n",
       "\n",
       "                                                         8           9     \\\n",
       "seq                                                                         \n",
       "ACGCAGAGCCCGGAGCGCCGGTATTTATTGCAAAGGGACACGTCACT...  27.008781  207.418335   \n",
       "GCGGCCACCCTCCCTTTTCCGTCTGCCCCCTAGCGGGCCCCGCCTCC...  44.564491    0.000000   \n",
       "ATCATCCTCATCGGTACCCTCTGTGCCCATCTGGGACCCAGATGCCT...  13.504391   50.558216   \n",
       "ACCCCTCCATTTAATTTACACCCCTAATTCACACTTCCTGATTTATT...   0.000000    0.000000   \n",
       "AGAGGGCACTGTGGAGACCCCCTATTTATGAGTCAGGCTTGGCCTCC...   0.000000    0.000000   \n",
       "...                                                       ...         ...   \n",
       "TCCCGGGCCCGCGCCGCGCGCCCCCGCCTGCGCCGCCGCGCCCGCGC...   0.000000    0.000000   \n",
       "TCCAGGGCTTTGACTTGCCGCACTCGGTGACCGGCCTGCAGTCCTCG...   1.350439    0.000000   \n",
       "TCCCGCTCTAAAAGCGCAAGCCCACGTGGGGGCGGGGCGGCTCACCC...   0.000000    0.000000   \n",
       "GGAGAGGCCCTCTGCGCCCTAGCGCGAAGGCCGCGCGCCTGGCTCGC...   0.000000    0.000000   \n",
       "CAATGGGTGACGTCGCGCGGCTCCTACCACCGCGCGCGACCGTGGGG...   0.000000    0.000000   \n",
       "\n",
       "                                                    ...       2920  \\\n",
       "seq                                                 ...              \n",
       "ACGCAGAGCCCGGAGCGCCGGTATTTATTGCAAAGGGACACGTCACT...  ...  37.665909   \n",
       "GCGGCCACCCTCCCTTTTCCGTCTGCCCCCTAGCGGGCCCCGCCTCC...  ...   0.000000   \n",
       "ATCATCCTCATCGGTACCCTCTGTGCCCATCTGGGACCCAGATGCCT...  ...  11.197972   \n",
       "ACCCCTCCATTTAATTTACACCCCTAATTCACACTTCCTGATTTATT...  ...   0.000000   \n",
       "AGAGGGCACTGTGGAGACCCCCTATTTATGAGTCAGGCTTGGCCTCC...  ...   0.000000   \n",
       "...                                                 ...        ...   \n",
       "TCCCGGGCCCGCGCCGCGCGCCCCCGCCTGCGCCGCCGCGCCCGCGC...  ...   0.000000   \n",
       "TCCAGGGCTTTGACTTGCCGCACTCGGTGACCGGCCTGCAGTCCTCG...  ...   0.508999   \n",
       "TCCCGCTCTAAAAGCGCAAGCCCACGTGGGGGCGGGGCGGCTCACCC...  ...   0.000000   \n",
       "GGAGAGGCCCTCTGCGCCCTAGCGCGAAGGCCGCGCGCCTGGCTCGC...  ...   0.508999   \n",
       "CAATGGGTGACGTCGCGCGGCTCCTACCACCGCGCGCGACCGTGGGG...  ...   0.000000   \n",
       "\n",
       "                                                          2921        2922  \\\n",
       "seq                                                                          \n",
       "ACGCAGAGCCCGGAGCGCCGGTATTTATTGCAAAGGGACACGTCACT...  330.720581  143.385773   \n",
       "GCGGCCACCCTCCCTTTTCCGTCTGCCCCCTAGCGGGCCCCGCCTCC...    1.531114    0.000000   \n",
       "ATCATCCTCATCGGTACCCTCTGTGCCCATCTGGGACCCAGATGCCT...   26.028936   54.486595   \n",
       "ACCCCTCCATTTAATTTACACCCCTAATTCACACTTCCTGATTTATT...    0.000000    0.000000   \n",
       "AGAGGGCACTGTGGAGACCCCCTATTTATGAGTCAGGCTTGGCCTCC...    0.000000    0.000000   \n",
       "...                                                        ...         ...   \n",
       "TCCCGGGCCCGCGCCGCGCGCCCCCGCCTGCGCCGCCGCGCCCGCGC...    0.000000    7.169289   \n",
       "TCCAGGGCTTTGACTTGCCGCACTCGGTGACCGGCCTGCAGTCCTCG...    0.000000    0.000000   \n",
       "TCCCGCTCTAAAAGCGCAAGCCCACGTGGGGGCGGGGCGGCTCACCC...    0.000000    1.433858   \n",
       "GGAGAGGCCCTCTGCGCCCTAGCGCGAAGGCCGCGCGCCTGGCTCGC...    0.000000    0.000000   \n",
       "CAATGGGTGACGTCGCGCGGCTCCTACCACCGCGCGCGACCGTGGGG...    0.000000    1.433858   \n",
       "\n",
       "                                                          2923       2924  \\\n",
       "seq                                                                         \n",
       "ACGCAGAGCCCGGAGCGCCGGTATTTATTGCAAAGGGACACGTCACT...  152.479034  17.642859   \n",
       "GCGGCCACCCTCCCTTTTCCGTCTGCCCCCTAGCGGGCCCCGCCTCC...    0.947075   4.071429   \n",
       "ATCATCCTCATCGGTACCCTCTGTGCCCATCTGGGACCCAGATGCCT...   33.147614   8.142858   \n",
       "ACCCCTCCATTTAATTTACACCCCTAATTCACACTTCCTGATTTATT...    0.000000   0.000000   \n",
       "AGAGGGCACTGTGGAGACCCCCTATTTATGAGTCAGGCTTGGCCTCC...    0.000000   0.000000   \n",
       "...                                                        ...        ...   \n",
       "TCCCGGGCCCGCGCCGCGCGCCCCCGCCTGCGCCGCCGCGCCCGCGC...    0.000000   0.000000   \n",
       "TCCAGGGCTTTGACTTGCCGCACTCGGTGACCGGCCTGCAGTCCTCG...    0.000000   2.714286   \n",
       "TCCCGCTCTAAAAGCGCAAGCCCACGTGGGGGCGGGGCGGCTCACCC...    0.000000   0.000000   \n",
       "GGAGAGGCCCTCTGCGCCCTAGCGCGAAGGCCGCGCGCCTGGCTCGC...    0.000000   0.000000   \n",
       "CAATGGGTGACGTCGCGCGGCTCCTACCACCGCGCGCGACCGTGGGG...    0.000000   0.000000   \n",
       "\n",
       "                                                          2925       2926  \\\n",
       "seq                                                                         \n",
       "ACGCAGAGCCCGGAGCGCCGGTATTTATTGCAAAGGGACACGTCACT...  101.004532  94.754105   \n",
       "GCGGCCACCCTCCCTTTTCCGTCTGCCCCCTAGCGGGCCCCGCCTCC...    1.485361   1.553346   \n",
       "ATCATCCTCATCGGTACCCTCTGTGCCCATCTGGGACCCAGATGCCT...   35.648659  20.193497   \n",
       "ACCCCTCCATTTAATTTACACCCCTAATTCACACTTCCTGATTTATT...    0.000000   0.000000   \n",
       "AGAGGGCACTGTGGAGACCCCCTATTTATGAGTCAGGCTTGGCCTCC...    0.000000   0.000000   \n",
       "...                                                        ...        ...   \n",
       "TCCCGGGCCCGCGCCGCGCGCCCCCGCCTGCGCCGCCGCGCCCGCGC...    0.742680   0.000000   \n",
       "TCCAGGGCTTTGACTTGCCGCACTCGGTGACCGGCCTGCAGTCCTCG...    0.000000   0.000000   \n",
       "TCCCGCTCTAAAAGCGCAAGCCCACGTGGGGGCGGGGCGGCTCACCC...    0.000000   0.000000   \n",
       "GGAGAGGCCCTCTGCGCCCTAGCGCGAAGGCCGCGCGCCTGGCTCGC...    0.000000   0.000000   \n",
       "CAATGGGTGACGTCGCGCGGCTCCTACCACCGCGCGCGACCGTGGGG...    0.000000   0.000000   \n",
       "\n",
       "                                                          2927        2928  \\\n",
       "seq                                                                          \n",
       "ACGCAGAGCCCGGAGCGCCGGTATTTATTGCAAAGGGACACGTCACT...  160.864792   93.063194   \n",
       "GCGGCCACCCTCCCTTTTCCGTCTGCCCCCTAGCGGGCCCCGCCTCC...    0.000000  295.078430   \n",
       "ATCATCCTCATCGGTACCCTCTGTGCCCATCTGGGACCCAGATGCCT...   34.122833    4.539668   \n",
       "ACCCCTCCATTTAATTTACACCCCTAATTCACACTTCCTGATTTATT...    0.000000    0.000000   \n",
       "AGAGGGCACTGTGGAGACCCCCTATTTATGAGTCAGGCTTGGCCTCC...    0.000000    0.000000   \n",
       "...                                                        ...         ...   \n",
       "TCCCGGGCCCGCGCCGCGCGCCCCCGCCTGCGCCGCCGCGCCCGCGC...    0.000000    0.000000   \n",
       "TCCAGGGCTTTGACTTGCCGCACTCGGTGACCGGCCTGCAGTCCTCG...    0.000000    0.000000   \n",
       "TCCCGCTCTAAAAGCGCAAGCCCACGTGGGGGCGGGGCGGCTCACCC...    0.000000    0.000000   \n",
       "GGAGAGGCCCTCTGCGCCCTAGCGCGAAGGCCGCGCGCCTGGCTCGC...    0.000000    0.000000   \n",
       "CAATGGGTGACGTCGCGCGGCTCCTACCACCGCGCGCGACCGTGGGG...    0.000000    0.000000   \n",
       "\n",
       "                                                         2929  \n",
       "seq                                                            \n",
       "ACGCAGAGCCCGGAGCGCCGGTATTTATTGCAAAGGGACACGTCACT...  78.259262  \n",
       "GCGGCCACCCTCCCTTTTCCGTCTGCCCCCTAGCGGGCCCCGCCTCC...   0.000000  \n",
       "ATCATCCTCATCGGTACCCTCTGTGCCCATCTGGGACCCAGATGCCT...  51.694191  \n",
       "ACCCCTCCATTTAATTTACACCCCTAATTCACACTTCCTGATTTATT...   0.000000  \n",
       "AGAGGGCACTGTGGAGACCCCCTATTTATGAGTCAGGCTTGGCCTCC...   0.000000  \n",
       "...                                                       ...  \n",
       "TCCCGGGCCCGCGCCGCGCGCCCCCGCCTGCGCCGCCGCGCCCGCGC...   0.000000  \n",
       "TCCAGGGCTTTGACTTGCCGCACTCGGTGACCGGCCTGCAGTCCTCG...   0.000000  \n",
       "TCCCGCTCTAAAAGCGCAAGCCCACGTGGGGGCGGGGCGGCTCACCC...   0.000000  \n",
       "GGAGAGGCCCTCTGCGCCCTAGCGCGAAGGCCGCGCGCCTGGCTCGC...   0.000000  \n",
       "CAATGGGTGACGTCGCGCGGCTCCTACCACCGCGCGCGACCGTGGGG...   0.000000  \n",
       "\n",
       "[2930 rows x 2930 columns]"
      ]
     },
     "execution_count": 84,
     "metadata": {},
     "output_type": "execute_result"
    }
   ],
   "source": [
    "df"
   ]
  },
  {
   "cell_type": "code",
   "execution_count": 85,
   "metadata": {
    "collapsed": false,
    "pycharm": {
     "name": "#%%\n"
    }
   },
   "outputs": [],
   "source": [
    "dataset = mb.datasets.SelexDataset(df, n_rounds=df.shape[1], enr_series=False)\n",
    "n_batch = len(set(dataset.batch))\n",
    "n_kernels = len(pwms)\n",
    "train = tdata.DataLoader(dataset=dataset, batch_size=256, shuffle=True)\n"
   ]
  },
  {
   "cell_type": "code",
   "execution_count": 86,
   "metadata": {
    "collapsed": false,
    "pycharm": {
     "name": "#%%\n"
    }
   },
   "outputs": [],
   "source": [
    "# df_neg = df.copy()\n",
    "# df_neg.index = bg\n",
    "# df_neg.index = df_neg.index.astype(str)\n",
    "\n",
    "# dataset_neg = mb.datasets.SelexDataset(df_neg, n_rounds=df_neg.shape[1], enr_series=False)\n",
    "# train_neg = tdata.DataLoader(dataset=dataset_neg, batch_size=512, shuffle=True)\n"
   ]
  },
  {
   "attachments": {},
   "cell_type": "markdown",
   "metadata": {
    "collapsed": false,
    "pycharm": {
     "name": "#%% md\n"
    }
   },
   "source": [
    "### The parameter log_dynamic defines whether a kNN-graph will be used"
   ]
  },
  {
   "cell_type": "code",
   "execution_count": 87,
   "metadata": {},
   "outputs": [
    {
     "data": {
      "text/plain": [
       "286"
      ]
     },
     "execution_count": 87,
     "metadata": {},
     "output_type": "execute_result"
    }
   ],
   "source": [
    "len(pwms)"
   ]
  },
  {
   "cell_type": "code",
   "execution_count": 88,
   "metadata": {},
   "outputs": [],
   "source": [
    "# for unit tests\n",
    "# torch.save(train, '../../../tests/_data/pancreas_multiome.pth')\n",
    "# ad.write('../../../tests/_data/pancreas_multiome.h5ad', compression='lzf')"
   ]
  },
  {
   "cell_type": "code",
   "execution_count": 89,
   "metadata": {},
   "outputs": [
    {
     "data": {
      "text/plain": [
       "((2930, 13197), (2930, 13187))"
      ]
     },
     "execution_count": 89,
     "metadata": {},
     "output_type": "execute_result"
    }
   ],
   "source": [
    "rna_sample.shape, ad.shape"
   ]
  },
  {
   "cell_type": "code",
   "execution_count": 90,
   "metadata": {},
   "outputs": [
    {
     "name": "stdout",
     "output_type": "stream",
     "text": [
      "cuda:0\n"
     ]
    }
   ],
   "source": [
    "device = torch.device(\"cuda:0\" if torch.cuda.is_available() else \"cpu\")\n",
    "print(device)"
   ]
  },
  {
   "cell_type": "code",
   "execution_count": 91,
   "metadata": {},
   "outputs": [
    {
     "name": "stdout",
     "output_type": "stream",
     "text": [
      "(2930, 2930)\n",
      "setting up log dynamic\n",
      "no err\n"
     ]
    }
   ],
   "source": [
    "criterion = mb.tl.PoissonLoss()\n",
    "w = [r.shape[1] for r in pwms]\n",
    "optimize_log_dynamic = True\n",
    "model = mb.models.Mubind.make_model(train, n_kernels, criterion, kernels=[0, 2,] + w, # [0, 2] + w,\n",
    "                                        # use_dinuc=True, dinuc_mode='full',\n",
    "                                        optimize_sym_weight=False,\n",
    "                                        optimize_exp_barrier=True,\n",
    "                                        optimize_prob_act=True,\n",
    "                                        optimize_log_dynamic=optimize_log_dynamic,\n",
    "                                        use_dinuc=False,\n",
    "                                        device=device,\n",
    "                                        p_dropout=0.8,\n",
    "                                        prepare_knn=optimize_log_dynamic,\n",
    "                                        velocity_graph=vgraph,\n",
    "                                        knn_free_weights=False,\n",
    "                                        adata=None if not optimize_log_dynamic else ad,\n",
    "                                        dinuc_mode=None)\n",
    "print('no err')"
   ]
  },
  {
   "cell_type": "code",
   "execution_count": 92,
   "metadata": {},
   "outputs": [
    {
     "data": {
      "text/plain": [
       "torch.Size([2930, 2930])"
      ]
     },
     "execution_count": 92,
     "metadata": {},
     "output_type": "execute_result"
    }
   ],
   "source": [
    "model.graph_module.conn_sparse.shape"
   ]
  },
  {
   "cell_type": "code",
   "execution_count": 93,
   "metadata": {
    "collapsed": false,
    "pycharm": {
     "name": "#%%\n"
    }
   },
   "outputs": [
    {
     "name": "stdout",
     "output_type": "stream",
     "text": [
      "setting up log dynamic\n",
      "True\n",
      "12\n",
      "order None\n",
      "0 out of 288...\n",
      "break\n"
     ]
    },
    {
     "data": {
      "image/png": "[encoded data removed]",
      "text/plain": [
       "<Figure size 1350x270 with 9 Axes>"
      ]
     },
     "metadata": {},
     "output_type": "display_data"
    },
    {
     "name": "stdout",
     "output_type": "stream",
     "text": [
      "verbose=2\n",
      "current kernel 0\n",
      "\n",
      "### next filter to optimize 0 (intercept)\n",
      "\n",
      "FREEZING KERNELS\n",
      "optimizing feature type mono\n",
      "next kernels {0, 1, 2, 3, 4, 5, 6, 7, 8, 9, 10, 11, 12, 13, 14, 15, 16, 17, 18, 19, 20, 21, 22, 23, 24, 25, 26, 27, 28, 29, 30, 31, 32, 33, 34, 35, 36, 37, 38, 39, 40, 41, 42, 43, 44, 45, 46, 47, 48, 49, 50, 51, 52, 53, 54, 55, 56, 57, 58, 59, 60, 61, 62, 63, 64, 65, 66, 67, 68, 69}\n",
      "filters mask None\n",
      "optimizer:  Adam , criterion: PoissonLoss \n",
      "epochs: 10 \n",
      "early_stopping: 250\n",
      "lr= 0.01, weight_decay= 0, dir weight= 0\n"
     ]
    },
    {
     "name": "stderr",
     "output_type": "stream",
     "text": [
      " 10%|█████▎                                               | 1/10 [00:04<00:43,  4.80s/it]\n"
     ]
    },
    {
     "ename": "KeyboardInterrupt",
     "evalue": "",
     "output_type": "error",
     "traceback": [
      "\u001b[0;31m---------------------------------------------------------------------------\u001b[0m",
      "\u001b[0;31mKeyboardInterrupt\u001b[0m                         Traceback (most recent call last)",
      "Cell \u001b[0;32mIn[93], line 58\u001b[0m\n\u001b[1;32m     55\u001b[0m \u001b[38;5;66;03m# mb.pl.conv(model, n_cols=2)\u001b[39;00m\n\u001b[1;32m     56\u001b[0m \u001b[38;5;28;01mimport\u001b[39;00m \u001b[38;5;21;01mtorch\u001b[39;00m\u001b[38;5;21;01m.\u001b[39;00m\u001b[38;5;21;01mnn\u001b[39;00m \u001b[38;5;28;01mas\u001b[39;00m \u001b[38;5;21;01mtnn\u001b[39;00m\n\u001b[0;32m---> 58\u001b[0m model, best_loss \u001b[38;5;241m=\u001b[39m \u001b[43mmodel\u001b[49m\u001b[38;5;241;43m.\u001b[39;49m\u001b[43moptimize_iterative\u001b[49m\u001b[43m(\u001b[49m\u001b[43mtrain\u001b[49m\u001b[43m,\u001b[49m\u001b[43m \u001b[49m\u001b[43mn_epochs\u001b[49m\u001b[38;5;241;43m=\u001b[39;49m\u001b[43m[\u001b[49m\u001b[43mn_epochs_intercept\u001b[49m\u001b[43m]\u001b[49m\u001b[43m \u001b[49m\u001b[38;5;241;43m+\u001b[39;49m\u001b[43m \u001b[49m\u001b[43m[\u001b[49m\u001b[43mn_epochs_kernel\u001b[49m\u001b[43m]\u001b[49m\u001b[43m \u001b[49m\u001b[38;5;241;43m*\u001b[39;49m\u001b[43m \u001b[49m\u001b[43m(\u001b[49m\u001b[43mn_kernels\u001b[49m\u001b[43m \u001b[49m\u001b[38;5;241;43m+\u001b[39;49m\u001b[43m \u001b[49m\u001b[38;5;241;43m1\u001b[39;49m\u001b[43m)\u001b[49m\u001b[43m,\u001b[49m\n\u001b[1;32m     59\u001b[0m \u001b[43m                                            \u001b[49m\u001b[43mshow_logo\u001b[49m\u001b[38;5;241;43m=\u001b[39;49m\u001b[38;5;28;43;01mFalse\u001b[39;49;00m\u001b[43m,\u001b[49m\u001b[43m \u001b[49m\u001b[43muse_mono\u001b[49m\u001b[38;5;241;43m=\u001b[39;49m\u001b[38;5;28;43;01mTrue\u001b[39;49;00m\u001b[43m,\u001b[49m\u001b[43m \u001b[49m\u001b[43muse_dinuc\u001b[49m\u001b[38;5;241;43m=\u001b[39;49m\u001b[38;5;28;43;01mFalse\u001b[39;49;00m\u001b[43m,\u001b[49m\u001b[43m \u001b[49m\u001b[43mdinuc_mode\u001b[49m\u001b[38;5;241;43m=\u001b[39;49m\u001b[38;5;124;43m'\u001b[39;49m\u001b[38;5;124;43mlocal\u001b[39;49m\u001b[38;5;124;43m'\u001b[39;49m\u001b[43m,\u001b[49m\n\u001b[1;32m     60\u001b[0m \u001b[43m                                            \u001b[49m\u001b[43mopt_kernel_shift\u001b[49m\u001b[38;5;241;43m=\u001b[39;49m\u001b[43m[\u001b[49m\u001b[38;5;241;43m0\u001b[39;49m\u001b[43m,\u001b[49m\u001b[43m \u001b[49m\u001b[38;5;241;43m0\u001b[39;49m\u001b[43m]\u001b[49m\u001b[43m \u001b[49m\u001b[38;5;241;43m+\u001b[39;49m\u001b[43m \u001b[49m\u001b[43m[\u001b[49m\u001b[38;5;241;43m0\u001b[39;49m\u001b[43m]\u001b[49m\u001b[43m \u001b[49m\u001b[38;5;241;43m*\u001b[39;49m\u001b[43m \u001b[49m\u001b[43m(\u001b[49m\u001b[43mn_kernels\u001b[49m\u001b[43m)\u001b[49m\u001b[43m,\u001b[49m\n\u001b[1;32m     61\u001b[0m \u001b[43m                                            \u001b[49m\u001b[43mopt_kernel_length\u001b[49m\u001b[38;5;241;43m=\u001b[39;49m\u001b[43m[\u001b[49m\u001b[38;5;241;43m0\u001b[39;49m\u001b[43m,\u001b[49m\u001b[43m \u001b[49m\u001b[38;5;241;43m0\u001b[39;49m\u001b[43m]\u001b[49m\u001b[43m \u001b[49m\u001b[38;5;241;43m+\u001b[39;49m\u001b[43m \u001b[49m\u001b[43m[\u001b[49m\u001b[38;5;241;43m0\u001b[39;49m\u001b[43m]\u001b[49m\u001b[43m \u001b[49m\u001b[38;5;241;43m*\u001b[39;49m\u001b[43m \u001b[49m\u001b[43m(\u001b[49m\u001b[43mn_kernels\u001b[49m\u001b[43m)\u001b[49m\u001b[43m,\u001b[49m\n\u001b[1;32m     62\u001b[0m \u001b[43m                                            \u001b[49m\u001b[43mopt_one_step\u001b[49m\u001b[38;5;241;43m=\u001b[39;49m\u001b[38;5;28;43;01mTrue\u001b[39;49;00m\u001b[43m,\u001b[49m\n\u001b[1;32m     63\u001b[0m \u001b[43m                                            \u001b[49m\u001b[43mshift_max\u001b[49m\u001b[38;5;241;43m=\u001b[39;49m\u001b[38;5;241;43m1\u001b[39;49m\u001b[43m,\u001b[49m\u001b[43m \u001b[49m\u001b[43mshift_step\u001b[49m\u001b[38;5;241;43m=\u001b[39;49m\u001b[38;5;241;43m1\u001b[39;49m\u001b[43m,\u001b[49m\n\u001b[1;32m     64\u001b[0m \u001b[43m                                            \u001b[49m\u001b[43mn_unfreeze_kernels\u001b[49m\u001b[38;5;241;43m=\u001b[39;49m\u001b[43mn_unfreeze_kernels\u001b[49m\u001b[43m,\u001b[49m\n\u001b[1;32m     65\u001b[0m \u001b[43m                                            \u001b[49m\u001b[38;5;66;43;03m# optimiser=topti.SGD,\u001b[39;49;00m\n\u001b[1;32m     66\u001b[0m \u001b[43m                                            \u001b[49m\u001b[43moptimiser\u001b[49m\u001b[38;5;241;43m=\u001b[39;49m\u001b[43mtopti\u001b[49m\u001b[38;5;241;43m.\u001b[39;49m\u001b[43mAdam\u001b[49m\u001b[43m,\u001b[49m\n\u001b[1;32m     67\u001b[0m \u001b[43m                                            \u001b[49m\u001b[38;5;66;43;03m# skip_kernels=list(range(1, 2)) + list(range(5, 500)),\u001b[39;49;00m\n\u001b[1;32m     68\u001b[0m \u001b[43m                                            \u001b[49m\u001b[43mn_batches\u001b[49m\u001b[38;5;241;43m=\u001b[39;49m\u001b[38;5;241;43m1\u001b[39;49m\u001b[43m,\u001b[49m\u001b[43m \u001b[49m\u001b[43mn_rounds\u001b[49m\u001b[38;5;241;43m=\u001b[39;49m\u001b[38;5;241;43m2\u001b[39;49m\u001b[43m,\u001b[49m\u001b[43m \u001b[49m\u001b[43mnum_epochs_shift_factor\u001b[49m\u001b[38;5;241;43m=\u001b[39;49m\u001b[38;5;241;43m1\u001b[39;49m\u001b[43m,\u001b[49m\u001b[43m \u001b[49m\u001b[38;5;66;43;03m# log_etas=log_etas, # log_etas=log_etas,\u001b[39;49;00m\n\u001b[1;32m     69\u001b[0m \u001b[43m                                            \u001b[49m\u001b[43mkernels\u001b[49m\u001b[43m \u001b[49m\u001b[38;5;241;43m=\u001b[39;49m\u001b[43m \u001b[49m\u001b[43m[\u001b[49m\u001b[38;5;241;43m0\u001b[39;49m\u001b[43m]\u001b[49m\u001b[43m \u001b[49m\u001b[38;5;241;43m+\u001b[39;49m\u001b[43m \u001b[49m\u001b[43m[\u001b[49m\u001b[38;5;241;43m2\u001b[39;49m\u001b[43m]\u001b[49m\u001b[43m \u001b[49m\u001b[38;5;241;43m+\u001b[39;49m\u001b[43m \u001b[49m\u001b[43m[\u001b[49m\u001b[38;5;241;43m20\u001b[39;49m\u001b[43m]\u001b[49m\u001b[43m \u001b[49m\u001b[38;5;241;43m*\u001b[39;49m\u001b[43m \u001b[49m\u001b[43m(\u001b[49m\u001b[43mn_kernels\u001b[49m\u001b[43m)\u001b[49m\u001b[43m,\u001b[49m\u001b[43m \u001b[49m\u001b[43mr2_per_epoch\u001b[49m\u001b[38;5;241;43m=\u001b[39;49m\u001b[38;5;28;43;01mTrue\u001b[39;49;00m\u001b[43m,\u001b[49m\n\u001b[1;32m     70\u001b[0m \u001b[43m                                            \u001b[49m\u001b[43mexp_max\u001b[49m\u001b[38;5;241;43m=\u001b[39;49m\u001b[38;5;241;43m8\u001b[39;49m\u001b[43m,\u001b[49m\n\u001b[1;32m     71\u001b[0m \u001b[43m                                            \u001b[49m\u001b[43mearly_stopping\u001b[49m\u001b[38;5;241;43m=\u001b[39;49m\u001b[38;5;241;43m250\u001b[39;49m\u001b[43m,\u001b[49m\u001b[43m \u001b[49m\u001b[43mlog_each\u001b[49m\u001b[38;5;241;43m=\u001b[39;49m\u001b[43mlog_each\u001b[49m\u001b[43m,\u001b[49m\u001b[43m \u001b[49m\u001b[43mw\u001b[49m\u001b[38;5;241;43m=\u001b[39;49m\u001b[38;5;241;43m20\u001b[39;49m\u001b[43m,\u001b[49m\u001b[43m \u001b[49m\u001b[43mmax_w\u001b[49m\u001b[38;5;241;43m=\u001b[39;49m\u001b[38;5;241;43m20\u001b[39;49m\u001b[43m)\u001b[49m \u001b[38;5;66;03m#  target_dim=train.dataset.signal.shape[1])\u001b[39;00m\n\u001b[1;32m     73\u001b[0m model_by_logdynamic[optimize_log_dynamic] \u001b[38;5;241m=\u001b[39m model\n",
      "File \u001b[0;32m~/workspace/theislab/mubind/mubind/models/models.py:978\u001b[0m, in \u001b[0;36mMubind.optimize_iterative\u001b[0;34m(self, train, max_w, n_epochs, early_stopping, log_each, opt_kernel_shift, opt_kernel_length, opt_one_step, expand_length_max, expand_length_step, show_logo, optimiser, seed, init_random, joint_learning, ignore_kernel, n_unfreeze_kernels, lr, weight_decay, stop_at_kernel, dirichlet_regularization, verbose, exp_max, shift_max, shift_step, r2_per_epoch, skip_kernels, log_next_r2, **kwargs)\u001b[0m\n\u001b[1;32m    975\u001b[0m \u001b[38;5;28;01mif\u001b[39;00m verbose \u001b[38;5;241m!=\u001b[39m \u001b[38;5;241m0\u001b[39m:\n\u001b[1;32m    976\u001b[0m     \u001b[38;5;28mprint\u001b[39m(\u001b[38;5;124m\"\u001b[39m\u001b[38;5;124mfilters mask\u001b[39m\u001b[38;5;124m\"\u001b[39m, \u001b[38;5;28mself\u001b[39m\u001b[38;5;241m.\u001b[39mget_ignore_kernel())\n\u001b[0;32m--> 978\u001b[0m \u001b[38;5;28;43mself\u001b[39;49m\u001b[38;5;241;43m.\u001b[39;49m\u001b[43moptimize_simple\u001b[49m\u001b[43m(\u001b[49m\n\u001b[1;32m    979\u001b[0m \u001b[43m    \u001b[49m\u001b[43mtrain\u001b[49m\u001b[43m,\u001b[49m\n\u001b[1;32m    980\u001b[0m \u001b[43m    \u001b[49m\u001b[43mnext_optimiser\u001b[49m\u001b[43m,\u001b[49m\n\u001b[1;32m    981\u001b[0m \u001b[43m    \u001b[49m\u001b[43mnum_epochs\u001b[49m\u001b[38;5;241;43m=\u001b[39;49m\u001b[43mn_epochs\u001b[49m\u001b[43m[\u001b[49m\u001b[43mi\u001b[49m\u001b[43m]\u001b[49m\u001b[43m \u001b[49m\u001b[38;5;28;43;01mif\u001b[39;49;00m\u001b[43m \u001b[49m\u001b[38;5;28;43misinstance\u001b[39;49m\u001b[43m(\u001b[49m\u001b[43mn_epochs\u001b[49m\u001b[43m,\u001b[49m\u001b[43m \u001b[49m\u001b[38;5;28;43mlist\u001b[39;49m\u001b[43m)\u001b[49m\u001b[43m \u001b[49m\u001b[38;5;28;43;01melse\u001b[39;49;00m\u001b[43m \u001b[49m\u001b[43mn_epochs\u001b[49m\u001b[43m,\u001b[49m\n\u001b[1;32m    982\u001b[0m \u001b[43m    \u001b[49m\u001b[43mearly_stopping\u001b[49m\u001b[38;5;241;43m=\u001b[39;49m\u001b[43mnext_early_stopping\u001b[49m\u001b[43m,\u001b[49m\n\u001b[1;32m    983\u001b[0m \u001b[43m    \u001b[49m\u001b[43mlog_each\u001b[49m\u001b[38;5;241;43m=\u001b[39;49m\u001b[43mlog_each\u001b[49m\u001b[43m,\u001b[49m\n\u001b[1;32m    984\u001b[0m \u001b[43m    \u001b[49m\u001b[43mdirichlet_regularization\u001b[49m\u001b[38;5;241;43m=\u001b[39;49m\u001b[43mdirichlet_regularization\u001b[49m\u001b[43m,\u001b[49m\n\u001b[1;32m    985\u001b[0m \u001b[43m    \u001b[49m\u001b[43mexp_max\u001b[49m\u001b[38;5;241;43m=\u001b[39;49m\u001b[43mexp_max\u001b[49m\u001b[43m,\u001b[49m\n\u001b[1;32m    986\u001b[0m \u001b[43m    \u001b[49m\u001b[43mverbose\u001b[49m\u001b[38;5;241;43m=\u001b[39;49m\u001b[43mverbose\u001b[49m\u001b[43m,\u001b[49m\n\u001b[1;32m    987\u001b[0m \u001b[43m    \u001b[49m\u001b[43mr2_per_epoch\u001b[49m\u001b[38;5;241;43m=\u001b[39;49m\u001b[43mr2_per_epoch\u001b[49m\u001b[43m,\u001b[49m\n\u001b[1;32m    988\u001b[0m \u001b[43m    \u001b[49m\u001b[43mi\u001b[49m\u001b[38;5;241;43m=\u001b[39;49m\u001b[43mi\u001b[49m\u001b[43m,\u001b[49m\n\u001b[1;32m    989\u001b[0m \u001b[43m    \u001b[49m\u001b[38;5;241;43m*\u001b[39;49m\u001b[38;5;241;43m*\u001b[39;49m\u001b[43mkwargs\u001b[49m\u001b[43m,\u001b[49m\n\u001b[1;32m    990\u001b[0m \u001b[43m\u001b[49m\u001b[43m)\u001b[49m\n\u001b[1;32m    992\u001b[0m \u001b[38;5;66;03m# vprint('grad')\u001b[39;00m\n\u001b[1;32m    993\u001b[0m \u001b[38;5;66;03m# vprint(model.binding_modes.conv_mono[1].weight.grad)\u001b[39;00m\n\u001b[1;32m    994\u001b[0m \u001b[38;5;66;03m# vprint(model.binding_modes.conv_di[1].weight.grad)\u001b[39;00m\n\u001b[1;32m    995\u001b[0m \u001b[38;5;66;03m# vprint('')\u001b[39;00m\n\u001b[1;32m    997\u001b[0m \u001b[38;5;28mself\u001b[39m\u001b[38;5;241m.\u001b[39mloss_color \u001b[38;5;241m+\u001b[39m\u001b[38;5;241m=\u001b[39m \u001b[38;5;28mlist\u001b[39m(np\u001b[38;5;241m.\u001b[39mrepeat(colors[i \u001b[38;5;241m%\u001b[39m \u001b[38;5;28mlen\u001b[39m(colors)], \u001b[38;5;28mlen\u001b[39m(\u001b[38;5;28mself\u001b[39m\u001b[38;5;241m.\u001b[39mloss_history) \u001b[38;5;241m-\u001b[39m \u001b[38;5;28mlen\u001b[39m(\u001b[38;5;28mself\u001b[39m\u001b[38;5;241m.\u001b[39mloss_color)))\n",
      "File \u001b[0;32m~/workspace/theislab/mubind/mubind/models/models.py:641\u001b[0m, in \u001b[0;36mMubind.optimize_simple\u001b[0;34m(self, dataloader, optimiser, num_epochs, early_stopping, dirichlet_regularization, exp_max, log_each, verbose, r2_per_epoch, **kwargs)\u001b[0m\n\u001b[1;32m    638\u001b[0m optimiser\u001b[38;5;241m.\u001b[39mzero_grad(set_to_none\u001b[38;5;241m=\u001b[39m\u001b[38;5;28;01mNone\u001b[39;00m)\n\u001b[1;32m    640\u001b[0m \u001b[38;5;66;03m# outputs, reconstruction = model(inputs)  # Forward pass through the network.\u001b[39;00m\n\u001b[0;32m--> 641\u001b[0m outputs \u001b[38;5;241m=\u001b[39m \u001b[38;5;28;43mself\u001b[39;49m\u001b[38;5;241;43m.\u001b[39;49m\u001b[43mforward\u001b[49m\u001b[43m(\u001b[49m\u001b[38;5;241;43m*\u001b[39;49m\u001b[38;5;241;43m*\u001b[39;49m\u001b[43minputs\u001b[49m\u001b[43m)\u001b[49m  \u001b[38;5;66;03m# Forward pass through the network.\u001b[39;00m\n\u001b[1;32m    643\u001b[0m \u001b[38;5;66;03m# print(outputs.shape, rounds.shape)\u001b[39;00m\n\u001b[1;32m    644\u001b[0m \u001b[38;5;66;03m# print(torch.cat([outputs, rounds], axis=1)[:3])\u001b[39;00m\n\u001b[1;32m    645\u001b[0m \u001b[38;5;66;03m# assert False\u001b[39;00m\n\u001b[1;32m    646\u001b[0m \n\u001b[1;32m    647\u001b[0m \u001b[38;5;66;03m# weight_dist = model.weight_distances_min_k()\u001b[39;00m\n\u001b[1;32m    648\u001b[0m \u001b[38;5;28;01mif\u001b[39;00m dirichlet_regularization \u001b[38;5;241m==\u001b[39m \u001b[38;5;241m0\u001b[39m:\n",
      "File \u001b[0;32m~/workspace/theislab/mubind/mubind/models/models.py:248\u001b[0m, in \u001b[0;36mMubind.forward\u001b[0;34m(self, mono, **kwargs)\u001b[0m\n\u001b[1;32m    245\u001b[0m mono \u001b[38;5;241m=\u001b[39m torch\u001b[38;5;241m.\u001b[39munsqueeze(mono, \u001b[38;5;241m1\u001b[39m)\n\u001b[1;32m    247\u001b[0m \u001b[38;5;66;03m# binding_per_mode: matrix of size [batchsize, number of binding modes]\u001b[39;00m\n\u001b[0;32m--> 248\u001b[0m binding_per_mode \u001b[38;5;241m=\u001b[39m \u001b[38;5;28;43mself\u001b[39;49m\u001b[38;5;241;43m.\u001b[39;49m\u001b[43mbinding_modes\u001b[49m\u001b[43m(\u001b[49m\u001b[43mmono\u001b[49m\u001b[38;5;241;43m=\u001b[39;49m\u001b[43mmono\u001b[49m\u001b[43m,\u001b[49m\u001b[43m \u001b[49m\u001b[43mmono_rev\u001b[49m\u001b[38;5;241;43m=\u001b[39;49m\u001b[43mmono_rev\u001b[49m\u001b[43m,\u001b[49m\u001b[43m \u001b[49m\u001b[38;5;241;43m*\u001b[39;49m\u001b[38;5;241;43m*\u001b[39;49m\u001b[43mkwargs\u001b[49m\u001b[43m)\u001b[49m \u001b[38;5;66;03m# sequences x filters (Se, F)\u001b[39;00m\n\u001b[1;32m    249\u001b[0m binding_scores \u001b[38;5;241m=\u001b[39m \u001b[38;5;28mself\u001b[39m\u001b[38;5;241m.\u001b[39mactivities(binding_per_mode, \u001b[38;5;241m*\u001b[39m\u001b[38;5;241m*\u001b[39mkwargs) \u001b[38;5;66;03m# sequences x samples (Se, F) * (F, Sa) = (Se, Sa)\u001b[39;00m\n\u001b[1;32m    250\u001b[0m \u001b[38;5;66;03m# print('mode')\u001b[39;00m\n\u001b[1;32m    251\u001b[0m \u001b[38;5;66;03m# print(binding_per_mode)\u001b[39;00m\n\u001b[1;32m    252\u001b[0m \u001b[38;5;66;03m# print('scores')\u001b[39;00m\n\u001b[1;32m    253\u001b[0m \u001b[38;5;66;03m# print(binding_scores)\u001b[39;00m\n",
      "File \u001b[0;32m~/miniconda3/envs/mubind/lib/python3.9/site-packages/torch/nn/modules/module.py:1532\u001b[0m, in \u001b[0;36mModule._wrapped_call_impl\u001b[0;34m(self, *args, **kwargs)\u001b[0m\n\u001b[1;32m   1530\u001b[0m     \u001b[38;5;28;01mreturn\u001b[39;00m \u001b[38;5;28mself\u001b[39m\u001b[38;5;241m.\u001b[39m_compiled_call_impl(\u001b[38;5;241m*\u001b[39margs, \u001b[38;5;241m*\u001b[39m\u001b[38;5;241m*\u001b[39mkwargs)  \u001b[38;5;66;03m# type: ignore[misc]\u001b[39;00m\n\u001b[1;32m   1531\u001b[0m \u001b[38;5;28;01melse\u001b[39;00m:\n\u001b[0;32m-> 1532\u001b[0m     \u001b[38;5;28;01mreturn\u001b[39;00m \u001b[38;5;28;43mself\u001b[39;49m\u001b[38;5;241;43m.\u001b[39;49m\u001b[43m_call_impl\u001b[49m\u001b[43m(\u001b[49m\u001b[38;5;241;43m*\u001b[39;49m\u001b[43margs\u001b[49m\u001b[43m,\u001b[49m\u001b[43m \u001b[49m\u001b[38;5;241;43m*\u001b[39;49m\u001b[38;5;241;43m*\u001b[39;49m\u001b[43mkwargs\u001b[49m\u001b[43m)\u001b[49m\n",
      "File \u001b[0;32m~/miniconda3/envs/mubind/lib/python3.9/site-packages/torch/nn/modules/module.py:1541\u001b[0m, in \u001b[0;36mModule._call_impl\u001b[0;34m(self, *args, **kwargs)\u001b[0m\n\u001b[1;32m   1536\u001b[0m \u001b[38;5;66;03m# If we don't have any hooks, we want to skip the rest of the logic in\u001b[39;00m\n\u001b[1;32m   1537\u001b[0m \u001b[38;5;66;03m# this function, and just call forward.\u001b[39;00m\n\u001b[1;32m   1538\u001b[0m \u001b[38;5;28;01mif\u001b[39;00m \u001b[38;5;129;01mnot\u001b[39;00m (\u001b[38;5;28mself\u001b[39m\u001b[38;5;241m.\u001b[39m_backward_hooks \u001b[38;5;129;01mor\u001b[39;00m \u001b[38;5;28mself\u001b[39m\u001b[38;5;241m.\u001b[39m_backward_pre_hooks \u001b[38;5;129;01mor\u001b[39;00m \u001b[38;5;28mself\u001b[39m\u001b[38;5;241m.\u001b[39m_forward_hooks \u001b[38;5;129;01mor\u001b[39;00m \u001b[38;5;28mself\u001b[39m\u001b[38;5;241m.\u001b[39m_forward_pre_hooks\n\u001b[1;32m   1539\u001b[0m         \u001b[38;5;129;01mor\u001b[39;00m _global_backward_pre_hooks \u001b[38;5;129;01mor\u001b[39;00m _global_backward_hooks\n\u001b[1;32m   1540\u001b[0m         \u001b[38;5;129;01mor\u001b[39;00m _global_forward_hooks \u001b[38;5;129;01mor\u001b[39;00m _global_forward_pre_hooks):\n\u001b[0;32m-> 1541\u001b[0m     \u001b[38;5;28;01mreturn\u001b[39;00m \u001b[43mforward_call\u001b[49m\u001b[43m(\u001b[49m\u001b[38;5;241;43m*\u001b[39;49m\u001b[43margs\u001b[49m\u001b[43m,\u001b[49m\u001b[43m \u001b[49m\u001b[38;5;241;43m*\u001b[39;49m\u001b[38;5;241;43m*\u001b[39;49m\u001b[43mkwargs\u001b[49m\u001b[43m)\u001b[49m\n\u001b[1;32m   1543\u001b[0m \u001b[38;5;28;01mtry\u001b[39;00m:\n\u001b[1;32m   1544\u001b[0m     result \u001b[38;5;241m=\u001b[39m \u001b[38;5;28;01mNone\u001b[39;00m\n",
      "File \u001b[0;32m~/workspace/theislab/mubind/mubind/models/models.py:1549\u001b[0m, in \u001b[0;36mBindingLayer.forward\u001b[0;34m(self, mono, mono_rev, di, di_rev, **kwargs)\u001b[0m\n\u001b[1;32m   1544\u001b[0m     \u001b[38;5;66;03m# print(temp.shape)\u001b[39;00m\n\u001b[1;32m   1545\u001b[0m     \u001b[38;5;66;03m# print('here....')\u001b[39;00m\n\u001b[1;32m   1546\u001b[0m     \u001b[38;5;66;03m# assert False\u001b[39;00m\n\u001b[1;32m   1547\u001b[0m \u001b[38;5;28;01melse\u001b[39;00m:\n\u001b[1;32m   1548\u001b[0m     out_mono \u001b[38;5;241m=\u001b[39m \u001b[38;5;28mself\u001b[39m\u001b[38;5;241m.\u001b[39mconv_mono[i](mono)\n\u001b[0;32m-> 1549\u001b[0m     out_mono_rev \u001b[38;5;241m=\u001b[39m \u001b[38;5;28;43mself\u001b[39;49m\u001b[38;5;241;43m.\u001b[39;49m\u001b[43mconv_mono\u001b[49m\u001b[43m[\u001b[49m\u001b[43mi\u001b[49m\u001b[43m]\u001b[49m\u001b[43m(\u001b[49m\u001b[43mmono_rev\u001b[49m\u001b[43m)\u001b[49m\n\u001b[1;32m   1550\u001b[0m     temp \u001b[38;5;241m=\u001b[39m torch\u001b[38;5;241m.\u001b[39mcat((out_mono, out_mono_rev), dim\u001b[38;5;241m=\u001b[39m\u001b[38;5;241m3\u001b[39m)\n\u001b[1;32m   1552\u001b[0m \u001b[38;5;66;03m# this particular step can generate out of bounds due to the exponential cost\u001b[39;00m\n\u001b[1;32m   1553\u001b[0m \u001b[38;5;66;03m# print(temp_mono.type())\u001b[39;00m\n\u001b[1;32m   1554\u001b[0m \u001b[38;5;66;03m# print(temp.shape, temp.type())\u001b[39;00m\n\u001b[1;32m   1555\u001b[0m \u001b[38;5;66;03m# assert False\u001b[39;00m\n",
      "File \u001b[0;32m~/miniconda3/envs/mubind/lib/python3.9/site-packages/torch/nn/modules/module.py:1532\u001b[0m, in \u001b[0;36mModule._wrapped_call_impl\u001b[0;34m(self, *args, **kwargs)\u001b[0m\n\u001b[1;32m   1530\u001b[0m     \u001b[38;5;28;01mreturn\u001b[39;00m \u001b[38;5;28mself\u001b[39m\u001b[38;5;241m.\u001b[39m_compiled_call_impl(\u001b[38;5;241m*\u001b[39margs, \u001b[38;5;241m*\u001b[39m\u001b[38;5;241m*\u001b[39mkwargs)  \u001b[38;5;66;03m# type: ignore[misc]\u001b[39;00m\n\u001b[1;32m   1531\u001b[0m \u001b[38;5;28;01melse\u001b[39;00m:\n\u001b[0;32m-> 1532\u001b[0m     \u001b[38;5;28;01mreturn\u001b[39;00m \u001b[38;5;28;43mself\u001b[39;49m\u001b[38;5;241;43m.\u001b[39;49m\u001b[43m_call_impl\u001b[49m\u001b[43m(\u001b[49m\u001b[38;5;241;43m*\u001b[39;49m\u001b[43margs\u001b[49m\u001b[43m,\u001b[49m\u001b[43m \u001b[49m\u001b[38;5;241;43m*\u001b[39;49m\u001b[38;5;241;43m*\u001b[39;49m\u001b[43mkwargs\u001b[49m\u001b[43m)\u001b[49m\n",
      "File \u001b[0;32m~/miniconda3/envs/mubind/lib/python3.9/site-packages/torch/nn/modules/module.py:1541\u001b[0m, in \u001b[0;36mModule._call_impl\u001b[0;34m(self, *args, **kwargs)\u001b[0m\n\u001b[1;32m   1536\u001b[0m \u001b[38;5;66;03m# If we don't have any hooks, we want to skip the rest of the logic in\u001b[39;00m\n\u001b[1;32m   1537\u001b[0m \u001b[38;5;66;03m# this function, and just call forward.\u001b[39;00m\n\u001b[1;32m   1538\u001b[0m \u001b[38;5;28;01mif\u001b[39;00m \u001b[38;5;129;01mnot\u001b[39;00m (\u001b[38;5;28mself\u001b[39m\u001b[38;5;241m.\u001b[39m_backward_hooks \u001b[38;5;129;01mor\u001b[39;00m \u001b[38;5;28mself\u001b[39m\u001b[38;5;241m.\u001b[39m_backward_pre_hooks \u001b[38;5;129;01mor\u001b[39;00m \u001b[38;5;28mself\u001b[39m\u001b[38;5;241m.\u001b[39m_forward_hooks \u001b[38;5;129;01mor\u001b[39;00m \u001b[38;5;28mself\u001b[39m\u001b[38;5;241m.\u001b[39m_forward_pre_hooks\n\u001b[1;32m   1539\u001b[0m         \u001b[38;5;129;01mor\u001b[39;00m _global_backward_pre_hooks \u001b[38;5;129;01mor\u001b[39;00m _global_backward_hooks\n\u001b[1;32m   1540\u001b[0m         \u001b[38;5;129;01mor\u001b[39;00m _global_forward_hooks \u001b[38;5;129;01mor\u001b[39;00m _global_forward_pre_hooks):\n\u001b[0;32m-> 1541\u001b[0m     \u001b[38;5;28;01mreturn\u001b[39;00m \u001b[43mforward_call\u001b[49m\u001b[43m(\u001b[49m\u001b[38;5;241;43m*\u001b[39;49m\u001b[43margs\u001b[49m\u001b[43m,\u001b[49m\u001b[43m \u001b[49m\u001b[38;5;241;43m*\u001b[39;49m\u001b[38;5;241;43m*\u001b[39;49m\u001b[43mkwargs\u001b[49m\u001b[43m)\u001b[49m\n\u001b[1;32m   1543\u001b[0m \u001b[38;5;28;01mtry\u001b[39;00m:\n\u001b[1;32m   1544\u001b[0m     result \u001b[38;5;241m=\u001b[39m \u001b[38;5;28;01mNone\u001b[39;00m\n",
      "File \u001b[0;32m~/miniconda3/envs/mubind/lib/python3.9/site-packages/torch/nn/modules/conv.py:460\u001b[0m, in \u001b[0;36mConv2d.forward\u001b[0;34m(self, input)\u001b[0m\n\u001b[1;32m    459\u001b[0m \u001b[38;5;28;01mdef\u001b[39;00m \u001b[38;5;21mforward\u001b[39m(\u001b[38;5;28mself\u001b[39m, \u001b[38;5;28minput\u001b[39m: Tensor) \u001b[38;5;241m-\u001b[39m\u001b[38;5;241m>\u001b[39m Tensor:\n\u001b[0;32m--> 460\u001b[0m     \u001b[38;5;28;01mreturn\u001b[39;00m \u001b[38;5;28;43mself\u001b[39;49m\u001b[38;5;241;43m.\u001b[39;49m\u001b[43m_conv_forward\u001b[49m\u001b[43m(\u001b[49m\u001b[38;5;28;43minput\u001b[39;49m\u001b[43m,\u001b[49m\u001b[43m \u001b[49m\u001b[38;5;28;43mself\u001b[39;49m\u001b[38;5;241;43m.\u001b[39;49m\u001b[43mweight\u001b[49m\u001b[43m,\u001b[49m\u001b[43m \u001b[49m\u001b[38;5;28;43mself\u001b[39;49m\u001b[38;5;241;43m.\u001b[39;49m\u001b[43mbias\u001b[49m\u001b[43m)\u001b[49m\n",
      "File \u001b[0;32m~/miniconda3/envs/mubind/lib/python3.9/site-packages/torch/nn/modules/conv.py:456\u001b[0m, in \u001b[0;36mConv2d._conv_forward\u001b[0;34m(self, input, weight, bias)\u001b[0m\n\u001b[1;32m    452\u001b[0m \u001b[38;5;28;01mif\u001b[39;00m \u001b[38;5;28mself\u001b[39m\u001b[38;5;241m.\u001b[39mpadding_mode \u001b[38;5;241m!=\u001b[39m \u001b[38;5;124m'\u001b[39m\u001b[38;5;124mzeros\u001b[39m\u001b[38;5;124m'\u001b[39m:\n\u001b[1;32m    453\u001b[0m     \u001b[38;5;28;01mreturn\u001b[39;00m F\u001b[38;5;241m.\u001b[39mconv2d(F\u001b[38;5;241m.\u001b[39mpad(\u001b[38;5;28minput\u001b[39m, \u001b[38;5;28mself\u001b[39m\u001b[38;5;241m.\u001b[39m_reversed_padding_repeated_twice, mode\u001b[38;5;241m=\u001b[39m\u001b[38;5;28mself\u001b[39m\u001b[38;5;241m.\u001b[39mpadding_mode),\n\u001b[1;32m    454\u001b[0m                     weight, bias, \u001b[38;5;28mself\u001b[39m\u001b[38;5;241m.\u001b[39mstride,\n\u001b[1;32m    455\u001b[0m                     _pair(\u001b[38;5;241m0\u001b[39m), \u001b[38;5;28mself\u001b[39m\u001b[38;5;241m.\u001b[39mdilation, \u001b[38;5;28mself\u001b[39m\u001b[38;5;241m.\u001b[39mgroups)\n\u001b[0;32m--> 456\u001b[0m \u001b[38;5;28;01mreturn\u001b[39;00m \u001b[43mF\u001b[49m\u001b[38;5;241;43m.\u001b[39;49m\u001b[43mconv2d\u001b[49m\u001b[43m(\u001b[49m\u001b[38;5;28;43minput\u001b[39;49m\u001b[43m,\u001b[49m\u001b[43m \u001b[49m\u001b[43mweight\u001b[49m\u001b[43m,\u001b[49m\u001b[43m \u001b[49m\u001b[43mbias\u001b[49m\u001b[43m,\u001b[49m\u001b[43m \u001b[49m\u001b[38;5;28;43mself\u001b[39;49m\u001b[38;5;241;43m.\u001b[39;49m\u001b[43mstride\u001b[49m\u001b[43m,\u001b[49m\n\u001b[1;32m    457\u001b[0m \u001b[43m                \u001b[49m\u001b[38;5;28;43mself\u001b[39;49m\u001b[38;5;241;43m.\u001b[39;49m\u001b[43mpadding\u001b[49m\u001b[43m,\u001b[49m\u001b[43m \u001b[49m\u001b[38;5;28;43mself\u001b[39;49m\u001b[38;5;241;43m.\u001b[39;49m\u001b[43mdilation\u001b[49m\u001b[43m,\u001b[49m\u001b[43m \u001b[49m\u001b[38;5;28;43mself\u001b[39;49m\u001b[38;5;241;43m.\u001b[39;49m\u001b[43mgroups\u001b[49m\u001b[43m)\u001b[49m\n",
      "\u001b[0;31mKeyboardInterrupt\u001b[0m: "
     ]
    }
   ],
   "source": [
    "import torch.optim as topti\n",
    "import warnings\n",
    "\n",
    "model_by_logdynamic = {}\n",
    "n_epochs_intercept = 10\n",
    "n_epochs_kernel = 20\n",
    "log_each=75\n",
    "n_unfreeze_kernels=70\n",
    "\n",
    "for optimize_log_dynamic in [True, False]:\n",
    "    warnings.filterwarnings(\"ignore\")\n",
    "\n",
    "    criterion = mb.tl.PoissonLoss()\n",
    "    w = [r.shape[1] for r in pwms]\n",
    "    model = mb.models.Mubind.make_model(train, n_kernels, criterion, kernels=[0, 2,] + w, # [0, 2] + w,\n",
    "                                           # use_dinuc=True, dinuc_mode='full',\n",
    "                                           optimize_sym_weight=False,\n",
    "                                           optimize_exp_barrier=True,\n",
    "                                           optimize_prob_act=True,\n",
    "                                           optimize_log_dynamic=optimize_log_dynamic,\n",
    "                                           use_dinuc=False,\n",
    "                                           device=device,\n",
    "                                           p_dropout=0.8,\n",
    "                                           prepare_knn=optimize_log_dynamic,\n",
    "                                           knn_free_weights=False,\n",
    "                                           adata=None if not optimize_log_dynamic else ad,\n",
    "                                           dinuc_mode=None) # .cuda()\n",
    "\n",
    "    # initialize the reduce kernels\n",
    "    for i, mono_best in enumerate(pwms):\n",
    "        mono_best = mono_best.to_numpy()\n",
    "        if mono_best.shape[-1] == 0:\n",
    "            continue\n",
    "        # print(mono_best.shape, model.binding_modes.conv_mono[i + 1].weight.shape)\n",
    "        # print(model.binding_modes.conv_mono[i + 1].weight.device)\n",
    "        new_w = mono_best.reshape([1, 1] + list(mono_best.shape))\n",
    "        # print(i, i + 1)\n",
    "        model.binding_modes.conv_mono[i + 2].weight = torch.nn.Parameter(torch.tensor(new_w, dtype=torch.float))\n",
    "        # print(model.binding_modes.conv_mono[i + 1].weight.device)\n",
    "    # move the model a final time to the GPU\n",
    "    model = model.to(device)\n",
    "\n",
    "    mb.pl.set_rcParams({'figure.figsize': [15, 3], 'figure.dpi': 90})\n",
    "    mb.pl.logo(model,\n",
    "               title=False,\n",
    "               xticks=False,\n",
    "               rowspan_dinuc=0,\n",
    "               rowspan_mono=1,\n",
    "               n_rows=5,\n",
    "               n_cols=12,\n",
    "               stop_at=10   ) # n_cols=len(reduced_groups))\n",
    "\n",
    "    mb.pl.set_rcParams({'figure.figsize': [20, 5], 'figure.dpi': 100})\n",
    "\n",
    "    # mb.pl.conv(model, n_cols=2)\n",
    "    import torch.nn as tnn\n",
    "\n",
    "    model, best_loss = model.optimize_iterative(train, n_epochs=[n_epochs_intercept] + [n_epochs_kernel] * (n_kernels + 1),\n",
    "                                                show_logo=False, use_mono=True, use_dinuc=False, dinuc_mode='local',\n",
    "                                                opt_kernel_shift=[0, 0] + [0] * (n_kernels),\n",
    "                                                opt_kernel_length=[0, 0] + [0] * (n_kernels),\n",
    "                                                opt_one_step=True,\n",
    "                                                shift_max=1, shift_step=1,\n",
    "                                                n_unfreeze_kernels=n_unfreeze_kernels,\n",
    "                                                # optimiser=topti.SGD,\n",
    "                                                optimiser=topti.Adam,\n",
    "                                                # skip_kernels=list(range(1, 2)) + list(range(5, 500)),\n",
    "                                                n_batches=1, n_rounds=2, num_epochs_shift_factor=1, # log_etas=log_etas, # log_etas=log_etas,\n",
    "                                                kernels = [0] + [2] + [20] * (n_kernels), r2_per_epoch=True,\n",
    "                                                exp_max=8,\n",
    "                                                early_stopping=250, log_each=log_each, w=20, max_w=20) #  target_dim=train.dataset.signal.shape[1])\n",
    "\n",
    "    model_by_logdynamic[optimize_log_dynamic] = model"
   ]
  },
  {
   "cell_type": "code",
   "execution_count": null,
   "metadata": {},
   "outputs": [],
   "source": [
    "lib_sizes = train.dataset.rounds.sum(axis=0).flatten()"
   ]
  },
  {
   "cell_type": "code",
   "execution_count": null,
   "metadata": {},
   "outputs": [
    {
     "data": {
      "text/plain": [
       "device(type='cuda', index=0)"
      ]
     },
     "execution_count": 97,
     "metadata": {},
     "output_type": "execute_result"
    }
   ],
   "source": [
    "model.device"
   ]
  },
  {
   "cell_type": "code",
   "execution_count": null,
   "metadata": {},
   "outputs": [
    {
     "name": "stdout",
     "output_type": "stream",
     "text": [
      "dentategyrus_use_logdynamic_0_obs2930.pth\n",
      "dentategyrus_use_logdynamic_1_obs2930.pth\n"
     ]
    }
   ],
   "source": [
    "for use_logdynamic in [False, True]:\n",
    "    p = 'dentategyrus_use_logdynamic_%i_obs%i.pth' % (use_logdynamic, ad.shape[0])\n",
    "    print(p)\n",
    "    torch.save(model_by_logdynamic[use_logdynamic], p)"
   ]
  },
  {
   "cell_type": "code",
   "execution_count": null,
   "metadata": {},
   "outputs": [
    {
     "data": {
      "text/plain": [
       "(2930, 13187)"
      ]
     },
     "execution_count": 99,
     "metadata": {},
     "output_type": "execute_result"
    }
   ],
   "source": [
    "ad.shape"
   ]
  },
  {
   "cell_type": "code",
   "execution_count": null,
   "metadata": {},
   "outputs": [],
   "source": [
    "ad.write('dentategyrus_sample_train_obs%i.h5ad' % ad.shape[0])"
   ]
  },
  {
   "cell_type": "code",
   "execution_count": null,
   "metadata": {},
   "outputs": [
    {
     "ename": "",
     "evalue": "",
     "output_type": "error",
     "traceback": [
      "\u001b[1;31mThe Kernel crashed while executing code in the current cell or a previous cell. \n",
      "\u001b[1;31mPlease review the code in the cell(s) to identify a possible cause of the failure. \n",
      "\u001b[1;31mClick <a href='https://aka.ms/vscodeJupyterKernelCrash'>here</a> for more info. \n",
      "\u001b[1;31mView Jupyter <a href='command:jupyter.viewOutput'>log</a> for further details."
     ]
    }
   ],
   "source": [
    "import pickle\n",
    "pickle.dump(train, open('dentategyrus_train_dataloader_obs%i.pkl' % ad.shape[0], 'wb'))"
   ]
  }
 ],
 "metadata": {
  "kernelspec": {
   "display_name": "mubind",
   "language": "python",
   "name": "mubind"
  },
  "language_info": {
   "codemirror_mode": {
    "name": "ipython",
    "version": 3
   },
   "file_extension": ".py",
   "mimetype": "text/x-python",
   "name": "python",
   "nbconvert_exporter": "python",
   "pygments_lexer": "ipython3",
   "version": "3.9.18"
  }
 },
 "nbformat": 4,
 "nbformat_minor": 0
}
