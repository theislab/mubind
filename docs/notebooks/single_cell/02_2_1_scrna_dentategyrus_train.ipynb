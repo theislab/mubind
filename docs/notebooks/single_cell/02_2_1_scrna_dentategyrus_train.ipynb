{
 "cells": [
  {
   "attachments": {},
   "cell_type": "markdown",
   "metadata": {},
   "source": [
    "## Dentate gyrus (scRNA-seq) | Training with an RNA-dynamics kNN-graph"
   ]
  },
  {
   "cell_type": "markdown",
   "metadata": {},
   "source": [
    "The studied dataset for this tutorial is dentate gyrus (10X Genomics) {cite}`Hochgerner2018`, and it is loaded directly from `scvelo.datasets`."
   ]
  },
  {
   "cell_type": "code",
   "execution_count": 231,
   "metadata": {
    "collapsed": false,
    "jupyter": {
     "outputs_hidden": false
    },
    "pycharm": {
     "name": "#%%\n"
    }
   },
   "outputs": [
    {
     "name": "stdout",
     "output_type": "stream",
     "text": [
      "The autoreload extension is already loaded. To reload it, use:\n",
      "  %reload_ext autoreload\n"
     ]
    }
   ],
   "source": [
    "%load_ext autoreload\n",
    "%autoreload 2"
   ]
  },
  {
   "cell_type": "code",
   "execution_count": 232,
   "metadata": {},
   "outputs": [
    {
     "name": "stdout",
     "output_type": "stream",
     "text": [
      "/home/ilibarra/workspace/theislab/mubind/docs/notebooks/single_cell\n"
     ]
    }
   ],
   "source": [
    "cd ~/workspace/theislab/mubind/docs/notebooks/single_cell"
   ]
  },
  {
   "cell_type": "code",
   "execution_count": 233,
   "metadata": {},
   "outputs": [
    {
     "name": "stdout",
     "output_type": "stream",
     "text": [
      "/home/ilibarra/workspace/theislab/mubind/docs/notebooks/single_cell\n"
     ]
    }
   ],
   "source": [
    "!readlink -f ."
   ]
  },
  {
   "cell_type": "code",
   "execution_count": 234,
   "metadata": {},
   "outputs": [],
   "source": [
    "import pandas as pd\n",
    "import numpy as np\n",
    "import os\n",
    "import seaborn\n",
    "import itertools\n",
    "import glob\n",
    "\n",
    "import pandas as pd\n",
    "from pathlib import Path\n",
    "import bindome as bd\n",
    "bd.constants.ANNOTATIONS_DIRECTORY = 'annotations'\n",
    "import mubind as mb\n",
    "from tqdm.notebook import tqdm_notebook as tqdm"
   ]
  },
  {
   "cell_type": "code",
   "execution_count": 235,
   "metadata": {
    "collapsed": false,
    "jupyter": {
     "outputs_hidden": false
    },
    "pycharm": {
     "name": "#%%\n"
    }
   },
   "outputs": [
    {
     "name": "stdout",
     "output_type": "stream",
     "text": [
      "# motifs loaded 2179\n"
     ]
    },
    {
     "data": {
      "text/plain": [
       "286"
      ]
     },
     "execution_count": 235,
     "metadata": {},
     "output_type": "execute_result"
    }
   ],
   "source": [
    "# these are motifs used during training (pre-weights)\n",
    "# pwms = mb.datasets.cisbp_hs()\n",
    "pwms = mb.datasets.archetypes()\n",
    "# pwms = pwms[:20]\n",
    "len(pwms)"
   ]
  },
  {
   "cell_type": "code",
   "execution_count": 236,
   "metadata": {
    "collapsed": false,
    "jupyter": {
     "outputs_hidden": false
    },
    "pycharm": {
     "name": "#%%\n"
    }
   },
   "outputs": [],
   "source": [
    "import random\n",
    "# reduced_groups = [p.to_numpy() for p in random.sample(pwms, 20) if p.shape[-1] != 0]"
   ]
  },
  {
   "cell_type": "code",
   "execution_count": 237,
   "metadata": {
    "collapsed": false,
    "jupyter": {
     "outputs_hidden": false
    },
    "pycharm": {
     "name": "#%%\n"
    }
   },
   "outputs": [],
   "source": [
    "\n",
    "# suppress numba deprecations warnings\n",
    "from numba.core.errors import NumbaDeprecationWarning, NumbaPendingDeprecationWarning\n",
    "import warnings\n",
    "\n",
    "warnings.simplefilter('ignore', category=NumbaDeprecationWarning)\n",
    "warnings.simplefilter('ignore', category=NumbaPendingDeprecationWarning)"
   ]
  },
  {
   "cell_type": "code",
   "execution_count": 238,
   "metadata": {
    "collapsed": false,
    "jupyter": {
     "outputs_hidden": false
    },
    "pycharm": {
     "name": "#%%\n"
    }
   },
   "outputs": [
    {
     "name": "stdout",
     "output_type": "stream",
     "text": [
      "Using device: cuda:0\n"
     ]
    }
   ],
   "source": [
    "\n",
    "import mubind as mb\n",
    "import numpy as np\n",
    "import pandas as pd\n",
    "import torch\n",
    "# mb.models.Mubind\n",
    "import torch\n",
    "import torch\n",
    "import torch.optim as topti\n",
    "import torch.utils.data as tdata\n",
    "import matplotlib.pyplot as plt\n",
    "import logomaker\n",
    "import os\n",
    "import scipy\n",
    "import pickle\n",
    "\n",
    "\n",
    "# Use a GPU if available, as it should be faster.\n",
    "device = torch.device(\"cuda:0\" if torch.cuda.is_available() else \"cpu\")\n",
    "print(\"Using device: \" + str(device))"
   ]
  },
  {
   "cell_type": "code",
   "execution_count": 239,
   "metadata": {},
   "outputs": [],
   "source": [
    "# device = 'cpu'"
   ]
  },
  {
   "cell_type": "code",
   "execution_count": 240,
   "metadata": {
    "collapsed": false,
    "jupyter": {
     "outputs_hidden": false
    },
    "pycharm": {
     "name": "#%%\n"
    }
   },
   "outputs": [],
   "source": [
    "import scanpy as sc"
   ]
  },
  {
   "cell_type": "code",
   "execution_count": 241,
   "metadata": {},
   "outputs": [
    {
     "name": "stdout",
     "output_type": "stream",
     "text": [
      "here...\n"
     ]
    }
   ],
   "source": [
    "print('here...')"
   ]
  },
  {
   "cell_type": "code",
   "execution_count": 242,
   "metadata": {},
   "outputs": [
    {
     "data": {
      "text/plain": [
       "True"
      ]
     },
     "execution_count": 242,
     "metadata": {},
     "output_type": "execute_result"
    }
   ],
   "source": [
    "ad_path = '../../../data/dentategyrus/dentategyrus.h5ad'\n",
    "os.path.exists(ad_path)"
   ]
  },
  {
   "cell_type": "code",
   "execution_count": 243,
   "metadata": {},
   "outputs": [
    {
     "name": "stdout",
     "output_type": "stream",
     "text": [
      "here...\n"
     ]
    }
   ],
   "source": [
    "print('here...')"
   ]
  },
  {
   "cell_type": "code",
   "execution_count": 244,
   "metadata": {},
   "outputs": [],
   "source": [
    "# pybiomart is requred\n",
    "annot = sc.queries.biomart_annotations(\n",
    "    \"mmusculus\",\n",
    "    [\"ensembl_gene_id\", \"start_position\", \"end_position\", \"chromosome_name\", \"external_gene_name\"],\n",
    ").set_index(\"external_gene_name\")\n"
   ]
  },
  {
   "cell_type": "code",
   "execution_count": 245,
   "metadata": {},
   "outputs": [],
   "source": [
    "tss_path = os.path.join(bd.constants.ANNOTATIONS_DIRECTORY, 'mm10', 'genome', 'TSS.in')\n",
    "tss = pd.read_csv(tss_path, sep='\\t', header=None)\n",
    "tss.columns = ['chrom', 'pos', 'strand', 'symbol']\n",
    "tss = tss.set_index('symbol')\n",
    "tss = tss[~tss.index.duplicated(keep='first')]"
   ]
  },
  {
   "cell_type": "code",
   "execution_count": 246,
   "metadata": {},
   "outputs": [],
   "source": [
    "# annot = annot[~annot.index.duplicated(keep='first')]"
   ]
  },
  {
   "cell_type": "code",
   "execution_count": 247,
   "metadata": {
    "collapsed": false,
    "jupyter": {
     "outputs_hidden": false
    },
    "pycharm": {
     "name": "#%%\n"
    }
   },
   "outputs": [],
   "source": [
    "# load the pancreas multiome dataset\n",
    "rna = sc.read_h5ad(ad_path)\n",
    "# rna, atac = mb.datasets.pancreas_multiome() # data_directory='../../../annotations/scatac')"
   ]
  },
  {
   "cell_type": "code",
   "execution_count": 248,
   "metadata": {},
   "outputs": [],
   "source": [
    "rna.var[tss.columns] = tss"
   ]
  },
  {
   "cell_type": "code",
   "execution_count": 249,
   "metadata": {},
   "outputs": [],
   "source": [
    "rna = rna[:,~pd.isnull(rna.var['pos'])].copy()\n"
   ]
  },
  {
   "cell_type": "code",
   "execution_count": 250,
   "metadata": {},
   "outputs": [
    {
     "data": {
      "text/plain": [
       "(2930, 13197)"
      ]
     },
     "execution_count": 250,
     "metadata": {},
     "output_type": "execute_result"
    }
   ],
   "source": [
    "rna.shape"
   ]
  },
  {
   "cell_type": "code",
   "execution_count": 251,
   "metadata": {},
   "outputs": [],
   "source": [
    "rna.var['tss_start'] = rna.var['pos'].astype(int)\n",
    "rna = rna[:,~pd.isnull(rna.var['tss_start'])]\n",
    "bp = 250\n",
    "tss_start = rna.var['tss_start'].astype(int)\n",
    "rna.var['tss_start'] = np.where(rna.var['strand'] == '+', tss_start - bp, tss_start)\n",
    "rna.var['tss_end'] = np.where(rna.var['strand'] == '+', tss_start, tss_start + bp)\n",
    "\n",
    "rna.var['chromosome_name'] = rna.var['chrom']\n",
    "rna.var['k'] = rna.var['chromosome_name'].astype(str) + ':' + rna.var['tss_start'].astype(str) + '-' + rna.var['tss_end'].astype(str)"
   ]
  },
  {
   "cell_type": "code",
   "execution_count": 252,
   "metadata": {},
   "outputs": [
    {
     "data": {
      "text/html": [
       "<div>\n",
       "<style scoped>\n",
       "    .dataframe tbody tr th:only-of-type {\n",
       "        vertical-align: middle;\n",
       "    }\n",
       "\n",
       "    .dataframe tbody tr th {\n",
       "        vertical-align: top;\n",
       "    }\n",
       "\n",
       "    .dataframe thead th {\n",
       "        text-align: right;\n",
       "    }\n",
       "</style>\n",
       "<table border=\"1\" class=\"dataframe\">\n",
       "  <thead>\n",
       "    <tr style=\"text-align: right;\">\n",
       "      <th></th>\n",
       "      <th>gene_count_corr</th>\n",
       "      <th>velocity_gamma</th>\n",
       "      <th>velocity_qreg_ratio</th>\n",
       "      <th>velocity_r2</th>\n",
       "      <th>velocity_genes</th>\n",
       "      <th>chrom</th>\n",
       "      <th>pos</th>\n",
       "      <th>strand</th>\n",
       "      <th>tss_start</th>\n",
       "      <th>tss_end</th>\n",
       "      <th>chromosome_name</th>\n",
       "      <th>k</th>\n",
       "    </tr>\n",
       "    <tr>\n",
       "      <th>index</th>\n",
       "      <th></th>\n",
       "      <th></th>\n",
       "      <th></th>\n",
       "      <th></th>\n",
       "      <th></th>\n",
       "      <th></th>\n",
       "      <th></th>\n",
       "      <th></th>\n",
       "      <th></th>\n",
       "      <th></th>\n",
       "      <th></th>\n",
       "      <th></th>\n",
       "    </tr>\n",
       "  </thead>\n",
       "  <tbody>\n",
       "    <tr>\n",
       "      <th>Lypla1</th>\n",
       "      <td>0.0100</td>\n",
       "      <td>0.000000</td>\n",
       "      <td>0.000000</td>\n",
       "      <td>0.000000</td>\n",
       "      <td>False</td>\n",
       "      <td>chr1</td>\n",
       "      <td>4807893.0</td>\n",
       "      <td>+</td>\n",
       "      <td>4807643</td>\n",
       "      <td>4807893</td>\n",
       "      <td>chr1</td>\n",
       "      <td>chr1:4807643-4807893</td>\n",
       "    </tr>\n",
       "    <tr>\n",
       "      <th>Tcea1</th>\n",
       "      <td>-0.0791</td>\n",
       "      <td>0.278561</td>\n",
       "      <td>0.278561</td>\n",
       "      <td>-0.116783</td>\n",
       "      <td>False</td>\n",
       "      <td>chr1</td>\n",
       "      <td>4857694.0</td>\n",
       "      <td>+</td>\n",
       "      <td>4857444</td>\n",
       "      <td>4857694</td>\n",
       "      <td>chr1</td>\n",
       "      <td>chr1:4857444-4857694</td>\n",
       "    </tr>\n",
       "    <tr>\n",
       "      <th>Atp6v1h</th>\n",
       "      <td>0.0727</td>\n",
       "      <td>0.368721</td>\n",
       "      <td>0.368721</td>\n",
       "      <td>-0.505921</td>\n",
       "      <td>False</td>\n",
       "      <td>chr1</td>\n",
       "      <td>5083086.0</td>\n",
       "      <td>+</td>\n",
       "      <td>5082836</td>\n",
       "      <td>5083086</td>\n",
       "      <td>chr1</td>\n",
       "      <td>chr1:5082836-5083086</td>\n",
       "    </tr>\n",
       "    <tr>\n",
       "      <th>Rb1cc1</th>\n",
       "      <td>-0.0157</td>\n",
       "      <td>0.220445</td>\n",
       "      <td>0.220445</td>\n",
       "      <td>-0.205280</td>\n",
       "      <td>False</td>\n",
       "      <td>chr1</td>\n",
       "      <td>6214662.0</td>\n",
       "      <td>+</td>\n",
       "      <td>6214412</td>\n",
       "      <td>6214662</td>\n",
       "      <td>chr1</td>\n",
       "      <td>chr1:6214412-6214662</td>\n",
       "    </tr>\n",
       "    <tr>\n",
       "      <th>St18</th>\n",
       "      <td>-0.0037</td>\n",
       "      <td>0.052986</td>\n",
       "      <td>0.052986</td>\n",
       "      <td>-0.042492</td>\n",
       "      <td>False</td>\n",
       "      <td>chr1</td>\n",
       "      <td>6730051.0</td>\n",
       "      <td>+</td>\n",
       "      <td>6729801</td>\n",
       "      <td>6730051</td>\n",
       "      <td>chr1</td>\n",
       "      <td>chr1:6729801-6730051</td>\n",
       "    </tr>\n",
       "    <tr>\n",
       "      <th>...</th>\n",
       "      <td>...</td>\n",
       "      <td>...</td>\n",
       "      <td>...</td>\n",
       "      <td>...</td>\n",
       "      <td>...</td>\n",
       "      <td>...</td>\n",
       "      <td>...</td>\n",
       "      <td>...</td>\n",
       "      <td>...</td>\n",
       "      <td>...</td>\n",
       "      <td>...</td>\n",
       "      <td>...</td>\n",
       "    </tr>\n",
       "    <tr>\n",
       "      <th>Kdm5d</th>\n",
       "      <td>-0.0262</td>\n",
       "      <td>0.264588</td>\n",
       "      <td>0.308064</td>\n",
       "      <td>0.055893</td>\n",
       "      <td>True</td>\n",
       "      <td>chrY</td>\n",
       "      <td>897788.0</td>\n",
       "      <td>+</td>\n",
       "      <td>897538</td>\n",
       "      <td>897788</td>\n",
       "      <td>chrY</td>\n",
       "      <td>chrY:897538-897788</td>\n",
       "    </tr>\n",
       "    <tr>\n",
       "      <th>Eif2s3y</th>\n",
       "      <td>-0.0675</td>\n",
       "      <td>0.055193</td>\n",
       "      <td>0.055193</td>\n",
       "      <td>-0.131292</td>\n",
       "      <td>False</td>\n",
       "      <td>chrY</td>\n",
       "      <td>1010612.0</td>\n",
       "      <td>+</td>\n",
       "      <td>1010362</td>\n",
       "      <td>1010612</td>\n",
       "      <td>chrY</td>\n",
       "      <td>chrY:1010362-1010612</td>\n",
       "    </tr>\n",
       "    <tr>\n",
       "      <th>Erdr1</th>\n",
       "      <td>-0.0171</td>\n",
       "      <td>1.310422</td>\n",
       "      <td>1.310422</td>\n",
       "      <td>-0.146096</td>\n",
       "      <td>False</td>\n",
       "      <td>chrY</td>\n",
       "      <td>90785442.0</td>\n",
       "      <td>+</td>\n",
       "      <td>90785192</td>\n",
       "      <td>90785442</td>\n",
       "      <td>chrY</td>\n",
       "      <td>chrY:90785192-90785442</td>\n",
       "    </tr>\n",
       "    <tr>\n",
       "      <th>Uty</th>\n",
       "      <td>0.0078</td>\n",
       "      <td>1.348157</td>\n",
       "      <td>1.348157</td>\n",
       "      <td>-0.046257</td>\n",
       "      <td>False</td>\n",
       "      <td>chrY</td>\n",
       "      <td>1245759.0</td>\n",
       "      <td>-</td>\n",
       "      <td>1245759</td>\n",
       "      <td>1246009</td>\n",
       "      <td>chrY</td>\n",
       "      <td>chrY:1245759-1246009</td>\n",
       "    </tr>\n",
       "    <tr>\n",
       "      <th>Ddx3y</th>\n",
       "      <td>-0.0634</td>\n",
       "      <td>0.018258</td>\n",
       "      <td>0.018258</td>\n",
       "      <td>-0.226602</td>\n",
       "      <td>False</td>\n",
       "      <td>chrY</td>\n",
       "      <td>1286613.0</td>\n",
       "      <td>-</td>\n",
       "      <td>1286613</td>\n",
       "      <td>1286863</td>\n",
       "      <td>chrY</td>\n",
       "      <td>chrY:1286613-1286863</td>\n",
       "    </tr>\n",
       "  </tbody>\n",
       "</table>\n",
       "<p>13197 rows × 12 columns</p>\n",
       "</div>"
      ],
      "text/plain": [
       "         gene_count_corr  velocity_gamma  velocity_qreg_ratio  velocity_r2  \\\n",
       "index                                                                        \n",
       "Lypla1            0.0100        0.000000             0.000000     0.000000   \n",
       "Tcea1            -0.0791        0.278561             0.278561    -0.116783   \n",
       "Atp6v1h           0.0727        0.368721             0.368721    -0.505921   \n",
       "Rb1cc1           -0.0157        0.220445             0.220445    -0.205280   \n",
       "St18             -0.0037        0.052986             0.052986    -0.042492   \n",
       "...                  ...             ...                  ...          ...   \n",
       "Kdm5d            -0.0262        0.264588             0.308064     0.055893   \n",
       "Eif2s3y          -0.0675        0.055193             0.055193    -0.131292   \n",
       "Erdr1            -0.0171        1.310422             1.310422    -0.146096   \n",
       "Uty               0.0078        1.348157             1.348157    -0.046257   \n",
       "Ddx3y            -0.0634        0.018258             0.018258    -0.226602   \n",
       "\n",
       "         velocity_genes chrom         pos strand  tss_start   tss_end  \\\n",
       "index                                                                   \n",
       "Lypla1            False  chr1   4807893.0      +    4807643   4807893   \n",
       "Tcea1             False  chr1   4857694.0      +    4857444   4857694   \n",
       "Atp6v1h           False  chr1   5083086.0      +    5082836   5083086   \n",
       "Rb1cc1            False  chr1   6214662.0      +    6214412   6214662   \n",
       "St18              False  chr1   6730051.0      +    6729801   6730051   \n",
       "...                 ...   ...         ...    ...        ...       ...   \n",
       "Kdm5d              True  chrY    897788.0      +     897538    897788   \n",
       "Eif2s3y           False  chrY   1010612.0      +    1010362   1010612   \n",
       "Erdr1             False  chrY  90785442.0      +   90785192  90785442   \n",
       "Uty               False  chrY   1245759.0      -    1245759   1246009   \n",
       "Ddx3y             False  chrY   1286613.0      -    1286613   1286863   \n",
       "\n",
       "        chromosome_name                       k  \n",
       "index                                            \n",
       "Lypla1             chr1    chr1:4807643-4807893  \n",
       "Tcea1              chr1    chr1:4857444-4857694  \n",
       "Atp6v1h            chr1    chr1:5082836-5083086  \n",
       "Rb1cc1             chr1    chr1:6214412-6214662  \n",
       "St18               chr1    chr1:6729801-6730051  \n",
       "...                 ...                     ...  \n",
       "Kdm5d              chrY      chrY:897538-897788  \n",
       "Eif2s3y            chrY    chrY:1010362-1010612  \n",
       "Erdr1              chrY  chrY:90785192-90785442  \n",
       "Uty                chrY    chrY:1245759-1246009  \n",
       "Ddx3y              chrY    chrY:1286613-1286863  \n",
       "\n",
       "[13197 rows x 12 columns]"
      ]
     },
     "execution_count": 252,
     "metadata": {},
     "output_type": "execute_result"
    }
   ],
   "source": [
    "rna.var"
   ]
  },
  {
   "cell_type": "code",
   "execution_count": 253,
   "metadata": {},
   "outputs": [],
   "source": [
    "ad = rna"
   ]
  },
  {
   "cell_type": "code",
   "execution_count": 254,
   "metadata": {},
   "outputs": [
    {
     "data": {
      "text/plain": [
       "Index(['Lypla1', 'Tcea1', 'Atp6v1h', 'Rb1cc1', 'St18', 'Pcmtd1', 'Rrs1',\n",
       "       'Adhfe1', '3110035E14Rik', 'Sgk3',\n",
       "       ...\n",
       "       'Tlr7', 'Prps2', 'Frmpd4', 'Msl3', 'Hccs', 'Kdm5d', 'Eif2s3y', 'Erdr1',\n",
       "       'Uty', 'Ddx3y'],\n",
       "      dtype='object', name='index', length=13197)"
      ]
     },
     "execution_count": 254,
     "metadata": {},
     "output_type": "execute_result"
    }
   ],
   "source": [
    "ad.var_names"
   ]
  },
  {
   "cell_type": "code",
   "execution_count": 255,
   "metadata": {},
   "outputs": [
    {
     "data": {
      "text/plain": [
       "AnnData object with n_obs × n_vars = 2930 × 13197\n",
       "    obs: 'clusters', 'age(days)', 'clusters_enlarged', 'n_counts', 'velocity_self_transition'\n",
       "    var: 'gene_count_corr', 'velocity_gamma', 'velocity_qreg_ratio', 'velocity_r2', 'velocity_genes', 'chrom', 'pos', 'strand', 'tss_start', 'tss_end', 'chromosome_name', 'k'\n",
       "    uns: 'clusters_colors', 'clusters_enlarged_colors', 'neighbors', 'pca', 'velocity_graph', 'velocity_graph_neg', 'velocity_params'\n",
       "    obsm: 'X_pca', 'X_umap', 'velocity_umap'\n",
       "    varm: 'PCs'\n",
       "    layers: 'Ms', 'Mu', 'ambiguous', 'spliced', 'unspliced', 'variance_velocity', 'velocity'\n",
       "    obsp: 'connectivities', 'distances'"
      ]
     },
     "execution_count": 255,
     "metadata": {},
     "output_type": "execute_result"
    }
   ],
   "source": [
    "ad"
   ]
  },
  {
   "cell_type": "code",
   "execution_count": 256,
   "metadata": {},
   "outputs": [],
   "source": [
    "# if rapids is available, use it\n",
    "# import rapids_singlecell as rapids\n",
    "# rapids.pp.neighbors(rna)\n",
    "\n",
    "# if rapids is not avaible, default scanpy\n",
    "sc.pp.neighbors(rna)\n"
   ]
  },
  {
   "cell_type": "code",
   "execution_count": 257,
   "metadata": {},
   "outputs": [
    {
     "data": {
      "text/html": [
       "<div>\n",
       "<style scoped>\n",
       "    .dataframe tbody tr th:only-of-type {\n",
       "        vertical-align: middle;\n",
       "    }\n",
       "\n",
       "    .dataframe tbody tr th {\n",
       "        vertical-align: top;\n",
       "    }\n",
       "\n",
       "    .dataframe thead th {\n",
       "        text-align: right;\n",
       "    }\n",
       "</style>\n",
       "<table border=\"1\" class=\"dataframe\">\n",
       "  <thead>\n",
       "    <tr style=\"text-align: right;\">\n",
       "      <th></th>\n",
       "      <th>clusters</th>\n",
       "      <th>age(days)</th>\n",
       "      <th>clusters_enlarged</th>\n",
       "      <th>n_counts</th>\n",
       "      <th>velocity_self_transition</th>\n",
       "    </tr>\n",
       "    <tr>\n",
       "      <th>index</th>\n",
       "      <th></th>\n",
       "      <th></th>\n",
       "      <th></th>\n",
       "      <th></th>\n",
       "      <th></th>\n",
       "    </tr>\n",
       "  </thead>\n",
       "  <tbody>\n",
       "    <tr>\n",
       "      <th>AAACATACCCATGA</th>\n",
       "      <td>Granule immature</td>\n",
       "      <td>35</td>\n",
       "      <td>Granule-immature</td>\n",
       "      <td>2460.500000</td>\n",
       "      <td>0.051353</td>\n",
       "    </tr>\n",
       "    <tr>\n",
       "      <th>AAACATACCGTAGT</th>\n",
       "      <td>Radial Glia-like</td>\n",
       "      <td>12</td>\n",
       "      <td>Radial Glia-like</td>\n",
       "      <td>2460.499756</td>\n",
       "      <td>0.220968</td>\n",
       "    </tr>\n",
       "    <tr>\n",
       "      <th>AAACATACGAGAGC</th>\n",
       "      <td>Granule mature</td>\n",
       "      <td>35</td>\n",
       "      <td>Granule-mature</td>\n",
       "      <td>2460.499756</td>\n",
       "      <td>0.069691</td>\n",
       "    </tr>\n",
       "    <tr>\n",
       "      <th>AAACATACTGAGGG</th>\n",
       "      <td>Granule immature</td>\n",
       "      <td>12</td>\n",
       "      <td>Granule-immature</td>\n",
       "      <td>2460.500000</td>\n",
       "      <td>0.080728</td>\n",
       "    </tr>\n",
       "    <tr>\n",
       "      <th>AAACATTGGCATCA</th>\n",
       "      <td>Granule immature</td>\n",
       "      <td>35</td>\n",
       "      <td>Granule-immature</td>\n",
       "      <td>2460.500000</td>\n",
       "      <td>0.119560</td>\n",
       "    </tr>\n",
       "    <tr>\n",
       "      <th>...</th>\n",
       "      <td>...</td>\n",
       "      <td>...</td>\n",
       "      <td>...</td>\n",
       "      <td>...</td>\n",
       "      <td>...</td>\n",
       "    </tr>\n",
       "    <tr>\n",
       "      <th>TTTCTACTTCCCGT</th>\n",
       "      <td>Granule immature</td>\n",
       "      <td>35</td>\n",
       "      <td>Granule-immature</td>\n",
       "      <td>2460.500000</td>\n",
       "      <td>0.034482</td>\n",
       "    </tr>\n",
       "    <tr>\n",
       "      <th>TTTGACTGCCTGTC</th>\n",
       "      <td>Neuroblast</td>\n",
       "      <td>12</td>\n",
       "      <td>Neuroblast 2</td>\n",
       "      <td>2460.499756</td>\n",
       "      <td>0.131426</td>\n",
       "    </tr>\n",
       "    <tr>\n",
       "      <th>TTTGACTGTCTGGA</th>\n",
       "      <td>Granule mature</td>\n",
       "      <td>35</td>\n",
       "      <td>Granule-mature</td>\n",
       "      <td>2460.499756</td>\n",
       "      <td>0.100035</td>\n",
       "    </tr>\n",
       "    <tr>\n",
       "      <th>TTTGCATGGGAGTG</th>\n",
       "      <td>Microglia</td>\n",
       "      <td>35</td>\n",
       "      <td>Microglia</td>\n",
       "      <td>2460.500244</td>\n",
       "      <td>0.284692</td>\n",
       "    </tr>\n",
       "    <tr>\n",
       "      <th>TTTGCATGTTCTTG</th>\n",
       "      <td>Granule immature</td>\n",
       "      <td>35</td>\n",
       "      <td>Granule-immature</td>\n",
       "      <td>2460.499756</td>\n",
       "      <td>0.189407</td>\n",
       "    </tr>\n",
       "  </tbody>\n",
       "</table>\n",
       "<p>2930 rows × 5 columns</p>\n",
       "</div>"
      ],
      "text/plain": [
       "                        clusters age(days) clusters_enlarged     n_counts  \\\n",
       "index                                                                       \n",
       "AAACATACCCATGA  Granule immature        35  Granule-immature  2460.500000   \n",
       "AAACATACCGTAGT  Radial Glia-like        12  Radial Glia-like  2460.499756   \n",
       "AAACATACGAGAGC    Granule mature        35    Granule-mature  2460.499756   \n",
       "AAACATACTGAGGG  Granule immature        12  Granule-immature  2460.500000   \n",
       "AAACATTGGCATCA  Granule immature        35  Granule-immature  2460.500000   \n",
       "...                          ...       ...               ...          ...   \n",
       "TTTCTACTTCCCGT  Granule immature        35  Granule-immature  2460.500000   \n",
       "TTTGACTGCCTGTC        Neuroblast        12      Neuroblast 2  2460.499756   \n",
       "TTTGACTGTCTGGA    Granule mature        35    Granule-mature  2460.499756   \n",
       "TTTGCATGGGAGTG         Microglia        35         Microglia  2460.500244   \n",
       "TTTGCATGTTCTTG  Granule immature        35  Granule-immature  2460.499756   \n",
       "\n",
       "                velocity_self_transition  \n",
       "index                                     \n",
       "AAACATACCCATGA                  0.051353  \n",
       "AAACATACCGTAGT                  0.220968  \n",
       "AAACATACGAGAGC                  0.069691  \n",
       "AAACATACTGAGGG                  0.080728  \n",
       "AAACATTGGCATCA                  0.119560  \n",
       "...                                  ...  \n",
       "TTTCTACTTCCCGT                  0.034482  \n",
       "TTTGACTGCCTGTC                  0.131426  \n",
       "TTTGACTGTCTGGA                  0.100035  \n",
       "TTTGCATGGGAGTG                  0.284692  \n",
       "TTTGCATGTTCTTG                  0.189407  \n",
       "\n",
       "[2930 rows x 5 columns]"
      ]
     },
     "execution_count": 257,
     "metadata": {},
     "output_type": "execute_result"
    }
   ],
   "source": [
    "rna.obs"
   ]
  },
  {
   "cell_type": "code",
   "execution_count": 258,
   "metadata": {},
   "outputs": [
    {
     "data": {
      "image/png": "[encoded data removed]",
      "text/plain": [
       "<Figure size 500x500 with 1 Axes>"
      ]
     },
     "metadata": {},
     "output_type": "display_data"
    }
   ],
   "source": [
    "from matplotlib import rcParams\n",
    "rcParams['figure.figsize'] = 5, 5\n",
    "\n",
    "# RNA\n",
    "sc.pl.umap(rna, color='clusters')\n",
    "\n",
    "#ATAC\n",
    "# sc.pl.umap(atac, color='celltype')"
   ]
  },
  {
   "cell_type": "code",
   "execution_count": 259,
   "metadata": {},
   "outputs": [
    {
     "data": {
      "text/plain": [
       "AnnData object with n_obs × n_vars = 2930 × 13197\n",
       "    obs: 'clusters', 'age(days)', 'clusters_enlarged', 'n_counts', 'velocity_self_transition'\n",
       "    var: 'gene_count_corr', 'velocity_gamma', 'velocity_qreg_ratio', 'velocity_r2', 'velocity_genes', 'chrom', 'pos', 'strand', 'tss_start', 'tss_end', 'chromosome_name', 'k'\n",
       "    uns: 'clusters_colors', 'clusters_enlarged_colors', 'neighbors', 'pca', 'velocity_graph', 'velocity_graph_neg', 'velocity_params'\n",
       "    obsm: 'X_pca', 'X_umap', 'velocity_umap'\n",
       "    varm: 'PCs'\n",
       "    layers: 'Ms', 'Mu', 'ambiguous', 'spliced', 'unspliced', 'variance_velocity', 'velocity'\n",
       "    obsp: 'connectivities', 'distances'"
      ]
     },
     "execution_count": 259,
     "metadata": {},
     "output_type": "execute_result"
    }
   ],
   "source": [
    "rna"
   ]
  },
  {
   "cell_type": "code",
   "execution_count": 260,
   "metadata": {
    "collapsed": false,
    "jupyter": {
     "outputs_hidden": false
    },
    "pycharm": {
     "name": "#%%\n"
    }
   },
   "outputs": [],
   "source": [
    "# scv.pl.velocity_embedding_stream(rna, color='celltype')"
   ]
  },
  {
   "cell_type": "code",
   "execution_count": null,
   "metadata": {},
   "outputs": [],
   "source": []
  },
  {
   "cell_type": "code",
   "execution_count": 261,
   "metadata": {
    "collapsed": false,
    "jupyter": {
     "outputs_hidden": false
    },
    "pycharm": {
     "name": "#%%\n"
    }
   },
   "outputs": [
    {
     "data": {
      "text/plain": [
       "(array([  62.,   63.,   64.,   50.,   45.,   61.,   62.,   49.,   77.,\n",
       "          82.,   85.,   84.,   73.,   98.,   94.,  126.,  124.,  134.,\n",
       "         142.,  126.,  150.,  184.,  218.,  219.,  299.,  330.,  395.,\n",
       "         437.,  482.,  611.,  719.,  937., 1106., 1581., 3828.]),\n",
       " array([0.00068259, 0.01494881, 0.02921502, 0.04348123, 0.05774744,\n",
       "        0.07201365, 0.08627986, 0.10054608, 0.11481229, 0.1290785 ,\n",
       "        0.14334471, 0.15761092, 0.17187713, 0.18614334, 0.20040956,\n",
       "        0.21467577, 0.22894198, 0.24320819, 0.2574744 , 0.27174061,\n",
       "        0.28600683, 0.30027304, 0.31453925, 0.32880546, 0.34307167,\n",
       "        0.35733788, 0.3716041 , 0.38587031, 0.40013652, 0.41440273,\n",
       "        0.42866894, 0.44293515, 0.45720137, 0.47146758, 0.48573379,\n",
       "        0.5       ]),\n",
       " <BarContainer object of 35 artists>)"
      ]
     },
     "execution_count": 261,
     "metadata": {},
     "output_type": "execute_result"
    },
    {
     "data": {
      "image/png": "[encoded data removed]",
      "text/plain": [
       "<Figure size 500x500 with 1 Axes>"
      ]
     },
     "metadata": {},
     "output_type": "display_data"
    }
   ],
   "source": [
    "acc = (rna.X != 0).sum(axis=0) / rna.shape[0]\n",
    "acc_score = abs(.5 - acc)\n",
    "rna.var['acc_score'] = acc_score.A.T\n",
    "rna.var['acc_score_rank'] = rna.var['acc_score'].rank(ascending=False)\n",
    "plt.hist(rna.var['acc_score'], bins=35)\n",
    "# var_sample = atac.var.sort_values('acc_score_rank').index[:n_sample_peaks]\n"
   ]
  },
  {
   "cell_type": "code",
   "execution_count": 262,
   "metadata": {
    "collapsed": false,
    "jupyter": {
     "outputs_hidden": false
    },
    "pycharm": {
     "name": "#%%\n"
    }
   },
   "outputs": [],
   "source": [
    "# n_sample_cells = 750\n",
    "# n_sample_peaks = 1500"
   ]
  },
  {
   "cell_type": "code",
   "execution_count": 263,
   "metadata": {},
   "outputs": [],
   "source": [
    "n_cell_types = len(set(rna.obs['clusters']))"
   ]
  },
  {
   "cell_type": "code",
   "execution_count": 264,
   "metadata": {},
   "outputs": [
    {
     "data": {
      "text/plain": [
       "14"
      ]
     },
     "execution_count": 264,
     "metadata": {},
     "output_type": "execute_result"
    }
   ],
   "source": [
    "n_cell_types"
   ]
  },
  {
   "cell_type": "code",
   "execution_count": 265,
   "metadata": {},
   "outputs": [
    {
     "data": {
      "text/plain": [
       "(2930, 13197)"
      ]
     },
     "execution_count": 265,
     "metadata": {},
     "output_type": "execute_result"
    }
   ],
   "source": [
    "rna.shape"
   ]
  },
  {
   "cell_type": "code",
   "execution_count": 266,
   "metadata": {},
   "outputs": [
    {
     "data": {
      "text/plain": [
       "clusters\n",
       "Granule mature      1070\n",
       "Granule immature     785\n",
       "Neuroblast           417\n",
       "Astrocytes           120\n",
       "Endothelial           87\n",
       "Microglia             81\n",
       "Mossy                 75\n",
       "GABA                  61\n",
       "OPC                   53\n",
       "Radial Glia-like      51\n",
       "OL                    50\n",
       "Cajal Retzius         34\n",
       "Cck-Tox               27\n",
       "nIPC                  19\n",
       "Name: count, dtype: int64"
      ]
     },
     "execution_count": 266,
     "metadata": {},
     "output_type": "execute_result"
    }
   ],
   "source": [
    "rna.obs['clusters'].value_counts()"
   ]
  },
  {
   "cell_type": "code",
   "execution_count": 267,
   "metadata": {},
   "outputs": [
    {
     "data": {
      "text/plain": [
       "(2930, 13197)"
      ]
     },
     "execution_count": 267,
     "metadata": {},
     "output_type": "execute_result"
    }
   ],
   "source": [
    "rna.shape"
   ]
  },
  {
   "cell_type": "code",
   "execution_count": 268,
   "metadata": {},
   "outputs": [
    {
     "data": {
      "text/plain": [
       "((2930, 13197), (2930, 13197))"
      ]
     },
     "execution_count": 268,
     "metadata": {},
     "output_type": "execute_result"
    }
   ],
   "source": [
    " # int(n_sample_cells * 1.5)\n",
    "n_select = 50000\n",
    "n_sample_cells = n_select\n",
    "n_sample_peaks = rna.shape[1]\n",
    "# n_select =  int(n_sample_cells / n_cell_types) # bug if > 20\n",
    "obs_sample = rna.obs.groupby('clusters').sample(n_select, random_state=n_sample_cells, replace=True).index.drop_duplicates()\n",
    "var_sample = pd.Series(rna.var_names).sample(n_sample_peaks, random_state=n_sample_peaks)\n",
    "# var_sample = atac.var.sort_values('acc_score_rank').index[:n_sample_peaks]\n",
    "\n",
    "ad = rna[rna.obs_names.isin(obs_sample),rna.var_names.isin(var_sample)].copy()\n",
    "rna.shape, ad.shape"
   ]
  },
  {
   "cell_type": "code",
   "execution_count": 269,
   "metadata": {},
   "outputs": [
    {
     "data": {
      "text/plain": [
       "13197"
      ]
     },
     "execution_count": 269,
     "metadata": {},
     "output_type": "execute_result"
    }
   ],
   "source": [
    "n_sample_peaks"
   ]
  },
  {
   "cell_type": "code",
   "execution_count": 270,
   "metadata": {},
   "outputs": [
    {
     "data": {
      "text/plain": [
       "clusters\n",
       "Granule mature      1070\n",
       "Granule immature     785\n",
       "Neuroblast           417\n",
       "Astrocytes           120\n",
       "Endothelial           87\n",
       "Microglia             81\n",
       "Mossy                 75\n",
       "GABA                  61\n",
       "OPC                   53\n",
       "Radial Glia-like      51\n",
       "OL                    50\n",
       "Cajal Retzius         34\n",
       "Cck-Tox               27\n",
       "nIPC                  19\n",
       "Name: count, dtype: int64"
      ]
     },
     "execution_count": 270,
     "metadata": {},
     "output_type": "execute_result"
    }
   ],
   "source": [
    "ad.obs['clusters'].value_counts()"
   ]
  },
  {
   "cell_type": "code",
   "execution_count": 271,
   "metadata": {},
   "outputs": [],
   "source": [
    "\n",
    "# ad.uns['velocity_graph'] = rna_sample.uns['velocity_graph']\n",
    "# # ad.layers['velocity'] = rna_sample.layers['velocity']\n",
    "# ad.uns['velocity_graph'].shape\n",
    "\n"
   ]
  },
  {
   "cell_type": "code",
   "execution_count": 272,
   "metadata": {},
   "outputs": [
    {
     "data": {
      "text/plain": [
       "(2930, 2930)"
      ]
     },
     "execution_count": 272,
     "metadata": {},
     "output_type": "execute_result"
    }
   ],
   "source": [
    "\n",
    "rna_sample = rna[ad.obs_names]\n",
    "\n",
    "mask = rna.obs_names.isin(rna_sample.obs_names)\n",
    "\n",
    "# local one step transposition to finalize processing\n",
    "vgraph = rna.uns['velocity_graph']\n",
    "vgraph = vgraph[mask == 1]\n",
    "vgraph = vgraph.T\n",
    "vgraph = vgraph[mask == 1]\n",
    "vgraph = vgraph.T\n",
    "vgraph.shape"
   ]
  },
  {
   "cell_type": "code",
   "execution_count": 273,
   "metadata": {},
   "outputs": [],
   "source": [
    "# pip install scvelo"
   ]
  },
  {
   "cell_type": "code",
   "execution_count": 274,
   "metadata": {},
   "outputs": [],
   "source": [
    "# the scvelo package is a condition to explore the vector stream visualization. Not priority\n",
    "import scvelo as scv"
   ]
  },
  {
   "cell_type": "code",
   "execution_count": 275,
   "metadata": {},
   "outputs": [
    {
     "data": {
      "image/png": "[encoded data removed]",
      "text/plain": [
       "<Figure size 500x500 with 1 Axes>"
      ]
     },
     "metadata": {},
     "output_type": "display_data"
    },
    {
     "data": {
      "image/png": "[encoded data removed]",
      "text/plain": [
       "<Figure size 500x500 with 1 Axes>"
      ]
     },
     "metadata": {},
     "output_type": "display_data"
    },
    {
     "data": {
      "image/png": "[encoded data removed]",
      "text/plain": [
       "<Figure size 500x500 with 1 Axes>"
      ]
     },
     "metadata": {},
     "output_type": "display_data"
    }
   ],
   "source": [
    "\n",
    "rna_sample.uns['velocity_graph'] = vgraph\n",
    "try:\n",
    "# atac\n",
    "    sc.pl.umap(ad)\n",
    "\n",
    "    # rna\n",
    "    # append the estimated velocities to the sample adata\n",
    "    scv.pl.velocity_embedding_stream(rna_sample)\n",
    "\n",
    "    scv.pl.velocity_embedding_stream(rna_sample)\n",
    "    rna_sample.shape\n",
    "except Exception:\n",
    "    print('sample too small to plot graph')\n"
   ]
  },
  {
   "cell_type": "code",
   "execution_count": 276,
   "metadata": {
    "collapsed": false,
    "jupyter": {
     "outputs_hidden": false
    },
    "pycharm": {
     "name": "#%%\n"
    }
   },
   "outputs": [],
   "source": [
    "# ad.var['chr'] = 'chr' + ad.var_names.str.split('-').str[0]\n",
    "# ad.var['start'] = ad.var_names.str.split('-').str[1].astype(int)\n",
    "# ad.var['end'] = ad.var_names.str.split('-').str[2].astype(int)\n",
    "\n",
    "# print('features by chromosome')\n",
    "# extend = 50\n",
    "# ad.var['chr'].value_counts()"
   ]
  },
  {
   "cell_type": "code",
   "execution_count": 277,
   "metadata": {
    "collapsed": false,
    "jupyter": {
     "outputs_hidden": false
    },
    "pycharm": {
     "name": "#%%\n"
    }
   },
   "outputs": [],
   "source": [
    "# ad.var['summit'] = ((ad.var['end'] + ad.var['start']) / 2).astype(int)\n",
    "# ad.var['summit.start'] = ad.var['summit'] - extend\n",
    "# ad.var['summit.end'] = ad.var['summit'] + extend\n",
    "# ad.var['k.summit'] = ad.var['chr'] + ':' + ad.var['summit.start'].astype(str) + '-' + ad.var['summit.end'].astype(str)\n",
    "ad.var['chr'] = ad.var['chrom'].astype(str)\n",
    "ad.var['summit.start'] = ad.var['tss_start'].astype(str)\n",
    "ad.var['summit.end'] = ad.var['tss_end'].astype(str)\n",
    "ad.var['k.summit'] = ad.var['chr'] + ':' + ad.var['summit.start'].astype(str) + '-' + ad.var['summit.end'].astype(str)"
   ]
  },
  {
   "cell_type": "code",
   "execution_count": 278,
   "metadata": {},
   "outputs": [],
   "source": [
    "# remove chromosome duplicates\n",
    "dups = (ad.var['k.summit'].value_counts() > 1)\n",
    "dups = dups[dups].index\n",
    "ad = ad[:,~ad.var['k.summit'].isin(dups)]"
   ]
  },
  {
   "cell_type": "code",
   "execution_count": 279,
   "metadata": {
    "collapsed": false,
    "jupyter": {
     "outputs_hidden": false
    },
    "pycharm": {
     "name": "#%%\n"
    }
   },
   "outputs": [
    {
     "name": "stdout",
     "output_type": "stream",
     "text": [
      "/tmp/tmpkkt8i4gm\n",
      "genome mm10 True\n",
      "annotations/mm10/genome/mm10.fa\n",
      "True annotations/mm10/genome/mm10.fa\n",
      "running bedtools...\n",
      "['/home/ilibarra/miniconda3/envs/mubind/bin/bedtools', 'getfasta', '-fi', 'annotations/mm10/genome/mm10.fa', '-bed', '/tmp/tmpkkt8i4gm', '-fo', '/tmp/tmpbvu7zyt4']\n",
      "/home/ilibarra/miniconda3/envs/mubind/bin/bedtools getfasta -fi annotations/mm10/genome/mm10.fa -bed /tmp/tmpkkt8i4gm -fo /tmp/tmpbvu7zyt4\n"
     ]
    },
    {
     "data": {
      "text/plain": [
       "13187"
      ]
     },
     "execution_count": 279,
     "metadata": {},
     "output_type": "execute_result"
    }
   ],
   "source": [
    "n_seqs = ad.shape[1] # None # 1000\n",
    "seqs = mb.bindome.tl.get_sequences_from_bed(ad.var[['chr', 'summit.start', 'summit.end']].head(n_seqs), genome='mm10', uppercase=True,\n",
    "                                            gen_path='annotations/mm10/genome/mm10.fa',\n",
    "                                            bin='/home/ilibarra/miniconda3/envs/mubind/bin/bedtools')\n",
    "                                            # bin='/home/ilibarra/.conda/envs/mubind/bin/bedtools')\n",
    "                                            # gen_path='../../../annotations/hg38/genome/hg38.fa')\n",
    "\n",
    "keys = set([s[0] for s in seqs])\n",
    "ad = ad[:,ad.var['k.summit'].isin(keys)]\n",
    "# seqs = [[s[0], s[1].upper()] for s in seqs[0]]\n",
    "len(seqs)"
   ]
  },
  {
   "cell_type": "code",
   "execution_count": 280,
   "metadata": {
    "collapsed": false,
    "jupyter": {
     "outputs_hidden": false
    },
    "pycharm": {
     "name": "#%%\n"
    }
   },
   "outputs": [],
   "source": [
    "# remove Ns\n",
    "for s in seqs:\n",
    "    if 'N' in s:\n",
    "        assert False\n",
    "    # seqs = [[s[0], s[1].replace('N', '')] for s in seqs]\n",
    "counts = ad.X.T"
   ]
  },
  {
   "cell_type": "code",
   "execution_count": 281,
   "metadata": {},
   "outputs": [
    {
     "data": {
      "text/plain": [
       "((2930, 13187), (13187, 2930))"
      ]
     },
     "execution_count": 281,
     "metadata": {},
     "output_type": "execute_result"
    }
   ],
   "source": [
    "ad.shape, counts.shape"
   ]
  },
  {
   "cell_type": "code",
   "execution_count": 282,
   "metadata": {
    "collapsed": false,
    "jupyter": {
     "outputs_hidden": false
    },
    "pycharm": {
     "name": "#%%\n"
    }
   },
   "outputs": [],
   "source": [
    "next_data = pd.DataFrame(counts.A) # sparse.from_spmatrix(counts.A)"
   ]
  },
  {
   "cell_type": "code",
   "execution_count": 283,
   "metadata": {},
   "outputs": [
    {
     "data": {
      "text/plain": [
       "((13187, 2930), (13187, 2930))"
      ]
     },
     "execution_count": 283,
     "metadata": {},
     "output_type": "execute_result"
    }
   ],
   "source": [
    "counts.shape, next_data.shape"
   ]
  },
  {
   "cell_type": "code",
   "execution_count": 284,
   "metadata": {
    "collapsed": false,
    "jupyter": {
     "outputs_hidden": false
    },
    "pycharm": {
     "name": "#%%\n"
    }
   },
   "outputs": [],
   "source": [
    "next_data['var'] = next_data.var(axis=1)\n",
    "# next_data = next_data[range(100)].copy()"
   ]
  },
  {
   "cell_type": "code",
   "execution_count": 285,
   "metadata": {},
   "outputs": [
    {
     "data": {
      "text/plain": [
       "((13187, 2931), (2930, 13187))"
      ]
     },
     "execution_count": 285,
     "metadata": {},
     "output_type": "execute_result"
    }
   ],
   "source": [
    "next_data.shape, ad.shape"
   ]
  },
  {
   "cell_type": "code",
   "execution_count": 286,
   "metadata": {
    "collapsed": false,
    "jupyter": {
     "outputs_hidden": false
    },
    "pycharm": {
     "name": "#%%\n"
    }
   },
   "outputs": [
    {
     "data": {
      "text/plain": [
       "(13187, 2931)"
      ]
     },
     "execution_count": 286,
     "metadata": {},
     "output_type": "execute_result"
    }
   ],
   "source": [
    "next_data.index = [s[1] for s in seqs]\n",
    "next_data.index.name = 'seq'\n",
    "next_data.shape"
   ]
  },
  {
   "cell_type": "code",
   "execution_count": 287,
   "metadata": {},
   "outputs": [
    {
     "data": {
      "text/plain": [
       "(13184, 2931)"
      ]
     },
     "execution_count": 287,
     "metadata": {},
     "output_type": "execute_result"
    }
   ],
   "source": [
    "next_data = next_data[~next_data.index.str.contains('N')]\n",
    "next_data.shape"
   ]
  },
  {
   "cell_type": "code",
   "execution_count": 288,
   "metadata": {
    "collapsed": false,
    "jupyter": {
     "outputs_hidden": false
    },
    "pycharm": {
     "name": "#%%\n"
    }
   },
   "outputs": [],
   "source": [
    "# sum_index = next_data[next_data.columns[:-1]].var(axis=1).sort_values(ascending=False).index"
   ]
  },
  {
   "cell_type": "code",
   "execution_count": 289,
   "metadata": {
    "collapsed": false,
    "jupyter": {
     "outputs_hidden": false
    },
    "pycharm": {
     "name": "#%%\n"
    }
   },
   "outputs": [],
   "source": [
    "n_cells = ad.shape[0] # next_data.shape[1]\n",
    "top_var = next_data[['var']].sort_values('var', ascending=False).index[:n_cells]"
   ]
  },
  {
   "cell_type": "code",
   "execution_count": 290,
   "metadata": {},
   "outputs": [
    {
     "data": {
      "text/plain": [
       "(13184, 2931)"
      ]
     },
     "execution_count": 290,
     "metadata": {},
     "output_type": "execute_result"
    }
   ],
   "source": [
    "next_data.shape"
   ]
  },
  {
   "cell_type": "code",
   "execution_count": 291,
   "metadata": {},
   "outputs": [
    {
     "data": {
      "text/plain": [
       "2930"
      ]
     },
     "execution_count": 291,
     "metadata": {},
     "output_type": "execute_result"
    }
   ],
   "source": [
    "n_cells"
   ]
  },
  {
   "cell_type": "code",
   "execution_count": 292,
   "metadata": {},
   "outputs": [
    {
     "data": {
      "text/plain": [
       "(2930, 13187)"
      ]
     },
     "execution_count": 292,
     "metadata": {},
     "output_type": "execute_result"
    }
   ],
   "source": [
    "ad.shape"
   ]
  },
  {
   "cell_type": "code",
   "execution_count": 293,
   "metadata": {},
   "outputs": [],
   "source": [
    "# next_data.index"
   ]
  },
  {
   "cell_type": "code",
   "execution_count": 294,
   "metadata": {},
   "outputs": [
    {
     "data": {
      "text/plain": [
       "(2930, 13187)"
      ]
     },
     "execution_count": 294,
     "metadata": {},
     "output_type": "execute_result"
    }
   ],
   "source": [
    "ad.shape"
   ]
  },
  {
   "cell_type": "code",
   "execution_count": 295,
   "metadata": {},
   "outputs": [],
   "source": [
    "next_data = next_data[~next_data.index.duplicated(keep='first')]"
   ]
  },
  {
   "cell_type": "code",
   "execution_count": 296,
   "metadata": {
    "collapsed": false,
    "jupyter": {
     "outputs_hidden": false
    },
    "pycharm": {
     "name": "#%%\n"
    }
   },
   "outputs": [
    {
     "data": {
      "text/plain": [
       "(2930, 2931)"
      ]
     },
     "execution_count": 296,
     "metadata": {},
     "output_type": "execute_result"
    }
   ],
   "source": [
    "# next_data = next_data.head(10000)\n",
    "next_data_sel = next_data.reindex(top_var) # .reset_index(drop=True)\n",
    "next_data_sel.shape"
   ]
  },
  {
   "cell_type": "code",
   "execution_count": 297,
   "metadata": {},
   "outputs": [
    {
     "data": {
      "text/html": [
       "<div>\n",
       "<style scoped>\n",
       "    .dataframe tbody tr th:only-of-type {\n",
       "        vertical-align: middle;\n",
       "    }\n",
       "\n",
       "    .dataframe tbody tr th {\n",
       "        vertical-align: top;\n",
       "    }\n",
       "\n",
       "    .dataframe thead th {\n",
       "        text-align: right;\n",
       "    }\n",
       "</style>\n",
       "<table border=\"1\" class=\"dataframe\">\n",
       "  <thead>\n",
       "    <tr style=\"text-align: right;\">\n",
       "      <th></th>\n",
       "      <th>0</th>\n",
       "      <th>1</th>\n",
       "      <th>2</th>\n",
       "      <th>3</th>\n",
       "      <th>4</th>\n",
       "      <th>5</th>\n",
       "      <th>6</th>\n",
       "      <th>7</th>\n",
       "      <th>8</th>\n",
       "      <th>9</th>\n",
       "      <th>...</th>\n",
       "      <th>2921</th>\n",
       "      <th>2922</th>\n",
       "      <th>2923</th>\n",
       "      <th>2924</th>\n",
       "      <th>2925</th>\n",
       "      <th>2926</th>\n",
       "      <th>2927</th>\n",
       "      <th>2928</th>\n",
       "      <th>2929</th>\n",
       "      <th>var</th>\n",
       "    </tr>\n",
       "    <tr>\n",
       "      <th>seq</th>\n",
       "      <th></th>\n",
       "      <th></th>\n",
       "      <th></th>\n",
       "      <th></th>\n",
       "      <th></th>\n",
       "      <th></th>\n",
       "      <th></th>\n",
       "      <th></th>\n",
       "      <th></th>\n",
       "      <th></th>\n",
       "      <th></th>\n",
       "      <th></th>\n",
       "      <th></th>\n",
       "      <th></th>\n",
       "      <th></th>\n",
       "      <th></th>\n",
       "      <th></th>\n",
       "      <th></th>\n",
       "      <th></th>\n",
       "      <th></th>\n",
       "      <th></th>\n",
       "    </tr>\n",
       "  </thead>\n",
       "  <tbody>\n",
       "    <tr>\n",
       "      <th>ACGCAGAGCCCGGAGCGCCGGTATTTATTGCAAAGGGACACGTCACTCCACCGGAACCTAGTAACCCTCCACCACCTTGGTGAAGGAAGAAAAATAGTTCCTCAGAGAGTTAAAAATAGATCCTGACTTCCAAGTTTCTAGATTTTTCTTGACGTCGTGTGGGCCTCTTGGACCTTGCTAATACAGAGAAATGTTTAGCTTGTACCAGCTAAATAGGTACAAATAGGTTTAAAATTTCTGGTCACAAGGA</th>\n",
       "      <td>192.896332</td>\n",
       "      <td>146.569702</td>\n",
       "      <td>176.720993</td>\n",
       "      <td>74.879700</td>\n",
       "      <td>212.214920</td>\n",
       "      <td>34.730770</td>\n",
       "      <td>103.064430</td>\n",
       "      <td>63.729908</td>\n",
       "      <td>27.008781</td>\n",
       "      <td>207.418335</td>\n",
       "      <td>...</td>\n",
       "      <td>330.720581</td>\n",
       "      <td>143.385773</td>\n",
       "      <td>152.479034</td>\n",
       "      <td>17.642859</td>\n",
       "      <td>101.004532</td>\n",
       "      <td>94.754105</td>\n",
       "      <td>160.864792</td>\n",
       "      <td>93.063194</td>\n",
       "      <td>78.259262</td>\n",
       "      <td>6649.693359</td>\n",
       "    </tr>\n",
       "    <tr>\n",
       "      <th>GCGGCCACCCTCCCTTTTCCGTCTGCCCCCTAGCGGGCCCCGCCTCCTCTTCCGAACGGCCCCGCCCTCCCTCTGCTTCAGTCAGCTGCTAGTCTGTTCTTGCCTTGTAGGTCAGATACCTCTTAAAGAGCTGCCAGATTCCCATTCCCTGCTGAGCCTCCCCTCCCCCATCCCTGCCCCGCCTCTCCCTTCCTTCTTCACTCTTAGCTTTCTGTTCTTACCAGTTCCTCTTCTGTGCCCTTTTCCACAG</th>\n",
       "      <td>0.857317</td>\n",
       "      <td>43.659061</td>\n",
       "      <td>0.000000</td>\n",
       "      <td>0.584998</td>\n",
       "      <td>0.000000</td>\n",
       "      <td>0.538462</td>\n",
       "      <td>0.000000</td>\n",
       "      <td>0.657009</td>\n",
       "      <td>44.564491</td>\n",
       "      <td>0.000000</td>\n",
       "      <td>...</td>\n",
       "      <td>1.531114</td>\n",
       "      <td>0.000000</td>\n",
       "      <td>0.947075</td>\n",
       "      <td>4.071429</td>\n",
       "      <td>1.485361</td>\n",
       "      <td>1.553346</td>\n",
       "      <td>0.000000</td>\n",
       "      <td>295.078430</td>\n",
       "      <td>0.000000</td>\n",
       "      <td>1339.492188</td>\n",
       "    </tr>\n",
       "    <tr>\n",
       "      <th>ATCATCCTCATCGGTACCCTCTGTGCCCATCTGGGACCCAGATGCCTCTGCAGTACGGCTAGATCCAACTACGCCCGCCCCGGGCCACAGAAACAGCGCGCTTGTTGCCAGGCACCGCTCTTGCAGAAGCTCAGAGCCCCTTGCGTCGCCTCACACTCACACAGGCTCCTCCCCGCCCGCGCCCTGCGGGTTTGGGCAACACGCCCACAGGAAGAGGCGGGGCGGCGCGGCCCGCTGCGCTGATTGGCCA</th>\n",
       "      <td>32.578049</td>\n",
       "      <td>8.316011</td>\n",
       "      <td>36.250458</td>\n",
       "      <td>31.589874</td>\n",
       "      <td>32.386211</td>\n",
       "      <td>15.615385</td>\n",
       "      <td>43.052227</td>\n",
       "      <td>29.565422</td>\n",
       "      <td>13.504391</td>\n",
       "      <td>50.558216</td>\n",
       "      <td>...</td>\n",
       "      <td>26.028936</td>\n",
       "      <td>54.486595</td>\n",
       "      <td>33.147614</td>\n",
       "      <td>8.142858</td>\n",
       "      <td>35.648659</td>\n",
       "      <td>20.193497</td>\n",
       "      <td>34.122833</td>\n",
       "      <td>4.539668</td>\n",
       "      <td>51.694191</td>\n",
       "      <td>370.427185</td>\n",
       "    </tr>\n",
       "    <tr>\n",
       "      <th>ACCCCTCCATTTAATTTACACCCCTAATTCACACTTCCTGATTTATTTAAAGCAAAATGAAATTCTAGAGAAGCTTTAGGGGGGAAAAGAGAGAGAAAGAAAAAAAACAATTGGGAGTGAAAAGGCATAAAGAGAAGATGGAGCCCTTAAAGAAGGGAGTATCCCAAAGGAGGTGGGGACAAGGGGAGGAGAAGGGGAGGAGGAGAGGAGGAGGGAAACGAGCCTGTCTCTTTAAGGGGGTTGGCTGTCA</th>\n",
       "      <td>0.000000</td>\n",
       "      <td>0.000000</td>\n",
       "      <td>0.000000</td>\n",
       "      <td>0.000000</td>\n",
       "      <td>0.000000</td>\n",
       "      <td>0.000000</td>\n",
       "      <td>0.000000</td>\n",
       "      <td>0.000000</td>\n",
       "      <td>0.000000</td>\n",
       "      <td>0.000000</td>\n",
       "      <td>...</td>\n",
       "      <td>0.000000</td>\n",
       "      <td>0.000000</td>\n",
       "      <td>0.000000</td>\n",
       "      <td>0.000000</td>\n",
       "      <td>0.000000</td>\n",
       "      <td>0.000000</td>\n",
       "      <td>0.000000</td>\n",
       "      <td>0.000000</td>\n",
       "      <td>0.000000</td>\n",
       "      <td>360.813110</td>\n",
       "    </tr>\n",
       "    <tr>\n",
       "      <th>AGAGGGCACTGTGGAGACCCCCTATTTATGAGTCAGGCTTGGCCTCCACCCAAAGCCCAAGGACTGCCCACTGAAGGCTCGTGATGTTGGTGTGAGGGAGGGTGGCTGTCCCAGCTGCAGCCTCATCTGCTAATTATGTAAGAGGTTCCAGCTGAGCCCCACACCTCCTAGAAGAAGAAACCTCTGCCTGCCCCCATCCCCAGCTCCAGAGGCAGAACTGGCTCAGACCTTGCCCACTCCTGCCGGCAAA</th>\n",
       "      <td>0.000000</td>\n",
       "      <td>0.000000</td>\n",
       "      <td>0.000000</td>\n",
       "      <td>0.000000</td>\n",
       "      <td>0.000000</td>\n",
       "      <td>0.000000</td>\n",
       "      <td>0.000000</td>\n",
       "      <td>0.000000</td>\n",
       "      <td>0.000000</td>\n",
       "      <td>0.000000</td>\n",
       "      <td>...</td>\n",
       "      <td>0.000000</td>\n",
       "      <td>0.000000</td>\n",
       "      <td>0.000000</td>\n",
       "      <td>0.000000</td>\n",
       "      <td>0.000000</td>\n",
       "      <td>0.000000</td>\n",
       "      <td>0.000000</td>\n",
       "      <td>0.000000</td>\n",
       "      <td>0.000000</td>\n",
       "      <td>217.319138</td>\n",
       "    </tr>\n",
       "    <tr>\n",
       "      <th>...</th>\n",
       "      <td>...</td>\n",
       "      <td>...</td>\n",
       "      <td>...</td>\n",
       "      <td>...</td>\n",
       "      <td>...</td>\n",
       "      <td>...</td>\n",
       "      <td>...</td>\n",
       "      <td>...</td>\n",
       "      <td>...</td>\n",
       "      <td>...</td>\n",
       "      <td>...</td>\n",
       "      <td>...</td>\n",
       "      <td>...</td>\n",
       "      <td>...</td>\n",
       "      <td>...</td>\n",
       "      <td>...</td>\n",
       "      <td>...</td>\n",
       "      <td>...</td>\n",
       "      <td>...</td>\n",
       "      <td>...</td>\n",
       "      <td>...</td>\n",
       "    </tr>\n",
       "    <tr>\n",
       "      <th>TCCCGGGCCCGCGCCGCGCGCCCCCGCCTGCGCCGCCGCGCCCGCGCCACGCCGCGCGCCCCCGCGCCAGCTCTCTCTCGCGCTCTCTCTCTCCAGCTCGCTCTGTCTCTCTGTCTCTCTCCCCTTTCTTTCTCTGTCTCTCTCCTCTCTCTGTCTGTCTCTCTCTCTCTGTGTCTCTCCCCCCTCTCTTTCTCTGTCTCTCTCTCTCCTCTCTCTGTGTCTCTCTGTCTGTCTGTCTCTCTCTCTGTGT</th>\n",
       "      <td>0.857317</td>\n",
       "      <td>0.000000</td>\n",
       "      <td>0.000000</td>\n",
       "      <td>0.000000</td>\n",
       "      <td>0.000000</td>\n",
       "      <td>0.000000</td>\n",
       "      <td>1.304613</td>\n",
       "      <td>0.000000</td>\n",
       "      <td>0.000000</td>\n",
       "      <td>0.000000</td>\n",
       "      <td>...</td>\n",
       "      <td>0.000000</td>\n",
       "      <td>7.169289</td>\n",
       "      <td>0.000000</td>\n",
       "      <td>0.000000</td>\n",
       "      <td>0.742680</td>\n",
       "      <td>0.000000</td>\n",
       "      <td>0.000000</td>\n",
       "      <td>0.000000</td>\n",
       "      <td>0.000000</td>\n",
       "      <td>0.214795</td>\n",
       "    </tr>\n",
       "    <tr>\n",
       "      <th>TCCAGGGCTTTGACTTGCCGCACTCGGTGACCGGCCTGCAGTCCTCGGCGGAGCCGCGCGGGGGCGCTGCGGGGAGGCCTCGGCTTTCCTGCCGTGGCGGGGCACGGCCAGGCGGGGGCGCTGCGGGCGGCGGGCGAGGGCTAGGCCGGCCTCTCCTGCGGGGCCGGCTGGGGCGGGGCGCGGCGCCGCACCGCGCTTCCGCAAGTGTGGAGCTGCGGGATGGCTACGCTGCTACTGCAGCTGCTGGGGC</th>\n",
       "      <td>0.000000</td>\n",
       "      <td>0.000000</td>\n",
       "      <td>0.000000</td>\n",
       "      <td>0.000000</td>\n",
       "      <td>0.852269</td>\n",
       "      <td>0.000000</td>\n",
       "      <td>0.000000</td>\n",
       "      <td>0.000000</td>\n",
       "      <td>1.350439</td>\n",
       "      <td>0.000000</td>\n",
       "      <td>...</td>\n",
       "      <td>0.000000</td>\n",
       "      <td>0.000000</td>\n",
       "      <td>0.000000</td>\n",
       "      <td>2.714286</td>\n",
       "      <td>0.000000</td>\n",
       "      <td>0.000000</td>\n",
       "      <td>0.000000</td>\n",
       "      <td>0.000000</td>\n",
       "      <td>0.000000</td>\n",
       "      <td>0.214610</td>\n",
       "    </tr>\n",
       "    <tr>\n",
       "      <th>TCCCGCTCTAAAAGCGCAAGCCCACGTGGGGGCGGGGCGGCTCACCCGGAAGCGGCTCCCGTACCGCCCGCCCCTCCGGGAATGCAGCTTACGCTCCCTTCGGGGCAGTCTCCGGATCACTGGTCAGCTCGCGCGGCCAGATCCACGCTGAGCGGGGCTGGAATCTTGGCCAATCCAGAGTTGCCCGAGAGCCCGCCCGTCTCCCCGCCCCCCAGCTCGGGTCTCACTTGAGGTGGGAAGGCCCGAGGGG</th>\n",
       "      <td>0.857317</td>\n",
       "      <td>0.000000</td>\n",
       "      <td>1.510436</td>\n",
       "      <td>0.584998</td>\n",
       "      <td>0.000000</td>\n",
       "      <td>0.269231</td>\n",
       "      <td>0.000000</td>\n",
       "      <td>0.000000</td>\n",
       "      <td>0.000000</td>\n",
       "      <td>0.000000</td>\n",
       "      <td>...</td>\n",
       "      <td>0.000000</td>\n",
       "      <td>1.433858</td>\n",
       "      <td>0.000000</td>\n",
       "      <td>0.000000</td>\n",
       "      <td>0.000000</td>\n",
       "      <td>0.000000</td>\n",
       "      <td>0.000000</td>\n",
       "      <td>0.000000</td>\n",
       "      <td>0.000000</td>\n",
       "      <td>0.214427</td>\n",
       "    </tr>\n",
       "    <tr>\n",
       "      <th>GGAGAGGCCCTCTGCGCCCTAGCGCGAAGGCCGCGCGCCTGGCTCGCACCCAGGACGTCCACGCTCCCTAGGGATCGGCCCGCGGCAGCGACCTGAGGAGCAGCGCAGGGCAGTGACGTCACCGCCGCCCCTCCCCCGCCCAAGCCGCAGTTCCGGCCCTCCCACATCCGGGTCTCTCCAGCCCATGGGCCGCGCCGCAGCTGCAGGGCCGGGGGTGGGGGAAACGGCGGCGCGGGGCGGGGCGGGGCCG</th>\n",
       "      <td>0.000000</td>\n",
       "      <td>0.000000</td>\n",
       "      <td>0.000000</td>\n",
       "      <td>0.000000</td>\n",
       "      <td>0.000000</td>\n",
       "      <td>0.000000</td>\n",
       "      <td>0.000000</td>\n",
       "      <td>0.000000</td>\n",
       "      <td>0.000000</td>\n",
       "      <td>0.000000</td>\n",
       "      <td>...</td>\n",
       "      <td>0.000000</td>\n",
       "      <td>0.000000</td>\n",
       "      <td>0.000000</td>\n",
       "      <td>0.000000</td>\n",
       "      <td>0.000000</td>\n",
       "      <td>0.000000</td>\n",
       "      <td>0.000000</td>\n",
       "      <td>0.000000</td>\n",
       "      <td>0.000000</td>\n",
       "      <td>0.214397</td>\n",
       "    </tr>\n",
       "    <tr>\n",
       "      <th>CAATGGGTGACGTCGCGCGGCTCCTACCACCGCGCGCGACCGTGGGGGGAGACGTTCGCTAGAAGACTTAGGGGCGCGGGACGGCGCAAACCGTGCGAGACCACTGCCCACACTGTCTGCCCAGAGATAGTTTATATGGTTGCGAGCGATTCCGGGGACGGGGCACCGACTTCGCCGAGCCCAGGTCCTAGGACCTCTCGGTCCTAGGAGGCACCCTCGGCGACTGCCAATTGGCTGCTCCCACTCGCGG</th>\n",
       "      <td>0.000000</td>\n",
       "      <td>0.000000</td>\n",
       "      <td>0.000000</td>\n",
       "      <td>0.000000</td>\n",
       "      <td>0.000000</td>\n",
       "      <td>0.538462</td>\n",
       "      <td>0.000000</td>\n",
       "      <td>0.657009</td>\n",
       "      <td>0.000000</td>\n",
       "      <td>0.000000</td>\n",
       "      <td>...</td>\n",
       "      <td>0.000000</td>\n",
       "      <td>1.433858</td>\n",
       "      <td>0.000000</td>\n",
       "      <td>0.000000</td>\n",
       "      <td>0.000000</td>\n",
       "      <td>0.000000</td>\n",
       "      <td>0.000000</td>\n",
       "      <td>0.000000</td>\n",
       "      <td>0.000000</td>\n",
       "      <td>0.214236</td>\n",
       "    </tr>\n",
       "  </tbody>\n",
       "</table>\n",
       "<p>2930 rows × 2931 columns</p>\n",
       "</div>"
      ],
      "text/plain": [
       "                                                             0           1  \\\n",
       "seq                                                                          \n",
       "ACGCAGAGCCCGGAGCGCCGGTATTTATTGCAAAGGGACACGTCACT...  192.896332  146.569702   \n",
       "GCGGCCACCCTCCCTTTTCCGTCTGCCCCCTAGCGGGCCCCGCCTCC...    0.857317   43.659061   \n",
       "ATCATCCTCATCGGTACCCTCTGTGCCCATCTGGGACCCAGATGCCT...   32.578049    8.316011   \n",
       "ACCCCTCCATTTAATTTACACCCCTAATTCACACTTCCTGATTTATT...    0.000000    0.000000   \n",
       "AGAGGGCACTGTGGAGACCCCCTATTTATGAGTCAGGCTTGGCCTCC...    0.000000    0.000000   \n",
       "...                                                        ...         ...   \n",
       "TCCCGGGCCCGCGCCGCGCGCCCCCGCCTGCGCCGCCGCGCCCGCGC...    0.857317    0.000000   \n",
       "TCCAGGGCTTTGACTTGCCGCACTCGGTGACCGGCCTGCAGTCCTCG...    0.000000    0.000000   \n",
       "TCCCGCTCTAAAAGCGCAAGCCCACGTGGGGGCGGGGCGGCTCACCC...    0.857317    0.000000   \n",
       "GGAGAGGCCCTCTGCGCCCTAGCGCGAAGGCCGCGCGCCTGGCTCGC...    0.000000    0.000000   \n",
       "CAATGGGTGACGTCGCGCGGCTCCTACCACCGCGCGCGACCGTGGGG...    0.000000    0.000000   \n",
       "\n",
       "                                                             2          3  \\\n",
       "seq                                                                         \n",
       "ACGCAGAGCCCGGAGCGCCGGTATTTATTGCAAAGGGACACGTCACT...  176.720993  74.879700   \n",
       "GCGGCCACCCTCCCTTTTCCGTCTGCCCCCTAGCGGGCCCCGCCTCC...    0.000000   0.584998   \n",
       "ATCATCCTCATCGGTACCCTCTGTGCCCATCTGGGACCCAGATGCCT...   36.250458  31.589874   \n",
       "ACCCCTCCATTTAATTTACACCCCTAATTCACACTTCCTGATTTATT...    0.000000   0.000000   \n",
       "AGAGGGCACTGTGGAGACCCCCTATTTATGAGTCAGGCTTGGCCTCC...    0.000000   0.000000   \n",
       "...                                                        ...        ...   \n",
       "TCCCGGGCCCGCGCCGCGCGCCCCCGCCTGCGCCGCCGCGCCCGCGC...    0.000000   0.000000   \n",
       "TCCAGGGCTTTGACTTGCCGCACTCGGTGACCGGCCTGCAGTCCTCG...    0.000000   0.000000   \n",
       "TCCCGCTCTAAAAGCGCAAGCCCACGTGGGGGCGGGGCGGCTCACCC...    1.510436   0.584998   \n",
       "GGAGAGGCCCTCTGCGCCCTAGCGCGAAGGCCGCGCGCCTGGCTCGC...    0.000000   0.000000   \n",
       "CAATGGGTGACGTCGCGCGGCTCCTACCACCGCGCGCGACCGTGGGG...    0.000000   0.000000   \n",
       "\n",
       "                                                             4          5  \\\n",
       "seq                                                                         \n",
       "ACGCAGAGCCCGGAGCGCCGGTATTTATTGCAAAGGGACACGTCACT...  212.214920  34.730770   \n",
       "GCGGCCACCCTCCCTTTTCCGTCTGCCCCCTAGCGGGCCCCGCCTCC...    0.000000   0.538462   \n",
       "ATCATCCTCATCGGTACCCTCTGTGCCCATCTGGGACCCAGATGCCT...   32.386211  15.615385   \n",
       "ACCCCTCCATTTAATTTACACCCCTAATTCACACTTCCTGATTTATT...    0.000000   0.000000   \n",
       "AGAGGGCACTGTGGAGACCCCCTATTTATGAGTCAGGCTTGGCCTCC...    0.000000   0.000000   \n",
       "...                                                        ...        ...   \n",
       "TCCCGGGCCCGCGCCGCGCGCCCCCGCCTGCGCCGCCGCGCCCGCGC...    0.000000   0.000000   \n",
       "TCCAGGGCTTTGACTTGCCGCACTCGGTGACCGGCCTGCAGTCCTCG...    0.852269   0.000000   \n",
       "TCCCGCTCTAAAAGCGCAAGCCCACGTGGGGGCGGGGCGGCTCACCC...    0.000000   0.269231   \n",
       "GGAGAGGCCCTCTGCGCCCTAGCGCGAAGGCCGCGCGCCTGGCTCGC...    0.000000   0.000000   \n",
       "CAATGGGTGACGTCGCGCGGCTCCTACCACCGCGCGCGACCGTGGGG...    0.000000   0.538462   \n",
       "\n",
       "                                                             6          7  \\\n",
       "seq                                                                         \n",
       "ACGCAGAGCCCGGAGCGCCGGTATTTATTGCAAAGGGACACGTCACT...  103.064430  63.729908   \n",
       "GCGGCCACCCTCCCTTTTCCGTCTGCCCCCTAGCGGGCCCCGCCTCC...    0.000000   0.657009   \n",
       "ATCATCCTCATCGGTACCCTCTGTGCCCATCTGGGACCCAGATGCCT...   43.052227  29.565422   \n",
       "ACCCCTCCATTTAATTTACACCCCTAATTCACACTTCCTGATTTATT...    0.000000   0.000000   \n",
       "AGAGGGCACTGTGGAGACCCCCTATTTATGAGTCAGGCTTGGCCTCC...    0.000000   0.000000   \n",
       "...                                                        ...        ...   \n",
       "TCCCGGGCCCGCGCCGCGCGCCCCCGCCTGCGCCGCCGCGCCCGCGC...    1.304613   0.000000   \n",
       "TCCAGGGCTTTGACTTGCCGCACTCGGTGACCGGCCTGCAGTCCTCG...    0.000000   0.000000   \n",
       "TCCCGCTCTAAAAGCGCAAGCCCACGTGGGGGCGGGGCGGCTCACCC...    0.000000   0.000000   \n",
       "GGAGAGGCCCTCTGCGCCCTAGCGCGAAGGCCGCGCGCCTGGCTCGC...    0.000000   0.000000   \n",
       "CAATGGGTGACGTCGCGCGGCTCCTACCACCGCGCGCGACCGTGGGG...    0.000000   0.657009   \n",
       "\n",
       "                                                            8           9  \\\n",
       "seq                                                                         \n",
       "ACGCAGAGCCCGGAGCGCCGGTATTTATTGCAAAGGGACACGTCACT...  27.008781  207.418335   \n",
       "GCGGCCACCCTCCCTTTTCCGTCTGCCCCCTAGCGGGCCCCGCCTCC...  44.564491    0.000000   \n",
       "ATCATCCTCATCGGTACCCTCTGTGCCCATCTGGGACCCAGATGCCT...  13.504391   50.558216   \n",
       "ACCCCTCCATTTAATTTACACCCCTAATTCACACTTCCTGATTTATT...   0.000000    0.000000   \n",
       "AGAGGGCACTGTGGAGACCCCCTATTTATGAGTCAGGCTTGGCCTCC...   0.000000    0.000000   \n",
       "...                                                       ...         ...   \n",
       "TCCCGGGCCCGCGCCGCGCGCCCCCGCCTGCGCCGCCGCGCCCGCGC...   0.000000    0.000000   \n",
       "TCCAGGGCTTTGACTTGCCGCACTCGGTGACCGGCCTGCAGTCCTCG...   1.350439    0.000000   \n",
       "TCCCGCTCTAAAAGCGCAAGCCCACGTGGGGGCGGGGCGGCTCACCC...   0.000000    0.000000   \n",
       "GGAGAGGCCCTCTGCGCCCTAGCGCGAAGGCCGCGCGCCTGGCTCGC...   0.000000    0.000000   \n",
       "CAATGGGTGACGTCGCGCGGCTCCTACCACCGCGCGCGACCGTGGGG...   0.000000    0.000000   \n",
       "\n",
       "                                                    ...        2921  \\\n",
       "seq                                                 ...               \n",
       "ACGCAGAGCCCGGAGCGCCGGTATTTATTGCAAAGGGACACGTCACT...  ...  330.720581   \n",
       "GCGGCCACCCTCCCTTTTCCGTCTGCCCCCTAGCGGGCCCCGCCTCC...  ...    1.531114   \n",
       "ATCATCCTCATCGGTACCCTCTGTGCCCATCTGGGACCCAGATGCCT...  ...   26.028936   \n",
       "ACCCCTCCATTTAATTTACACCCCTAATTCACACTTCCTGATTTATT...  ...    0.000000   \n",
       "AGAGGGCACTGTGGAGACCCCCTATTTATGAGTCAGGCTTGGCCTCC...  ...    0.000000   \n",
       "...                                                 ...         ...   \n",
       "TCCCGGGCCCGCGCCGCGCGCCCCCGCCTGCGCCGCCGCGCCCGCGC...  ...    0.000000   \n",
       "TCCAGGGCTTTGACTTGCCGCACTCGGTGACCGGCCTGCAGTCCTCG...  ...    0.000000   \n",
       "TCCCGCTCTAAAAGCGCAAGCCCACGTGGGGGCGGGGCGGCTCACCC...  ...    0.000000   \n",
       "GGAGAGGCCCTCTGCGCCCTAGCGCGAAGGCCGCGCGCCTGGCTCGC...  ...    0.000000   \n",
       "CAATGGGTGACGTCGCGCGGCTCCTACCACCGCGCGCGACCGTGGGG...  ...    0.000000   \n",
       "\n",
       "                                                          2922        2923  \\\n",
       "seq                                                                          \n",
       "ACGCAGAGCCCGGAGCGCCGGTATTTATTGCAAAGGGACACGTCACT...  143.385773  152.479034   \n",
       "GCGGCCACCCTCCCTTTTCCGTCTGCCCCCTAGCGGGCCCCGCCTCC...    0.000000    0.947075   \n",
       "ATCATCCTCATCGGTACCCTCTGTGCCCATCTGGGACCCAGATGCCT...   54.486595   33.147614   \n",
       "ACCCCTCCATTTAATTTACACCCCTAATTCACACTTCCTGATTTATT...    0.000000    0.000000   \n",
       "AGAGGGCACTGTGGAGACCCCCTATTTATGAGTCAGGCTTGGCCTCC...    0.000000    0.000000   \n",
       "...                                                        ...         ...   \n",
       "TCCCGGGCCCGCGCCGCGCGCCCCCGCCTGCGCCGCCGCGCCCGCGC...    7.169289    0.000000   \n",
       "TCCAGGGCTTTGACTTGCCGCACTCGGTGACCGGCCTGCAGTCCTCG...    0.000000    0.000000   \n",
       "TCCCGCTCTAAAAGCGCAAGCCCACGTGGGGGCGGGGCGGCTCACCC...    1.433858    0.000000   \n",
       "GGAGAGGCCCTCTGCGCCCTAGCGCGAAGGCCGCGCGCCTGGCTCGC...    0.000000    0.000000   \n",
       "CAATGGGTGACGTCGCGCGGCTCCTACCACCGCGCGCGACCGTGGGG...    1.433858    0.000000   \n",
       "\n",
       "                                                         2924        2925  \\\n",
       "seq                                                                         \n",
       "ACGCAGAGCCCGGAGCGCCGGTATTTATTGCAAAGGGACACGTCACT...  17.642859  101.004532   \n",
       "GCGGCCACCCTCCCTTTTCCGTCTGCCCCCTAGCGGGCCCCGCCTCC...   4.071429    1.485361   \n",
       "ATCATCCTCATCGGTACCCTCTGTGCCCATCTGGGACCCAGATGCCT...   8.142858   35.648659   \n",
       "ACCCCTCCATTTAATTTACACCCCTAATTCACACTTCCTGATTTATT...   0.000000    0.000000   \n",
       "AGAGGGCACTGTGGAGACCCCCTATTTATGAGTCAGGCTTGGCCTCC...   0.000000    0.000000   \n",
       "...                                                       ...         ...   \n",
       "TCCCGGGCCCGCGCCGCGCGCCCCCGCCTGCGCCGCCGCGCCCGCGC...   0.000000    0.742680   \n",
       "TCCAGGGCTTTGACTTGCCGCACTCGGTGACCGGCCTGCAGTCCTCG...   2.714286    0.000000   \n",
       "TCCCGCTCTAAAAGCGCAAGCCCACGTGGGGGCGGGGCGGCTCACCC...   0.000000    0.000000   \n",
       "GGAGAGGCCCTCTGCGCCCTAGCGCGAAGGCCGCGCGCCTGGCTCGC...   0.000000    0.000000   \n",
       "CAATGGGTGACGTCGCGCGGCTCCTACCACCGCGCGCGACCGTGGGG...   0.000000    0.000000   \n",
       "\n",
       "                                                         2926        2927  \\\n",
       "seq                                                                         \n",
       "ACGCAGAGCCCGGAGCGCCGGTATTTATTGCAAAGGGACACGTCACT...  94.754105  160.864792   \n",
       "GCGGCCACCCTCCCTTTTCCGTCTGCCCCCTAGCGGGCCCCGCCTCC...   1.553346    0.000000   \n",
       "ATCATCCTCATCGGTACCCTCTGTGCCCATCTGGGACCCAGATGCCT...  20.193497   34.122833   \n",
       "ACCCCTCCATTTAATTTACACCCCTAATTCACACTTCCTGATTTATT...   0.000000    0.000000   \n",
       "AGAGGGCACTGTGGAGACCCCCTATTTATGAGTCAGGCTTGGCCTCC...   0.000000    0.000000   \n",
       "...                                                       ...         ...   \n",
       "TCCCGGGCCCGCGCCGCGCGCCCCCGCCTGCGCCGCCGCGCCCGCGC...   0.000000    0.000000   \n",
       "TCCAGGGCTTTGACTTGCCGCACTCGGTGACCGGCCTGCAGTCCTCG...   0.000000    0.000000   \n",
       "TCCCGCTCTAAAAGCGCAAGCCCACGTGGGGGCGGGGCGGCTCACCC...   0.000000    0.000000   \n",
       "GGAGAGGCCCTCTGCGCCCTAGCGCGAAGGCCGCGCGCCTGGCTCGC...   0.000000    0.000000   \n",
       "CAATGGGTGACGTCGCGCGGCTCCTACCACCGCGCGCGACCGTGGGG...   0.000000    0.000000   \n",
       "\n",
       "                                                          2928       2929  \\\n",
       "seq                                                                         \n",
       "ACGCAGAGCCCGGAGCGCCGGTATTTATTGCAAAGGGACACGTCACT...   93.063194  78.259262   \n",
       "GCGGCCACCCTCCCTTTTCCGTCTGCCCCCTAGCGGGCCCCGCCTCC...  295.078430   0.000000   \n",
       "ATCATCCTCATCGGTACCCTCTGTGCCCATCTGGGACCCAGATGCCT...    4.539668  51.694191   \n",
       "ACCCCTCCATTTAATTTACACCCCTAATTCACACTTCCTGATTTATT...    0.000000   0.000000   \n",
       "AGAGGGCACTGTGGAGACCCCCTATTTATGAGTCAGGCTTGGCCTCC...    0.000000   0.000000   \n",
       "...                                                        ...        ...   \n",
       "TCCCGGGCCCGCGCCGCGCGCCCCCGCCTGCGCCGCCGCGCCCGCGC...    0.000000   0.000000   \n",
       "TCCAGGGCTTTGACTTGCCGCACTCGGTGACCGGCCTGCAGTCCTCG...    0.000000   0.000000   \n",
       "TCCCGCTCTAAAAGCGCAAGCCCACGTGGGGGCGGGGCGGCTCACCC...    0.000000   0.000000   \n",
       "GGAGAGGCCCTCTGCGCCCTAGCGCGAAGGCCGCGCGCCTGGCTCGC...    0.000000   0.000000   \n",
       "CAATGGGTGACGTCGCGCGGCTCCTACCACCGCGCGCGACCGTGGGG...    0.000000   0.000000   \n",
       "\n",
       "                                                            var  \n",
       "seq                                                              \n",
       "ACGCAGAGCCCGGAGCGCCGGTATTTATTGCAAAGGGACACGTCACT...  6649.693359  \n",
       "GCGGCCACCCTCCCTTTTCCGTCTGCCCCCTAGCGGGCCCCGCCTCC...  1339.492188  \n",
       "ATCATCCTCATCGGTACCCTCTGTGCCCATCTGGGACCCAGATGCCT...   370.427185  \n",
       "ACCCCTCCATTTAATTTACACCCCTAATTCACACTTCCTGATTTATT...   360.813110  \n",
       "AGAGGGCACTGTGGAGACCCCCTATTTATGAGTCAGGCTTGGCCTCC...   217.319138  \n",
       "...                                                         ...  \n",
       "TCCCGGGCCCGCGCCGCGCGCCCCCGCCTGCGCCGCCGCGCCCGCGC...     0.214795  \n",
       "TCCAGGGCTTTGACTTGCCGCACTCGGTGACCGGCCTGCAGTCCTCG...     0.214610  \n",
       "TCCCGCTCTAAAAGCGCAAGCCCACGTGGGGGCGGGGCGGCTCACCC...     0.214427  \n",
       "GGAGAGGCCCTCTGCGCCCTAGCGCGAAGGCCGCGCGCCTGGCTCGC...     0.214397  \n",
       "CAATGGGTGACGTCGCGCGGCTCCTACCACCGCGCGCGACCGTGGGG...     0.214236  \n",
       "\n",
       "[2930 rows x 2931 columns]"
      ]
     },
     "execution_count": 297,
     "metadata": {},
     "output_type": "execute_result"
    }
   ],
   "source": [
    "next_data_sel"
   ]
  },
  {
   "cell_type": "code",
   "execution_count": 298,
   "metadata": {},
   "outputs": [
    {
     "data": {
      "text/plain": [
       "(2930, 13187)"
      ]
     },
     "execution_count": 298,
     "metadata": {},
     "output_type": "execute_result"
    }
   ],
   "source": [
    "ad.shape"
   ]
  },
  {
   "cell_type": "code",
   "execution_count": 299,
   "metadata": {},
   "outputs": [
    {
     "data": {
      "text/plain": [
       "(2930, (13183, 2931))"
      ]
     },
     "execution_count": 299,
     "metadata": {},
     "output_type": "execute_result"
    }
   ],
   "source": [
    "len(top_var), next_data.shape"
   ]
  },
  {
   "cell_type": "code",
   "execution_count": 300,
   "metadata": {},
   "outputs": [
    {
     "data": {
      "text/plain": [
       "(2930, 13187)"
      ]
     },
     "execution_count": 300,
     "metadata": {},
     "output_type": "execute_result"
    }
   ],
   "source": [
    "ad.shape"
   ]
  },
  {
   "cell_type": "code",
   "execution_count": 301,
   "metadata": {
    "collapsed": false,
    "jupyter": {
     "outputs_hidden": false
    },
    "pycharm": {
     "name": "#%%\n"
    }
   },
   "outputs": [
    {
     "data": {
      "text/plain": [
       "(2930, 2930)"
      ]
     },
     "execution_count": 301,
     "metadata": {},
     "output_type": "execute_result"
    }
   ],
   "source": [
    "del next_data_sel['var']\n",
    "# next_data_sel.index = next_data_sel['seq']\n",
    "# del next_data_sel['seq']\n",
    "next_data_sel.shape"
   ]
  },
  {
   "cell_type": "code",
   "execution_count": null,
   "metadata": {},
   "outputs": [],
   "source": []
  },
  {
   "cell_type": "code",
   "execution_count": 302,
   "metadata": {
    "collapsed": false,
    "jupyter": {
     "outputs_hidden": false
    },
    "pycharm": {
     "name": "#%%\n"
    }
   },
   "outputs": [
    {
     "data": {
      "text/plain": [
       "(2930, 2930)"
      ]
     },
     "execution_count": 302,
     "metadata": {},
     "output_type": "execute_result"
    }
   ],
   "source": [
    "df = next_data_sel.copy() # sample\n",
    "# df = df[df.columns[:5000]] # .head(100) # sample\n",
    "\n",
    "# shorten sequences/remove duplicates\n",
    "# df.index = df.index.astype(str).str[35:-35]\n",
    "# df = df[~df.index.duplicated(keep='first')]\n",
    "\n",
    "zero_counts = df.sum(axis=1) == 0\n",
    "df = df[~zero_counts] # remove zeroes\n",
    "\n",
    "df.shape"
   ]
  },
  {
   "cell_type": "code",
   "execution_count": 303,
   "metadata": {},
   "outputs": [
    {
     "data": {
      "text/plain": [
       "((2930, 13187), (2930, 2930))"
      ]
     },
     "execution_count": 303,
     "metadata": {},
     "output_type": "execute_result"
    }
   ],
   "source": [
    "ad.shape, df.shape"
   ]
  },
  {
   "cell_type": "code",
   "execution_count": 304,
   "metadata": {},
   "outputs": [
    {
     "data": {
      "text/plain": [
       "(2930,)"
      ]
     },
     "execution_count": 304,
     "metadata": {},
     "output_type": "execute_result"
    }
   ],
   "source": [
    "zero_counts.shape"
   ]
  },
  {
   "cell_type": "code",
   "execution_count": 305,
   "metadata": {},
   "outputs": [
    {
     "data": {
      "text/plain": [
       "((2930,), (2930, 13187))"
      ]
     },
     "execution_count": 305,
     "metadata": {},
     "output_type": "execute_result"
    }
   ],
   "source": [
    "zero_counts.shape, ad.shape"
   ]
  },
  {
   "cell_type": "code",
   "execution_count": 306,
   "metadata": {},
   "outputs": [
    {
     "data": {
      "text/plain": [
       "((2930, 13187), (2930,))"
      ]
     },
     "execution_count": 306,
     "metadata": {},
     "output_type": "execute_result"
    }
   ],
   "source": [
    "ad.shape, zero_counts.shape"
   ]
  },
  {
   "cell_type": "code",
   "execution_count": 307,
   "metadata": {
    "collapsed": false,
    "jupyter": {
     "outputs_hidden": false
    },
    "pycharm": {
     "name": "#%%\n"
    }
   },
   "outputs": [],
   "source": [
    "ad = ad[~zero_counts,:].copy()\n"
   ]
  },
  {
   "cell_type": "code",
   "execution_count": 308,
   "metadata": {},
   "outputs": [
    {
     "data": {
      "text/plain": [
       "(2930, 13187)"
      ]
     },
     "execution_count": 308,
     "metadata": {},
     "output_type": "execute_result"
    }
   ],
   "source": [
    "ad.shape"
   ]
  },
  {
   "cell_type": "code",
   "execution_count": 309,
   "metadata": {
    "collapsed": false,
    "jupyter": {
     "outputs_hidden": false
    },
    "pycharm": {
     "name": "#%%\n"
    }
   },
   "outputs": [
    {
     "name": "stdout",
     "output_type": "stream",
     "text": [
      "(8584900, 3)\n",
      "2930\n",
      "batch\n",
      "0      2930\n",
      "137    2930\n",
      "127    2930\n",
      "128    2930\n",
      "129    2930\n",
      "       ... \n",
      "69     2930\n",
      "70     2930\n",
      "71     2930\n",
      "72     2930\n",
      "199    2930\n",
      "Name: count, Length: 200, dtype: int64\n"
     ]
    },
    {
     "data": {
      "text/html": [
       "<div>\n",
       "<style scoped>\n",
       "    .dataframe tbody tr th:only-of-type {\n",
       "        vertical-align: middle;\n",
       "    }\n",
       "\n",
       "    .dataframe tbody tr th {\n",
       "        vertical-align: top;\n",
       "    }\n",
       "\n",
       "    .dataframe thead th {\n",
       "        text-align: right;\n",
       "    }\n",
       "</style>\n",
       "<table border=\"1\" class=\"dataframe\">\n",
       "  <thead>\n",
       "    <tr style=\"text-align: right;\">\n",
       "      <th></th>\n",
       "      <th>0</th>\n",
       "      <th>1</th>\n",
       "      <th>batch</th>\n",
       "    </tr>\n",
       "    <tr>\n",
       "      <th>seq</th>\n",
       "      <th></th>\n",
       "      <th></th>\n",
       "      <th></th>\n",
       "    </tr>\n",
       "  </thead>\n",
       "  <tbody>\n",
       "    <tr>\n",
       "      <th>ACGCAGAGCCCGGAGCGCCGGTATTTATTGCAAAGGGACACGTCACTCCACCGGAACCTAGTAACCCTCCACCACCTTGGTGAAGGAAGAAAAATAGTTCCTCAGAGAGTTAAAAATAGATCCTGACTTCCAAGTTTCTAGATTTTTCTTGACGTCGTGTGGGCCTCTTGGACCTTGCTAATACAGAGAAATGTTTAGCTTGTACCAGCTAAATAGGTACAAATAGGTTTAAAATTTCTGGTCACAAGGA</th>\n",
       "      <td>1.0</td>\n",
       "      <td>192.896332</td>\n",
       "      <td>0</td>\n",
       "    </tr>\n",
       "    <tr>\n",
       "      <th>GCGGCCACCCTCCCTTTTCCGTCTGCCCCCTAGCGGGCCCCGCCTCCTCTTCCGAACGGCCCCGCCCTCCCTCTGCTTCAGTCAGCTGCTAGTCTGTTCTTGCCTTGTAGGTCAGATACCTCTTAAAGAGCTGCCAGATTCCCATTCCCTGCTGAGCCTCCCCTCCCCCATCCCTGCCCCGCCTCTCCCTTCCTTCTTCACTCTTAGCTTTCTGTTCTTACCAGTTCCTCTTCTGTGCCCTTTTCCACAG</th>\n",
       "      <td>1.0</td>\n",
       "      <td>0.857317</td>\n",
       "      <td>0</td>\n",
       "    </tr>\n",
       "    <tr>\n",
       "      <th>ATCATCCTCATCGGTACCCTCTGTGCCCATCTGGGACCCAGATGCCTCTGCAGTACGGCTAGATCCAACTACGCCCGCCCCGGGCCACAGAAACAGCGCGCTTGTTGCCAGGCACCGCTCTTGCAGAAGCTCAGAGCCCCTTGCGTCGCCTCACACTCACACAGGCTCCTCCCCGCCCGCGCCCTGCGGGTTTGGGCAACACGCCCACAGGAAGAGGCGGGGCGGCGCGGCCCGCTGCGCTGATTGGCCA</th>\n",
       "      <td>1.0</td>\n",
       "      <td>32.578049</td>\n",
       "      <td>0</td>\n",
       "    </tr>\n",
       "    <tr>\n",
       "      <th>ACCCCTCCATTTAATTTACACCCCTAATTCACACTTCCTGATTTATTTAAAGCAAAATGAAATTCTAGAGAAGCTTTAGGGGGGAAAAGAGAGAGAAAGAAAAAAAACAATTGGGAGTGAAAAGGCATAAAGAGAAGATGGAGCCCTTAAAGAAGGGAGTATCCCAAAGGAGGTGGGGACAAGGGGAGGAGAAGGGGAGGAGGAGAGGAGGAGGGAAACGAGCCTGTCTCTTTAAGGGGGTTGGCTGTCA</th>\n",
       "      <td>1.0</td>\n",
       "      <td>0.000000</td>\n",
       "      <td>0</td>\n",
       "    </tr>\n",
       "    <tr>\n",
       "      <th>AGAGGGCACTGTGGAGACCCCCTATTTATGAGTCAGGCTTGGCCTCCACCCAAAGCCCAAGGACTGCCCACTGAAGGCTCGTGATGTTGGTGTGAGGGAGGGTGGCTGTCCCAGCTGCAGCCTCATCTGCTAATTATGTAAGAGGTTCCAGCTGAGCCCCACACCTCCTAGAAGAAGAAACCTCTGCCTGCCCCCATCCCCAGCTCCAGAGGCAGAACTGGCTCAGACCTTGCCCACTCCTGCCGGCAAA</th>\n",
       "      <td>1.0</td>\n",
       "      <td>0.000000</td>\n",
       "      <td>0</td>\n",
       "    </tr>\n",
       "  </tbody>\n",
       "</table>\n",
       "</div>"
      ],
      "text/plain": [
       "                                                      0           1  batch\n",
       "seq                                                                       \n",
       "ACGCAGAGCCCGGAGCGCCGGTATTTATTGCAAAGGGACACGTCACT...  1.0  192.896332      0\n",
       "GCGGCCACCCTCCCTTTTCCGTCTGCCCCCTAGCGGGCCCCGCCTCC...  1.0    0.857317      0\n",
       "ATCATCCTCATCGGTACCCTCTGTGCCCATCTGGGACCCAGATGCCT...  1.0   32.578049      0\n",
       "ACCCCTCCATTTAATTTACACCCCTAATTCACACTTCCTGATTTATT...  1.0    0.000000      0\n",
       "AGAGGGCACTGTGGAGACCCCCTATTTATGAGTCAGGCTTGGCCTCC...  1.0    0.000000      0"
      ]
     },
     "execution_count": 309,
     "metadata": {},
     "output_type": "execute_result"
    }
   ],
   "source": [
    "df2 = df.reset_index().melt('seq').set_index('seq')\n",
    "# add a baseline count\n",
    "df2[0] = 1.0\n",
    "cols = ['batch', 1, 0]\n",
    "df2.columns = cols\n",
    "df2 = df2[[0, 1, 'batch']] # cols[::-1]]\n",
    "df2['batch'] = df2['batch'].astype(int)\n",
    "print(df2.shape)\n",
    "print(len(set(df2['batch'])))\n",
    "n_cells = 200\n",
    "df2 = df2[df2['batch'].isin(range(0, n_cells))]\n",
    "print(df2['batch'].value_counts())\n",
    "df2.head()"
   ]
  },
  {
   "cell_type": "markdown",
   "metadata": {
    "collapsed": false,
    "jupyter": {
     "outputs_hidden": false
    },
    "pycharm": {
     "name": "#%% md\n"
    }
   },
   "source": [
    "### Simple motif enrichment"
   ]
  },
  {
   "cell_type": "code",
   "execution_count": 310,
   "metadata": {
    "collapsed": false,
    "jupyter": {
     "outputs_hidden": false
    },
    "pycharm": {
     "name": "#%%\n"
    }
   },
   "outputs": [],
   "source": [
    "use_kmers = False\n",
    "if use_kmers:\n",
    "    kmers_by_module = {}\n",
    "    pwm_by_module = {}\n",
    "    glossary_kmers_dir = '../../../../../zaugglab/apobec2_data_analysis/src/analyses_2023_new_sample/Glossary Modules'\n",
    "    for f in os.listdir(glossary_kmers_dir):\n",
    "        if not f.endswith('.xlsx'):\n",
    "            continue\n",
    "        name = f.replace('Glossary_module_', '').replace('.xlsx', '')\n",
    "        kmers = pd.read_excel(os.path.join(glossary_kmers_dir, f), sheet_name='8mers')\n",
    "        kmers_by_module[name] = kmers[kmers.columns[0]]\n",
    "        pwm = pd.read_excel(os.path.join(glossary_kmers_dir, f), sheet_name='PWM', index_col=0)\n",
    "        pwm_by_module[name] = pwm"
   ]
  },
  {
   "cell_type": "markdown",
   "metadata": {
    "collapsed": false,
    "jupyter": {
     "outputs_hidden": false
    },
    "pycharm": {
     "name": "#%% md\n"
    }
   },
   "source": [
    "### Generate pos and neg"
   ]
  },
  {
   "cell_type": "code",
   "execution_count": 311,
   "metadata": {
    "collapsed": false,
    "jupyter": {
     "outputs_hidden": false
    },
    "pycharm": {
     "name": "#%%\n"
    }
   },
   "outputs": [],
   "source": [
    "# import ushuffle\n",
    "\n",
    "# fg = df.index\n",
    "# bg = []\n",
    "\n",
    "# for i, s in enumerate(fg):\n",
    "#     # print(i, s)\n",
    "#     bg.append(ushuffle.shuffle(str.encode(s), 2))\n",
    "\n"
   ]
  },
  {
   "cell_type": "code",
   "execution_count": 312,
   "metadata": {
    "collapsed": false,
    "jupyter": {
     "outputs_hidden": false
    },
    "pycharm": {
     "name": "#%%\n"
    }
   },
   "outputs": [],
   "source": [
    "# for a, b in zip(fg, bg):\n",
    "#     # print(len(a[1]), len(b))\n",
    "#     assert len(a) == len(b)"
   ]
  },
  {
   "cell_type": "code",
   "execution_count": 313,
   "metadata": {
    "collapsed": false,
    "jupyter": {
     "outputs_hidden": false
    },
    "pycharm": {
     "name": "#%%\n"
    }
   },
   "outputs": [],
   "source": [
    "frac_acc = (df > 0).sum(axis=0) / df.shape[1]"
   ]
  },
  {
   "cell_type": "code",
   "execution_count": 314,
   "metadata": {
    "collapsed": false,
    "jupyter": {
     "outputs_hidden": false
    },
    "pycharm": {
     "name": "#%%\n"
    }
   },
   "outputs": [],
   "source": [
    "reduced_groups = pwms"
   ]
  },
  {
   "cell_type": "code",
   "execution_count": 315,
   "metadata": {},
   "outputs": [
    {
     "data": {
      "text/html": [
       "<div>\n",
       "<style scoped>\n",
       "    .dataframe tbody tr th:only-of-type {\n",
       "        vertical-align: middle;\n",
       "    }\n",
       "\n",
       "    .dataframe tbody tr th {\n",
       "        vertical-align: top;\n",
       "    }\n",
       "\n",
       "    .dataframe thead th {\n",
       "        text-align: right;\n",
       "    }\n",
       "</style>\n",
       "<table border=\"1\" class=\"dataframe\">\n",
       "  <thead>\n",
       "    <tr style=\"text-align: right;\">\n",
       "      <th></th>\n",
       "      <th>0</th>\n",
       "      <th>1</th>\n",
       "      <th>2</th>\n",
       "      <th>3</th>\n",
       "      <th>4</th>\n",
       "      <th>5</th>\n",
       "      <th>6</th>\n",
       "      <th>7</th>\n",
       "      <th>8</th>\n",
       "      <th>9</th>\n",
       "      <th>...</th>\n",
       "      <th>2920</th>\n",
       "      <th>2921</th>\n",
       "      <th>2922</th>\n",
       "      <th>2923</th>\n",
       "      <th>2924</th>\n",
       "      <th>2925</th>\n",
       "      <th>2926</th>\n",
       "      <th>2927</th>\n",
       "      <th>2928</th>\n",
       "      <th>2929</th>\n",
       "    </tr>\n",
       "    <tr>\n",
       "      <th>seq</th>\n",
       "      <th></th>\n",
       "      <th></th>\n",
       "      <th></th>\n",
       "      <th></th>\n",
       "      <th></th>\n",
       "      <th></th>\n",
       "      <th></th>\n",
       "      <th></th>\n",
       "      <th></th>\n",
       "      <th></th>\n",
       "      <th></th>\n",
       "      <th></th>\n",
       "      <th></th>\n",
       "      <th></th>\n",
       "      <th></th>\n",
       "      <th></th>\n",
       "      <th></th>\n",
       "      <th></th>\n",
       "      <th></th>\n",
       "      <th></th>\n",
       "      <th></th>\n",
       "    </tr>\n",
       "  </thead>\n",
       "  <tbody>\n",
       "    <tr>\n",
       "      <th>ACGCAGAGCCCGGAGCGCCGGTATTTATTGCAAAGGGACACGTCACTCCACCGGAACCTAGTAACCCTCCACCACCTTGGTGAAGGAAGAAAAATAGTTCCTCAGAGAGTTAAAAATAGATCCTGACTTCCAAGTTTCTAGATTTTTCTTGACGTCGTGTGGGCCTCTTGGACCTTGCTAATACAGAGAAATGTTTAGCTTGTACCAGCTAAATAGGTACAAATAGGTTTAAAATTTCTGGTCACAAGGA</th>\n",
       "      <td>192.896332</td>\n",
       "      <td>146.569702</td>\n",
       "      <td>176.720993</td>\n",
       "      <td>74.879700</td>\n",
       "      <td>212.214920</td>\n",
       "      <td>34.730770</td>\n",
       "      <td>103.064430</td>\n",
       "      <td>63.729908</td>\n",
       "      <td>27.008781</td>\n",
       "      <td>207.418335</td>\n",
       "      <td>...</td>\n",
       "      <td>37.665909</td>\n",
       "      <td>330.720581</td>\n",
       "      <td>143.385773</td>\n",
       "      <td>152.479034</td>\n",
       "      <td>17.642859</td>\n",
       "      <td>101.004532</td>\n",
       "      <td>94.754105</td>\n",
       "      <td>160.864792</td>\n",
       "      <td>93.063194</td>\n",
       "      <td>78.259262</td>\n",
       "    </tr>\n",
       "    <tr>\n",
       "      <th>GCGGCCACCCTCCCTTTTCCGTCTGCCCCCTAGCGGGCCCCGCCTCCTCTTCCGAACGGCCCCGCCCTCCCTCTGCTTCAGTCAGCTGCTAGTCTGTTCTTGCCTTGTAGGTCAGATACCTCTTAAAGAGCTGCCAGATTCCCATTCCCTGCTGAGCCTCCCCTCCCCCATCCCTGCCCCGCCTCTCCCTTCCTTCTTCACTCTTAGCTTTCTGTTCTTACCAGTTCCTCTTCTGTGCCCTTTTCCACAG</th>\n",
       "      <td>0.857317</td>\n",
       "      <td>43.659061</td>\n",
       "      <td>0.000000</td>\n",
       "      <td>0.584998</td>\n",
       "      <td>0.000000</td>\n",
       "      <td>0.538462</td>\n",
       "      <td>0.000000</td>\n",
       "      <td>0.657009</td>\n",
       "      <td>44.564491</td>\n",
       "      <td>0.000000</td>\n",
       "      <td>...</td>\n",
       "      <td>0.000000</td>\n",
       "      <td>1.531114</td>\n",
       "      <td>0.000000</td>\n",
       "      <td>0.947075</td>\n",
       "      <td>4.071429</td>\n",
       "      <td>1.485361</td>\n",
       "      <td>1.553346</td>\n",
       "      <td>0.000000</td>\n",
       "      <td>295.078430</td>\n",
       "      <td>0.000000</td>\n",
       "    </tr>\n",
       "    <tr>\n",
       "      <th>ATCATCCTCATCGGTACCCTCTGTGCCCATCTGGGACCCAGATGCCTCTGCAGTACGGCTAGATCCAACTACGCCCGCCCCGGGCCACAGAAACAGCGCGCTTGTTGCCAGGCACCGCTCTTGCAGAAGCTCAGAGCCCCTTGCGTCGCCTCACACTCACACAGGCTCCTCCCCGCCCGCGCCCTGCGGGTTTGGGCAACACGCCCACAGGAAGAGGCGGGGCGGCGCGGCCCGCTGCGCTGATTGGCCA</th>\n",
       "      <td>32.578049</td>\n",
       "      <td>8.316011</td>\n",
       "      <td>36.250458</td>\n",
       "      <td>31.589874</td>\n",
       "      <td>32.386211</td>\n",
       "      <td>15.615385</td>\n",
       "      <td>43.052227</td>\n",
       "      <td>29.565422</td>\n",
       "      <td>13.504391</td>\n",
       "      <td>50.558216</td>\n",
       "      <td>...</td>\n",
       "      <td>11.197972</td>\n",
       "      <td>26.028936</td>\n",
       "      <td>54.486595</td>\n",
       "      <td>33.147614</td>\n",
       "      <td>8.142858</td>\n",
       "      <td>35.648659</td>\n",
       "      <td>20.193497</td>\n",
       "      <td>34.122833</td>\n",
       "      <td>4.539668</td>\n",
       "      <td>51.694191</td>\n",
       "    </tr>\n",
       "    <tr>\n",
       "      <th>ACCCCTCCATTTAATTTACACCCCTAATTCACACTTCCTGATTTATTTAAAGCAAAATGAAATTCTAGAGAAGCTTTAGGGGGGAAAAGAGAGAGAAAGAAAAAAAACAATTGGGAGTGAAAAGGCATAAAGAGAAGATGGAGCCCTTAAAGAAGGGAGTATCCCAAAGGAGGTGGGGACAAGGGGAGGAGAAGGGGAGGAGGAGAGGAGGAGGGAAACGAGCCTGTCTCTTTAAGGGGGTTGGCTGTCA</th>\n",
       "      <td>0.000000</td>\n",
       "      <td>0.000000</td>\n",
       "      <td>0.000000</td>\n",
       "      <td>0.000000</td>\n",
       "      <td>0.000000</td>\n",
       "      <td>0.000000</td>\n",
       "      <td>0.000000</td>\n",
       "      <td>0.000000</td>\n",
       "      <td>0.000000</td>\n",
       "      <td>0.000000</td>\n",
       "      <td>...</td>\n",
       "      <td>0.000000</td>\n",
       "      <td>0.000000</td>\n",
       "      <td>0.000000</td>\n",
       "      <td>0.000000</td>\n",
       "      <td>0.000000</td>\n",
       "      <td>0.000000</td>\n",
       "      <td>0.000000</td>\n",
       "      <td>0.000000</td>\n",
       "      <td>0.000000</td>\n",
       "      <td>0.000000</td>\n",
       "    </tr>\n",
       "    <tr>\n",
       "      <th>AGAGGGCACTGTGGAGACCCCCTATTTATGAGTCAGGCTTGGCCTCCACCCAAAGCCCAAGGACTGCCCACTGAAGGCTCGTGATGTTGGTGTGAGGGAGGGTGGCTGTCCCAGCTGCAGCCTCATCTGCTAATTATGTAAGAGGTTCCAGCTGAGCCCCACACCTCCTAGAAGAAGAAACCTCTGCCTGCCCCCATCCCCAGCTCCAGAGGCAGAACTGGCTCAGACCTTGCCCACTCCTGCCGGCAAA</th>\n",
       "      <td>0.000000</td>\n",
       "      <td>0.000000</td>\n",
       "      <td>0.000000</td>\n",
       "      <td>0.000000</td>\n",
       "      <td>0.000000</td>\n",
       "      <td>0.000000</td>\n",
       "      <td>0.000000</td>\n",
       "      <td>0.000000</td>\n",
       "      <td>0.000000</td>\n",
       "      <td>0.000000</td>\n",
       "      <td>...</td>\n",
       "      <td>0.000000</td>\n",
       "      <td>0.000000</td>\n",
       "      <td>0.000000</td>\n",
       "      <td>0.000000</td>\n",
       "      <td>0.000000</td>\n",
       "      <td>0.000000</td>\n",
       "      <td>0.000000</td>\n",
       "      <td>0.000000</td>\n",
       "      <td>0.000000</td>\n",
       "      <td>0.000000</td>\n",
       "    </tr>\n",
       "    <tr>\n",
       "      <th>...</th>\n",
       "      <td>...</td>\n",
       "      <td>...</td>\n",
       "      <td>...</td>\n",
       "      <td>...</td>\n",
       "      <td>...</td>\n",
       "      <td>...</td>\n",
       "      <td>...</td>\n",
       "      <td>...</td>\n",
       "      <td>...</td>\n",
       "      <td>...</td>\n",
       "      <td>...</td>\n",
       "      <td>...</td>\n",
       "      <td>...</td>\n",
       "      <td>...</td>\n",
       "      <td>...</td>\n",
       "      <td>...</td>\n",
       "      <td>...</td>\n",
       "      <td>...</td>\n",
       "      <td>...</td>\n",
       "      <td>...</td>\n",
       "      <td>...</td>\n",
       "    </tr>\n",
       "    <tr>\n",
       "      <th>TCCCGGGCCCGCGCCGCGCGCCCCCGCCTGCGCCGCCGCGCCCGCGCCACGCCGCGCGCCCCCGCGCCAGCTCTCTCTCGCGCTCTCTCTCTCCAGCTCGCTCTGTCTCTCTGTCTCTCTCCCCTTTCTTTCTCTGTCTCTCTCCTCTCTCTGTCTGTCTCTCTCTCTCTGTGTCTCTCCCCCCTCTCTTTCTCTGTCTCTCTCTCTCCTCTCTCTGTGTCTCTCTGTCTGTCTGTCTCTCTCTCTGTGT</th>\n",
       "      <td>0.857317</td>\n",
       "      <td>0.000000</td>\n",
       "      <td>0.000000</td>\n",
       "      <td>0.000000</td>\n",
       "      <td>0.000000</td>\n",
       "      <td>0.000000</td>\n",
       "      <td>1.304613</td>\n",
       "      <td>0.000000</td>\n",
       "      <td>0.000000</td>\n",
       "      <td>0.000000</td>\n",
       "      <td>...</td>\n",
       "      <td>0.000000</td>\n",
       "      <td>0.000000</td>\n",
       "      <td>7.169289</td>\n",
       "      <td>0.000000</td>\n",
       "      <td>0.000000</td>\n",
       "      <td>0.742680</td>\n",
       "      <td>0.000000</td>\n",
       "      <td>0.000000</td>\n",
       "      <td>0.000000</td>\n",
       "      <td>0.000000</td>\n",
       "    </tr>\n",
       "    <tr>\n",
       "      <th>TCCAGGGCTTTGACTTGCCGCACTCGGTGACCGGCCTGCAGTCCTCGGCGGAGCCGCGCGGGGGCGCTGCGGGGAGGCCTCGGCTTTCCTGCCGTGGCGGGGCACGGCCAGGCGGGGGCGCTGCGGGCGGCGGGCGAGGGCTAGGCCGGCCTCTCCTGCGGGGCCGGCTGGGGCGGGGCGCGGCGCCGCACCGCGCTTCCGCAAGTGTGGAGCTGCGGGATGGCTACGCTGCTACTGCAGCTGCTGGGGC</th>\n",
       "      <td>0.000000</td>\n",
       "      <td>0.000000</td>\n",
       "      <td>0.000000</td>\n",
       "      <td>0.000000</td>\n",
       "      <td>0.852269</td>\n",
       "      <td>0.000000</td>\n",
       "      <td>0.000000</td>\n",
       "      <td>0.000000</td>\n",
       "      <td>1.350439</td>\n",
       "      <td>0.000000</td>\n",
       "      <td>...</td>\n",
       "      <td>0.508999</td>\n",
       "      <td>0.000000</td>\n",
       "      <td>0.000000</td>\n",
       "      <td>0.000000</td>\n",
       "      <td>2.714286</td>\n",
       "      <td>0.000000</td>\n",
       "      <td>0.000000</td>\n",
       "      <td>0.000000</td>\n",
       "      <td>0.000000</td>\n",
       "      <td>0.000000</td>\n",
       "    </tr>\n",
       "    <tr>\n",
       "      <th>TCCCGCTCTAAAAGCGCAAGCCCACGTGGGGGCGGGGCGGCTCACCCGGAAGCGGCTCCCGTACCGCCCGCCCCTCCGGGAATGCAGCTTACGCTCCCTTCGGGGCAGTCTCCGGATCACTGGTCAGCTCGCGCGGCCAGATCCACGCTGAGCGGGGCTGGAATCTTGGCCAATCCAGAGTTGCCCGAGAGCCCGCCCGTCTCCCCGCCCCCCAGCTCGGGTCTCACTTGAGGTGGGAAGGCCCGAGGGG</th>\n",
       "      <td>0.857317</td>\n",
       "      <td>0.000000</td>\n",
       "      <td>1.510436</td>\n",
       "      <td>0.584998</td>\n",
       "      <td>0.000000</td>\n",
       "      <td>0.269231</td>\n",
       "      <td>0.000000</td>\n",
       "      <td>0.000000</td>\n",
       "      <td>0.000000</td>\n",
       "      <td>0.000000</td>\n",
       "      <td>...</td>\n",
       "      <td>0.000000</td>\n",
       "      <td>0.000000</td>\n",
       "      <td>1.433858</td>\n",
       "      <td>0.000000</td>\n",
       "      <td>0.000000</td>\n",
       "      <td>0.000000</td>\n",
       "      <td>0.000000</td>\n",
       "      <td>0.000000</td>\n",
       "      <td>0.000000</td>\n",
       "      <td>0.000000</td>\n",
       "    </tr>\n",
       "    <tr>\n",
       "      <th>GGAGAGGCCCTCTGCGCCCTAGCGCGAAGGCCGCGCGCCTGGCTCGCACCCAGGACGTCCACGCTCCCTAGGGATCGGCCCGCGGCAGCGACCTGAGGAGCAGCGCAGGGCAGTGACGTCACCGCCGCCCCTCCCCCGCCCAAGCCGCAGTTCCGGCCCTCCCACATCCGGGTCTCTCCAGCCCATGGGCCGCGCCGCAGCTGCAGGGCCGGGGGTGGGGGAAACGGCGGCGCGGGGCGGGGCGGGGCCG</th>\n",
       "      <td>0.000000</td>\n",
       "      <td>0.000000</td>\n",
       "      <td>0.000000</td>\n",
       "      <td>0.000000</td>\n",
       "      <td>0.000000</td>\n",
       "      <td>0.000000</td>\n",
       "      <td>0.000000</td>\n",
       "      <td>0.000000</td>\n",
       "      <td>0.000000</td>\n",
       "      <td>0.000000</td>\n",
       "      <td>...</td>\n",
       "      <td>0.508999</td>\n",
       "      <td>0.000000</td>\n",
       "      <td>0.000000</td>\n",
       "      <td>0.000000</td>\n",
       "      <td>0.000000</td>\n",
       "      <td>0.000000</td>\n",
       "      <td>0.000000</td>\n",
       "      <td>0.000000</td>\n",
       "      <td>0.000000</td>\n",
       "      <td>0.000000</td>\n",
       "    </tr>\n",
       "    <tr>\n",
       "      <th>CAATGGGTGACGTCGCGCGGCTCCTACCACCGCGCGCGACCGTGGGGGGAGACGTTCGCTAGAAGACTTAGGGGCGCGGGACGGCGCAAACCGTGCGAGACCACTGCCCACACTGTCTGCCCAGAGATAGTTTATATGGTTGCGAGCGATTCCGGGGACGGGGCACCGACTTCGCCGAGCCCAGGTCCTAGGACCTCTCGGTCCTAGGAGGCACCCTCGGCGACTGCCAATTGGCTGCTCCCACTCGCGG</th>\n",
       "      <td>0.000000</td>\n",
       "      <td>0.000000</td>\n",
       "      <td>0.000000</td>\n",
       "      <td>0.000000</td>\n",
       "      <td>0.000000</td>\n",
       "      <td>0.538462</td>\n",
       "      <td>0.000000</td>\n",
       "      <td>0.657009</td>\n",
       "      <td>0.000000</td>\n",
       "      <td>0.000000</td>\n",
       "      <td>...</td>\n",
       "      <td>0.000000</td>\n",
       "      <td>0.000000</td>\n",
       "      <td>1.433858</td>\n",
       "      <td>0.000000</td>\n",
       "      <td>0.000000</td>\n",
       "      <td>0.000000</td>\n",
       "      <td>0.000000</td>\n",
       "      <td>0.000000</td>\n",
       "      <td>0.000000</td>\n",
       "      <td>0.000000</td>\n",
       "    </tr>\n",
       "  </tbody>\n",
       "</table>\n",
       "<p>2930 rows × 2930 columns</p>\n",
       "</div>"
      ],
      "text/plain": [
       "                                                          0           1     \\\n",
       "seq                                                                          \n",
       "ACGCAGAGCCCGGAGCGCCGGTATTTATTGCAAAGGGACACGTCACT...  192.896332  146.569702   \n",
       "GCGGCCACCCTCCCTTTTCCGTCTGCCCCCTAGCGGGCCCCGCCTCC...    0.857317   43.659061   \n",
       "ATCATCCTCATCGGTACCCTCTGTGCCCATCTGGGACCCAGATGCCT...   32.578049    8.316011   \n",
       "ACCCCTCCATTTAATTTACACCCCTAATTCACACTTCCTGATTTATT...    0.000000    0.000000   \n",
       "AGAGGGCACTGTGGAGACCCCCTATTTATGAGTCAGGCTTGGCCTCC...    0.000000    0.000000   \n",
       "...                                                        ...         ...   \n",
       "TCCCGGGCCCGCGCCGCGCGCCCCCGCCTGCGCCGCCGCGCCCGCGC...    0.857317    0.000000   \n",
       "TCCAGGGCTTTGACTTGCCGCACTCGGTGACCGGCCTGCAGTCCTCG...    0.000000    0.000000   \n",
       "TCCCGCTCTAAAAGCGCAAGCCCACGTGGGGGCGGGGCGGCTCACCC...    0.857317    0.000000   \n",
       "GGAGAGGCCCTCTGCGCCCTAGCGCGAAGGCCGCGCGCCTGGCTCGC...    0.000000    0.000000   \n",
       "CAATGGGTGACGTCGCGCGGCTCCTACCACCGCGCGCGACCGTGGGG...    0.000000    0.000000   \n",
       "\n",
       "                                                          2          3     \\\n",
       "seq                                                                         \n",
       "ACGCAGAGCCCGGAGCGCCGGTATTTATTGCAAAGGGACACGTCACT...  176.720993  74.879700   \n",
       "GCGGCCACCCTCCCTTTTCCGTCTGCCCCCTAGCGGGCCCCGCCTCC...    0.000000   0.584998   \n",
       "ATCATCCTCATCGGTACCCTCTGTGCCCATCTGGGACCCAGATGCCT...   36.250458  31.589874   \n",
       "ACCCCTCCATTTAATTTACACCCCTAATTCACACTTCCTGATTTATT...    0.000000   0.000000   \n",
       "AGAGGGCACTGTGGAGACCCCCTATTTATGAGTCAGGCTTGGCCTCC...    0.000000   0.000000   \n",
       "...                                                        ...        ...   \n",
       "TCCCGGGCCCGCGCCGCGCGCCCCCGCCTGCGCCGCCGCGCCCGCGC...    0.000000   0.000000   \n",
       "TCCAGGGCTTTGACTTGCCGCACTCGGTGACCGGCCTGCAGTCCTCG...    0.000000   0.000000   \n",
       "TCCCGCTCTAAAAGCGCAAGCCCACGTGGGGGCGGGGCGGCTCACCC...    1.510436   0.584998   \n",
       "GGAGAGGCCCTCTGCGCCCTAGCGCGAAGGCCGCGCGCCTGGCTCGC...    0.000000   0.000000   \n",
       "CAATGGGTGACGTCGCGCGGCTCCTACCACCGCGCGCGACCGTGGGG...    0.000000   0.000000   \n",
       "\n",
       "                                                          4          5     \\\n",
       "seq                                                                         \n",
       "ACGCAGAGCCCGGAGCGCCGGTATTTATTGCAAAGGGACACGTCACT...  212.214920  34.730770   \n",
       "GCGGCCACCCTCCCTTTTCCGTCTGCCCCCTAGCGGGCCCCGCCTCC...    0.000000   0.538462   \n",
       "ATCATCCTCATCGGTACCCTCTGTGCCCATCTGGGACCCAGATGCCT...   32.386211  15.615385   \n",
       "ACCCCTCCATTTAATTTACACCCCTAATTCACACTTCCTGATTTATT...    0.000000   0.000000   \n",
       "AGAGGGCACTGTGGAGACCCCCTATTTATGAGTCAGGCTTGGCCTCC...    0.000000   0.000000   \n",
       "...                                                        ...        ...   \n",
       "TCCCGGGCCCGCGCCGCGCGCCCCCGCCTGCGCCGCCGCGCCCGCGC...    0.000000   0.000000   \n",
       "TCCAGGGCTTTGACTTGCCGCACTCGGTGACCGGCCTGCAGTCCTCG...    0.852269   0.000000   \n",
       "TCCCGCTCTAAAAGCGCAAGCCCACGTGGGGGCGGGGCGGCTCACCC...    0.000000   0.269231   \n",
       "GGAGAGGCCCTCTGCGCCCTAGCGCGAAGGCCGCGCGCCTGGCTCGC...    0.000000   0.000000   \n",
       "CAATGGGTGACGTCGCGCGGCTCCTACCACCGCGCGCGACCGTGGGG...    0.000000   0.538462   \n",
       "\n",
       "                                                          6          7     \\\n",
       "seq                                                                         \n",
       "ACGCAGAGCCCGGAGCGCCGGTATTTATTGCAAAGGGACACGTCACT...  103.064430  63.729908   \n",
       "GCGGCCACCCTCCCTTTTCCGTCTGCCCCCTAGCGGGCCCCGCCTCC...    0.000000   0.657009   \n",
       "ATCATCCTCATCGGTACCCTCTGTGCCCATCTGGGACCCAGATGCCT...   43.052227  29.565422   \n",
       "ACCCCTCCATTTAATTTACACCCCTAATTCACACTTCCTGATTTATT...    0.000000   0.000000   \n",
       "AGAGGGCACTGTGGAGACCCCCTATTTATGAGTCAGGCTTGGCCTCC...    0.000000   0.000000   \n",
       "...                                                        ...        ...   \n",
       "TCCCGGGCCCGCGCCGCGCGCCCCCGCCTGCGCCGCCGCGCCCGCGC...    1.304613   0.000000   \n",
       "TCCAGGGCTTTGACTTGCCGCACTCGGTGACCGGCCTGCAGTCCTCG...    0.000000   0.000000   \n",
       "TCCCGCTCTAAAAGCGCAAGCCCACGTGGGGGCGGGGCGGCTCACCC...    0.000000   0.000000   \n",
       "GGAGAGGCCCTCTGCGCCCTAGCGCGAAGGCCGCGCGCCTGGCTCGC...    0.000000   0.000000   \n",
       "CAATGGGTGACGTCGCGCGGCTCCTACCACCGCGCGCGACCGTGGGG...    0.000000   0.657009   \n",
       "\n",
       "                                                         8           9     \\\n",
       "seq                                                                         \n",
       "ACGCAGAGCCCGGAGCGCCGGTATTTATTGCAAAGGGACACGTCACT...  27.008781  207.418335   \n",
       "GCGGCCACCCTCCCTTTTCCGTCTGCCCCCTAGCGGGCCCCGCCTCC...  44.564491    0.000000   \n",
       "ATCATCCTCATCGGTACCCTCTGTGCCCATCTGGGACCCAGATGCCT...  13.504391   50.558216   \n",
       "ACCCCTCCATTTAATTTACACCCCTAATTCACACTTCCTGATTTATT...   0.000000    0.000000   \n",
       "AGAGGGCACTGTGGAGACCCCCTATTTATGAGTCAGGCTTGGCCTCC...   0.000000    0.000000   \n",
       "...                                                       ...         ...   \n",
       "TCCCGGGCCCGCGCCGCGCGCCCCCGCCTGCGCCGCCGCGCCCGCGC...   0.000000    0.000000   \n",
       "TCCAGGGCTTTGACTTGCCGCACTCGGTGACCGGCCTGCAGTCCTCG...   1.350439    0.000000   \n",
       "TCCCGCTCTAAAAGCGCAAGCCCACGTGGGGGCGGGGCGGCTCACCC...   0.000000    0.000000   \n",
       "GGAGAGGCCCTCTGCGCCCTAGCGCGAAGGCCGCGCGCCTGGCTCGC...   0.000000    0.000000   \n",
       "CAATGGGTGACGTCGCGCGGCTCCTACCACCGCGCGCGACCGTGGGG...   0.000000    0.000000   \n",
       "\n",
       "                                                    ...       2920  \\\n",
       "seq                                                 ...              \n",
       "ACGCAGAGCCCGGAGCGCCGGTATTTATTGCAAAGGGACACGTCACT...  ...  37.665909   \n",
       "GCGGCCACCCTCCCTTTTCCGTCTGCCCCCTAGCGGGCCCCGCCTCC...  ...   0.000000   \n",
       "ATCATCCTCATCGGTACCCTCTGTGCCCATCTGGGACCCAGATGCCT...  ...  11.197972   \n",
       "ACCCCTCCATTTAATTTACACCCCTAATTCACACTTCCTGATTTATT...  ...   0.000000   \n",
       "AGAGGGCACTGTGGAGACCCCCTATTTATGAGTCAGGCTTGGCCTCC...  ...   0.000000   \n",
       "...                                                 ...        ...   \n",
       "TCCCGGGCCCGCGCCGCGCGCCCCCGCCTGCGCCGCCGCGCCCGCGC...  ...   0.000000   \n",
       "TCCAGGGCTTTGACTTGCCGCACTCGGTGACCGGCCTGCAGTCCTCG...  ...   0.508999   \n",
       "TCCCGCTCTAAAAGCGCAAGCCCACGTGGGGGCGGGGCGGCTCACCC...  ...   0.000000   \n",
       "GGAGAGGCCCTCTGCGCCCTAGCGCGAAGGCCGCGCGCCTGGCTCGC...  ...   0.508999   \n",
       "CAATGGGTGACGTCGCGCGGCTCCTACCACCGCGCGCGACCGTGGGG...  ...   0.000000   \n",
       "\n",
       "                                                          2921        2922  \\\n",
       "seq                                                                          \n",
       "ACGCAGAGCCCGGAGCGCCGGTATTTATTGCAAAGGGACACGTCACT...  330.720581  143.385773   \n",
       "GCGGCCACCCTCCCTTTTCCGTCTGCCCCCTAGCGGGCCCCGCCTCC...    1.531114    0.000000   \n",
       "ATCATCCTCATCGGTACCCTCTGTGCCCATCTGGGACCCAGATGCCT...   26.028936   54.486595   \n",
       "ACCCCTCCATTTAATTTACACCCCTAATTCACACTTCCTGATTTATT...    0.000000    0.000000   \n",
       "AGAGGGCACTGTGGAGACCCCCTATTTATGAGTCAGGCTTGGCCTCC...    0.000000    0.000000   \n",
       "...                                                        ...         ...   \n",
       "TCCCGGGCCCGCGCCGCGCGCCCCCGCCTGCGCCGCCGCGCCCGCGC...    0.000000    7.169289   \n",
       "TCCAGGGCTTTGACTTGCCGCACTCGGTGACCGGCCTGCAGTCCTCG...    0.000000    0.000000   \n",
       "TCCCGCTCTAAAAGCGCAAGCCCACGTGGGGGCGGGGCGGCTCACCC...    0.000000    1.433858   \n",
       "GGAGAGGCCCTCTGCGCCCTAGCGCGAAGGCCGCGCGCCTGGCTCGC...    0.000000    0.000000   \n",
       "CAATGGGTGACGTCGCGCGGCTCCTACCACCGCGCGCGACCGTGGGG...    0.000000    1.433858   \n",
       "\n",
       "                                                          2923       2924  \\\n",
       "seq                                                                         \n",
       "ACGCAGAGCCCGGAGCGCCGGTATTTATTGCAAAGGGACACGTCACT...  152.479034  17.642859   \n",
       "GCGGCCACCCTCCCTTTTCCGTCTGCCCCCTAGCGGGCCCCGCCTCC...    0.947075   4.071429   \n",
       "ATCATCCTCATCGGTACCCTCTGTGCCCATCTGGGACCCAGATGCCT...   33.147614   8.142858   \n",
       "ACCCCTCCATTTAATTTACACCCCTAATTCACACTTCCTGATTTATT...    0.000000   0.000000   \n",
       "AGAGGGCACTGTGGAGACCCCCTATTTATGAGTCAGGCTTGGCCTCC...    0.000000   0.000000   \n",
       "...                                                        ...        ...   \n",
       "TCCCGGGCCCGCGCCGCGCGCCCCCGCCTGCGCCGCCGCGCCCGCGC...    0.000000   0.000000   \n",
       "TCCAGGGCTTTGACTTGCCGCACTCGGTGACCGGCCTGCAGTCCTCG...    0.000000   2.714286   \n",
       "TCCCGCTCTAAAAGCGCAAGCCCACGTGGGGGCGGGGCGGCTCACCC...    0.000000   0.000000   \n",
       "GGAGAGGCCCTCTGCGCCCTAGCGCGAAGGCCGCGCGCCTGGCTCGC...    0.000000   0.000000   \n",
       "CAATGGGTGACGTCGCGCGGCTCCTACCACCGCGCGCGACCGTGGGG...    0.000000   0.000000   \n",
       "\n",
       "                                                          2925       2926  \\\n",
       "seq                                                                         \n",
       "ACGCAGAGCCCGGAGCGCCGGTATTTATTGCAAAGGGACACGTCACT...  101.004532  94.754105   \n",
       "GCGGCCACCCTCCCTTTTCCGTCTGCCCCCTAGCGGGCCCCGCCTCC...    1.485361   1.553346   \n",
       "ATCATCCTCATCGGTACCCTCTGTGCCCATCTGGGACCCAGATGCCT...   35.648659  20.193497   \n",
       "ACCCCTCCATTTAATTTACACCCCTAATTCACACTTCCTGATTTATT...    0.000000   0.000000   \n",
       "AGAGGGCACTGTGGAGACCCCCTATTTATGAGTCAGGCTTGGCCTCC...    0.000000   0.000000   \n",
       "...                                                        ...        ...   \n",
       "TCCCGGGCCCGCGCCGCGCGCCCCCGCCTGCGCCGCCGCGCCCGCGC...    0.742680   0.000000   \n",
       "TCCAGGGCTTTGACTTGCCGCACTCGGTGACCGGCCTGCAGTCCTCG...    0.000000   0.000000   \n",
       "TCCCGCTCTAAAAGCGCAAGCCCACGTGGGGGCGGGGCGGCTCACCC...    0.000000   0.000000   \n",
       "GGAGAGGCCCTCTGCGCCCTAGCGCGAAGGCCGCGCGCCTGGCTCGC...    0.000000   0.000000   \n",
       "CAATGGGTGACGTCGCGCGGCTCCTACCACCGCGCGCGACCGTGGGG...    0.000000   0.000000   \n",
       "\n",
       "                                                          2927        2928  \\\n",
       "seq                                                                          \n",
       "ACGCAGAGCCCGGAGCGCCGGTATTTATTGCAAAGGGACACGTCACT...  160.864792   93.063194   \n",
       "GCGGCCACCCTCCCTTTTCCGTCTGCCCCCTAGCGGGCCCCGCCTCC...    0.000000  295.078430   \n",
       "ATCATCCTCATCGGTACCCTCTGTGCCCATCTGGGACCCAGATGCCT...   34.122833    4.539668   \n",
       "ACCCCTCCATTTAATTTACACCCCTAATTCACACTTCCTGATTTATT...    0.000000    0.000000   \n",
       "AGAGGGCACTGTGGAGACCCCCTATTTATGAGTCAGGCTTGGCCTCC...    0.000000    0.000000   \n",
       "...                                                        ...         ...   \n",
       "TCCCGGGCCCGCGCCGCGCGCCCCCGCCTGCGCCGCCGCGCCCGCGC...    0.000000    0.000000   \n",
       "TCCAGGGCTTTGACTTGCCGCACTCGGTGACCGGCCTGCAGTCCTCG...    0.000000    0.000000   \n",
       "TCCCGCTCTAAAAGCGCAAGCCCACGTGGGGGCGGGGCGGCTCACCC...    0.000000    0.000000   \n",
       "GGAGAGGCCCTCTGCGCCCTAGCGCGAAGGCCGCGCGCCTGGCTCGC...    0.000000    0.000000   \n",
       "CAATGGGTGACGTCGCGCGGCTCCTACCACCGCGCGCGACCGTGGGG...    0.000000    0.000000   \n",
       "\n",
       "                                                         2929  \n",
       "seq                                                            \n",
       "ACGCAGAGCCCGGAGCGCCGGTATTTATTGCAAAGGGACACGTCACT...  78.259262  \n",
       "GCGGCCACCCTCCCTTTTCCGTCTGCCCCCTAGCGGGCCCCGCCTCC...   0.000000  \n",
       "ATCATCCTCATCGGTACCCTCTGTGCCCATCTGGGACCCAGATGCCT...  51.694191  \n",
       "ACCCCTCCATTTAATTTACACCCCTAATTCACACTTCCTGATTTATT...   0.000000  \n",
       "AGAGGGCACTGTGGAGACCCCCTATTTATGAGTCAGGCTTGGCCTCC...   0.000000  \n",
       "...                                                       ...  \n",
       "TCCCGGGCCCGCGCCGCGCGCCCCCGCCTGCGCCGCCGCGCCCGCGC...   0.000000  \n",
       "TCCAGGGCTTTGACTTGCCGCACTCGGTGACCGGCCTGCAGTCCTCG...   0.000000  \n",
       "TCCCGCTCTAAAAGCGCAAGCCCACGTGGGGGCGGGGCGGCTCACCC...   0.000000  \n",
       "GGAGAGGCCCTCTGCGCCCTAGCGCGAAGGCCGCGCGCCTGGCTCGC...   0.000000  \n",
       "CAATGGGTGACGTCGCGCGGCTCCTACCACCGCGCGCGACCGTGGGG...   0.000000  \n",
       "\n",
       "[2930 rows x 2930 columns]"
      ]
     },
     "execution_count": 315,
     "metadata": {},
     "output_type": "execute_result"
    }
   ],
   "source": [
    "df"
   ]
  },
  {
   "cell_type": "code",
   "execution_count": 316,
   "metadata": {
    "collapsed": false,
    "jupyter": {
     "outputs_hidden": false
    },
    "pycharm": {
     "name": "#%%\n"
    }
   },
   "outputs": [],
   "source": [
    "dataset = mb.datasets.SelexDataset(df, n_rounds=df.shape[1], enr_series=False)\n",
    "n_batch = len(set(dataset.batch))\n",
    "n_kernels = len(pwms)\n",
    "train = tdata.DataLoader(dataset=dataset, batch_size=128, shuffle=True)\n"
   ]
  },
  {
   "cell_type": "code",
   "execution_count": 317,
   "metadata": {
    "collapsed": false,
    "jupyter": {
     "outputs_hidden": false
    },
    "pycharm": {
     "name": "#%%\n"
    }
   },
   "outputs": [],
   "source": [
    "# df_neg = df.copy()\n",
    "# df_neg.index = bg\n",
    "# df_neg.index = df_neg.index.astype(str)\n",
    "\n",
    "# dataset_neg = mb.datasets.SelexDataset(df_neg, n_rounds=df_neg.shape[1], enr_series=False)\n",
    "# train_neg = tdata.DataLoader(dataset=dataset_neg, batch_size=512, shuffle=True)\n"
   ]
  },
  {
   "attachments": {},
   "cell_type": "markdown",
   "metadata": {
    "collapsed": false,
    "jupyter": {
     "outputs_hidden": false
    },
    "pycharm": {
     "name": "#%% md\n"
    }
   },
   "source": [
    "### The parameter log_dynamic defines whether a kNN-graph will be used"
   ]
  },
  {
   "cell_type": "code",
   "execution_count": 318,
   "metadata": {},
   "outputs": [
    {
     "data": {
      "text/plain": [
       "286"
      ]
     },
     "execution_count": 318,
     "metadata": {},
     "output_type": "execute_result"
    }
   ],
   "source": [
    "len(pwms)"
   ]
  },
  {
   "cell_type": "code",
   "execution_count": 319,
   "metadata": {},
   "outputs": [],
   "source": [
    "# for unit tests\n",
    "# torch.save(train, '../../../tests/_data/pancreas_multiome.pth')\n",
    "# ad.write('../../../tests/_data/pancreas_multiome.h5ad', compression='lzf')"
   ]
  },
  {
   "cell_type": "code",
   "execution_count": 320,
   "metadata": {},
   "outputs": [
    {
     "data": {
      "text/plain": [
       "((2930, 13197), (2930, 13187))"
      ]
     },
     "execution_count": 320,
     "metadata": {},
     "output_type": "execute_result"
    }
   ],
   "source": [
    "rna_sample.shape, ad.shape"
   ]
  },
  {
   "cell_type": "code",
   "execution_count": 321,
   "metadata": {},
   "outputs": [
    {
     "name": "stdout",
     "output_type": "stream",
     "text": [
      "cuda:0\n"
     ]
    }
   ],
   "source": [
    "device = torch.device(\"cuda:0\" if torch.cuda.is_available() else \"cpu\")\n",
    "print(device)"
   ]
  },
  {
   "cell_type": "code",
   "execution_count": 322,
   "metadata": {},
   "outputs": [
    {
     "name": "stdout",
     "output_type": "stream",
     "text": [
      "(2930, 2930)\n",
      "setting up log dynamic\n",
      "no err\n"
     ]
    }
   ],
   "source": [
    "criterion = mb.tl.PoissonLoss()\n",
    "w = [r.shape[1] for r in pwms]\n",
    "optimize_log_dynamic = True\n",
    "model = mb.models.Mubind.make_model(train, n_kernels, criterion, kernels=[0, 2,] + w, # [0, 2] + w,\n",
    "                                        # use_dinuc=True, dinuc_mode='full',\n",
    "                                        optimize_sym_weight=False,\n",
    "                                        optimize_exp_barrier=True,\n",
    "                                        optimize_prob_act=True,\n",
    "                                        # use_conv1d=True,\n",
    "                                        optimize_log_dynamic=optimize_log_dynamic,\n",
    "                                        use_dinuc=False,\n",
    "                                        device=device,\n",
    "                                        p_dropout=0.8,\n",
    "                                        prepare_knn=optimize_log_dynamic,\n",
    "                                        velocity_graph=vgraph,\n",
    "                                        knn_free_weights=False,\n",
    "                                        adata=None if not optimize_log_dynamic else ad,\n",
    "                                        dinuc_mode=None)\n",
    "print('no err')"
   ]
  },
  {
   "cell_type": "code",
   "execution_count": 323,
   "metadata": {},
   "outputs": [
    {
     "data": {
      "text/plain": [
       "torch.Size([2930, 2930])"
      ]
     },
     "execution_count": 323,
     "metadata": {},
     "output_type": "execute_result"
    }
   ],
   "source": [
    "model.graph_module.conn_sparse.shape"
   ]
  },
  {
   "cell_type": "code",
   "execution_count": 324,
   "metadata": {},
   "outputs": [
    {
     "data": {
      "text/plain": [
       "(2930, 2930)"
      ]
     },
     "execution_count": 324,
     "metadata": {},
     "output_type": "execute_result"
    }
   ],
   "source": [
    "train.dataset.rounds.shape"
   ]
  },
  {
   "cell_type": "code",
   "execution_count": 325,
   "metadata": {},
   "outputs": [
    {
     "name": "stdout",
     "output_type": "stream",
     "text": [
      "torch.Size([128, 4, 250])\n",
      "torch.Size([128, 4, 250])\n",
      "torch.Size([128, 4, 250])\n",
      "torch.Size([128, 4, 250])\n",
      "torch.Size([128, 4, 250])\n",
      "torch.Size([128, 4, 250])\n",
      "torch.Size([128, 4, 250])\n",
      "torch.Size([128, 4, 250])\n",
      "torch.Size([128, 4, 250])\n",
      "torch.Size([128, 4, 250])\n",
      "torch.Size([128, 4, 250])\n",
      "torch.Size([128, 4, 250])\n",
      "torch.Size([128, 4, 250])\n",
      "torch.Size([128, 4, 250])\n",
      "torch.Size([128, 4, 250])\n",
      "torch.Size([128, 4, 250])\n",
      "torch.Size([128, 4, 250])\n",
      "torch.Size([128, 4, 250])\n",
      "torch.Size([128, 4, 250])\n",
      "torch.Size([128, 4, 250])\n",
      "torch.Size([128, 4, 250])\n",
      "torch.Size([128, 4, 250])\n",
      "torch.Size([114, 4, 250])\n"
     ]
    }
   ],
   "source": [
    "for i, batch in enumerate(train):\n",
    "    # print(i, 'batches out of', n_batches)\n",
    "    # Get a batch and potentially send it to GPU memory.\n",
    "    mononuc = batch[\"mononuc\"] # .to(self.device)\n",
    "    print(mononuc.shape)"
   ]
  },
  {
   "cell_type": "code",
   "execution_count": 336,
   "metadata": {},
   "outputs": [
    {
     "data": {
      "text/plain": [
       "device(type='cuda', index=0)"
      ]
     },
     "execution_count": 336,
     "metadata": {},
     "output_type": "execute_result"
    }
   ],
   "source": [
    "model.device"
   ]
  },
  {
   "cell_type": "code",
   "execution_count": 327,
   "metadata": {
    "collapsed": false,
    "jupyter": {
     "outputs_hidden": false
    },
    "pycharm": {
     "name": "#%%\n"
    }
   },
   "outputs": [
    {
     "name": "stdout",
     "output_type": "stream",
     "text": [
      "setting up log dynamic\n",
      "break\n"
     ]
    },
    {
     "data": {
      "image/png": "[encoded data removed]",
      "text/plain": [
       "<Figure size 1350x270 with 9 Axes>"
      ]
     },
     "metadata": {},
     "output_type": "display_data"
    },
    {
     "name": "stdout",
     "output_type": "stream",
     "text": [
      "verbose=2\n",
      "current kernel 0\n",
      "\n",
      "### next filter to optimize 0 (intercept)\n",
      "\n",
      "FREEZING KERNELS\n",
      "optimizing feature type mono\n",
      "next kernels 0-69, n=70\n",
      "filters mask None\n",
      "optimizer:  Adam , criterion: PoissonLoss \n",
      "epochs: 10 \n",
      "early_stopping: 250\n",
      "lr= 0.01, weight_decay= 0, dir weight= 0\n"
     ]
    },
    {
     "name": "stderr",
     "output_type": "stream",
     "text": [
      " 20%|████████████████████████████▊                                                                                                                   | 2/10 [00:26<01:47, 13.42s/it]"
     ]
    },
    {
     "name": "stderr",
     "output_type": "stream",
     "text": [
      "100%|███████████████████████████████████████████████████████████████████████████████████████████████████████████████████████████████████████████████| 10/10 [02:12<00:00, 13.27s/it]\n"
     ]
    },
    {
     "name": "stdout",
     "output_type": "stream",
     "text": [
      "Current time: 2024-08-05 17:52:45.089841\n",
      "\tLoss: 400.529 , R2: 0.629\n",
      "\tTraining time (model/function): (132.806s / 132.806s)\n",
      "\t\tper epoch (model/function): (14.756s/ 14.756s)\n",
      "\t\tper 1k samples: 5.036s\n",
      "('etas corr with lib_sizes (before refinement)', SignificanceResult(statistic=0.864804495254649, pvalue=0.0))\n",
      "optimization of dinuc is not valid for the intercept (filter=0). Skip...\n",
      "current kernel 70\n",
      "\n",
      "### next filter to optimize 70 \n",
      "\n",
      "FREEZING KERNELS\n",
      "optimizing feature type mono\n",
      "next kernels 70-139, n=70\n",
      "filters mask None\n",
      "optimizer:  Adam , criterion: PoissonLoss \n",
      "epochs: 20 \n",
      "early_stopping: 250\n",
      "lr= 0.01, weight_decay= 0, dir weight= 0\n"
     ]
    },
    {
     "name": "stderr",
     "output_type": "stream",
     "text": [
      "100%|███████████████████████████████████████████████████████████████████████████████████████████████████████████████████████████████████████████████| 20/20 [04:25<00:00, 13.26s/it]\n"
     ]
    },
    {
     "name": "stdout",
     "output_type": "stream",
     "text": [
      "Current time: 2024-08-05 17:57:15.061806\n",
      "\tLoss: 375.221 , R2: 0.629\n",
      "\tTraining time (model/function): (398.092s / 265.286s)\n",
      "\t\tper epoch (model/function): (20.952s/ 13.962s)\n",
      "\t\tper 1k samples: 4.765s\n",
      "('etas corr with lib_sizes (before refinement)', SignificanceResult(statistic=0.864804495254649, pvalue=0.0))\n",
      "\n",
      "\n",
      "final refinement step (after shift)...unfreezing all layers\n",
      "optimizer:  Adam , criterion: PoissonLoss \n",
      "epochs: 20 \n",
      "early_stopping: 250\n",
      "lr= 0.01, weight_decay= 0, dir weight= 0\n"
     ]
    },
    {
     "name": "stderr",
     "output_type": "stream",
     "text": [
      "100%|███████████████████████████████████████████████████████████████████████████████████████████████████████████████████████████████████████████████| 20/20 [04:26<00:00, 13.32s/it]\n"
     ]
    },
    {
     "name": "stdout",
     "output_type": "stream",
     "text": [
      "Current time: 2024-08-05 18:01:45.782366\n",
      "\tLoss: 144.967 , R2: 0.629\n",
      "\tTraining time (model/function): (664.565s / 266.473s)\n",
      "\t\tper epoch (model/function): (34.977s/ 14.025s)\n",
      "\t\tper 1k samples: 4.787s\n",
      "best loss 144.967\n",
      "last five r2 values, by sequential filter optimization: ['0.629']\n",
      "('etas corr with lib_sizes (before refinement)', SignificanceResult(statistic=0.864804495254649, pvalue=0.0))\n",
      "optimizing feature type dinuc\n",
      "the optimization of dinucleotide features is skipped...\n",
      "current kernel 140\n",
      "\n",
      "### next filter to optimize 140 \n",
      "\n",
      "FREEZING KERNELS\n",
      "optimizing feature type mono\n",
      "next kernels 140-209, n=70\n",
      "filters mask None\n",
      "optimizer:  Adam , criterion: PoissonLoss \n",
      "epochs: 20 \n",
      "early_stopping: 250\n",
      "lr= 0.01, weight_decay= 0, dir weight= 0\n"
     ]
    },
    {
     "name": "stderr",
     "output_type": "stream",
     "text": [
      "100%|███████████████████████████████████████████████████████████████████████████████████████████████████████████████████████████████████████████████| 20/20 [04:23<00:00, 13.19s/it]\n"
     ]
    },
    {
     "name": "stdout",
     "output_type": "stream",
     "text": [
      "Current time: 2024-08-05 18:06:18.149240\n",
      "\tLoss: 372.741 , R2: 0.629\n",
      "\tTraining time (model/function): (928.487s / 263.922s)\n",
      "\t\tper epoch (model/function): (48.868s/ 13.891s)\n",
      "\t\tper 1k samples: 4.741s\n",
      "('etas corr with lib_sizes (before refinement)', SignificanceResult(statistic=0.864804495254649, pvalue=0.0))\n",
      "\n",
      "\n",
      "final refinement step (after shift)...unfreezing all layers\n",
      "optimizer:  Adam , criterion: PoissonLoss \n",
      "epochs: 20 \n",
      "early_stopping: 250\n",
      "lr= 0.01, weight_decay= 0, dir weight= 0\n"
     ]
    },
    {
     "name": "stderr",
     "output_type": "stream",
     "text": [
      "100%|███████████████████████████████████████████████████████████████████████████████████████████████████████████████████████████████████████████████| 20/20 [04:25<00:00, 13.25s/it]\n"
     ]
    },
    {
     "name": "stdout",
     "output_type": "stream",
     "text": [
      "Current time: 2024-08-05 18:10:47.029990\n",
      "\tLoss: 144.737 , R2: 0.629\n",
      "\tTraining time (model/function): (1193.683s / 265.197s)\n",
      "\t\tper epoch (model/function): (62.825s/ 13.958s)\n",
      "\t\tper 1k samples: 4.764s\n",
      "best loss 144.718\n",
      "last five r2 values, by sequential filter optimization: ['0.629', '0.629']\n",
      "('etas corr with lib_sizes (before refinement)', SignificanceResult(statistic=0.864804495254649, pvalue=0.0))\n",
      "optimizing feature type dinuc\n",
      "the optimization of dinucleotide features is skipped...\n",
      "current kernel 210\n",
      "\n",
      "### next filter to optimize 210 \n",
      "\n",
      "FREEZING KERNELS\n",
      "optimizing feature type mono\n",
      "next kernels 210-279, n=70\n",
      "filters mask None\n",
      "optimizer:  Adam , criterion: PoissonLoss \n",
      "epochs: 20 \n",
      "early_stopping: 250\n",
      "lr= 0.01, weight_decay= 0, dir weight= 0\n"
     ]
    },
    {
     "name": "stderr",
     "output_type": "stream",
     "text": [
      "100%|███████████████████████████████████████████████████████████████████████████████████████████████████████████████████████████████████████████████| 20/20 [04:23<00:00, 13.15s/it]\n"
     ]
    },
    {
     "name": "stdout",
     "output_type": "stream",
     "text": [
      "Current time: 2024-08-05 18:15:18.695149\n",
      "\tLoss: 372.720 , R2: 0.629\n",
      "\tTraining time (model/function): (1456.759s / 263.075s)\n",
      "\t\tper epoch (model/function): (76.672s/ 13.846s)\n",
      "\t\tper 1k samples: 4.726s\n",
      "('etas corr with lib_sizes (before refinement)', SignificanceResult(statistic=0.864804495254649, pvalue=0.0))\n",
      "\n",
      "\n",
      "final refinement step (after shift)...unfreezing all layers\n",
      "optimizer:  Adam , criterion: PoissonLoss \n",
      "epochs: 20 \n",
      "early_stopping: 250\n",
      "lr= 0.01, weight_decay= 0, dir weight= 0\n"
     ]
    },
    {
     "name": "stderr",
     "output_type": "stream",
     "text": [
      " 40%|█████████████████████████████████████████████████████████▌                                                                                      | 8/20 [01:46<02:39, 13.29s/it]"
     ]
    }
   ],
   "source": [
    "import torch.optim as topti\n",
    "import warnings\n",
    "\n",
    "model_by_logdynamic = {}\n",
    "n_epochs_intercept = 10\n",
    "n_epochs_kernel = 20\n",
    "log_each=75\n",
    "n_unfreeze_kernels=70\n",
    "\n",
    "for optimize_log_dynamic in [True, False]:\n",
    "    warnings.filterwarnings(\"ignore\")\n",
    "\n",
    "    criterion = mb.tl.PoissonLoss()\n",
    "    w = [r.shape[1] for r in pwms]\n",
    "    model = mb.models.Mubind.make_model(train, n_kernels, criterion, kernels=[0, 2,] + w, # [0, 2] + w,\n",
    "                                           # use_dinuc=True, dinuc_mode='full',\n",
    "                                           optimize_sym_weight=False,\n",
    "                                           optimize_exp_barrier=True,\n",
    "                                           optimize_prob_act=True,\n",
    "                                           optimize_log_dynamic=optimize_log_dynamic,\n",
    "                                           use_dinuc=False,\n",
    "                                           device=device,\n",
    "                                           p_dropout=0.8,\n",
    "                                           prepare_knn=optimize_log_dynamic,\n",
    "                                           knn_free_weights=False,\n",
    "                                           adata=None if not optimize_log_dynamic else ad,\n",
    "                                           dinuc_mode=None) # .cuda()\n",
    "\n",
    "    # initialize the reduce kernels\n",
    "    for i, mono_best in enumerate(pwms):\n",
    "        mono_best = mono_best.to_numpy()\n",
    "        if mono_best.shape[-1] == 0:\n",
    "            continue\n",
    "        # print(mono_best.shape, model.binding_modes.conv_mono[i + 1].weight.shape)\n",
    "        # print(model.binding_modes.conv_mono[i + 1].weight.device)\n",
    "        new_w = mono_best.reshape([1, 1] + list(mono_best.shape))\n",
    "        # print(i, i + 1)\n",
    "        model.binding_modes.conv_mono[i + 2].weight = torch.nn.Parameter(torch.tensor(new_w, dtype=torch.float).squeeze(1))\n",
    "        # print(model.binding_modes.conv_mono[i + 1].weight.device)\n",
    "    # move the model a final time to the GPU\n",
    "    model = model.to(device)\n",
    "\n",
    "    mb.pl.set_rcParams({'figure.figsize': [15, 3], 'figure.dpi': 90})\n",
    "    mb.pl.logo(model,\n",
    "               title=False,\n",
    "               xticks=False,\n",
    "               rowspan_dinuc=0,\n",
    "               rowspan_mono=1,\n",
    "               n_rows=5,\n",
    "               n_cols=12,\n",
    "               stop_at=10   ) # n_cols=len(reduced_groups))\n",
    "\n",
    "    mb.pl.set_rcParams({'figure.figsize': [20, 5], 'figure.dpi': 100})\n",
    "\n",
    "    # mb.pl.conv(model, n_cols=2)\n",
    "    import torch.nn as tnn\n",
    "\n",
    "    model, best_loss = model.optimize_iterative(train, n_epochs=[n_epochs_intercept] + [n_epochs_kernel] * (n_kernels + 1),\n",
    "                                                show_logo=False, use_mono=True, use_dinuc=False, dinuc_mode='local',\n",
    "                                                opt_kernel_shift=[0, 0] + [0] * (n_kernels),\n",
    "                                                opt_kernel_length=[0, 0] + [0] * (n_kernels),\n",
    "                                                opt_one_step=True,\n",
    "                                                shift_max=1, shift_step=1,\n",
    "                                                n_unfreeze_kernels=n_unfreeze_kernels,\n",
    "                                                # optimiser=topti.SGD,\n",
    "                                                optimiser=topti.Adam,\n",
    "                                                # skip_kernels=list(range(1, 2)) + list(range(5, 500)),\n",
    "                                                n_batches=1, n_rounds=2, num_epochs_shift_factor=1, # log_etas=log_etas, # log_etas=log_etas,\n",
    "                                                kernels = [0] + [2] + [20] * (n_kernels), r2_per_epoch=True,\n",
    "                                                exp_max=8,\n",
    "                                                early_stopping=250, log_each=log_each, w=20, max_w=20) #  target_dim=train.dataset.signal.shape[1])\n",
    "\n",
    "    model_by_logdynamic[optimize_log_dynamic] = model"
   ]
  },
  {
   "cell_type": "code",
   "execution_count": 337,
   "metadata": {},
   "outputs": [
    {
     "data": {
      "text/plain": [
       "{True: Mubind(\n",
       "   (padding): ConstantPad2d(padding=(23, 23, 0, 0), value=0.25)\n",
       "   (binding_modes): BindingLayer(\n",
       "     (conv_mono): ModuleList(\n",
       "       (0): None\n",
       "       (1): Conv1d(4, 1, kernel_size=(2,), stride=(1,), bias=False)\n",
       "       (2): Conv1d(4, 1, kernel_size=(9,), stride=(1,), bias=False)\n",
       "       (3): Conv1d(4, 1, kernel_size=(18,), stride=(1,), bias=False)\n",
       "       (4): Conv1d(4, 1, kernel_size=(9,), stride=(1,), bias=False)\n",
       "       (5): Conv1d(4, 1, kernel_size=(13,), stride=(1,), bias=False)\n",
       "       (6): Conv1d(4, 1, kernel_size=(14,), stride=(1,), bias=False)\n",
       "       (7): Conv1d(4, 1, kernel_size=(13,), stride=(1,), bias=False)\n",
       "       (8-9): 2 x Conv1d(4, 1, kernel_size=(17,), stride=(1,), bias=False)\n",
       "       (10): Conv1d(4, 1, kernel_size=(13,), stride=(1,), bias=False)\n",
       "       (11): Conv1d(4, 1, kernel_size=(12,), stride=(1,), bias=False)\n",
       "       (12): Conv1d(4, 1, kernel_size=(15,), stride=(1,), bias=False)\n",
       "       (13): Conv1d(4, 1, kernel_size=(8,), stride=(1,), bias=False)\n",
       "       (14): Conv1d(4, 1, kernel_size=(11,), stride=(1,), bias=False)\n",
       "       (15): Conv1d(4, 1, kernel_size=(14,), stride=(1,), bias=False)\n",
       "       (16-17): 2 x Conv1d(4, 1, kernel_size=(12,), stride=(1,), bias=False)\n",
       "       (18): Conv1d(4, 1, kernel_size=(17,), stride=(1,), bias=False)\n",
       "       (19): Conv1d(4, 1, kernel_size=(10,), stride=(1,), bias=False)\n",
       "       (20): Conv1d(4, 1, kernel_size=(18,), stride=(1,), bias=False)\n",
       "       (21): Conv1d(4, 1, kernel_size=(17,), stride=(1,), bias=False)\n",
       "       (22): Conv1d(4, 1, kernel_size=(11,), stride=(1,), bias=False)\n",
       "       (23): Conv1d(4, 1, kernel_size=(12,), stride=(1,), bias=False)\n",
       "       (24): Conv1d(4, 1, kernel_size=(17,), stride=(1,), bias=False)\n",
       "       (25): Conv1d(4, 1, kernel_size=(11,), stride=(1,), bias=False)\n",
       "       (26): Conv1d(4, 1, kernel_size=(12,), stride=(1,), bias=False)\n",
       "       (27-28): 2 x Conv1d(4, 1, kernel_size=(14,), stride=(1,), bias=False)\n",
       "       (29): Conv1d(4, 1, kernel_size=(10,), stride=(1,), bias=False)\n",
       "       (30): Conv1d(4, 1, kernel_size=(15,), stride=(1,), bias=False)\n",
       "       (31-32): 2 x Conv1d(4, 1, kernel_size=(10,), stride=(1,), bias=False)\n",
       "       (33): Conv1d(4, 1, kernel_size=(14,), stride=(1,), bias=False)\n",
       "       (34): Conv1d(4, 1, kernel_size=(9,), stride=(1,), bias=False)\n",
       "       (35): Conv1d(4, 1, kernel_size=(14,), stride=(1,), bias=False)\n",
       "       (36): Conv1d(4, 1, kernel_size=(10,), stride=(1,), bias=False)\n",
       "       (37): Conv1d(4, 1, kernel_size=(14,), stride=(1,), bias=False)\n",
       "       (38): Conv1d(4, 1, kernel_size=(12,), stride=(1,), bias=False)\n",
       "       (39): Conv1d(4, 1, kernel_size=(15,), stride=(1,), bias=False)\n",
       "       (40): Conv1d(4, 1, kernel_size=(16,), stride=(1,), bias=False)\n",
       "       (41): Conv1d(4, 1, kernel_size=(18,), stride=(1,), bias=False)\n",
       "       (42): Conv1d(4, 1, kernel_size=(12,), stride=(1,), bias=False)\n",
       "       (43): Conv1d(4, 1, kernel_size=(9,), stride=(1,), bias=False)\n",
       "       (44): Conv1d(4, 1, kernel_size=(14,), stride=(1,), bias=False)\n",
       "       (45): Conv1d(4, 1, kernel_size=(17,), stride=(1,), bias=False)\n",
       "       (46): Conv1d(4, 1, kernel_size=(18,), stride=(1,), bias=False)\n",
       "       (47): Conv1d(4, 1, kernel_size=(13,), stride=(1,), bias=False)\n",
       "       (48): Conv1d(4, 1, kernel_size=(18,), stride=(1,), bias=False)\n",
       "       (49-50): 2 x Conv1d(4, 1, kernel_size=(12,), stride=(1,), bias=False)\n",
       "       (51): Conv1d(4, 1, kernel_size=(14,), stride=(1,), bias=False)\n",
       "       (52): Conv1d(4, 1, kernel_size=(18,), stride=(1,), bias=False)\n",
       "       (53): Conv1d(4, 1, kernel_size=(19,), stride=(1,), bias=False)\n",
       "       (54-55): 2 x Conv1d(4, 1, kernel_size=(10,), stride=(1,), bias=False)\n",
       "       (56): Conv1d(4, 1, kernel_size=(12,), stride=(1,), bias=False)\n",
       "       (57): Conv1d(4, 1, kernel_size=(16,), stride=(1,), bias=False)\n",
       "       (58): Conv1d(4, 1, kernel_size=(14,), stride=(1,), bias=False)\n",
       "       (59): Conv1d(4, 1, kernel_size=(8,), stride=(1,), bias=False)\n",
       "       (60): Conv1d(4, 1, kernel_size=(15,), stride=(1,), bias=False)\n",
       "       (61-62): 2 x Conv1d(4, 1, kernel_size=(17,), stride=(1,), bias=False)\n",
       "       (63): Conv1d(4, 1, kernel_size=(12,), stride=(1,), bias=False)\n",
       "       (64): Conv1d(4, 1, kernel_size=(15,), stride=(1,), bias=False)\n",
       "       (65): Conv1d(4, 1, kernel_size=(14,), stride=(1,), bias=False)\n",
       "       (66): Conv1d(4, 1, kernel_size=(10,), stride=(1,), bias=False)\n",
       "       (67): Conv1d(4, 1, kernel_size=(8,), stride=(1,), bias=False)\n",
       "       (68): Conv1d(4, 1, kernel_size=(12,), stride=(1,), bias=False)\n",
       "       (69-70): 2 x Conv1d(4, 1, kernel_size=(10,), stride=(1,), bias=False)\n",
       "       (71): Conv1d(4, 1, kernel_size=(12,), stride=(1,), bias=False)\n",
       "       (72): Conv1d(4, 1, kernel_size=(6,), stride=(1,), bias=False)\n",
       "       (73): Conv1d(4, 1, kernel_size=(15,), stride=(1,), bias=False)\n",
       "       (74): Conv1d(4, 1, kernel_size=(10,), stride=(1,), bias=False)\n",
       "       (75): Conv1d(4, 1, kernel_size=(13,), stride=(1,), bias=False)\n",
       "       (76): Conv1d(4, 1, kernel_size=(9,), stride=(1,), bias=False)\n",
       "       (77): Conv1d(4, 1, kernel_size=(10,), stride=(1,), bias=False)\n",
       "       (78): Conv1d(4, 1, kernel_size=(12,), stride=(1,), bias=False)\n",
       "       (79): Conv1d(4, 1, kernel_size=(9,), stride=(1,), bias=False)\n",
       "       (80): Conv1d(4, 1, kernel_size=(10,), stride=(1,), bias=False)\n",
       "       (81): Conv1d(4, 1, kernel_size=(21,), stride=(1,), bias=False)\n",
       "       (82): Conv1d(4, 1, kernel_size=(12,), stride=(1,), bias=False)\n",
       "       (83): Conv1d(4, 1, kernel_size=(17,), stride=(1,), bias=False)\n",
       "       (84): Conv1d(4, 1, kernel_size=(10,), stride=(1,), bias=False)\n",
       "       (85): Conv1d(4, 1, kernel_size=(14,), stride=(1,), bias=False)\n",
       "       (86): Conv1d(4, 1, kernel_size=(12,), stride=(1,), bias=False)\n",
       "       (87): Conv1d(4, 1, kernel_size=(13,), stride=(1,), bias=False)\n",
       "       (88): Conv1d(4, 1, kernel_size=(20,), stride=(1,), bias=False)\n",
       "       (89-90): 2 x Conv1d(4, 1, kernel_size=(9,), stride=(1,), bias=False)\n",
       "       (91): Conv1d(4, 1, kernel_size=(8,), stride=(1,), bias=False)\n",
       "       (92): Conv1d(4, 1, kernel_size=(12,), stride=(1,), bias=False)\n",
       "       (93): Conv1d(4, 1, kernel_size=(20,), stride=(1,), bias=False)\n",
       "       (94): Conv1d(4, 1, kernel_size=(19,), stride=(1,), bias=False)\n",
       "       (95): Conv1d(4, 1, kernel_size=(10,), stride=(1,), bias=False)\n",
       "       (96): Conv1d(4, 1, kernel_size=(12,), stride=(1,), bias=False)\n",
       "       (97): Conv1d(4, 1, kernel_size=(13,), stride=(1,), bias=False)\n",
       "       (98): Conv1d(4, 1, kernel_size=(15,), stride=(1,), bias=False)\n",
       "       (99): Conv1d(4, 1, kernel_size=(12,), stride=(1,), bias=False)\n",
       "       (100): Conv1d(4, 1, kernel_size=(18,), stride=(1,), bias=False)\n",
       "       (101): Conv1d(4, 1, kernel_size=(17,), stride=(1,), bias=False)\n",
       "       (102): Conv1d(4, 1, kernel_size=(14,), stride=(1,), bias=False)\n",
       "       (103): Conv1d(4, 1, kernel_size=(17,), stride=(1,), bias=False)\n",
       "       (104): Conv1d(4, 1, kernel_size=(15,), stride=(1,), bias=False)\n",
       "       (105): Conv1d(4, 1, kernel_size=(18,), stride=(1,), bias=False)\n",
       "       (106): Conv1d(4, 1, kernel_size=(17,), stride=(1,), bias=False)\n",
       "       (107): Conv1d(4, 1, kernel_size=(9,), stride=(1,), bias=False)\n",
       "       (108): Conv1d(4, 1, kernel_size=(14,), stride=(1,), bias=False)\n",
       "       (109): Conv1d(4, 1, kernel_size=(9,), stride=(1,), bias=False)\n",
       "       (110-111): 2 x Conv1d(4, 1, kernel_size=(11,), stride=(1,), bias=False)\n",
       "       (112): Conv1d(4, 1, kernel_size=(7,), stride=(1,), bias=False)\n",
       "       (113): Conv1d(4, 1, kernel_size=(13,), stride=(1,), bias=False)\n",
       "       (114): Conv1d(4, 1, kernel_size=(10,), stride=(1,), bias=False)\n",
       "       (115): Conv1d(4, 1, kernel_size=(7,), stride=(1,), bias=False)\n",
       "       (116): Conv1d(4, 1, kernel_size=(14,), stride=(1,), bias=False)\n",
       "       (117): Conv1d(4, 1, kernel_size=(12,), stride=(1,), bias=False)\n",
       "       (118): Conv1d(4, 1, kernel_size=(17,), stride=(1,), bias=False)\n",
       "       (119): Conv1d(4, 1, kernel_size=(12,), stride=(1,), bias=False)\n",
       "       (120): Conv1d(4, 1, kernel_size=(11,), stride=(1,), bias=False)\n",
       "       (121): Conv1d(4, 1, kernel_size=(15,), stride=(1,), bias=False)\n",
       "       (122): Conv1d(4, 1, kernel_size=(13,), stride=(1,), bias=False)\n",
       "       (123-124): 2 x Conv1d(4, 1, kernel_size=(15,), stride=(1,), bias=False)\n",
       "       (125): Conv1d(4, 1, kernel_size=(10,), stride=(1,), bias=False)\n",
       "       (126): Conv1d(4, 1, kernel_size=(15,), stride=(1,), bias=False)\n",
       "       (127): Conv1d(4, 1, kernel_size=(14,), stride=(1,), bias=False)\n",
       "       (128): Conv1d(4, 1, kernel_size=(15,), stride=(1,), bias=False)\n",
       "       (129): Conv1d(4, 1, kernel_size=(10,), stride=(1,), bias=False)\n",
       "       (130): Conv1d(4, 1, kernel_size=(15,), stride=(1,), bias=False)\n",
       "       (131): Conv1d(4, 1, kernel_size=(11,), stride=(1,), bias=False)\n",
       "       (132): Conv1d(4, 1, kernel_size=(13,), stride=(1,), bias=False)\n",
       "       (133): Conv1d(4, 1, kernel_size=(15,), stride=(1,), bias=False)\n",
       "       (134): Conv1d(4, 1, kernel_size=(8,), stride=(1,), bias=False)\n",
       "       (135): Conv1d(4, 1, kernel_size=(14,), stride=(1,), bias=False)\n",
       "       (136): Conv1d(4, 1, kernel_size=(19,), stride=(1,), bias=False)\n",
       "       (137): Conv1d(4, 1, kernel_size=(17,), stride=(1,), bias=False)\n",
       "       (138): Conv1d(4, 1, kernel_size=(9,), stride=(1,), bias=False)\n",
       "       (139): Conv1d(4, 1, kernel_size=(16,), stride=(1,), bias=False)\n",
       "       (140): Conv1d(4, 1, kernel_size=(9,), stride=(1,), bias=False)\n",
       "       (141): Conv1d(4, 1, kernel_size=(15,), stride=(1,), bias=False)\n",
       "       (142): Conv1d(4, 1, kernel_size=(19,), stride=(1,), bias=False)\n",
       "       (143-144): 2 x Conv1d(4, 1, kernel_size=(15,), stride=(1,), bias=False)\n",
       "       (145): Conv1d(4, 1, kernel_size=(19,), stride=(1,), bias=False)\n",
       "       (146): Conv1d(4, 1, kernel_size=(14,), stride=(1,), bias=False)\n",
       "       (147): Conv1d(4, 1, kernel_size=(16,), stride=(1,), bias=False)\n",
       "       (148): Conv1d(4, 1, kernel_size=(17,), stride=(1,), bias=False)\n",
       "       (149): Conv1d(4, 1, kernel_size=(14,), stride=(1,), bias=False)\n",
       "       (150): Conv1d(4, 1, kernel_size=(18,), stride=(1,), bias=False)\n",
       "       (151): Conv1d(4, 1, kernel_size=(16,), stride=(1,), bias=False)\n",
       "       (152): Conv1d(4, 1, kernel_size=(15,), stride=(1,), bias=False)\n",
       "       (153): Conv1d(4, 1, kernel_size=(20,), stride=(1,), bias=False)\n",
       "       (154): Conv1d(4, 1, kernel_size=(17,), stride=(1,), bias=False)\n",
       "       (155): Conv1d(4, 1, kernel_size=(7,), stride=(1,), bias=False)\n",
       "       (156-157): 2 x Conv1d(4, 1, kernel_size=(17,), stride=(1,), bias=False)\n",
       "       (158): Conv1d(4, 1, kernel_size=(16,), stride=(1,), bias=False)\n",
       "       (159): Conv1d(4, 1, kernel_size=(9,), stride=(1,), bias=False)\n",
       "       (160): Conv1d(4, 1, kernel_size=(20,), stride=(1,), bias=False)\n",
       "       (161): Conv1d(4, 1, kernel_size=(17,), stride=(1,), bias=False)\n",
       "       (162): Conv1d(4, 1, kernel_size=(18,), stride=(1,), bias=False)\n",
       "       (163): Conv1d(4, 1, kernel_size=(8,), stride=(1,), bias=False)\n",
       "       (164): Conv1d(4, 1, kernel_size=(17,), stride=(1,), bias=False)\n",
       "       (165): Conv1d(4, 1, kernel_size=(21,), stride=(1,), bias=False)\n",
       "       (166): Conv1d(4, 1, kernel_size=(14,), stride=(1,), bias=False)\n",
       "       (167): Conv1d(4, 1, kernel_size=(16,), stride=(1,), bias=False)\n",
       "       (168): Conv1d(4, 1, kernel_size=(17,), stride=(1,), bias=False)\n",
       "       (169): Conv1d(4, 1, kernel_size=(13,), stride=(1,), bias=False)\n",
       "       (170): Conv1d(4, 1, kernel_size=(15,), stride=(1,), bias=False)\n",
       "       (171): Conv1d(4, 1, kernel_size=(14,), stride=(1,), bias=False)\n",
       "       (172): Conv1d(4, 1, kernel_size=(10,), stride=(1,), bias=False)\n",
       "       (173): Conv1d(4, 1, kernel_size=(13,), stride=(1,), bias=False)\n",
       "       (174): Conv1d(4, 1, kernel_size=(15,), stride=(1,), bias=False)\n",
       "       (175): Conv1d(4, 1, kernel_size=(19,), stride=(1,), bias=False)\n",
       "       (176): Conv1d(4, 1, kernel_size=(12,), stride=(1,), bias=False)\n",
       "       (177): Conv1d(4, 1, kernel_size=(10,), stride=(1,), bias=False)\n",
       "       (178): Conv1d(4, 1, kernel_size=(6,), stride=(1,), bias=False)\n",
       "       (179-180): 2 x Conv1d(4, 1, kernel_size=(22,), stride=(1,), bias=False)\n",
       "       (181): Conv1d(4, 1, kernel_size=(15,), stride=(1,), bias=False)\n",
       "       (182): Conv1d(4, 1, kernel_size=(20,), stride=(1,), bias=False)\n",
       "       (183): Conv1d(4, 1, kernel_size=(11,), stride=(1,), bias=False)\n",
       "       (184): Conv1d(4, 1, kernel_size=(18,), stride=(1,), bias=False)\n",
       "       (185): Conv1d(4, 1, kernel_size=(15,), stride=(1,), bias=False)\n",
       "       (186): Conv1d(4, 1, kernel_size=(14,), stride=(1,), bias=False)\n",
       "       (187): Conv1d(4, 1, kernel_size=(17,), stride=(1,), bias=False)\n",
       "       (188): Conv1d(4, 1, kernel_size=(12,), stride=(1,), bias=False)\n",
       "       (189): Conv1d(4, 1, kernel_size=(13,), stride=(1,), bias=False)\n",
       "       (190): Conv1d(4, 1, kernel_size=(10,), stride=(1,), bias=False)\n",
       "       (191): Conv1d(4, 1, kernel_size=(12,), stride=(1,), bias=False)\n",
       "       (192): Conv1d(4, 1, kernel_size=(15,), stride=(1,), bias=False)\n",
       "       (193): Conv1d(4, 1, kernel_size=(9,), stride=(1,), bias=False)\n",
       "       (194): Conv1d(4, 1, kernel_size=(16,), stride=(1,), bias=False)\n",
       "       (195): Conv1d(4, 1, kernel_size=(8,), stride=(1,), bias=False)\n",
       "       (196-198): 3 x Conv1d(4, 1, kernel_size=(15,), stride=(1,), bias=False)\n",
       "       (199-200): 2 x Conv1d(4, 1, kernel_size=(16,), stride=(1,), bias=False)\n",
       "       (201): Conv1d(4, 1, kernel_size=(14,), stride=(1,), bias=False)\n",
       "       (202): Conv1d(4, 1, kernel_size=(15,), stride=(1,), bias=False)\n",
       "       (203): Conv1d(4, 1, kernel_size=(16,), stride=(1,), bias=False)\n",
       "       (204): Conv1d(4, 1, kernel_size=(14,), stride=(1,), bias=False)\n",
       "       (205-206): 2 x Conv1d(4, 1, kernel_size=(11,), stride=(1,), bias=False)\n",
       "       (207): Conv1d(4, 1, kernel_size=(18,), stride=(1,), bias=False)\n",
       "       (208): Conv1d(4, 1, kernel_size=(11,), stride=(1,), bias=False)\n",
       "       (209-210): 2 x Conv1d(4, 1, kernel_size=(10,), stride=(1,), bias=False)\n",
       "       (211): Conv1d(4, 1, kernel_size=(20,), stride=(1,), bias=False)\n",
       "       (212): Conv1d(4, 1, kernel_size=(18,), stride=(1,), bias=False)\n",
       "       (213): Conv1d(4, 1, kernel_size=(20,), stride=(1,), bias=False)\n",
       "       (214): Conv1d(4, 1, kernel_size=(13,), stride=(1,), bias=False)\n",
       "       (215): Conv1d(4, 1, kernel_size=(15,), stride=(1,), bias=False)\n",
       "       (216): Conv1d(4, 1, kernel_size=(12,), stride=(1,), bias=False)\n",
       "       (217): Conv1d(4, 1, kernel_size=(15,), stride=(1,), bias=False)\n",
       "       (218): Conv1d(4, 1, kernel_size=(13,), stride=(1,), bias=False)\n",
       "       (219): Conv1d(4, 1, kernel_size=(19,), stride=(1,), bias=False)\n",
       "       (220): Conv1d(4, 1, kernel_size=(9,), stride=(1,), bias=False)\n",
       "       (221): Conv1d(4, 1, kernel_size=(12,), stride=(1,), bias=False)\n",
       "       (222): Conv1d(4, 1, kernel_size=(13,), stride=(1,), bias=False)\n",
       "       (223): Conv1d(4, 1, kernel_size=(9,), stride=(1,), bias=False)\n",
       "       (224): Conv1d(4, 1, kernel_size=(12,), stride=(1,), bias=False)\n",
       "       (225): Conv1d(4, 1, kernel_size=(17,), stride=(1,), bias=False)\n",
       "       (226): Conv1d(4, 1, kernel_size=(13,), stride=(1,), bias=False)\n",
       "       (227): Conv1d(4, 1, kernel_size=(9,), stride=(1,), bias=False)\n",
       "       (228): Conv1d(4, 1, kernel_size=(20,), stride=(1,), bias=False)\n",
       "       (229): Conv1d(4, 1, kernel_size=(10,), stride=(1,), bias=False)\n",
       "       (230): Conv1d(4, 1, kernel_size=(14,), stride=(1,), bias=False)\n",
       "       (231): Conv1d(4, 1, kernel_size=(9,), stride=(1,), bias=False)\n",
       "       (232-233): 2 x Conv1d(4, 1, kernel_size=(19,), stride=(1,), bias=False)\n",
       "       (234): Conv1d(4, 1, kernel_size=(22,), stride=(1,), bias=False)\n",
       "       (235-236): 2 x Conv1d(4, 1, kernel_size=(24,), stride=(1,), bias=False)\n",
       "       (237): Conv1d(4, 1, kernel_size=(16,), stride=(1,), bias=False)\n",
       "       (238): Conv1d(4, 1, kernel_size=(8,), stride=(1,), bias=False)\n",
       "       (239): Conv1d(4, 1, kernel_size=(24,), stride=(1,), bias=False)\n",
       "       (240): Conv1d(4, 1, kernel_size=(19,), stride=(1,), bias=False)\n",
       "       (241): Conv1d(4, 1, kernel_size=(13,), stride=(1,), bias=False)\n",
       "       (242): Conv1d(4, 1, kernel_size=(20,), stride=(1,), bias=False)\n",
       "       (243): Conv1d(4, 1, kernel_size=(12,), stride=(1,), bias=False)\n",
       "       (244-245): 2 x Conv1d(4, 1, kernel_size=(20,), stride=(1,), bias=False)\n",
       "       (246): Conv1d(4, 1, kernel_size=(17,), stride=(1,), bias=False)\n",
       "       (247): Conv1d(4, 1, kernel_size=(14,), stride=(1,), bias=False)\n",
       "       (248-249): 2 x Conv1d(4, 1, kernel_size=(20,), stride=(1,), bias=False)\n",
       "       (250): Conv1d(4, 1, kernel_size=(23,), stride=(1,), bias=False)\n",
       "       (251-253): 3 x Conv1d(4, 1, kernel_size=(20,), stride=(1,), bias=False)\n",
       "       (254): Conv1d(4, 1, kernel_size=(9,), stride=(1,), bias=False)\n",
       "       (255): Conv1d(4, 1, kernel_size=(24,), stride=(1,), bias=False)\n",
       "       (256): Conv1d(4, 1, kernel_size=(22,), stride=(1,), bias=False)\n",
       "       (257-258): 2 x Conv1d(4, 1, kernel_size=(12,), stride=(1,), bias=False)\n",
       "       (259): Conv1d(4, 1, kernel_size=(24,), stride=(1,), bias=False)\n",
       "       (260-261): 2 x Conv1d(4, 1, kernel_size=(17,), stride=(1,), bias=False)\n",
       "       (262): Conv1d(4, 1, kernel_size=(15,), stride=(1,), bias=False)\n",
       "       (263): Conv1d(4, 1, kernel_size=(23,), stride=(1,), bias=False)\n",
       "       (264): Conv1d(4, 1, kernel_size=(18,), stride=(1,), bias=False)\n",
       "       (265): Conv1d(4, 1, kernel_size=(24,), stride=(1,), bias=False)\n",
       "       (266): Conv1d(4, 1, kernel_size=(11,), stride=(1,), bias=False)\n",
       "       (267): Conv1d(4, 1, kernel_size=(24,), stride=(1,), bias=False)\n",
       "       (268): Conv1d(4, 1, kernel_size=(12,), stride=(1,), bias=False)\n",
       "       (269): Conv1d(4, 1, kernel_size=(20,), stride=(1,), bias=False)\n",
       "       (270): Conv1d(4, 1, kernel_size=(6,), stride=(1,), bias=False)\n",
       "       (271-273): 3 x Conv1d(4, 1, kernel_size=(20,), stride=(1,), bias=False)\n",
       "       (274): Conv1d(4, 1, kernel_size=(21,), stride=(1,), bias=False)\n",
       "       (275): Conv1d(4, 1, kernel_size=(10,), stride=(1,), bias=False)\n",
       "       (276): Conv1d(4, 1, kernel_size=(20,), stride=(1,), bias=False)\n",
       "       (277): Conv1d(4, 1, kernel_size=(13,), stride=(1,), bias=False)\n",
       "       (278): Conv1d(4, 1, kernel_size=(19,), stride=(1,), bias=False)\n",
       "       (279-280): 2 x Conv1d(4, 1, kernel_size=(20,), stride=(1,), bias=False)\n",
       "       (281): Conv1d(4, 1, kernel_size=(17,), stride=(1,), bias=False)\n",
       "       (282): Conv1d(4, 1, kernel_size=(20,), stride=(1,), bias=False)\n",
       "       (283): Conv1d(4, 1, kernel_size=(10,), stride=(1,), bias=False)\n",
       "       (284): Conv1d(4, 1, kernel_size=(20,), stride=(1,), bias=False)\n",
       "       (285): Conv1d(4, 1, kernel_size=(22,), stride=(1,), bias=False)\n",
       "       (286): Conv1d(4, 1, kernel_size=(18,), stride=(1,), bias=False)\n",
       "       (287): Conv1d(4, 1, kernel_size=(15,), stride=(1,), bias=False)\n",
       "     )\n",
       "     (conv_di): ModuleList(\n",
       "       (0): None\n",
       "     )\n",
       "     (dropout): Dropout(p=0.8, inplace=False)\n",
       "   )\n",
       "   (activities): ActivitiesLayer()\n",
       "   (graph_module): GraphLayer()\n",
       "   (criterion): PoissonLoss()\n",
       " ),\n",
       " False: Mubind(\n",
       "   (padding): ConstantPad2d(padding=(23, 23, 0, 0), value=0.25)\n",
       "   (binding_modes): BindingLayer(\n",
       "     (conv_mono): ModuleList(\n",
       "       (0): None\n",
       "       (1): Conv1d(4, 1, kernel_size=(2,), stride=(1,), bias=False)\n",
       "       (2): Conv1d(4, 1, kernel_size=(9,), stride=(1,), bias=False)\n",
       "       (3): Conv1d(4, 1, kernel_size=(18,), stride=(1,), bias=False)\n",
       "       (4): Conv1d(4, 1, kernel_size=(9,), stride=(1,), bias=False)\n",
       "       (5): Conv1d(4, 1, kernel_size=(13,), stride=(1,), bias=False)\n",
       "       (6): Conv1d(4, 1, kernel_size=(14,), stride=(1,), bias=False)\n",
       "       (7): Conv1d(4, 1, kernel_size=(13,), stride=(1,), bias=False)\n",
       "       (8-9): 2 x Conv1d(4, 1, kernel_size=(17,), stride=(1,), bias=False)\n",
       "       (10): Conv1d(4, 1, kernel_size=(13,), stride=(1,), bias=False)\n",
       "       (11): Conv1d(4, 1, kernel_size=(12,), stride=(1,), bias=False)\n",
       "       (12): Conv1d(4, 1, kernel_size=(15,), stride=(1,), bias=False)\n",
       "       (13): Conv1d(4, 1, kernel_size=(8,), stride=(1,), bias=False)\n",
       "       (14): Conv1d(4, 1, kernel_size=(11,), stride=(1,), bias=False)\n",
       "       (15): Conv1d(4, 1, kernel_size=(14,), stride=(1,), bias=False)\n",
       "       (16-17): 2 x Conv1d(4, 1, kernel_size=(12,), stride=(1,), bias=False)\n",
       "       (18): Conv1d(4, 1, kernel_size=(17,), stride=(1,), bias=False)\n",
       "       (19): Conv1d(4, 1, kernel_size=(10,), stride=(1,), bias=False)\n",
       "       (20): Conv1d(4, 1, kernel_size=(18,), stride=(1,), bias=False)\n",
       "       (21): Conv1d(4, 1, kernel_size=(17,), stride=(1,), bias=False)\n",
       "       (22): Conv1d(4, 1, kernel_size=(11,), stride=(1,), bias=False)\n",
       "       (23): Conv1d(4, 1, kernel_size=(12,), stride=(1,), bias=False)\n",
       "       (24): Conv1d(4, 1, kernel_size=(17,), stride=(1,), bias=False)\n",
       "       (25): Conv1d(4, 1, kernel_size=(11,), stride=(1,), bias=False)\n",
       "       (26): Conv1d(4, 1, kernel_size=(12,), stride=(1,), bias=False)\n",
       "       (27-28): 2 x Conv1d(4, 1, kernel_size=(14,), stride=(1,), bias=False)\n",
       "       (29): Conv1d(4, 1, kernel_size=(10,), stride=(1,), bias=False)\n",
       "       (30): Conv1d(4, 1, kernel_size=(15,), stride=(1,), bias=False)\n",
       "       (31-32): 2 x Conv1d(4, 1, kernel_size=(10,), stride=(1,), bias=False)\n",
       "       (33): Conv1d(4, 1, kernel_size=(14,), stride=(1,), bias=False)\n",
       "       (34): Conv1d(4, 1, kernel_size=(9,), stride=(1,), bias=False)\n",
       "       (35): Conv1d(4, 1, kernel_size=(14,), stride=(1,), bias=False)\n",
       "       (36): Conv1d(4, 1, kernel_size=(10,), stride=(1,), bias=False)\n",
       "       (37): Conv1d(4, 1, kernel_size=(14,), stride=(1,), bias=False)\n",
       "       (38): Conv1d(4, 1, kernel_size=(12,), stride=(1,), bias=False)\n",
       "       (39): Conv1d(4, 1, kernel_size=(15,), stride=(1,), bias=False)\n",
       "       (40): Conv1d(4, 1, kernel_size=(16,), stride=(1,), bias=False)\n",
       "       (41): Conv1d(4, 1, kernel_size=(18,), stride=(1,), bias=False)\n",
       "       (42): Conv1d(4, 1, kernel_size=(12,), stride=(1,), bias=False)\n",
       "       (43): Conv1d(4, 1, kernel_size=(9,), stride=(1,), bias=False)\n",
       "       (44): Conv1d(4, 1, kernel_size=(14,), stride=(1,), bias=False)\n",
       "       (45): Conv1d(4, 1, kernel_size=(17,), stride=(1,), bias=False)\n",
       "       (46): Conv1d(4, 1, kernel_size=(18,), stride=(1,), bias=False)\n",
       "       (47): Conv1d(4, 1, kernel_size=(13,), stride=(1,), bias=False)\n",
       "       (48): Conv1d(4, 1, kernel_size=(18,), stride=(1,), bias=False)\n",
       "       (49-50): 2 x Conv1d(4, 1, kernel_size=(12,), stride=(1,), bias=False)\n",
       "       (51): Conv1d(4, 1, kernel_size=(14,), stride=(1,), bias=False)\n",
       "       (52): Conv1d(4, 1, kernel_size=(18,), stride=(1,), bias=False)\n",
       "       (53): Conv1d(4, 1, kernel_size=(19,), stride=(1,), bias=False)\n",
       "       (54-55): 2 x Conv1d(4, 1, kernel_size=(10,), stride=(1,), bias=False)\n",
       "       (56): Conv1d(4, 1, kernel_size=(12,), stride=(1,), bias=False)\n",
       "       (57): Conv1d(4, 1, kernel_size=(16,), stride=(1,), bias=False)\n",
       "       (58): Conv1d(4, 1, kernel_size=(14,), stride=(1,), bias=False)\n",
       "       (59): Conv1d(4, 1, kernel_size=(8,), stride=(1,), bias=False)\n",
       "       (60): Conv1d(4, 1, kernel_size=(15,), stride=(1,), bias=False)\n",
       "       (61-62): 2 x Conv1d(4, 1, kernel_size=(17,), stride=(1,), bias=False)\n",
       "       (63): Conv1d(4, 1, kernel_size=(12,), stride=(1,), bias=False)\n",
       "       (64): Conv1d(4, 1, kernel_size=(15,), stride=(1,), bias=False)\n",
       "       (65): Conv1d(4, 1, kernel_size=(14,), stride=(1,), bias=False)\n",
       "       (66): Conv1d(4, 1, kernel_size=(10,), stride=(1,), bias=False)\n",
       "       (67): Conv1d(4, 1, kernel_size=(8,), stride=(1,), bias=False)\n",
       "       (68): Conv1d(4, 1, kernel_size=(12,), stride=(1,), bias=False)\n",
       "       (69-70): 2 x Conv1d(4, 1, kernel_size=(10,), stride=(1,), bias=False)\n",
       "       (71): Conv1d(4, 1, kernel_size=(12,), stride=(1,), bias=False)\n",
       "       (72): Conv1d(4, 1, kernel_size=(6,), stride=(1,), bias=False)\n",
       "       (73): Conv1d(4, 1, kernel_size=(15,), stride=(1,), bias=False)\n",
       "       (74): Conv1d(4, 1, kernel_size=(10,), stride=(1,), bias=False)\n",
       "       (75): Conv1d(4, 1, kernel_size=(13,), stride=(1,), bias=False)\n",
       "       (76): Conv1d(4, 1, kernel_size=(9,), stride=(1,), bias=False)\n",
       "       (77): Conv1d(4, 1, kernel_size=(10,), stride=(1,), bias=False)\n",
       "       (78): Conv1d(4, 1, kernel_size=(12,), stride=(1,), bias=False)\n",
       "       (79): Conv1d(4, 1, kernel_size=(9,), stride=(1,), bias=False)\n",
       "       (80): Conv1d(4, 1, kernel_size=(10,), stride=(1,), bias=False)\n",
       "       (81): Conv1d(4, 1, kernel_size=(21,), stride=(1,), bias=False)\n",
       "       (82): Conv1d(4, 1, kernel_size=(12,), stride=(1,), bias=False)\n",
       "       (83): Conv1d(4, 1, kernel_size=(17,), stride=(1,), bias=False)\n",
       "       (84): Conv1d(4, 1, kernel_size=(10,), stride=(1,), bias=False)\n",
       "       (85): Conv1d(4, 1, kernel_size=(14,), stride=(1,), bias=False)\n",
       "       (86): Conv1d(4, 1, kernel_size=(12,), stride=(1,), bias=False)\n",
       "       (87): Conv1d(4, 1, kernel_size=(13,), stride=(1,), bias=False)\n",
       "       (88): Conv1d(4, 1, kernel_size=(20,), stride=(1,), bias=False)\n",
       "       (89-90): 2 x Conv1d(4, 1, kernel_size=(9,), stride=(1,), bias=False)\n",
       "       (91): Conv1d(4, 1, kernel_size=(8,), stride=(1,), bias=False)\n",
       "       (92): Conv1d(4, 1, kernel_size=(12,), stride=(1,), bias=False)\n",
       "       (93): Conv1d(4, 1, kernel_size=(20,), stride=(1,), bias=False)\n",
       "       (94): Conv1d(4, 1, kernel_size=(19,), stride=(1,), bias=False)\n",
       "       (95): Conv1d(4, 1, kernel_size=(10,), stride=(1,), bias=False)\n",
       "       (96): Conv1d(4, 1, kernel_size=(12,), stride=(1,), bias=False)\n",
       "       (97): Conv1d(4, 1, kernel_size=(13,), stride=(1,), bias=False)\n",
       "       (98): Conv1d(4, 1, kernel_size=(15,), stride=(1,), bias=False)\n",
       "       (99): Conv1d(4, 1, kernel_size=(12,), stride=(1,), bias=False)\n",
       "       (100): Conv1d(4, 1, kernel_size=(18,), stride=(1,), bias=False)\n",
       "       (101): Conv1d(4, 1, kernel_size=(17,), stride=(1,), bias=False)\n",
       "       (102): Conv1d(4, 1, kernel_size=(14,), stride=(1,), bias=False)\n",
       "       (103): Conv1d(4, 1, kernel_size=(17,), stride=(1,), bias=False)\n",
       "       (104): Conv1d(4, 1, kernel_size=(15,), stride=(1,), bias=False)\n",
       "       (105): Conv1d(4, 1, kernel_size=(18,), stride=(1,), bias=False)\n",
       "       (106): Conv1d(4, 1, kernel_size=(17,), stride=(1,), bias=False)\n",
       "       (107): Conv1d(4, 1, kernel_size=(9,), stride=(1,), bias=False)\n",
       "       (108): Conv1d(4, 1, kernel_size=(14,), stride=(1,), bias=False)\n",
       "       (109): Conv1d(4, 1, kernel_size=(9,), stride=(1,), bias=False)\n",
       "       (110-111): 2 x Conv1d(4, 1, kernel_size=(11,), stride=(1,), bias=False)\n",
       "       (112): Conv1d(4, 1, kernel_size=(7,), stride=(1,), bias=False)\n",
       "       (113): Conv1d(4, 1, kernel_size=(13,), stride=(1,), bias=False)\n",
       "       (114): Conv1d(4, 1, kernel_size=(10,), stride=(1,), bias=False)\n",
       "       (115): Conv1d(4, 1, kernel_size=(7,), stride=(1,), bias=False)\n",
       "       (116): Conv1d(4, 1, kernel_size=(14,), stride=(1,), bias=False)\n",
       "       (117): Conv1d(4, 1, kernel_size=(12,), stride=(1,), bias=False)\n",
       "       (118): Conv1d(4, 1, kernel_size=(17,), stride=(1,), bias=False)\n",
       "       (119): Conv1d(4, 1, kernel_size=(12,), stride=(1,), bias=False)\n",
       "       (120): Conv1d(4, 1, kernel_size=(11,), stride=(1,), bias=False)\n",
       "       (121): Conv1d(4, 1, kernel_size=(15,), stride=(1,), bias=False)\n",
       "       (122): Conv1d(4, 1, kernel_size=(13,), stride=(1,), bias=False)\n",
       "       (123-124): 2 x Conv1d(4, 1, kernel_size=(15,), stride=(1,), bias=False)\n",
       "       (125): Conv1d(4, 1, kernel_size=(10,), stride=(1,), bias=False)\n",
       "       (126): Conv1d(4, 1, kernel_size=(15,), stride=(1,), bias=False)\n",
       "       (127): Conv1d(4, 1, kernel_size=(14,), stride=(1,), bias=False)\n",
       "       (128): Conv1d(4, 1, kernel_size=(15,), stride=(1,), bias=False)\n",
       "       (129): Conv1d(4, 1, kernel_size=(10,), stride=(1,), bias=False)\n",
       "       (130): Conv1d(4, 1, kernel_size=(15,), stride=(1,), bias=False)\n",
       "       (131): Conv1d(4, 1, kernel_size=(11,), stride=(1,), bias=False)\n",
       "       (132): Conv1d(4, 1, kernel_size=(13,), stride=(1,), bias=False)\n",
       "       (133): Conv1d(4, 1, kernel_size=(15,), stride=(1,), bias=False)\n",
       "       (134): Conv1d(4, 1, kernel_size=(8,), stride=(1,), bias=False)\n",
       "       (135): Conv1d(4, 1, kernel_size=(14,), stride=(1,), bias=False)\n",
       "       (136): Conv1d(4, 1, kernel_size=(19,), stride=(1,), bias=False)\n",
       "       (137): Conv1d(4, 1, kernel_size=(17,), stride=(1,), bias=False)\n",
       "       (138): Conv1d(4, 1, kernel_size=(9,), stride=(1,), bias=False)\n",
       "       (139): Conv1d(4, 1, kernel_size=(16,), stride=(1,), bias=False)\n",
       "       (140): Conv1d(4, 1, kernel_size=(9,), stride=(1,), bias=False)\n",
       "       (141): Conv1d(4, 1, kernel_size=(15,), stride=(1,), bias=False)\n",
       "       (142): Conv1d(4, 1, kernel_size=(19,), stride=(1,), bias=False)\n",
       "       (143-144): 2 x Conv1d(4, 1, kernel_size=(15,), stride=(1,), bias=False)\n",
       "       (145): Conv1d(4, 1, kernel_size=(19,), stride=(1,), bias=False)\n",
       "       (146): Conv1d(4, 1, kernel_size=(14,), stride=(1,), bias=False)\n",
       "       (147): Conv1d(4, 1, kernel_size=(16,), stride=(1,), bias=False)\n",
       "       (148): Conv1d(4, 1, kernel_size=(17,), stride=(1,), bias=False)\n",
       "       (149): Conv1d(4, 1, kernel_size=(14,), stride=(1,), bias=False)\n",
       "       (150): Conv1d(4, 1, kernel_size=(18,), stride=(1,), bias=False)\n",
       "       (151): Conv1d(4, 1, kernel_size=(16,), stride=(1,), bias=False)\n",
       "       (152): Conv1d(4, 1, kernel_size=(15,), stride=(1,), bias=False)\n",
       "       (153): Conv1d(4, 1, kernel_size=(20,), stride=(1,), bias=False)\n",
       "       (154): Conv1d(4, 1, kernel_size=(17,), stride=(1,), bias=False)\n",
       "       (155): Conv1d(4, 1, kernel_size=(7,), stride=(1,), bias=False)\n",
       "       (156-157): 2 x Conv1d(4, 1, kernel_size=(17,), stride=(1,), bias=False)\n",
       "       (158): Conv1d(4, 1, kernel_size=(16,), stride=(1,), bias=False)\n",
       "       (159): Conv1d(4, 1, kernel_size=(9,), stride=(1,), bias=False)\n",
       "       (160): Conv1d(4, 1, kernel_size=(20,), stride=(1,), bias=False)\n",
       "       (161): Conv1d(4, 1, kernel_size=(17,), stride=(1,), bias=False)\n",
       "       (162): Conv1d(4, 1, kernel_size=(18,), stride=(1,), bias=False)\n",
       "       (163): Conv1d(4, 1, kernel_size=(8,), stride=(1,), bias=False)\n",
       "       (164): Conv1d(4, 1, kernel_size=(17,), stride=(1,), bias=False)\n",
       "       (165): Conv1d(4, 1, kernel_size=(21,), stride=(1,), bias=False)\n",
       "       (166): Conv1d(4, 1, kernel_size=(14,), stride=(1,), bias=False)\n",
       "       (167): Conv1d(4, 1, kernel_size=(16,), stride=(1,), bias=False)\n",
       "       (168): Conv1d(4, 1, kernel_size=(17,), stride=(1,), bias=False)\n",
       "       (169): Conv1d(4, 1, kernel_size=(13,), stride=(1,), bias=False)\n",
       "       (170): Conv1d(4, 1, kernel_size=(15,), stride=(1,), bias=False)\n",
       "       (171): Conv1d(4, 1, kernel_size=(14,), stride=(1,), bias=False)\n",
       "       (172): Conv1d(4, 1, kernel_size=(10,), stride=(1,), bias=False)\n",
       "       (173): Conv1d(4, 1, kernel_size=(13,), stride=(1,), bias=False)\n",
       "       (174): Conv1d(4, 1, kernel_size=(15,), stride=(1,), bias=False)\n",
       "       (175): Conv1d(4, 1, kernel_size=(19,), stride=(1,), bias=False)\n",
       "       (176): Conv1d(4, 1, kernel_size=(12,), stride=(1,), bias=False)\n",
       "       (177): Conv1d(4, 1, kernel_size=(10,), stride=(1,), bias=False)\n",
       "       (178): Conv1d(4, 1, kernel_size=(6,), stride=(1,), bias=False)\n",
       "       (179-180): 2 x Conv1d(4, 1, kernel_size=(22,), stride=(1,), bias=False)\n",
       "       (181): Conv1d(4, 1, kernel_size=(15,), stride=(1,), bias=False)\n",
       "       (182): Conv1d(4, 1, kernel_size=(20,), stride=(1,), bias=False)\n",
       "       (183): Conv1d(4, 1, kernel_size=(11,), stride=(1,), bias=False)\n",
       "       (184): Conv1d(4, 1, kernel_size=(18,), stride=(1,), bias=False)\n",
       "       (185): Conv1d(4, 1, kernel_size=(15,), stride=(1,), bias=False)\n",
       "       (186): Conv1d(4, 1, kernel_size=(14,), stride=(1,), bias=False)\n",
       "       (187): Conv1d(4, 1, kernel_size=(17,), stride=(1,), bias=False)\n",
       "       (188): Conv1d(4, 1, kernel_size=(12,), stride=(1,), bias=False)\n",
       "       (189): Conv1d(4, 1, kernel_size=(13,), stride=(1,), bias=False)\n",
       "       (190): Conv1d(4, 1, kernel_size=(10,), stride=(1,), bias=False)\n",
       "       (191): Conv1d(4, 1, kernel_size=(12,), stride=(1,), bias=False)\n",
       "       (192): Conv1d(4, 1, kernel_size=(15,), stride=(1,), bias=False)\n",
       "       (193): Conv1d(4, 1, kernel_size=(9,), stride=(1,), bias=False)\n",
       "       (194): Conv1d(4, 1, kernel_size=(16,), stride=(1,), bias=False)\n",
       "       (195): Conv1d(4, 1, kernel_size=(8,), stride=(1,), bias=False)\n",
       "       (196-198): 3 x Conv1d(4, 1, kernel_size=(15,), stride=(1,), bias=False)\n",
       "       (199-200): 2 x Conv1d(4, 1, kernel_size=(16,), stride=(1,), bias=False)\n",
       "       (201): Conv1d(4, 1, kernel_size=(14,), stride=(1,), bias=False)\n",
       "       (202): Conv1d(4, 1, kernel_size=(15,), stride=(1,), bias=False)\n",
       "       (203): Conv1d(4, 1, kernel_size=(16,), stride=(1,), bias=False)\n",
       "       (204): Conv1d(4, 1, kernel_size=(14,), stride=(1,), bias=False)\n",
       "       (205-206): 2 x Conv1d(4, 1, kernel_size=(11,), stride=(1,), bias=False)\n",
       "       (207): Conv1d(4, 1, kernel_size=(18,), stride=(1,), bias=False)\n",
       "       (208): Conv1d(4, 1, kernel_size=(11,), stride=(1,), bias=False)\n",
       "       (209-210): 2 x Conv1d(4, 1, kernel_size=(10,), stride=(1,), bias=False)\n",
       "       (211): Conv1d(4, 1, kernel_size=(20,), stride=(1,), bias=False)\n",
       "       (212): Conv1d(4, 1, kernel_size=(18,), stride=(1,), bias=False)\n",
       "       (213): Conv1d(4, 1, kernel_size=(20,), stride=(1,), bias=False)\n",
       "       (214): Conv1d(4, 1, kernel_size=(13,), stride=(1,), bias=False)\n",
       "       (215): Conv1d(4, 1, kernel_size=(15,), stride=(1,), bias=False)\n",
       "       (216): Conv1d(4, 1, kernel_size=(12,), stride=(1,), bias=False)\n",
       "       (217): Conv1d(4, 1, kernel_size=(15,), stride=(1,), bias=False)\n",
       "       (218): Conv1d(4, 1, kernel_size=(13,), stride=(1,), bias=False)\n",
       "       (219): Conv1d(4, 1, kernel_size=(19,), stride=(1,), bias=False)\n",
       "       (220): Conv1d(4, 1, kernel_size=(9,), stride=(1,), bias=False)\n",
       "       (221): Conv1d(4, 1, kernel_size=(12,), stride=(1,), bias=False)\n",
       "       (222): Conv1d(4, 1, kernel_size=(13,), stride=(1,), bias=False)\n",
       "       (223): Conv1d(4, 1, kernel_size=(9,), stride=(1,), bias=False)\n",
       "       (224): Conv1d(4, 1, kernel_size=(12,), stride=(1,), bias=False)\n",
       "       (225): Conv1d(4, 1, kernel_size=(17,), stride=(1,), bias=False)\n",
       "       (226): Conv1d(4, 1, kernel_size=(13,), stride=(1,), bias=False)\n",
       "       (227): Conv1d(4, 1, kernel_size=(9,), stride=(1,), bias=False)\n",
       "       (228): Conv1d(4, 1, kernel_size=(20,), stride=(1,), bias=False)\n",
       "       (229): Conv1d(4, 1, kernel_size=(10,), stride=(1,), bias=False)\n",
       "       (230): Conv1d(4, 1, kernel_size=(14,), stride=(1,), bias=False)\n",
       "       (231): Conv1d(4, 1, kernel_size=(9,), stride=(1,), bias=False)\n",
       "       (232-233): 2 x Conv1d(4, 1, kernel_size=(19,), stride=(1,), bias=False)\n",
       "       (234): Conv1d(4, 1, kernel_size=(22,), stride=(1,), bias=False)\n",
       "       (235-236): 2 x Conv1d(4, 1, kernel_size=(24,), stride=(1,), bias=False)\n",
       "       (237): Conv1d(4, 1, kernel_size=(16,), stride=(1,), bias=False)\n",
       "       (238): Conv1d(4, 1, kernel_size=(8,), stride=(1,), bias=False)\n",
       "       (239): Conv1d(4, 1, kernel_size=(24,), stride=(1,), bias=False)\n",
       "       (240): Conv1d(4, 1, kernel_size=(19,), stride=(1,), bias=False)\n",
       "       (241): Conv1d(4, 1, kernel_size=(13,), stride=(1,), bias=False)\n",
       "       (242): Conv1d(4, 1, kernel_size=(20,), stride=(1,), bias=False)\n",
       "       (243): Conv1d(4, 1, kernel_size=(12,), stride=(1,), bias=False)\n",
       "       (244-245): 2 x Conv1d(4, 1, kernel_size=(20,), stride=(1,), bias=False)\n",
       "       (246): Conv1d(4, 1, kernel_size=(17,), stride=(1,), bias=False)\n",
       "       (247): Conv1d(4, 1, kernel_size=(14,), stride=(1,), bias=False)\n",
       "       (248-249): 2 x Conv1d(4, 1, kernel_size=(20,), stride=(1,), bias=False)\n",
       "       (250): Conv1d(4, 1, kernel_size=(23,), stride=(1,), bias=False)\n",
       "       (251-253): 3 x Conv1d(4, 1, kernel_size=(20,), stride=(1,), bias=False)\n",
       "       (254): Conv1d(4, 1, kernel_size=(9,), stride=(1,), bias=False)\n",
       "       (255): Conv1d(4, 1, kernel_size=(24,), stride=(1,), bias=False)\n",
       "       (256): Conv1d(4, 1, kernel_size=(22,), stride=(1,), bias=False)\n",
       "       (257-258): 2 x Conv1d(4, 1, kernel_size=(12,), stride=(1,), bias=False)\n",
       "       (259): Conv1d(4, 1, kernel_size=(24,), stride=(1,), bias=False)\n",
       "       (260-261): 2 x Conv1d(4, 1, kernel_size=(17,), stride=(1,), bias=False)\n",
       "       (262): Conv1d(4, 1, kernel_size=(15,), stride=(1,), bias=False)\n",
       "       (263): Conv1d(4, 1, kernel_size=(23,), stride=(1,), bias=False)\n",
       "       (264): Conv1d(4, 1, kernel_size=(18,), stride=(1,), bias=False)\n",
       "       (265): Conv1d(4, 1, kernel_size=(24,), stride=(1,), bias=False)\n",
       "       (266): Conv1d(4, 1, kernel_size=(11,), stride=(1,), bias=False)\n",
       "       (267): Conv1d(4, 1, kernel_size=(24,), stride=(1,), bias=False)\n",
       "       (268): Conv1d(4, 1, kernel_size=(12,), stride=(1,), bias=False)\n",
       "       (269): Conv1d(4, 1, kernel_size=(20,), stride=(1,), bias=False)\n",
       "       (270): Conv1d(4, 1, kernel_size=(6,), stride=(1,), bias=False)\n",
       "       (271-273): 3 x Conv1d(4, 1, kernel_size=(20,), stride=(1,), bias=False)\n",
       "       (274): Conv1d(4, 1, kernel_size=(21,), stride=(1,), bias=False)\n",
       "       (275): Conv1d(4, 1, kernel_size=(10,), stride=(1,), bias=False)\n",
       "       (276): Conv1d(4, 1, kernel_size=(20,), stride=(1,), bias=False)\n",
       "       (277): Conv1d(4, 1, kernel_size=(13,), stride=(1,), bias=False)\n",
       "       (278): Conv1d(4, 1, kernel_size=(19,), stride=(1,), bias=False)\n",
       "       (279-280): 2 x Conv1d(4, 1, kernel_size=(20,), stride=(1,), bias=False)\n",
       "       (281): Conv1d(4, 1, kernel_size=(17,), stride=(1,), bias=False)\n",
       "       (282): Conv1d(4, 1, kernel_size=(20,), stride=(1,), bias=False)\n",
       "       (283): Conv1d(4, 1, kernel_size=(10,), stride=(1,), bias=False)\n",
       "       (284): Conv1d(4, 1, kernel_size=(20,), stride=(1,), bias=False)\n",
       "       (285): Conv1d(4, 1, kernel_size=(22,), stride=(1,), bias=False)\n",
       "       (286): Conv1d(4, 1, kernel_size=(18,), stride=(1,), bias=False)\n",
       "       (287): Conv1d(4, 1, kernel_size=(15,), stride=(1,), bias=False)\n",
       "     )\n",
       "     (conv_di): ModuleList(\n",
       "       (0): None\n",
       "     )\n",
       "     (dropout): Dropout(p=0.8, inplace=False)\n",
       "   )\n",
       "   (activities): ActivitiesLayer()\n",
       "   (graph_module): GraphLayer()\n",
       "   (criterion): PoissonLoss()\n",
       " )}"
      ]
     },
     "execution_count": 337,
     "metadata": {},
     "output_type": "execute_result"
    }
   ],
   "source": [
    "model_by_logdynamic"
   ]
  },
  {
   "cell_type": "code",
   "execution_count": 345,
   "metadata": {},
   "outputs": [
    {
     "data": {
      "image/png": "[encoded data removed]",
      "text/plain": [
       "<Figure size 500x500 with 1 Axes>"
      ]
     },
     "metadata": {},
     "output_type": "display_data"
    },
    {
     "data": {
      "text/plain": [
       "{'r2_counts': 0.6289044618606567,\n",
       " 'r2_foldchange': -0.001452803611755371,\n",
       " 'r2_enr': -0.047147393226623535,\n",
       " 'r2_fc': 0.00046161110510426146,\n",
       " 'pearson_foldchange': 0.021485136841646168}"
      ]
     },
     "execution_count": 345,
     "metadata": {},
     "output_type": "execute_result"
    }
   ],
   "source": [
    "rcParams['figure.figsize'] = 5, 5\n",
    "mb.pl.kmer_enrichment(model_by_logdynamic[True], train, k=8, style='scatter')"
   ]
  },
  {
   "cell_type": "code",
   "execution_count": 346,
   "metadata": {},
   "outputs": [
    {
     "data": {
      "text/plain": [
       "tensor([[[0.2365, 0.2365, 0.2365, 0.2365, 0.2365, 0.2365, 0.2365, 0.2365,\n",
       "          0.2365, 0.2365, 0.2365, 0.2365, 0.2365, 0.2365, 0.2365, 0.2365,\n",
       "          0.2365, 0.2365, 0.2365, 0.2365, 0.2365, 0.2365, 0.2365, 0.2365,\n",
       "          0.2365, 0.2365, 0.2365, 0.2365, 0.2365, 0.2365, 0.2365, 0.2365,\n",
       "          0.2365, 0.2365, 0.2365, 0.2365, 0.2365, 0.2365, 0.2365, 0.2365,\n",
       "          0.2365, 0.2365, 0.2365, 0.2365, 0.2365, 0.2365, 0.2365, 0.2365,\n",
       "          0.2365, 0.2365, 0.2365, 0.2365, 0.2365, 0.2365, 0.2365, 0.2365,\n",
       "          0.2365, 0.2365, 0.2365, 0.2365, 0.2365, 0.2365, 0.2365, 0.2365,\n",
       "          0.2365, 0.2365, 0.2365, 0.2365, 0.2365, 0.2365, 0.2365, 0.2365,\n",
       "          0.2365, 0.2365, 0.2365, 0.2365, 0.2365, 0.2365, 0.2365, 0.2365,\n",
       "          0.2365, 0.2365, 0.2365, 0.2365, 0.2365, 0.2365, 0.2365, 0.2365,\n",
       "          0.2365, 0.2365, 0.2365, 0.2365, 0.2365, 0.2365, 0.2365, 0.2365,\n",
       "          0.2365, 0.2365, 0.2365, 0.2365, 0.2365, 0.2365, 0.2365, 0.2365,\n",
       "          0.2365, 0.2365, 0.2365, 0.2365, 0.2365, 0.2365, 0.2365, 0.2365,\n",
       "          0.2365, 0.2365, 0.2365, 0.2365, 0.2365, 0.2365, 0.2365, 0.2365,\n",
       "          0.2365, 0.2365, 0.2365, 0.2365, 0.2365, 0.2365, 0.2365, 0.2365,\n",
       "          0.2365, 0.2365, 0.2365, 0.2365, 0.2365, 0.2365, 0.2365, 0.2365,\n",
       "          0.2365, 0.2365, 0.2365, 0.2365, 0.2365, 0.2365, 0.2365, 0.2365,\n",
       "          0.2365, 0.2365, 0.2365, 0.2365, 0.2365, 0.2365, 0.2365, 0.2365,\n",
       "          0.2365, 0.2365, 0.2365, 0.2365, 0.2365, 0.2365, 0.2365, 0.2365,\n",
       "          0.2365, 0.2365, 0.2365, 0.2365, 0.2365, 0.2365, 0.2365, 0.2365,\n",
       "          0.2365, 0.2365, 0.2365, 0.2365, 0.2365, 0.2365, 0.2365, 0.2365,\n",
       "          0.2365, 0.2365, 0.2365, 0.2365, 0.2365, 0.2365, 0.2365, 0.2365,\n",
       "          0.2365, 0.2365, 0.2365, 0.2365, 0.2365, 0.2365, 0.2365, 0.2365,\n",
       "          0.2365, 0.2365, 0.2365, 0.2365, 0.2365, 0.2365, 0.2365, 0.2365,\n",
       "          0.2365, 0.2365, 0.2365, 0.2365, 0.2365, 0.2365, 0.2365, 0.2365,\n",
       "          0.2365, 0.2365, 0.2365, 0.2365, 0.2365, 0.2365, 0.2365, 0.2365,\n",
       "          0.2365, 0.2365, 0.2365, 0.2365, 0.2365, 0.2365, 0.2365, 0.2365,\n",
       "          0.2365, 0.2365, 0.2365, 0.2365, 0.2365, 0.2365, 0.2365, 0.2365,\n",
       "          0.2365, 0.2365, 0.2365, 0.2365, 0.2365, 0.2365, 0.2365, 0.2365,\n",
       "          0.2365, 0.2365, 0.2365, 0.2365, 0.2365, 0.2365, 0.2365, 0.2365,\n",
       "          0.2365, 0.2365, 0.2365, 0.2365, 0.2365, 0.2365, 0.2365]]],\n",
       "       device='cuda:0')"
      ]
     },
     "execution_count": 346,
     "metadata": {},
     "output_type": "execute_result"
    }
   ],
   "source": [
    "model.binding_modes.conv_mono[1](torch.ones((1, 4, 256)).cuda())"
   ]
  },
  {
   "cell_type": "code",
   "execution_count": 347,
   "metadata": {},
   "outputs": [],
   "source": [
    "lib_sizes = train.dataset.rounds.sum(axis=0).flatten()"
   ]
  },
  {
   "cell_type": "code",
   "execution_count": 348,
   "metadata": {},
   "outputs": [
    {
     "name": "stdout",
     "output_type": "stream",
     "text": [
      "dentategyrus_use_logdynamic_0_obs2930.pth\n",
      "dentategyrus_use_logdynamic_1_obs2930.pth\n"
     ]
    }
   ],
   "source": [
    "for use_logdynamic in [False, True]:\n",
    "    p = 'dentategyrus_use_logdynamic_%i_obs%i.pth' % (use_logdynamic, ad.shape[0])\n",
    "    print(p)\n",
    "    torch.save(model_by_logdynamic[use_logdynamic], p)"
   ]
  },
  {
   "cell_type": "code",
   "execution_count": 349,
   "metadata": {},
   "outputs": [
    {
     "data": {
      "text/plain": [
       "(2930, 13187)"
      ]
     },
     "execution_count": 349,
     "metadata": {},
     "output_type": "execute_result"
    }
   ],
   "source": [
    "ad.shape"
   ]
  },
  {
   "cell_type": "code",
   "execution_count": 350,
   "metadata": {},
   "outputs": [],
   "source": [
    "ad.write('dentategyrus_sample_train_obs%i.h5ad' % ad.shape[0])"
   ]
  },
  {
   "cell_type": "code",
   "execution_count": 352,
   "metadata": {},
   "outputs": [],
   "source": [
    "import pickle\n",
    "pickle.dump(train, open('dentategyrus_train_dataloader_obs%i.pkl' % ad.shape[0], 'wb'))"
   ]
  }
 ],
 "metadata": {
  "kernelspec": {
   "display_name": "Python [conda env:mubind]",
   "language": "python",
   "name": "conda-env-mubind-py"
  }
 },
 "nbformat": 4,
 "nbformat_minor": 4
}
