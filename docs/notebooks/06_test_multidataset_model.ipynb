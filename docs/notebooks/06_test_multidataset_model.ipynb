{
 "cells": [
  {
   "cell_type": "markdown",
   "id": "5cd12041-b667-4015-a17a-7f8bca5299b2",
   "metadata": {},
   "source": [
    "### Two datasets with a similar motif"
   ]
  },
  {
   "cell_type": "code",
   "execution_count": null,
   "id": "e8da11fa-1abf-4efa-a682-2bff281ae476",
   "metadata": {},
   "outputs": [
    {
     "ename": "",
     "evalue": "",
     "output_type": "error",
     "traceback": [
      "\u001b[1;31mFailed to connect to the remote Jupyter Server 'http://127.0.0.1:8888/'. Verify the server is running and reachable. (request to http://127.0.0.1:8888/api/sessions?1712577337311 failed, reason: connect ECONNREFUSED 127.0.0.1:8888)."
     ]
    }
   ],
   "source": [
    "%load_ext autoreload\n",
    "%autoreload 2"
   ]
  },
  {
   "cell_type": "code",
   "execution_count": null,
   "id": "c3c4c116-39b7-4fc3-bc94-e2cc0ddb2bf1",
   "metadata": {},
   "outputs": [
    {
     "ename": "",
     "evalue": "",
     "output_type": "error",
     "traceback": [
      "\u001b[1;31mFailed to connect to the remote Jupyter Server 'http://127.0.0.1:8888/'. Verify the server is running and reachable. (request to http://127.0.0.1:8888/api/sessions?1712577337311 failed, reason: connect ECONNREFUSED 127.0.0.1:8888)."
     ]
    }
   ],
   "source": [
    "import mubind as mb\n",
    "import numpy as np\n",
    "import pandas as pd\n",
    "\n",
    "import torch\n",
    "import torch.optim as topti\n",
    "import torch.utils.data as tdata\n",
    "import matplotlib.pyplot as plt\n",
    "import seaborn as sns\n",
    "from sklearn.metrics import r2_score\n",
    "\n",
    "# Use a GPU if available, as it should be faster.\n",
    "device = torch.device(\"cuda:0\" if torch.cuda.is_available() else \"cpu\")\n",
    "print(\"Using device: \" + str(device))"
   ]
  },
  {
   "cell_type": "code",
   "execution_count": null,
   "id": "fb49abd7-08c4-41d2-be49-5ecf003b6fef",
   "metadata": {},
   "outputs": [
    {
     "ename": "",
     "evalue": "",
     "output_type": "error",
     "traceback": [
      "\u001b[1;31mFailed to connect to the remote Jupyter Server 'http://127.0.0.1:8888/'. Verify the server is running and reachable. (request to http://127.0.0.1:8888/api/sessions?1712577337311 failed, reason: connect ECONNREFUSED 127.0.0.1:8888)."
     ]
    }
   ],
   "source": [
    "import random\n",
    "random.seed(500)\n",
    "\n",
    "n_batch = 3\n",
    "# batch sizes. Dataset 2 has many times more reads than Dataset 1\n",
    "batch_sizes = [5, 500, 5000]\n",
    "train1, test1 = mb.tl.create_simulated_data(motif='GATA', n_batch=n_batch, n_trials=1000, seqlen=10, batch_sizes=batch_sizes) # multiplier=100)\n",
    "# train2, test2 = mb.tl.create_simulated_data(motif='GATA', batch=1, n_trials=5000, seqlen=25) #  multiplier=5000)"
   ]
  },
  {
   "cell_type": "markdown",
   "id": "a607188a-e653-41d8-8032-0d07b95e7e06",
   "metadata": {},
   "source": [
    "### If treating y data as log, the convergence gets to the GATA motif in small sequences."
   ]
  },
  {
   "cell_type": "code",
   "execution_count": null,
   "id": "601a14d4-3482-48ed-8078-0b7f6573f634",
   "metadata": {},
   "outputs": [
    {
     "ename": "",
     "evalue": "",
     "output_type": "error",
     "traceback": [
      "\u001b[1;31mFailed to connect to the remote Jupyter Server 'http://127.0.0.1:8888/'. Verify the server is running and reachable. (request to http://127.0.0.1:8888/api/sessions?1712577337311 failed, reason: connect ECONNREFUSED 127.0.0.1:8888)."
     ]
    }
   ],
   "source": [
    "train1.dataset.target = np.log(train1.dataset.target)"
   ]
  },
  {
   "cell_type": "markdown",
   "id": "d8644438-285c-4696-9352-0c1e93fb6c14",
   "metadata": {},
   "source": [
    "### Library sizes"
   ]
  },
  {
   "cell_type": "code",
   "execution_count": null,
   "id": "f93c3300-f7d8-4f76-a492-4975f5532e52",
   "metadata": {},
   "outputs": [
    {
     "ename": "",
     "evalue": "",
     "output_type": "error",
     "traceback": [
      "\u001b[1;31mFailed to connect to the remote Jupyter Server 'http://127.0.0.1:8888/'. Verify the server is running and reachable. (request to http://127.0.0.1:8888/api/sessions?1712577337311 failed, reason: connect ECONNREFUSED 127.0.0.1:8888)."
     ]
    }
   ],
   "source": [
    "df = pd.DataFrame()\n",
    "df['y'] = train1.dataset.target\n",
    "df['batch'] = train1.dataset.batch\n",
    "sns.boxplot(data=df, x='batch', y='y')"
   ]
  },
  {
   "cell_type": "code",
   "execution_count": null,
   "id": "fb5e3b9c-7739-4d19-97f1-ccab0fb58d23",
   "metadata": {},
   "outputs": [
    {
     "ename": "",
     "evalue": "",
     "output_type": "error",
     "traceback": [
      "\u001b[1;31mFailed to connect to the remote Jupyter Server 'http://127.0.0.1:8888/'. Verify the server is running and reachable. (request to http://127.0.0.1:8888/api/sessions?1712577337311 failed, reason: connect ECONNREFUSED 127.0.0.1:8888)."
     ]
    }
   ],
   "source": [
    "net2 = mb.models.DinucMulti(use_dinuc=False, n_datasets=n_batch, w=7).to(device)\n",
    "net2.dataset.weight.data.uniform_(1, 1) # initialize weights as ones."
   ]
  },
  {
   "cell_type": "code",
   "execution_count": null,
   "id": "c070c60f-fbe6-40f9-86e6-5cc793046f2a",
   "metadata": {},
   "outputs": [
    {
     "ename": "",
     "evalue": "",
     "output_type": "error",
     "traceback": [
      "\u001b[1;31mFailed to connect to the remote Jupyter Server 'http://127.0.0.1:8888/'. Verify the server is running and reachable. (request to http://127.0.0.1:8888/api/sessions?1712577337311 failed, reason: connect ECONNREFUSED 127.0.0.1:8888)."
     ]
    }
   ],
   "source": [
    "mononuc = torch.Tensor(train1.dataset.mononuc).to(device)\n",
    "dinuc = torch.Tensor(train1.dataset.dinuc).to(device)\n",
    "b = torch.Tensor(train1.dataset.batch).to(torch.int64)\n",
    "y_true = torch.Tensor(train1.dataset.target)\n",
    "\n",
    "inputs = (mononuc, dinuc, b)\n",
    "y_pred = net2(inputs).detach().numpy()"
   ]
  },
  {
   "cell_type": "code",
   "execution_count": null,
   "id": "e1f7dc26-0bb1-45b4-a68e-2f29cb4d9aa4",
   "metadata": {},
   "outputs": [
    {
     "ename": "",
     "evalue": "",
     "output_type": "error",
     "traceback": [
      "\u001b[1;31mFailed to connect to the remote Jupyter Server 'http://127.0.0.1:8888/'. Verify the server is running and reachable. (request to http://127.0.0.1:8888/api/sessions?1712577337311 failed, reason: connect ECONNREFUSED 127.0.0.1:8888)."
     ]
    }
   ],
   "source": [
    "train1.dataset.batch.shape, train1.dataset.mononuc.shape\n",
    "net2.conv_mono(torch.unsqueeze(torch.Tensor(train1.dataset.mononuc), 1)).shape"
   ]
  },
  {
   "cell_type": "code",
   "execution_count": null,
   "id": "d5c9fe9c-f4ee-4c6d-9cec-6f39cccfb276",
   "metadata": {},
   "outputs": [
    {
     "ename": "",
     "evalue": "",
     "output_type": "error",
     "traceback": [
      "\u001b[1;31mFailed to connect to the remote Jupyter Server 'http://127.0.0.1:8888/'. Verify the server is running and reachable. (request to http://127.0.0.1:8888/api/sessions?1712577337311 failed, reason: connect ECONNREFUSED 127.0.0.1:8888)."
     ]
    }
   ],
   "source": [
    "optimiser = topti.Adam(net2.parameters(), lr=0.001, weight_decay=0.0001)\n",
    "criterion = mb.tl.PoissonLoss()\n",
    "l2 = []\n",
    "l2 += mb.tl.train_network(net2, train1, device, optimiser, criterion, num_epochs=5000, log_each=100)"
   ]
  },
  {
   "cell_type": "code",
   "execution_count": null,
   "id": "2dd2630d-f5c3-44f2-be38-b8a0b32c0952",
   "metadata": {},
   "outputs": [
    {
     "ename": "",
     "evalue": "",
     "output_type": "error",
     "traceback": [
      "\u001b[1;31mFailed to connect to the remote Jupyter Server 'http://127.0.0.1:8888/'. Verify the server is running and reachable. (request to http://127.0.0.1:8888/api/sessions?1712577337311 failed, reason: connect ECONNREFUSED 127.0.0.1:8888)."
     ]
    }
   ],
   "source": [
    "plt.plot(l2)"
   ]
  },
  {
   "cell_type": "code",
   "execution_count": null,
   "id": "74d1cdc3-ff98-4cbe-9b0e-2a25e64bdc3c",
   "metadata": {},
   "outputs": [
    {
     "ename": "",
     "evalue": "",
     "output_type": "error",
     "traceback": [
      "\u001b[1;31mFailed to connect to the remote Jupyter Server 'http://127.0.0.1:8888/'. Verify the server is running and reachable. (request to http://127.0.0.1:8888/api/sessions?1712577337311 failed, reason: connect ECONNREFUSED 127.0.0.1:8888)."
     ]
    }
   ],
   "source": [
    "## check the batch effects\n",
    "net2.dataset.weight"
   ]
  },
  {
   "cell_type": "code",
   "execution_count": null,
   "id": "bf6c75b1-c9d3-4777-8707-9f3b305b768a",
   "metadata": {},
   "outputs": [
    {
     "ename": "",
     "evalue": "",
     "output_type": "error",
     "traceback": [
      "\u001b[1;31mFailed to connect to the remote Jupyter Server 'http://127.0.0.1:8888/'. Verify the server is running and reachable. (request to http://127.0.0.1:8888/api/sessions?1712577337311 failed, reason: connect ECONNREFUSED 127.0.0.1:8888)."
     ]
    }
   ],
   "source": [
    "# print(np.exp(net2.log_weight_1.squeeze().cpu().detach().numpy()))\n",
    "# print(np.exp(net.log_weight_2.squeeze().cpu().detach().numpy()))\n",
    "#mb.tl.create_logo(net)\n",
    "#plt.show()\n",
    "#mb.tl.create_heatmap(net)\n",
    "import logomaker\n",
    "weights = net2.conv_mono.weight\n",
    "weights = weights.squeeze().cpu().detach().numpy()\n",
    "weights = pd.DataFrame(weights)\n",
    "weights.index = 'A', 'C', 'G', 'T'\n",
    "crp_logo = logomaker.Logo(weights.T, shade_below=.5, fade_below=.5)"
   ]
  },
  {
   "cell_type": "code",
   "execution_count": null,
   "id": "8726f873-f99e-4a5d-a867-633e432ea8e0",
   "metadata": {},
   "outputs": [
    {
     "ename": "",
     "evalue": "",
     "output_type": "error",
     "traceback": [
      "\u001b[1;31mFailed to connect to the remote Jupyter Server 'http://127.0.0.1:8888/'. Verify the server is running and reachable. (request to http://127.0.0.1:8888/api/sessions?1712577337311 failed, reason: connect ECONNREFUSED 127.0.0.1:8888)."
     ]
    }
   ],
   "source": [
    "from sklearn.metrics import r2_score"
   ]
  },
  {
   "cell_type": "code",
   "execution_count": null,
   "id": "94b3c232-cda2-4b74-83db-d92e2a9ed541",
   "metadata": {},
   "outputs": [
    {
     "ename": "",
     "evalue": "",
     "output_type": "error",
     "traceback": [
      "\u001b[1;31mFailed to connect to the remote Jupyter Server 'http://127.0.0.1:8888/'. Verify the server is running and reachable. (request to http://127.0.0.1:8888/api/sessions?1712577337311 failed, reason: connect ECONNREFUSED 127.0.0.1:8888)."
     ]
    }
   ],
   "source": [
    "net2.dataset.weight"
   ]
  },
  {
   "cell_type": "markdown",
   "id": "76bfd514-ea48-4990-a7c6-4125876208af",
   "metadata": {},
   "source": [
    "### Check the quality of the predictions, across datasets"
   ]
  },
  {
   "cell_type": "code",
   "execution_count": null,
   "id": "f9c167cf-13b1-4670-bbc6-6b76a3a7c9dc",
   "metadata": {},
   "outputs": [
    {
     "ename": "",
     "evalue": "",
     "output_type": "error",
     "traceback": [
      "\u001b[1;31mFailed to connect to the remote Jupyter Server 'http://127.0.0.1:8888/'. Verify the server is running and reachable. (request to http://127.0.0.1:8888/api/sessions?1712577337311 failed, reason: connect ECONNREFUSED 127.0.0.1:8888)."
     ]
    }
   ],
   "source": [
    "mononuc = torch.Tensor(train1.dataset.mononuc).to(device)\n",
    "dinuc = torch.Tensor(train1.dataset.dinuc).to(device)\n",
    "b = torch.Tensor(train1.dataset.batch).to(torch.int64)\n",
    "y_true = torch.Tensor(train1.dataset.target)\n",
    "inputs = (mononuc, dinuc, b)\n",
    "y_pred = net2(inputs).detach().numpy()"
   ]
  },
  {
   "cell_type": "code",
   "execution_count": null,
   "id": "6add61e2-559c-4cbd-b033-e565d109c1b4",
   "metadata": {},
   "outputs": [
    {
     "ename": "",
     "evalue": "",
     "output_type": "error",
     "traceback": [
      "\u001b[1;31mFailed to connect to the remote Jupyter Server 'http://127.0.0.1:8888/'. Verify the server is running and reachable. (request to http://127.0.0.1:8888/api/sessions?1712577337311 failed, reason: connect ECONNREFUSED 127.0.0.1:8888)."
     ]
    }
   ],
   "source": [
    "r2_score(y_true, y_pred)"
   ]
  },
  {
   "cell_type": "code",
   "execution_count": null,
   "id": "e30e15d5-da99-44d0-bd78-33e03122cb1e",
   "metadata": {},
   "outputs": [
    {
     "ename": "",
     "evalue": "",
     "output_type": "error",
     "traceback": [
      "\u001b[1;31mFailed to connect to the remote Jupyter Server 'http://127.0.0.1:8888/'. Verify the server is running and reachable. (request to http://127.0.0.1:8888/api/sessions?1712577337311 failed, reason: connect ECONNREFUSED 127.0.0.1:8888)."
     ]
    }
   ],
   "source": [
    "plt.scatter(y_true, y_pred, s=5, c=b)\n",
    "plt.xlabel('observed')\n",
    "plt.ylabel('predicted')"
   ]
  }
 ],
 "metadata": {
  "kernelspec": {
   "display_name": "mubind",
   "language": "python",
   "name": "mubind"
  }
 },
 "nbformat": 4,
 "nbformat_minor": 5
}
