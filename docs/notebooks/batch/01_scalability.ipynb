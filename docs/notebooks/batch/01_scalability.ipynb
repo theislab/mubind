{
 "cells": [
  {
   "cell_type": "code",
   "execution_count": 236,
   "outputs": [
    {
     "name": "stdout",
     "output_type": "stream",
     "text": [
      "The autoreload extension is already loaded. To reload it, use:\n",
      "  %reload_ext autoreload\n"
     ]
    }
   ],
   "source": [
    "%load_ext autoreload\n",
    "%autoreload 2"
   ],
   "metadata": {
    "collapsed": false,
    "pycharm": {
     "name": "#%%\n"
    }
   }
  },
  {
   "cell_type": "code",
   "execution_count": 237,
   "outputs": [
    {
     "name": "stdout",
     "output_type": "stream",
     "text": [
      "[Errno 2] No such file or directory: 'workspace/theislab/mubind/notebooks/batch'\n",
      "/mnt/c/Users/ignacio.ibarra/Dropbox/workspace/theislab/mubind/notebooks/batch\n"
     ]
    }
   ],
   "source": [
    "cd workspace/theislab/mubind/notebooks/batch"
   ],
   "metadata": {
    "collapsed": false,
    "pycharm": {
     "name": "#%%\n"
    }
   }
  },
  {
   "cell_type": "code",
   "execution_count": 238,
   "outputs": [
    {
     "name": "stdout",
     "output_type": "stream",
     "text": [
      "Using device: cuda:0\n"
     ]
    }
   ],
   "source": [
    "import mubind as mb\n",
    "import numpy as np\n",
    "import pandas as pd\n",
    "import torch\n",
    "import bindome as bd\n",
    "bd.constants.ANNOTATIONS_DIRECTORY = '../../annotations'\n",
    "# mb.models.Mubind\n",
    "import torch.optim as topti\n",
    "import torch.utils.data as tdata\n",
    "import matplotlib.pyplot as plt\n",
    "import logomaker\n",
    "\n",
    "# Use a GPU if available, as it should be faster.\n",
    "device = torch.device(\"cuda:0\" if torch.cuda.is_available() else \"cpu\")\n",
    "print(\"Using device: \" + str(device))"
   ],
   "metadata": {
    "collapsed": false,
    "pycharm": {
     "name": "#%%\n"
    }
   }
  },
  {
   "cell_type": "code",
   "execution_count": 239,
   "outputs": [
    {
     "name": "stdout",
     "output_type": "stream",
     "text": [
      "ALX1-ZeroCycle_TACCAA40NTTA_0_0-TACCAA40NTTA.tsv.gz (2500, 7)\n",
      "ALX1-ZeroCycle_TCCTTG40NGGT_0_0-TCCTTG40NGGT.tsv.gz (2500, 7)\n",
      "ALX4-ZeroCycle_ES0_TGTGTC20NGA_0-TGTGTC20NGA.tsv.gz (2500, 7)\n",
      "ALX4-ZeroCycle_TCTATT40NCAT_0_0-TCTATT40NCAT.tsv.gz (2500, 7)\n",
      "ALX4-ZeroCycle_TGCGTA40NTCA_0_0-TGCGTA40NTCA.tsv.gz (2500, 7)\n",
      "ALX4-ZeroCycle_TGTGTC20NGA_0_0-TGTGTC20NGA.tsv.gz (2500, 7)\n",
      "CTCF-ZeroCycle_ES0_TAGCGA20NGCT_0-TAGCGA20NGCT.tsv.gz (2500, 7)\n",
      "CTCF-ZeroCycle_TAGCGA20NGCT_0_0-TAGCGA20NGCT.tsv.gz (2500, 7)\n",
      "EGR1-ZeroCycle_ES0_TACTAT20NATC_0-TACTAT20NATC.tsv.gz (2500, 6)\n",
      "EGR1-ZeroCycle_ES0_TCTCTT20NGA_0-TCTCTT20NGA.tsv.gz (2500, 7)\n",
      "EGR1-ZeroCycle_TACTAT20NATC_0_0-TACTAT20NATC.tsv.gz (2500, 6)\n",
      "EGR1-ZeroCycle_TAGACA40NGTC_0_0-TAGACA40NGTC.tsv.gz (2500, 7)\n",
      "EGR1-ZeroCycle_TCAGCC40NTTC_0_0-TCAGCC40NTTC.tsv.gz (2500, 7)\n",
      "EGR1-ZeroCycle_TCCGCT40NGCG_0_0-TCCGCT40NGCG.tsv.gz (2500, 7)\n",
      "EGR1-ZeroCycle_TCTCTT20NGA_0_0-TCTCTT20NGA.tsv.gz (2500, 7)\n",
      "EGR1-ZeroCycle_TTGTAC40NGTA_0_0-TTGTAC40NGTA.tsv.gz (2500, 7)\n",
      "ELF2-ZeroCycle_TAGGAG40NAGT_0_0-TAGGAG40NAGT.tsv.gz (2500, 7)\n",
      "ELF2-ZeroCycle_TGAAAT40NCAA_0_0-TGAAAT40NCAA.tsv.gz (2500, 7)\n",
      "ELF2-ZeroCycle_TGCTTC40NTTA_0_0-TGCTTC40NTTA.tsv.gz (2500, 7)\n",
      "ELF2-ZeroCycle_TGTCCC40NGGT_0_0-TGTCCC40NGGT.tsv.gz (2500, 7)\n",
      "ELF2-ZeroCycle_TTAGCT40NCCT_0_0-TTAGCT40NCCT.tsv.gz (2500, 7)\n",
      "ELF2-ZeroCycle_TTCGCC40NGAC_0_0-TTCGCC40NGAC.tsv.gz (2500, 7)\n",
      "ELF3-ZeroCycle_ES0_TCCGTG20NTGC_0-TCCGTG20NTGC.tsv.gz (2500, 7)\n",
      "ELF3-ZeroCycle_TACATC40NATA_0_0-TACATC40NATA.tsv.gz (2500, 7)\n",
      "ELF3-ZeroCycle_TATGTA40NTGT_0_0-TATGTA40NTGT.tsv.gz (2500, 7)\n",
      "ELF3-ZeroCycle_TCCGTG20NTGC_0_0-TCCGTG20NTGC.tsv.gz (2500, 7)\n",
      "ELF3-ZeroCycle_TCCTCT40NGTC_0_0-TCCTCT40NGTC.tsv.gz (2500, 7)\n",
      "ELF3-ZeroCycle_TCTAAC40NACC_0_0-TCTAAC40NACC.tsv.gz (2500, 7)\n",
      "ELF4-ZeroCycle_TCAGCA40NCTC_0_0-TCAGCA40NCTC.tsv.gz (2500, 7)\n",
      "ELF4-ZeroCycle_TCTTCG40NGAT_0_0-TCTTCG40NGAT.tsv.gz (2500, 7)\n",
      "ELF4-ZeroCycle_TGCGGT40NTCA_0_0-TGCGGT40NTCA.tsv.gz (2500, 7)\n",
      "ELF4-ZeroCycle_TGTTAA40NACT_0_0-TGTTAA40NACT.tsv.gz (2500, 7)\n",
      "ELK1-ZeroCycle_ES0_TCGGAA20NAGT_0-TCGGAA20NAGT.tsv.gz (2500, 7)\n",
      "ELK1-ZeroCycle_ES0_TGAGTG20NTGA_0-TGAGTG20NTGA.tsv.gz (2500, 7)\n",
      "ELK1-ZeroCycle_TAGCAG30NACT_0_0-TAGCAG30NACT.tsv.gz (2500, 9)\n",
      "ELK1-ZeroCycle_TCAGTT40NTTG_0_0-TCAGTT40NTTG.tsv.gz (2500, 7)\n",
      "ELK1-ZeroCycle_TCGCAA40NTGT_0_0-TCGCAA40NTGT.tsv.gz (2500, 7)\n",
      "ELK1-ZeroCycle_TCGGAA20NAGT_0_0-TCGGAA20NAGT.tsv.gz (2500, 7)\n",
      "ELK1-ZeroCycle_TGAGCG40NTTG_0_0-TGAGCG40NTTG.tsv.gz (2500, 7)\n",
      "ELK1-ZeroCycle_TGAGTG20NTGA_0_0-TGAGTG20NTGA.tsv.gz (2500, 7)\n",
      "ELK1-ZeroCycle_TGCCGA40NGTA_0_0-TGCCGA40NGTA.tsv.gz (2500, 7)\n",
      "ELK1-ZeroCycle_TGGTAC40NTCT_0_0-TGGTAC40NTCT.tsv.gz (2500, 7)\n",
      "ELK1-ZeroCycle_TGTTAG40NACC_0_0-TGTTAG40NACC.tsv.gz (2500, 7)\n",
      "ELK3-ZeroCycle_ES0_TCGGGG20NGGT_0-TCGGGG20NGGT.tsv.gz (2500, 7)\n",
      "ELK3-ZeroCycle_TCATAA40NAGC_0_0-TCATAA40NAGC.tsv.gz (2500, 7)\n",
      "ELK3-ZeroCycle_TCCCTG40NGTA_0_0-TCCCTG40NGTA.tsv.gz (2500, 7)\n",
      "ELK3-ZeroCycle_TCGGGG20NGGT_0_0-TCGGGG20NGGT.tsv.gz (2500, 7)\n",
      "ELK3-ZeroCycle_TGTCAG40NGAC_0_0-TGTCAG40NGAC.tsv.gz (2500, 7)\n",
      "ELK3-ZeroCycle_TTCGAA40NGAC_0_0-TTCGAA40NGAC.tsv.gz (2500, 7)\n",
      "ELK3-ZeroCycle_TTGAAC40NGCT_0_0-TTGAAC40NGCT.tsv.gz (2500, 7)\n",
      "ELK3-ZeroCycle_TTGAAT40NTAC_0_0-TTGAAT40NTAC.tsv.gz (2500, 7)\n",
      "ETS1-ZeroCycle_ES0_TGTAAA20NGA_0-TGTAAA20NGA.tsv.gz (2500, 7)\n",
      "ETS1-ZeroCycle_ES0_TGTACC30NCAG_0-TGTACC30NCAG.tsv.gz (2500, 9)\n",
      "ETS1-ZeroCycle_TGTAAA20NGA_0_0-TGTAAA20NGA.tsv.gz (2500, 7)\n",
      "ETS1-ZeroCycle_TGTACC30NCAG_0_0-TGTACC30NCAG.tsv.gz (2500, 9)\n",
      "ETV4-ZeroCycle_ES0_TCTATG20NTAG_0-TCTATG20NTAG.tsv.gz (2500, 7)\n",
      "ETV4-ZeroCycle_TATACC40NGCC_0_0-TATACC40NGCC.tsv.gz (2500, 7)\n",
      "ETV4-ZeroCycle_TATGAC40NTCA_0_0-TATGAC40NTCA.tsv.gz (2500, 7)\n",
      "ETV4-ZeroCycle_TCTATG20NTAG_0_0-TCTATG20NTAG.tsv.gz (2500, 7)\n",
      "ETV4-ZeroCycle_TCTCGA40NCAT_0_0-TCTCGA40NCAT.tsv.gz (2500, 7)\n",
      "ETV4-ZeroCycle_TGGACG40NAAG_0_0-TGGACG40NAAG.tsv.gz (2500, 7)\n",
      "ETV4-ZeroCycle_TTCTCA40NCCT_0_0-TTCTCA40NCCT.tsv.gz (2500, 7)\n",
      "ETV4-ZeroCycle_TTTGCC40NTGA_0_0-TTTGCC40NTGA.tsv.gz (2500, 7)\n",
      "ETV5-ZeroCycle_ES0_TGCACT20NGA_0-TGCACT20NGA.tsv.gz (2500, 7)\n",
      "ETV5-ZeroCycle_TACATA40NAGA_0_0-TACATA40NAGA.tsv.gz (2500, 7)\n",
      "ETV5-ZeroCycle_TGAGGG40NCTT_0_0-TGAGGG40NCTT.tsv.gz (2500, 7)\n",
      "ETV5-ZeroCycle_TGCACT20NGA_0_0-TGCACT20NGA.tsv.gz (2500, 7)\n",
      "ETV6-ZeroCycle_ES0_TGAGTG20NGA_0-TGAGTG20NGA.tsv.gz (2500, 7)\n",
      "ETV6-ZeroCycle_TGAGTG20NGA_0_0-TGAGTG20NGA.tsv.gz (2500, 7)\n",
      "FOXA1-ZeroCycle_TAGCGT40NTCA_0_0-TAGCGT40NTCA.tsv.gz (2500, 7)\n",
      "FOXA1-ZeroCycle_TCCCAA40NGAA_0_0-TCCCAA40NGAA.tsv.gz (2500, 7)\n",
      "FOXA1-ZeroCycle_TCCCAT40NTGT_0_0-TCCCAT40NTGT.tsv.gz (2500, 7)\n",
      "FOXA1-ZeroCycle_TTCTAA40NAAT_0_0-TTCTAA40NAAT.tsv.gz (2500, 7)\n"
     ]
    }
   ],
   "source": [
    "import os\n",
    "\n",
    "df = []\n",
    "basedir = '../../../mubind-pipeline/output/snakemake/SELEX'\n",
    "batch = 0\n",
    "for tf in os.listdir(basedir):\n",
    "    for f in os.listdir(os.path.join(basedir, tf)):\n",
    "        if f.endswith('.tsv.gz'):\n",
    "            df2 = pd.read_csv(os.path.join(basedir, tf, f), sep='\\t', index_col=0) # .head(100)\n",
    "            print(f, df2.shape)\n",
    "            assert 'batch' in df2\n",
    "            # print(df2.columns)\n",
    "            n_rounds = len(df2.columns) - 2\n",
    "            df2.columns =  list(range(n_rounds)) + ['batch', 'is_count_data']\n",
    "            df2['batch'] = batch\n",
    "            df2['n_rounds'] = n_rounds\n",
    "            batch += 1\n",
    "            df.append(df2)\n",
    "\n",
    "# concatenation/reordering\n",
    "df = pd.concat(df)\n",
    "df = df[[c for c in df.columns if not c in ['batch', 'is_count_data', 'n_rounds']] + ['batch', 'is_count_data', 'n_rounds']]"
   ],
   "metadata": {
    "collapsed": false,
    "pycharm": {
     "name": "#%%\n"
    }
   }
  },
  {
   "cell_type": "code",
   "execution_count": 240,
   "outputs": [],
   "source": [
    "dataset = mb.datasets.SelexDataset(df, n_rounds=df['n_rounds'], labels=list(df.columns[:-3]))\n",
    "train = tdata.DataLoader(dataset=dataset,\n",
    "                         # batch_size=256,\n",
    "                         batch_size=512,\n",
    "                         shuffle=False)"
   ],
   "metadata": {
    "collapsed": false,
    "pycharm": {
     "name": "#%%\n"
    }
   }
  },
  {
   "cell_type": "code",
   "execution_count": 241,
   "outputs": [],
   "source": [
    "import warnings\n",
    "warnings.filterwarnings('ignore')"
   ],
   "metadata": {
    "collapsed": false,
    "pycharm": {
     "name": "#%%\n"
    }
   }
  },
  {
   "cell_type": "code",
   "execution_count": 242,
   "outputs": [],
   "source": [
    "import numpy as np"
   ],
   "metadata": {
    "collapsed": false,
    "pycharm": {
     "name": "#%%\n"
    }
   }
  },
  {
   "cell_type": "code",
   "execution_count": 243,
   "outputs": [
    {
     "name": "stdout",
     "output_type": "stream",
     "text": [
      "The line_profiler extension is already loaded. To reload it, use:\n",
      "  %reload_ext line_profiler\n"
     ]
    }
   ],
   "source": [
    "%load_ext line_profiler\n"
   ],
   "metadata": {
    "collapsed": false,
    "pycharm": {
     "name": "#%%\n"
    }
   }
  },
  {
   "cell_type": "code",
   "execution_count": 244,
   "outputs": [
    {
     "data": {
      "text/plain": "444"
     },
     "execution_count": 244,
     "metadata": {},
     "output_type": "execute_result"
    }
   ],
   "source": [
    "import gc\n",
    "gc.collect()"
   ],
   "metadata": {
    "collapsed": false,
    "pycharm": {
     "name": "#%%\n"
    }
   }
  },
  {
   "cell_type": "code",
   "execution_count": 245,
   "outputs": [
    {
     "name": "stdout",
     "output_type": "stream",
     "text": [
      "total entries (182500, 7)\n"
     ]
    }
   ],
   "source": [
    "print('total entries', dataset.rounds.shape)"
   ],
   "metadata": {
    "collapsed": false,
    "pycharm": {
     "name": "#%%\n"
    }
   }
  },
  {
   "cell_type": "code",
   "execution_count": null,
   "outputs": [
    {
     "name": "stdout",
     "output_type": "stream",
     "text": [
      "\n",
      "\n",
      "##NEW JOB\n",
      "ignore kernel 1\n",
      "next w 15 <class 'int'>\n",
      "# rounds {4, 5, 7}\n",
      "# batches 73\n",
      "# kernels 3\n",
      "# initial w 15\n",
      "# enr_series True\n",
      "\n",
      "Kernel to optimize 0\n",
      "\n",
      "FREEZING KERNELS\n",
      "optimizing feature type mono\n",
      "setting grad status of kernel mono at 0 to 1\n",
      "setting grad status of kernel dinuc at 0 to 0\n",
      "setting grad status of kernel mono at 1 to 0\n",
      "setting grad status of kernel dinuc at 1 to 0\n",
      "setting grad status of kernel mono at 2 to 0\n",
      "setting grad status of kernel dinuc at 2 to 0\n",
      "\n",
      "\n",
      "kernels mask [0 1 1]\n",
      "optimizing using <class 'torch.optim.adam.Adam'> and <class 'mubind.tl.loss.PoissonLoss'> n_epochs 50 early_stopping 5\n",
      "lr= 0.01, weight_decay= 0.01, dir weight= 0\n",
      "Epoch:  3, Loss: 4.609054 , best epoch: 1 secs per epoch: 7.073 s\n",
      "Epoch:  5, Loss: 4.603986 , best epoch: 3 secs per epoch: 5.705 s\n",
      "Epoch:  7, Loss: 4.602979 , best epoch: 5 secs per epoch: 5.258 s\n",
      "Epoch:  9, Loss: 4.602657 , best epoch: 7 secs per epoch: 5.107 s\n",
      "Epoch: 11, Loss: 4.602526 , best epoch: 9 secs per epoch: 5.007 s\n",
      "Epoch: 13, Loss: 4.602467 , best epoch: 11 secs per epoch: 4.896 s\n",
      "Epoch: 15, Loss: 4.602439 , best epoch: 13 secs per epoch: 4.813 s\n",
      "Epoch: 17, Loss: 4.602425 , best epoch: 15 secs per epoch: 4.754 s\n",
      "Epoch: 19, Loss: 4.602419 , best epoch: 17 secs per epoch: 4.707 s\n",
      "Epoch: 21, Loss: 4.602416 , best epoch: 19 secs per epoch: 4.668 s\n",
      "Epoch: 23, Loss: 4.602414 , best epoch: 21 secs per epoch: 4.638 s\n",
      "Epoch: 25, Loss: 4.602413 , best epoch: 23 secs per epoch: 4.618 s\n",
      "Epoch: 27, Loss: 4.602413 , best epoch: 25 secs per epoch: 4.599 s\n",
      "Epoch: 29, Loss: 4.602413 , best epoch: 27 secs per epoch: 4.580 s\n",
      "Epoch: 31, Loss: 4.602413 , best epoch: 29 secs per epoch: 4.572 s\n",
      "Epoch: 33, Loss: 4.602413 , best epoch: 31 secs per epoch: 4.567 s\n",
      "Epoch: 35, Loss: 4.602413 , best epoch: 33 secs per epoch: 4.561 s\n",
      "Epoch: 37, Loss: 4.602413 , best epoch: 35 secs per epoch: 4.562 s\n",
      "Epoch: 39, Loss: 4.602413 , best epoch: 37 secs per epoch: 4.565 s\n",
      "Epoch: 41, Loss: 4.602413 , best epoch: 39 secs per epoch: 4.540 s\n",
      "Epoch: 43, Loss: 4.602413 , best epoch: 40 secs per epoch: 4.518 s\n",
      "Epoch: 45, Loss: 4.602413 , best epoch: 42 secs per epoch: 4.499 s\n",
      "Epoch: 47, Loss: 4.602413 , best epoch: 42 secs per epoch: 4.483 s\n",
      "Epoch: 49, Loss: 4.602413 , best epoch: 46 secs per epoch: 4.467 s\n",
      "total time: 218.53833150863647s 50\n",
      "secs per epoch: 4.460 s\n",
      "optimization of dinuc is not necessary for the intercepts (kernel=0). Skip...\n",
      "\n",
      "Kernel to optimize 1\n",
      "\n",
      "FREEZING KERNELS\n",
      "optimizing feature type mono\n",
      "setting grad status of kernel mono at 0 to 0\n",
      "setting grad status of kernel dinuc at 0 to 0\n",
      "setting grad status of kernel mono at 1 to 1\n",
      "setting grad status of kernel dinuc at 1 to 0\n",
      "setting grad status of kernel mono at 2 to 0\n",
      "setting grad status of kernel dinuc at 2 to 0\n",
      "\n",
      "\n",
      "kernels mask [0 0 1]\n",
      "optimizing using <class 'torch.optim.adam.Adam'> and <class 'mubind.tl.loss.PoissonLoss'> n_epochs 50 early_stopping 25\n",
      "lr= 0.001, weight_decay= 0.001, dir weight= 0\n",
      "Epoch:  3, Loss: 3.954671 , best epoch: 1 secs per epoch: 6.600 s\n",
      "Epoch:  5, Loss: 3.852234 , best epoch: 3 secs per epoch: 5.295 s\n",
      "Epoch:  7, Loss: 3.759777 , best epoch: 5 secs per epoch: 4.840 s\n",
      "Epoch:  9, Loss: 3.673021 , best epoch: 7 secs per epoch: 4.610 s\n",
      "Epoch: 11, Loss: 3.590925 , best epoch: 9 secs per epoch: 4.483 s\n",
      "Epoch: 13, Loss: 3.512965 , best epoch: 11 secs per epoch: 4.392 s\n",
      "Epoch: 15, Loss: 3.438766 , best epoch: 13 secs per epoch: 4.331 s\n",
      "Epoch: 17, Loss: 3.368030 , best epoch: 15 secs per epoch: 4.285 s\n",
      "Epoch: 19, Loss: 3.300520 , best epoch: 17 secs per epoch: 4.248 s\n",
      "Epoch: 21, Loss: 3.236045 , best epoch: 19 secs per epoch: 4.231 s\n",
      "Epoch: 23, Loss: 3.174436 , best epoch: 21 secs per epoch: 4.211 s\n",
      "Epoch: 25, Loss: 3.115546 , best epoch: 23 secs per epoch: 4.205 s\n",
      "Epoch: 27, Loss: 3.059240 , best epoch: 25 secs per epoch: 4.186 s\n",
      "Epoch: 29, Loss: 3.005394 , best epoch: 27 secs per epoch: 4.173 s\n",
      "Epoch: 31, Loss: 2.953898 , best epoch: 29 secs per epoch: 4.160 s\n",
      "Epoch: 33, Loss: 2.904648 , best epoch: 31 secs per epoch: 4.149 s\n",
      "Epoch: 35, Loss: 2.857548 , best epoch: 33 secs per epoch: 4.138 s\n",
      "Epoch: 37, Loss: 2.812509 , best epoch: 35 secs per epoch: 4.128 s\n",
      "Epoch: 39, Loss: 2.769447 , best epoch: 37 secs per epoch: 4.119 s\n",
      "Epoch: 41, Loss: 2.728286 , best epoch: 39 secs per epoch: 4.110 s\n",
      "Epoch: 43, Loss: 2.688950 , best epoch: 41 secs per epoch: 4.102 s\n",
      "Epoch: 45, Loss: 2.651371 , best epoch: 43 secs per epoch: 4.098 s\n",
      "Epoch: 47, Loss: 2.615482 , best epoch: 45 secs per epoch: 4.095 s\n",
      "Epoch: 49, Loss: 2.581221 , best epoch: 47 secs per epoch: 4.089 s\n",
      "total time: 200.2474114894867s 50\n",
      "secs per epoch: 4.087 s\n",
      "\n",
      "FILTER SHIFT OPTIMIZATION (first)...\n",
      "next expand left: 1, next expand right: 1, shift: 0\n",
      "optimizing using <class 'torch.optim.adam.Adam'> and <class 'mubind.tl.loss.PoissonLoss'> n_epochs 50 early_stopping 25\n",
      "lr= 0.001, weight_decay= 0.001, dir weight= 0\n",
      "Epoch:  3, Loss: 2.710154 , best epoch: 1 secs per epoch: 6.417 s\n",
      "Epoch:  5, Loss: 2.671395 , best epoch: 3 secs per epoch: 5.178 s\n",
      "Epoch:  7, Loss: 2.633026 , best epoch: 5 secs per epoch: 4.751 s\n",
      "Epoch:  9, Loss: 2.596168 , best epoch: 7 secs per epoch: 4.551 s\n",
      "Epoch: 11, Loss: 2.561068 , best epoch: 9 secs per epoch: 4.471 s\n",
      "Epoch: 13, Loss: 2.527752 , best epoch: 11 secs per epoch: 4.384 s\n",
      "Epoch: 15, Loss: 2.496169 , best epoch: 13 secs per epoch: 4.315 s\n",
      "Epoch: 17, Loss: 2.466242 , best epoch: 15 secs per epoch: 4.265 s\n",
      "Epoch: 19, Loss: 2.437890 , best epoch: 17 secs per epoch: 4.228 s\n",
      "Epoch: 21, Loss: 2.411030 , best epoch: 19 secs per epoch: 4.197 s\n",
      "Epoch: 23, Loss: 2.385585 , best epoch: 21 secs per epoch: 4.173 s\n",
      "Epoch: 25, Loss: 2.361479 , best epoch: 23 secs per epoch: 4.150 s\n",
      "Epoch: 27, Loss: 2.338645 , best epoch: 25 secs per epoch: 4.134 s\n",
      "Epoch: 29, Loss: 2.317015 , best epoch: 27 secs per epoch: 4.118 s\n",
      "Epoch: 31, Loss: 2.296528 , best epoch: 29 secs per epoch: 4.103 s\n",
      "Epoch: 33, Loss: 2.277126 , best epoch: 31 secs per epoch: 4.091 s\n",
      "Epoch: 35, Loss: 2.258751 , best epoch: 33 secs per epoch: 4.081 s\n",
      "Epoch: 37, Loss: 2.241353 , best epoch: 35 secs per epoch: 4.071 s\n",
      "Epoch: 39, Loss: 2.224880 , best epoch: 37 secs per epoch: 4.063 s\n",
      "Epoch: 41, Loss: 2.209285 , best epoch: 39 secs per epoch: 4.056 s\n",
      "Epoch: 43, Loss: 2.194522 , best epoch: 41 secs per epoch: 4.049 s\n",
      "Epoch: 45, Loss: 2.180548 , best epoch: 43 secs per epoch: 4.045 s\n",
      "Epoch: 47, Loss: 2.167322 , best epoch: 45 secs per epoch: 4.044 s\n",
      "Epoch: 49, Loss: 2.154804 , best epoch: 47 secs per epoch: 4.048 s\n",
      "total time: 198.25058245658875s 50\n",
      "secs per epoch: 4.046 s\n",
      "after opt.\n",
      "next expand left: 1, next expand right: 2, shift: 0\n",
      "optimizing using <class 'torch.optim.adam.Adam'> and <class 'mubind.tl.loss.PoissonLoss'> n_epochs 50 early_stopping 25\n",
      "lr= 0.001, weight_decay= 0.001, dir weight= 0\n",
      "Epoch:  3, Loss: 2.710063 , best epoch: 1 secs per epoch: 6.411 s\n",
      "Epoch:  5, Loss: 2.671299 , best epoch: 3 secs per epoch: 5.174 s\n",
      "Epoch:  7, Loss: 2.632927 , best epoch: 5 secs per epoch: 4.772 s\n",
      "Epoch:  9, Loss: 2.596065 , best epoch: 7 secs per epoch: 4.565 s\n",
      "Epoch: 11, Loss: 2.560962 , best epoch: 9 secs per epoch: 4.434 s\n",
      "Epoch: 13, Loss: 2.527643 , best epoch: 11 secs per epoch: 4.350 s\n",
      "Epoch: 15, Loss: 2.496056 , best epoch: 13 secs per epoch: 4.292 s\n",
      "Epoch: 17, Loss: 2.466126 , best epoch: 15 secs per epoch: 4.242 s\n",
      "Epoch: 19, Loss: 2.437771 , best epoch: 17 secs per epoch: 4.206 s\n",
      "Epoch: 21, Loss: 2.410908 , best epoch: 19 secs per epoch: 4.180 s\n",
      "Epoch: 23, Loss: 2.385459 , best epoch: 21 secs per epoch: 4.159 s\n",
      "Epoch: 25, Loss: 2.361351 , best epoch: 23 secs per epoch: 4.140 s\n",
      "Epoch: 27, Loss: 2.338513 , best epoch: 25 secs per epoch: 4.123 s\n",
      "Epoch: 29, Loss: 2.316881 , best epoch: 27 secs per epoch: 4.109 s\n",
      "Epoch: 31, Loss: 2.296391 , best epoch: 29 secs per epoch: 4.098 s\n",
      "Epoch: 33, Loss: 2.276986 , best epoch: 31 secs per epoch: 4.088 s\n",
      "Epoch: 35, Loss: 2.258610 , best epoch: 33 secs per epoch: 4.098 s\n",
      "Epoch: 37, Loss: 2.241209 , best epoch: 35 secs per epoch: 4.132 s\n",
      "Epoch: 39, Loss: 2.224734 , best epoch: 37 secs per epoch: 4.132 s\n",
      "Epoch: 41, Loss: 2.209136 , best epoch: 39 secs per epoch: 4.172 s\n",
      "Epoch: 43, Loss: 2.194371 , best epoch: 41 secs per epoch: 4.191 s\n",
      "Epoch: 45, Loss: 2.180395 , best epoch: 43 secs per epoch: 4.199 s\n",
      "Epoch: 47, Loss: 2.167167 , best epoch: 45 secs per epoch: 4.231 s\n",
      "Epoch: 49, Loss: 2.154647 , best epoch: 47 secs per epoch: 4.236 s\n",
      "total time: 208.18993473052979s 50\n",
      "secs per epoch: 4.249 s\n",
      "after opt.\n",
      "next expand left: 2, next expand right: 1, shift: 0\n",
      "optimizing using <class 'torch.optim.adam.Adam'> and <class 'mubind.tl.loss.PoissonLoss'> n_epochs 50 early_stopping 25\n",
      "lr= 0.001, weight_decay= 0.001, dir weight= 0\n",
      "Epoch:  3, Loss: 2.710063 , best epoch: 1 secs per epoch: 7.489 s\n",
      "Epoch:  5, Loss: 2.671299 , best epoch: 3 secs per epoch: 5.933 s\n",
      "Epoch:  7, Loss: 2.632927 , best epoch: 5 secs per epoch: 5.441 s\n",
      "Epoch:  9, Loss: 2.596065 , best epoch: 7 secs per epoch: 5.185 s\n",
      "Epoch: 11, Loss: 2.560962 , best epoch: 9 secs per epoch: 5.015 s\n",
      "Epoch: 13, Loss: 2.527643 , best epoch: 11 secs per epoch: 4.902 s\n",
      "Epoch: 15, Loss: 2.496056 , best epoch: 13 secs per epoch: 4.826 s\n",
      "Epoch: 17, Loss: 2.466126 , best epoch: 15 secs per epoch: 4.761 s\n",
      "Epoch: 19, Loss: 2.437771 , best epoch: 17 secs per epoch: 4.741 s\n",
      "Epoch: 21, Loss: 2.410908 , best epoch: 19 secs per epoch: 4.730 s\n",
      "Epoch: 23, Loss: 2.385459 , best epoch: 21 secs per epoch: 4.722 s\n",
      "Epoch: 25, Loss: 2.361351 , best epoch: 23 secs per epoch: 4.702 s\n",
      "Epoch: 27, Loss: 2.338513 , best epoch: 25 secs per epoch: 4.682 s\n",
      "Epoch: 29, Loss: 2.316881 , best epoch: 27 secs per epoch: 4.689 s\n",
      "Epoch: 31, Loss: 2.296391 , best epoch: 29 secs per epoch: 4.700 s\n",
      "Epoch: 33, Loss: 2.276986 , best epoch: 31 secs per epoch: 4.701 s\n",
      "Epoch: 35, Loss: 2.258610 , best epoch: 33 secs per epoch: 4.666 s\n",
      "Epoch: 37, Loss: 2.241209 , best epoch: 35 secs per epoch: 4.646 s\n",
      "Epoch: 39, Loss: 2.224734 , best epoch: 37 secs per epoch: 4.628 s\n",
      "Epoch: 41, Loss: 2.209136 , best epoch: 39 secs per epoch: 4.610 s\n",
      "Epoch: 43, Loss: 2.194371 , best epoch: 41 secs per epoch: 4.589 s\n",
      "Epoch: 45, Loss: 2.180395 , best epoch: 43 secs per epoch: 4.576 s\n",
      "Epoch: 47, Loss: 2.167167 , best epoch: 45 secs per epoch: 4.557 s\n",
      "Epoch: 49, Loss: 2.154647 , best epoch: 47 secs per epoch: 4.539 s\n",
      "total time: 221.92782711982727s 50\n",
      "secs per epoch: 4.529 s\n",
      "after opt.\n",
      "next expand left: 2, next expand right: 2, shift: 0\n",
      "optimizing using <class 'torch.optim.adam.Adam'> and <class 'mubind.tl.loss.PoissonLoss'> n_epochs 50 early_stopping 25\n",
      "lr= 0.001, weight_decay= 0.001, dir weight= 0\n",
      "Epoch:  3, Loss: 2.709980 , best epoch: 1 secs per epoch: 6.802 s\n",
      "Epoch:  5, Loss: 2.671214 , best epoch: 3 secs per epoch: 5.515 s\n",
      "Epoch:  7, Loss: 2.632838 , best epoch: 5 secs per epoch: 5.034 s\n",
      "Epoch:  9, Loss: 2.595972 , best epoch: 7 secs per epoch: 4.823 s\n",
      "Epoch: 11, Loss: 2.560866 , best epoch: 9 secs per epoch: 4.730 s\n",
      "Epoch: 13, Loss: 2.527544 , best epoch: 11 secs per epoch: 4.619 s\n",
      "Epoch: 15, Loss: 2.495954 , best epoch: 13 secs per epoch: 4.548 s\n",
      "Epoch: 17, Loss: 2.466021 , best epoch: 15 secs per epoch: 4.497 s\n",
      "Epoch: 19, Loss: 2.437663 , best epoch: 17 secs per epoch: 4.465 s\n",
      "Epoch: 21, Loss: 2.410797 , best epoch: 19 secs per epoch: 4.446 s\n",
      "Epoch: 23, Loss: 2.385346 , best epoch: 21 secs per epoch: 4.433 s\n",
      "Epoch: 25, Loss: 2.361235 , best epoch: 23 secs per epoch: 4.419 s\n",
      "Epoch: 27, Loss: 2.338395 , best epoch: 25 secs per epoch: 4.413 s\n",
      "Epoch: 29, Loss: 2.316760 , best epoch: 27 secs per epoch: 4.417 s\n",
      "Epoch: 31, Loss: 2.296268 , best epoch: 29 secs per epoch: 4.415 s\n",
      "Epoch: 33, Loss: 2.276860 , best epoch: 31 secs per epoch: 4.426 s\n",
      "Epoch: 35, Loss: 2.258482 , best epoch: 33 secs per epoch: 4.445 s\n",
      "Epoch: 37, Loss: 2.241079 , best epoch: 35 secs per epoch: 4.436 s\n",
      "Epoch: 39, Loss: 2.224602 , best epoch: 37 secs per epoch: 4.435 s\n",
      "Epoch: 41, Loss: 2.209002 , best epoch: 39 secs per epoch: 4.441 s\n",
      "Epoch: 43, Loss: 2.194235 , best epoch: 41 secs per epoch: 4.431 s\n",
      "Epoch: 45, Loss: 2.180257 , best epoch: 43 secs per epoch: 4.435 s\n",
      "Epoch: 47, Loss: 2.167027 , best epoch: 45 secs per epoch: 4.433 s\n",
      "Epoch: 49, Loss: 2.154506 , best epoch: 47 secs per epoch: 4.432 s\n",
      "total time: 217.007182598114s 50\n",
      "secs per epoch: 4.429 s\n",
      "after opt.\n",
      "sorted\n",
      "   expand.left  expand.right  shift      loss\n",
      "0            2             2      0  2.148499\n",
      "1            2             1      0  2.148641\n",
      "2            1             2      0  2.148641\n",
      "3            1             1      0  2.148799\n",
      "4            0             0      0  2.564682\n",
      "action: (2, 2, 0)\n",
      "\n",
      "\n",
      "FILTER SHIFT OPTIMIZATION (again)...\n",
      "sorted\n",
      "   expand.left  expand.right  shift      loss\n",
      "0            0             0      0  2.148499\n",
      "action: (0, 0, 0)\n",
      "\n",
      "\n",
      "FILTER SHIFT OPTIMIZATION (first)...\n",
      "sorted\n",
      "   expand.left  expand.right  shift      loss\n",
      "0            0             0      0  2.148499\n",
      "action: (0, 0, 0)\n",
      "\n",
      "\n",
      "\n",
      "final refinement step (after shift)...\n",
      "\n",
      "unfreezing all layers for final refinement\n",
      "kernel grad (0) = 1 \n",
      "kernel grad (1) = 1 \n",
      "kernel grad (2) = 1 \n",
      "\n",
      "kernels mask [0 0 1]\n",
      "kernels mask [0 0 1]\n",
      "optimizing using <class 'torch.optim.adam.Adam'> and <class 'mubind.tl.loss.PoissonLoss'> n_epochs 50 early_stopping 25\n",
      "lr= 0.001, weight_decay= 0.001, dir weight= 0\n",
      "Epoch:  3, Loss: 2.188308 , best epoch: 1 secs per epoch: 7.448 s\n",
      "Epoch:  5, Loss: 2.181704 , best epoch: 3 secs per epoch: 5.878 s\n",
      "Epoch:  7, Loss: 2.175236 , best epoch: 5 secs per epoch: 5.376 s\n",
      "Epoch:  9, Loss: 2.169226 , best epoch: 7 secs per epoch: 5.099 s\n",
      "Epoch: 11, Loss: 2.163720 , best epoch: 9 secs per epoch: 4.902 s\n",
      "Epoch: 13, Loss: 2.158691 , best epoch: 11 secs per epoch: 4.758 s\n",
      "Epoch: 15, Loss: 2.154097 , best epoch: 13 secs per epoch: 4.646 s\n",
      "Epoch: 17, Loss: 2.149892 , best epoch: 15 secs per epoch: 4.581 s\n",
      "Epoch: 19, Loss: 2.146035 , best epoch: 17 secs per epoch: 4.527 s\n",
      "Epoch: 21, Loss: 2.142486 , best epoch: 19 secs per epoch: 4.487 s\n",
      "Epoch: 23, Loss: 2.139213 , best epoch: 21 secs per epoch: 4.461 s\n",
      "Epoch: 25, Loss: 2.136186 , best epoch: 23 secs per epoch: 4.433 s\n",
      "Epoch: 27, Loss: 2.133381 , best epoch: 25 secs per epoch: 4.407 s\n",
      "Epoch: 29, Loss: 2.130775 , best epoch: 27 secs per epoch: 4.391 s\n",
      "Epoch: 31, Loss: 2.128351 , best epoch: 29 secs per epoch: 4.399 s\n",
      "Epoch: 33, Loss: 2.126091 , best epoch: 31 secs per epoch: 4.384 s\n",
      "Epoch: 35, Loss: 2.123982 , best epoch: 33 secs per epoch: 4.394 s\n",
      "Epoch: 37, Loss: 2.122009 , best epoch: 35 secs per epoch: 4.374 s\n",
      "Epoch: 39, Loss: 2.120163 , best epoch: 37 secs per epoch: 4.359 s\n",
      "Epoch: 41, Loss: 2.118432 , best epoch: 39 secs per epoch: 4.341 s\n",
      "Epoch: 43, Loss: 2.116809 , best epoch: 41 secs per epoch: 4.326 s\n",
      "Epoch: 45, Loss: 2.115284 , best epoch: 43 secs per epoch: 4.312 s\n",
      "Epoch: 47, Loss: 2.113851 , best epoch: 45 secs per epoch: 812.216 s\n"
     ]
    }
   ],
   "source": [
    "# assign batch and data type\n",
    "\n",
    "# data['batch'] = 0\n",
    "# data['is_count_data'] = 1\n",
    "# n_batches=3\n",
    "\n",
    "dirichlet_regularization = 0\n",
    "# for dirichlet_regularization_log in range(-5, 3):\n",
    "\n",
    "n_epochs = 50\n",
    "log_each = 2\n",
    "n_kernels = 3\n",
    "lr = [0.01] * n_kernels\n",
    "wd = [0.01,] + [0.001] * (n_kernels - 1)\n",
    "early_stopping = [5,] + [25] * (n_kernels - 1)\n",
    "w = 15 # min(len(motif), 6)\n",
    "opt_kernel_shift = 1\n",
    "opt_kernel_length = 1\n",
    "\n",
    "from matplotlib import rcParams\n",
    "rcParams['figure.figsize'] = 8, 1\n",
    "\n",
    "import time\n",
    "t0 = time.time()\n",
    "\n",
    "criterion = mb.tl.PoissonLoss()\n",
    "\n",
    "for ignore_kernel in [1]: # [0, 1]:\n",
    "    print('\\n\\n##NEW JOB')\n",
    "    print('ignore kernel', ignore_kernel)\n",
    "    model_by_k, res_next = mb.tl.optimize_iterative(train, device, w=w, show_logo=0, criterion=criterion,\n",
    "                                                 opt_kernel_shift=opt_kernel_shift, opt_kernel_length=opt_kernel_length,\n",
    "                                                 dirichlet_regularization=dirichlet_regularization, # 10 ** dirichlet_regularization_log,\n",
    "                                                 lr=wd, weight_decay=wd, ignore_kernel=ignore_kernel, use_mono=True,\n",
    "                                                 num_epochs=n_epochs, early_stopping=early_stopping, use_dinuc=True, # optimiser=torch.optim.LBFGS,\n",
    "                                                 n_kernels=n_kernels, log_each=log_each, stop_at_kernel=None) #  seed=seed) # seeds.index[0]) #\n",
    "    print('##DONE....\\n\\n')\n",
    "\n",
    "\n",
    "print('total time: %.3f s' % ((time.time() - t0)))\n",
    "# res = []\n",
    "# model_by_k = {}\n",
    "\n",
    "model = model_by_k\n",
    "\n"
   ],
   "metadata": {
    "collapsed": false,
    "pycharm": {
     "name": "#%%\n",
     "is_executing": true
    }
   }
  },
  {
   "cell_type": "markdown",
   "source": [
    "### We can visualize the overall results obtained by the network, once the training is finished"
   ],
   "metadata": {
    "collapsed": false,
    "pycharm": {
     "name": "#%% md\n"
    }
   }
  },
  {
   "cell_type": "code",
   "execution_count": null,
   "outputs": [],
   "source": [
    "# %load_ext line_profiler\n",
    "# %lprun -f mb.tl.optimize_simple mb.tl.optimize_iterative(train, device, w=w, show_logo=0, criterion=criterion, opt_kernel_shift=0, opt_kernel_length=0, dirichlet_regularization=dirichlet_regularization, lr=lr, weight_decay=wd, ignore_kernel=ignore_kernel, num_epochs=n_epochs, early_stopping=early_stopping, use_dinuc=False, n_kernels=n_kernels, log_each=log_each, stop_at_kernel=None) #  seed=seed) # seeds.index[0]) #\n"
   ],
   "metadata": {
    "collapsed": false,
    "pycharm": {
     "name": "#%%\n",
     "is_executing": true
    }
   }
  },
  {
   "cell_type": "code",
   "execution_count": null,
   "outputs": [],
   "source": [
    "import mubind as mb"
   ],
   "metadata": {
    "collapsed": false,
    "pycharm": {
     "name": "#%%\n",
     "is_executing": true
    }
   }
  },
  {
   "cell_type": "code",
   "execution_count": null,
   "outputs": [],
   "source": [
    "model = model_by_k\n",
    "mb.tl.scores(model, train)\n"
   ],
   "metadata": {
    "collapsed": false,
    "pycharm": {
     "name": "#%%\n"
    }
   }
  },
  {
   "cell_type": "code",
   "execution_count": null,
   "outputs": [],
   "source": [
    "counts = mb.tl.predict(model, train)\n",
    "counts"
   ],
   "metadata": {
    "collapsed": false,
    "pycharm": {
     "name": "#%%\n"
    }
   }
  },
  {
   "cell_type": "code",
   "execution_count": null,
   "outputs": [],
   "source": [
    "rcParams['figure.figsize'] = 5, 5\n",
    "mb.pl.kmer_enrichment(model, train, log_scale=False, style='scatter', ylab='t1', xlab='p1', k=5)\n"
   ],
   "metadata": {
    "collapsed": false,
    "pycharm": {
     "name": "#%%\n"
    }
   }
  },
  {
   "cell_type": "code",
   "execution_count": null,
   "outputs": [],
   "source": [
    "mb.pl.conv(model)\n"
   ],
   "metadata": {
    "collapsed": false,
    "pycharm": {
     "name": "#%%\n"
    }
   }
  }
 ],
 "metadata": {
  "kernelspec": {
   "display_name": "mubind",
   "language": "python",
   "name": "mubind"
  },
  "language_info": {
   "codemirror_mode": {
    "name": "ipython",
    "version": 3
   },
   "file_extension": ".py",
   "mimetype": "text/x-python",
   "name": "python",
   "nbconvert_exporter": "python",
   "pygments_lexer": "ipython3",
   "version": "3.10.8"
  },
  "vscode": {
   "interpreter": {
    "hash": "21beeb3f351c8e886a898db8b4cccf8d4f8a70210033cb08b23469d9f8df079c"
   }
  }
 },
 "nbformat": 4,
 "nbformat_minor": 5
}