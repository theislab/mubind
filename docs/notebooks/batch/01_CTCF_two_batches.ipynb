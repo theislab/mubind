{
 "cells": [
  {
   "cell_type": "code",
   "execution_count": 1,
   "metadata": {
    "collapsed": false,
    "pycharm": {
     "name": "#%%\n"
    }
   },
   "outputs": [],
   "source": [
    "import os\n",
    "%load_ext autoreload\n",
    "%autoreload 2"
   ]
  },
  {
   "cell_type": "code",
   "execution_count": 2,
   "metadata": {
    "collapsed": false,
    "pycharm": {
     "name": "#%%\n"
    }
   },
   "outputs": [
    {
     "name": "stdout",
     "output_type": "stream",
     "text": [
      "[Errno 2] No such file or directory: '/home/rio/workspace/theislab/mubind/notebooks/batch'\n",
      "/mnt/c/Users/ignacio.ibarra/Dropbox/jupyter/lenovo\n"
     ]
    }
   ],
   "source": [
    "cd ~/workspace/theislab/mubind/notebooks/batch"
   ]
  },
  {
   "cell_type": "code",
   "execution_count": 3,
   "metadata": {
    "collapsed": false,
    "pycharm": {
     "name": "#%%\n"
    }
   },
   "outputs": [
    {
     "name": "stdout",
     "output_type": "stream",
     "text": [
      "Using device: cuda:0\n"
     ]
    }
   ],
   "source": [
    "import mubind as mb\n",
    "import numpy as np\n",
    "import pandas as pd\n",
    "import torch\n",
    "import bindome as bd\n",
    "bd.constants.ANNOTATIONS_DIRECTORY = '../../annotations' # '../../annotations'\n",
    "# mb.models.MultiBind\n",
    "import torch.optim as topti\n",
    "import torch.utils.data as tdata\n",
    "import numpy as np\n",
    "\n",
    "# Use a GPU if available, as it should be faster.\n",
    "device = torch.device(\"cuda:0\" if torch.cuda.is_available() else \"cpu\")\n",
    "print(\"Using device: \" + str(device))"
   ]
  },
  {
   "cell_type": "code",
   "execution_count": 4,
   "id": "bba023d0",
   "metadata": {
    "collapsed": false,
    "pycharm": {
     "name": "#%%\n"
    }
   },
   "outputs": [],
   "source": [
    "df = mb.bindome.datasets.ProBound.ctcf(flank_length=0)\n",
    "df = df.sort_values(1, ascending=False).reset_index(drop=True)\n",
    "# data = df.head(1000)\n",
    "# data = df.copy()\n",
    "\n",
    "df.index = df['seq']\n",
    "del df['seq']\n",
    "df.index = df.index.astype(str).str[45:]\n",
    "\n",
    "df = df[~df.index.duplicated(keep='first')]\n",
    "\n",
    "n_sample = 5000\n",
    "if n_sample is not None:\n",
    "    data = df.sample(min(df.shape[0], n_sample))\n",
    "else:\n",
    "    data = df.copy()\n",
    "\n",
    "# data = mb.pp.sample_rounds(df, 2, 10000)\n",
    "\n",
    "# remove as many nucleotides as posisble (faster training/convergence)\n",
    "\n",
    "\n",
    "# data.index = data.index.astype(str).str[-15:]\n"
   ]
  },
  {
   "cell_type": "code",
   "execution_count": 5,
   "id": "aa078bef",
   "metadata": {
    "collapsed": false,
    "pycharm": {
     "name": "#%%\n"
    }
   },
   "outputs": [
    {
     "data": {
      "text/html": [
       "<div>\n",
       "<style scoped>\n",
       "    .dataframe tbody tr th:only-of-type {\n",
       "        vertical-align: middle;\n",
       "    }\n",
       "\n",
       "    .dataframe tbody tr th {\n",
       "        vertical-align: top;\n",
       "    }\n",
       "\n",
       "    .dataframe thead th {\n",
       "        text-align: right;\n",
       "    }\n",
       "</style>\n",
       "<table border=\"1\" class=\"dataframe\">\n",
       "  <thead>\n",
       "    <tr style=\"text-align: right;\">\n",
       "      <th></th>\n",
       "      <th>0</th>\n",
       "      <th>1</th>\n",
       "    </tr>\n",
       "    <tr>\n",
       "      <th>seq</th>\n",
       "      <th></th>\n",
       "      <th></th>\n",
       "    </tr>\n",
       "  </thead>\n",
       "  <tbody>\n",
       "    <tr>\n",
       "      <th>CATGTAGACCGGCCATTGGACTATG</th>\n",
       "      <td>0</td>\n",
       "      <td>4</td>\n",
       "    </tr>\n",
       "    <tr>\n",
       "      <th>GCGTTGATGGTATCGTAAGTGCGTC</th>\n",
       "      <td>0</td>\n",
       "      <td>4</td>\n",
       "    </tr>\n",
       "    <tr>\n",
       "      <th>AGTGGCTGCTTGTCGGAATGGGCAG</th>\n",
       "      <td>0</td>\n",
       "      <td>4</td>\n",
       "    </tr>\n",
       "    <tr>\n",
       "      <th>GGCGTTACGCGTTGTGTAGACCTAA</th>\n",
       "      <td>0</td>\n",
       "      <td>4</td>\n",
       "    </tr>\n",
       "    <tr>\n",
       "      <th>CTCAGGTGGAATCTTTTTACTATTG</th>\n",
       "      <td>0</td>\n",
       "      <td>4</td>\n",
       "    </tr>\n",
       "    <tr>\n",
       "      <th>...</th>\n",
       "      <td>...</td>\n",
       "      <td>...</td>\n",
       "    </tr>\n",
       "    <tr>\n",
       "      <th>AGAGAGACAGGACTTGTGACTTTGT</th>\n",
       "      <td>1</td>\n",
       "      <td>0</td>\n",
       "    </tr>\n",
       "    <tr>\n",
       "      <th>AGAGGGCGTTCGAGGCTTGCTAGGC</th>\n",
       "      <td>1</td>\n",
       "      <td>0</td>\n",
       "    </tr>\n",
       "    <tr>\n",
       "      <th>GGAGTGCCTTTTGGATGAAAGATTG</th>\n",
       "      <td>1</td>\n",
       "      <td>0</td>\n",
       "    </tr>\n",
       "    <tr>\n",
       "      <th>GCTTGAGTAACCAAGGATTGCGTGG</th>\n",
       "      <td>1</td>\n",
       "      <td>0</td>\n",
       "    </tr>\n",
       "    <tr>\n",
       "      <th>TAAAGCGCTTTAGCATTAAAACGTT</th>\n",
       "      <td>1</td>\n",
       "      <td>0</td>\n",
       "    </tr>\n",
       "  </tbody>\n",
       "</table>\n",
       "<p>120053 rows × 2 columns</p>\n",
       "</div>"
      ],
      "text/plain": [
       "                           0  1\n",
       "seq                            \n",
       "CATGTAGACCGGCCATTGGACTATG  0  4\n",
       "GCGTTGATGGTATCGTAAGTGCGTC  0  4\n",
       "AGTGGCTGCTTGTCGGAATGGGCAG  0  4\n",
       "GGCGTTACGCGTTGTGTAGACCTAA  0  4\n",
       "CTCAGGTGGAATCTTTTTACTATTG  0  4\n",
       "...                       .. ..\n",
       "AGAGAGACAGGACTTGTGACTTTGT  1  0\n",
       "AGAGGGCGTTCGAGGCTTGCTAGGC  1  0\n",
       "GGAGTGCCTTTTGGATGAAAGATTG  1  0\n",
       "GCTTGAGTAACCAAGGATTGCGTGG  1  0\n",
       "TAAAGCGCTTTAGCATTAAAACGTT  1  0\n",
       "\n",
       "[120053 rows x 2 columns]"
      ]
     },
     "execution_count": 5,
     "metadata": {},
     "output_type": "execute_result"
    }
   ],
   "source": [
    "df"
   ]
  },
  {
   "cell_type": "code",
   "execution_count": 6,
   "id": "f53c3fa4",
   "metadata": {
    "collapsed": false,
    "pycharm": {
     "name": "#%%\n"
    }
   },
   "outputs": [],
   "source": [
    "from matplotlib import rcParams\n",
    "rcParams['figure.figsize'] = 5, 1"
   ]
  },
  {
   "cell_type": "code",
   "execution_count": 7,
   "id": "18c29953",
   "metadata": {
    "collapsed": false,
    "pycharm": {
     "name": "#%%\n"
    }
   },
   "outputs": [
    {
     "name": "stdout",
     "output_type": "stream",
     "text": [
      "loading object (# entries) 5000\n"
     ]
    }
   ],
   "source": [
    "# TODO: skipped for now\n",
    "n_rounds = 2\n",
    "\n",
    "print('loading object (# entries)', data.shape[0])\n",
    "dataset = mb.datasets.SelexDataset(data, n_rounds=n_rounds, labels=[0, 1])\n",
    "train = tdata.DataLoader(dataset=dataset,\n",
    "                         # batch_size=256,\n",
    "                         batch_size=625,\n",
    "                         shuffle=False)"
   ]
  },
  {
   "cell_type": "code",
   "execution_count": 8,
   "id": "02e2744e",
   "metadata": {
    "collapsed": false,
    "pycharm": {
     "name": "#%%\n"
    }
   },
   "outputs": [],
   "source": [
    "import warnings\n",
    "warnings.filterwarnings('ignore')"
   ]
  },
  {
   "cell_type": "code",
   "execution_count": 9,
   "id": "5ca91635",
   "metadata": {
    "collapsed": false,
    "pycharm": {
     "name": "#%%\n"
    }
   },
   "outputs": [],
   "source": [
    "# %lprun -f mb.tl.train_network mb.tl.train_network(model, train, device, next_optimiser, criterion, num_epochs=20, early_stopping=100, log_each=2, dirichlet_regularization=0, exp_max=40, verbose=0)"
   ]
  },
  {
   "cell_type": "code",
   "execution_count": 10,
   "id": "27c5ca55",
   "metadata": {
    "collapsed": false,
    "pycharm": {
     "name": "#%%\n"
    }
   },
   "outputs": [],
   "source": [
    "# %lprun -f mb.tl.train_iterative mb.tl.train_iterative(train, device, w=18, show_logo=False, opt_kernel_shift=0, opt_kernel_length=0, dirichlet_regularization=dirichlet_regularization, lr=[0.01, 0.01], weight_decay=[0.01, 0.001], ignore_kernel=ignore_kernel, num_epochs=2, early_stopping=100, use_dinuc=False, n_kernels=n_kernels, log_each=log_each, stop_at_kernel=None)"
   ]
  },
  {
   "cell_type": "code",
   "execution_count": 11,
   "id": "4b2e8cd4",
   "metadata": {
    "collapsed": false,
    "pycharm": {
     "name": "#%%\n"
    }
   },
   "outputs": [],
   "source": [
    "pd.set_option('display.expand_frame_repr', False)\n"
   ]
  },
  {
   "cell_type": "code",
   "execution_count": 12,
   "id": "8fc5caab",
   "metadata": {
    "collapsed": false,
    "pycharm": {
     "name": "#%%\n"
    }
   },
   "outputs": [],
   "source": [
    "# assign batch and data type\n",
    "\n",
    "# data['batch'] = 0\n",
    "# data['is_count_data'] = 1\n",
    "# n_batches=3\n",
    "\n",
    "dirichlet_regularization = 0\n",
    "# for dirichlet_regularization_log in range(-5, 3):\n",
    "\n",
    "n_epochs = 100\n",
    "log_each = 10\n",
    "n_kernels = 2\n",
    "lr = [0.01] * n_kernels\n",
    "kernels = [0, 2] + [20] * (n_kernels - 1)\n",
    "wd = [0.01,] + [0.001] * (n_kernels - 1)\n",
    "early_stopping = [5,] + [10] * (n_kernels)\n",
    "\n",
    "opt_kernel_shift = [0, 0] + [1] * (n_kernels - 1)\n",
    "opt_kernel_length = [0, 0] + [1] * (n_kernels - 1)\n",
    "use_mono = True\n",
    "use_dinuc = True\n",
    "dinuc_mode = 'local'\n",
    "\n",
    "from matplotlib import rcParams\n",
    "rcParams['figure.figsize'] = 8, 1\n",
    "\n",
    "import time\n",
    "t0 = time.time()\n",
    "\n",
    "criterion = mb.tl.PoissonLoss()\n",
    "\n"
   ]
  },
  {
   "cell_type": "code",
   "execution_count": 14,
   "id": "2971f617",
   "metadata": {
    "collapsed": false,
    "pycharm": {
     "name": "#%%\n"
    }
   },
   "outputs": [
    {
     "name": "stdout",
     "output_type": "stream",
     "text": [
      "False False False\n",
      "Using device: cuda:0\n",
      "current kernels\n",
      "\n",
      "Kernel to optimize 0 (intercept)\n",
      "\n",
      "FREEZING KERNELS\n",
      "optimizing feature type mono\n",
      "setting grad status of kernel (mono, dinuc) at 0 to (1, 0)\n",
      "kernels mask None\n",
      "optimizer:  Adam \n",
      "criterion: PoissonLoss \n",
      "# epochs: 100 \n",
      "early_stopping: 5\n",
      "lr= 0.01, weight_decay= 0.001, dir weight= 0\n",
      "Epoch: 11, Loss: 1.882689, R2: -1.09,  best epoch: 9,  secs per epoch: 0.273 s,  secs epoch*1k trials: 0.055s curr time: 2023-07-20 19:26:49.932804\n",
      "Epoch: 21, Loss: 1.427597, R2: -0.93,  best epoch: 19,  secs per epoch: 0.184 s,  secs epoch*1k trials: 0.037s curr time: 2023-07-20 19:26:50.872676\n",
      "Epoch: 31, Loss: 1.067951, R2: -0.49,  best epoch: 29,  secs per epoch: 0.153 s,  secs epoch*1k trials: 0.031s curr time: 2023-07-20 19:26:51.786210\n",
      "Epoch: 41, Loss: 0.894248, R2: -0.08,  best epoch: 39,  secs per epoch: 0.138 s,  secs epoch*1k trials: 0.028s curr time: 2023-07-20 19:26:52.707746\n",
      "Epoch: 51, Loss: 0.851342, R2: 0.03,  best epoch: 49,  secs per epoch: 0.129 s,  secs epoch*1k trials: 0.026s curr time: 2023-07-20 19:26:53.637775\n",
      "Epoch: 61, Loss: 0.844500, R2: 0.04,  best epoch: 59,  secs per epoch: 0.123 s,  secs epoch*1k trials: 0.025s curr time: 2023-07-20 19:26:54.599374\n",
      "Epoch: 71, Loss: 0.843573, R2: 0.04,  best epoch: 69,  secs per epoch: 0.120 s,  secs epoch*1k trials: 0.024s curr time: 2023-07-20 19:26:55.634132\n",
      "Epoch: 81, Loss: 0.843441, R2: 0.04,  best epoch: 79,  secs per epoch: 0.117 s,  secs epoch*1k trials: 0.023s curr time: 2023-07-20 19:26:56.573265\n",
      "Epoch: 91, Loss: 0.843418, R2: 0.04,  best epoch: 89,  secs per epoch: 0.115 s,  secs epoch*1k trials: 0.023s curr time: 2023-07-20 19:26:57.538807\n",
      "Final loss: 0.8434135318 , R2: 0.04\n",
      "Total time (model/function): (11.116s / 11.116s)\n",
      "Time per epoch (model/function): (0.112s/ 0.112s)\n",
      "Time per epoch per 1k trials: 0.022s\n",
      "Current time: 2023-07-20 19:26:58.394357\n",
      "optimization of dinuc is not necessary for the intercepts (kernel=0). Skip...\n",
      "current kernels\n",
      "\n",
      "Kernel to optimize 1 \n",
      "\n",
      "FREEZING KERNELS\n",
      "optimizing feature type mono\n",
      "setting grad status of kernel (mono, dinuc) at 1 to (1, 0)\n",
      "kernels mask None\n",
      "optimizer:  Adam \n",
      "criterion: PoissonLoss \n",
      "# epochs: 100 \n",
      "early_stopping: 10\n",
      "lr= 0.01, weight_decay= 0.001, dir weight= 0\n",
      "Epoch: 11, Loss: 0.843343, R2: 0.04,  best epoch: 8,  secs per epoch: 0.131 s,  secs epoch*1k trials: 0.026s curr time: 2023-07-20 19:26:59.704268\n",
      "Epoch: 21, Loss: 0.843339, R2: 0.04,  best epoch: 18,  secs per epoch: 0.121 s,  secs epoch*1k trials: 0.024s curr time: 2023-07-20 19:27:00.810885\n",
      "Epoch: 31, Loss: 0.843340, R2: 0.04,  best epoch: 20,  secs per epoch: 0.122 s,  secs epoch*1k trials: 0.024s curr time: 2023-07-20 19:27:02.057931\n",
      "Epoch: 31, Loss: 0.843340, R2: 0.04,  best epoch: 20,  secs per epoch: 0.125s,  secs epoch*1k trials: 0.025s, curr time: 2023-07-20 19:27:02.148843\n",
      "early stop!\n",
      "Final loss: 0.8433395624 , R2: 0.04\n",
      "Total time (model/function): (14.870s / 3.754s)\n",
      "Time per epoch (model/function): (0.496s/ 0.125s)\n",
      "Time per epoch per 1k trials: 0.025s\n",
      "Current time: 2023-07-20 19:27:02.239944\n",
      "\n",
      "\n",
      "final refinement step (after shift)...\n",
      "\n",
      "unfreezing all layers for final refinement\n",
      "\n",
      "kernels mask None\n",
      "kernels mask None\n",
      "optimizer:  Adam \n",
      "criterion: PoissonLoss \n",
      "# epochs: 100 \n",
      "early_stopping: 10\n",
      "lr= 0.01, weight_decay= 0.001, dir weight= 0\n",
      "Epoch: 11, Loss: 0.843360, R2: 0.04,  best epoch: 1,  secs per epoch: 0.131 s,  secs epoch*1k trials: 0.026s curr time: 2023-07-20 19:27:03.550993\n",
      "Epoch: 12, Loss: 0.843360, R2: 0.04,  best epoch: 1,  secs per epoch: 0.137s,  secs epoch*1k trials: 0.027s, curr time: 2023-07-20 19:27:03.744986\n",
      "early stop!\n",
      "Final loss: 0.8433598131 , R2: 0.04\n",
      "Total time (model/function): (16.374s / 1.504s)\n",
      "Time per epoch (model/function): (1.489s/ 0.137s)\n",
      "Time per epoch per 1k trials: 0.027s\n",
      "Current time: 2023-07-20 19:27:03.837482\n",
      "best loss 0.8432984724640846\n",
      "current r2 values by newly added kernel\n",
      "[0.035764314059870794]\n",
      "optimizing feature type dinuc\n",
      "setting grad status of kernel (mono, dinuc) at 1 to (0, 1)\n",
      "kernels mask None\n",
      "optimizer:  Adam \n",
      "criterion: PoissonLoss \n",
      "# epochs: 100 \n",
      "early_stopping: 10\n",
      "lr= 0.01, weight_decay= 0.001, dir weight= 0\n",
      "Epoch: 11, Loss: 0.843337, R2: 0.04,  best epoch: 1,  secs per epoch: 0.136 s,  secs epoch*1k trials: 0.027s curr time: 2023-07-20 19:27:05.287406\n",
      "Epoch: 12, Loss: 0.843336, R2: 0.04,  best epoch: 1,  secs per epoch: 0.141s,  secs epoch*1k trials: 0.028s, curr time: 2023-07-20 19:27:05.471904\n",
      "early stop!\n",
      "Final loss: 0.8433356658 , R2: 0.04\n",
      "Total time (model/function): (17.920s / 1.546s)\n",
      "Time per epoch (model/function): (1.629s/ 0.141s)\n",
      "Time per epoch per 1k trials: 0.028s\n",
      "Current time: 2023-07-20 19:27:05.557167\n",
      "\n",
      "\n",
      "final refinement step (after shift)...\n",
      "\n",
      "unfreezing all layers for final refinement\n",
      "\n",
      "kernels mask None\n",
      "kernels mask None\n",
      "optimizer:  Adam \n",
      "criterion: PoissonLoss \n",
      "# epochs: 100 \n",
      "early_stopping: 10\n",
      "lr= 0.01, weight_decay= 0.001, dir weight= 0\n",
      "Epoch: 11, Loss: 0.843362, R2: 0.04,  best epoch: 1,  secs per epoch: 0.127 s,  secs epoch*1k trials: 0.025s curr time: 2023-07-20 19:27:06.831285\n",
      "Epoch: 12, Loss: 0.843362, R2: 0.04,  best epoch: 1,  secs per epoch: 0.133s,  secs epoch*1k trials: 0.027s, curr time: 2023-07-20 19:27:07.016121\n",
      "early stop!\n",
      "Final loss: 0.8433619961 , R2: 0.04\n",
      "Total time (model/function): (19.378s / 1.458s)\n",
      "Time per epoch (model/function): (1.762s/ 0.133s)\n",
      "Time per epoch per 1k trials: 0.027s\n",
      "Current time: 2023-07-20 19:27:07.096821\n",
      "best loss 0.8433011695742607\n",
      "current r2 values by newly added kernel\n",
      "[0.035764314059870794, 0.03578898279551057]\n",
      "current kernels\n",
      "\n",
      "Kernel to optimize 2 \n",
      "\n",
      "FREEZING KERNELS\n",
      "optimizing feature type mono\n",
      "setting grad status of kernel (mono, dinuc) at 2 to (1, 0)\n",
      "kernels mask None\n",
      "optimizer:  Adam \n",
      "criterion: PoissonLoss \n",
      "# epochs: 100 \n",
      "early_stopping: 10\n",
      "lr= 0.01, weight_decay= 0.001, dir weight= 0\n",
      "Epoch: 11, Loss: 0.842294, R2: 0.04,  best epoch: 9,  secs per epoch: 0.126 s,  secs epoch*1k trials: 0.025s curr time: 2023-07-20 19:27:08.441635\n",
      "Epoch: 21, Loss: 0.841965, R2: 0.04,  best epoch: 19,  secs per epoch: 0.123 s,  secs epoch*1k trials: 0.025s curr time: 2023-07-20 19:27:09.640394\n",
      "Epoch: 31, Loss: 0.841718, R2: 0.04,  best epoch: 29,  secs per epoch: 0.120 s,  secs epoch*1k trials: 0.024s curr time: 2023-07-20 19:27:10.772206\n",
      "Epoch: 41, Loss: 0.841015, R2: 0.04,  best epoch: 39,  secs per epoch: 0.118 s,  secs epoch*1k trials: 0.024s curr time: 2023-07-20 19:27:11.908838\n",
      "Epoch: 51, Loss: 0.838605, R2: 0.05,  best epoch: 49,  secs per epoch: 0.117 s,  secs epoch*1k trials: 0.023s curr time: 2023-07-20 19:27:13.033651\n",
      "Epoch: 61, Loss: 0.836487, R2: 0.06,  best epoch: 59,  secs per epoch: 0.118 s,  secs epoch*1k trials: 0.024s curr time: 2023-07-20 19:27:14.252781\n",
      "Epoch: 71, Loss: 0.832866, R2: 0.08,  best epoch: 69,  secs per epoch: 0.119 s,  secs epoch*1k trials: 0.024s curr time: 2023-07-20 19:27:15.515516\n",
      "Epoch: 81, Loss: 0.829893, R2: 0.09,  best epoch: 79,  secs per epoch: 0.130 s,  secs epoch*1k trials: 0.026s curr time: 2023-07-20 19:27:17.571259\n",
      "Epoch: 91, Loss: 0.829424, R2: 0.09,  best epoch: 89,  secs per epoch: 0.129 s,  secs epoch*1k trials: 0.026s curr time: 2023-07-20 19:27:18.814529\n",
      "Final loss: 0.8293106109 , R2: 0.09\n",
      "Total time (model/function): (32.077s / 12.699s)\n",
      "Time per epoch (model/function): (0.324s/ 0.128s)\n",
      "Time per epoch per 1k trials: 0.026s\n",
      "Current time: 2023-07-20 19:27:19.973777\n",
      "\n",
      "WIDTH OPTIMIZATION (first)...\n",
      "Reached maximum w. Stop...\n",
      "\n",
      "SHIFT OPTIMIZATION (first)...\n",
      "options to try [[0, 0, -2], [0, 0, -1], [0, 0, 0], [0, 0, 1], [0, 0, 2]]\n",
      "next expand left: 0, next expand right: 0, shift: -2\n",
      "optimizer:  Adam \n",
      "criterion: PoissonLoss \n",
      "# epochs: 300 \n",
      "early_stopping: 10\n",
      "lr= 0.01, weight_decay= 0.001, dir weight= 0\n",
      "Epoch: 31, Loss: 0.830280, R2: 0.08,  best epoch: 29,  secs per epoch: 0.116 s,  secs epoch*1k trials: 0.023s curr time: 2023-07-20 19:27:23.465621\n",
      "Epoch: 61, Loss: 0.830266, R2: 0.08,  best epoch: 59,  secs per epoch: 0.114 s,  secs epoch*1k trials: 0.023s curr time: 2023-07-20 19:27:26.792099\n",
      "Epoch: 91, Loss: 0.830264, R2: 0.08,  best epoch: 89,  secs per epoch: 0.111 s,  secs epoch*1k trials: 0.022s curr time: 2023-07-20 19:27:29.990545\n",
      "Epoch: 121, Loss: 0.830263, R2: 0.08,  best epoch: 117,  secs per epoch: 0.110 s,  secs epoch*1k trials: 0.022s curr time: 2023-07-20 19:27:33.180649\n",
      "Epoch: 150, Loss: 0.830263, R2: 0.08,  best epoch: 139,  secs per epoch: 0.109s,  secs epoch*1k trials: 0.022s, curr time: 2023-07-20 19:27:36.173019\n",
      "early stop!\n",
      "Final loss: 0.8302631006 , R2: 0.08\n",
      "Total time (model/function): (48.270s / 16.193s)\n",
      "Time per epoch (model/function): (0.324s/ 0.109s)\n",
      "Time per epoch per 1k trials: 0.022s\n",
      "Current time: 2023-07-20 19:27:36.254045\n",
      "\n",
      "next expand left: 0, next expand right: 0, shift: -1\n",
      "optimizer:  Adam \n",
      "criterion: PoissonLoss \n",
      "# epochs: 300 \n",
      "early_stopping: 10\n",
      "lr= 0.01, weight_decay= 0.001, dir weight= 0\n",
      "Epoch: 31, Loss: 0.829899, R2: 0.09,  best epoch: 29,  secs per epoch: 0.104 s,  secs epoch*1k trials: 0.021s curr time: 2023-07-20 19:27:39.464654\n",
      "Epoch: 61, Loss: 0.829894, R2: 0.09,  best epoch: 59,  secs per epoch: 0.104 s,  secs epoch*1k trials: 0.021s curr time: 2023-07-20 19:27:42.599329\n",
      "Epoch: 91, Loss: 0.829893, R2: 0.09,  best epoch: 89,  secs per epoch: 0.123 s,  secs epoch*1k trials: 0.025s curr time: 2023-07-20 19:27:47.425815\n",
      "Epoch: 121, Loss: 0.829893, R2: 0.09,  best epoch: 117,  secs per epoch: 0.135 s,  secs epoch*1k trials: 0.027s curr time: 2023-07-20 19:27:52.588257\n",
      "Epoch: 142, Loss: 0.829893, R2: 0.09,  best epoch: 131,  secs per epoch: 0.138s,  secs epoch*1k trials: 0.028s, curr time: 2023-07-20 19:27:55.798756\n",
      "early stop!\n",
      "Final loss: 0.8298930824 , R2: 0.09\n",
      "Total time (model/function): (51.541s / 19.464s)\n",
      "Time per epoch (model/function): (0.366s/ 0.138s)\n",
      "Time per epoch per 1k trials: 0.028s\n",
      "Current time: 2023-07-20 19:27:55.921734\n",
      "\n",
      "next expand left: 0, next expand right: 0, shift: 0\n",
      "optimizer:  Adam \n",
      "criterion: PoissonLoss \n",
      "# epochs: 300 \n",
      "early_stopping: 10\n",
      "lr= 0.01, weight_decay= 0.001, dir weight= 0\n",
      "Epoch: 18, Loss: 0.829231, R2: 0.09,  best epoch: 7,  secs per epoch: 0.163s,  secs epoch*1k trials: 0.033s, curr time: 2023-07-20 19:27:58.806233\n",
      "early stop!\n",
      "Final loss: 0.8292308599 , R2: 0.09\n",
      "Total time (model/function): (34.851s / 2.774s)\n",
      "Time per epoch (model/function): (2.050s/ 0.163s)\n",
      "Time per epoch per 1k trials: 0.033s\n",
      "Current time: 2023-07-20 19:27:58.924707\n",
      "\n",
      "next expand left: 0, next expand right: 0, shift: 1\n",
      "optimizer:  Adam \n",
      "criterion: PoissonLoss \n",
      "# epochs: 300 \n",
      "early_stopping: 10\n",
      "lr= 0.01, weight_decay= 0.001, dir weight= 0\n",
      "Epoch: 18, Loss: 0.829464, R2: 0.09,  best epoch: 7,  secs per epoch: 0.149s,  secs epoch*1k trials: 0.030s, curr time: 2023-07-20 19:28:01.569781\n",
      "early stop!\n",
      "Final loss: 0.8294636756 , R2: 0.09\n",
      "Total time (model/function): (34.616s / 2.539s)\n",
      "Time per epoch (model/function): (2.036s/ 0.149s)\n",
      "Time per epoch per 1k trials: 0.030s\n",
      "Current time: 2023-07-20 19:28:01.678644\n",
      "\n",
      "next expand left: 0, next expand right: 0, shift: 2\n",
      "optimizer:  Adam \n",
      "criterion: PoissonLoss \n",
      "# epochs: 300 \n",
      "early_stopping: 10\n",
      "lr= 0.01, weight_decay= 0.001, dir weight= 0\n",
      "Epoch: 31, Loss: 0.829391, R2: 0.09,  best epoch: 29,  secs per epoch: 0.174 s,  secs epoch*1k trials: 0.035s curr time: 2023-07-20 19:28:07.059031\n",
      "Epoch: 61, Loss: 0.829382, R2: 0.09,  best epoch: 59,  secs per epoch: 0.158 s,  secs epoch*1k trials: 0.032s curr time: 2023-07-20 19:28:11.298508\n",
      "Epoch: 91, Loss: 0.829381, R2: 0.09,  best epoch: 88,  secs per epoch: 0.151 s,  secs epoch*1k trials: 0.030s curr time: 2023-07-20 19:28:15.463386\n",
      "Epoch: 121, Loss: 0.829380, R2: 0.09,  best epoch: 117,  secs per epoch: 0.144 s,  secs epoch*1k trials: 0.029s curr time: 2023-07-20 19:28:19.163447\n",
      "Epoch: 151, Loss: 0.829380, R2: 0.09,  best epoch: 143,  secs per epoch: 0.143 s,  secs epoch*1k trials: 0.029s curr time: 2023-07-20 19:28:23.256157\n",
      "Epoch: 175, Loss: 0.829380, R2: 0.09,  best epoch: 164,  secs per epoch: 0.145s,  secs epoch*1k trials: 0.029s, curr time: 2023-07-20 19:28:27.107235\n",
      "early stop!\n",
      "Final loss: 0.8293800429 , R2: 0.09\n",
      "Total time (model/function): (57.346s / 25.269s)\n",
      "Time per epoch (model/function): (0.330s/ 0.145s)\n",
      "Time per epoch per 1k trials: 0.029s\n",
      "Current time: 2023-07-20 19:28:27.207406\n",
      "\n",
      "sorted\n",
      "   expand.left  expand.right  shift  pos_w_sum  width  loss_diff_pct      loss        r2  last_loss\n",
      "5            0             0      0  12.080521     20       0.009619  0.829231  0.087871   0.829311\n",
      "4            0             0      0  11.816545     20       0.000000  0.829311  0.087578   0.829311\n",
      "3            0             0      2  11.816545     20      -0.008370  0.829380  0.086841   0.829311\n",
      "2            0             0      1  11.788427     20      -0.018332  0.829463  0.086766   0.829311\n",
      "1            0             0     -1  11.734264     20      -0.070230  0.829893  0.085577   0.829311\n",
      "0            0             0     -2  11.495149     20      -0.114850  0.830263  0.084239   0.829311\n",
      "0 0 0 12.080520629882812 20 0.009619238606583706 0.8292308375239372 0.08787067264248338\n",
      "action (expand left, expand right, shift): (0, 0, 0)\n",
      "\n",
      "This was the last iteration. Done with kernel shift optimization...\n",
      "\n",
      "\n",
      "final refinement step (after shift)...\n",
      "\n",
      "unfreezing all layers for final refinement\n",
      "\n",
      "kernels mask None\n",
      "kernels mask None\n",
      "optimizer:  Adam \n",
      "criterion: PoissonLoss \n",
      "# epochs: 100 \n",
      "early_stopping: 10\n",
      "lr= 0.01, weight_decay= 0.001, dir weight= 0\n",
      "Epoch: 11, Loss: 0.829216, R2: 0.09,  best epoch: 3,  secs per epoch: 0.175 s,  secs epoch*1k trials: 0.035s curr time: 2023-07-20 19:28:29.172409\n",
      "Epoch: 14, Loss: 0.829208, R2: 0.09,  best epoch: 3,  secs per epoch: 0.180s,  secs epoch*1k trials: 0.036s, curr time: 2023-07-20 19:28:29.761685\n",
      "early stop!\n",
      "Final loss: 0.8292083517 , R2: 0.09\n",
      "Total time (model/function): (37.191s / 2.340s)\n",
      "Time per epoch (model/function): (2.861s/ 0.180s)\n",
      "Time per epoch per 1k trials: 0.036s\n",
      "Current time: 2023-07-20 19:28:29.896570\n",
      "best loss 0.8290070444345474\n",
      "current r2 values by newly added kernel\n",
      "[0.035764314059870794, 0.03578898279551057, 0.08629872583825915]\n",
      "optimizing feature type dinuc\n",
      "setting grad status of kernel (mono, dinuc) at 2 to (0, 1)\n",
      "kernels mask None\n",
      "optimizer:  Adam \n",
      "criterion: PoissonLoss \n",
      "# epochs: 100 \n",
      "early_stopping: 10\n",
      "lr= 0.01, weight_decay= 0.001, dir weight= 0\n",
      "Epoch: 11, Loss: 0.829067, R2: 0.09,  best epoch: 3,  secs per epoch: 0.226 s,  secs epoch*1k trials: 0.045s curr time: 2023-07-20 19:28:32.304104\n",
      "Epoch: 14, Loss: 0.829064, R2: 0.09,  best epoch: 3,  secs per epoch: 0.218s,  secs epoch*1k trials: 0.044s, curr time: 2023-07-20 19:28:32.876158\n",
      "early stop!\n",
      "Final loss: 0.8290643245 , R2: 0.09\n",
      "Total time (model/function): (40.022s / 2.831s)\n",
      "Time per epoch (model/function): (3.079s/ 0.218s)\n",
      "Time per epoch per 1k trials: 0.044s\n",
      "Current time: 2023-07-20 19:28:32.998865\n",
      "\n",
      "WIDTH OPTIMIZATION (first)...\n",
      "Reached maximum w. Stop...\n",
      "\n",
      "SHIFT OPTIMIZATION (first)...\n",
      "options to try [[0, 0, -2], [0, 0, -1], [0, 0, 0], [0, 0, 1], [0, 0, 2]]\n",
      "next expand left: 0, next expand right: 0, shift: -2\n",
      "optimizer:  Adam \n",
      "criterion: PoissonLoss \n",
      "# epochs: 300 \n",
      "early_stopping: 10\n",
      "lr= 0.01, weight_decay= 0.001, dir weight= 0\n",
      "Epoch: 14, Loss: 0.830431, R2: 0.08,  best epoch: 3,  secs per epoch: 0.168s,  secs epoch*1k trials: 0.034s, curr time: 2023-07-20 19:28:35.195131\n",
      "early stop!\n",
      "Final loss: 0.8304311186 , R2: 0.08\n",
      "Total time (model/function): (42.209s / 2.187s)\n",
      "Time per epoch (model/function): (3.247s/ 0.168s)\n",
      "Time per epoch per 1k trials: 0.034s\n",
      "Current time: 2023-07-20 19:28:35.287966\n",
      "\n",
      "next expand left: 0, next expand right: 0, shift: -1\n",
      "optimizer:  Adam \n",
      "criterion: PoissonLoss \n",
      "# epochs: 300 \n",
      "early_stopping: 10\n",
      "lr= 0.01, weight_decay= 0.001, dir weight= 0\n",
      "Epoch: 14, Loss: 0.829869, R2: 0.09,  best epoch: 3,  secs per epoch: 0.130s,  secs epoch*1k trials: 0.026s, curr time: 2023-07-20 19:28:37.075397\n",
      "early stop!\n",
      "Final loss: 0.8298688307 , R2: 0.09\n",
      "Total time (model/function): (41.715s / 1.693s)\n",
      "Time per epoch (model/function): (3.209s/ 0.130s)\n",
      "Time per epoch per 1k trials: 0.026s\n",
      "Current time: 2023-07-20 19:28:37.163737\n",
      "\n",
      "next expand left: 0, next expand right: 0, shift: 0\n",
      "optimizer:  Adam \n",
      "criterion: PoissonLoss \n",
      "# epochs: 300 \n",
      "early_stopping: 10\n",
      "lr= 0.01, weight_decay= 0.001, dir weight= 0\n",
      "Epoch: 14, Loss: 0.829064, R2: 0.09,  best epoch: 3,  secs per epoch: 0.135s,  secs epoch*1k trials: 0.027s, curr time: 2023-07-20 19:28:39.004340\n",
      "early stop!\n",
      "Final loss: 0.8290637061 , R2: 0.09\n",
      "Total time (model/function): (41.773s / 1.751s)\n",
      "Time per epoch (model/function): (3.213s/ 0.135s)\n",
      "Time per epoch per 1k trials: 0.027s\n",
      "Current time: 2023-07-20 19:28:39.094292\n",
      "\n",
      "next expand left: 0, next expand right: 0, shift: 1\n",
      "optimizer:  Adam \n",
      "criterion: PoissonLoss \n",
      "# epochs: 300 \n",
      "early_stopping: 10\n",
      "lr= 0.01, weight_decay= 0.001, dir weight= 0\n",
      "Epoch: 14, Loss: 0.829350, R2: 0.09,  best epoch: 3,  secs per epoch: 0.153s,  secs epoch*1k trials: 0.031s, curr time: 2023-07-20 19:28:41.236270\n",
      "early stop!\n",
      "Final loss: 0.8293502480 , R2: 0.09\n",
      "Total time (model/function): (42.016s / 1.994s)\n",
      "Time per epoch (model/function): (3.232s/ 0.153s)\n",
      "Time per epoch per 1k trials: 0.031s\n",
      "Current time: 2023-07-20 19:28:41.356804\n",
      "\n",
      "next expand left: 0, next expand right: 0, shift: 2\n",
      "optimizer:  Adam \n",
      "criterion: PoissonLoss \n",
      "# epochs: 300 \n",
      "early_stopping: 10\n",
      "lr= 0.01, weight_decay= 0.001, dir weight= 0\n",
      "Epoch: 14, Loss: 0.829499, R2: 0.09,  best epoch: 3,  secs per epoch: 0.169s,  secs epoch*1k trials: 0.034s, curr time: 2023-07-20 19:28:43.681628\n",
      "early stop!\n",
      "Final loss: 0.8294986114 , R2: 0.09\n",
      "Total time (model/function): (42.213s / 2.191s)\n",
      "Time per epoch (model/function): (3.247s/ 0.169s)\n",
      "Time per epoch per 1k trials: 0.034s\n",
      "Current time: 2023-07-20 19:28:43.779936\n",
      "\n",
      "sorted\n",
      "   expand.left  expand.right  shift  pos_w_sum  width  loss_diff_pct      loss        r2  last_loss\n",
      "5            0             0      0  11.943166     20       0.000849  0.829030  0.088475   0.829037\n",
      "4            0             0      0  11.462283     20       0.000000  0.829037  0.087991   0.829037\n",
      "3            0             0      1  11.652692     20      -0.031931  0.829302  0.087158   0.829037\n",
      "2            0             0      2  11.462283     20      -0.049116  0.829444  0.086370   0.829037\n",
      "1            0             0     -1  11.422098     20      -0.094575  0.829821  0.085484   0.829037\n",
      "0            0             0     -2  10.950453     20      -0.162689  0.830386  0.083136   0.829037\n",
      "0 0 0 11.94316577911377 20 0.0008492742331572676 0.8290300816297531 0.08847535151141439\n",
      "action (expand left, expand right, shift): (0, 0, 0)\n",
      "\n",
      "This was the last iteration. Done with kernel shift optimization...\n",
      "\n",
      "\n",
      "final refinement step (after shift)...\n",
      "\n",
      "unfreezing all layers for final refinement\n",
      "\n",
      "kernels mask None\n",
      "kernels mask None\n",
      "optimizer:  Adam \n",
      "criterion: PoissonLoss \n",
      "# epochs: 100 \n",
      "early_stopping: 10\n",
      "lr= 0.01, weight_decay= 0.001, dir weight= 0\n",
      "Epoch: 11, Loss: 0.829201, R2: 0.09,  best epoch: 5,  secs per epoch: 0.151 s,  secs epoch*1k trials: 0.030s curr time: 2023-07-20 19:28:45.498412\n",
      "Epoch: 16, Loss: 0.829197, R2: 0.09,  best epoch: 5,  secs per epoch: 0.148s,  secs epoch*1k trials: 0.030s, curr time: 2023-07-20 19:28:46.217499\n",
      "early stop!\n",
      "Final loss: 0.8291971087 , R2: 0.09\n",
      "Total time (model/function): (43.998s / 2.225s)\n",
      "Time per epoch (model/function): (2.933s/ 0.148s)\n",
      "Time per epoch per 1k trials: 0.030s\n",
      "Current time: 2023-07-20 19:28:46.313566\n",
      "best loss 0.8291497901082039\n",
      "current r2 values by newly added kernel\n",
      "[0.035764314059870794, 0.03578898279551057, 0.08629872583825915, 0.08711160530059237]\n",
      "\n",
      "optimization finished:\n",
      "total time: 43.99775958061218s\n",
      "Time per epoch (total): 0.440 s\n",
      "##DONE....\n",
      "\n",
      "\n"
     ]
    },
    {
     "ename": "AttributeError",
     "evalue": "module 'mubind.pl' has no attribute 'conv'",
     "output_type": "error",
     "traceback": [
      "\u001b[0;31m---------------------------------------------------------------------------\u001b[0m",
      "\u001b[0;31mAttributeError\u001b[0m                            Traceback (most recent call last)",
      "Cell \u001b[0;32mIn[14], line 33\u001b[0m\n\u001b[1;32m     25\u001b[0m \u001b[39m# print('total time: %.3f s' % ((time.time() - t0)))\u001b[39;00m\n\u001b[1;32m     26\u001b[0m \u001b[39m# # res = []\u001b[39;00m\n\u001b[1;32m     27\u001b[0m \u001b[39m# # model_by_k = {}\u001b[39;00m\n\u001b[0;32m   (...)\u001b[0m\n\u001b[1;32m     30\u001b[0m \u001b[39m# print(counts)\u001b[39;00m\n\u001b[1;32m     31\u001b[0m \u001b[39m#\u001b[39;00m\n\u001b[1;32m     32\u001b[0m mb\u001b[39m.\u001b[39mpl\u001b[39m.\u001b[39mset_rcParams({\u001b[39m'\u001b[39m\u001b[39mfigure.figsize\u001b[39m\u001b[39m'\u001b[39m: [\u001b[39m10\u001b[39m, \u001b[39m6\u001b[39m], \u001b[39m'\u001b[39m\u001b[39mfigure.dpi\u001b[39m\u001b[39m'\u001b[39m: \u001b[39m65\u001b[39m})\n\u001b[0;32m---> 33\u001b[0m \u001b[48;5;39mmb\u001b[39m.\u001b[39;49m\u001b[48;5;39mpl\u001b[39m.\u001b[39;49m\u001b[48;5;39mconv(model)\n\u001b[1;32m     34\u001b[0m \u001b[39m#\u001b[39;00m\n\u001b[1;32m     35\u001b[0m \u001b[39m# mb.tl.scores(model, train, by='batch')\u001b[39;00m\n\u001b[1;32m     36\u001b[0m mb\u001b[39m.\u001b[39mpl\u001b[39m.\u001b[39mset_rcParams({\u001b[39m'\u001b[39m\u001b[39mfigure.figsize\u001b[39m\u001b[39m'\u001b[39m: [\u001b[39m6\u001b[39m, \u001b[39m6\u001b[39m], \u001b[39m'\u001b[39m\u001b[39mfigure.dpi\u001b[39m\u001b[39m'\u001b[39m: \u001b[39m85\u001b[39m})\n",
      "\u001b[0;31mAttributeError\u001b[0m: module 'mubind.pl' has no attribute 'conv'"
     ]
    }
   ],
   "source": [
    "import itertools\n",
    "\n",
    "models = []\n",
    "for optimize_exp_barrier, optimize_kernel_rel, optimize_sym_weight in list(itertools.product([False, True], repeat=3)):\n",
    "    print(optimize_exp_barrier, optimize_kernel_rel, optimize_sym_weight)\n",
    "    model = mb.models.Mubind.make_model(train, n_kernels, criterion, kernels=kernels,\n",
    "                                           use_dinuc=use_dinuc, dinuc_mode=dinuc_mode,\n",
    "                                           optimize_exp_barrier= optimize_exp_barrier,\n",
    "                                           optimize_kernel_rel = optimize_kernel_rel,\n",
    "                                           optimize_sym_weight = optimize_sym_weight).cuda()\n",
    "\n",
    "    model, best_loss = model.optimize_iterative(train,\n",
    "                                                show_logo=0,\n",
    "                                                r2_per_epoch=True,\n",
    "                                                opt_kernel_length=opt_kernel_length,\n",
    "                                                opt_kernel_shift=opt_kernel_shift,\n",
    "                                                dirichlet_regularization=dirichlet_regularization, # 10 ** dirichlet_regularization_log,\n",
    "                                                # lr=lr, weight_decay=wd, ignore_kernel=ignore_kernel,\n",
    "                                                # skip_kernels={2, 3},\n",
    "                                                n_epochs=n_epochs,\n",
    "                                                early_stopping=early_stopping, # optimiser=torch.optim.LBFGS,\n",
    "                                                log_each=log_each,\n",
    "                                                stop_at_kernel=None) #  seed=seed) # seeds.index[0]) #\n",
    "    print('##DONE....\\n\\n')\n",
    "    # print('total time: %.3f s' % ((time.time() - t0)))\n",
    "    # # res = []\n",
    "    # # model_by_k = {}\n",
    "    #\n",
    "    # counts = mb.tl.predict(model, train)\n",
    "    # print(counts)\n",
    "    #\n",
    "    mb.pl.set_rcParams({'figure.figsize': [10, 6], 'figure.dpi': 65})\n",
    "    mb.pl.logo(model)\n",
    "    #\n",
    "    # mb.tl.scores(model, train, by='batch')\n",
    "    mb.pl.set_rcParams({'figure.figsize': [6, 6], 'figure.dpi': 85})\n",
    "    mb.pl.kmer_enrichment(model, train, log_scale=False, style='scatter', ylab='t1', xlab='p1')\n",
    "    # mb.pl.activities(model)\n",
    "    #\n",
    "    # mb.pl.set_rcParams({'figure.figsize': [8, 4], 'figure.dpi': 85})\n",
    "    # mb.pl.loss(model)\n",
    "\n",
    "    models.append([model, best_loss])\n",
    "    break\n",
    "\n",
    "    # break\n"
   ]
  },
  {
   "cell_type": "code",
   "execution_count": null,
   "id": "2c7104a3",
   "metadata": {
    "collapsed": false,
    "pycharm": {
     "name": "#%%\n"
    }
   },
   "outputs": [
    {
     "name": "stdout",
     "output_type": "stream",
     "text": [
      "False False False 0.04036181494958946 68.86447668075562\n"
     ]
    }
   ],
   "source": [
    "for m, best_loss in models:\n",
    "    print(m.optimize_exp_barrier, m.optimize_kernel_rel, m.optimize_sym_weight, m.r2_final, m.total_time)\n"
   ]
  },
  {
   "cell_type": "code",
   "execution_count": null,
   "id": "e11273e8",
   "metadata": {
    "collapsed": false,
    "pycharm": {
     "name": "#%%\n"
    }
   },
   "outputs": [
    {
     "name": "stdout",
     "output_type": "stream",
     "text": [
      "True\n",
      "3\n"
     ]
    },
    {
     "data": {
      "image/png": "[encoded data removed]",
      "text/plain": [
       "<Figure size 510x510 with 4 Axes>"
      ]
     },
     "metadata": {},
     "output_type": "display_data"
    }
   ],
   "source": [
    "for m, best_loss in models:\n",
    "    #print(m.optimize_exp_barrier, m.optimize_kernel_rel, m.optimize_sym_weight, m.r2_final, m.total_time)\n",
    "    mb.pl.conv(m)\n"
   ]
  },
  {
   "cell_type": "code",
   "execution_count": null,
   "id": "9a71736f",
   "metadata": {
    "collapsed": false,
    "pycharm": {
     "name": "#%%\n"
    }
   },
   "outputs": [
    {
     "data": {
      "text/plain": [
       "Multibind(\n",
       "  (padding): ConstantPad2d(padding=(19, 19, 0, 0), value=0.25)\n",
       "  (binding_modes): BindingModesSimple(\n",
       "    (conv_mono): ModuleList(\n",
       "      (0): None\n",
       "      (1): Conv2d(1, 1, kernel_size=(4, 2), stride=(1, 1), bias=False)\n",
       "      (2): Conv2d(1, 1, kernel_size=(4, 20), stride=(1, 1), bias=False)\n",
       "    )\n",
       "    (conv_di): ModuleList(\n",
       "      (0): None\n",
       "      (1): Conv2d(1, 1, kernel_size=(16, 1), stride=(1, 1), bias=False)\n",
       "      (2): Conv2d(1, 1, kernel_size=(16, 19), stride=(1, 1), bias=False)\n",
       "    )\n",
       "  )\n",
       "  (activities): ActivitiesLayer(\n",
       "    (log_activities): ParameterList(\n",
       "        (0): Parameter containing: [torch.cuda.FloatTensor of size 1x2 (GPU 0)]\n",
       "        (1): Parameter containing: [torch.cuda.FloatTensor of size 1x2 (GPU 0)]\n",
       "        (2): Parameter containing: [torch.cuda.FloatTensor of size 1x2 (GPU 0)]\n",
       "    )\n",
       "  )\n",
       "  (selex_module): SelexModule()\n",
       "  (criterion): PoissonLoss()\n",
       ")"
      ]
     },
     "execution_count": 31,
     "metadata": {},
     "output_type": "execute_result"
    }
   ],
   "source": [
    "model"
   ]
  },
  {
   "cell_type": "code",
   "execution_count": null,
   "id": "b6d3c90d",
   "metadata": {
    "collapsed": false,
    "pycharm": {
     "name": "#%%\n"
    }
   },
   "outputs": [
    {
     "data": {
      "text/plain": [
       "<AxesSubplot: xlabel='index', ylabel='r2'>"
      ]
     },
     "execution_count": 32,
     "metadata": {},
     "output_type": "execute_result"
    },
    {
     "data": {
      "image/png": "[encoded data removed]",
      "text/plain": [
       "<Figure size 160x240 with 1 Axes>"
      ]
     },
     "metadata": {},
     "output_type": "display_data"
    }
   ],
   "source": [
    "# contributions per newly added kernel\n",
    "rcParams['figure.figsize'] = 2, 3\n",
    "rcParams['figure.dpi'] = 80\n",
    "import seaborn as sns\n",
    "r2 = pd.DataFrame(model.best_r2_by_new_filter, columns=['r2']).reset_index()\n",
    "sns.barplot(data=r2, x='index', y='r2')\n"
   ]
  },
  {
   "cell_type": "code",
   "execution_count": null,
   "id": "24c22ec3",
   "metadata": {
    "collapsed": false,
    "pycharm": {
     "name": "#%%\n"
    }
   },
   "outputs": [
    {
     "data": {
      "text/plain": [
       "[<matplotlib.lines.Line2D at 0x7f1839260c40>]"
      ]
     },
     "execution_count": 33,
     "metadata": {},
     "output_type": "execute_result"
    },
    {
     "data": {
      "image/png": "[encoded data removed]",
      "text/plain": [
       "<Figure size 2000x500 with 3 Axes>"
      ]
     },
     "metadata": {},
     "output_type": "display_data"
    }
   ],
   "source": [
    "import matplotlib.pyplot as plt\n",
    "rcParams['figure.figsize'] = 20, 5\n",
    "rcParams['figure.dpi'] = 100\n",
    "\n",
    "plt.subplot(1, 4, 1)\n",
    "plt.plot(model.loss_history_log_dynamic)\n",
    "plt.subplot(1, 4, 2)\n",
    "plt.plot(model.loss_history)\n",
    "plt.subplot(1, 4, 3)\n",
    "plt.plot(model.loss_history_sym_weights)\n"
   ]
  }
 ],
 "metadata": {
  "kernelspec": {
   "display_name": "Python [conda env:mubind]",
   "language": "python",
   "name": "conda-env-mubind-py"
  },
  "language_info": {
   "codemirror_mode": {
    "name": "ipython",
    "version": 3
   },
   "file_extension": ".py",
   "mimetype": "text/x-python",
   "name": "python",
   "nbconvert_exporter": "python",
   "pygments_lexer": "ipython3",
   "version": "3.10.8"
  },
  "vscode": {
   "interpreter": {
    "hash": "21beeb3f351c8e886a898db8b4cccf8d4f8a70210033cb08b23469d9f8df079c"
   }
  }
 },
 "nbformat": 4,
 "nbformat_minor": 5
}
