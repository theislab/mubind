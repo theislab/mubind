{
 "cells": [
  {
   "cell_type": "markdown",
   "source": [
    "## This notebook is written for purposes of optimization and bottleneck solving"
   ],
   "metadata": {
    "collapsed": false,
    "pycharm": {
     "name": "#%% md\n"
    }
   }
  },
  {
   "cell_type": "code",
   "execution_count": 1,
   "outputs": [],
   "source": [
    "%load_ext autoreload\n",
    "%autoreload 2"
   ],
   "metadata": {
    "collapsed": false,
    "pycharm": {
     "name": "#%%\n"
    }
   }
  },
  {
   "cell_type": "code",
   "execution_count": 2,
   "outputs": [
    {
     "name": "stdout",
     "output_type": "stream",
     "text": [
      "/mnt/c/Users/ignacio.ibarra/Dropbox/workspace/theislab/mubind/notebooks/optimize\n"
     ]
    }
   ],
   "source": [
    "cd workspace/theislab/mubind/notebooks/optimize"
   ],
   "metadata": {
    "collapsed": false,
    "pycharm": {
     "name": "#%%\n"
    }
   }
  },
  {
   "cell_type": "code",
   "execution_count": 3,
   "outputs": [
    {
     "name": "stderr",
     "output_type": "stream",
     "text": [
      "/home/rio/miniconda3/envs/mubind/lib/python3.10/site-packages/tqdm/auto.py:22: TqdmWarning: IProgress not found. Please update jupyter and ipywidgets. See https://ipywidgets.readthedocs.io/en/stable/user_install.html\n",
      "  from .autonotebook import tqdm as notebook_tqdm\n"
     ]
    },
    {
     "name": "stdout",
     "output_type": "stream",
     "text": [
      "Using device: cuda:0\n"
     ]
    }
   ],
   "source": [
    "import mubind as mb\n",
    "import numpy as np\n",
    "import pandas as pd\n",
    "import torch\n",
    "import bindome as bd\n",
    "bd.constants.ANNOTATIONS_DIRECTORY = '../../annotations'\n",
    "# mb.models.MultiBind\n",
    "import torch.optim as topti\n",
    "import torch.utils.data as tdata\n",
    "import matplotlib.pyplot as plt\n",
    "import logomaker\n",
    "\n",
    "# Use a GPU if available, as it should be faster.\n",
    "device = torch.device(\"cuda:0\" if torch.cuda.is_available() else \"cpu\")\n",
    "print(\"Using device: \" + str(device))"
   ],
   "metadata": {
    "collapsed": false,
    "pycharm": {
     "name": "#%%\n"
    }
   }
  },
  {
   "cell_type": "code",
   "execution_count": 4,
   "outputs": [
    {
     "name": "stdout",
     "output_type": "stream",
     "text": [
      "ALX1-ZeroCycle_TACCAA40NTTA_0_0-TACCAA40NTTA_1000.tsv.gz\n",
      "ALX1-ZeroCycle_TCCTTG40NGGT_0_0-TCCTTG40NGGT_1000.tsv.gz\n",
      "ALX4-ZeroCycle_ES0_TGTGTC20NGA_0-TGTGTC20NGA_1000.tsv.gz\n",
      "ALX4-ZeroCycle_TCTATT40NCAT_0_0-TCTATT40NCAT_1000.tsv.gz\n",
      "ALX4-ZeroCycle_TGCGTA40NTCA_0_0-TGCGTA40NTCA_1000.tsv.gz\n",
      "ALX4-ZeroCycle_TGTGTC20NGA_0_0-TGTGTC20NGA_1000.tsv.gz\n",
      "CTCF-ZeroCycle_ES0_TAGCGA20NGCT_0-TAGCGA20NGCT_1000.tsv.gz\n",
      "CTCF-ZeroCycle_TAGCGA20NGCT_0_0-TAGCGA20NGCT_1000.tsv.gz\n",
      "EGR1-ZeroCycle_ES0_TACTAT20NATC_0-TACTAT20NATC_1000.tsv.gz\n",
      "EGR1-ZeroCycle_ES0_TCTCTT20NGA_0-TCTCTT20NGA_1000.tsv.gz\n",
      "EGR1-ZeroCycle_TACTAT20NATC_0_0-TACTAT20NATC_1000.tsv.gz\n",
      "EGR1-ZeroCycle_TAGACA40NGTC_0_0-TAGACA40NGTC_1000.tsv.gz\n",
      "EGR1-ZeroCycle_TCAGCC40NTTC_0_0-TCAGCC40NTTC_1000.tsv.gz\n",
      "EGR1-ZeroCycle_TCCGCT40NGCG_0_0-TCCGCT40NGCG_1000.tsv.gz\n",
      "EGR1-ZeroCycle_TCTCTT20NGA_0_0-TCTCTT20NGA_1000.tsv.gz\n",
      "EGR1-ZeroCycle_TTGTAC40NGTA_0_0-TTGTAC40NGTA_1000.tsv.gz\n",
      "ELF2-ZeroCycle_TAGGAG40NAGT_0_0-TAGGAG40NAGT_1000.tsv.gz\n",
      "ELF2-ZeroCycle_TGAAAT40NCAA_0_0-TGAAAT40NCAA_1000.tsv.gz\n",
      "ELF2-ZeroCycle_TGCTTC40NTTA_0_0-TGCTTC40NTTA_1000.tsv.gz\n",
      "ELF2-ZeroCycle_TGTCCC40NGGT_0_0-TGTCCC40NGGT_1000.tsv.gz\n",
      "ELF2-ZeroCycle_TTAGCT40NCCT_0_0-TTAGCT40NCCT_1000.tsv.gz\n",
      "ELF2-ZeroCycle_TTCGCC40NGAC_0_0-TTCGCC40NGAC_1000.tsv.gz\n",
      "ELF3-ZeroCycle_ES0_TCCGTG20NTGC_0-TCCGTG20NTGC_1000.tsv.gz\n",
      "ELF3-ZeroCycle_TACATC40NATA_0_0-TACATC40NATA_1000.tsv.gz\n",
      "ELF3-ZeroCycle_TATGTA40NTGT_0_0-TATGTA40NTGT_1000.tsv.gz\n",
      "ELF3-ZeroCycle_TCCGTG20NTGC_0_0-TCCGTG20NTGC_1000.tsv.gz\n",
      "ELF3-ZeroCycle_TCCTCT40NGTC_0_0-TCCTCT40NGTC_1000.tsv.gz\n",
      "ELF3-ZeroCycle_TCTAAC40NACC_0_0-TCTAAC40NACC_1000.tsv.gz\n",
      "ELF4-ZeroCycle_TCAGCA40NCTC_0_0-TCAGCA40NCTC_1000.tsv.gz\n",
      "ELF4-ZeroCycle_TCTTCG40NGAT_0_0-TCTTCG40NGAT_1000.tsv.gz\n",
      "ELF4-ZeroCycle_TGCGGT40NTCA_0_0-TGCGGT40NTCA_1000.tsv.gz\n",
      "ELF4-ZeroCycle_TGTTAA40NACT_0_0-TGTTAA40NACT_1000.tsv.gz\n",
      "ELK1-ZeroCycle_ES0_TCGGAA20NAGT_0-TCGGAA20NAGT_1000.tsv.gz\n",
      "ELK1-ZeroCycle_ES0_TGAGTG20NTGA_0-TGAGTG20NTGA_1000.tsv.gz\n",
      "ELK1-ZeroCycle_TAGCAG30NACT_0_0-TAGCAG30NACT_1000.tsv.gz\n",
      "ELK1-ZeroCycle_TCAGTT40NTTG_0_0-TCAGTT40NTTG_1000.tsv.gz\n",
      "ELK1-ZeroCycle_TCGCAA40NTGT_0_0-TCGCAA40NTGT_1000.tsv.gz\n",
      "ELK1-ZeroCycle_TCGGAA20NAGT_0_0-TCGGAA20NAGT_1000.tsv.gz\n",
      "ELK1-ZeroCycle_TGAGCG40NTTG_0_0-TGAGCG40NTTG_1000.tsv.gz\n",
      "ELK1-ZeroCycle_TGAGTG20NTGA_0_0-TGAGTG20NTGA_1000.tsv.gz\n",
      "ELK1-ZeroCycle_TGCCGA40NGTA_0_0-TGCCGA40NGTA_1000.tsv.gz\n",
      "ELK1-ZeroCycle_TGGTAC40NTCT_0_0-TGGTAC40NTCT_1000.tsv.gz\n",
      "ELK1-ZeroCycle_TGTTAG40NACC_0_0-TGTTAG40NACC_1000.tsv.gz\n",
      "ELK3-ZeroCycle_ES0_TCGGGG20NGGT_0-TCGGGG20NGGT_1000.tsv.gz\n",
      "ELK3-ZeroCycle_TCATAA40NAGC_0_0-TCATAA40NAGC_1000.tsv.gz\n",
      "ELK3-ZeroCycle_TCCCTG40NGTA_0_0-TCCCTG40NGTA_1000.tsv.gz\n",
      "ELK3-ZeroCycle_TCGGGG20NGGT_0_0-TCGGGG20NGGT_1000.tsv.gz\n",
      "ELK3-ZeroCycle_TGTCAG40NGAC_0_0-TGTCAG40NGAC_1000.tsv.gz\n",
      "ELK3-ZeroCycle_TTCGAA40NGAC_0_0-TTCGAA40NGAC_1000.tsv.gz\n",
      "ELK3-ZeroCycle_TTGAAC40NGCT_0_0-TTGAAC40NGCT_1000.tsv.gz\n",
      "ELK3-ZeroCycle_TTGAAT40NTAC_0_0-TTGAAT40NTAC_1000.tsv.gz\n",
      "ETS1-ZeroCycle_ES0_TGTAAA20NGA_0-TGTAAA20NGA_1000.tsv.gz\n",
      "ETS1-ZeroCycle_ES0_TGTACC30NCAG_0-TGTACC30NCAG_1000.tsv.gz\n",
      "ETS1-ZeroCycle_TGTAAA20NGA_0_0-TGTAAA20NGA_1000.tsv.gz\n",
      "ETS1-ZeroCycle_TGTACC30NCAG_0_0-TGTACC30NCAG_1000.tsv.gz\n",
      "ETV4-ZeroCycle_ES0_TCTATG20NTAG_0-TCTATG20NTAG_1000.tsv.gz\n",
      "ETV4-ZeroCycle_TATACC40NGCC_0_0-TATACC40NGCC_1000.tsv.gz\n",
      "ETV4-ZeroCycle_TATGAC40NTCA_0_0-TATGAC40NTCA_1000.tsv.gz\n",
      "ETV4-ZeroCycle_TCTATG20NTAG_0_0-TCTATG20NTAG_1000.tsv.gz\n",
      "ETV4-ZeroCycle_TCTCGA40NCAT_0_0-TCTCGA40NCAT_1000.tsv.gz\n",
      "ETV4-ZeroCycle_TGGACG40NAAG_0_0-TGGACG40NAAG_1000.tsv.gz\n",
      "ETV4-ZeroCycle_TTCTCA40NCCT_0_0-TTCTCA40NCCT_1000.tsv.gz\n",
      "ETV4-ZeroCycle_TTTGCC40NTGA_0_0-TTTGCC40NTGA_1000.tsv.gz\n",
      "ETV5-ZeroCycle_ES0_TGCACT20NGA_0-TGCACT20NGA_1000.tsv.gz\n",
      "ETV5-ZeroCycle_TACATA40NAGA_0_0-TACATA40NAGA_1000.tsv.gz\n",
      "ETV5-ZeroCycle_TGAGGG40NCTT_0_0-TGAGGG40NCTT_1000.tsv.gz\n",
      "ETV5-ZeroCycle_TGCACT20NGA_0_0-TGCACT20NGA_1000.tsv.gz\n",
      "ETV6-ZeroCycle_ES0_TGAGTG20NGA_0-TGAGTG20NGA_1000.tsv.gz\n",
      "ETV6-ZeroCycle_TGAGTG20NGA_0_0-TGAGTG20NGA_1000.tsv.gz\n",
      "FOXA1-ZeroCycle_TAGCGT40NTCA_0_0-TAGCGT40NTCA_1000.tsv.gz\n",
      "FOXA1-ZeroCycle_TCCCAA40NGAA_0_0-TCCCAA40NGAA_1000.tsv.gz\n",
      "FOXA1-ZeroCycle_TCCCAT40NTGT_0_0-TCCCAT40NTGT_1000.tsv.gz\n",
      "FOXA1-ZeroCycle_TTCTAA40NAAT_0_0-TTCTAA40NAAT_1000.tsv.gz\n",
      "GATA4-ZeroCycle_0_R46777-R46777_1000.tsv.gz\n",
      "GATA4TBX5-ZeroCycle_0_R46999-R46999_1000.tsv.gz\n",
      "NKX2-5-ZeroCycle_0_R46777-R46777_1000.tsv.gz\n",
      "NKX2-5-ZeroCycle_TCCGAG40NTGG_0_0-TCCGAG40NTGG_1000.tsv.gz\n",
      "NKX2-5GATA4-ZeroCycle_0_R46777-R46777_1000.tsv.gz\n",
      "NKX2-5TBX5-ZeroCycle_0_R46888-R46888_1000.tsv.gz\n",
      "TBX5-ZeroCycle_0_R46999-R46999_1000.tsv.gz\n"
     ]
    },
    {
     "data": {
      "text/plain": "50904"
     },
     "execution_count": 4,
     "metadata": {},
     "output_type": "execute_result"
    }
   ],
   "source": [
    "import os\n",
    "\n",
    "df = []\n",
    "basedir = '../../../mubind-pipeline/output/snakemake/SELEX'\n",
    "batch = 0\n",
    "\n",
    "n_sample = 100\n",
    "counts_by_dataset = []\n",
    "for tf in os.listdir(basedir):\n",
    "    for f in os.listdir(os.path.join(basedir, tf)):\n",
    "        if f.endswith('.tsv.gz'):\n",
    "\n",
    "            if not '1000' in f:\n",
    "                continue\n",
    "\n",
    "            df2 = pd.read_csv(os.path.join(basedir, tf, f), sep='\\t', index_col=0) # .head(10)\n",
    "            print(f)\n",
    "            assert 'batch' in df2\n",
    "            # print(df2.columns)\n",
    "            n_rounds = len(df2.columns) - 2\n",
    "            sums = df2[df2.columns[:-3]].sum(axis=0)\n",
    "            counts_by_dataset.append(sums)\n",
    "            df2.columns =  list(range(n_rounds)) + ['batch', 'is_count_data']\n",
    "\n",
    "            df2 = df2[~df2.index.str.contains('N')]\n",
    "            df2 = df2.sample(min(n_sample, df2.shape[0]))\n",
    "\n",
    "            df2['batch'] = batch\n",
    "            df2['n_rounds'] = n_rounds\n",
    "            batch += 1\n",
    "            df.append(df2)\n",
    "\n",
    "    # if len(df) > 10:\n",
    "    #     break\n",
    "\n",
    "\n",
    "# concatenation/reordering\n",
    "df = pd.concat(df)\n",
    "df = df[[c for c in df.columns if not c in ['batch', 'is_count_data', 'n_rounds']] + ['batch', 'is_count_data', 'n_rounds']]\n",
    "\n",
    "# total reads\n",
    "sum(pd.concat(counts_by_dataset).drop_duplicates().sort_values(ascending=False))"
   ],
   "metadata": {
    "collapsed": false,
    "pycharm": {
     "name": "#%%\n"
    }
   }
  },
  {
   "cell_type": "markdown",
   "source": [],
   "metadata": {
    "collapsed": false,
    "pycharm": {
     "name": "#%% md\n"
    }
   }
  },
  {
   "cell_type": "code",
   "execution_count": 5,
   "outputs": [],
   "source": [
    "dataset = mb.datasets.SelexDataset(df, n_rounds=df['n_rounds'], labels=list(df.columns[:-3]), store_rev=False)\n",
    "train = tdata.DataLoader(dataset=dataset,\n",
    "                         # batch_size=256,\n",
    "                         batch_size=512,\n",
    "                         shuffle=False)"
   ],
   "metadata": {
    "collapsed": false,
    "pycharm": {
     "name": "#%%\n"
    }
   }
  },
  {
   "cell_type": "code",
   "execution_count": 6,
   "outputs": [],
   "source": [
    "import warnings\n",
    "warnings.filterwarnings('ignore')"
   ],
   "metadata": {
    "collapsed": false,
    "pycharm": {
     "name": "#%%\n"
    }
   }
  },
  {
   "cell_type": "code",
   "execution_count": 7,
   "outputs": [],
   "source": [
    "import numpy as np"
   ],
   "metadata": {
    "collapsed": false,
    "pycharm": {
     "name": "#%%\n"
    }
   }
  },
  {
   "cell_type": "code",
   "execution_count": 16,
   "outputs": [],
   "source": [
    "# assign batch and data type\n",
    "\n",
    "# data['batch'] = 0\n",
    "# data['is_count_data'] = 1\n",
    "# n_batches=3\n",
    "\n",
    "dirichlet_regularization = 0\n",
    "# for dirichlet_regularization_log in range(-5, 3):\n",
    "\n",
    "num_epochs = 3\n",
    "log_each = 10\n",
    "n_kernels = 4\n",
    "lr = [0.01] * n_kernels\n",
    "wd = [0.01,] + [0.001] * (n_kernels - 1)\n",
    "early_stopping = [5,] + [25] * (n_kernels - 1)\n",
    "w = 15 # min(len(motif), 6)\n",
    "opt_kernel_shift = 1\n",
    "opt_kernel_length = 1\n",
    "\n",
    "from matplotlib import rcParams\n",
    "rcParams['figure.figsize'] = 8, 1\n",
    "\n",
    "import time\n",
    "t0 = time.time()\n",
    "\n",
    "criterion = mb.tl.PoissonLoss()"
   ],
   "metadata": {
    "collapsed": false,
    "pycharm": {
     "name": "#%%\n"
    }
   }
  },
  {
   "cell_type": "code",
   "execution_count": 100,
   "outputs": [],
   "source": [
    "criterion = mb.tl.PoissonLoss()\n",
    "\n",
    "n_rounds = train.dataset.n_rounds\n",
    "n_batches = train.dataset.n_batches\n",
    "enr_series = train.dataset.enr_series\n",
    "\n",
    "model = mb.models.Multibind(\n",
    "    datatype=\"selex\",\n",
    "    kernels=[0] + [w] * (n_kernels - 1),\n",
    "    n_rounds=n_rounds,\n",
    "    init_random=False,\n",
    "    use_dinuc=True,\n",
    "    dinuc_mode='full',\n",
    "    n_batches=n_batches,\n",
    "\n",
    "    enr_series=enr_series,\n",
    ").to(device)\n",
    "\n",
    "next_optimiser = topti.Adam(model.parameters(), lr=lr[0], weight_decay=wd[0])\n"
   ],
   "metadata": {
    "collapsed": false,
    "pycharm": {
     "name": "#%%\n"
    }
   }
  },
  {
   "cell_type": "code",
   "execution_count": 101,
   "outputs": [
    {
     "data": {
      "text/plain": "BindingModesSimple(\n  (conv_mono): ModuleList(\n    (0): None\n    (1): Conv2d(1, 1, kernel_size=(4, 15), stride=(1, 1), bias=False)\n    (2): Conv2d(1, 1, kernel_size=(4, 15), stride=(1, 1), bias=False)\n    (3): Conv2d(1, 1, kernel_size=(4, 15), stride=(1, 1), bias=False)\n  )\n  (conv_di): ModuleList(\n    (0): None\n    (1): ModuleList(\n      (0): Conv2d(1, 1, kernel_size=(16, 14), stride=(1, 1))\n      (1): Conv2d(1, 1, kernel_size=(16, 13), stride=(1, 1))\n      (2): Conv2d(1, 1, kernel_size=(16, 12), stride=(1, 1))\n      (3): Conv2d(1, 1, kernel_size=(16, 11), stride=(1, 1))\n      (4): Conv2d(1, 1, kernel_size=(16, 10), stride=(1, 1))\n      (5): Conv2d(1, 1, kernel_size=(16, 9), stride=(1, 1))\n      (6): Conv2d(1, 1, kernel_size=(16, 8), stride=(1, 1))\n      (7): Conv2d(1, 1, kernel_size=(16, 7), stride=(1, 1))\n      (8): Conv2d(1, 1, kernel_size=(16, 6), stride=(1, 1))\n      (9): Conv2d(1, 1, kernel_size=(16, 5), stride=(1, 1))\n      (10): Conv2d(1, 1, kernel_size=(16, 4), stride=(1, 1))\n      (11): Conv2d(1, 1, kernel_size=(16, 3), stride=(1, 1))\n      (12): Conv2d(1, 1, kernel_size=(16, 2), stride=(1, 1))\n      (13): Conv2d(1, 1, kernel_size=(16, 1), stride=(1, 1))\n    )\n    (2): ModuleList(\n      (0): Conv2d(1, 1, kernel_size=(16, 14), stride=(1, 1))\n      (1): Conv2d(1, 1, kernel_size=(16, 13), stride=(1, 1))\n      (2): Conv2d(1, 1, kernel_size=(16, 12), stride=(1, 1))\n      (3): Conv2d(1, 1, kernel_size=(16, 11), stride=(1, 1))\n      (4): Conv2d(1, 1, kernel_size=(16, 10), stride=(1, 1))\n      (5): Conv2d(1, 1, kernel_size=(16, 9), stride=(1, 1))\n      (6): Conv2d(1, 1, kernel_size=(16, 8), stride=(1, 1))\n      (7): Conv2d(1, 1, kernel_size=(16, 7), stride=(1, 1))\n      (8): Conv2d(1, 1, kernel_size=(16, 6), stride=(1, 1))\n      (9): Conv2d(1, 1, kernel_size=(16, 5), stride=(1, 1))\n      (10): Conv2d(1, 1, kernel_size=(16, 4), stride=(1, 1))\n      (11): Conv2d(1, 1, kernel_size=(16, 3), stride=(1, 1))\n      (12): Conv2d(1, 1, kernel_size=(16, 2), stride=(1, 1))\n      (13): Conv2d(1, 1, kernel_size=(16, 1), stride=(1, 1))\n    )\n    (3): ModuleList(\n      (0): Conv2d(1, 1, kernel_size=(16, 14), stride=(1, 1))\n      (1): Conv2d(1, 1, kernel_size=(16, 13), stride=(1, 1))\n      (2): Conv2d(1, 1, kernel_size=(16, 12), stride=(1, 1))\n      (3): Conv2d(1, 1, kernel_size=(16, 11), stride=(1, 1))\n      (4): Conv2d(1, 1, kernel_size=(16, 10), stride=(1, 1))\n      (5): Conv2d(1, 1, kernel_size=(16, 9), stride=(1, 1))\n      (6): Conv2d(1, 1, kernel_size=(16, 8), stride=(1, 1))\n      (7): Conv2d(1, 1, kernel_size=(16, 7), stride=(1, 1))\n      (8): Conv2d(1, 1, kernel_size=(16, 6), stride=(1, 1))\n      (9): Conv2d(1, 1, kernel_size=(16, 5), stride=(1, 1))\n      (10): Conv2d(1, 1, kernel_size=(16, 4), stride=(1, 1))\n      (11): Conv2d(1, 1, kernel_size=(16, 3), stride=(1, 1))\n      (12): Conv2d(1, 1, kernel_size=(16, 2), stride=(1, 1))\n      (13): Conv2d(1, 1, kernel_size=(16, 1), stride=(1, 1))\n    )\n  )\n)"
     },
     "execution_count": 101,
     "metadata": {},
     "output_type": "execute_result"
    }
   ],
   "source": [
    "model.binding_modes"
   ],
   "metadata": {
    "collapsed": false,
    "pycharm": {
     "name": "#%%\n"
    }
   }
  },
  {
   "cell_type": "code",
   "execution_count": 25,
   "outputs": [
    {
     "name": "stdout",
     "output_type": "stream",
     "text": [
      "The line_profiler extension is already loaded. To reload it, use:\n",
      "  %reload_ext line_profiler\n"
     ]
    }
   ],
   "source": [
    "%load_ext line_profiler\n"
   ],
   "metadata": {
    "collapsed": false,
    "pycharm": {
     "name": "#%%\n"
    }
   }
  },
  {
   "cell_type": "code",
   "execution_count": 112,
   "outputs": [
    {
     "name": "stdout",
     "output_type": "stream",
     "text": [
      "optimizer:  Adam \n",
      "criterion: PoissonLoss \n",
      "# epochs: 3 \n",
      "early_stopping: 5\n",
      "lr= 0.01, weight_decay= 0.01, dir weight= 0\n",
      "Final loss: 6.4636704858\n",
      "Total time (model/function): (3.271s / 3.271s)\n",
      "Time per epoch (model/function): (1.635s/ 1.635s)\n",
      "Time per epoch per 1k trials: 0.204s\n",
      "Current time: 2023-01-02 13:09:22.398024\n"
     ]
    }
   ],
   "source": [
    "%lprun -f model.binding_modes.forward mb.tl.optimize_simple(model, train, device, next_optimiser, criterion, num_epochs=num_epochs, early_stopping=early_stopping[0], log_each=log_each, dirichlet_regularization=dirichlet_regularization, exp_max=40, verbose=1)"
   ],
   "metadata": {
    "collapsed": false,
    "pycharm": {
     "name": "#%%\n"
    }
   }
  },
  {
   "cell_type": "code",
   "execution_count": 36,
   "outputs": [
    {
     "data": {
      "text/plain": "torch.Size([8000, 1, 4, 40])"
     },
     "execution_count": 36,
     "metadata": {},
     "output_type": "execute_result"
    }
   ],
   "source": [],
   "metadata": {
    "collapsed": false,
    "pycharm": {
     "name": "#%%\n"
    }
   }
  },
  {
   "cell_type": "code",
   "execution_count": 50,
   "outputs": [
    {
     "name": "stdout",
     "output_type": "stream",
     "text": [
      "torch.Size([8000, 1, 4, 40])\n"
     ]
    }
   ],
   "source": [
    "ki = 20\n",
    "mono = train.dataset.mononuc\n",
    "mono = torch.tensor(mono, device=device).unsqueeze(1)\n",
    "mono_cpu = mono.to('cpu')\n",
    "print(mono.shape)\n",
    "p = mono[:, :, :, :mono.shape[-1] - ki]\n",
    "p_cpu = mono[:, :, :, :mono.shape[-1] - ki]"
   ],
   "metadata": {
    "collapsed": false,
    "pycharm": {
     "name": "#%%\n"
    }
   }
  },
  {
   "cell_type": "code",
   "execution_count": null,
   "outputs": [],
   "source": [
    "%time torch.argmax(p, axis=2)\n",
    "%time torch.argmax(p_cpu, axis=2)"
   ],
   "metadata": {
    "collapsed": false,
    "pycharm": {
     "name": "#%%\n"
    }
   }
  },
  {
   "cell_type": "code",
   "execution_count": 83,
   "outputs": [],
   "source": [
    "p_max = torch.argmax(p, axis=2)"
   ],
   "metadata": {
    "collapsed": false,
    "pycharm": {
     "name": "#%%\n"
    }
   }
  },
  {
   "cell_type": "code",
   "execution_count": 86,
   "outputs": [
    {
     "data": {
      "text/plain": "torch.Size([160000, 16])"
     },
     "execution_count": 86,
     "metadata": {},
     "output_type": "execute_result"
    }
   ],
   "source": [
    "torch.nn.functional.one_hot(p_max.flatten(), num_classes=16).shape"
   ],
   "metadata": {
    "collapsed": false,
    "pycharm": {
     "name": "#%%\n"
    }
   }
  },
  {
   "cell_type": "code",
   "execution_count": 111,
   "outputs": [
    {
     "ename": "RuntimeError",
     "evalue": "CUDA error: unknown error\nCUDA kernel errors might be asynchronously reported at some other API call,so the stacktrace below might be incorrect.\nFor debugging consider passing CUDA_LAUNCH_BLOCKING=1.",
     "output_type": "error",
     "traceback": [
      "\u001B[0;31m---------------------------------------------------------------------------\u001B[0m",
      "\u001B[0;31mRuntimeError\u001B[0m                              Traceback (most recent call last)",
      "Cell \u001B[0;32mIn [111], line 3\u001B[0m\n\u001B[1;32m      1\u001B[0m mono \u001B[38;5;241m=\u001B[39m train\u001B[38;5;241m.\u001B[39mdataset\u001B[38;5;241m.\u001B[39mmononuc\n\u001B[1;32m      2\u001B[0m mono \u001B[38;5;241m=\u001B[39m torch\u001B[38;5;241m.\u001B[39mtensor(mono, device\u001B[38;5;241m=\u001B[39mdevice)\n\u001B[0;32m----> 3\u001B[0m \u001B[43mmodel\u001B[49m\u001B[38;5;241;43m.\u001B[39;49m\u001B[43mforward\u001B[49m\u001B[43m(\u001B[49m\u001B[43mmono\u001B[49m\u001B[43m)\u001B[49m\n",
      "File \u001B[0;32m/mnt/c/Users/ignacio.ibarra/Dropbox/workspace/theislab/mubind/mubind/models/models.py:98\u001B[0m, in \u001B[0;36mMultibind.forward\u001B[0;34m(self, mono, **kwargs)\u001B[0m\n\u001B[1;32m     96\u001B[0m \u001B[38;5;28;01mif\u001B[39;00m \u001B[38;5;28mself\u001B[39m\u001B[38;5;241m.\u001B[39muse_dinuc:\n\u001B[1;32m     97\u001B[0m     \u001B[38;5;28;01mif\u001B[39;00m di \u001B[38;5;129;01mis\u001B[39;00m \u001B[38;5;28;01mNone\u001B[39;00m:\n\u001B[0;32m---> 98\u001B[0m         di \u001B[38;5;241m=\u001B[39m \u001B[43mmb\u001B[49m\u001B[38;5;241;43m.\u001B[39;49m\u001B[43mtl\u001B[49m\u001B[38;5;241;43m.\u001B[39;49m\u001B[43mmono2dinuc\u001B[49m\u001B[43m(\u001B[49m\u001B[43mmono\u001B[49m\u001B[43m)\u001B[49m\n\u001B[1;32m     99\u001B[0m     \u001B[38;5;28;01mif\u001B[39;00m di_rev \u001B[38;5;129;01mis\u001B[39;00m \u001B[38;5;28;01mNone\u001B[39;00m:\n\u001B[1;32m    100\u001B[0m         di_rev \u001B[38;5;241m=\u001B[39m mb\u001B[38;5;241m.\u001B[39mtl\u001B[38;5;241m.\u001B[39mmono2dinuc(mono_rev)\n",
      "File \u001B[0;32m/mnt/c/Users/ignacio.ibarra/Dropbox/workspace/theislab/mubind/mubind/tl/encoding.py:21\u001B[0m, in \u001B[0;36mmono2dinuc\u001B[0;34m(mono)\u001B[0m\n\u001B[1;32m     19\u001B[0m x \u001B[38;5;241m=\u001B[39m torch\u001B[38;5;241m.\u001B[39mcat([mono[:, :, :\u001B[38;5;241m-\u001B[39m\u001B[38;5;241m1\u001B[39m], mono[:, :, \u001B[38;5;241m1\u001B[39m:]], dim\u001B[38;5;241m=\u001B[39m\u001B[38;5;241m1\u001B[39m)\n\u001B[1;32m     20\u001B[0m \u001B[38;5;66;03m# print(x.shape)\u001B[39;00m\n\u001B[0;32m---> 21\u001B[0m dinuc \u001B[38;5;241m=\u001B[39m \u001B[43mtorch\u001B[49m\u001B[38;5;241;43m.\u001B[39;49m\u001B[43mcat\u001B[49m\u001B[43m(\u001B[49m\n\u001B[1;32m     22\u001B[0m \u001B[43m    \u001B[49m\u001B[43m[\u001B[49m\u001B[43m  \u001B[49m\u001B[38;5;66;43;03m# AX\u001B[39;49;00m\n\u001B[1;32m     23\u001B[0m \u001B[43m        \u001B[49m\u001B[43m(\u001B[49m\u001B[43mx\u001B[49m\u001B[43m[\u001B[49m\u001B[43m:\u001B[49m\u001B[43m,\u001B[49m\u001B[43m \u001B[49m\u001B[38;5;241;43m0\u001B[39;49m\u001B[43m,\u001B[49m\u001B[43m \u001B[49m\u001B[43m:\u001B[49m\u001B[43m]\u001B[49m\u001B[43m \u001B[49m\u001B[38;5;241;43m*\u001B[39;49m\u001B[43m \u001B[49m\u001B[43mx\u001B[49m\u001B[43m[\u001B[49m\u001B[43m:\u001B[49m\u001B[43m,\u001B[49m\u001B[43m \u001B[49m\u001B[38;5;241;43m4\u001B[39;49m\u001B[43m,\u001B[49m\u001B[43m \u001B[49m\u001B[43m:\u001B[49m\u001B[43m]\u001B[49m\u001B[43m)\u001B[49m\u001B[43m,\u001B[49m\n\u001B[1;32m     24\u001B[0m \u001B[43m        \u001B[49m\u001B[43m(\u001B[49m\u001B[43mx\u001B[49m\u001B[43m[\u001B[49m\u001B[43m:\u001B[49m\u001B[43m,\u001B[49m\u001B[43m \u001B[49m\u001B[38;5;241;43m0\u001B[39;49m\u001B[43m,\u001B[49m\u001B[43m \u001B[49m\u001B[43m:\u001B[49m\u001B[43m]\u001B[49m\u001B[43m \u001B[49m\u001B[38;5;241;43m*\u001B[39;49m\u001B[43m \u001B[49m\u001B[43mx\u001B[49m\u001B[43m[\u001B[49m\u001B[43m:\u001B[49m\u001B[43m,\u001B[49m\u001B[43m \u001B[49m\u001B[38;5;241;43m5\u001B[39;49m\u001B[43m,\u001B[49m\u001B[43m \u001B[49m\u001B[43m:\u001B[49m\u001B[43m]\u001B[49m\u001B[43m)\u001B[49m\u001B[43m,\u001B[49m\n\u001B[1;32m     25\u001B[0m \u001B[43m        \u001B[49m\u001B[43m(\u001B[49m\u001B[43mx\u001B[49m\u001B[43m[\u001B[49m\u001B[43m:\u001B[49m\u001B[43m,\u001B[49m\u001B[43m \u001B[49m\u001B[38;5;241;43m0\u001B[39;49m\u001B[43m,\u001B[49m\u001B[43m \u001B[49m\u001B[43m:\u001B[49m\u001B[43m]\u001B[49m\u001B[43m \u001B[49m\u001B[38;5;241;43m*\u001B[39;49m\u001B[43m \u001B[49m\u001B[43mx\u001B[49m\u001B[43m[\u001B[49m\u001B[43m:\u001B[49m\u001B[43m,\u001B[49m\u001B[43m \u001B[49m\u001B[38;5;241;43m6\u001B[39;49m\u001B[43m,\u001B[49m\u001B[43m \u001B[49m\u001B[43m:\u001B[49m\u001B[43m]\u001B[49m\u001B[43m)\u001B[49m\u001B[43m,\u001B[49m\n\u001B[1;32m     26\u001B[0m \u001B[43m        \u001B[49m\u001B[43m(\u001B[49m\u001B[43mx\u001B[49m\u001B[43m[\u001B[49m\u001B[43m:\u001B[49m\u001B[43m,\u001B[49m\u001B[43m \u001B[49m\u001B[38;5;241;43m0\u001B[39;49m\u001B[43m,\u001B[49m\u001B[43m \u001B[49m\u001B[43m:\u001B[49m\u001B[43m]\u001B[49m\u001B[43m \u001B[49m\u001B[38;5;241;43m*\u001B[39;49m\u001B[43m \u001B[49m\u001B[43mx\u001B[49m\u001B[43m[\u001B[49m\u001B[43m:\u001B[49m\u001B[43m,\u001B[49m\u001B[43m \u001B[49m\u001B[38;5;241;43m7\u001B[39;49m\u001B[43m,\u001B[49m\u001B[43m \u001B[49m\u001B[43m:\u001B[49m\u001B[43m]\u001B[49m\u001B[43m)\u001B[49m\u001B[43m,\u001B[49m\n\u001B[1;32m     27\u001B[0m \u001B[43m        \u001B[49m\u001B[38;5;66;43;03m# CX\u001B[39;49;00m\n\u001B[1;32m     28\u001B[0m \u001B[43m        \u001B[49m\u001B[43m(\u001B[49m\u001B[43mx\u001B[49m\u001B[43m[\u001B[49m\u001B[43m:\u001B[49m\u001B[43m,\u001B[49m\u001B[43m \u001B[49m\u001B[38;5;241;43m1\u001B[39;49m\u001B[43m,\u001B[49m\u001B[43m \u001B[49m\u001B[43m:\u001B[49m\u001B[43m]\u001B[49m\u001B[43m \u001B[49m\u001B[38;5;241;43m*\u001B[39;49m\u001B[43m \u001B[49m\u001B[43mx\u001B[49m\u001B[43m[\u001B[49m\u001B[43m:\u001B[49m\u001B[43m,\u001B[49m\u001B[43m \u001B[49m\u001B[38;5;241;43m4\u001B[39;49m\u001B[43m,\u001B[49m\u001B[43m \u001B[49m\u001B[43m:\u001B[49m\u001B[43m]\u001B[49m\u001B[43m)\u001B[49m\u001B[43m,\u001B[49m\n\u001B[1;32m     29\u001B[0m \u001B[43m        \u001B[49m\u001B[43m(\u001B[49m\u001B[43mx\u001B[49m\u001B[43m[\u001B[49m\u001B[43m:\u001B[49m\u001B[43m,\u001B[49m\u001B[43m \u001B[49m\u001B[38;5;241;43m1\u001B[39;49m\u001B[43m,\u001B[49m\u001B[43m \u001B[49m\u001B[43m:\u001B[49m\u001B[43m]\u001B[49m\u001B[43m \u001B[49m\u001B[38;5;241;43m*\u001B[39;49m\u001B[43m \u001B[49m\u001B[43mx\u001B[49m\u001B[43m[\u001B[49m\u001B[43m:\u001B[49m\u001B[43m,\u001B[49m\u001B[43m \u001B[49m\u001B[38;5;241;43m5\u001B[39;49m\u001B[43m,\u001B[49m\u001B[43m \u001B[49m\u001B[43m:\u001B[49m\u001B[43m]\u001B[49m\u001B[43m)\u001B[49m\u001B[43m,\u001B[49m\n\u001B[1;32m     30\u001B[0m \u001B[43m        \u001B[49m\u001B[43m(\u001B[49m\u001B[43mx\u001B[49m\u001B[43m[\u001B[49m\u001B[43m:\u001B[49m\u001B[43m,\u001B[49m\u001B[43m \u001B[49m\u001B[38;5;241;43m1\u001B[39;49m\u001B[43m,\u001B[49m\u001B[43m \u001B[49m\u001B[43m:\u001B[49m\u001B[43m]\u001B[49m\u001B[43m \u001B[49m\u001B[38;5;241;43m*\u001B[39;49m\u001B[43m \u001B[49m\u001B[43mx\u001B[49m\u001B[43m[\u001B[49m\u001B[43m:\u001B[49m\u001B[43m,\u001B[49m\u001B[43m \u001B[49m\u001B[38;5;241;43m6\u001B[39;49m\u001B[43m,\u001B[49m\u001B[43m \u001B[49m\u001B[43m:\u001B[49m\u001B[43m]\u001B[49m\u001B[43m)\u001B[49m\u001B[43m,\u001B[49m\n\u001B[1;32m     31\u001B[0m \u001B[43m        \u001B[49m\u001B[43m(\u001B[49m\u001B[43mx\u001B[49m\u001B[43m[\u001B[49m\u001B[43m:\u001B[49m\u001B[43m,\u001B[49m\u001B[43m \u001B[49m\u001B[38;5;241;43m1\u001B[39;49m\u001B[43m,\u001B[49m\u001B[43m \u001B[49m\u001B[43m:\u001B[49m\u001B[43m]\u001B[49m\u001B[43m \u001B[49m\u001B[38;5;241;43m*\u001B[39;49m\u001B[43m \u001B[49m\u001B[43mx\u001B[49m\u001B[43m[\u001B[49m\u001B[43m:\u001B[49m\u001B[43m,\u001B[49m\u001B[43m \u001B[49m\u001B[38;5;241;43m7\u001B[39;49m\u001B[43m,\u001B[49m\u001B[43m \u001B[49m\u001B[43m:\u001B[49m\u001B[43m]\u001B[49m\u001B[43m)\u001B[49m\u001B[43m,\u001B[49m\n\u001B[1;32m     32\u001B[0m \u001B[43m        \u001B[49m\u001B[38;5;66;43;03m# GX\u001B[39;49;00m\n\u001B[1;32m     33\u001B[0m \u001B[43m        \u001B[49m\u001B[43m(\u001B[49m\u001B[43mx\u001B[49m\u001B[43m[\u001B[49m\u001B[43m:\u001B[49m\u001B[43m,\u001B[49m\u001B[43m \u001B[49m\u001B[38;5;241;43m2\u001B[39;49m\u001B[43m,\u001B[49m\u001B[43m \u001B[49m\u001B[43m:\u001B[49m\u001B[43m]\u001B[49m\u001B[43m \u001B[49m\u001B[38;5;241;43m*\u001B[39;49m\u001B[43m \u001B[49m\u001B[43mx\u001B[49m\u001B[43m[\u001B[49m\u001B[43m:\u001B[49m\u001B[43m,\u001B[49m\u001B[43m \u001B[49m\u001B[38;5;241;43m4\u001B[39;49m\u001B[43m,\u001B[49m\u001B[43m \u001B[49m\u001B[43m:\u001B[49m\u001B[43m]\u001B[49m\u001B[43m)\u001B[49m\u001B[43m,\u001B[49m\n\u001B[1;32m     34\u001B[0m \u001B[43m        \u001B[49m\u001B[43m(\u001B[49m\u001B[43mx\u001B[49m\u001B[43m[\u001B[49m\u001B[43m:\u001B[49m\u001B[43m,\u001B[49m\u001B[43m \u001B[49m\u001B[38;5;241;43m2\u001B[39;49m\u001B[43m,\u001B[49m\u001B[43m \u001B[49m\u001B[43m:\u001B[49m\u001B[43m]\u001B[49m\u001B[43m \u001B[49m\u001B[38;5;241;43m*\u001B[39;49m\u001B[43m \u001B[49m\u001B[43mx\u001B[49m\u001B[43m[\u001B[49m\u001B[43m:\u001B[49m\u001B[43m,\u001B[49m\u001B[43m \u001B[49m\u001B[38;5;241;43m5\u001B[39;49m\u001B[43m,\u001B[49m\u001B[43m \u001B[49m\u001B[43m:\u001B[49m\u001B[43m]\u001B[49m\u001B[43m)\u001B[49m\u001B[43m,\u001B[49m\n\u001B[1;32m     35\u001B[0m \u001B[43m        \u001B[49m\u001B[43m(\u001B[49m\u001B[43mx\u001B[49m\u001B[43m[\u001B[49m\u001B[43m:\u001B[49m\u001B[43m,\u001B[49m\u001B[43m \u001B[49m\u001B[38;5;241;43m2\u001B[39;49m\u001B[43m,\u001B[49m\u001B[43m \u001B[49m\u001B[43m:\u001B[49m\u001B[43m]\u001B[49m\u001B[43m \u001B[49m\u001B[38;5;241;43m*\u001B[39;49m\u001B[43m \u001B[49m\u001B[43mx\u001B[49m\u001B[43m[\u001B[49m\u001B[43m:\u001B[49m\u001B[43m,\u001B[49m\u001B[43m \u001B[49m\u001B[38;5;241;43m6\u001B[39;49m\u001B[43m,\u001B[49m\u001B[43m \u001B[49m\u001B[43m:\u001B[49m\u001B[43m]\u001B[49m\u001B[43m)\u001B[49m\u001B[43m,\u001B[49m\n\u001B[1;32m     36\u001B[0m \u001B[43m        \u001B[49m\u001B[43m(\u001B[49m\u001B[43mx\u001B[49m\u001B[43m[\u001B[49m\u001B[43m:\u001B[49m\u001B[43m,\u001B[49m\u001B[43m \u001B[49m\u001B[38;5;241;43m2\u001B[39;49m\u001B[43m,\u001B[49m\u001B[43m \u001B[49m\u001B[43m:\u001B[49m\u001B[43m]\u001B[49m\u001B[43m \u001B[49m\u001B[38;5;241;43m*\u001B[39;49m\u001B[43m \u001B[49m\u001B[43mx\u001B[49m\u001B[43m[\u001B[49m\u001B[43m:\u001B[49m\u001B[43m,\u001B[49m\u001B[43m \u001B[49m\u001B[38;5;241;43m7\u001B[39;49m\u001B[43m,\u001B[49m\u001B[43m \u001B[49m\u001B[43m:\u001B[49m\u001B[43m]\u001B[49m\u001B[43m)\u001B[49m\u001B[43m,\u001B[49m\n\u001B[1;32m     37\u001B[0m \u001B[43m        \u001B[49m\u001B[38;5;66;43;03m# TX\u001B[39;49;00m\n\u001B[1;32m     38\u001B[0m \u001B[43m        \u001B[49m\u001B[43m(\u001B[49m\u001B[43mx\u001B[49m\u001B[43m[\u001B[49m\u001B[43m:\u001B[49m\u001B[43m,\u001B[49m\u001B[43m \u001B[49m\u001B[38;5;241;43m3\u001B[39;49m\u001B[43m,\u001B[49m\u001B[43m \u001B[49m\u001B[43m:\u001B[49m\u001B[43m]\u001B[49m\u001B[43m \u001B[49m\u001B[38;5;241;43m*\u001B[39;49m\u001B[43m \u001B[49m\u001B[43mx\u001B[49m\u001B[43m[\u001B[49m\u001B[43m:\u001B[49m\u001B[43m,\u001B[49m\u001B[43m \u001B[49m\u001B[38;5;241;43m4\u001B[39;49m\u001B[43m,\u001B[49m\u001B[43m \u001B[49m\u001B[43m:\u001B[49m\u001B[43m]\u001B[49m\u001B[43m)\u001B[49m\u001B[43m,\u001B[49m\n\u001B[1;32m     39\u001B[0m \u001B[43m        \u001B[49m\u001B[43m(\u001B[49m\u001B[43mx\u001B[49m\u001B[43m[\u001B[49m\u001B[43m:\u001B[49m\u001B[43m,\u001B[49m\u001B[43m \u001B[49m\u001B[38;5;241;43m3\u001B[39;49m\u001B[43m,\u001B[49m\u001B[43m \u001B[49m\u001B[43m:\u001B[49m\u001B[43m]\u001B[49m\u001B[43m \u001B[49m\u001B[38;5;241;43m*\u001B[39;49m\u001B[43m \u001B[49m\u001B[43mx\u001B[49m\u001B[43m[\u001B[49m\u001B[43m:\u001B[49m\u001B[43m,\u001B[49m\u001B[43m \u001B[49m\u001B[38;5;241;43m5\u001B[39;49m\u001B[43m,\u001B[49m\u001B[43m \u001B[49m\u001B[43m:\u001B[49m\u001B[43m]\u001B[49m\u001B[43m)\u001B[49m\u001B[43m,\u001B[49m\n\u001B[1;32m     40\u001B[0m \u001B[43m        \u001B[49m\u001B[43m(\u001B[49m\u001B[43mx\u001B[49m\u001B[43m[\u001B[49m\u001B[43m:\u001B[49m\u001B[43m,\u001B[49m\u001B[43m \u001B[49m\u001B[38;5;241;43m3\u001B[39;49m\u001B[43m,\u001B[49m\u001B[43m \u001B[49m\u001B[43m:\u001B[49m\u001B[43m]\u001B[49m\u001B[43m \u001B[49m\u001B[38;5;241;43m*\u001B[39;49m\u001B[43m \u001B[49m\u001B[43mx\u001B[49m\u001B[43m[\u001B[49m\u001B[43m:\u001B[49m\u001B[43m,\u001B[49m\u001B[43m \u001B[49m\u001B[38;5;241;43m6\u001B[39;49m\u001B[43m,\u001B[49m\u001B[43m \u001B[49m\u001B[43m:\u001B[49m\u001B[43m]\u001B[49m\u001B[43m)\u001B[49m\u001B[43m,\u001B[49m\n\u001B[1;32m     41\u001B[0m \u001B[43m        \u001B[49m\u001B[43m(\u001B[49m\u001B[43mx\u001B[49m\u001B[43m[\u001B[49m\u001B[43m:\u001B[49m\u001B[43m,\u001B[49m\u001B[43m \u001B[49m\u001B[38;5;241;43m3\u001B[39;49m\u001B[43m,\u001B[49m\u001B[43m \u001B[49m\u001B[43m:\u001B[49m\u001B[43m]\u001B[49m\u001B[43m \u001B[49m\u001B[38;5;241;43m*\u001B[39;49m\u001B[43m \u001B[49m\u001B[43mx\u001B[49m\u001B[43m[\u001B[49m\u001B[43m:\u001B[49m\u001B[43m,\u001B[49m\u001B[43m \u001B[49m\u001B[38;5;241;43m7\u001B[39;49m\u001B[43m,\u001B[49m\u001B[43m \u001B[49m\u001B[43m:\u001B[49m\u001B[43m]\u001B[49m\u001B[43m)\u001B[49m\u001B[43m,\u001B[49m\n\u001B[1;32m     42\u001B[0m \u001B[43m    \u001B[49m\u001B[43m]\u001B[49m\u001B[43m,\u001B[49m\n\u001B[1;32m     43\u001B[0m \u001B[43m    \u001B[49m\u001B[43mdim\u001B[49m\u001B[38;5;241;43m=\u001B[39;49m\u001B[38;5;241;43m1\u001B[39;49m\u001B[43m,\u001B[49m\n\u001B[1;32m     44\u001B[0m \u001B[43m\u001B[49m\u001B[43m)\u001B[49m\u001B[38;5;241m.\u001B[39mreshape(x\u001B[38;5;241m.\u001B[39mshape[\u001B[38;5;241m0\u001B[39m], n_mono\u001B[38;5;241m*\u001B[39m\u001B[38;5;241m*\u001B[39m\u001B[38;5;241m2\u001B[39m, x\u001B[38;5;241m.\u001B[39mshape[\u001B[38;5;241m2\u001B[39m])\n\u001B[1;32m     45\u001B[0m \u001B[38;5;28;01mreturn\u001B[39;00m dinuc\n",
      "\u001B[0;31mRuntimeError\u001B[0m: CUDA error: unknown error\nCUDA kernel errors might be asynchronously reported at some other API call,so the stacktrace below might be incorrect.\nFor debugging consider passing CUDA_LAUNCH_BLOCKING=1."
     ]
    }
   ],
   "source": [
    "mono = train.dataset.mononuc\n",
    "mono = torch.tensor(mono, device=device)\n",
    "model.forward(mono)"
   ],
   "metadata": {
    "collapsed": false,
    "pycharm": {
     "name": "#%%\n"
    }
   }
  },
  {
   "cell_type": "code",
   "execution_count": null,
   "outputs": [],
   "source": [
    "# mb.tl.optimize_simple(model, train, device, next_optimiser, criterion, num_epochs=num_epochs, early_stopping=early_stopping[0], log_each=log_each, dirichlet_regularization=dirichlet_regularization, exp_max=40, verbose=1)"
   ],
   "metadata": {
    "collapsed": false,
    "pycharm": {
     "name": "#%%\n"
    }
   }
  },
  {
   "cell_type": "code",
   "execution_count": 237,
   "outputs": [],
   "source": [
    "import mubind as mb"
   ],
   "metadata": {
    "collapsed": false,
    "pycharm": {
     "name": "#%%\n"
    }
   }
  },
  {
   "cell_type": "code",
   "execution_count": 79,
   "outputs": [
    {
     "name": "stdout",
     "output_type": "stream",
     "text": [
      "CPU times: user 249 µs, sys: 34 µs, total: 283 µs\n",
      "Wall time: 181 µs\n"
     ]
    },
    {
     "data": {
      "text/plain": "tensor([[[1., 1., 1., 1., 1., 1., 1., 1., 1., 1., 1., 1., 1., 1., 1., 1., 1.,\n          1., 1., 1.],\n         [1., 1., 1., 1., 1., 1., 1., 1., 1., 1., 1., 1., 1., 1., 1., 1., 1.,\n          1., 1., 1.],\n         [1., 1., 1., 1., 1., 1., 1., 1., 1., 1., 1., 1., 1., 1., 1., 1., 1.,\n          1., 1., 1.],\n         [1., 1., 1., 1., 1., 1., 1., 1., 1., 1., 1., 1., 1., 1., 1., 1., 1.,\n          1., 1., 1.]]], device='cuda:0')"
     },
     "execution_count": 79,
     "metadata": {},
     "output_type": "execute_result"
    }
   ],
   "source": [
    "%time ii = p.argmax(0); maxval = p.gather(0, ii.unsqueeze(0)).squeeze(0)\n",
    "maxval"
   ],
   "metadata": {
    "collapsed": false,
    "pycharm": {
     "name": "#%%\n"
    }
   }
  },
  {
   "cell_type": "code",
   "execution_count": 58,
   "outputs": [
    {
     "name": "stdout",
     "output_type": "stream",
     "text": [
      "[1 1 1 ... 1 1 1]\n",
      "[1 1 1 ... 1 1 1]\n"
     ]
    },
    {
     "data": {
      "text/plain": [
       "{'r2_counts': 0.14156439819488664,\n",
       " 'r2_foldchange': 0.0962666305646872,\n",
       " 'r2_enr': 0.021791620322068717,\n",
       " 'r2_fc': 0.10256048118399172,\n",
       " 'pearson_foldchange': 0.32025065368238004}"
      ]
     },
     "execution_count": 58,
     "metadata": {},
     "output_type": "execute_result"
    }
   ],
   "source": [
    "model = model_by_k\n",
    "mb.tl.scores(model, train)\n"
   ],
   "metadata": {
    "collapsed": false,
    "pycharm": {
     "name": "#%%\n"
    }
   }
  },
  {
   "cell_type": "code",
   "execution_count": 59,
   "outputs": [
    {
     "name": "stdout",
     "output_type": "stream",
     "text": [
      "[1 1 1 ... 1 1 1]\n",
      "[1 1 1 ... 1 1 1]\n"
     ]
    },
    {
     "data": {
      "text/html": [
       "<div>\n",
       "<style scoped>\n",
       "    .dataframe tbody tr th:only-of-type {\n",
       "        vertical-align: middle;\n",
       "    }\n",
       "\n",
       "    .dataframe tbody tr th {\n",
       "        vertical-align: top;\n",
       "    }\n",
       "\n",
       "    .dataframe thead th {\n",
       "        text-align: right;\n",
       "    }\n",
       "</style>\n",
       "<table border=\"1\" class=\"dataframe\">\n",
       "  <thead>\n",
       "    <tr style=\"text-align: right;\">\n",
       "      <th></th>\n",
       "      <th>t0</th>\n",
       "      <th>t1</th>\n",
       "      <th>p0</th>\n",
       "      <th>p1</th>\n",
       "      <th>batch</th>\n",
       "      <th>n_rounds</th>\n",
       "      <th>enr_pred</th>\n",
       "      <th>enr_obs</th>\n",
       "      <th>f_pred</th>\n",
       "      <th>f_obs</th>\n",
       "    </tr>\n",
       "  </thead>\n",
       "  <tbody>\n",
       "    <tr>\n",
       "      <th>ACTTCCATCACGGGTAGGTTGGGAC</th>\n",
       "      <td>0.0</td>\n",
       "      <td>1.0</td>\n",
       "      <td>0.565514</td>\n",
       "      <td>0.434486</td>\n",
       "      <td>0</td>\n",
       "      <td>2</td>\n",
       "      <td>0.916303</td>\n",
       "      <td>2.0</td>\n",
       "      <td>-0.037961</td>\n",
       "      <td>0.30103</td>\n",
       "    </tr>\n",
       "    <tr>\n",
       "      <th>ACCGGTGCGACATCCGCCATCGATA</th>\n",
       "      <td>0.0</td>\n",
       "      <td>1.0</td>\n",
       "      <td>0.634643</td>\n",
       "      <td>0.365357</td>\n",
       "      <td>0</td>\n",
       "      <td>2</td>\n",
       "      <td>0.835263</td>\n",
       "      <td>2.0</td>\n",
       "      <td>-0.078177</td>\n",
       "      <td>0.30103</td>\n",
       "    </tr>\n",
       "    <tr>\n",
       "      <th>TTACAGGGGCGGATACGGAGGCGGA</th>\n",
       "      <td>0.0</td>\n",
       "      <td>1.0</td>\n",
       "      <td>0.557563</td>\n",
       "      <td>0.442436</td>\n",
       "      <td>0</td>\n",
       "      <td>2</td>\n",
       "      <td>0.926085</td>\n",
       "      <td>2.0</td>\n",
       "      <td>-0.033349</td>\n",
       "      <td>0.30103</td>\n",
       "    </tr>\n",
       "    <tr>\n",
       "      <th>AAATGACATATTGCGCGCTGTGCCA</th>\n",
       "      <td>1.0</td>\n",
       "      <td>0.0</td>\n",
       "      <td>0.554503</td>\n",
       "      <td>0.445497</td>\n",
       "      <td>0</td>\n",
       "      <td>2</td>\n",
       "      <td>0.929877</td>\n",
       "      <td>0.5</td>\n",
       "      <td>-0.031574</td>\n",
       "      <td>-0.30103</td>\n",
       "    </tr>\n",
       "    <tr>\n",
       "      <th>TAATCGCTCGAAATGATGTTAATAG</th>\n",
       "      <td>0.0</td>\n",
       "      <td>1.0</td>\n",
       "      <td>0.538921</td>\n",
       "      <td>0.461079</td>\n",
       "      <td>0</td>\n",
       "      <td>2</td>\n",
       "      <td>0.949418</td>\n",
       "      <td>2.0</td>\n",
       "      <td>-0.022543</td>\n",
       "      <td>0.30103</td>\n",
       "    </tr>\n",
       "    <tr>\n",
       "      <th>...</th>\n",
       "      <td>...</td>\n",
       "      <td>...</td>\n",
       "      <td>...</td>\n",
       "      <td>...</td>\n",
       "      <td>...</td>\n",
       "      <td>...</td>\n",
       "      <td>...</td>\n",
       "      <td>...</td>\n",
       "      <td>...</td>\n",
       "      <td>...</td>\n",
       "    </tr>\n",
       "    <tr>\n",
       "      <th>TTTATGTTTAGGGTCTTTCGAACCG</th>\n",
       "      <td>1.0</td>\n",
       "      <td>0.0</td>\n",
       "      <td>0.706419</td>\n",
       "      <td>0.293581</td>\n",
       "      <td>0</td>\n",
       "      <td>2</td>\n",
       "      <td>0.758067</td>\n",
       "      <td>0.5</td>\n",
       "      <td>-0.120292</td>\n",
       "      <td>-0.30103</td>\n",
       "    </tr>\n",
       "    <tr>\n",
       "      <th>GGGCTCGGACACCGTAGGAGGCTTG</th>\n",
       "      <td>1.0</td>\n",
       "      <td>0.0</td>\n",
       "      <td>0.581304</td>\n",
       "      <td>0.418696</td>\n",
       "      <td>0</td>\n",
       "      <td>2</td>\n",
       "      <td>0.897168</td>\n",
       "      <td>0.5</td>\n",
       "      <td>-0.047126</td>\n",
       "      <td>-0.30103</td>\n",
       "    </tr>\n",
       "    <tr>\n",
       "      <th>TAGTGGTGAGGAGTACGTTTAACGG</th>\n",
       "      <td>0.0</td>\n",
       "      <td>1.0</td>\n",
       "      <td>0.565394</td>\n",
       "      <td>0.434606</td>\n",
       "      <td>0</td>\n",
       "      <td>2</td>\n",
       "      <td>0.916451</td>\n",
       "      <td>2.0</td>\n",
       "      <td>-0.037891</td>\n",
       "      <td>0.30103</td>\n",
       "    </tr>\n",
       "    <tr>\n",
       "      <th>GACGGTGGTGTCAGCATGGGCGATG</th>\n",
       "      <td>1.0</td>\n",
       "      <td>0.0</td>\n",
       "      <td>0.640856</td>\n",
       "      <td>0.359144</td>\n",
       "      <td>0</td>\n",
       "      <td>2</td>\n",
       "      <td>0.828314</td>\n",
       "      <td>0.5</td>\n",
       "      <td>-0.081805</td>\n",
       "      <td>-0.30103</td>\n",
       "    </tr>\n",
       "    <tr>\n",
       "      <th>GTCGCTGCCTCCTTAGATAGGACTC</th>\n",
       "      <td>1.0</td>\n",
       "      <td>0.0</td>\n",
       "      <td>0.580717</td>\n",
       "      <td>0.419283</td>\n",
       "      <td>0</td>\n",
       "      <td>2</td>\n",
       "      <td>0.897873</td>\n",
       "      <td>0.5</td>\n",
       "      <td>-0.046785</td>\n",
       "      <td>-0.30103</td>\n",
       "    </tr>\n",
       "  </tbody>\n",
       "</table>\n",
       "<p>1500 rows × 10 columns</p>\n",
       "</div>"
      ],
      "text/plain": [
       "                            t0   t1        p0        p1  batch  n_rounds  \\\n",
       "ACTTCCATCACGGGTAGGTTGGGAC  0.0  1.0  0.565514  0.434486      0         2   \n",
       "ACCGGTGCGACATCCGCCATCGATA  0.0  1.0  0.634643  0.365357      0         2   \n",
       "TTACAGGGGCGGATACGGAGGCGGA  0.0  1.0  0.557563  0.442436      0         2   \n",
       "AAATGACATATTGCGCGCTGTGCCA  1.0  0.0  0.554503  0.445497      0         2   \n",
       "TAATCGCTCGAAATGATGTTAATAG  0.0  1.0  0.538921  0.461079      0         2   \n",
       "...                        ...  ...       ...       ...    ...       ...   \n",
       "TTTATGTTTAGGGTCTTTCGAACCG  1.0  0.0  0.706419  0.293581      0         2   \n",
       "GGGCTCGGACACCGTAGGAGGCTTG  1.0  0.0  0.581304  0.418696      0         2   \n",
       "TAGTGGTGAGGAGTACGTTTAACGG  0.0  1.0  0.565394  0.434606      0         2   \n",
       "GACGGTGGTGTCAGCATGGGCGATG  1.0  0.0  0.640856  0.359144      0         2   \n",
       "GTCGCTGCCTCCTTAGATAGGACTC  1.0  0.0  0.580717  0.419283      0         2   \n",
       "\n",
       "                           enr_pred  enr_obs    f_pred    f_obs  \n",
       "ACTTCCATCACGGGTAGGTTGGGAC  0.916303      2.0 -0.037961  0.30103  \n",
       "ACCGGTGCGACATCCGCCATCGATA  0.835263      2.0 -0.078177  0.30103  \n",
       "TTACAGGGGCGGATACGGAGGCGGA  0.926085      2.0 -0.033349  0.30103  \n",
       "AAATGACATATTGCGCGCTGTGCCA  0.929877      0.5 -0.031574 -0.30103  \n",
       "TAATCGCTCGAAATGATGTTAATAG  0.949418      2.0 -0.022543  0.30103  \n",
       "...                             ...      ...       ...      ...  \n",
       "TTTATGTTTAGGGTCTTTCGAACCG  0.758067      0.5 -0.120292 -0.30103  \n",
       "GGGCTCGGACACCGTAGGAGGCTTG  0.897168      0.5 -0.047126 -0.30103  \n",
       "TAGTGGTGAGGAGTACGTTTAACGG  0.916451      2.0 -0.037891  0.30103  \n",
       "GACGGTGGTGTCAGCATGGGCGATG  0.828314      0.5 -0.081805 -0.30103  \n",
       "GTCGCTGCCTCCTTAGATAGGACTC  0.897873      0.5 -0.046785 -0.30103  \n",
       "\n",
       "[1500 rows x 10 columns]"
      ]
     },
     "execution_count": 59,
     "metadata": {},
     "output_type": "execute_result"
    }
   ],
   "source": [
    "counts = mb.tl.predict(model, train)\n",
    "counts"
   ],
   "metadata": {
    "collapsed": false,
    "pycharm": {
     "name": "#%%\n"
    }
   }
  },
  {
   "cell_type": "code",
   "execution_count": 60,
   "outputs": [
    {
     "name": "stdout",
     "output_type": "stream",
     "text": [
      "[1 1 1 ... 1 1 1]\n",
      "[1 1 1 ... 1 1 1]\n",
      "[1 1 1 ... 1 1 1]\n",
      "[1 1 1 ... 1 1 1]\n"
     ]
    },
    {
     "data": {
      "image/png": "[encoded data removed]",
      "text/plain": [
       "<Figure size 800x100 with 1 Axes>"
      ]
     },
     "metadata": {},
     "output_type": "display_data"
    },
    {
     "data": {
      "text/plain": [
       "{'r2_counts': 0.14156439819488664,\n",
       " 'r2_foldchange': 0.0962666305646872,\n",
       " 'r2_enr': 0.021791620322068717,\n",
       " 'r2_fc': 0.10256048118399172,\n",
       " 'pearson_foldchange': 0.32025065368238004}"
      ]
     },
     "execution_count": 60,
     "metadata": {},
     "output_type": "execute_result"
    }
   ],
   "source": [
    "mb.pl.kmer_enrichment(model, train, log_scale=False, style='scatter', ylab='t1', xlab='p1')\n"
   ],
   "metadata": {
    "collapsed": false,
    "pycharm": {
     "name": "#%%\n"
    }
   }
  },
  {
   "cell_type": "code",
   "execution_count": 61,
   "outputs": [
    {
     "name": "stdout",
     "output_type": "stream",
     "text": [
      "\n",
      "#activities\n",
      "[[[1.0000745  0.90032023]\n",
      "  [1.         0.5846111 ]]]\n",
      "\n",
      "#log_etas\n",
      "Parameter containing:\n",
      "tensor([[ 1.1396, -1.1396]], device='cuda:0', requires_grad=True)\n"
     ]
    },
    {
     "data": {
      "image/png": "[encoded data removed]",
      "text/plain": [
       "<Figure size 800x100 with 1 Axes>"
      ]
     },
     "metadata": {},
     "output_type": "display_data"
    }
   ],
   "source": [
    "mb.pl.conv_mono(model)\n"
   ],
   "metadata": {
    "collapsed": false,
    "pycharm": {
     "name": "#%%\n"
    }
   }
  },
  {
   "cell_type": "code",
   "execution_count": 35,
   "outputs": [
    {
     "name": "stdout",
     "output_type": "stream",
     "text": [
      "torch.Size([50000, 9]) torch.Size([100, 4, 9]) torch.Size([50000, 4, 9]) torch.Size([50000, 4]) torch.Size([50000])\n",
      "(50000, 9) (100, 4, 9) (50000, 4) torch.Size([50000])\n",
      "453103.7 453103.7 453103.7 tensor(453103.7188) tensor(453103.7500)\n",
      "24.5 ms ± 3.69 ms per loop (mean ± std. dev. of 7 runs, 10 loops each)\n",
      "3.01 ms ± 508 µs per loop (mean ± std. dev. of 7 runs, 100 loops each)\n",
      "124 ms ± 2.18 ms per loop (mean ± std. dev. of 7 runs, 10 loops each)\n"
     ]
    }
   ],
   "source": [
    "# Compare four implementations for the forward function at selexmodule (do not delete)\n",
    "from numba import jit, objmode\n",
    "# @jit\n",
    "def mult1_torch(B, A, S, categories, p):\n",
    "    for i in range(p):\n",
    "        # print(np.matmul(B[categories == i], A[i,:,:]).shape, S[categories == i].shape)\n",
    "        S[categories == i] = torch.matmul(B[categories == i], A[i,:,:])\n",
    "    return torch.sum(S)\n",
    "\n",
    "# @jit\n",
    "def mult1_np(B, A, S, categories, p):\n",
    "    for i in range(p):\n",
    "        # print(np.matmul(B[categories == i], A[i,:,:]).shape, S[categories == i].shape)\n",
    "        S[categories == i] = np.matmul(B[categories == i], A[i,:,:])\n",
    "    return np.sum(S)\n",
    "\n",
    "# @jit\n",
    "def mult2_np(B, A, S, categories, p):\n",
    "    result = np.matmul(np.expand_dims(B, 1), A[categories,:,:])\n",
    "    result = result.squeeze(1)\n",
    "    return np.sum(result)\n",
    "\n",
    "def mult3_np(B, A, S, categories, p):\n",
    "    bigmask = np.arange(p)[:, np.newaxis] == categories\n",
    "    C = np.matmul(B_np, A_np)\n",
    "    res = C[np.broadcast_to(bigmask[..., np.newaxis], C.shape)].reshape(r, q)\n",
    "    sort_index = np.argsort(np.broadcast_to(np.arange(r), bigmask.shape)[bigmask])\n",
    "    return np.sum(res[sort_index])\n",
    "\n",
    "\n",
    "def mult2_torch(B, A, S, categories, p):\n",
    "    result = torch.matmul(B.unsqueeze(1), A[categories,:,:])\n",
    "    result = result.squeeze(1)\n",
    "    return torch.sum(result)\n",
    "\n",
    "# as tensors\n",
    "import numpy as np\n",
    "p = 100\n",
    "q = 9\n",
    "r = 50000\n",
    "t = 4\n",
    "# data initialization\n",
    "np.random.seed(500)\n",
    "# initialize random data\n",
    "S = torch.rand(r, q)\n",
    "A = torch.rand((p, t, q))\n",
    "B = torch.rand(r, t)\n",
    "categories = torch.randint(0, p, (r,))\n",
    "\n",
    "S_np = S.detach().numpy()\n",
    "A_np = A.detach().numpy()\n",
    "B_np = B.detach().numpy()\n",
    "categories_np = categories.detach().numpy()\n",
    "\n",
    "print(S.shape, A.shape, A[categories,:,:].shape, B.shape, categories.shape)\n",
    "print(S_np.shape, A_np.shape, B_np.shape, categories.shape)\n",
    "mult2_np(B_np, A_np, S_np, categories_np, p)\n",
    "\n",
    "%timeit mult1_np(B_np, A_np, S_np, categories_np, p)\n",
    "%timeit mult2_np(B_np, A_np, S_np, categories_np, p)\n",
    "%timeit mult3_np(B_np, A_np, S_np, categories_np, p)\n",
    "# %timeit mult1_torch(B, A, S, categories, p)\n",
    "# %timeit mult2_torch(B, A, S, categories, p)\n",
    "# %timeit mult2_np(B, A, S, categories, p)\n"
   ],
   "metadata": {
    "collapsed": false,
    "pycharm": {
     "name": "#%%\n"
    }
   }
  },
  {
   "cell_type": "code",
   "execution_count": 28,
   "outputs": [
    {
     "data": {
      "text/plain": "array([[False, False, False, ..., False, False, False],\n       [False, False, False, ..., False, False, False],\n       [False, False, False, ..., False, False, False],\n       ...,\n       [False, False, False, ..., False, False, False],\n       [False, False, False, ..., False, False, False],\n       [False, False, False, ..., False, False, False]])"
     },
     "execution_count": 28,
     "metadata": {},
     "output_type": "execute_result"
    }
   ],
   "source": [
    "np.arange(p)[:, np.newaxis] == categories_np"
   ],
   "metadata": {
    "collapsed": false,
    "pycharm": {
     "name": "#%%\n"
    }
   }
  },
  {
   "cell_type": "code",
   "execution_count": 30,
   "outputs": [],
   "source": [],
   "metadata": {
    "collapsed": false,
    "pycharm": {
     "name": "#%%\n"
    }
   }
  }
 ],
 "metadata": {
  "kernelspec": {
   "display_name": "mubind",
   "language": "python",
   "name": "mubind"
  },
  "language_info": {
   "codemirror_mode": {
    "name": "ipython",
    "version": 3
   },
   "file_extension": ".py",
   "mimetype": "text/x-python",
   "name": "python",
   "nbconvert_exporter": "python",
   "pygments_lexer": "ipython3",
   "version": "3.10.8"
  },
  "vscode": {
   "interpreter": {
    "hash": "21beeb3f351c8e886a898db8b4cccf8d4f8a70210033cb08b23469d9f8df079c"
   }
  }
 },
 "nbformat": 4,
 "nbformat_minor": 5
}