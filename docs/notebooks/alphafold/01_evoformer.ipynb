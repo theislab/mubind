{
 "cells": [
  {
   "cell_type": "code",
   "execution_count": null,
   "id": "6e246431-6de1-48e7-90b0-f8ad4a3f6098",
   "metadata": {},
   "outputs": [],
   "source": [
    "import openfold\n",
    "import torch"
   ]
  },
  {
   "cell_type": "code",
   "execution_count": null,
   "id": "dbe91538-ec25-4ce4-af7b-e7777cd256e3",
   "metadata": {},
   "outputs": [],
   "source": [
    "# parameters copied from config.py\n",
    "import ml_collections as mlc\n",
    "c_m = mlc.FieldReference(256, field_type=int)\n",
    "c_z = mlc.FieldReference(128, field_type=int)\n",
    "c_s = mlc.FieldReference(384, field_type=int)\n",
    "blocks_per_ckpt = mlc.FieldReference(None, field_type=int)\n",
    "tune_chunk_size = mlc.FieldReference(True, field_type=bool)\n",
    "\n",
    "# the FiledReferences are not used, because they resulted in errors for me.\n",
    "evoformer_stack = {\n",
    "    \"c_m\": 256,\n",
    "    \"c_z\": 128,\n",
    "    \"c_hidden_msa_att\": 32,\n",
    "    \"c_hidden_opm\": 32,\n",
    "    \"c_hidden_mul\": 128,\n",
    "    \"c_hidden_pair_att\": 32,\n",
    "    \"c_s\": 384,\n",
    "    \"no_heads_msa\": 8,\n",
    "    \"no_heads_pair\": 4,\n",
    "    \"no_blocks\": 48,\n",
    "    \"transition_n\": 4,\n",
    "    \"msa_dropout\": 0.15,\n",
    "    \"pair_dropout\": 0.25,\n",
    "    \"blocks_per_ckpt\": None,\n",
    "    \"clear_cache_between_blocks\": False,\n",
    "    \"tune_chunk_size\": False,\n",
    "    \"inf\": 1e9,\n",
    "    \"eps\": 1e-10,\n",
    "}"
   ]
  },
  {
   "cell_type": "code",
   "execution_count": null,
   "id": "db8a7b1f-2a76-4df0-995c-c4531be2869e",
   "metadata": {},
   "outputs": [],
   "source": [
    "evo = openfold.model.evoformer.EvoformerStack(**evoformer_stack)"
   ]
  },
  {
   "cell_type": "code",
   "execution_count": null,
   "id": "2b013d26-5573-444f-bff9-44c7d7576756",
   "metadata": {},
   "outputs": [],
   "source": [
    "# Running the Evoformer is quite memory consuming. Therefore I chose very small numbers.\n",
    "m = torch.rand(2, 5, 10, 256)  # only c_m = 256 is fixed (b/c of the config), all other random values are arbitrary\n",
    "z = torch.rand(2, 10, 10, 128)  # only c_z = 128 is fixed (b/c of the config), all other random values are arbitrary\n",
    "msa_mask = torch.rand(2, 5, 10)\n",
    "pair_mask = torch.rand(2, 10, 10)\n",
    "chunk_size = 1\n",
    "\n",
    "evo(m, z, msa_mask, pair_mask, chunk_size)"
   ]
  }
 ],
 "metadata": {
  "kernelspec": {
   "display_name": "Python (multibind)",
   "language": "python",
   "name": "multibind"
  },
  "language_info": {
   "codemirror_mode": {
    "name": "ipython",
    "version": 3
   },
   "file_extension": ".py",
   "mimetype": "text/x-python",
   "name": "python",
   "nbconvert_exporter": "python",
   "pygments_lexer": "ipython3",
   "version": "3.10.4"
  }
 },
 "nbformat": 4,
 "nbformat_minor": 5
}
