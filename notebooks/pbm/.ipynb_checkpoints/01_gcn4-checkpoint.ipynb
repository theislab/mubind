{
 "cells": [
  {
   "cell_type": "code",
   "execution_count": 1,
   "id": "d41546ef-50a4-4f82-a112-5b32166b5967",
   "metadata": {},
   "outputs": [],
   "source": [
    "%load_ext autoreload\n",
    "%autoreload 2"
   ]
  },
  {
   "cell_type": "code",
   "execution_count": 2,
   "id": "7112493c-84e6-496c-8a5c-72accf85d1c8",
   "metadata": {},
   "outputs": [
    {
     "name": "stdout",
     "output_type": "stream",
     "text": [
      "Using device: cuda:0\n"
     ]
    }
   ],
   "source": [
    "import mubind as mb\n",
    "import numpy as np\n",
    "import pandas as pd\n",
    "import torch\n",
    "import bindome as bd\n",
    "bd.constants.ANNOTATIONS_DIRECTORY = '../annotations'\n",
    "# mb.models.MultiBind\n",
    "import torch.optim as topti\n",
    "import torch.utils.data as tdata\n",
    "import matplotlib.pyplot as plt\n",
    "import seaborn as sns\n",
    "import logomaker\n",
    "\n",
    "# Use a GPU if available, as it should be faster.\n",
    "device = torch.device(\"cuda:0\" if torch.cuda.is_available() else \"cpu\")\n",
    "print(\"Using device: \" + str(device))"
   ]
  },
  {
   "cell_type": "code",
   "execution_count": 71,
   "id": "10bf1cb2-07ca-450c-8198-810425a55656",
   "metadata": {},
   "outputs": [],
   "source": [
    "df = mb.bindome.datasets.PBM.gcn4_dream_v11()\n",
    "df = df.sort_values('intensity', ascending=False).reset_index(drop=True)"
   ]
  },
  {
   "cell_type": "code",
   "execution_count": 72,
   "id": "ccd7e8b6-430d-4cfe-9a42-7b99ece351e3",
   "metadata": {},
   "outputs": [
    {
     "data": {
      "text/html": [
       "<div>\n",
       "<style scoped>\n",
       "    .dataframe tbody tr th:only-of-type {\n",
       "        vertical-align: middle;\n",
       "    }\n",
       "\n",
       "    .dataframe tbody tr th {\n",
       "        vertical-align: top;\n",
       "    }\n",
       "\n",
       "    .dataframe thead th {\n",
       "        text-align: right;\n",
       "    }\n",
       "</style>\n",
       "<table border=\"1\" class=\"dataframe\">\n",
       "  <thead>\n",
       "    <tr style=\"text-align: right;\">\n",
       "      <th></th>\n",
       "      <th>tf.name</th>\n",
       "      <th>tech</th>\n",
       "      <th>intensity</th>\n",
       "      <th>seq</th>\n",
       "    </tr>\n",
       "  </thead>\n",
       "  <tbody>\n",
       "    <tr>\n",
       "      <th>0</th>\n",
       "      <td>gcn4.v11</td>\n",
       "      <td>upbm</td>\n",
       "      <td>437117.583408</td>\n",
       "      <td>CGCTGATAATGAGTCACACCTTGCCTTCCAGACAAAGTCTGTGTTC...</td>\n",
       "    </tr>\n",
       "    <tr>\n",
       "      <th>1</th>\n",
       "      <td>gcn4.v11</td>\n",
       "      <td>upbm</td>\n",
       "      <td>409629.925695</td>\n",
       "      <td>TCCTGTGACTCATCCATACTCGAACATCCTTATGGAGTCTGTGTTC...</td>\n",
       "    </tr>\n",
       "    <tr>\n",
       "      <th>2</th>\n",
       "      <td>gcn4.v11</td>\n",
       "      <td>upbm</td>\n",
       "      <td>390667.969212</td>\n",
       "      <td>CTAGTATGATGCTAACAGCATGATGACTCATACCGAGTCTGTGTTC...</td>\n",
       "    </tr>\n",
       "    <tr>\n",
       "      <th>3</th>\n",
       "      <td>gcn4.v11</td>\n",
       "      <td>upbm</td>\n",
       "      <td>377628.072915</td>\n",
       "      <td>TTGCGTGGTCGTCGTATTGTATGACTCATGAATTTAGTCTGTGTTC...</td>\n",
       "    </tr>\n",
       "    <tr>\n",
       "      <th>4</th>\n",
       "      <td>gcn4.v11</td>\n",
       "      <td>upbm</td>\n",
       "      <td>360399.922962</td>\n",
       "      <td>TGTGAGTGACTCATAGTAGATTGATTTGAAGGTTAAGTCTGTGTTC...</td>\n",
       "    </tr>\n",
       "    <tr>\n",
       "      <th>...</th>\n",
       "      <td>...</td>\n",
       "      <td>...</td>\n",
       "      <td>...</td>\n",
       "      <td>...</td>\n",
       "    </tr>\n",
       "    <tr>\n",
       "      <th>41899</th>\n",
       "      <td>gcn4.v11</td>\n",
       "      <td>upbm</td>\n",
       "      <td>5709.272026</td>\n",
       "      <td>CCGGGCTAAGAAAGGATGGAGCGCTAGTCCGGGTGCGTCTGTGTTC...</td>\n",
       "    </tr>\n",
       "    <tr>\n",
       "      <th>41900</th>\n",
       "      <td>gcn4.v11</td>\n",
       "      <td>upbm</td>\n",
       "      <td>5058.172853</td>\n",
       "      <td>AGAGCCATCAAGCTCCTATCTAGGACGGCCGAGCGCGTCTGTGTTC...</td>\n",
       "    </tr>\n",
       "    <tr>\n",
       "      <th>41901</th>\n",
       "      <td>gcn4.v11</td>\n",
       "      <td>upbm</td>\n",
       "      <td>4634.742298</td>\n",
       "      <td>GATGCAAGATAAAATAGATTCGGAGCTTCTAGAATGGTCTGTGTTC...</td>\n",
       "    </tr>\n",
       "    <tr>\n",
       "      <th>41902</th>\n",
       "      <td>gcn4.v11</td>\n",
       "      <td>upbm</td>\n",
       "      <td>2481.035063</td>\n",
       "      <td>CACGCCATCGTTATGAGCCTCCGGAGCGTTTAGAACGTCTGTGTTC...</td>\n",
       "    </tr>\n",
       "    <tr>\n",
       "      <th>41903</th>\n",
       "      <td>gcn4.v11</td>\n",
       "      <td>upbm</td>\n",
       "      <td>1163.764928</td>\n",
       "      <td>GCCAAGGACCTATACTAAGGAGCGCTCATCACTACGGTCTGTGTTC...</td>\n",
       "    </tr>\n",
       "  </tbody>\n",
       "</table>\n",
       "<p>41904 rows × 4 columns</p>\n",
       "</div>"
      ],
      "text/plain": [
       "        tf.name  tech      intensity  \\\n",
       "0      gcn4.v11  upbm  437117.583408   \n",
       "1      gcn4.v11  upbm  409629.925695   \n",
       "2      gcn4.v11  upbm  390667.969212   \n",
       "3      gcn4.v11  upbm  377628.072915   \n",
       "4      gcn4.v11  upbm  360399.922962   \n",
       "...         ...   ...            ...   \n",
       "41899  gcn4.v11  upbm    5709.272026   \n",
       "41900  gcn4.v11  upbm    5058.172853   \n",
       "41901  gcn4.v11  upbm    4634.742298   \n",
       "41902  gcn4.v11  upbm    2481.035063   \n",
       "41903  gcn4.v11  upbm    1163.764928   \n",
       "\n",
       "                                                     seq  \n",
       "0      CGCTGATAATGAGTCACACCTTGCCTTCCAGACAAAGTCTGTGTTC...  \n",
       "1      TCCTGTGACTCATCCATACTCGAACATCCTTATGGAGTCTGTGTTC...  \n",
       "2      CTAGTATGATGCTAACAGCATGATGACTCATACCGAGTCTGTGTTC...  \n",
       "3      TTGCGTGGTCGTCGTATTGTATGACTCATGAATTTAGTCTGTGTTC...  \n",
       "4      TGTGAGTGACTCATAGTAGATTGATTTGAAGGTTAAGTCTGTGTTC...  \n",
       "...                                                  ...  \n",
       "41899  CCGGGCTAAGAAAGGATGGAGCGCTAGTCCGGGTGCGTCTGTGTTC...  \n",
       "41900  AGAGCCATCAAGCTCCTATCTAGGACGGCCGAGCGCGTCTGTGTTC...  \n",
       "41901  GATGCAAGATAAAATAGATTCGGAGCTTCTAGAATGGTCTGTGTTC...  \n",
       "41902  CACGCCATCGTTATGAGCCTCCGGAGCGTTTAGAACGTCTGTGTTC...  \n",
       "41903  GCCAAGGACCTATACTAAGGAGCGCTCATCACTACGGTCTGTGTTC...  \n",
       "\n",
       "[41904 rows x 4 columns]"
      ]
     },
     "execution_count": 72,
     "metadata": {},
     "output_type": "execute_result"
    }
   ],
   "source": [
    "df"
   ]
  },
  {
   "cell_type": "code",
   "execution_count": 73,
   "id": "f3708c94-9cbf-495a-9687-469c619579cd",
   "metadata": {},
   "outputs": [],
   "source": [
    "df = df[['seq', 'intensity']]\n",
    "df.columns = ['seq', 0]"
   ]
  },
  {
   "cell_type": "code",
   "execution_count": 59,
   "id": "cacc030a-8a2f-4fc2-82c7-b924865232ec",
   "metadata": {},
   "outputs": [],
   "source": []
  },
  {
   "cell_type": "code",
   "execution_count": 141,
   "id": "bac1c2e7-3b3e-4863-acb1-05f404797494",
   "metadata": {},
   "outputs": [],
   "source": [
    "data = df.copy() # head(10000)\n",
    "data = df.sample(n=5000)\n",
    "\n",
    "data[1] = data[0]\n",
    "data[0] = np.median(data[1])\n",
    "\n",
    "data[0] = np.log(data[0])\n",
    "data[1] = np.log(data[1])\n",
    "\n",
    "data['seq'] = data['seq'].str[:-23]\n",
    "data\n",
    "data = data.set_index('seq')"
   ]
  },
  {
   "cell_type": "code",
   "execution_count": 142,
   "id": "450b5410-5e1a-467d-9b7c-b94edda0e447",
   "metadata": {},
   "outputs": [
    {
     "data": {
      "text/html": [
       "<div>\n",
       "<style scoped>\n",
       "    .dataframe tbody tr th:only-of-type {\n",
       "        vertical-align: middle;\n",
       "    }\n",
       "\n",
       "    .dataframe tbody tr th {\n",
       "        vertical-align: top;\n",
       "    }\n",
       "\n",
       "    .dataframe thead th {\n",
       "        text-align: right;\n",
       "    }\n",
       "</style>\n",
       "<table border=\"1\" class=\"dataframe\">\n",
       "  <thead>\n",
       "    <tr style=\"text-align: right;\">\n",
       "      <th></th>\n",
       "      <th>0</th>\n",
       "      <th>1</th>\n",
       "    </tr>\n",
       "    <tr>\n",
       "      <th>seq</th>\n",
       "      <th></th>\n",
       "      <th></th>\n",
       "    </tr>\n",
       "  </thead>\n",
       "  <tbody>\n",
       "    <tr>\n",
       "      <th>CACCTACTGCCAGCCGAGCCACTTCGTCCGTGGCGGG</th>\n",
       "      <td>9.911873</td>\n",
       "      <td>9.745761</td>\n",
       "    </tr>\n",
       "    <tr>\n",
       "      <th>GGAACGCTAGCCACGGCTATCCGCGGTATCAGTGTCG</th>\n",
       "      <td>9.911873</td>\n",
       "      <td>9.585270</td>\n",
       "    </tr>\n",
       "    <tr>\n",
       "      <th>AGATCCCGTCAGGGCCAAAACCCTGGCTCTCAGAACG</th>\n",
       "      <td>9.911873</td>\n",
       "      <td>9.846068</td>\n",
       "    </tr>\n",
       "    <tr>\n",
       "      <th>GCCACTGAGCACACACACTGCCCGCATCCTTGTTGGG</th>\n",
       "      <td>9.911873</td>\n",
       "      <td>9.871886</td>\n",
       "    </tr>\n",
       "    <tr>\n",
       "      <th>GGGCGGCCGTCTGTTTCACGGGTCAACGGCGTCTTAG</th>\n",
       "      <td>9.911873</td>\n",
       "      <td>9.920924</td>\n",
       "    </tr>\n",
       "    <tr>\n",
       "      <th>...</th>\n",
       "      <td>...</td>\n",
       "      <td>...</td>\n",
       "    </tr>\n",
       "    <tr>\n",
       "      <th>GGACTCAGTACACTTCAACTCTCGAGAATCGTCAAAG</th>\n",
       "      <td>9.911873</td>\n",
       "      <td>10.166187</td>\n",
       "    </tr>\n",
       "    <tr>\n",
       "      <th>AGGTAAATACGGACGGATCAACTTGAGATTCGCCAAG</th>\n",
       "      <td>9.911873</td>\n",
       "      <td>9.275828</td>\n",
       "    </tr>\n",
       "    <tr>\n",
       "      <th>TTGTTCCCGCTAGTTTAGATTTTTAGAAGATTCCCTG</th>\n",
       "      <td>9.911873</td>\n",
       "      <td>9.988733</td>\n",
       "    </tr>\n",
       "    <tr>\n",
       "      <th>AAAGCAAGCTATCTGGATGCAAGGTGGAAGTAAGTGG</th>\n",
       "      <td>9.911873</td>\n",
       "      <td>9.086016</td>\n",
       "    </tr>\n",
       "    <tr>\n",
       "      <th>AGGGCCAGTGAGCGTCGGTACCAGGAGAGGGCTCGTG</th>\n",
       "      <td>9.911873</td>\n",
       "      <td>9.212856</td>\n",
       "    </tr>\n",
       "  </tbody>\n",
       "</table>\n",
       "<p>5000 rows × 2 columns</p>\n",
       "</div>"
      ],
      "text/plain": [
       "                                              0          1\n",
       "seq                                                       \n",
       "CACCTACTGCCAGCCGAGCCACTTCGTCCGTGGCGGG  9.911873   9.745761\n",
       "GGAACGCTAGCCACGGCTATCCGCGGTATCAGTGTCG  9.911873   9.585270\n",
       "AGATCCCGTCAGGGCCAAAACCCTGGCTCTCAGAACG  9.911873   9.846068\n",
       "GCCACTGAGCACACACACTGCCCGCATCCTTGTTGGG  9.911873   9.871886\n",
       "GGGCGGCCGTCTGTTTCACGGGTCAACGGCGTCTTAG  9.911873   9.920924\n",
       "...                                         ...        ...\n",
       "GGACTCAGTACACTTCAACTCTCGAGAATCGTCAAAG  9.911873  10.166187\n",
       "AGGTAAATACGGACGGATCAACTTGAGATTCGCCAAG  9.911873   9.275828\n",
       "TTGTTCCCGCTAGTTTAGATTTTTAGAAGATTCCCTG  9.911873   9.988733\n",
       "AAAGCAAGCTATCTGGATGCAAGGTGGAAGTAAGTGG  9.911873   9.086016\n",
       "AGGGCCAGTGAGCGTCGGTACCAGGAGAGGGCTCGTG  9.911873   9.212856\n",
       "\n",
       "[5000 rows x 2 columns]"
      ]
     },
     "execution_count": 142,
     "metadata": {},
     "output_type": "execute_result"
    }
   ],
   "source": [
    "data"
   ]
  },
  {
   "cell_type": "code",
   "execution_count": 143,
   "id": "c9f0bf4c-8a39-439e-a532-a077b1d5ed58",
   "metadata": {},
   "outputs": [
    {
     "data": {
      "text/plain": [
       "<AxesSubplot:>"
      ]
     },
     "execution_count": 143,
     "metadata": {},
     "output_type": "execute_result"
    },
    {
     "data": {
      "image/png": "[encoded data removed]",
      "text/plain": [
       "<Figure size 360x72 with 1 Axes>"
      ]
     },
     "metadata": {
      "needs_background": "light"
     },
     "output_type": "display_data"
    }
   ],
   "source": [
    "sns.boxplot(data=np.array(data[1]))"
   ]
  },
  {
   "cell_type": "code",
   "execution_count": 144,
   "id": "0b7bf104-3fc9-4f4a-9c52-1db30c146a26",
   "metadata": {},
   "outputs": [
    {
     "name": "stderr",
     "output_type": "stream",
     "text": [
      "/home/rio/miniconda3/envs/multibind/lib/python3.10/site-packages/seaborn/distributions.py:2619: FutureWarning: `distplot` is a deprecated function and will be removed in a future version. Please adapt your code to use either `displot` (a figure-level function with similar flexibility) or `histplot` (an axes-level function for histograms).\n",
      "  warnings.warn(msg, FutureWarning)\n"
     ]
    },
    {
     "data": {
      "text/plain": [
       "<AxesSubplot:ylabel='Density'>"
      ]
     },
     "execution_count": 144,
     "metadata": {},
     "output_type": "execute_result"
    },
    {
     "data": {
      "image/png": "[encoded data removed]",
      "text/plain": [
       "<Figure size 360x72 with 1 Axes>"
      ]
     },
     "metadata": {
      "needs_background": "light"
     },
     "output_type": "display_data"
    }
   ],
   "source": [
    "sns.distplot(np.array(data[1]))"
   ]
  },
  {
   "cell_type": "code",
   "execution_count": 79,
   "id": "5e3fad7a-8cc5-4225-8dcf-e80860405a04",
   "metadata": {},
   "outputs": [],
   "source": [
    "from matplotlib import rcParams\n",
    "rcParams['figure.figsize'] = 5, 1"
   ]
  },
  {
   "cell_type": "code",
   "execution_count": 145,
   "id": "347a2eb9-1b28-483d-b319-b162e0d6bae5",
   "metadata": {},
   "outputs": [
    {
     "name": "stdout",
     "output_type": "stream",
     "text": [
      "loading object (# entries) 5000\n"
     ]
    }
   ],
   "source": [
    "print('loading object (# entries)', data.shape[0])\n",
    "dataset = mb.datasets.SelexDataset(data, n_rounds=1, enr_series=True)\n",
    "train = tdata.DataLoader(dataset=dataset, batch_size=256, shuffle=True)"
   ]
  },
  {
   "cell_type": "markdown",
   "id": "e76d7730-3bfa-4b59-a57a-451af5ea7b27",
   "metadata": {
    "tags": []
   },
   "source": [
    "# DinucSelex model with MSE Loss"
   ]
  },
  {
   "cell_type": "code",
   "execution_count": 146,
   "id": "bc285830-7b24-42e1-a12a-59f0c24dc3c2",
   "metadata": {},
   "outputs": [],
   "source": [
    "model = mb.models.Multibind(use_dinuc=False, kernels=[0, 14], n_rounds=1, n_batches=1).to(device)\n",
    "l2 = []\n",
    "optimiser = topti.Adam(model.parameters(), lr=0.001, weight_decay=0.0001)\n",
    "# optimiser = topti.LBFGS(model.parameters())\n",
    "# criterion = mb.tl.PoissonLoss()\n",
    "criterion = mb.tl.MSELoss()"
   ]
  },
  {
   "cell_type": "code",
   "execution_count": 151,
   "id": "ca741e22-70bf-4ae5-ba94-e95cce30aa44",
   "metadata": {},
   "outputs": [
    {
     "name": "stdout",
     "output_type": "stream",
     "text": [
      "optimizing using <class 'torch.optim.adam.Adam'> and <class 'multibind.tl.loss.MSELoss'> n_epochs 1000 early_stopping 100\n",
      "lr= 0.001, weight_decay= 0.0001, dir weight= 0\n",
      "Epoch: 51, Loss: 0.042422 , best epoch: 41 secs per epoch: 0.207 s\n",
      "Epoch: 101, Loss: 0.042104 , best epoch: 94 secs per epoch: 0.210 s\n",
      "Epoch: 151, Loss: 0.041650 , best epoch: 149 secs per epoch: 0.212 s\n",
      "Epoch: 201, Loss: 0.040653 , best epoch: 196 secs per epoch: 0.210 s\n",
      "Epoch: 251, Loss: 0.040746 , best epoch: 241 secs per epoch: 0.211 s\n",
      "Epoch: 301, Loss: 0.040267 , best epoch: 277 secs per epoch: 0.213 s\n",
      "Epoch: 351, Loss: 0.040018 , best epoch: 334 secs per epoch: 0.211 s\n",
      "Epoch: 401, Loss: 0.039681 , best epoch: 334 secs per epoch: 0.214 s\n",
      "Epoch: 451, Loss: 0.039788 , best epoch: 441 secs per epoch: 0.215 s\n",
      "Epoch: 501, Loss: 0.039485 , best epoch: 489 secs per epoch: 0.216 s\n",
      "Epoch: 551, Loss: 0.039006 , best epoch: 548 secs per epoch: 0.216 s\n",
      "Epoch: 601, Loss: 0.039096 , best epoch: 592 secs per epoch: 0.215 s\n",
      "Epoch: 651, Loss: 0.039092 , best epoch: 610 secs per epoch: 0.215 s\n",
      "Epoch: 701, Loss: 0.038833 , best epoch: 687 secs per epoch: 0.217 s\n",
      "Epoch: 751, Loss: 0.038595 , best epoch: 728 secs per epoch: 0.216 s\n",
      "Epoch: 801, Loss: 0.038617 , best epoch: 793 secs per epoch: 0.216 s\n",
      "Epoch: 851, Loss: 0.038665 , best epoch: 846 secs per epoch: 0.217 s\n",
      "Epoch: 901, Loss: 0.038129 , best epoch: 870 secs per epoch: 0.218 s\n"
     ]
    },
    {
     "ename": "KeyboardInterrupt",
     "evalue": "",
     "output_type": "error",
     "traceback": [
      "\u001b[0;31m---------------------------------------------------------------------------\u001b[0m",
      "\u001b[0;31mKeyboardInterrupt\u001b[0m                         Traceback (most recent call last)",
      "Input \u001b[0;32mIn [151]\u001b[0m, in \u001b[0;36m<cell line: 1>\u001b[0;34m()\u001b[0m\n\u001b[0;32m----> 1\u001b[0m \u001b[43mmb\u001b[49m\u001b[38;5;241;43m.\u001b[39;49m\u001b[43mtl\u001b[49m\u001b[38;5;241;43m.\u001b[39;49m\u001b[43mtrain_network\u001b[49m\u001b[43m(\u001b[49m\u001b[43mmodel\u001b[49m\u001b[43m,\u001b[49m\u001b[43m \u001b[49m\u001b[43mtrain\u001b[49m\u001b[43m,\u001b[49m\u001b[43m \u001b[49m\u001b[43mdevice\u001b[49m\u001b[43m,\u001b[49m\u001b[43m \u001b[49m\u001b[43moptimiser\u001b[49m\u001b[43m,\u001b[49m\u001b[43m \u001b[49m\u001b[43mcriterion\u001b[49m\u001b[43m,\u001b[49m\u001b[43m \u001b[49m\u001b[43mnum_epochs\u001b[49m\u001b[38;5;241;43m=\u001b[39;49m\u001b[38;5;241;43m1000\u001b[39;49m\u001b[43m,\u001b[49m\u001b[43m \u001b[49m\u001b[43mearly_stopping\u001b[49m\u001b[38;5;241;43m=\u001b[39;49m\u001b[38;5;241;43m100\u001b[39;49m\u001b[43m,\u001b[49m\u001b[43m \u001b[49m\u001b[43mlog_each\u001b[49m\u001b[38;5;241;43m=\u001b[39;49m\u001b[38;5;241;43m50\u001b[39;49m\u001b[43m,\u001b[49m\u001b[43m \u001b[49m\u001b[43mverbose\u001b[49m\u001b[38;5;241;43m=\u001b[39;49m\u001b[38;5;241;43m2\u001b[39;49m\u001b[43m)\u001b[49m\n",
      "File \u001b[0;32m/mnt/c/Users/ignacio.ibarra/Dropbox/workspace/theislab/multibind/multibind/tl/prediction.py:133\u001b[0m, in \u001b[0;36mtrain_network\u001b[0;34m(model, train_dataloader, device, optimiser, criterion, num_epochs, early_stopping, dirichlet_regularization, exp_max, log_each, verbose)\u001b[0m\n\u001b[1;32m    129\u001b[0m \u001b[38;5;28;01mif\u001b[39;00m \u001b[38;5;129;01mnot\u001b[39;00m is_LBFGS:\n\u001b[1;32m    130\u001b[0m     \u001b[38;5;66;03m# PyTorch calculates gradients by accumulating contributions to them (useful for\u001b[39;00m\n\u001b[1;32m    131\u001b[0m     \u001b[38;5;66;03m# RNNs).  Hence we must manully set them to zero before calculating them.\u001b[39;00m\n\u001b[1;32m    132\u001b[0m     optimiser\u001b[38;5;241m.\u001b[39mzero_grad()\n\u001b[0;32m--> 133\u001b[0m     outputs \u001b[38;5;241m=\u001b[39m \u001b[43mmodel\u001b[49m\u001b[43m(\u001b[49m\u001b[43minputs\u001b[49m\u001b[43m)\u001b[49m  \u001b[38;5;66;03m# Forward pass through the network.\u001b[39;00m\n\u001b[1;32m    135\u001b[0m     \u001b[38;5;66;03m# weight_dist = model.weight_distances_min_k()\u001b[39;00m\n\u001b[1;32m    136\u001b[0m     dir_weight \u001b[38;5;241m=\u001b[39m dirichlet_regularization \u001b[38;5;241m*\u001b[39m model\u001b[38;5;241m.\u001b[39mdirichlet_regularization()\n",
      "File \u001b[0;32m~/miniconda3/envs/multibind/lib/python3.10/site-packages/torch/nn/modules/module.py:1110\u001b[0m, in \u001b[0;36mModule._call_impl\u001b[0;34m(self, *input, **kwargs)\u001b[0m\n\u001b[1;32m   1106\u001b[0m \u001b[38;5;66;03m# If we don't have any hooks, we want to skip the rest of the logic in\u001b[39;00m\n\u001b[1;32m   1107\u001b[0m \u001b[38;5;66;03m# this function, and just call forward.\u001b[39;00m\n\u001b[1;32m   1108\u001b[0m \u001b[38;5;28;01mif\u001b[39;00m \u001b[38;5;129;01mnot\u001b[39;00m (\u001b[38;5;28mself\u001b[39m\u001b[38;5;241m.\u001b[39m_backward_hooks \u001b[38;5;129;01mor\u001b[39;00m \u001b[38;5;28mself\u001b[39m\u001b[38;5;241m.\u001b[39m_forward_hooks \u001b[38;5;129;01mor\u001b[39;00m \u001b[38;5;28mself\u001b[39m\u001b[38;5;241m.\u001b[39m_forward_pre_hooks \u001b[38;5;129;01mor\u001b[39;00m _global_backward_hooks\n\u001b[1;32m   1109\u001b[0m         \u001b[38;5;129;01mor\u001b[39;00m _global_forward_hooks \u001b[38;5;129;01mor\u001b[39;00m _global_forward_pre_hooks):\n\u001b[0;32m-> 1110\u001b[0m     \u001b[38;5;28;01mreturn\u001b[39;00m \u001b[43mforward_call\u001b[49m\u001b[43m(\u001b[49m\u001b[38;5;241;43m*\u001b[39;49m\u001b[38;5;28;43minput\u001b[39;49m\u001b[43m,\u001b[49m\u001b[43m \u001b[49m\u001b[38;5;241;43m*\u001b[39;49m\u001b[38;5;241;43m*\u001b[39;49m\u001b[43mkwargs\u001b[49m\u001b[43m)\u001b[49m\n\u001b[1;32m   1111\u001b[0m \u001b[38;5;66;03m# Do not call functions when jit is used\u001b[39;00m\n\u001b[1;32m   1112\u001b[0m full_backward_hooks, non_full_backward_hooks \u001b[38;5;241m=\u001b[39m [], []\n",
      "File \u001b[0;32m/mnt/c/Users/ignacio.ibarra/Dropbox/workspace/theislab/multibind/multibind/models/models.py:130\u001b[0m, in \u001b[0;36mMultibind.forward\u001b[0;34m(self, x, min_value)\u001b[0m\n\u001b[1;32m    120\u001b[0m     temp \u001b[38;5;241m=\u001b[39m torch\u001b[38;5;241m.\u001b[39mcat(\n\u001b[1;32m    121\u001b[0m         (\n\u001b[1;32m    122\u001b[0m             \u001b[38;5;28mself\u001b[39m\u001b[38;5;241m.\u001b[39mconv_mono[i](mono),\n\u001b[0;32m   (...)\u001b[0m\n\u001b[1;32m    127\u001b[0m         dim\u001b[38;5;241m=\u001b[39m\u001b[38;5;241m3\u001b[39m,\n\u001b[1;32m    128\u001b[0m     )\n\u001b[1;32m    129\u001b[0m \u001b[38;5;28;01melse\u001b[39;00m:\n\u001b[0;32m--> 130\u001b[0m     temp \u001b[38;5;241m=\u001b[39m \u001b[43mtorch\u001b[49m\u001b[38;5;241;43m.\u001b[39;49m\u001b[43mcat\u001b[49m\u001b[43m(\u001b[49m\u001b[43m(\u001b[49m\u001b[38;5;28;43mself\u001b[39;49m\u001b[38;5;241;43m.\u001b[39;49m\u001b[43mconv_mono\u001b[49m\u001b[43m[\u001b[49m\u001b[43mi\u001b[49m\u001b[43m]\u001b[49m\u001b[43m(\u001b[49m\u001b[43mmono\u001b[49m\u001b[43m)\u001b[49m\u001b[43m,\u001b[49m\u001b[43m \u001b[49m\u001b[38;5;28;43mself\u001b[39;49m\u001b[38;5;241;43m.\u001b[39;49m\u001b[43mconv_mono\u001b[49m\u001b[43m[\u001b[49m\u001b[43mi\u001b[49m\u001b[43m]\u001b[49m\u001b[43m(\u001b[49m\u001b[43mmono_rev\u001b[49m\u001b[43m)\u001b[49m\u001b[43m)\u001b[49m\u001b[43m,\u001b[49m\u001b[43m \u001b[49m\u001b[43mdim\u001b[49m\u001b[38;5;241;43m=\u001b[39;49m\u001b[38;5;241;43m3\u001b[39;49m\u001b[43m)\u001b[49m\n\u001b[1;32m    131\u001b[0m temp \u001b[38;5;241m=\u001b[39m torch\u001b[38;5;241m.\u001b[39mexp(temp)\n\u001b[1;32m    132\u001b[0m temp \u001b[38;5;241m=\u001b[39m temp\u001b[38;5;241m.\u001b[39mview(temp\u001b[38;5;241m.\u001b[39mshape[\u001b[38;5;241m0\u001b[39m], \u001b[38;5;241m-\u001b[39m\u001b[38;5;241m1\u001b[39m)\n",
      "\u001b[0;31mKeyboardInterrupt\u001b[0m: "
     ]
    }
   ],
   "source": [
    "mb.tl.train_network(model, train, device, optimiser, criterion, num_epochs=1000, early_stopping=100, log_each=50, verbose=2)"
   ]
  },
  {
   "cell_type": "code",
   "execution_count": 152,
   "id": "464f70fa-43c8-49d7-821a-e9aaa580ca6c",
   "metadata": {},
   "outputs": [
    {
     "name": "stdout",
     "output_type": "stream",
     "text": [
      "\n",
      "#activities\n",
      "[[[1.0000933  0.7180983 ]\n",
      "  [1.0002316  0.71648735]]]\n",
      "\n",
      "#log_etas\n",
      "Parameter containing:\n",
      "tensor([[ 0.3071, -0.3071]], device='cuda:0', requires_grad=True)\n"
     ]
    },
    {
     "data": {
      "image/png": "[encoded data removed]",
      "text/plain": [
       "<Figure size 360x72 with 1 Axes>"
      ]
     },
     "metadata": {
      "needs_background": "light"
     },
     "output_type": "display_data"
    }
   ],
   "source": [
    "mb.pl.conv_mono(model)"
   ]
  },
  {
   "cell_type": "code",
   "execution_count": 84,
   "id": "dc9ad910-d1ed-4eeb-8b83-18db06f73df6",
   "metadata": {},
   "outputs": [],
   "source": [
    "seqs, targets, preds = mb.tl.test_network(model, train, device)"
   ]
  },
  {
   "cell_type": "code",
   "execution_count": 85,
   "id": "4244d595-6198-4406-88b5-bf0f5e014b13",
   "metadata": {},
   "outputs": [
    {
     "data": {
      "text/plain": [
       "array([[10.5341   , 10.621382 ],\n",
       "       [10.087644 , 10.13384  ],\n",
       "       [ 9.905334 , 10.0463295],\n",
       "       ...,\n",
       "       [ 9.752911 ,  9.882677 ],\n",
       "       [ 9.79137  ,  9.926362 ],\n",
       "       [ 9.703483 ,  9.723465 ]], dtype=float32)"
      ]
     },
     "execution_count": 85,
     "metadata": {},
     "output_type": "execute_result"
    }
   ],
   "source": [
    "preds"
   ]
  },
  {
   "cell_type": "code",
   "execution_count": 86,
   "id": "6d21fb05-a1cf-4328-88ce-632bfaf76d94",
   "metadata": {},
   "outputs": [
    {
     "data": {
      "text/plain": [
       "array([[ 9.916319 , 11.2391615],\n",
       "       [ 9.916319 , 10.305164 ],\n",
       "       [ 9.916319 , 10.035344 ],\n",
       "       ...,\n",
       "       [ 9.916319 ,  9.719268 ],\n",
       "       [ 9.916319 ,  9.801414 ],\n",
       "       [ 9.916319 ,  9.510631 ]], dtype=float32)"
      ]
     },
     "execution_count": 86,
     "metadata": {},
     "output_type": "execute_result"
    }
   ],
   "source": [
    "targets"
   ]
  },
  {
   "cell_type": "code",
   "execution_count": 87,
   "id": "47d12815-b969-48cc-b3f2-dfddc8895132",
   "metadata": {},
   "outputs": [
    {
     "data": {
      "text/plain": [
       "37"
      ]
     },
     "execution_count": 87,
     "metadata": {},
     "output_type": "execute_result"
    }
   ],
   "source": [
    "len(seqs[0])"
   ]
  },
  {
   "cell_type": "markdown",
   "id": "c9c665d2-cd41-4034-9308-ff0a0888eb22",
   "metadata": {
    "tags": []
   },
   "source": [
    "# DinucPBM model, predicting the scores without etas and normalizing layer and without median control"
   ]
  },
  {
   "cell_type": "code",
   "execution_count": 89,
   "id": "450be2c4-5eff-40f9-945f-b4cc9c5f3bba",
   "metadata": {},
   "outputs": [
    {
     "data": {
      "text/html": [
       "<div>\n",
       "<style scoped>\n",
       "    .dataframe tbody tr th:only-of-type {\n",
       "        vertical-align: middle;\n",
       "    }\n",
       "\n",
       "    .dataframe tbody tr th {\n",
       "        vertical-align: top;\n",
       "    }\n",
       "\n",
       "    .dataframe thead th {\n",
       "        text-align: right;\n",
       "    }\n",
       "</style>\n",
       "<table border=\"1\" class=\"dataframe\">\n",
       "  <thead>\n",
       "    <tr style=\"text-align: right;\">\n",
       "      <th></th>\n",
       "      <th>seq</th>\n",
       "      <th>0</th>\n",
       "      <th>batch</th>\n",
       "    </tr>\n",
       "  </thead>\n",
       "  <tbody>\n",
       "    <tr>\n",
       "      <th>0</th>\n",
       "      <td>CGCTGATAATGAGTCACACCTTGCCTTCCAGACAAAG</td>\n",
       "      <td>12.987958</td>\n",
       "      <td>0</td>\n",
       "    </tr>\n",
       "    <tr>\n",
       "      <th>1</th>\n",
       "      <td>TCCTGTGACTCATCCATACTCGAACATCCTTATGGAG</td>\n",
       "      <td>12.923009</td>\n",
       "      <td>0</td>\n",
       "    </tr>\n",
       "    <tr>\n",
       "      <th>2</th>\n",
       "      <td>CTAGTATGATGCTAACAGCATGATGACTCATACCGAG</td>\n",
       "      <td>12.875613</td>\n",
       "      <td>0</td>\n",
       "    </tr>\n",
       "    <tr>\n",
       "      <th>3</th>\n",
       "      <td>TTGCGTGGTCGTCGTATTGTATGACTCATGAATTTAG</td>\n",
       "      <td>12.841665</td>\n",
       "      <td>0</td>\n",
       "    </tr>\n",
       "    <tr>\n",
       "      <th>4</th>\n",
       "      <td>TGTGAGTGACTCATAGTAGATTGATTTGAAGGTTAAG</td>\n",
       "      <td>12.794970</td>\n",
       "      <td>0</td>\n",
       "    </tr>\n",
       "    <tr>\n",
       "      <th>...</th>\n",
       "      <td>...</td>\n",
       "      <td>...</td>\n",
       "      <td>...</td>\n",
       "    </tr>\n",
       "    <tr>\n",
       "      <th>41899</th>\n",
       "      <td>CCGGGCTAAGAAAGGATGGAGCGCTAGTCCGGGTGCG</td>\n",
       "      <td>8.649847</td>\n",
       "      <td>0</td>\n",
       "    </tr>\n",
       "    <tr>\n",
       "      <th>41900</th>\n",
       "      <td>AGAGCCATCAAGCTCCTATCTAGGACGGCCGAGCGCG</td>\n",
       "      <td>8.528761</td>\n",
       "      <td>0</td>\n",
       "    </tr>\n",
       "    <tr>\n",
       "      <th>41901</th>\n",
       "      <td>GATGCAAGATAAAATAGATTCGGAGCTTCTAGAATGG</td>\n",
       "      <td>8.441336</td>\n",
       "      <td>0</td>\n",
       "    </tr>\n",
       "    <tr>\n",
       "      <th>41902</th>\n",
       "      <td>CACGCCATCGTTATGAGCCTCCGGAGCGTTTAGAACG</td>\n",
       "      <td>7.816431</td>\n",
       "      <td>0</td>\n",
       "    </tr>\n",
       "    <tr>\n",
       "      <th>41903</th>\n",
       "      <td>GCCAAGGACCTATACTAAGGAGCGCTCATCACTACGG</td>\n",
       "      <td>7.059416</td>\n",
       "      <td>0</td>\n",
       "    </tr>\n",
       "  </tbody>\n",
       "</table>\n",
       "<p>41904 rows × 3 columns</p>\n",
       "</div>"
      ],
      "text/plain": [
       "                                         seq          0  batch\n",
       "0      CGCTGATAATGAGTCACACCTTGCCTTCCAGACAAAG  12.987958      0\n",
       "1      TCCTGTGACTCATCCATACTCGAACATCCTTATGGAG  12.923009      0\n",
       "2      CTAGTATGATGCTAACAGCATGATGACTCATACCGAG  12.875613      0\n",
       "3      TTGCGTGGTCGTCGTATTGTATGACTCATGAATTTAG  12.841665      0\n",
       "4      TGTGAGTGACTCATAGTAGATTGATTTGAAGGTTAAG  12.794970      0\n",
       "...                                      ...        ...    ...\n",
       "41899  CCGGGCTAAGAAAGGATGGAGCGCTAGTCCGGGTGCG   8.649847      0\n",
       "41900  AGAGCCATCAAGCTCCTATCTAGGACGGCCGAGCGCG   8.528761      0\n",
       "41901  GATGCAAGATAAAATAGATTCGGAGCTTCTAGAATGG   8.441336      0\n",
       "41902  CACGCCATCGTTATGAGCCTCCGGAGCGTTTAGAACG   7.816431      0\n",
       "41903  GCCAAGGACCTATACTAAGGAGCGCTCATCACTACGG   7.059416      0\n",
       "\n",
       "[41904 rows x 3 columns]"
      ]
     },
     "execution_count": 89,
     "metadata": {},
     "output_type": "execute_result"
    }
   ],
   "source": []
  },
  {
   "cell_type": "code",
   "execution_count": 95,
   "id": "4097960d-0651-4321-a94a-1076ac166565",
   "metadata": {},
   "outputs": [],
   "source": [
    "data2 = df.copy()\n",
    "data2 = data2.sample(1000)\n",
    "data2[0] = np.log(data2[0])\n",
    "data2['seq'] = data2['seq'].str[:-23]\n",
    "data2 = data2.set_index('seq')\n",
    "dataset2 = mb.datasets.SelexDataset(data2, n_rounds=0, enr_series=False)\n",
    "train2 = tdata.DataLoader(dataset=dataset2, batch_size=256, shuffle=True)"
   ]
  },
  {
   "cell_type": "code",
   "execution_count": 96,
   "id": "646128a2-40de-4002-9160-eaaec329dc35",
   "metadata": {},
   "outputs": [],
   "source": [
    "model = mb.models.Multibind(use_dinuc=False, kernels=[0, 14], n_rounds=0, n_batches=1, enr_series=False).to(device)\n",
    "l2 = []\n",
    "optimiser = topti.Adam(model.parameters(), lr=0.001, weight_decay=0.0001)\n",
    "# optimiser = topti.LBFGS(model.parameters())\n",
    "# criterion = mb.tl.PoissonLoss()\n",
    "criterion = mb.tl.MSELoss()"
   ]
  },
  {
   "cell_type": "code",
   "execution_count": 97,
   "id": "a1031567-d28a-463b-b3b4-efa730380975",
   "metadata": {},
   "outputs": [
    {
     "name": "stdout",
     "output_type": "stream",
     "text": [
      "optimizing using <class 'torch.optim.adam.Adam'> and <class 'multibind.tl.loss.MSELoss'> n_epochs 500 early_stopping 10\n",
      "lr= 0.001, weight_decay= 0.0001, dir weight= 0\n",
      "Epoch: 11, Loss: 0.000000 , best epoch: 6 secs per epoch: 0.033 s\n",
      "Epoch: 21, Loss: 0.000000 , best epoch: 15 secs per epoch: 0.031 s\n",
      "Epoch: 26, Loss: 0.0000 , best epoch: 15 secs per epoch: 0.031 s\n",
      "early stop!\n",
      "total time: 0.772 s\n",
      "secs per epoch: 0.031 s\n"
     ]
    }
   ],
   "source": [
    "mb.tl.train_network(model, train2, device, optimiser, criterion, num_epochs=500, early_stopping=10, log_each=10, verbose=2)"
   ]
  },
  {
   "cell_type": "code",
   "execution_count": 98,
   "id": "196d888e-412a-446e-9d78-32ffaed68641",
   "metadata": {},
   "outputs": [
    {
     "name": "stdout",
     "output_type": "stream",
     "text": [
      "\n",
      "#activities\n",
      "[[[1.]\n",
      "  [1.]]]\n",
      "\n",
      "#log_etas\n",
      "Parameter containing:\n",
      "tensor([[-3.7893e-10]], device='cuda:0', requires_grad=True)\n"
     ]
    },
    {
     "data": {
      "image/png": "[encoded data removed]",
      "text/plain": [
       "<Figure size 360x72 with 1 Axes>"
      ]
     },
     "metadata": {
      "needs_background": "light"
     },
     "output_type": "display_data"
    }
   ],
   "source": [
    "mb.pl.conv_mono(model)"
   ]
  },
  {
   "cell_type": "markdown",
   "id": "1c450fb4-ca1b-4381-9ea0-c2999c8426e4",
   "metadata": {
    "tags": []
   },
   "source": [
    "# DinucPBM model, predicting transformed scores (currently best)"
   ]
  },
  {
   "cell_type": "code",
   "execution_count": 100,
   "id": "28743185-4dca-4a15-912a-cb9fed0671ca",
   "metadata": {},
   "outputs": [
    {
     "data": {
      "text/html": [
       "<div>\n",
       "<style scoped>\n",
       "    .dataframe tbody tr th:only-of-type {\n",
       "        vertical-align: middle;\n",
       "    }\n",
       "\n",
       "    .dataframe tbody tr th {\n",
       "        vertical-align: top;\n",
       "    }\n",
       "\n",
       "    .dataframe thead th {\n",
       "        text-align: right;\n",
       "    }\n",
       "</style>\n",
       "<table border=\"1\" class=\"dataframe\">\n",
       "  <thead>\n",
       "    <tr style=\"text-align: right;\">\n",
       "      <th></th>\n",
       "      <th>0</th>\n",
       "    </tr>\n",
       "    <tr>\n",
       "      <th>seq</th>\n",
       "      <th></th>\n",
       "    </tr>\n",
       "  </thead>\n",
       "  <tbody>\n",
       "    <tr>\n",
       "      <th>TGTGCATTCTTTGACGGCGGACGCTTATAAGGATATG</th>\n",
       "      <td>1.236252</td>\n",
       "    </tr>\n",
       "    <tr>\n",
       "      <th>GTCGCCTAACAGTGCGGTTGACACAGTCGAGTTCGTG</th>\n",
       "      <td>1.508685</td>\n",
       "    </tr>\n",
       "    <tr>\n",
       "      <th>ATTCAAGAGTATTACCCATATTCGACTGTCCGCAGAG</th>\n",
       "      <td>1.649551</td>\n",
       "    </tr>\n",
       "    <tr>\n",
       "      <th>GATCAGCGTCCCTTTAAACGGGCTCCCTCATGCCGCG</th>\n",
       "      <td>0.941748</td>\n",
       "    </tr>\n",
       "    <tr>\n",
       "      <th>ATCCTTCACTTATACCGGCCATACATCTTATATTGGG</th>\n",
       "      <td>1.937192</td>\n",
       "    </tr>\n",
       "    <tr>\n",
       "      <th>...</th>\n",
       "      <td>...</td>\n",
       "    </tr>\n",
       "    <tr>\n",
       "      <th>TCTAATCTCCTTTCACACATCTGGACGAAGAGTATCG</th>\n",
       "      <td>1.381656</td>\n",
       "    </tr>\n",
       "    <tr>\n",
       "      <th>ATGGGTATGTCAGGGCAACCACGTGGCCCGCTGAAGG</th>\n",
       "      <td>1.426420</td>\n",
       "    </tr>\n",
       "    <tr>\n",
       "      <th>GCTAACAATTACAAGGTGGTGGGACCTAACCCCCGCG</th>\n",
       "      <td>0.870219</td>\n",
       "    </tr>\n",
       "    <tr>\n",
       "      <th>ACATGTGCCATGAAGCCGGTATTAAACATCAGCCGGG</th>\n",
       "      <td>0.808718</td>\n",
       "    </tr>\n",
       "    <tr>\n",
       "      <th>GGTCCTCACAAGGGGATCGTTAAATTTCCCCAACTAG</th>\n",
       "      <td>0.963593</td>\n",
       "    </tr>\n",
       "  </tbody>\n",
       "</table>\n",
       "<p>1000 rows × 1 columns</p>\n",
       "</div>"
      ],
      "text/plain": [
       "                                              0\n",
       "seq                                            \n",
       "TGTGCATTCTTTGACGGCGGACGCTTATAAGGATATG  1.236252\n",
       "GTCGCCTAACAGTGCGGTTGACACAGTCGAGTTCGTG  1.508685\n",
       "ATTCAAGAGTATTACCCATATTCGACTGTCCGCAGAG  1.649551\n",
       "GATCAGCGTCCCTTTAAACGGGCTCCCTCATGCCGCG  0.941748\n",
       "ATCCTTCACTTATACCGGCCATACATCTTATATTGGG  1.937192\n",
       "...                                         ...\n",
       "TCTAATCTCCTTTCACACATCTGGACGAAGAGTATCG  1.381656\n",
       "ATGGGTATGTCAGGGCAACCACGTGGCCCGCTGAAGG  1.426420\n",
       "GCTAACAATTACAAGGTGGTGGGACCTAACCCCCGCG  0.870219\n",
       "ACATGTGCCATGAAGCCGGTATTAAACATCAGCCGGG  0.808718\n",
       "GGTCCTCACAAGGGGATCGTTAAATTTCCCCAACTAG  0.963593\n",
       "\n",
       "[1000 rows x 1 columns]"
      ]
     },
     "execution_count": 100,
     "metadata": {},
     "output_type": "execute_result"
    }
   ],
   "source": [
    "data3 = df.copy()\n",
    "data3 = data3.sample(1000)\n",
    "\n",
    "data3[0] = np.log(data3[0])\n",
    "data3['seq'] = data3['seq'].str[:-23]\n",
    "data3 = data3.set_index('seq')\n",
    "data3[0] = np.exp(data3[0] - np.median(data3[0]))\n",
    "data3"
   ]
  },
  {
   "cell_type": "code",
   "execution_count": 101,
   "id": "fb4f0ccc-c5e6-43b4-bbd3-1f7480150248",
   "metadata": {},
   "outputs": [],
   "source": [
    "dataset3 = mb.datasets.SelexDataset(data3, n_rounds=0, enr_series=False)\n",
    "train3 = tdata.DataLoader(dataset=dataset3, batch_size=256, shuffle=True)"
   ]
  },
  {
   "cell_type": "code",
   "execution_count": 103,
   "id": "c21cf8c3-2b11-405e-a455-5ab14e9f227f",
   "metadata": {},
   "outputs": [],
   "source": [
    "model = mb.models.Multibind(use_dinuc=False, kernels=[0, 14], n_rounds=0, n_batches=1, enr_series=False).to(device)\n",
    "l2 = []\n",
    "optimiser = topti.Adam(model.parameters(), lr=0.001, weight_decay=0.0001)\n",
    "# optimiser = topti.LBFGS(model.parameters())\n",
    "# criterion = mb.tl.PoissonLoss()\n",
    "criterion = mb.tl.MSELoss()"
   ]
  },
  {
   "cell_type": "code",
   "execution_count": 104,
   "id": "a921eca7-0309-4dbf-89ad-92ca88609824",
   "metadata": {},
   "outputs": [
    {
     "name": "stdout",
     "output_type": "stream",
     "text": [
      "optimizing using <class 'torch.optim.adam.Adam'> and <class 'multibind.tl.loss.MSELoss'> n_epochs 500 early_stopping 10\n",
      "lr= 0.001, weight_decay= 0.0001, dir weight= 0\n",
      "Epoch: 11, Loss: 0.000000 , best epoch: 1 secs per epoch: 0.033 s\n",
      "Epoch: 12, Loss: 0.0000 , best epoch: 1 secs per epoch: 0.033 s\n",
      "early stop!\n",
      "total time: 0.364 s\n",
      "secs per epoch: 0.033 s\n"
     ]
    }
   ],
   "source": [
    "mb.tl.train_network(model, train3, device, optimiser, criterion, num_epochs=500, early_stopping=10, log_each=10, verbose=2)"
   ]
  },
  {
   "cell_type": "code",
   "execution_count": 105,
   "id": "9cb8dfe8",
   "metadata": {},
   "outputs": [
    {
     "data": {
      "text/plain": [
       "tensor([[[4.0242, 4.0427, 4.0783, 3.9064, 3.9654, 3.9272, 3.9573, 3.9595,\n",
       "          3.9191, 3.8385, 3.9237, 4.0639, 3.9319, 4.0948]]], device='cuda:0',\n",
       "       grad_fn=<SumBackward1>)"
      ]
     },
     "execution_count": 105,
     "metadata": {},
     "output_type": "execute_result"
    }
   ],
   "source": [
    "torch.sum(torch.exp(model.conv_mono[1].weight), dim=2)"
   ]
  },
  {
   "cell_type": "markdown",
   "id": "1db50eb0-aab5-4570-9866-fb61eec11880",
   "metadata": {},
   "source": [
    "Same dataset, but PBM model with log output"
   ]
  },
  {
   "cell_type": "code",
   "execution_count": 107,
   "id": "cc7f24e5",
   "metadata": {},
   "outputs": [],
   "source": [
    "model = mb.models.Multibind(use_dinuc=False, kernels=[0, 14], n_rounds=0, n_batches=1, enr_series=False).to(device)\n",
    "l2 = []\n",
    "optimiser = topti.Adam(model.parameters(), lr=0.001, weight_decay=0.0001)\n",
    "# optimiser = topti.LBFGS(model.parameters())\n",
    "# criterion = mb.tl.PoissonLoss()\n",
    "criterion = mb.tl.MSELoss()"
   ]
  },
  {
   "cell_type": "code",
   "execution_count": 108,
   "id": "c0cd87ed",
   "metadata": {},
   "outputs": [
    {
     "name": "stdout",
     "output_type": "stream",
     "text": [
      "optimizing using <class 'torch.optim.adam.Adam'> and <class 'multibind.tl.loss.MSELoss'> n_epochs 500 early_stopping 10\n",
      "lr= 0.001, weight_decay= 0.0001, dir weight= 0\n",
      "Epoch: 11, Loss: 0.000000 , best epoch: 2 secs per epoch: 0.033 s\n",
      "Epoch: 13, Loss: 0.0000 , best epoch: 2 secs per epoch: 0.033 s\n",
      "early stop!\n",
      "total time: 0.393 s\n",
      "secs per epoch: 0.033 s\n"
     ]
    }
   ],
   "source": [
    "mb.tl.train_network(model, train3, device, optimiser, criterion, num_epochs=500, early_stopping=10, log_each=10, verbose=2)"
   ]
  },
  {
   "cell_type": "code",
   "execution_count": 109,
   "id": "6a1d1e9c",
   "metadata": {},
   "outputs": [
    {
     "data": {
      "text/plain": [
       "tensor([[[4.0011, 3.9714, 4.0661, 3.9418, 3.8697, 3.9976, 4.0009, 4.0419,\n",
       "          4.0109, 4.0243, 4.0171, 4.0971, 4.0338, 4.0019]]], device='cuda:0',\n",
       "       grad_fn=<SumBackward1>)"
      ]
     },
     "execution_count": 109,
     "metadata": {},
     "output_type": "execute_result"
    }
   ],
   "source": [
    "torch.sum(torch.exp(model.conv_mono[1].weight), dim=2)"
   ]
  },
  {
   "cell_type": "code",
   "execution_count": 110,
   "id": "ab2cd1f0-4685-470e-a57b-3524986a58e8",
   "metadata": {},
   "outputs": [],
   "source": [
    "seqs, targets, preds = mb.tl.test_network(model, train3, device)"
   ]
  },
  {
   "cell_type": "code",
   "execution_count": 153,
   "id": "a63a603b-d7c0-46a9-80f6-1106dc6de2db",
   "metadata": {},
   "outputs": [],
   "source": [
    "# targets"
   ]
  },
  {
   "cell_type": "code",
   "execution_count": 154,
   "id": "3fed26d6-29ca-4c0c-a30d-df156ff4790f",
   "metadata": {},
   "outputs": [],
   "source": [
    "# preds"
   ]
  },
  {
   "cell_type": "code",
   "execution_count": 113,
   "id": "96100f2a-3d49-446e-aa2b-d7c2413e1f75",
   "metadata": {},
   "outputs": [
    {
     "data": {
      "text/plain": [
       "<AxesSubplot:>"
      ]
     },
     "execution_count": 113,
     "metadata": {},
     "output_type": "execute_result"
    },
    {
     "data": {
      "image/png": "[encoded data removed]",
      "text/plain": [
       "<Figure size 360x72 with 1 Axes>"
      ]
     },
     "metadata": {
      "needs_background": "light"
     },
     "output_type": "display_data"
    }
   ],
   "source": [
    "sns.boxplot(data=(targets, preds))"
   ]
  },
  {
   "cell_type": "markdown",
   "id": "7e351381-337f-4007-93a8-978baba73acc",
   "metadata": {},
   "source": [
    "DinucPBM model with log output"
   ]
  },
  {
   "cell_type": "code",
   "execution_count": 115,
   "id": "225dda4c-06ac-4dbb-889c-10355435e17c",
   "metadata": {},
   "outputs": [
    {
     "data": {
      "text/html": [
       "<div>\n",
       "<style scoped>\n",
       "    .dataframe tbody tr th:only-of-type {\n",
       "        vertical-align: middle;\n",
       "    }\n",
       "\n",
       "    .dataframe tbody tr th {\n",
       "        vertical-align: top;\n",
       "    }\n",
       "\n",
       "    .dataframe thead th {\n",
       "        text-align: right;\n",
       "    }\n",
       "</style>\n",
       "<table border=\"1\" class=\"dataframe\">\n",
       "  <thead>\n",
       "    <tr style=\"text-align: right;\">\n",
       "      <th></th>\n",
       "      <th>0</th>\n",
       "    </tr>\n",
       "    <tr>\n",
       "      <th>seq</th>\n",
       "      <th></th>\n",
       "    </tr>\n",
       "  </thead>\n",
       "  <tbody>\n",
       "    <tr>\n",
       "      <th>ACGTTGTAGGATTATGGCTGGGTGGAAGCGTCGCAGG</th>\n",
       "      <td>0.066102</td>\n",
       "    </tr>\n",
       "    <tr>\n",
       "      <th>CTGTCGCAGGACGCGCCCCCCCTATGTAAATACCACG</th>\n",
       "      <td>0.218522</td>\n",
       "    </tr>\n",
       "    <tr>\n",
       "      <th>TCAACAGGAACTCGTTATCGGGCCGGGCGTGGCGGCG</th>\n",
       "      <td>-0.566436</td>\n",
       "    </tr>\n",
       "    <tr>\n",
       "      <th>ACGGGCTCGCAGATAAGGTTAAAAGTACACTACTTCG</th>\n",
       "      <td>-0.258668</td>\n",
       "    </tr>\n",
       "    <tr>\n",
       "      <th>ATCCCGCCGAGGAGGACAGAGACCCAGGGTTCAGCGG</th>\n",
       "      <td>-0.754161</td>\n",
       "    </tr>\n",
       "    <tr>\n",
       "      <th>...</th>\n",
       "      <td>...</td>\n",
       "    </tr>\n",
       "    <tr>\n",
       "      <th>ACGGAGCATCTCTAACTGTCCTGATACATTGACGATG</th>\n",
       "      <td>0.249822</td>\n",
       "    </tr>\n",
       "    <tr>\n",
       "      <th>GAGATTTTAGGTGTCCCCCATGCACGCGACTCGCGAG</th>\n",
       "      <td>0.176751</td>\n",
       "    </tr>\n",
       "    <tr>\n",
       "      <th>TCAGTTTGTTTGGGACGCGGCGGTGCGGCACCTCACG</th>\n",
       "      <td>-0.000201</td>\n",
       "    </tr>\n",
       "    <tr>\n",
       "      <th>CGCCGGGGAAGTGTAAAGCCACCGCTCGCCAAGGAAG</th>\n",
       "      <td>-0.388681</td>\n",
       "    </tr>\n",
       "    <tr>\n",
       "      <th>AGCCAGGTCCCGATTACGTGGCTAAGGGCAGGTTTTG</th>\n",
       "      <td>1.011775</td>\n",
       "    </tr>\n",
       "  </tbody>\n",
       "</table>\n",
       "<p>2500 rows × 1 columns</p>\n",
       "</div>"
      ],
      "text/plain": [
       "                                              0\n",
       "seq                                            \n",
       "ACGTTGTAGGATTATGGCTGGGTGGAAGCGTCGCAGG  0.066102\n",
       "CTGTCGCAGGACGCGCCCCCCCTATGTAAATACCACG  0.218522\n",
       "TCAACAGGAACTCGTTATCGGGCCGGGCGTGGCGGCG -0.566436\n",
       "ACGGGCTCGCAGATAAGGTTAAAAGTACACTACTTCG -0.258668\n",
       "ATCCCGCCGAGGAGGACAGAGACCCAGGGTTCAGCGG -0.754161\n",
       "...                                         ...\n",
       "ACGGAGCATCTCTAACTGTCCTGATACATTGACGATG  0.249822\n",
       "GAGATTTTAGGTGTCCCCCATGCACGCGACTCGCGAG  0.176751\n",
       "TCAGTTTGTTTGGGACGCGGCGGTGCGGCACCTCACG -0.000201\n",
       "CGCCGGGGAAGTGTAAAGCCACCGCTCGCCAAGGAAG -0.388681\n",
       "AGCCAGGTCCCGATTACGTGGCTAAGGGCAGGTTTTG  1.011775\n",
       "\n",
       "[2500 rows x 1 columns]"
      ]
     },
     "execution_count": 115,
     "metadata": {},
     "output_type": "execute_result"
    }
   ],
   "source": [
    "data4 = df.copy()\n",
    "data4 = data4.sample(2500)\n",
    "data4[0] = np.log(data4[0])\n",
    "data4['seq'] = data4['seq'].str[:-23]\n",
    "data4 = data4.set_index('seq')\n",
    "data4[0] = data4[0] - np.median(data4[0])\n",
    "data4"
   ]
  },
  {
   "cell_type": "code",
   "execution_count": 116,
   "id": "13086177-cbb8-42ea-bba6-8273512729d5",
   "metadata": {},
   "outputs": [],
   "source": [
    "dataset4 = mb.datasets.SelexDataset(data4, n_rounds=0, enr_series=False)\n",
    "train4 = tdata.DataLoader(dataset=dataset4, batch_size=256, shuffle=True)"
   ]
  },
  {
   "cell_type": "code",
   "execution_count": 117,
   "id": "8ea6e215-5932-466e-b629-2613f0bb0044",
   "metadata": {},
   "outputs": [],
   "source": [
    "model = mb.models.Multibind(use_dinuc=False, kernels=[0, 14], n_rounds=0, n_batches=1, enr_series=False).to(device)\n",
    "l2 = []\n",
    "optimiser = topti.Adam(model.parameters(), lr=0.001, weight_decay=0.0001)\n",
    "# optimiser = topti.LBFGS(model.parameters())\n",
    "# criterion = mb.tl.PoissonLoss()\n",
    "criterion = mb.tl.MSELoss()"
   ]
  },
  {
   "cell_type": "code",
   "execution_count": 118,
   "id": "ba50fae3-e0aa-4f76-a1b2-252d1c3917c6",
   "metadata": {},
   "outputs": [
    {
     "name": "stdout",
     "output_type": "stream",
     "text": [
      "optimizing using <class 'torch.optim.adam.Adam'> and <class 'multibind.tl.loss.MSELoss'> n_epochs 500 early_stopping 10\n",
      "lr= 0.001, weight_decay= 0.0001, dir weight= 0\n",
      "Epoch: 11, Loss: 0.000000 , best epoch: 9 secs per epoch: 0.085 s\n",
      "Epoch: 21, Loss: 0.000000 , best epoch: 11 secs per epoch: 0.081 s\n",
      "Epoch: 22, Loss: 0.0000 , best epoch: 11 secs per epoch: 0.080 s\n",
      "early stop!\n",
      "total time: 1.687 s\n",
      "secs per epoch: 0.080 s\n"
     ]
    }
   ],
   "source": [
    "mb.tl.train_network(model, train4, device, optimiser, criterion, num_epochs=500, early_stopping=10, log_each=10, verbose=2)"
   ]
  },
  {
   "cell_type": "code",
   "execution_count": 119,
   "id": "8b278e36",
   "metadata": {},
   "outputs": [
    {
     "name": "stdout",
     "output_type": "stream",
     "text": [
      "\n",
      "#activities\n",
      "[[[1.]\n",
      "  [1.]]]\n",
      "\n",
      "#log_etas\n",
      "Parameter containing:\n",
      "tensor([[-1.2828e-12]], device='cuda:0', requires_grad=True)\n"
     ]
    },
    {
     "data": {
      "image/png": "[encoded data removed]",
      "text/plain": [
       "<Figure size 360x72 with 1 Axes>"
      ]
     },
     "metadata": {
      "needs_background": "light"
     },
     "output_type": "display_data"
    }
   ],
   "source": [
    "mb.pl.conv_mono(model)"
   ]
  },
  {
   "cell_type": "markdown",
   "id": "70e6a4cb-f352-4b5e-8634-2b55d9b365c1",
   "metadata": {
    "tags": []
   },
   "source": [
    "# DinucPBM with log output, but untransformed Pbm-Signal"
   ]
  },
  {
   "cell_type": "code",
   "execution_count": 122,
   "id": "209fb062-4aa4-4ea6-8636-10fc54c3c301",
   "metadata": {},
   "outputs": [
    {
     "data": {
      "text/html": [
       "<div>\n",
       "<style scoped>\n",
       "    .dataframe tbody tr th:only-of-type {\n",
       "        vertical-align: middle;\n",
       "    }\n",
       "\n",
       "    .dataframe tbody tr th {\n",
       "        vertical-align: top;\n",
       "    }\n",
       "\n",
       "    .dataframe thead th {\n",
       "        text-align: right;\n",
       "    }\n",
       "</style>\n",
       "<table border=\"1\" class=\"dataframe\">\n",
       "  <thead>\n",
       "    <tr style=\"text-align: right;\">\n",
       "      <th></th>\n",
       "      <th>0</th>\n",
       "    </tr>\n",
       "    <tr>\n",
       "      <th>seq</th>\n",
       "      <th></th>\n",
       "    </tr>\n",
       "  </thead>\n",
       "  <tbody>\n",
       "    <tr>\n",
       "      <th>GGGAGGATTGTGTCTCAGAAGGTTCCACCCAGCGTTG</th>\n",
       "      <td>9.897163</td>\n",
       "    </tr>\n",
       "    <tr>\n",
       "      <th>CTTTCTCGGCGTGGATCAGTATCCTGCTCTCTATTGG</th>\n",
       "      <td>10.085691</td>\n",
       "    </tr>\n",
       "    <tr>\n",
       "      <th>TCGCAACAGAGGTAAGGAGCACCTATATTTCCCTATG</th>\n",
       "      <td>9.631630</td>\n",
       "    </tr>\n",
       "    <tr>\n",
       "      <th>ATTCTCGAGTCATTTTGCCCCATTGGGAACGATTCGG</th>\n",
       "      <td>11.214293</td>\n",
       "    </tr>\n",
       "    <tr>\n",
       "      <th>TACAGGCGCCATACGGCCTCCGTCTCTTAGTTTTTGG</th>\n",
       "      <td>9.590598</td>\n",
       "    </tr>\n",
       "    <tr>\n",
       "      <th>...</th>\n",
       "      <td>...</td>\n",
       "    </tr>\n",
       "    <tr>\n",
       "      <th>TGACCCTCTTACTGGAACTTCGCGGGGAAGTTATTGG</th>\n",
       "      <td>9.857256</td>\n",
       "    </tr>\n",
       "    <tr>\n",
       "      <th>AGGGTCTTGTATGTCGTCGTTTACTACTTCCCCCTCG</th>\n",
       "      <td>10.019649</td>\n",
       "    </tr>\n",
       "    <tr>\n",
       "      <th>GCGGATCCTCCCTTGTGCTTTTACATCTCTGTGCGAG</th>\n",
       "      <td>9.832209</td>\n",
       "    </tr>\n",
       "    <tr>\n",
       "      <th>TTTGGGACCGTTTTTGACAACATTCTTGTCCTGGTCG</th>\n",
       "      <td>9.708792</td>\n",
       "    </tr>\n",
       "    <tr>\n",
       "      <th>GGCCACCCACTGATGGCCTGGATAACGTGCACAACGG</th>\n",
       "      <td>9.900717</td>\n",
       "    </tr>\n",
       "  </tbody>\n",
       "</table>\n",
       "<p>2500 rows × 1 columns</p>\n",
       "</div>"
      ],
      "text/plain": [
       "                                               0\n",
       "seq                                             \n",
       "GGGAGGATTGTGTCTCAGAAGGTTCCACCCAGCGTTG   9.897163\n",
       "CTTTCTCGGCGTGGATCAGTATCCTGCTCTCTATTGG  10.085691\n",
       "TCGCAACAGAGGTAAGGAGCACCTATATTTCCCTATG   9.631630\n",
       "ATTCTCGAGTCATTTTGCCCCATTGGGAACGATTCGG  11.214293\n",
       "TACAGGCGCCATACGGCCTCCGTCTCTTAGTTTTTGG   9.590598\n",
       "...                                          ...\n",
       "TGACCCTCTTACTGGAACTTCGCGGGGAAGTTATTGG   9.857256\n",
       "AGGGTCTTGTATGTCGTCGTTTACTACTTCCCCCTCG  10.019649\n",
       "GCGGATCCTCCCTTGTGCTTTTACATCTCTGTGCGAG   9.832209\n",
       "TTTGGGACCGTTTTTGACAACATTCTTGTCCTGGTCG   9.708792\n",
       "GGCCACCCACTGATGGCCTGGATAACGTGCACAACGG   9.900717\n",
       "\n",
       "[2500 rows x 1 columns]"
      ]
     },
     "execution_count": 122,
     "metadata": {},
     "output_type": "execute_result"
    }
   ],
   "source": [
    "data5 = df.copy()\n",
    "data5 = data5.sample(2500)\n",
    "data5[0] = np.log(data5[0])\n",
    "data5['seq'] = data5['seq'].str[:-23]\n",
    "data5 = data5.set_index('seq')\n",
    "data5"
   ]
  },
  {
   "cell_type": "code",
   "execution_count": 123,
   "id": "bc2c798f-707e-472a-b662-ba457e366279",
   "metadata": {},
   "outputs": [],
   "source": [
    "dataset5 = mb.datasets.SelexDataset(data4, n_rounds=0, enr_series=False)\n",
    "train5 = tdata.DataLoader(dataset=dataset4, batch_size=256, shuffle=True)"
   ]
  },
  {
   "cell_type": "code",
   "execution_count": 125,
   "id": "610f0027-a543-43d5-a5af-58fe5b3637e6",
   "metadata": {},
   "outputs": [],
   "source": [
    "model = mb.models.Multibind(use_dinuc=False, kernels=[0, 14], n_rounds=0, n_batches=1, enr_series=False).to(device)\n",
    "l2 = []\n",
    "optimiser = topti.Adam(model.parameters(), lr=0.001, weight_decay=0.0001)\n",
    "# optimiser = topti.LBFGS(model.parameters())\n",
    "# criterion = mb.tl.PoissonLoss()\n",
    "criterion = mb.tl.MSELoss()"
   ]
  },
  {
   "cell_type": "code",
   "execution_count": 126,
   "id": "0db9de58-652b-4197-ad2b-808cb95cfe3a",
   "metadata": {},
   "outputs": [
    {
     "name": "stdout",
     "output_type": "stream",
     "text": [
      "optimizing using <class 'torch.optim.adam.Adam'> and <class 'multibind.tl.loss.MSELoss'> n_epochs 500 early_stopping 10\n",
      "lr= 0.001, weight_decay= 0.0001, dir weight= 0\n",
      "Epoch: 11, Loss: 0.000000 , best epoch: 9 secs per epoch: 0.080 s\n",
      "Epoch: 21, Loss: 0.000000 , best epoch: 15 secs per epoch: 0.078 s\n",
      "Epoch: 26, Loss: 0.0000 , best epoch: 15 secs per epoch: 0.077 s\n",
      "early stop!\n",
      "total time: 1.928 s\n",
      "secs per epoch: 0.077 s\n"
     ]
    }
   ],
   "source": [
    "mb.tl.train_network(model, train5, device, optimiser, criterion, num_epochs=500, early_stopping=10, log_each=10, verbose=2)"
   ]
  },
  {
   "cell_type": "code",
   "execution_count": 127,
   "id": "9a6a6b1d-0bb5-4527-aeb2-26f217fc0b18",
   "metadata": {},
   "outputs": [
    {
     "name": "stdout",
     "output_type": "stream",
     "text": [
      "\n",
      "#activities\n",
      "[[[1.]\n",
      "  [1.]]]\n",
      "\n",
      "#log_etas\n",
      "Parameter containing:\n",
      "tensor([[9.7760e-13]], device='cuda:0', requires_grad=True)\n"
     ]
    },
    {
     "data": {
      "image/png": "[encoded data removed]",
      "text/plain": [
       "<Figure size 360x72 with 1 Axes>"
      ]
     },
     "metadata": {
      "needs_background": "light"
     },
     "output_type": "display_data"
    }
   ],
   "source": [
    "mb.pl.conv_mono(model)"
   ]
  },
  {
   "cell_type": "markdown",
   "id": "c7a0e052-6633-418e-8c82-bc1185018eab",
   "metadata": {
    "tags": []
   },
   "source": [
    "# DinucPBM: Allowing the activities to become negative (= not applying exp to the log_activites)"
   ]
  },
  {
   "cell_type": "code",
   "execution_count": 129,
   "id": "dcc0722a-630d-4a64-87a0-c99ddadfc73c",
   "metadata": {},
   "outputs": [],
   "source": [
    "model = mb.models.Multibind(use_dinuc=False, kernels=[0, 14], n_rounds=0, n_batches=1, enr_series=False).to(device)\n",
    "l2 = []\n",
    "optimiser = topti.Adam(model.parameters(), lr=0.001, weight_decay=0.0001)\n",
    "# optimiser = topti.LBFGS(model.parameters())\n",
    "# criterion = mb.tl.PoissonLoss()\n",
    "criterion = mb.tl.MSELoss()"
   ]
  },
  {
   "cell_type": "code",
   "execution_count": 130,
   "id": "44e61d2c-192e-4b97-aef9-20ee8e921595",
   "metadata": {},
   "outputs": [
    {
     "name": "stdout",
     "output_type": "stream",
     "text": [
      "optimizing using <class 'torch.optim.adam.Adam'> and <class 'multibind.tl.loss.MSELoss'> n_epochs 500 early_stopping 10\n",
      "lr= 0.001, weight_decay= 0.0001, dir weight= 0\n",
      "Epoch: 11, Loss: 0.000000 , best epoch: 7 secs per epoch: 0.080 s\n",
      "Epoch: 21, Loss: 0.000000 , best epoch: 16 secs per epoch: 0.076 s\n",
      "Epoch: 31, Loss: 0.000000 , best epoch: 23 secs per epoch: 0.075 s\n",
      "Epoch: 34, Loss: 0.0000 , best epoch: 23 secs per epoch: 0.074 s\n",
      "early stop!\n",
      "total time: 2.455 s\n",
      "secs per epoch: 0.074 s\n"
     ]
    }
   ],
   "source": [
    "mb.tl.train_network(model, train4, device, optimiser, criterion, num_epochs=500, early_stopping=10, log_each=10, verbose=2,)"
   ]
  },
  {
   "cell_type": "code",
   "execution_count": 132,
   "id": "4308055b-4787-450e-8cdd-04b81db8c82f",
   "metadata": {},
   "outputs": [
    {
     "name": "stdout",
     "output_type": "stream",
     "text": [
      "\n",
      "#activities\n",
      "[[[1.]\n",
      "  [1.]]]\n",
      "\n",
      "#log_etas\n",
      "Parameter containing:\n",
      "tensor([[-4.8803e-13]], device='cuda:0', requires_grad=True)\n"
     ]
    },
    {
     "data": {
      "image/png": "[encoded data removed]",
      "text/plain": [
       "<Figure size 360x72 with 1 Axes>"
      ]
     },
     "metadata": {
      "needs_background": "light"
     },
     "output_type": "display_data"
    }
   ],
   "source": [
    "mb.pl.conv_mono(model)"
   ]
  },
  {
   "cell_type": "markdown",
   "id": "8f259f47-d316-4148-b8a6-1cc75fb8e137",
   "metadata": {},
   "source": [
    "# Current implementation (with train_iterative)"
   ]
  },
  {
   "cell_type": "code",
   "execution_count": 166,
   "id": "7c2c987f-3e9a-4e40-8c02-fb9ae3712ef9",
   "metadata": {},
   "outputs": [
    {
     "name": "stderr",
     "output_type": "stream",
     "text": [
      "/home/rio/miniconda3/envs/multibind/lib/python3.10/site-packages/seaborn/distributions.py:2619: FutureWarning: `distplot` is a deprecated function and will be removed in a future version. Please adapt your code to use either `displot` (a figure-level function with similar flexibility) or `histplot` (an axes-level function for histograms).\n",
      "  warnings.warn(msg, FutureWarning)\n"
     ]
    },
    {
     "data": {
      "text/plain": [
       "<AxesSubplot:xlabel='0', ylabel='Density'>"
      ]
     },
     "execution_count": 166,
     "metadata": {},
     "output_type": "execute_result"
    },
    {
     "data": {
      "image/png": "[encoded data removed]",
      "text/plain": [
       "<Figure size 360x72 with 1 Axes>"
      ]
     },
     "metadata": {
      "needs_background": "light"
     },
     "output_type": "display_data"
    }
   ],
   "source": [
    "sns.distplot(data[0])"
   ]
  },
  {
   "cell_type": "code",
   "execution_count": 167,
   "id": "ef41b9cb-5f73-40ec-a1a7-a3eefbc6896d",
   "metadata": {},
   "outputs": [],
   "source": [
    "data = df.copy()\n",
    "data[0] = np.log(data[0])\n",
    "data = data.sample(1000)\n",
    "data['seq'] = data['seq'].str[:-23]\n",
    "data = data.set_index('seq')\n",
    "dataset = mb.datasets.SelexDataset(data, n_rounds=0, enr_series=False)\n",
    "train = tdata.DataLoader(dataset=dataset, batch_size=256, shuffle=True)"
   ]
  },
  {
   "cell_type": "code",
   "execution_count": 191,
   "id": "18109f1f-0e98-4488-ba2d-2a1a7ed44460",
   "metadata": {},
   "outputs": [
    {
     "name": "stdout",
     "output_type": "stream",
     "text": [
      "# rounds 0\n",
      "# batches 1\n",
      "# enr_series False\n",
      "next w 10 <class 'int'>\n",
      "\n",
      "Kernel to optimize 0\n",
      "\n",
      "Freezing kernels\n",
      "setting grad status of kernel at 0 to 1\n",
      "setting grad status of kernel at 1 to 0\n",
      "\n",
      "\n",
      "before kernel optimization.\n"
     ]
    },
    {
     "data": {
      "image/png": "[encoded data removed]",
      "text/plain": [
       "<Figure size 360x72 with 2 Axes>"
      ]
     },
     "metadata": {
      "needs_background": "light"
     },
     "output_type": "display_data"
    },
    {
     "name": "stdout",
     "output_type": "stream",
     "text": [
      "\n",
      "#activities\n",
      "[[[1.]\n",
      "  [1.]]]\n",
      "\n",
      "#log_etas\n",
      "Parameter containing:\n",
      "tensor([[0.]], device='cuda:0', requires_grad=True)\n"
     ]
    },
    {
     "name": "stderr",
     "output_type": "stream",
     "text": [
      "/home/rio/miniconda3/envs/multibind/lib/python3.10/site-packages/logomaker/src/Logo.py:1062: UserWarning: Attempting to set identical bottom == top == 0.0 results in singular transformations; automatically expanding.\n",
      "  self.ax.set_ylim([ymin, ymax])\n"
     ]
    },
    {
     "data": {
      "image/png": "[encoded data removed]",
      "text/plain": [
       "<Figure size 360x72 with 1 Axes>"
      ]
     },
     "metadata": {
      "needs_background": "light"
     },
     "output_type": "display_data"
    },
    {
     "name": "stderr",
     "output_type": "stream",
     "text": [
      "/home/rio/miniconda3/envs/multibind/lib/python3.10/site-packages/logomaker/src/Logo.py:1062: UserWarning: Attempting to set identical bottom == top == 0.0 results in singular transformations; automatically expanding.\n",
      "  self.ax.set_ylim([ymin, ymax])\n"
     ]
    },
    {
     "data": {
      "image/png": "[encoded data removed]",
      "text/plain": [
       "<Figure size 360x72 with 1 Axes>"
      ]
     },
     "metadata": {
      "needs_background": "light"
     },
     "output_type": "display_data"
    },
    {
     "name": "stdout",
     "output_type": "stream",
     "text": [
      "kernels mask None\n",
      "optimizing using <class 'torch.optim.adam.Adam'> and <class 'multibind.tl.loss.MSELoss'> n_epochs 100 early_stopping 200\n",
      "lr= 0.01, weight_decay= 0.001, dir weight= 0\n",
      "total time: 3.499 s\n",
      "secs per epoch: 0.035 s\n",
      "\n",
      "##After kernel opt / before shift optim.\n"
     ]
    },
    {
     "data": {
      "image/png": "[encoded data removed]",
      "text/plain": [
       "<Figure size 360x72 with 2 Axes>"
      ]
     },
     "metadata": {
      "needs_background": "light"
     },
     "output_type": "display_data"
    },
    {
     "name": "stdout",
     "output_type": "stream",
     "text": [
      "\n",
      "#activities\n",
      "[[[0.11184267]\n",
      "  [1.        ]]]\n",
      "\n",
      "#log_etas\n",
      "Parameter containing:\n",
      "tensor([[0.]], device='cuda:0', requires_grad=True)\n"
     ]
    },
    {
     "name": "stderr",
     "output_type": "stream",
     "text": [
      "/home/rio/miniconda3/envs/multibind/lib/python3.10/site-packages/logomaker/src/Logo.py:1062: UserWarning: Attempting to set identical bottom == top == 0.0 results in singular transformations; automatically expanding.\n",
      "  self.ax.set_ylim([ymin, ymax])\n"
     ]
    },
    {
     "data": {
      "image/png": "[encoded data removed]",
      "text/plain": [
       "<Figure size 360x72 with 1 Axes>"
      ]
     },
     "metadata": {
      "needs_background": "light"
     },
     "output_type": "display_data"
    },
    {
     "name": "stderr",
     "output_type": "stream",
     "text": [
      "/home/rio/miniconda3/envs/multibind/lib/python3.10/site-packages/logomaker/src/Logo.py:1062: UserWarning: Attempting to set identical bottom == top == 0.0 results in singular transformations; automatically expanding.\n",
      "  self.ax.set_ylim([ymin, ymax])\n"
     ]
    },
    {
     "data": {
      "image/png": "[encoded data removed]",
      "text/plain": [
       "<Figure size 360x72 with 1 Axes>"
      ]
     },
     "metadata": {
      "needs_background": "light"
     },
     "output_type": "display_data"
    },
    {
     "data": {
      "image/png": "[encoded data removed]",
      "text/plain": [
       "<Figure size 360x72 with 1 Axes>"
      ]
     },
     "metadata": {
      "needs_background": "light"
     },
     "output_type": "display_data"
    },
    {
     "name": "stdout",
     "output_type": "stream",
     "text": [
      "after shift optimz model\n"
     ]
    },
    {
     "data": {
      "image/png": "[encoded data removed]",
      "text/plain": [
       "<Figure size 360x72 with 2 Axes>"
      ]
     },
     "metadata": {
      "needs_background": "light"
     },
     "output_type": "display_data"
    },
    {
     "name": "stdout",
     "output_type": "stream",
     "text": [
      "\n",
      "#activities\n",
      "[[[0.11184267]\n",
      "  [1.        ]]]\n",
      "\n",
      "#log_etas\n",
      "Parameter containing:\n",
      "tensor([[0.]], device='cuda:0', requires_grad=True)\n"
     ]
    },
    {
     "name": "stderr",
     "output_type": "stream",
     "text": [
      "/home/rio/miniconda3/envs/multibind/lib/python3.10/site-packages/logomaker/src/Logo.py:1062: UserWarning: Attempting to set identical bottom == top == 0.0 results in singular transformations; automatically expanding.\n",
      "  self.ax.set_ylim([ymin, ymax])\n"
     ]
    },
    {
     "data": {
      "image/png": "[encoded data removed]",
      "text/plain": [
       "<Figure size 360x72 with 1 Axes>"
      ]
     },
     "metadata": {
      "needs_background": "light"
     },
     "output_type": "display_data"
    },
    {
     "name": "stderr",
     "output_type": "stream",
     "text": [
      "/home/rio/miniconda3/envs/multibind/lib/python3.10/site-packages/logomaker/src/Logo.py:1062: UserWarning: Attempting to set identical bottom == top == 0.0 results in singular transformations; automatically expanding.\n",
      "  self.ax.set_ylim([ymin, ymax])\n"
     ]
    },
    {
     "data": {
      "image/png": "[encoded data removed]",
      "text/plain": [
       "<Figure size 360x72 with 1 Axes>"
      ]
     },
     "metadata": {
      "needs_background": "light"
     },
     "output_type": "display_data"
    },
    {
     "data": {
      "image/png": "[encoded data removed]",
      "text/plain": [
       "<Figure size 360x72 with 1 Axes>"
      ]
     },
     "metadata": {
      "needs_background": "light"
     },
     "output_type": "display_data"
    },
    {
     "name": "stdout",
     "output_type": "stream",
     "text": [
      "\n",
      "\n",
      "Kernel to optimize 1\n",
      "\n",
      "Freezing kernels\n",
      "setting grad status of kernel at 0 to 0\n",
      "setting grad status of kernel at 1 to 1\n",
      "\n",
      "\n",
      "before kernel optimization.\n"
     ]
    },
    {
     "data": {
      "image/png": "[encoded data removed]",
      "text/plain": [
       "<Figure size 360x72 with 2 Axes>"
      ]
     },
     "metadata": {
      "needs_background": "light"
     },
     "output_type": "display_data"
    },
    {
     "name": "stdout",
     "output_type": "stream",
     "text": [
      "\n",
      "#activities\n",
      "[[[0.11184267]\n",
      "  [1.        ]]]\n",
      "\n",
      "#log_etas\n",
      "Parameter containing:\n",
      "tensor([[0.]], device='cuda:0', requires_grad=True)\n"
     ]
    },
    {
     "name": "stderr",
     "output_type": "stream",
     "text": [
      "/home/rio/miniconda3/envs/multibind/lib/python3.10/site-packages/logomaker/src/Logo.py:1062: UserWarning: Attempting to set identical bottom == top == 0.0 results in singular transformations; automatically expanding.\n",
      "  self.ax.set_ylim([ymin, ymax])\n"
     ]
    },
    {
     "data": {
      "image/png": "[encoded data removed]",
      "text/plain": [
       "<Figure size 360x72 with 1 Axes>"
      ]
     },
     "metadata": {
      "needs_background": "light"
     },
     "output_type": "display_data"
    },
    {
     "name": "stderr",
     "output_type": "stream",
     "text": [
      "/home/rio/miniconda3/envs/multibind/lib/python3.10/site-packages/logomaker/src/Logo.py:1062: UserWarning: Attempting to set identical bottom == top == 0.0 results in singular transformations; automatically expanding.\n",
      "  self.ax.set_ylim([ymin, ymax])\n"
     ]
    },
    {
     "data": {
      "image/png": "[encoded data removed]",
      "text/plain": [
       "<Figure size 360x72 with 1 Axes>"
      ]
     },
     "metadata": {
      "needs_background": "light"
     },
     "output_type": "display_data"
    },
    {
     "name": "stdout",
     "output_type": "stream",
     "text": [
      "kernels mask None\n",
      "optimizing using <class 'torch.optim.adam.Adam'> and <class 'multibind.tl.loss.MSELoss'> n_epochs 100 early_stopping 200\n",
      "lr= 0.01, weight_decay= 0.001, dir weight= 0\n",
      "total time: 3.600 s\n",
      "secs per epoch: 0.036 s\n",
      "\n",
      "##After kernel opt / before shift optim.\n"
     ]
    },
    {
     "data": {
      "image/png": "[encoded data removed]",
      "text/plain": [
       "<Figure size 360x72 with 2 Axes>"
      ]
     },
     "metadata": {
      "needs_background": "light"
     },
     "output_type": "display_data"
    },
    {
     "name": "stdout",
     "output_type": "stream",
     "text": [
      "\n",
      "#activities\n",
      "[[[0.11184267]\n",
      "  [0.81640893]]]\n",
      "\n",
      "#log_etas\n",
      "Parameter containing:\n",
      "tensor([[0.]], device='cuda:0', requires_grad=True)\n"
     ]
    },
    {
     "data": {
      "image/png": "[encoded data removed]",
      "text/plain": [
       "<Figure size 360x72 with 1 Axes>"
      ]
     },
     "metadata": {
      "needs_background": "light"
     },
     "output_type": "display_data"
    },
    {
     "data": {
      "image/png": "[encoded data removed]",
      "text/plain": [
       "<Figure size 360x72 with 1 Axes>"
      ]
     },
     "metadata": {
      "needs_background": "light"
     },
     "output_type": "display_data"
    },
    {
     "data": {
      "image/png": "[encoded data removed]",
      "text/plain": [
       "<Figure size 360x72 with 1 Axes>"
      ]
     },
     "metadata": {
      "needs_background": "light"
     },
     "output_type": "display_data"
    },
    {
     "name": "stdout",
     "output_type": "stream",
     "text": [
      "\n",
      "optimize_motif_shift (first)...\n",
      "next expand left: 1, next expand right: 1, shift: 0\n",
      "optimizing using <class 'torch.optim.adam.Adam'> and <class 'multibind.tl.loss.MSELoss'> n_epochs 100 early_stopping 200\n",
      "lr= 0.01, weight_decay= 0.001, dir weight= 0\n",
      "total time: 3.425 s\n",
      "secs per epoch: 0.035 s\n",
      "after opt.\n",
      "\n",
      "#activities\n",
      "[[[0.11184267]\n",
      "  [0.8194608 ]]]\n",
      "\n",
      "#log_etas\n",
      "Parameter containing:\n",
      "tensor([[0.]], device='cuda:0', requires_grad=True)\n"
     ]
    },
    {
     "data": {
      "image/png": "[encoded data removed]",
      "text/plain": [
       "<Figure size 360x72 with 1 Axes>"
      ]
     },
     "metadata": {
      "needs_background": "light"
     },
     "output_type": "display_data"
    },
    {
     "name": "stdout",
     "output_type": "stream",
     "text": [
      "next expand left: 1, next expand right: 2, shift: 0\n",
      "optimizing using <class 'torch.optim.adam.Adam'> and <class 'multibind.tl.loss.MSELoss'> n_epochs 100 early_stopping 200\n",
      "lr= 0.01, weight_decay= 0.001, dir weight= 0\n",
      "total time: 3.320 s\n",
      "secs per epoch: 0.034 s\n",
      "after opt.\n",
      "\n",
      "#activities\n",
      "[[[0.11184267]\n",
      "  [0.81999904]]]\n",
      "\n",
      "#log_etas\n",
      "Parameter containing:\n",
      "tensor([[0.]], device='cuda:0', requires_grad=True)\n"
     ]
    },
    {
     "data": {
      "image/png": "[encoded data removed]",
      "text/plain": [
       "<Figure size 360x72 with 1 Axes>"
      ]
     },
     "metadata": {
      "needs_background": "light"
     },
     "output_type": "display_data"
    },
    {
     "name": "stdout",
     "output_type": "stream",
     "text": [
      "next expand left: 2, next expand right: 1, shift: 0\n",
      "optimizing using <class 'torch.optim.adam.Adam'> and <class 'multibind.tl.loss.MSELoss'> n_epochs 100 early_stopping 200\n",
      "lr= 0.01, weight_decay= 0.001, dir weight= 0\n",
      "total time: 3.797 s\n",
      "secs per epoch: 0.038 s\n",
      "after opt.\n",
      "\n",
      "#activities\n",
      "[[[0.11184267]\n",
      "  [0.8205575 ]]]\n",
      "\n",
      "#log_etas\n",
      "Parameter containing:\n",
      "tensor([[0.]], device='cuda:0', requires_grad=True)\n"
     ]
    },
    {
     "data": {
      "image/png": "[encoded data removed]",
      "text/plain": [
       "<Figure size 360x72 with 1 Axes>"
      ]
     },
     "metadata": {
      "needs_background": "light"
     },
     "output_type": "display_data"
    },
    {
     "name": "stdout",
     "output_type": "stream",
     "text": [
      "next expand left: 2, next expand right: 2, shift: 0\n",
      "optimizing using <class 'torch.optim.adam.Adam'> and <class 'multibind.tl.loss.MSELoss'> n_epochs 100 early_stopping 200\n",
      "lr= 0.01, weight_decay= 0.001, dir weight= 0\n",
      "total time: 3.961 s\n",
      "secs per epoch: 0.040 s\n",
      "after opt.\n",
      "\n",
      "#activities\n",
      "[[[0.11184267]\n",
      "  [0.821879  ]]]\n",
      "\n",
      "#log_etas\n",
      "Parameter containing:\n",
      "tensor([[0.]], device='cuda:0', requires_grad=True)\n"
     ]
    },
    {
     "data": {
      "image/png": "[encoded data removed]",
      "text/plain": [
       "<Figure size 360x72 with 1 Axes>"
      ]
     },
     "metadata": {
      "needs_background": "light"
     },
     "output_type": "display_data"
    },
    {
     "name": "stdout",
     "output_type": "stream",
     "text": [
      "sorted\n",
      "   expand.left  expand.right  shift      loss\n",
      "0            2             2      0  0.237582\n",
      "1            1             2      0  0.237956\n",
      "2            2             1      0  0.238690\n",
      "3            1             1      0  0.239780\n",
      "4            0             0      0  0.253422\n",
      "action: (2, 2, 0)\n",
      "\n",
      "\n",
      "optimize_motif_shift (again)...\n",
      "next expand left: 1, next expand right: 1, shift: 0\n",
      "optimizing using <class 'torch.optim.adam.Adam'> and <class 'multibind.tl.loss.MSELoss'> n_epochs 100 early_stopping 200\n",
      "lr= 0.01, weight_decay= 0.001, dir weight= 0\n",
      "total time: 4.656 s\n",
      "secs per epoch: 0.047 s\n",
      "after opt.\n",
      "\n",
      "#activities\n",
      "[[[0.11184267]\n",
      "  [0.8227512 ]]]\n",
      "\n",
      "#log_etas\n",
      "Parameter containing:\n",
      "tensor([[0.]], device='cuda:0', requires_grad=True)\n"
     ]
    },
    {
     "data": {
      "image/png": "[encoded data removed]",
      "text/plain": [
       "<Figure size 360x72 with 1 Axes>"
      ]
     },
     "metadata": {
      "needs_background": "light"
     },
     "output_type": "display_data"
    },
    {
     "name": "stdout",
     "output_type": "stream",
     "text": [
      "next expand left: 1, next expand right: 2, shift: 0\n",
      "optimizing using <class 'torch.optim.adam.Adam'> and <class 'multibind.tl.loss.MSELoss'> n_epochs 100 early_stopping 200\n",
      "lr= 0.01, weight_decay= 0.001, dir weight= 0\n",
      "total time: 4.287 s\n",
      "secs per epoch: 0.043 s\n",
      "after opt.\n",
      "\n",
      "#activities\n",
      "[[[0.11184267]\n",
      "  [0.82402724]]]\n",
      "\n",
      "#log_etas\n",
      "Parameter containing:\n",
      "tensor([[0.]], device='cuda:0', requires_grad=True)\n"
     ]
    },
    {
     "data": {
      "image/png": "[encoded data removed]",
      "text/plain": [
       "<Figure size 360x72 with 1 Axes>"
      ]
     },
     "metadata": {
      "needs_background": "light"
     },
     "output_type": "display_data"
    },
    {
     "name": "stdout",
     "output_type": "stream",
     "text": [
      "next expand left: 2, next expand right: 1, shift: 0\n",
      "optimizing using <class 'torch.optim.adam.Adam'> and <class 'multibind.tl.loss.MSELoss'> n_epochs 100 early_stopping 200\n",
      "lr= 0.01, weight_decay= 0.001, dir weight= 0\n",
      "total time: 3.415 s\n",
      "secs per epoch: 0.034 s\n",
      "after opt.\n",
      "\n",
      "#activities\n",
      "[[[0.11184267]\n",
      "  [0.824101  ]]]\n",
      "\n",
      "#log_etas\n",
      "Parameter containing:\n",
      "tensor([[0.]], device='cuda:0', requires_grad=True)\n"
     ]
    },
    {
     "data": {
      "image/png": "[encoded data removed]",
      "text/plain": [
       "<Figure size 360x72 with 1 Axes>"
      ]
     },
     "metadata": {
      "needs_background": "light"
     },
     "output_type": "display_data"
    },
    {
     "name": "stdout",
     "output_type": "stream",
     "text": [
      "next expand left: 2, next expand right: 2, shift: 0\n",
      "optimizing using <class 'torch.optim.adam.Adam'> and <class 'multibind.tl.loss.MSELoss'> n_epochs 100 early_stopping 200\n",
      "lr= 0.01, weight_decay= 0.001, dir weight= 0\n",
      "total time: 3.463 s\n",
      "secs per epoch: 0.035 s\n",
      "after opt.\n",
      "\n",
      "#activities\n",
      "[[[0.11184267]\n",
      "  [0.8247091 ]]]\n",
      "\n",
      "#log_etas\n",
      "Parameter containing:\n",
      "tensor([[0.]], device='cuda:0', requires_grad=True)\n"
     ]
    },
    {
     "data": {
      "image/png": "[encoded data removed]",
      "text/plain": [
       "<Figure size 360x72 with 1 Axes>"
      ]
     },
     "metadata": {
      "needs_background": "light"
     },
     "output_type": "display_data"
    },
    {
     "name": "stdout",
     "output_type": "stream",
     "text": [
      "sorted\n",
      "   expand.left  expand.right  shift      loss\n",
      "0            2             2      0  0.227129\n",
      "1            2             1      0  0.229006\n",
      "2            1             2      0  0.229033\n",
      "3            1             1      0  0.230114\n",
      "4            0             0      0  0.237582\n",
      "action: (2, 2, 0)\n",
      "\n",
      "\n",
      "optimize_motif_shift (again)...\n",
      "next expand left: 1, next expand right: 1, shift: 0\n",
      "optimizing using <class 'torch.optim.adam.Adam'> and <class 'multibind.tl.loss.MSELoss'> n_epochs 100 early_stopping 200\n",
      "lr= 0.01, weight_decay= 0.001, dir weight= 0\n",
      "total time: 3.634 s\n",
      "secs per epoch: 0.037 s\n",
      "after opt.\n",
      "\n",
      "#activities\n",
      "[[[0.11184267]\n",
      "  [0.82713264]]]\n",
      "\n",
      "#log_etas\n",
      "Parameter containing:\n",
      "tensor([[0.]], device='cuda:0', requires_grad=True)\n"
     ]
    },
    {
     "data": {
      "image/png": "[encoded data removed]",
      "text/plain": [
       "<Figure size 360x72 with 1 Axes>"
      ]
     },
     "metadata": {
      "needs_background": "light"
     },
     "output_type": "display_data"
    },
    {
     "name": "stdout",
     "output_type": "stream",
     "text": [
      "sorted\n",
      "   expand.left  expand.right  shift      loss\n",
      "0            1             1      0  0.215567\n",
      "1            0             0      0  0.227129\n",
      "action: (1, 1, 0)\n",
      "\n",
      "stop. Reached maximum w...\n",
      "stop. Reached maximum w...\n",
      "after shift optimz model\n"
     ]
    },
    {
     "data": {
      "image/png": "[encoded data removed]",
      "text/plain": [
       "<Figure size 360x72 with 2 Axes>"
      ]
     },
     "metadata": {
      "needs_background": "light"
     },
     "output_type": "display_data"
    },
    {
     "name": "stdout",
     "output_type": "stream",
     "text": [
      "\n",
      "#activities\n",
      "[[[0.11184267]\n",
      "  [0.82713264]]]\n",
      "\n",
      "#log_etas\n",
      "Parameter containing:\n",
      "tensor([[0.]], device='cuda:0', requires_grad=True)\n"
     ]
    },
    {
     "data": {
      "image/png": "[encoded data removed]",
      "text/plain": [
       "<Figure size 360x72 with 1 Axes>"
      ]
     },
     "metadata": {
      "needs_background": "light"
     },
     "output_type": "display_data"
    },
    {
     "data": {
      "image/png": "[encoded data removed]",
      "text/plain": [
       "<Figure size 360x72 with 1 Axes>"
      ]
     },
     "metadata": {
      "needs_background": "light"
     },
     "output_type": "display_data"
    },
    {
     "data": {
      "image/png": "[encoded data removed]",
      "text/plain": [
       "<Figure size 360x72 with 1 Axes>"
      ]
     },
     "metadata": {
      "needs_background": "light"
     },
     "output_type": "display_data"
    },
    {
     "name": "stdout",
     "output_type": "stream",
     "text": [
      "\n",
      "\n",
      "\n",
      "final refinement step (after shift)...\n",
      "\n",
      "unfreezing all layers for final refinement\n",
      "kernel grad (0) = 1 \n",
      "kernel grad (1) = 1 \n",
      "\n",
      "kernels mask None\n",
      "optimizing using <class 'torch.optim.adam.Adam'> and <class 'multibind.tl.loss.MSELoss'> n_epochs 100 early_stopping 200\n",
      "lr= 0.01, weight_decay= 0.001, dir weight= 0\n",
      "total time: 3.479 s\n",
      "secs per epoch: 0.035 s\n",
      "\n",
      "##final motif signal (after final refinement)\n"
     ]
    },
    {
     "data": {
      "image/png": "[encoded data removed]",
      "text/plain": [
       "<Figure size 360x72 with 2 Axes>"
      ]
     },
     "metadata": {
      "needs_background": "light"
     },
     "output_type": "display_data"
    },
    {
     "name": "stdout",
     "output_type": "stream",
     "text": [
      "\n",
      "#activities\n",
      "[[[0.11184267]\n",
      "  [0.826897  ]]]\n",
      "\n",
      "#log_etas\n",
      "Parameter containing:\n",
      "tensor([[0.]], device='cuda:0', requires_grad=True)\n"
     ]
    },
    {
     "data": {
      "image/png": "[encoded data removed]",
      "text/plain": [
       "<Figure size 360x72 with 1 Axes>"
      ]
     },
     "metadata": {
      "needs_background": "light"
     },
     "output_type": "display_data"
    },
    {
     "data": {
      "image/png": "[encoded data removed]",
      "text/plain": [
       "<Figure size 360x72 with 1 Axes>"
      ]
     },
     "metadata": {
      "needs_background": "light"
     },
     "output_type": "display_data"
    }
   ],
   "source": [
    "\n",
    "model_by_k_next, res_next = mb.tl.train_iterative(train, device, w=10, n_kernels=2, criterion=mb.tl.MSELoss(), datatype='pbm',\n",
    "                                                 early_stopping=200, num_epochs=100, log_each=100, opt_kernel_length=False)\n",
    "\n"
   ]
  },
  {
   "cell_type": "code",
   "execution_count": 195,
   "id": "088b9f51-9322-46dc-97e7-89c79dd92c2f",
   "metadata": {},
   "outputs": [
    {
     "ename": "ZeroDivisionError",
     "evalue": "division by zero",
     "output_type": "error",
     "traceback": [
      "\u001b[0;31m---------------------------------------------------------------------------\u001b[0m",
      "\u001b[0;31mZeroDivisionError\u001b[0m                         Traceback (most recent call last)",
      "Input \u001b[0;32mIn [195]\u001b[0m, in \u001b[0;36m<cell line: 1>\u001b[0;34m()\u001b[0m\n\u001b[0;32m----> 1\u001b[0m \u001b[43mmb\u001b[49m\u001b[38;5;241;43m.\u001b[39;49m\u001b[43mpl\u001b[49m\u001b[38;5;241;43m.\u001b[39;49m\u001b[43mkmer_enrichment\u001b[49m\u001b[43m(\u001b[49m\u001b[43mmodel_by_k_next\u001b[49m\u001b[43m,\u001b[49m\u001b[43m \u001b[49m\u001b[43mtrain\u001b[49m\u001b[43m)\u001b[49m\n",
      "File \u001b[0;32m/mnt/c/Users/ignacio.ibarra/Dropbox/workspace/theislab/multibind/multibind/pl/plotting.py:148\u001b[0m, in \u001b[0;36mkmer_enrichment\u001b[0;34m(model, train, k, base_round, enr_round)\u001b[0m\n\u001b[1;32m    146\u001b[0m counts[\u001b[38;5;124m\"\u001b[39m\u001b[38;5;124menr_pred\u001b[39m\u001b[38;5;124m\"\u001b[39m] \u001b[38;5;241m=\u001b[39m (\u001b[38;5;241m1\u001b[39m \u001b[38;5;241m+\u001b[39m counts[pred_labels[enr_round]]) \u001b[38;5;241m/\u001b[39m (\u001b[38;5;241m1\u001b[39m \u001b[38;5;241m+\u001b[39m counts[pred_labels[base_round]])\n\u001b[1;32m    147\u001b[0m counts[\u001b[38;5;124m\"\u001b[39m\u001b[38;5;124menr_obs\u001b[39m\u001b[38;5;124m\"\u001b[39m] \u001b[38;5;241m=\u001b[39m (\u001b[38;5;241m1\u001b[39m \u001b[38;5;241m+\u001b[39m counts[target_labels[enr_round]]) \u001b[38;5;241m/\u001b[39m (\u001b[38;5;241m1\u001b[39m \u001b[38;5;241m+\u001b[39m counts[target_labels[base_round]])\n\u001b[0;32m--> 148\u001b[0m counts[\u001b[38;5;124m\"\u001b[39m\u001b[38;5;124mf_pred\u001b[39m\u001b[38;5;124m\"\u001b[39m] \u001b[38;5;241m=\u001b[39m (\u001b[38;5;241;43m1\u001b[39;49m\u001b[43m \u001b[49m\u001b[38;5;241;43m/\u001b[39;49m\u001b[43m \u001b[49m\u001b[43m(\u001b[49m\u001b[43menr_round\u001b[49m\u001b[43m \u001b[49m\u001b[38;5;241;43m-\u001b[39;49m\u001b[43m \u001b[49m\u001b[43mbase_round\u001b[49m\u001b[43m)\u001b[49m) \u001b[38;5;241m*\u001b[39m np\u001b[38;5;241m.\u001b[39mlog10(counts[\u001b[38;5;124m\"\u001b[39m\u001b[38;5;124menr_pred\u001b[39m\u001b[38;5;124m\"\u001b[39m])\n\u001b[1;32m    149\u001b[0m counts[\u001b[38;5;124m\"\u001b[39m\u001b[38;5;124mf_obs\u001b[39m\u001b[38;5;124m\"\u001b[39m] \u001b[38;5;241m=\u001b[39m (\u001b[38;5;241m1\u001b[39m \u001b[38;5;241m/\u001b[39m (enr_round \u001b[38;5;241m-\u001b[39m base_round)) \u001b[38;5;241m*\u001b[39m np\u001b[38;5;241m.\u001b[39mlog10(counts[\u001b[38;5;124m\"\u001b[39m\u001b[38;5;124menr_obs\u001b[39m\u001b[38;5;124m\"\u001b[39m])\n\u001b[1;32m    151\u001b[0m \u001b[38;5;66;03m# plotting\u001b[39;00m\n",
      "\u001b[0;31mZeroDivisionError\u001b[0m: division by zero"
     ]
    }
   ],
   "source": [
    "mb.pl.kmer_enrichment(model_by_k_next, train)"
   ]
  }
 ],
 "metadata": {
  "kernelspec": {
   "display_name": "multibind",
   "language": "python",
   "name": "multibind"
  },
  "language_info": {
   "codemirror_mode": {
    "name": "ipython",
    "version": 3
   },
   "file_extension": ".py",
   "mimetype": "text/x-python",
   "name": "python",
   "nbconvert_exporter": "python",
   "pygments_lexer": "ipython3",
   "version": "3.10.4"
  }
 },
 "nbformat": 4,
 "nbformat_minor": 5
}
