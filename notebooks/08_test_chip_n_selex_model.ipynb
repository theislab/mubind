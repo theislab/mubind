{
 "cells": [
  {
   "cell_type": "markdown",
   "id": "5cd12041-b667-4015-a17a-7f8bca5299b2",
   "metadata": {},
   "source": [
    "### Two datasets with a similar motif"
   ]
  },
  {
   "cell_type": "code",
   "execution_count": 1,
   "id": "e8da11fa-1abf-4efa-a682-2bff281ae476",
   "metadata": {},
   "outputs": [],
   "source": [
    "%load_ext autoreload\n",
    "%autoreload 2"
   ]
  },
  {
   "cell_type": "code",
   "execution_count": 2,
   "id": "c3c4c116-39b7-4fc3-bc94-e2cc0ddb2bf1",
   "metadata": {},
   "outputs": [
    {
     "name": "stdout",
     "output_type": "stream",
     "text": [
      "Using device: cpu\n"
     ]
    }
   ],
   "source": [
    "import multibind as mb\n",
    "import numpy as np\n",
    "import pandas as pd\n",
    "\n",
    "import torch\n",
    "import torch.optim as topti\n",
    "import torch.utils.data as tdata\n",
    "\n",
    "# Use a GPU if available, as it should be faster.\n",
    "device = torch.device(\"cuda:0\" if torch.cuda.is_available() else \"cpu\")\n",
    "print(\"Using device: \" + str(device))"
   ]
  },
  {
   "cell_type": "code",
   "execution_count": 3,
   "id": "d843d27d-f4cb-4867-b3a6-ae76a1b9ddbf",
   "metadata": {},
   "outputs": [
    {
     "name": "stdout",
     "output_type": "stream",
     "text": [
      "prepare mononuc feats...\n",
      "prepare dinuc feats...\n",
      "prepare mononuc feats...\n",
      "prepare dinuc feats...\n"
     ]
    }
   ],
   "source": [
    "train1, test1 = mb.tl.create_multi_data(n_chip=2000, n_selex=0) # , n_selex=100)\n"
   ]
  },
  {
   "cell_type": "code",
   "execution_count": 4,
   "id": "abc93bd4-561d-45b1-877f-4a953717cd97",
   "metadata": {},
   "outputs": [],
   "source": [
    "# train1.dataset.is_count_data = np.repeat(False, train1.dataset.target.shape[0])"
   ]
  },
  {
   "cell_type": "code",
   "execution_count": 5,
   "id": "b1538c27-f13a-4696-b3ed-f690f52dea2a",
   "metadata": {},
   "outputs": [],
   "source": [
    "# pd.Series(train1.dataset.target).describe()"
   ]
  },
  {
   "cell_type": "markdown",
   "id": "13808351-a0d6-4998-9dac-11ff413cb8c6",
   "metadata": {},
   "source": [
    "### Using cooptf/screr (this will be deprecated and replace by bindome)."
   ]
  },
  {
   "cell_type": "markdown",
   "id": "a607188a-e653-41d8-8032-0d07b95e7e06",
   "metadata": {},
   "source": [
    "### If treating y data as log, the convergence gets to the GATA motif in small sequences."
   ]
  },
  {
   "cell_type": "code",
   "execution_count": 6,
   "id": "601a14d4-3482-48ed-8078-0b7f6573f634",
   "metadata": {},
   "outputs": [],
   "source": [
    "# train1.dataset.target = np.log(train1.dataset.target)"
   ]
  },
  {
   "cell_type": "code",
   "execution_count": 7,
   "id": "dcbeccec-b9dc-4daa-bb12-f3183b3d48da",
   "metadata": {},
   "outputs": [],
   "source": [
    "import matplotlib.pyplot as plt\n",
    "import seaborn as sns"
   ]
  },
  {
   "cell_type": "code",
   "execution_count": 8,
   "id": "f93c3300-f7d8-4f76-a492-4975f5532e52",
   "metadata": {},
   "outputs": [
    {
     "data": {
      "text/plain": [
       "<AxesSubplot:xlabel='batch', ylabel='y'>"
      ]
     },
     "execution_count": 8,
     "metadata": {},
     "output_type": "execute_result"
    },
    {
     "data": {
      "image/png": "[encoded data removed]",
      "text/plain": [
       "<Figure size 432x288 with 1 Axes>"
      ]
     },
     "metadata": {
      "needs_background": "light"
     },
     "output_type": "display_data"
    }
   ],
   "source": [
    "df = pd.DataFrame()\n",
    "df['y'] = train1.dataset.target\n",
    "df['batch'] = np.array(train1.dataset.batch)\n",
    "sns.boxplot(data=df, x='batch', y='y')"
   ]
  },
  {
   "cell_type": "code",
   "execution_count": 9,
   "id": "a22ffbd0-1d51-48be-8acf-98794e10ec9d",
   "metadata": {},
   "outputs": [
    {
     "data": {
      "text/html": [
       "<div>\n",
       "<style scoped>\n",
       "    .dataframe tbody tr th:only-of-type {\n",
       "        vertical-align: middle;\n",
       "    }\n",
       "\n",
       "    .dataframe tbody tr th {\n",
       "        vertical-align: top;\n",
       "    }\n",
       "\n",
       "    .dataframe thead th {\n",
       "        text-align: right;\n",
       "    }\n",
       "</style>\n",
       "<table border=\"1\" class=\"dataframe\">\n",
       "  <thead>\n",
       "    <tr style=\"text-align: right;\">\n",
       "      <th></th>\n",
       "      <th>y</th>\n",
       "      <th>batch</th>\n",
       "    </tr>\n",
       "  </thead>\n",
       "  <tbody>\n",
       "    <tr>\n",
       "      <th>0</th>\n",
       "      <td>1.0</td>\n",
       "      <td>0</td>\n",
       "    </tr>\n",
       "    <tr>\n",
       "      <th>1328</th>\n",
       "      <td>1.0</td>\n",
       "      <td>0</td>\n",
       "    </tr>\n",
       "    <tr>\n",
       "      <th>1326</th>\n",
       "      <td>1.0</td>\n",
       "      <td>0</td>\n",
       "    </tr>\n",
       "    <tr>\n",
       "      <th>1325</th>\n",
       "      <td>1.0</td>\n",
       "      <td>0</td>\n",
       "    </tr>\n",
       "    <tr>\n",
       "      <th>1324</th>\n",
       "      <td>1.0</td>\n",
       "      <td>0</td>\n",
       "    </tr>\n",
       "    <tr>\n",
       "      <th>...</th>\n",
       "      <td>...</td>\n",
       "      <td>...</td>\n",
       "    </tr>\n",
       "    <tr>\n",
       "      <th>2632</th>\n",
       "      <td>0.0</td>\n",
       "      <td>0</td>\n",
       "    </tr>\n",
       "    <tr>\n",
       "      <th>2631</th>\n",
       "      <td>0.0</td>\n",
       "      <td>0</td>\n",
       "    </tr>\n",
       "    <tr>\n",
       "      <th>2630</th>\n",
       "      <td>0.0</td>\n",
       "      <td>0</td>\n",
       "    </tr>\n",
       "    <tr>\n",
       "      <th>2629</th>\n",
       "      <td>0.0</td>\n",
       "      <td>0</td>\n",
       "    </tr>\n",
       "    <tr>\n",
       "      <th>3959</th>\n",
       "      <td>0.0</td>\n",
       "      <td>0</td>\n",
       "    </tr>\n",
       "  </tbody>\n",
       "</table>\n",
       "<p>3960 rows × 2 columns</p>\n",
       "</div>"
      ],
      "text/plain": [
       "        y  batch\n",
       "0     1.0      0\n",
       "1328  1.0      0\n",
       "1326  1.0      0\n",
       "1325  1.0      0\n",
       "1324  1.0      0\n",
       "...   ...    ...\n",
       "2632  0.0      0\n",
       "2631  0.0      0\n",
       "2630  0.0      0\n",
       "2629  0.0      0\n",
       "3959  0.0      0\n",
       "\n",
       "[3960 rows x 2 columns]"
      ]
     },
     "execution_count": 9,
     "metadata": {},
     "output_type": "execute_result"
    }
   ],
   "source": [
    "df.sort_values('y', ascending=False)"
   ]
  },
  {
   "cell_type": "code",
   "execution_count": 10,
   "id": "1dd8957e-b1ed-4e80-be3f-b072c1e0f98f",
   "metadata": {},
   "outputs": [
    {
     "data": {
      "text/plain": [
       "1"
      ]
     },
     "execution_count": 10,
     "metadata": {},
     "output_type": "execute_result"
    }
   ],
   "source": [
    "n_datasets = np.unique(df['batch']).shape[0]\n",
    "n_datasets"
   ]
  },
  {
   "cell_type": "code",
   "execution_count": 11,
   "id": "fb5e3b9c-7739-4d19-97f1-ccab0fb58d23",
   "metadata": {},
   "outputs": [
    {
     "data": {
      "text/plain": [
       "tensor([[1.]])"
      ]
     },
     "execution_count": 11,
     "metadata": {},
     "output_type": "execute_result"
    }
   ],
   "source": [
    "net2 = mb.models.DinucMulti(use_dinuc=False, n_datasets=n_datasets, w=7).to(device)\n",
    "net2.dataset.weight.data.uniform_(1, 1) # initialize weights as ones."
   ]
  },
  {
   "cell_type": "code",
   "execution_count": 12,
   "id": "c070c60f-fbe6-40f9-86e6-5cc793046f2a",
   "metadata": {},
   "outputs": [],
   "source": [
    "mononuc = torch.Tensor(train1.dataset.mononuc) # .type(torch.float32)\n",
    "dinuc = torch.Tensor(train1.dataset.dinuc) # .type(float32)\n",
    "b = torch.Tensor(train1.dataset.batch).to(torch.int64)\n",
    "y_true = torch.Tensor(train1.dataset.target)\n",
    "\n",
    "inputs = (mononuc, dinuc, b)\n",
    "y_pred = net2(inputs).detach().numpy()"
   ]
  },
  {
   "cell_type": "code",
   "execution_count": 13,
   "id": "e1f7dc26-0bb1-45b4-a68e-2f29cb4d9aa4",
   "metadata": {},
   "outputs": [],
   "source": [
    "# train1.dataset.batch.shape, train1.dataset.mononuc.shape\n",
    "# net2.conv_mono(torch.unsqueeze(torch.Tensor(train1.dataset.mononuc), 1))[0].squeeze()"
   ]
  },
  {
   "cell_type": "code",
   "execution_count": 14,
   "id": "ee228999-05a6-47b4-843c-4ecbde0b6be8",
   "metadata": {},
   "outputs": [
    {
     "data": {
      "text/plain": [
       "tensor([], size=(0, 4, 200))"
      ]
     },
     "execution_count": 14,
     "metadata": {},
     "output_type": "execute_result"
    }
   ],
   "source": [
    "mononuc[train1.dataset.is_count_data.values == 1]"
   ]
  },
  {
   "cell_type": "code",
   "execution_count": 15,
   "id": "770c3487-6c92-4bc9-a5cb-5d46fa6000d8",
   "metadata": {},
   "outputs": [],
   "source": [
    "# a, b = inputs[is_count_data == 1], inputs[is_count_data == 0]        \n",
    "# print(a.shape, b.shape)\n",
    "\n",
    "\n",
    "# poisson_loss = torch.mean(targets[is_count_data == 1] - a*torch.log(targets[is_count_data == 1]))\n",
    "# bce_loss = torch.nn.BCELoss(b, targets[is_count_data == 0])\n",
    "\n",
    "# print(poisson_loss, bce_loss)\n",
    "# assert False"
   ]
  },
  {
   "cell_type": "code",
   "execution_count": 16,
   "id": "8ab66269-ba41-4bfc-992c-99675321f465",
   "metadata": {},
   "outputs": [
    {
     "data": {
      "text/plain": [
       "tensor(0.5032)"
      ]
     },
     "execution_count": 16,
     "metadata": {},
     "output_type": "execute_result"
    }
   ],
   "source": [
    "m = torch.nn.Sigmoid()\n",
    "bce = torch.nn.BCELoss()\n",
    "x = torch.Tensor([0, 1])\n",
    "targets = torch.Tensor([0, 1])\n",
    "bce(m(x), targets)"
   ]
  },
  {
   "cell_type": "code",
   "execution_count": 17,
   "id": "5e2bff80-a2f9-42b2-b0c3-410ba3d49b64",
   "metadata": {},
   "outputs": [
    {
     "name": "stdout",
     "output_type": "stream",
     "text": [
      "tensor([-1.3393, -0.5587, -0.2902], requires_grad=True) tensor([0., 0., 0.])\n",
      "tensor(0.4145, grad_fn=<BinaryCrossEntropyBackward>)\n"
     ]
    }
   ],
   "source": [
    "m = torch.nn.Sigmoid()\n",
    "loss = torch.nn.BCELoss()\n",
    "input = torch.randn(3, requires_grad=True)\n",
    "target = torch.empty(3).random_(2)\n",
    "output = loss(m(input), target)\n",
    "print(input, target)\n",
    "output.backward()\n",
    "print(output)"
   ]
  },
  {
   "cell_type": "code",
   "execution_count": 18,
   "id": "d5c9fe9c-f4ee-4c6d-9cec-6f39cccfb276",
   "metadata": {},
   "outputs": [
    {
     "name": "stdout",
     "output_type": "stream",
     "text": [
      "Epoch:  1, Loss: 50.378\n",
      "Epoch: 101, Loss: 0.693\n",
      "Epoch: 201, Loss: 0.694\n",
      "Epoch: 301, Loss: 0.694\n",
      "Epoch: 401, Loss: 0.694\n",
      "Epoch: 501, Loss: 0.694\n"
     ]
    },
    {
     "ename": "KeyboardInterrupt",
     "evalue": "",
     "output_type": "error",
     "traceback": [
      "\u001b[0;31m---------------------------------------------------------------------------\u001b[0m",
      "\u001b[0;31mKeyboardInterrupt\u001b[0m                         Traceback (most recent call last)",
      "\u001b[0;32m<ipython-input-18-0d0d56a80568>\u001b[0m in \u001b[0;36m<module>\u001b[0;34m\u001b[0m\n\u001b[1;32m      2\u001b[0m \u001b[0mcriterion\u001b[0m \u001b[0;34m=\u001b[0m \u001b[0mmb\u001b[0m\u001b[0;34m.\u001b[0m\u001b[0mtl\u001b[0m\u001b[0;34m.\u001b[0m\u001b[0mMultiDatasetLoss\u001b[0m\u001b[0;34m(\u001b[0m\u001b[0;34m)\u001b[0m\u001b[0;34m\u001b[0m\u001b[0m\n\u001b[1;32m      3\u001b[0m \u001b[0ml2\u001b[0m \u001b[0;34m=\u001b[0m \u001b[0;34m[\u001b[0m\u001b[0;34m]\u001b[0m\u001b[0;34m\u001b[0m\u001b[0m\n\u001b[0;32m----> 4\u001b[0;31m \u001b[0ml2\u001b[0m \u001b[0;34m+=\u001b[0m \u001b[0mmb\u001b[0m\u001b[0;34m.\u001b[0m\u001b[0mtl\u001b[0m\u001b[0;34m.\u001b[0m\u001b[0mtrain_network\u001b[0m\u001b[0;34m(\u001b[0m\u001b[0mnet2\u001b[0m\u001b[0;34m,\u001b[0m \u001b[0mtrain1\u001b[0m\u001b[0;34m,\u001b[0m \u001b[0mdevice\u001b[0m\u001b[0;34m,\u001b[0m \u001b[0moptimiser\u001b[0m\u001b[0;34m,\u001b[0m \u001b[0mcriterion\u001b[0m\u001b[0;34m,\u001b[0m \u001b[0mnum_epochs\u001b[0m\u001b[0;34m=\u001b[0m\u001b[0;36m5000\u001b[0m\u001b[0;34m,\u001b[0m \u001b[0mlog_each\u001b[0m\u001b[0;34m=\u001b[0m\u001b[0;36m100\u001b[0m\u001b[0;34m)\u001b[0m\u001b[0;34m\u001b[0m\u001b[0m\n\u001b[0m",
      "\u001b[0;32m/mnt/znas/icb_zstore01/groups/ml01/workspace/ignacio.ibarra/theislab/multibind/multibind/tl/prediction.py\u001b[0m in \u001b[0;36mtrain_network\u001b[0;34m(net, train_dataloader, device, optimiser, criterion, num_epochs, log_each)\u001b[0m\n\u001b[1;32m    262\u001b[0m             \u001b[0;31m# print(loss)\u001b[0m\u001b[0;34m\u001b[0m\u001b[0;34m\u001b[0m\u001b[0m\n\u001b[1;32m    263\u001b[0m             \u001b[0;31m# assert False\u001b[0m\u001b[0;34m\u001b[0m\u001b[0;34m\u001b[0m\u001b[0m\n\u001b[0;32m--> 264\u001b[0;31m             \u001b[0mloss\u001b[0m\u001b[0;34m.\u001b[0m\u001b[0mbackward\u001b[0m\u001b[0;34m(\u001b[0m\u001b[0;34m)\u001b[0m  \u001b[0;31m# Calculate gradients.\u001b[0m\u001b[0;34m\u001b[0m\u001b[0m\n\u001b[0m\u001b[1;32m    265\u001b[0m             \u001b[0moptimiser\u001b[0m\u001b[0;34m.\u001b[0m\u001b[0mstep\u001b[0m\u001b[0;34m(\u001b[0m\u001b[0;34m)\u001b[0m  \u001b[0;31m# Step to minimise the loss according to the gradient.\u001b[0m\u001b[0;34m\u001b[0m\u001b[0m\n\u001b[1;32m    266\u001b[0m             \u001b[0mrunning_loss\u001b[0m \u001b[0;34m+=\u001b[0m \u001b[0mloss\u001b[0m\u001b[0;34m.\u001b[0m\u001b[0mitem\u001b[0m\u001b[0;34m(\u001b[0m\u001b[0;34m)\u001b[0m\u001b[0;34m\u001b[0m\u001b[0m\n",
      "\u001b[0;32m~/miniconda3/envs/multibind/lib/python3.6/site-packages/torch/_tensor.py\u001b[0m in \u001b[0;36mbackward\u001b[0;34m(self, gradient, retain_graph, create_graph, inputs)\u001b[0m\n\u001b[1;32m    253\u001b[0m                 \u001b[0mcreate_graph\u001b[0m\u001b[0;34m=\u001b[0m\u001b[0mcreate_graph\u001b[0m\u001b[0;34m,\u001b[0m\u001b[0;34m\u001b[0m\u001b[0m\n\u001b[1;32m    254\u001b[0m                 inputs=inputs)\n\u001b[0;32m--> 255\u001b[0;31m         \u001b[0mtorch\u001b[0m\u001b[0;34m.\u001b[0m\u001b[0mautograd\u001b[0m\u001b[0;34m.\u001b[0m\u001b[0mbackward\u001b[0m\u001b[0;34m(\u001b[0m\u001b[0mself\u001b[0m\u001b[0;34m,\u001b[0m \u001b[0mgradient\u001b[0m\u001b[0;34m,\u001b[0m \u001b[0mretain_graph\u001b[0m\u001b[0;34m,\u001b[0m \u001b[0mcreate_graph\u001b[0m\u001b[0;34m,\u001b[0m \u001b[0minputs\u001b[0m\u001b[0;34m=\u001b[0m\u001b[0minputs\u001b[0m\u001b[0;34m)\u001b[0m\u001b[0;34m\u001b[0m\u001b[0m\n\u001b[0m\u001b[1;32m    256\u001b[0m \u001b[0;34m\u001b[0m\u001b[0m\n\u001b[1;32m    257\u001b[0m     \u001b[0;32mdef\u001b[0m \u001b[0mregister_hook\u001b[0m\u001b[0;34m(\u001b[0m\u001b[0mself\u001b[0m\u001b[0;34m,\u001b[0m \u001b[0mhook\u001b[0m\u001b[0;34m)\u001b[0m\u001b[0;34m:\u001b[0m\u001b[0;34m\u001b[0m\u001b[0m\n",
      "\u001b[0;32m~/miniconda3/envs/multibind/lib/python3.6/site-packages/torch/autograd/__init__.py\u001b[0m in \u001b[0;36mbackward\u001b[0;34m(tensors, grad_tensors, retain_graph, create_graph, grad_variables, inputs)\u001b[0m\n\u001b[1;32m    147\u001b[0m     Variable._execution_engine.run_backward(\n\u001b[1;32m    148\u001b[0m         \u001b[0mtensors\u001b[0m\u001b[0;34m,\u001b[0m \u001b[0mgrad_tensors_\u001b[0m\u001b[0;34m,\u001b[0m \u001b[0mretain_graph\u001b[0m\u001b[0;34m,\u001b[0m \u001b[0mcreate_graph\u001b[0m\u001b[0;34m,\u001b[0m \u001b[0minputs\u001b[0m\u001b[0;34m,\u001b[0m\u001b[0;34m\u001b[0m\u001b[0m\n\u001b[0;32m--> 149\u001b[0;31m         allow_unreachable=True, accumulate_grad=True)  # allow_unreachable flag\n\u001b[0m\u001b[1;32m    150\u001b[0m \u001b[0;34m\u001b[0m\u001b[0m\n\u001b[1;32m    151\u001b[0m \u001b[0;34m\u001b[0m\u001b[0m\n",
      "\u001b[0;31mKeyboardInterrupt\u001b[0m: "
     ]
    }
   ],
   "source": [
    "optimiser = topti.Adam(net2.parameters(), lr=0.001, weight_decay=0.0001)\n",
    "criterion = mb.tl.MultiDatasetLoss()\n",
    "l2 = []\n",
    "l2 += mb.tl.train_network(net2, train1, device, optimiser, criterion, num_epochs=5000, log_each=100)"
   ]
  },
  {
   "cell_type": "code",
   "execution_count": 19,
   "id": "2dd2630d-f5c3-44f2-be38-b8a0b32c0952",
   "metadata": {},
   "outputs": [
    {
     "data": {
      "text/plain": [
       "[<matplotlib.lines.Line2D at 0x7f7147225a20>]"
      ]
     },
     "execution_count": 19,
     "metadata": {},
     "output_type": "execute_result"
    },
    {
     "data": {
      "image/png": "[encoded data removed]",
      "text/plain": [
       "<Figure size 432x288 with 1 Axes>"
      ]
     },
     "metadata": {
      "needs_background": "light"
     },
     "output_type": "display_data"
    }
   ],
   "source": [
    "plt.plot(l2)"
   ]
  },
  {
   "cell_type": "code",
   "execution_count": 21,
   "id": "74d1cdc3-ff98-4cbe-9b0e-2a25e64bdc3c",
   "metadata": {},
   "outputs": [
    {
     "data": {
      "text/plain": [
       "Parameter containing:\n",
       "tensor([[-0.0006]], requires_grad=True)"
      ]
     },
     "execution_count": 21,
     "metadata": {},
     "output_type": "execute_result"
    }
   ],
   "source": [
    "## check the batch effects\n",
    "net2.dataset.weight"
   ]
  },
  {
   "cell_type": "code",
   "execution_count": 22,
   "id": "bf6c75b1-c9d3-4777-8707-9f3b305b768a",
   "metadata": {},
   "outputs": [
    {
     "data": {
      "image/png": "[encoded data removed]",
      "text/plain": [
       "<Figure size 720x180 with 1 Axes>"
      ]
     },
     "metadata": {
      "needs_background": "light"
     },
     "output_type": "display_data"
    }
   ],
   "source": [
    "# print(np.exp(net2.log_weight_1.squeeze().cpu().detach().numpy()))\n",
    "# print(np.exp(net.log_weight_2.squeeze().cpu().detach().numpy()))\n",
    "#mb.tl.create_logo(net)\n",
    "#plt.show()\n",
    "#mb.tl.create_heatmap(net)\n",
    "import logomaker\n",
    "weights = net2.conv_mono.weight\n",
    "weights = weights.squeeze().cpu().detach().numpy()\n",
    "weights = pd.DataFrame(weights)\n",
    "weights.index = 'A', 'C', 'G', 'T'\n",
    "crp_logo = logomaker.Logo(weights.T, shade_below=.5, fade_below=.5)"
   ]
  },
  {
   "cell_type": "code",
   "execution_count": 23,
   "id": "8726f873-f99e-4a5d-a867-633e432ea8e0",
   "metadata": {},
   "outputs": [],
   "source": [
    "from sklearn.metrics import r2_score"
   ]
  },
  {
   "cell_type": "code",
   "execution_count": 24,
   "id": "90aa7447-7945-470b-855b-94f4156077e1",
   "metadata": {},
   "outputs": [
    {
     "name": "stdout",
     "output_type": "stream",
     "text": [
      "here...\n"
     ]
    }
   ],
   "source": [
    "print('here...')"
   ]
  },
  {
   "cell_type": "code",
   "execution_count": 25,
   "id": "94b3c232-cda2-4b74-83db-d92e2a9ed541",
   "metadata": {},
   "outputs": [
    {
     "data": {
      "text/plain": [
       "Parameter containing:\n",
       "tensor([[-0.0006]], requires_grad=True)"
      ]
     },
     "execution_count": 25,
     "metadata": {},
     "output_type": "execute_result"
    }
   ],
   "source": [
    "net2.dataset.weight"
   ]
  },
  {
   "cell_type": "markdown",
   "id": "76bfd514-ea48-4990-a7c6-4125876208af",
   "metadata": {},
   "source": [
    "### Check the quality of the predictions, across datasets"
   ]
  },
  {
   "cell_type": "code",
   "execution_count": null,
   "id": "f9c167cf-13b1-4670-bbc6-6b76a3a7c9dc",
   "metadata": {},
   "outputs": [],
   "source": [
    "mononuc = torch.Tensor(train1.dataset.mononuc).to(device)\n",
    "dinuc = torch.Tensor(train1.dataset.dinuc).to(device)\n",
    "b = torch.Tensor(train1.dataset.batch).to(torch.int64)\n",
    "y_true = torch.Tensor(train1.dataset.target)\n",
    "inputs = (mononuc, dinuc, b)\n",
    "y_pred = net2(inputs).detach().numpy()"
   ]
  },
  {
   "cell_type": "code",
   "execution_count": null,
   "id": "a5f3e65e-e5f1-4153-9b92-86b467eed65d",
   "metadata": {},
   "outputs": [],
   "source": [
    "import seaborn as sns\n",
    "from sklearn.metrics import r2_score"
   ]
  },
  {
   "cell_type": "code",
   "execution_count": null,
   "id": "6add61e2-559c-4cbd-b033-e565d109c1b4",
   "metadata": {},
   "outputs": [],
   "source": [
    "r2_score(y_true, y_pred)"
   ]
  },
  {
   "cell_type": "code",
   "execution_count": null,
   "id": "e30e15d5-da99-44d0-bd78-33e03122cb1e",
   "metadata": {},
   "outputs": [],
   "source": [
    "plt.scatter(y_true, y_pred, s=5, c=b)\n",
    "plt.xlabel('observed')\n",
    "plt.ylabel('predicted')"
   ]
  },
  {
   "cell_type": "code",
   "execution_count": null,
   "id": "40d57644-3097-4eec-a8f2-24ed5c4b8ae8",
   "metadata": {},
   "outputs": [],
   "source": [
    "print('here...')"
   ]
  }
 ],
 "metadata": {
  "kernelspec": {
   "display_name": "Python [conda env:multibind]",
   "language": "python",
   "name": "conda-env-multibind-py"
  },
  "language_info": {
   "codemirror_mode": {
    "name": "ipython",
    "version": 3
   },
   "file_extension": ".py",
   "mimetype": "text/x-python",
   "name": "python",
   "nbconvert_exporter": "python",
   "pygments_lexer": "ipython3",
   "version": "3.6.3"
  }
 },
 "nbformat": 4,
 "nbformat_minor": 5
}
