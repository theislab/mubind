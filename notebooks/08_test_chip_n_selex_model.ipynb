{
 "cells": [
  {
   "cell_type": "markdown",
   "id": "5cd12041-b667-4015-a17a-7f8bca5299b2",
   "metadata": {},
   "source": [
    "### Two datasets with a similar motif"
   ]
  },
  {
   "cell_type": "code",
   "execution_count": 101,
   "id": "e8da11fa-1abf-4efa-a682-2bff281ae476",
   "metadata": {},
   "outputs": [
    {
     "name": "stdout",
     "output_type": "stream",
     "text": [
      "The autoreload extension is already loaded. To reload it, use:\n",
      "  %reload_ext autoreload\n"
     ]
    }
   ],
   "source": [
    "%load_ext autoreload\n",
    "%autoreload 2"
   ]
  },
  {
   "cell_type": "code",
   "execution_count": 102,
   "id": "c3c4c116-39b7-4fc3-bc94-e2cc0ddb2bf1",
   "metadata": {},
   "outputs": [
    {
     "name": "stdout",
     "output_type": "stream",
     "text": [
      "Using device: cpu\n"
     ]
    }
   ],
   "source": [
    "import mubind as mb\n",
    "import numpy as np\n",
    "import pandas as pd\n",
    "\n",
    "import torch\n",
    "import torch.optim as topti\n",
    "import torch.utils.data as tdata\n",
    "\n",
    "# Use a GPU if available, as it should be faster.\n",
    "device = torch.device(\"cuda:0\" if torch.cuda.is_available() else \"cpu\")\n",
    "print(\"Using device: \" + str(device))"
   ]
  },
  {
   "cell_type": "markdown",
   "id": "fb8a4ead-e839-4831-ba9d-619dde4337e2",
   "metadata": {},
   "source": [
    "## I Only HT-SELEX batches"
   ]
  },
  {
   "cell_type": "code",
   "execution_count": 179,
   "id": "d843d27d-f4cb-4867-b3a6-ae76a1b9ddbf",
   "metadata": {},
   "outputs": [
    {
     "name": "stdout",
     "output_type": "stream",
     "text": [
      "max seqlen 14\n"
     ]
    }
   ],
   "source": [
    "train, test = mb.tl.create_multi_data(n_chip=0, n_selex=300, n_batch_selex=6) # , n_selex=100)"
   ]
  },
  {
   "cell_type": "markdown",
   "id": "13808351-a0d6-4998-9dac-11ff413cb8c6",
   "metadata": {},
   "source": [
    "### Using cooptf/screr (this will be deprecated and replace by bindome)."
   ]
  },
  {
   "cell_type": "markdown",
   "id": "a607188a-e653-41d8-8032-0d07b95e7e06",
   "metadata": {},
   "source": [
    "### If treating y data as log, the convergence gets to the GATA motif in small sequences."
   ]
  },
  {
   "cell_type": "code",
   "execution_count": 180,
   "id": "601a14d4-3482-48ed-8078-0b7f6573f634",
   "metadata": {},
   "outputs": [],
   "source": [
    "train.dataset.target[train.dataset.is_count_data == 1] = np.log(train.dataset.target[train.dataset.is_count_data == 1])"
   ]
  },
  {
   "cell_type": "code",
   "execution_count": 181,
   "id": "49f16ddc-aaa0-4cd2-940f-59dade1b327a",
   "metadata": {},
   "outputs": [
    {
     "data": {
      "text/plain": [
       "2_selex    63\n",
       "0_selex    53\n",
       "4_selex    52\n",
       "1_selex    47\n",
       "3_selex    43\n",
       "5_selex    36\n",
       "dtype: int64"
      ]
     },
     "execution_count": 181,
     "metadata": {},
     "output_type": "execute_result"
    }
   ],
   "source": [
    "pd.Series(train.dataset.batch).value_counts()"
   ]
  },
  {
   "cell_type": "code",
   "execution_count": 182,
   "id": "dcbeccec-b9dc-4daa-bb12-f3183b3d48da",
   "metadata": {},
   "outputs": [],
   "source": [
    "import matplotlib.pyplot as plt\n",
    "import seaborn as sns"
   ]
  },
  {
   "cell_type": "code",
   "execution_count": 183,
   "id": "f93c3300-f7d8-4f76-a492-4975f5532e52",
   "metadata": {},
   "outputs": [
    {
     "data": {
      "image/png": "[encoded data removed]",
      "text/plain": [
       "<Figure size 432x288 with 1 Axes>"
      ]
     },
     "metadata": {
      "needs_background": "light"
     },
     "output_type": "display_data"
    }
   ],
   "source": [
    "df = pd.DataFrame()\n",
    "df['y'] = train.dataset.target\n",
    "df['batch'] = np.array(train.dataset.batch)\n",
    "sns.boxplot(data=df, x='batch', y='y')\n",
    "plt.xticks(rotation=45, ha='right');"
   ]
  },
  {
   "cell_type": "code",
   "execution_count": 184,
   "id": "a22ffbd0-1d51-48be-8acf-98794e10ec9d",
   "metadata": {},
   "outputs": [
    {
     "data": {
      "text/html": [
       "<div>\n",
       "<style scoped>\n",
       "    .dataframe tbody tr th:only-of-type {\n",
       "        vertical-align: middle;\n",
       "    }\n",
       "\n",
       "    .dataframe tbody tr th {\n",
       "        vertical-align: top;\n",
       "    }\n",
       "\n",
       "    .dataframe thead th {\n",
       "        text-align: right;\n",
       "    }\n",
       "</style>\n",
       "<table border=\"1\" class=\"dataframe\">\n",
       "  <thead>\n",
       "    <tr style=\"text-align: right;\">\n",
       "      <th></th>\n",
       "      <th>y</th>\n",
       "      <th>batch</th>\n",
       "    </tr>\n",
       "  </thead>\n",
       "  <tbody>\n",
       "    <tr>\n",
       "      <th>54</th>\n",
       "      <td>13.815511</td>\n",
       "      <td>5_selex</td>\n",
       "    </tr>\n",
       "    <tr>\n",
       "      <th>7</th>\n",
       "      <td>13.815511</td>\n",
       "      <td>5_selex</td>\n",
       "    </tr>\n",
       "    <tr>\n",
       "      <th>22</th>\n",
       "      <td>13.815511</td>\n",
       "      <td>5_selex</td>\n",
       "    </tr>\n",
       "    <tr>\n",
       "      <th>21</th>\n",
       "      <td>13.815511</td>\n",
       "      <td>5_selex</td>\n",
       "    </tr>\n",
       "    <tr>\n",
       "      <th>66</th>\n",
       "      <td>13.815511</td>\n",
       "      <td>5_selex</td>\n",
       "    </tr>\n",
       "  </tbody>\n",
       "</table>\n",
       "</div>"
      ],
      "text/plain": [
       "            y    batch\n",
       "54  13.815511  5_selex\n",
       "7   13.815511  5_selex\n",
       "22  13.815511  5_selex\n",
       "21  13.815511  5_selex\n",
       "66  13.815511  5_selex"
      ]
     },
     "execution_count": 184,
     "metadata": {},
     "output_type": "execute_result"
    }
   ],
   "source": [
    "df.sort_values('y', ascending=False).head()"
   ]
  },
  {
   "cell_type": "code",
   "execution_count": 185,
   "id": "1dd8957e-b1ed-4e80-be3f-b072c1e0f98f",
   "metadata": {},
   "outputs": [
    {
     "name": "stdout",
     "output_type": "stream",
     "text": [
      "# datasets 6\n",
      "# latent dimensions 3\n"
     ]
    }
   ],
   "source": [
    "n_datasets = np.unique(df['batch']).shape[0]\n",
    "n_latent = 3\n",
    "print('# datasets', n_datasets)\n",
    "print('# latent dimensions', n_latent)"
   ]
  },
  {
   "cell_type": "code",
   "execution_count": 186,
   "id": "41c179c4-83a1-4b2f-b341-a200aa781366",
   "metadata": {},
   "outputs": [],
   "source": [
    "model = mb.models.DinucMulti(use_dinuc=True, n_datasets=n_datasets, n_latent=n_latent, w=8).to(device)\n",
    "model.embedding.weight.data.uniform_(1, 1) # initialize weights as ones.\n",
    "l2 = []"
   ]
  },
  {
   "cell_type": "code",
   "execution_count": 187,
   "id": "3387c685-aaa4-4f86-8c4a-1eb9c7f22990",
   "metadata": {},
   "outputs": [
    {
     "data": {
      "text/plain": [
       "<multibind.datasets.datasets.MultiDataset at 0x7fce5c7b73c8>"
      ]
     },
     "execution_count": 187,
     "metadata": {},
     "output_type": "execute_result"
    }
   ],
   "source": [
    "train.dataset"
   ]
  },
  {
   "cell_type": "code",
   "execution_count": 188,
   "id": "33f61c3c-4d47-4f08-a7d4-1aaca0f80ae3",
   "metadata": {},
   "outputs": [
    {
     "name": "stdout",
     "output_type": "stream",
     "text": [
      "Epoch:  1, Loss: 13.727\n",
      "Epoch: 101, Loss: 0.702\n",
      "Epoch: 201, Loss: 0.575\n",
      "Epoch: 301, Loss: 0.616\n",
      "Epoch: 401, Loss: 0.576\n",
      "Epoch: 501, Loss: 0.586\n",
      "Epoch: 601, Loss: 0.550\n",
      "Epoch: 701, Loss: 0.578\n",
      "Epoch: 801, Loss: 0.561\n",
      "Epoch: 901, Loss: 0.578\n",
      "Epoch: 1001, Loss: 0.564\n",
      "Epoch: 1101, Loss: 0.525\n",
      "Epoch: 1201, Loss: 0.561\n",
      "Epoch: 1301, Loss: 0.597\n",
      "Epoch: 1401, Loss: 0.548\n",
      "Epoch: 1501, Loss: 0.567\n",
      "Epoch: 1601, Loss: 0.609\n",
      "Epoch: 1701, Loss: 0.566\n",
      "Epoch: 1801, Loss: 0.633\n",
      "Epoch: 1901, Loss: 0.535\n"
     ]
    }
   ],
   "source": [
    "optimiser = topti.Adam(model.parameters(), lr=0.01, weight_decay=0.01)\n",
    "criterion = mb.tl.MultiDatasetLoss()\n",
    "l2 += mb.tl.train_network(model, train, device, optimiser, criterion, num_epochs=2000, log_each=100)"
   ]
  },
  {
   "cell_type": "code",
   "execution_count": 189,
   "id": "f0160cf0-3181-406d-8b83-855a02f06b05",
   "metadata": {},
   "outputs": [
    {
     "data": {
      "text/plain": [
       "<All keys matched successfully>"
      ]
     },
     "execution_count": 189,
     "metadata": {},
     "output_type": "execute_result"
    }
   ],
   "source": [
    "model.load_state_dict(model.best_model_state)"
   ]
  },
  {
   "cell_type": "code",
   "execution_count": 190,
   "id": "74c2a3d9-9b33-45b7-99e6-b2a7ace7f4d3",
   "metadata": {},
   "outputs": [],
   "source": [
    "mononuc = torch.Tensor(train.dataset.mononuc) # .type(torch.float32)\n",
    "dinuc = torch.Tensor(train.dataset.dinuc) # .type(float32)\n",
    "b = torch.Tensor(train.dataset.batch_one_hot)\n",
    "y_true = torch.Tensor(train.dataset.target)\n",
    "is_count_data = torch.Tensor(train.dataset.is_count_data)\n",
    "inputs = (mononuc, dinuc, b)\n",
    "y_pred = torch.Tensor(model(inputs).detach().numpy())"
   ]
  },
  {
   "cell_type": "code",
   "execution_count": 191,
   "id": "058edd22-4347-43c3-afa5-f48f15e1e24a",
   "metadata": {},
   "outputs": [
    {
     "data": {
      "text/plain": [
       "(torch.Size([294]), torch.Size([294]), torch.Size([0]))"
      ]
     },
     "execution_count": 191,
     "metadata": {},
     "output_type": "execute_result"
    }
   ],
   "source": [
    "y_pred.shape, y_pred[y_pred > 0].shape, y_pred[y_pred < 0].shape"
   ]
  },
  {
   "cell_type": "code",
   "execution_count": 192,
   "id": "aa26b96d-6f81-4749-847e-6409447cd009",
   "metadata": {},
   "outputs": [
    {
     "name": "stdout",
     "output_type": "stream",
     "text": [
      "tensor(44.6888)\n"
     ]
    }
   ],
   "source": [
    "loss = torch.abs(y_true[is_count_data == 1] - y_pred[is_count_data == 1]*torch.log(y_true[is_count_data == 1]))\n",
    "poisson_loss = torch.mean(loss)\n",
    "print(poisson_loss)\n",
    "# print('BCE')\n",
    "# print(b)\n",
    "# print(b.shape)\n",
    "# print(targets[is_count_data == 0])\n",
    "# print(targets[is_count_data == 0].shape)\n"
   ]
  },
  {
   "cell_type": "code",
   "execution_count": 193,
   "id": "efe35e6c-1d59-46f1-9a6f-4ea6f87c8ae0",
   "metadata": {},
   "outputs": [
    {
     "data": {
      "text/plain": [
       "tensor(44.6888)"
      ]
     },
     "execution_count": 193,
     "metadata": {},
     "output_type": "execute_result"
    }
   ],
   "source": [
    "torch.mean(torch.abs((y_true[is_count_data == 1] - y_pred[is_count_data == 1] * np.log(y_true[is_count_data == 1]))))"
   ]
  },
  {
   "cell_type": "code",
   "execution_count": 194,
   "id": "61a29d9f-c509-4fe6-b1c2-f9c67edf20b3",
   "metadata": {},
   "outputs": [
    {
     "name": "stdout",
     "output_type": "stream",
     "text": [
      "checking that the values are similar after training (using MultiDatasetLoss during training\n",
      "CPU times: user 620 µs, sys: 7 µs, total: 627 µs\n",
      "Wall time: 507 µs\n"
     ]
    },
    {
     "data": {
      "text/plain": [
       "tensor(-0.2658)"
      ]
     },
     "execution_count": 194,
     "metadata": {},
     "output_type": "execute_result"
    }
   ],
   "source": [
    "print('checking that the values are similar after training (using MultiDatasetLoss during training')\n",
    "l_poisson = mb.tl.PoissonLoss()\n",
    "%time l_poisson(torch.Tensor(y_pred[is_count_data == 1]), y_true[is_count_data == 1], is_count_data)\n"
   ]
  },
  {
   "cell_type": "code",
   "execution_count": 195,
   "id": "1e158dc7-fe43-4030-87f9-08a63c3d5ba5",
   "metadata": {},
   "outputs": [
    {
     "name": "stdout",
     "output_type": "stream",
     "text": [
      "CPU times: user 686 µs, sys: 0 ns, total: 686 µs\n",
      "Wall time: 602 µs\n"
     ]
    },
    {
     "data": {
      "text/plain": [
       "tensor(0.5959)"
      ]
     },
     "execution_count": 195,
     "metadata": {},
     "output_type": "execute_result"
    }
   ],
   "source": [
    "l_multi = mb.tl.MultiDatasetLoss()\n",
    "%time l_multi(torch.Tensor(y_pred), y_true, is_count_data)"
   ]
  },
  {
   "cell_type": "code",
   "execution_count": 196,
   "id": "2dd2630d-f5c3-44f2-be38-b8a0b32c0952",
   "metadata": {},
   "outputs": [
    {
     "data": {
      "text/plain": [
       "[<matplotlib.lines.Line2D at 0x7fce5c679a58>]"
      ]
     },
     "execution_count": 196,
     "metadata": {},
     "output_type": "execute_result"
    },
    {
     "data": {
      "image/png": "[encoded data removed]",
      "text/plain": [
       "<Figure size 432x288 with 1 Axes>"
      ]
     },
     "metadata": {
      "needs_background": "light"
     },
     "output_type": "display_data"
    }
   ],
   "source": [
    "plt.plot(l2)"
   ]
  },
  {
   "cell_type": "code",
   "execution_count": 197,
   "id": "bf6c75b1-c9d3-4777-8707-9f3b305b768a",
   "metadata": {},
   "outputs": [
    {
     "data": {
      "image/png": "[encoded data removed]",
      "text/plain": [
       "<Figure size 720x180 with 1 Axes>"
      ]
     },
     "metadata": {
      "needs_background": "light"
     },
     "output_type": "display_data"
    }
   ],
   "source": [
    "# print(np.exp(model.log_weight_1.squeeze().cpu().detach().numpy()))\n",
    "# print(np.exp(net.log_weight_2.squeeze().cpu().detach().numpy()))\n",
    "#mb.tl.create_logo(net)\n",
    "#plt.show()\n",
    "#mb.tl.create_heatmap(net)\n",
    "import logomaker\n",
    "weights = model.conv_mono.weight\n",
    "weights = weights.squeeze().cpu().detach().numpy()\n",
    "weights = pd.DataFrame(weights)\n",
    "weights.index = 'A', 'C', 'G', 'T'\n",
    "crp_logo = logomaker.Logo(weights.T, shade_below=.5, fade_below=.5)"
   ]
  },
  {
   "cell_type": "code",
   "execution_count": 198,
   "id": "8726f873-f99e-4a5d-a867-633e432ea8e0",
   "metadata": {},
   "outputs": [],
   "source": [
    "from sklearn.metrics import r2_score"
   ]
  },
  {
   "cell_type": "code",
   "execution_count": 199,
   "id": "90aa7447-7945-470b-855b-94f4156077e1",
   "metadata": {},
   "outputs": [
    {
     "name": "stdout",
     "output_type": "stream",
     "text": [
      "here...\n"
     ]
    }
   ],
   "source": [
    "print('here...')"
   ]
  },
  {
   "cell_type": "markdown",
   "id": "76bfd514-ea48-4990-a7c6-4125876208af",
   "metadata": {},
   "source": [
    "### Check the quality of the predictions, across datasets"
   ]
  },
  {
   "cell_type": "code",
   "execution_count": 200,
   "id": "f9c167cf-13b1-4670-bbc6-6b76a3a7c9dc",
   "metadata": {},
   "outputs": [],
   "source": [
    "mononuc = torch.Tensor(train.dataset.mononuc).to(device)\n",
    "dinuc = torch.Tensor(train.dataset.dinuc).to(device)\n",
    "b = torch.Tensor(train.dataset.batch_one_hot).to(torch.int64)\n",
    "y_true = torch.Tensor(train.dataset.target)\n",
    "is_count_data = torch.Tensor(train.dataset.is_count_data)\n",
    "inputs = (mononuc, dinuc, b)\n",
    "y_pred = model(inputs).detach().numpy()"
   ]
  },
  {
   "cell_type": "markdown",
   "id": "ba20c4b4-8759-4096-86c4-b5bc6f37248f",
   "metadata": {},
   "source": [
    "## This is step by step what forward at models.py is doing.\n",
    "- Mind the shapes of X and embedding (b * emb) for final calculation. Swaps of that could be unintended and fatal."
   ]
  },
  {
   "cell_type": "code",
   "execution_count": 201,
   "id": "2f82b9fe-cca9-4803-860a-6fa42416fa88",
   "metadata": {},
   "outputs": [
    {
     "name": "stdout",
     "output_type": "stream",
     "text": [
      "b shape (after emb) torch.Size([3, 294])\n"
     ]
    }
   ],
   "source": [
    "x = inputs\n",
    "mono, di, batch = x[0], x[1], x[2]\n",
    "# print('input shape', mono.shape)\n",
    "\n",
    "mono = torch.unsqueeze(mono, 1)\n",
    "mono = mono.type(torch.float32)\n",
    "\n",
    "# print('mono type', mono.dtype)\n",
    "# mono = mono.type(torch.LongTensor)\n",
    "mono = model.conv_mono(mono)\n",
    "\n",
    "# print(di)\n",
    "di = torch.unsqueeze(di, 1)\n",
    "di = di.type(torch.float32)\n",
    "\n",
    "di = model.conv_di(di)\n",
    "\n",
    "# this is necessary but it needs to be rellocated\n",
    "di = di.type(torch.LongTensor)\n",
    "\n",
    "mono = torch.exp(mono)\n",
    "di = torch.exp(di)\n",
    "mono = mono.view(mono.shape[0], -1)  # Flatten tensor.\n",
    "di = di.view(di.shape[0], -1)\n",
    "\n",
    "if model.use_dinuc:\n",
    "    x = torch.sum(mono, axis=1) + torch.sum(di, axis=1)\n",
    "else:\n",
    "    x = torch.sum(mono, axis=1)\n",
    "\n",
    "x = x.view(-1)  # Flatten tensor.\n",
    "\n",
    "# print('x in shape', x.shape)\n",
    "\n",
    "emb = model.embedding\n",
    "# print('emb shape', emb.weight.shape)\n",
    "# print('batch shape', b.shape)\n",
    "\n",
    "# b = emb(batch).sum(axis=1)\n",
    "# b = b.view(-1)\n",
    "b = emb.weight.T @ batch.T.type(torch.float32)\n",
    "\n",
    "print('b shape (after emb)', b.shape)\n",
    "x = torch.sum(x.reshape(x.shape[0], 1) * b.T, axis=1)\n",
    "# b = b.view(-1)\n",
    "# x * b\n",
    "# print('x after emb', b.shape)\n",
    "\n"
   ]
  },
  {
   "cell_type": "code",
   "execution_count": 202,
   "id": "635e6c6a-4ed0-461d-8ff9-640535229c74",
   "metadata": {},
   "outputs": [],
   "source": [
    "# batch.type(torch.float32) @ emb.weight "
   ]
  },
  {
   "cell_type": "code",
   "execution_count": 203,
   "id": "a5f3e65e-e5f1-4153-9b92-86b467eed65d",
   "metadata": {},
   "outputs": [],
   "source": [
    "import seaborn as sns\n",
    "from sklearn.metrics import r2_score"
   ]
  },
  {
   "cell_type": "code",
   "execution_count": 204,
   "id": "0b743c56-681d-43f3-aacf-46dc506bfc9d",
   "metadata": {},
   "outputs": [
    {
     "data": {
      "text/plain": [
       "Embedding(6, 3)"
      ]
     },
     "execution_count": 204,
     "metadata": {},
     "output_type": "execute_result"
    }
   ],
   "source": [
    "model.embedding"
   ]
  },
  {
   "cell_type": "code",
   "execution_count": 205,
   "id": "c9524b74-a655-4cc3-a982-2c67d1d645c5",
   "metadata": {},
   "outputs": [
    {
     "data": {
      "text/plain": [
       "-28.303366158704687"
      ]
     },
     "execution_count": 205,
     "metadata": {},
     "output_type": "execute_result"
    }
   ],
   "source": [
    "r2_score(y_true, y_pred)"
   ]
  },
  {
   "cell_type": "code",
   "execution_count": 206,
   "id": "ae7244aa-276b-4a18-b51f-96c7a4ded872",
   "metadata": {},
   "outputs": [
    {
     "data": {
      "text/plain": [
       "(torch.Size([294]), (294,))"
      ]
     },
     "execution_count": 206,
     "metadata": {},
     "output_type": "execute_result"
    }
   ],
   "source": [
    "y_true[is_count_data == 1].shape, y_pred[is_count_data == 1].shape"
   ]
  },
  {
   "cell_type": "code",
   "execution_count": 207,
   "id": "7c55ae92-a9fb-43f7-9a5a-9a2cbde3fdea",
   "metadata": {},
   "outputs": [],
   "source": [
    "import seaborn as sns"
   ]
  },
  {
   "cell_type": "code",
   "execution_count": 212,
   "id": "ee372adc-5a1d-4c8e-b2ad-39438d13b302",
   "metadata": {},
   "outputs": [],
   "source": [
    "# emb.weight.T"
   ]
  },
  {
   "cell_type": "code",
   "execution_count": 209,
   "id": "30ff9078-b179-475e-a1bc-28a4841e65b0",
   "metadata": {},
   "outputs": [
    {
     "data": {
      "text/plain": [
       "Parameter containing:\n",
       "tensor([[0.0636, 0.0636, 0.0636],\n",
       "        [0.2948, 0.2948, 0.2948],\n",
       "        [0.6409, 0.6409, 0.6409],\n",
       "        [1.0201, 1.0201, 1.0201],\n",
       "        [1.4134, 1.4134, 1.4134],\n",
       "        [1.8488, 1.8488, 1.8488]], requires_grad=True)"
      ]
     },
     "execution_count": 209,
     "metadata": {},
     "output_type": "execute_result"
    }
   ],
   "source": [
    "model.embedding.weight"
   ]
  },
  {
   "cell_type": "code",
   "execution_count": 210,
   "id": "d2edff45-e458-491f-ad79-4d0ab3b8bf01",
   "metadata": {},
   "outputs": [
    {
     "data": {
      "text/plain": [
       "<AxesSubplot:>"
      ]
     },
     "execution_count": 210,
     "metadata": {},
     "output_type": "execute_result"
    },
    {
     "data": {
      "image/png": "[encoded data removed]",
      "text/plain": [
       "<Figure size 432x288 with 2 Axes>"
      ]
     },
     "metadata": {
      "needs_background": "light"
     },
     "output_type": "display_data"
    }
   ],
   "source": [
    "# Visualize the embedding layer\n",
    "sns.heatmap(model.embedding.weight.detach().numpy())\n",
    "plt.xlabel('dimension 1 (dataset)')\n",
    "plt.ylabel('dimension 2 (latent')')"
   ]
  },
  {
   "cell_type": "code",
   "execution_count": 211,
   "id": "e30e15d5-da99-44d0-bd78-33e03122cb1e",
   "metadata": {},
   "outputs": [
    {
     "data": {
      "image/png": "[encoded data removed]",
      "text/plain": [
       "<Figure size 432x288 with 2 Axes>"
      ]
     },
     "metadata": {
      "needs_background": "light"
     },
     "output_type": "display_data"
    }
   ],
   "source": [
    "plt.subplot(1, 2, 1)\n",
    "plt.scatter(y_true[is_count_data == 1], y_pred[is_count_data == 1], s=5)\n",
    "plt.xlabel('observed')\n",
    "plt.ylabel('predicted')\n",
    "plt.title('in vitro')\n",
    "\n",
    "plt.subplot(1, 2, 2)\n",
    "plt.scatter(y_true[is_count_data == 0], y_pred[is_count_data == 0], s=5)\n",
    "plt.xlabel('observed')\n",
    "plt.ylabel('predicted')\n",
    "plt.title('in vivo')\n",
    "plt.tight_layout()"
   ]
  },
  {
   "cell_type": "markdown",
   "id": "a83305dc-e856-4965-8af0-fa1aba2e3dbb",
   "metadata": {
    "tags": []
   },
   "source": [
    "### II HT-SELEX with ChIP-seq (this does not work as intented)\n",
    "- nan during loss calculation, possibly due to log on negative values"
   ]
  },
  {
   "cell_type": "code",
   "execution_count": 102,
   "id": "33dc7f35-15a4-448b-8281-842b166ab00b",
   "metadata": {},
   "outputs": [
    {
     "name": "stdout",
     "output_type": "stream",
     "text": [
      "Using device: cpu\n"
     ]
    }
   ],
   "source": [
    "import mubind as mb\n",
    "import numpy as np\n",
    "import pandas as pd\n",
    "\n",
    "import torch\n",
    "import torch.optim as topti\n",
    "import torch.utils.data as tdata\n",
    "\n",
    "# Use a GPU if available, as it should be faster.\n",
    "device = torch.device(\"cuda:0\" if torch.cuda.is_available() else \"cpu\")\n",
    "print(\"Using device: \" + str(device))"
   ]
  },
  {
   "cell_type": "markdown",
   "id": "a8bb1fdc-32fc-48e5-baba-400440181222",
   "metadata": {},
   "source": [
    "## II Only HT-SELEX batches"
   ]
  },
  {
   "cell_type": "code",
   "execution_count": 223,
   "id": "81d3bc23-9988-4327-b087-4a0395b4b147",
   "metadata": {},
   "outputs": [
    {
     "name": "stdout",
     "output_type": "stream",
     "text": [
      "max seqlen 200\n"
     ]
    }
   ],
   "source": [
    "train, test = mb.tl.create_multi_data(n_chip=300, n_selex=300, n_batch_selex=1) # , n_selex=100)"
   ]
  },
  {
   "cell_type": "markdown",
   "id": "57fb5425-68db-4600-9a85-e37b1591b8aa",
   "metadata": {},
   "source": [
    "### Using cooptf/screr (this will be deprecated and replace by bindome)."
   ]
  },
  {
   "cell_type": "markdown",
   "id": "cefc20cf-9360-4dbc-ab35-f4be3d252671",
   "metadata": {},
   "source": [
    "### If treating y data as log, the convergence gets to the GATA motif in small sequences."
   ]
  },
  {
   "cell_type": "code",
   "execution_count": 224,
   "id": "b6997dda-e4bf-4bdc-b53b-2aa5bc4d7f50",
   "metadata": {},
   "outputs": [],
   "source": [
    "train.dataset.target[train.dataset.is_count_data == 1] = np.log(train.dataset.target[train.dataset.is_count_data == 1])"
   ]
  },
  {
   "cell_type": "code",
   "execution_count": 225,
   "id": "385f4146-f04a-416b-91e0-d6210b95cac0",
   "metadata": {},
   "outputs": [
    {
     "data": {
      "text/plain": [
       "0_chip     591\n",
       "0_selex    292\n",
       "dtype: int64"
      ]
     },
     "execution_count": 225,
     "metadata": {},
     "output_type": "execute_result"
    }
   ],
   "source": [
    "pd.Series(train.dataset.batch).value_counts()"
   ]
  },
  {
   "cell_type": "code",
   "execution_count": 226,
   "id": "271592b4-bbaf-4219-b955-c94c2538dc02",
   "metadata": {},
   "outputs": [],
   "source": [
    "import matplotlib.pyplot as plt\n",
    "import seaborn as sns"
   ]
  },
  {
   "cell_type": "code",
   "execution_count": 227,
   "id": "7134d908-6460-48c6-b6d7-4674afa7c0f5",
   "metadata": {},
   "outputs": [
    {
     "data": {
      "image/png": "[encoded data removed]",
      "text/plain": [
       "<Figure size 432x288 with 1 Axes>"
      ]
     },
     "metadata": {
      "needs_background": "light"
     },
     "output_type": "display_data"
    }
   ],
   "source": [
    "df = pd.DataFrame()\n",
    "df['y'] = train.dataset.target\n",
    "df['batch'] = np.array(train.dataset.batch)\n",
    "sns.boxplot(data=df, x='batch', y='y')\n",
    "plt.xticks(rotation=45, ha='right');"
   ]
  },
  {
   "cell_type": "code",
   "execution_count": 228,
   "id": "4acdc480-ab1f-4347-b352-cc17c5ef2dba",
   "metadata": {},
   "outputs": [
    {
     "data": {
      "text/html": [
       "<div>\n",
       "<style scoped>\n",
       "    .dataframe tbody tr th:only-of-type {\n",
       "        vertical-align: middle;\n",
       "    }\n",
       "\n",
       "    .dataframe tbody tr th {\n",
       "        vertical-align: top;\n",
       "    }\n",
       "\n",
       "    .dataframe thead th {\n",
       "        text-align: right;\n",
       "    }\n",
       "</style>\n",
       "<table border=\"1\" class=\"dataframe\">\n",
       "  <thead>\n",
       "    <tr style=\"text-align: right;\">\n",
       "      <th></th>\n",
       "      <th>y</th>\n",
       "      <th>batch</th>\n",
       "    </tr>\n",
       "  </thead>\n",
       "  <tbody>\n",
       "    <tr>\n",
       "      <th>662</th>\n",
       "      <td>2.302585</td>\n",
       "      <td>0_selex</td>\n",
       "    </tr>\n",
       "    <tr>\n",
       "      <th>645</th>\n",
       "      <td>2.302585</td>\n",
       "      <td>0_selex</td>\n",
       "    </tr>\n",
       "    <tr>\n",
       "      <th>642</th>\n",
       "      <td>2.302585</td>\n",
       "      <td>0_selex</td>\n",
       "    </tr>\n",
       "    <tr>\n",
       "      <th>641</th>\n",
       "      <td>2.302585</td>\n",
       "      <td>0_selex</td>\n",
       "    </tr>\n",
       "    <tr>\n",
       "      <th>640</th>\n",
       "      <td>2.302585</td>\n",
       "      <td>0_selex</td>\n",
       "    </tr>\n",
       "  </tbody>\n",
       "</table>\n",
       "</div>"
      ],
      "text/plain": [
       "            y    batch\n",
       "662  2.302585  0_selex\n",
       "645  2.302585  0_selex\n",
       "642  2.302585  0_selex\n",
       "641  2.302585  0_selex\n",
       "640  2.302585  0_selex"
      ]
     },
     "execution_count": 228,
     "metadata": {},
     "output_type": "execute_result"
    }
   ],
   "source": [
    "df.sort_values('y', ascending=False).head()"
   ]
  },
  {
   "cell_type": "code",
   "execution_count": 229,
   "id": "27067c8d-bfa7-4a99-bf81-8ebd9e19a792",
   "metadata": {},
   "outputs": [
    {
     "name": "stdout",
     "output_type": "stream",
     "text": [
      "# datasets 2\n",
      "# latent dimensions 3\n"
     ]
    }
   ],
   "source": [
    "n_datasets = np.unique(df['batch']).shape[0]\n",
    "n_latent = 3\n",
    "print('# datasets', n_datasets)\n",
    "print('# latent dimensions', n_latent)"
   ]
  },
  {
   "cell_type": "code",
   "execution_count": 230,
   "id": "82c1c71b-1155-4a22-8b91-b0524069bcb3",
   "metadata": {},
   "outputs": [],
   "source": [
    "model = mb.models.DinucMulti(use_dinuc=True, n_datasets=n_datasets, n_latent=n_latent, w=8).to(device)\n",
    "model.embedding.weight.data.uniform_(1, 1) # initialize weights as ones.\n",
    "l2 = []"
   ]
  },
  {
   "cell_type": "code",
   "execution_count": 231,
   "id": "1edb48bb-d9bf-48b3-81eb-c5467e5dedb9",
   "metadata": {},
   "outputs": [
    {
     "data": {
      "text/plain": [
       "<multibind.datasets.datasets.MultiDataset at 0x7fce57fbfe80>"
      ]
     },
     "execution_count": 231,
     "metadata": {},
     "output_type": "execute_result"
    }
   ],
   "source": [
    "train.dataset"
   ]
  },
  {
   "cell_type": "code",
   "execution_count": 232,
   "id": "979c2985-60cc-4c81-a9ad-fa59b18620f5",
   "metadata": {},
   "outputs": [
    {
     "name": "stdout",
     "output_type": "stream",
     "text": [
      "Epoch:  1, Loss: 1178.080\n",
      "Epoch: 101, Loss: nan\n"
     ]
    },
    {
     "ename": "KeyboardInterrupt",
     "evalue": "",
     "output_type": "error",
     "traceback": [
      "\u001b[0;31m---------------------------------------------------------------------------\u001b[0m",
      "\u001b[0;31mKeyboardInterrupt\u001b[0m                         Traceback (most recent call last)",
      "\u001b[0;32m<ipython-input-232-944bbe22d7a3>\u001b[0m in \u001b[0;36m<module>\u001b[0;34m\u001b[0m\n\u001b[1;32m      1\u001b[0m \u001b[0moptimiser\u001b[0m \u001b[0;34m=\u001b[0m \u001b[0mtopti\u001b[0m\u001b[0;34m.\u001b[0m\u001b[0mAdam\u001b[0m\u001b[0;34m(\u001b[0m\u001b[0mmodel\u001b[0m\u001b[0;34m.\u001b[0m\u001b[0mparameters\u001b[0m\u001b[0;34m(\u001b[0m\u001b[0;34m)\u001b[0m\u001b[0;34m,\u001b[0m \u001b[0mlr\u001b[0m\u001b[0;34m=\u001b[0m\u001b[0;36m0.01\u001b[0m\u001b[0;34m,\u001b[0m \u001b[0mweight_decay\u001b[0m\u001b[0;34m=\u001b[0m\u001b[0;36m0.01\u001b[0m\u001b[0;34m)\u001b[0m\u001b[0;34m\u001b[0m\u001b[0m\n\u001b[1;32m      2\u001b[0m \u001b[0mcriterion\u001b[0m \u001b[0;34m=\u001b[0m \u001b[0mmb\u001b[0m\u001b[0;34m.\u001b[0m\u001b[0mtl\u001b[0m\u001b[0;34m.\u001b[0m\u001b[0mMultiDatasetLoss\u001b[0m\u001b[0;34m(\u001b[0m\u001b[0;34m)\u001b[0m\u001b[0;34m\u001b[0m\u001b[0m\n\u001b[0;32m----> 3\u001b[0;31m \u001b[0ml2\u001b[0m \u001b[0;34m+=\u001b[0m \u001b[0mmb\u001b[0m\u001b[0;34m.\u001b[0m\u001b[0mtl\u001b[0m\u001b[0;34m.\u001b[0m\u001b[0mtrain_network\u001b[0m\u001b[0;34m(\u001b[0m\u001b[0mmodel\u001b[0m\u001b[0;34m,\u001b[0m \u001b[0mtrain\u001b[0m\u001b[0;34m,\u001b[0m \u001b[0mdevice\u001b[0m\u001b[0;34m,\u001b[0m \u001b[0moptimiser\u001b[0m\u001b[0;34m,\u001b[0m \u001b[0mcriterion\u001b[0m\u001b[0;34m,\u001b[0m \u001b[0mnum_epochs\u001b[0m\u001b[0;34m=\u001b[0m\u001b[0;36m2000\u001b[0m\u001b[0;34m,\u001b[0m \u001b[0mlog_each\u001b[0m\u001b[0;34m=\u001b[0m\u001b[0;36m100\u001b[0m\u001b[0;34m)\u001b[0m\u001b[0;34m\u001b[0m\u001b[0m\n\u001b[0m",
      "\u001b[0;32m/mnt/znas/icb_zstore01/groups/ml01/workspace/ignacio.ibarra/theislab/multibind/multibind/tl/prediction.py\u001b[0m in \u001b[0;36mtrain_network\u001b[0;34m(net, train_dataloader, device, optimiser, criterion, num_epochs, log_each)\u001b[0m\n\u001b[1;32m     76\u001b[0m             \u001b[0moptimiser\u001b[0m\u001b[0;34m.\u001b[0m\u001b[0mzero_grad\u001b[0m\u001b[0;34m(\u001b[0m\u001b[0;34m)\u001b[0m  \u001b[0;31m# PyTorch calculates gradients by accumulating contributions to them (useful for\u001b[0m\u001b[0;34m\u001b[0m\u001b[0m\n\u001b[1;32m     77\u001b[0m             \u001b[0;31m# RNNs).  Hence we must manully set them to zero before calculating them.\u001b[0m\u001b[0;34m\u001b[0m\u001b[0;34m\u001b[0m\u001b[0m\n\u001b[0;32m---> 78\u001b[0;31m             \u001b[0moutputs\u001b[0m \u001b[0;34m=\u001b[0m \u001b[0mnet\u001b[0m\u001b[0;34m(\u001b[0m\u001b[0minputs\u001b[0m\u001b[0;34m)\u001b[0m  \u001b[0;31m# Forward pass through the network.\u001b[0m\u001b[0;34m\u001b[0m\u001b[0m\n\u001b[0m\u001b[1;32m     79\u001b[0m             \u001b[0mloss\u001b[0m \u001b[0;34m=\u001b[0m \u001b[0mcriterion\u001b[0m\u001b[0;34m(\u001b[0m\u001b[0moutputs\u001b[0m\u001b[0;34m,\u001b[0m \u001b[0mtarget\u001b[0m\u001b[0;34m,\u001b[0m \u001b[0mis_count_data\u001b[0m\u001b[0;34m)\u001b[0m\u001b[0;34m\u001b[0m\u001b[0m\n\u001b[1;32m     80\u001b[0m             \u001b[0;31m# print('here...')\u001b[0m\u001b[0;34m\u001b[0m\u001b[0;34m\u001b[0m\u001b[0m\n",
      "\u001b[0;32m~/miniconda3/envs/multibind/lib/python3.6/site-packages/torch/nn/modules/module.py\u001b[0m in \u001b[0;36m_call_impl\u001b[0;34m(self, *input, **kwargs)\u001b[0m\n\u001b[1;32m   1049\u001b[0m         if not (self._backward_hooks or self._forward_hooks or self._forward_pre_hooks or _global_backward_hooks\n\u001b[1;32m   1050\u001b[0m                 or _global_forward_hooks or _global_forward_pre_hooks):\n\u001b[0;32m-> 1051\u001b[0;31m             \u001b[0;32mreturn\u001b[0m \u001b[0mforward_call\u001b[0m\u001b[0;34m(\u001b[0m\u001b[0;34m*\u001b[0m\u001b[0minput\u001b[0m\u001b[0;34m,\u001b[0m \u001b[0;34m**\u001b[0m\u001b[0mkwargs\u001b[0m\u001b[0;34m)\u001b[0m\u001b[0;34m\u001b[0m\u001b[0m\n\u001b[0m\u001b[1;32m   1052\u001b[0m         \u001b[0;31m# Do not call functions when jit is used\u001b[0m\u001b[0;34m\u001b[0m\u001b[0;34m\u001b[0m\u001b[0m\n\u001b[1;32m   1053\u001b[0m         \u001b[0mfull_backward_hooks\u001b[0m\u001b[0;34m,\u001b[0m \u001b[0mnon_full_backward_hooks\u001b[0m \u001b[0;34m=\u001b[0m \u001b[0;34m[\u001b[0m\u001b[0;34m]\u001b[0m\u001b[0;34m,\u001b[0m \u001b[0;34m[\u001b[0m\u001b[0;34m]\u001b[0m\u001b[0;34m\u001b[0m\u001b[0m\n",
      "\u001b[0;32m/mnt/znas/icb_zstore01/groups/ml01/workspace/ignacio.ibarra/theislab/multibind/multibind/models/models.py\u001b[0m in \u001b[0;36mforward\u001b[0;34m(self, x)\u001b[0m\n\u001b[1;32m     95\u001b[0m         \u001b[0;31m# print('mono type', mono.dtype)\u001b[0m\u001b[0;34m\u001b[0m\u001b[0;34m\u001b[0m\u001b[0m\n\u001b[1;32m     96\u001b[0m         \u001b[0;31m# mono = mono.type(torch.LongTensor)\u001b[0m\u001b[0;34m\u001b[0m\u001b[0;34m\u001b[0m\u001b[0m\n\u001b[0;32m---> 97\u001b[0;31m         \u001b[0mmono\u001b[0m \u001b[0;34m=\u001b[0m \u001b[0mself\u001b[0m\u001b[0;34m.\u001b[0m\u001b[0mconv_mono\u001b[0m\u001b[0;34m(\u001b[0m\u001b[0mmono\u001b[0m\u001b[0;34m)\u001b[0m\u001b[0;34m\u001b[0m\u001b[0m\n\u001b[0m\u001b[1;32m     98\u001b[0m \u001b[0;34m\u001b[0m\u001b[0m\n\u001b[1;32m     99\u001b[0m         \u001b[0;31m# print(di)\u001b[0m\u001b[0;34m\u001b[0m\u001b[0;34m\u001b[0m\u001b[0m\n",
      "\u001b[0;32m~/miniconda3/envs/multibind/lib/python3.6/site-packages/torch/nn/modules/module.py\u001b[0m in \u001b[0;36m_call_impl\u001b[0;34m(self, *input, **kwargs)\u001b[0m\n\u001b[1;32m   1049\u001b[0m         if not (self._backward_hooks or self._forward_hooks or self._forward_pre_hooks or _global_backward_hooks\n\u001b[1;32m   1050\u001b[0m                 or _global_forward_hooks or _global_forward_pre_hooks):\n\u001b[0;32m-> 1051\u001b[0;31m             \u001b[0;32mreturn\u001b[0m \u001b[0mforward_call\u001b[0m\u001b[0;34m(\u001b[0m\u001b[0;34m*\u001b[0m\u001b[0minput\u001b[0m\u001b[0;34m,\u001b[0m \u001b[0;34m**\u001b[0m\u001b[0mkwargs\u001b[0m\u001b[0;34m)\u001b[0m\u001b[0;34m\u001b[0m\u001b[0m\n\u001b[0m\u001b[1;32m   1052\u001b[0m         \u001b[0;31m# Do not call functions when jit is used\u001b[0m\u001b[0;34m\u001b[0m\u001b[0;34m\u001b[0m\u001b[0m\n\u001b[1;32m   1053\u001b[0m         \u001b[0mfull_backward_hooks\u001b[0m\u001b[0;34m,\u001b[0m \u001b[0mnon_full_backward_hooks\u001b[0m \u001b[0;34m=\u001b[0m \u001b[0;34m[\u001b[0m\u001b[0;34m]\u001b[0m\u001b[0;34m,\u001b[0m \u001b[0;34m[\u001b[0m\u001b[0;34m]\u001b[0m\u001b[0;34m\u001b[0m\u001b[0m\n",
      "\u001b[0;32m~/miniconda3/envs/multibind/lib/python3.6/site-packages/torch/nn/modules/conv.py\u001b[0m in \u001b[0;36mforward\u001b[0;34m(self, input)\u001b[0m\n\u001b[1;32m    441\u001b[0m \u001b[0;34m\u001b[0m\u001b[0m\n\u001b[1;32m    442\u001b[0m     \u001b[0;32mdef\u001b[0m \u001b[0mforward\u001b[0m\u001b[0;34m(\u001b[0m\u001b[0mself\u001b[0m\u001b[0;34m,\u001b[0m \u001b[0minput\u001b[0m\u001b[0;34m:\u001b[0m \u001b[0mTensor\u001b[0m\u001b[0;34m)\u001b[0m \u001b[0;34m->\u001b[0m \u001b[0mTensor\u001b[0m\u001b[0;34m:\u001b[0m\u001b[0;34m\u001b[0m\u001b[0m\n\u001b[0;32m--> 443\u001b[0;31m         \u001b[0;32mreturn\u001b[0m \u001b[0mself\u001b[0m\u001b[0;34m.\u001b[0m\u001b[0m_conv_forward\u001b[0m\u001b[0;34m(\u001b[0m\u001b[0minput\u001b[0m\u001b[0;34m,\u001b[0m \u001b[0mself\u001b[0m\u001b[0;34m.\u001b[0m\u001b[0mweight\u001b[0m\u001b[0;34m,\u001b[0m \u001b[0mself\u001b[0m\u001b[0;34m.\u001b[0m\u001b[0mbias\u001b[0m\u001b[0;34m)\u001b[0m\u001b[0;34m\u001b[0m\u001b[0m\n\u001b[0m\u001b[1;32m    444\u001b[0m \u001b[0;34m\u001b[0m\u001b[0m\n\u001b[1;32m    445\u001b[0m \u001b[0;32mclass\u001b[0m \u001b[0mConv3d\u001b[0m\u001b[0;34m(\u001b[0m\u001b[0m_ConvNd\u001b[0m\u001b[0;34m)\u001b[0m\u001b[0;34m:\u001b[0m\u001b[0;34m\u001b[0m\u001b[0m\n",
      "\u001b[0;32m~/miniconda3/envs/multibind/lib/python3.6/site-packages/torch/nn/modules/conv.py\u001b[0m in \u001b[0;36m_conv_forward\u001b[0;34m(self, input, weight, bias)\u001b[0m\n\u001b[1;32m    438\u001b[0m                             _pair(0), self.dilation, self.groups)\n\u001b[1;32m    439\u001b[0m         return F.conv2d(input, weight, bias, self.stride,\n\u001b[0;32m--> 440\u001b[0;31m                         self.padding, self.dilation, self.groups)\n\u001b[0m\u001b[1;32m    441\u001b[0m \u001b[0;34m\u001b[0m\u001b[0m\n\u001b[1;32m    442\u001b[0m     \u001b[0;32mdef\u001b[0m \u001b[0mforward\u001b[0m\u001b[0;34m(\u001b[0m\u001b[0mself\u001b[0m\u001b[0;34m,\u001b[0m \u001b[0minput\u001b[0m\u001b[0;34m:\u001b[0m \u001b[0mTensor\u001b[0m\u001b[0;34m)\u001b[0m \u001b[0;34m->\u001b[0m \u001b[0mTensor\u001b[0m\u001b[0;34m:\u001b[0m\u001b[0;34m\u001b[0m\u001b[0m\n",
      "\u001b[0;31mKeyboardInterrupt\u001b[0m: "
     ]
    }
   ],
   "source": [
    "optimiser = topti.Adam(model.parameters(), lr=0.01, weight_decay=0.01)\n",
    "criterion = mb.tl.MultiDatasetLoss()\n",
    "l2 += mb.tl.train_network(model, train, device, optimiser, criterion, num_epochs=2000, log_each=100)"
   ]
  },
  {
   "cell_type": "code",
   "execution_count": 233,
   "id": "dfc53ae7-c75f-4337-9065-86e6d5496baf",
   "metadata": {},
   "outputs": [
    {
     "data": {
      "text/plain": [
       "<All keys matched successfully>"
      ]
     },
     "execution_count": 233,
     "metadata": {},
     "output_type": "execute_result"
    }
   ],
   "source": [
    "model.load_state_dict(model.best_model_state)"
   ]
  },
  {
   "cell_type": "code",
   "execution_count": 234,
   "id": "73a3600a-1b51-4cc0-993a-5c29a5743a83",
   "metadata": {},
   "outputs": [],
   "source": [
    "mononuc = torch.Tensor(train.dataset.mononuc) # .type(torch.float32)\n",
    "dinuc = torch.Tensor(train.dataset.dinuc) # .type(float32)\n",
    "b = torch.Tensor(train.dataset.batch_one_hot)\n",
    "y_true = torch.Tensor(train.dataset.target)\n",
    "is_count_data = torch.Tensor(train.dataset.is_count_data)\n",
    "inputs = (mononuc, dinuc, b)\n",
    "y_pred = torch.Tensor(model(inputs).detach().numpy())"
   ]
  },
  {
   "cell_type": "code",
   "execution_count": 235,
   "id": "70da72f9-6793-4336-a341-29302e67c7b1",
   "metadata": {},
   "outputs": [
    {
     "data": {
      "text/plain": [
       "(torch.Size([883]), torch.Size([883]), torch.Size([0]))"
      ]
     },
     "execution_count": 235,
     "metadata": {},
     "output_type": "execute_result"
    }
   ],
   "source": [
    "y_pred.shape, y_pred[y_pred > 0].shape, y_pred[y_pred < 0].shape"
   ]
  },
  {
   "cell_type": "code",
   "execution_count": 236,
   "id": "649fc835-b784-4a9d-b7d6-53635921a289",
   "metadata": {},
   "outputs": [
    {
     "name": "stdout",
     "output_type": "stream",
     "text": [
      "tensor(2.8714)\n"
     ]
    }
   ],
   "source": [
    "loss = torch.abs(y_true[is_count_data == 1] - y_pred[is_count_data == 1]*torch.log(y_true[is_count_data == 1]))\n",
    "poisson_loss = torch.mean(loss)\n",
    "print(poisson_loss)\n",
    "# print('BCE')\n",
    "# print(b)\n",
    "# print(b.shape)\n",
    "# print(targets[is_count_data == 0])\n",
    "# print(targets[is_count_data == 0].shape)\n"
   ]
  },
  {
   "cell_type": "code",
   "execution_count": 237,
   "id": "a7650ec9-2f4a-4457-ad61-2b9b03474b77",
   "metadata": {},
   "outputs": [
    {
     "data": {
      "text/plain": [
       "tensor(2.8714)"
      ]
     },
     "execution_count": 237,
     "metadata": {},
     "output_type": "execute_result"
    }
   ],
   "source": [
    "torch.mean(torch.abs((y_true[is_count_data == 1] - y_pred[is_count_data == 1] * np.log(y_true[is_count_data == 1]))))"
   ]
  },
  {
   "cell_type": "code",
   "execution_count": 238,
   "id": "a0f56bc8-1e96-4658-aab9-de1fb4d5430b",
   "metadata": {},
   "outputs": [
    {
     "name": "stdout",
     "output_type": "stream",
     "text": [
      "checking that the values are similar after training (using MultiDatasetLoss during training\n",
      "CPU times: user 8.57 ms, sys: 88 µs, total: 8.66 ms\n",
      "Wall time: 367 µs\n"
     ]
    },
    {
     "data": {
      "text/plain": [
       "tensor(4.4734)"
      ]
     },
     "execution_count": 238,
     "metadata": {},
     "output_type": "execute_result"
    }
   ],
   "source": [
    "print('checking that the values are similar after training (using MultiDatasetLoss during training')\n",
    "l_poisson = mb.tl.PoissonLoss()\n",
    "%time l_poisson(torch.Tensor(y_pred[is_count_data == 1]), y_true[is_count_data == 1], is_count_data)\n"
   ]
  },
  {
   "cell_type": "code",
   "execution_count": 239,
   "id": "fb6fd881-64a4-46e7-83e5-98b6dcf8588a",
   "metadata": {},
   "outputs": [
    {
     "name": "stdout",
     "output_type": "stream",
     "text": [
      "CPU times: user 8.69 ms, sys: 0 ns, total: 8.69 ms\n",
      "Wall time: 747 µs\n"
     ]
    },
    {
     "data": {
      "text/plain": [
       "tensor(54.5580)"
      ]
     },
     "execution_count": 239,
     "metadata": {},
     "output_type": "execute_result"
    }
   ],
   "source": [
    "l_multi = mb.tl.MultiDatasetLoss()\n",
    "%time l_multi(torch.Tensor(y_pred), y_true, is_count_data)"
   ]
  },
  {
   "cell_type": "code",
   "execution_count": 240,
   "id": "eab718fc-c0a8-4788-863a-96ad5cc14e12",
   "metadata": {},
   "outputs": [
    {
     "data": {
      "text/plain": [
       "[<matplotlib.lines.Line2D at 0x7fce598b8cf8>]"
      ]
     },
     "execution_count": 240,
     "metadata": {},
     "output_type": "execute_result"
    },
    {
     "data": {
      "image/png": "[encoded data removed]",
      "text/plain": [
       "<Figure size 432x288 with 1 Axes>"
      ]
     },
     "metadata": {
      "needs_background": "light"
     },
     "output_type": "display_data"
    }
   ],
   "source": [
    "plt.plot(l2)"
   ]
  },
  {
   "cell_type": "code",
   "execution_count": 241,
   "id": "d8e67fc1-1508-4bde-baec-89ec9100f3b8",
   "metadata": {},
   "outputs": [
    {
     "data": {
      "image/png": "[encoded data removed]",
      "text/plain": [
       "<Figure size 720x180 with 1 Axes>"
      ]
     },
     "metadata": {
      "needs_background": "light"
     },
     "output_type": "display_data"
    }
   ],
   "source": [
    "# print(np.exp(model.log_weight_1.squeeze().cpu().detach().numpy()))\n",
    "# print(np.exp(net.log_weight_2.squeeze().cpu().detach().numpy()))\n",
    "#mb.tl.create_logo(net)\n",
    "#plt.show()\n",
    "#mb.tl.create_heatmap(net)\n",
    "import logomaker\n",
    "weights = model.conv_mono.weight\n",
    "weights = weights.squeeze().cpu().detach().numpy()\n",
    "weights = pd.DataFrame(weights)\n",
    "weights.index = 'A', 'C', 'G', 'T'\n",
    "crp_logo = logomaker.Logo(weights.T, shade_below=.5, fade_below=.5)"
   ]
  },
  {
   "cell_type": "code",
   "execution_count": 242,
   "id": "fbb59a8f-daef-4827-9a50-229310187a62",
   "metadata": {},
   "outputs": [],
   "source": [
    "from sklearn.metrics import r2_score"
   ]
  },
  {
   "cell_type": "code",
   "execution_count": 243,
   "id": "e0a5c59b-fa1f-4d58-b4ce-6003cc789de6",
   "metadata": {},
   "outputs": [
    {
     "name": "stdout",
     "output_type": "stream",
     "text": [
      "here...\n"
     ]
    }
   ],
   "source": [
    "print('here...')"
   ]
  },
  {
   "cell_type": "markdown",
   "id": "897f65aa-9497-4bbe-a647-9164d135b180",
   "metadata": {},
   "source": [
    "### Check the quality of the predictions, across datasets"
   ]
  },
  {
   "cell_type": "code",
   "execution_count": 244,
   "id": "bfd58a7a-c90a-4545-b7ba-e2338594f127",
   "metadata": {},
   "outputs": [],
   "source": [
    "mononuc = torch.Tensor(train.dataset.mononuc).to(device)\n",
    "dinuc = torch.Tensor(train.dataset.dinuc).to(device)\n",
    "b = torch.Tensor(train.dataset.batch_one_hot).to(torch.int64)\n",
    "y_true = torch.Tensor(train.dataset.target)\n",
    "is_count_data = torch.Tensor(train.dataset.is_count_data)\n",
    "inputs = (mononuc, dinuc, b)\n",
    "y_pred = model(inputs).detach().numpy()"
   ]
  },
  {
   "cell_type": "markdown",
   "id": "ba664422-e142-47f0-be6f-c66f7386d24f",
   "metadata": {},
   "source": [
    "## This is step by step what forward at models.py is doing.\n",
    "- Mind the shapes of X and embedding (b * emb) for final calculation. Swaps of that could be unintended and fatal."
   ]
  },
  {
   "cell_type": "code",
   "execution_count": 245,
   "id": "b8995e60-f8cf-4307-a6ee-a37c33bca664",
   "metadata": {},
   "outputs": [
    {
     "name": "stdout",
     "output_type": "stream",
     "text": [
      "b shape (after emb) torch.Size([3, 883])\n"
     ]
    }
   ],
   "source": [
    "x = inputs\n",
    "mono, di, batch = x[0], x[1], x[2]\n",
    "# print('input shape', mono.shape)\n",
    "\n",
    "mono = torch.unsqueeze(mono, 1)\n",
    "mono = mono.type(torch.float32)\n",
    "\n",
    "# print('mono type', mono.dtype)\n",
    "# mono = mono.type(torch.LongTensor)\n",
    "mono = model.conv_mono(mono)\n",
    "\n",
    "# print(di)\n",
    "di = torch.unsqueeze(di, 1)\n",
    "di = di.type(torch.float32)\n",
    "\n",
    "di = model.conv_di(di)\n",
    "\n",
    "# this is necessary but it needs to be rellocated\n",
    "di = di.type(torch.LongTensor)\n",
    "\n",
    "mono = torch.exp(mono)\n",
    "di = torch.exp(di)\n",
    "mono = mono.view(mono.shape[0], -1)  # Flatten tensor.\n",
    "di = di.view(di.shape[0], -1)\n",
    "\n",
    "if model.use_dinuc:\n",
    "    x = torch.sum(mono, axis=1) + torch.sum(di, axis=1)\n",
    "else:\n",
    "    x = torch.sum(mono, axis=1)\n",
    "\n",
    "x = x.view(-1)  # Flatten tensor.\n",
    "\n",
    "# print('x in shape', x.shape)\n",
    "\n",
    "emb = model.embedding\n",
    "# print('emb shape', emb.weight.shape)\n",
    "# print('batch shape', b.shape)\n",
    "\n",
    "# b = emb(batch).sum(axis=1)\n",
    "# b = b.view(-1)\n",
    "b = emb.weight.T @ batch.T.type(torch.float32)\n",
    "\n",
    "print('b shape (after emb)', b.shape)\n",
    "x = torch.sum(x.reshape(x.shape[0], 1) * b.T, axis=1)\n",
    "# b = b.view(-1)\n",
    "# x * b\n",
    "# print('x after emb', b.shape)\n",
    "\n"
   ]
  },
  {
   "cell_type": "code",
   "execution_count": 246,
   "id": "18718860-2c2e-4446-8376-5eadc6692a69",
   "metadata": {},
   "outputs": [],
   "source": [
    "# batch.type(torch.float32) @ emb.weight "
   ]
  },
  {
   "cell_type": "code",
   "execution_count": 247,
   "id": "43bc605a-27b5-441f-9398-675583c90e6f",
   "metadata": {},
   "outputs": [],
   "source": [
    "import seaborn as sns\n",
    "from sklearn.metrics import r2_score"
   ]
  },
  {
   "cell_type": "code",
   "execution_count": 248,
   "id": "339a86e0-f575-482f-8448-54233dcaa4d9",
   "metadata": {},
   "outputs": [
    {
     "data": {
      "text/plain": [
       "Embedding(2, 3)"
      ]
     },
     "execution_count": 248,
     "metadata": {},
     "output_type": "execute_result"
    }
   ],
   "source": [
    "model.embedding"
   ]
  },
  {
   "cell_type": "code",
   "execution_count": 249,
   "id": "3d51f490-86dd-4cee-a8c1-eaf19947f890",
   "metadata": {},
   "outputs": [
    {
     "data": {
      "text/plain": [
       "-22233.6044146996"
      ]
     },
     "execution_count": 249,
     "metadata": {},
     "output_type": "execute_result"
    }
   ],
   "source": [
    "r2_score(y_true, y_pred)"
   ]
  },
  {
   "cell_type": "code",
   "execution_count": 250,
   "id": "cc33da06-2bd6-45af-b00e-72b36833ba17",
   "metadata": {},
   "outputs": [
    {
     "data": {
      "text/plain": [
       "(torch.Size([292]), (292,))"
      ]
     },
     "execution_count": 250,
     "metadata": {},
     "output_type": "execute_result"
    }
   ],
   "source": [
    "y_true[is_count_data == 1].shape, y_pred[is_count_data == 1].shape"
   ]
  },
  {
   "cell_type": "code",
   "execution_count": 251,
   "id": "35e49387-c390-441f-bd77-98591c2bc9d4",
   "metadata": {},
   "outputs": [],
   "source": [
    "import seaborn as sns"
   ]
  },
  {
   "cell_type": "code",
   "execution_count": 252,
   "id": "4ac741e8-d672-4682-925b-5dfc1cbbd17a",
   "metadata": {},
   "outputs": [],
   "source": [
    "# emb.weight.T"
   ]
  },
  {
   "cell_type": "code",
   "execution_count": 253,
   "id": "9132690e-a9f8-4652-85a4-2841f9acf21e",
   "metadata": {},
   "outputs": [
    {
     "data": {
      "text/plain": [
       "Parameter containing:\n",
       "tensor([[0.2244, 0.2244, 0.2244],\n",
       "        [0.0073, 0.0073, 0.0073]], requires_grad=True)"
      ]
     },
     "execution_count": 253,
     "metadata": {},
     "output_type": "execute_result"
    }
   ],
   "source": [
    "model.embedding.weight"
   ]
  },
  {
   "cell_type": "code",
   "execution_count": 254,
   "id": "8845d90c-a77e-47aa-b2ed-69ac08b4e2b1",
   "metadata": {},
   "outputs": [
    {
     "data": {
      "text/plain": [
       "<AxesSubplot:>"
      ]
     },
     "execution_count": 254,
     "metadata": {},
     "output_type": "execute_result"
    },
    {
     "data": {
      "image/png": "[encoded data removed]",
      "text/plain": [
       "<Figure size 432x288 with 2 Axes>"
      ]
     },
     "metadata": {
      "needs_background": "light"
     },
     "output_type": "display_data"
    }
   ],
   "source": [
    "sns.heatmap(model.embedding.weight.detach().numpy())"
   ]
  },
  {
   "cell_type": "code",
   "execution_count": 255,
   "id": "9c762459-9263-4894-9ee4-40fd6f1f23eb",
   "metadata": {},
   "outputs": [
    {
     "data": {
      "image/png": "[encoded data removed]",
      "text/plain": [
       "<Figure size 432x288 with 2 Axes>"
      ]
     },
     "metadata": {
      "needs_background": "light"
     },
     "output_type": "display_data"
    }
   ],
   "source": [
    "plt.subplot(1, 2, 1)\n",
    "plt.scatter(y_true[is_count_data == 1], y_pred[is_count_data == 1], s=5)\n",
    "plt.xlabel('observed')\n",
    "plt.ylabel('predicted')\n",
    "plt.title('in vitro')\n",
    "\n",
    "plt.subplot(1, 2, 2)\n",
    "plt.scatter(y_true[is_count_data == 0], y_pred[is_count_data == 0], s=5)\n",
    "plt.xlabel('observed')\n",
    "plt.ylabel('predicted')\n",
    "plt.title('in vivo')\n",
    "plt.tight_layout()"
   ]
  }
 ],
 "metadata": {
  "kernelspec": {
   "display_name": "Python [conda env:multibind]",
   "language": "python",
   "name": "conda-env-multibind-py"
  },
  "language_info": {
   "codemirror_mode": {
    "name": "ipython",
    "version": 3
   },
   "file_extension": ".py",
   "mimetype": "text/x-python",
   "name": "python",
   "nbconvert_exporter": "python",
   "pygments_lexer": "ipython3",
   "version": "3.6.3"
  }
 },
 "nbformat": 4,
 "nbformat_minor": 5
}
