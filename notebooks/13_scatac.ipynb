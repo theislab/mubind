{
 "cells": [
  {
   "cell_type": "code",
   "execution_count": 93,
   "id": "004d2a17-2952-4822-83ae-09dd177136d6",
   "metadata": {},
   "outputs": [
    {
     "name": "stdout",
     "output_type": "stream",
     "text": [
      "The autoreload extension is already loaded. To reload it, use:\n",
      "  %reload_ext autoreload\n"
     ]
    }
   ],
   "source": [
    "%load_ext autoreload\n",
    "%autoreload 2"
   ]
  },
  {
   "cell_type": "code",
   "execution_count": 94,
   "id": "27c59d94-fd4a-4a3c-9abf-5109ef97c02f",
   "metadata": {},
   "outputs": [
    {
     "name": "stdout",
     "output_type": "stream",
     "text": [
      "Using device: cuda:0\n"
     ]
    }
   ],
   "source": [
    "import multibind as mb\n",
    "import numpy as np\n",
    "import pandas as pd\n",
    "import torch\n",
    "import bindome as bd\n",
    "bd.constants.ANNOTATIONS_DIRECTORY = '/mnt/c/Users/ignacio.ibarra/Dropbox/annotations'\n",
    "# mb.models.MultiBind\n",
    "import torch.optim as topti\n",
    "import torch.utils.data as tdata\n",
    "import matplotlib.pyplot as plt\n",
    "import logomaker\n",
    "\n",
    "# Use a GPU if available, as it should be faster.\n",
    "device = torch.device(\"cuda:0\" if torch.cuda.is_available() else \"cpu\")\n",
    "print(\"Using device: \" + str(device))"
   ]
  },
  {
   "cell_type": "code",
   "execution_count": 95,
   "id": "e226d21e-d360-4316-872a-777b6895b51e",
   "metadata": {},
   "outputs": [],
   "source": [
    "adata = mb.bindome.datasets.scATAC.PBMCs_10x_v2(datadir='../../atac_poisson_study/data/')\n",
    "peak_ids = adata.var_names"
   ]
  },
  {
   "cell_type": "code",
   "execution_count": 96,
   "id": "200a9729-9538-4622-a8f6-98e6c9d6f5e6",
   "metadata": {},
   "outputs": [],
   "source": [
    "# get sequences"
   ]
  },
  {
   "cell_type": "code",
   "execution_count": 97,
   "id": "4c6414ce-fd5d-4022-8366-af929eb2d0b3",
   "metadata": {},
   "outputs": [
    {
     "data": {
      "text/html": [
       "<div>\n",
       "<style scoped>\n",
       "    .dataframe tbody tr th:only-of-type {\n",
       "        vertical-align: middle;\n",
       "    }\n",
       "\n",
       "    .dataframe tbody tr th {\n",
       "        vertical-align: top;\n",
       "    }\n",
       "\n",
       "    .dataframe thead th {\n",
       "        text-align: right;\n",
       "    }\n",
       "</style>\n",
       "<table border=\"1\" class=\"dataframe\">\n",
       "  <thead>\n",
       "    <tr style=\"text-align: right;\">\n",
       "      <th></th>\n",
       "      <th>gene_ids</th>\n",
       "      <th>feature_types</th>\n",
       "      <th>genome</th>\n",
       "      <th>chr</th>\n",
       "      <th>start</th>\n",
       "      <th>end</th>\n",
       "      <th>peak.length</th>\n",
       "    </tr>\n",
       "  </thead>\n",
       "  <tbody>\n",
       "    <tr>\n",
       "      <th>chr1:9772-10660</th>\n",
       "      <td>chr1:9772-10660</td>\n",
       "      <td>Peaks</td>\n",
       "      <td>GRCh38</td>\n",
       "      <td>chr1</td>\n",
       "      <td>9772</td>\n",
       "      <td>10660</td>\n",
       "      <td>889</td>\n",
       "    </tr>\n",
       "    <tr>\n",
       "      <th>chr1:180712-181178</th>\n",
       "      <td>chr1:180712-181178</td>\n",
       "      <td>Peaks</td>\n",
       "      <td>GRCh38</td>\n",
       "      <td>chr1</td>\n",
       "      <td>180712</td>\n",
       "      <td>181178</td>\n",
       "      <td>467</td>\n",
       "    </tr>\n",
       "    <tr>\n",
       "      <th>chr1:181200-181607</th>\n",
       "      <td>chr1:181200-181607</td>\n",
       "      <td>Peaks</td>\n",
       "      <td>GRCh38</td>\n",
       "      <td>chr1</td>\n",
       "      <td>181200</td>\n",
       "      <td>181607</td>\n",
       "      <td>408</td>\n",
       "    </tr>\n",
       "    <tr>\n",
       "      <th>chr1:191183-192084</th>\n",
       "      <td>chr1:191183-192084</td>\n",
       "      <td>Peaks</td>\n",
       "      <td>GRCh38</td>\n",
       "      <td>chr1</td>\n",
       "      <td>191183</td>\n",
       "      <td>192084</td>\n",
       "      <td>902</td>\n",
       "    </tr>\n",
       "    <tr>\n",
       "      <th>chr1:267576-268461</th>\n",
       "      <td>chr1:267576-268461</td>\n",
       "      <td>Peaks</td>\n",
       "      <td>GRCh38</td>\n",
       "      <td>chr1</td>\n",
       "      <td>267576</td>\n",
       "      <td>268461</td>\n",
       "      <td>886</td>\n",
       "    </tr>\n",
       "    <tr>\n",
       "      <th>...</th>\n",
       "      <td>...</td>\n",
       "      <td>...</td>\n",
       "      <td>...</td>\n",
       "      <td>...</td>\n",
       "      <td>...</td>\n",
       "      <td>...</td>\n",
       "      <td>...</td>\n",
       "    </tr>\n",
       "    <tr>\n",
       "      <th>KI270713.1:13054-13909</th>\n",
       "      <td>KI270713.1:13054-13909</td>\n",
       "      <td>Peaks</td>\n",
       "      <td>GRCh38</td>\n",
       "      <td>KI270713.1</td>\n",
       "      <td>13054</td>\n",
       "      <td>13909</td>\n",
       "      <td>856</td>\n",
       "    </tr>\n",
       "    <tr>\n",
       "      <th>KI270713.1:15212-15933</th>\n",
       "      <td>KI270713.1:15212-15933</td>\n",
       "      <td>Peaks</td>\n",
       "      <td>GRCh38</td>\n",
       "      <td>KI270713.1</td>\n",
       "      <td>15212</td>\n",
       "      <td>15933</td>\n",
       "      <td>722</td>\n",
       "    </tr>\n",
       "    <tr>\n",
       "      <th>KI270713.1:21459-22358</th>\n",
       "      <td>KI270713.1:21459-22358</td>\n",
       "      <td>Peaks</td>\n",
       "      <td>GRCh38</td>\n",
       "      <td>KI270713.1</td>\n",
       "      <td>21459</td>\n",
       "      <td>22358</td>\n",
       "      <td>900</td>\n",
       "    </tr>\n",
       "    <tr>\n",
       "      <th>KI270713.1:29676-30535</th>\n",
       "      <td>KI270713.1:29676-30535</td>\n",
       "      <td>Peaks</td>\n",
       "      <td>GRCh38</td>\n",
       "      <td>KI270713.1</td>\n",
       "      <td>29676</td>\n",
       "      <td>30535</td>\n",
       "      <td>860</td>\n",
       "    </tr>\n",
       "    <tr>\n",
       "      <th>KI270713.1:36913-37813</th>\n",
       "      <td>KI270713.1:36913-37813</td>\n",
       "      <td>Peaks</td>\n",
       "      <td>GRCh38</td>\n",
       "      <td>KI270713.1</td>\n",
       "      <td>36913</td>\n",
       "      <td>37813</td>\n",
       "      <td>901</td>\n",
       "    </tr>\n",
       "  </tbody>\n",
       "</table>\n",
       "<p>165434 rows × 7 columns</p>\n",
       "</div>"
      ],
      "text/plain": [
       "                                      gene_ids feature_types  genome  \\\n",
       "chr1:9772-10660                chr1:9772-10660         Peaks  GRCh38   \n",
       "chr1:180712-181178          chr1:180712-181178         Peaks  GRCh38   \n",
       "chr1:181200-181607          chr1:181200-181607         Peaks  GRCh38   \n",
       "chr1:191183-192084          chr1:191183-192084         Peaks  GRCh38   \n",
       "chr1:267576-268461          chr1:267576-268461         Peaks  GRCh38   \n",
       "...                                        ...           ...     ...   \n",
       "KI270713.1:13054-13909  KI270713.1:13054-13909         Peaks  GRCh38   \n",
       "KI270713.1:15212-15933  KI270713.1:15212-15933         Peaks  GRCh38   \n",
       "KI270713.1:21459-22358  KI270713.1:21459-22358         Peaks  GRCh38   \n",
       "KI270713.1:29676-30535  KI270713.1:29676-30535         Peaks  GRCh38   \n",
       "KI270713.1:36913-37813  KI270713.1:36913-37813         Peaks  GRCh38   \n",
       "\n",
       "                               chr   start     end  peak.length  \n",
       "chr1:9772-10660               chr1    9772   10660          889  \n",
       "chr1:180712-181178            chr1  180712  181178          467  \n",
       "chr1:181200-181607            chr1  181200  181607          408  \n",
       "chr1:191183-192084            chr1  191183  192084          902  \n",
       "chr1:267576-268461            chr1  267576  268461          886  \n",
       "...                            ...     ...     ...          ...  \n",
       "KI270713.1:13054-13909  KI270713.1   13054   13909          856  \n",
       "KI270713.1:15212-15933  KI270713.1   15212   15933          722  \n",
       "KI270713.1:21459-22358  KI270713.1   21459   22358          900  \n",
       "KI270713.1:29676-30535  KI270713.1   29676   30535          860  \n",
       "KI270713.1:36913-37813  KI270713.1   36913   37813          901  \n",
       "\n",
       "[165434 rows x 7 columns]"
      ]
     },
     "execution_count": 97,
     "metadata": {},
     "output_type": "execute_result"
    }
   ],
   "source": [
    "adata.var"
   ]
  },
  {
   "cell_type": "code",
   "execution_count": 98,
   "id": "43712938-90b9-43f4-8a1d-14c40766ba81",
   "metadata": {},
   "outputs": [
    {
     "name": "stdout",
     "output_type": "stream",
     "text": [
      "/tmp/tmp9nzixfsr\n",
      "genome hg38 False\n",
      "options\n",
      "/mnt/c/Users/ignacio.ibarra/Dropbox/annotations/hg38/genome/hg38.fa\n",
      "True /mnt/c/Users/ignacio.ibarra/Dropbox/annotations/hg38/genome/hg38.fa\n",
      "running bedtools...\n",
      "bedtools getfasta -fi /mnt/c/Users/ignacio.ibarra/Dropbox/annotations/hg38/genome/hg38.fa -bed /tmp/tmp9nzixfsr -fo /tmp/tmpauti2vvp\n"
     ]
    },
    {
     "name": "stderr",
     "output_type": "stream",
     "text": [
      "WARNING. chromosome (KI270727.1) was not found in the FASTA file. Skipping.\n",
      "WARNING. chromosome (GL000194.1) was not found in the FASTA file. Skipping.\n",
      "WARNING. chromosome (GL000194.1) was not found in the FASTA file. Skipping.\n",
      "WARNING. chromosome (GL000194.1) was not found in the FASTA file. Skipping.\n",
      "WARNING. chromosome (GL000194.1) was not found in the FASTA file. Skipping.\n",
      "WARNING. chromosome (GL000194.1) was not found in the FASTA file. Skipping.\n",
      "WARNING. chromosome (GL000205.2) was not found in the FASTA file. Skipping.\n",
      "WARNING. chromosome (GL000205.2) was not found in the FASTA file. Skipping.\n",
      "WARNING. chromosome (GL000205.2) was not found in the FASTA file. Skipping.\n",
      "WARNING. chromosome (GL000205.2) was not found in the FASTA file. Skipping.\n",
      "WARNING. chromosome (GL000205.2) was not found in the FASTA file. Skipping.\n",
      "WARNING. chromosome (GL000205.2) was not found in the FASTA file. Skipping.\n",
      "WARNING. chromosome (GL000205.2) was not found in the FASTA file. Skipping.\n",
      "WARNING. chromosome (GL000205.2) was not found in the FASTA file. Skipping.\n",
      "WARNING. chromosome (GL000205.2) was not found in the FASTA file. Skipping.\n",
      "WARNING. chromosome (GL000205.2) was not found in the FASTA file. Skipping.\n",
      "WARNING. chromosome (GL000205.2) was not found in the FASTA file. Skipping.\n",
      "WARNING. chromosome (GL000195.1) was not found in the FASTA file. Skipping.\n",
      "WARNING. chromosome (GL000195.1) was not found in the FASTA file. Skipping.\n",
      "WARNING. chromosome (GL000195.1) was not found in the FASTA file. Skipping.\n",
      "WARNING. chromosome (GL000195.1) was not found in the FASTA file. Skipping.\n",
      "WARNING. chromosome (GL000195.1) was not found in the FASTA file. Skipping.\n",
      "WARNING. chromosome (GL000195.1) was not found in the FASTA file. Skipping.\n",
      "WARNING. chromosome (GL000195.1) was not found in the FASTA file. Skipping.\n",
      "WARNING. chromosome (GL000219.1) was not found in the FASTA file. Skipping.\n",
      "WARNING. chromosome (GL000219.1) was not found in the FASTA file. Skipping.\n",
      "WARNING. chromosome (GL000219.1) was not found in the FASTA file. Skipping.\n",
      "WARNING. chromosome (GL000219.1) was not found in the FASTA file. Skipping.\n",
      "WARNING. chromosome (GL000219.1) was not found in the FASTA file. Skipping.\n",
      "WARNING. chromosome (GL000219.1) was not found in the FASTA file. Skipping.\n",
      "WARNING. chromosome (GL000219.1) was not found in the FASTA file. Skipping.\n",
      "WARNING. chromosome (GL000219.1) was not found in the FASTA file. Skipping.\n",
      "WARNING. chromosome (GL000219.1) was not found in the FASTA file. Skipping.\n",
      "WARNING. chromosome (GL000219.1) was not found in the FASTA file. Skipping.\n",
      "WARNING. chromosome (GL000219.1) was not found in the FASTA file. Skipping.\n",
      "WARNING. chromosome (GL000219.1) was not found in the FASTA file. Skipping.\n",
      "WARNING. chromosome (GL000219.1) was not found in the FASTA file. Skipping.\n",
      "WARNING. chromosome (GL000219.1) was not found in the FASTA file. Skipping.\n",
      "WARNING. chromosome (GL000219.1) was not found in the FASTA file. Skipping.\n",
      "WARNING. chromosome (GL000219.1) was not found in the FASTA file. Skipping.\n",
      "WARNING. chromosome (KI270734.1) was not found in the FASTA file. Skipping.\n",
      "WARNING. chromosome (KI270734.1) was not found in the FASTA file. Skipping.\n",
      "WARNING. chromosome (GL000218.1) was not found in the FASTA file. Skipping.\n",
      "WARNING. chromosome (GL000218.1) was not found in the FASTA file. Skipping.\n",
      "WARNING. chromosome (KI270721.1) was not found in the FASTA file. Skipping.\n",
      "WARNING. chromosome (KI270721.1) was not found in the FASTA file. Skipping.\n",
      "WARNING. chromosome (KI270726.1) was not found in the FASTA file. Skipping.\n",
      "WARNING. chromosome (KI270726.1) was not found in the FASTA file. Skipping.\n",
      "WARNING. chromosome (KI270726.1) was not found in the FASTA file. Skipping.\n",
      "WARNING. chromosome (KI270711.1) was not found in the FASTA file. Skipping.\n",
      "WARNING. chromosome (KI270711.1) was not found in the FASTA file. Skipping.\n",
      "WARNING. chromosome (KI270713.1) was not found in the FASTA file. Skipping.\n",
      "WARNING. chromosome (KI270713.1) was not found in the FASTA file. Skipping.\n",
      "WARNING. chromosome (KI270713.1) was not found in the FASTA file. Skipping.\n",
      "WARNING. chromosome (KI270713.1) was not found in the FASTA file. Skipping.\n",
      "WARNING. chromosome (KI270713.1) was not found in the FASTA file. Skipping.\n",
      "WARNING. chromosome (KI270713.1) was not found in the FASTA file. Skipping.\n",
      "WARNING. chromosome (KI270713.1) was not found in the FASTA file. Skipping.\n"
     ]
    }
   ],
   "source": [
    "seqs = mb.bindome.tl.get_sequences_from_bed(adata.var[['chr', 'start', 'end']], genome='hg38', uppercase=True)\n",
    "keys = set([s[0] for s in seqs])\n",
    "adata = adata[:,adata.var_names.isin(keys)]\n",
    "# seqs = [[s[0], s[1].upper()] for s in seqs[0]]\n",
    "\n",
    "# remove Ns\n",
    "seqs = [[s[0], s[1].replace('N', '')] for s in seqs]\n",
    "\n",
    "counts = adata.X.T"
   ]
  },
  {
   "cell_type": "code",
   "execution_count": 99,
   "id": "8babeabf-0b8f-478a-b479-121fa62c8408",
   "metadata": {},
   "outputs": [
    {
     "name": "stderr",
     "output_type": "stream",
     "text": [
      "/home/rio/miniconda3/envs/multibind/lib/python3.7/site-packages/ipykernel_launcher.py:2: PerformanceWarning: DataFrame is highly fragmented.  This is usually the result of calling `frame.insert` many times, which has poor performance.  Consider joining all columns at once using pd.concat(axis=1) instead.  To get a de-fragmented frame, use `newframe = frame.copy()`\n",
      "  \n"
     ]
    }
   ],
   "source": [
    "next_data = pd.DataFrame.sparse.from_spmatrix(counts)\n",
    "next_data['seq'] = [s[1] for s in seqs]"
   ]
  },
  {
   "cell_type": "code",
   "execution_count": 100,
   "id": "8083e53a-9928-4d00-a243-9c40283b4aab",
   "metadata": {},
   "outputs": [],
   "source": [
    "next_data = next_data.head(50000)"
   ]
  },
  {
   "cell_type": "code",
   "execution_count": 101,
   "id": "5c7f898a-770c-4837-9b6e-ebb7cbede223",
   "metadata": {},
   "outputs": [],
   "source": [
    "# for testing purposes\n",
    "next_data['seq'] = next_data['seq'].astype(str).str[:min(next_data['seq'].str.len())]"
   ]
  },
  {
   "cell_type": "code",
   "execution_count": 102,
   "id": "c34c0b95-f1f1-4396-be56-a20e021c8bf5",
   "metadata": {},
   "outputs": [],
   "source": [
    "n_rounds = next_data.shape[1] - 2\n",
    "# n_rounds\n",
    "dataset = mb.datasets.SelexDataset(next_data, n_rounds=n_rounds)\n",
    "train = tdata.DataLoader(dataset=dataset, batch_size=256, shuffle=True)"
   ]
  },
  {
   "cell_type": "code",
   "execution_count": 103,
   "id": "1e8fb2ed-50ba-437e-aac0-a6d1c7c255ea",
   "metadata": {},
   "outputs": [],
   "source": [
    "# s = [mb.tl.onehot_mononuc(row['seq'], le, oe) for index, row in next_data.iterrows()]"
   ]
  },
  {
   "cell_type": "code",
   "execution_count": 104,
   "id": "b8c73bb6-0571-4c88-8048-9dd72ca09d7a",
   "metadata": {},
   "outputs": [],
   "source": [
    "# from sklearn.preprocessing import LabelEncoder\n",
    "# from sklearn.preprocessing import OneHotEncoder\n",
    "\n",
    "# le = LabelEncoder()\n",
    "# oe = OneHotEncoder(sparse=False)\n",
    "# np.array([mb.tl.onehot_mononuc(row['seq'], le, oe) for index, row in next_data.iterrows()])"
   ]
  },
  {
   "cell_type": "code",
   "execution_count": 105,
   "id": "6a5c5b77-0dbf-4057-b3be-a593bb0782aa",
   "metadata": {},
   "outputs": [
    {
     "name": "stdout",
     "output_type": "stream",
     "text": [
      "Dinuc features not implemented yet. Using only mononuc features.\n"
     ]
    }
   ],
   "source": [
    "model = mb.models.DinucSelex(use_dinuc=True, kernels=[0, 14, 8],  n_rounds=n_rounds, enr_series=False).to(device)"
   ]
  },
  {
   "cell_type": "code",
   "execution_count": null,
   "id": "1f0b1218-9c6f-46a3-9c8b-928e810d1aa6",
   "metadata": {},
   "outputs": [],
   "source": [
    "optimiser = topti.Adam(model.parameters(), lr=0.001, weight_decay=0.0001)\n",
    "criterion = mb.tl.PoissonLoss()\n",
    "l2 = mb.tl.train_network(model, train, device, optimiser, criterion, num_epochs=200, early_stopping=20, log_each=10)"
   ]
  },
  {
   "cell_type": "markdown",
   "id": "f7f407db-41e6-4ced-8cb1-8805336680b1",
   "metadata": {},
   "source": [
    "All TF's, using subsets of only round 0 and 1"
   ]
  },
  {
   "cell_type": "code",
   "execution_count": null,
   "id": "1ff7122d-e3af-47e6-bddb-72369c4e6927",
   "metadata": {},
   "outputs": [],
   "source": [
    "mb.pl.conv_mono(model)"
   ]
  },
  {
   "cell_type": "code",
   "execution_count": 4,
   "id": "73a56b5a-a86c-41c7-a4fc-2b8fb15c8140",
   "metadata": {},
   "outputs": [],
   "source": [
    "# %time np.array([mb.tl.onehot_mononuc(row['seq'], le, oe) for index, row in next_data.head(10000).iterrows()]).shape"
   ]
  },
  {
   "cell_type": "code",
   "execution_count": 5,
   "id": "4c8c60d4-9f71-4fed-8933-cbab057ecf0a",
   "metadata": {},
   "outputs": [],
   "source": [
    "# %time next_data.head(10000)['seq'].apply(mb.tl.onehot_mononuc, args=(le, oe)) # (row['seq'], le, oe) for index, row in next_data.head(10).iterrows()])"
   ]
  }
 ],
 "metadata": {
  "kernelspec": {
   "display_name": "multibind",
   "language": "python",
   "name": "multibind"
  },
  "language_info": {
   "codemirror_mode": {
    "name": "ipython",
    "version": 3
   },
   "file_extension": ".py",
   "mimetype": "text/x-python",
   "name": "python",
   "nbconvert_exporter": "python",
   "pygments_lexer": "ipython3",
   "version": "3.7.8"
  }
 },
 "nbformat": 4,
 "nbformat_minor": 5
}
