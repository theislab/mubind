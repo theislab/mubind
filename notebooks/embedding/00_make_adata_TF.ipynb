{
 "cells": [
  {
   "cell_type": "code",
   "execution_count": 1,
   "id": "a243a24a-b5d3-49bc-b437-6388d607cfe8",
   "metadata": {},
   "outputs": [],
   "source": [
    "%load_ext autoreload\n",
    "%autoreload 2"
   ]
  },
  {
   "cell_type": "code",
   "execution_count": 2,
   "id": "d2a97af0-005e-42e3-9ec7-abc817786994",
   "metadata": {},
   "outputs": [
    {
     "data": {
      "text/plain": [
       "'/home/rio/miniconda3/envs/multibind/bin/python'"
      ]
     },
     "execution_count": 2,
     "metadata": {},
     "output_type": "execute_result"
    }
   ],
   "source": [
    "import sys\n",
    "sys.executable"
   ]
  },
  {
   "cell_type": "code",
   "execution_count": 3,
   "id": "96abc113-0b42-4b03-9b91-c7e3c3122037",
   "metadata": {},
   "outputs": [],
   "source": [
    "import numpy as np\n",
    "import pandas\n",
    "import multibind"
   ]
  },
  {
   "cell_type": "code",
   "execution_count": 4,
   "id": "402ae57e-25d7-496a-a79b-2105f14f36a4",
   "metadata": {},
   "outputs": [
    {
     "name": "stdout",
     "output_type": "stream",
     "text": [
      "Using device: cuda:0\n"
     ]
    }
   ],
   "source": [
    "import mubind as mb\n",
    "import numpy as np\n",
    "import pandas as pd\n",
    "import torch\n",
    "import bindome as bd\n",
    "bd.constants.ANNOTATIONS_DIRECTORY = '../annotations'\n",
    "# mb.models.MultiBind\n",
    "import torch.optim as topti\n",
    "import torch.utils.data as tdata\n",
    "import matplotlib.pyplot as plt\n",
    "import logomaker\n",
    "\n",
    "# Use a GPU if available, as it should be faster.\n",
    "device = torch.device(\"cuda:0\" if torch.cuda.is_available() else \"cpu\")\n",
    "print(\"Using device: \" + str(device))"
   ]
  },
  {
   "cell_type": "code",
   "execution_count": 5,
   "id": "5f81ee16-a132-4be6-8883-f997de513a8a",
   "metadata": {},
   "outputs": [
    {
     "name": "stdout",
     "output_type": "stream",
     "text": [
      "cardiac_complexes\n",
      "# filenames 22\n",
      "(22, 2)\n",
      "PRJEB14744\n",
      "# filenames 13\n",
      "(13, 2)\n",
      "PRJEB20112\n",
      "# filenames 46\n",
      "(46, 2)\n",
      "PRJEB3289\n",
      "# filenames 73\n",
      "(73, 2)\n",
      "PRJEB9797\n",
      "# filenames 184\n",
      "(184, 2)\n"
     ]
    }
   ],
   "source": [
    "data = mb.bindome.datasets.SELEX.get_data()"
   ]
  },
  {
   "cell_type": "code",
   "execution_count": 6,
   "id": "c8f8a767-5d69-4264-9d44-c01fd76ad233",
   "metadata": {},
   "outputs": [],
   "source": [
    "# data_sel = data[data['filename'].str.contains('GATA') | data['filename'].str.contains('FOXA1')]\n",
    "# read_tf = mb.bindome.datasets.SELEX.load_read_counts('GATA4', data)\n",
    "# read_tf = mb.bindome.datasets.SELEX.load_read_counts(log_each=50, n_sample=100) #  stop_at=50)\n",
    "# df = mb.bindome.datasets.ProBound.GR_mult_conc()\n",
    "# df = df.sort_values(1, ascending=False).reset_index(drop=True)"
   ]
  },
  {
   "cell_type": "code",
   "execution_count": 7,
   "id": "863b9e61-5a28-4591-8d3f-2f3eb7daa1d0",
   "metadata": {},
   "outputs": [],
   "source": [
    "# data[data['accession'] == 'cardiac_complexes']"
   ]
  },
  {
   "cell_type": "code",
   "execution_count": 8,
   "id": "047c1920-0a1a-46d3-898d-89b2eb962575",
   "metadata": {},
   "outputs": [
    {
     "data": {
      "text/plain": [
       "ZEROCYCLE      73\n",
       "ELK1           38\n",
       "ETV4           28\n",
       "ELK3           28\n",
       "ELF2           24\n",
       "EGR1           23\n",
       "ELF3           20\n",
       "ELF4           16\n",
       "FOXA1          16\n",
       "ALX4           12\n",
       "ETV5           12\n",
       "ETS1           10\n",
       "ALX1            8\n",
       "CTCF            4\n",
       "ETV6            4\n",
       "GATA4           3\n",
       "TBX5            3\n",
       "R46             3\n",
       "NKX2-5          3\n",
       "NKX2-5TBX5      3\n",
       "NKX2-5GATA4     3\n",
       "GATA4TBX5       3\n",
       "Name: tf.name, dtype: int64"
      ]
     },
     "execution_count": 8,
     "metadata": {},
     "output_type": "execute_result"
    }
   ],
   "source": [
    "data['tf.name'].value_counts()"
   ]
  },
  {
   "cell_type": "code",
   "execution_count": 12,
   "id": "53c48fa8-2548-4168-aff9-eaa9fef4d043",
   "metadata": {},
   "outputs": [],
   "source": []
  },
  {
   "cell_type": "code",
   "execution_count": 13,
   "id": "89c7ff8b-b2e8-4f51-9cab-5a393c4f0a20",
   "metadata": {},
   "outputs": [],
   "source": [
    "import scanpy as sc\n",
    "import anndata\n",
    "import os\n",
    "import gc\n"
   ]
  },
  {
   "cell_type": "code",
   "execution_count": 34,
   "id": "63b402c3-0cae-447d-a2a6-02318b7dde4f",
   "metadata": {},
   "outputs": [
    {
     "data": {
      "text/plain": [
       "{'ALX1',\n",
       " 'ALX4',\n",
       " 'CTCF',\n",
       " 'EGR1',\n",
       " 'ELF2',\n",
       " 'ELF3',\n",
       " 'ELF4',\n",
       " 'ELK1',\n",
       " 'ELK3',\n",
       " 'ETS1',\n",
       " 'ETV4',\n",
       " 'ETV5',\n",
       " 'ETV6',\n",
       " 'FOXA1'}"
      ]
     },
     "execution_count": 34,
     "metadata": {},
     "output_type": "execute_result"
    }
   ],
   "source": [
    "tf_names = set(data['tf.name'].value_counts().index)\n",
    "tf_names = {s for s in tf_names if not s in {'R46', 'GATA4', 'GATA4TBX5', 'NKX2-5', 'NKX2-5TBX5', 'NKX2-5GATA4', 'TBX5', 'ZEROCYCLE'}}\n",
    "tf_names"
   ]
  },
  {
   "cell_type": "code",
   "execution_count": 36,
   "id": "ab5d86a0-c326-4b13-a975-ba9713286b8c",
   "metadata": {
    "tags": []
   },
   "outputs": [
    {
     "name": "stdout",
     "output_type": "stream",
     "text": [
      "ELF4\n",
      "../../data/kmers_adata_ELF4_k11.h5ad\n",
      "0 out of 20\n",
      "../annotations/selex/PRJEB9797/ELF4_eDBD_1_KAN_TGCGGT40NTCA.fastq.gz\n",
      "kmc -cs1553592 -k11 -ci1 -m8 ../annotations/selex/PRJEB9797/ELF4_eDBD_1_KAN_TGCGGT40NTCA.fastq.gz NA kmc_tmp 1> in.txt 2> err.txt\n",
      "kmc_tools transform NA dump NA.txt\n"
     ]
    },
    {
     "name": "stderr",
     "output_type": "stream",
     "text": [
      "in1: 100% \n"
     ]
    },
    {
     "name": "stdout",
     "output_type": "stream",
     "text": [
      "../annotations/selex/PRJEB9797/ELF4_eDBD_1_KAN_TGTTAA40NACT.fastq.gz\n",
      "kmc -cs2136556 -k11 -ci1 -m8 ../annotations/selex/PRJEB9797/ELF4_eDBD_1_KAN_TGTTAA40NACT.fastq.gz NA kmc_tmp 1> in.txt 2> err.txt\n",
      "kmc_tools transform NA dump NA.txt\n"
     ]
    },
    {
     "name": "stderr",
     "output_type": "stream",
     "text": [
      "in1: 100% \n"
     ]
    },
    {
     "name": "stdout",
     "output_type": "stream",
     "text": [
      "../annotations/selex/PRJEB9797/ELF4_eDBD_1_KS_TCAGCA40NCTC.fastq.gz\n",
      "kmc -cs1071816 -k11 -ci1 -m8 ../annotations/selex/PRJEB9797/ELF4_eDBD_1_KS_TCAGCA40NCTC.fastq.gz NA kmc_tmp 1> in.txt 2> err.txt\n",
      "kmc_tools transform NA dump NA.txt\n"
     ]
    },
    {
     "name": "stderr",
     "output_type": "stream",
     "text": [
      "in1: 100% \n"
     ]
    },
    {
     "name": "stdout",
     "output_type": "stream",
     "text": [
      "../annotations/selex/PRJEB9797/ELF4_eDBD_1_KS_TCTTCG40NGAT.fastq.gz\n",
      "kmc -cs1535256 -k11 -ci1 -m8 ../annotations/selex/PRJEB9797/ELF4_eDBD_1_KS_TCTTCG40NGAT.fastq.gz NA kmc_tmp 1> in.txt 2> err.txt\n",
      "kmc_tools transform NA dump NA.txt\n"
     ]
    },
    {
     "name": "stderr",
     "output_type": "stream",
     "text": [
      "in1: 100% \n"
     ]
    },
    {
     "name": "stdout",
     "output_type": "stream",
     "text": [
      "../annotations/selex/PRJEB9797/ELF4_eDBD_2_KAN_TGCGGT40NTCA.fastq.gz\n",
      "kmc -cs1950776 -k11 -ci1 -m8 ../annotations/selex/PRJEB9797/ELF4_eDBD_2_KAN_TGCGGT40NTCA.fastq.gz NA kmc_tmp 1> in.txt 2> err.txt\n",
      "kmc_tools transform NA dump NA.txt\n"
     ]
    },
    {
     "name": "stderr",
     "output_type": "stream",
     "text": [
      "in1: 100% \n"
     ]
    },
    {
     "name": "stdout",
     "output_type": "stream",
     "text": [
      "5 out of 20\n",
      "../annotations/selex/PRJEB9797/ELF4_eDBD_2_KAN_TGTTAA40NACT.fastq.gz\n",
      "kmc -cs2205008 -k11 -ci1 -m8 ../annotations/selex/PRJEB9797/ELF4_eDBD_2_KAN_TGTTAA40NACT.fastq.gz NA kmc_tmp 1> in.txt 2> err.txt\n",
      "kmc_tools transform NA dump NA.txt\n"
     ]
    },
    {
     "name": "stderr",
     "output_type": "stream",
     "text": [
      "in1: 100% \n"
     ]
    },
    {
     "name": "stdout",
     "output_type": "stream",
     "text": [
      "../annotations/selex/PRJEB9797/ELF4_eDBD_2_KS_TCAGCA40NCTC.fastq.gz\n",
      "kmc -cs546120 -k11 -ci1 -m8 ../annotations/selex/PRJEB9797/ELF4_eDBD_2_KS_TCAGCA40NCTC.fastq.gz NA kmc_tmp 1> in.txt 2> err.txt\n",
      "kmc_tools transform NA dump NA.txt\n"
     ]
    },
    {
     "name": "stderr",
     "output_type": "stream",
     "text": [
      "in1: 100% \n"
     ]
    },
    {
     "name": "stdout",
     "output_type": "stream",
     "text": [
      "../annotations/selex/PRJEB9797/ELF4_eDBD_2_KS_TCTTCG40NGAT.fastq.gz\n",
      "kmc -cs702372 -k11 -ci1 -m8 ../annotations/selex/PRJEB9797/ELF4_eDBD_2_KS_TCTTCG40NGAT.fastq.gz NA kmc_tmp 1> in.txt 2> err.txt\n",
      "kmc_tools transform NA dump NA.txt\n"
     ]
    },
    {
     "name": "stderr",
     "output_type": "stream",
     "text": [
      "in1: 100% \n"
     ]
    },
    {
     "name": "stdout",
     "output_type": "stream",
     "text": [
      "../annotations/selex/PRJEB9797/ELF4_eDBD_3_KAN_TGCGGT40NTCA.fastq.gz\n",
      "kmc -cs1592912 -k11 -ci1 -m8 ../annotations/selex/PRJEB9797/ELF4_eDBD_3_KAN_TGCGGT40NTCA.fastq.gz NA kmc_tmp 1> in.txt 2> err.txt\n",
      "kmc_tools transform NA dump NA.txt\n"
     ]
    },
    {
     "name": "stderr",
     "output_type": "stream",
     "text": [
      "in1: 100% \n"
     ]
    },
    {
     "name": "stdout",
     "output_type": "stream",
     "text": [
      "../annotations/selex/PRJEB9797/ELF4_eDBD_3_KAN_TGTTAA40NACT.fastq.gz\n",
      "kmc -cs1974204 -k11 -ci1 -m8 ../annotations/selex/PRJEB9797/ELF4_eDBD_3_KAN_TGTTAA40NACT.fastq.gz NA kmc_tmp 1> in.txt 2> err.txt\n",
      "kmc_tools transform NA dump NA.txt\n"
     ]
    },
    {
     "name": "stderr",
     "output_type": "stream",
     "text": [
      "in1: 100% \n"
     ]
    },
    {
     "name": "stdout",
     "output_type": "stream",
     "text": [
      "10 out of 20\n",
      "../annotations/selex/PRJEB9797/ELF4_eDBD_3_KS_TCAGCA40NCTC.fastq.gz\n",
      "kmc -cs1044540 -k11 -ci1 -m8 ../annotations/selex/PRJEB9797/ELF4_eDBD_3_KS_TCAGCA40NCTC.fastq.gz NA kmc_tmp 1> in.txt 2> err.txt\n",
      "kmc_tools transform NA dump NA.txt\n"
     ]
    },
    {
     "name": "stderr",
     "output_type": "stream",
     "text": [
      "in1: 100% \n"
     ]
    },
    {
     "name": "stdout",
     "output_type": "stream",
     "text": [
      "../annotations/selex/PRJEB9797/ELF4_eDBD_3_KS_TCTTCG40NGAT.fastq.gz\n",
      "kmc -cs1225652 -k11 -ci1 -m8 ../annotations/selex/PRJEB9797/ELF4_eDBD_3_KS_TCTTCG40NGAT.fastq.gz NA kmc_tmp 1> in.txt 2> err.txt\n",
      "kmc_tools transform NA dump NA.txt\n"
     ]
    },
    {
     "name": "stderr",
     "output_type": "stream",
     "text": [
      "in1: 100% \n"
     ]
    },
    {
     "name": "stdout",
     "output_type": "stream",
     "text": [
      "../annotations/selex/PRJEB9797/ELF4_eDBD_4_KAN_TGCGGT40NTCA.fastq.gz\n",
      "kmc -cs1518884 -k11 -ci1 -m8 ../annotations/selex/PRJEB9797/ELF4_eDBD_4_KAN_TGCGGT40NTCA.fastq.gz NA kmc_tmp 1> in.txt 2> err.txt\n",
      "kmc_tools transform NA dump NA.txt\n"
     ]
    },
    {
     "name": "stderr",
     "output_type": "stream",
     "text": [
      "in1: 100% \n"
     ]
    },
    {
     "name": "stdout",
     "output_type": "stream",
     "text": [
      "../annotations/selex/PRJEB9797/ELF4_eDBD_4_KAN_TGTTAA40NACT.fastq.gz\n",
      "kmc -cs1610860 -k11 -ci1 -m8 ../annotations/selex/PRJEB9797/ELF4_eDBD_4_KAN_TGTTAA40NACT.fastq.gz NA kmc_tmp 1> in.txt 2> err.txt\n",
      "kmc_tools transform NA dump NA.txt\n"
     ]
    },
    {
     "name": "stderr",
     "output_type": "stream",
     "text": [
      "in1: 100% \n"
     ]
    },
    {
     "name": "stdout",
     "output_type": "stream",
     "text": [
      "../annotations/selex/PRJEB9797/ELF4_eDBD_4_KS_TCAGCA40NCTC.fastq.gz\n",
      "kmc -cs1010416 -k11 -ci1 -m8 ../annotations/selex/PRJEB9797/ELF4_eDBD_4_KS_TCAGCA40NCTC.fastq.gz NA kmc_tmp 1> in.txt 2> err.txt\n",
      "kmc_tools transform NA dump NA.txt\n"
     ]
    },
    {
     "name": "stderr",
     "output_type": "stream",
     "text": [
      "in1: 100% \n"
     ]
    },
    {
     "name": "stdout",
     "output_type": "stream",
     "text": [
      "15 out of 20\n",
      "../annotations/selex/PRJEB9797/ELF4_eDBD_4_KS_TCTTCG40NGAT.fastq.gz\n",
      "kmc -cs1044944 -k11 -ci1 -m8 ../annotations/selex/PRJEB9797/ELF4_eDBD_4_KS_TCTTCG40NGAT.fastq.gz NA kmc_tmp 1> in.txt 2> err.txt\n",
      "kmc_tools transform NA dump NA.txt\n"
     ]
    },
    {
     "name": "stderr",
     "output_type": "stream",
     "text": [
      "in1: 100% \n"
     ]
    },
    {
     "name": "stdout",
     "output_type": "stream",
     "text": [
      "../annotations/selex/PRJEB20112/ZeroCycle_TCAGCA40NCTC_0_0.fastq.gz\n",
      "kmc -cs714392 -k11 -ci1 -m8 ../annotations/selex/PRJEB20112/ZeroCycle_TCAGCA40NCTC_0_0.fastq.gz NA kmc_tmp 1> in.txt 2> err.txt\n",
      "kmc_tools transform NA dump NA.txt\n"
     ]
    },
    {
     "name": "stderr",
     "output_type": "stream",
     "text": [
      "in1: 100% \n"
     ]
    },
    {
     "name": "stdout",
     "output_type": "stream",
     "text": [
      "../annotations/selex/PRJEB20112/ZeroCycle_TCTTCG40NGAT_0_0.fastq.gz\n",
      "kmc -cs1052740 -k11 -ci1 -m8 ../annotations/selex/PRJEB20112/ZeroCycle_TCTTCG40NGAT_0_0.fastq.gz NA kmc_tmp 1> in.txt 2> err.txt\n",
      "kmc_tools transform NA dump NA.txt\n"
     ]
    },
    {
     "name": "stderr",
     "output_type": "stream",
     "text": [
      "in1: 100% \n"
     ]
    },
    {
     "name": "stdout",
     "output_type": "stream",
     "text": [
      "../annotations/selex/PRJEB20112/ZeroCycle_TGCGGT40NTCA_0_0.fastq.gz\n",
      "kmc -cs1182644 -k11 -ci1 -m8 ../annotations/selex/PRJEB20112/ZeroCycle_TGCGGT40NTCA_0_0.fastq.gz NA kmc_tmp 1> in.txt 2> err.txt\n",
      "kmc_tools transform NA dump NA.txt\n"
     ]
    },
    {
     "name": "stderr",
     "output_type": "stream",
     "text": [
      "in1: 100% \n"
     ]
    },
    {
     "name": "stdout",
     "output_type": "stream",
     "text": [
      "../annotations/selex/PRJEB20112/ZeroCycle_TGTTAA40NACT_0_0.fastq.gz\n",
      "kmc -cs962848 -k11 -ci1 -m8 ../annotations/selex/PRJEB20112/ZeroCycle_TGTTAA40NACT_0_0.fastq.gz NA kmc_tmp 1> in.txt 2> err.txt\n",
      "kmc_tools transform NA dump NA.txt\n"
     ]
    },
    {
     "name": "stderr",
     "output_type": "stream",
     "text": [
      "in1: 100% \n"
     ]
    },
    {
     "name": "stdout",
     "output_type": "stream",
     "text": [
      "merging...\n",
      "merging done...\n",
      "transposing...\n",
      "convert to anndata...\n",
      "writing\n",
      "writing done...\n",
      "reading adata\n",
      "done...\n",
      "ELK3\n",
      "../../data/kmers_adata_ELK3_k11.h5ad\n",
      "0 out of 36\n",
      "../annotations/selex/PRJEB3289/ELK3_TCGGGG20NGGT_AG_1.fastq.gz\n",
      "kmc -cs989328 -k11 -ci1 -m8 ../annotations/selex/PRJEB3289/ELK3_TCGGGG20NGGT_AG_1.fastq.gz NA kmc_tmp 1> in.txt 2> err.txt\n",
      "kmc_tools transform NA dump NA.txt\n"
     ]
    },
    {
     "name": "stderr",
     "output_type": "stream",
     "text": [
      "in1: 100% \n"
     ]
    },
    {
     "name": "stdout",
     "output_type": "stream",
     "text": [
      "../annotations/selex/PRJEB3289/ELK3_TCGGGG20NGGT_AG_2.fastq.gz\n",
      "kmc -cs824756 -k11 -ci1 -m8 ../annotations/selex/PRJEB3289/ELK3_TCGGGG20NGGT_AG_2.fastq.gz NA kmc_tmp 1> in.txt 2> err.txt\n",
      "kmc_tools transform NA dump NA.txt\n"
     ]
    },
    {
     "name": "stderr",
     "output_type": "stream",
     "text": [
      "in1: 100% \n"
     ]
    },
    {
     "name": "stdout",
     "output_type": "stream",
     "text": [
      "../annotations/selex/PRJEB3289/ELK3_TCGGGG20NGGT_AG_3.fastq.gz\n",
      "kmc -cs896268 -k11 -ci1 -m8 ../annotations/selex/PRJEB3289/ELK3_TCGGGG20NGGT_AG_3.fastq.gz NA kmc_tmp 1> in.txt 2> err.txt\n",
      "kmc_tools transform NA dump NA.txt\n"
     ]
    },
    {
     "name": "stderr",
     "output_type": "stream",
     "text": [
      "in1: 100% \n"
     ]
    },
    {
     "name": "stdout",
     "output_type": "stream",
     "text": [
      "../annotations/selex/PRJEB3289/ELK3_TCGGGG20NGGT_AG_4.fastq.gz\n",
      "kmc -cs401816 -k11 -ci1 -m8 ../annotations/selex/PRJEB3289/ELK3_TCGGGG20NGGT_AG_4.fastq.gz NA kmc_tmp 1> in.txt 2> err.txt\n",
      "kmc_tools transform NA dump NA.txt\n"
     ]
    },
    {
     "name": "stderr",
     "output_type": "stream",
     "text": [
      "in1: 100% \n"
     ]
    },
    {
     "name": "stdout",
     "output_type": "stream",
     "text": [
      "../annotations/selex/PRJEB9797/ELK3_eDBD_1_KAN_TCATAA40NAGC.fastq.gz\n",
      "kmc -cs2133516 -k11 -ci1 -m8 ../annotations/selex/PRJEB9797/ELK3_eDBD_1_KAN_TCATAA40NAGC.fastq.gz NA kmc_tmp 1> in.txt 2> err.txt\n",
      "kmc_tools transform NA dump NA.txt\n"
     ]
    },
    {
     "name": "stderr",
     "output_type": "stream",
     "text": [
      "in1: 100% \n"
     ]
    },
    {
     "name": "stdout",
     "output_type": "stream",
     "text": [
      "5 out of 36\n",
      "../annotations/selex/PRJEB9797/ELK3_eDBD_1_KAN_TTGAAC40NGCT.fastq.gz\n",
      "kmc -cs1782816 -k11 -ci1 -m8 ../annotations/selex/PRJEB9797/ELK3_eDBD_1_KAN_TTGAAC40NGCT.fastq.gz NA kmc_tmp 1> in.txt 2> err.txt\n",
      "kmc_tools transform NA dump NA.txt\n"
     ]
    },
    {
     "name": "stderr",
     "output_type": "stream",
     "text": [
      "in1: 100% \n"
     ]
    },
    {
     "name": "stdout",
     "output_type": "stream",
     "text": [
      "../annotations/selex/PRJEB9797/ELK3_eDBD_1_KS_TCCCTG40NGTA.fastq.gz\n",
      "kmc -cs1127344 -k11 -ci1 -m8 ../annotations/selex/PRJEB9797/ELK3_eDBD_1_KS_TCCCTG40NGTA.fastq.gz NA kmc_tmp 1> in.txt 2> err.txt\n",
      "kmc_tools transform NA dump NA.txt\n"
     ]
    },
    {
     "name": "stderr",
     "output_type": "stream",
     "text": [
      "in1: 100% \n"
     ]
    },
    {
     "name": "stdout",
     "output_type": "stream",
     "text": [
      "../annotations/selex/PRJEB9797/ELK3_eDBD_1_KS_TTGAAT40NTAC.fastq.gz\n",
      "kmc -cs1421764 -k11 -ci1 -m8 ../annotations/selex/PRJEB9797/ELK3_eDBD_1_KS_TTGAAT40NTAC.fastq.gz NA kmc_tmp 1> in.txt 2> err.txt\n",
      "kmc_tools transform NA dump NA.txt\n"
     ]
    },
    {
     "name": "stderr",
     "output_type": "stream",
     "text": [
      "in1: 100% \n"
     ]
    },
    {
     "name": "stdout",
     "output_type": "stream",
     "text": [
      "../annotations/selex/PRJEB9797/ELK3_eDBD_2_KAN_TCATAA40NAGC.fastq.gz\n",
      "kmc -cs1820832 -k11 -ci1 -m8 ../annotations/selex/PRJEB9797/ELK3_eDBD_2_KAN_TCATAA40NAGC.fastq.gz NA kmc_tmp 1> in.txt 2> err.txt\n",
      "kmc_tools transform NA dump NA.txt\n"
     ]
    },
    {
     "name": "stderr",
     "output_type": "stream",
     "text": [
      "in1: 100% \n"
     ]
    },
    {
     "name": "stdout",
     "output_type": "stream",
     "text": [
      "../annotations/selex/PRJEB9797/ELK3_eDBD_2_KAN_TTGAAC40NGCT.fastq.gz\n",
      "kmc -cs1653796 -k11 -ci1 -m8 ../annotations/selex/PRJEB9797/ELK3_eDBD_2_KAN_TTGAAC40NGCT.fastq.gz NA kmc_tmp 1> in.txt 2> err.txt\n",
      "kmc_tools transform NA dump NA.txt\n"
     ]
    },
    {
     "name": "stderr",
     "output_type": "stream",
     "text": [
      "in1: 100% \n"
     ]
    },
    {
     "name": "stdout",
     "output_type": "stream",
     "text": [
      "10 out of 36\n",
      "../annotations/selex/PRJEB9797/ELK3_eDBD_2_KS_TCCCTG40NGTA.fastq.gz\n",
      "kmc -cs481540 -k11 -ci1 -m8 ../annotations/selex/PRJEB9797/ELK3_eDBD_2_KS_TCCCTG40NGTA.fastq.gz NA kmc_tmp 1> in.txt 2> err.txt\n",
      "kmc_tools transform NA dump NA.txt\n"
     ]
    },
    {
     "name": "stderr",
     "output_type": "stream",
     "text": [
      "in1: 100% \n"
     ]
    },
    {
     "name": "stdout",
     "output_type": "stream",
     "text": [
      "../annotations/selex/PRJEB9797/ELK3_eDBD_2_KS_TTGAAT40NTAC.fastq.gz\n",
      "kmc -cs539368 -k11 -ci1 -m8 ../annotations/selex/PRJEB9797/ELK3_eDBD_2_KS_TTGAAT40NTAC.fastq.gz NA kmc_tmp 1> in.txt 2> err.txt\n",
      "kmc_tools transform NA dump NA.txt\n"
     ]
    },
    {
     "name": "stderr",
     "output_type": "stream",
     "text": [
      "in1: 100% \n"
     ]
    },
    {
     "name": "stdout",
     "output_type": "stream",
     "text": [
      "../annotations/selex/PRJEB9797/ELK3_eDBD_3_KAN_TCATAA40NAGC.fastq.gz\n",
      "kmc -cs2096096 -k11 -ci1 -m8 ../annotations/selex/PRJEB9797/ELK3_eDBD_3_KAN_TCATAA40NAGC.fastq.gz NA kmc_tmp 1> in.txt 2> err.txt\n",
      "kmc_tools transform NA dump NA.txt\n"
     ]
    },
    {
     "name": "stderr",
     "output_type": "stream",
     "text": [
      "in1: 100% \n"
     ]
    },
    {
     "name": "stdout",
     "output_type": "stream",
     "text": [
      "../annotations/selex/PRJEB9797/ELK3_eDBD_3_KAN_TTGAAC40NGCT.fastq.gz\n",
      "kmc -cs1847108 -k11 -ci1 -m8 ../annotations/selex/PRJEB9797/ELK3_eDBD_3_KAN_TTGAAC40NGCT.fastq.gz NA kmc_tmp 1> in.txt 2> err.txt\n",
      "kmc_tools transform NA dump NA.txt\n"
     ]
    },
    {
     "name": "stderr",
     "output_type": "stream",
     "text": [
      "in1: 100% \n"
     ]
    },
    {
     "name": "stdout",
     "output_type": "stream",
     "text": [
      "../annotations/selex/PRJEB9797/ELK3_eDBD_3_KS_TCCCTG40NGTA.fastq.gz\n",
      "kmc -cs1272580 -k11 -ci1 -m8 ../annotations/selex/PRJEB9797/ELK3_eDBD_3_KS_TCCCTG40NGTA.fastq.gz NA kmc_tmp 1> in.txt 2> err.txt\n",
      "kmc_tools transform NA dump NA.txt\n"
     ]
    },
    {
     "name": "stderr",
     "output_type": "stream",
     "text": [
      "in1: 100% \n"
     ]
    },
    {
     "name": "stdout",
     "output_type": "stream",
     "text": [
      "15 out of 36\n",
      "../annotations/selex/PRJEB9797/ELK3_eDBD_3_KS_TTGAAT40NTAC.fastq.gz\n",
      "kmc -cs1105700 -k11 -ci1 -m8 ../annotations/selex/PRJEB9797/ELK3_eDBD_3_KS_TTGAAT40NTAC.fastq.gz NA kmc_tmp 1> in.txt 2> err.txt\n",
      "kmc_tools transform NA dump NA.txt\n"
     ]
    },
    {
     "name": "stderr",
     "output_type": "stream",
     "text": [
      "in1: 100% \n"
     ]
    },
    {
     "name": "stdout",
     "output_type": "stream",
     "text": [
      "../annotations/selex/PRJEB9797/ELK3_eDBD_4_KAN_TCATAA40NAGC.fastq.gz\n",
      "kmc -cs1573884 -k11 -ci1 -m8 ../annotations/selex/PRJEB9797/ELK3_eDBD_4_KAN_TCATAA40NAGC.fastq.gz NA kmc_tmp 1> in.txt 2> err.txt\n",
      "kmc_tools transform NA dump NA.txt\n"
     ]
    },
    {
     "name": "stderr",
     "output_type": "stream",
     "text": [
      "in1: 100% \n"
     ]
    },
    {
     "name": "stdout",
     "output_type": "stream",
     "text": [
      "../annotations/selex/PRJEB9797/ELK3_eDBD_4_KAN_TTGAAC40NGCT.fastq.gz\n",
      "kmc -cs2053956 -k11 -ci1 -m8 ../annotations/selex/PRJEB9797/ELK3_eDBD_4_KAN_TTGAAC40NGCT.fastq.gz NA kmc_tmp 1> in.txt 2> err.txt\n",
      "kmc_tools transform NA dump NA.txt\n"
     ]
    },
    {
     "name": "stderr",
     "output_type": "stream",
     "text": [
      "in1: 100% \n"
     ]
    },
    {
     "name": "stdout",
     "output_type": "stream",
     "text": [
      "../annotations/selex/PRJEB9797/ELK3_eDBD_4_KS_TCCCTG40NGTA.fastq.gz\n",
      "kmc -cs1640372 -k11 -ci1 -m8 ../annotations/selex/PRJEB9797/ELK3_eDBD_4_KS_TCCCTG40NGTA.fastq.gz NA kmc_tmp 1> in.txt 2> err.txt\n",
      "kmc_tools transform NA dump NA.txt\n"
     ]
    },
    {
     "name": "stderr",
     "output_type": "stream",
     "text": [
      "in1: 100% \n"
     ]
    },
    {
     "name": "stdout",
     "output_type": "stream",
     "text": [
      "../annotations/selex/PRJEB9797/ELK3_eDBD_4_KS_TTGAAT40NTAC.fastq.gz\n",
      "kmc -cs885840 -k11 -ci1 -m8 ../annotations/selex/PRJEB9797/ELK3_eDBD_4_KS_TTGAAT40NTAC.fastq.gz NA kmc_tmp 1> in.txt 2> err.txt\n",
      "kmc_tools transform NA dump NA.txt\n"
     ]
    },
    {
     "name": "stderr",
     "output_type": "stream",
     "text": [
      "in1: 100% \n"
     ]
    },
    {
     "name": "stdout",
     "output_type": "stream",
     "text": [
      "20 out of 36\n",
      "../annotations/selex/PRJEB9797/ELK3_FL_1_KX_TGTCAG40NGAC.fastq.gz\n",
      "kmc -cs968656 -k11 -ci1 -m8 ../annotations/selex/PRJEB9797/ELK3_FL_1_KX_TGTCAG40NGAC.fastq.gz NA kmc_tmp 1> in.txt 2> err.txt\n",
      "kmc_tools transform NA dump NA.txt\n"
     ]
    },
    {
     "name": "stderr",
     "output_type": "stream",
     "text": [
      "in1: 100% \n"
     ]
    },
    {
     "name": "stdout",
     "output_type": "stream",
     "text": [
      "../annotations/selex/PRJEB9797/ELK3_FL_1_KX_TTCGAA40NGAC.fastq.gz\n",
      "kmc -cs967500 -k11 -ci1 -m8 ../annotations/selex/PRJEB9797/ELK3_FL_1_KX_TTCGAA40NGAC.fastq.gz NA kmc_tmp 1> in.txt 2> err.txt\n",
      "kmc_tools transform NA dump NA.txt\n"
     ]
    },
    {
     "name": "stderr",
     "output_type": "stream",
     "text": [
      "in1: 100% \n"
     ]
    },
    {
     "name": "stdout",
     "output_type": "stream",
     "text": [
      "../annotations/selex/PRJEB9797/ELK3_FL_2_KX_TGTCAG40NGAC.fastq.gz\n",
      "kmc -cs810928 -k11 -ci1 -m8 ../annotations/selex/PRJEB9797/ELK3_FL_2_KX_TGTCAG40NGAC.fastq.gz NA kmc_tmp 1> in.txt 2> err.txt\n",
      "kmc_tools transform NA dump NA.txt\n"
     ]
    },
    {
     "name": "stderr",
     "output_type": "stream",
     "text": [
      "in1: 100% \n"
     ]
    },
    {
     "name": "stdout",
     "output_type": "stream",
     "text": [
      "../annotations/selex/PRJEB9797/ELK3_FL_2_KX_TTCGAA40NGAC.fastq.gz\n",
      "kmc -cs697672 -k11 -ci1 -m8 ../annotations/selex/PRJEB9797/ELK3_FL_2_KX_TTCGAA40NGAC.fastq.gz NA kmc_tmp 1> in.txt 2> err.txt\n",
      "kmc_tools transform NA dump NA.txt\n"
     ]
    },
    {
     "name": "stderr",
     "output_type": "stream",
     "text": [
      "in1: 100% \n"
     ]
    },
    {
     "name": "stdout",
     "output_type": "stream",
     "text": [
      "../annotations/selex/PRJEB9797/ELK3_FL_3_KX_TGTCAG40NGAC.fastq.gz\n",
      "kmc -cs1278260 -k11 -ci1 -m8 ../annotations/selex/PRJEB9797/ELK3_FL_3_KX_TGTCAG40NGAC.fastq.gz NA kmc_tmp 1> in.txt 2> err.txt\n",
      "kmc_tools transform NA dump NA.txt\n"
     ]
    },
    {
     "name": "stderr",
     "output_type": "stream",
     "text": [
      "in1: 100% \n"
     ]
    },
    {
     "name": "stdout",
     "output_type": "stream",
     "text": [
      "25 out of 36\n",
      "25 out of 36\n",
      "../annotations/selex/PRJEB9797/ELK3_FL_3_KX_TTCGAA40NGAC.fastq.gz\n",
      "kmc -cs1147324 -k11 -ci1 -m8 ../annotations/selex/PRJEB9797/ELK3_FL_3_KX_TTCGAA40NGAC.fastq.gz NA kmc_tmp 1> in.txt 2> err.txt\n",
      "kmc_tools transform NA dump NA.txt\n"
     ]
    },
    {
     "name": "stderr",
     "output_type": "stream",
     "text": [
      "in1: 100% \n"
     ]
    },
    {
     "name": "stdout",
     "output_type": "stream",
     "text": [
      "../annotations/selex/PRJEB9797/ELK3_FL_4_KX_TGTCAG40NGAC.fastq.gz\n",
      "kmc -cs1826168 -k11 -ci1 -m8 ../annotations/selex/PRJEB9797/ELK3_FL_4_KX_TGTCAG40NGAC.fastq.gz NA kmc_tmp 1> in.txt 2> err.txt\n",
      "kmc_tools transform NA dump NA.txt\n"
     ]
    },
    {
     "name": "stderr",
     "output_type": "stream",
     "text": [
      "in1: 100% \n"
     ]
    },
    {
     "name": "stdout",
     "output_type": "stream",
     "text": [
      "../annotations/selex/PRJEB9797/ELK3_FL_4_KX_TTCGAA40NGAC.fastq.gz\n",
      "kmc -cs1213144 -k11 -ci1 -m8 ../annotations/selex/PRJEB9797/ELK3_FL_4_KX_TTCGAA40NGAC.fastq.gz NA kmc_tmp 1> in.txt 2> err.txt\n",
      "kmc_tools transform NA dump NA.txt\n"
     ]
    },
    {
     "name": "stderr",
     "output_type": "stream",
     "text": [
      "in1: 100% \n"
     ]
    },
    {
     "name": "stdout",
     "output_type": "stream",
     "text": [
      "../annotations/selex/PRJEB14744/ZeroCycle_ES0_TCGGGG20NGGT_0.txt.gz\n",
      "kmc -cs2437368 -k11 -ci1 -m8 ../annotations/selex/PRJEB14744/ZeroCycle_ES0_TCGGGG20NGGT_0.txt.gz NA kmc_tmp 1> in.txt 2> err.txt\n",
      "kmc_tools transform NA dump NA.txt\n"
     ]
    },
    {
     "name": "stderr",
     "output_type": "stream",
     "text": [
      "in1: 100% \n"
     ]
    },
    {
     "name": "stdout",
     "output_type": "stream",
     "text": [
      "../annotations/selex/PRJEB20112/ZeroCycle_TCATAA40NAGC_0_0.fastq.gz\n",
      "kmc -cs1239048 -k11 -ci1 -m8 ../annotations/selex/PRJEB20112/ZeroCycle_TCATAA40NAGC_0_0.fastq.gz NA kmc_tmp 1> in.txt 2> err.txt\n",
      "kmc_tools transform NA dump NA.txt\n"
     ]
    },
    {
     "name": "stderr",
     "output_type": "stream",
     "text": [
      "in1: 100% \n"
     ]
    },
    {
     "name": "stdout",
     "output_type": "stream",
     "text": [
      "30 out of 36\n",
      "../annotations/selex/PRJEB20112/ZeroCycle_TCCCTG40NGTA_0_0.fastq.gz\n",
      "kmc -cs571060 -k11 -ci1 -m8 ../annotations/selex/PRJEB20112/ZeroCycle_TCCCTG40NGTA_0_0.fastq.gz NA kmc_tmp 1> in.txt 2> err.txt\n",
      "kmc_tools transform NA dump NA.txt\n"
     ]
    },
    {
     "name": "stderr",
     "output_type": "stream",
     "text": [
      "in1: 100% \n"
     ]
    },
    {
     "name": "stdout",
     "output_type": "stream",
     "text": [
      "../annotations/selex/PRJEB20112/ZeroCycle_TGTCAG40NGAC_0_0.fastq.gz\n",
      "kmc -cs705480 -k11 -ci1 -m8 ../annotations/selex/PRJEB20112/ZeroCycle_TGTCAG40NGAC_0_0.fastq.gz NA kmc_tmp 1> in.txt 2> err.txt\n",
      "kmc_tools transform NA dump NA.txt\n"
     ]
    },
    {
     "name": "stderr",
     "output_type": "stream",
     "text": [
      "in1: 100% \n"
     ]
    },
    {
     "name": "stdout",
     "output_type": "stream",
     "text": [
      "../annotations/selex/PRJEB20112/ZeroCycle_TTCGAA40NGAC_0_0.fastq.gz\n",
      "kmc -cs1259396 -k11 -ci1 -m8 ../annotations/selex/PRJEB20112/ZeroCycle_TTCGAA40NGAC_0_0.fastq.gz NA kmc_tmp 1> in.txt 2> err.txt\n",
      "kmc_tools transform NA dump NA.txt\n"
     ]
    },
    {
     "name": "stderr",
     "output_type": "stream",
     "text": [
      "in1: 100% \n"
     ]
    },
    {
     "name": "stdout",
     "output_type": "stream",
     "text": [
      "../annotations/selex/PRJEB20112/ZeroCycle_TTGAAC40NGCT_0_0.fastq.gz\n",
      "kmc -cs1167192 -k11 -ci1 -m8 ../annotations/selex/PRJEB20112/ZeroCycle_TTGAAC40NGCT_0_0.fastq.gz NA kmc_tmp 1> in.txt 2> err.txt\n",
      "kmc_tools transform NA dump NA.txt\n"
     ]
    },
    {
     "name": "stderr",
     "output_type": "stream",
     "text": [
      "in1: 100% \n"
     ]
    },
    {
     "name": "stdout",
     "output_type": "stream",
     "text": [
      "../annotations/selex/PRJEB20112/ZeroCycle_TTGAAT40NTAC_0_0.fastq.gz\n",
      "kmc -cs709820 -k11 -ci1 -m8 ../annotations/selex/PRJEB20112/ZeroCycle_TTGAAT40NTAC_0_0.fastq.gz NA kmc_tmp 1> in.txt 2> err.txt\n",
      "kmc_tools transform NA dump NA.txt\n"
     ]
    },
    {
     "name": "stderr",
     "output_type": "stream",
     "text": [
      "in1: 100% \n"
     ]
    },
    {
     "name": "stdout",
     "output_type": "stream",
     "text": [
      "35 out of 36\n",
      "../annotations/selex/PRJEB3289/ZeroCycle_TCGGGG20NGGT_0_0.fastq.gz\n",
      "kmc -cs522464 -k11 -ci1 -m8 ../annotations/selex/PRJEB3289/ZeroCycle_TCGGGG20NGGT_0_0.fastq.gz NA kmc_tmp 1> in.txt 2> err.txt\n",
      "kmc_tools transform NA dump NA.txt\n"
     ]
    },
    {
     "name": "stderr",
     "output_type": "stream",
     "text": [
      "in1: 100% \n"
     ]
    },
    {
     "name": "stdout",
     "output_type": "stream",
     "text": [
      "merging...\n",
      "merging done...\n",
      "transposing...\n",
      "convert to anndata...\n",
      "writing\n",
      "writing done...\n",
      "reading adata\n",
      "done...\n",
      "ETV5\n",
      "../../data/kmers_adata_ETV5_k11.h5ad\n",
      "0 out of 16\n",
      "../annotations/selex/PRJEB3289/ETV5_TGCACT20NGA_AF_1.fastq.gz\n",
      "kmc -cs979028 -k11 -ci1 -m8 ../annotations/selex/PRJEB3289/ETV5_TGCACT20NGA_AF_1.fastq.gz NA kmc_tmp 1> in.txt 2> err.txt\n",
      "kmc_tools transform NA dump NA.txt\n"
     ]
    },
    {
     "name": "stderr",
     "output_type": "stream",
     "text": [
      "in1: 100% \n"
     ]
    },
    {
     "name": "stdout",
     "output_type": "stream",
     "text": [
      "../annotations/selex/PRJEB3289/ETV5_TGCACT20NGA_AF_2.fastq.gz\n",
      "kmc -cs1204436 -k11 -ci1 -m8 ../annotations/selex/PRJEB3289/ETV5_TGCACT20NGA_AF_2.fastq.gz NA kmc_tmp 1> in.txt 2> err.txt\n",
      "kmc_tools transform NA dump NA.txt\n"
     ]
    },
    {
     "name": "stderr",
     "output_type": "stream",
     "text": [
      "in1: 100% \n"
     ]
    },
    {
     "name": "stdout",
     "output_type": "stream",
     "text": [
      "../annotations/selex/PRJEB3289/ETV5_TGCACT20NGA_AF_3.fastq.gz\n",
      "kmc -cs1459912 -k11 -ci1 -m8 ../annotations/selex/PRJEB3289/ETV5_TGCACT20NGA_AF_3.fastq.gz NA kmc_tmp 1> in.txt 2> err.txt\n",
      "kmc_tools transform NA dump NA.txt\n"
     ]
    },
    {
     "name": "stderr",
     "output_type": "stream",
     "text": [
      "in1: 100% \n"
     ]
    },
    {
     "name": "stdout",
     "output_type": "stream",
     "text": [
      "../annotations/selex/PRJEB3289/ETV5_TGCACT20NGA_AF_4.fastq.gz\n",
      "kmc -cs423380 -k11 -ci1 -m8 ../annotations/selex/PRJEB3289/ETV5_TGCACT20NGA_AF_4.fastq.gz NA kmc_tmp 1> in.txt 2> err.txt\n",
      "kmc_tools transform NA dump NA.txt\n"
     ]
    },
    {
     "name": "stderr",
     "output_type": "stream",
     "text": [
      "in1: 100% \n"
     ]
    },
    {
     "name": "stdout",
     "output_type": "stream",
     "text": [
      "../annotations/selex/PRJEB9797/ETV5_eDBD_1_KP_TACATA40NAGA.fastq.gz\n",
      "kmc -cs1322884 -k11 -ci1 -m8 ../annotations/selex/PRJEB9797/ETV5_eDBD_1_KP_TACATA40NAGA.fastq.gz NA kmc_tmp 1> in.txt 2> err.txt\n",
      "kmc_tools transform NA dump NA.txt\n"
     ]
    },
    {
     "name": "stderr",
     "output_type": "stream",
     "text": [
      "in1: 100% \n"
     ]
    },
    {
     "name": "stdout",
     "output_type": "stream",
     "text": [
      "5 out of 16\n",
      "../annotations/selex/PRJEB9797/ETV5_eDBD_1_KP_TGAGGG40NCTT.fastq.gz\n",
      "kmc -cs1324700 -k11 -ci1 -m8 ../annotations/selex/PRJEB9797/ETV5_eDBD_1_KP_TGAGGG40NCTT.fastq.gz NA kmc_tmp 1> in.txt 2> err.txt\n",
      "kmc_tools transform NA dump NA.txt\n"
     ]
    },
    {
     "name": "stderr",
     "output_type": "stream",
     "text": [
      "in1: 100% \n"
     ]
    },
    {
     "name": "stdout",
     "output_type": "stream",
     "text": [
      "../annotations/selex/PRJEB9797/ETV5_eDBD_2_KP_TACATA40NAGA.fastq.gz\n",
      "kmc -cs1698920 -k11 -ci1 -m8 ../annotations/selex/PRJEB9797/ETV5_eDBD_2_KP_TACATA40NAGA.fastq.gz NA kmc_tmp 1> in.txt 2> err.txt\n",
      "kmc_tools transform NA dump NA.txt\n"
     ]
    },
    {
     "name": "stderr",
     "output_type": "stream",
     "text": [
      "in1: 100% \n"
     ]
    },
    {
     "name": "stdout",
     "output_type": "stream",
     "text": [
      "../annotations/selex/PRJEB9797/ETV5_eDBD_2_KP_TGAGGG40NCTT.fastq.gz\n",
      "kmc -cs1469016 -k11 -ci1 -m8 ../annotations/selex/PRJEB9797/ETV5_eDBD_2_KP_TGAGGG40NCTT.fastq.gz NA kmc_tmp 1> in.txt 2> err.txt\n",
      "kmc_tools transform NA dump NA.txt\n"
     ]
    },
    {
     "name": "stderr",
     "output_type": "stream",
     "text": [
      "in1: 100% \n"
     ]
    },
    {
     "name": "stdout",
     "output_type": "stream",
     "text": [
      "../annotations/selex/PRJEB9797/ETV5_eDBD_3_KP_TACATA40NAGA.fastq.gz\n",
      "kmc -cs862488 -k11 -ci1 -m8 ../annotations/selex/PRJEB9797/ETV5_eDBD_3_KP_TACATA40NAGA.fastq.gz NA kmc_tmp 1> in.txt 2> err.txt\n",
      "kmc_tools transform NA dump NA.txt\n"
     ]
    },
    {
     "name": "stderr",
     "output_type": "stream",
     "text": [
      "in1: 100% \n"
     ]
    },
    {
     "name": "stdout",
     "output_type": "stream",
     "text": [
      "../annotations/selex/PRJEB9797/ETV5_eDBD_3_KP_TGAGGG40NCTT.fastq.gz\n",
      "kmc -cs580864 -k11 -ci1 -m8 ../annotations/selex/PRJEB9797/ETV5_eDBD_3_KP_TGAGGG40NCTT.fastq.gz NA kmc_tmp 1> in.txt 2> err.txt\n",
      "kmc_tools transform NA dump NA.txt\n"
     ]
    },
    {
     "name": "stderr",
     "output_type": "stream",
     "text": [
      "in1: 100% \n"
     ]
    },
    {
     "name": "stdout",
     "output_type": "stream",
     "text": [
      "10 out of 16\n",
      "../annotations/selex/PRJEB9797/ETV5_eDBD_4_KP_TACATA40NAGA.fastq.gz\n",
      "kmc -cs1468152 -k11 -ci1 -m8 ../annotations/selex/PRJEB9797/ETV5_eDBD_4_KP_TACATA40NAGA.fastq.gz NA kmc_tmp 1> in.txt 2> err.txt\n",
      "kmc_tools transform NA dump NA.txt\n"
     ]
    },
    {
     "name": "stderr",
     "output_type": "stream",
     "text": [
      "in1: 100% \n"
     ]
    },
    {
     "name": "stdout",
     "output_type": "stream",
     "text": [
      "../annotations/selex/PRJEB9797/ETV5_eDBD_4_KP_TGAGGG40NCTT.fastq.gz\n",
      "kmc -cs703412 -k11 -ci1 -m8 ../annotations/selex/PRJEB9797/ETV5_eDBD_4_KP_TGAGGG40NCTT.fastq.gz NA kmc_tmp 1> in.txt 2> err.txt\n",
      "kmc_tools transform NA dump NA.txt\n"
     ]
    },
    {
     "name": "stderr",
     "output_type": "stream",
     "text": [
      "in1: 100% \n"
     ]
    },
    {
     "name": "stdout",
     "output_type": "stream",
     "text": [
      "../annotations/selex/PRJEB14744/ZeroCycle_ES0_TGCACT20NGA_0.txt.gz\n",
      "kmc -cs187076 -k11 -ci1 -m8 ../annotations/selex/PRJEB14744/ZeroCycle_ES0_TGCACT20NGA_0.txt.gz NA kmc_tmp 1> in.txt 2> err.txt\n",
      "kmc_tools transform NA dump NA.txt\n"
     ]
    },
    {
     "name": "stderr",
     "output_type": "stream",
     "text": [
      "in1: 100% \n"
     ]
    },
    {
     "name": "stdout",
     "output_type": "stream",
     "text": [
      "../annotations/selex/PRJEB20112/ZeroCycle_TACATA40NAGA_0_0.fastq.gz\n",
      "kmc -cs547416 -k11 -ci1 -m8 ../annotations/selex/PRJEB20112/ZeroCycle_TACATA40NAGA_0_0.fastq.gz NA kmc_tmp 1> in.txt 2> err.txt\n",
      "kmc_tools transform NA dump NA.txt\n"
     ]
    },
    {
     "name": "stderr",
     "output_type": "stream",
     "text": [
      "in1: 100% \n"
     ]
    },
    {
     "name": "stdout",
     "output_type": "stream",
     "text": [
      "../annotations/selex/PRJEB20112/ZeroCycle_TGAGGG40NCTT_0_0.fastq.gz\n",
      "kmc -cs739216 -k11 -ci1 -m8 ../annotations/selex/PRJEB20112/ZeroCycle_TGAGGG40NCTT_0_0.fastq.gz NA kmc_tmp 1> in.txt 2> err.txt\n",
      "kmc_tools transform NA dump NA.txt\n"
     ]
    },
    {
     "name": "stderr",
     "output_type": "stream",
     "text": [
      "in1: 100% \n"
     ]
    },
    {
     "name": "stdout",
     "output_type": "stream",
     "text": [
      "15 out of 16\n",
      "../annotations/selex/PRJEB3289/ZeroCycle_TGCACT20NGA_0_0.fastq.gz\n",
      "kmc -cs30816 -k11 -ci1 -m8 ../annotations/selex/PRJEB3289/ZeroCycle_TGCACT20NGA_0_0.fastq.gz NA kmc_tmp 1> in.txt 2> err.txt\n",
      "kmc_tools transform NA dump NA.txt\n"
     ]
    },
    {
     "name": "stderr",
     "output_type": "stream",
     "text": [
      "in1: 100% \n"
     ]
    },
    {
     "name": "stdout",
     "output_type": "stream",
     "text": [
      "merging...\n",
      "merging done...\n",
      "transposing...\n",
      "convert to anndata...\n",
      "writing\n",
      "writing done...\n",
      "reading adata\n",
      "done...\n",
      "ETV6\n",
      "../../data/kmers_adata_ETV6_k11.h5ad\n",
      "0 out of 6\n",
      "../annotations/selex/PRJEB3289/ETV6_TGAGTG20NGA_AF_1.fastq.gz\n",
      "kmc -cs812052 -k11 -ci1 -m8 ../annotations/selex/PRJEB3289/ETV6_TGAGTG20NGA_AF_1.fastq.gz NA kmc_tmp 1> in.txt 2> err.txt\n",
      "kmc_tools transform NA dump NA.txt\n"
     ]
    },
    {
     "name": "stderr",
     "output_type": "stream",
     "text": [
      "in1: 100% \n"
     ]
    },
    {
     "name": "stdout",
     "output_type": "stream",
     "text": [
      "../annotations/selex/PRJEB3289/ETV6_TGAGTG20NGA_AF_2.fastq.gz\n",
      "kmc -cs921948 -k11 -ci1 -m8 ../annotations/selex/PRJEB3289/ETV6_TGAGTG20NGA_AF_2.fastq.gz NA kmc_tmp 1> in.txt 2> err.txt\n",
      "kmc_tools transform NA dump NA.txt\n"
     ]
    },
    {
     "name": "stderr",
     "output_type": "stream",
     "text": [
      "in1: 100% \n"
     ]
    },
    {
     "name": "stdout",
     "output_type": "stream",
     "text": [
      "../annotations/selex/PRJEB3289/ETV6_TGAGTG20NGA_AF_3.fastq.gz\n",
      "kmc -cs1092372 -k11 -ci1 -m8 ../annotations/selex/PRJEB3289/ETV6_TGAGTG20NGA_AF_3.fastq.gz NA kmc_tmp 1> in.txt 2> err.txt\n",
      "kmc_tools transform NA dump NA.txt\n"
     ]
    },
    {
     "name": "stderr",
     "output_type": "stream",
     "text": [
      "in1: 100% \n"
     ]
    },
    {
     "name": "stdout",
     "output_type": "stream",
     "text": [
      "../annotations/selex/PRJEB3289/ETV6_TGAGTG20NGA_AF_4.fastq.gz\n",
      "kmc -cs440164 -k11 -ci1 -m8 ../annotations/selex/PRJEB3289/ETV6_TGAGTG20NGA_AF_4.fastq.gz NA kmc_tmp 1> in.txt 2> err.txt\n",
      "kmc_tools transform NA dump NA.txt\n"
     ]
    },
    {
     "name": "stderr",
     "output_type": "stream",
     "text": [
      "in1: 100% \n"
     ]
    },
    {
     "name": "stdout",
     "output_type": "stream",
     "text": [
      "../annotations/selex/PRJEB14744/ZeroCycle_ES0_TGAGTG20NGA_0.txt.gz\n",
      "kmc -cs195324 -k11 -ci1 -m8 ../annotations/selex/PRJEB14744/ZeroCycle_ES0_TGAGTG20NGA_0.txt.gz NA kmc_tmp 1> in.txt 2> err.txt\n",
      "kmc_tools transform NA dump NA.txt\n"
     ]
    },
    {
     "name": "stderr",
     "output_type": "stream",
     "text": [
      "in1: 100% \n"
     ]
    },
    {
     "name": "stdout",
     "output_type": "stream",
     "text": [
      "5 out of 6\n",
      "../annotations/selex/PRJEB3289/ZeroCycle_TGAGTG20NGA_0_0.fastq.gz\n",
      "kmc -cs23836 -k11 -ci1 -m8 ../annotations/selex/PRJEB3289/ZeroCycle_TGAGTG20NGA_0_0.fastq.gz NA kmc_tmp 1> in.txt 2> err.txt\n",
      "kmc_tools transform NA dump NA.txt\n"
     ]
    },
    {
     "name": "stderr",
     "output_type": "stream",
     "text": [
      "in1: 100% \n"
     ]
    },
    {
     "name": "stdout",
     "output_type": "stream",
     "text": [
      "merging...\n",
      "merging done...\n",
      "transposing...\n",
      "convert to anndata...\n",
      "writing\n",
      "writing done...\n",
      "reading adata\n",
      "done...\n",
      "ELK1\n",
      "../../data/kmers_adata_ELK1_k11.h5ad\n",
      "reading adata\n",
      "done...\n",
      "ETS1\n",
      "../../data/kmers_adata_ETS1_k11.h5ad\n",
      "0 out of 14\n",
      "../annotations/selex/PRJEB3289/ETS1_TGTAAA20NGA_AF_1.fastq.gz\n",
      "kmc -cs723420 -k11 -ci1 -m8 ../annotations/selex/PRJEB3289/ETS1_TGTAAA20NGA_AF_1.fastq.gz NA kmc_tmp 1> in.txt 2> err.txt\n",
      "kmc_tools transform NA dump NA.txt\n"
     ]
    },
    {
     "name": "stderr",
     "output_type": "stream",
     "text": [
      "in1: 100% \n"
     ]
    },
    {
     "name": "stdout",
     "output_type": "stream",
     "text": [
      "../annotations/selex/PRJEB3289/ETS1_TGTAAA20NGA_AF_2.fastq.gz\n",
      "kmc -cs716984 -k11 -ci1 -m8 ../annotations/selex/PRJEB3289/ETS1_TGTAAA20NGA_AF_2.fastq.gz NA kmc_tmp 1> in.txt 2> err.txt\n",
      "kmc_tools transform NA dump NA.txt\n"
     ]
    },
    {
     "name": "stderr",
     "output_type": "stream",
     "text": [
      "in1: 100% \n"
     ]
    },
    {
     "name": "stdout",
     "output_type": "stream",
     "text": [
      "../annotations/selex/PRJEB3289/ETS1_TGTAAA20NGA_AF_3.fastq.gz\n",
      "kmc -cs920132 -k11 -ci1 -m8 ../annotations/selex/PRJEB3289/ETS1_TGTAAA20NGA_AF_3.fastq.gz NA kmc_tmp 1> in.txt 2> err.txt\n",
      "kmc_tools transform NA dump NA.txt\n"
     ]
    },
    {
     "name": "stderr",
     "output_type": "stream",
     "text": [
      "in1: 100% \n"
     ]
    },
    {
     "name": "stdout",
     "output_type": "stream",
     "text": [
      "../annotations/selex/PRJEB3289/ETS1_TGTAAA20NGA_AF_4.fastq.gz\n",
      "kmc -cs376716 -k11 -ci1 -m8 ../annotations/selex/PRJEB3289/ETS1_TGTAAA20NGA_AF_4.fastq.gz NA kmc_tmp 1> in.txt 2> err.txt\n",
      "kmc_tools transform NA dump NA.txt\n"
     ]
    },
    {
     "name": "stderr",
     "output_type": "stream",
     "text": [
      "in1: 100% \n"
     ]
    },
    {
     "name": "stdout",
     "output_type": "stream",
     "text": [
      "../annotations/selex/PRJEB3289/ETS1_TGTACC30NCAG_AI_1.fastq.gz\n",
      "kmc -cs1903084 -k11 -ci1 -m8 ../annotations/selex/PRJEB3289/ETS1_TGTACC30NCAG_AI_1.fastq.gz NA kmc_tmp 1> in.txt 2> err.txt\n",
      "kmc_tools transform NA dump NA.txt\n"
     ]
    },
    {
     "name": "stderr",
     "output_type": "stream",
     "text": [
      "in1: 100% \n"
     ]
    },
    {
     "name": "stdout",
     "output_type": "stream",
     "text": [
      "5 out of 14\n",
      "../annotations/selex/PRJEB3289/ETS1_TGTACC30NCAG_AI_2.fastq.gz\n",
      "kmc -cs1530056 -k11 -ci1 -m8 ../annotations/selex/PRJEB3289/ETS1_TGTACC30NCAG_AI_2.fastq.gz NA kmc_tmp 1> in.txt 2> err.txt\n",
      "kmc_tools transform NA dump NA.txt\n"
     ]
    },
    {
     "name": "stderr",
     "output_type": "stream",
     "text": [
      "in1: 100% \n"
     ]
    },
    {
     "name": "stdout",
     "output_type": "stream",
     "text": [
      "../annotations/selex/PRJEB3289/ETS1_TGTACC30NCAG_AI_3.fastq.gz\n",
      "kmc -cs2923368 -k11 -ci1 -m8 ../annotations/selex/PRJEB3289/ETS1_TGTACC30NCAG_AI_3.fastq.gz NA kmc_tmp 1> in.txt 2> err.txt\n",
      "kmc_tools transform NA dump NA.txt\n"
     ]
    },
    {
     "name": "stderr",
     "output_type": "stream",
     "text": [
      "in1: 100% \n"
     ]
    },
    {
     "name": "stdout",
     "output_type": "stream",
     "text": [
      "../annotations/selex/PRJEB3289/ETS1_TGTACC30NCAG_AI_4.fastq.gz\n",
      "kmc -cs2952356 -k11 -ci1 -m8 ../annotations/selex/PRJEB3289/ETS1_TGTACC30NCAG_AI_4.fastq.gz NA kmc_tmp 1> in.txt 2> err.txt\n",
      "kmc_tools transform NA dump NA.txt\n"
     ]
    },
    {
     "name": "stderr",
     "output_type": "stream",
     "text": [
      "in1: 100% \n"
     ]
    },
    {
     "name": "stdout",
     "output_type": "stream",
     "text": [
      "../annotations/selex/PRJEB3289/ETS1_TGTACC30NCAG_AI_5.fastq.gz\n",
      "kmc -cs3432020 -k11 -ci1 -m8 ../annotations/selex/PRJEB3289/ETS1_TGTACC30NCAG_AI_5.fastq.gz NA kmc_tmp 1> in.txt 2> err.txt\n",
      "kmc_tools transform NA dump NA.txt\n"
     ]
    },
    {
     "name": "stderr",
     "output_type": "stream",
     "text": [
      "in1: 100% \n"
     ]
    },
    {
     "name": "stdout",
     "output_type": "stream",
     "text": [
      "../annotations/selex/PRJEB3289/ETS1_TGTACC30NCAG_AI_6.fastq.gz\n",
      "kmc -cs2436836 -k11 -ci1 -m8 ../annotations/selex/PRJEB3289/ETS1_TGTACC30NCAG_AI_6.fastq.gz NA kmc_tmp 1> in.txt 2> err.txt\n",
      "kmc_tools transform NA dump NA.txt\n"
     ]
    },
    {
     "name": "stderr",
     "output_type": "stream",
     "text": [
      "in1: 100% \n"
     ]
    },
    {
     "name": "stdout",
     "output_type": "stream",
     "text": [
      "10 out of 14\n",
      "../annotations/selex/PRJEB14744/ZeroCycle_ES0_TGTAAA20NGA_0.txt.gz\n",
      "kmc -cs913828 -k11 -ci1 -m8 ../annotations/selex/PRJEB14744/ZeroCycle_ES0_TGTAAA20NGA_0.txt.gz NA kmc_tmp 1> in.txt 2> err.txt\n",
      "kmc_tools transform NA dump NA.txt\n"
     ]
    },
    {
     "name": "stderr",
     "output_type": "stream",
     "text": [
      "in1: 100% \n"
     ]
    },
    {
     "name": "stdout",
     "output_type": "stream",
     "text": [
      "../annotations/selex/PRJEB14744/ZeroCycle_ES0_TGTACC30NCAG_0.txt.gz\n",
      "kmc -cs2013964 -k11 -ci1 -m8 ../annotations/selex/PRJEB14744/ZeroCycle_ES0_TGTACC30NCAG_0.txt.gz NA kmc_tmp 1> in.txt 2> err.txt\n",
      "kmc_tools transform NA dump NA.txt\n"
     ]
    },
    {
     "name": "stderr",
     "output_type": "stream",
     "text": [
      "in1: 100% \n"
     ]
    },
    {
     "name": "stdout",
     "output_type": "stream",
     "text": [
      "../annotations/selex/PRJEB3289/ZeroCycle_TGTAAA20NGA_0_0.fastq.gz\n",
      "kmc -cs41724 -k11 -ci1 -m8 ../annotations/selex/PRJEB3289/ZeroCycle_TGTAAA20NGA_0_0.fastq.gz NA kmc_tmp 1> in.txt 2> err.txt\n",
      "kmc_tools transform NA dump NA.txt\n"
     ]
    },
    {
     "name": "stderr",
     "output_type": "stream",
     "text": [
      "in1: 100% \n"
     ]
    },
    {
     "name": "stdout",
     "output_type": "stream",
     "text": [
      "../annotations/selex/PRJEB3289/ZeroCycle_TGTACC30NCAG_0_0.fastq.gz\n",
      "kmc -cs486424 -k11 -ci1 -m8 ../annotations/selex/PRJEB3289/ZeroCycle_TGTACC30NCAG_0_0.fastq.gz NA kmc_tmp 1> in.txt 2> err.txt\n",
      "kmc_tools transform NA dump NA.txt\n"
     ]
    },
    {
     "name": "stderr",
     "output_type": "stream",
     "text": [
      "in1: 100% \n"
     ]
    },
    {
     "name": "stdout",
     "output_type": "stream",
     "text": [
      "merging...\n",
      "merging done...\n",
      "transposing...\n",
      "convert to anndata...\n",
      "writing\n",
      "writing done...\n",
      "reading adata\n",
      "done...\n",
      "ELF3\n",
      "../../data/kmers_adata_ELF3_k11.h5ad\n",
      "0 out of 26\n",
      "../annotations/selex/PRJEB3289/ELF3_TCCGTG20NTGC_Y_1.fastq.gz\n",
      "kmc -cs418100 -k11 -ci1 -m8 ../annotations/selex/PRJEB3289/ELF3_TCCGTG20NTGC_Y_1.fastq.gz NA kmc_tmp 1> in.txt 2> err.txt\n",
      "kmc_tools transform NA dump NA.txt\n"
     ]
    },
    {
     "name": "stderr",
     "output_type": "stream",
     "text": [
      "in1: 100% \n"
     ]
    },
    {
     "name": "stdout",
     "output_type": "stream",
     "text": [
      "../annotations/selex/PRJEB3289/ELF3_TCCGTG20NTGC_Y_2.fastq.gz\n",
      "kmc -cs399192 -k11 -ci1 -m8 ../annotations/selex/PRJEB3289/ELF3_TCCGTG20NTGC_Y_2.fastq.gz NA kmc_tmp 1> in.txt 2> err.txt\n",
      "kmc_tools transform NA dump NA.txt\n"
     ]
    },
    {
     "name": "stderr",
     "output_type": "stream",
     "text": [
      "in1: 100% \n"
     ]
    },
    {
     "name": "stdout",
     "output_type": "stream",
     "text": [
      "../annotations/selex/PRJEB3289/ELF3_TCCGTG20NTGC_Y_3.fastq.gz\n",
      "kmc -cs312496 -k11 -ci1 -m8 ../annotations/selex/PRJEB3289/ELF3_TCCGTG20NTGC_Y_3.fastq.gz NA kmc_tmp 1> in.txt 2> err.txt\n",
      "kmc_tools transform NA dump NA.txt\n"
     ]
    },
    {
     "name": "stderr",
     "output_type": "stream",
     "text": [
      "in1: 100% \n"
     ]
    },
    {
     "name": "stdout",
     "output_type": "stream",
     "text": [
      "../annotations/selex/PRJEB3289/ELF3_TCCGTG20NTGC_Y_4.fastq.gz\n",
      "kmc -cs479464 -k11 -ci1 -m8 ../annotations/selex/PRJEB3289/ELF3_TCCGTG20NTGC_Y_4.fastq.gz NA kmc_tmp 1> in.txt 2> err.txt\n",
      "kmc_tools transform NA dump NA.txt\n"
     ]
    },
    {
     "name": "stderr",
     "output_type": "stream",
     "text": [
      "in1: 100% \n"
     ]
    },
    {
     "name": "stdout",
     "output_type": "stream",
     "text": [
      "../annotations/selex/PRJEB9797/ELF3_eDBD_1_KP_TACATC40NATA.fastq.gz\n",
      "kmc -cs1156332 -k11 -ci1 -m8 ../annotations/selex/PRJEB9797/ELF3_eDBD_1_KP_TACATC40NATA.fastq.gz NA kmc_tmp 1> in.txt 2> err.txt\n",
      "kmc_tools transform NA dump NA.txt\n"
     ]
    },
    {
     "name": "stderr",
     "output_type": "stream",
     "text": [
      "in1: 100% \n"
     ]
    },
    {
     "name": "stdout",
     "output_type": "stream",
     "text": [
      "5 out of 26\n",
      "../annotations/selex/PRJEB9797/ELF3_eDBD_1_KP_TCCTCT40NGTC.fastq.gz\n",
      "kmc -cs1108104 -k11 -ci1 -m8 ../annotations/selex/PRJEB9797/ELF3_eDBD_1_KP_TCCTCT40NGTC.fastq.gz NA kmc_tmp 1> in.txt 2> err.txt\n",
      "kmc_tools transform NA dump NA.txt\n"
     ]
    },
    {
     "name": "stderr",
     "output_type": "stream",
     "text": [
      "in1: 100% \n"
     ]
    },
    {
     "name": "stdout",
     "output_type": "stream",
     "text": [
      "../annotations/selex/PRJEB9797/ELF3_eDBD_2_KP_TACATC40NATA.fastq.gz\n",
      "kmc -cs1343868 -k11 -ci1 -m8 ../annotations/selex/PRJEB9797/ELF3_eDBD_2_KP_TACATC40NATA.fastq.gz NA kmc_tmp 1> in.txt 2> err.txt\n",
      "kmc_tools transform NA dump NA.txt\n"
     ]
    },
    {
     "name": "stderr",
     "output_type": "stream",
     "text": [
      "in1: 100% \n"
     ]
    },
    {
     "name": "stdout",
     "output_type": "stream",
     "text": [
      "../annotations/selex/PRJEB9797/ELF3_eDBD_2_KP_TCCTCT40NGTC.fastq.gz\n",
      "kmc -cs1724396 -k11 -ci1 -m8 ../annotations/selex/PRJEB9797/ELF3_eDBD_2_KP_TCCTCT40NGTC.fastq.gz NA kmc_tmp 1> in.txt 2> err.txt\n",
      "kmc_tools transform NA dump NA.txt\n"
     ]
    },
    {
     "name": "stderr",
     "output_type": "stream",
     "text": [
      "in1: 100% \n"
     ]
    },
    {
     "name": "stdout",
     "output_type": "stream",
     "text": [
      "../annotations/selex/PRJEB9797/ELF3_eDBD_3_KP_TACATC40NATA.fastq.gz\n",
      "kmc -cs824164 -k11 -ci1 -m8 ../annotations/selex/PRJEB9797/ELF3_eDBD_3_KP_TACATC40NATA.fastq.gz NA kmc_tmp 1> in.txt 2> err.txt\n",
      "kmc_tools transform NA dump NA.txt\n"
     ]
    },
    {
     "name": "stderr",
     "output_type": "stream",
     "text": [
      "in1: 100% \n"
     ]
    },
    {
     "name": "stdout",
     "output_type": "stream",
     "text": [
      "../annotations/selex/PRJEB9797/ELF3_eDBD_3_KP_TCCTCT40NGTC.fastq.gz\n",
      "kmc -cs1499856 -k11 -ci1 -m8 ../annotations/selex/PRJEB9797/ELF3_eDBD_3_KP_TCCTCT40NGTC.fastq.gz NA kmc_tmp 1> in.txt 2> err.txt\n",
      "kmc_tools transform NA dump NA.txt\n"
     ]
    },
    {
     "name": "stderr",
     "output_type": "stream",
     "text": [
      "in1: 100% \n"
     ]
    },
    {
     "name": "stdout",
     "output_type": "stream",
     "text": [
      "10 out of 26\n",
      "../annotations/selex/PRJEB9797/ELF3_eDBD_4_KP_TACATC40NATA.fastq.gz\n",
      "kmc -cs734480 -k11 -ci1 -m8 ../annotations/selex/PRJEB9797/ELF3_eDBD_4_KP_TACATC40NATA.fastq.gz NA kmc_tmp 1> in.txt 2> err.txt\n",
      "kmc_tools transform NA dump NA.txt\n"
     ]
    },
    {
     "name": "stderr",
     "output_type": "stream",
     "text": [
      "in1: 100% \n"
     ]
    },
    {
     "name": "stdout",
     "output_type": "stream",
     "text": [
      "../annotations/selex/PRJEB9797/ELF3_eDBD_4_KP_TCCTCT40NGTC.fastq.gz\n",
      "kmc -cs869568 -k11 -ci1 -m8 ../annotations/selex/PRJEB9797/ELF3_eDBD_4_KP_TCCTCT40NGTC.fastq.gz NA kmc_tmp 1> in.txt 2> err.txt\n",
      "kmc_tools transform NA dump NA.txt\n"
     ]
    },
    {
     "name": "stderr",
     "output_type": "stream",
     "text": [
      "in1: 100% \n"
     ]
    },
    {
     "name": "stdout",
     "output_type": "stream",
     "text": [
      "../annotations/selex/PRJEB9797/ELF3_FL_1_KW_TATGTA40NTGT.fastq.gz\n",
      "kmc -cs498740 -k11 -ci1 -m8 ../annotations/selex/PRJEB9797/ELF3_FL_1_KW_TATGTA40NTGT.fastq.gz NA kmc_tmp 1> in.txt 2> err.txt\n",
      "kmc_tools transform NA dump NA.txt\n"
     ]
    },
    {
     "name": "stderr",
     "output_type": "stream",
     "text": [
      "in1: 100% \n"
     ]
    },
    {
     "name": "stdout",
     "output_type": "stream",
     "text": [
      "../annotations/selex/PRJEB9797/ELF3_FL_1_KW_TCTAAC40NACC.fastq.gz\n",
      "kmc -cs700948 -k11 -ci1 -m8 ../annotations/selex/PRJEB9797/ELF3_FL_1_KW_TCTAAC40NACC.fastq.gz NA kmc_tmp 1> in.txt 2> err.txt\n",
      "kmc_tools transform NA dump NA.txt\n"
     ]
    },
    {
     "name": "stderr",
     "output_type": "stream",
     "text": [
      "in1: 100% \n"
     ]
    },
    {
     "name": "stdout",
     "output_type": "stream",
     "text": [
      "../annotations/selex/PRJEB9797/ELF3_FL_2_KW_TATGTA40NTGT.fastq.gz\n",
      "kmc -cs401524 -k11 -ci1 -m8 ../annotations/selex/PRJEB9797/ELF3_FL_2_KW_TATGTA40NTGT.fastq.gz NA kmc_tmp 1> in.txt 2> err.txt\n",
      "kmc_tools transform NA dump NA.txt\n"
     ]
    },
    {
     "name": "stderr",
     "output_type": "stream",
     "text": [
      "in1: 100% \n"
     ]
    },
    {
     "name": "stdout",
     "output_type": "stream",
     "text": [
      "15 out of 26\n",
      "../annotations/selex/PRJEB9797/ELF3_FL_2_KW_TCTAAC40NACC.fastq.gz\n",
      "kmc -cs416552 -k11 -ci1 -m8 ../annotations/selex/PRJEB9797/ELF3_FL_2_KW_TCTAAC40NACC.fastq.gz NA kmc_tmp 1> in.txt 2> err.txt\n",
      "kmc_tools transform NA dump NA.txt\n"
     ]
    },
    {
     "name": "stderr",
     "output_type": "stream",
     "text": [
      "in1: 100% \n"
     ]
    },
    {
     "name": "stdout",
     "output_type": "stream",
     "text": [
      "../annotations/selex/PRJEB9797/ELF3_FL_3_KW_TATGTA40NTGT.fastq.gz\n",
      "kmc -cs760652 -k11 -ci1 -m8 ../annotations/selex/PRJEB9797/ELF3_FL_3_KW_TATGTA40NTGT.fastq.gz NA kmc_tmp 1> in.txt 2> err.txt\n",
      "kmc_tools transform NA dump NA.txt\n"
     ]
    },
    {
     "name": "stderr",
     "output_type": "stream",
     "text": [
      "in1: 100% \n"
     ]
    },
    {
     "name": "stdout",
     "output_type": "stream",
     "text": [
      "../annotations/selex/PRJEB9797/ELF3_FL_3_KW_TCTAAC40NACC.fastq.gz\n",
      "kmc -cs868472 -k11 -ci1 -m8 ../annotations/selex/PRJEB9797/ELF3_FL_3_KW_TCTAAC40NACC.fastq.gz NA kmc_tmp 1> in.txt 2> err.txt\n",
      "kmc_tools transform NA dump NA.txt\n"
     ]
    },
    {
     "name": "stderr",
     "output_type": "stream",
     "text": [
      "in1: 100% \n"
     ]
    },
    {
     "name": "stdout",
     "output_type": "stream",
     "text": [
      "../annotations/selex/PRJEB9797/ELF3_FL_4_KW_TATGTA40NTGT.fastq.gz\n",
      "kmc -cs705196 -k11 -ci1 -m8 ../annotations/selex/PRJEB9797/ELF3_FL_4_KW_TATGTA40NTGT.fastq.gz NA kmc_tmp 1> in.txt 2> err.txt\n",
      "kmc_tools transform NA dump NA.txt\n"
     ]
    },
    {
     "name": "stderr",
     "output_type": "stream",
     "text": [
      "in1: 100% \n"
     ]
    },
    {
     "name": "stdout",
     "output_type": "stream",
     "text": [
      "../annotations/selex/PRJEB9797/ELF3_FL_4_KW_TCTAAC40NACC.fastq.gz\n",
      "kmc -cs645724 -k11 -ci1 -m8 ../annotations/selex/PRJEB9797/ELF3_FL_4_KW_TCTAAC40NACC.fastq.gz NA kmc_tmp 1> in.txt 2> err.txt\n",
      "kmc_tools transform NA dump NA.txt\n"
     ]
    },
    {
     "name": "stderr",
     "output_type": "stream",
     "text": [
      "in1: 100% \n"
     ]
    },
    {
     "name": "stdout",
     "output_type": "stream",
     "text": [
      "20 out of 26\n",
      "../annotations/selex/PRJEB14744/ZeroCycle_ES0_TCCGTG20NTGC_0.txt.gz\n",
      "kmc -cs4291460 -k11 -ci1 -m8 ../annotations/selex/PRJEB14744/ZeroCycle_ES0_TCCGTG20NTGC_0.txt.gz NA kmc_tmp 1> in.txt 2> err.txt\n",
      "kmc_tools transform NA dump NA.txt\n"
     ]
    },
    {
     "name": "stderr",
     "output_type": "stream",
     "text": [
      "in1: 100% \n"
     ]
    },
    {
     "name": "stdout",
     "output_type": "stream",
     "text": [
      "../annotations/selex/PRJEB20112/ZeroCycle_TACATC40NATA_0_0.fastq.gz\n",
      "kmc -cs584020 -k11 -ci1 -m8 ../annotations/selex/PRJEB20112/ZeroCycle_TACATC40NATA_0_0.fastq.gz NA kmc_tmp 1> in.txt 2> err.txt\n",
      "kmc_tools transform NA dump NA.txt\n"
     ]
    },
    {
     "name": "stderr",
     "output_type": "stream",
     "text": [
      "in1: 100% \n"
     ]
    },
    {
     "name": "stdout",
     "output_type": "stream",
     "text": [
      "../annotations/selex/PRJEB20112/ZeroCycle_TATGTA40NTGT_0_0.fastq.gz\n",
      "kmc -cs485500 -k11 -ci1 -m8 ../annotations/selex/PRJEB20112/ZeroCycle_TATGTA40NTGT_0_0.fastq.gz NA kmc_tmp 1> in.txt 2> err.txt\n",
      "kmc_tools transform NA dump NA.txt\n"
     ]
    },
    {
     "name": "stderr",
     "output_type": "stream",
     "text": [
      "in1: 100% \n"
     ]
    },
    {
     "name": "stdout",
     "output_type": "stream",
     "text": [
      "../annotations/selex/PRJEB20112/ZeroCycle_TCCTCT40NGTC_0_0.fastq.gz\n",
      "kmc -cs989376 -k11 -ci1 -m8 ../annotations/selex/PRJEB20112/ZeroCycle_TCCTCT40NGTC_0_0.fastq.gz NA kmc_tmp 1> in.txt 2> err.txt\n",
      "kmc_tools transform NA dump NA.txt\n"
     ]
    },
    {
     "name": "stderr",
     "output_type": "stream",
     "text": [
      "in1: 100% \n"
     ]
    },
    {
     "name": "stdout",
     "output_type": "stream",
     "text": [
      "../annotations/selex/PRJEB20112/ZeroCycle_TCTAAC40NACC_0_0.fastq.gz\n",
      "kmc -cs739796 -k11 -ci1 -m8 ../annotations/selex/PRJEB20112/ZeroCycle_TCTAAC40NACC_0_0.fastq.gz NA kmc_tmp 1> in.txt 2> err.txt\n",
      "kmc_tools transform NA dump NA.txt\n"
     ]
    },
    {
     "name": "stderr",
     "output_type": "stream",
     "text": [
      "in1: 100% \n"
     ]
    },
    {
     "name": "stdout",
     "output_type": "stream",
     "text": [
      "25 out of 26\n",
      "25 out of 26\n",
      "../annotations/selex/PRJEB3289/ZeroCycle_TCCGTG20NTGC_0_0.fastq.gz\n",
      "kmc -cs539832 -k11 -ci1 -m8 ../annotations/selex/PRJEB3289/ZeroCycle_TCCGTG20NTGC_0_0.fastq.gz NA kmc_tmp 1> in.txt 2> err.txt\n",
      "kmc_tools transform NA dump NA.txt\n"
     ]
    },
    {
     "name": "stderr",
     "output_type": "stream",
     "text": [
      "in1: 100% \n"
     ]
    },
    {
     "name": "stdout",
     "output_type": "stream",
     "text": [
      "merging...\n",
      "merging done...\n",
      "transposing...\n",
      "convert to anndata...\n",
      "writing\n",
      "writing done...\n",
      "reading adata\n",
      "done...\n",
      "CTCF\n",
      "../../data/kmers_adata_CTCF_k11.h5ad\n",
      "reading adata\n",
      "done...\n",
      "ALX1\n",
      "../../data/kmers_adata_ALX1_k11.h5ad\n",
      "reading adata\n",
      "done...\n",
      "FOXA1\n",
      "../../data/kmers_adata_FOXA1_k11.h5ad\n",
      "0 out of 20\n",
      "../annotations/selex/PRJEB9797/FOXA1_eDBD_1_KN_TCCCAA40NGAA.fastq.gz\n",
      "kmc -cs1315012 -k11 -ci1 -m8 ../annotations/selex/PRJEB9797/FOXA1_eDBD_1_KN_TCCCAA40NGAA.fastq.gz NA kmc_tmp 1> in.txt 2> err.txt\n",
      "kmc_tools transform NA dump NA.txt\n"
     ]
    },
    {
     "name": "stderr",
     "output_type": "stream",
     "text": [
      "in1: 100% \n"
     ]
    },
    {
     "name": "stdout",
     "output_type": "stream",
     "text": [
      "../annotations/selex/PRJEB9797/FOXA1_eDBD_1_KN_TTCTAA40NAAT.fastq.gz\n",
      "kmc -cs887824 -k11 -ci1 -m8 ../annotations/selex/PRJEB9797/FOXA1_eDBD_1_KN_TTCTAA40NAAT.fastq.gz NA kmc_tmp 1> in.txt 2> err.txt\n",
      "kmc_tools transform NA dump NA.txt\n"
     ]
    },
    {
     "name": "stderr",
     "output_type": "stream",
     "text": [
      "in1: 100% \n"
     ]
    },
    {
     "name": "stdout",
     "output_type": "stream",
     "text": [
      "../annotations/selex/PRJEB9797/FOXA1_eDBD_2_KN_TCCCAA40NGAA.fastq.gz\n",
      "kmc -cs1194476 -k11 -ci1 -m8 ../annotations/selex/PRJEB9797/FOXA1_eDBD_2_KN_TCCCAA40NGAA.fastq.gz NA kmc_tmp 1> in.txt 2> err.txt\n",
      "kmc_tools transform NA dump NA.txt\n"
     ]
    },
    {
     "name": "stderr",
     "output_type": "stream",
     "text": [
      "in1: 100% \n"
     ]
    },
    {
     "name": "stdout",
     "output_type": "stream",
     "text": [
      "../annotations/selex/PRJEB9797/FOXA1_eDBD_2_KN_TTCTAA40NAAT.fastq.gz\n",
      "kmc -cs996864 -k11 -ci1 -m8 ../annotations/selex/PRJEB9797/FOXA1_eDBD_2_KN_TTCTAA40NAAT.fastq.gz NA kmc_tmp 1> in.txt 2> err.txt\n",
      "kmc_tools transform NA dump NA.txt\n"
     ]
    },
    {
     "name": "stderr",
     "output_type": "stream",
     "text": [
      "in1: 100% \n"
     ]
    },
    {
     "name": "stdout",
     "output_type": "stream",
     "text": [
      "../annotations/selex/PRJEB9797/FOXA1_eDBD_3_KN_TCCCAA40NGAA.fastq.gz\n",
      "kmc -cs808304 -k11 -ci1 -m8 ../annotations/selex/PRJEB9797/FOXA1_eDBD_3_KN_TCCCAA40NGAA.fastq.gz NA kmc_tmp 1> in.txt 2> err.txt\n",
      "kmc_tools transform NA dump NA.txt\n"
     ]
    },
    {
     "name": "stderr",
     "output_type": "stream",
     "text": [
      "in1: 100% \n"
     ]
    },
    {
     "name": "stdout",
     "output_type": "stream",
     "text": [
      "5 out of 20\n",
      "../annotations/selex/PRJEB9797/FOXA1_eDBD_3_KN_TTCTAA40NAAT.fastq.gz\n",
      "kmc -cs1266716 -k11 -ci1 -m8 ../annotations/selex/PRJEB9797/FOXA1_eDBD_3_KN_TTCTAA40NAAT.fastq.gz NA kmc_tmp 1> in.txt 2> err.txt\n",
      "kmc_tools transform NA dump NA.txt\n"
     ]
    },
    {
     "name": "stderr",
     "output_type": "stream",
     "text": [
      "in1: 100% \n"
     ]
    },
    {
     "name": "stdout",
     "output_type": "stream",
     "text": [
      "../annotations/selex/PRJEB9797/FOXA1_eDBD_4_KN_TCCCAA40NGAA.fastq.gz\n",
      "kmc -cs1422176 -k11 -ci1 -m8 ../annotations/selex/PRJEB9797/FOXA1_eDBD_4_KN_TCCCAA40NGAA.fastq.gz NA kmc_tmp 1> in.txt 2> err.txt\n",
      "kmc_tools transform NA dump NA.txt\n"
     ]
    },
    {
     "name": "stderr",
     "output_type": "stream",
     "text": [
      "in1: 100% \n"
     ]
    },
    {
     "name": "stdout",
     "output_type": "stream",
     "text": [
      "../annotations/selex/PRJEB9797/FOXA1_eDBD_4_KN_TTCTAA40NAAT.fastq.gz\n",
      "kmc -cs1035244 -k11 -ci1 -m8 ../annotations/selex/PRJEB9797/FOXA1_eDBD_4_KN_TTCTAA40NAAT.fastq.gz NA kmc_tmp 1> in.txt 2> err.txt\n",
      "kmc_tools transform NA dump NA.txt\n"
     ]
    },
    {
     "name": "stderr",
     "output_type": "stream",
     "text": [
      "in1: 100% \n"
     ]
    },
    {
     "name": "stdout",
     "output_type": "stream",
     "text": [
      "../annotations/selex/PRJEB9797/FOXA1_FL_1_KX_TAGCGT40NTCA.fastq.gz\n",
      "kmc -cs783084 -k11 -ci1 -m8 ../annotations/selex/PRJEB9797/FOXA1_FL_1_KX_TAGCGT40NTCA.fastq.gz NA kmc_tmp 1> in.txt 2> err.txt\n",
      "kmc_tools transform NA dump NA.txt\n"
     ]
    },
    {
     "name": "stderr",
     "output_type": "stream",
     "text": [
      "in1: 100% \n"
     ]
    },
    {
     "name": "stdout",
     "output_type": "stream",
     "text": [
      "../annotations/selex/PRJEB9797/FOXA1_FL_1_KX_TCCCAT40NTGT.fastq.gz\n",
      "kmc -cs922092 -k11 -ci1 -m8 ../annotations/selex/PRJEB9797/FOXA1_FL_1_KX_TCCCAT40NTGT.fastq.gz NA kmc_tmp 1> in.txt 2> err.txt\n",
      "kmc_tools transform NA dump NA.txt\n"
     ]
    },
    {
     "name": "stderr",
     "output_type": "stream",
     "text": [
      "in1: 100% \n"
     ]
    },
    {
     "name": "stdout",
     "output_type": "stream",
     "text": [
      "10 out of 20\n",
      "../annotations/selex/PRJEB9797/FOXA1_FL_2_KX_TAGCGT40NTCA.fastq.gz\n",
      "kmc -cs660452 -k11 -ci1 -m8 ../annotations/selex/PRJEB9797/FOXA1_FL_2_KX_TAGCGT40NTCA.fastq.gz NA kmc_tmp 1> in.txt 2> err.txt\n",
      "kmc_tools transform NA dump NA.txt\n"
     ]
    },
    {
     "name": "stderr",
     "output_type": "stream",
     "text": [
      "in1: 100% \n"
     ]
    },
    {
     "name": "stdout",
     "output_type": "stream",
     "text": [
      "../annotations/selex/PRJEB9797/FOXA1_FL_2_KX_TCCCAT40NTGT.fastq.gz\n",
      "kmc -cs700736 -k11 -ci1 -m8 ../annotations/selex/PRJEB9797/FOXA1_FL_2_KX_TCCCAT40NTGT.fastq.gz NA kmc_tmp 1> in.txt 2> err.txt\n",
      "kmc_tools transform NA dump NA.txt\n"
     ]
    },
    {
     "name": "stderr",
     "output_type": "stream",
     "text": [
      "in1: 100% \n"
     ]
    },
    {
     "name": "stdout",
     "output_type": "stream",
     "text": [
      "../annotations/selex/PRJEB9797/FOXA1_FL_3_KX_TAGCGT40NTCA.fastq.gz\n",
      "kmc -cs1012408 -k11 -ci1 -m8 ../annotations/selex/PRJEB9797/FOXA1_FL_3_KX_TAGCGT40NTCA.fastq.gz NA kmc_tmp 1> in.txt 2> err.txt\n",
      "kmc_tools transform NA dump NA.txt\n"
     ]
    },
    {
     "name": "stderr",
     "output_type": "stream",
     "text": [
      "in1: 100% \n"
     ]
    },
    {
     "name": "stdout",
     "output_type": "stream",
     "text": [
      "../annotations/selex/PRJEB9797/FOXA1_FL_3_KX_TCCCAT40NTGT.fastq.gz\n",
      "kmc -cs1162464 -k11 -ci1 -m8 ../annotations/selex/PRJEB9797/FOXA1_FL_3_KX_TCCCAT40NTGT.fastq.gz NA kmc_tmp 1> in.txt 2> err.txt\n",
      "kmc_tools transform NA dump NA.txt\n"
     ]
    },
    {
     "name": "stderr",
     "output_type": "stream",
     "text": [
      "in1: 100% \n"
     ]
    },
    {
     "name": "stdout",
     "output_type": "stream",
     "text": [
      "../annotations/selex/PRJEB9797/FOXA1_FL_4_KX_TAGCGT40NTCA.fastq.gz\n",
      "kmc -cs1222636 -k11 -ci1 -m8 ../annotations/selex/PRJEB9797/FOXA1_FL_4_KX_TAGCGT40NTCA.fastq.gz NA kmc_tmp 1> in.txt 2> err.txt\n",
      "kmc_tools transform NA dump NA.txt\n"
     ]
    },
    {
     "name": "stderr",
     "output_type": "stream",
     "text": [
      "in1: 100% \n"
     ]
    },
    {
     "name": "stdout",
     "output_type": "stream",
     "text": [
      "15 out of 20\n",
      "../annotations/selex/PRJEB9797/FOXA1_FL_4_KX_TCCCAT40NTGT.fastq.gz\n",
      "kmc -cs1074620 -k11 -ci1 -m8 ../annotations/selex/PRJEB9797/FOXA1_FL_4_KX_TCCCAT40NTGT.fastq.gz NA kmc_tmp 1> in.txt 2> err.txt\n",
      "kmc_tools transform NA dump NA.txt\n"
     ]
    },
    {
     "name": "stderr",
     "output_type": "stream",
     "text": [
      "in1: 100% \n"
     ]
    },
    {
     "name": "stdout",
     "output_type": "stream",
     "text": [
      "../annotations/selex/PRJEB20112/ZeroCycle_TAGCGT40NTCA_0_0.fastq.gz\n",
      "kmc -cs592200 -k11 -ci1 -m8 ../annotations/selex/PRJEB20112/ZeroCycle_TAGCGT40NTCA_0_0.fastq.gz NA kmc_tmp 1> in.txt 2> err.txt\n",
      "kmc_tools transform NA dump NA.txt\n"
     ]
    },
    {
     "name": "stderr",
     "output_type": "stream",
     "text": [
      "in1: 100% \n"
     ]
    },
    {
     "name": "stdout",
     "output_type": "stream",
     "text": [
      "../annotations/selex/PRJEB20112/ZeroCycle_TCCCAA40NGAA_0_0.fastq.gz\n",
      "kmc -cs817064 -k11 -ci1 -m8 ../annotations/selex/PRJEB20112/ZeroCycle_TCCCAA40NGAA_0_0.fastq.gz NA kmc_tmp 1> in.txt 2> err.txt\n",
      "kmc_tools transform NA dump NA.txt\n"
     ]
    },
    {
     "name": "stderr",
     "output_type": "stream",
     "text": [
      "in1: 100% \n"
     ]
    },
    {
     "name": "stdout",
     "output_type": "stream",
     "text": [
      "../annotations/selex/PRJEB20112/ZeroCycle_TCCCAT40NTGT_0_0.fastq.gz\n",
      "kmc -cs1710404 -k11 -ci1 -m8 ../annotations/selex/PRJEB20112/ZeroCycle_TCCCAT40NTGT_0_0.fastq.gz NA kmc_tmp 1> in.txt 2> err.txt\n",
      "kmc_tools transform NA dump NA.txt\n"
     ]
    },
    {
     "name": "stderr",
     "output_type": "stream",
     "text": [
      "in1: 100% \n"
     ]
    },
    {
     "name": "stdout",
     "output_type": "stream",
     "text": [
      "../annotations/selex/PRJEB20112/ZeroCycle_TTCTAA40NAAT_0_0.fastq.gz\n",
      "kmc -cs814332 -k11 -ci1 -m8 ../annotations/selex/PRJEB20112/ZeroCycle_TTCTAA40NAAT_0_0.fastq.gz NA kmc_tmp 1> in.txt 2> err.txt\n",
      "kmc_tools transform NA dump NA.txt\n"
     ]
    },
    {
     "name": "stderr",
     "output_type": "stream",
     "text": [
      "in1: 100% \n"
     ]
    },
    {
     "name": "stdout",
     "output_type": "stream",
     "text": [
      "merging...\n",
      "merging done...\n",
      "transposing...\n",
      "convert to anndata...\n",
      "writing\n",
      "writing done...\n",
      "reading adata\n",
      "done...\n",
      "EGR1\n",
      "../../data/kmers_adata_EGR1_k11.h5ad\n",
      "0 out of 31\n",
      "../annotations/selex/PRJEB3289/EGR1_TACTAT20NATC_AA_2.fastq.gz\n",
      "kmc -cs225136 -k11 -ci1 -m8 ../annotations/selex/PRJEB3289/EGR1_TACTAT20NATC_AA_2.fastq.gz NA kmc_tmp 1> in.txt 2> err.txt\n",
      "kmc_tools transform NA dump NA.txt\n"
     ]
    },
    {
     "name": "stderr",
     "output_type": "stream",
     "text": [
      "in1: 100% \n"
     ]
    },
    {
     "name": "stdout",
     "output_type": "stream",
     "text": [
      "../annotations/selex/PRJEB3289/EGR1_TACTAT20NATC_AA_3.fastq.gz\n",
      "kmc -cs1066976 -k11 -ci1 -m8 ../annotations/selex/PRJEB3289/EGR1_TACTAT20NATC_AA_3.fastq.gz NA kmc_tmp 1> in.txt 2> err.txt\n",
      "kmc_tools transform NA dump NA.txt\n"
     ]
    },
    {
     "name": "stderr",
     "output_type": "stream",
     "text": [
      "in1: 100% \n"
     ]
    },
    {
     "name": "stdout",
     "output_type": "stream",
     "text": [
      "../annotations/selex/PRJEB3289/EGR1_TACTAT20NATC_AA_4.fastq.gz\n",
      "kmc -cs595000 -k11 -ci1 -m8 ../annotations/selex/PRJEB3289/EGR1_TACTAT20NATC_AA_4.fastq.gz NA kmc_tmp 1> in.txt 2> err.txt\n",
      "kmc_tools transform NA dump NA.txt\n"
     ]
    },
    {
     "name": "stderr",
     "output_type": "stream",
     "text": [
      "in1: 100% \n"
     ]
    },
    {
     "name": "stdout",
     "output_type": "stream",
     "text": [
      "../annotations/selex/PRJEB3289/EGR1_TCTCTT20NGA_Y_1.fastq.gz\n",
      "kmc -cs184064 -k11 -ci1 -m8 ../annotations/selex/PRJEB3289/EGR1_TCTCTT20NGA_Y_1.fastq.gz NA kmc_tmp 1> in.txt 2> err.txt\n",
      "kmc_tools transform NA dump NA.txt\n"
     ]
    },
    {
     "name": "stderr",
     "output_type": "stream",
     "text": [
      "in1: 100% \n"
     ]
    },
    {
     "name": "stdout",
     "output_type": "stream",
     "text": [
      "../annotations/selex/PRJEB3289/EGR1_TCTCTT20NGA_Y_2.fastq.gz\n",
      "kmc -cs278340 -k11 -ci1 -m8 ../annotations/selex/PRJEB3289/EGR1_TCTCTT20NGA_Y_2.fastq.gz NA kmc_tmp 1> in.txt 2> err.txt\n",
      "kmc_tools transform NA dump NA.txt\n"
     ]
    },
    {
     "name": "stderr",
     "output_type": "stream",
     "text": [
      "in1: 100% \n"
     ]
    },
    {
     "name": "stdout",
     "output_type": "stream",
     "text": [
      "5 out of 31\n",
      "../annotations/selex/PRJEB3289/EGR1_TCTCTT20NGA_Y_3.fastq.gz\n",
      "kmc -cs305224 -k11 -ci1 -m8 ../annotations/selex/PRJEB3289/EGR1_TCTCTT20NGA_Y_3.fastq.gz NA kmc_tmp 1> in.txt 2> err.txt\n",
      "kmc_tools transform NA dump NA.txt\n"
     ]
    },
    {
     "name": "stderr",
     "output_type": "stream",
     "text": [
      "in1: 100% \n"
     ]
    },
    {
     "name": "stdout",
     "output_type": "stream",
     "text": [
      "../annotations/selex/PRJEB3289/EGR1_TCTCTT20NGA_Y_4.fastq.gz\n",
      "kmc -cs390820 -k11 -ci1 -m8 ../annotations/selex/PRJEB3289/EGR1_TCTCTT20NGA_Y_4.fastq.gz NA kmc_tmp 1> in.txt 2> err.txt\n",
      "kmc_tools transform NA dump NA.txt\n"
     ]
    },
    {
     "name": "stderr",
     "output_type": "stream",
     "text": [
      "in1: 100% \n"
     ]
    },
    {
     "name": "stdout",
     "output_type": "stream",
     "text": [
      "../annotations/selex/PRJEB9797/EGR1_eDBD_1_KAN_TAGACA40NGTC.fastq.gz\n",
      "kmc -cs1694400 -k11 -ci1 -m8 ../annotations/selex/PRJEB9797/EGR1_eDBD_1_KAN_TAGACA40NGTC.fastq.gz NA kmc_tmp 1> in.txt 2> err.txt\n",
      "kmc_tools transform NA dump NA.txt\n"
     ]
    },
    {
     "name": "stderr",
     "output_type": "stream",
     "text": [
      "in1: 100% \n"
     ]
    },
    {
     "name": "stdout",
     "output_type": "stream",
     "text": [
      "../annotations/selex/PRJEB9797/EGR1_eDBD_1_KAN_TCCGCT40NGCG.fastq.gz\n",
      "kmc -cs1434160 -k11 -ci1 -m8 ../annotations/selex/PRJEB9797/EGR1_eDBD_1_KAN_TCCGCT40NGCG.fastq.gz NA kmc_tmp 1> in.txt 2> err.txt\n",
      "kmc_tools transform NA dump NA.txt\n"
     ]
    },
    {
     "name": "stderr",
     "output_type": "stream",
     "text": [
      "in1: 100% \n"
     ]
    },
    {
     "name": "stdout",
     "output_type": "stream",
     "text": [
      "../annotations/selex/PRJEB9797/EGR1_eDBD_1_KR_TCAGCC40NTTC.fastq.gz\n",
      "kmc -cs1652788 -k11 -ci1 -m8 ../annotations/selex/PRJEB9797/EGR1_eDBD_1_KR_TCAGCC40NTTC.fastq.gz NA kmc_tmp 1> in.txt 2> err.txt\n",
      "kmc_tools transform NA dump NA.txt\n"
     ]
    },
    {
     "name": "stderr",
     "output_type": "stream",
     "text": [
      "in1: 100% \n"
     ]
    },
    {
     "name": "stdout",
     "output_type": "stream",
     "text": [
      "10 out of 31\n",
      "../annotations/selex/PRJEB9797/EGR1_eDBD_1_KR_TTGTAC40NGTA.fastq.gz\n",
      "kmc -cs2021864 -k11 -ci1 -m8 ../annotations/selex/PRJEB9797/EGR1_eDBD_1_KR_TTGTAC40NGTA.fastq.gz NA kmc_tmp 1> in.txt 2> err.txt\n",
      "kmc_tools transform NA dump NA.txt\n"
     ]
    },
    {
     "name": "stderr",
     "output_type": "stream",
     "text": [
      "in1: 100% \n"
     ]
    },
    {
     "name": "stdout",
     "output_type": "stream",
     "text": [
      "../annotations/selex/PRJEB9797/EGR1_eDBD_2_KAN_TAGACA40NGTC.fastq.gz\n",
      "kmc -cs1321820 -k11 -ci1 -m8 ../annotations/selex/PRJEB9797/EGR1_eDBD_2_KAN_TAGACA40NGTC.fastq.gz NA kmc_tmp 1> in.txt 2> err.txt\n",
      "kmc_tools transform NA dump NA.txt\n"
     ]
    },
    {
     "name": "stderr",
     "output_type": "stream",
     "text": [
      "in1: 100% \n"
     ]
    },
    {
     "name": "stdout",
     "output_type": "stream",
     "text": [
      "../annotations/selex/PRJEB9797/EGR1_eDBD_2_KAN_TCCGCT40NGCG.fastq.gz\n",
      "kmc -cs1444884 -k11 -ci1 -m8 ../annotations/selex/PRJEB9797/EGR1_eDBD_2_KAN_TCCGCT40NGCG.fastq.gz NA kmc_tmp 1> in.txt 2> err.txt\n",
      "kmc_tools transform NA dump NA.txt\n"
     ]
    },
    {
     "name": "stderr",
     "output_type": "stream",
     "text": [
      "in1: 100% \n"
     ]
    },
    {
     "name": "stdout",
     "output_type": "stream",
     "text": [
      "../annotations/selex/PRJEB9797/EGR1_eDBD_2_KR_TCAGCC40NTTC.fastq.gz\n",
      "kmc -cs944476 -k11 -ci1 -m8 ../annotations/selex/PRJEB9797/EGR1_eDBD_2_KR_TCAGCC40NTTC.fastq.gz NA kmc_tmp 1> in.txt 2> err.txt\n",
      "kmc_tools transform NA dump NA.txt\n"
     ]
    },
    {
     "name": "stderr",
     "output_type": "stream",
     "text": [
      "in1: 100% \n"
     ]
    },
    {
     "name": "stdout",
     "output_type": "stream",
     "text": [
      "../annotations/selex/PRJEB9797/EGR1_eDBD_2_KR_TTGTAC40NGTA.fastq.gz\n",
      "kmc -cs1505924 -k11 -ci1 -m8 ../annotations/selex/PRJEB9797/EGR1_eDBD_2_KR_TTGTAC40NGTA.fastq.gz NA kmc_tmp 1> in.txt 2> err.txt\n",
      "kmc_tools transform NA dump NA.txt\n"
     ]
    },
    {
     "name": "stderr",
     "output_type": "stream",
     "text": [
      "in1: 100% \n"
     ]
    },
    {
     "name": "stdout",
     "output_type": "stream",
     "text": [
      "15 out of 31\n",
      "../annotations/selex/PRJEB9797/EGR1_eDBD_3_KAN_TAGACA40NGTC.fastq.gz\n",
      "kmc -cs1401760 -k11 -ci1 -m8 ../annotations/selex/PRJEB9797/EGR1_eDBD_3_KAN_TAGACA40NGTC.fastq.gz NA kmc_tmp 1> in.txt 2> err.txt\n",
      "kmc_tools transform NA dump NA.txt\n"
     ]
    },
    {
     "name": "stderr",
     "output_type": "stream",
     "text": [
      "in1: 100% \n"
     ]
    },
    {
     "name": "stdout",
     "output_type": "stream",
     "text": [
      "../annotations/selex/PRJEB9797/EGR1_eDBD_3_KAN_TCCGCT40NGCG.fastq.gz\n",
      "kmc -cs1602288 -k11 -ci1 -m8 ../annotations/selex/PRJEB9797/EGR1_eDBD_3_KAN_TCCGCT40NGCG.fastq.gz NA kmc_tmp 1> in.txt 2> err.txt\n",
      "kmc_tools transform NA dump NA.txt\n"
     ]
    },
    {
     "name": "stderr",
     "output_type": "stream",
     "text": [
      "in1: 100% \n"
     ]
    },
    {
     "name": "stdout",
     "output_type": "stream",
     "text": [
      "../annotations/selex/PRJEB9797/EGR1_eDBD_3_KR_TCAGCC40NTTC.fastq.gz\n",
      "kmc -cs571020 -k11 -ci1 -m8 ../annotations/selex/PRJEB9797/EGR1_eDBD_3_KR_TCAGCC40NTTC.fastq.gz NA kmc_tmp 1> in.txt 2> err.txt\n",
      "kmc_tools transform NA dump NA.txt\n"
     ]
    },
    {
     "name": "stderr",
     "output_type": "stream",
     "text": [
      "in1: 100% \n"
     ]
    },
    {
     "name": "stdout",
     "output_type": "stream",
     "text": [
      "../annotations/selex/PRJEB9797/EGR1_eDBD_3_KR_TTGTAC40NGTA.fastq.gz\n",
      "kmc -cs894140 -k11 -ci1 -m8 ../annotations/selex/PRJEB9797/EGR1_eDBD_3_KR_TTGTAC40NGTA.fastq.gz NA kmc_tmp 1> in.txt 2> err.txt\n",
      "kmc_tools transform NA dump NA.txt\n"
     ]
    },
    {
     "name": "stderr",
     "output_type": "stream",
     "text": [
      "in1: 100% \n"
     ]
    },
    {
     "name": "stdout",
     "output_type": "stream",
     "text": [
      "../annotations/selex/PRJEB9797/EGR1_eDBD_4_KAN_TAGACA40NGTC.fastq.gz\n",
      "kmc -cs1550856 -k11 -ci1 -m8 ../annotations/selex/PRJEB9797/EGR1_eDBD_4_KAN_TAGACA40NGTC.fastq.gz NA kmc_tmp 1> in.txt 2> err.txt\n",
      "kmc_tools transform NA dump NA.txt\n"
     ]
    },
    {
     "name": "stderr",
     "output_type": "stream",
     "text": [
      "in1: 100% \n"
     ]
    },
    {
     "name": "stdout",
     "output_type": "stream",
     "text": [
      "20 out of 31\n",
      "../annotations/selex/PRJEB9797/EGR1_eDBD_4_KAN_TCCGCT40NGCG.fastq.gz\n",
      "kmc -cs1049280 -k11 -ci1 -m8 ../annotations/selex/PRJEB9797/EGR1_eDBD_4_KAN_TCCGCT40NGCG.fastq.gz NA kmc_tmp 1> in.txt 2> err.txt\n",
      "kmc_tools transform NA dump NA.txt\n"
     ]
    },
    {
     "name": "stderr",
     "output_type": "stream",
     "text": [
      "in1: 100% \n"
     ]
    },
    {
     "name": "stdout",
     "output_type": "stream",
     "text": [
      "../annotations/selex/PRJEB9797/EGR1_eDBD_4_KR_TCAGCC40NTTC.fastq.gz\n",
      "kmc -cs743944 -k11 -ci1 -m8 ../annotations/selex/PRJEB9797/EGR1_eDBD_4_KR_TCAGCC40NTTC.fastq.gz NA kmc_tmp 1> in.txt 2> err.txt\n",
      "kmc_tools transform NA dump NA.txt\n"
     ]
    },
    {
     "name": "stderr",
     "output_type": "stream",
     "text": [
      "in1: 100% \n"
     ]
    },
    {
     "name": "stdout",
     "output_type": "stream",
     "text": [
      "../annotations/selex/PRJEB9797/EGR1_eDBD_4_KR_TTGTAC40NGTA.fastq.gz\n",
      "kmc -cs1697720 -k11 -ci1 -m8 ../annotations/selex/PRJEB9797/EGR1_eDBD_4_KR_TTGTAC40NGTA.fastq.gz NA kmc_tmp 1> in.txt 2> err.txt\n",
      "kmc_tools transform NA dump NA.txt\n"
     ]
    },
    {
     "name": "stderr",
     "output_type": "stream",
     "text": [
      "in1: 100% \n"
     ]
    },
    {
     "name": "stdout",
     "output_type": "stream",
     "text": [
      "../annotations/selex/PRJEB14744/ZeroCycle_ES0_TACTAT20NATC_0.txt.gz\n",
      "kmc -cs6453088 -k11 -ci1 -m8 ../annotations/selex/PRJEB14744/ZeroCycle_ES0_TACTAT20NATC_0.txt.gz NA kmc_tmp 1> in.txt 2> err.txt\n",
      "kmc_tools transform NA dump NA.txt\n"
     ]
    },
    {
     "name": "stderr",
     "output_type": "stream",
     "text": [
      "in1: 100% \n"
     ]
    },
    {
     "name": "stdout",
     "output_type": "stream",
     "text": [
      "../annotations/selex/PRJEB14744/ZeroCycle_ES0_TCTCTT20NGA_0.txt.gz\n",
      "kmc -cs909396 -k11 -ci1 -m8 ../annotations/selex/PRJEB14744/ZeroCycle_ES0_TCTCTT20NGA_0.txt.gz NA kmc_tmp 1> in.txt 2> err.txt\n",
      "kmc_tools transform NA dump NA.txt\n"
     ]
    },
    {
     "name": "stderr",
     "output_type": "stream",
     "text": [
      "in1: 100% \n"
     ]
    },
    {
     "name": "stdout",
     "output_type": "stream",
     "text": [
      "25 out of 31\n",
      "25 out of 31\n",
      "../annotations/selex/PRJEB20112/ZeroCycle_TAGACA40NGTC_0_0.fastq.gz\n",
      "kmc -cs575272 -k11 -ci1 -m8 ../annotations/selex/PRJEB20112/ZeroCycle_TAGACA40NGTC_0_0.fastq.gz NA kmc_tmp 1> in.txt 2> err.txt\n",
      "kmc_tools transform NA dump NA.txt\n"
     ]
    },
    {
     "name": "stderr",
     "output_type": "stream",
     "text": [
      "in1: 100% \n"
     ]
    },
    {
     "name": "stdout",
     "output_type": "stream",
     "text": [
      "../annotations/selex/PRJEB20112/ZeroCycle_TCAGCC40NTTC_0_0.fastq.gz\n",
      "kmc -cs907676 -k11 -ci1 -m8 ../annotations/selex/PRJEB20112/ZeroCycle_TCAGCC40NTTC_0_0.fastq.gz NA kmc_tmp 1> in.txt 2> err.txt\n",
      "kmc_tools transform NA dump NA.txt\n"
     ]
    },
    {
     "name": "stderr",
     "output_type": "stream",
     "text": [
      "in1: 100% \n"
     ]
    },
    {
     "name": "stdout",
     "output_type": "stream",
     "text": [
      "../annotations/selex/PRJEB20112/ZeroCycle_TCCGCT40NGCG_0_0.fastq.gz\n",
      "kmc -cs1070268 -k11 -ci1 -m8 ../annotations/selex/PRJEB20112/ZeroCycle_TCCGCT40NGCG_0_0.fastq.gz NA kmc_tmp 1> in.txt 2> err.txt\n",
      "kmc_tools transform NA dump NA.txt\n"
     ]
    },
    {
     "name": "stderr",
     "output_type": "stream",
     "text": [
      "in1: 100% \n"
     ]
    },
    {
     "name": "stdout",
     "output_type": "stream",
     "text": [
      "../annotations/selex/PRJEB20112/ZeroCycle_TTGTAC40NGTA_0_0.fastq.gz\n",
      "kmc -cs608292 -k11 -ci1 -m8 ../annotations/selex/PRJEB20112/ZeroCycle_TTGTAC40NGTA_0_0.fastq.gz NA kmc_tmp 1> in.txt 2> err.txt\n",
      "kmc_tools transform NA dump NA.txt\n"
     ]
    },
    {
     "name": "stderr",
     "output_type": "stream",
     "text": [
      "in1: 100% \n"
     ]
    },
    {
     "name": "stdout",
     "output_type": "stream",
     "text": [
      "../annotations/selex/PRJEB3289/ZeroCycle_TACTAT20NATC_0_0.fastq.gz\n",
      "kmc -cs405804 -k11 -ci1 -m8 ../annotations/selex/PRJEB3289/ZeroCycle_TACTAT20NATC_0_0.fastq.gz NA kmc_tmp 1> in.txt 2> err.txt\n",
      "kmc_tools transform NA dump NA.txt\n"
     ]
    },
    {
     "name": "stderr",
     "output_type": "stream",
     "text": [
      "in1: 100% \n"
     ]
    },
    {
     "name": "stdout",
     "output_type": "stream",
     "text": [
      "30 out of 31\n",
      "../annotations/selex/PRJEB3289/ZeroCycle_TCTCTT20NGA_0_0.fastq.gz\n",
      "kmc -cs45580 -k11 -ci1 -m8 ../annotations/selex/PRJEB3289/ZeroCycle_TCTCTT20NGA_0_0.fastq.gz NA kmc_tmp 1> in.txt 2> err.txt\n",
      "kmc_tools transform NA dump NA.txt\n"
     ]
    },
    {
     "name": "stderr",
     "output_type": "stream",
     "text": [
      "in1: 100% \n"
     ]
    },
    {
     "name": "stdout",
     "output_type": "stream",
     "text": [
      "merging...\n",
      "merging done...\n",
      "transposing...\n",
      "convert to anndata...\n",
      "writing\n",
      "writing done...\n",
      "reading adata\n",
      "done...\n",
      "ELF2\n",
      "../../data/kmers_adata_ELF2_k11.h5ad\n",
      "0 out of 30\n",
      "../annotations/selex/PRJEB9797/ELF2_eDBD_1_KAN_TAGGAG40NAGT.fastq.gz\n",
      "kmc -cs1729592 -k11 -ci1 -m8 ../annotations/selex/PRJEB9797/ELF2_eDBD_1_KAN_TAGGAG40NAGT.fastq.gz NA kmc_tmp 1> in.txt 2> err.txt\n",
      "kmc_tools transform NA dump NA.txt\n"
     ]
    },
    {
     "name": "stderr",
     "output_type": "stream",
     "text": [
      "in1: 100% \n"
     ]
    },
    {
     "name": "stdout",
     "output_type": "stream",
     "text": [
      "../annotations/selex/PRJEB9797/ELF2_eDBD_1_KAN_TGTCCC40NGGT.fastq.gz\n",
      "kmc -cs1383828 -k11 -ci1 -m8 ../annotations/selex/PRJEB9797/ELF2_eDBD_1_KAN_TGTCCC40NGGT.fastq.gz NA kmc_tmp 1> in.txt 2> err.txt\n",
      "kmc_tools transform NA dump NA.txt\n"
     ]
    },
    {
     "name": "stderr",
     "output_type": "stream",
     "text": [
      "in1: 100% \n"
     ]
    },
    {
     "name": "stdout",
     "output_type": "stream",
     "text": [
      "../annotations/selex/PRJEB9797/ELF2_eDBD_1_KR_TGAAAT40NCAA.fastq.gz\n",
      "kmc -cs2184220 -k11 -ci1 -m8 ../annotations/selex/PRJEB9797/ELF2_eDBD_1_KR_TGAAAT40NCAA.fastq.gz NA kmc_tmp 1> in.txt 2> err.txt\n",
      "kmc_tools transform NA dump NA.txt\n"
     ]
    },
    {
     "name": "stderr",
     "output_type": "stream",
     "text": [
      "in1: 100% \n"
     ]
    },
    {
     "name": "stdout",
     "output_type": "stream",
     "text": [
      "../annotations/selex/PRJEB9797/ELF2_eDBD_1_KR_TTAGCT40NCCT.fastq.gz\n",
      "kmc -cs1615740 -k11 -ci1 -m8 ../annotations/selex/PRJEB9797/ELF2_eDBD_1_KR_TTAGCT40NCCT.fastq.gz NA kmc_tmp 1> in.txt 2> err.txt\n",
      "kmc_tools transform NA dump NA.txt\n"
     ]
    },
    {
     "name": "stderr",
     "output_type": "stream",
     "text": [
      "in1: 100% \n"
     ]
    },
    {
     "name": "stdout",
     "output_type": "stream",
     "text": [
      "../annotations/selex/PRJEB9797/ELF2_eDBD_2_KAN_TAGGAG40NAGT.fastq.gz\n",
      "kmc -cs1670752 -k11 -ci1 -m8 ../annotations/selex/PRJEB9797/ELF2_eDBD_2_KAN_TAGGAG40NAGT.fastq.gz NA kmc_tmp 1> in.txt 2> err.txt\n",
      "kmc_tools transform NA dump NA.txt\n"
     ]
    },
    {
     "name": "stderr",
     "output_type": "stream",
     "text": [
      "in1: 100% \n"
     ]
    },
    {
     "name": "stdout",
     "output_type": "stream",
     "text": [
      "5 out of 30\n",
      "../annotations/selex/PRJEB9797/ELF2_eDBD_2_KAN_TGTCCC40NGGT.fastq.gz\n",
      "kmc -cs1508760 -k11 -ci1 -m8 ../annotations/selex/PRJEB9797/ELF2_eDBD_2_KAN_TGTCCC40NGGT.fastq.gz NA kmc_tmp 1> in.txt 2> err.txt\n",
      "kmc_tools transform NA dump NA.txt\n"
     ]
    },
    {
     "name": "stderr",
     "output_type": "stream",
     "text": [
      "in1: 100% \n"
     ]
    },
    {
     "name": "stdout",
     "output_type": "stream",
     "text": [
      "../annotations/selex/PRJEB9797/ELF2_eDBD_2_KR_TGAAAT40NCAA.fastq.gz\n",
      "kmc -cs1387504 -k11 -ci1 -m8 ../annotations/selex/PRJEB9797/ELF2_eDBD_2_KR_TGAAAT40NCAA.fastq.gz NA kmc_tmp 1> in.txt 2> err.txt\n",
      "kmc_tools transform NA dump NA.txt\n"
     ]
    },
    {
     "name": "stderr",
     "output_type": "stream",
     "text": [
      "in1: 100% \n"
     ]
    },
    {
     "name": "stdout",
     "output_type": "stream",
     "text": [
      "../annotations/selex/PRJEB9797/ELF2_eDBD_2_KR_TTAGCT40NCCT.fastq.gz\n",
      "kmc -cs1260168 -k11 -ci1 -m8 ../annotations/selex/PRJEB9797/ELF2_eDBD_2_KR_TTAGCT40NCCT.fastq.gz NA kmc_tmp 1> in.txt 2> err.txt\n",
      "kmc_tools transform NA dump NA.txt\n"
     ]
    },
    {
     "name": "stderr",
     "output_type": "stream",
     "text": [
      "in1: 100% \n"
     ]
    },
    {
     "name": "stdout",
     "output_type": "stream",
     "text": [
      "../annotations/selex/PRJEB9797/ELF2_eDBD_3_KAN_TAGGAG40NAGT.fastq.gz\n",
      "kmc -cs1432248 -k11 -ci1 -m8 ../annotations/selex/PRJEB9797/ELF2_eDBD_3_KAN_TAGGAG40NAGT.fastq.gz NA kmc_tmp 1> in.txt 2> err.txt\n",
      "kmc_tools transform NA dump NA.txt\n"
     ]
    },
    {
     "name": "stderr",
     "output_type": "stream",
     "text": [
      "in1: 100% \n"
     ]
    },
    {
     "name": "stdout",
     "output_type": "stream",
     "text": [
      "../annotations/selex/PRJEB9797/ELF2_eDBD_3_KAN_TGTCCC40NGGT.fastq.gz\n",
      "kmc -cs1239944 -k11 -ci1 -m8 ../annotations/selex/PRJEB9797/ELF2_eDBD_3_KAN_TGTCCC40NGGT.fastq.gz NA kmc_tmp 1> in.txt 2> err.txt\n",
      "kmc_tools transform NA dump NA.txt\n"
     ]
    },
    {
     "name": "stderr",
     "output_type": "stream",
     "text": [
      "in1: 100% \n"
     ]
    },
    {
     "name": "stdout",
     "output_type": "stream",
     "text": [
      "10 out of 30\n",
      "../annotations/selex/PRJEB9797/ELF2_eDBD_3_KR_TGAAAT40NCAA.fastq.gz\n",
      "kmc -cs727680 -k11 -ci1 -m8 ../annotations/selex/PRJEB9797/ELF2_eDBD_3_KR_TGAAAT40NCAA.fastq.gz NA kmc_tmp 1> in.txt 2> err.txt\n",
      "kmc_tools transform NA dump NA.txt\n"
     ]
    },
    {
     "name": "stderr",
     "output_type": "stream",
     "text": [
      "in1: 100% \n"
     ]
    },
    {
     "name": "stdout",
     "output_type": "stream",
     "text": [
      "../annotations/selex/PRJEB9797/ELF2_eDBD_3_KR_TTAGCT40NCCT.fastq.gz\n",
      "kmc -cs888840 -k11 -ci1 -m8 ../annotations/selex/PRJEB9797/ELF2_eDBD_3_KR_TTAGCT40NCCT.fastq.gz NA kmc_tmp 1> in.txt 2> err.txt\n",
      "kmc_tools transform NA dump NA.txt\n"
     ]
    },
    {
     "name": "stderr",
     "output_type": "stream",
     "text": [
      "in1: 100% \n"
     ]
    },
    {
     "name": "stdout",
     "output_type": "stream",
     "text": [
      "../annotations/selex/PRJEB9797/ELF2_eDBD_4_KAN_TAGGAG40NAGT.fastq.gz\n",
      "kmc -cs1127672 -k11 -ci1 -m8 ../annotations/selex/PRJEB9797/ELF2_eDBD_4_KAN_TAGGAG40NAGT.fastq.gz NA kmc_tmp 1> in.txt 2> err.txt\n",
      "kmc_tools transform NA dump NA.txt\n"
     ]
    },
    {
     "name": "stderr",
     "output_type": "stream",
     "text": [
      "in1: 100% \n"
     ]
    },
    {
     "name": "stdout",
     "output_type": "stream",
     "text": [
      "../annotations/selex/PRJEB9797/ELF2_eDBD_4_KAN_TGTCCC40NGGT.fastq.gz\n",
      "kmc -cs1278172 -k11 -ci1 -m8 ../annotations/selex/PRJEB9797/ELF2_eDBD_4_KAN_TGTCCC40NGGT.fastq.gz NA kmc_tmp 1> in.txt 2> err.txt\n",
      "kmc_tools transform NA dump NA.txt\n"
     ]
    },
    {
     "name": "stderr",
     "output_type": "stream",
     "text": [
      "in1: 100% \n"
     ]
    },
    {
     "name": "stdout",
     "output_type": "stream",
     "text": [
      "../annotations/selex/PRJEB9797/ELF2_eDBD_4_KR_TGAAAT40NCAA.fastq.gz\n",
      "kmc -cs1280352 -k11 -ci1 -m8 ../annotations/selex/PRJEB9797/ELF2_eDBD_4_KR_TGAAAT40NCAA.fastq.gz NA kmc_tmp 1> in.txt 2> err.txt\n",
      "kmc_tools transform NA dump NA.txt\n"
     ]
    },
    {
     "name": "stderr",
     "output_type": "stream",
     "text": [
      "in1: 100% \n"
     ]
    },
    {
     "name": "stdout",
     "output_type": "stream",
     "text": [
      "15 out of 30\n",
      "../annotations/selex/PRJEB9797/ELF2_eDBD_4_KR_TTAGCT40NCCT.fastq.gz\n",
      "kmc -cs1367000 -k11 -ci1 -m8 ../annotations/selex/PRJEB9797/ELF2_eDBD_4_KR_TTAGCT40NCCT.fastq.gz NA kmc_tmp 1> in.txt 2> err.txt\n",
      "kmc_tools transform NA dump NA.txt\n"
     ]
    },
    {
     "name": "stderr",
     "output_type": "stream",
     "text": [
      "in1: 100% \n"
     ]
    },
    {
     "name": "stdout",
     "output_type": "stream",
     "text": [
      "../annotations/selex/PRJEB9797/ELF2_FL_1_KX_TGCTTC40NTTA.fastq.gz\n",
      "kmc -cs549616 -k11 -ci1 -m8 ../annotations/selex/PRJEB9797/ELF2_FL_1_KX_TGCTTC40NTTA.fastq.gz NA kmc_tmp 1> in.txt 2> err.txt\n",
      "kmc_tools transform NA dump NA.txt\n"
     ]
    },
    {
     "name": "stderr",
     "output_type": "stream",
     "text": [
      "in1: 100% \n"
     ]
    },
    {
     "name": "stdout",
     "output_type": "stream",
     "text": [
      "../annotations/selex/PRJEB9797/ELF2_FL_1_KX_TTCGCC40NGAC.fastq.gz\n",
      "kmc -cs726008 -k11 -ci1 -m8 ../annotations/selex/PRJEB9797/ELF2_FL_1_KX_TTCGCC40NGAC.fastq.gz NA kmc_tmp 1> in.txt 2> err.txt\n",
      "kmc_tools transform NA dump NA.txt\n"
     ]
    },
    {
     "name": "stderr",
     "output_type": "stream",
     "text": [
      "in1: 100% \n"
     ]
    },
    {
     "name": "stdout",
     "output_type": "stream",
     "text": [
      "../annotations/selex/PRJEB9797/ELF2_FL_2_KX_TGCTTC40NTTA.fastq.gz\n",
      "kmc -cs648268 -k11 -ci1 -m8 ../annotations/selex/PRJEB9797/ELF2_FL_2_KX_TGCTTC40NTTA.fastq.gz NA kmc_tmp 1> in.txt 2> err.txt\n",
      "kmc_tools transform NA dump NA.txt\n"
     ]
    },
    {
     "name": "stderr",
     "output_type": "stream",
     "text": [
      "in1: 100%  67% \n"
     ]
    },
    {
     "name": "stdout",
     "output_type": "stream",
     "text": [
      "../annotations/selex/PRJEB9797/ELF2_FL_2_KX_TTCGCC40NGAC.fastq.gz\n",
      "kmc -cs634468 -k11 -ci1 -m8 ../annotations/selex/PRJEB9797/ELF2_FL_2_KX_TTCGCC40NGAC.fastq.gz NA kmc_tmp 1> in.txt 2> err.txt\n",
      "kmc_tools transform NA dump NA.txt\n"
     ]
    },
    {
     "name": "stderr",
     "output_type": "stream",
     "text": [
      "in1: 100% \n"
     ]
    },
    {
     "name": "stdout",
     "output_type": "stream",
     "text": [
      "20 out of 30\n",
      "../annotations/selex/PRJEB9797/ELF2_FL_3_KX_TGCTTC40NTTA.fastq.gz\n",
      "kmc -cs954944 -k11 -ci1 -m8 ../annotations/selex/PRJEB9797/ELF2_FL_3_KX_TGCTTC40NTTA.fastq.gz NA kmc_tmp 1> in.txt 2> err.txt\n",
      "kmc_tools transform NA dump NA.txt\n"
     ]
    },
    {
     "name": "stderr",
     "output_type": "stream",
     "text": [
      "in1: 100% \n"
     ]
    },
    {
     "name": "stdout",
     "output_type": "stream",
     "text": [
      "../annotations/selex/PRJEB9797/ELF2_FL_3_KX_TTCGCC40NGAC.fastq.gz\n",
      "kmc -cs1099752 -k11 -ci1 -m8 ../annotations/selex/PRJEB9797/ELF2_FL_3_KX_TTCGCC40NGAC.fastq.gz NA kmc_tmp 1> in.txt 2> err.txt\n",
      "kmc_tools transform NA dump NA.txt\n"
     ]
    },
    {
     "name": "stderr",
     "output_type": "stream",
     "text": [
      "in1: 100% \n"
     ]
    },
    {
     "name": "stdout",
     "output_type": "stream",
     "text": [
      "../annotations/selex/PRJEB9797/ELF2_FL_4_KX_TGCTTC40NTTA.fastq.gz\n",
      "kmc -cs989940 -k11 -ci1 -m8 ../annotations/selex/PRJEB9797/ELF2_FL_4_KX_TGCTTC40NTTA.fastq.gz NA kmc_tmp 1> in.txt 2> err.txt\n",
      "kmc_tools transform NA dump NA.txt\n"
     ]
    },
    {
     "name": "stderr",
     "output_type": "stream",
     "text": [
      "in1: 100% \n"
     ]
    },
    {
     "name": "stdout",
     "output_type": "stream",
     "text": [
      "../annotations/selex/PRJEB9797/ELF2_FL_4_KX_TTCGCC40NGAC.fastq.gz\n",
      "kmc -cs1225952 -k11 -ci1 -m8 ../annotations/selex/PRJEB9797/ELF2_FL_4_KX_TTCGCC40NGAC.fastq.gz NA kmc_tmp 1> in.txt 2> err.txt\n",
      "kmc_tools transform NA dump NA.txt\n"
     ]
    },
    {
     "name": "stderr",
     "output_type": "stream",
     "text": [
      "in1: 100% \n"
     ]
    },
    {
     "name": "stdout",
     "output_type": "stream",
     "text": [
      "../annotations/selex/PRJEB20112/ZeroCycle_TAGGAG40NAGT_0_0.fastq.gz\n",
      "kmc -cs736600 -k11 -ci1 -m8 ../annotations/selex/PRJEB20112/ZeroCycle_TAGGAG40NAGT_0_0.fastq.gz NA kmc_tmp 1> in.txt 2> err.txt\n",
      "kmc_tools transform NA dump NA.txt\n"
     ]
    },
    {
     "name": "stderr",
     "output_type": "stream",
     "text": [
      "in1: 100% \n"
     ]
    },
    {
     "name": "stdout",
     "output_type": "stream",
     "text": [
      "25 out of 30\n",
      "25 out of 30\n",
      "../annotations/selex/PRJEB20112/ZeroCycle_TGAAAT40NCAA_0_0.fastq.gz\n",
      "kmc -cs608076 -k11 -ci1 -m8 ../annotations/selex/PRJEB20112/ZeroCycle_TGAAAT40NCAA_0_0.fastq.gz NA kmc_tmp 1> in.txt 2> err.txt\n",
      "kmc_tools transform NA dump NA.txt\n"
     ]
    },
    {
     "name": "stderr",
     "output_type": "stream",
     "text": [
      "in1: 100% \n"
     ]
    },
    {
     "name": "stdout",
     "output_type": "stream",
     "text": [
      "../annotations/selex/PRJEB20112/ZeroCycle_TGCTTC40NTTA_0_0.fastq.gz\n",
      "kmc -cs534836 -k11 -ci1 -m8 ../annotations/selex/PRJEB20112/ZeroCycle_TGCTTC40NTTA_0_0.fastq.gz NA kmc_tmp 1> in.txt 2> err.txt\n",
      "kmc_tools transform NA dump NA.txt\n"
     ]
    },
    {
     "name": "stderr",
     "output_type": "stream",
     "text": [
      "in1: 100% \n"
     ]
    },
    {
     "name": "stdout",
     "output_type": "stream",
     "text": [
      "../annotations/selex/PRJEB20112/ZeroCycle_TGTCCC40NGGT_0_0.fastq.gz\n",
      "kmc -cs460168 -k11 -ci1 -m8 ../annotations/selex/PRJEB20112/ZeroCycle_TGTCCC40NGGT_0_0.fastq.gz NA kmc_tmp 1> in.txt 2> err.txt\n",
      "kmc_tools transform NA dump NA.txt\n"
     ]
    },
    {
     "name": "stderr",
     "output_type": "stream",
     "text": [
      "in1: 100% \n"
     ]
    },
    {
     "name": "stdout",
     "output_type": "stream",
     "text": [
      "../annotations/selex/PRJEB20112/ZeroCycle_TTAGCT40NCCT_0_0.fastq.gz\n",
      "kmc -cs768132 -k11 -ci1 -m8 ../annotations/selex/PRJEB20112/ZeroCycle_TTAGCT40NCCT_0_0.fastq.gz NA kmc_tmp 1> in.txt 2> err.txt\n",
      "kmc_tools transform NA dump NA.txt\n"
     ]
    },
    {
     "name": "stderr",
     "output_type": "stream",
     "text": [
      "in1: 100% \n"
     ]
    },
    {
     "name": "stdout",
     "output_type": "stream",
     "text": [
      "../annotations/selex/PRJEB20112/ZeroCycle_TTCGCC40NGAC_0_0.fastq.gz\n",
      "kmc -cs599456 -k11 -ci1 -m8 ../annotations/selex/PRJEB20112/ZeroCycle_TTCGCC40NGAC_0_0.fastq.gz NA kmc_tmp 1> in.txt 2> err.txt\n",
      "kmc_tools transform NA dump NA.txt\n"
     ]
    },
    {
     "name": "stderr",
     "output_type": "stream",
     "text": [
      "in1: 100% \n"
     ]
    },
    {
     "name": "stdout",
     "output_type": "stream",
     "text": [
      "merging...\n",
      "merging done...\n",
      "transposing...\n",
      "convert to anndata...\n",
      "writing\n",
      "writing done...\n",
      "reading adata\n",
      "done...\n",
      "ETV4\n",
      "../../data/kmers_adata_ETV4_k11.h5ad\n",
      "0 out of 36\n",
      "../annotations/selex/PRJEB3289/ETV4_TCTATG20NTAG_AG_1.fastq.gz\n",
      "kmc -cs888364 -k11 -ci1 -m8 ../annotations/selex/PRJEB3289/ETV4_TCTATG20NTAG_AG_1.fastq.gz NA kmc_tmp 1> in.txt 2> err.txt\n",
      "kmc_tools transform NA dump NA.txt\n"
     ]
    },
    {
     "name": "stderr",
     "output_type": "stream",
     "text": [
      "in1: 100% \n"
     ]
    },
    {
     "name": "stdout",
     "output_type": "stream",
     "text": [
      "../annotations/selex/PRJEB3289/ETV4_TCTATG20NTAG_AG_2.fastq.gz\n",
      "kmc -cs821544 -k11 -ci1 -m8 ../annotations/selex/PRJEB3289/ETV4_TCTATG20NTAG_AG_2.fastq.gz NA kmc_tmp 1> in.txt 2> err.txt\n",
      "kmc_tools transform NA dump NA.txt\n"
     ]
    },
    {
     "name": "stderr",
     "output_type": "stream",
     "text": [
      "in1: 100% \n"
     ]
    },
    {
     "name": "stdout",
     "output_type": "stream",
     "text": [
      "../annotations/selex/PRJEB3289/ETV4_TCTATG20NTAG_AG_3.fastq.gz\n",
      "kmc -cs795324 -k11 -ci1 -m8 ../annotations/selex/PRJEB3289/ETV4_TCTATG20NTAG_AG_3.fastq.gz NA kmc_tmp 1> in.txt 2> err.txt\n",
      "kmc_tools transform NA dump NA.txt\n"
     ]
    },
    {
     "name": "stderr",
     "output_type": "stream",
     "text": [
      "in1: 100% \n"
     ]
    },
    {
     "name": "stdout",
     "output_type": "stream",
     "text": [
      "../annotations/selex/PRJEB3289/ETV4_TCTATG20NTAG_AG_4.fastq.gz\n",
      "kmc -cs388152 -k11 -ci1 -m8 ../annotations/selex/PRJEB3289/ETV4_TCTATG20NTAG_AG_4.fastq.gz NA kmc_tmp 1> in.txt 2> err.txt\n",
      "kmc_tools transform NA dump NA.txt\n"
     ]
    },
    {
     "name": "stderr",
     "output_type": "stream",
     "text": [
      "in1: 100% \n"
     ]
    },
    {
     "name": "stdout",
     "output_type": "stream",
     "text": [
      "../annotations/selex/PRJEB9797/ETV4_eDBD_1_KAN_TATACC40NGCC.fastq.gz\n",
      "kmc -cs1861836 -k11 -ci1 -m8 ../annotations/selex/PRJEB9797/ETV4_eDBD_1_KAN_TATACC40NGCC.fastq.gz NA kmc_tmp 1> in.txt 2> err.txt\n",
      "kmc_tools transform NA dump NA.txt\n"
     ]
    },
    {
     "name": "stderr",
     "output_type": "stream",
     "text": [
      "in1: 100% \n"
     ]
    },
    {
     "name": "stdout",
     "output_type": "stream",
     "text": [
      "5 out of 36\n",
      "../annotations/selex/PRJEB9797/ETV4_eDBD_1_KAN_TATGAC40NTCA.fastq.gz\n",
      "kmc -cs1728848 -k11 -ci1 -m8 ../annotations/selex/PRJEB9797/ETV4_eDBD_1_KAN_TATGAC40NTCA.fastq.gz NA kmc_tmp 1> in.txt 2> err.txt\n",
      "kmc_tools transform NA dump NA.txt\n"
     ]
    },
    {
     "name": "stderr",
     "output_type": "stream",
     "text": [
      "in1: 100% \n"
     ]
    },
    {
     "name": "stdout",
     "output_type": "stream",
     "text": [
      "../annotations/selex/PRJEB9797/ETV4_eDBD_1_KS_TTCTCA40NCCT.fastq.gz\n",
      "kmc -cs950672 -k11 -ci1 -m8 ../annotations/selex/PRJEB9797/ETV4_eDBD_1_KS_TTCTCA40NCCT.fastq.gz NA kmc_tmp 1> in.txt 2> err.txt\n",
      "kmc_tools transform NA dump NA.txt\n"
     ]
    },
    {
     "name": "stderr",
     "output_type": "stream",
     "text": [
      "in1: 100% \n"
     ]
    },
    {
     "name": "stdout",
     "output_type": "stream",
     "text": [
      "../annotations/selex/PRJEB9797/ETV4_eDBD_1_KS_TTTGCC40NTGA.fastq.gz\n",
      "kmc -cs1481988 -k11 -ci1 -m8 ../annotations/selex/PRJEB9797/ETV4_eDBD_1_KS_TTTGCC40NTGA.fastq.gz NA kmc_tmp 1> in.txt 2> err.txt\n",
      "kmc_tools transform NA dump NA.txt\n"
     ]
    },
    {
     "name": "stderr",
     "output_type": "stream",
     "text": [
      "in1: 100% \n"
     ]
    },
    {
     "name": "stdout",
     "output_type": "stream",
     "text": [
      "../annotations/selex/PRJEB9797/ETV4_eDBD_2_KAN_TATACC40NGCC.fastq.gz\n",
      "kmc -cs1962600 -k11 -ci1 -m8 ../annotations/selex/PRJEB9797/ETV4_eDBD_2_KAN_TATACC40NGCC.fastq.gz NA kmc_tmp 1> in.txt 2> err.txt\n",
      "kmc_tools transform NA dump NA.txt\n"
     ]
    },
    {
     "name": "stderr",
     "output_type": "stream",
     "text": [
      "in1: 100% \n"
     ]
    },
    {
     "name": "stdout",
     "output_type": "stream",
     "text": [
      "../annotations/selex/PRJEB9797/ETV4_eDBD_2_KAN_TATGAC40NTCA.fastq.gz\n",
      "kmc -cs1956584 -k11 -ci1 -m8 ../annotations/selex/PRJEB9797/ETV4_eDBD_2_KAN_TATGAC40NTCA.fastq.gz NA kmc_tmp 1> in.txt 2> err.txt\n",
      "kmc_tools transform NA dump NA.txt\n"
     ]
    },
    {
     "name": "stderr",
     "output_type": "stream",
     "text": [
      "in1: 100% \n"
     ]
    },
    {
     "name": "stdout",
     "output_type": "stream",
     "text": [
      "10 out of 36\n",
      "../annotations/selex/PRJEB9797/ETV4_eDBD_2_KS_TTCTCA40NCCT.fastq.gz\n",
      "kmc -cs571220 -k11 -ci1 -m8 ../annotations/selex/PRJEB9797/ETV4_eDBD_2_KS_TTCTCA40NCCT.fastq.gz NA kmc_tmp 1> in.txt 2> err.txt\n",
      "kmc_tools transform NA dump NA.txt\n"
     ]
    },
    {
     "name": "stderr",
     "output_type": "stream",
     "text": [
      "in1: 100% \n"
     ]
    },
    {
     "name": "stdout",
     "output_type": "stream",
     "text": [
      "../annotations/selex/PRJEB9797/ETV4_eDBD_2_KS_TTTGCC40NTGA.fastq.gz\n",
      "kmc -cs628640 -k11 -ci1 -m8 ../annotations/selex/PRJEB9797/ETV4_eDBD_2_KS_TTTGCC40NTGA.fastq.gz NA kmc_tmp 1> in.txt 2> err.txt\n",
      "kmc_tools transform NA dump NA.txt\n"
     ]
    },
    {
     "name": "stderr",
     "output_type": "stream",
     "text": [
      "in1: 100% \n"
     ]
    },
    {
     "name": "stdout",
     "output_type": "stream",
     "text": [
      "../annotations/selex/PRJEB9797/ETV4_eDBD_3_KAN_TATACC40NGCC.fastq.gz\n",
      "kmc -cs1841220 -k11 -ci1 -m8 ../annotations/selex/PRJEB9797/ETV4_eDBD_3_KAN_TATACC40NGCC.fastq.gz NA kmc_tmp 1> in.txt 2> err.txt\n",
      "kmc_tools transform NA dump NA.txt\n"
     ]
    },
    {
     "name": "stderr",
     "output_type": "stream",
     "text": [
      "in1: 100% \n"
     ]
    },
    {
     "name": "stdout",
     "output_type": "stream",
     "text": [
      "../annotations/selex/PRJEB9797/ETV4_eDBD_3_KAN_TATGAC40NTCA.fastq.gz\n",
      "kmc -cs1759996 -k11 -ci1 -m8 ../annotations/selex/PRJEB9797/ETV4_eDBD_3_KAN_TATGAC40NTCA.fastq.gz NA kmc_tmp 1> in.txt 2> err.txt\n",
      "kmc_tools transform NA dump NA.txt\n"
     ]
    },
    {
     "name": "stderr",
     "output_type": "stream",
     "text": [
      "in1: 100% \n"
     ]
    },
    {
     "name": "stdout",
     "output_type": "stream",
     "text": [
      "../annotations/selex/PRJEB9797/ETV4_eDBD_3_KS_TTCTCA40NCCT.fastq.gz\n",
      "kmc -cs1050444 -k11 -ci1 -m8 ../annotations/selex/PRJEB9797/ETV4_eDBD_3_KS_TTCTCA40NCCT.fastq.gz NA kmc_tmp 1> in.txt 2> err.txt\n",
      "kmc_tools transform NA dump NA.txt\n"
     ]
    },
    {
     "name": "stderr",
     "output_type": "stream",
     "text": [
      "in1: 100% \n"
     ]
    },
    {
     "name": "stdout",
     "output_type": "stream",
     "text": [
      "15 out of 36\n",
      "../annotations/selex/PRJEB9797/ETV4_eDBD_3_KS_TTTGCC40NTGA.fastq.gz\n",
      "kmc -cs1141780 -k11 -ci1 -m8 ../annotations/selex/PRJEB9797/ETV4_eDBD_3_KS_TTTGCC40NTGA.fastq.gz NA kmc_tmp 1> in.txt 2> err.txt\n",
      "kmc_tools transform NA dump NA.txt\n"
     ]
    },
    {
     "name": "stderr",
     "output_type": "stream",
     "text": [
      "in1: 100% \n"
     ]
    },
    {
     "name": "stdout",
     "output_type": "stream",
     "text": [
      "../annotations/selex/PRJEB9797/ETV4_eDBD_4_KAN_TATACC40NGCC.fastq.gz\n",
      "kmc -cs1611848 -k11 -ci1 -m8 ../annotations/selex/PRJEB9797/ETV4_eDBD_4_KAN_TATACC40NGCC.fastq.gz NA kmc_tmp 1> in.txt 2> err.txt\n",
      "kmc_tools transform NA dump NA.txt\n"
     ]
    },
    {
     "name": "stderr",
     "output_type": "stream",
     "text": [
      "in1: 100% \n"
     ]
    },
    {
     "name": "stdout",
     "output_type": "stream",
     "text": [
      "../annotations/selex/PRJEB9797/ETV4_eDBD_4_KAN_TATGAC40NTCA.fastq.gz\n",
      "kmc -cs1740828 -k11 -ci1 -m8 ../annotations/selex/PRJEB9797/ETV4_eDBD_4_KAN_TATGAC40NTCA.fastq.gz NA kmc_tmp 1> in.txt 2> err.txt\n",
      "kmc_tools transform NA dump NA.txt\n"
     ]
    },
    {
     "name": "stderr",
     "output_type": "stream",
     "text": [
      "in1: 100% \n"
     ]
    },
    {
     "name": "stdout",
     "output_type": "stream",
     "text": [
      "../annotations/selex/PRJEB9797/ETV4_eDBD_4_KS_TTCTCA40NCCT.fastq.gz\n",
      "kmc -cs1060052 -k11 -ci1 -m8 ../annotations/selex/PRJEB9797/ETV4_eDBD_4_KS_TTCTCA40NCCT.fastq.gz NA kmc_tmp 1> in.txt 2> err.txt\n",
      "kmc_tools transform NA dump NA.txt\n"
     ]
    },
    {
     "name": "stderr",
     "output_type": "stream",
     "text": [
      "in1: 100% \n"
     ]
    },
    {
     "name": "stdout",
     "output_type": "stream",
     "text": [
      "../annotations/selex/PRJEB9797/ETV4_eDBD_4_KS_TTTGCC40NTGA.fastq.gz\n",
      "kmc -cs985420 -k11 -ci1 -m8 ../annotations/selex/PRJEB9797/ETV4_eDBD_4_KS_TTTGCC40NTGA.fastq.gz NA kmc_tmp 1> in.txt 2> err.txt\n",
      "kmc_tools transform NA dump NA.txt\n"
     ]
    },
    {
     "name": "stderr",
     "output_type": "stream",
     "text": [
      "in1: 100% \n"
     ]
    },
    {
     "name": "stdout",
     "output_type": "stream",
     "text": [
      "20 out of 36\n",
      "../annotations/selex/PRJEB9797/ETV4_FL_1_KAE_TCTCGA40NCAT.fastq.gz\n",
      "kmc -cs927920 -k11 -ci1 -m8 ../annotations/selex/PRJEB9797/ETV4_FL_1_KAE_TCTCGA40NCAT.fastq.gz NA kmc_tmp 1> in.txt 2> err.txt\n",
      "kmc_tools transform NA dump NA.txt\n"
     ]
    },
    {
     "name": "stderr",
     "output_type": "stream",
     "text": [
      "in1: 100% \n"
     ]
    },
    {
     "name": "stdout",
     "output_type": "stream",
     "text": [
      "../annotations/selex/PRJEB9797/ETV4_FL_1_KAE_TGGACG40NAAG.fastq.gz\n",
      "kmc -cs914844 -k11 -ci1 -m8 ../annotations/selex/PRJEB9797/ETV4_FL_1_KAE_TGGACG40NAAG.fastq.gz NA kmc_tmp 1> in.txt 2> err.txt\n",
      "kmc_tools transform NA dump NA.txt\n"
     ]
    },
    {
     "name": "stderr",
     "output_type": "stream",
     "text": [
      "in1: 100% \n"
     ]
    },
    {
     "name": "stdout",
     "output_type": "stream",
     "text": [
      "../annotations/selex/PRJEB9797/ETV4_FL_2_KAE_TCTCGA40NCAT.fastq.gz\n",
      "kmc -cs717684 -k11 -ci1 -m8 ../annotations/selex/PRJEB9797/ETV4_FL_2_KAE_TCTCGA40NCAT.fastq.gz NA kmc_tmp 1> in.txt 2> err.txt\n",
      "kmc_tools transform NA dump NA.txt\n"
     ]
    },
    {
     "name": "stderr",
     "output_type": "stream",
     "text": [
      "in1: 100% \n"
     ]
    },
    {
     "name": "stdout",
     "output_type": "stream",
     "text": [
      "../annotations/selex/PRJEB9797/ETV4_FL_2_KAE_TGGACG40NAAG.fastq.gz\n",
      "kmc -cs695852 -k11 -ci1 -m8 ../annotations/selex/PRJEB9797/ETV4_FL_2_KAE_TGGACG40NAAG.fastq.gz NA kmc_tmp 1> in.txt 2> err.txt\n",
      "kmc_tools transform NA dump NA.txt\n"
     ]
    },
    {
     "name": "stderr",
     "output_type": "stream",
     "text": [
      "in1: 100% \n"
     ]
    },
    {
     "name": "stdout",
     "output_type": "stream",
     "text": [
      "../annotations/selex/PRJEB9797/ETV4_FL_3_KAE_TCTCGA40NCAT.fastq.gz\n",
      "kmc -cs895332 -k11 -ci1 -m8 ../annotations/selex/PRJEB9797/ETV4_FL_3_KAE_TCTCGA40NCAT.fastq.gz NA kmc_tmp 1> in.txt 2> err.txt\n",
      "kmc_tools transform NA dump NA.txt\n"
     ]
    },
    {
     "name": "stderr",
     "output_type": "stream",
     "text": [
      "in1: 100% \n"
     ]
    },
    {
     "name": "stdout",
     "output_type": "stream",
     "text": [
      "25 out of 36\n",
      "25 out of 36\n",
      "../annotations/selex/PRJEB9797/ETV4_FL_3_KAE_TGGACG40NAAG.fastq.gz\n",
      "kmc -cs744048 -k11 -ci1 -m8 ../annotations/selex/PRJEB9797/ETV4_FL_3_KAE_TGGACG40NAAG.fastq.gz NA kmc_tmp 1> in.txt 2> err.txt\n",
      "kmc_tools transform NA dump NA.txt\n"
     ]
    },
    {
     "name": "stderr",
     "output_type": "stream",
     "text": [
      "in1: 100% \n"
     ]
    },
    {
     "name": "stdout",
     "output_type": "stream",
     "text": [
      "../annotations/selex/PRJEB9797/ETV4_FL_4_KAE_TCTCGA40NCAT.fastq.gz\n",
      "kmc -cs1081340 -k11 -ci1 -m8 ../annotations/selex/PRJEB9797/ETV4_FL_4_KAE_TCTCGA40NCAT.fastq.gz NA kmc_tmp 1> in.txt 2> err.txt\n",
      "kmc_tools transform NA dump NA.txt\n"
     ]
    },
    {
     "name": "stderr",
     "output_type": "stream",
     "text": [
      "in1: 100% \n"
     ]
    },
    {
     "name": "stdout",
     "output_type": "stream",
     "text": [
      "../annotations/selex/PRJEB9797/ETV4_FL_4_KAE_TGGACG40NAAG.fastq.gz\n",
      "kmc -cs871124 -k11 -ci1 -m8 ../annotations/selex/PRJEB9797/ETV4_FL_4_KAE_TGGACG40NAAG.fastq.gz NA kmc_tmp 1> in.txt 2> err.txt\n",
      "kmc_tools transform NA dump NA.txt\n"
     ]
    },
    {
     "name": "stderr",
     "output_type": "stream",
     "text": [
      "in1: 100% \n"
     ]
    },
    {
     "name": "stdout",
     "output_type": "stream",
     "text": [
      "../annotations/selex/PRJEB14744/ZeroCycle_ES0_TCTATG20NTAG_0.txt.gz\n",
      "kmc -cs1491260 -k11 -ci1 -m8 ../annotations/selex/PRJEB14744/ZeroCycle_ES0_TCTATG20NTAG_0.txt.gz NA kmc_tmp 1> in.txt 2> err.txt\n",
      "kmc_tools transform NA dump NA.txt\n"
     ]
    },
    {
     "name": "stderr",
     "output_type": "stream",
     "text": [
      "in1: 100% \n"
     ]
    },
    {
     "name": "stdout",
     "output_type": "stream",
     "text": [
      "../annotations/selex/PRJEB20112/ZeroCycle_TATACC40NGCC_0_0.fastq.gz\n",
      "kmc -cs1414296 -k11 -ci1 -m8 ../annotations/selex/PRJEB20112/ZeroCycle_TATACC40NGCC_0_0.fastq.gz NA kmc_tmp 1> in.txt 2> err.txt\n",
      "kmc_tools transform NA dump NA.txt\n"
     ]
    },
    {
     "name": "stderr",
     "output_type": "stream",
     "text": [
      "in1: 100% \n"
     ]
    },
    {
     "name": "stdout",
     "output_type": "stream",
     "text": [
      "30 out of 36\n",
      "../annotations/selex/PRJEB20112/ZeroCycle_TATGAC40NTCA_0_0.fastq.gz\n",
      "kmc -cs1316308 -k11 -ci1 -m8 ../annotations/selex/PRJEB20112/ZeroCycle_TATGAC40NTCA_0_0.fastq.gz NA kmc_tmp 1> in.txt 2> err.txt\n",
      "kmc_tools transform NA dump NA.txt\n"
     ]
    },
    {
     "name": "stderr",
     "output_type": "stream",
     "text": [
      "in1: 100% \n"
     ]
    },
    {
     "name": "stdout",
     "output_type": "stream",
     "text": [
      "../annotations/selex/PRJEB20112/ZeroCycle_TCTCGA40NCAT_0_0.fastq.gz\n",
      "kmc -cs1631228 -k11 -ci1 -m8 ../annotations/selex/PRJEB20112/ZeroCycle_TCTCGA40NCAT_0_0.fastq.gz NA kmc_tmp 1> in.txt 2> err.txt\n",
      "kmc_tools transform NA dump NA.txt\n"
     ]
    },
    {
     "name": "stderr",
     "output_type": "stream",
     "text": [
      "in1: 100% \n"
     ]
    },
    {
     "name": "stdout",
     "output_type": "stream",
     "text": [
      "../annotations/selex/PRJEB20112/ZeroCycle_TGGACG40NAAG_0_0.fastq.gz\n",
      "kmc -cs1461080 -k11 -ci1 -m8 ../annotations/selex/PRJEB20112/ZeroCycle_TGGACG40NAAG_0_0.fastq.gz NA kmc_tmp 1> in.txt 2> err.txt\n",
      "kmc_tools transform NA dump NA.txt\n"
     ]
    },
    {
     "name": "stderr",
     "output_type": "stream",
     "text": [
      "in1: 100% \n"
     ]
    },
    {
     "name": "stdout",
     "output_type": "stream",
     "text": [
      "../annotations/selex/PRJEB20112/ZeroCycle_TTCTCA40NCCT_0_0.fastq.gz\n",
      "kmc -cs714448 -k11 -ci1 -m8 ../annotations/selex/PRJEB20112/ZeroCycle_TTCTCA40NCCT_0_0.fastq.gz NA kmc_tmp 1> in.txt 2> err.txt\n",
      "kmc_tools transform NA dump NA.txt\n"
     ]
    },
    {
     "name": "stderr",
     "output_type": "stream",
     "text": [
      "in1: 100% \n"
     ]
    },
    {
     "name": "stdout",
     "output_type": "stream",
     "text": [
      "../annotations/selex/PRJEB20112/ZeroCycle_TTTGCC40NTGA_0_0.fastq.gz\n",
      "kmc -cs822568 -k11 -ci1 -m8 ../annotations/selex/PRJEB20112/ZeroCycle_TTTGCC40NTGA_0_0.fastq.gz NA kmc_tmp 1> in.txt 2> err.txt\n",
      "kmc_tools transform NA dump NA.txt\n"
     ]
    },
    {
     "name": "stderr",
     "output_type": "stream",
     "text": [
      "in1: 100% \n"
     ]
    },
    {
     "name": "stdout",
     "output_type": "stream",
     "text": [
      "35 out of 36\n",
      "../annotations/selex/PRJEB3289/ZeroCycle_TCTATG20NTAG_0_0.fastq.gz\n",
      "kmc -cs407612 -k11 -ci1 -m8 ../annotations/selex/PRJEB3289/ZeroCycle_TCTATG20NTAG_0_0.fastq.gz NA kmc_tmp 1> in.txt 2> err.txt\n",
      "kmc_tools transform NA dump NA.txt\n"
     ]
    },
    {
     "name": "stderr",
     "output_type": "stream",
     "text": [
      "in1: 100% \n"
     ]
    },
    {
     "name": "stdout",
     "output_type": "stream",
     "text": [
      "merging...\n",
      "merging done...\n",
      "transposing...\n",
      "convert to anndata...\n",
      "writing\n",
      "writing done...\n",
      "reading adata\n",
      "done...\n",
      "ALX4\n",
      "../../data/kmers_adata_ALX4_k11.h5ad\n",
      "0 out of 16\n",
      "../annotations/selex/PRJEB3289/ALX4_TGTGTC20NGA_W_1.fastq.gz\n",
      "kmc -cs666976 -k11 -ci1 -m8 ../annotations/selex/PRJEB3289/ALX4_TGTGTC20NGA_W_1.fastq.gz NA kmc_tmp 1> in.txt 2> err.txt\n",
      "kmc_tools transform NA dump NA.txt\n"
     ]
    },
    {
     "name": "stderr",
     "output_type": "stream",
     "text": [
      "in1: 100% \n"
     ]
    },
    {
     "name": "stdout",
     "output_type": "stream",
     "text": [
      "../annotations/selex/PRJEB3289/ALX4_TGTGTC20NGA_W_2.fastq.gz\n",
      "kmc -cs769008 -k11 -ci1 -m8 ../annotations/selex/PRJEB3289/ALX4_TGTGTC20NGA_W_2.fastq.gz NA kmc_tmp 1> in.txt 2> err.txt\n",
      "kmc_tools transform NA dump NA.txt\n"
     ]
    },
    {
     "name": "stderr",
     "output_type": "stream",
     "text": [
      "in1: 100% \n"
     ]
    },
    {
     "name": "stdout",
     "output_type": "stream",
     "text": [
      "../annotations/selex/PRJEB3289/ALX4_TGTGTC20NGA_W_3.fastq.gz\n",
      "kmc -cs1193432 -k11 -ci1 -m8 ../annotations/selex/PRJEB3289/ALX4_TGTGTC20NGA_W_3.fastq.gz NA kmc_tmp 1> in.txt 2> err.txt\n",
      "kmc_tools transform NA dump NA.txt\n"
     ]
    },
    {
     "name": "stderr",
     "output_type": "stream",
     "text": [
      "in1: 100% \n"
     ]
    },
    {
     "name": "stdout",
     "output_type": "stream",
     "text": [
      "../annotations/selex/PRJEB3289/ALX4_TGTGTC20NGA_W_4.fastq.gz\n",
      "kmc -cs444952 -k11 -ci1 -m8 ../annotations/selex/PRJEB3289/ALX4_TGTGTC20NGA_W_4.fastq.gz NA kmc_tmp 1> in.txt 2> err.txt\n",
      "kmc_tools transform NA dump NA.txt\n"
     ]
    },
    {
     "name": "stderr",
     "output_type": "stream",
     "text": [
      "in1: 100% \n"
     ]
    },
    {
     "name": "stdout",
     "output_type": "stream",
     "text": [
      "../annotations/selex/PRJEB9797/ALX4_eDBD_1_KW_TCTATT40NCAT.fastq.gz\n",
      "kmc -cs1211540 -k11 -ci1 -m8 ../annotations/selex/PRJEB9797/ALX4_eDBD_1_KW_TCTATT40NCAT.fastq.gz NA kmc_tmp 1> in.txt 2> err.txt\n",
      "kmc_tools transform NA dump NA.txt\n"
     ]
    },
    {
     "name": "stderr",
     "output_type": "stream",
     "text": [
      "in1: 100% \n"
     ]
    },
    {
     "name": "stdout",
     "output_type": "stream",
     "text": [
      "5 out of 16\n",
      "../annotations/selex/PRJEB9797/ALX4_eDBD_1_KW_TGCGTA40NTCA.fastq.gz\n",
      "kmc -cs1223988 -k11 -ci1 -m8 ../annotations/selex/PRJEB9797/ALX4_eDBD_1_KW_TGCGTA40NTCA.fastq.gz NA kmc_tmp 1> in.txt 2> err.txt\n",
      "kmc_tools transform NA dump NA.txt\n"
     ]
    },
    {
     "name": "stderr",
     "output_type": "stream",
     "text": [
      "in1: 100% \n"
     ]
    },
    {
     "name": "stdout",
     "output_type": "stream",
     "text": [
      "../annotations/selex/PRJEB9797/ALX4_eDBD_2_KW_TCTATT40NCAT.fastq.gz\n",
      "kmc -cs906908 -k11 -ci1 -m8 ../annotations/selex/PRJEB9797/ALX4_eDBD_2_KW_TCTATT40NCAT.fastq.gz NA kmc_tmp 1> in.txt 2> err.txt\n",
      "kmc_tools transform NA dump NA.txt\n"
     ]
    },
    {
     "name": "stderr",
     "output_type": "stream",
     "text": [
      "in1: 100% \n"
     ]
    },
    {
     "name": "stdout",
     "output_type": "stream",
     "text": [
      "../annotations/selex/PRJEB9797/ALX4_eDBD_2_KW_TGCGTA40NTCA.fastq.gz\n",
      "kmc -cs928228 -k11 -ci1 -m8 ../annotations/selex/PRJEB9797/ALX4_eDBD_2_KW_TGCGTA40NTCA.fastq.gz NA kmc_tmp 1> in.txt 2> err.txt\n",
      "kmc_tools transform NA dump NA.txt\n"
     ]
    },
    {
     "name": "stderr",
     "output_type": "stream",
     "text": [
      "in1: 100% \n"
     ]
    },
    {
     "name": "stdout",
     "output_type": "stream",
     "text": [
      "../annotations/selex/PRJEB9797/ALX4_eDBD_3_KW_TCTATT40NCAT.fastq.gz\n",
      "kmc -cs1777132 -k11 -ci1 -m8 ../annotations/selex/PRJEB9797/ALX4_eDBD_3_KW_TCTATT40NCAT.fastq.gz NA kmc_tmp 1> in.txt 2> err.txt\n",
      "kmc_tools transform NA dump NA.txt\n"
     ]
    },
    {
     "name": "stderr",
     "output_type": "stream",
     "text": [
      "in1: 100% \n"
     ]
    },
    {
     "name": "stdout",
     "output_type": "stream",
     "text": [
      "../annotations/selex/PRJEB9797/ALX4_eDBD_3_KW_TGCGTA40NTCA.fastq.gz\n",
      "kmc -cs2280312 -k11 -ci1 -m8 ../annotations/selex/PRJEB9797/ALX4_eDBD_3_KW_TGCGTA40NTCA.fastq.gz NA kmc_tmp 1> in.txt 2> err.txt\n",
      "kmc_tools transform NA dump NA.txt\n"
     ]
    },
    {
     "name": "stderr",
     "output_type": "stream",
     "text": [
      "in1: 100% \n"
     ]
    },
    {
     "name": "stdout",
     "output_type": "stream",
     "text": [
      "10 out of 16\n",
      "../annotations/selex/PRJEB9797/ALX4_eDBD_4_KW_TCTATT40NCAT.fastq.gz\n",
      "kmc -cs1677704 -k11 -ci1 -m8 ../annotations/selex/PRJEB9797/ALX4_eDBD_4_KW_TCTATT40NCAT.fastq.gz NA kmc_tmp 1> in.txt 2> err.txt\n",
      "kmc_tools transform NA dump NA.txt\n"
     ]
    },
    {
     "name": "stderr",
     "output_type": "stream",
     "text": [
      "in1: 100% \n"
     ]
    },
    {
     "name": "stdout",
     "output_type": "stream",
     "text": [
      "../annotations/selex/PRJEB9797/ALX4_eDBD_4_KW_TGCGTA40NTCA.fastq.gz\n",
      "kmc -cs1378384 -k11 -ci1 -m8 ../annotations/selex/PRJEB9797/ALX4_eDBD_4_KW_TGCGTA40NTCA.fastq.gz NA kmc_tmp 1> in.txt 2> err.txt\n",
      "kmc_tools transform NA dump NA.txt\n"
     ]
    },
    {
     "name": "stderr",
     "output_type": "stream",
     "text": [
      "in1: 100% \n"
     ]
    },
    {
     "name": "stdout",
     "output_type": "stream",
     "text": [
      "../annotations/selex/PRJEB14744/ZeroCycle_ES0_TGTGTC20NGA_0.txt.gz\n",
      "kmc -cs874160 -k11 -ci1 -m8 ../annotations/selex/PRJEB14744/ZeroCycle_ES0_TGTGTC20NGA_0.txt.gz NA kmc_tmp 1> in.txt 2> err.txt\n",
      "kmc_tools transform NA dump NA.txt\n"
     ]
    },
    {
     "name": "stderr",
     "output_type": "stream",
     "text": [
      "in1: 100% \n"
     ]
    },
    {
     "name": "stdout",
     "output_type": "stream",
     "text": [
      "../annotations/selex/PRJEB20112/ZeroCycle_TCTATT40NCAT_0_0.fastq.gz\n",
      "kmc -cs715268 -k11 -ci1 -m8 ../annotations/selex/PRJEB20112/ZeroCycle_TCTATT40NCAT_0_0.fastq.gz NA kmc_tmp 1> in.txt 2> err.txt\n",
      "kmc_tools transform NA dump NA.txt\n"
     ]
    },
    {
     "name": "stderr",
     "output_type": "stream",
     "text": [
      "in1: 100% \n"
     ]
    },
    {
     "name": "stdout",
     "output_type": "stream",
     "text": [
      "../annotations/selex/PRJEB20112/ZeroCycle_TGCGTA40NTCA_0_0.fastq.gz\n",
      "kmc -cs897372 -k11 -ci1 -m8 ../annotations/selex/PRJEB20112/ZeroCycle_TGCGTA40NTCA_0_0.fastq.gz NA kmc_tmp 1> in.txt 2> err.txt\n",
      "kmc_tools transform NA dump NA.txt\n"
     ]
    },
    {
     "name": "stderr",
     "output_type": "stream",
     "text": [
      "in1: 100% \n"
     ]
    },
    {
     "name": "stdout",
     "output_type": "stream",
     "text": [
      "15 out of 16\n",
      "../annotations/selex/PRJEB3289/ZeroCycle_TGTGTC20NGA_0_0.fastq.gz\n",
      "kmc -cs41424 -k11 -ci1 -m8 ../annotations/selex/PRJEB3289/ZeroCycle_TGTGTC20NGA_0_0.fastq.gz NA kmc_tmp 1> in.txt 2> err.txt\n",
      "kmc_tools transform NA dump NA.txt\n",
      "merging...\n"
     ]
    },
    {
     "name": "stderr",
     "output_type": "stream",
     "text": [
      "in1: 100% \n"
     ]
    },
    {
     "name": "stdout",
     "output_type": "stream",
     "text": [
      "merging done...\n",
      "transposing...\n",
      "convert to anndata...\n",
      "writing\n",
      "writing done...\n",
      "reading adata\n",
      "done...\n"
     ]
    }
   ],
   "source": [
    "# loading with the fastest command takes about 5 minutes\n",
    "for tf_name in tf_names:\n",
    "    k = 11\n",
    "    print(tf_name)\n",
    "    data_sel_tf = data[(data['tf.name'] == tf_name)] #  & (grp['cycle'].astype(str) == '1')]\n",
    "    data_sel_zero = data[(data['cycle'] == 0) & data['library'].isin(set(data[data['tf.name'] == tf_name]['library']))]  # & grp['accession'].isin(set(grp[grp['tf.name'] == tf]['accession']))]\n",
    "\n",
    "    data_sel = pd.concat([data_sel_tf, data_sel_zero]).reset_index(drop=True)\n",
    "    data_sel.shape\n",
    "    \n",
    "    # data_sel = data[data['accession'] != 'cardiac_complexes'] # .head(4)\n",
    "    # data_sel = data_sel.head(5)\n",
    "\n",
    "    # data_sel = data[data['tf.name'].str.contains('ELK1')].reset_index(drop=True)\n",
    "    data_sel['cycle'] = data_sel['cycle'].astype(int)\n",
    "    # data_sel['cycle']\n",
    "    # print(data_sel_tf.shape[0], data_sel_zero.shape[0])\n",
    "    # print('loading', tf, ':', library)\n",
    "    # reads_tf = mb.bindome.datasets.SELEX.load_read_counts(tf, data=data_sel_tf)\n",
    "    # reads_zero = mb.bindome.datasets.SELEX.load_read_counts(data=data_sel_zero, library=library)\n",
    "\n",
    "    adata_kmers_bkp = '../../data/kmers_adata_%s_k%i.h5ad' % (tf_name, k)\n",
    "    print(adata_kmers_bkp)\n",
    "    if not os.path.exists(adata_kmers_bkp):\n",
    "        kmers_by_k = {}\n",
    "        for ri, r in data_sel.iterrows():\n",
    "            if ri % 5 == 0:\n",
    "                print('%i out of %i' % (ri, data_sel.shape[0]))\n",
    "            key_added = r['filename'].replace('.fastq.gz', '').replace('.txt.gz', '')    \n",
    "\n",
    "            print(r['path'])\n",
    "            df_kmers = None\n",
    "            if mb.bindome.datasets.SELEX.is_fastq(r['path']) and k >= 10:\n",
    "                df_kmers = mb.tl.fastq2kmers(r['path'], k, log=True) # \n",
    "                df_kmers[df_kmers.columns[0]] = pd.arrays.SparseArray(df_kmers[df_kmers.columns[0]])\n",
    "            else:\n",
    "                read_tf = mb.bindome.datasets.SELEX.load_read_counts(data=data_sel[data_sel.index == ri], log_each=50, n_sample=100)\n",
    "                next_df = read_tf[list(read_tf.keys())[0]]\n",
    "                df_kmers = mb.tl.seqs2kmers(next_df['seq'], k, counts=next_df['counts'])\n",
    "\n",
    "            df_kmers.columns = [key_added]\n",
    "\n",
    "            # convert to sparse\n",
    "            df_kmers[df_kmers.columns[0]] = pd.arrays.SparseArray(df_kmers[df_kmers.columns[0]])\n",
    "            kmers_by_k[key_added] = df_kmers\n",
    "\n",
    "            if len(kmers_by_k.keys()) % 25 == 0:\n",
    "                print(len(kmers_by_k.keys()), 'out of', data_sel.shape[0])\n",
    "\n",
    "            import warnings\n",
    "            warnings.filterwarnings(\"ignore\")\n",
    "\n",
    "        from functools import reduce\n",
    "        print('merging...')\n",
    "        df_merged = reduce(lambda  left,right: pd.merge(left, right, left_index=True, right_index=True,\n",
    "                                                    how='outer'), kmers_by_k.values()).fillna(0)\n",
    "        print('merging done...')\n",
    "\n",
    "        del kmers_by_k\n",
    "        gc.collect()\n",
    "\n",
    "        print('transposing...')\n",
    "        df_merged = df_merged.T\n",
    "\n",
    "        # df_merged\n",
    "\n",
    "        print('convert to anndata...')\n",
    "        adata = anndata.AnnData(df_merged)\n",
    "\n",
    "        del df_merged\n",
    "        gc.collect()\n",
    "\n",
    "        data_sel2 = data_sel.copy()\n",
    "        del data_sel\n",
    "        gc.collect()\n",
    "\n",
    "        data_sel2.index = adata.obs_names\n",
    "\n",
    "        adata.obs = data_sel2\n",
    "        adata.var_names = list(adata.var_names)\n",
    "\n",
    "        print('writing')\n",
    "        adata.write(adata_kmers_bkp, compression='lzf')\n",
    "        print('writing done...')\n",
    "\n",
    "    print('reading adata')\n",
    "    adata = sc.read_h5ad(adata_kmers_bkp)\n",
    "    print('done...')"
   ]
  },
  {
   "cell_type": "code",
   "execution_count": 37,
   "id": "2507e496-b2d1-42d7-a297-71cc810db5b9",
   "metadata": {},
   "outputs": [
    {
     "name": "stdout",
     "output_type": "stream",
     "text": [
      "here...\n"
     ]
    }
   ],
   "source": [
    "print('here...')"
   ]
  },
  {
   "cell_type": "code",
   "execution_count": 15,
   "id": "50c2365c-dcf9-4dc7-94e1-00ac68df3485",
   "metadata": {},
   "outputs": [
    {
     "data": {
      "text/plain": [
       "CTCF_full_AJ_TAGCGA20NGCT_1     1500.0\n",
       "CTCF_full_AJ_TAGCGA20NGCT_2     1500.0\n",
       "CTCF_full_AJ_TAGCGA20NGCT_3     1500.0\n",
       "CTCF_full_AJ_TAGCGA20NGCT_4     1500.0\n",
       "ZeroCycle_ES0_TAGCGA20NGCT_0    1500.0\n",
       "ZeroCycle_TAGCGA20NGCT_0_0      1500.0\n",
       "dtype: float32"
      ]
     },
     "execution_count": 15,
     "metadata": {},
     "output_type": "execute_result"
    }
   ],
   "source": [
    "adata.to_df().T.sum(axis=0)"
   ]
  },
  {
   "cell_type": "code",
   "execution_count": 16,
   "id": "28f9a636-5a45-4cf5-a840-7e57a23d6fc0",
   "metadata": {},
   "outputs": [
    {
     "name": "stdout",
     "output_type": "stream",
     "text": [
      "-rwxrwxrwx 1 rio rio 160K Jun 20 18:39 ../../data/kmers_adata_CTCF_k6.h5ad\n"
     ]
    }
   ],
   "source": [
    "!ls -ltrh $adata_kmers_bkp"
   ]
  },
  {
   "cell_type": "code",
   "execution_count": null,
   "id": "e5251284-90cc-4938-8642-fc0d667b8342",
   "metadata": {},
   "outputs": [],
   "source": [
    "size = 0\n",
    "for p in data_sel['path']:\n",
    "    size += os.path.getsize(p) / 1e6\n",
    "print(size)"
   ]
  },
  {
   "cell_type": "code",
   "execution_count": null,
   "id": "5c1a5805-caa4-4828-b5c0-200878c52356",
   "metadata": {},
   "outputs": [],
   "source": [
    "# # %load_ext line_profiler\n",
    "# %lprun -f get_kmers get_kmers(next_df['seq'], 6, counts=next_df['counts'])\n",
    "# %time kmers = get_kmers(next_df['seq'], 6, counts=next_df['counts'])"
   ]
  },
  {
   "cell_type": "code",
   "execution_count": null,
   "id": "69e8cc5d-bd1a-4f12-ad3b-a3d55b401d62",
   "metadata": {},
   "outputs": [],
   "source": [
    "from matplotlib import rcParams\n",
    "rcParams['figure.figsize'] = 9, 2"
   ]
  },
  {
   "cell_type": "code",
   "execution_count": null,
   "id": "2d44d607-9c05-44d3-96ef-b763745528a4",
   "metadata": {},
   "outputs": [],
   "source": [
    "sc.pp.neighbors(adata)\n",
    "sc.tl.umap(adata)"
   ]
  },
  {
   "cell_type": "code",
   "execution_count": null,
   "id": "06c9248b-0df4-4b70-8559-c7f0aa93fe19",
   "metadata": {},
   "outputs": [],
   "source": [
    "sc.set_figure_params(facecolor='white')"
   ]
  },
  {
   "cell_type": "code",
   "execution_count": null,
   "id": "e68e8967-4f03-406b-b8dd-645c53719598",
   "metadata": {},
   "outputs": [],
   "source": [
    "import seaborn as sns"
   ]
  },
  {
   "cell_type": "code",
   "execution_count": null,
   "id": "15ce0ea4-cbc0-4777-82f6-f3cce28ae625",
   "metadata": {},
   "outputs": [],
   "source": [
    "adata"
   ]
  },
  {
   "cell_type": "code",
   "execution_count": null,
   "id": "85b88399-b333-4f23-bb19-3d667c15d4e6",
   "metadata": {},
   "outputs": [],
   "source": [
    "# adata.obs"
   ]
  },
  {
   "cell_type": "code",
   "execution_count": null,
   "id": "7012e4f2-643f-471e-8eb7-77593c973fe3",
   "metadata": {},
   "outputs": [],
   "source": [
    "# adata.to_df()"
   ]
  },
  {
   "cell_type": "code",
   "execution_count": null,
   "id": "130bf06c-0fba-4f35-b6c4-0fd931ff5752",
   "metadata": {},
   "outputs": [],
   "source": [
    "g = sns.clustermap(adata.to_df().T.corr(), cmap='Reds', figsize=[6, 6], xticklabels=False, yticklabels=False)"
   ]
  },
  {
   "cell_type": "code",
   "execution_count": null,
   "id": "bb6ecfb6-5d22-452f-81c6-7400d0b42366",
   "metadata": {},
   "outputs": [],
   "source": [
    "import pandas as pd"
   ]
  },
  {
   "cell_type": "code",
   "execution_count": null,
   "id": "0621d38e-7c25-4ccb-b3d3-3e6b7d4d6202",
   "metadata": {},
   "outputs": [],
   "source": [
    "adata.obs"
   ]
  },
  {
   "cell_type": "code",
   "execution_count": null,
   "id": "b43debbf-d73d-467b-b612-414cd5b34695",
   "metadata": {},
   "outputs": [],
   "source": [
    "# adata.obs_names = adata.obs['_index']\n",
    "adata.obs['is.zero'] = pd.Categorical(adata.obs_names.str.contains('Zero'))"
   ]
  },
  {
   "cell_type": "code",
   "execution_count": null,
   "id": "36db9f31-6efc-44a1-85c7-3824ba08e10d",
   "metadata": {},
   "outputs": [],
   "source": [
    "adata.obs['tf.name'] = list(data_sel['tf.name'])\n",
    "adata.obs['accession'] = list(data_sel['accession'])\n",
    "adata.obs['cycle'] = adata.obs['cycle'].astype('category')"
   ]
  },
  {
   "cell_type": "code",
   "execution_count": null,
   "id": "f039f269-8893-4fe6-9af7-f9c538a350f7",
   "metadata": {},
   "outputs": [],
   "source": [
    "adata.obs['tf.name'].value_counts()"
   ]
  },
  {
   "cell_type": "code",
   "execution_count": null,
   "id": "c9e0c6e7-19fd-4ed7-85e0-b70ac2de81ed",
   "metadata": {},
   "outputs": [],
   "source": [
    "for tf in set(adata.obs['tf.name']):\n",
    "    print(tf, len(set(adata.obs[adata.obs['tf.name'] == tf]['accession'])))"
   ]
  },
  {
   "cell_type": "code",
   "execution_count": null,
   "id": "bd19db98-c3f3-4178-9e1e-66f72bd21e32",
   "metadata": {},
   "outputs": [],
   "source": [
    "adata[adata.obs['tf.name'] == 'ELK1',:].obs"
   ]
  },
  {
   "cell_type": "code",
   "execution_count": null,
   "id": "50fc900f-09f0-45bb-b00e-d8cff6a193b1",
   "metadata": {},
   "outputs": [],
   "source": [
    "g = sns.clustermap(adata[adata.obs['tf.name'] == tf_name,:].to_df().T.corr(), cmap='Reds', figsize=[6, 6], xticklabels=False, yticklabels=False)"
   ]
  },
  {
   "cell_type": "code",
   "execution_count": null,
   "id": "407a7e67-3037-4cfc-a594-117c60601c03",
   "metadata": {},
   "outputs": [],
   "source": [
    "sc.pl.umap(adata, color=['tf.name', 'accession', 'library', 'cycle'], s=100)\n",
    "sc.pl.pca(adata, color=['tf.name', 'accession', 'library', 'cycle'], s=100)\n"
   ]
  },
  {
   "cell_type": "code",
   "execution_count": null,
   "id": "913e8ea6-4d4a-4b91-bcb3-2629dabcab9f",
   "metadata": {},
   "outputs": [],
   "source": [
    "adata.to_df()"
   ]
  },
  {
   "cell_type": "code",
   "execution_count": null,
   "id": "47b93990-65f0-4eb8-80ed-89532b14a805",
   "metadata": {},
   "outputs": [],
   "source": [
    "adata.obs"
   ]
  },
  {
   "cell_type": "code",
   "execution_count": null,
   "id": "7e9abd7f-cef8-4684-b3da-b76f1f98cedb",
   "metadata": {},
   "outputs": [],
   "source": [
    "%load_ext autoreload\n",
    "%autoreload 2\n",
    "\n",
    "import sys\n",
    "sys.executable\n",
    "\n",
    "import numpy as np\n",
    "import pandas\n",
    "import mubind as mb\n",
    "import numpy as np\n",
    "import pandas as pd\n",
    "import torch\n",
    "import bindome as bd\n",
    "bd.constants.ANNOTATIONS_DIRECTORY = '/mnt/c/Users/ignacio.ibarra/Dropbox/annotations'\n",
    "# mb.models.MultiBind\n",
    "import torch.optim as topti\n",
    "import torch.utils.data as tdata\n",
    "import matplotlib.pyplot as plt\n",
    "import logomaker\n",
    "\n",
    "# Use a GPU if available, as it should be faster.\n",
    "device = torch.device(\"cuda:0\" if torch.cuda.is_available() else \"cpu\")\n",
    "print(\"Using device: \" + str(device))"
   ]
  },
  {
   "cell_type": "code",
   "execution_count": null,
   "id": "17e661c6-c9d6-44cb-a744-dc37f586c985",
   "metadata": {},
   "outputs": [],
   "source": [
    "df = mb.bindome.datasets.ProBound.GR_mult_conc()\n",
    "df = df.sort_values(1, ascending=False).reset_index(drop=True)"
   ]
  },
  {
   "cell_type": "code",
   "execution_count": null,
   "id": "dbd12143-11b5-4812-969f-807b61f8d405",
   "metadata": {},
   "outputs": [],
   "source": [
    "data = df.head(1000)"
   ]
  },
  {
   "cell_type": "code",
   "execution_count": null,
   "id": "90d8ac8d-163d-4b14-8aa6-26cd94d7c8bc",
   "metadata": {},
   "outputs": [],
   "source": [
    "n_rounds = 1"
   ]
  },
  {
   "cell_type": "code",
   "execution_count": null,
   "id": "9c893bda-4dae-4f80-8338-555aa65d7950",
   "metadata": {},
   "outputs": [],
   "source": [
    "from matplotlib import rcParams\n",
    "rcParams['figure.figsize'] = 9, 2"
   ]
  },
  {
   "cell_type": "code",
   "execution_count": null,
   "id": "ca20f1e9-d482-42ce-865a-538caf6398d0",
   "metadata": {
    "tags": []
   },
   "outputs": [],
   "source": [
    "# assign batch and data type\n",
    "\n",
    "data['batch'] = 1\n",
    "data['is_count_data'] = 1\n",
    "\n",
    "print('loading object (# entries)', data.shape[0])\n",
    "dataset = mb.datasets.SelexDataset(data, n_rounds=n_rounds, single_encoding_step=True)\n",
    "train = tdata.DataLoader(dataset=dataset, batch_size=256, shuffle=True)\n",
    "\n",
    "model_by_k_next, res_next = mb.tl.train_iterative(train, device, min_w=16, max_w=18, n_kernels=2)                \n",
    "res = []\n",
    "model_by_k = {}\n"
   ]
  },
  {
   "cell_type": "code",
   "execution_count": null,
   "id": "eb63c77b-7b31-458a-a7ce-2c5908e7a24f",
   "metadata": {},
   "outputs": [],
   "source": [
    "adata.obs['is.zero'] = adata.obs_names.str.contains('Zero').astype('categorical')"
   ]
  },
  {
   "cell_type": "code",
   "execution_count": null,
   "id": "3b3f2268-d6fc-471a-9c8b-49deac8a5bb3",
   "metadata": {},
   "outputs": [],
   "source": [
    "adata"
   ]
  },
  {
   "cell_type": "code",
   "execution_count": null,
   "id": "0db407b0-ef1d-42a4-91a3-463a42160ee6",
   "metadata": {},
   "outputs": [],
   "source": [
    "sc.pl.umap(adata, color='is.zero', s=50)"
   ]
  },
  {
   "cell_type": "code",
   "execution_count": null,
   "id": "4aafc137-9e12-4d52-a7d7-9a265ebf8251",
   "metadata": {},
   "outputs": [],
   "source": [
    "sc.pl.umap(adata)"
   ]
  }
 ],
 "metadata": {
  "kernelspec": {
   "display_name": "Python [conda env:multibind]",
   "language": "python",
   "name": "conda-env-multibind-py"
  },
  "language_info": {
   "codemirror_mode": {
    "name": "ipython",
    "version": 3
   },
   "file_extension": ".py",
   "mimetype": "text/x-python",
   "name": "python",
   "nbconvert_exporter": "python",
   "pygments_lexer": "ipython3",
   "version": "3.10.4"
  }
 },
 "nbformat": 4,
 "nbformat_minor": 5
}
