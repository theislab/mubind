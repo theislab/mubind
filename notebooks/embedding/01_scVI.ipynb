{
 "cells": [
  {
   "cell_type": "code",
   "execution_count": 1,
   "id": "a243a24a-b5d3-49bc-b437-6388d607cfe8",
   "metadata": {},
   "outputs": [],
   "source": [
    "%load_ext autoreload\n",
    "%autoreload 2"
   ]
  },
  {
   "cell_type": "code",
   "execution_count": 2,
   "id": "402ae57e-25d7-496a-a79b-2105f14f36a4",
   "metadata": {},
   "outputs": [
    {
     "name": "stdout",
     "output_type": "stream",
     "text": [
      "Using device: cuda:0\n"
     ]
    }
   ],
   "source": [
    "# import mubind as mb\n",
    "\n",
    "import numpy as np\n",
    "import pandas as pd\n",
    "\n",
    "import torch\n",
    "# import bindome as bd\n",
    "# bd.constants.ANNOTATIONS_DIRECTORY = '../annotations'\n",
    "# mb.models.MultiBind\n",
    "import torch.optim as topti\n",
    "import torch.utils.data as tdata\n",
    "import matplotlib.pyplot as plt\n",
    "# import logomaker\n",
    "\n",
    "# Use a GPU if available, as it should be faster.\n",
    "device = torch.device(\"cuda:0\" if torch.cuda.is_available() else \"cpu\")\n",
    "print(\"Using device: \" + str(device))"
   ]
  },
  {
   "cell_type": "code",
   "execution_count": 3,
   "id": "13f2db9f-5d33-4aae-8438-6f5e17f32891",
   "metadata": {},
   "outputs": [],
   "source": [
    "import anndata\n",
    "import scanpy as sc"
   ]
  },
  {
   "cell_type": "code",
   "execution_count": 4,
   "id": "cbfa1769-abd5-41db-90a0-4425894ae061",
   "metadata": {},
   "outputs": [
    {
     "name": "stderr",
     "output_type": "stream",
     "text": [
      "Global seed set to 0\n"
     ]
    }
   ],
   "source": [
    "import scvi"
   ]
  },
  {
   "cell_type": "code",
   "execution_count": 5,
   "id": "c251bea3-5e13-4808-ba26-a939d2b64698",
   "metadata": {},
   "outputs": [],
   "source": [
    "k = 8\n",
    "adata = anndata.read_h5ad('../../data/kmers_adata_ALX1_k%i.h5ad' % k)\n",
    "# map seqs as string\n",
    "map_seq2int = 0\n",
    "if map_seq2int:\n",
    "    adata.var_names = [mb.tl.string2bin(s) for s in list(adata.var_names)]\n",
    "    adata.write('../../data/kmers_adata_ALX1_k%i_int.h5ad' % k, compression='lzf')"
   ]
  },
  {
   "cell_type": "code",
   "execution_count": 6,
   "id": "78d83196-7f76-493d-b1fa-8fd380d241ae",
   "metadata": {},
   "outputs": [
    {
     "data": {
      "text/plain": [
       "(10, 18821)"
      ]
     },
     "execution_count": 6,
     "metadata": {},
     "output_type": "execute_result"
    }
   ],
   "source": [
    "adata.shape"
   ]
  },
  {
   "cell_type": "code",
   "execution_count": 7,
   "id": "57616a0a-5fe1-45e4-b105-99fa2b4898a8",
   "metadata": {},
   "outputs": [
    {
     "data": {
      "text/html": [
       "<div>\n",
       "<style scoped>\n",
       "    .dataframe tbody tr th:only-of-type {\n",
       "        vertical-align: middle;\n",
       "    }\n",
       "\n",
       "    .dataframe tbody tr th {\n",
       "        vertical-align: top;\n",
       "    }\n",
       "\n",
       "    .dataframe thead th {\n",
       "        text-align: right;\n",
       "    }\n",
       "</style>\n",
       "<table border=\"1\" class=\"dataframe\">\n",
       "  <thead>\n",
       "    <tr style=\"text-align: right;\">\n",
       "      <th></th>\n",
       "      <th>filename</th>\n",
       "      <th>library</th>\n",
       "      <th>batch</th>\n",
       "      <th>cycle</th>\n",
       "      <th>tf.name</th>\n",
       "      <th>accession</th>\n",
       "      <th>path</th>\n",
       "    </tr>\n",
       "  </thead>\n",
       "  <tbody>\n",
       "    <tr>\n",
       "      <th>ALX1_FL_1_KX_TACCAA40NTTA</th>\n",
       "      <td>ALX1_FL_1_KX_TACCAA40NTTA.fastq.gz</td>\n",
       "      <td>TACCAA40NTTA</td>\n",
       "      <td>FL</td>\n",
       "      <td>1</td>\n",
       "      <td>ALX1</td>\n",
       "      <td>PRJEB9797</td>\n",
       "      <td>../annotations/selex/PRJEB9797/ALX1_FL_1_KX_TA...</td>\n",
       "    </tr>\n",
       "    <tr>\n",
       "      <th>ALX1_FL_1_KX_TCCTTG40NGGT</th>\n",
       "      <td>ALX1_FL_1_KX_TCCTTG40NGGT.fastq.gz</td>\n",
       "      <td>TCCTTG40NGGT</td>\n",
       "      <td>FL</td>\n",
       "      <td>1</td>\n",
       "      <td>ALX1</td>\n",
       "      <td>PRJEB9797</td>\n",
       "      <td>../annotations/selex/PRJEB9797/ALX1_FL_1_KX_TC...</td>\n",
       "    </tr>\n",
       "    <tr>\n",
       "      <th>ALX1_FL_2_KX_TACCAA40NTTA</th>\n",
       "      <td>ALX1_FL_2_KX_TACCAA40NTTA.fastq.gz</td>\n",
       "      <td>TACCAA40NTTA</td>\n",
       "      <td>FL</td>\n",
       "      <td>2</td>\n",
       "      <td>ALX1</td>\n",
       "      <td>PRJEB9797</td>\n",
       "      <td>../annotations/selex/PRJEB9797/ALX1_FL_2_KX_TA...</td>\n",
       "    </tr>\n",
       "    <tr>\n",
       "      <th>ALX1_FL_2_KX_TCCTTG40NGGT</th>\n",
       "      <td>ALX1_FL_2_KX_TCCTTG40NGGT.fastq.gz</td>\n",
       "      <td>TCCTTG40NGGT</td>\n",
       "      <td>FL</td>\n",
       "      <td>2</td>\n",
       "      <td>ALX1</td>\n",
       "      <td>PRJEB9797</td>\n",
       "      <td>../annotations/selex/PRJEB9797/ALX1_FL_2_KX_TC...</td>\n",
       "    </tr>\n",
       "    <tr>\n",
       "      <th>ALX1_FL_3_KX_TACCAA40NTTA</th>\n",
       "      <td>ALX1_FL_3_KX_TACCAA40NTTA.fastq.gz</td>\n",
       "      <td>TACCAA40NTTA</td>\n",
       "      <td>FL</td>\n",
       "      <td>3</td>\n",
       "      <td>ALX1</td>\n",
       "      <td>PRJEB9797</td>\n",
       "      <td>../annotations/selex/PRJEB9797/ALX1_FL_3_KX_TA...</td>\n",
       "    </tr>\n",
       "    <tr>\n",
       "      <th>ALX1_FL_3_KX_TCCTTG40NGGT</th>\n",
       "      <td>ALX1_FL_3_KX_TCCTTG40NGGT.fastq.gz</td>\n",
       "      <td>TCCTTG40NGGT</td>\n",
       "      <td>FL</td>\n",
       "      <td>3</td>\n",
       "      <td>ALX1</td>\n",
       "      <td>PRJEB9797</td>\n",
       "      <td>../annotations/selex/PRJEB9797/ALX1_FL_3_KX_TC...</td>\n",
       "    </tr>\n",
       "    <tr>\n",
       "      <th>ALX1_FL_4_KX_TACCAA40NTTA</th>\n",
       "      <td>ALX1_FL_4_KX_TACCAA40NTTA.fastq.gz</td>\n",
       "      <td>TACCAA40NTTA</td>\n",
       "      <td>FL</td>\n",
       "      <td>4</td>\n",
       "      <td>ALX1</td>\n",
       "      <td>PRJEB9797</td>\n",
       "      <td>../annotations/selex/PRJEB9797/ALX1_FL_4_KX_TA...</td>\n",
       "    </tr>\n",
       "    <tr>\n",
       "      <th>ALX1_FL_4_KX_TCCTTG40NGGT</th>\n",
       "      <td>ALX1_FL_4_KX_TCCTTG40NGGT.fastq.gz</td>\n",
       "      <td>TCCTTG40NGGT</td>\n",
       "      <td>FL</td>\n",
       "      <td>4</td>\n",
       "      <td>ALX1</td>\n",
       "      <td>PRJEB9797</td>\n",
       "      <td>../annotations/selex/PRJEB9797/ALX1_FL_4_KX_TC...</td>\n",
       "    </tr>\n",
       "    <tr>\n",
       "      <th>ZeroCycle_TACCAA40NTTA_0_0</th>\n",
       "      <td>ZeroCycle_TACCAA40NTTA_0_0.fastq.gz</td>\n",
       "      <td>TACCAA40NTTA</td>\n",
       "      <td>0</td>\n",
       "      <td>0</td>\n",
       "      <td>ZEROCYCLE</td>\n",
       "      <td>PRJEB20112</td>\n",
       "      <td>../annotations/selex/PRJEB20112/ZeroCycle_TACC...</td>\n",
       "    </tr>\n",
       "    <tr>\n",
       "      <th>ZeroCycle_TCCTTG40NGGT_0_0</th>\n",
       "      <td>ZeroCycle_TCCTTG40NGGT_0_0.fastq.gz</td>\n",
       "      <td>TCCTTG40NGGT</td>\n",
       "      <td>0</td>\n",
       "      <td>0</td>\n",
       "      <td>ZEROCYCLE</td>\n",
       "      <td>PRJEB20112</td>\n",
       "      <td>../annotations/selex/PRJEB20112/ZeroCycle_TCCT...</td>\n",
       "    </tr>\n",
       "  </tbody>\n",
       "</table>\n",
       "</div>"
      ],
      "text/plain": [
       "                                                       filename       library  \\\n",
       "ALX1_FL_1_KX_TACCAA40NTTA    ALX1_FL_1_KX_TACCAA40NTTA.fastq.gz  TACCAA40NTTA   \n",
       "ALX1_FL_1_KX_TCCTTG40NGGT    ALX1_FL_1_KX_TCCTTG40NGGT.fastq.gz  TCCTTG40NGGT   \n",
       "ALX1_FL_2_KX_TACCAA40NTTA    ALX1_FL_2_KX_TACCAA40NTTA.fastq.gz  TACCAA40NTTA   \n",
       "ALX1_FL_2_KX_TCCTTG40NGGT    ALX1_FL_2_KX_TCCTTG40NGGT.fastq.gz  TCCTTG40NGGT   \n",
       "ALX1_FL_3_KX_TACCAA40NTTA    ALX1_FL_3_KX_TACCAA40NTTA.fastq.gz  TACCAA40NTTA   \n",
       "ALX1_FL_3_KX_TCCTTG40NGGT    ALX1_FL_3_KX_TCCTTG40NGGT.fastq.gz  TCCTTG40NGGT   \n",
       "ALX1_FL_4_KX_TACCAA40NTTA    ALX1_FL_4_KX_TACCAA40NTTA.fastq.gz  TACCAA40NTTA   \n",
       "ALX1_FL_4_KX_TCCTTG40NGGT    ALX1_FL_4_KX_TCCTTG40NGGT.fastq.gz  TCCTTG40NGGT   \n",
       "ZeroCycle_TACCAA40NTTA_0_0  ZeroCycle_TACCAA40NTTA_0_0.fastq.gz  TACCAA40NTTA   \n",
       "ZeroCycle_TCCTTG40NGGT_0_0  ZeroCycle_TCCTTG40NGGT_0_0.fastq.gz  TCCTTG40NGGT   \n",
       "\n",
       "                           batch  cycle    tf.name   accession  \\\n",
       "ALX1_FL_1_KX_TACCAA40NTTA     FL      1       ALX1   PRJEB9797   \n",
       "ALX1_FL_1_KX_TCCTTG40NGGT     FL      1       ALX1   PRJEB9797   \n",
       "ALX1_FL_2_KX_TACCAA40NTTA     FL      2       ALX1   PRJEB9797   \n",
       "ALX1_FL_2_KX_TCCTTG40NGGT     FL      2       ALX1   PRJEB9797   \n",
       "ALX1_FL_3_KX_TACCAA40NTTA     FL      3       ALX1   PRJEB9797   \n",
       "ALX1_FL_3_KX_TCCTTG40NGGT     FL      3       ALX1   PRJEB9797   \n",
       "ALX1_FL_4_KX_TACCAA40NTTA     FL      4       ALX1   PRJEB9797   \n",
       "ALX1_FL_4_KX_TCCTTG40NGGT     FL      4       ALX1   PRJEB9797   \n",
       "ZeroCycle_TACCAA40NTTA_0_0     0      0  ZEROCYCLE  PRJEB20112   \n",
       "ZeroCycle_TCCTTG40NGGT_0_0     0      0  ZEROCYCLE  PRJEB20112   \n",
       "\n",
       "                                                                         path  \n",
       "ALX1_FL_1_KX_TACCAA40NTTA   ../annotations/selex/PRJEB9797/ALX1_FL_1_KX_TA...  \n",
       "ALX1_FL_1_KX_TCCTTG40NGGT   ../annotations/selex/PRJEB9797/ALX1_FL_1_KX_TC...  \n",
       "ALX1_FL_2_KX_TACCAA40NTTA   ../annotations/selex/PRJEB9797/ALX1_FL_2_KX_TA...  \n",
       "ALX1_FL_2_KX_TCCTTG40NGGT   ../annotations/selex/PRJEB9797/ALX1_FL_2_KX_TC...  \n",
       "ALX1_FL_3_KX_TACCAA40NTTA   ../annotations/selex/PRJEB9797/ALX1_FL_3_KX_TA...  \n",
       "ALX1_FL_3_KX_TCCTTG40NGGT   ../annotations/selex/PRJEB9797/ALX1_FL_3_KX_TC...  \n",
       "ALX1_FL_4_KX_TACCAA40NTTA   ../annotations/selex/PRJEB9797/ALX1_FL_4_KX_TA...  \n",
       "ALX1_FL_4_KX_TCCTTG40NGGT   ../annotations/selex/PRJEB9797/ALX1_FL_4_KX_TC...  \n",
       "ZeroCycle_TACCAA40NTTA_0_0  ../annotations/selex/PRJEB20112/ZeroCycle_TACC...  \n",
       "ZeroCycle_TCCTTG40NGGT_0_0  ../annotations/selex/PRJEB20112/ZeroCycle_TCCT...  "
      ]
     },
     "execution_count": 7,
     "metadata": {},
     "output_type": "execute_result"
    }
   ],
   "source": [
    "adata.obs"
   ]
  },
  {
   "cell_type": "code",
   "execution_count": 8,
   "id": "0a57abc4-945c-4a32-9cdf-a19796e81af8",
   "metadata": {},
   "outputs": [],
   "source": [
    "adata.obs['batch'] = adata.obs['accession'].astype(str) #  + '_' + adata.obs['library'].astype(str)"
   ]
  },
  {
   "cell_type": "code",
   "execution_count": 9,
   "id": "bbbb4cf5-52dd-4b2c-93f6-7a190436fa22",
   "metadata": {},
   "outputs": [],
   "source": [
    "adata.layers['counts'] = adata.X"
   ]
  },
  {
   "cell_type": "code",
   "execution_count": 10,
   "id": "0eb0c43e-f24a-44aa-a0eb-80b7e133f90f",
   "metadata": {},
   "outputs": [
    {
     "data": {
      "text/plain": [
       "'0.16.2'"
      ]
     },
     "execution_count": 10,
     "metadata": {},
     "output_type": "execute_result"
    }
   ],
   "source": [
    "scvi.__version__"
   ]
  },
  {
   "cell_type": "code",
   "execution_count": 11,
   "id": "b14b69f6-ea37-49c3-ab84-4e07edd8cfe6",
   "metadata": {},
   "outputs": [
    {
     "name": "stdout",
     "output_type": "stream",
     "text": [
      "\u001b[34mINFO    \u001b[0m File data/hca_subsampled_20k.h5ad already downloaded                                \n"
     ]
    }
   ],
   "source": [
    "adata = scvi.data.heart_cell_atlas_subsampled()\n"
   ]
  },
  {
   "cell_type": "code",
   "execution_count": 12,
   "id": "49515906-09b7-44b0-adc5-8e5b2ab50bb5",
   "metadata": {},
   "outputs": [],
   "source": [
    "\"\"\"scVI wrapper function\n",
    "Based on scVI version 0.6.7 (available through `conda <https://anaconda.org/bioconda/scvi>`_)\n",
    ".. note::\n",
    "    scVI expects only non-normalized (count) data on highly variable genes!\n",
    ":param adata: preprocessed ``anndata`` object\n",
    ":param batch: batch key in ``adata.obs``\n",
    ":param hvg: list of highly variables to subset to. If ``None``, the full dataset will be used\n",
    ":return: ``anndata`` object containing the corrected feature matrix as well as an embedding representation of the\n",
    "    corrected data\n",
    "\"\"\"\n",
    "# try:\n",
    "# from scvi.dataset import AnnDatasetFromAnnData\n",
    "# from scvi.inference import UnsupervisedTrainer\n",
    "# from scvi.models import VAE\n",
    "from sklearn.preprocessing import LabelEncoder\n",
    "# except ModuleNotFoundError as e:\n",
    "#     raise IntegrationMethodNotFound(e)\n",
    "\n",
    "# utils.check_sanity(adata, batch, hvg)"
   ]
  },
  {
   "cell_type": "code",
   "execution_count": 20,
   "id": "937cc104-6b89-41fc-b74a-971be42517f2",
   "metadata": {},
   "outputs": [
    {
     "data": {
      "text/plain": [
       "AACTCCCCACGAGAGT-1-HCAHeart7844001    HCAHeart7844001\n",
       "ATAACGCAGAGCTGGT-1-HCAHeart7829979    HCAHeart7829979\n",
       "GTCAAGTCATGCCACG-1-HCAHeart7702879    HCAHeart7702879\n",
       "GGTGATTCAAATGAGT-1-HCAHeart8102858    HCAHeart8102858\n",
       "AGAGAATTCTTAGCAG-1-HCAHeart8102863    HCAHeart8102863\n",
       "                                           ...       \n",
       "CGTCAGGCAAGGCTCC-1-HCAHeart7985087    HCAHeart7985087\n",
       "AGTCACAAGACGAGCT-1-H0035_RV                  H0035_RV\n",
       "GGTGAAGGTTCCACAA-1-HCAHeart7844001    HCAHeart7844001\n",
       "CAGCTAAGTACAGACG-1-HCAHeart7702876    HCAHeart7702876\n",
       "GATCGTATCAGGTTCA-1-HCAHeart7833852    HCAHeart7833852\n",
       "Name: sample, Length: 18641, dtype: category\n",
       "Categories (145, object): ['H0015_LA_new', 'H0015_LV', 'H0015_RA', 'H0015_RV', ..., 'HCAHeart8287125', 'HCAHeart8287126', 'HCAHeart8287127', 'HCAHeart8287128']"
      ]
     },
     "execution_count": 20,
     "metadata": {},
     "output_type": "execute_result"
    }
   ],
   "source": [
    "adata.obs['sample']"
   ]
  },
  {
   "cell_type": "code",
   "execution_count": 21,
   "id": "2010613d-602a-40a5-962a-05f2b8a5d1c3",
   "metadata": {},
   "outputs": [
    {
     "name": "stderr",
     "output_type": "stream",
     "text": [
      "/home/rio/miniconda3/envs/scvi/lib/python3.10/site-packages/scipy/sparse/data.py:133: RuntimeWarning: overflow encountered in expm1\n",
      "  result = op(self._deduped_data())\n"
     ]
    },
    {
     "ename": "ValueError",
     "evalue": "cannot specify integer `bins` when input data contains infinity",
     "output_type": "error",
     "traceback": [
      "\u001b[0;31m---------------------------------------------------------------------------\u001b[0m",
      "\u001b[0;31mValueError\u001b[0m                                Traceback (most recent call last)",
      "Input \u001b[0;32mIn [21]\u001b[0m, in \u001b[0;36m<cell line: 1>\u001b[0;34m()\u001b[0m\n\u001b[0;32m----> 1\u001b[0m \u001b[43msc\u001b[49m\u001b[38;5;241;43m.\u001b[39;49m\u001b[43mpp\u001b[49m\u001b[38;5;241;43m.\u001b[39;49m\u001b[43mhighly_variable_genes\u001b[49m\u001b[43m(\u001b[49m\n\u001b[1;32m      2\u001b[0m \u001b[43m    \u001b[49m\u001b[43madata\u001b[49m\u001b[43m,\u001b[49m\n\u001b[1;32m      3\u001b[0m \u001b[43m    \u001b[49m\u001b[43mn_top_genes\u001b[49m\u001b[38;5;241;43m=\u001b[39;49m\u001b[38;5;241;43m200\u001b[39;49m\u001b[43m,\u001b[49m\n\u001b[1;32m      4\u001b[0m \u001b[43m    \u001b[49m\u001b[43msubset\u001b[49m\u001b[38;5;241;43m=\u001b[39;49m\u001b[38;5;28;43;01mTrue\u001b[39;49;00m\u001b[43m,\u001b[49m\n\u001b[1;32m      5\u001b[0m \u001b[43m    \u001b[49m\u001b[43mlayer\u001b[49m\u001b[38;5;241;43m=\u001b[39;49m\u001b[38;5;124;43m\"\u001b[39;49m\u001b[38;5;124;43mcounts\u001b[39;49m\u001b[38;5;124;43m\"\u001b[39;49m\u001b[43m,\u001b[49m\n\u001b[1;32m      6\u001b[0m \u001b[43m    \u001b[49m\u001b[38;5;66;43;03m# flavor=\"seurat_v3\",\u001b[39;49;00m\n\u001b[1;32m      7\u001b[0m \u001b[43m    \u001b[49m\u001b[43mbatch_key\u001b[49m\u001b[38;5;241;43m=\u001b[39;49m\u001b[38;5;124;43m\"\u001b[39;49m\u001b[38;5;124;43msample\u001b[39;49m\u001b[38;5;124;43m\"\u001b[39;49m\n\u001b[1;32m      8\u001b[0m \u001b[43m)\u001b[49m\n",
      "File \u001b[0;32m~/miniconda3/envs/scvi/lib/python3.10/site-packages/scanpy/preprocessing/_highly_variable_genes.py:459\u001b[0m, in \u001b[0;36mhighly_variable_genes\u001b[0;34m(adata, layer, n_top_genes, min_disp, max_disp, min_mean, max_mean, span, n_bins, flavor, subset, inplace, batch_key, check_values)\u001b[0m\n\u001b[1;32m    455\u001b[0m     filt \u001b[38;5;241m=\u001b[39m filter_genes(adata_subset, min_cells\u001b[38;5;241m=\u001b[39m\u001b[38;5;241m1\u001b[39m, inplace\u001b[38;5;241m=\u001b[39m\u001b[38;5;28;01mFalse\u001b[39;00m)[\u001b[38;5;241m0\u001b[39m]\n\u001b[1;32m    457\u001b[0m adata_subset \u001b[38;5;241m=\u001b[39m adata_subset[:, filt]\n\u001b[0;32m--> 459\u001b[0m hvg \u001b[38;5;241m=\u001b[39m \u001b[43m_highly_variable_genes_single_batch\u001b[49m\u001b[43m(\u001b[49m\n\u001b[1;32m    460\u001b[0m \u001b[43m    \u001b[49m\u001b[43madata_subset\u001b[49m\u001b[43m,\u001b[49m\n\u001b[1;32m    461\u001b[0m \u001b[43m    \u001b[49m\u001b[43mmin_disp\u001b[49m\u001b[38;5;241;43m=\u001b[39;49m\u001b[43mmin_disp\u001b[49m\u001b[43m,\u001b[49m\n\u001b[1;32m    462\u001b[0m \u001b[43m    \u001b[49m\u001b[43mmax_disp\u001b[49m\u001b[38;5;241;43m=\u001b[39;49m\u001b[43mmax_disp\u001b[49m\u001b[43m,\u001b[49m\n\u001b[1;32m    463\u001b[0m \u001b[43m    \u001b[49m\u001b[43mmin_mean\u001b[49m\u001b[38;5;241;43m=\u001b[39;49m\u001b[43mmin_mean\u001b[49m\u001b[43m,\u001b[49m\n\u001b[1;32m    464\u001b[0m \u001b[43m    \u001b[49m\u001b[43mmax_mean\u001b[49m\u001b[38;5;241;43m=\u001b[39;49m\u001b[43mmax_mean\u001b[49m\u001b[43m,\u001b[49m\n\u001b[1;32m    465\u001b[0m \u001b[43m    \u001b[49m\u001b[43mn_top_genes\u001b[49m\u001b[38;5;241;43m=\u001b[39;49m\u001b[43mn_top_genes\u001b[49m\u001b[43m,\u001b[49m\n\u001b[1;32m    466\u001b[0m \u001b[43m    \u001b[49m\u001b[43mn_bins\u001b[49m\u001b[38;5;241;43m=\u001b[39;49m\u001b[43mn_bins\u001b[49m\u001b[43m,\u001b[49m\n\u001b[1;32m    467\u001b[0m \u001b[43m    \u001b[49m\u001b[43mflavor\u001b[49m\u001b[38;5;241;43m=\u001b[39;49m\u001b[43mflavor\u001b[49m\u001b[43m,\u001b[49m\n\u001b[1;32m    468\u001b[0m \u001b[43m\u001b[49m\u001b[43m)\u001b[49m\n\u001b[1;32m    470\u001b[0m \u001b[38;5;66;03m# Add 0 values for genes that were filtered out\u001b[39;00m\n\u001b[1;32m    471\u001b[0m missing_hvg \u001b[38;5;241m=\u001b[39m pd\u001b[38;5;241m.\u001b[39mDataFrame(\n\u001b[1;32m    472\u001b[0m     np\u001b[38;5;241m.\u001b[39mzeros((np\u001b[38;5;241m.\u001b[39msum(\u001b[38;5;241m~\u001b[39mfilt), \u001b[38;5;28mlen\u001b[39m(hvg\u001b[38;5;241m.\u001b[39mcolumns))),\n\u001b[1;32m    473\u001b[0m     columns\u001b[38;5;241m=\u001b[39mhvg\u001b[38;5;241m.\u001b[39mcolumns,\n\u001b[1;32m    474\u001b[0m )\n",
      "File \u001b[0;32m~/miniconda3/envs/scvi/lib/python3.10/site-packages/scanpy/preprocessing/_highly_variable_genes.py:215\u001b[0m, in \u001b[0;36m_highly_variable_genes_single_batch\u001b[0;34m(adata, layer, min_disp, max_disp, min_mean, max_mean, n_top_genes, n_bins, flavor)\u001b[0m\n\u001b[1;32m    213\u001b[0m df[\u001b[38;5;124m'\u001b[39m\u001b[38;5;124mdispersions\u001b[39m\u001b[38;5;124m'\u001b[39m] \u001b[38;5;241m=\u001b[39m dispersion\n\u001b[1;32m    214\u001b[0m \u001b[38;5;28;01mif\u001b[39;00m flavor \u001b[38;5;241m==\u001b[39m \u001b[38;5;124m'\u001b[39m\u001b[38;5;124mseurat\u001b[39m\u001b[38;5;124m'\u001b[39m:\n\u001b[0;32m--> 215\u001b[0m     df[\u001b[38;5;124m'\u001b[39m\u001b[38;5;124mmean_bin\u001b[39m\u001b[38;5;124m'\u001b[39m] \u001b[38;5;241m=\u001b[39m \u001b[43mpd\u001b[49m\u001b[38;5;241;43m.\u001b[39;49m\u001b[43mcut\u001b[49m\u001b[43m(\u001b[49m\u001b[43mdf\u001b[49m\u001b[43m[\u001b[49m\u001b[38;5;124;43m'\u001b[39;49m\u001b[38;5;124;43mmeans\u001b[39;49m\u001b[38;5;124;43m'\u001b[39;49m\u001b[43m]\u001b[49m\u001b[43m,\u001b[49m\u001b[43m \u001b[49m\u001b[43mbins\u001b[49m\u001b[38;5;241;43m=\u001b[39;49m\u001b[43mn_bins\u001b[49m\u001b[43m)\u001b[49m\n\u001b[1;32m    216\u001b[0m     disp_grouped \u001b[38;5;241m=\u001b[39m df\u001b[38;5;241m.\u001b[39mgroupby(\u001b[38;5;124m'\u001b[39m\u001b[38;5;124mmean_bin\u001b[39m\u001b[38;5;124m'\u001b[39m)[\u001b[38;5;124m'\u001b[39m\u001b[38;5;124mdispersions\u001b[39m\u001b[38;5;124m'\u001b[39m]\n\u001b[1;32m    217\u001b[0m     disp_mean_bin \u001b[38;5;241m=\u001b[39m disp_grouped\u001b[38;5;241m.\u001b[39mmean()\n",
      "File \u001b[0;32m~/miniconda3/envs/scvi/lib/python3.10/site-packages/pandas/core/reshape/tile.py:262\u001b[0m, in \u001b[0;36mcut\u001b[0;34m(x, bins, right, labels, retbins, precision, include_lowest, duplicates, ordered)\u001b[0m\n\u001b[1;32m    258\u001b[0m mn, mx \u001b[38;5;241m=\u001b[39m (mi \u001b[38;5;241m+\u001b[39m \u001b[38;5;241m0.0\u001b[39m \u001b[38;5;28;01mfor\u001b[39;00m mi \u001b[38;5;129;01min\u001b[39;00m rng)\n\u001b[1;32m    260\u001b[0m \u001b[38;5;28;01mif\u001b[39;00m np\u001b[38;5;241m.\u001b[39misinf(mn) \u001b[38;5;129;01mor\u001b[39;00m np\u001b[38;5;241m.\u001b[39misinf(mx):\n\u001b[1;32m    261\u001b[0m     \u001b[38;5;66;03m# GH 24314\u001b[39;00m\n\u001b[0;32m--> 262\u001b[0m     \u001b[38;5;28;01mraise\u001b[39;00m \u001b[38;5;167;01mValueError\u001b[39;00m(\n\u001b[1;32m    263\u001b[0m         \u001b[38;5;124m\"\u001b[39m\u001b[38;5;124mcannot specify integer `bins` when input data contains infinity\u001b[39m\u001b[38;5;124m\"\u001b[39m\n\u001b[1;32m    264\u001b[0m     )\n\u001b[1;32m    265\u001b[0m \u001b[38;5;28;01melif\u001b[39;00m mn \u001b[38;5;241m==\u001b[39m mx:  \u001b[38;5;66;03m# adjust end points before binning\u001b[39;00m\n\u001b[1;32m    266\u001b[0m     mn \u001b[38;5;241m-\u001b[39m\u001b[38;5;241m=\u001b[39m \u001b[38;5;241m0.001\u001b[39m \u001b[38;5;241m*\u001b[39m \u001b[38;5;28mabs\u001b[39m(mn) \u001b[38;5;28;01mif\u001b[39;00m mn \u001b[38;5;241m!=\u001b[39m \u001b[38;5;241m0\u001b[39m \u001b[38;5;28;01melse\u001b[39;00m \u001b[38;5;241m0.001\u001b[39m\n",
      "\u001b[0;31mValueError\u001b[0m: cannot specify integer `bins` when input data contains infinity"
     ]
    }
   ],
   "source": [
    "sc.pp.highly_variable_genes(\n",
    "    adata,\n",
    "    n_top_genes=200,\n",
    "    subset=True,\n",
    "    layer=\"counts\",\n",
    "    # flavor=\"seurat_v3\",\n",
    "    batch_key=\"batch\"\n",
    ")"
   ]
  },
  {
   "cell_type": "code",
   "execution_count": 57,
   "id": "774c8ec0-1b41-46ab-9f62-9afdb39089e8",
   "metadata": {},
   "outputs": [
    {
     "name": "stderr",
     "output_type": "stream",
     "text": [
      "/home/rio/miniconda3/envs/scvi/lib/python3.10/site-packages/scvi/data/_utils.py:156: UserWarning: Category 1 in adata.obs['batch'] has fewer than 3 cells. Models may not train properly.\n",
      "  warnings.warn(\n"
     ]
    }
   ],
   "source": [
    "scvi.model.SCVI.setup_anndata(\n",
    "    adata,\n",
    "    layer=\"counts\",\n",
    "    categorical_covariate_keys=[\"batch\",], # \n",
    "    # continuous_covariate_keys=[\"percent_mito\", \"percent_ribo\"]\n",
    ")"
   ]
  },
  {
   "cell_type": "code",
   "execution_count": 58,
   "id": "34fd7554-d015-445d-8ed1-e073bf2feff7",
   "metadata": {},
   "outputs": [
    {
     "data": {
      "text/plain": [
       "PRJEB9797     8\n",
       "PRJEB20112    2\n",
       "Name: batch, dtype: int64"
      ]
     },
     "execution_count": 58,
     "metadata": {},
     "output_type": "execute_result"
    }
   ],
   "source": [
    "adata.obs['batch'].value_counts()"
   ]
  },
  {
   "cell_type": "code",
   "execution_count": 59,
   "id": "7c816cc1-c438-43e2-9732-f2c2528b0f56",
   "metadata": {},
   "outputs": [],
   "source": [
    "model = scvi.model.SCVI(adata)\n"
   ]
  },
  {
   "cell_type": "code",
   "execution_count": 60,
   "id": "9b309f9c-3b0b-46ce-86c3-58716b552628",
   "metadata": {},
   "outputs": [
    {
     "name": "stderr",
     "output_type": "stream",
     "text": [
      "GPU available: True, used: True\n",
      "TPU available: False, using: 0 TPU cores\n",
      "IPU available: False, using: 0 IPUs\n",
      "LOCAL_RANK: 0 - CUDA_VISIBLE_DEVICES: [0]\n",
      "/home/rio/miniconda3/envs/scvi/lib/python3.10/site-packages/pytorch_lightning/trainer/data_loading.py:428: UserWarning: The number of training samples (1) is smaller than the logging interval Trainer(log_every_n_steps=10). Set a lower value for log_every_n_steps if you want to see logs for the training epoch.\n",
      "  rank_zero_warn(\n"
     ]
    },
    {
     "ename": "MisconfigurationException",
     "evalue": "Total length of `Dataloader` across ranks is zero. Please make sure that it returns at least 1 batch.",
     "output_type": "error",
     "traceback": [
      "\u001b[0;31m---------------------------------------------------------------------------\u001b[0m",
      "\u001b[0;31mMisconfigurationException\u001b[0m                 Traceback (most recent call last)",
      "Input \u001b[0;32mIn [60]\u001b[0m, in \u001b[0;36m<cell line: 1>\u001b[0;34m()\u001b[0m\n\u001b[0;32m----> 1\u001b[0m \u001b[43mmodel\u001b[49m\u001b[38;5;241;43m.\u001b[39;49m\u001b[43mtrain\u001b[49m\u001b[43m(\u001b[49m\u001b[43m)\u001b[49m\n",
      "File \u001b[0;32m~/miniconda3/envs/scvi/lib/python3.10/site-packages/scvi/model/base/_training_mixin.py:77\u001b[0m, in \u001b[0;36mUnsupervisedTrainingMixin.train\u001b[0;34m(self, max_epochs, use_gpu, train_size, validation_size, batch_size, early_stopping, plan_kwargs, **trainer_kwargs)\u001b[0m\n\u001b[1;32m     66\u001b[0m trainer_kwargs[es] \u001b[38;5;241m=\u001b[39m (\n\u001b[1;32m     67\u001b[0m     early_stopping \u001b[38;5;28;01mif\u001b[39;00m es \u001b[38;5;129;01mnot\u001b[39;00m \u001b[38;5;129;01min\u001b[39;00m trainer_kwargs\u001b[38;5;241m.\u001b[39mkeys() \u001b[38;5;28;01melse\u001b[39;00m trainer_kwargs[es]\n\u001b[1;32m     68\u001b[0m )\n\u001b[1;32m     69\u001b[0m runner \u001b[38;5;241m=\u001b[39m TrainRunner(\n\u001b[1;32m     70\u001b[0m     \u001b[38;5;28mself\u001b[39m,\n\u001b[1;32m     71\u001b[0m     training_plan\u001b[38;5;241m=\u001b[39mtraining_plan,\n\u001b[0;32m   (...)\u001b[0m\n\u001b[1;32m     75\u001b[0m     \u001b[38;5;241m*\u001b[39m\u001b[38;5;241m*\u001b[39mtrainer_kwargs,\n\u001b[1;32m     76\u001b[0m )\n\u001b[0;32m---> 77\u001b[0m \u001b[38;5;28;01mreturn\u001b[39;00m \u001b[43mrunner\u001b[49m\u001b[43m(\u001b[49m\u001b[43m)\u001b[49m\n",
      "File \u001b[0;32m~/miniconda3/envs/scvi/lib/python3.10/site-packages/scvi/train/_trainrunner.py:74\u001b[0m, in \u001b[0;36mTrainRunner.__call__\u001b[0;34m(self)\u001b[0m\n\u001b[1;32m     71\u001b[0m \u001b[38;5;28;01mif\u001b[39;00m \u001b[38;5;28mhasattr\u001b[39m(\u001b[38;5;28mself\u001b[39m\u001b[38;5;241m.\u001b[39mdata_splitter, \u001b[38;5;124m\"\u001b[39m\u001b[38;5;124mn_val\u001b[39m\u001b[38;5;124m\"\u001b[39m):\n\u001b[1;32m     72\u001b[0m     \u001b[38;5;28mself\u001b[39m\u001b[38;5;241m.\u001b[39mtraining_plan\u001b[38;5;241m.\u001b[39mn_obs_validation \u001b[38;5;241m=\u001b[39m \u001b[38;5;28mself\u001b[39m\u001b[38;5;241m.\u001b[39mdata_splitter\u001b[38;5;241m.\u001b[39mn_val\n\u001b[0;32m---> 74\u001b[0m \u001b[38;5;28;43mself\u001b[39;49m\u001b[38;5;241;43m.\u001b[39;49m\u001b[43mtrainer\u001b[49m\u001b[38;5;241;43m.\u001b[39;49m\u001b[43mfit\u001b[49m\u001b[43m(\u001b[49m\u001b[38;5;28;43mself\u001b[39;49m\u001b[38;5;241;43m.\u001b[39;49m\u001b[43mtraining_plan\u001b[49m\u001b[43m,\u001b[49m\u001b[43m \u001b[49m\u001b[38;5;28;43mself\u001b[39;49m\u001b[38;5;241;43m.\u001b[39;49m\u001b[43mdata_splitter\u001b[49m\u001b[43m)\u001b[49m\n\u001b[1;32m     75\u001b[0m \u001b[38;5;28mself\u001b[39m\u001b[38;5;241m.\u001b[39m_update_history()\n\u001b[1;32m     77\u001b[0m \u001b[38;5;66;03m# data splitter only gets these attrs after fit\u001b[39;00m\n",
      "File \u001b[0;32m~/miniconda3/envs/scvi/lib/python3.10/site-packages/scvi/train/_trainer.py:186\u001b[0m, in \u001b[0;36mTrainer.fit\u001b[0;34m(self, *args, **kwargs)\u001b[0m\n\u001b[1;32m    180\u001b[0m \u001b[38;5;28;01mif\u001b[39;00m \u001b[38;5;28misinstance\u001b[39m(args[\u001b[38;5;241m0\u001b[39m], PyroTrainingPlan):\n\u001b[1;32m    181\u001b[0m     warnings\u001b[38;5;241m.\u001b[39mfilterwarnings(\n\u001b[1;32m    182\u001b[0m         action\u001b[38;5;241m=\u001b[39m\u001b[38;5;124m\"\u001b[39m\u001b[38;5;124mignore\u001b[39m\u001b[38;5;124m\"\u001b[39m,\n\u001b[1;32m    183\u001b[0m         category\u001b[38;5;241m=\u001b[39m\u001b[38;5;167;01mUserWarning\u001b[39;00m,\n\u001b[1;32m    184\u001b[0m         message\u001b[38;5;241m=\u001b[39m\u001b[38;5;124m\"\u001b[39m\u001b[38;5;124m`LightningModule.configure_optimizers` returned `None`\u001b[39m\u001b[38;5;124m\"\u001b[39m,\n\u001b[1;32m    185\u001b[0m     )\n\u001b[0;32m--> 186\u001b[0m \u001b[38;5;28;43msuper\u001b[39;49m\u001b[43m(\u001b[49m\u001b[43m)\u001b[49m\u001b[38;5;241;43m.\u001b[39;49m\u001b[43mfit\u001b[49m\u001b[43m(\u001b[49m\u001b[38;5;241;43m*\u001b[39;49m\u001b[43margs\u001b[49m\u001b[43m,\u001b[49m\u001b[43m \u001b[49m\u001b[38;5;241;43m*\u001b[39;49m\u001b[38;5;241;43m*\u001b[39;49m\u001b[43mkwargs\u001b[49m\u001b[43m)\u001b[49m\n",
      "File \u001b[0;32m~/miniconda3/envs/scvi/lib/python3.10/site-packages/pytorch_lightning/trainer/trainer.py:740\u001b[0m, in \u001b[0;36mTrainer.fit\u001b[0;34m(self, model, train_dataloaders, val_dataloaders, datamodule, train_dataloader, ckpt_path)\u001b[0m\n\u001b[1;32m    735\u001b[0m     rank_zero_deprecation(\n\u001b[1;32m    736\u001b[0m         \u001b[38;5;124m\"\u001b[39m\u001b[38;5;124m`trainer.fit(train_dataloader)` is deprecated in v1.4 and will be removed in v1.6.\u001b[39m\u001b[38;5;124m\"\u001b[39m\n\u001b[1;32m    737\u001b[0m         \u001b[38;5;124m\"\u001b[39m\u001b[38;5;124m Use `trainer.fit(train_dataloaders)` instead. HINT: added \u001b[39m\u001b[38;5;124m'\u001b[39m\u001b[38;5;124ms\u001b[39m\u001b[38;5;124m'\u001b[39m\u001b[38;5;124m\"\u001b[39m\n\u001b[1;32m    738\u001b[0m     )\n\u001b[1;32m    739\u001b[0m     train_dataloaders \u001b[38;5;241m=\u001b[39m train_dataloader\n\u001b[0;32m--> 740\u001b[0m \u001b[38;5;28;43mself\u001b[39;49m\u001b[38;5;241;43m.\u001b[39;49m\u001b[43m_call_and_handle_interrupt\u001b[49m\u001b[43m(\u001b[49m\n\u001b[1;32m    741\u001b[0m \u001b[43m    \u001b[49m\u001b[38;5;28;43mself\u001b[39;49m\u001b[38;5;241;43m.\u001b[39;49m\u001b[43m_fit_impl\u001b[49m\u001b[43m,\u001b[49m\u001b[43m \u001b[49m\u001b[43mmodel\u001b[49m\u001b[43m,\u001b[49m\u001b[43m \u001b[49m\u001b[43mtrain_dataloaders\u001b[49m\u001b[43m,\u001b[49m\u001b[43m \u001b[49m\u001b[43mval_dataloaders\u001b[49m\u001b[43m,\u001b[49m\u001b[43m \u001b[49m\u001b[43mdatamodule\u001b[49m\u001b[43m,\u001b[49m\u001b[43m \u001b[49m\u001b[43mckpt_path\u001b[49m\n\u001b[1;32m    742\u001b[0m \u001b[43m\u001b[49m\u001b[43m)\u001b[49m\n",
      "File \u001b[0;32m~/miniconda3/envs/scvi/lib/python3.10/site-packages/pytorch_lightning/trainer/trainer.py:685\u001b[0m, in \u001b[0;36mTrainer._call_and_handle_interrupt\u001b[0;34m(self, trainer_fn, *args, **kwargs)\u001b[0m\n\u001b[1;32m    675\u001b[0m \u001b[38;5;124mr\u001b[39m\u001b[38;5;124;03m\"\"\"\u001b[39;00m\n\u001b[1;32m    676\u001b[0m \u001b[38;5;124;03mError handling, intended to be used only for main trainer function entry points (fit, validate, test, predict)\u001b[39;00m\n\u001b[1;32m    677\u001b[0m \u001b[38;5;124;03mas all errors should funnel through them\u001b[39;00m\n\u001b[0;32m   (...)\u001b[0m\n\u001b[1;32m    682\u001b[0m \u001b[38;5;124;03m    **kwargs: keyword arguments to be passed to `trainer_fn`\u001b[39;00m\n\u001b[1;32m    683\u001b[0m \u001b[38;5;124;03m\"\"\"\u001b[39;00m\n\u001b[1;32m    684\u001b[0m \u001b[38;5;28;01mtry\u001b[39;00m:\n\u001b[0;32m--> 685\u001b[0m     \u001b[38;5;28;01mreturn\u001b[39;00m \u001b[43mtrainer_fn\u001b[49m\u001b[43m(\u001b[49m\u001b[38;5;241;43m*\u001b[39;49m\u001b[43margs\u001b[49m\u001b[43m,\u001b[49m\u001b[43m \u001b[49m\u001b[38;5;241;43m*\u001b[39;49m\u001b[38;5;241;43m*\u001b[39;49m\u001b[43mkwargs\u001b[49m\u001b[43m)\u001b[49m\n\u001b[1;32m    686\u001b[0m \u001b[38;5;66;03m# TODO: treat KeyboardInterrupt as BaseException (delete the code below) in v1.7\u001b[39;00m\n\u001b[1;32m    687\u001b[0m \u001b[38;5;28;01mexcept\u001b[39;00m \u001b[38;5;167;01mKeyboardInterrupt\u001b[39;00m \u001b[38;5;28;01mas\u001b[39;00m exception:\n",
      "File \u001b[0;32m~/miniconda3/envs/scvi/lib/python3.10/site-packages/pytorch_lightning/trainer/trainer.py:777\u001b[0m, in \u001b[0;36mTrainer._fit_impl\u001b[0;34m(self, model, train_dataloaders, val_dataloaders, datamodule, ckpt_path)\u001b[0m\n\u001b[1;32m    775\u001b[0m \u001b[38;5;66;03m# TODO: ckpt_path only in v1.7\u001b[39;00m\n\u001b[1;32m    776\u001b[0m ckpt_path \u001b[38;5;241m=\u001b[39m ckpt_path \u001b[38;5;129;01mor\u001b[39;00m \u001b[38;5;28mself\u001b[39m\u001b[38;5;241m.\u001b[39mresume_from_checkpoint\n\u001b[0;32m--> 777\u001b[0m \u001b[38;5;28;43mself\u001b[39;49m\u001b[38;5;241;43m.\u001b[39;49m\u001b[43m_run\u001b[49m\u001b[43m(\u001b[49m\u001b[43mmodel\u001b[49m\u001b[43m,\u001b[49m\u001b[43m \u001b[49m\u001b[43mckpt_path\u001b[49m\u001b[38;5;241;43m=\u001b[39;49m\u001b[43mckpt_path\u001b[49m\u001b[43m)\u001b[49m\n\u001b[1;32m    779\u001b[0m \u001b[38;5;28;01massert\u001b[39;00m \u001b[38;5;28mself\u001b[39m\u001b[38;5;241m.\u001b[39mstate\u001b[38;5;241m.\u001b[39mstopped\n\u001b[1;32m    780\u001b[0m \u001b[38;5;28mself\u001b[39m\u001b[38;5;241m.\u001b[39mtraining \u001b[38;5;241m=\u001b[39m \u001b[38;5;28;01mFalse\u001b[39;00m\n",
      "File \u001b[0;32m~/miniconda3/envs/scvi/lib/python3.10/site-packages/pytorch_lightning/trainer/trainer.py:1199\u001b[0m, in \u001b[0;36mTrainer._run\u001b[0;34m(self, model, ckpt_path)\u001b[0m\n\u001b[1;32m   1196\u001b[0m \u001b[38;5;28mself\u001b[39m\u001b[38;5;241m.\u001b[39mcheckpoint_connector\u001b[38;5;241m.\u001b[39mresume_end()\n\u001b[1;32m   1198\u001b[0m \u001b[38;5;66;03m# dispatch `start_training` or `start_evaluating` or `start_predicting`\u001b[39;00m\n\u001b[0;32m-> 1199\u001b[0m \u001b[38;5;28;43mself\u001b[39;49m\u001b[38;5;241;43m.\u001b[39;49m\u001b[43m_dispatch\u001b[49m\u001b[43m(\u001b[49m\u001b[43m)\u001b[49m\n\u001b[1;32m   1201\u001b[0m \u001b[38;5;66;03m# plugin will finalized fitting (e.g. ddp_spawn will load trained model)\u001b[39;00m\n\u001b[1;32m   1202\u001b[0m \u001b[38;5;28mself\u001b[39m\u001b[38;5;241m.\u001b[39m_post_dispatch()\n",
      "File \u001b[0;32m~/miniconda3/envs/scvi/lib/python3.10/site-packages/pytorch_lightning/trainer/trainer.py:1279\u001b[0m, in \u001b[0;36mTrainer._dispatch\u001b[0;34m(self)\u001b[0m\n\u001b[1;32m   1277\u001b[0m     \u001b[38;5;28mself\u001b[39m\u001b[38;5;241m.\u001b[39mtraining_type_plugin\u001b[38;5;241m.\u001b[39mstart_predicting(\u001b[38;5;28mself\u001b[39m)\n\u001b[1;32m   1278\u001b[0m \u001b[38;5;28;01melse\u001b[39;00m:\n\u001b[0;32m-> 1279\u001b[0m     \u001b[38;5;28;43mself\u001b[39;49m\u001b[38;5;241;43m.\u001b[39;49m\u001b[43mtraining_type_plugin\u001b[49m\u001b[38;5;241;43m.\u001b[39;49m\u001b[43mstart_training\u001b[49m\u001b[43m(\u001b[49m\u001b[38;5;28;43mself\u001b[39;49m\u001b[43m)\u001b[49m\n",
      "File \u001b[0;32m~/miniconda3/envs/scvi/lib/python3.10/site-packages/pytorch_lightning/plugins/training_type/training_type_plugin.py:202\u001b[0m, in \u001b[0;36mTrainingTypePlugin.start_training\u001b[0;34m(self, trainer)\u001b[0m\n\u001b[1;32m    200\u001b[0m \u001b[38;5;28;01mdef\u001b[39;00m \u001b[38;5;21mstart_training\u001b[39m(\u001b[38;5;28mself\u001b[39m, trainer: \u001b[38;5;124m\"\u001b[39m\u001b[38;5;124mpl.Trainer\u001b[39m\u001b[38;5;124m\"\u001b[39m) \u001b[38;5;241m-\u001b[39m\u001b[38;5;241m>\u001b[39m \u001b[38;5;28;01mNone\u001b[39;00m:\n\u001b[1;32m    201\u001b[0m     \u001b[38;5;66;03m# double dispatch to initiate the training loop\u001b[39;00m\n\u001b[0;32m--> 202\u001b[0m     \u001b[38;5;28mself\u001b[39m\u001b[38;5;241m.\u001b[39m_results \u001b[38;5;241m=\u001b[39m \u001b[43mtrainer\u001b[49m\u001b[38;5;241;43m.\u001b[39;49m\u001b[43mrun_stage\u001b[49m\u001b[43m(\u001b[49m\u001b[43m)\u001b[49m\n",
      "File \u001b[0;32m~/miniconda3/envs/scvi/lib/python3.10/site-packages/pytorch_lightning/trainer/trainer.py:1289\u001b[0m, in \u001b[0;36mTrainer.run_stage\u001b[0;34m(self)\u001b[0m\n\u001b[1;32m   1287\u001b[0m \u001b[38;5;28;01mif\u001b[39;00m \u001b[38;5;28mself\u001b[39m\u001b[38;5;241m.\u001b[39mpredicting:\n\u001b[1;32m   1288\u001b[0m     \u001b[38;5;28;01mreturn\u001b[39;00m \u001b[38;5;28mself\u001b[39m\u001b[38;5;241m.\u001b[39m_run_predict()\n\u001b[0;32m-> 1289\u001b[0m \u001b[38;5;28;01mreturn\u001b[39;00m \u001b[38;5;28;43mself\u001b[39;49m\u001b[38;5;241;43m.\u001b[39;49m\u001b[43m_run_train\u001b[49m\u001b[43m(\u001b[49m\u001b[43m)\u001b[49m\n",
      "File \u001b[0;32m~/miniconda3/envs/scvi/lib/python3.10/site-packages/pytorch_lightning/trainer/trainer.py:1319\u001b[0m, in \u001b[0;36mTrainer._run_train\u001b[0;34m(self)\u001b[0m\n\u001b[1;32m   1317\u001b[0m \u001b[38;5;28mself\u001b[39m\u001b[38;5;241m.\u001b[39mfit_loop\u001b[38;5;241m.\u001b[39mtrainer \u001b[38;5;241m=\u001b[39m \u001b[38;5;28mself\u001b[39m\n\u001b[1;32m   1318\u001b[0m \u001b[38;5;28;01mwith\u001b[39;00m torch\u001b[38;5;241m.\u001b[39mautograd\u001b[38;5;241m.\u001b[39mset_detect_anomaly(\u001b[38;5;28mself\u001b[39m\u001b[38;5;241m.\u001b[39m_detect_anomaly):\n\u001b[0;32m-> 1319\u001b[0m     \u001b[38;5;28;43mself\u001b[39;49m\u001b[38;5;241;43m.\u001b[39;49m\u001b[43mfit_loop\u001b[49m\u001b[38;5;241;43m.\u001b[39;49m\u001b[43mrun\u001b[49m\u001b[43m(\u001b[49m\u001b[43m)\u001b[49m\n",
      "File \u001b[0;32m~/miniconda3/envs/scvi/lib/python3.10/site-packages/pytorch_lightning/loops/base.py:140\u001b[0m, in \u001b[0;36mLoop.run\u001b[0;34m(self, *args, **kwargs)\u001b[0m\n\u001b[1;32m    136\u001b[0m     \u001b[38;5;28;01mreturn\u001b[39;00m \u001b[38;5;28mself\u001b[39m\u001b[38;5;241m.\u001b[39mon_skip()\n\u001b[1;32m    138\u001b[0m \u001b[38;5;28mself\u001b[39m\u001b[38;5;241m.\u001b[39mreset()\n\u001b[0;32m--> 140\u001b[0m \u001b[38;5;28;43mself\u001b[39;49m\u001b[38;5;241;43m.\u001b[39;49m\u001b[43mon_run_start\u001b[49m\u001b[43m(\u001b[49m\u001b[38;5;241;43m*\u001b[39;49m\u001b[43margs\u001b[49m\u001b[43m,\u001b[49m\u001b[43m \u001b[49m\u001b[38;5;241;43m*\u001b[39;49m\u001b[38;5;241;43m*\u001b[39;49m\u001b[43mkwargs\u001b[49m\u001b[43m)\u001b[49m\n\u001b[1;32m    142\u001b[0m \u001b[38;5;28;01mwhile\u001b[39;00m \u001b[38;5;129;01mnot\u001b[39;00m \u001b[38;5;28mself\u001b[39m\u001b[38;5;241m.\u001b[39mdone:\n\u001b[1;32m    143\u001b[0m     \u001b[38;5;28;01mtry\u001b[39;00m:\n",
      "File \u001b[0;32m~/miniconda3/envs/scvi/lib/python3.10/site-packages/pytorch_lightning/loops/fit_loop.py:197\u001b[0m, in \u001b[0;36mFitLoop.on_run_start\u001b[0;34m(self)\u001b[0m\n\u001b[1;32m    195\u001b[0m \u001b[38;5;124;03m\"\"\"Calls the ``on_train_start`` hook.\"\"\"\u001b[39;00m\n\u001b[1;32m    196\u001b[0m \u001b[38;5;66;03m# reset train dataloader and val dataloader\u001b[39;00m\n\u001b[0;32m--> 197\u001b[0m \u001b[38;5;28;43mself\u001b[39;49m\u001b[38;5;241;43m.\u001b[39;49m\u001b[43mtrainer\u001b[49m\u001b[38;5;241;43m.\u001b[39;49m\u001b[43mreset_train_val_dataloaders\u001b[49m\u001b[43m(\u001b[49m\u001b[38;5;28;43mself\u001b[39;49m\u001b[38;5;241;43m.\u001b[39;49m\u001b[43mtrainer\u001b[49m\u001b[38;5;241;43m.\u001b[39;49m\u001b[43mlightning_module\u001b[49m\u001b[43m)\u001b[49m\n\u001b[1;32m    198\u001b[0m \u001b[38;5;28mself\u001b[39m\u001b[38;5;241m.\u001b[39m_is_fresh_start_epoch \u001b[38;5;241m=\u001b[39m \u001b[38;5;28;01mTrue\u001b[39;00m\n\u001b[1;32m    199\u001b[0m \u001b[38;5;28mself\u001b[39m\u001b[38;5;241m.\u001b[39m_results\u001b[38;5;241m.\u001b[39mto(device\u001b[38;5;241m=\u001b[39m\u001b[38;5;28mself\u001b[39m\u001b[38;5;241m.\u001b[39mtrainer\u001b[38;5;241m.\u001b[39mlightning_module\u001b[38;5;241m.\u001b[39mdevice)\n",
      "File \u001b[0;32m~/miniconda3/envs/scvi/lib/python3.10/site-packages/pytorch_lightning/trainer/data_loading.py:593\u001b[0m, in \u001b[0;36mTrainerDataLoadingMixin.reset_train_val_dataloaders\u001b[0;34m(self, model)\u001b[0m\n\u001b[1;32m    591\u001b[0m     \u001b[38;5;28mself\u001b[39m\u001b[38;5;241m.\u001b[39mreset_train_dataloader(model\u001b[38;5;241m=\u001b[39mmodel)\n\u001b[1;32m    592\u001b[0m \u001b[38;5;28;01mif\u001b[39;00m \u001b[38;5;28mself\u001b[39m\u001b[38;5;241m.\u001b[39mval_dataloaders \u001b[38;5;129;01mis\u001b[39;00m \u001b[38;5;28;01mNone\u001b[39;00m:\n\u001b[0;32m--> 593\u001b[0m     \u001b[38;5;28;43mself\u001b[39;49m\u001b[38;5;241;43m.\u001b[39;49m\u001b[43mreset_val_dataloader\u001b[49m\u001b[43m(\u001b[49m\u001b[43mmodel\u001b[49m\u001b[38;5;241;43m=\u001b[39;49m\u001b[43mmodel\u001b[49m\u001b[43m)\u001b[49m\n",
      "File \u001b[0;32m~/miniconda3/envs/scvi/lib/python3.10/site-packages/pytorch_lightning/trainer/data_loading.py:547\u001b[0m, in \u001b[0;36mTrainerDataLoadingMixin.reset_val_dataloader\u001b[0;34m(self, model)\u001b[0m\n\u001b[1;32m    545\u001b[0m has_step \u001b[38;5;241m=\u001b[39m is_overridden(\u001b[38;5;124m\"\u001b[39m\u001b[38;5;124mvalidation_step\u001b[39m\u001b[38;5;124m\"\u001b[39m, pl_module)\n\u001b[1;32m    546\u001b[0m \u001b[38;5;28;01mif\u001b[39;00m source\u001b[38;5;241m.\u001b[39mis_defined() \u001b[38;5;129;01mand\u001b[39;00m has_step:\n\u001b[0;32m--> 547\u001b[0m     \u001b[38;5;28mself\u001b[39m\u001b[38;5;241m.\u001b[39mnum_val_batches, \u001b[38;5;28mself\u001b[39m\u001b[38;5;241m.\u001b[39mval_dataloaders \u001b[38;5;241m=\u001b[39m \u001b[38;5;28;43mself\u001b[39;49m\u001b[38;5;241;43m.\u001b[39;49m\u001b[43m_reset_eval_dataloader\u001b[49m\u001b[43m(\u001b[49m\n\u001b[1;32m    548\u001b[0m \u001b[43m        \u001b[49m\u001b[43mRunningStage\u001b[49m\u001b[38;5;241;43m.\u001b[39;49m\u001b[43mVALIDATING\u001b[49m\u001b[43m,\u001b[49m\u001b[43m \u001b[49m\u001b[43mmodel\u001b[49m\u001b[38;5;241;43m=\u001b[39;49m\u001b[43mpl_module\u001b[49m\n\u001b[1;32m    549\u001b[0m \u001b[43m    \u001b[49m\u001b[43m)\u001b[49m\n\u001b[1;32m    551\u001b[0m     \u001b[38;5;66;03m# store epoch of dataloader reset for reload_dataloaders_every_n_epochs\u001b[39;00m\n\u001b[1;32m    552\u001b[0m     \u001b[38;5;28mself\u001b[39m\u001b[38;5;241m.\u001b[39m_last_val_dl_reload_epoch \u001b[38;5;241m=\u001b[39m \u001b[38;5;28mself\u001b[39m\u001b[38;5;241m.\u001b[39mcurrent_epoch\n",
      "File \u001b[0;32m~/miniconda3/envs/scvi/lib/python3.10/site-packages/pytorch_lightning/trainer/data_loading.py:504\u001b[0m, in \u001b[0;36mTrainerDataLoadingMixin._reset_eval_dataloader\u001b[0;34m(self, mode, model)\u001b[0m\n\u001b[1;32m    500\u001b[0m \u001b[38;5;28;01mif\u001b[39;00m \u001b[38;5;28mlen\u001b[39m(dataloaders) \u001b[38;5;241m!=\u001b[39m \u001b[38;5;241m0\u001b[39m:\n\u001b[1;32m    501\u001b[0m     \u001b[38;5;28;01mfor\u001b[39;00m i, dataloader \u001b[38;5;129;01min\u001b[39;00m \u001b[38;5;28menumerate\u001b[39m(dataloaders):\n\u001b[1;32m    502\u001b[0m         orig_num_batches \u001b[38;5;241m=\u001b[39m num_batches \u001b[38;5;241m=\u001b[39m (\n\u001b[1;32m    503\u001b[0m             \u001b[38;5;28mlen\u001b[39m(dataloader)\n\u001b[0;32m--> 504\u001b[0m             \u001b[38;5;28;01mif\u001b[39;00m \u001b[43mhas_len_all_ranks\u001b[49m\u001b[43m(\u001b[49m\u001b[43mdataloader\u001b[49m\u001b[43m,\u001b[49m\u001b[43m \u001b[49m\u001b[38;5;28;43mself\u001b[39;49m\u001b[38;5;241;43m.\u001b[39;49m\u001b[43mtraining_type_plugin\u001b[49m\u001b[43m,\u001b[49m\u001b[43m \u001b[49m\u001b[43mmodule\u001b[49m\u001b[43m)\u001b[49m\n\u001b[1;32m    505\u001b[0m             \u001b[38;5;28;01melse\u001b[39;00m \u001b[38;5;28mfloat\u001b[39m(\u001b[38;5;124m\"\u001b[39m\u001b[38;5;124minf\u001b[39m\u001b[38;5;124m\"\u001b[39m)\n\u001b[1;32m    506\u001b[0m         )\n\u001b[1;32m    507\u001b[0m         \u001b[38;5;28mself\u001b[39m\u001b[38;5;241m.\u001b[39m_worker_check(dataloader, \u001b[38;5;124mf\u001b[39m\u001b[38;5;124m\"\u001b[39m\u001b[38;5;132;01m{\u001b[39;00mmode\u001b[38;5;241m.\u001b[39mdataloader_prefix\u001b[38;5;132;01m}\u001b[39;00m\u001b[38;5;124m_dataloader \u001b[39m\u001b[38;5;132;01m{\u001b[39;00mi\u001b[38;5;132;01m}\u001b[39;00m\u001b[38;5;124m\"\u001b[39m)\n\u001b[1;32m    509\u001b[0m         \u001b[38;5;66;03m# percent or num_steps\u001b[39;00m\n",
      "File \u001b[0;32m~/miniconda3/envs/scvi/lib/python3.10/site-packages/pytorch_lightning/utilities/data.py:118\u001b[0m, in \u001b[0;36mhas_len_all_ranks\u001b[0;34m(dataloader, training_type, model)\u001b[0m\n\u001b[1;32m    115\u001b[0m local_length \u001b[38;5;241m=\u001b[39m \u001b[38;5;28mlen\u001b[39m(dataloader)\n\u001b[1;32m    117\u001b[0m \u001b[38;5;28;01mif\u001b[39;00m total_length \u001b[38;5;241m==\u001b[39m \u001b[38;5;241m0\u001b[39m:\n\u001b[0;32m--> 118\u001b[0m     \u001b[38;5;28;01mraise\u001b[39;00m MisconfigurationException(\n\u001b[1;32m    119\u001b[0m         \u001b[38;5;124m\"\u001b[39m\u001b[38;5;124mTotal length of `Dataloader` across ranks is zero. Please make sure that it returns at least 1 batch.\u001b[39m\u001b[38;5;124m\"\u001b[39m\n\u001b[1;32m    120\u001b[0m     )\n\u001b[1;32m    121\u001b[0m \u001b[38;5;28;01mif\u001b[39;00m total_length \u001b[38;5;241m>\u001b[39m \u001b[38;5;241m0\u001b[39m \u001b[38;5;129;01mand\u001b[39;00m local_length \u001b[38;5;241m==\u001b[39m \u001b[38;5;241m0\u001b[39m:\n\u001b[1;32m    122\u001b[0m     \u001b[38;5;28;01mif\u001b[39;00m model\u001b[38;5;241m.\u001b[39mallow_zero_length_dataloader_with_multiple_devices:\n",
      "\u001b[0;31mMisconfigurationException\u001b[0m: Total length of `Dataloader` across ranks is zero. Please make sure that it returns at least 1 batch."
     ]
    }
   ],
   "source": [
    "model.train()"
   ]
  },
  {
   "cell_type": "code",
   "execution_count": 8,
   "id": "7bababdb-daf5-4df6-8065-cdca593101b3",
   "metadata": {},
   "outputs": [
    {
     "ename": "AssertionError",
     "evalue": "",
     "output_type": "error",
     "traceback": [
      "\u001b[0;31m---------------------------------------------------------------------------\u001b[0m",
      "\u001b[0;31mAssertionError\u001b[0m                            Traceback (most recent call last)",
      "Input \u001b[0;32mIn [8]\u001b[0m, in \u001b[0;36m<cell line: 1>\u001b[0;34m()\u001b[0m\n\u001b[0;32m----> 1\u001b[0m \u001b[38;5;28;01massert\u001b[39;00m \u001b[38;5;28;01mFalse\u001b[39;00m\n",
      "\u001b[0;31mAssertionError\u001b[0m: "
     ]
    }
   ],
   "source": [
    "assert False"
   ]
  },
  {
   "cell_type": "code",
   "execution_count": 131,
   "id": "39bb6980-a7f4-447d-8d23-042995ee7674",
   "metadata": {},
   "outputs": [
    {
     "name": "stdout",
     "output_type": "stream",
     "text": [
      "-rwxrwxrwx 1 rio rio 319M May 28 18:05 ../../data/kmers_adata_ELK1_k11.h5ad\n",
      "-rwxrwxrwx 1 rio rio 255M May 28 19:30 ../../data/kmers_adata_ELK1_k11_int.h5ad\n",
      "-rwxrwxrwx 1 rio rio 234M May 29 00:07 ../../data/kmers_adata_ELK1_k20.h5ad\n",
      "-rwxrwxrwx 1 rio rio 129M May 29 14:25 ../../data/kmers_adata_ELK1_k10.h5ad\n",
      "-rwxrwxrwx 1 rio rio 537M May 29 16:44 ../../data/kmers_adata_ELK1_k12.h5ad\n"
     ]
    }
   ],
   "source": [
    "!ls -ltrh ../../data/kmers_adata_ELK1_*.h5ad"
   ]
  },
  {
   "cell_type": "code",
   "execution_count": null,
   "id": "2d44d607-9c05-44d3-96ef-b763745528a4",
   "metadata": {},
   "outputs": [
    {
     "name": "stdout",
     "output_type": "stream",
     "text": [
      "WARNING: You’re trying to run this on 8132951 dimensions of `.X`, if you really want this, set `use_rep='X'`.\n",
      "         Falling back to preprocessing with `sc.pp.pca` and default params.\n"
     ]
    }
   ],
   "source": [
    "sc.set_figure_params(facecolor='white')\n",
    "sc.pp.neighbors(adata)\n",
    "sc.tl.umap(adata)\n",
    "import seaborn as sns\n",
    "g = sns.clustermap(adata.to_df().T.corr(), cmap='Reds', figsize=[6, 6], xticklabels=False, yticklabels=False)"
   ]
  },
  {
   "cell_type": "code",
   "execution_count": 291,
   "id": "9fdb7687-d0d8-494c-b923-d295cd7ea329",
   "metadata": {},
   "outputs": [],
   "source": [
    "# adata[adata.obs['tf.name'] == 'ELK1',:]"
   ]
  },
  {
   "cell_type": "code",
   "execution_count": null,
   "id": "b43debbf-d73d-467b-b612-414cd5b34695",
   "metadata": {},
   "outputs": [],
   "source": [
    "adata.obs['is.zero'] = pd.Categorical(adata.obs_names.str.contains('Zero'))\n",
    "adata.obs['tf.name'].value_counts()"
   ]
  },
  {
   "cell_type": "code",
   "execution_count": null,
   "id": "c9e0c6e7-19fd-4ed7-85e0-b70ac2de81ed",
   "metadata": {},
   "outputs": [],
   "source": [
    "for tf in set(adata.obs['tf.name']):\n",
    "    print(tf, len(set(adata.obs[adata.obs['tf.name'] == tf]['accession'])))"
   ]
  },
  {
   "cell_type": "code",
   "execution_count": 140,
   "id": "bd19db98-c3f3-4178-9e1e-66f72bd21e32",
   "metadata": {},
   "outputs": [],
   "source": [
    "# adata[adata.obs['tf.name'].astype(str).str.contains('ELK1') == True,:]"
   ]
  },
  {
   "cell_type": "code",
   "execution_count": null,
   "id": "f627dee5-c1b4-453a-b213-9c4d45d4eda4",
   "metadata": {},
   "outputs": [],
   "source": [
    "sc.pl.umap(adata, color=['tf.name'], groups=['ELK1'], s=50)"
   ]
  },
  {
   "cell_type": "code",
   "execution_count": null,
   "id": "d375485a-4559-43de-a02f-ac47dfbf7adf",
   "metadata": {},
   "outputs": [],
   "source": [
    "adata.obs['cycle'] = adata.obs['cycle'].astype('category')"
   ]
  },
  {
   "cell_type": "code",
   "execution_count": null,
   "id": "407a7e67-3037-4cfc-a594-117c60601c03",
   "metadata": {},
   "outputs": [],
   "source": [
    "sc.pl.umap(adata, color=['is.zero', 'tf.name', 'accession', 'library', 'cycle'], s=50)\n",
    "sc.pl.pca(adata, color=['is.zero', 'tf.name', 'accession', 'library', 'cycle'], s=50)\n"
   ]
  },
  {
   "cell_type": "markdown",
   "id": "c3fbeb8c-b92d-432c-9b75-1cadb1a4a6cf",
   "metadata": {},
   "source": [
    "### Set a model using the anndata representation, for several of the library batches"
   ]
  },
  {
   "cell_type": "code",
   "execution_count": null,
   "id": "00bd2915-7566-40b8-b586-9d954d91ed3f",
   "metadata": {},
   "outputs": [],
   "source": [
    "adata"
   ]
  },
  {
   "cell_type": "code",
   "execution_count": null,
   "id": "6c5d8133-ad38-495d-850c-9b35a5cf905e",
   "metadata": {},
   "outputs": [],
   "source": [
    "set(adata.obs['library'])"
   ]
  },
  {
   "cell_type": "code",
   "execution_count": null,
   "id": "df970a24-8ffe-479a-9019-6b2c39f99864",
   "metadata": {},
   "outputs": [],
   "source": [
    "import pandas as pd\n",
    "# pd.set_option('display.max_rows', 500)\n",
    "pd.set_option('display.max_columns', 500)\n",
    "pd.set_option('display.width', 1000)"
   ]
  },
  {
   "cell_type": "code",
   "execution_count": null,
   "id": "a081e4af-cf9d-4786-8184-2f58cd544930",
   "metadata": {},
   "outputs": [],
   "source": [
    "df.reindex(df.sum(axis=1).sort_values(ascending=False).index)"
   ]
  },
  {
   "cell_type": "code",
   "execution_count": null,
   "id": "c793f89a-7eb8-4144-af10-75ed4a76439e",
   "metadata": {},
   "outputs": [],
   "source": [
    "for lib in set(adata.obs['library']):\n",
    "    mask = adata.obs['library'] == lib\n",
    "    df = adata[mask,:].to_df()\n",
    "    df = df.reindex(adata[mask,:].obs.sort_values('cycle').index).T\n",
    "    del df[df.columns[0]]\n",
    "    has_zero_cycle = sum(adata.obs[mask]['cycle'].isin({0})) > 0\n",
    "    print('Next query')\n",
    "    print(lib, df.shape, has_zero_cycle)\n",
    "    if not has_zero_cycle:\n",
    "        print('skip: zero round not found\\n')\n",
    "        continue\n",
    "    # print(df.head())\n",
    "    \n",
    "    # assert False\n",
    "    # parse data\n",
    "    # data = df[df.sum(axis=1) > 100]\n",
    "    data = df.reindex(df[df.columns[1:]].sum(axis=1).sort_values(ascending=False).head(50000).index)\n",
    "    data.columns = [i for i in range(data.shape[1])]\n",
    "    # print(data.sum(axis=1).value_counts())\n",
    "    data = data.reset_index()\n",
    "    data = data.rename(columns={'index': 'seq'})\n",
    "    # data.shape\n",
    "    # data.sum(axis=1).value_counts()\n",
    "    # assert False\n",
    "    \n",
    "    # seed finding\n",
    "    \n",
    "    seed = mb.tl.get_seed(data, 8, n=1) # mb.tl.get_seed(data, 7)\n",
    "    print('seed', seed)\n",
    "    \n",
    "    # assert False\n",
    "    \n",
    "    n_rounds = data.shape[1] - 2\n",
    "    # from matplotlib import rcParams\n",
    "    # rcParams['figure.figsize'] = 9, 2\n",
    "    # assign batch and data type\n",
    "    rcParams['figure.figsize'] = 9, 2\n",
    "\n",
    "    data['batch'] = 1\n",
    "    data['is_count_data'] = 1\n",
    "\n",
    "    print('loading object (# entries)', data.shape[0])\n",
    "    dataset = mb.datasets.SelexDataset(data, n_rounds=n_rounds, single_encoding_step=True)\n",
    "    train = tdata.DataLoader(dataset=dataset, batch_size=50000, shuffle=True)\n",
    "\n",
    "    model_by_k_next, res_next = mb.tl.train_iterative(train, device, min_w=9, max_w=10, n_kernels=4, log_each=200, early_stopping=100,\n",
    "                                                      seed=seed, num_epochs=1000, optimize_motif_shift=True, lr=0.1, weight_decay=0.01)                \n",
    "    res = []\n",
    "    model_by_k = {}\n",
    "    \n",
    "    print('done\\n\\n\\n')\n",
    "\n",
    "    \n",
    "    "
   ]
  },
  {
   "cell_type": "code",
   "execution_count": 17,
   "id": "90d8ac8d-163d-4b14-8aa6-26cd94d7c8bc",
   "metadata": {},
   "outputs": [],
   "source": []
  },
  {
   "cell_type": "code",
   "execution_count": 18,
   "id": "9c893bda-4dae-4f80-8338-555aa65d7950",
   "metadata": {},
   "outputs": [],
   "source": []
  },
  {
   "cell_type": "code",
   "execution_count": 19,
   "id": "ca20f1e9-d482-42ce-865a-538caf6398d0",
   "metadata": {
    "tags": []
   },
   "outputs": [
    {
     "name": "stdout",
     "output_type": "stream",
     "text": [
      "loading object (# entries) 516366\n"
     ]
    },
    {
     "name": "stderr",
     "output_type": "stream",
     "text": [
      "/mnt/c/Users/ignacio.ibarra/Dropbox/workspace/theislab/multibind/multibind/tl/encoding.py:10: NumbaWarning: \u001b[1m\n",
      "Compilation is falling back to object mode WITH looplifting enabled because Function \"onehot_mononuc\" failed type inference due to: \u001b[1m\u001b[1mnon-precise type pyobject\u001b[0m\n",
      "\u001b[0m\u001b[1mDuring: typing of argument at /mnt/c/Users/ignacio.ibarra/Dropbox/workspace/theislab/multibind/multibind/tl/encoding.py (12)\u001b[0m\n",
      "\u001b[1m\n",
      "File \"../../multibind/tl/encoding.py\", line 12:\u001b[0m\n",
      "\u001b[1mdef onehot_mononuc(seq, label_encoder=LabelEncoder(), onehot_encoder=OneHotEncoder(sparse=False)):\n",
      "\u001b[1m    seq_arr = np.array(list(seq + \"ACGNT\"))\n",
      "\u001b[0m    \u001b[1m^\u001b[0m\u001b[0m\n",
      "\u001b[0m\n",
      "  @jit\n",
      "/home/rio/miniconda3/envs/multibind/lib/python3.10/site-packages/numba/core/object_mode_passes.py:151: NumbaWarning: \u001b[1mFunction \"onehot_mononuc\" was compiled in object mode without forceobj=True.\n",
      "\u001b[1m\n",
      "File \"../../multibind/tl/encoding.py\", line 11:\u001b[0m\n",
      "\u001b[1m@jit\n",
      "\u001b[1mdef onehot_mononuc(seq, label_encoder=LabelEncoder(), onehot_encoder=OneHotEncoder(sparse=False)):\n",
      "\u001b[0m\u001b[1m^\u001b[0m\u001b[0m\n",
      "\u001b[0m\n",
      "  warnings.warn(errors.NumbaWarning(warn_msg,\n",
      "/home/rio/miniconda3/envs/multibind/lib/python3.10/site-packages/numba/core/object_mode_passes.py:161: NumbaDeprecationWarning: \u001b[1m\n",
      "Fall-back from the nopython compilation path to the object mode compilation path has been detected, this is deprecated behaviour.\n",
      "\n",
      "For more information visit https://numba.pydata.org/numba-doc/latest/reference/deprecation.html#deprecation-of-object-mode-fall-back-behaviour-when-using-jit\n",
      "\u001b[1m\n",
      "File \"../../multibind/tl/encoding.py\", line 11:\u001b[0m\n",
      "\u001b[1m@jit\n",
      "\u001b[1mdef onehot_mononuc(seq, label_encoder=LabelEncoder(), onehot_encoder=OneHotEncoder(sparse=False)):\n",
      "\u001b[0m\u001b[1m^\u001b[0m\u001b[0m\n",
      "\u001b[0m\n",
      "  warnings.warn(errors.NumbaDeprecationWarning(msg,\n"
     ]
    },
    {
     "name": "stdout",
     "output_type": "stream",
     "text": [
      "# rounds 4\n",
      "# batches 1\n",
      "next w 9\n",
      "kernel to optimize 0\n",
      "\n",
      "Freezing kernels\n",
      "setting grad status of kernel at 0 to 1\n",
      "setting grad status of kernel at 1 to 0\n",
      "mono grad 1 None\n",
      "di grad 1 None\n",
      "\n",
      "\n",
      "before kernel optimization.\n"
     ]
    },
    {
     "data": {
      "image/png": "[encoded data removed]",
      "text/plain": [
       "<Figure size 432x288 with 2 Axes>"
      ]
     },
     "metadata": {
      "needs_background": "light"
     },
     "output_type": "display_data"
    },
    {
     "name": "stdout",
     "output_type": "stream",
     "text": [
      "Epoch:  1, Loss: -2.3993 , secs per epoch: 5.907 s\n"
     ]
    },
    {
     "ename": "KeyboardInterrupt",
     "evalue": "",
     "output_type": "error",
     "traceback": [
      "\u001b[0;31m---------------------------------------------------------------------------\u001b[0m",
      "\u001b[0;31mKeyboardInterrupt\u001b[0m                         Traceback (most recent call last)",
      "Input \u001b[0;32mIn [19]\u001b[0m, in \u001b[0;36m<cell line: 13>\u001b[0;34m()\u001b[0m\n\u001b[1;32m     10\u001b[0m dataset \u001b[38;5;241m=\u001b[39m mb\u001b[38;5;241m.\u001b[39mdatasets\u001b[38;5;241m.\u001b[39mSelexDataset(data, n_rounds\u001b[38;5;241m=\u001b[39mn_rounds, single_encoding_step\u001b[38;5;241m=\u001b[39m\u001b[38;5;28;01mTrue\u001b[39;00m)\n\u001b[1;32m     11\u001b[0m train \u001b[38;5;241m=\u001b[39m tdata\u001b[38;5;241m.\u001b[39mDataLoader(dataset\u001b[38;5;241m=\u001b[39mdataset, batch_size\u001b[38;5;241m=\u001b[39m\u001b[38;5;241m100000\u001b[39m, shuffle\u001b[38;5;241m=\u001b[39m\u001b[38;5;28;01mTrue\u001b[39;00m)\n\u001b[0;32m---> 13\u001b[0m model_by_k_next, res_next \u001b[38;5;241m=\u001b[39m \u001b[43mmb\u001b[49m\u001b[38;5;241;43m.\u001b[39;49m\u001b[43mtl\u001b[49m\u001b[38;5;241;43m.\u001b[39;49m\u001b[43mtrain_iterative\u001b[49m\u001b[43m(\u001b[49m\u001b[43mtrain\u001b[49m\u001b[43m,\u001b[49m\u001b[43m \u001b[49m\u001b[43mdevice\u001b[49m\u001b[43m,\u001b[49m\u001b[43m \u001b[49m\u001b[43mmin_w\u001b[49m\u001b[38;5;241;43m=\u001b[39;49m\u001b[38;5;241;43m9\u001b[39;49m\u001b[43m,\u001b[49m\u001b[43m \u001b[49m\u001b[43mmax_w\u001b[49m\u001b[38;5;241;43m=\u001b[39;49m\u001b[38;5;241;43m10\u001b[39;49m\u001b[43m,\u001b[49m\u001b[43m \u001b[49m\u001b[43mn_kernels\u001b[49m\u001b[38;5;241;43m=\u001b[39;49m\u001b[38;5;241;43m2\u001b[39;49m\u001b[43m,\u001b[49m\u001b[43m \u001b[49m\u001b[43mlog_each\u001b[49m\u001b[38;5;241;43m=\u001b[39;49m\u001b[38;5;241;43m10\u001b[39;49m\u001b[43m,\u001b[49m\u001b[43m \u001b[49m\u001b[43mearly_stopping\u001b[49m\u001b[38;5;241;43m=\u001b[39;49m\u001b[38;5;241;43m100\u001b[39;49m\u001b[43m,\u001b[49m\n\u001b[1;32m     14\u001b[0m \u001b[43m                                                  \u001b[49m\u001b[43mseed\u001b[49m\u001b[38;5;241;43m=\u001b[39;49m\u001b[43mseed\u001b[49m\u001b[43m,\u001b[49m\u001b[43m \u001b[49m\u001b[43mnum_epochs\u001b[49m\u001b[38;5;241;43m=\u001b[39;49m\u001b[38;5;241;43m1000\u001b[39;49m\u001b[43m,\u001b[49m\u001b[43m \u001b[49m\u001b[43moptimize_motif_shift\u001b[49m\u001b[38;5;241;43m=\u001b[39;49m\u001b[38;5;28;43;01mTrue\u001b[39;49;00m\u001b[43m,\u001b[49m\u001b[43m \u001b[49m\u001b[43mlr\u001b[49m\u001b[38;5;241;43m=\u001b[39;49m\u001b[38;5;241;43m0.1\u001b[39;49m\u001b[43m,\u001b[49m\u001b[43m \u001b[49m\u001b[43mweight_decay\u001b[49m\u001b[38;5;241;43m=\u001b[39;49m\u001b[38;5;241;43m0.01\u001b[39;49m\u001b[43m)\u001b[49m                \n\u001b[1;32m     15\u001b[0m res \u001b[38;5;241m=\u001b[39m []\n\u001b[1;32m     16\u001b[0m model_by_k \u001b[38;5;241m=\u001b[39m {}\n",
      "File \u001b[0;32m/mnt/c/Users/ignacio.ibarra/Dropbox/workspace/theislab/multibind/multibind/tl/prediction.py:179\u001b[0m, in \u001b[0;36mtrain_iterative\u001b[0;34m(train, device, n_kernels, min_w, max_w, num_epochs, early_stopping, log_each, optimize_motif_shift, show_logo, seed, lr, weight_decay, **kwargs)\u001b[0m\n\u001b[1;32m    177\u001b[0m optimiser \u001b[38;5;241m=\u001b[39m topti\u001b[38;5;241m.\u001b[39mAdam(model\u001b[38;5;241m.\u001b[39mparameters(), lr\u001b[38;5;241m=\u001b[39mlr, weight_decay\u001b[38;5;241m=\u001b[39mweight_decay)\n\u001b[1;32m    178\u001b[0m criterion \u001b[38;5;241m=\u001b[39m mb\u001b[38;5;241m.\u001b[39mtl\u001b[38;5;241m.\u001b[39mPoissonLoss()\n\u001b[0;32m--> 179\u001b[0m \u001b[43mmb\u001b[49m\u001b[38;5;241;43m.\u001b[39;49m\u001b[43mtl\u001b[49m\u001b[38;5;241;43m.\u001b[39;49m\u001b[43mtrain_network\u001b[49m\u001b[43m(\u001b[49m\n\u001b[1;32m    180\u001b[0m \u001b[43m    \u001b[49m\u001b[43mmodel\u001b[49m\u001b[43m,\u001b[49m\n\u001b[1;32m    181\u001b[0m \u001b[43m    \u001b[49m\u001b[43mtrain\u001b[49m\u001b[43m,\u001b[49m\n\u001b[1;32m    182\u001b[0m \u001b[43m    \u001b[49m\u001b[43mdevice\u001b[49m\u001b[43m,\u001b[49m\n\u001b[1;32m    183\u001b[0m \u001b[43m    \u001b[49m\u001b[43moptimiser\u001b[49m\u001b[43m,\u001b[49m\n\u001b[1;32m    184\u001b[0m \u001b[43m    \u001b[49m\u001b[43mcriterion\u001b[49m\u001b[43m,\u001b[49m\n\u001b[1;32m    185\u001b[0m \u001b[43m    \u001b[49m\u001b[43mnum_epochs\u001b[49m\u001b[38;5;241;43m=\u001b[39;49m\u001b[43mnum_epochs\u001b[49m\u001b[43m,\u001b[49m\n\u001b[1;32m    186\u001b[0m \u001b[43m    \u001b[49m\u001b[43mearly_stopping\u001b[49m\u001b[38;5;241;43m=\u001b[39;49m\u001b[43mearly_stopping\u001b[49m\u001b[43m,\u001b[49m\n\u001b[1;32m    187\u001b[0m \u001b[43m    \u001b[49m\u001b[43mlog_each\u001b[49m\u001b[38;5;241;43m=\u001b[39;49m\u001b[43mlog_each\u001b[49m\u001b[43m,\u001b[49m\n\u001b[1;32m    188\u001b[0m \u001b[43m\u001b[49m\u001b[43m)\u001b[49m\n\u001b[1;32m    189\u001b[0m \u001b[38;5;66;03m# print('next color', colors[i])\u001b[39;00m\n\u001b[1;32m    190\u001b[0m model\u001b[38;5;241m.\u001b[39mloss_color \u001b[38;5;241m+\u001b[39m\u001b[38;5;241m=\u001b[39m \u001b[38;5;28mlist\u001b[39m(np\u001b[38;5;241m.\u001b[39mrepeat(colors[i], \u001b[38;5;28mlen\u001b[39m(model\u001b[38;5;241m.\u001b[39mloss_history)))\n",
      "File \u001b[0;32m/mnt/c/Users/ignacio.ibarra/Dropbox/workspace/theislab/multibind/multibind/tl/prediction.py:81\u001b[0m, in \u001b[0;36mtrain_network\u001b[0;34m(model, train_dataloader, device, optimiser, criterion, num_epochs, early_stopping, log_each)\u001b[0m\n\u001b[1;32m     79\u001b[0m \u001b[38;5;28;01mfor\u001b[39;00m epoch \u001b[38;5;129;01min\u001b[39;00m \u001b[38;5;28mrange\u001b[39m(num_epochs):\n\u001b[1;32m     80\u001b[0m     running_loss \u001b[38;5;241m=\u001b[39m \u001b[38;5;241m0\u001b[39m\n\u001b[0;32m---> 81\u001b[0m     \u001b[38;5;28;01mfor\u001b[39;00m i, batch \u001b[38;5;129;01min\u001b[39;00m \u001b[38;5;28menumerate\u001b[39m(train_dataloader):\n\u001b[1;32m     82\u001b[0m         \u001b[38;5;66;03m# Get a batch and potentially send it to GPU memory.\u001b[39;00m\n\u001b[1;32m     83\u001b[0m         mononuc \u001b[38;5;241m=\u001b[39m batch[\u001b[38;5;124m\"\u001b[39m\u001b[38;5;124mmononuc\u001b[39m\u001b[38;5;124m\"\u001b[39m]\u001b[38;5;241m.\u001b[39mto(device)\n\u001b[1;32m     84\u001b[0m         b \u001b[38;5;241m=\u001b[39m batch[\u001b[38;5;124m\"\u001b[39m\u001b[38;5;124mbatch\u001b[39m\u001b[38;5;124m\"\u001b[39m]\u001b[38;5;241m.\u001b[39mto(device) \u001b[38;5;28;01mif\u001b[39;00m \u001b[38;5;124m\"\u001b[39m\u001b[38;5;124mbatch\u001b[39m\u001b[38;5;124m\"\u001b[39m \u001b[38;5;129;01min\u001b[39;00m batch \u001b[38;5;28;01melse\u001b[39;00m \u001b[38;5;28;01mNone\u001b[39;00m\n",
      "File \u001b[0;32m~/miniconda3/envs/multibind/lib/python3.10/site-packages/torch/utils/data/dataloader.py:530\u001b[0m, in \u001b[0;36m_BaseDataLoaderIter.__next__\u001b[0;34m(self)\u001b[0m\n\u001b[1;32m    528\u001b[0m \u001b[38;5;28;01mif\u001b[39;00m \u001b[38;5;28mself\u001b[39m\u001b[38;5;241m.\u001b[39m_sampler_iter \u001b[38;5;129;01mis\u001b[39;00m \u001b[38;5;28;01mNone\u001b[39;00m:\n\u001b[1;32m    529\u001b[0m     \u001b[38;5;28mself\u001b[39m\u001b[38;5;241m.\u001b[39m_reset()\n\u001b[0;32m--> 530\u001b[0m data \u001b[38;5;241m=\u001b[39m \u001b[38;5;28;43mself\u001b[39;49m\u001b[38;5;241;43m.\u001b[39;49m\u001b[43m_next_data\u001b[49m\u001b[43m(\u001b[49m\u001b[43m)\u001b[49m\n\u001b[1;32m    531\u001b[0m \u001b[38;5;28mself\u001b[39m\u001b[38;5;241m.\u001b[39m_num_yielded \u001b[38;5;241m+\u001b[39m\u001b[38;5;241m=\u001b[39m \u001b[38;5;241m1\u001b[39m\n\u001b[1;32m    532\u001b[0m \u001b[38;5;28;01mif\u001b[39;00m \u001b[38;5;28mself\u001b[39m\u001b[38;5;241m.\u001b[39m_dataset_kind \u001b[38;5;241m==\u001b[39m _DatasetKind\u001b[38;5;241m.\u001b[39mIterable \u001b[38;5;129;01mand\u001b[39;00m \\\n\u001b[1;32m    533\u001b[0m         \u001b[38;5;28mself\u001b[39m\u001b[38;5;241m.\u001b[39m_IterableDataset_len_called \u001b[38;5;129;01mis\u001b[39;00m \u001b[38;5;129;01mnot\u001b[39;00m \u001b[38;5;28;01mNone\u001b[39;00m \u001b[38;5;129;01mand\u001b[39;00m \\\n\u001b[1;32m    534\u001b[0m         \u001b[38;5;28mself\u001b[39m\u001b[38;5;241m.\u001b[39m_num_yielded \u001b[38;5;241m>\u001b[39m \u001b[38;5;28mself\u001b[39m\u001b[38;5;241m.\u001b[39m_IterableDataset_len_called:\n",
      "File \u001b[0;32m~/miniconda3/envs/multibind/lib/python3.10/site-packages/torch/utils/data/dataloader.py:569\u001b[0m, in \u001b[0;36m_SingleProcessDataLoaderIter._next_data\u001b[0;34m(self)\u001b[0m\n\u001b[1;32m    568\u001b[0m \u001b[38;5;28;01mdef\u001b[39;00m \u001b[38;5;21m_next_data\u001b[39m(\u001b[38;5;28mself\u001b[39m):\n\u001b[0;32m--> 569\u001b[0m     index \u001b[38;5;241m=\u001b[39m \u001b[38;5;28;43mself\u001b[39;49m\u001b[38;5;241;43m.\u001b[39;49m\u001b[43m_next_index\u001b[49m\u001b[43m(\u001b[49m\u001b[43m)\u001b[49m  \u001b[38;5;66;03m# may raise StopIteration\u001b[39;00m\n\u001b[1;32m    570\u001b[0m     data \u001b[38;5;241m=\u001b[39m \u001b[38;5;28mself\u001b[39m\u001b[38;5;241m.\u001b[39m_dataset_fetcher\u001b[38;5;241m.\u001b[39mfetch(index)  \u001b[38;5;66;03m# may raise StopIteration\u001b[39;00m\n\u001b[1;32m    571\u001b[0m     \u001b[38;5;28;01mif\u001b[39;00m \u001b[38;5;28mself\u001b[39m\u001b[38;5;241m.\u001b[39m_pin_memory:\n",
      "File \u001b[0;32m~/miniconda3/envs/multibind/lib/python3.10/site-packages/torch/utils/data/dataloader.py:521\u001b[0m, in \u001b[0;36m_BaseDataLoaderIter._next_index\u001b[0;34m(self)\u001b[0m\n\u001b[1;32m    520\u001b[0m \u001b[38;5;28;01mdef\u001b[39;00m \u001b[38;5;21m_next_index\u001b[39m(\u001b[38;5;28mself\u001b[39m):\n\u001b[0;32m--> 521\u001b[0m     \u001b[38;5;28;01mreturn\u001b[39;00m \u001b[38;5;28;43mnext\u001b[39;49m\u001b[43m(\u001b[49m\u001b[38;5;28;43mself\u001b[39;49m\u001b[38;5;241;43m.\u001b[39;49m\u001b[43m_sampler_iter\u001b[49m\u001b[43m)\u001b[49m\n",
      "File \u001b[0;32m~/miniconda3/envs/multibind/lib/python3.10/site-packages/torch/utils/data/sampler.py:226\u001b[0m, in \u001b[0;36mBatchSampler.__iter__\u001b[0;34m(self)\u001b[0m\n\u001b[1;32m    224\u001b[0m \u001b[38;5;28;01mdef\u001b[39;00m \u001b[38;5;21m__iter__\u001b[39m(\u001b[38;5;28mself\u001b[39m) \u001b[38;5;241m-\u001b[39m\u001b[38;5;241m>\u001b[39m Iterator[List[\u001b[38;5;28mint\u001b[39m]]:\n\u001b[1;32m    225\u001b[0m     batch \u001b[38;5;241m=\u001b[39m []\n\u001b[0;32m--> 226\u001b[0m     \u001b[38;5;28;01mfor\u001b[39;00m idx \u001b[38;5;129;01min\u001b[39;00m \u001b[38;5;28mself\u001b[39m\u001b[38;5;241m.\u001b[39msampler:\n\u001b[1;32m    227\u001b[0m         batch\u001b[38;5;241m.\u001b[39mappend(idx)\n\u001b[1;32m    228\u001b[0m         \u001b[38;5;28;01mif\u001b[39;00m \u001b[38;5;28mlen\u001b[39m(batch) \u001b[38;5;241m==\u001b[39m \u001b[38;5;28mself\u001b[39m\u001b[38;5;241m.\u001b[39mbatch_size:\n",
      "File \u001b[0;32m~/miniconda3/envs/multibind/lib/python3.10/site-packages/torch/utils/data/sampler.py:122\u001b[0m, in \u001b[0;36mRandomSampler.__iter__\u001b[0;34m(self)\u001b[0m\n\u001b[1;32m    120\u001b[0m \u001b[38;5;28;01melse\u001b[39;00m:\n\u001b[1;32m    121\u001b[0m     \u001b[38;5;28;01mfor\u001b[39;00m _ \u001b[38;5;129;01min\u001b[39;00m \u001b[38;5;28mrange\u001b[39m(\u001b[38;5;28mself\u001b[39m\u001b[38;5;241m.\u001b[39mnum_samples \u001b[38;5;241m/\u001b[39m\u001b[38;5;241m/\u001b[39m n):\n\u001b[0;32m--> 122\u001b[0m         \u001b[38;5;28;01myield from\u001b[39;00m torch\u001b[38;5;241m.\u001b[39mrandperm(n, generator\u001b[38;5;241m=\u001b[39mgenerator)\u001b[38;5;241m.\u001b[39mtolist()\n\u001b[1;32m    123\u001b[0m     \u001b[38;5;28;01myield from\u001b[39;00m torch\u001b[38;5;241m.\u001b[39mrandperm(n, generator\u001b[38;5;241m=\u001b[39mgenerator)\u001b[38;5;241m.\u001b[39mtolist()[:\u001b[38;5;28mself\u001b[39m\u001b[38;5;241m.\u001b[39mnum_samples \u001b[38;5;241m%\u001b[39m n]\n",
      "\u001b[0;31mKeyboardInterrupt\u001b[0m: "
     ]
    }
   ],
   "source": []
  },
  {
   "cell_type": "code",
   "execution_count": 222,
   "id": "ea0cbc17-604e-4ef3-b319-31ef765f872b",
   "metadata": {},
   "outputs": [
    {
     "data": {
      "image/png": "[encoded data removed]",
      "text/plain": [
       "<Figure size 720x360 with 2 Axes>"
      ]
     },
     "metadata": {
      "needs_background": "light"
     },
     "output_type": "display_data"
    }
   ],
   "source": [
    "mb.pl.conv_mono(model_by_k_next['9'], figsize=[10, 5])"
   ]
  },
  {
   "cell_type": "code",
   "execution_count": 149,
   "id": "c077a0dd-6d6c-45ae-87b0-52420edf6dfa",
   "metadata": {},
   "outputs": [
    {
     "data": {
      "image/png": "[encoded data removed]",
      "text/plain": [
       "<Figure size 144x360 with 2 Axes>"
      ]
     },
     "metadata": {
      "needs_background": "light"
     },
     "output_type": "display_data"
    }
   ],
   "source": [
    "mb.pl.plot_activities(model, train, figsize=[2, 5])"
   ]
  }
 ],
 "metadata": {
  "kernelspec": {
   "display_name": "Python [conda env:scvi]",
   "language": "python",
   "name": "conda-env-scvi-py"
  },
  "language_info": {
   "codemirror_mode": {
    "name": "ipython",
    "version": 3
   },
   "file_extension": ".py",
   "mimetype": "text/x-python",
   "name": "python",
   "nbconvert_exporter": "python",
   "pygments_lexer": "ipython3",
   "version": "3.10.4"
  }
 },
 "nbformat": 4,
 "nbformat_minor": 5
}
