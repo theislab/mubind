{
 "cells": [
  {
   "cell_type": "code",
   "execution_count": 2,
   "id": "676d32ef-e42b-44f4-9f69-8a25d3f74cbe",
   "metadata": {},
   "outputs": [],
   "source": [
    "import anndata"
   ]
  },
  {
   "cell_type": "code",
   "execution_count": null,
   "id": "69fc0850-3ffa-4d40-8892-5669984bd978",
   "metadata": {},
   "outputs": [],
   "source": []
  },
  {
   "cell_type": "code",
   "execution_count": 5,
   "id": "94767fab-7240-4bc3-b40c-9cd0ef304595",
   "metadata": {},
   "outputs": [
    {
     "name": "stderr",
     "output_type": "stream",
     "text": [
      "/tmp/ipykernel_5455/3141503966.py:6: FutureWarning: X.dtype being converted to np.float32 from float64. In the next version of anndata (0.9) conversion will not be automatic. Pass dtype explicitly to avoid this warning. Pass `AnnData(X, dtype=X.dtype, ...)` to get the future behavour.\n",
      "  adata = anndata.AnnData(df)\n",
      "/home/rio/miniconda3/envs/multibind/lib/python3.10/site-packages/anndata/_core/anndata.py:121: ImplicitModificationWarning: Transforming to str index.\n",
      "  warnings.warn(\"Transforming to str index.\", ImplicitModificationWarning)\n"
     ]
    },
    {
     "data": {
      "text/plain": [
       "View of AnnData object with n_obs × n_vars = 3 × 10"
      ]
     },
     "execution_count": 5,
     "metadata": {},
     "output_type": "execute_result"
    }
   ],
   "source": [
    "import numpy as np\n",
    "import pandas as pd\n",
    "import anndata\n",
    "\n",
    "df = pd.DataFrame(np.random.normal(size=(100,10)))\n",
    "adata = anndata.AnnData(df)\n",
    "# => anndata/_core/anndata.py:120: ImplicitModificationWarning: Transforming to str index.\n",
    "# =>   warnings.warn(\"Transforming to str index.\", ImplicitModificationWarning)\n",
    "\n",
    "adata.obs_names = df.index\n",
    "adata.obs_names\n",
    "# => RangeIndex(start=0, stop=100, step=1)\n",
    "\n",
    "adata[[0,9,99]]\n",
    "# => View of AnnData object with n_obs × n_vars = 3 × 10"
   ]
  },
  {
   "cell_type": "code",
   "execution_count": 8,
   "id": "12c0d6b4-5189-4fa4-bcad-a967b7b2d314",
   "metadata": {},
   "outputs": [],
   "source": [
    "def bitfield(n):\n",
    "    return [1 if digit=='1' else 0 for digit in bin(n)[2:]]"
   ]
  },
  {
   "cell_type": "code",
   "execution_count": 18,
   "id": "1575fa35-cca7-4ec7-ab45-8e8b9cca6c14",
   "metadata": {},
   "outputs": [
    {
     "data": {
      "text/plain": [
       "[1, 0, 1, 0]"
      ]
     },
     "execution_count": 18,
     "metadata": {},
     "output_type": "execute_result"
    }
   ],
   "source": [
    "bitfield(10)"
   ]
  },
  {
   "cell_type": "code",
   "execution_count": null,
   "id": "76888e3a-ce25-4022-a7ac-da90994223ca",
   "metadata": {},
   "outputs": [],
   "source": []
  }
 ],
 "metadata": {
  "kernelspec": {
   "display_name": "Python [conda env:multibind]",
   "language": "python",
   "name": "conda-env-multibind-py"
  },
  "language_info": {
   "codemirror_mode": {
    "name": "ipython",
    "version": 3
   },
   "file_extension": ".py",
   "mimetype": "text/x-python",
   "name": "python",
   "nbconvert_exporter": "python",
   "pygments_lexer": "ipython3",
   "version": "3.10.4"
  }
 },
 "nbformat": 4,
 "nbformat_minor": 5
}
