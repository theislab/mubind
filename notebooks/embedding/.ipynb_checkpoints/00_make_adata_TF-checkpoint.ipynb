{
 "cells": [
  {
   "cell_type": "code",
   "execution_count": 1,
   "id": "a243a24a-b5d3-49bc-b437-6388d607cfe8",
   "metadata": {},
   "outputs": [],
   "source": [
    "%load_ext autoreload\n",
    "%autoreload 2"
   ]
  },
  {
   "cell_type": "code",
   "execution_count": 2,
   "id": "d2a97af0-005e-42e3-9ec7-abc817786994",
   "metadata": {},
   "outputs": [
    {
     "data": {
      "text/plain": [
       "'/home/rio/miniconda3/envs/multibind/bin/python'"
      ]
     },
     "execution_count": 2,
     "metadata": {},
     "output_type": "execute_result"
    }
   ],
   "source": [
    "import sys\n",
    "sys.executable"
   ]
  },
  {
   "cell_type": "code",
   "execution_count": 3,
   "id": "96abc113-0b42-4b03-9b91-c7e3c3122037",
   "metadata": {},
   "outputs": [],
   "source": [
    "import numpy as np\n",
    "import pandas\n",
    "import multibind"
   ]
  },
  {
   "cell_type": "code",
   "execution_count": 4,
   "id": "402ae57e-25d7-496a-a79b-2105f14f36a4",
   "metadata": {},
   "outputs": [
    {
     "name": "stdout",
     "output_type": "stream",
     "text": [
      "Using device: cuda:0\n"
     ]
    }
   ],
   "source": [
    "import mubind as mb\n",
    "import numpy as np\n",
    "import pandas as pd\n",
    "import torch\n",
    "import bindome as bd\n",
    "bd.constants.ANNOTATIONS_DIRECTORY = '../annotations'\n",
    "# mb.models.MultiBind\n",
    "import torch.optim as topti\n",
    "import torch.utils.data as tdata\n",
    "import matplotlib.pyplot as plt\n",
    "import logomaker\n",
    "\n",
    "# Use a GPU if available, as it should be faster.\n",
    "device = torch.device(\"cuda:0\" if torch.cuda.is_available() else \"cpu\")\n",
    "print(\"Using device: \" + str(device))"
   ]
  },
  {
   "cell_type": "code",
   "execution_count": 5,
   "id": "5f81ee16-a132-4be6-8883-f997de513a8a",
   "metadata": {},
   "outputs": [
    {
     "name": "stdout",
     "output_type": "stream",
     "text": [
      "cardiac_complexes\n",
      "# filenames 22\n",
      "(22, 2)\n",
      "PRJEB14744\n",
      "# filenames 13\n",
      "(13, 2)\n",
      "PRJEB20112\n",
      "# filenames 46\n",
      "(46, 2)\n",
      "PRJEB3289\n",
      "# filenames 73\n",
      "(73, 2)\n",
      "PRJEB9797\n",
      "# filenames 184\n",
      "(184, 2)\n"
     ]
    }
   ],
   "source": [
    "data = mb.bindome.datasets.SELEX.get_data()"
   ]
  },
  {
   "cell_type": "code",
   "execution_count": 6,
   "id": "c8f8a767-5d69-4264-9d44-c01fd76ad233",
   "metadata": {},
   "outputs": [],
   "source": [
    "# data_sel = data[data['filename'].str.contains('GATA') | data['filename'].str.contains('FOXA1')]\n",
    "# read_tf = mb.bindome.datasets.SELEX.load_read_counts('GATA4', data)\n",
    "# read_tf = mb.bindome.datasets.SELEX.load_read_counts(log_each=50, n_sample=100) #  stop_at=50)\n",
    "# df = mb.bindome.datasets.ProBound.GR_mult_conc()\n",
    "# df = df.sort_values(1, ascending=False).reset_index(drop=True)"
   ]
  },
  {
   "cell_type": "code",
   "execution_count": 7,
   "id": "863b9e61-5a28-4591-8d3f-2f3eb7daa1d0",
   "metadata": {},
   "outputs": [],
   "source": [
    "# data[data['accession'] == 'cardiac_complexes']"
   ]
  },
  {
   "cell_type": "code",
   "execution_count": 8,
   "id": "047c1920-0a1a-46d3-898d-89b2eb962575",
   "metadata": {},
   "outputs": [
    {
     "data": {
      "text/plain": [
       "ZEROCYCLE      73\n",
       "ELK1           38\n",
       "ETV4           28\n",
       "ELK3           28\n",
       "ELF2           24\n",
       "EGR1           23\n",
       "ELF3           20\n",
       "ELF4           16\n",
       "FOXA1          16\n",
       "ALX4           12\n",
       "ETV5           12\n",
       "ETS1           10\n",
       "ALX1            8\n",
       "CTCF            4\n",
       "ETV6            4\n",
       "GATA4           3\n",
       "TBX5            3\n",
       "R46             3\n",
       "NKX2-5          3\n",
       "NKX2-5TBX5      3\n",
       "NKX2-5GATA4     3\n",
       "GATA4TBX5       3\n",
       "Name: tf.name, dtype: int64"
      ]
     },
     "execution_count": 8,
     "metadata": {},
     "output_type": "execute_result"
    }
   ],
   "source": [
    "data['tf.name'].value_counts()"
   ]
  },
  {
   "cell_type": "code",
   "execution_count": 12,
   "id": "53c48fa8-2548-4168-aff9-eaa9fef4d043",
   "metadata": {},
   "outputs": [],
   "source": []
  },
  {
   "cell_type": "code",
   "execution_count": 13,
   "id": "89c7ff8b-b2e8-4f51-9cab-5a393c4f0a20",
   "metadata": {},
   "outputs": [],
   "source": [
    "import scanpy as sc\n",
    "import anndata\n",
    "import os\n",
    "import gc\n"
   ]
  },
  {
   "cell_type": "code",
   "execution_count": 34,
   "id": "63b402c3-0cae-447d-a2a6-02318b7dde4f",
   "metadata": {},
   "outputs": [
    {
     "data": {
      "text/plain": [
       "{'ALX1',\n",
       " 'ALX4',\n",
       " 'CTCF',\n",
       " 'EGR1',\n",
       " 'ELF2',\n",
       " 'ELF3',\n",
       " 'ELF4',\n",
       " 'ELK1',\n",
       " 'ELK3',\n",
       " 'ETS1',\n",
       " 'ETV4',\n",
       " 'ETV5',\n",
       " 'ETV6',\n",
       " 'FOXA1'}"
      ]
     },
     "execution_count": 34,
     "metadata": {},
     "output_type": "execute_result"
    }
   ],
   "source": [
    "tf_names = set(data['tf.name'].value_counts().index)\n",
    "tf_names = {s for s in tf_names if not s in {'R46', 'GATA4', 'GATA4TBX5', 'NKX2-5', 'NKX2-5TBX5', 'NKX2-5GATA4', 'TBX5', 'ZEROCYCLE'}}\n",
    "tf_names"
   ]
  },
  {
   "cell_type": "code",
   "execution_count": null,
   "id": "ab5d86a0-c326-4b13-a975-ba9713286b8c",
   "metadata": {
    "tags": []
   },
   "outputs": [
    {
     "name": "stdout",
     "output_type": "stream",
     "text": [
      "ELF4\n",
      "../../data/kmers_adata_ELF4_k10.h5ad\n",
      "reading adata\n",
      "done...\n",
      "ELK3\n",
      "../../data/kmers_adata_ELK3_k10.h5ad\n",
      "reading adata\n",
      "done...\n",
      "ETV5\n",
      "../../data/kmers_adata_ETV5_k10.h5ad\n",
      "reading adata\n",
      "done...\n",
      "ETV6\n",
      "../../data/kmers_adata_ETV6_k10.h5ad\n",
      "reading adata\n",
      "done...\n",
      "ELK1\n",
      "../../data/kmers_adata_ELK1_k10.h5ad\n",
      "reading adata\n",
      "done...\n",
      "ETS1\n",
      "../../data/kmers_adata_ETS1_k10.h5ad\n",
      "reading adata\n",
      "done...\n",
      "ELF3\n",
      "../../data/kmers_adata_ELF3_k10.h5ad\n",
      "reading adata\n",
      "done...\n",
      "CTCF\n",
      "../../data/kmers_adata_CTCF_k10.h5ad\n",
      "reading adata\n",
      "done...\n",
      "ALX1\n",
      "../../data/kmers_adata_ALX1_k10.h5ad\n",
      "reading adata\n",
      "done...\n",
      "FOXA1\n",
      "../../data/kmers_adata_FOXA1_k10.h5ad\n",
      "reading adata\n",
      "done...\n",
      "EGR1\n",
      "../../data/kmers_adata_EGR1_k10.h5ad\n",
      "0 out of 31\n",
      "../annotations/selex/PRJEB3289/EGR1_TACTAT20NATC_AA_2.fastq.gz\n",
      "kmc -cs225136 -k10 -ci1 -m8 ../annotations/selex/PRJEB3289/EGR1_TACTAT20NATC_AA_2.fastq.gz NA kmc_tmp 1> in.txt 2> err.txt\n",
      "kmc_tools transform NA dump NA.txt\n"
     ]
    },
    {
     "name": "stderr",
     "output_type": "stream",
     "text": [
      "in1: 100% \n"
     ]
    },
    {
     "name": "stdout",
     "output_type": "stream",
     "text": [
      "../annotations/selex/PRJEB3289/EGR1_TACTAT20NATC_AA_3.fastq.gz\n",
      "kmc -cs1066976 -k10 -ci1 -m8 ../annotations/selex/PRJEB3289/EGR1_TACTAT20NATC_AA_3.fastq.gz NA kmc_tmp 1> in.txt 2> err.txt\n",
      "kmc_tools transform NA dump NA.txt\n"
     ]
    },
    {
     "name": "stderr",
     "output_type": "stream",
     "text": [
      "in1: 100% \n"
     ]
    },
    {
     "name": "stdout",
     "output_type": "stream",
     "text": [
      "../annotations/selex/PRJEB3289/EGR1_TACTAT20NATC_AA_4.fastq.gz\n",
      "kmc -cs595000 -k10 -ci1 -m8 ../annotations/selex/PRJEB3289/EGR1_TACTAT20NATC_AA_4.fastq.gz NA kmc_tmp 1> in.txt 2> err.txt\n",
      "kmc_tools transform NA dump NA.txt\n"
     ]
    },
    {
     "name": "stderr",
     "output_type": "stream",
     "text": [
      "in1: 100% \n"
     ]
    },
    {
     "name": "stdout",
     "output_type": "stream",
     "text": [
      "../annotations/selex/PRJEB3289/EGR1_TCTCTT20NGA_Y_1.fastq.gz\n",
      "kmc -cs184064 -k10 -ci1 -m8 ../annotations/selex/PRJEB3289/EGR1_TCTCTT20NGA_Y_1.fastq.gz NA kmc_tmp 1> in.txt 2> err.txt\n",
      "kmc_tools transform NA dump NA.txt\n"
     ]
    },
    {
     "name": "stderr",
     "output_type": "stream",
     "text": [
      "in1: 100% \n"
     ]
    },
    {
     "name": "stdout",
     "output_type": "stream",
     "text": [
      "../annotations/selex/PRJEB3289/EGR1_TCTCTT20NGA_Y_2.fastq.gz\n",
      "kmc -cs278340 -k10 -ci1 -m8 ../annotations/selex/PRJEB3289/EGR1_TCTCTT20NGA_Y_2.fastq.gz NA kmc_tmp 1> in.txt 2> err.txt\n",
      "kmc_tools transform NA dump NA.txt\n"
     ]
    },
    {
     "name": "stderr",
     "output_type": "stream",
     "text": [
      "in1: 100% \n"
     ]
    },
    {
     "name": "stdout",
     "output_type": "stream",
     "text": [
      "5 out of 31\n",
      "../annotations/selex/PRJEB3289/EGR1_TCTCTT20NGA_Y_3.fastq.gz\n",
      "kmc -cs305224 -k10 -ci1 -m8 ../annotations/selex/PRJEB3289/EGR1_TCTCTT20NGA_Y_3.fastq.gz NA kmc_tmp 1> in.txt 2> err.txt\n",
      "kmc_tools transform NA dump NA.txt\n"
     ]
    },
    {
     "name": "stderr",
     "output_type": "stream",
     "text": [
      "in1: 100% \n"
     ]
    },
    {
     "name": "stdout",
     "output_type": "stream",
     "text": [
      "../annotations/selex/PRJEB3289/EGR1_TCTCTT20NGA_Y_4.fastq.gz\n",
      "kmc -cs390820 -k10 -ci1 -m8 ../annotations/selex/PRJEB3289/EGR1_TCTCTT20NGA_Y_4.fastq.gz NA kmc_tmp 1> in.txt 2> err.txt\n",
      "kmc_tools transform NA dump NA.txt\n"
     ]
    },
    {
     "name": "stderr",
     "output_type": "stream",
     "text": [
      "in1: 100% \n"
     ]
    },
    {
     "name": "stdout",
     "output_type": "stream",
     "text": [
      "../annotations/selex/PRJEB9797/EGR1_eDBD_1_KAN_TAGACA40NGTC.fastq.gz\n",
      "kmc -cs1694400 -k10 -ci1 -m8 ../annotations/selex/PRJEB9797/EGR1_eDBD_1_KAN_TAGACA40NGTC.fastq.gz NA kmc_tmp 1> in.txt 2> err.txt\n",
      "kmc_tools transform NA dump NA.txt\n"
     ]
    },
    {
     "name": "stderr",
     "output_type": "stream",
     "text": [
      "in1: 100% \n"
     ]
    },
    {
     "name": "stdout",
     "output_type": "stream",
     "text": [
      "../annotations/selex/PRJEB9797/EGR1_eDBD_1_KAN_TCCGCT40NGCG.fastq.gz\n",
      "kmc -cs1434160 -k10 -ci1 -m8 ../annotations/selex/PRJEB9797/EGR1_eDBD_1_KAN_TCCGCT40NGCG.fastq.gz NA kmc_tmp 1> in.txt 2> err.txt\n",
      "kmc_tools transform NA dump NA.txt\n"
     ]
    },
    {
     "name": "stderr",
     "output_type": "stream",
     "text": [
      "in1: 100% \n"
     ]
    },
    {
     "name": "stdout",
     "output_type": "stream",
     "text": [
      "../annotations/selex/PRJEB9797/EGR1_eDBD_1_KR_TCAGCC40NTTC.fastq.gz\n",
      "kmc -cs1652788 -k10 -ci1 -m8 ../annotations/selex/PRJEB9797/EGR1_eDBD_1_KR_TCAGCC40NTTC.fastq.gz NA kmc_tmp 1> in.txt 2> err.txt\n",
      "kmc_tools transform NA dump NA.txt\n"
     ]
    },
    {
     "name": "stderr",
     "output_type": "stream",
     "text": [
      "in1: 100% \n"
     ]
    },
    {
     "name": "stdout",
     "output_type": "stream",
     "text": [
      "10 out of 31\n",
      "../annotations/selex/PRJEB9797/EGR1_eDBD_1_KR_TTGTAC40NGTA.fastq.gz\n",
      "kmc -cs2021864 -k10 -ci1 -m8 ../annotations/selex/PRJEB9797/EGR1_eDBD_1_KR_TTGTAC40NGTA.fastq.gz NA kmc_tmp 1> in.txt 2> err.txt\n",
      "kmc_tools transform NA dump NA.txt\n"
     ]
    },
    {
     "name": "stderr",
     "output_type": "stream",
     "text": [
      "in1: 100% \n"
     ]
    },
    {
     "name": "stdout",
     "output_type": "stream",
     "text": [
      "../annotations/selex/PRJEB9797/EGR1_eDBD_2_KAN_TAGACA40NGTC.fastq.gz\n",
      "kmc -cs1321820 -k10 -ci1 -m8 ../annotations/selex/PRJEB9797/EGR1_eDBD_2_KAN_TAGACA40NGTC.fastq.gz NA kmc_tmp 1> in.txt 2> err.txt\n",
      "kmc_tools transform NA dump NA.txt\n"
     ]
    },
    {
     "name": "stderr",
     "output_type": "stream",
     "text": [
      "in1: 100% \n"
     ]
    },
    {
     "name": "stdout",
     "output_type": "stream",
     "text": [
      "../annotations/selex/PRJEB9797/EGR1_eDBD_2_KAN_TCCGCT40NGCG.fastq.gz\n",
      "kmc -cs1444884 -k10 -ci1 -m8 ../annotations/selex/PRJEB9797/EGR1_eDBD_2_KAN_TCCGCT40NGCG.fastq.gz NA kmc_tmp 1> in.txt 2> err.txt\n",
      "kmc_tools transform NA dump NA.txt\n"
     ]
    },
    {
     "name": "stderr",
     "output_type": "stream",
     "text": [
      "in1: 100% \n"
     ]
    },
    {
     "name": "stdout",
     "output_type": "stream",
     "text": [
      "../annotations/selex/PRJEB9797/EGR1_eDBD_2_KR_TCAGCC40NTTC.fastq.gz\n",
      "kmc -cs944476 -k10 -ci1 -m8 ../annotations/selex/PRJEB9797/EGR1_eDBD_2_KR_TCAGCC40NTTC.fastq.gz NA kmc_tmp 1> in.txt 2> err.txt\n",
      "kmc_tools transform NA dump NA.txt\n"
     ]
    },
    {
     "name": "stderr",
     "output_type": "stream",
     "text": [
      "in1: 100% \n"
     ]
    },
    {
     "name": "stdout",
     "output_type": "stream",
     "text": [
      "../annotations/selex/PRJEB9797/EGR1_eDBD_2_KR_TTGTAC40NGTA.fastq.gz\n",
      "kmc -cs1505924 -k10 -ci1 -m8 ../annotations/selex/PRJEB9797/EGR1_eDBD_2_KR_TTGTAC40NGTA.fastq.gz NA kmc_tmp 1> in.txt 2> err.txt\n",
      "kmc_tools transform NA dump NA.txt\n"
     ]
    },
    {
     "name": "stderr",
     "output_type": "stream",
     "text": [
      "in1: 100% \n"
     ]
    },
    {
     "name": "stdout",
     "output_type": "stream",
     "text": [
      "15 out of 31\n",
      "../annotations/selex/PRJEB9797/EGR1_eDBD_3_KAN_TAGACA40NGTC.fastq.gz\n",
      "kmc -cs1401760 -k10 -ci1 -m8 ../annotations/selex/PRJEB9797/EGR1_eDBD_3_KAN_TAGACA40NGTC.fastq.gz NA kmc_tmp 1> in.txt 2> err.txt\n",
      "kmc_tools transform NA dump NA.txt\n"
     ]
    },
    {
     "name": "stderr",
     "output_type": "stream",
     "text": [
      "in1: 100% \n"
     ]
    },
    {
     "name": "stdout",
     "output_type": "stream",
     "text": [
      "../annotations/selex/PRJEB9797/EGR1_eDBD_3_KAN_TCCGCT40NGCG.fastq.gz\n",
      "kmc -cs1602288 -k10 -ci1 -m8 ../annotations/selex/PRJEB9797/EGR1_eDBD_3_KAN_TCCGCT40NGCG.fastq.gz NA kmc_tmp 1> in.txt 2> err.txt\n",
      "kmc_tools transform NA dump NA.txt\n"
     ]
    },
    {
     "name": "stderr",
     "output_type": "stream",
     "text": [
      "in1: 100% \n"
     ]
    },
    {
     "name": "stdout",
     "output_type": "stream",
     "text": [
      "../annotations/selex/PRJEB9797/EGR1_eDBD_3_KR_TCAGCC40NTTC.fastq.gz\n",
      "kmc -cs571020 -k10 -ci1 -m8 ../annotations/selex/PRJEB9797/EGR1_eDBD_3_KR_TCAGCC40NTTC.fastq.gz NA kmc_tmp 1> in.txt 2> err.txt\n",
      "kmc_tools transform NA dump NA.txt\n"
     ]
    },
    {
     "name": "stderr",
     "output_type": "stream",
     "text": [
      "in1: 100% \n"
     ]
    },
    {
     "name": "stdout",
     "output_type": "stream",
     "text": [
      "../annotations/selex/PRJEB9797/EGR1_eDBD_3_KR_TTGTAC40NGTA.fastq.gz\n",
      "kmc -cs894140 -k10 -ci1 -m8 ../annotations/selex/PRJEB9797/EGR1_eDBD_3_KR_TTGTAC40NGTA.fastq.gz NA kmc_tmp 1> in.txt 2> err.txt\n",
      "kmc_tools transform NA dump NA.txt\n"
     ]
    },
    {
     "name": "stderr",
     "output_type": "stream",
     "text": [
      "in1: 100% \n"
     ]
    },
    {
     "name": "stdout",
     "output_type": "stream",
     "text": [
      "../annotations/selex/PRJEB9797/EGR1_eDBD_4_KAN_TAGACA40NGTC.fastq.gz\n",
      "kmc -cs1550856 -k10 -ci1 -m8 ../annotations/selex/PRJEB9797/EGR1_eDBD_4_KAN_TAGACA40NGTC.fastq.gz NA kmc_tmp 1> in.txt 2> err.txt\n",
      "kmc_tools transform NA dump NA.txt\n"
     ]
    },
    {
     "name": "stderr",
     "output_type": "stream",
     "text": [
      "in1: 100% \n"
     ]
    },
    {
     "name": "stdout",
     "output_type": "stream",
     "text": [
      "20 out of 31\n",
      "../annotations/selex/PRJEB9797/EGR1_eDBD_4_KAN_TCCGCT40NGCG.fastq.gz\n",
      "kmc -cs1049280 -k10 -ci1 -m8 ../annotations/selex/PRJEB9797/EGR1_eDBD_4_KAN_TCCGCT40NGCG.fastq.gz NA kmc_tmp 1> in.txt 2> err.txt\n",
      "kmc_tools transform NA dump NA.txt\n"
     ]
    },
    {
     "name": "stderr",
     "output_type": "stream",
     "text": [
      "in1: 100% \n"
     ]
    },
    {
     "name": "stdout",
     "output_type": "stream",
     "text": [
      "../annotations/selex/PRJEB9797/EGR1_eDBD_4_KR_TCAGCC40NTTC.fastq.gz\n",
      "kmc -cs743944 -k10 -ci1 -m8 ../annotations/selex/PRJEB9797/EGR1_eDBD_4_KR_TCAGCC40NTTC.fastq.gz NA kmc_tmp 1> in.txt 2> err.txt\n",
      "kmc_tools transform NA dump NA.txt\n"
     ]
    },
    {
     "name": "stderr",
     "output_type": "stream",
     "text": [
      "in1: 100% \n"
     ]
    },
    {
     "name": "stdout",
     "output_type": "stream",
     "text": [
      "../annotations/selex/PRJEB9797/EGR1_eDBD_4_KR_TTGTAC40NGTA.fastq.gz\n",
      "kmc -cs1697720 -k10 -ci1 -m8 ../annotations/selex/PRJEB9797/EGR1_eDBD_4_KR_TTGTAC40NGTA.fastq.gz NA kmc_tmp 1> in.txt 2> err.txt\n",
      "kmc_tools transform NA dump NA.txt\n"
     ]
    },
    {
     "name": "stderr",
     "output_type": "stream",
     "text": [
      "in1: 100% \n"
     ]
    },
    {
     "name": "stdout",
     "output_type": "stream",
     "text": [
      "../annotations/selex/PRJEB14744/ZeroCycle_ES0_TACTAT20NATC_0.txt.gz\n",
      "kmc -cs6453088 -k10 -ci1 -m8 ../annotations/selex/PRJEB14744/ZeroCycle_ES0_TACTAT20NATC_0.txt.gz NA kmc_tmp 1> in.txt 2> err.txt\n",
      "kmc_tools transform NA dump NA.txt\n"
     ]
    },
    {
     "name": "stderr",
     "output_type": "stream",
     "text": [
      "in1: 100% \n"
     ]
    },
    {
     "name": "stdout",
     "output_type": "stream",
     "text": [
      "../annotations/selex/PRJEB14744/ZeroCycle_ES0_TCTCTT20NGA_0.txt.gz\n",
      "kmc -cs909396 -k10 -ci1 -m8 ../annotations/selex/PRJEB14744/ZeroCycle_ES0_TCTCTT20NGA_0.txt.gz NA kmc_tmp 1> in.txt 2> err.txt\n",
      "kmc_tools transform NA dump NA.txt\n"
     ]
    },
    {
     "name": "stderr",
     "output_type": "stream",
     "text": [
      "in1: 100% \n"
     ]
    },
    {
     "name": "stdout",
     "output_type": "stream",
     "text": [
      "25 out of 31\n",
      "25 out of 31\n",
      "../annotations/selex/PRJEB20112/ZeroCycle_TAGACA40NGTC_0_0.fastq.gz\n",
      "kmc -cs575272 -k10 -ci1 -m8 ../annotations/selex/PRJEB20112/ZeroCycle_TAGACA40NGTC_0_0.fastq.gz NA kmc_tmp 1> in.txt 2> err.txt\n",
      "kmc_tools transform NA dump NA.txt\n"
     ]
    },
    {
     "name": "stderr",
     "output_type": "stream",
     "text": [
      "in1: 100% \n"
     ]
    },
    {
     "name": "stdout",
     "output_type": "stream",
     "text": [
      "../annotations/selex/PRJEB20112/ZeroCycle_TCAGCC40NTTC_0_0.fastq.gz\n",
      "kmc -cs907676 -k10 -ci1 -m8 ../annotations/selex/PRJEB20112/ZeroCycle_TCAGCC40NTTC_0_0.fastq.gz NA kmc_tmp 1> in.txt 2> err.txt\n",
      "kmc_tools transform NA dump NA.txt\n"
     ]
    },
    {
     "name": "stderr",
     "output_type": "stream",
     "text": [
      "in1: 100% \n"
     ]
    },
    {
     "name": "stdout",
     "output_type": "stream",
     "text": [
      "../annotations/selex/PRJEB20112/ZeroCycle_TCCGCT40NGCG_0_0.fastq.gz\n"
     ]
    }
   ],
   "source": [
    "# loading with the fastest command takes about 5 minutes\n",
    "for tf_name in tf_names:\n",
    "    k = 10    \n",
    "    print(tf_name)\n",
    "    data_sel_tf = data[(data['tf.name'] == tf_name)] #  & (grp['cycle'].astype(str) == '1')]\n",
    "    data_sel_zero = data[(data['cycle'] == 0) & data['library'].isin(set(data[data['tf.name'] == tf_name]['library']))]  # & grp['accession'].isin(set(grp[grp['tf.name'] == tf]['accession']))]\n",
    "\n",
    "    data_sel = pd.concat([data_sel_tf, data_sel_zero]).reset_index(drop=True)\n",
    "    data_sel.shape\n",
    "    \n",
    "    # data_sel = data[data['accession'] != 'cardiac_complexes'] # .head(4)\n",
    "    # data_sel = data_sel.head(5)\n",
    "\n",
    "    # data_sel = data[data['tf.name'].str.contains('ELK1')].reset_index(drop=True)\n",
    "    data_sel['cycle'] = data_sel['cycle'].astype(int)\n",
    "    # data_sel['cycle']\n",
    "    # print(data_sel_tf.shape[0], data_sel_zero.shape[0])\n",
    "    # print('loading', tf, ':', library)\n",
    "    # reads_tf = mb.bindome.datasets.SELEX.load_read_counts(tf, data=data_sel_tf)\n",
    "    # reads_zero = mb.bindome.datasets.SELEX.load_read_counts(data=data_sel_zero, library=library)\n",
    "\n",
    "    adata_kmers_bkp = '../../data/kmers_adata_%s_k%i.h5ad' % (tf_name, k)\n",
    "    print(adata_kmers_bkp)\n",
    "    if not os.path.exists(adata_kmers_bkp):\n",
    "        kmers_by_k = {}\n",
    "        for ri, r in data_sel.iterrows():\n",
    "            if ri % 5 == 0:\n",
    "                print('%i out of %i' % (ri, data_sel.shape[0]))\n",
    "            key_added = r['filename'].replace('.fastq.gz', '').replace('.txt.gz', '')    \n",
    "\n",
    "            print(r['path'])\n",
    "            df_kmers = None\n",
    "            if mb.bindome.datasets.SELEX.is_fastq(r['path']) and k >= 10:\n",
    "                df_kmers = mb.tl.fastq2kmers(r['path'], k, log=True) # \n",
    "                df_kmers[df_kmers.columns[0]] = pd.arrays.SparseArray(df_kmers[df_kmers.columns[0]])\n",
    "            else:\n",
    "                read_tf = mb.bindome.datasets.SELEX.load_read_counts(data=data_sel[data_sel.index == ri], log_each=50, n_sample=100)\n",
    "                next_df = read_tf[list(read_tf.keys())[0]]\n",
    "                df_kmers = mb.tl.seqs2kmers(next_df['seq'], k, counts=next_df['counts'])\n",
    "\n",
    "            df_kmers.columns = [key_added]\n",
    "\n",
    "            # convert to sparse\n",
    "            df_kmers[df_kmers.columns[0]] = pd.arrays.SparseArray(df_kmers[df_kmers.columns[0]])\n",
    "            kmers_by_k[key_added] = df_kmers\n",
    "\n",
    "            if len(kmers_by_k.keys()) % 25 == 0:\n",
    "                print(len(kmers_by_k.keys()), 'out of', data_sel.shape[0])\n",
    "\n",
    "            import warnings\n",
    "            warnings.filterwarnings(\"ignore\")\n",
    "\n",
    "        from functools import reduce\n",
    "        print('merging...')\n",
    "        df_merged = reduce(lambda  left,right: pd.merge(left, right, left_index=True, right_index=True,\n",
    "                                                    how='outer'), kmers_by_k.values()).fillna(0)\n",
    "        print('merging done...')\n",
    "\n",
    "        del kmers_by_k\n",
    "        gc.collect()\n",
    "\n",
    "        print('transposing...')\n",
    "        df_merged = df_merged.T\n",
    "\n",
    "        # df_merged\n",
    "\n",
    "        print('convert to anndata...')\n",
    "        adata = anndata.AnnData(df_merged)\n",
    "\n",
    "        del df_merged\n",
    "        gc.collect()\n",
    "\n",
    "        data_sel2 = data_sel.copy()\n",
    "        del data_sel\n",
    "        gc.collect()\n",
    "\n",
    "        data_sel2.index = adata.obs_names\n",
    "\n",
    "        adata.obs = data_sel2\n",
    "        adata.var_names = list(adata.var_names)\n",
    "\n",
    "        print('writing')\n",
    "        adata.write(adata_kmers_bkp, compression='lzf')\n",
    "        print('writing done...')\n",
    "\n",
    "    print('reading adata')\n",
    "    adata = sc.read_h5ad(adata_kmers_bkp)\n",
    "    print('done...')"
   ]
  },
  {
   "cell_type": "code",
   "execution_count": 29,
   "id": "2507e496-b2d1-42d7-a297-71cc810db5b9",
   "metadata": {},
   "outputs": [
    {
     "name": "stdout",
     "output_type": "stream",
     "text": [
      "here...\n"
     ]
    }
   ],
   "source": [
    "print('here...')"
   ]
  },
  {
   "cell_type": "code",
   "execution_count": 15,
   "id": "50c2365c-dcf9-4dc7-94e1-00ac68df3485",
   "metadata": {},
   "outputs": [
    {
     "data": {
      "text/plain": [
       "CTCF_full_AJ_TAGCGA20NGCT_1     1500.0\n",
       "CTCF_full_AJ_TAGCGA20NGCT_2     1500.0\n",
       "CTCF_full_AJ_TAGCGA20NGCT_3     1500.0\n",
       "CTCF_full_AJ_TAGCGA20NGCT_4     1500.0\n",
       "ZeroCycle_ES0_TAGCGA20NGCT_0    1500.0\n",
       "ZeroCycle_TAGCGA20NGCT_0_0      1500.0\n",
       "dtype: float32"
      ]
     },
     "execution_count": 15,
     "metadata": {},
     "output_type": "execute_result"
    }
   ],
   "source": [
    "adata.to_df().T.sum(axis=0)"
   ]
  },
  {
   "cell_type": "code",
   "execution_count": 16,
   "id": "28f9a636-5a45-4cf5-a840-7e57a23d6fc0",
   "metadata": {},
   "outputs": [
    {
     "name": "stdout",
     "output_type": "stream",
     "text": [
      "-rwxrwxrwx 1 rio rio 160K Jun 20 18:39 ../../data/kmers_adata_CTCF_k6.h5ad\n"
     ]
    }
   ],
   "source": [
    "!ls -ltrh $adata_kmers_bkp"
   ]
  },
  {
   "cell_type": "code",
   "execution_count": null,
   "id": "e5251284-90cc-4938-8642-fc0d667b8342",
   "metadata": {},
   "outputs": [],
   "source": [
    "size = 0\n",
    "for p in data_sel['path']:\n",
    "    size += os.path.getsize(p) / 1e6\n",
    "print(size)"
   ]
  },
  {
   "cell_type": "code",
   "execution_count": null,
   "id": "5c1a5805-caa4-4828-b5c0-200878c52356",
   "metadata": {},
   "outputs": [],
   "source": [
    "# # %load_ext line_profiler\n",
    "# %lprun -f get_kmers get_kmers(next_df['seq'], 6, counts=next_df['counts'])\n",
    "# %time kmers = get_kmers(next_df['seq'], 6, counts=next_df['counts'])"
   ]
  },
  {
   "cell_type": "code",
   "execution_count": null,
   "id": "69e8cc5d-bd1a-4f12-ad3b-a3d55b401d62",
   "metadata": {},
   "outputs": [],
   "source": [
    "from matplotlib import rcParams\n",
    "rcParams['figure.figsize'] = 9, 2"
   ]
  },
  {
   "cell_type": "code",
   "execution_count": null,
   "id": "2d44d607-9c05-44d3-96ef-b763745528a4",
   "metadata": {},
   "outputs": [],
   "source": [
    "sc.pp.neighbors(adata)\n",
    "sc.tl.umap(adata)"
   ]
  },
  {
   "cell_type": "code",
   "execution_count": null,
   "id": "06c9248b-0df4-4b70-8559-c7f0aa93fe19",
   "metadata": {},
   "outputs": [],
   "source": [
    "sc.set_figure_params(facecolor='white')"
   ]
  },
  {
   "cell_type": "code",
   "execution_count": null,
   "id": "e68e8967-4f03-406b-b8dd-645c53719598",
   "metadata": {},
   "outputs": [],
   "source": [
    "import seaborn as sns"
   ]
  },
  {
   "cell_type": "code",
   "execution_count": null,
   "id": "15ce0ea4-cbc0-4777-82f6-f3cce28ae625",
   "metadata": {},
   "outputs": [],
   "source": [
    "adata"
   ]
  },
  {
   "cell_type": "code",
   "execution_count": null,
   "id": "85b88399-b333-4f23-bb19-3d667c15d4e6",
   "metadata": {},
   "outputs": [],
   "source": [
    "# adata.obs"
   ]
  },
  {
   "cell_type": "code",
   "execution_count": null,
   "id": "7012e4f2-643f-471e-8eb7-77593c973fe3",
   "metadata": {},
   "outputs": [],
   "source": [
    "# adata.to_df()"
   ]
  },
  {
   "cell_type": "code",
   "execution_count": null,
   "id": "130bf06c-0fba-4f35-b6c4-0fd931ff5752",
   "metadata": {},
   "outputs": [],
   "source": [
    "g = sns.clustermap(adata.to_df().T.corr(), cmap='Reds', figsize=[6, 6], xticklabels=False, yticklabels=False)"
   ]
  },
  {
   "cell_type": "code",
   "execution_count": null,
   "id": "bb6ecfb6-5d22-452f-81c6-7400d0b42366",
   "metadata": {},
   "outputs": [],
   "source": [
    "import pandas as pd"
   ]
  },
  {
   "cell_type": "code",
   "execution_count": null,
   "id": "0621d38e-7c25-4ccb-b3d3-3e6b7d4d6202",
   "metadata": {},
   "outputs": [],
   "source": [
    "adata.obs"
   ]
  },
  {
   "cell_type": "code",
   "execution_count": null,
   "id": "b43debbf-d73d-467b-b612-414cd5b34695",
   "metadata": {},
   "outputs": [],
   "source": [
    "# adata.obs_names = adata.obs['_index']\n",
    "adata.obs['is.zero'] = pd.Categorical(adata.obs_names.str.contains('Zero'))"
   ]
  },
  {
   "cell_type": "code",
   "execution_count": null,
   "id": "36db9f31-6efc-44a1-85c7-3824ba08e10d",
   "metadata": {},
   "outputs": [],
   "source": [
    "adata.obs['tf.name'] = list(data_sel['tf.name'])\n",
    "adata.obs['accession'] = list(data_sel['accession'])\n",
    "adata.obs['cycle'] = adata.obs['cycle'].astype('category')"
   ]
  },
  {
   "cell_type": "code",
   "execution_count": null,
   "id": "f039f269-8893-4fe6-9af7-f9c538a350f7",
   "metadata": {},
   "outputs": [],
   "source": [
    "adata.obs['tf.name'].value_counts()"
   ]
  },
  {
   "cell_type": "code",
   "execution_count": null,
   "id": "c9e0c6e7-19fd-4ed7-85e0-b70ac2de81ed",
   "metadata": {},
   "outputs": [],
   "source": [
    "for tf in set(adata.obs['tf.name']):\n",
    "    print(tf, len(set(adata.obs[adata.obs['tf.name'] == tf]['accession'])))"
   ]
  },
  {
   "cell_type": "code",
   "execution_count": null,
   "id": "bd19db98-c3f3-4178-9e1e-66f72bd21e32",
   "metadata": {},
   "outputs": [],
   "source": [
    "adata[adata.obs['tf.name'] == 'ELK1',:].obs"
   ]
  },
  {
   "cell_type": "code",
   "execution_count": null,
   "id": "50fc900f-09f0-45bb-b00e-d8cff6a193b1",
   "metadata": {},
   "outputs": [],
   "source": [
    "g = sns.clustermap(adata[adata.obs['tf.name'] == tf_name,:].to_df().T.corr(), cmap='Reds', figsize=[6, 6], xticklabels=False, yticklabels=False)"
   ]
  },
  {
   "cell_type": "code",
   "execution_count": null,
   "id": "407a7e67-3037-4cfc-a594-117c60601c03",
   "metadata": {},
   "outputs": [],
   "source": [
    "sc.pl.umap(adata, color=['tf.name', 'accession', 'library', 'cycle'], s=100)\n",
    "sc.pl.pca(adata, color=['tf.name', 'accession', 'library', 'cycle'], s=100)\n"
   ]
  },
  {
   "cell_type": "code",
   "execution_count": null,
   "id": "913e8ea6-4d4a-4b91-bcb3-2629dabcab9f",
   "metadata": {},
   "outputs": [],
   "source": [
    "adata.to_df()"
   ]
  },
  {
   "cell_type": "code",
   "execution_count": null,
   "id": "47b93990-65f0-4eb8-80ed-89532b14a805",
   "metadata": {},
   "outputs": [],
   "source": [
    "adata.obs"
   ]
  },
  {
   "cell_type": "code",
   "execution_count": null,
   "id": "7e9abd7f-cef8-4684-b3da-b76f1f98cedb",
   "metadata": {},
   "outputs": [],
   "source": [
    "%load_ext autoreload\n",
    "%autoreload 2\n",
    "\n",
    "import sys\n",
    "sys.executable\n",
    "\n",
    "import numpy as np\n",
    "import pandas\n",
    "import mubind as mb\n",
    "import numpy as np\n",
    "import pandas as pd\n",
    "import torch\n",
    "import bindome as bd\n",
    "bd.constants.ANNOTATIONS_DIRECTORY = '/mnt/c/Users/ignacio.ibarra/Dropbox/annotations'\n",
    "# mb.models.MultiBind\n",
    "import torch.optim as topti\n",
    "import torch.utils.data as tdata\n",
    "import matplotlib.pyplot as plt\n",
    "import logomaker\n",
    "\n",
    "# Use a GPU if available, as it should be faster.\n",
    "device = torch.device(\"cuda:0\" if torch.cuda.is_available() else \"cpu\")\n",
    "print(\"Using device: \" + str(device))"
   ]
  },
  {
   "cell_type": "code",
   "execution_count": null,
   "id": "17e661c6-c9d6-44cb-a744-dc37f586c985",
   "metadata": {},
   "outputs": [],
   "source": [
    "df = mb.bindome.datasets.ProBound.GR_mult_conc()\n",
    "df = df.sort_values(1, ascending=False).reset_index(drop=True)"
   ]
  },
  {
   "cell_type": "code",
   "execution_count": null,
   "id": "dbd12143-11b5-4812-969f-807b61f8d405",
   "metadata": {},
   "outputs": [],
   "source": [
    "data = df.head(1000)"
   ]
  },
  {
   "cell_type": "code",
   "execution_count": null,
   "id": "90d8ac8d-163d-4b14-8aa6-26cd94d7c8bc",
   "metadata": {},
   "outputs": [],
   "source": [
    "n_rounds = 1"
   ]
  },
  {
   "cell_type": "code",
   "execution_count": null,
   "id": "9c893bda-4dae-4f80-8338-555aa65d7950",
   "metadata": {},
   "outputs": [],
   "source": [
    "from matplotlib import rcParams\n",
    "rcParams['figure.figsize'] = 9, 2"
   ]
  },
  {
   "cell_type": "code",
   "execution_count": null,
   "id": "ca20f1e9-d482-42ce-865a-538caf6398d0",
   "metadata": {
    "tags": []
   },
   "outputs": [],
   "source": [
    "# assign batch and data type\n",
    "\n",
    "data['batch'] = 1\n",
    "data['is_count_data'] = 1\n",
    "\n",
    "print('loading object (# entries)', data.shape[0])\n",
    "dataset = mb.datasets.SelexDataset(data, n_rounds=n_rounds, single_encoding_step=True)\n",
    "train = tdata.DataLoader(dataset=dataset, batch_size=256, shuffle=True)\n",
    "\n",
    "model_by_k_next, res_next = mb.tl.train_iterative(train, device, min_w=16, max_w=18, n_kernels=2)                \n",
    "res = []\n",
    "model_by_k = {}\n"
   ]
  },
  {
   "cell_type": "code",
   "execution_count": null,
   "id": "eb63c77b-7b31-458a-a7ce-2c5908e7a24f",
   "metadata": {},
   "outputs": [],
   "source": [
    "adata.obs['is.zero'] = adata.obs_names.str.contains('Zero').astype('categorical')"
   ]
  },
  {
   "cell_type": "code",
   "execution_count": null,
   "id": "3b3f2268-d6fc-471a-9c8b-49deac8a5bb3",
   "metadata": {},
   "outputs": [],
   "source": [
    "adata"
   ]
  },
  {
   "cell_type": "code",
   "execution_count": null,
   "id": "0db407b0-ef1d-42a4-91a3-463a42160ee6",
   "metadata": {},
   "outputs": [],
   "source": [
    "sc.pl.umap(adata, color='is.zero', s=50)"
   ]
  },
  {
   "cell_type": "code",
   "execution_count": null,
   "id": "4aafc137-9e12-4d52-a7d7-9a265ebf8251",
   "metadata": {},
   "outputs": [],
   "source": [
    "sc.pl.umap(adata)"
   ]
  }
 ],
 "metadata": {
  "kernelspec": {
   "display_name": "Python [conda env:multibind]",
   "language": "python",
   "name": "conda-env-multibind-py"
  },
  "language_info": {
   "codemirror_mode": {
    "name": "ipython",
    "version": 3
   },
   "file_extension": ".py",
   "mimetype": "text/x-python",
   "name": "python",
   "nbconvert_exporter": "python",
   "pygments_lexer": "ipython3",
   "version": "3.10.4"
  }
 },
 "nbformat": 4,
 "nbformat_minor": 5
}
