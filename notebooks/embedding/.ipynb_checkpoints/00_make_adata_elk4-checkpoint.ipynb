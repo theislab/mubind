{
 "cells": [
  {
   "cell_type": "code",
   "execution_count": 1,
   "id": "a243a24a-b5d3-49bc-b437-6388d607cfe8",
   "metadata": {},
   "outputs": [],
   "source": [
    "%load_ext autoreload\n",
    "%autoreload 2"
   ]
  },
  {
   "cell_type": "code",
   "execution_count": 2,
   "id": "d2a97af0-005e-42e3-9ec7-abc817786994",
   "metadata": {},
   "outputs": [
    {
     "data": {
      "text/plain": [
       "'/home/rio/miniconda3/envs/multibind/bin/python'"
      ]
     },
     "execution_count": 2,
     "metadata": {},
     "output_type": "execute_result"
    }
   ],
   "source": [
    "import sys\n",
    "sys.executable"
   ]
  },
  {
   "cell_type": "code",
   "execution_count": 3,
   "id": "96abc113-0b42-4b03-9b91-c7e3c3122037",
   "metadata": {},
   "outputs": [],
   "source": [
    "import numpy as np\n",
    "import pandas\n",
    "import multibind"
   ]
  },
  {
   "cell_type": "code",
   "execution_count": 4,
   "id": "402ae57e-25d7-496a-a79b-2105f14f36a4",
   "metadata": {},
   "outputs": [
    {
     "name": "stdout",
     "output_type": "stream",
     "text": [
      "Using device: cuda:0\n"
     ]
    }
   ],
   "source": [
    "import mubind as mb\n",
    "import numpy as np\n",
    "import pandas as pd\n",
    "import torch\n",
    "import bindome as bd\n",
    "bd.constants.ANNOTATIONS_DIRECTORY = '../annotations'\n",
    "# mb.models.MultiBind\n",
    "import torch.optim as topti\n",
    "import torch.utils.data as tdata\n",
    "import matplotlib.pyplot as plt\n",
    "import logomaker\n",
    "\n",
    "# Use a GPU if available, as it should be faster.\n",
    "device = torch.device(\"cuda:0\" if torch.cuda.is_available() else \"cpu\")\n",
    "print(\"Using device: \" + str(device))"
   ]
  },
  {
   "cell_type": "code",
   "execution_count": 5,
   "id": "5f81ee16-a132-4be6-8883-f997de513a8a",
   "metadata": {},
   "outputs": [
    {
     "name": "stdout",
     "output_type": "stream",
     "text": [
      "cardiac_complexes\n",
      "# filenames 22\n",
      "(22, 2)\n",
      "PRJEB14744\n",
      "# filenames 13\n",
      "(13, 2)\n",
      "PRJEB20112\n",
      "# filenames 46\n",
      "(46, 2)\n",
      "PRJEB3289\n",
      "# filenames 73\n",
      "(73, 2)\n",
      "PRJEB9797\n",
      "# filenames 184\n",
      "(184, 2)\n"
     ]
    }
   ],
   "source": [
    "data = mb.bindome.datasets.SELEX.get_data()"
   ]
  },
  {
   "cell_type": "code",
   "execution_count": 6,
   "id": "c8f8a767-5d69-4264-9d44-c01fd76ad233",
   "metadata": {},
   "outputs": [],
   "source": [
    "# data_sel = data[data['filename'].str.contains('GATA') | data['filename'].str.contains('FOXA1')]\n",
    "# read_tf = mb.bindome.datasets.SELEX.load_read_counts('GATA4', data)\n",
    "# read_tf = mb.bindome.datasets.SELEX.load_read_counts(log_each=50, n_sample=100) #  stop_at=50)\n",
    "# df = mb.bindome.datasets.ProBound.GR_mult_conc()\n",
    "# df = df.sort_values(1, ascending=False).reset_index(drop=True)"
   ]
  },
  {
   "cell_type": "code",
   "execution_count": 7,
   "id": "375ca8bd-86ac-441d-8d7d-ee2cc08656ef",
   "metadata": {},
   "outputs": [
    {
     "data": {
      "text/plain": [
       "(49, 7)"
      ]
     },
     "execution_count": 7,
     "metadata": {},
     "output_type": "execute_result"
    }
   ],
   "source": [
    "tf_name = 'ELK1'\n",
    "data_sel_tf = data[(data['tf.name'] == tf_name)] #  & (grp['cycle'].astype(str) == '1')]\n",
    "data_sel_zero = data[(data['cycle'] == 0) & data['library'].isin(set(data[data['tf.name'] == tf_name]['library']))]  # & grp['accession'].isin(set(grp[grp['tf.name'] == tf]['accession']))]\n",
    "\n",
    "data_sel = pd.concat([data_sel_tf, data_sel_zero]).reset_index(drop=True)\n",
    "data_sel.shape\n",
    "# print(data_sel_tf.shape[0], data_sel_zero.shape[0])\n",
    "# print('loading', tf, ':', library)\n",
    "# reads_tf = mb.bindome.datasets.SELEX.load_read_counts(tf, data=data_sel_tf)\n",
    "# reads_zero = mb.bindome.datasets.SELEX.load_read_counts(data=data_sel_zero, library=library)"
   ]
  },
  {
   "cell_type": "code",
   "execution_count": 8,
   "id": "53c48fa8-2548-4168-aff9-eaa9fef4d043",
   "metadata": {},
   "outputs": [],
   "source": [
    "# data_sel = data[data['accession'] != 'cardiac_complexes'] # .head(4)\n",
    "# data_sel = data_sel.head(5)\n",
    "\n",
    "# data_sel = data[data['tf.name'].str.contains('ELK1')].reset_index(drop=True)\n",
    "data_sel['cycle'] = data_sel['cycle'].astype(int)\n",
    "# data_sel['cycle']"
   ]
  },
  {
   "cell_type": "code",
   "execution_count": 9,
   "id": "89c7ff8b-b2e8-4f51-9cab-5a393c4f0a20",
   "metadata": {},
   "outputs": [],
   "source": [
    "import scanpy as sc\n",
    "import anndata\n",
    "import os"
   ]
  },
  {
   "cell_type": "code",
   "execution_count": 10,
   "id": "f142cece-0578-4a76-bd48-8271dee7d95b",
   "metadata": {},
   "outputs": [
    {
     "data": {
      "text/plain": [
       "(49, 7)"
      ]
     },
     "execution_count": 10,
     "metadata": {},
     "output_type": "execute_result"
    }
   ],
   "source": [
    "data_sel.shape"
   ]
  },
  {
   "cell_type": "code",
   "execution_count": 11,
   "id": "ab5d86a0-c326-4b13-a975-ba9713286b8c",
   "metadata": {
    "tags": []
   },
   "outputs": [
    {
     "name": "stdout",
     "output_type": "stream",
     "text": [
      "0 out of 49\n"
     ]
    },
    {
     "name": "stderr",
     "output_type": "stream",
     "text": [
      "in1: 100% \n",
      "in1: 100% \n",
      "in1: 100% \n",
      "in1: 100% \n",
      "in1: 100% \n"
     ]
    },
    {
     "name": "stdout",
     "output_type": "stream",
     "text": [
      "5 out of 49\n"
     ]
    },
    {
     "name": "stderr",
     "output_type": "stream",
     "text": [
      "in1: 100% \n",
      "in1: 100% \n",
      "in1: 100% \n",
      "in1: 100% \n",
      "in1: 100% \n"
     ]
    },
    {
     "name": "stdout",
     "output_type": "stream",
     "text": [
      "10 out of 49\n"
     ]
    },
    {
     "name": "stderr",
     "output_type": "stream",
     "text": [
      "in1: 100% \n",
      "in1: 100% \n",
      "in1: 100% \n",
      "in1: 100% \n",
      "in1: 100% \n"
     ]
    },
    {
     "name": "stdout",
     "output_type": "stream",
     "text": [
      "15 out of 49\n"
     ]
    },
    {
     "name": "stderr",
     "output_type": "stream",
     "text": [
      "in1: 100% \n",
      "in1: 100% \n",
      "in1: 100% \n",
      "in1: 100% \n",
      "in1: 100% \n"
     ]
    },
    {
     "name": "stdout",
     "output_type": "stream",
     "text": [
      "20 out of 49\n"
     ]
    },
    {
     "name": "stderr",
     "output_type": "stream",
     "text": [
      "in1: 100% \n",
      "in1: 100% \n",
      "in1: 100% \n",
      "in1: 100% \n",
      "in1: 100% \n"
     ]
    },
    {
     "name": "stdout",
     "output_type": "stream",
     "text": [
      "25 out of 49\n",
      "25 out of 49\n"
     ]
    },
    {
     "name": "stderr",
     "output_type": "stream",
     "text": [
      "in1: 100% \n",
      "in1: 100% \n",
      "in1: 100% \n",
      "in1: 100% \n",
      "in1: 100% \n"
     ]
    },
    {
     "name": "stdout",
     "output_type": "stream",
     "text": [
      "30 out of 49\n"
     ]
    },
    {
     "name": "stderr",
     "output_type": "stream",
     "text": [
      "in1: 100% \n",
      "in1: 100% \n",
      "in1: 100% \n",
      "in1: 100% \n",
      "in1: 100% \n"
     ]
    },
    {
     "name": "stdout",
     "output_type": "stream",
     "text": [
      "35 out of 49\n"
     ]
    },
    {
     "name": "stderr",
     "output_type": "stream",
     "text": [
      "in1: 100% \n",
      "in1: 100% \n",
      "in1: 100% \n",
      "in1: 100% \n",
      "in1: 100% \n"
     ]
    },
    {
     "name": "stdout",
     "output_type": "stream",
     "text": [
      "40 out of 49\n"
     ]
    },
    {
     "name": "stderr",
     "output_type": "stream",
     "text": [
      "in1: 100% \n",
      "in1: 100% \n",
      "in1: 100% \n",
      "in1: 100% \n",
      "in1: 100% \n"
     ]
    },
    {
     "name": "stdout",
     "output_type": "stream",
     "text": [
      "45 out of 49\n"
     ]
    },
    {
     "name": "stderr",
     "output_type": "stream",
     "text": [
      "in1: 100% \n",
      "in1: 100% \n",
      "in1: 100% \n",
      "in1: 100% \n"
     ]
    },
    {
     "name": "stdout",
     "output_type": "stream",
     "text": [
      "merging...\n"
     ]
    },
    {
     "ename": "KeyboardInterrupt",
     "evalue": "",
     "output_type": "error",
     "traceback": [
      "\u001b[0;31m---------------------------------------------------------------------------\u001b[0m",
      "\u001b[0;31mKeyboardInterrupt\u001b[0m                         Traceback (most recent call last)",
      "Input \u001b[0;32mIn [11]\u001b[0m, in \u001b[0;36m<cell line: 4>\u001b[0;34m()\u001b[0m\n\u001b[1;32m     33\u001b[0m \u001b[38;5;28;01mfrom\u001b[39;00m \u001b[38;5;21;01mfunctools\u001b[39;00m \u001b[38;5;28;01mimport\u001b[39;00m reduce\n\u001b[1;32m     34\u001b[0m \u001b[38;5;28mprint\u001b[39m(\u001b[38;5;124m'\u001b[39m\u001b[38;5;124mmerging...\u001b[39m\u001b[38;5;124m'\u001b[39m)\n\u001b[0;32m---> 35\u001b[0m df_merged \u001b[38;5;241m=\u001b[39m \u001b[43mreduce\u001b[49m\u001b[43m(\u001b[49m\u001b[38;5;28;43;01mlambda\u001b[39;49;00m\u001b[43m  \u001b[49m\u001b[43mleft\u001b[49m\u001b[43m,\u001b[49m\u001b[43mright\u001b[49m\u001b[43m:\u001b[49m\u001b[43m \u001b[49m\u001b[43mpd\u001b[49m\u001b[38;5;241;43m.\u001b[39;49m\u001b[43mmerge\u001b[49m\u001b[43m(\u001b[49m\u001b[43mleft\u001b[49m\u001b[43m,\u001b[49m\u001b[43m \u001b[49m\u001b[43mright\u001b[49m\u001b[43m,\u001b[49m\u001b[43m \u001b[49m\u001b[43mleft_index\u001b[49m\u001b[38;5;241;43m=\u001b[39;49m\u001b[38;5;28;43;01mTrue\u001b[39;49;00m\u001b[43m,\u001b[49m\u001b[43m \u001b[49m\u001b[43mright_index\u001b[49m\u001b[38;5;241;43m=\u001b[39;49m\u001b[38;5;28;43;01mTrue\u001b[39;49;00m\u001b[43m,\u001b[49m\n\u001b[1;32m     36\u001b[0m \u001b[43m                                            \u001b[49m\u001b[43mhow\u001b[49m\u001b[38;5;241;43m=\u001b[39;49m\u001b[38;5;124;43m'\u001b[39;49m\u001b[38;5;124;43mouter\u001b[39;49m\u001b[38;5;124;43m'\u001b[39;49m\u001b[43m)\u001b[49m\u001b[43m,\u001b[49m\u001b[43m \u001b[49m\u001b[43mkmers_by_k\u001b[49m\u001b[38;5;241;43m.\u001b[39;49m\u001b[43mvalues\u001b[49m\u001b[43m(\u001b[49m\u001b[43m)\u001b[49m\u001b[43m)\u001b[49m\u001b[38;5;241m.\u001b[39mfillna(\u001b[38;5;241m0\u001b[39m)\n\u001b[1;32m     37\u001b[0m \u001b[38;5;28mprint\u001b[39m(\u001b[38;5;124m'\u001b[39m\u001b[38;5;124mmerging done...\u001b[39m\u001b[38;5;124m'\u001b[39m)\n\u001b[1;32m     39\u001b[0m \u001b[38;5;28mprint\u001b[39m(\u001b[38;5;124m'\u001b[39m\u001b[38;5;124mtransposing...\u001b[39m\u001b[38;5;124m'\u001b[39m)\n",
      "Input \u001b[0;32mIn [11]\u001b[0m, in \u001b[0;36m<lambda>\u001b[0;34m(left, right)\u001b[0m\n\u001b[1;32m     33\u001b[0m \u001b[38;5;28;01mfrom\u001b[39;00m \u001b[38;5;21;01mfunctools\u001b[39;00m \u001b[38;5;28;01mimport\u001b[39;00m reduce\n\u001b[1;32m     34\u001b[0m \u001b[38;5;28mprint\u001b[39m(\u001b[38;5;124m'\u001b[39m\u001b[38;5;124mmerging...\u001b[39m\u001b[38;5;124m'\u001b[39m)\n\u001b[0;32m---> 35\u001b[0m df_merged \u001b[38;5;241m=\u001b[39m reduce(\u001b[38;5;28;01mlambda\u001b[39;00m  left,right: \u001b[43mpd\u001b[49m\u001b[38;5;241;43m.\u001b[39;49m\u001b[43mmerge\u001b[49m\u001b[43m(\u001b[49m\u001b[43mleft\u001b[49m\u001b[43m,\u001b[49m\u001b[43m \u001b[49m\u001b[43mright\u001b[49m\u001b[43m,\u001b[49m\u001b[43m \u001b[49m\u001b[43mleft_index\u001b[49m\u001b[38;5;241;43m=\u001b[39;49m\u001b[38;5;28;43;01mTrue\u001b[39;49;00m\u001b[43m,\u001b[49m\u001b[43m \u001b[49m\u001b[43mright_index\u001b[49m\u001b[38;5;241;43m=\u001b[39;49m\u001b[38;5;28;43;01mTrue\u001b[39;49;00m\u001b[43m,\u001b[49m\n\u001b[1;32m     36\u001b[0m \u001b[43m                                            \u001b[49m\u001b[43mhow\u001b[49m\u001b[38;5;241;43m=\u001b[39;49m\u001b[38;5;124;43m'\u001b[39;49m\u001b[38;5;124;43mouter\u001b[39;49m\u001b[38;5;124;43m'\u001b[39;49m\u001b[43m)\u001b[49m, kmers_by_k\u001b[38;5;241m.\u001b[39mvalues())\u001b[38;5;241m.\u001b[39mfillna(\u001b[38;5;241m0\u001b[39m)\n\u001b[1;32m     37\u001b[0m \u001b[38;5;28mprint\u001b[39m(\u001b[38;5;124m'\u001b[39m\u001b[38;5;124mmerging done...\u001b[39m\u001b[38;5;124m'\u001b[39m)\n\u001b[1;32m     39\u001b[0m \u001b[38;5;28mprint\u001b[39m(\u001b[38;5;124m'\u001b[39m\u001b[38;5;124mtransposing...\u001b[39m\u001b[38;5;124m'\u001b[39m)\n",
      "File \u001b[0;32m~/miniconda3/envs/multibind/lib/python3.10/site-packages/pandas/core/reshape/merge.py:122\u001b[0m, in \u001b[0;36mmerge\u001b[0;34m(left, right, how, on, left_on, right_on, left_index, right_index, sort, suffixes, copy, indicator, validate)\u001b[0m\n\u001b[1;32m     90\u001b[0m \u001b[38;5;129m@Substitution\u001b[39m(\u001b[38;5;124m\"\u001b[39m\u001b[38;5;130;01m\\n\u001b[39;00m\u001b[38;5;124mleft : DataFrame or named Series\u001b[39m\u001b[38;5;124m\"\u001b[39m)\n\u001b[1;32m     91\u001b[0m \u001b[38;5;129m@Appender\u001b[39m(_merge_doc, indents\u001b[38;5;241m=\u001b[39m\u001b[38;5;241m0\u001b[39m)\n\u001b[1;32m     92\u001b[0m \u001b[38;5;28;01mdef\u001b[39;00m \u001b[38;5;21mmerge\u001b[39m(\n\u001b[0;32m   (...)\u001b[0m\n\u001b[1;32m    105\u001b[0m     validate: \u001b[38;5;28mstr\u001b[39m \u001b[38;5;241m|\u001b[39m \u001b[38;5;28;01mNone\u001b[39;00m \u001b[38;5;241m=\u001b[39m \u001b[38;5;28;01mNone\u001b[39;00m,\n\u001b[1;32m    106\u001b[0m ) \u001b[38;5;241m-\u001b[39m\u001b[38;5;241m>\u001b[39m DataFrame:\n\u001b[1;32m    107\u001b[0m     op \u001b[38;5;241m=\u001b[39m _MergeOperation(\n\u001b[1;32m    108\u001b[0m         left,\n\u001b[1;32m    109\u001b[0m         right,\n\u001b[0;32m   (...)\u001b[0m\n\u001b[1;32m    120\u001b[0m         validate\u001b[38;5;241m=\u001b[39mvalidate,\n\u001b[1;32m    121\u001b[0m     )\n\u001b[0;32m--> 122\u001b[0m     \u001b[38;5;28;01mreturn\u001b[39;00m \u001b[43mop\u001b[49m\u001b[38;5;241;43m.\u001b[39;49m\u001b[43mget_result\u001b[49m\u001b[43m(\u001b[49m\u001b[43m)\u001b[49m\n",
      "File \u001b[0;32m~/miniconda3/envs/multibind/lib/python3.10/site-packages/pandas/core/reshape/merge.py:725\u001b[0m, in \u001b[0;36m_MergeOperation.get_result\u001b[0;34m(self)\u001b[0m\n\u001b[1;32m    722\u001b[0m lindexers \u001b[38;5;241m=\u001b[39m {\u001b[38;5;241m1\u001b[39m: left_indexer} \u001b[38;5;28;01mif\u001b[39;00m left_indexer \u001b[38;5;129;01mis\u001b[39;00m \u001b[38;5;129;01mnot\u001b[39;00m \u001b[38;5;28;01mNone\u001b[39;00m \u001b[38;5;28;01melse\u001b[39;00m {}\n\u001b[1;32m    723\u001b[0m rindexers \u001b[38;5;241m=\u001b[39m {\u001b[38;5;241m1\u001b[39m: right_indexer} \u001b[38;5;28;01mif\u001b[39;00m right_indexer \u001b[38;5;129;01mis\u001b[39;00m \u001b[38;5;129;01mnot\u001b[39;00m \u001b[38;5;28;01mNone\u001b[39;00m \u001b[38;5;28;01melse\u001b[39;00m {}\n\u001b[0;32m--> 725\u001b[0m result_data \u001b[38;5;241m=\u001b[39m \u001b[43mconcatenate_managers\u001b[49m\u001b[43m(\u001b[49m\n\u001b[1;32m    726\u001b[0m \u001b[43m    \u001b[49m\u001b[43m[\u001b[49m\u001b[43m(\u001b[49m\u001b[38;5;28;43mself\u001b[39;49m\u001b[38;5;241;43m.\u001b[39;49m\u001b[43mleft\u001b[49m\u001b[38;5;241;43m.\u001b[39;49m\u001b[43m_mgr\u001b[49m\u001b[43m,\u001b[49m\u001b[43m \u001b[49m\u001b[43mlindexers\u001b[49m\u001b[43m)\u001b[49m\u001b[43m,\u001b[49m\u001b[43m \u001b[49m\u001b[43m(\u001b[49m\u001b[38;5;28;43mself\u001b[39;49m\u001b[38;5;241;43m.\u001b[39;49m\u001b[43mright\u001b[49m\u001b[38;5;241;43m.\u001b[39;49m\u001b[43m_mgr\u001b[49m\u001b[43m,\u001b[49m\u001b[43m \u001b[49m\u001b[43mrindexers\u001b[49m\u001b[43m)\u001b[49m\u001b[43m]\u001b[49m\u001b[43m,\u001b[49m\n\u001b[1;32m    727\u001b[0m \u001b[43m    \u001b[49m\u001b[43maxes\u001b[49m\u001b[38;5;241;43m=\u001b[39;49m\u001b[43m[\u001b[49m\u001b[43mllabels\u001b[49m\u001b[38;5;241;43m.\u001b[39;49m\u001b[43mappend\u001b[49m\u001b[43m(\u001b[49m\u001b[43mrlabels\u001b[49m\u001b[43m)\u001b[49m\u001b[43m,\u001b[49m\u001b[43m \u001b[49m\u001b[43mjoin_index\u001b[49m\u001b[43m]\u001b[49m\u001b[43m,\u001b[49m\n\u001b[1;32m    728\u001b[0m \u001b[43m    \u001b[49m\u001b[43mconcat_axis\u001b[49m\u001b[38;5;241;43m=\u001b[39;49m\u001b[38;5;241;43m0\u001b[39;49m\u001b[43m,\u001b[49m\n\u001b[1;32m    729\u001b[0m \u001b[43m    \u001b[49m\u001b[43mcopy\u001b[49m\u001b[38;5;241;43m=\u001b[39;49m\u001b[38;5;28;43mself\u001b[39;49m\u001b[38;5;241;43m.\u001b[39;49m\u001b[43mcopy\u001b[49m\u001b[43m,\u001b[49m\n\u001b[1;32m    730\u001b[0m \u001b[43m\u001b[49m\u001b[43m)\u001b[49m\n\u001b[1;32m    732\u001b[0m typ \u001b[38;5;241m=\u001b[39m \u001b[38;5;28mself\u001b[39m\u001b[38;5;241m.\u001b[39mleft\u001b[38;5;241m.\u001b[39m_constructor\n\u001b[1;32m    733\u001b[0m result \u001b[38;5;241m=\u001b[39m typ(result_data)\u001b[38;5;241m.\u001b[39m__finalize__(\u001b[38;5;28mself\u001b[39m, method\u001b[38;5;241m=\u001b[39m\u001b[38;5;28mself\u001b[39m\u001b[38;5;241m.\u001b[39m_merge_type)\n",
      "File \u001b[0;32m~/miniconda3/envs/multibind/lib/python3.10/site-packages/pandas/core/internals/concat.py:202\u001b[0m, in \u001b[0;36mconcatenate_managers\u001b[0;34m(mgrs_indexers, axes, concat_axis, copy)\u001b[0m\n\u001b[1;32m    195\u001b[0m \u001b[38;5;66;03m# Assertions disabled for performance\u001b[39;00m\n\u001b[1;32m    196\u001b[0m \u001b[38;5;66;03m# for tup in mgrs_indexers:\u001b[39;00m\n\u001b[1;32m    197\u001b[0m \u001b[38;5;66;03m#    # caller is responsible for ensuring this\u001b[39;00m\n\u001b[1;32m    198\u001b[0m \u001b[38;5;66;03m#    indexers = tup[1]\u001b[39;00m\n\u001b[1;32m    199\u001b[0m \u001b[38;5;66;03m#    assert concat_axis not in indexers\u001b[39;00m\n\u001b[1;32m    201\u001b[0m \u001b[38;5;28;01mif\u001b[39;00m concat_axis \u001b[38;5;241m==\u001b[39m \u001b[38;5;241m0\u001b[39m:\n\u001b[0;32m--> 202\u001b[0m     \u001b[38;5;28;01mreturn\u001b[39;00m \u001b[43m_concat_managers_axis0\u001b[49m\u001b[43m(\u001b[49m\u001b[43mmgrs_indexers\u001b[49m\u001b[43m,\u001b[49m\u001b[43m \u001b[49m\u001b[43maxes\u001b[49m\u001b[43m,\u001b[49m\u001b[43m \u001b[49m\u001b[43mcopy\u001b[49m\u001b[43m)\u001b[49m\n\u001b[1;32m    204\u001b[0m mgrs_indexers \u001b[38;5;241m=\u001b[39m _maybe_reindex_columns_na_proxy(axes, mgrs_indexers)\n\u001b[1;32m    206\u001b[0m \u001b[38;5;66;03m# Assertion disabled for performance\u001b[39;00m\n\u001b[1;32m    207\u001b[0m \u001b[38;5;66;03m# assert all(not x[1] for x in mgrs_indexers)\u001b[39;00m\n",
      "File \u001b[0;32m~/miniconda3/envs/multibind/lib/python3.10/site-packages/pandas/core/internals/concat.py:264\u001b[0m, in \u001b[0;36m_concat_managers_axis0\u001b[0;34m(mgrs_indexers, axes, copy)\u001b[0m\n\u001b[1;32m    257\u001b[0m \u001b[38;5;124;03m\"\"\"\u001b[39;00m\n\u001b[1;32m    258\u001b[0m \u001b[38;5;124;03mconcat_managers specialized to concat_axis=0, with reindexing already\u001b[39;00m\n\u001b[1;32m    259\u001b[0m \u001b[38;5;124;03mhaving been done in _maybe_reindex_columns_na_proxy.\u001b[39;00m\n\u001b[1;32m    260\u001b[0m \u001b[38;5;124;03m\"\"\"\u001b[39;00m\n\u001b[1;32m    261\u001b[0m had_reindexers \u001b[38;5;241m=\u001b[39m {\n\u001b[1;32m    262\u001b[0m     i: \u001b[38;5;28mlen\u001b[39m(mgrs_indexers[i][\u001b[38;5;241m1\u001b[39m]) \u001b[38;5;241m>\u001b[39m \u001b[38;5;241m0\u001b[39m \u001b[38;5;28;01mfor\u001b[39;00m i \u001b[38;5;129;01min\u001b[39;00m \u001b[38;5;28mrange\u001b[39m(\u001b[38;5;28mlen\u001b[39m(mgrs_indexers))\n\u001b[1;32m    263\u001b[0m }\n\u001b[0;32m--> 264\u001b[0m mgrs_indexers \u001b[38;5;241m=\u001b[39m \u001b[43m_maybe_reindex_columns_na_proxy\u001b[49m\u001b[43m(\u001b[49m\u001b[43maxes\u001b[49m\u001b[43m,\u001b[49m\u001b[43m \u001b[49m\u001b[43mmgrs_indexers\u001b[49m\u001b[43m)\u001b[49m\n\u001b[1;32m    266\u001b[0m mgrs \u001b[38;5;241m=\u001b[39m [x[\u001b[38;5;241m0\u001b[39m] \u001b[38;5;28;01mfor\u001b[39;00m x \u001b[38;5;129;01min\u001b[39;00m mgrs_indexers]\n\u001b[1;32m    268\u001b[0m offset \u001b[38;5;241m=\u001b[39m \u001b[38;5;241m0\u001b[39m\n",
      "File \u001b[0;32m~/miniconda3/envs/multibind/lib/python3.10/site-packages/pandas/core/internals/concat.py:306\u001b[0m, in \u001b[0;36m_maybe_reindex_columns_na_proxy\u001b[0;34m(axes, mgrs_indexers)\u001b[0m\n\u001b[1;32m    302\u001b[0m \u001b[38;5;28;01mfor\u001b[39;00m mgr, indexers \u001b[38;5;129;01min\u001b[39;00m mgrs_indexers:\n\u001b[1;32m    303\u001b[0m     \u001b[38;5;66;03m# For axis=0 (i.e. columns) we use_na_proxy and only_slice, so this\u001b[39;00m\n\u001b[1;32m    304\u001b[0m     \u001b[38;5;66;03m#  is a cheap reindexing.\u001b[39;00m\n\u001b[1;32m    305\u001b[0m     \u001b[38;5;28;01mfor\u001b[39;00m i, indexer \u001b[38;5;129;01min\u001b[39;00m indexers\u001b[38;5;241m.\u001b[39mitems():\n\u001b[0;32m--> 306\u001b[0m         mgr \u001b[38;5;241m=\u001b[39m \u001b[43mmgr\u001b[49m\u001b[38;5;241;43m.\u001b[39;49m\u001b[43mreindex_indexer\u001b[49m\u001b[43m(\u001b[49m\n\u001b[1;32m    307\u001b[0m \u001b[43m            \u001b[49m\u001b[43maxes\u001b[49m\u001b[43m[\u001b[49m\u001b[43mi\u001b[49m\u001b[43m]\u001b[49m\u001b[43m,\u001b[49m\n\u001b[1;32m    308\u001b[0m \u001b[43m            \u001b[49m\u001b[43mindexers\u001b[49m\u001b[43m[\u001b[49m\u001b[43mi\u001b[49m\u001b[43m]\u001b[49m\u001b[43m,\u001b[49m\n\u001b[1;32m    309\u001b[0m \u001b[43m            \u001b[49m\u001b[43maxis\u001b[49m\u001b[38;5;241;43m=\u001b[39;49m\u001b[43mi\u001b[49m\u001b[43m,\u001b[49m\n\u001b[1;32m    310\u001b[0m \u001b[43m            \u001b[49m\u001b[43mcopy\u001b[49m\u001b[38;5;241;43m=\u001b[39;49m\u001b[38;5;28;43;01mFalse\u001b[39;49;00m\u001b[43m,\u001b[49m\n\u001b[1;32m    311\u001b[0m \u001b[43m            \u001b[49m\u001b[43monly_slice\u001b[49m\u001b[38;5;241;43m=\u001b[39;49m\u001b[38;5;28;43;01mTrue\u001b[39;49;00m\u001b[43m,\u001b[49m\u001b[43m  \u001b[49m\u001b[38;5;66;43;03m# only relevant for i==0\u001b[39;49;00m\n\u001b[1;32m    312\u001b[0m \u001b[43m            \u001b[49m\u001b[43mallow_dups\u001b[49m\u001b[38;5;241;43m=\u001b[39;49m\u001b[38;5;28;43;01mTrue\u001b[39;49;00m\u001b[43m,\u001b[49m\n\u001b[1;32m    313\u001b[0m \u001b[43m            \u001b[49m\u001b[43muse_na_proxy\u001b[49m\u001b[38;5;241;43m=\u001b[39;49m\u001b[38;5;28;43;01mTrue\u001b[39;49;00m\u001b[43m,\u001b[49m\u001b[43m  \u001b[49m\u001b[38;5;66;43;03m# only relevant for i==0\u001b[39;49;00m\n\u001b[1;32m    314\u001b[0m \u001b[43m        \u001b[49m\u001b[43m)\u001b[49m\n\u001b[1;32m    315\u001b[0m     new_mgrs_indexers\u001b[38;5;241m.\u001b[39mappend((mgr, {}))\n\u001b[1;32m    317\u001b[0m \u001b[38;5;28;01mreturn\u001b[39;00m new_mgrs_indexers\n",
      "File \u001b[0;32m~/miniconda3/envs/multibind/lib/python3.10/site-packages/pandas/core/internals/managers.py:692\u001b[0m, in \u001b[0;36mBaseBlockManager.reindex_indexer\u001b[0;34m(self, new_axis, indexer, axis, fill_value, allow_dups, copy, consolidate, only_slice, use_na_proxy)\u001b[0m\n\u001b[1;32m    685\u001b[0m     new_blocks \u001b[38;5;241m=\u001b[39m \u001b[38;5;28mself\u001b[39m\u001b[38;5;241m.\u001b[39m_slice_take_blocks_ax0(\n\u001b[1;32m    686\u001b[0m         indexer,\n\u001b[1;32m    687\u001b[0m         fill_value\u001b[38;5;241m=\u001b[39mfill_value,\n\u001b[1;32m    688\u001b[0m         only_slice\u001b[38;5;241m=\u001b[39monly_slice,\n\u001b[1;32m    689\u001b[0m         use_na_proxy\u001b[38;5;241m=\u001b[39muse_na_proxy,\n\u001b[1;32m    690\u001b[0m     )\n\u001b[1;32m    691\u001b[0m \u001b[38;5;28;01melse\u001b[39;00m:\n\u001b[0;32m--> 692\u001b[0m     new_blocks \u001b[38;5;241m=\u001b[39m [\n\u001b[1;32m    693\u001b[0m         blk\u001b[38;5;241m.\u001b[39mtake_nd(\n\u001b[1;32m    694\u001b[0m             indexer,\n\u001b[1;32m    695\u001b[0m             axis\u001b[38;5;241m=\u001b[39m\u001b[38;5;241m1\u001b[39m,\n\u001b[1;32m    696\u001b[0m             fill_value\u001b[38;5;241m=\u001b[39m(\n\u001b[1;32m    697\u001b[0m                 fill_value \u001b[38;5;28;01mif\u001b[39;00m fill_value \u001b[38;5;129;01mis\u001b[39;00m \u001b[38;5;129;01mnot\u001b[39;00m \u001b[38;5;28;01mNone\u001b[39;00m \u001b[38;5;28;01melse\u001b[39;00m blk\u001b[38;5;241m.\u001b[39mfill_value\n\u001b[1;32m    698\u001b[0m             ),\n\u001b[1;32m    699\u001b[0m         )\n\u001b[1;32m    700\u001b[0m         \u001b[38;5;28;01mfor\u001b[39;00m blk \u001b[38;5;129;01min\u001b[39;00m \u001b[38;5;28mself\u001b[39m\u001b[38;5;241m.\u001b[39mblocks\n\u001b[1;32m    701\u001b[0m     ]\n\u001b[1;32m    703\u001b[0m new_axes \u001b[38;5;241m=\u001b[39m \u001b[38;5;28mlist\u001b[39m(\u001b[38;5;28mself\u001b[39m\u001b[38;5;241m.\u001b[39maxes)\n\u001b[1;32m    704\u001b[0m new_axes[axis] \u001b[38;5;241m=\u001b[39m new_axis\n",
      "File \u001b[0;32m~/miniconda3/envs/multibind/lib/python3.10/site-packages/pandas/core/internals/managers.py:693\u001b[0m, in \u001b[0;36m<listcomp>\u001b[0;34m(.0)\u001b[0m\n\u001b[1;32m    685\u001b[0m     new_blocks \u001b[38;5;241m=\u001b[39m \u001b[38;5;28mself\u001b[39m\u001b[38;5;241m.\u001b[39m_slice_take_blocks_ax0(\n\u001b[1;32m    686\u001b[0m         indexer,\n\u001b[1;32m    687\u001b[0m         fill_value\u001b[38;5;241m=\u001b[39mfill_value,\n\u001b[1;32m    688\u001b[0m         only_slice\u001b[38;5;241m=\u001b[39monly_slice,\n\u001b[1;32m    689\u001b[0m         use_na_proxy\u001b[38;5;241m=\u001b[39muse_na_proxy,\n\u001b[1;32m    690\u001b[0m     )\n\u001b[1;32m    691\u001b[0m \u001b[38;5;28;01melse\u001b[39;00m:\n\u001b[1;32m    692\u001b[0m     new_blocks \u001b[38;5;241m=\u001b[39m [\n\u001b[0;32m--> 693\u001b[0m         \u001b[43mblk\u001b[49m\u001b[38;5;241;43m.\u001b[39;49m\u001b[43mtake_nd\u001b[49m\u001b[43m(\u001b[49m\n\u001b[1;32m    694\u001b[0m \u001b[43m            \u001b[49m\u001b[43mindexer\u001b[49m\u001b[43m,\u001b[49m\n\u001b[1;32m    695\u001b[0m \u001b[43m            \u001b[49m\u001b[43maxis\u001b[49m\u001b[38;5;241;43m=\u001b[39;49m\u001b[38;5;241;43m1\u001b[39;49m\u001b[43m,\u001b[49m\n\u001b[1;32m    696\u001b[0m \u001b[43m            \u001b[49m\u001b[43mfill_value\u001b[49m\u001b[38;5;241;43m=\u001b[39;49m\u001b[43m(\u001b[49m\n\u001b[1;32m    697\u001b[0m \u001b[43m                \u001b[49m\u001b[43mfill_value\u001b[49m\u001b[43m \u001b[49m\u001b[38;5;28;43;01mif\u001b[39;49;00m\u001b[43m \u001b[49m\u001b[43mfill_value\u001b[49m\u001b[43m \u001b[49m\u001b[38;5;129;43;01mis\u001b[39;49;00m\u001b[43m \u001b[49m\u001b[38;5;129;43;01mnot\u001b[39;49;00m\u001b[43m \u001b[49m\u001b[38;5;28;43;01mNone\u001b[39;49;00m\u001b[43m \u001b[49m\u001b[38;5;28;43;01melse\u001b[39;49;00m\u001b[43m \u001b[49m\u001b[43mblk\u001b[49m\u001b[38;5;241;43m.\u001b[39;49m\u001b[43mfill_value\u001b[49m\n\u001b[1;32m    698\u001b[0m \u001b[43m            \u001b[49m\u001b[43m)\u001b[49m\u001b[43m,\u001b[49m\n\u001b[1;32m    699\u001b[0m \u001b[43m        \u001b[49m\u001b[43m)\u001b[49m\n\u001b[1;32m    700\u001b[0m         \u001b[38;5;28;01mfor\u001b[39;00m blk \u001b[38;5;129;01min\u001b[39;00m \u001b[38;5;28mself\u001b[39m\u001b[38;5;241m.\u001b[39mblocks\n\u001b[1;32m    701\u001b[0m     ]\n\u001b[1;32m    703\u001b[0m new_axes \u001b[38;5;241m=\u001b[39m \u001b[38;5;28mlist\u001b[39m(\u001b[38;5;28mself\u001b[39m\u001b[38;5;241m.\u001b[39maxes)\n\u001b[1;32m    704\u001b[0m new_axes[axis] \u001b[38;5;241m=\u001b[39m new_axis\n",
      "File \u001b[0;32m~/miniconda3/envs/multibind/lib/python3.10/site-packages/pandas/core/internals/blocks.py:1640\u001b[0m, in \u001b[0;36mExtensionBlock.take_nd\u001b[0;34m(self, indexer, axis, new_mgr_locs, fill_value)\u001b[0m\n\u001b[1;32m   1634\u001b[0m     fill_value \u001b[38;5;241m=\u001b[39m \u001b[38;5;28;01mNone\u001b[39;00m\n\u001b[1;32m   1636\u001b[0m \u001b[38;5;66;03m# TODO(EA2D): special case not needed with 2D EAs\u001b[39;00m\n\u001b[1;32m   1637\u001b[0m \u001b[38;5;66;03m# axis doesn't matter; we are really a single-dim object\u001b[39;00m\n\u001b[1;32m   1638\u001b[0m \u001b[38;5;66;03m# but are passed the axis depending on the calling routing\u001b[39;00m\n\u001b[1;32m   1639\u001b[0m \u001b[38;5;66;03m# if its REALLY axis 0, then this will be a reindex and not a take\u001b[39;00m\n\u001b[0;32m-> 1640\u001b[0m new_values \u001b[38;5;241m=\u001b[39m \u001b[38;5;28;43mself\u001b[39;49m\u001b[38;5;241;43m.\u001b[39;49m\u001b[43mvalues\u001b[49m\u001b[38;5;241;43m.\u001b[39;49m\u001b[43mtake\u001b[49m\u001b[43m(\u001b[49m\u001b[43mindexer\u001b[49m\u001b[43m,\u001b[49m\u001b[43m \u001b[49m\u001b[43mfill_value\u001b[49m\u001b[38;5;241;43m=\u001b[39;49m\u001b[43mfill_value\u001b[49m\u001b[43m,\u001b[49m\u001b[43m \u001b[49m\u001b[43mallow_fill\u001b[49m\u001b[38;5;241;43m=\u001b[39;49m\u001b[38;5;28;43;01mTrue\u001b[39;49;00m\u001b[43m)\u001b[49m\n\u001b[1;32m   1642\u001b[0m \u001b[38;5;66;03m# Called from three places in managers, all of which satisfy\u001b[39;00m\n\u001b[1;32m   1643\u001b[0m \u001b[38;5;66;03m#  this assertion\u001b[39;00m\n\u001b[1;32m   1644\u001b[0m \u001b[38;5;28;01massert\u001b[39;00m \u001b[38;5;129;01mnot\u001b[39;00m (\u001b[38;5;28mself\u001b[39m\u001b[38;5;241m.\u001b[39mndim \u001b[38;5;241m==\u001b[39m \u001b[38;5;241m1\u001b[39m \u001b[38;5;129;01mand\u001b[39;00m new_mgr_locs \u001b[38;5;129;01mis\u001b[39;00m \u001b[38;5;28;01mNone\u001b[39;00m)\n",
      "File \u001b[0;32m~/miniconda3/envs/multibind/lib/python3.10/site-packages/pandas/core/arrays/sparse/array.py:1033\u001b[0m, in \u001b[0;36mSparseArray.take\u001b[0;34m(self, indices, allow_fill, fill_value)\u001b[0m\n\u001b[1;32m   1031\u001b[0m     dtype \u001b[38;5;241m=\u001b[39m \u001b[38;5;28mself\u001b[39m\u001b[38;5;241m.\u001b[39mdtype\n\u001b[1;32m   1032\u001b[0m \u001b[38;5;28;01melif\u001b[39;00m allow_fill:\n\u001b[0;32m-> 1033\u001b[0m     result \u001b[38;5;241m=\u001b[39m \u001b[38;5;28;43mself\u001b[39;49m\u001b[38;5;241;43m.\u001b[39;49m\u001b[43m_take_with_fill\u001b[49m\u001b[43m(\u001b[49m\u001b[43mindices\u001b[49m\u001b[43m,\u001b[49m\u001b[43m \u001b[49m\u001b[43mfill_value\u001b[49m\u001b[38;5;241;43m=\u001b[39;49m\u001b[43mfill_value\u001b[49m\u001b[43m)\u001b[49m\n\u001b[1;32m   1034\u001b[0m \u001b[38;5;28;01melse\u001b[39;00m:\n\u001b[1;32m   1035\u001b[0m     \u001b[38;5;28;01mreturn\u001b[39;00m \u001b[38;5;28mself\u001b[39m\u001b[38;5;241m.\u001b[39m_take_without_fill(indices)\n",
      "File \u001b[0;32m~/miniconda3/envs/multibind/lib/python3.10/site-packages/pandas/core/arrays/sparse/array.py:1067\u001b[0m, in \u001b[0;36mSparseArray._take_with_fill\u001b[0;34m(self, indices, fill_value)\u001b[0m\n\u001b[1;32m   1062\u001b[0m         \u001b[38;5;28;01mraise\u001b[39;00m \u001b[38;5;167;01mIndexError\u001b[39;00m(\u001b[38;5;124m\"\u001b[39m\u001b[38;5;124mcannot do a non-empty take from an empty axes.\u001b[39m\u001b[38;5;124m\"\u001b[39m)\n\u001b[1;32m   1064\u001b[0m \u001b[38;5;66;03m# sp_indexer may be -1 for two reasons\u001b[39;00m\n\u001b[1;32m   1065\u001b[0m \u001b[38;5;66;03m# 1.) we took for an index of -1 (new)\u001b[39;00m\n\u001b[1;32m   1066\u001b[0m \u001b[38;5;66;03m# 2.) we took a value that was self.fill_value (old)\u001b[39;00m\n\u001b[0;32m-> 1067\u001b[0m sp_indexer \u001b[38;5;241m=\u001b[39m \u001b[38;5;28;43mself\u001b[39;49m\u001b[38;5;241;43m.\u001b[39;49m\u001b[43msp_index\u001b[49m\u001b[38;5;241;43m.\u001b[39;49m\u001b[43mlookup_array\u001b[49m\u001b[43m(\u001b[49m\u001b[43mindices\u001b[49m\u001b[43m)\u001b[49m\n\u001b[1;32m   1068\u001b[0m new_fill_indices \u001b[38;5;241m=\u001b[39m indices \u001b[38;5;241m==\u001b[39m \u001b[38;5;241m-\u001b[39m\u001b[38;5;241m1\u001b[39m\n\u001b[1;32m   1069\u001b[0m old_fill_indices \u001b[38;5;241m=\u001b[39m (sp_indexer \u001b[38;5;241m==\u001b[39m \u001b[38;5;241m-\u001b[39m\u001b[38;5;241m1\u001b[39m) \u001b[38;5;241m&\u001b[39m \u001b[38;5;241m~\u001b[39mnew_fill_indices\n",
      "\u001b[0;31mKeyboardInterrupt\u001b[0m: "
     ]
    }
   ],
   "source": [
    "# loading with the fastest command takes about 5 minutes\n",
    "k = 11\n",
    "adata_kmers_bkp = '../../data/kmers_adata_%s_k%i.h5ad' % (tf_name, k)\n",
    "if True or not os.path.exists(adata_kmers_bkp):\n",
    "    kmers_by_k = {}\n",
    "    for ri, r in data_sel.iterrows():\n",
    "        if ri % 5 == 0:\n",
    "            print('%i out of %i' % (ri, data_sel.shape[0]))\n",
    "        key_added = r['filename'].replace('.fastq.gz', '').replace('.txt.gz', '')    \n",
    "\n",
    "        # print(r['path'])\n",
    "        df_kmers = None\n",
    "        if mb.bindome.datasets.SELEX.is_fastq(r['path']) and k >= 10:\n",
    "            df_kmers = mb.tl.fastq2kmers(r['path'], k) # \n",
    "            df_kmers[df_kmers.columns[0]] = pd.arrays.SparseArray(df_kmers[df_kmers.columns[0]])\n",
    "        else:\n",
    "            read_tf = mb.bindome.datasets.SELEX.load_read_counts(data=data_sel[data_sel.index == ri], log_each=50, n_sample=100)\n",
    "            next_df = read_tf[list(read_tf.keys())[0]]\n",
    "            df_kmers = mb.tl.seqs2kmers(next_df['seq'], k, counts=next_df['counts'])\n",
    "\n",
    "        df_kmers.columns = [key_added]\n",
    "        \n",
    "        # convert to sparse\n",
    "        df_kmers[df_kmers.columns[0]] = pd.arrays.SparseArray(df_kmers[df_kmers.columns[0]])\n",
    "        kmers_by_k[key_added] = df_kmers\n",
    "\n",
    "        if len(kmers_by_k.keys()) % 25 == 0:\n",
    "            print(len(kmers_by_k.keys()), 'out of', data_sel.shape[0])\n",
    "\n",
    "        import warnings\n",
    "        warnings.filterwarnings(\"ignore\")\n",
    "\n",
    "    from functools import reduce\n",
    "    print('merging...')\n",
    "    df_merged = reduce(lambda  left,right: pd.merge(left, right, left_index=True, right_index=True,\n",
    "                                                how='outer'), kmers_by_k.values()).fillna(0)\n",
    "    print('merging done...')\n",
    "    \n",
    "    print('transposing...')\n",
    "    df_merged = df_merged.T\n",
    "    \n",
    "    # df_merged\n",
    "    \n",
    "    print('convert to anndata...')\n",
    "    adata = anndata.AnnData(df_merged)\n",
    "    data_sel.index = adata.obs_names\n",
    "    \n",
    "    adata.obs = data_sel\n",
    "    adata.var_names = list(adata.var_names)\n",
    "    \n",
    "    print('writing')\n",
    "    adata.write(adata_kmers_bkp, compression='lzf')\n",
    "    print('writing done...')\n",
    "    \n",
    "print('reading adata')\n",
    "adata = sc.read_h5ad(adata_kmers_bkp)\n",
    "print('done...')"
   ]
  },
  {
   "cell_type": "code",
   "execution_count": null,
   "id": "50c2365c-dcf9-4dc7-94e1-00ac68df3485",
   "metadata": {},
   "outputs": [],
   "source": [
    "adata.shape"
   ]
  },
  {
   "cell_type": "code",
   "execution_count": null,
   "id": "28f9a636-5a45-4cf5-a840-7e57a23d6fc0",
   "metadata": {},
   "outputs": [],
   "source": [
    "!ls -ltrh $adata_kmers_bkp"
   ]
  },
  {
   "cell_type": "code",
   "execution_count": null,
   "id": "e5251284-90cc-4938-8642-fc0d667b8342",
   "metadata": {},
   "outputs": [],
   "source": [
    "size = 0\n",
    "for p in data_sel['path']:\n",
    "    size += os.path.getsize(p) / 1e6\n",
    "print(size)"
   ]
  },
  {
   "cell_type": "code",
   "execution_count": null,
   "id": "5c1a5805-caa4-4828-b5c0-200878c52356",
   "metadata": {},
   "outputs": [],
   "source": [
    "# # %load_ext line_profiler\n",
    "# %lprun -f get_kmers get_kmers(next_df['seq'], 6, counts=next_df['counts'])\n",
    "# %time kmers = get_kmers(next_df['seq'], 6, counts=next_df['counts'])"
   ]
  },
  {
   "cell_type": "code",
   "execution_count": null,
   "id": "69e8cc5d-bd1a-4f12-ad3b-a3d55b401d62",
   "metadata": {},
   "outputs": [],
   "source": [
    "from matplotlib import rcParams\n",
    "rcParams['figure.figsize'] = 9, 2"
   ]
  },
  {
   "cell_type": "code",
   "execution_count": null,
   "id": "2d44d607-9c05-44d3-96ef-b763745528a4",
   "metadata": {},
   "outputs": [],
   "source": [
    "sc.pp.neighbors(adata)\n",
    "sc.tl.umap(adata)"
   ]
  },
  {
   "cell_type": "code",
   "execution_count": null,
   "id": "06c9248b-0df4-4b70-8559-c7f0aa93fe19",
   "metadata": {},
   "outputs": [],
   "source": [
    "sc.set_figure_params(facecolor='white')"
   ]
  },
  {
   "cell_type": "code",
   "execution_count": null,
   "id": "e68e8967-4f03-406b-b8dd-645c53719598",
   "metadata": {},
   "outputs": [],
   "source": [
    "import seaborn as sns"
   ]
  },
  {
   "cell_type": "code",
   "execution_count": null,
   "id": "15ce0ea4-cbc0-4777-82f6-f3cce28ae625",
   "metadata": {},
   "outputs": [],
   "source": [
    "adata"
   ]
  },
  {
   "cell_type": "code",
   "execution_count": null,
   "id": "85b88399-b333-4f23-bb19-3d667c15d4e6",
   "metadata": {},
   "outputs": [],
   "source": [
    "adata.obs"
   ]
  },
  {
   "cell_type": "code",
   "execution_count": null,
   "id": "7012e4f2-643f-471e-8eb7-77593c973fe3",
   "metadata": {},
   "outputs": [],
   "source": [
    "adata.to_df()"
   ]
  },
  {
   "cell_type": "code",
   "execution_count": null,
   "id": "130bf06c-0fba-4f35-b6c4-0fd931ff5752",
   "metadata": {},
   "outputs": [],
   "source": [
    "g = sns.clustermap(adata.to_df().T.corr(), cmap='Reds', figsize=[6, 6], xticklabels=False, yticklabels=False)"
   ]
  },
  {
   "cell_type": "code",
   "execution_count": null,
   "id": "bb6ecfb6-5d22-452f-81c6-7400d0b42366",
   "metadata": {},
   "outputs": [],
   "source": [
    "import pandas as pd"
   ]
  },
  {
   "cell_type": "code",
   "execution_count": null,
   "id": "b43debbf-d73d-467b-b612-414cd5b34695",
   "metadata": {},
   "outputs": [],
   "source": [
    "adata.obs_names = adata.obs['_index']\n",
    "adata.obs['is.zero'] = pd.Categorical(adata.obs_names.str.contains('Zero'))"
   ]
  },
  {
   "cell_type": "code",
   "execution_count": null,
   "id": "36db9f31-6efc-44a1-85c7-3824ba08e10d",
   "metadata": {},
   "outputs": [],
   "source": [
    "adata.obs['tf.name'] = list(data_sel['tf.name'])\n",
    "adata.obs['accession'] = list(data_sel['accession'])"
   ]
  },
  {
   "cell_type": "code",
   "execution_count": null,
   "id": "f039f269-8893-4fe6-9af7-f9c538a350f7",
   "metadata": {},
   "outputs": [],
   "source": [
    "adata.obs['tf.name'].value_counts()"
   ]
  },
  {
   "cell_type": "code",
   "execution_count": null,
   "id": "c9e0c6e7-19fd-4ed7-85e0-b70ac2de81ed",
   "metadata": {},
   "outputs": [],
   "source": [
    "for tf in set(adata.obs['tf.name']):\n",
    "    print(tf, len(set(adata.obs[adata.obs['tf.name'] == tf]['accession'])))"
   ]
  },
  {
   "cell_type": "code",
   "execution_count": null,
   "id": "bd19db98-c3f3-4178-9e1e-66f72bd21e32",
   "metadata": {},
   "outputs": [],
   "source": [
    "adata[adata.obs['tf.name'] == 'ELK1',:].obs"
   ]
  },
  {
   "cell_type": "code",
   "execution_count": null,
   "id": "50fc900f-09f0-45bb-b00e-d8cff6a193b1",
   "metadata": {},
   "outputs": [],
   "source": [
    "g = sns.clustermap(adata[adata.obs['tf.name'] == 'ELK1',:].to_df().T.corr(), cmap='Reds', figsize=[6, 6], xticklabels=False, yticklabels=False)"
   ]
  },
  {
   "cell_type": "code",
   "execution_count": null,
   "id": "f627dee5-c1b4-453a-b213-9c4d45d4eda4",
   "metadata": {},
   "outputs": [],
   "source": [
    "sc.pl.umap(adata, color=['tf.name'], groups=['ELK1'], s=50)"
   ]
  },
  {
   "cell_type": "code",
   "execution_count": null,
   "id": "407a7e67-3037-4cfc-a594-117c60601c03",
   "metadata": {},
   "outputs": [],
   "source": [
    "sc.pl.umap(adata, color=['is.zero', 'tf.name', 'accession', 'library'], s=50)\n",
    "sc.pl.pca(adata, color=['is.zero', 'tf.name', 'accession', 'library'], s=50)\n"
   ]
  },
  {
   "cell_type": "code",
   "execution_count": null,
   "id": "0b7d8328-b927-4f8e-8204-fb977b99fd4a",
   "metadata": {},
   "outputs": [],
   "source": [
    "%load_ext autoreload\n",
    "%autoreload 2"
   ]
  },
  {
   "cell_type": "code",
   "execution_count": null,
   "id": "228a2fa6-a548-49b3-a23b-07ffd6063e8d",
   "metadata": {},
   "outputs": [],
   "source": [
    "import sys\n",
    "sys.executable"
   ]
  },
  {
   "cell_type": "code",
   "execution_count": null,
   "id": "7553d715-adbe-4a70-a874-d0583747d08a",
   "metadata": {},
   "outputs": [],
   "source": [
    "adata.to_df()"
   ]
  },
  {
   "cell_type": "code",
   "execution_count": null,
   "id": "54212341-3805-4bd3-af09-613e7e823e21",
   "metadata": {},
   "outputs": [],
   "source": [
    "import numpy as np"
   ]
  },
  {
   "cell_type": "code",
   "execution_count": null,
   "id": "6d615290-51fa-44a1-bcb3-c7d3026fd50e",
   "metadata": {},
   "outputs": [],
   "source": [
    "import pandas"
   ]
  },
  {
   "cell_type": "code",
   "execution_count": null,
   "id": "7054b2c8-39b7-4fc1-8826-1349dac66788",
   "metadata": {},
   "outputs": [],
   "source": [
    "import multibind"
   ]
  },
  {
   "cell_type": "code",
   "execution_count": null,
   "id": "d2e38047-1f23-48a0-bee6-3d52c067eeaf",
   "metadata": {},
   "outputs": [],
   "source": [
    "!which ipython"
   ]
  },
  {
   "cell_type": "code",
   "execution_count": null,
   "id": "2282062f-e062-4614-972a-cdf466798c9b",
   "metadata": {},
   "outputs": [],
   "source": [
    "!which ipython"
   ]
  },
  {
   "cell_type": "code",
   "execution_count": null,
   "id": "438faf4e-f0e2-4dc5-a1a3-5847286dc1c8",
   "metadata": {},
   "outputs": [],
   "source": [
    "import mubind as mb\n",
    "import numpy as np\n",
    "import pandas as pd\n",
    "import torch\n",
    "import bindome as bd\n",
    "bd.constants.ANNOTATIONS_DIRECTORY = '/mnt/c/Users/ignacio.ibarra/Dropbox/annotations'\n",
    "# mb.models.MultiBind\n",
    "import torch.optim as topti\n",
    "import torch.utils.data as tdata\n",
    "import matplotlib.pyplot as plt\n",
    "import logomaker\n",
    "\n",
    "# Use a GPU if available, as it should be faster.\n",
    "device = torch.device(\"cuda:0\" if torch.cuda.is_available() else \"cpu\")\n",
    "print(\"Using device: \" + str(device))"
   ]
  },
  {
   "cell_type": "code",
   "execution_count": null,
   "id": "17e661c6-c9d6-44cb-a744-dc37f586c985",
   "metadata": {},
   "outputs": [],
   "source": [
    "df = mb.bindome.datasets.ProBound.GR_mult_conc()\n",
    "df = df.sort_values(1, ascending=False).reset_index(drop=True)"
   ]
  },
  {
   "cell_type": "code",
   "execution_count": null,
   "id": "dbd12143-11b5-4812-969f-807b61f8d405",
   "metadata": {},
   "outputs": [],
   "source": [
    "data = df.head(1000)"
   ]
  },
  {
   "cell_type": "code",
   "execution_count": null,
   "id": "90d8ac8d-163d-4b14-8aa6-26cd94d7c8bc",
   "metadata": {},
   "outputs": [],
   "source": [
    "n_rounds = 1"
   ]
  },
  {
   "cell_type": "code",
   "execution_count": null,
   "id": "9c893bda-4dae-4f80-8338-555aa65d7950",
   "metadata": {},
   "outputs": [],
   "source": [
    "from matplotlib import rcParams\n",
    "rcParams['figure.figsize'] = 9, 2"
   ]
  },
  {
   "cell_type": "code",
   "execution_count": null,
   "id": "ca20f1e9-d482-42ce-865a-538caf6398d0",
   "metadata": {
    "tags": []
   },
   "outputs": [],
   "source": [
    "# assign batch and data type\n",
    "\n",
    "data['batch'] = 1\n",
    "data['is_count_data'] = 1\n",
    "\n",
    "print('loading object (# entries)', data.shape[0])\n",
    "dataset = mb.datasets.SelexDataset(data, n_rounds=n_rounds, single_encoding_step=True)\n",
    "train = tdata.DataLoader(dataset=dataset, batch_size=25000, shuffle=True)\n",
    "\n",
    "model_by_k_next, res_next = mb.tl.train_iterative(train, device, min_w=16, max_w=18, n_rounds=n_rounds, n_kernels=2)                \n",
    "res = []\n",
    "model_by_k = {}\n"
   ]
  },
  {
   "cell_type": "code",
   "execution_count": null,
   "id": "eb63c77b-7b31-458a-a7ce-2c5908e7a24f",
   "metadata": {},
   "outputs": [],
   "source": [
    "adata.obs['is.zero'] = adata.obs_names.str.contains('Zero').astype('categorical')"
   ]
  },
  {
   "cell_type": "code",
   "execution_count": null,
   "id": "3b3f2268-d6fc-471a-9c8b-49deac8a5bb3",
   "metadata": {},
   "outputs": [],
   "source": [
    "adata"
   ]
  },
  {
   "cell_type": "code",
   "execution_count": null,
   "id": "0db407b0-ef1d-42a4-91a3-463a42160ee6",
   "metadata": {},
   "outputs": [],
   "source": [
    "sc.pl.umap(adata, color='is.zero', s=50)"
   ]
  },
  {
   "cell_type": "code",
   "execution_count": null,
   "id": "4aafc137-9e12-4d52-a7d7-9a265ebf8251",
   "metadata": {},
   "outputs": [],
   "source": [
    "sc.pl.umap(adata)"
   ]
  }
 ],
 "metadata": {
  "kernelspec": {
   "display_name": "Python [conda env:multibind]",
   "language": "python",
   "name": "conda-env-multibind-py"
  },
  "language_info": {
   "codemirror_mode": {
    "name": "ipython",
    "version": 3
   },
   "file_extension": ".py",
   "mimetype": "text/x-python",
   "name": "python",
   "nbconvert_exporter": "python",
   "pygments_lexer": "ipython3",
   "version": "3.10.4"
  }
 },
 "nbformat": 4,
 "nbformat_minor": 5
}
