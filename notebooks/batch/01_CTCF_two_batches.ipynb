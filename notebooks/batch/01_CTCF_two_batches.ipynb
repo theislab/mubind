{
 "cells": [
  {
   "cell_type": "code",
   "execution_count": 1,
   "outputs": [],
   "source": [
    "import os\n",
    "%load_ext autoreload\n",
    "%autoreload 2"
   ],
   "metadata": {
    "collapsed": false,
    "pycharm": {
     "name": "#%%\n"
    }
   }
  },
  {
   "cell_type": "code",
   "execution_count": 2,
   "outputs": [
    {
     "name": "stdout",
     "output_type": "stream",
     "text": [
      "/mnt/c/Users/ignacio.ibarra/Dropbox/workspace/theislab/mubind/notebooks/batch\n"
     ]
    }
   ],
   "source": [
    "cd workspace/theislab/mubind/notebooks/batch"
   ],
   "metadata": {
    "collapsed": false,
    "pycharm": {
     "name": "#%%\n"
    }
   }
  },
  {
   "cell_type": "code",
   "execution_count": 3,
   "outputs": [
    {
     "name": "stderr",
     "output_type": "stream",
     "text": [
      "/home/rio/miniconda3/envs/mubind/lib/python3.10/site-packages/tqdm/auto.py:22: TqdmWarning: IProgress not found. Please update jupyter and ipywidgets. See https://ipywidgets.readthedocs.io/en/stable/user_install.html\n",
      "  from .autonotebook import tqdm as notebook_tqdm\n"
     ]
    },
    {
     "name": "stdout",
     "output_type": "stream",
     "text": [
      "Using device: cuda:0\n"
     ]
    }
   ],
   "source": [
    "import mubind as mb\n",
    "import numpy as np\n",
    "import pandas as pd\n",
    "import torch\n",
    "import bindome as bd\n",
    "bd.constants.ANNOTATIONS_DIRECTORY = '../../annotations'\n",
    "# mb.models.MultiBind\n",
    "import torch.optim as topti\n",
    "import torch.utils.data as tdata\n",
    "import numpy as np\n",
    "\n",
    "# Use a GPU if available, as it should be faster.\n",
    "device = torch.device(\"cuda:0\" if torch.cuda.is_available() else \"cpu\")\n",
    "print(\"Using device: \" + str(device))"
   ],
   "metadata": {
    "collapsed": false,
    "pycharm": {
     "name": "#%%\n"
    }
   }
  },
  {
   "cell_type": "code",
   "execution_count": 688,
   "outputs": [],
   "source": [
    "df = mb.bindome.datasets.ProBound.ctcf(flank_length=0)\n",
    "df = df.sort_values(1, ascending=False).reset_index(drop=True)\n",
    "# data = df.head(1000)\n",
    "# data = df.copy()\n",
    "\n",
    "df.index = df['seq']\n",
    "del df['seq']\n",
    "df.index = df.index.astype(str).str[45:]\n",
    "\n",
    "df = df[~df.index.duplicated(keep='first')]\n",
    "\n",
    "n_sample = 10000\n",
    "data = df.sample(min(df.shape[0], n_sample))\n",
    "\n",
    "# data = mb.pp.sample_rounds(df, 2, 10000)\n",
    "\n",
    "# remove as many nucleotides as posisble (faster training/convergence)\n",
    "\n",
    "\n",
    "# data.index = data.index.astype(str).str[-15:]\n"
   ],
   "metadata": {
    "collapsed": false,
    "pycharm": {
     "name": "#%%\n"
    }
   }
  },
  {
   "cell_type": "code",
   "execution_count": 689,
   "outputs": [],
   "source": [
    "from matplotlib import rcParams\n",
    "rcParams['figure.figsize'] = 5, 1"
   ],
   "metadata": {
    "collapsed": false,
    "pycharm": {
     "name": "#%%\n"
    }
   }
  },
  {
   "cell_type": "code",
   "execution_count": 690,
   "outputs": [
    {
     "name": "stdout",
     "output_type": "stream",
     "text": [
      "loading object (# entries) 10000\n"
     ]
    }
   ],
   "source": [
    "# TODO: skipped for now\n",
    "n_rounds = 2\n",
    "\n",
    "print('loading object (# entries)', data.shape[0])\n",
    "dataset = mb.datasets.SelexDataset(data, n_rounds=n_rounds, labels=[0, 1])\n",
    "train = tdata.DataLoader(dataset=dataset,\n",
    "                         # batch_size=256,\n",
    "                         batch_size=625,\n",
    "                         shuffle=False)"
   ],
   "metadata": {
    "collapsed": false,
    "pycharm": {
     "name": "#%%\n"
    }
   }
  },
  {
   "cell_type": "code",
   "execution_count": 691,
   "outputs": [],
   "source": [
    "import warnings\n",
    "warnings.filterwarnings('ignore')"
   ],
   "metadata": {
    "collapsed": false,
    "pycharm": {
     "name": "#%%\n"
    }
   }
  },
  {
   "cell_type": "code",
   "execution_count": 692,
   "outputs": [],
   "source": [],
   "metadata": {
    "collapsed": false,
    "pycharm": {
     "name": "#%%\n"
    }
   }
  },
  {
   "cell_type": "code",
   "execution_count": 694,
   "outputs": [],
   "source": [
    "# %lprun -f mb.tl.train_network mb.tl.train_network(model, train, device, next_optimiser, criterion, num_epochs=20, early_stopping=100, log_each=2, dirichlet_regularization=0, exp_max=40, verbose=0)"
   ],
   "metadata": {
    "collapsed": false,
    "pycharm": {
     "name": "#%%\n"
    }
   }
  },
  {
   "cell_type": "code",
   "execution_count": 695,
   "outputs": [],
   "source": [
    "# %lprun -f mb.tl.train_iterative mb.tl.train_iterative(train, device, w=18, show_logo=False, opt_kernel_shift=0, opt_kernel_length=0, dirichlet_regularization=dirichlet_regularization, lr=[0.01, 0.01], weight_decay=[0.01, 0.001], ignore_kernel=ignore_kernel, num_epochs=2, early_stopping=100, use_dinuc=False, n_kernels=n_kernels, log_each=log_each, stop_at_kernel=None)"
   ],
   "metadata": {
    "collapsed": false,
    "pycharm": {
     "name": "#%%\n"
    }
   }
  },
  {
   "cell_type": "code",
   "execution_count": 696,
   "outputs": [],
   "source": [
    "pd.set_option('display.expand_frame_repr', False)\n"
   ],
   "metadata": {
    "collapsed": false,
    "pycharm": {
     "name": "#%%\n"
    }
   }
  },
  {
   "cell_type": "code",
   "execution_count": null,
   "outputs": [
    {
     "name": "stdout",
     "output_type": "stream",
     "text": [
      "\n",
      "\n",
      "##NEW JOB\n",
      "ignore kernel 1\n",
      "# trials 10000\n",
      "next w 20 <class 'int'>\n",
      "# rounds {2}\n",
      "# rounds {2}\n",
      "# use_mono True\n",
      "# use_dinuc False\n",
      "# dinuc_mode local\n",
      "# batches 1\n",
      "# kernels 2\n",
      "# initial w 20\n",
      "# enr_series True\n",
      "\n",
      "Kernel to optimize 0\n",
      "\n",
      "FREEZING KERNELS\n",
      "optimizing feature type mono\n",
      "setting grad status of kernel (mono, dinuc) at 0 to (1, 0)\n",
      "setting grad status of kernel (mono, dinuc) at 1 to (0, 0)\n",
      "\n",
      "\n",
      "kernels mask None\n",
      "optimizer:  Adam \n",
      "criterion: PoissonLoss \n",
      "# epochs: 500 \n",
      "early_stopping: 5\n",
      "lr= 0.01, weight_decay= 0.001, dir weight= 0\n",
      "Epoch: 11, Loss: 0.869798,  best epoch: 9,  secs per epoch: 0.189 s,  secs epoch*1k trials: 0.019s\n",
      "Epoch: 21, Loss: 0.842954,  best epoch: 19,  secs per epoch: 0.185 s,  secs epoch*1k trials: 0.019s\n",
      "Epoch: 31, Loss: 0.842923,  best epoch: 29,  secs per epoch: 0.180 s,  secs epoch*1k trials: 0.018s\n",
      "Epoch: 41, Loss: 0.842920,  best epoch: 39,  secs per epoch: 0.188 s,  secs epoch*1k trials: 0.019s\n",
      "Epoch: 49, Loss: 0.8429,  best epoch: 43,  secs per epoch: 0.187s,  secs epoch*1k trials: 0.019s\n",
      "early stop!\n",
      "Final loss: 0.8429202139\n",
      "Total time (model/function): (8.993s / 8.993s)\n",
      "Time per epoch (model/function): (0.187s/ 0.187s)\n",
      "Time per epoch per 1k trials: 0.019s\n",
      "Current time: 2023-01-02 18:43:58.557207\n",
      "optimization of dinuc is not necessary for the intercepts (kernel=0). Skip...\n",
      "\n",
      "Kernel to optimize 1\n",
      "\n",
      "FREEZING KERNELS\n",
      "optimizing feature type mono\n",
      "setting grad status of kernel (mono, dinuc) at 0 to (0, 0)\n",
      "setting grad status of kernel (mono, dinuc) at 1 to (1, 0)\n",
      "\n",
      "\n",
      "kernels mask None\n",
      "optimizer:  Adam \n",
      "criterion: PoissonLoss \n",
      "# epochs: 500 \n",
      "early_stopping: 25\n",
      "lr= 0.01, weight_decay= 0.001, dir weight= 0\n",
      "Epoch: 11, Loss: 0.842896,  best epoch: 3,  secs per epoch: 0.211 s,  secs epoch*1k trials: 0.021s\n",
      "Epoch: 21, Loss: 0.842700,  best epoch: 3,  secs per epoch: 0.217 s,  secs epoch*1k trials: 0.022s\n",
      "Epoch: 29, Loss: 0.8426,  best epoch: 3,  secs per epoch: 0.216s,  secs epoch*1k trials: 0.022s\n",
      "early stop!\n",
      "Final loss: 0.8425853886\n",
      "Total time (model/function): (15.034s / 6.041s)\n",
      "Time per epoch (model/function): (0.537s/ 0.216s)\n",
      "Time per epoch per 1k trials: 0.022s\n",
      "Current time: 2023-01-02 18:44:04.599951\n",
      "\n",
      "WIDTH OPTIMIZATION (first)...\n",
      "Reached maximum w. Stop...\n",
      "\n",
      "SHIFT OPTIMIZATION (first)...\n",
      "options to try [[0, 0, -2], [0, 0, -1], [0, 0, 0], [0, 0, 1], [0, 0, 2]]\n",
      "next expand left: 0, next expand right: 0, shift: -2\n",
      "optimizer:  Adam \n",
      "criterion: PoissonLoss \n",
      "# epochs: 1500 \n",
      "early_stopping: 25\n",
      "lr= 0.01, weight_decay= 0.001, dir weight= 0\n",
      "Epoch: 26, Loss: 0.8426,  best epoch: 0,  secs per epoch: 0.197s,  secs epoch*1k trials: 0.020s\n",
      "early stop!\n",
      "Final loss: 0.8425599784\n",
      "Total time (model/function): (19.964s / 4.930s)\n",
      "Time per epoch (model/function): (0.799s/ 0.197s)\n",
      "Time per epoch per 1k trials: 0.020s\n",
      "Current time: 2023-01-02 18:44:09.534213\n",
      "\n",
      "next expand left: 0, next expand right: 0, shift: -1\n",
      "optimizer:  Adam \n",
      "criterion: PoissonLoss \n",
      "# epochs: 1500 \n",
      "early_stopping: 25\n",
      "lr= 0.01, weight_decay= 0.001, dir weight= 0\n",
      "Epoch: 26, Loss: 0.8426,  best epoch: 0,  secs per epoch: 0.190s,  secs epoch*1k trials: 0.019s\n",
      "early stop!\n",
      "Final loss: 0.8425754458\n",
      "Total time (model/function): (19.771s / 4.738s)\n",
      "Time per epoch (model/function): (0.791s/ 0.190s)\n",
      "Time per epoch per 1k trials: 0.019s\n",
      "Current time: 2023-01-02 18:44:14.274213\n",
      "\n",
      "next expand left: 0, next expand right: 0, shift: 0\n",
      "optimizer:  Adam \n",
      "criterion: PoissonLoss \n",
      "# epochs: 1500 \n",
      "early_stopping: 25\n",
      "lr= 0.01, weight_decay= 0.001, dir weight= 0\n",
      "Epoch: 26, Loss: 0.8426,  best epoch: 0,  secs per epoch: 0.208s,  secs epoch*1k trials: 0.021s\n",
      "early stop!\n",
      "Final loss: 0.8425854445\n",
      "Total time (model/function): (20.228s / 5.194s)\n",
      "Time per epoch (model/function): (0.809s/ 0.208s)\n",
      "Time per epoch per 1k trials: 0.021s\n",
      "Current time: 2023-01-02 18:44:19.470421\n",
      "\n",
      "next expand left: 0, next expand right: 0, shift: 1\n",
      "optimizer:  Adam \n",
      "criterion: PoissonLoss \n",
      "# epochs: 1500 \n",
      "early_stopping: 25\n",
      "lr= 0.01, weight_decay= 0.001, dir weight= 0\n",
      "Epoch: 26, Loss: 0.8426,  best epoch: 0,  secs per epoch: 0.190s,  secs epoch*1k trials: 0.019s\n",
      "early stop!\n",
      "Final loss: 0.8425754383\n",
      "Total time (model/function): (19.787s / 4.753s)\n",
      "Time per epoch (model/function): (0.791s/ 0.190s)\n",
      "Time per epoch per 1k trials: 0.019s\n",
      "Current time: 2023-01-02 18:44:24.226260\n",
      "\n",
      "next expand left: 0, next expand right: 0, shift: 2\n",
      "optimizer:  Adam \n",
      "criterion: PoissonLoss \n",
      "# epochs: 1500 \n",
      "early_stopping: 25\n",
      "lr= 0.01, weight_decay= 0.001, dir weight= 0\n",
      "Epoch: 26, Loss: 0.8426,  best epoch: 0,  secs per epoch: 0.221s,  secs epoch*1k trials: 0.022s\n",
      "early stop!\n",
      "Final loss: 0.8425599709\n",
      "Total time (model/function): (20.553s / 5.520s)\n",
      "Time per epoch (model/function): (0.822s/ 0.221s)\n",
      "Time per epoch per 1k trials: 0.022s\n",
      "Current time: 2023-01-02 18:44:29.748268\n",
      "\n",
      "sorted\n",
      "   expand.left  expand.right  shift  pos_w_sum  width  loss_diff_pct      loss  last_loss\n",
      "0            0             0     -1   0.663906     20       0.091521  0.841586   0.842357\n",
      "1            0             0      1   0.663906     20       0.091521  0.841586   0.842357\n",
      "2            0             0      2   0.698736     20       0.091517  0.841586   0.842357\n",
      "3            0             0     -2   0.698736     20       0.091517  0.841586   0.842357\n",
      "4            0             0      0   0.639357     20       0.091109  0.841590   0.842357\n",
      "5            0             0      0   0.698736     20       0.000000  0.842357   0.842357\n",
      "0 0 -1 0.6639059782028198 20 0.09152145832737407 0.8415863253176212\n",
      "action (expand left, expand right, shift): (0, 0, -1)\n",
      "\n",
      "\n",
      "SHIFT OPTIMIZATION (again)...\n",
      "options to try [[0, 0, -2], [0, 0, -1], [0, 0, 0], [0, 0, 1], [0, 0, 2]]\n",
      "next expand left: 0, next expand right: 0, shift: -2\n",
      "optimizer:  Adam \n",
      "criterion: PoissonLoss \n",
      "# epochs: 1500 \n",
      "early_stopping: 25\n",
      "lr= 0.01, weight_decay= 0.001, dir weight= 0\n",
      "Epoch: 31, Loss: 0.842209,  best epoch: 29,  secs per epoch: 0.200 s,  secs epoch*1k trials: 0.020s\n",
      "Epoch: 61, Loss: 0.841383,  best epoch: 59,  secs per epoch: 0.204 s,  secs epoch*1k trials: 0.020s\n",
      "Epoch: 91, Loss: 0.840324,  best epoch: 89,  secs per epoch: 0.196 s,  secs epoch*1k trials: 0.020s\n",
      "Epoch: 121, Loss: 0.834225,  best epoch: 119,  secs per epoch: 0.192 s,  secs epoch*1k trials: 0.019s\n",
      "Epoch: 151, Loss: 0.832934,  best epoch: 149,  secs per epoch: 0.189 s,  secs epoch*1k trials: 0.019s\n",
      "Epoch: 181, Loss: 0.832876,  best epoch: 179,  secs per epoch: 0.189 s,  secs epoch*1k trials: 0.019s\n",
      "Epoch: 211, Loss: 0.832868,  best epoch: 209,  secs per epoch: 0.188 s,  secs epoch*1k trials: 0.019s\n",
      "Epoch: 241, Loss: 0.832865,  best epoch: 239,  secs per epoch: 0.187 s,  secs epoch*1k trials: 0.019s\n",
      "Epoch: 271, Loss: 0.832863,  best epoch: 269,  secs per epoch: 0.187 s,  secs epoch*1k trials: 0.019s\n",
      "Epoch: 301, Loss: 0.832863,  best epoch: 298,  secs per epoch: 0.187 s,  secs epoch*1k trials: 0.019s\n",
      "Epoch: 331, Loss: 0.832863,  best epoch: 326,  secs per epoch: 0.187 s,  secs epoch*1k trials: 0.019s\n",
      "Epoch: 361, Loss: 0.832863,  best epoch: 359,  secs per epoch: 0.187 s,  secs epoch*1k trials: 0.019s\n",
      "Epoch: 391, Loss: 0.832863,  best epoch: 388,  secs per epoch: 0.187 s,  secs epoch*1k trials: 0.019s\n",
      "Epoch: 421, Loss: 0.832863,  best epoch: 403,  secs per epoch: 0.189 s,  secs epoch*1k trials: 0.019s\n",
      "Epoch: 451, Loss: 0.832863,  best epoch: 425,  secs per epoch: 0.188 s,  secs epoch*1k trials: 0.019s\n",
      "Epoch: 451, Loss: 0.8329,  best epoch: 425,  secs per epoch: 0.188s,  secs epoch*1k trials: 0.019s\n",
      "early stop!\n",
      "Final loss: 0.8328625374\n",
      "Total time (model/function): (104.515s / 84.744s)\n",
      "Time per epoch (model/function): (0.232s/ 0.188s)\n",
      "Time per epoch per 1k trials: 0.019s\n",
      "Current time: 2023-01-02 18:45:54.500038\n",
      "\n",
      "next expand left: 0, next expand right: 0, shift: -1\n",
      "optimizer:  Adam \n",
      "criterion: PoissonLoss \n",
      "# epochs: 1500 \n",
      "early_stopping: 25\n",
      "lr= 0.01, weight_decay= 0.001, dir weight= 0\n",
      "Epoch: 31, Loss: 0.842225,  best epoch: 29,  secs per epoch: 0.218 s,  secs epoch*1k trials: 0.022s\n",
      "Epoch: 61, Loss: 0.841466,  best epoch: 59,  secs per epoch: 0.225 s,  secs epoch*1k trials: 0.023s\n",
      "Epoch: 91, Loss: 0.840042,  best epoch: 89,  secs per epoch: 0.213 s,  secs epoch*1k trials: 0.021s\n",
      "Epoch: 121, Loss: 0.834771,  best epoch: 119,  secs per epoch: 0.205 s,  secs epoch*1k trials: 0.020s\n",
      "Epoch: 151, Loss: 0.832816,  best epoch: 149,  secs per epoch: 0.200 s,  secs epoch*1k trials: 0.020s\n",
      "Epoch: 181, Loss: 0.832733,  best epoch: 179,  secs per epoch: 0.198 s,  secs epoch*1k trials: 0.020s\n",
      "Epoch: 211, Loss: 0.832720,  best epoch: 209,  secs per epoch: 0.196 s,  secs epoch*1k trials: 0.020s\n",
      "Epoch: 241, Loss: 0.832715,  best epoch: 239,  secs per epoch: 0.194 s,  secs epoch*1k trials: 0.019s\n",
      "Epoch: 271, Loss: 0.832712,  best epoch: 269,  secs per epoch: 0.193 s,  secs epoch*1k trials: 0.019s\n",
      "Epoch: 301, Loss: 0.832711,  best epoch: 299,  secs per epoch: 0.192 s,  secs epoch*1k trials: 0.019s\n",
      "Epoch: 331, Loss: 0.832711,  best epoch: 329,  secs per epoch: 0.191 s,  secs epoch*1k trials: 0.019s\n",
      "Epoch: 361, Loss: 0.832710,  best epoch: 358,  secs per epoch: 0.191 s,  secs epoch*1k trials: 0.019s\n",
      "Epoch: 391, Loss: 0.832710,  best epoch: 387,  secs per epoch: 0.191 s,  secs epoch*1k trials: 0.019s\n",
      "Epoch: 421, Loss: 0.832710,  best epoch: 418,  secs per epoch: 0.192 s,  secs epoch*1k trials: 0.019s\n",
      "Epoch: 451, Loss: 0.832710,  best epoch: 444,  secs per epoch: 0.192 s,  secs epoch*1k trials: 0.019s\n",
      "Epoch: 481, Loss: 0.832710,  best epoch: 466,  secs per epoch: 0.192 s,  secs epoch*1k trials: 0.019s\n",
      "Epoch: 511, Loss: 0.832710,  best epoch: 498,  secs per epoch: 0.192 s,  secs epoch*1k trials: 0.019s\n",
      "Epoch: 524, Loss: 0.8327,  best epoch: 498,  secs per epoch: 0.192s,  secs epoch*1k trials: 0.019s\n",
      "early stop!\n",
      "Final loss: 0.8327099122\n",
      "Total time (model/function): (120.005s / 100.234s)\n",
      "Time per epoch (model/function): (0.229s/ 0.192s)\n",
      "Time per epoch per 1k trials: 0.019s\n",
      "Current time: 2023-01-02 18:47:34.736111\n",
      "\n",
      "next expand left: 0, next expand right: 0, shift: 0\n",
      "optimizer:  Adam \n",
      "criterion: PoissonLoss \n",
      "# epochs: 1500 \n",
      "early_stopping: 25\n",
      "lr= 0.01, weight_decay= 0.001, dir weight= 0\n",
      "Epoch: 27, Loss: 0.8423,  best epoch: 1,  secs per epoch: 0.203s,  secs epoch*1k trials: 0.020s\n",
      "early stop!\n",
      "Final loss: 0.8422962055\n",
      "Total time (model/function): (25.037s / 5.265s)\n",
      "Time per epoch (model/function): (0.963s/ 0.203s)\n",
      "Time per epoch per 1k trials: 0.020s\n",
      "Current time: 2023-01-02 18:47:40.003677\n",
      "\n",
      "next expand left: 0, next expand right: 0, shift: 1\n",
      "optimizer:  Adam \n",
      "criterion: PoissonLoss \n",
      "# epochs: 1500 \n",
      "early_stopping: 25\n",
      "lr= 0.01, weight_decay= 0.001, dir weight= 0\n",
      "Epoch: 31, Loss: 0.842240,  best epoch: 29,  secs per epoch: 0.214 s,  secs epoch*1k trials: 0.021s\n",
      "Epoch: 61, Loss: 0.841544,  best epoch: 59,  secs per epoch: 0.215 s,  secs epoch*1k trials: 0.022s\n",
      "Epoch: 91, Loss: 0.840067,  best epoch: 89,  secs per epoch: 0.212 s,  secs epoch*1k trials: 0.021s\n",
      "Epoch: 121, Loss: 0.833033,  best epoch: 119,  secs per epoch: 0.218 s,  secs epoch*1k trials: 0.022s\n",
      "Epoch: 151, Loss: 0.832567,  best epoch: 149,  secs per epoch: 0.211 s,  secs epoch*1k trials: 0.021s\n",
      "Epoch: 181, Loss: 0.832536,  best epoch: 179,  secs per epoch: 0.210 s,  secs epoch*1k trials: 0.021s\n",
      "Epoch: 211, Loss: 0.832528,  best epoch: 209,  secs per epoch: 0.207 s,  secs epoch*1k trials: 0.021s\n",
      "Epoch: 241, Loss: 0.832524,  best epoch: 239,  secs per epoch: 0.204 s,  secs epoch*1k trials: 0.020s\n",
      "Epoch: 271, Loss: 0.832522,  best epoch: 269,  secs per epoch: 0.202 s,  secs epoch*1k trials: 0.020s\n",
      "Epoch: 301, Loss: 0.832521,  best epoch: 299,  secs per epoch: 0.202 s,  secs epoch*1k trials: 0.020s\n",
      "Epoch: 331, Loss: 0.832521,  best epoch: 329,  secs per epoch: 0.201 s,  secs epoch*1k trials: 0.020s\n",
      "Epoch: 361, Loss: 0.832521,  best epoch: 359,  secs per epoch: 0.199 s,  secs epoch*1k trials: 0.020s\n",
      "Epoch: 391, Loss: 0.832520,  best epoch: 380,  secs per epoch: 0.197 s,  secs epoch*1k trials: 0.020s\n",
      "Epoch: 421, Loss: 0.832520,  best epoch: 414,  secs per epoch: 0.196 s,  secs epoch*1k trials: 0.020s\n",
      "Epoch: 451, Loss: 0.832520,  best epoch: 446,  secs per epoch: 0.195 s,  secs epoch*1k trials: 0.020s\n",
      "Epoch: 472, Loss: 0.8325,  best epoch: 446,  secs per epoch: 0.194s,  secs epoch*1k trials: 0.019s\n",
      "early stop!\n",
      "Final loss: 0.8325203769\n",
      "Total time (model/function): (111.173s / 91.401s)\n",
      "Time per epoch (model/function): (0.236s/ 0.194s)\n",
      "Time per epoch per 1k trials: 0.019s\n",
      "Current time: 2023-01-02 18:49:11.407509\n",
      "\n",
      "next expand left: 0, next expand right: 0, shift: 2\n",
      "optimizer:  Adam \n",
      "criterion: PoissonLoss \n",
      "# epochs: 1500 \n",
      "early_stopping: 25\n",
      "lr= 0.01, weight_decay= 0.001, dir weight= 0\n",
      "Epoch: 31, Loss: 0.842218,  best epoch: 29,  secs per epoch: 0.191 s,  secs epoch*1k trials: 0.019s\n",
      "Epoch: 61, Loss: 0.841427,  best epoch: 59,  secs per epoch: 0.181 s,  secs epoch*1k trials: 0.018s\n",
      "Epoch: 91, Loss: 0.839579,  best epoch: 89,  secs per epoch: 0.176 s,  secs epoch*1k trials: 0.018s\n"
     ]
    }
   ],
   "source": [
    "# assign batch and data type\n",
    "\n",
    "# data['batch'] = 0\n",
    "# data['is_count_data'] = 1\n",
    "# n_batches=3\n",
    "\n",
    "dirichlet_regularization = 0\n",
    "# for dirichlet_regularization_log in range(-5, 3):\n",
    "\n",
    "n_epochs = 500\n",
    "log_each = 10\n",
    "n_kernels = 2\n",
    "w = 20 # min(len(motif), 6)\n",
    "lr = [0.01] * n_kernels\n",
    "wd = [0.01,] + [0.001] * (n_kernels - 1)\n",
    "early_stopping = [5,] + [25] * (n_kernels - 1)\n",
    "opt_kernel_shift = 1\n",
    "opt_kernel_length = 1\n",
    "use_mono = True\n",
    "use_dinuc = False\n",
    "dinuc_mode = 'local'\n",
    "\n",
    "from matplotlib import rcParams\n",
    "rcParams['figure.figsize'] = 8, 1\n",
    "\n",
    "import time\n",
    "t0 = time.time()\n",
    "\n",
    "criterion = mb.tl.PoissonLoss()\n",
    "\n",
    "for ignore_kernel in [1]: # [0, 1]:\n",
    "    print('\\n\\n##NEW JOB')\n",
    "    print('ignore kernel', ignore_kernel)\n",
    "    print('# trials', data.shape[0])\n",
    "    model_by_k, res_next = mb.tl.optimize_iterative(train, device, w=w, show_logo=0, criterion=criterion,\n",
    "                                                    opt_kernel_shift=opt_kernel_shift, opt_kernel_length=opt_kernel_length,\n",
    "                                                    dirichlet_regularization=dirichlet_regularization, # 10 ** dirichlet_regularization_log,\n",
    "                                                    # lr=lr, weight_decay=wd, ignore_kernel=ignore_kernel,\n",
    "                                                    use_mono=use_mono,\n",
    "                                                    use_dinuc=use_dinuc,\n",
    "                                                    dinuc_mode=dinuc_mode,\n",
    "                                                    num_epochs=n_epochs, early_stopping=early_stopping, # optimiser=torch.optim.LBFGS,\n",
    "                                                    n_kernels=n_kernels, log_each=log_each, stop_at_kernel=None) #  seed=seed) # seeds.index[0]) #\n",
    "    print('##DONE....\\n\\n')\n",
    "\n",
    "\n",
    "\n",
    "print('total time: %.3f s' % ((time.time() - t0)))\n",
    "# res = []\n",
    "# model_by_k = {}\n",
    "\n",
    "model = model_by_k\n",
    "\n"
   ],
   "metadata": {
    "collapsed": false,
    "pycharm": {
     "name": "#%%\n",
     "is_executing": true
    }
   }
  },
  {
   "cell_type": "code",
   "execution_count": null,
   "outputs": [],
   "source": [
    "model = model_by_k\n",
    "mb.tl.scores(model, train, by='batch')\n"
   ],
   "metadata": {
    "collapsed": false,
    "pycharm": {
     "name": "#%%\n",
     "is_executing": true
    }
   }
  },
  {
   "cell_type": "code",
   "execution_count": null,
   "outputs": [],
   "source": [
    "rcParams['figure.figsize'] = 6, 6\n"
   ],
   "metadata": {
    "collapsed": false,
    "pycharm": {
     "name": "#%%\n",
     "is_executing": true
    }
   }
  },
  {
   "cell_type": "code",
   "execution_count": null,
   "outputs": [],
   "source": [
    "counts = mb.tl.predict(model, train)\n",
    "counts"
   ],
   "metadata": {
    "collapsed": false,
    "pycharm": {
     "name": "#%%\n",
     "is_executing": true
    }
   }
  },
  {
   "cell_type": "code",
   "execution_count": null,
   "outputs": [],
   "source": [
    "rcParams['figure.figsize'] = 6, 6\n",
    "rcParams['figure.dpi'] = 35\n",
    "\n",
    "mb.pl.kmer_enrichment(model, train, log_scale=False, style='scatter', ylab='t1', xlab='p1')\n"
   ],
   "metadata": {
    "collapsed": false,
    "pycharm": {
     "name": "#%%\n",
     "is_executing": true
    }
   }
  },
  {
   "cell_type": "code",
   "execution_count": null,
   "outputs": [],
   "source": [
    "rcParams['figure.figsize'] = 20, 5\n",
    "mb.pl.conv(model, n_cols=2)\n"
   ],
   "metadata": {
    "collapsed": false,
    "pycharm": {
     "name": "#%%\n",
     "is_executing": true
    }
   }
  },
  {
   "cell_type": "code",
   "execution_count": null,
   "outputs": [],
   "source": [
    "model = model_by_k\n",
    "mb.tl.scores(model, train)\n"
   ],
   "metadata": {
    "collapsed": false,
    "pycharm": {
     "name": "#%%\n",
     "is_executing": true
    }
   }
  },
  {
   "cell_type": "code",
   "execution_count": null,
   "outputs": [],
   "source": [
    "mb.pl.kmer_enrichment(model, train, log_scale=False, style='scatter', ylab='t1', xlab='p1', k=9)\n"
   ],
   "metadata": {
    "collapsed": false,
    "pycharm": {
     "name": "#%%\n",
     "is_executing": true
    }
   }
  }
 ],
 "metadata": {
  "kernelspec": {
   "name": "mubind",
   "language": "python",
   "display_name": "mubind"
  },
  "language_info": {
   "codemirror_mode": {
    "name": "ipython",
    "version": 3
   },
   "file_extension": ".py",
   "mimetype": "text/x-python",
   "name": "python",
   "nbconvert_exporter": "python",
   "pygments_lexer": "ipython3",
   "version": "3.10.4"
  },
  "vscode": {
   "interpreter": {
    "hash": "21beeb3f351c8e886a898db8b4cccf8d4f8a70210033cb08b23469d9f8df079c"
   }
  }
 },
 "nbformat": 4,
 "nbformat_minor": 5
}