{
 "cells": [
  {
   "cell_type": "code",
   "execution_count": 1,
   "id": "06723943-4395-4e31-9cc8-8e1e5bd5dc4c",
   "metadata": {
    "pycharm": {
     "name": "#%%\n"
    }
   },
   "outputs": [],
   "source": [
    "%load_ext autoreload\n",
    "%autoreload 2"
   ]
  },
  {
   "cell_type": "code",
   "execution_count": 2,
   "id": "ce3c3d59-4088-4033-98a5-ed452c8c6d38",
   "metadata": {
    "pycharm": {
     "name": "#%%\n"
    }
   },
   "outputs": [
    {
     "name": "stderr",
     "output_type": "stream",
     "text": [
      "/home/rio/miniconda3/envs/mubind/lib/python3.10/site-packages/tqdm/auto.py:22: TqdmWarning: IProgress not found. Please update jupyter and ipywidgets. See https://ipywidgets.readthedocs.io/en/stable/user_install.html\n",
      "  from .autonotebook import tqdm as notebook_tqdm\n"
     ]
    },
    {
     "name": "stdout",
     "output_type": "stream",
     "text": [
      "Using device: cuda:0\n"
     ]
    }
   ],
   "source": [
    "import mubind as mb\n",
    "import numpy as np\n",
    "import pandas as pd\n",
    "import torch\n",
    "import bindome as bd\n",
    "bd.constants.ANNOTATIONS_DIRECTORY = '../../annotations'\n",
    "# mb.models.MultiBind\n",
    "import torch.optim as topti\n",
    "import torch.utils.data as tdata\n",
    "import matplotlib.pyplot as plt\n",
    "import logomaker\n",
    "\n",
    "# Use a GPU if available, as it should be faster.\n",
    "device = torch.device(\"cuda:0\" if torch.cuda.is_available() else \"cpu\")\n",
    "print(\"Using device: \" + str(device))"
   ]
  },
  {
   "cell_type": "code",
   "execution_count": 3,
   "outputs": [],
   "source": [
    "import itertools\n",
    "\n",
    "def _mismatch(word, letters, num_mismatches):\n",
    "    for locs in itertools.combinations(range(len(word)), num_mismatches):\n",
    "        this_word = [[char] for char in word]\n",
    "        for loc in locs:\n",
    "            orig_char = word[loc]\n",
    "            this_word[loc] = [l for l in letters if l != orig_char]\n",
    "        for poss in itertools.product(*this_word):\n",
    "            yield \"\".join(poss)\n",
    "\n"
   ],
   "metadata": {
    "collapsed": false,
    "pycharm": {
     "name": "#%%\n"
    }
   }
  },
  {
   "cell_type": "code",
   "execution_count": 4,
   "outputs": [],
   "source": [
    "# motif = \"ATT\"\n",
    "# x2, y2 = mb.datasets.simulate_xy(motif, n_trials=2100, seqlen=len(motif) + 1, max_mismatches=min(len(motif), 2), counts_size=1)\n",
    "# x2, y2\n",
    "# df = pd.DataFrame(data=y2)\n",
    "# df.columns = [1]\n",
    "# df.index = x2\n",
    "# df[0] = 0\n",
    "# df = df[[0, 1]]"
   ],
   "metadata": {
    "collapsed": false,
    "pycharm": {
     "name": "#%%\n"
    }
   }
  },
  {
   "cell_type": "code",
   "execution_count": 5,
   "id": "be8b3b18-1b3d-49c8-8252-320bb1b971c5",
   "metadata": {
    "pycharm": {
     "name": "#%%\n"
    }
   },
   "outputs": [],
   "source": [
    "df = mb.bindome.datasets.ProBound.ctcf(flank_length=0)\n",
    "df = df.sort_values(1, ascending=False).reset_index(drop=True)\n",
    "# data = df.head(1000)\n",
    "# data = df.copy()\n",
    "data = df.sample(1500, random_state=50)\n",
    "# data = df.copy()\n",
    "data.index = data['seq']\n",
    "\n",
    "# remove as many nucleotides as posisble (faster training/convergence)\n",
    "data.index = data.index.astype(str).str[45:]\n",
    "\n",
    "\n",
    "# data.index = data.index.astype(str).str[-15:]\n",
    "del data['seq']"
   ]
  },
  {
   "cell_type": "code",
   "execution_count": 6,
   "outputs": [
    {
     "data": {
      "text/plain": "(1500, 2)"
     },
     "execution_count": 6,
     "metadata": {},
     "output_type": "execute_result"
    }
   ],
   "source": [
    "data.shape"
   ],
   "metadata": {
    "collapsed": false,
    "pycharm": {
     "name": "#%%\n"
    }
   }
  },
  {
   "cell_type": "code",
   "execution_count": 7,
   "id": "9fbc2e5d-53f4-4ef2-8141-be4063dca629",
   "metadata": {
    "pycharm": {
     "name": "#%%\n"
    }
   },
   "outputs": [],
   "source": [
    "data = data.sample(data.shape[0], random_state=100)"
   ]
  },
  {
   "cell_type": "code",
   "execution_count": 8,
   "outputs": [],
   "source": [
    "# # define batches\n",
    "# batch = np.random.randint(2, size=data.shape[0])"
   ],
   "metadata": {
    "collapsed": false,
    "pycharm": {
     "name": "#%%\n"
    }
   }
  },
  {
   "cell_type": "code",
   "execution_count": 9,
   "outputs": [],
   "source": [
    "# # data[batch == 0] = data[batch == 0] + 20\n",
    "# # data[batch == 1] = data[batch == 1] + 10\n",
    "# data['batch'] = batch\n",
    "#\n",
    "# data = data[data['batch'] == 1]"
   ],
   "metadata": {
    "collapsed": false,
    "pycharm": {
     "name": "#%%\n"
    }
   }
  },
  {
   "cell_type": "code",
   "execution_count": 9,
   "outputs": [],
   "source": [],
   "metadata": {
    "collapsed": false,
    "pycharm": {
     "name": "#%%\n"
    }
   }
  },
  {
   "cell_type": "code",
   "execution_count": 10,
   "id": "c7feab1b-1726-4d88-b57a-060b6c8b6323",
   "metadata": {
    "pycharm": {
     "name": "#%%\n"
    }
   },
   "outputs": [],
   "source": [
    "\n",
    "\n",
    "from matplotlib import rcParams\n",
    "rcParams['figure.figsize'] = 5, 1"
   ]
  },
  {
   "cell_type": "code",
   "execution_count": 11,
   "id": "0301f36d-c2fd-4b03-9c12-e06b7c6c1db7",
   "metadata": {
    "tags": [],
    "pycharm": {
     "name": "#%%\n"
    }
   },
   "outputs": [
    {
     "name": "stdout",
     "output_type": "stream",
     "text": [
      "loading object (# entries) 1500\n",
      "(1500, 2)\n"
     ]
    }
   ],
   "source": [
    "# TODO: skipped for now\n",
    "n_rounds = 1\n",
    "\n",
    "print('loading object (# entries)', data.shape[0])\n",
    "dataset = mb.datasets.SelexDataset(data, n_rounds=n_rounds, labels=[0, 1])\n",
    "train = tdata.DataLoader(dataset=dataset,\n",
    "                         # batch_size=256,\n",
    "                         batch_size=512,\n",
    "                         shuffle=False)"
   ]
  },
  {
   "cell_type": "code",
   "execution_count": 12,
   "id": "e1620ebe-cbb2-4bc8-a0f6-bfd60b3f117a",
   "metadata": {
    "tags": [],
    "pycharm": {
     "name": "#%%\n"
    }
   },
   "outputs": [],
   "source": [
    "import warnings\n",
    "warnings.filterwarnings('ignore')"
   ]
  },
  {
   "cell_type": "code",
   "execution_count": 13,
   "id": "49c04087-128d-4680-8b0e-c3f488fa7654",
   "metadata": {
    "tags": [],
    "pycharm": {
     "name": "#%%\n"
    }
   },
   "outputs": [],
   "source": [
    "import numpy as np"
   ]
  },
  {
   "cell_type": "code",
   "execution_count": 14,
   "outputs": [],
   "source": [
    "%load_ext line_profiler\n"
   ],
   "metadata": {
    "collapsed": false,
    "pycharm": {
     "name": "#%%\n"
    }
   }
  },
  {
   "cell_type": "code",
   "execution_count": 15,
   "outputs": [],
   "source": [
    "# %lprun -f mb.tl.train_network mb.tl.train_network(model, train, device, next_optimiser, criterion, num_epochs=20, early_stopping=100, log_each=2, dirichlet_regularization=0, exp_max=40, verbose=0)"
   ],
   "metadata": {
    "collapsed": false,
    "pycharm": {
     "name": "#%%\n"
    }
   }
  },
  {
   "cell_type": "code",
   "execution_count": 16,
   "outputs": [],
   "source": [
    "# %lprun -f mb.tl.train_iterative mb.tl.train_iterative(train, device, w=18, show_logo=False, opt_kernel_shift=0, opt_kernel_length=0, dirichlet_regularization=dirichlet_regularization, lr=[0.01, 0.01], weight_decay=[0.01, 0.001], ignore_kernel=ignore_kernel, num_epochs=2, early_stopping=100, use_dinuc=False, n_kernels=n_kernels, log_each=log_each, stop_at_kernel=None)"
   ],
   "metadata": {
    "collapsed": false,
    "pycharm": {
     "name": "#%%\n"
    }
   }
  },
  {
   "cell_type": "code",
   "execution_count": 17,
   "outputs": [
    {
     "data": {
      "text/plain": "tensor(nan)"
     },
     "execution_count": 17,
     "metadata": {},
     "output_type": "execute_result"
    }
   ],
   "source": [
    "y_pred = torch.tensor(data.copy().to_numpy() - 100)\n",
    "y_true = torch.tensor(data.copy().to_numpy() - 100)\n",
    "torch.mean(y_pred - y_true * torch.log(y_pred))\n",
    "torch.log(y_pred)\n",
    "criterion = mb.tl.PoissonLoss()\n",
    "criterion(y_pred, y_true)"
   ],
   "metadata": {
    "collapsed": false,
    "pycharm": {
     "name": "#%%\n"
    }
   }
  },
  {
   "cell_type": "code",
   "execution_count": 18,
   "id": "7475742f-41cd-4c70-bab5-eea4985f2cfa",
   "metadata": {
    "tags": [],
    "pycharm": {
     "name": "#%%\n"
    }
   },
   "outputs": [
    {
     "name": "stdout",
     "output_type": "stream",
     "text": [
      "\n",
      "\n",
      "##NEW JOB\n",
      "ignore kernel 1\n",
      "next w 15 <class 'int'>\n",
      "# rounds 1\n",
      "# batches 1\n",
      "# enr_series True\n",
      "\n",
      "Kernel to optimize 0\n",
      "\n",
      "FREEZING KERNELS\n",
      "setting grad status of kernel at 0 to 1\n",
      "setting grad status of kernel at 1 to 0\n",
      "\n",
      "\n",
      "kernels mask [0 1]\n",
      "optimizing using <class 'torch.optim.adam.Adam'> and <class 'mubind.tl.loss.PoissonLoss'> n_epochs 100 early_stopping 10\n",
      "lr= 0.01, weight_decay= 0.01, dir weight= 0\n",
      "Epoch:  3, Loss: 0.845864 , best epoch: 1 secs per epoch: 0.930 s\n",
      "Epoch:  5, Loss: 0.844696 , best epoch: 3 secs per epoch: 0.616 s\n",
      "Epoch:  7, Loss: 0.844808 , best epoch: 4 secs per epoch: 0.510 s\n",
      "Epoch:  9, Loss: 0.844735 , best epoch: 4 secs per epoch: 0.463 s\n",
      "Epoch: 11, Loss: 0.844534 , best epoch: 9 secs per epoch: 0.432 s\n",
      "Epoch: 13, Loss: 0.844523 , best epoch: 11 secs per epoch: 0.413 s\n",
      "Epoch: 15, Loss: 0.844600 , best epoch: 11 secs per epoch: 0.403 s\n",
      "Epoch: 17, Loss: 0.844612 , best epoch: 11 secs per epoch: 0.404 s\n",
      "Epoch: 19, Loss: 0.844583 , best epoch: 11 secs per epoch: 0.417 s\n",
      "Epoch: 21, Loss: 0.844563 , best epoch: 11 secs per epoch: 0.416 s\n",
      "Epoch: 22, Loss: 0.8446 , best epoch: 11 secs per epoch: 0.436 s\n",
      "early stop!\n",
      "total time: 9.150824785232544s 22\n",
      "secs per epoch: 0.436 s\n",
      "\n",
      "Kernel to optimize 1\n",
      "\n",
      "FREEZING KERNELS\n",
      "setting grad status of kernel at 0 to 0\n",
      "setting grad status of kernel at 1 to 1\n",
      "\n",
      "\n",
      "kernels mask [0 0]\n",
      "optimizing using <class 'torch.optim.adam.Adam'> and <class 'mubind.tl.loss.PoissonLoss'> n_epochs 100 early_stopping 100\n",
      "lr= 0.01, weight_decay= 0.001, dir weight= 0\n",
      "Epoch:  3, Loss: 1.397067 , best epoch: 1 secs per epoch: 0.491 s\n",
      "Epoch:  5, Loss: 1.139981 , best epoch: 3 secs per epoch: 0.446 s\n",
      "Epoch:  7, Loss: 0.961190 , best epoch: 5 secs per epoch: 0.411 s\n",
      "Epoch:  9, Loss: 0.875408 , best epoch: 7 secs per epoch: 0.391 s\n",
      "Epoch: 11, Loss: 0.849252 , best epoch: 9 secs per epoch: 0.384 s\n",
      "Epoch: 13, Loss: 0.844803 , best epoch: 11 secs per epoch: 0.378 s\n",
      "Epoch: 15, Loss: 0.845301 , best epoch: 12 secs per epoch: 0.375 s\n",
      "Epoch: 17, Loss: 0.846070 , best epoch: 12 secs per epoch: 0.370 s\n",
      "Epoch: 19, Loss: 0.846260 , best epoch: 12 secs per epoch: 0.363 s\n",
      "Epoch: 21, Loss: 0.845982 , best epoch: 12 secs per epoch: 0.374 s\n",
      "Epoch: 23, Loss: 0.845502 , best epoch: 12 secs per epoch: 0.367 s\n",
      "Epoch: 25, Loss: 0.845030 , best epoch: 12 secs per epoch: 0.368 s\n",
      "Epoch: 27, Loss: 0.844675 , best epoch: 12 secs per epoch: 0.375 s\n",
      "Epoch: 29, Loss: 0.844464 , best epoch: 27 secs per epoch: 0.374 s\n",
      "Epoch: 31, Loss: 0.844369 , best epoch: 29 secs per epoch: 0.372 s\n",
      "Epoch: 33, Loss: 0.844342 , best epoch: 31 secs per epoch: 0.376 s\n",
      "Epoch: 35, Loss: 0.844342 , best epoch: 33 secs per epoch: 0.375 s\n",
      "Epoch: 37, Loss: 0.844342 , best epoch: 33 secs per epoch: 0.372 s\n",
      "Epoch: 39, Loss: 0.844332 , best epoch: 37 secs per epoch: 0.369 s\n",
      "Epoch: 41, Loss: 0.844312 , best epoch: 39 secs per epoch: 0.368 s\n",
      "Epoch: 43, Loss: 0.844286 , best epoch: 41 secs per epoch: 0.369 s\n",
      "Epoch: 45, Loss: 0.844258 , best epoch: 43 secs per epoch: 0.370 s\n",
      "Epoch: 47, Loss: 0.844229 , best epoch: 45 secs per epoch: 0.370 s\n",
      "Epoch: 49, Loss: 0.844201 , best epoch: 47 secs per epoch: 0.368 s\n",
      "Epoch: 51, Loss: 0.844174 , best epoch: 49 secs per epoch: 0.370 s\n",
      "Epoch: 53, Loss: 0.844148 , best epoch: 51 secs per epoch: 0.370 s\n",
      "Epoch: 55, Loss: 0.844122 , best epoch: 53 secs per epoch: 0.370 s\n",
      "Epoch: 57, Loss: 0.844096 , best epoch: 55 secs per epoch: 0.368 s\n",
      "Epoch: 59, Loss: 0.844071 , best epoch: 57 secs per epoch: 0.367 s\n",
      "Epoch: 61, Loss: 0.844044 , best epoch: 59 secs per epoch: 0.368 s\n",
      "Epoch: 63, Loss: 0.844018 , best epoch: 61 secs per epoch: 0.369 s\n",
      "Epoch: 65, Loss: 0.843991 , best epoch: 63 secs per epoch: 0.370 s\n",
      "Epoch: 67, Loss: 0.843964 , best epoch: 65 secs per epoch: 0.370 s\n",
      "Epoch: 69, Loss: 0.843936 , best epoch: 67 secs per epoch: 0.370 s\n",
      "Epoch: 71, Loss: 0.843907 , best epoch: 69 secs per epoch: 0.369 s\n",
      "Epoch: 73, Loss: 0.843878 , best epoch: 71 secs per epoch: 0.368 s\n",
      "Epoch: 75, Loss: 0.843849 , best epoch: 73 secs per epoch: 0.367 s\n",
      "Epoch: 77, Loss: 0.843820 , best epoch: 75 secs per epoch: 0.367 s\n",
      "Epoch: 79, Loss: 0.843790 , best epoch: 77 secs per epoch: 0.366 s\n",
      "Epoch: 81, Loss: 0.843760 , best epoch: 79 secs per epoch: 0.366 s\n",
      "Epoch: 83, Loss: 0.843730 , best epoch: 81 secs per epoch: 0.366 s\n",
      "Epoch: 85, Loss: 0.843700 , best epoch: 83 secs per epoch: 0.366 s\n",
      "Epoch: 87, Loss: 0.843669 , best epoch: 85 secs per epoch: 0.366 s\n",
      "Epoch: 89, Loss: 0.843638 , best epoch: 87 secs per epoch: 0.366 s\n",
      "Epoch: 91, Loss: 0.843607 , best epoch: 89 secs per epoch: 0.366 s\n",
      "Epoch: 93, Loss: 0.843576 , best epoch: 91 secs per epoch: 0.366 s\n",
      "Epoch: 95, Loss: 0.843545 , best epoch: 93 secs per epoch: 0.367 s\n",
      "Epoch: 97, Loss: 0.843513 , best epoch: 95 secs per epoch: 0.369 s\n",
      "Epoch: 99, Loss: 0.843481 , best epoch: 97 secs per epoch: 0.371 s\n",
      "total time: 37.038294315338135s 100\n",
      "secs per epoch: 0.374 s\n",
      "\n",
      "\n",
      "final refinement step (after shift)...\n",
      "\n",
      "unfreezing all layers for final refinement\n",
      "kernel grad (0) = 1 \n",
      "kernel grad (1) = 1 \n",
      "\n",
      "kernels mask [0 0]\n",
      "kernels mask [0 0]\n",
      "optimizing using <class 'torch.optim.adam.Adam'> and <class 'mubind.tl.loss.PoissonLoss'> n_epochs 100 early_stopping 100\n",
      "lr= 0.01, weight_decay= 0.001, dir weight= 0\n",
      "Epoch:  3, Loss: 0.843459 , best epoch: 1 secs per epoch: 0.367 s\n",
      "Epoch:  5, Loss: 0.843204 , best epoch: 1 secs per epoch: 0.356 s\n",
      "Epoch:  7, Loss: 0.842821 , best epoch: 5 secs per epoch: 0.355 s\n",
      "Epoch:  9, Loss: 0.842723 , best epoch: 7 secs per epoch: 0.353 s\n",
      "Epoch: 11, Loss: 0.842560 , best epoch: 9 secs per epoch: 0.349 s\n",
      "Epoch: 13, Loss: 0.842342 , best epoch: 11 secs per epoch: 0.345 s\n",
      "Epoch: 15, Loss: 0.842248 , best epoch: 13 secs per epoch: 0.352 s\n",
      "Epoch: 17, Loss: 0.842156 , best epoch: 15 secs per epoch: 0.356 s\n",
      "Epoch: 19, Loss: 0.842038 , best epoch: 17 secs per epoch: 0.366 s\n",
      "Epoch: 21, Loss: 0.841980 , best epoch: 19 secs per epoch: 0.364 s\n",
      "Epoch: 23, Loss: 0.841926 , best epoch: 21 secs per epoch: 0.360 s\n",
      "Epoch: 25, Loss: 0.841865 , best epoch: 23 secs per epoch: 0.367 s\n",
      "Epoch: 27, Loss: 0.841830 , best epoch: 25 secs per epoch: 0.369 s\n",
      "Epoch: 29, Loss: 0.841796 , best epoch: 27 secs per epoch: 0.370 s\n",
      "Epoch: 31, Loss: 0.841760 , best epoch: 29 secs per epoch: 0.369 s\n",
      "Epoch: 33, Loss: 0.841736 , best epoch: 31 secs per epoch: 0.369 s\n",
      "Epoch: 35, Loss: 0.841709 , best epoch: 33 secs per epoch: 0.368 s\n",
      "Epoch: 37, Loss: 0.841683 , best epoch: 35 secs per epoch: 0.373 s\n",
      "Epoch: 39, Loss: 0.841660 , best epoch: 37 secs per epoch: 0.372 s\n",
      "Epoch: 41, Loss: 0.841634 , best epoch: 39 secs per epoch: 0.372 s\n",
      "Epoch: 43, Loss: 0.841609 , best epoch: 41 secs per epoch: 0.377 s\n",
      "Epoch: 45, Loss: 0.841582 , best epoch: 43 secs per epoch: 0.374 s\n",
      "Epoch: 47, Loss: 0.841554 , best epoch: 45 secs per epoch: 0.373 s\n",
      "Epoch: 49, Loss: 0.841524 , best epoch: 47 secs per epoch: 0.375 s\n",
      "Epoch: 51, Loss: 0.841491 , best epoch: 49 secs per epoch: 0.376 s\n",
      "Epoch: 53, Loss: 0.841456 , best epoch: 51 secs per epoch: 0.375 s\n",
      "Epoch: 55, Loss: 0.841419 , best epoch: 53 secs per epoch: 0.375 s\n",
      "Epoch: 57, Loss: 0.841378 , best epoch: 55 secs per epoch: 0.375 s\n",
      "Epoch: 59, Loss: 0.841334 , best epoch: 57 secs per epoch: 0.374 s\n",
      "Epoch: 61, Loss: 0.841287 , best epoch: 59 secs per epoch: 0.377 s\n",
      "Epoch: 63, Loss: 0.841235 , best epoch: 61 secs per epoch: 0.377 s\n",
      "Epoch: 65, Loss: 0.841180 , best epoch: 63 secs per epoch: 0.376 s\n",
      "Epoch: 67, Loss: 0.841120 , best epoch: 65 secs per epoch: 0.375 s\n",
      "Epoch: 69, Loss: 0.841055 , best epoch: 67 secs per epoch: 0.374 s\n",
      "Epoch: 71, Loss: 0.840985 , best epoch: 69 secs per epoch: 0.372 s\n",
      "Epoch: 73, Loss: 0.840909 , best epoch: 71 secs per epoch: 0.371 s\n",
      "Epoch: 75, Loss: 0.840828 , best epoch: 73 secs per epoch: 0.371 s\n",
      "Epoch: 77, Loss: 0.840740 , best epoch: 75 secs per epoch: 0.370 s\n",
      "Epoch: 79, Loss: 0.840646 , best epoch: 77 secs per epoch: 0.369 s\n",
      "Epoch: 81, Loss: 0.840545 , best epoch: 79 secs per epoch: 0.368 s\n",
      "Epoch: 83, Loss: 0.840437 , best epoch: 81 secs per epoch: 0.367 s\n",
      "Epoch: 85, Loss: 0.840321 , best epoch: 83 secs per epoch: 0.366 s\n",
      "Epoch: 87, Loss: 0.840198 , best epoch: 85 secs per epoch: 0.365 s\n",
      "Epoch: 89, Loss: 0.840067 , best epoch: 87 secs per epoch: 0.364 s\n",
      "Epoch: 91, Loss: 0.839928 , best epoch: 89 secs per epoch: 0.364 s\n",
      "Epoch: 93, Loss: 0.839781 , best epoch: 91 secs per epoch: 0.363 s\n",
      "Epoch: 95, Loss: 0.839626 , best epoch: 93 secs per epoch: 0.362 s\n",
      "Epoch: 97, Loss: 0.839464 , best epoch: 95 secs per epoch: 0.362 s\n",
      "Epoch: 99, Loss: 0.839293 , best epoch: 97 secs per epoch: 0.362 s\n",
      "total time: 36.07633423805237s 100\n",
      "secs per epoch: 0.364 s\n",
      "best loss 0.8392055630683899\n",
      "##DONE....\n",
      "\n",
      "\n",
      "total time: 83.564 s\n"
     ]
    }
   ],
   "source": [
    "# assign batch and data type\n",
    "\n",
    "# data['batch'] = 0\n",
    "# data['is_count_data'] = 1\n",
    "# n_batches=3\n",
    "\n",
    "dirichlet_regularization = 0\n",
    "# for dirichlet_regularization_log in range(-5, 3):\n",
    "\n",
    "n_epochs = 100\n",
    "log_each = 2\n",
    "n_kernels = 2\n",
    "w = 15 # min(len(motif), 6)\n",
    "opt_kernel_shift=1\n",
    "opt_kernel_length=1\n",
    "\n",
    "from matplotlib import rcParams\n",
    "rcParams['figure.figsize'] = 8, 1\n",
    "\n",
    "import time\n",
    "t0 = time.time()\n",
    "\n",
    "criterion = mb.tl.PoissonLoss()\n",
    "\n",
    "for ignore_kernel in [1]: # [0, 1]:\n",
    "    print('\\n\\n##NEW JOB')\n",
    "    print('ignore kernel', ignore_kernel)\n",
    "    model_by_k, res_next = mb.tl.train_iterative(train, device, w=w, show_logo=0, criterion=criterion,\n",
    "                                                 opt_kernel_shift=0, opt_kernel_length=0,\n",
    "                                                 dirichlet_regularization=dirichlet_regularization, # 10 ** dirichlet_regularization_log,\n",
    "                                                 lr=[0.01, 0.01], weight_decay=[0.01, 0.001], ignore_kernel=ignore_kernel,\n",
    "                                                 num_epochs=n_epochs, early_stopping=[10, 100], use_dinuc=False, # optimiser=torch.optim.LBFGS,\n",
    "                                                 n_kernels=n_kernels, log_each=log_each, stop_at_kernel=None) #  seed=seed) # seeds.index[0]) #\n",
    "    print('##DONE....\\n\\n')\n",
    "\n",
    "\n",
    "print('total time: %.3f s' % ((time.time() - t0)))\n",
    "# res = []\n",
    "# model_by_k = {}\n",
    "\n",
    "model = model_by_k\n",
    "\n"
   ]
  },
  {
   "cell_type": "markdown",
   "id": "1dbd5c33-a070-43f4-bc65-d51aa2b4cc02",
   "metadata": {
    "pycharm": {
     "name": "#%% md\n"
    }
   },
   "source": [
    "### We can visualize the overall results obtained by the network, once the training is finished"
   ]
  },
  {
   "cell_type": "code",
   "execution_count": 19,
   "outputs": [],
   "source": [
    "import mubind as mb"
   ],
   "metadata": {
    "collapsed": false,
    "pycharm": {
     "name": "#%%\n"
    }
   }
  },
  {
   "cell_type": "code",
   "execution_count": 20,
   "outputs": [
    {
     "data": {
      "text/plain": "{'r2_counts': 0.3013869884129764,\n 'r2_foldchange': 0.01345691582487718,\n 'r2_enr': -0.06106758185115435,\n 'pearson_foldchange': 0.12573660304373807}"
     },
     "execution_count": 20,
     "metadata": {},
     "output_type": "execute_result"
    }
   ],
   "source": [
    "model = model_by_k\n",
    "mb.tl.scores(model, train)\n"
   ],
   "metadata": {
    "collapsed": false,
    "pycharm": {
     "name": "#%%\n"
    }
   }
  },
  {
   "cell_type": "code",
   "execution_count": 21,
   "outputs": [
    {
     "data": {
      "text/plain": "           t0   t1        p0        p1  enr_pred  enr_obs    f_pred     f_obs\nACTTCCAT  0.0  1.0  0.560630  0.439370  0.922301      2.0 -0.035128  0.301030\nCTTCCATC  0.0  1.0  0.560630  0.439370  0.922301      2.0 -0.035128  0.301030\nTGATGGAA  0.0  1.0  0.560630  0.439370  0.922301      2.0 -0.035128  0.301030\nGTGATGGA  0.0  3.0  1.697752  1.302248  0.853395      4.0 -0.068850  0.602060\nCCATCACG  1.0  2.0  1.546589  1.453411  0.963410      1.5 -0.016189  0.176091\n...       ...  ...       ...       ...       ...      ...       ...       ...\nCCTATCTA  1.0  0.0  0.554490  0.445510  0.929894      0.5 -0.031567 -0.301030\nAGATAGGA  1.0  0.0  0.554490  0.445510  0.929894      0.5 -0.031567 -0.301030\nGATAGGAC  1.0  0.0  0.554490  0.445510  0.929894      0.5 -0.031567 -0.301030\nAGTCCTAT  1.0  0.0  0.554490  0.445510  0.929894      0.5 -0.031567 -0.301030\nGAGTCCTA  1.0  0.0  0.554490  0.445510  0.929894      0.5 -0.031567 -0.301030\n\n[18052 rows x 8 columns]",
      "text/html": "<div>\n<style scoped>\n    .dataframe tbody tr th:only-of-type {\n        vertical-align: middle;\n    }\n\n    .dataframe tbody tr th {\n        vertical-align: top;\n    }\n\n    .dataframe thead th {\n        text-align: right;\n    }\n</style>\n<table border=\"1\" class=\"dataframe\">\n  <thead>\n    <tr style=\"text-align: right;\">\n      <th></th>\n      <th>t0</th>\n      <th>t1</th>\n      <th>p0</th>\n      <th>p1</th>\n      <th>enr_pred</th>\n      <th>enr_obs</th>\n      <th>f_pred</th>\n      <th>f_obs</th>\n    </tr>\n  </thead>\n  <tbody>\n    <tr>\n      <th>ACTTCCAT</th>\n      <td>0.0</td>\n      <td>1.0</td>\n      <td>0.560630</td>\n      <td>0.439370</td>\n      <td>0.922301</td>\n      <td>2.0</td>\n      <td>-0.035128</td>\n      <td>0.301030</td>\n    </tr>\n    <tr>\n      <th>CTTCCATC</th>\n      <td>0.0</td>\n      <td>1.0</td>\n      <td>0.560630</td>\n      <td>0.439370</td>\n      <td>0.922301</td>\n      <td>2.0</td>\n      <td>-0.035128</td>\n      <td>0.301030</td>\n    </tr>\n    <tr>\n      <th>TGATGGAA</th>\n      <td>0.0</td>\n      <td>1.0</td>\n      <td>0.560630</td>\n      <td>0.439370</td>\n      <td>0.922301</td>\n      <td>2.0</td>\n      <td>-0.035128</td>\n      <td>0.301030</td>\n    </tr>\n    <tr>\n      <th>GTGATGGA</th>\n      <td>0.0</td>\n      <td>3.0</td>\n      <td>1.697752</td>\n      <td>1.302248</td>\n      <td>0.853395</td>\n      <td>4.0</td>\n      <td>-0.068850</td>\n      <td>0.602060</td>\n    </tr>\n    <tr>\n      <th>CCATCACG</th>\n      <td>1.0</td>\n      <td>2.0</td>\n      <td>1.546589</td>\n      <td>1.453411</td>\n      <td>0.963410</td>\n      <td>1.5</td>\n      <td>-0.016189</td>\n      <td>0.176091</td>\n    </tr>\n    <tr>\n      <th>...</th>\n      <td>...</td>\n      <td>...</td>\n      <td>...</td>\n      <td>...</td>\n      <td>...</td>\n      <td>...</td>\n      <td>...</td>\n      <td>...</td>\n    </tr>\n    <tr>\n      <th>CCTATCTA</th>\n      <td>1.0</td>\n      <td>0.0</td>\n      <td>0.554490</td>\n      <td>0.445510</td>\n      <td>0.929894</td>\n      <td>0.5</td>\n      <td>-0.031567</td>\n      <td>-0.301030</td>\n    </tr>\n    <tr>\n      <th>AGATAGGA</th>\n      <td>1.0</td>\n      <td>0.0</td>\n      <td>0.554490</td>\n      <td>0.445510</td>\n      <td>0.929894</td>\n      <td>0.5</td>\n      <td>-0.031567</td>\n      <td>-0.301030</td>\n    </tr>\n    <tr>\n      <th>GATAGGAC</th>\n      <td>1.0</td>\n      <td>0.0</td>\n      <td>0.554490</td>\n      <td>0.445510</td>\n      <td>0.929894</td>\n      <td>0.5</td>\n      <td>-0.031567</td>\n      <td>-0.301030</td>\n    </tr>\n    <tr>\n      <th>AGTCCTAT</th>\n      <td>1.0</td>\n      <td>0.0</td>\n      <td>0.554490</td>\n      <td>0.445510</td>\n      <td>0.929894</td>\n      <td>0.5</td>\n      <td>-0.031567</td>\n      <td>-0.301030</td>\n    </tr>\n    <tr>\n      <th>GAGTCCTA</th>\n      <td>1.0</td>\n      <td>0.0</td>\n      <td>0.554490</td>\n      <td>0.445510</td>\n      <td>0.929894</td>\n      <td>0.5</td>\n      <td>-0.031567</td>\n      <td>-0.301030</td>\n    </tr>\n  </tbody>\n</table>\n<p>18052 rows × 8 columns</p>\n</div>"
     },
     "execution_count": 21,
     "metadata": {},
     "output_type": "execute_result"
    }
   ],
   "source": [
    "counts = mb.tl.predict(model, train)\n",
    "counts"
   ],
   "metadata": {
    "collapsed": false,
    "pycharm": {
     "name": "#%%\n"
    }
   }
  },
  {
   "cell_type": "code",
   "execution_count": 22,
   "outputs": [
    {
     "data": {
      "text/plain": "<Figure size 800x100 with 1 Axes>",
      "image/png": "[encoded data removed]"
     },
     "metadata": {},
     "output_type": "display_data"
    },
    {
     "data": {
      "text/plain": "{'r2_counts': 0.3013869884129764,\n 'r2_foldchange': 0.01345691582487718,\n 'r2_enr': -0.06106758185115435,\n 'pearson_foldchange': 0.12573660304373807}"
     },
     "execution_count": 22,
     "metadata": {},
     "output_type": "execute_result"
    }
   ],
   "source": [
    "mb.pl.kmer_enrichment(model, train, log_scale=False, style='scatter', ylab='t1', xlab='p1')\n"
   ],
   "metadata": {
    "collapsed": false,
    "pycharm": {
     "name": "#%%\n"
    }
   }
  },
  {
   "cell_type": "code",
   "execution_count": 23,
   "outputs": [
    {
     "name": "stdout",
     "output_type": "stream",
     "text": [
      "\n",
      "#activities\n",
      "[[[1.0000745  0.90032023]\n",
      "  [0.99999857 0.619087  ]]]\n",
      "\n",
      "#log_etas\n",
      "Parameter containing:\n",
      "tensor([[ 0.7396, -0.7396]], device='cuda:0', requires_grad=True)\n"
     ]
    },
    {
     "data": {
      "text/plain": "<Figure size 800x100 with 1 Axes>",
      "image/png": "[encoded data removed]"
     },
     "metadata": {},
     "output_type": "display_data"
    }
   ],
   "source": [
    "mb.pl.conv_mono(model)\n"
   ],
   "metadata": {
    "collapsed": false,
    "pycharm": {
     "name": "#%%\n"
    }
   }
  }
 ],
 "metadata": {
  "kernelspec": {
   "display_name": "Python [conda env:mubind]",
   "language": "python",
   "name": "conda-env-mubind-py"
  },
  "language_info": {
   "codemirror_mode": {
    "name": "ipython",
    "version": 3
   },
   "file_extension": ".py",
   "mimetype": "text/x-python",
   "name": "python",
   "nbconvert_exporter": "python",
   "pygments_lexer": "ipython3",
   "version": "3.10.4"
  },
  "vscode": {
   "interpreter": {
    "hash": "21beeb3f351c8e886a898db8b4cccf8d4f8a70210033cb08b23469d9f8df079c"
   }
  }
 },
 "nbformat": 4,
 "nbformat_minor": 5
}