{
 "cells": [
  {
   "cell_type": "code",
   "execution_count": 1,
   "id": "06723943-4395-4e31-9cc8-8e1e5bd5dc4c",
   "metadata": {},
   "outputs": [],
   "source": [
    "%load_ext autoreload\n",
    "%autoreload 2"
   ]
  },
  {
   "cell_type": "code",
   "execution_count": 2,
   "id": "ce3c3d59-4088-4033-98a5-ed452c8c6d38",
   "metadata": {},
   "outputs": [
    {
     "name": "stderr",
     "output_type": "stream",
     "text": [
      "/home/rio/miniconda3/envs/multibind/lib/python3.10/site-packages/tqdm/auto.py:22: TqdmWarning: IProgress not found. Please update jupyter and ipywidgets. See https://ipywidgets.readthedocs.io/en/stable/user_install.html\n",
      "  from .autonotebook import tqdm as notebook_tqdm\n"
     ]
    },
    {
     "name": "stdout",
     "output_type": "stream",
     "text": [
      "Using device: cuda:0\n"
     ]
    }
   ],
   "source": [
    "import multibind as mb\n",
    "import numpy as np\n",
    "import pandas as pd\n",
    "import torch\n",
    "import bindome as bd\n",
    "bd.constants.ANNOTATIONS_DIRECTORY = 'annotations'\n",
    "# mb.models.MultiBind\n",
    "import torch.optim as topti\n",
    "import torch.utils.data as tdata\n",
    "import matplotlib.pyplot as plt\n",
    "import logomaker\n",
    "\n",
    "# Use a GPU if available, as it should be faster.\n",
    "device = torch.device(\"cuda:0\" if torch.cuda.is_available() else \"cpu\")\n",
    "print(\"Using device: \" + str(device))"
   ]
  },
  {
   "cell_type": "code",
   "execution_count": 3,
   "id": "b9ef7c74-711d-4bca-96d4-73291ebf1212",
   "metadata": {},
   "outputs": [],
   "source": [
    "df = mb.bindome.datasets.ProBound.ctcf()\n",
    "df = df.sort_values(1, ascending=False).reset_index(drop=True)"
   ]
  },
  {
   "cell_type": "code",
   "execution_count": 4,
   "id": "e89b78ee-a836-42e2-86a6-bc1fc1696ed3",
   "metadata": {},
   "outputs": [
    {
     "data": {
      "text/html": [
       "<div>\n",
       "<style scoped>\n",
       "    .dataframe tbody tr th:only-of-type {\n",
       "        vertical-align: middle;\n",
       "    }\n",
       "\n",
       "    .dataframe tbody tr th {\n",
       "        vertical-align: top;\n",
       "    }\n",
       "\n",
       "    .dataframe thead th {\n",
       "        text-align: right;\n",
       "    }\n",
       "</style>\n",
       "<table border=\"1\" class=\"dataframe\">\n",
       "  <thead>\n",
       "    <tr style=\"text-align: right;\">\n",
       "      <th></th>\n",
       "      <th>seq</th>\n",
       "      <th>0</th>\n",
       "      <th>1</th>\n",
       "    </tr>\n",
       "  </thead>\n",
       "  <tbody>\n",
       "    <tr>\n",
       "      <th>0</th>\n",
       "      <td>TATTCCATGTAGACCGGCCATTGGACTATG</td>\n",
       "      <td>0</td>\n",
       "      <td>4</td>\n",
       "    </tr>\n",
       "    <tr>\n",
       "      <th>1</th>\n",
       "      <td>CCCTAGCGTTGATGGTATCGTAAGTGCGTC</td>\n",
       "      <td>0</td>\n",
       "      <td>4</td>\n",
       "    </tr>\n",
       "    <tr>\n",
       "      <th>2</th>\n",
       "      <td>TAATTAGTGGCTGCTTGTCGGAATGGGCAG</td>\n",
       "      <td>0</td>\n",
       "      <td>4</td>\n",
       "    </tr>\n",
       "    <tr>\n",
       "      <th>3</th>\n",
       "      <td>GAGGGGGCGTTACGCGTTGTGTAGACCTAA</td>\n",
       "      <td>0</td>\n",
       "      <td>4</td>\n",
       "    </tr>\n",
       "    <tr>\n",
       "      <th>4</th>\n",
       "      <td>AGGACCTCAGGTGGAATCTTTTTACTATTG</td>\n",
       "      <td>0</td>\n",
       "      <td>4</td>\n",
       "    </tr>\n",
       "    <tr>\n",
       "      <th>...</th>\n",
       "      <td>...</td>\n",
       "      <td>...</td>\n",
       "      <td>...</td>\n",
       "    </tr>\n",
       "    <tr>\n",
       "      <th>120091</th>\n",
       "      <td>ATATCAGAGAGACAGGACTTGTGACTTTGT</td>\n",
       "      <td>1</td>\n",
       "      <td>0</td>\n",
       "    </tr>\n",
       "    <tr>\n",
       "      <th>120092</th>\n",
       "      <td>ATATCAGAGGGCGTTCGAGGCTTGCTAGGC</td>\n",
       "      <td>1</td>\n",
       "      <td>0</td>\n",
       "    </tr>\n",
       "    <tr>\n",
       "      <th>120093</th>\n",
       "      <td>GGATGGGAGTGCCTTTTGGATGAAAGATTG</td>\n",
       "      <td>1</td>\n",
       "      <td>0</td>\n",
       "    </tr>\n",
       "    <tr>\n",
       "      <th>120094</th>\n",
       "      <td>GGATGGCTTGAGTAACCAAGGATTGCGTGG</td>\n",
       "      <td>1</td>\n",
       "      <td>0</td>\n",
       "    </tr>\n",
       "    <tr>\n",
       "      <th>120095</th>\n",
       "      <td>GCCTTTAAAGCGCTTTAGCATTAAAACGTT</td>\n",
       "      <td>1</td>\n",
       "      <td>0</td>\n",
       "    </tr>\n",
       "  </tbody>\n",
       "</table>\n",
       "<p>120096 rows × 3 columns</p>\n",
       "</div>"
      ],
      "text/plain": [
       "                                   seq  0  1\n",
       "0       TATTCCATGTAGACCGGCCATTGGACTATG  0  4\n",
       "1       CCCTAGCGTTGATGGTATCGTAAGTGCGTC  0  4\n",
       "2       TAATTAGTGGCTGCTTGTCGGAATGGGCAG  0  4\n",
       "3       GAGGGGGCGTTACGCGTTGTGTAGACCTAA  0  4\n",
       "4       AGGACCTCAGGTGGAATCTTTTTACTATTG  0  4\n",
       "...                                ... .. ..\n",
       "120091  ATATCAGAGAGACAGGACTTGTGACTTTGT  1  0\n",
       "120092  ATATCAGAGGGCGTTCGAGGCTTGCTAGGC  1  0\n",
       "120093  GGATGGGAGTGCCTTTTGGATGAAAGATTG  1  0\n",
       "120094  GGATGGCTTGAGTAACCAAGGATTGCGTGG  1  0\n",
       "120095  GCCTTTAAAGCGCTTTAGCATTAAAACGTT  1  0\n",
       "\n",
       "[120096 rows x 3 columns]"
      ]
     },
     "execution_count": 4,
     "metadata": {},
     "output_type": "execute_result"
    }
   ],
   "source": [
    "df"
   ]
  },
  {
   "cell_type": "code",
   "execution_count": 5,
   "id": "be8b3b18-1b3d-49c8-8252-320bb1b971c5",
   "metadata": {},
   "outputs": [],
   "source": [
    "# data = df.head(1000)\n",
    "data = df.sample(n=10000)\n",
    "# data = df.copy()"
   ]
  },
  {
   "cell_type": "code",
   "execution_count": 6,
   "id": "adee87f5-1b4d-4cd1-9d92-5b9082be9159",
   "metadata": {},
   "outputs": [
    {
     "data": {
      "text/plain": [
       "{0, 1, 2}"
      ]
     },
     "execution_count": 6,
     "metadata": {},
     "output_type": "execute_result"
    }
   ],
   "source": [
    "set(data[0])"
   ]
  },
  {
   "cell_type": "code",
   "execution_count": 7,
   "id": "fbbc152f-3770-4178-b34b-3b0484c18c21",
   "metadata": {},
   "outputs": [],
   "source": [
    "n_rounds = 1"
   ]
  },
  {
   "cell_type": "code",
   "execution_count": 8,
   "id": "c7feab1b-1726-4d88-b57a-060b6c8b6323",
   "metadata": {},
   "outputs": [],
   "source": [
    "from matplotlib import rcParams\n",
    "rcParams['figure.figsize'] = 5, 1"
   ]
  },
  {
   "cell_type": "code",
   "execution_count": 10,
   "id": "0301f36d-c2fd-4b03-9c12-e06b7c6c1db7",
   "metadata": {},
   "outputs": [
    {
     "name": "stdout",
     "output_type": "stream",
     "text": [
      "loading object (# entries) 10000\n"
     ]
    }
   ],
   "source": [
    "print('loading object (# entries)', data.shape[0])\n",
    "dataset = mb.datasets.SelexDataset(data, n_rounds=n_rounds)\n",
    "train = tdata.DataLoader(dataset=dataset, batch_size=10000, shuffle=True)"
   ]
  },
  {
   "cell_type": "code",
   "execution_count": 11,
   "id": "e1620ebe-cbb2-4bc8-a0f6-bfd60b3f117a",
   "metadata": {},
   "outputs": [],
   "source": [
    "# train = tdata.DataLoader(dataset=dataset, batch_size=256, shuffle=True)"
   ]
  },
  {
   "cell_type": "code",
   "execution_count": 14,
   "id": "49c04087-128d-4680-8b0e-c3f488fa7654",
   "metadata": {},
   "outputs": [],
   "source": [
    "import numpy as np"
   ]
  },
  {
   "cell_type": "code",
   "execution_count": null,
   "id": "b8266990-cdf7-4d75-839e-b0ed70fb69d1",
   "metadata": {
    "tags": []
   },
   "outputs": [
    {
     "name": "stdout",
     "output_type": "stream",
     "text": [
      "# rounds 1\n",
      "# batches 1\n",
      "# enr_series True\n",
      "next w 14\n",
      "kernel to optimize 0\n",
      "\n",
      "Freezing kernels\n",
      "setting grad status of kernel at 0 to 1\n",
      "setting grad status of kernel at 1 to 0\n",
      "mono grad 1 None\n",
      "di grad 1 None\n",
      "setting grad status of kernel at 2 to 0\n",
      "mono grad 2 None\n",
      "di grad 2 None\n",
      "\n",
      "\n",
      "before kernel optimization.\n",
      "log_etas\n",
      "Parameter containing:\n",
      "tensor([[0., 0.]], device='cuda:0', requires_grad=True)\n",
      "activities\n",
      "[[[1. 1.]\n",
      "  [1. 1.]\n",
      "  [1. 1.]]]\n"
     ]
    },
    {
     "data": {
      "image/png": "[encoded data removed]",
      "text/plain": [
       "<Figure size 576x72 with 2 Axes>"
      ]
     },
     "metadata": {
      "needs_background": "light"
     },
     "output_type": "display_data"
    },
    {
     "name": "stdout",
     "output_type": "stream",
     "text": [
      "kernels mask [0, 1, 1]\n",
      "optimizing using <class 'torch.optim.adam.Adam'> and <class 'multibind.tl.loss.PoissonLoss'>\n",
      "lr= 1\n",
      "weight_decay= 0.01\n",
      "dir weight 0.01\n",
      "Epoch:  1, Loss: 2.0218 , best epoch: -1 secs per epoch: 0.077 s\n",
      "Epoch: 11, Loss: 0.8569 , best epoch: 9 secs per epoch: 0.129 s\n",
      "Epoch: 21, Loss: 0.8848 , best epoch: 17 secs per epoch: 0.128 s\n",
      "Epoch: 31, Loss: 0.8680 , best epoch: 24 secs per epoch: 0.127 s\n",
      "Epoch: 41, Loss: 0.8603 , best epoch: 24 secs per epoch: 0.127 s\n",
      "Epoch: 51, Loss: 0.8453 , best epoch: 49 secs per epoch: 0.126 s\n"
     ]
    }
   ],
   "source": [
    "# assign batch and data type\n",
    "\n",
    "# data['batch'] = 0\n",
    "# data['is_count_data'] = 1\n",
    "# n_batches=3\n",
    "\n",
    "dirichlet_regularization_log = -2\n",
    "# for dirichlet_regularization_log in range(-5, 3):\n",
    "\n",
    "from matplotlib import rcParams\n",
    "rcParams['figure.figsize'] = 8, 1\n",
    "model_by_k_next, res_next = mb.tl.train_iterative(train, device, min_w=14, show_logo=True, optimize_motif_shift=False,\n",
    "                                                  dirichlet_regularization=10 ** dirichlet_regularization_log,\n",
    "                                                  lr=[1, 0.1, 0.1], weight_decay=[0.01, 0.01, 0.01],\n",
    "                                                  num_epochs=1000, early_stopping=50, use_dinuc=False, # optimiser=torch.optim.LBFGS,\n",
    "                                                  max_w=15, n_kernels=3, log_each=10) #  seed=seed) # seeds.index[0]) # \n",
    "print('done....')\n",
    "# res = []\n",
    "# model_by_k = {}\n"
   ]
  }
 ],
 "metadata": {
  "kernelspec": {
   "display_name": "multibind",
   "language": "python",
   "name": "multibind"
  },
  "language_info": {
   "codemirror_mode": {
    "name": "ipython",
    "version": 3
   },
   "file_extension": ".py",
   "mimetype": "text/x-python",
   "name": "python",
   "nbconvert_exporter": "python",
   "pygments_lexer": "ipython3",
   "version": "3.10.4"
  }
 },
 "nbformat": 4,
 "nbformat_minor": 5
}
