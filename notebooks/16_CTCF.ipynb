{
 "cells": [
  {
   "cell_type": "code",
   "execution_count": 1,
   "id": "06723943-4395-4e31-9cc8-8e1e5bd5dc4c",
   "metadata": {},
   "outputs": [],
   "source": [
    "%load_ext autoreload\n",
    "%autoreload 2"
   ]
  },
  {
   "cell_type": "code",
   "execution_count": 2,
   "id": "ce3c3d59-4088-4033-98a5-ed452c8c6d38",
   "metadata": {},
   "outputs": [
    {
     "name": "stdout",
     "output_type": "stream",
     "text": [
      "Using device: cuda:0\n"
     ]
    }
   ],
   "source": [
    "import multibind as mb\n",
    "import numpy as np\n",
    "import pandas as pd\n",
    "import torch\n",
    "import bindome as bd\n",
    "bd.constants.ANNOTATIONS_DIRECTORY = 'annotations'\n",
    "# mb.models.MultiBind\n",
    "import torch.optim as topti\n",
    "import torch.utils.data as tdata\n",
    "import matplotlib.pyplot as plt\n",
    "import logomaker\n",
    "\n",
    "# Use a GPU if available, as it should be faster.\n",
    "device = torch.device(\"cuda:0\" if torch.cuda.is_available() else \"cpu\")\n",
    "print(\"Using device: \" + str(device))"
   ]
  },
  {
   "cell_type": "code",
   "execution_count": 3,
   "id": "b9ef7c74-711d-4bca-96d4-73291ebf1212",
   "metadata": {},
   "outputs": [],
   "source": [
    "df = mb.bindome.datasets.ProBound.ctcf(flank_length=0)\n",
    "df = df.sort_values(1, ascending=False).reset_index(drop=True)"
   ]
  },
  {
   "cell_type": "code",
   "execution_count": 4,
   "id": "e89b78ee-a836-42e2-86a6-bc1fc1696ed3",
   "metadata": {},
   "outputs": [
    {
     "data": {
      "text/html": [
       "<div>\n",
       "<style scoped>\n",
       "    .dataframe tbody tr th:only-of-type {\n",
       "        vertical-align: middle;\n",
       "    }\n",
       "\n",
       "    .dataframe tbody tr th {\n",
       "        vertical-align: top;\n",
       "    }\n",
       "\n",
       "    .dataframe thead th {\n",
       "        text-align: right;\n",
       "    }\n",
       "</style>\n",
       "<table border=\"1\" class=\"dataframe\">\n",
       "  <thead>\n",
       "    <tr style=\"text-align: right;\">\n",
       "      <th></th>\n",
       "      <th>seq</th>\n",
       "      <th>0</th>\n",
       "      <th>1</th>\n",
       "    </tr>\n",
       "  </thead>\n",
       "  <tbody>\n",
       "    <tr>\n",
       "      <th>0</th>\n",
       "      <td>ACACTCTTTCCCTACACGACGCTCTTCCGATCTTGACGTCTATTCC...</td>\n",
       "      <td>0</td>\n",
       "      <td>4</td>\n",
       "    </tr>\n",
       "    <tr>\n",
       "      <th>1</th>\n",
       "      <td>ACACTCTTTCCCTACACGACGCTCTTCCGATCTTGACGTCCCCTAG...</td>\n",
       "      <td>0</td>\n",
       "      <td>4</td>\n",
       "    </tr>\n",
       "    <tr>\n",
       "      <th>2</th>\n",
       "      <td>ACACTCTTTCCCTACACGACGCTCTTCCGATCTTGACGTCTAATTA...</td>\n",
       "      <td>0</td>\n",
       "      <td>4</td>\n",
       "    </tr>\n",
       "    <tr>\n",
       "      <th>3</th>\n",
       "      <td>ACACTCTTTCCCTACACGACGCTCTTCCGATCTTGACGTCGAGGGG...</td>\n",
       "      <td>0</td>\n",
       "      <td>4</td>\n",
       "    </tr>\n",
       "    <tr>\n",
       "      <th>4</th>\n",
       "      <td>ACACTCTTTCCCTACACGACGCTCTTCCGATCTTGACGTCAGGACC...</td>\n",
       "      <td>0</td>\n",
       "      <td>4</td>\n",
       "    </tr>\n",
       "    <tr>\n",
       "      <th>...</th>\n",
       "      <td>...</td>\n",
       "      <td>...</td>\n",
       "      <td>...</td>\n",
       "    </tr>\n",
       "    <tr>\n",
       "      <th>120091</th>\n",
       "      <td>ACACTCTTTCCCTACACGACGCTCTTCCGATCTTGACGTCATATCA...</td>\n",
       "      <td>1</td>\n",
       "      <td>0</td>\n",
       "    </tr>\n",
       "    <tr>\n",
       "      <th>120092</th>\n",
       "      <td>ACACTCTTTCCCTACACGACGCTCTTCCGATCTTGACGTCATATCA...</td>\n",
       "      <td>1</td>\n",
       "      <td>0</td>\n",
       "    </tr>\n",
       "    <tr>\n",
       "      <th>120093</th>\n",
       "      <td>ACACTCTTTCCCTACACGACGCTCTTCCGATCTTGACGTCGGATGG...</td>\n",
       "      <td>1</td>\n",
       "      <td>0</td>\n",
       "    </tr>\n",
       "    <tr>\n",
       "      <th>120094</th>\n",
       "      <td>ACACTCTTTCCCTACACGACGCTCTTCCGATCTTGACGTCGGATGG...</td>\n",
       "      <td>1</td>\n",
       "      <td>0</td>\n",
       "    </tr>\n",
       "    <tr>\n",
       "      <th>120095</th>\n",
       "      <td>ACACTCTTTCCCTACACGACGCTCTTCCGATCTTGACGTCGCCTTT...</td>\n",
       "      <td>1</td>\n",
       "      <td>0</td>\n",
       "    </tr>\n",
       "  </tbody>\n",
       "</table>\n",
       "<p>120096 rows × 3 columns</p>\n",
       "</div>"
      ],
      "text/plain": [
       "                                                      seq  0  1\n",
       "0       ACACTCTTTCCCTACACGACGCTCTTCCGATCTTGACGTCTATTCC...  0  4\n",
       "1       ACACTCTTTCCCTACACGACGCTCTTCCGATCTTGACGTCCCCTAG...  0  4\n",
       "2       ACACTCTTTCCCTACACGACGCTCTTCCGATCTTGACGTCTAATTA...  0  4\n",
       "3       ACACTCTTTCCCTACACGACGCTCTTCCGATCTTGACGTCGAGGGG...  0  4\n",
       "4       ACACTCTTTCCCTACACGACGCTCTTCCGATCTTGACGTCAGGACC...  0  4\n",
       "...                                                   ... .. ..\n",
       "120091  ACACTCTTTCCCTACACGACGCTCTTCCGATCTTGACGTCATATCA...  1  0\n",
       "120092  ACACTCTTTCCCTACACGACGCTCTTCCGATCTTGACGTCATATCA...  1  0\n",
       "120093  ACACTCTTTCCCTACACGACGCTCTTCCGATCTTGACGTCGGATGG...  1  0\n",
       "120094  ACACTCTTTCCCTACACGACGCTCTTCCGATCTTGACGTCGGATGG...  1  0\n",
       "120095  ACACTCTTTCCCTACACGACGCTCTTCCGATCTTGACGTCGCCTTT...  1  0\n",
       "\n",
       "[120096 rows x 3 columns]"
      ]
     },
     "execution_count": 4,
     "metadata": {},
     "output_type": "execute_result"
    }
   ],
   "source": [
    "df"
   ]
  },
  {
   "cell_type": "code",
   "execution_count": 6,
   "id": "be8b3b18-1b3d-49c8-8252-320bb1b971c5",
   "metadata": {},
   "outputs": [],
   "source": [
    "# data = df.head(1000)\n",
    "data = df.sample(n=25000)\n",
    "# data = df.copy()"
   ]
  },
  {
   "cell_type": "code",
   "execution_count": 7,
   "id": "bf92fc98-2d29-4083-a67a-782b87dfb973",
   "metadata": {},
   "outputs": [],
   "source": [
    "n_rounds = 1\n",
    "dataset = mb.datasets.SelexDataset(data, n_rounds=n_rounds)\n",
    "train = tdata.DataLoader(dataset=dataset, batch_size=256, shuffle=True)"
   ]
  },
  {
   "cell_type": "code",
   "execution_count": 8,
   "id": "adee87f5-1b4d-4cd1-9d92-5b9082be9159",
   "metadata": {},
   "outputs": [
    {
     "data": {
      "text/plain": [
       "{0, 1, 2}"
      ]
     },
     "execution_count": 8,
     "metadata": {},
     "output_type": "execute_result"
    }
   ],
   "source": [
    "set(data[0])"
   ]
  },
  {
   "cell_type": "code",
   "execution_count": 10,
   "id": "c7feab1b-1726-4d88-b57a-060b6c8b6323",
   "metadata": {},
   "outputs": [],
   "source": [
    "from matplotlib import rcParams\n",
    "rcParams['figure.figsize'] = 5, 1"
   ]
  },
  {
   "cell_type": "code",
   "execution_count": 11,
   "id": "0301f36d-c2fd-4b03-9c12-e06b7c6c1db7",
   "metadata": {
    "tags": []
   },
   "outputs": [
    {
     "name": "stdout",
     "output_type": "stream",
     "text": [
      "loading object (# entries) 25000\n"
     ]
    }
   ],
   "source": [
    "print('loading object (# entries)', data.shape[0])\n",
    "dataset = mb.datasets.SelexDataset(data, n_rounds=n_rounds)\n",
    "train = tdata.DataLoader(dataset=dataset, batch_size=256, shuffle=True)"
   ]
  },
  {
   "cell_type": "code",
   "execution_count": 12,
   "id": "e1620ebe-cbb2-4bc8-a0f6-bfd60b3f117a",
   "metadata": {
    "tags": []
   },
   "outputs": [],
   "source": [
    "import warnings\n",
    "warnings.filterwarnings('ignore')"
   ]
  },
  {
   "cell_type": "code",
   "execution_count": 13,
   "id": "49c04087-128d-4680-8b0e-c3f488fa7654",
   "metadata": {
    "tags": []
   },
   "outputs": [],
   "source": [
    "import numpy as np"
   ]
  },
  {
   "cell_type": "code",
   "execution_count": null,
   "id": "7475742f-41cd-4c70-bab5-eea4985f2cfa",
   "metadata": {
    "tags": []
   },
   "outputs": [
    {
     "name": "stdout",
     "output_type": "stream",
     "text": [
      "\n",
      "\n",
      "##NEW JOB\n",
      "ignore kernel 1\n",
      "# rounds 1\n",
      "# batches 1\n",
      "# enr_series True\n",
      "next w 14 <class 'int'>\n",
      "\n",
      "Kernel to optimize 0\n",
      "\n",
      "Freezing kernels\n",
      "setting grad status of kernel at 0 to 1\n",
      "setting grad status of kernel at 1 to 0\n",
      "setting grad status of kernel at 2 to 0\n",
      "\n",
      "\n",
      "before kernel optimization.\n"
     ]
    },
    {
     "data": {
      "image/png": "[encoded data removed]",
      "text/plain": [
       "<Figure size 576x72 with 2 Axes>"
      ]
     },
     "metadata": {
      "needs_background": "light"
     },
     "output_type": "display_data"
    },
    {
     "name": "stdout",
     "output_type": "stream",
     "text": [
      "\n",
      "#activities\n",
      "[[[1. 1.]\n",
      "  [1. 1.]\n",
      "  [1. 1.]]]\n",
      "\n",
      "#log_etas\n",
      "Parameter containing:\n",
      "tensor([[0., 0.]], device='cuda:0', requires_grad=True)\n"
     ]
    },
    {
     "data": {
      "image/png": "[encoded data removed]",
      "text/plain": [
       "<Figure size 576x72 with 2 Axes>"
      ]
     },
     "metadata": {
      "needs_background": "light"
     },
     "output_type": "display_data"
    },
    {
     "data": {
      "image/png": "[encoded data removed]",
      "text/plain": [
       "<Figure size 576x72 with 2 Axes>"
      ]
     },
     "metadata": {
      "needs_background": "light"
     },
     "output_type": "display_data"
    },
    {
     "name": "stdout",
     "output_type": "stream",
     "text": [
      "kernels mask [0 1 1]\n",
      "optimizing using <class 'torch.optim.adam.Adam'> and <class 'multibind.tl.loss.PoissonLoss'> n_epochs 1000 early_stopping 100\n",
      "lr= 0.01, weight_decay= 0.01, dir weight= 0\n",
      "Epoch: 101, Loss: 0.844317 , best epoch: 21 secs per epoch: 1.178 s\n",
      "Epoch: 122, Loss: 0.8443 , best epoch: 21 secs per epoch: 1.164 s\n",
      "early stop!\n",
      "total time: 140.808 s\n",
      "secs per epoch: 1.164 s\n",
      "\n",
      "##After kernel opt / before shift optim.\n"
     ]
    },
    {
     "data": {
      "image/png": "[encoded data removed]",
      "text/plain": [
       "<Figure size 576x72 with 2 Axes>"
      ]
     },
     "metadata": {
      "needs_background": "light"
     },
     "output_type": "display_data"
    },
    {
     "name": "stdout",
     "output_type": "stream",
     "text": [
      "\n",
      "#activities\n",
      "[[[0.9998886 0.8737482]\n",
      "  [1.        1.       ]\n",
      "  [1.        1.       ]]]\n",
      "\n",
      "#log_etas\n",
      "Parameter containing:\n",
      "tensor([[ 0.1350, -0.1350]], device='cuda:0', requires_grad=True)\n"
     ]
    },
    {
     "data": {
      "image/png": "[encoded data removed]",
      "text/plain": [
       "<Figure size 576x72 with 2 Axes>"
      ]
     },
     "metadata": {
      "needs_background": "light"
     },
     "output_type": "display_data"
    },
    {
     "data": {
      "image/png": "[encoded data removed]",
      "text/plain": [
       "<Figure size 576x72 with 2 Axes>"
      ]
     },
     "metadata": {
      "needs_background": "light"
     },
     "output_type": "display_data"
    },
    {
     "data": {
      "image/png": "[encoded data removed]",
      "text/plain": [
       "<Figure size 576x72 with 1 Axes>"
      ]
     },
     "metadata": {
      "needs_background": "light"
     },
     "output_type": "display_data"
    },
    {
     "name": "stdout",
     "output_type": "stream",
     "text": [
      "after shift optimz model\n"
     ]
    },
    {
     "data": {
      "image/png": "[encoded data removed]",
      "text/plain": [
       "<Figure size 576x72 with 2 Axes>"
      ]
     },
     "metadata": {
      "needs_background": "light"
     },
     "output_type": "display_data"
    },
    {
     "name": "stdout",
     "output_type": "stream",
     "text": [
      "\n",
      "#activities\n",
      "[[[0.9998886 0.8737482]\n",
      "  [1.        1.       ]\n",
      "  [1.        1.       ]]]\n",
      "\n",
      "#log_etas\n",
      "Parameter containing:\n",
      "tensor([[ 0.1350, -0.1350]], device='cuda:0', requires_grad=True)\n"
     ]
    },
    {
     "data": {
      "image/png": "[encoded data removed]",
      "text/plain": [
       "<Figure size 576x72 with 2 Axes>"
      ]
     },
     "metadata": {
      "needs_background": "light"
     },
     "output_type": "display_data"
    },
    {
     "data": {
      "image/png": "[encoded data removed]",
      "text/plain": [
       "<Figure size 576x72 with 2 Axes>"
      ]
     },
     "metadata": {
      "needs_background": "light"
     },
     "output_type": "display_data"
    },
    {
     "data": {
      "image/png": "[encoded data removed]",
      "text/plain": [
       "<Figure size 576x72 with 1 Axes>"
      ]
     },
     "metadata": {
      "needs_background": "light"
     },
     "output_type": "display_data"
    },
    {
     "name": "stdout",
     "output_type": "stream",
     "text": [
      "\n",
      "\n",
      "Kernel to optimize 1\n",
      "\n",
      "Freezing kernels\n",
      "setting grad status of kernel at 0 to 0\n",
      "setting grad status of kernel at 1 to 1\n",
      "setting grad status of kernel at 2 to 0\n",
      "\n",
      "\n",
      "before kernel optimization.\n"
     ]
    },
    {
     "data": {
      "image/png": "[encoded data removed]",
      "text/plain": [
       "<Figure size 576x72 with 2 Axes>"
      ]
     },
     "metadata": {
      "needs_background": "light"
     },
     "output_type": "display_data"
    },
    {
     "name": "stdout",
     "output_type": "stream",
     "text": [
      "\n",
      "#activities\n",
      "[[[0.9998886 0.8737482]\n",
      "  [1.        1.       ]\n",
      "  [1.        1.       ]]]\n",
      "\n",
      "#log_etas\n",
      "Parameter containing:\n",
      "tensor([[ 0.1350, -0.1350]], device='cuda:0', requires_grad=True)\n"
     ]
    },
    {
     "data": {
      "image/png": "[encoded data removed]",
      "text/plain": [
       "<Figure size 576x72 with 2 Axes>"
      ]
     },
     "metadata": {
      "needs_background": "light"
     },
     "output_type": "display_data"
    },
    {
     "data": {
      "image/png": "[encoded data removed]",
      "text/plain": [
       "<Figure size 576x72 with 2 Axes>"
      ]
     },
     "metadata": {
      "needs_background": "light"
     },
     "output_type": "display_data"
    },
    {
     "name": "stdout",
     "output_type": "stream",
     "text": [
      "kernels mask [0 0 1]\n",
      "optimizing using <class 'torch.optim.adam.Adam'> and <class 'multibind.tl.loss.PoissonLoss'> n_epochs 1000 early_stopping 100\n",
      "lr= 0.01, weight_decay= 0.001, dir weight= 0\n",
      "Epoch: 101, Loss: 0.829480 , best epoch: 98 secs per epoch: 1.298 s\n"
     ]
    }
   ],
   "source": [
    "# assign batch and data type\n",
    "\n",
    "# data['batch'] = 0\n",
    "# data['is_count_data'] = 1\n",
    "# n_batches=3\n",
    "\n",
    "dirichlet_regularization = 0\n",
    "# for dirichlet_regularization_log in range(-5, 3):\n",
    "\n",
    "n_epochs = 1000\n",
    "log_each = 100\n",
    "n_kernels = 3\n",
    "\n",
    "from matplotlib import rcParams\n",
    "rcParams['figure.figsize'] = 8, 1\n",
    "\n",
    "import time\n",
    "t0 = time.time()\n",
    "\n",
    "for ignore_kernel in [1]: # [0, 1]:\n",
    "    print('\\n\\n##NEW JOB')\n",
    "    print('ignore kernel', ignore_kernel)\n",
    "    model_by_k, res_next = mb.tl.train_iterative(train, device, w=14, show_logo=True, opt_kernel_shift=True,\n",
    "                                                 dirichlet_regularization=dirichlet_regularization, # 10 ** dirichlet_regularization_log,\n",
    "                                                 lr=[0.01, 0.01, 0.01, 0.01], weight_decay=[0.01, 0.001, 0.001, 0.001], ignore_kernel=ignore_kernel,\n",
    "                                                 num_epochs=n_epochs, early_stopping=100, use_dinuc=False, # optimiser=torch.optim.LBFGS,\n",
    "                                                 n_kernels=n_kernels, log_each=log_each, stop_at_kernel=None) #  seed=seed) # seeds.index[0]) # \n",
    "    print('##DONE....\\n\\n')\n",
    "\n",
    "    \n",
    "print('total time: %.3f s' % ((time.time() - t0)))    \n",
    "# res = []\n",
    "# model_by_k = {}\n"
   ]
  }
 ],
 "metadata": {
  "kernelspec": {
   "display_name": "multibind",
   "language": "python",
   "name": "multibind"
  },
  "language_info": {
   "codemirror_mode": {
    "name": "ipython",
    "version": 3
   },
   "file_extension": ".py",
   "mimetype": "text/x-python",
   "name": "python",
   "nbconvert_exporter": "python",
   "pygments_lexer": "ipython3",
   "version": "3.10.4"
  }
 },
 "nbformat": 4,
 "nbformat_minor": 5
}
