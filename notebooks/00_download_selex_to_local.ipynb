{
 "cells": [
  {
   "cell_type": "code",
   "execution_count": null,
   "id": "c121d7b6-3aa8-47e5-89b0-cdf69d8e052f",
   "metadata": {},
   "outputs": [],
   "source": [
    "# load multiple dataset from the annotations directory"
   ]
  },
  {
   "cell_type": "code",
   "execution_count": 82,
   "id": "35ad3c3b-5cea-4651-8409-2d686b12a15c",
   "metadata": {},
   "outputs": [],
   "source": [
    "# move to relevant directory to download"
   ]
  },
  {
   "cell_type": "code",
   "execution_count": 83,
   "id": "714080d9-92d7-43ee-a2eb-f0e2f5a5cac0",
   "metadata": {},
   "outputs": [],
   "source": [
    "!cd /mnt/c/Users/ignacio.ibarra/Dropbox/annotations/selex"
   ]
  },
  {
   "cell_type": "code",
   "execution_count": 84,
   "id": "d068ed9a-e3a6-442e-8975-642f0bb08b0f",
   "metadata": {},
   "outputs": [
    {
     "name": "stdout",
     "output_type": "stream",
     "text": [
      "download TF positive data\n"
     ]
    }
   ],
   "source": [
    "print('download TF positive data')"
   ]
  },
  {
   "cell_type": "code",
   "execution_count": 85,
   "id": "a96be1b4-07b7-46c4-992b-96ea70a9c446",
   "metadata": {},
   "outputs": [],
   "source": [
    "tfs = ['FOXA1', 'ETS1', 'ALX1', 'ALX4', 'EGR1']"
   ]
  },
  {
   "cell_type": "markdown",
   "id": "0c7195ab-53f2-40fb-a885-d20955925047",
   "metadata": {},
   "source": [
    "### Getting positive data for rounds R1 to Rn"
   ]
  },
  {
   "cell_type": "code",
   "execution_count": 76,
   "id": "78fc6347-7509-4dd3-ae93-6ec138781a8f",
   "metadata": {},
   "outputs": [
    {
     "name": "stdout",
     "output_type": "stream",
     "text": [
      "rsync -amv --include=\"*/\" --include=*FOXA1*.gz --exclude=\"*\" sepp:/storage/groups/ml01/datasets/annotations/selex/ .\n",
      "Warning: No xauth data; using fake authentication data for X11 forwarding.\n",
      "receiving file list ... done\n",
      "./\n",
      "PRJEB9797/\n",
      "\n",
      "sent 109 bytes  received 956 bytes  710.00 bytes/sec\n",
      "total size is 157,139,858  speedup is 147,549.16\n",
      "\n",
      "rsync -amv --include=\"*/\" --include=*ETS1*.gz --exclude=\"*\" sepp:/storage/groups/ml01/datasets/annotations/selex/ .\n",
      "Warning: No xauth data; using fake authentication data for X11 forwarding.\n",
      "receiving file list ... done\n",
      "./\n",
      "PRJEB3289/\n",
      "\n",
      "sent 90 bytes  received 573 bytes  442.00 bytes/sec\n",
      "total size is 96,834,894  speedup is 146,055.65\n",
      "\n",
      "rsync -amv --include=\"*/\" --include=*ALX1*.gz --exclude=\"*\" sepp:/storage/groups/ml01/datasets/annotations/selex/ .\n",
      "Warning: No xauth data; using fake authentication data for X11 forwarding.\n",
      "receiving file list ... done\n",
      "./\n",
      "PRJEB9797/\n",
      "\n",
      "sent 84 bytes  received 555 bytes  426.00 bytes/sec\n",
      "total size is 57,725,779  speedup is 90,337.68\n",
      "\n",
      "rsync -amv --include=\"*/\" --include=*ALX4*.gz --exclude=\"*\" sepp:/storage/groups/ml01/datasets/annotations/selex/ .\n",
      "Warning: No xauth data; using fake authentication data for X11 forwarding.\n",
      "receiving file list ... done\n",
      "./\n",
      "PRJEB3289/\n",
      "PRJEB9797/\n",
      "\n",
      "sent 99 bytes  received 712 bytes  1,622.00 bytes/sec\n",
      "total size is 119,689,878  speedup is 147,583.08\n",
      "\n",
      "rsync -amv --include=\"*/\" --include=*EGR1*.gz --exclude=\"*\" sepp:/storage/groups/ml01/datasets/annotations/selex/ .\n",
      "Warning: No xauth data; using fake authentication data for X11 forwarding.\n",
      "receiving file list ... done\n",
      "./\n",
      "PRJEB3289/\n",
      "PRJEB3289/EGR1_TACTAT20NATC_AA_2.fastq.gz\n",
      "PRJEB3289/EGR1_TACTAT20NATC_AA_3.fastq.gz\n",
      "PRJEB3289/EGR1_TACTAT20NATC_AA_4.fastq.gz\n",
      "PRJEB3289/EGR1_TCTCTT20NGA_Y_1.fastq.gz\n",
      "PRJEB3289/EGR1_TCTCTT20NGA_Y_2.fastq.gz\n",
      "PRJEB3289/EGR1_TCTCTT20NGA_Y_3.fastq.gz\n",
      "PRJEB3289/EGR1_TCTCTT20NGA_Y_4.fastq.gz\n",
      "PRJEB9797/\n",
      "PRJEB9797/EGR1_eDBD_1_KAN_TAGACA40NGTC.fastq.gz\n",
      "PRJEB9797/EGR1_eDBD_1_KAN_TCCGCT40NGCG.fastq.gz\n",
      "PRJEB9797/EGR1_eDBD_1_KR_TCAGCC40NTTC.fastq.gz\n",
      "PRJEB9797/EGR1_eDBD_1_KR_TTGTAC40NGTA.fastq.gz\n",
      "PRJEB9797/EGR1_eDBD_2_KAN_TAGACA40NGTC.fastq.gz\n",
      "PRJEB9797/EGR1_eDBD_2_KAN_TCCGCT40NGCG.fastq.gz\n",
      "PRJEB9797/EGR1_eDBD_2_KR_TCAGCC40NTTC.fastq.gz\n",
      "PRJEB9797/EGR1_eDBD_2_KR_TTGTAC40NGTA.fastq.gz\n",
      "PRJEB9797/EGR1_eDBD_3_KAN_TAGACA40NGTC.fastq.gz\n",
      "PRJEB9797/EGR1_eDBD_3_KAN_TCCGCT40NGCG.fastq.gz\n",
      "PRJEB9797/EGR1_eDBD_3_KR_TCAGCC40NTTC.fastq.gz\n",
      "PRJEB9797/EGR1_eDBD_3_KR_TTGTAC40NGTA.fastq.gz\n",
      "PRJEB9797/EGR1_eDBD_4_KAN_TAGACA40NGTC.fastq.gz\n",
      "PRJEB9797/EGR1_eDBD_4_KAN_TCCGCT40NGCG.fastq.gz\n",
      "PRJEB9797/EGR1_eDBD_4_KR_TCAGCC40NTTC.fastq.gz\n",
      "PRJEB9797/EGR1_eDBD_4_KR_TTGTAC40NGTA.fastq.gz\n",
      "\n",
      "sent 500 bytes  received 210,689,273 bytes  5,618,393.95 bytes/sec\n",
      "total size is 210,635,784  speedup is 1.00\n",
      "\n"
     ]
    }
   ],
   "source": [
    "# tf queries\n",
    "selex_dir = '/storage/groups/ml01/datasets/annotations/selex/'\n",
    "basedir = '.' # pwd has to be the selex directory\n",
    "for tf in tfs:\n",
    "    # print(tf)\n",
    "    cmd = 'rsync -amv --include=\"*/\" --include=*' + tf + '*.gz --exclude=\"*\" sepp:' + selex_dir + ' ' + basedir\n",
    "    print(cmd)\n",
    "    !$cmd\n",
    "    print('')"
   ]
  },
  {
   "cell_type": "markdown",
   "id": "773f5666-64dc-40c6-8741-d6312e45b912",
   "metadata": {},
   "source": [
    "### Getting round zero data"
   ]
  },
  {
   "cell_type": "code",
   "execution_count": 77,
   "id": "253a1544-d06e-4d5c-b313-93751d5840a0",
   "metadata": {},
   "outputs": [
    {
     "name": "stdout",
     "output_type": "stream",
     "text": [
      "# of relevant barcodes 17\n"
     ]
    }
   ],
   "source": [
    "# list all tfs we have in the files\n",
    "import os\n",
    "barcodes = set() \n",
    "for d in os.listdir(basedir):\n",
    "    d2 = os.path.join(basedir, d)\n",
    "    for f in os.listdir(d2):\n",
    "        if not 'Zero' in f:\n",
    "            # print(f)\n",
    "            for k in f.split('.')[0].split('_'):\n",
    "                if '40N' in k or '20N' in k or '14N' in k or '30N' in k:\n",
    "                    # print(k)\n",
    "                    barcodes.add(k)\n",
    "\n",
    "print('# of relevant barcodes', len(barcodes))"
   ]
  },
  {
   "cell_type": "code",
   "execution_count": 78,
   "id": "0f2108da-5a3f-4f6c-b668-8e8818cafe47",
   "metadata": {},
   "outputs": [
    {
     "name": "stdout",
     "output_type": "stream",
     "text": [
      "rsync -amv --include=\"*/\" --include=*Zero*TTGTAC40NGTA*.gz --exclude=\"*\" sepp:/storage/groups/ml01/datasets/annotations/selex/ .\n",
      "Warning: No xauth data; using fake authentication data for X11 forwarding.\n",
      "receiving file list ... done\n",
      "./\n",
      "PRJEB20112/\n",
      "PRJEB20112/ZeroCycle_TTGTAC40NGTA_0_0.fastq.gz\n",
      "\n",
      "sent 92 bytes  received 6,416,115 bytes  1,833,202.00 bytes/sec\n",
      "total size is 6,414,275  speedup is 1.00\n",
      "rsync -amv --include=\"*/\" --include=*Zero*TCAGCC40NTTC*.gz --exclude=\"*\" sepp:/storage/groups/ml01/datasets/annotations/selex/ .\n",
      "Warning: No xauth data; using fake authentication data for X11 forwarding.\n",
      "receiving file list ... done\n",
      "./\n",
      "PRJEB20112/\n",
      "PRJEB20112/ZeroCycle_TCAGCC40NTTC_0_0.fastq.gz\n",
      "\n",
      "sent 92 bytes  received 9,509,842 bytes  3,803,973.60 bytes/sec\n",
      "total size is 9,507,237  speedup is 1.00\n",
      "rsync -amv --include=\"*/\" --include=*Zero*TACTAT20NATC*.gz --exclude=\"*\" sepp:/storage/groups/ml01/datasets/annotations/selex/ .\n",
      "Warning: No xauth data; using fake authentication data for X11 forwarding.\n",
      "receiving file list ... done\n",
      "./\n",
      "PRJEB14744/\n",
      "PRJEB14744/ZeroCycle_ES0_TACTAT20NATC_0.txt.gz\n",
      "PRJEB3289/\n",
      "PRJEB3289/ZeroCycle_TACTAT20NATC_0_0.fastq.gz\n",
      "\n",
      "sent 114 bytes  received 39,225,218 bytes  7,131,878.55 bytes/sec\n",
      "total size is 39,215,265  speedup is 1.00\n",
      "rsync -amv --include=\"*/\" --include=*Zero*TAGACA40NGTC*.gz --exclude=\"*\" sepp:/storage/groups/ml01/datasets/annotations/selex/ .\n",
      "Warning: No xauth data; using fake authentication data for X11 forwarding.\n",
      "receiving file list ... done\n",
      "./\n",
      "PRJEB20112/\n",
      "PRJEB20112/ZeroCycle_TAGACA40NGTC_0_0.fastq.gz\n",
      "\n",
      "sent 92 bytes  received 6,015,918 bytes  2,406,404.00 bytes/sec\n",
      "total size is 6,014,170  speedup is 1.00\n",
      "rsync -amv --include=\"*/\" --include=*Zero*TCCTTG40NGGT*.gz --exclude=\"*\" sepp:/storage/groups/ml01/datasets/annotations/selex/ .\n",
      "Warning: No xauth data; using fake authentication data for X11 forwarding.\n",
      "receiving file list ... done\n",
      "./\n",
      "PRJEB20112/\n",
      "\n",
      "sent 76 bytes  received 247 bytes  215.33 bytes/sec\n",
      "total size is 6,814,072  speedup is 21,096.20\n",
      "rsync -amv --include=\"*/\" --include=*Zero*TCCGCT40NGCG*.gz --exclude=\"*\" sepp:/storage/groups/ml01/datasets/annotations/selex/ .\n",
      "Warning: No xauth data; using fake authentication data for X11 forwarding.\n",
      "receiving file list ... done\n",
      "./\n",
      "PRJEB20112/\n",
      "PRJEB20112/ZeroCycle_TCCGCT40NGCG_0_0.fastq.gz\n",
      "\n",
      "sent 92 bytes  received 9,566,784 bytes  2,733,393.14 bytes/sec\n",
      "total size is 9,564,171  speedup is 1.00\n",
      "rsync -amv --include=\"*/\" --include=*Zero*TCCCAA40NGAA*.gz --exclude=\"*\" sepp:/storage/groups/ml01/datasets/annotations/selex/ .\n",
      "Warning: No xauth data; using fake authentication data for X11 forwarding.\n",
      "receiving file list ... done\n",
      "./\n",
      "PRJEB20112/\n",
      "\n",
      "sent 76 bytes  received 247 bytes  215.33 bytes/sec\n",
      "total size is 7,153,573  speedup is 22,147.28\n",
      "rsync -amv --include=\"*/\" --include=*Zero*TGTGTC20NGA*.gz --exclude=\"*\" sepp:/storage/groups/ml01/datasets/annotations/selex/ .\n",
      "Warning: No xauth data; using fake authentication data for X11 forwarding.\n",
      "receiving file list ... done\n",
      "./\n",
      "PRJEB14744/\n",
      "PRJEB3289/\n",
      "\n",
      "sent 81 bytes  received 306 bytes  258.00 bytes/sec\n",
      "total size is 5,734,255  speedup is 14,817.20\n",
      "rsync -amv --include=\"*/\" --include=*Zero*TGCGTA40NTCA*.gz --exclude=\"*\" sepp:/storage/groups/ml01/datasets/annotations/selex/ .\n",
      "Warning: No xauth data; using fake authentication data for X11 forwarding.\n",
      "receiving file list ... done\n",
      "./\n",
      "PRJEB20112/\n",
      "\n",
      "sent 76 bytes  received 248 bytes  216.00 bytes/sec\n",
      "total size is 7,860,346  speedup is 24,260.33\n",
      "rsync -amv --include=\"*/\" --include=*Zero*TCCCAT40NTGT*.gz --exclude=\"*\" sepp:/storage/groups/ml01/datasets/annotations/selex/ .\n",
      "Warning: No xauth data; using fake authentication data for X11 forwarding.\n",
      "receiving file list ... done\n",
      "./\n",
      "PRJEB20112/\n",
      "\n",
      "sent 76 bytes  received 249 bytes  216.67 bytes/sec\n",
      "total size is 14,912,578  speedup is 45,884.86\n",
      "rsync -amv --include=\"*/\" --include=*Zero*TACCAA40NTTA*.gz --exclude=\"*\" sepp:/storage/groups/ml01/datasets/annotations/selex/ .\n",
      "Warning: No xauth data; using fake authentication data for X11 forwarding.\n",
      "receiving file list ... done\n",
      "./\n",
      "PRJEB20112/\n",
      "\n",
      "sent 76 bytes  received 244 bytes  213.33 bytes/sec\n",
      "total size is 3,477,447  speedup is 10,867.02\n",
      "rsync -amv --include=\"*/\" --include=*Zero*TTCTAA40NAAT*.gz --exclude=\"*\" sepp:/storage/groups/ml01/datasets/annotations/selex/ .\n",
      "Warning: No xauth data; using fake authentication data for X11 forwarding.\n",
      "receiving file list ... done\n",
      "./\n",
      "PRJEB20112/\n",
      "\n",
      "sent 76 bytes  received 245 bytes  214.00 bytes/sec\n",
      "total size is 8,389,757  speedup is 26,136.31\n",
      "rsync -amv --include=\"*/\" --include=*Zero*TCTATT40NCAT*.gz --exclude=\"*\" sepp:/storage/groups/ml01/datasets/annotations/selex/ .\n",
      "Warning: No xauth data; using fake authentication data for X11 forwarding.\n",
      "receiving file list ... done\n",
      "./\n",
      "PRJEB20112/\n",
      "\n",
      "sent 76 bytes  received 248 bytes  216.00 bytes/sec\n",
      "total size is 7,383,385  speedup is 22,788.23\n",
      "rsync -amv --include=\"*/\" --include=*Zero*TAGCGT40NTCA*.gz --exclude=\"*\" sepp:/storage/groups/ml01/datasets/annotations/selex/ .\n",
      "Warning: No xauth data; using fake authentication data for X11 forwarding.\n",
      "receiving file list ... done\n",
      "./\n",
      "PRJEB20112/\n",
      "\n",
      "sent 76 bytes  received 248 bytes  216.00 bytes/sec\n",
      "total size is 6,446,208  speedup is 19,895.70\n",
      "rsync -amv --include=\"*/\" --include=*Zero*TGTACC30NCAG*.gz --exclude=\"*\" sepp:/storage/groups/ml01/datasets/annotations/selex/ .\n",
      "Warning: No xauth data; using fake authentication data for X11 forwarding.\n",
      "receiving file list ... done\n",
      "./\n",
      "PRJEB14744/\n",
      "PRJEB3289/\n",
      "\n",
      "sent 82 bytes  received 309 bytes  260.67 bytes/sec\n",
      "total size is 19,610,807  speedup is 50,155.52\n",
      "rsync -amv --include=\"*/\" --include=*Zero*TCTCTT20NGA*.gz --exclude=\"*\" sepp:/storage/groups/ml01/datasets/annotations/selex/ .\n",
      "Warning: No xauth data; using fake authentication data for X11 forwarding.\n",
      "receiving file list ... done\n",
      "./\n",
      "PRJEB14744/\n",
      "PRJEB14744/ZeroCycle_ES0_TCTCTT20NGA_0.txt.gz\n",
      "PRJEB3289/\n",
      "PRJEB3289/ZeroCycle_TCTCTT20NGA_0_0.fastq.gz\n",
      "\n",
      "sent 113 bytes  received 5,738,321 bytes  1,275,207.56 bytes/sec\n",
      "total size is 5,736,547  speedup is 1.00\n",
      "rsync -amv --include=\"*/\" --include=*Zero*TGTAAA20NGA*.gz --exclude=\"*\" sepp:/storage/groups/ml01/datasets/annotations/selex/ .\n",
      "Warning: No xauth data; using fake authentication data for X11 forwarding.\n",
      "receiving file list ... done\n",
      "./\n",
      "PRJEB14744/\n",
      "PRJEB3289/\n",
      "\n",
      "sent 81 bytes  received 306 bytes  258.00 bytes/sec\n",
      "total size is 5,793,923  speedup is 14,971.38\n"
     ]
    }
   ],
   "source": [
    "# tf queries\n",
    "selex_dir = '/storage/groups/ml01/datasets/annotations/selex/'\n",
    "for bc in barcodes:\n",
    "    # print(tf)\n",
    "    cmd = 'rsync -amv --include=\"*/\" --include=*Zero*' + bc + '*.gz --exclude=\"*\" sepp:' + selex_dir + ' ' + basedir\n",
    "    print(cmd)\n",
    "    !$cmd\n",
    "    # break"
   ]
  },
  {
   "cell_type": "code",
   "execution_count": null,
   "id": "8c1f07e0-fbb3-4aa9-9d5e-0946693219ce",
   "metadata": {},
   "outputs": [],
   "source": []
  }
 ],
 "metadata": {
  "kernelspec": {
   "display_name": "Python 3.10.6 ('multibind')",
   "language": "python",
   "name": "python3"
  },
  "language_info": {
   "codemirror_mode": {
    "name": "ipython",
    "version": 3
   },
   "file_extension": ".py",
   "mimetype": "text/x-python",
   "name": "python",
   "nbconvert_exporter": "python",
   "pygments_lexer": "ipython3",
   "version": "3.10.6"
  },
  "vscode": {
   "interpreter": {
    "hash": "21beeb3f351c8e886a898db8b4cccf8d4f8a70210033cb08b23469d9f8df079c"
   }
  }
 },
 "nbformat": 4,
 "nbformat_minor": 5
}
