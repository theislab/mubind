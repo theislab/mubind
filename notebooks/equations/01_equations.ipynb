{
 "cells": [
  {
   "cell_type": "markdown",
   "id": "e50d3b9d-0e5d-4178-b1a8-c9b3442cfbad",
   "metadata": {},
   "source": [
    "(10)\n",
    "$$ \\Large log\\mathscr{L} = \\sum_{r,i}^{N_r}[k_{i,r}\\log{(\\eta_{i}f_{i,r})} - \\eta_{i}f_{i,r}] / k_{total} + C$$\n",
    "\n",
    "(1) $$ \\Large p_{i,r} = \\frac{\\eta_{i}f_{i,r}}{\\sum_{r=0}^{N_r} \\eta_{i}f_{i,r}} $$\n",
    "\n",
    "(1a) $$ \\Large\\eta_{i}f_{i,r} = p_{i,r}\\sum_{r=0}^{N_r} \\eta_{i}f_{i,r} $$\n",
    "\n",
    "Replace (1a) into (10), multiply by k_total, and remove C\n",
    "\n",
    "(10a)\n",
    "$$ \\Large k_{total} log\\mathscr{L}  = \\sum_{r,i}^{N_r}[k_{i,r}\\log{(p_{i,r}\\sum_{r=0}^{N_r} \\eta_{i}f_{i,r})} - \\eta_{i}f_{i,r}] $$\n",
    "\n",
    "sum of log = log of product\n",
    "\n",
    "$$ \\Large = \\sum_{r,i}^{N_r}[k_{i,r}(\\log{p_{i,r}} + \\log{\\sum_{r=0}^{N_r} \\eta_{i}f_{i,r}}) - \\eta_{i}f_{i,r}] $$\n",
    "\n",
    "break down main sigma\n",
    "$$ \\Large = \\sum_{r,i}^{N_r}k_{i,r}\\log{p_{i,r}} + \\sum_{r,i}^{N_r}[k_{i,r}\\log{\\sum_{r=0}^{N_r} \\eta_{i}f_{i,r}}] - \\sum_{r,i}^{N_r}\\eta_{i}f_{i,r} $$\n",
    "\n",
    "missing steps ...\n",
    "\n",
    "\n",
    "(11)  $$ = \\Large\\sum_{r,i}^{N_r}(k_{i,r}\\log{p_{r,i}})  $$\n",
    "\n",
    "If all this is true, then the last two terms of should cancel out and be equal to zero, or \n",
    "$$ \\Large \\sum_{r,i}^{N_r}[k_{i,r}\\log{\\sum_{r=0}^{N_r} \\eta_{i}f_{i,r}}] = \\sum_{r,i}^{N_r}\\eta_{i}f_{i,r} $$\n",
    "\n",
    "is this true?"
   ]
  },
  {
   "cell_type": "markdown",
   "id": "f58e223e-837a-4c8d-a305-cd7589529fa3",
   "metadata": {},
   "source": []
  },
  {
   "cell_type": "markdown",
   "id": "5ae79fa2-a1d0-4bd6-b536-f8e964003a6d",
   "metadata": {},
   "source": []
  },
  {
   "cell_type": "code",
   "execution_count": null,
   "id": "b3d6dc14-6530-48ef-bebc-92d507b5ed08",
   "metadata": {},
   "outputs": [],
   "source": []
  },
  {
   "cell_type": "markdown",
   "id": "8de4071d-9666-439b-9f85-f25a84789ed0",
   "metadata": {},
   "source": []
  }
 ],
 "metadata": {
  "kernelspec": {
   "display_name": "Python [conda env:multibind]",
   "language": "python",
   "name": "conda-env-multibind-py"
  },
  "language_info": {
   "codemirror_mode": {
    "name": "ipython",
    "version": 3
   },
   "file_extension": ".py",
   "mimetype": "text/x-python",
   "name": "python",
   "nbconvert_exporter": "python",
   "pygments_lexer": "ipython3",
   "version": "3.10.4"
  }
 },
 "nbformat": 4,
 "nbformat_minor": 5
}
