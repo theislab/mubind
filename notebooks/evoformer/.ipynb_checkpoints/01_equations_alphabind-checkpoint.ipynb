{
 "cells": [
  {
   "cell_type": "markdown",
   "id": "6de43644-68cc-47c2-9109-36f341230e45",
   "metadata": {},
   "source": [
    "### Adaptatoin of AF2's Evoformer to infer biomolecular binding specificities"
   ]
  },
  {
   "cell_type": "markdown",
   "id": "b4562c7f-0b03-445d-8108-a9f270cf6c18",
   "metadata": {},
   "source": [
    "We wish to quantify the vector of binding specificities for a set of molecular oligos (Y), based on a protein sequence (P)"
   ]
  },
  {
   "cell_type": "markdown",
   "id": "9b5ec853-0394-4a35-939b-746e07a889e9",
   "metadata": {},
   "source": [
    "$$ \\Large Y(P) $$"
   ]
  },
  {
   "cell_type": "markdown",
   "id": "3513ced2-b021-4c6b-b585-6fdb449f0e71",
   "metadata": {},
   "source": [
    "It is true that the protein sequence P is related to Y based on a series of molecular binding modes (M) that indicate the binding specificity to DNA of P, and are exclusively dependent on the protein sequence of P"
   ]
  },
  {
   "cell_type": "markdown",
   "id": "4f523271-c7b4-493c-b137-a6cb253e0c3a",
   "metadata": {},
   "source": [
    "$$ \\Large Y = M(P) $$"
   ]
  },
  {
   "cell_type": "markdown",
   "id": "7107b276-daf0-4157-9ef4-2e2b71aaa764",
   "metadata": {},
   "source": [
    "In most cases, most M are biological and unique. However, there could be:\n",
    "- (i) latent specificity e.g. bispecificity, or alternative binding modes.\n",
    "- (ii) there are technical biases due to experimental protocols, that could explain some observed sequences, that should be considered independently."
   ]
  },
  {
   "cell_type": "markdown",
   "id": "bdcfc9fa-c68a-44be-b93c-58e5ccc037b1",
   "metadata": {},
   "source": [
    "$$ \\Large Y = \\sum_{i}^{N_m}M(P, i) + \\sum_{i}^{N_s}M(T, i) $$"
   ]
  },
  {
   "cell_type": "markdown",
   "id": "1df851c2-c823-4e76-a8dc-cf749398fbe3",
   "metadata": {},
   "source": [
    "only biological binding modes can be learned based on sequence, whereas technical binding modes are dataset speficic"
   ]
  },
  {
   "cell_type": "markdown",
   "id": "611a40d6-20d1-4ca1-97c2-11f4853be85f",
   "metadata": {},
   "source": [
    "## Relationship between TF-family sequences"
   ]
  },
  {
   "cell_type": "markdown",
   "id": "6589e888-fa34-433c-a763-c4665478b6a4",
   "metadata": {},
   "source": [
    "Members of the same transcription factor family are expected to bind similar sequences. Hence, low dissimilarity in sequence space is associated to high similarity in binding modes, with slight variations. Succesfully, this can be encode into dissimilarities.\n",
    "\n",
    "$$ \\Large S(P_1, P_2) \\propto \\sum([Y_1 - Y_2]^2) $$"
   ]
  },
  {
   "cell_type": "markdown",
   "id": "11c31160-752b-493f-a878-f9fbf932d932",
   "metadata": {},
   "source": [
    "If this is true, then the modeling task can be broken down into two "
   ]
  }
 ],
 "metadata": {
  "kernelspec": {
   "display_name": "Python [conda env:multibind]",
   "language": "python",
   "name": "conda-env-multibind-py"
  },
  "language_info": {
   "codemirror_mode": {
    "name": "ipython",
    "version": 3
   },
   "file_extension": ".py",
   "mimetype": "text/x-python",
   "name": "python",
   "nbconvert_exporter": "python",
   "pygments_lexer": "ipython3",
   "version": "3.10.4"
  }
 },
 "nbformat": 4,
 "nbformat_minor": 5
}
