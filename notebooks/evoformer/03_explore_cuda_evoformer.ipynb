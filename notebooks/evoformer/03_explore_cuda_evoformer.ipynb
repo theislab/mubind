{
 "cells": [
  {
   "cell_type": "code",
   "execution_count": 11,
   "id": "75e693d9-fb42-45db-a929-13f056db8612",
   "metadata": {},
   "outputs": [
    {
     "name": "stdout",
     "output_type": "stream",
     "text": [
      "/home/rio/miniconda3/envs/openfold_venv/bin/python\n"
     ]
    }
   ],
   "source": [
    "!which python"
   ]
  },
  {
   "cell_type": "code",
   "execution_count": 12,
   "id": "1bfc3231-e4cd-4203-8f79-717ed0893aac",
   "metadata": {},
   "outputs": [
    {
     "name": "stdout",
     "output_type": "stream",
     "text": [
      "/home/rio/miniconda3/envs/openfold_venv/bin/ipython\n"
     ]
    }
   ],
   "source": [
    "!which ipython"
   ]
  },
  {
   "cell_type": "code",
   "execution_count": 6,
   "id": "1832c8fb-8b97-4406-8177-584e94b86f6f",
   "metadata": {},
   "outputs": [],
   "source": [
    "import torch\n",
    "import numpy as np\n",
    "import unittest\n",
    "from openfold.model.evoformer import (\n",
    "    MSATransition,\n",
    "    EvoformerStack,\n",
    "    ExtraMSAStack,\n",
    ")\n",
    "from openfold.utils.tensor_utils import tree_map\n",
    "# import tests.compare_utils as compare_utils\n",
    "# from tests.config import consts\n",
    "\n",
    "# if compare_utils.alphafold_is_installed():\n",
    "#     alphafold = compare_utils.import_alphafold()\n",
    "#     import jax\n",
    "#     import haiku as hk\n",
    "import ml_collections as mlc\n",
    "\n",
    "consts = mlc.ConfigDict(\n",
    "    {\n",
    "        \"batch_size\": 2,\n",
    "        \"n_res\": 11,\n",
    "        \"n_seq\": 13,\n",
    "        \"n_templ\": 3,\n",
    "        \"n_extra\": 17,\n",
    "        \"eps\": 5e-4,\n",
    "        # For compatibility with DeepMind's pretrained weights, it's easiest for\n",
    "        # everyone if these take their real values.\n",
    "        \"c_m\": 256,\n",
    "        \"c_z\": 128,\n",
    "        \"c_s\": 384,\n",
    "        \"c_t\": 64,\n",
    "        \"c_e\": 64,\n",
    "    }\n",
    ")\n"
   ]
  },
  {
   "cell_type": "code",
   "execution_count": 7,
   "id": "46e5f68b-5fc3-48cc-9530-5f0f112b79bd",
   "metadata": {},
   "outputs": [],
   "source": [
    "batch_size = consts.batch_size\n",
    "n_seq = consts.n_seq\n",
    "n_res = consts.n_res\n",
    "c_m = consts.c_m\n",
    "c_z = consts.c_z\n",
    "c_hidden_msa_att = 12\n",
    "c_hidden_opm = 17\n",
    "c_hidden_mul = 19\n",
    "c_hidden_pair_att = 14\n",
    "c_s = consts.c_s\n",
    "no_heads_msa = 3\n",
    "no_heads_pair = 7\n",
    "no_blocks = 2\n",
    "transition_n = 2\n",
    "msa_dropout = 0.15\n",
    "pair_stack_dropout = 0.25\n",
    "inf = 1e9\n",
    "eps = 1e-10\n",
    "\n",
    "es = EvoformerStack(\n",
    "    c_m,\n",
    "    c_z,\n",
    "    c_hidden_msa_att,\n",
    "    c_hidden_opm,\n",
    "    c_hidden_mul,\n",
    "    c_hidden_pair_att,\n",
    "    c_s,\n",
    "    no_heads_msa,\n",
    "    no_heads_pair,\n",
    "    no_blocks,\n",
    "    transition_n,\n",
    "    msa_dropout,\n",
    "    pair_stack_dropout,\n",
    "    blocks_per_ckpt=None,\n",
    "    inf=inf,\n",
    "    eps=eps,\n",
    ").eval()"
   ]
  },
  {
   "cell_type": "code",
   "execution_count": 16,
   "id": "8a158d6d-7c77-451b-b9be-8c03bb945d9d",
   "metadata": {},
   "outputs": [],
   "source": [
    "import pickle\n",
    "import shutil\n",
    "\n",
    "import torch\n",
    "import numpy as np\n",
    "import unittest\n",
    "\n",
    "from openfold.data.data_pipeline import DataPipeline\n",
    "from openfold.data.templates import TemplateHitFeaturizer\n",
    "from openfold.model.embedders import (\n",
    "    InputEmbedder,\n",
    "    RecyclingEmbedder,\n",
    "    TemplateAngleEmbedder,\n",
    "    TemplatePairEmbedder,\n",
    ")"
   ]
  },
  {
   "cell_type": "code",
   "execution_count": 17,
   "id": "fa8a1606-e415-414a-ad13-d485fcf2a542",
   "metadata": {},
   "outputs": [
    {
     "ename": "NameError",
     "evalue": "name 'self' is not defined",
     "output_type": "error",
     "traceback": [
      "\u001b[0;31m---------------------------------------------------------------------------\u001b[0m",
      "\u001b[0;31mNameError\u001b[0m                                 Traceback (most recent call last)",
      "\u001b[0;32m/tmp/ipykernel_4250/2566065685.py\u001b[0m in \u001b[0;36m<module>\u001b[0;34m\u001b[0m\n\u001b[1;32m     33\u001b[0m \u001b[0;34m\u001b[0m\u001b[0m\n\u001b[1;32m     34\u001b[0m \u001b[0;31m# The first row of both MSAs should be the same, no matter what\u001b[0m\u001b[0;34m\u001b[0m\u001b[0;34m\u001b[0m\u001b[0;34m\u001b[0m\u001b[0m\n\u001b[0;32m---> 35\u001b[0;31m \u001b[0mself\u001b[0m\u001b[0;34m.\u001b[0m\u001b[0massertTrue\u001b[0m\u001b[0;34m(\u001b[0m\u001b[0mnp\u001b[0m\u001b[0;34m.\u001b[0m\u001b[0mall\u001b[0m\u001b[0;34m(\u001b[0m\u001b[0mm_a\u001b[0m\u001b[0;34m[\u001b[0m\u001b[0;36m0\u001b[0m\u001b[0;34m,\u001b[0m \u001b[0;34m:\u001b[0m\u001b[0;34m]\u001b[0m \u001b[0;34m==\u001b[0m \u001b[0mm_o\u001b[0m\u001b[0;34m[\u001b[0m\u001b[0;36m0\u001b[0m\u001b[0;34m,\u001b[0m \u001b[0;34m:\u001b[0m\u001b[0;34m]\u001b[0m\u001b[0;34m)\u001b[0m\u001b[0;34m)\u001b[0m\u001b[0;34m\u001b[0m\u001b[0;34m\u001b[0m\u001b[0m\n\u001b[0m\u001b[1;32m     36\u001b[0m \u001b[0;34m\u001b[0m\u001b[0m\n\u001b[1;32m     37\u001b[0m \u001b[0;31m# Each row of each MSA should appear exactly once somewhere in its\u001b[0m\u001b[0;34m\u001b[0m\u001b[0;34m\u001b[0m\u001b[0;34m\u001b[0m\u001b[0m\n",
      "\u001b[0;31mNameError\u001b[0m: name 'self' is not defined"
     ]
    }
   ],
   "source": [
    "# AlphaFold runs the alignments and feature processing at the same \n",
    "# time, taking forever. As such, we precompute AlphaFold's features\n",
    "# using scripts/generate_alphafold_feature_dict.py and the default\n",
    "# databases.\n",
    "with open(\"/mnt/c/Users/ignacio.ibarra/Dropbox/workspace/openfold/tests/test_data/alphafold_feature_dict.pickle\", \"rb\") as fp:\n",
    "    alphafold_feature_dict = pickle.load(fp)\n",
    "\n",
    "template_featurizer = TemplateHitFeaturizer(\n",
    "    mmcif_dir=\"/mnt/c/Users/ignacio.ibarra/Dropbox/workspace/openfold/tests/test_data/mmcifs\",\n",
    "    max_template_date=\"2021-12-20\",\n",
    "    max_hits=20,\n",
    "    kalign_binary_path=shutil.which(\"kalign\"),\n",
    "    _zero_center_positions=False,\n",
    ")\n",
    "\n",
    "data_pipeline = DataPipeline(\n",
    "    template_featurizer=template_featurizer,\n",
    ")\n",
    "\n",
    "openfold_feature_dict = data_pipeline.process_fasta(\n",
    "    \"/mnt/c/Users/ignacio.ibarra/Dropbox/workspace/openfold/tests/test_data/short.fasta\", \n",
    "    \"/mnt/c/Users/ignacio.ibarra/Dropbox/workspace/openfold/tests/test_data/alignments\"\n",
    ")\n",
    "\n",
    "openfold_feature_dict[\"template_all_atom_masks\"] = openfold_feature_dict[\"template_all_atom_mask\"]\n",
    "\n",
    "checked = []\n",
    "\n",
    "# AlphaFold and OpenFold process their MSAs in slightly different\n",
    "# orders, which we compensate for below.\n",
    "m_a = alphafold_feature_dict[\"msa\"]\n",
    "m_o = openfold_feature_dict[\"msa\"]\n",
    "\n",
    "# The first row of both MSAs should be the same, no matter what\n",
    "self.assertTrue(np.all(m_a[0, :] == m_o[0, :]))\n",
    "\n",
    "# Each row of each MSA should appear exactly once somewhere in its \n",
    "# counterpart\n",
    "matching_rows = np.all((m_a[:, None, ...] == m_o[None, :, ...]), axis=-1)\n",
    "self.assertTrue(\n",
    "    np.all(\n",
    "        np.sum(matching_rows, axis=-1) == 1\n",
    "    )\n",
    ")\n",
    "\n",
    "checked.append(\"msa\")\n",
    "\n",
    "# The corresponding rows of the deletion matrix should also be equal\n",
    "matching_idx = np.argmax(matching_rows, axis=-1)\n",
    "rearranged_o_dmi = openfold_feature_dict[\"deletion_matrix_int\"]\n",
    "rearranged_o_dmi = rearranged_o_dmi[matching_idx, :]\n",
    "self.assertTrue(\n",
    "    np.all(\n",
    "        alphafold_feature_dict[\"deletion_matrix_int\"] == \n",
    "        rearranged_o_dmi\n",
    "    )\n",
    ")\n",
    "\n",
    "checked.append(\"deletion_matrix_int\")"
   ]
  },
  {
   "cell_type": "code",
   "execution_count": 24,
   "id": "f1751a63-0e73-4254-b941-a46d3ae3be68",
   "metadata": {},
   "outputs": [
    {
     "data": {
      "text/plain": [
       "((1136, 73), (1136, 73))"
      ]
     },
     "execution_count": 24,
     "metadata": {},
     "output_type": "execute_result"
    }
   ],
   "source": [
    "m_a.shape, m_o.shape"
   ]
  }
 ],
 "metadata": {
  "kernelspec": {
   "display_name": "Python [conda env:openfold_venv]",
   "language": "python",
   "name": "conda-env-openfold_venv-py"
  },
  "language_info": {
   "codemirror_mode": {
    "name": "ipython",
    "version": 3
   },
   "file_extension": ".py",
   "mimetype": "text/x-python",
   "name": "python",
   "nbconvert_exporter": "python",
   "pygments_lexer": "ipython3",
   "version": "3.7.12"
  }
 },
 "nbformat": 4,
 "nbformat_minor": 5
}
