{
 "cells": [
  {
   "cell_type": "code",
   "execution_count": 1,
   "outputs": [],
   "source": [
    "import seaborn\n",
    "%load_ext autoreload\n",
    "%autoreload 2"
   ],
   "metadata": {
    "collapsed": false,
    "pycharm": {
     "name": "#%%\n"
    }
   }
  },
  {
   "cell_type": "code",
   "execution_count": 2,
   "outputs": [
    {
     "name": "stdout",
     "output_type": "stream",
     "text": [
      "/mnt/c/Users/ignacio.ibarra/Dropbox/workspace/theislab/mubind/notebooks/scatac\n"
     ]
    }
   ],
   "source": [
    "cd ~/workspace/theislab/mubind/notebooks/scatac"
   ],
   "metadata": {
    "collapsed": false,
    "pycharm": {
     "name": "#%%\n"
    }
   }
  },
  {
   "cell_type": "code",
   "execution_count": 3,
   "outputs": [],
   "source": [
    "import numpy as np\n",
    "import os\n",
    "import torch\n",
    "import itertools\n",
    "import glob\n",
    "import pandas as pd\n",
    "from pathlib import Path\n",
    "import bindome as bd\n",
    "bd.constants.ANNOTATIONS_DIRECTORY = '../../annotations'\n",
    "import torch\n",
    "import mubind as mb\n",
    "from tqdm.notebook import tqdm_notebook as tqdm"
   ],
   "metadata": {
    "collapsed": false,
    "pycharm": {
     "name": "#%%\n"
    }
   }
  },
  {
   "cell_type": "code",
   "execution_count": 4,
   "outputs": [],
   "source": [
    "pwms = mb.datasets.cisbp_hs()\n",
    "\n"
   ],
   "metadata": {
    "collapsed": false,
    "pycharm": {
     "name": "#%%\n"
    }
   }
  },
  {
   "cell_type": "code",
   "execution_count": 5,
   "outputs": [
    {
     "data": {
      "text/plain": "7704"
     },
     "execution_count": 5,
     "metadata": {},
     "output_type": "execute_result"
    }
   ],
   "source": [
    "len(pwms)"
   ],
   "metadata": {
    "collapsed": false,
    "pycharm": {
     "name": "#%%\n"
    }
   }
  },
  {
   "cell_type": "code",
   "execution_count": 6,
   "outputs": [],
   "source": [
    "import random\n",
    "reduced_groups = [p.to_numpy() for p in random.sample(pwms, 20) if p.shape[-1] != 0]"
   ],
   "metadata": {
    "collapsed": false,
    "pycharm": {
     "name": "#%%\n"
    }
   }
  },
  {
   "cell_type": "code",
   "execution_count": 7,
   "outputs": [
    {
     "data": {
      "text/plain": "[array([[0.13855422, 0.13453815, 0.1686747 , 0.27309237, 0.14859438,\n         0.07028112, 0.04216867, 0.24497992, 0.00401606, 0.27108434,\n         0.00200803, 0.00200803, 0.        , 0.25100402, 0.11044177,\n         0.07228916, 0.1124498 , 0.08835341, 0.12650602],\n        [0.48192771, 0.53012048, 0.49598394, 0.1626506 , 0.14859438,\n         0.84337349, 0.75502008, 0.7248996 , 0.98192771, 0.        ,\n         0.98594378, 0.99196787, 0.96586345, 0.35943775, 0.31526104,\n         0.49598394, 0.42369478, 0.46184739, 0.47188755],\n        [0.2188755 , 0.24297189, 0.20481928, 0.3815261 , 0.6184739 ,\n         0.01004016, 0.01807229, 0.02610442, 0.0060241 , 0.64257028,\n         0.00803213, 0.        , 0.        , 0.04417671, 0.24698795,\n         0.18674699, 0.20481928, 0.22289157, 0.18875502],\n        [0.16064257, 0.09236948, 0.13052209, 0.18273092, 0.08433735,\n         0.07630522, 0.18473896, 0.00401606, 0.00803213, 0.08634538,\n         0.00401606, 0.0060241 , 0.03413655, 0.34538153, 0.32730924,\n         0.24497992, 0.25903614, 0.22690763, 0.21285141]]),\n array([[0.657143, 0.028571, 0.9     , 0.      , 0.      , 0.      ,\n         0.      , 0.      , 0.4     , 0.085714, 0.028571],\n        [0.071429, 0.      , 0.028571, 0.      , 0.      , 0.028571,\n         0.      , 0.      , 0.6     , 0.057143, 0.271429],\n        [0.171429, 0.957143, 0.028571, 1.      , 1.      , 0.      ,\n         0.      , 0.      , 0.      , 0.014286, 0.042857],\n        [0.1     , 0.014286, 0.042857, 0.      , 0.      , 0.971429,\n         1.      , 1.      , 0.      , 0.842857, 0.657143]]),\n array([[1.75458863e-01, 1.06941961e-01, 1.71712607e-02, 1.51789855e-03,\n         2.95216741e-02, 0.00000000e+00, 9.08179522e-01, 9.95909323e-01,\n         9.87994589e-01, 5.84285393e-01, 2.62867411e-01],\n        [2.46395414e-01, 7.59941473e-01, 1.39259746e-02, 9.85453472e-01,\n         0.00000000e+00, 1.62404253e-02, 0.00000000e+00, 0.00000000e+00,\n         6.97497464e-03, 1.63295918e-01, 3.41376802e-01],\n        [4.02815214e-01, 1.32921476e-01, 8.79102822e-03, 4.63802336e-04,\n         9.70436805e-01, 5.48323637e-03, 1.59316106e-03, 0.00000000e+00,\n         0.00000000e+00, 5.71985700e-02, 1.25572241e-01],\n        [1.75330510e-01, 1.95090229e-04, 9.60111736e-01, 1.25648269e-02,\n         4.15213420e-05, 9.78276338e-01, 9.02273169e-02, 4.09067667e-03,\n         5.03043625e-03, 1.95220119e-01, 2.70183545e-01]]),\n array([[0.02564103, 0.04166667, 0.40909091, 0.02702703, 0.        ,\n         1.        , 0.        , 0.        , 0.        , 0.        ,\n         0.        , 0.        , 0.84415584, 0.18181818],\n        [0.07692308, 0.01388889, 0.18181818, 0.06756757, 0.01428571,\n         0.        , 1.        , 0.        , 0.        , 0.        ,\n         0.        , 1.        , 0.01298701, 0.3030303 ],\n        [0.06410256, 0.90277778, 0.36363636, 0.02702703, 0.92857143,\n         0.        , 0.        , 1.        , 0.        , 1.        ,\n         0.98484848, 0.        , 0.11688312, 0.1969697 ],\n        [0.83333333, 0.04166667, 0.04545455, 0.87837838, 0.05714286,\n         0.        , 0.        , 0.        , 1.        , 0.        ,\n         0.01515152, 0.        , 0.02597403, 0.31818182]]),\n array([[2.54420470e-01, 2.42803451e-01, 1.33013477e-01, 6.59969734e-01,\n         3.34871839e-01, 1.06992582e-01, 1.88969824e-01, 2.69773311e-01,\n         1.61446038e-01, 2.48523616e-01],\n        [2.19634872e-01, 4.27229938e-02, 5.59591453e-01, 7.24433949e-08,\n         3.84590682e-01, 3.63005201e-01, 1.45902126e-07, 4.01549660e-01,\n         5.10849159e-01, 1.50994067e-01],\n        [2.27567051e-01, 1.05842438e-02, 4.25834538e-03, 1.68554257e-01,\n         1.92907542e-02, 1.53286027e-01, 1.73820472e-01, 1.41600343e-01,\n         6.63937307e-02, 2.52839075e-01],\n        [2.98377544e-01, 7.03889270e-01, 3.03136872e-01, 1.71475750e-01,\n         2.61246716e-01, 3.76716354e-01, 6.37209735e-01, 1.87076884e-01,\n         2.61311109e-01, 3.47643257e-01]]),\n array([[0.11686453, 0.        , 0.97101914, 1.        , 0.        ,\n         0.        , 0.8119467 , 0.08895278],\n        [0.39429149, 0.0060208 , 0.02898086, 0.        , 0.02835741,\n         0.        , 0.        , 0.38308068],\n        [0.11863265, 0.        , 0.        , 0.        , 0.        ,\n         0.60121145, 0.1880533 , 0.11996864],\n        [0.37021133, 0.9939792 , 0.        , 0.        , 0.97164259,\n         0.39878855, 0.        , 0.40799791]]),\n array([[0.27521   , 0.415966  , 0.        , 0.        , 0.        ,\n         0.40966441, 0.443277  , 0.161765  , 0.016807  , 0.        ,\n         0.014706  , 0.00630299, 0.39916   , 0.35714336, 0.283613  ],\n        [0.237395  , 0.054622  , 0.        , 0.        , 0.        ,\n         0.00840301, 0.319328  , 0.027311  , 0.035714  , 0.165966  ,\n         0.936975  , 0.93907506, 0.415966  , 0.23109223, 0.182773  ],\n        [0.180672  , 0.294118  , 0.964286  , 1.        , 0.941176  ,\n         0.53571454, 0.119748  , 0.        , 0.031513  , 0.014706  ,\n         0.        , 0.        , 0.069328  , 0.2962183 , 0.359244  ],\n        [0.306723  , 0.235294  , 0.035714  , 0.        , 0.058824  ,\n         0.04621805, 0.117647  , 0.810924  , 0.915966  , 0.819328  ,\n         0.048319  , 0.05462195, 0.115546  , 0.11554612, 0.17437   ]]),\n array([[0.39103861, 0.05702606, 0.016293  , 0.05499   , 0.03666   ,\n         0.        , 0.321792  , 0.01018301, 0.        , 0.028513  ,\n         0.27698572, 0.01222   , 0.101833  , 0.        , 0.03869696],\n        [0.1038699 , 0.31160931, 0.580448  , 0.016293  , 0.837067  ,\n         0.989817  , 0.602851  , 0.61507162, 1.        , 0.069246  ,\n         0.07942992, 0.346232  , 0.158859  , 0.        , 0.03869696],\n        [0.42769857, 0.56008156, 0.03055   , 0.826884  , 0.044807  ,\n         0.        , 0.03055   , 0.        , 0.        , 0.008147  ,\n         0.53360447, 0.629328  , 0.01833   , 0.99389   , 0.86150614],\n        [0.07739292, 0.07128307, 0.372709  , 0.101833  , 0.081466  ,\n         0.010183  , 0.044807  , 0.37474537, 0.        , 0.894094  ,\n         0.10997989, 0.01222   , 0.720978  , 0.00611   , 0.06109994]]),\n array([[0.43456585, 0.40567864, 0.3532947 , 0.32941423, 0.07257596,\n         0.01103835, 0.08413065, 0.08153181, 0.05682386, 0.85873736,\n         0.08598193, 0.0684054 , 0.11774436, 0.82985125, 0.02843602,\n         0.00256761, 0.75254731, 0.30802738, 0.35539693, 0.3376163 ,\n         0.24689745],\n        [0.11944329, 0.09184771, 0.14509551, 0.15788369, 0.21966325,\n         0.02413471, 0.8891455 , 0.10417953, 0.03349442, 0.06731775,\n         0.44111743, 0.01921757, 0.81203008, 0.02222965, 0.00164054,\n         0.98065731, 0.02086366, 0.22526447, 0.11377893, 0.10611431,\n         0.19181363],\n        [0.1769838 , 0.10109701, 0.09229448, 0.18727693, 0.01761177,\n         0.96220767, 0.0034642 , 0.02264772, 0.78836861, 0.01604465,\n         0.39143526, 0.04918783, 0.02421053, 0.08022731, 0.87039738,\n         0.01078398, 0.17046741, 0.1709189 , 0.12524335, 0.07089056,\n         0.12018289],\n        [0.26900706, 0.40137664, 0.4093153 , 0.32542515, 0.69014902,\n         0.00261927, 0.02325965, 0.79164093, 0.12131311, 0.05790024,\n         0.08146537, 0.8631892 , 0.04601504, 0.06769179, 0.09952607,\n         0.0059911 , 0.05612162, 0.29578926, 0.40558079, 0.48537882,\n         0.44110603]]),\n array([[1.37038514e-01, 1.07102365e-01, 1.43611240e-02, 2.16855468e-01,\n         3.34099040e-01, 6.27259196e-03, 4.20904946e-04, 8.70180631e-01,\n         7.20045429e-02, 2.70857383e-01, 2.18743344e-01, 1.28189596e-01,\n         5.96240644e-01, 9.13882645e-01, 6.01650474e-03, 2.33088040e-01],\n        [3.92279395e-01, 4.04923874e-03, 5.03415619e-02, 1.75101042e-01,\n         4.96704952e-02, 7.25069105e-01, 7.18589968e-01, 1.33955677e-02,\n         4.35737270e-02, 1.10889565e-02, 4.87397941e-02, 4.80729916e-01,\n         1.31120379e-02, 2.12386637e-02, 8.83247286e-01, 2.27369448e-01],\n        [2.36980898e-01, 8.81762229e-01, 2.15028722e-02, 1.06734218e-02,\n         4.82244398e-01, 4.71684740e-02, 1.07681515e-02, 4.29948391e-02,\n         1.42343366e-02, 7.17703851e-01, 7.26056088e-01, 5.08821080e-02,\n         1.72113352e-01, 4.89884505e-02, 4.02455384e-03, 4.00390106e-01],\n        [2.33701192e-01, 7.08616780e-03, 9.13794442e-01, 5.97370069e-01,\n         1.33986067e-01, 2.21489829e-01, 2.70220975e-01, 7.34289617e-02,\n         8.70187394e-01, 3.49809354e-04, 6.46077387e-03, 3.40198380e-01,\n         2.18533966e-01, 1.58902411e-02, 1.06711655e-01, 1.39152407e-01]]),\n array([[0.25492958, 0.29015017, 0.02529789, 0.10352101, 0.94181198,\n         0.        , 0.87129581, 0.02899639, 0.18551532, 0.08350101],\n        [0.30885312, 0.16989056, 0.40843263, 0.00908648, 0.        ,\n         0.        , 0.12870419, 0.56219952, 0.24832869, 0.40985915],\n        [0.21146881, 0.34219903, 0.06361137, 0.80626318, 0.05818802,\n         0.        , 0.        , 0.22445913, 0.44387187, 0.22173038],\n        [0.22474849, 0.19776024, 0.50265811, 0.08112932, 0.        ,\n         1.        , 0.        , 0.18434495, 0.12228412, 0.28490946]]),\n array([[6.60224066e-02, 9.28833916e-01, 9.98939657e-01, 4.79527850e-03,\n         3.92447531e-02, 5.43041884e-01, 2.61023373e-01, 8.19663055e-01,\n         9.64134207e-05, 1.88594923e-02, 8.21938452e-01],\n        [4.14778072e-02, 2.06148606e-03, 3.85579333e-04, 3.23681298e-02,\n         4.66567840e-02, 1.49102490e-01, 2.76268688e-01, 2.68923515e-03,\n         4.82067104e-04, 5.24669289e-02, 1.49904822e-02],\n        [6.24305140e-03, 3.16393296e-02, 6.74763833e-04, 7.19291774e-03,\n         1.05562924e-01, 1.88573634e-01, 4.36428722e-01, 1.44190461e-01,\n         2.89240262e-04, 2.41329996e-03, 5.73445431e-02],\n        [8.86256735e-01, 3.74652684e-02, 0.00000000e+00, 9.55643674e-01,\n         8.08535539e-01, 1.19281992e-01, 2.62792167e-02, 3.34572491e-02,\n         9.99132279e-01, 9.26260279e-01, 1.05726523e-01]]),\n array([[5.84032308e-01, 3.20399765e-02, 5.33212560e-01, 6.25711035e-03,\n         1.00000000e+00, 5.87509638e-01, 9.54046843e-01, 0.00000000e+00,\n         9.86813861e-01, 3.10655483e-04, 9.95360346e-01, 8.09967279e-01,\n         1.00000000e+00, 1.49056194e-01, 4.97670084e-01, 3.25978869e-01,\n         5.07921715e-01],\n        [7.36253495e-02, 4.75014697e-01, 2.83816425e-02, 7.84982935e-02,\n         0.00000000e+00, 1.25931637e-02, 0.00000000e+00, 9.56030897e-01,\n         3.98650721e-03, 0.00000000e+00, 6.18620476e-04, 4.22854266e-02,\n         0.00000000e+00, 1.08483402e-01, 4.16278347e-02, 2.33374767e-01,\n         7.14507611e-02],\n        [2.60018639e-01, 2.20458554e-02, 4.38405797e-01, 0.00000000e+00,\n         0.00000000e+00, 1.60370085e-01, 4.59531574e-02, 0.00000000e+00,\n         9.19963201e-03, 0.00000000e+00, 4.02103310e-03, 2.84419834e-02,\n         0.00000000e+00, 4.42612280e-02, 4.54488972e-01, 1.61591050e-02,\n         1.56259708e-01],\n        [8.23237030e-02, 4.70899471e-01, 0.00000000e+00, 9.15244596e-01,\n         0.00000000e+00, 2.39527114e-01, 0.00000000e+00, 4.39691028e-02,\n         0.00000000e+00, 9.99689345e-01, 0.00000000e+00, 1.19305311e-01,\n         0.00000000e+00, 6.98199176e-01, 6.21310966e-03, 4.24487259e-01,\n         2.64367816e-01]]),\n array([[0. , 0. , 0. , 0. , 0. , 0. , 0. ],\n        [0. , 0. , 1. , 1. , 0. , 1. , 0.5],\n        [0. , 0. , 0. , 0. , 0. , 0. , 0. ],\n        [1. , 1. , 0. , 0. , 1. , 0. , 0.5]]),\n array([[0.18194564, 0.        , 0.71391177, 0.977752  , 0.        ,\n         0.07560375, 0.67059589, 0.24050906],\n        [0.15843399, 0.31806148, 0.20448071, 0.022248  , 0.        ,\n         0.00146131, 0.        , 0.40163934],\n        [0.4153365 , 0.        , 0.00762183, 0.        , 0.00215216,\n         0.20973696, 0.32940411, 0.16738568],\n        [0.24428387, 0.68193852, 0.07398568, 0.        , 0.99784784,\n         0.71319797, 0.        , 0.19046592]]),\n array([[0.173, 0.226, 0.288, 0.105, 0.334, 0.06 , 0.052, 0.037, 0.023,\n         0.001, 0.245, 0.001, 0.001, 0.05 , 0.253, 0.004, 0.172, 0.001,\n         0.019, 0.192],\n        [0.416, 0.275, 0.299, 0.32 , 0.114, 0.326, 0.562, 0.005, 0.96 ,\n         0.997, 0.67 , 0.689, 0.997, 0.043, 0.073, 0.418, 0.15 , 0.001,\n         0.063, 0.432],\n        [0.246, 0.229, 0.259, 0.268, 0.416, 0.554, 0.052, 0.827, 0.013,\n         0.001, 0.027, 0.001, 0.001, 0.017, 0.525, 0.546, 0.055, 0.997,\n         0.865, 0.15 ],\n        [0.165, 0.27 , 0.154, 0.307, 0.136, 0.06 , 0.334, 0.131, 0.004,\n         0.001, 0.058, 0.309, 0.001, 0.89 , 0.149, 0.032, 0.623, 0.001,\n         0.053, 0.226]]),\n array([[1.12434e-02, 6.61376e-04, 1.12434e-02, 6.61376e-04, 5.35714e-02,\n         9.98016e-01, 6.61376e-04, 6.61376e-04, 6.61376e-04],\n        [7.99603e-01, 5.95238e-03, 6.61376e-04, 6.61376e-04, 5.95238e-03,\n         6.61376e-04, 9.90079e-01, 6.61376e-04, 6.61376e-04],\n        [2.44709e-02, 6.61376e-04, 6.61376e-04, 9.98016e-01, 9.39815e-01,\n         6.61376e-04, 6.61376e-04, 6.61376e-04, 1.91799e-02],\n        [1.64683e-01, 9.92725e-01, 9.87434e-01, 6.61376e-04, 6.61376e-04,\n         6.61376e-04, 8.59788e-03, 9.98016e-01, 9.79497e-01]])]"
     },
     "execution_count": 7,
     "metadata": {},
     "output_type": "execute_result"
    }
   ],
   "source": [
    "reduced_groups"
   ],
   "metadata": {
    "collapsed": false,
    "pycharm": {
     "name": "#%%\n"
    }
   }
  },
  {
   "cell_type": "code",
   "execution_count": 8,
   "outputs": [
    {
     "name": "stdout",
     "output_type": "stream",
     "text": [
      "iteration 1\n"
     ]
    },
    {
     "name": "stderr",
     "output_type": "stream",
     "text": [
      "/mnt/c/Users/ignacio.ibarra/Dropbox/workspace/theislab/mubind/mubind/tl/aggregation.py:154: NumbaWarning: \u001B[1m\n",
      "Compilation is falling back to object mode WITH looplifting enabled because Function \"submatrix\" failed type inference due to: \u001B[1m\u001B[1m\u001B[1mNo implementation of function Function(<function flip at 0x7f2c0e350820>) found for signature:\n",
      " \n",
      " >>> flip(array(float64, 2d, A), list(int64)<iv=[1]>)\n",
      " \n",
      "There are 2 candidate implementations:\n",
      "\u001B[1m  - Of which 2 did not match due to:\n",
      "  Overload in function 'np_flip': File: numba/np/arrayobj.py: Line 5630.\n",
      "    With argument(s): '(array(float64, 2d, A), list(int64)<iv=None>)':\u001B[0m\n",
      "\u001B[1m   Rejected as the implementation raised a specific error:\n",
      "     TypingError: \u001B[1mtoo many positional arguments\u001B[0m\u001B[0m\n",
      "  raised from /home/rio/miniconda3/envs/mubind/lib/python3.10/site-packages/numba/core/typing/templates.py:791\n",
      "\u001B[0m\n",
      "\u001B[0m\u001B[1mDuring: resolving callee type: Function(<function flip at 0x7f2c0e350820>)\u001B[0m\n",
      "\u001B[0m\u001B[1mDuring: typing of call at /mnt/c/Users/ignacio.ibarra/Dropbox/workspace/theislab/mubind/mubind/tl/aggregation.py (158)\n",
      "\u001B[0m\n",
      "\u001B[1m\n",
      "File \"../../mubind/tl/aggregation.py\", line 158:\u001B[0m\n",
      "\u001B[1mdef submatrix(m, start, length, flip, filter_neg_weights=True):\n",
      "    <source elided>\n",
      "    if flip:\n",
      "\u001B[1m        sub_m = np.flip(sub_m, [1])\n",
      "\u001B[0m        \u001B[1m^\u001B[0m\u001B[0m\n",
      "\u001B[0m\n",
      "  @jit\n",
      "/home/rio/miniconda3/envs/mubind/lib/python3.10/site-packages/numba/core/object_mode_passes.py:151: NumbaWarning: \u001B[1mFunction \"submatrix\" was compiled in object mode without forceobj=True.\n",
      "\u001B[1m\n",
      "File \"../../mubind/tl/aggregation.py\", line 155:\u001B[0m\n",
      "\u001B[1m@jit\n",
      "\u001B[1mdef submatrix(m, start, length, flip, filter_neg_weights=True):\n",
      "\u001B[0m\u001B[1m^\u001B[0m\u001B[0m\n",
      "\u001B[0m\n",
      "  warnings.warn(errors.NumbaWarning(warn_msg,\n",
      "/home/rio/miniconda3/envs/mubind/lib/python3.10/site-packages/numba/core/object_mode_passes.py:161: NumbaDeprecationWarning: \u001B[1m\n",
      "Fall-back from the nopython compilation path to the object mode compilation path has been detected, this is deprecated behaviour.\n",
      "\n",
      "For more information visit https://numba.readthedocs.io/en/stable/reference/deprecation.html#deprecation-of-object-mode-fall-back-behaviour-when-using-jit\n",
      "\u001B[1m\n",
      "File \"../../mubind/tl/aggregation.py\", line 155:\u001B[0m\n",
      "\u001B[1m@jit\n",
      "\u001B[1mdef submatrix(m, start, length, flip, filter_neg_weights=True):\n",
      "\u001B[0m\u001B[1m^\u001B[0m\u001B[0m\n",
      "\u001B[0m\n",
      "  warnings.warn(errors.NumbaDeprecationWarning(msg,\n"
     ]
    },
    {
     "name": "stdout",
     "output_type": "stream",
     "text": [
      "# grouping (1, 13)\n",
      "[5 2 5 1 5 5 5 4.999999998638714 5.0 0 0.04460210483588707 '5_2' False]\n",
      "option 2\n",
      "(4, 11) (4, 11) (4, 15) (4, 15) 3 -4\n",
      "# of remaining groups 9\n",
      "min/max shape 7 15\n",
      "iteration 2\n"
     ]
    },
    {
     "name": "stderr",
     "output_type": "stream",
     "text": [
      "/mnt/c/Users/ignacio.ibarra/Dropbox/workspace/theislab/mubind/mubind/tl/aggregation.py:154: NumbaWarning: \u001B[1m\n",
      "Compilation is falling back to object mode WITH looplifting enabled because Function \"submatrix\" failed type inference due to: \u001B[1m\u001B[1m\u001B[1mNo implementation of function Function(<function flip at 0x7f2c0e350820>) found for signature:\n",
      " \n",
      " >>> flip(array(float64, 2d, A), list(int64)<iv=[1]>)\n",
      " \n",
      "There are 2 candidate implementations:\n",
      "\u001B[1m    - Of which 2 did not match due to:\n",
      "    Overload in function 'np_flip': File: numba/np/arrayobj.py: Line 5630.\n",
      "      With argument(s): '(array(float64, 2d, A), list(int64)<iv=None>)':\u001B[0m\n",
      "\u001B[1m     Rejected as the implementation raised a specific error:\n",
      "       TypingError: \u001B[1mtoo many positional arguments\u001B[0m\u001B[0m\n",
      "  raised from /home/rio/miniconda3/envs/mubind/lib/python3.10/site-packages/numba/core/typing/templates.py:791\n",
      "\u001B[0m\n",
      "\u001B[0m\u001B[1mDuring: resolving callee type: Function(<function flip at 0x7f2c0e350820>)\u001B[0m\n",
      "\u001B[0m\u001B[1mDuring: typing of call at /mnt/c/Users/ignacio.ibarra/Dropbox/workspace/theislab/mubind/mubind/tl/aggregation.py (158)\n",
      "\u001B[0m\n",
      "\u001B[1m\n",
      "File \"../../mubind/tl/aggregation.py\", line 158:\u001B[0m\n",
      "\u001B[1mdef submatrix(m, start, length, flip, filter_neg_weights=True):\n",
      "    <source elided>\n",
      "    if flip:\n",
      "\u001B[1m        sub_m = np.flip(sub_m, [1])\n",
      "\u001B[0m        \u001B[1m^\u001B[0m\u001B[0m\n",
      "\u001B[0m\n",
      "  @jit\n",
      "/home/rio/miniconda3/envs/mubind/lib/python3.10/site-packages/numba/core/object_mode_passes.py:151: NumbaWarning: \u001B[1mFunction \"submatrix\" was compiled in object mode without forceobj=True.\n",
      "\u001B[1m\n",
      "File \"../../mubind/tl/aggregation.py\", line 155:\u001B[0m\n",
      "\u001B[1m@jit\n",
      "\u001B[1mdef submatrix(m, start, length, flip, filter_neg_weights=True):\n",
      "\u001B[0m\u001B[1m^\u001B[0m\u001B[0m\n",
      "\u001B[0m\n",
      "  warnings.warn(errors.NumbaWarning(warn_msg,\n",
      "/home/rio/miniconda3/envs/mubind/lib/python3.10/site-packages/numba/core/object_mode_passes.py:161: NumbaDeprecationWarning: \u001B[1m\n",
      "Fall-back from the nopython compilation path to the object mode compilation path has been detected, this is deprecated behaviour.\n",
      "\n",
      "For more information visit https://numba.readthedocs.io/en/stable/reference/deprecation.html#deprecation-of-object-mode-fall-back-behaviour-when-using-jit\n",
      "\u001B[1m\n",
      "File \"../../mubind/tl/aggregation.py\", line 155:\u001B[0m\n",
      "\u001B[1m@jit\n",
      "\u001B[1mdef submatrix(m, start, length, flip, filter_neg_weights=True):\n",
      "\u001B[0m\u001B[1m^\u001B[0m\u001B[0m\n",
      "\u001B[0m\n",
      "  warnings.warn(errors.NumbaDeprecationWarning(msg,\n"
     ]
    },
    {
     "name": "stdout",
     "output_type": "stream",
     "text": [
      "# grouping (1, 13)\n",
      "[1 0 0 0 5 5 5 4.999999999999999 5.000000000000001 0 0.05830055008968636\n",
      " '1_0' False]\n",
      "option 1\n",
      "(4, 9) (4, 9) (4, 9) (4, 9) 2 0\n",
      "# of remaining groups 8\n",
      "min/max shape 9 15\n",
      "iteration 3\n",
      "# grouping (1, 13)\n",
      "[1 0 0 4 5 5 5 5.0 5.0 1 0.04871506634997009 '1_0' False]\n",
      "option 1\n",
      "(4, 9) (4, 9) (4, 13) (4, 13) 0 4\n",
      "# of remaining groups 7\n",
      "min/max shape 10 15\n",
      "iteration 4\n",
      "# grouping (1, 13)\n",
      "[2 0 10 8 5 5 5 2.999999999863873 4.5 0 0.09535521695200508 '2_0' False]\n",
      "option 2\n",
      "(4, 15) (4, 15) (4, 17) (4, 17) 2 -2\n",
      "# of remaining groups 7\n",
      "min/max shape 10 15\n",
      "no more groupings can be done. Stop.\n"
     ]
    }
   ],
   "source": [
    "reduced_groups = mb.tl.reduce_filters([p.to_numpy() for p in pwms[:10]], thr_group=0.03, plot=False)"
   ],
   "metadata": {
    "collapsed": false,
    "pycharm": {
     "name": "#%%\n"
    }
   }
  },
  {
   "cell_type": "code",
   "execution_count": 9,
   "outputs": [],
   "source": [
    "reduced_groups = reduced_groups[:4]\n",
    "reduced_groups = reduced_groups[:1]"
   ],
   "metadata": {
    "collapsed": false,
    "pycharm": {
     "name": "#%%\n"
    }
   }
  },
  {
   "cell_type": "code",
   "execution_count": 161,
   "outputs": [
    {
     "name": "stdout",
     "output_type": "stream",
     "text": [
      "Using device: cuda:0\n"
     ]
    },
    {
     "data": {
      "text/plain": "Multibind(\n  (padding): ConstantPad2d(padding=(12, 12, 0, 0), value=0.25)\n  (binding_modes): BindingModesSimple(\n    (conv_mono): ModuleList(\n      (0): None\n      (1): Conv2d(1, 1, kernel_size=(4, 13), stride=(1, 1), bias=False)\n    )\n    (conv_di): ModuleList(\n      (0): None\n    )\n  )\n  (activities): ActivitiesLayer(\n    (log_activities): ParameterList(\n        (0): Parameter containing: [torch.cuda.FloatTensor of size 100x1 (GPU 0)]\n        (1): Parameter containing: [torch.cuda.FloatTensor of size 100x1 (GPU 0)]\n    )\n  )\n  (selex_module): SelexModule()\n)"
     },
     "execution_count": 161,
     "metadata": {},
     "output_type": "execute_result"
    }
   ],
   "source": [
    "\n",
    "criterion = mb.tl.PoissonLoss()\n",
    "\n",
    "n_rounds = 1\n",
    "n_batches = 100\n",
    "enr_series = 0\n",
    "\n",
    "device = torch.device(\"cuda:0\" if torch.cuda.is_available() else \"cpu\")\n",
    "\n",
    "model = mb.models.Multibind(\n",
    "    datatype=\"selex\",\n",
    "    kernels=[0] + [m.shape[-1] for m in reduced_groups],\n",
    "    n_rounds=n_rounds,\n",
    "    init_random=False,\n",
    "    n_batches=n_batches,\n",
    "    enr_series=enr_series,\n",
    "    use_dinuc=False,\n",
    "    dinuc_mode=None# 'full',\n",
    ").to(device)\n",
    "\n",
    "model"
   ],
   "metadata": {
    "collapsed": false,
    "pycharm": {
     "name": "#%%\n"
    }
   }
  },
  {
   "cell_type": "code",
   "execution_count": 11,
   "outputs": [],
   "source": [
    "\n",
    "\n",
    "for i, mono_best in enumerate(reduced_groups):\n",
    "    if mono_best.shape[-1] == 0:\n",
    "        continue\n",
    "    # print(mono_best.shape, model.binding_modes.conv_mono[i + 1].weight.shape)\n",
    "    # print(model.binding_modes.conv_mono[i + 1].weight.device)\n",
    "    new_w = mono_best.reshape([1, 1] + list(mono_best.shape))\n",
    "    model.binding_modes.conv_mono[i + 1].weight = torch.nn.Parameter(torch.tensor(new_w, dtype=torch.float))\n",
    "    # print(model.binding_modes.conv_mono[i + 1].weight.device)\n",
    "# move the model a final time to the GPU\n",
    "model = model.to(device)\n"
   ],
   "metadata": {
    "collapsed": false,
    "pycharm": {
     "name": "#%%\n"
    }
   }
  },
  {
   "cell_type": "code",
   "execution_count": 12,
   "outputs": [
    {
     "name": "stdout",
     "output_type": "stream",
     "text": [
      "Using device: cuda:0\n"
     ]
    }
   ],
   "source": [
    "device = torch.device(\"cuda:0\" if torch.cuda.is_available() else \"cpu\")\n",
    "print(\"Using device: \" + str(device))\n",
    "\n",
    "# suppress numba deprecations warnings\n",
    "from numba.core.errors import NumbaDeprecationWarning, NumbaPendingDeprecationWarning\n",
    "import warnings\n",
    "\n",
    "warnings.simplefilter('ignore', category=NumbaDeprecationWarning)\n",
    "warnings.simplefilter('ignore', category=NumbaPendingDeprecationWarning)"
   ],
   "metadata": {
    "collapsed": false,
    "pycharm": {
     "name": "#%%\n"
    }
   }
  },
  {
   "cell_type": "code",
   "execution_count": 13,
   "outputs": [
    {
     "name": "stdout",
     "output_type": "stream",
     "text": [
      "(4, 13)\n"
     ]
    }
   ],
   "source": [
    "for p in reduced_groups:\n",
    "    print(p.shape)"
   ],
   "metadata": {
    "collapsed": false,
    "pycharm": {
     "name": "#%%\n"
    }
   }
  },
  {
   "cell_type": "code",
   "execution_count": 14,
   "outputs": [
    {
     "name": "stdout",
     "output_type": "stream",
     "text": [
      "True\n",
      "12\n"
     ]
    },
    {
     "data": {
      "text/plain": "<Figure size 1350x270 with 1 Axes>",
      "image/png": "[encoded data removed]"
     },
     "metadata": {},
     "output_type": "display_data"
    }
   ],
   "source": [
    "mb.pl.set_rcParams({'figure.figsize': [15, 3], 'figure.dpi': 90})\n",
    "mb.pl.conv(model, title=False, xticks=False, rowspan_dinuc=0, rowspan_mono=1, n_rows=5, n_cols=12) # n_cols=len(reduced_groups))\n"
   ],
   "metadata": {
    "collapsed": false,
    "pycharm": {
     "name": "#%%\n"
    }
   }
  },
  {
   "cell_type": "code",
   "execution_count": 15,
   "outputs": [],
   "source": [
    "def unfreeze(model, feat_lab=None, position=None):\n",
    "    # block mononucleotide but free dinucleotide and activities to calibrate themselves during training\n",
    "    verbose = 1\n",
    "    for ki in range(2 + 1):\n",
    "        mask_pos = (ki == position if position is not None else True)\n",
    "        mask_mono = (feat_lab == 'mono') and mask_pos\n",
    "        mask_dinuc = (feat_lab == 'dinuc') and mask_pos\n",
    "        if verbose != 0:\n",
    "            print(\"setting grad status of kernel (mono, dinuc) at %i to (%i, %i)\" % (ki, mask_mono, mask_dinuc))\n",
    "        model.binding_modes.update_grad_mono(ki, mask_mono)\n",
    "        model.binding_modes.update_grad_di(ki, mask_dinuc)"
   ],
   "metadata": {
    "collapsed": false,
    "pycharm": {
     "name": "#%%\n"
    }
   }
  },
  {
   "cell_type": "markdown",
   "source": [
    "### Freeze weights and train"
   ],
   "metadata": {
    "collapsed": false,
    "pycharm": {
     "name": "#%% md\n"
    }
   }
  },
  {
   "cell_type": "code",
   "execution_count": 16,
   "outputs": [],
   "source": [
    "# unfreeze(model, None)\n",
    "# model.binding_modes.update_grad_mono(0, True)\n",
    "# model.binding_modes.update_grad_di(0, True)"
   ],
   "metadata": {
    "collapsed": false,
    "pycharm": {
     "name": "#%%\n"
    }
   }
  },
  {
   "cell_type": "code",
   "execution_count": 17,
   "outputs": [
    {
     "name": "stdout",
     "output_type": "stream",
     "text": [
      "/mnt/c/Users/ignacio.ibarra/Dropbox/workspace/theislab/mubind/notebooks/scatac\n"
     ]
    }
   ],
   "source": [
    "cd ~/workspace/theislab/mubind/notebooks/scatac"
   ],
   "metadata": {
    "collapsed": false,
    "pycharm": {
     "name": "#%%\n"
    }
   }
  },
  {
   "cell_type": "code",
   "execution_count": 18,
   "outputs": [
    {
     "name": "stdout",
     "output_type": "stream",
     "text": [
      "Using device: cuda:0\n"
     ]
    }
   ],
   "source": [
    "import mubind as mb\n",
    "import numpy as np\n",
    "import pandas as pd\n",
    "import torch\n",
    "import bindome as bd\n",
    "bd.constants.ANNOTATIONS_DIRECTORY = 'annotations'\n",
    "# mb.models.MultiBind\n",
    "import torch.optim as topti\n",
    "import torch.utils.data as tdata\n",
    "import matplotlib.pyplot as plt\n",
    "import logomaker\n",
    "import os\n",
    "import scipy\n",
    "import pickle\n",
    "\n",
    "# Use a GPU if available, as it should be faster.\n",
    "device = torch.device(\"cuda:0\" if torch.cuda.is_available() else \"cpu\")\n",
    "print(\"Using device: \" + str(device))"
   ],
   "metadata": {
    "collapsed": false,
    "pycharm": {
     "name": "#%%\n"
    }
   }
  },
  {
   "cell_type": "code",
   "execution_count": 22,
   "outputs": [
    {
     "data": {
      "text/plain": "True"
     },
     "execution_count": 22,
     "metadata": {},
     "output_type": "execute_result"
    }
   ],
   "source": [
    "atac_path = '../../annotations/scatac/pancreas_multiome_2022_processed_sample_c16918_p50000.h5ad'\n",
    "os.path.exists(atac_path)"
   ],
   "metadata": {
    "collapsed": false,
    "pycharm": {
     "name": "#%%\n"
    }
   }
  },
  {
   "cell_type": "code",
   "execution_count": 21,
   "outputs": [
    {
     "name": "stdout",
     "output_type": "stream",
     "text": [
      "total 2.9G\r\n",
      "-rwxrwxrwx 1 rio rio 2.3G Jan 23 23:02 pancreas_multiome_2022_processed.h5ad\r\n",
      "-rwxrwxrwx 1 rio rio 381K Jan 24 19:01 pancreas_multiome_2022_processed_sample_100.h5ad\r\n",
      "-rwxrwxrwx 1 rio rio 2.4M Jan 24 19:01 pancreas_multiome_2022_processed_sample_1000.h5ad\r\n",
      "-rwxrwxrwx 1 rio rio 1.2M Jan 24 19:01 pancreas_multiome_2022_processed_sample_500.h5ad\r\n",
      "-rwxrwxrwx 1 rio rio  50M Jan 25 10:54 pancreas_multiome_2022_processed_sample_10000.h5ad\r\n",
      "-rwxrwxrwx 1 rio rio 122M Feb  3 09:15 pancreas_multiome_2022_processed_sample_c16918_p20000.h5ad\r\n",
      "-rwxrwxrwx 1 rio rio 170M Feb  3 09:15 pancreas_multiome_2022_processed_sample_c16918_p30000.h5ad\r\n",
      "-rwxrwxrwx 1 rio rio 325M Feb  3 09:15 pancreas_multiome_2022_processed_sample_c16918_p50000.h5ad\r\n"
     ]
    }
   ],
   "source": [
    "!ls -ltrh ../../annotations/scatac/"
   ],
   "metadata": {
    "collapsed": false,
    "pycharm": {
     "name": "#%%\n"
    }
   }
  },
  {
   "cell_type": "code",
   "execution_count": 23,
   "outputs": [],
   "source": [
    "import scanpy as sc\n",
    "adata = sc.read_h5ad(atac_path)"
   ],
   "metadata": {
    "collapsed": false,
    "pycharm": {
     "name": "#%%\n"
    }
   }
  },
  {
   "cell_type": "code",
   "execution_count": 24,
   "outputs": [
    {
     "data": {
      "text/plain": "95155990.0"
     },
     "execution_count": 24,
     "metadata": {},
     "output_type": "execute_result"
    }
   ],
   "source": [
    "adata.X.sum()"
   ],
   "metadata": {
    "collapsed": false,
    "pycharm": {
     "name": "#%%\n"
    }
   }
  },
  {
   "cell_type": "code",
   "execution_count": 25,
   "outputs": [
    {
     "data": {
      "text/plain": "(16918, 50000)"
     },
     "execution_count": 25,
     "metadata": {},
     "output_type": "execute_result"
    }
   ],
   "source": [
    "adata.shape"
   ],
   "metadata": {
    "collapsed": false,
    "pycharm": {
     "name": "#%%\n"
    }
   }
  },
  {
   "cell_type": "code",
   "execution_count": 25,
   "outputs": [],
   "source": [],
   "metadata": {
    "collapsed": false,
    "pycharm": {
     "name": "#%%\n"
    }
   }
  },
  {
   "cell_type": "code",
   "execution_count": null,
   "outputs": [],
   "source": [],
   "metadata": {
    "collapsed": false,
    "pycharm": {
     "name": "#%%\n"
    }
   }
  },
  {
   "cell_type": "code",
   "execution_count": 297,
   "outputs": [
    {
     "data": {
      "text/plain": "(5000, 5000)"
     },
     "execution_count": 297,
     "metadata": {},
     "output_type": "execute_result"
    }
   ],
   "source": [
    "adata = adata[:,adata.var.modality == 'ATAC'].copy()\n",
    "\n",
    "n_sample_cells = 5000\n",
    "n_sample_peaks = 5000\n",
    "obs_sample = pd.Series(adata.obs_names).sample(n_sample_cells)\n",
    "var_sample = pd.Series(adata.var_names).sample(n_sample_peaks)\n",
    "\n",
    "ad = adata[adata.obs_names.isin(obs_sample),adata.var_names.isin(var_sample)]\n",
    "ad.shape"
   ],
   "metadata": {
    "collapsed": false,
    "pycharm": {
     "name": "#%%\n"
    }
   }
  },
  {
   "cell_type": "code",
   "execution_count": 298,
   "outputs": [
    {
     "data": {
      "text/plain": "<Figure size 2000x500 with 1 Axes>",
      "image/png": "[encoded data removed]"
     },
     "metadata": {},
     "output_type": "display_data"
    }
   ],
   "source": [
    "sc.pl.umap(ad)"
   ],
   "metadata": {
    "collapsed": false,
    "pycharm": {
     "name": "#%%\n"
    }
   }
  },
  {
   "cell_type": "code",
   "execution_count": 299,
   "outputs": [
    {
     "data": {
      "text/plain": "                      modality\n1-4491745-4492636         ATAC\n1-5257825-5258758         ATAC\n1-6970577-6971506         ATAC\n1-7144145-7145043         ATAC\n1-8563994-8564971         ATAC\n...                        ...\nX-166533240-166534148     ATAC\nX-166626750-166627646     ATAC\nX-168672149-168672904     ATAC\nY-90725776-90726677       ATAC\nY-90824999-90825866       ATAC\n\n[5000 rows x 1 columns]",
      "text/html": "<div>\n<style scoped>\n    .dataframe tbody tr th:only-of-type {\n        vertical-align: middle;\n    }\n\n    .dataframe tbody tr th {\n        vertical-align: top;\n    }\n\n    .dataframe thead th {\n        text-align: right;\n    }\n</style>\n<table border=\"1\" class=\"dataframe\">\n  <thead>\n    <tr style=\"text-align: right;\">\n      <th></th>\n      <th>modality</th>\n    </tr>\n  </thead>\n  <tbody>\n    <tr>\n      <th>1-4491745-4492636</th>\n      <td>ATAC</td>\n    </tr>\n    <tr>\n      <th>1-5257825-5258758</th>\n      <td>ATAC</td>\n    </tr>\n    <tr>\n      <th>1-6970577-6971506</th>\n      <td>ATAC</td>\n    </tr>\n    <tr>\n      <th>1-7144145-7145043</th>\n      <td>ATAC</td>\n    </tr>\n    <tr>\n      <th>1-8563994-8564971</th>\n      <td>ATAC</td>\n    </tr>\n    <tr>\n      <th>...</th>\n      <td>...</td>\n    </tr>\n    <tr>\n      <th>X-166533240-166534148</th>\n      <td>ATAC</td>\n    </tr>\n    <tr>\n      <th>X-166626750-166627646</th>\n      <td>ATAC</td>\n    </tr>\n    <tr>\n      <th>X-168672149-168672904</th>\n      <td>ATAC</td>\n    </tr>\n    <tr>\n      <th>Y-90725776-90726677</th>\n      <td>ATAC</td>\n    </tr>\n    <tr>\n      <th>Y-90824999-90825866</th>\n      <td>ATAC</td>\n    </tr>\n  </tbody>\n</table>\n<p>5000 rows × 1 columns</p>\n</div>"
     },
     "execution_count": 299,
     "metadata": {},
     "output_type": "execute_result"
    }
   ],
   "source": [
    "ad.var"
   ],
   "metadata": {
    "collapsed": false,
    "pycharm": {
     "name": "#%%\n"
    }
   }
  },
  {
   "cell_type": "code",
   "execution_count": 300,
   "outputs": [],
   "source": [
    "ad.var['chr'] = 'chr' + ad.var_names.str.split('-').str[0]\n",
    "ad.var['start'] = ad.var_names.str.split('-').str[1].astype(int)\n",
    "ad.var['end'] = ad.var_names.str.split('-').str[2].astype(int)"
   ],
   "metadata": {
    "collapsed": false,
    "pycharm": {
     "name": "#%%\n"
    }
   }
  },
  {
   "cell_type": "code",
   "execution_count": 301,
   "outputs": [
    {
     "data": {
      "text/plain": "chr2     408\nchr1     348\nchr5     328\nchr4     326\nchr11    311\nchr8     284\nchr9     276\nchr10    272\nchr6     268\nchr7     253\nchr3     251\nchr13    250\nchr14    219\nchr12    218\nchr15    195\nchr17    194\nchr18    186\nchr16    153\nchr19    144\nchrX     114\nchrY       2\nName: chr, dtype: int64"
     },
     "execution_count": 301,
     "metadata": {},
     "output_type": "execute_result"
    }
   ],
   "source": [
    "extend = 50\n",
    "\n",
    "ad.var['chr'].value_counts()"
   ],
   "metadata": {
    "collapsed": false,
    "pycharm": {
     "name": "#%%\n"
    }
   }
  },
  {
   "cell_type": "code",
   "execution_count": 302,
   "outputs": [],
   "source": [
    "ad.var['summit'] = ((ad.var['end'] + ad.var['start']) / 2).astype(int)\n",
    "ad.var['summit.start'] = ad.var['summit'] - extend\n",
    "ad.var['summit.end'] = ad.var['summit'] + extend\n",
    "ad.var['k.summit'] = ad.var['chr'] + ':' + ad.var['summit.start'].astype(str) + '-' + ad.var['summit.end'].astype(str)"
   ],
   "metadata": {
    "collapsed": false,
    "pycharm": {
     "name": "#%%\n"
    }
   }
  },
  {
   "cell_type": "code",
   "execution_count": 303,
   "outputs": [
    {
     "name": "stdout",
     "output_type": "stream",
     "text": [
      "/tmp/tmpd3e4y3hc\n",
      "genome mm10 True\n",
      "../../annotations/mm10/genome/mm10.fa\n",
      "True ../../annotations/mm10/genome/mm10.fa\n",
      "running bedtools...\n",
      "bedtools getfasta -fi ../../annotations/mm10/genome/mm10.fa -bed /tmp/tmpd3e4y3hc -fo /tmp/tmpk76u5mas\n"
     ]
    },
    {
     "data": {
      "text/plain": "5000"
     },
     "execution_count": 303,
     "metadata": {},
     "output_type": "execute_result"
    }
   ],
   "source": [
    "n_seqs = 10000 # adata.shape[1] # None # 1000\n",
    "seqs = mb.bindome.tl.get_sequences_from_bed(ad.var[['chr', 'summit.start', 'summit.end']].head(n_seqs), genome='mm10', uppercase=True,\n",
    "                                            gen_path='../../annotations/mm10/genome/mm10.fa')\n",
    "keys = set([s[0] for s in seqs])\n",
    "ad = ad[:,ad.var['k.summit'].isin(keys)]\n",
    "# seqs = [[s[0], s[1].upper()] for s in seqs[0]]\n",
    "len(seqs)"
   ],
   "metadata": {
    "collapsed": false,
    "pycharm": {
     "name": "#%%\n"
    }
   }
  },
  {
   "cell_type": "code",
   "execution_count": 304,
   "outputs": [],
   "source": [
    "# remove Ns\n",
    "for s in seqs:\n",
    "    if 'N' in s:\n",
    "        assert False\n",
    "    # seqs = [[s[0], s[1].replace('N', '')] for s in seqs]\n",
    "counts = ad.X.T"
   ],
   "metadata": {
    "collapsed": false,
    "pycharm": {
     "name": "#%%\n"
    }
   }
  },
  {
   "cell_type": "code",
   "execution_count": 305,
   "outputs": [],
   "source": [
    "next_data = pd.DataFrame(counts.A) # sparse.from_spmatrix(counts.A)"
   ],
   "metadata": {
    "collapsed": false,
    "pycharm": {
     "name": "#%%\n"
    }
   }
  },
  {
   "cell_type": "code",
   "execution_count": 306,
   "outputs": [],
   "source": [
    "next_data['var'] = next_data.var(axis=1)\n",
    "# next_data = next_data[range(100)].copy()"
   ],
   "metadata": {
    "collapsed": false,
    "pycharm": {
     "name": "#%%\n"
    }
   }
  },
  {
   "cell_type": "code",
   "execution_count": 307,
   "outputs": [
    {
     "data": {
      "text/plain": "(5000, 5001)"
     },
     "execution_count": 307,
     "metadata": {},
     "output_type": "execute_result"
    }
   ],
   "source": [
    "next_data.index = [s[1] for s in seqs]\n",
    "next_data.index.name = 'seq'\n",
    "next_data.shape"
   ],
   "metadata": {
    "collapsed": false,
    "pycharm": {
     "name": "#%%\n"
    }
   }
  },
  {
   "cell_type": "code",
   "execution_count": 308,
   "outputs": [],
   "source": [
    "# sum_index = next_data[next_data.columns[:-1]].var(axis=1).sort_values(ascending=False).index"
   ],
   "metadata": {
    "collapsed": false,
    "pycharm": {
     "name": "#%%\n"
    }
   }
  },
  {
   "cell_type": "code",
   "execution_count": 309,
   "outputs": [],
   "source": [
    "n_cells = 10000\n",
    "top_var = next_data[['var']].sort_values('var', ascending=False).index[:n_cells]"
   ],
   "metadata": {
    "collapsed": false,
    "pycharm": {
     "name": "#%%\n"
    }
   }
  },
  {
   "cell_type": "code",
   "execution_count": 310,
   "outputs": [],
   "source": [
    "# next_data = next_data.head(10000)\n",
    "next_data_sel = next_data.reindex(top_var) # .reset_index(drop=True)"
   ],
   "metadata": {
    "collapsed": false,
    "pycharm": {
     "name": "#%%\n"
    }
   }
  },
  {
   "cell_type": "code",
   "execution_count": 311,
   "outputs": [
    {
     "data": {
      "text/plain": "                                                      0    1    2    3    4  \\\nseq                                                                           \nCCCGCCCAAGCCCGTCCACAGATCAAACGTGGCGCCCCGCGCGCTAA...  1.0  2.0  1.0  6.0  0.0   \nCGCCCGTCAGCCCTCGGGACCCCCTCCGCCCCGCCTTCAGCACCCGG...  0.0  3.0  1.0  1.0  1.0   \nCTCGCGAAAAGTTCTGCCGGAGCTCCGCCCCCTCAGCGCCACAGCGG...  1.0  2.0  3.0  1.0  0.0   \nTCACTCCTCCTCTCCTCCCTTCCGCCCCCACCCCGCCCTCCCGCCAG...  3.0  1.0  3.0  1.0  0.0   \nGGGGCGGGAGCGAAGGGGAGAAAAAAAAAAACTGCCCTGGCGCCCCG...  0.0  1.0  6.0  6.0  0.0   \n...                                                 ...  ...  ...  ...  ...   \nACATTGACATAATAAATGAATTGGAAAACCCCATTGCTACTTAGCAA...  0.0  0.0  0.0  0.0  0.0   \nCTCACATCTATTTCTAATGGGATCTGATGCCCTCTTCTGGTTAGTTG...  0.0  0.0  0.0  0.0  0.0   \nTCTATTTTCTCTAGGCAGCCTTTCATCTGTCCGTGTGTGTGTGTGTG...  0.0  0.0  0.0  1.0  0.0   \nAAATATATTTTAAAACAGTTTATAAAGAAAACATTTTTTTTTACCTG...  0.0  0.0  0.0  0.0  0.0   \nTTGCTAATTGGTTTTTTGAACAGACTGAATGATGTGAGCTTCTTTGA...  0.0  0.0  0.0  0.0  0.0   \n\n                                                      5    6    7    8    9  \\\nseq                                                                           \nCCCGCCCAAGCCCGTCCACAGATCAAACGTGGCGCCCCGCGCGCTAA...  3.0  5.0  3.0  4.0  3.0   \nCGCCCGTCAGCCCTCGGGACCCCCTCCGCCCCGCCTTCAGCACCCGG...  3.0  0.0  4.0  5.0  1.0   \nCTCGCGAAAAGTTCTGCCGGAGCTCCGCCCCCTCAGCGCCACAGCGG...  3.0  1.0  4.0  4.0  0.0   \nTCACTCCTCCTCTCCTCCCTTCCGCCCCCACCCCGCCCTCCCGCCAG...  1.0  0.0  0.0  4.0  0.0   \nGGGGCGGGAGCGAAGGGGAGAAAAAAAAAAACTGCCCTGGCGCCCCG...  3.0  4.0  5.0  2.0  2.0   \n...                                                 ...  ...  ...  ...  ...   \nACATTGACATAATAAATGAATTGGAAAACCCCATTGCTACTTAGCAA...  0.0  0.0  0.0  0.0  0.0   \nCTCACATCTATTTCTAATGGGATCTGATGCCCTCTTCTGGTTAGTTG...  0.0  0.0  0.0  0.0  0.0   \nTCTATTTTCTCTAGGCAGCCTTTCATCTGTCCGTGTGTGTGTGTGTG...  0.0  0.0  0.0  0.0  0.0   \nAAATATATTTTAAAACAGTTTATAAAGAAAACATTTTTTTTTACCTG...  0.0  0.0  0.0  0.0  0.0   \nTTGCTAATTGGTTTTTTGAACAGACTGAATGATGTGAGCTTCTTTGA...  0.0  0.0  0.0  0.0  0.0   \n\n                                                    ...  4991  4992  4993  \\\nseq                                                 ...                     \nCCCGCCCAAGCCCGTCCACAGATCAAACGTGGCGCCCCGCGCGCTAA...  ...   1.0   3.0   4.0   \nCGCCCGTCAGCCCTCGGGACCCCCTCCGCCCCGCCTTCAGCACCCGG...  ...   1.0   3.0   0.0   \nCTCGCGAAAAGTTCTGCCGGAGCTCCGCCCCCTCAGCGCCACAGCGG...  ...   3.0   4.0   0.0   \nTCACTCCTCCTCTCCTCCCTTCCGCCCCCACCCCGCCCTCCCGCCAG...  ...   0.0   2.0   2.0   \nGGGGCGGGAGCGAAGGGGAGAAAAAAAAAAACTGCCCTGGCGCCCCG...  ...   2.0   5.0   1.0   \n...                                                 ...   ...   ...   ...   \nACATTGACATAATAAATGAATTGGAAAACCCCATTGCTACTTAGCAA...  ...   0.0   0.0   0.0   \nCTCACATCTATTTCTAATGGGATCTGATGCCCTCTTCTGGTTAGTTG...  ...   0.0   0.0   0.0   \nTCTATTTTCTCTAGGCAGCCTTTCATCTGTCCGTGTGTGTGTGTGTG...  ...   0.0   0.0   0.0   \nAAATATATTTTAAAACAGTTTATAAAGAAAACATTTTTTTTTACCTG...  ...   0.0   0.0   0.0   \nTTGCTAATTGGTTTTTTGAACAGACTGAATGATGTGAGCTTCTTTGA...  ...   0.0   0.0   0.0   \n\n                                                    4994  4995  4996  4997  \\\nseq                                                                          \nCCCGCCCAAGCCCGTCCACAGATCAAACGTGGCGCCCCGCGCGCTAA...   1.0   1.0   1.0   3.0   \nCGCCCGTCAGCCCTCGGGACCCCCTCCGCCCCGCCTTCAGCACCCGG...   1.0   1.0   0.0   2.0   \nCTCGCGAAAAGTTCTGCCGGAGCTCCGCCCCCTCAGCGCCACAGCGG...   2.0   2.0   0.0   2.0   \nTCACTCCTCCTCTCCTCCCTTCCGCCCCCACCCCGCCCTCCCGCCAG...   1.0   1.0   1.0   1.0   \nGGGGCGGGAGCGAAGGGGAGAAAAAAAAAAACTGCCCTGGCGCCCCG...   0.0   2.0   0.0   2.0   \n...                                                  ...   ...   ...   ...   \nACATTGACATAATAAATGAATTGGAAAACCCCATTGCTACTTAGCAA...   0.0   0.0   0.0   0.0   \nCTCACATCTATTTCTAATGGGATCTGATGCCCTCTTCTGGTTAGTTG...   0.0   0.0   0.0   0.0   \nTCTATTTTCTCTAGGCAGCCTTTCATCTGTCCGTGTGTGTGTGTGTG...   0.0   0.0   0.0   0.0   \nAAATATATTTTAAAACAGTTTATAAAGAAAACATTTTTTTTTACCTG...   0.0   0.0   0.0   0.0   \nTTGCTAATTGGTTTTTTGAACAGACTGAATGATGTGAGCTTCTTTGA...   0.0   0.0   0.0   0.0   \n\n                                                    4998  4999       var  \nseq                                                                       \nCCCGCCCAAGCCCGTCCACAGATCAAACGTGGCGCCCCGCGCGCTAA...   0.0   1.0  5.620079  \nCGCCCGTCAGCCCTCGGGACCCCCTCCGCCCCGCCTTCAGCACCCGG...   2.0   2.0  2.861417  \nCTCGCGAAAAGTTCTGCCGGAGCTCCGCCCCCTCAGCGCCACAGCGG...   4.0   0.0  2.180420  \nTCACTCCTCCTCTCCTCCCTTCCGCCCCCACCCCGCCCTCCCGCCAG...   1.0   2.0  2.074274  \nGGGGCGGGAGCGAAGGGGAGAAAAAAAAAAACTGCCCTGGCGCCCCG...   1.0   1.0  2.033710  \n...                                                  ...   ...       ...  \nACATTGACATAATAAATGAATTGGAAAACCCCATTGCTACTTAGCAA...   0.0   0.0  0.003588  \nCTCACATCTATTTCTAATGGGATCTGATGCCCTCTTCTGGTTAGTTG...   0.0   0.0  0.003389  \nTCTATTTTCTCTAGGCAGCCTTTCATCTGTCCGTGTGTGTGTGTGTG...   0.0   0.0  0.003190  \nAAATATATTTTAAAACAGTTTATAAAGAAAACATTTTTTTTTACCTG...   0.0   0.0  0.001797  \nTTGCTAATTGGTTTTTTGAACAGACTGAATGATGTGAGCTTCTTTGA...   0.0   0.0  0.000800  \n\n[5000 rows x 5001 columns]",
      "text/html": "<div>\n<style scoped>\n    .dataframe tbody tr th:only-of-type {\n        vertical-align: middle;\n    }\n\n    .dataframe tbody tr th {\n        vertical-align: top;\n    }\n\n    .dataframe thead th {\n        text-align: right;\n    }\n</style>\n<table border=\"1\" class=\"dataframe\">\n  <thead>\n    <tr style=\"text-align: right;\">\n      <th></th>\n      <th>0</th>\n      <th>1</th>\n      <th>2</th>\n      <th>3</th>\n      <th>4</th>\n      <th>5</th>\n      <th>6</th>\n      <th>7</th>\n      <th>8</th>\n      <th>9</th>\n      <th>...</th>\n      <th>4991</th>\n      <th>4992</th>\n      <th>4993</th>\n      <th>4994</th>\n      <th>4995</th>\n      <th>4996</th>\n      <th>4997</th>\n      <th>4998</th>\n      <th>4999</th>\n      <th>var</th>\n    </tr>\n    <tr>\n      <th>seq</th>\n      <th></th>\n      <th></th>\n      <th></th>\n      <th></th>\n      <th></th>\n      <th></th>\n      <th></th>\n      <th></th>\n      <th></th>\n      <th></th>\n      <th></th>\n      <th></th>\n      <th></th>\n      <th></th>\n      <th></th>\n      <th></th>\n      <th></th>\n      <th></th>\n      <th></th>\n      <th></th>\n      <th></th>\n    </tr>\n  </thead>\n  <tbody>\n    <tr>\n      <th>CCCGCCCAAGCCCGTCCACAGATCAAACGTGGCGCCCCGCGCGCTAATAGGGTCTTTCAAAAGTATTTACGCAACCGATCCTGCCCGCGTTTCCGGCCGC</th>\n      <td>1.0</td>\n      <td>2.0</td>\n      <td>1.0</td>\n      <td>6.0</td>\n      <td>0.0</td>\n      <td>3.0</td>\n      <td>5.0</td>\n      <td>3.0</td>\n      <td>4.0</td>\n      <td>3.0</td>\n      <td>...</td>\n      <td>1.0</td>\n      <td>3.0</td>\n      <td>4.0</td>\n      <td>1.0</td>\n      <td>1.0</td>\n      <td>1.0</td>\n      <td>3.0</td>\n      <td>0.0</td>\n      <td>1.0</td>\n      <td>5.620079</td>\n    </tr>\n    <tr>\n      <th>CGCCCGTCAGCCCTCGGGACCCCCTCCGCCCCGCCTTCAGCACCCGGCTGGTGGAAGCCACAAACTCCTTTCCCTCAGCCCCGCCTGCCTCCTCCGTCCC</th>\n      <td>0.0</td>\n      <td>3.0</td>\n      <td>1.0</td>\n      <td>1.0</td>\n      <td>1.0</td>\n      <td>3.0</td>\n      <td>0.0</td>\n      <td>4.0</td>\n      <td>5.0</td>\n      <td>1.0</td>\n      <td>...</td>\n      <td>1.0</td>\n      <td>3.0</td>\n      <td>0.0</td>\n      <td>1.0</td>\n      <td>1.0</td>\n      <td>0.0</td>\n      <td>2.0</td>\n      <td>2.0</td>\n      <td>2.0</td>\n      <td>2.861417</td>\n    </tr>\n    <tr>\n      <th>CTCGCGAAAAGTTCTGCCGGAGCTCCGCCCCCTCAGCGCCACAGCGGAGCACCAGAGCCTCGCATCACCCACAAAGTCCCGCCTACACAGCAAAGACCCC</th>\n      <td>1.0</td>\n      <td>2.0</td>\n      <td>3.0</td>\n      <td>1.0</td>\n      <td>0.0</td>\n      <td>3.0</td>\n      <td>1.0</td>\n      <td>4.0</td>\n      <td>4.0</td>\n      <td>0.0</td>\n      <td>...</td>\n      <td>3.0</td>\n      <td>4.0</td>\n      <td>0.0</td>\n      <td>2.0</td>\n      <td>2.0</td>\n      <td>0.0</td>\n      <td>2.0</td>\n      <td>4.0</td>\n      <td>0.0</td>\n      <td>2.180420</td>\n    </tr>\n    <tr>\n      <th>TCACTCCTCCTCTCCTCCCTTCCGCCCCCACCCCGCCCTCCCGCCAGCACCGCCGCGGGTCACCTGACCCAAGGCCCGGGACGGTTCCGGGTAATGGCCG</th>\n      <td>3.0</td>\n      <td>1.0</td>\n      <td>3.0</td>\n      <td>1.0</td>\n      <td>0.0</td>\n      <td>1.0</td>\n      <td>0.0</td>\n      <td>0.0</td>\n      <td>4.0</td>\n      <td>0.0</td>\n      <td>...</td>\n      <td>0.0</td>\n      <td>2.0</td>\n      <td>2.0</td>\n      <td>1.0</td>\n      <td>1.0</td>\n      <td>1.0</td>\n      <td>1.0</td>\n      <td>1.0</td>\n      <td>2.0</td>\n      <td>2.074274</td>\n    </tr>\n    <tr>\n      <th>GGGGCGGGAGCGAAGGGGAGAAAAAAAAAAACTGCCCTGGCGCCCCGCCTCCAGGCGCACAAGCCAGTCAGGACGCATGCGCAGTGGGTGAGGGGCGGGG</th>\n      <td>0.0</td>\n      <td>1.0</td>\n      <td>6.0</td>\n      <td>6.0</td>\n      <td>0.0</td>\n      <td>3.0</td>\n      <td>4.0</td>\n      <td>5.0</td>\n      <td>2.0</td>\n      <td>2.0</td>\n      <td>...</td>\n      <td>2.0</td>\n      <td>5.0</td>\n      <td>1.0</td>\n      <td>0.0</td>\n      <td>2.0</td>\n      <td>0.0</td>\n      <td>2.0</td>\n      <td>1.0</td>\n      <td>1.0</td>\n      <td>2.033710</td>\n    </tr>\n    <tr>\n      <th>...</th>\n      <td>...</td>\n      <td>...</td>\n      <td>...</td>\n      <td>...</td>\n      <td>...</td>\n      <td>...</td>\n      <td>...</td>\n      <td>...</td>\n      <td>...</td>\n      <td>...</td>\n      <td>...</td>\n      <td>...</td>\n      <td>...</td>\n      <td>...</td>\n      <td>...</td>\n      <td>...</td>\n      <td>...</td>\n      <td>...</td>\n      <td>...</td>\n      <td>...</td>\n      <td>...</td>\n    </tr>\n    <tr>\n      <th>ACATTGACATAATAAATGAATTGGAAAACCCCATTGCTACTTAGCAACCAAAAATGCTCAGCATGGAGATGGCTCCTTCTCCAGCTGTGTGGAGATACCT</th>\n      <td>0.0</td>\n      <td>0.0</td>\n      <td>0.0</td>\n      <td>0.0</td>\n      <td>0.0</td>\n      <td>0.0</td>\n      <td>0.0</td>\n      <td>0.0</td>\n      <td>0.0</td>\n      <td>0.0</td>\n      <td>...</td>\n      <td>0.0</td>\n      <td>0.0</td>\n      <td>0.0</td>\n      <td>0.0</td>\n      <td>0.0</td>\n      <td>0.0</td>\n      <td>0.0</td>\n      <td>0.0</td>\n      <td>0.0</td>\n      <td>0.003588</td>\n    </tr>\n    <tr>\n      <th>CTCACATCTATTTCTAATGGGATCTGATGCCCTCTTCTGGTTAGTTGACACAAAACTAGCAAGCACAACTAACCCCTTGTCAACTTAACCCACATCTATA</th>\n      <td>0.0</td>\n      <td>0.0</td>\n      <td>0.0</td>\n      <td>0.0</td>\n      <td>0.0</td>\n      <td>0.0</td>\n      <td>0.0</td>\n      <td>0.0</td>\n      <td>0.0</td>\n      <td>0.0</td>\n      <td>...</td>\n      <td>0.0</td>\n      <td>0.0</td>\n      <td>0.0</td>\n      <td>0.0</td>\n      <td>0.0</td>\n      <td>0.0</td>\n      <td>0.0</td>\n      <td>0.0</td>\n      <td>0.0</td>\n      <td>0.003389</td>\n    </tr>\n    <tr>\n      <th>TCTATTTTCTCTAGGCAGCCTTTCATCTGTCCGTGTGTGTGTGTGTGTGTGCATTTCGCTAAACAGTTTCACTAGTTACTCATTAGTGGTTTCTAAAATA</th>\n      <td>0.0</td>\n      <td>0.0</td>\n      <td>0.0</td>\n      <td>1.0</td>\n      <td>0.0</td>\n      <td>0.0</td>\n      <td>0.0</td>\n      <td>0.0</td>\n      <td>0.0</td>\n      <td>0.0</td>\n      <td>...</td>\n      <td>0.0</td>\n      <td>0.0</td>\n      <td>0.0</td>\n      <td>0.0</td>\n      <td>0.0</td>\n      <td>0.0</td>\n      <td>0.0</td>\n      <td>0.0</td>\n      <td>0.0</td>\n      <td>0.003190</td>\n    </tr>\n    <tr>\n      <th>AAATATATTTTAAAACAGTTTATAAAGAAAACATTTTTTTTTACCTGAATAGTAGAACATACCTTTAATCCCAACACTTATAAAGCTGAGGGATAGAAAA</th>\n      <td>0.0</td>\n      <td>0.0</td>\n      <td>0.0</td>\n      <td>0.0</td>\n      <td>0.0</td>\n      <td>0.0</td>\n      <td>0.0</td>\n      <td>0.0</td>\n      <td>0.0</td>\n      <td>0.0</td>\n      <td>...</td>\n      <td>0.0</td>\n      <td>0.0</td>\n      <td>0.0</td>\n      <td>0.0</td>\n      <td>0.0</td>\n      <td>0.0</td>\n      <td>0.0</td>\n      <td>0.0</td>\n      <td>0.0</td>\n      <td>0.001797</td>\n    </tr>\n    <tr>\n      <th>TTGCTAATTGGTTTTTTGAACAGACTGAATGATGTGAGCTTCTTTGAATTTGCAATTCAAGAGAATAAATTTTATGTCAGCAAAATCCATAAAGATTTTT</th>\n      <td>0.0</td>\n      <td>0.0</td>\n      <td>0.0</td>\n      <td>0.0</td>\n      <td>0.0</td>\n      <td>0.0</td>\n      <td>0.0</td>\n      <td>0.0</td>\n      <td>0.0</td>\n      <td>0.0</td>\n      <td>...</td>\n      <td>0.0</td>\n      <td>0.0</td>\n      <td>0.0</td>\n      <td>0.0</td>\n      <td>0.0</td>\n      <td>0.0</td>\n      <td>0.0</td>\n      <td>0.0</td>\n      <td>0.0</td>\n      <td>0.000800</td>\n    </tr>\n  </tbody>\n</table>\n<p>5000 rows × 5001 columns</p>\n</div>"
     },
     "execution_count": 311,
     "metadata": {},
     "output_type": "execute_result"
    }
   ],
   "source": [
    "next_data_sel"
   ],
   "metadata": {
    "collapsed": false,
    "pycharm": {
     "name": "#%%\n"
    }
   }
  },
  {
   "cell_type": "code",
   "execution_count": 312,
   "outputs": [],
   "source": [
    "del next_data_sel['var']\n",
    "# next_data_sel.index = next_data_sel['seq']\n",
    "# del next_data_sel['seq']"
   ],
   "metadata": {
    "collapsed": false,
    "pycharm": {
     "name": "#%%\n"
    }
   }
  },
  {
   "cell_type": "raw",
   "source": [
    "--------------------"
   ],
   "metadata": {
    "collapsed": false,
    "pycharm": {
     "name": "#%% raw\n"
    }
   }
  },
  {
   "cell_type": "raw",
   "source": [
    "--------------------"
   ],
   "metadata": {
    "collapsed": false,
    "pycharm": {
     "name": "#%% raw\n"
    }
   }
  },
  {
   "cell_type": "code",
   "execution_count": 313,
   "outputs": [
    {
     "data": {
      "text/plain": "(5000, 5000)"
     },
     "execution_count": 313,
     "metadata": {},
     "output_type": "execute_result"
    }
   ],
   "source": [
    "df = next_data_sel.copy() # sample\n",
    "# df = df[df.columns[:5000]] # .head(100) # sample\n",
    "\n",
    "# shorten sequences/remove duplicates\n",
    "# df.index = df.index.astype(str).str[35:-35]\n",
    "# df = df[~df.index.duplicated(keep='first')]\n",
    "\n",
    "zero_counts = df.sum(axis=1) == 0\n",
    "df = df[~zero_counts] # remove zeroes\n",
    "\n",
    "df.shape"
   ],
   "metadata": {
    "collapsed": false,
    "pycharm": {
     "name": "#%%\n"
    }
   }
  },
  {
   "cell_type": "code",
   "execution_count": 314,
   "outputs": [
    {
     "name": "stdout",
     "output_type": "stream",
     "text": [
      "(25000000, 3)\n",
      "5000\n",
      "0      5000\n",
      "137    5000\n",
      "127    5000\n",
      "128    5000\n",
      "129    5000\n",
      "       ... \n",
      "69     5000\n",
      "70     5000\n",
      "71     5000\n",
      "72     5000\n",
      "199    5000\n",
      "Name: batch, Length: 200, dtype: int64\n"
     ]
    },
    {
     "data": {
      "text/plain": "                                                      0    1  batch\nseq                                                                \nCCCGCCCAAGCCCGTCCACAGATCAAACGTGGCGCCCCGCGCGCTAA...  1.0  1.0      0\nCGCCCGTCAGCCCTCGGGACCCCCTCCGCCCCGCCTTCAGCACCCGG...  1.0  0.0      0\nCTCGCGAAAAGTTCTGCCGGAGCTCCGCCCCCTCAGCGCCACAGCGG...  1.0  1.0      0\nTCACTCCTCCTCTCCTCCCTTCCGCCCCCACCCCGCCCTCCCGCCAG...  1.0  3.0      0\nGGGGCGGGAGCGAAGGGGAGAAAAAAAAAAACTGCCCTGGCGCCCCG...  1.0  0.0      0",
      "text/html": "<div>\n<style scoped>\n    .dataframe tbody tr th:only-of-type {\n        vertical-align: middle;\n    }\n\n    .dataframe tbody tr th {\n        vertical-align: top;\n    }\n\n    .dataframe thead th {\n        text-align: right;\n    }\n</style>\n<table border=\"1\" class=\"dataframe\">\n  <thead>\n    <tr style=\"text-align: right;\">\n      <th></th>\n      <th>0</th>\n      <th>1</th>\n      <th>batch</th>\n    </tr>\n    <tr>\n      <th>seq</th>\n      <th></th>\n      <th></th>\n      <th></th>\n    </tr>\n  </thead>\n  <tbody>\n    <tr>\n      <th>CCCGCCCAAGCCCGTCCACAGATCAAACGTGGCGCCCCGCGCGCTAATAGGGTCTTTCAAAAGTATTTACGCAACCGATCCTGCCCGCGTTTCCGGCCGC</th>\n      <td>1.0</td>\n      <td>1.0</td>\n      <td>0</td>\n    </tr>\n    <tr>\n      <th>CGCCCGTCAGCCCTCGGGACCCCCTCCGCCCCGCCTTCAGCACCCGGCTGGTGGAAGCCACAAACTCCTTTCCCTCAGCCCCGCCTGCCTCCTCCGTCCC</th>\n      <td>1.0</td>\n      <td>0.0</td>\n      <td>0</td>\n    </tr>\n    <tr>\n      <th>CTCGCGAAAAGTTCTGCCGGAGCTCCGCCCCCTCAGCGCCACAGCGGAGCACCAGAGCCTCGCATCACCCACAAAGTCCCGCCTACACAGCAAAGACCCC</th>\n      <td>1.0</td>\n      <td>1.0</td>\n      <td>0</td>\n    </tr>\n    <tr>\n      <th>TCACTCCTCCTCTCCTCCCTTCCGCCCCCACCCCGCCCTCCCGCCAGCACCGCCGCGGGTCACCTGACCCAAGGCCCGGGACGGTTCCGGGTAATGGCCG</th>\n      <td>1.0</td>\n      <td>3.0</td>\n      <td>0</td>\n    </tr>\n    <tr>\n      <th>GGGGCGGGAGCGAAGGGGAGAAAAAAAAAAACTGCCCTGGCGCCCCGCCTCCAGGCGCACAAGCCAGTCAGGACGCATGCGCAGTGGGTGAGGGGCGGGG</th>\n      <td>1.0</td>\n      <td>0.0</td>\n      <td>0</td>\n    </tr>\n  </tbody>\n</table>\n</div>"
     },
     "execution_count": 314,
     "metadata": {},
     "output_type": "execute_result"
    }
   ],
   "source": [
    "df2 = df.reset_index().melt('seq').set_index('seq')\n",
    "# add a baseline count\n",
    "df2[0] = 1.0\n",
    "cols = ['batch', 1, 0]\n",
    "df2.columns = cols\n",
    "df2 = df2[[0, 1, 'batch']] # cols[::-1]]\n",
    "df2['batch'] = df2['batch'].astype(int)\n",
    "print(df2.shape)\n",
    "print(len(set(df2['batch'])))\n",
    "n_cells = 200\n",
    "df2 = df2[df2['batch'].isin(range(0, n_cells))]\n",
    "print(df2['batch'].value_counts())\n",
    "df2.head()"
   ],
   "metadata": {
    "collapsed": false,
    "pycharm": {
     "name": "#%%\n"
    }
   }
  },
  {
   "cell_type": "markdown",
   "source": [
    "### This is the relatedness graph and used for dynamics filters learning"
   ],
   "metadata": {
    "collapsed": false,
    "pycharm": {
     "name": "#%% md\n"
    }
   }
  },
  {
   "cell_type": "code",
   "execution_count": 315,
   "outputs": [],
   "source": [
    "# sum(adata.obs_names.isin(df.index)"
   ],
   "metadata": {
    "collapsed": false,
    "pycharm": {
     "name": "#%%\n"
    }
   }
  },
  {
   "cell_type": "code",
   "execution_count": 316,
   "outputs": [
    {
     "data": {
      "text/plain": "12600.648"
     },
     "execution_count": 316,
     "metadata": {},
     "output_type": "execute_result"
    }
   ],
   "source": [
    "rel = ad[:,~zero_counts].uns['neighbors']['connectivities'].A\n",
    "# rel[:n_cells,:n_cells].sum()\n",
    "rel.shape\n",
    "rel.sum()"
   ],
   "metadata": {
    "collapsed": false,
    "pycharm": {
     "name": "#%%\n"
    }
   }
  },
  {
   "cell_type": "code",
   "execution_count": 317,
   "outputs": [
    {
     "data": {
      "text/plain": "1"
     },
     "execution_count": 317,
     "metadata": {},
     "output_type": "execute_result"
    }
   ],
   "source": [
    "# df2 = []\n",
    "# for i in df.columns:\n",
    "#     df3 = df[[i]].copy()\n",
    "#     df3 = df3.head(100)\n",
    "#     df3.columns = [0]\n",
    "#     df3[1] = 1 # need a minimal non-zero count\n",
    "#     df3['batch'] = i\n",
    "#     df2.append(df3)\n",
    "# df2 = pd.concat(df2)\n",
    "# # df2['is_count_data'] = True\n",
    "# dataset = mb.datasets.SelexDataset(df2, n_rounds=2, labels=[0, 1], enr_series=False)\n",
    "dataset = mb.datasets.SelexDataset(df, n_rounds=df.shape[1], enr_series=False)\n",
    "len(set(dataset.batch))"
   ],
   "metadata": {
    "collapsed": false,
    "pycharm": {
     "name": "#%%\n"
    }
   }
  },
  {
   "cell_type": "code",
   "execution_count": 318,
   "outputs": [
    {
     "data": {
      "text/plain": "1"
     },
     "execution_count": 318,
     "metadata": {},
     "output_type": "execute_result"
    }
   ],
   "source": [
    "n_batch = len(set(dataset.batch))\n",
    "n_batch"
   ],
   "metadata": {
    "collapsed": false,
    "pycharm": {
     "name": "#%%\n"
    }
   }
  },
  {
   "cell_type": "code",
   "execution_count": 319,
   "outputs": [],
   "source": [
    "# df = next_data_sel.copy()\n",
    "# dataset = mb.datasets.GenomicsDataset(df)\n",
    "# train = tdata.DataLoader(dataset=dataset, batch_size=1000, shuffle=True)\n",
    "\n",
    "train = tdata.DataLoader(dataset=dataset, batch_size=1024, shuffle=True)\n"
   ],
   "metadata": {
    "collapsed": false,
    "pycharm": {
     "name": "#%%\n"
    }
   }
  },
  {
   "cell_type": "code",
   "execution_count": 320,
   "outputs": [],
   "source": [
    "# log_etas = torch.tensor(np.log(df.sum(axis=0) / df.sum().sum())).reshape(1, n_batch).to(device)\n",
    "# log_etas"
   ],
   "metadata": {
    "collapsed": false,
    "pycharm": {
     "name": "#%%\n"
    }
   }
  },
  {
   "cell_type": "code",
   "execution_count": 321,
   "outputs": [],
   "source": [
    "b = np.random.randint(0, 2, (3, 4))\n",
    "conn = np.random.randint(0, 2, (4, 4))"
   ],
   "metadata": {
    "collapsed": false,
    "pycharm": {
     "name": "#%%\n"
    }
   }
  },
  {
   "cell_type": "code",
   "execution_count": 322,
   "outputs": [],
   "source": [
    "n_kernels = len(reduced_groups)\n",
    "# n_kernels = 8"
   ],
   "metadata": {
    "collapsed": false,
    "pycharm": {
     "name": "#%%\n"
    }
   }
  },
  {
   "cell_type": "code",
   "execution_count": 323,
   "outputs": [],
   "source": [
    "import torch.optim as topti\n",
    "import warnings\n",
    "warnings.filterwarnings(\"ignore\")\n",
    "ad\n",
    "criterion = mb.tl.PoissonLoss()\n",
    "\n",
    "w = [r.shape[1] for r in reduced_groups]\n",
    "model = mb.models.Multibind.make_model(train, n_kernels, criterion, kernels=[0, 2] + w,\n",
    "                                       # use_dinuc=True, dinuc_mode='full',\n",
    "                                       optimize_sym_weight=False,\n",
    "                                       optimize_exp_barrier=True,\n",
    "                                       optimize_log_dynamic=False,\n",
    "                                       use_dinuc=False,\n",
    "                                       device=device,\n",
    "                                       dinuc_mode=None).cuda()\n",
    "\n",
    "# initialize the reduce kernels\n",
    "for i, mono_best in enumerate(reduced_groups):\n",
    "    if mono_best.shape[-1] == 0:\n",
    "        continue\n",
    "    # print(mono_best.shape, model.binding_modes.conv_mono[i + 1].weight.shape)\n",
    "    # print(model.binding_modes.conv_mono[i + 1].weight.device)\n",
    "    new_w = mono_best.reshape([1, 1] + list(mono_best.shape))\n",
    "    model.binding_modes.conv_mono[i + 1].weight = torch.nn.Parameter(torch.tensor(new_w, dtype=torch.float))\n",
    "    # print(model.binding_modes.conv_mono[i + 1].weight.device)\n",
    "# move the model a final time to the GPU\n",
    "model = model.to(device)\n"
   ],
   "metadata": {
    "collapsed": false,
    "pycharm": {
     "name": "#%%\n"
    }
   }
  },
  {
   "cell_type": "code",
   "execution_count": 324,
   "outputs": [
    {
     "data": {
      "text/plain": "Multibind(\n  (padding): ConstantPad2d(padding=(19, 19, 0, 0), value=0.25)\n  (binding_modes): BindingModesSimple(\n    (conv_mono): ModuleList(\n      (0): None\n      (1): Conv2d(1, 1, kernel_size=(4, 2), stride=(1, 1), bias=False)\n      (2): Conv2d(1, 1, kernel_size=(4, 20), stride=(1, 1), bias=False)\n      (3): Conv2d(1, 1, kernel_size=(4, 20), stride=(1, 1), bias=False)\n      (4): Conv2d(1, 1, kernel_size=(4, 20), stride=(1, 1), bias=False)\n      (5): Conv2d(1, 1, kernel_size=(4, 20), stride=(1, 1), bias=False)\n      (6): Conv2d(1, 1, kernel_size=(4, 20), stride=(1, 1), bias=False)\n      (7): Conv2d(1, 1, kernel_size=(4, 20), stride=(1, 1), bias=False)\n      (8): Conv2d(1, 1, kernel_size=(4, 20), stride=(1, 1), bias=False)\n    )\n    (conv_di): ModuleList(\n      (0): None\n    )\n  )\n  (activities): ActivitiesLayer(\n    (log_activities): ParameterList(\n        (0): Parameter containing: [torch.cuda.FloatTensor of size 1x5000 (GPU 0)]\n        (1): Parameter containing: [torch.cuda.FloatTensor of size 1x5000 (GPU 0)]\n        (2): Parameter containing: [torch.cuda.FloatTensor of size 1x5000 (GPU 0)]\n        (3): Parameter containing: [torch.cuda.FloatTensor of size 1x5000 (GPU 0)]\n        (4): Parameter containing: [torch.cuda.FloatTensor of size 1x5000 (GPU 0)]\n        (5): Parameter containing: [torch.cuda.FloatTensor of size 1x5000 (GPU 0)]\n        (6): Parameter containing: [torch.cuda.FloatTensor of size 1x5000 (GPU 0)]\n        (7): Parameter containing: [torch.cuda.FloatTensor of size 1x5000 (GPU 0)]\n        (8): Parameter containing: [torch.cuda.FloatTensor of size 1x5000 (GPU 0)]\n    )\n  )\n  (selex_module): SelexModule()\n  (criterion): PoissonLoss()\n)"
     },
     "execution_count": 324,
     "metadata": {},
     "output_type": "execute_result"
    }
   ],
   "source": [
    "model"
   ],
   "metadata": {
    "collapsed": false,
    "pycharm": {
     "name": "#%%\n"
    }
   }
  },
  {
   "cell_type": "code",
   "execution_count": 325,
   "outputs": [
    {
     "name": "stdout",
     "output_type": "stream",
     "text": [
      "True\n",
      "12\n"
     ]
    },
    {
     "data": {
      "text/plain": "<Figure size 1350x270 with 8 Axes>",
      "image/png": "[encoded data removed]"
     },
     "metadata": {},
     "output_type": "display_data"
    }
   ],
   "source": [
    "mb.pl.set_rcParams({'figure.figsize': [15, 3], 'figure.dpi': 90})\n",
    "mb.pl.conv(model, title=False, xticks=False, rowspan_dinuc=0, rowspan_mono=1, n_rows=5, n_cols=12) # n_cols=len(reduced_groups))\n"
   ],
   "metadata": {
    "collapsed": false,
    "pycharm": {
     "name": "#%%\n"
    }
   }
  },
  {
   "cell_type": "code",
   "execution_count": 326,
   "outputs": [],
   "source": [
    "mb.pl.set_rcParams({'figure.figsize': [20, 5], 'figure.dpi': 100})\n",
    "# mb.pl.conv(model, n_cols=2)\n"
   ],
   "metadata": {
    "collapsed": false,
    "pycharm": {
     "name": "#%%\n"
    }
   }
  },
  {
   "cell_type": "code",
   "execution_count": 327,
   "outputs": [
    {
     "data": {
      "text/plain": "torch.Size([35518])"
     },
     "execution_count": 327,
     "metadata": {},
     "output_type": "execute_result"
    }
   ],
   "source": [
    "import torch.nn as tnn\n",
    "# # Init\n",
    "# def triu_init(m):\n",
    "#     with torch.no_grad():\n",
    "#         m.weight.copy_(torch.triu(m.weight))\n",
    "#\n",
    "# # Zero out gradients\n",
    "# def get_zero_grad_hook(mask):\n",
    "#     def hook(grad):\n",
    "#         return grad * mask\n",
    "#\n",
    "#     return hook\n",
    "#\n",
    "# mask = torch.tril(torch.ones_like(model.selex_module.log_dynamic), -1)\n",
    "# print(mask.device)\n",
    "# print(model.selex_module.log_dynamic)\n",
    "#\n",
    "# model.selex_module.log_dynamic.register_hook(get_zero_grad_hook(mask))\n",
    "\n",
    "\n",
    "# here we set up the relationships between cells using the knn graph, for graph-based learning of activities\n",
    "# model.selex_module.connectivities = torch.tensor(rel).cuda()\n",
    "\n",
    "model.selex_module.conn_sparse = torch.tensor(ad[:, ~zero_counts].uns['neighbors']['connectivities'].A).to_sparse().requires_grad_(True).cuda()\n",
    "model.selex_module.log_dynamic = tnn.Parameter(torch.rand(model.selex_module.conn_sparse.indices().shape[1])) # .cuda()\n",
    "model = model.cuda()\n",
    "model.selex_module.log_dynamic.shape"
   ],
   "metadata": {
    "collapsed": false,
    "pycharm": {
     "name": "#%%\n"
    }
   }
  },
  {
   "cell_type": "code",
   "execution_count": 328,
   "outputs": [],
   "source": [
    "# print(model.selex_module.log_dynamic)\n",
    "# print(torch.exp(model.selex_module.log_dynamic))"
   ],
   "metadata": {
    "collapsed": false,
    "pycharm": {
     "name": "#%%\n"
    }
   }
  },
  {
   "cell_type": "code",
   "execution_count": null,
   "outputs": [
    {
     "name": "stdout",
     "output_type": "stream",
     "text": [
      "current kernels\n",
      "\n",
      "Kernel to optimize 0\n",
      "\n",
      "FREEZING KERNELS\n",
      "optimizing feature type mono\n",
      "setting grad status of kernel (mono, dinuc) at 0 to (1, 0)\n",
      "setting grad status of kernel (mono, dinuc) at 1 to (0, 0)\n",
      "setting grad status of kernel (mono, dinuc) at 2 to (0, 0)\n",
      "setting grad status of kernel (mono, dinuc) at 3 to (0, 0)\n",
      "setting grad status of kernel (mono, dinuc) at 4 to (0, 0)\n",
      "setting grad status of kernel (mono, dinuc) at 5 to (0, 0)\n",
      "setting grad status of kernel (mono, dinuc) at 6 to (0, 0)\n",
      "setting grad status of kernel (mono, dinuc) at 7 to (0, 0)\n",
      "setting grad status of kernel (mono, dinuc) at 8 to (0, 0)\n",
      "kernels mask None\n",
      "optimizer:  Adam \n",
      "criterion: PoissonLoss \n",
      "# epochs: 100 \n",
      "early_stopping: 50\n",
      "lr= 0.01, weight_decay= 0, dir weight= 0\n",
      "Epoch: 11, Loss: 0.590967, R2: 0.30,  best epoch: 9,  secs per epoch: 9.470 s,  secs epoch*1k trials: 1.894s\n",
      "Epoch: 21, Loss: 0.589734, R2: 0.31,  best epoch: 18,  secs per epoch: 9.241 s,  secs epoch*1k trials: 1.848s\n",
      "Epoch: 31, Loss: 0.589389, R2: 0.31,  best epoch: 29,  secs per epoch: 9.196 s,  secs epoch*1k trials: 1.839s\n",
      "Epoch: 41, Loss: 0.589079, R2: 0.31,  best epoch: 34,  secs per epoch: 9.155 s,  secs epoch*1k trials: 1.831s\n",
      "Epoch: 51, Loss: 0.589153, R2: 0.31,  best epoch: 46,  secs per epoch: 9.139 s,  secs epoch*1k trials: 1.828s\n",
      "Epoch: 61, Loss: 0.589165, R2: 0.31,  best epoch: 46,  secs per epoch: 9.123 s,  secs epoch*1k trials: 1.825s\n",
      "Epoch: 71, Loss: 0.589033, R2: 0.31,  best epoch: 46,  secs per epoch: 9.110 s,  secs epoch*1k trials: 1.822s\n",
      "Epoch: 81, Loss: 0.589362, R2: 0.31,  best epoch: 75,  secs per epoch: 9.098 s,  secs epoch*1k trials: 1.820s\n",
      "Epoch: 91, Loss: 0.589401, R2: 0.31,  best epoch: 75,  secs per epoch: 9.089 s,  secs epoch*1k trials: 1.818s\n",
      "Final loss: 0.5891087890 , R2: 0.31\n",
      "Total time (model/function): (831.447s / 831.447s)\n",
      "Time per epoch (model/function): (8.398s/ 8.398s)\n",
      "Time per epoch per 1k trials: 1.680s\n",
      "Current time: 2023-02-04 10:43:57.818585\n",
      "optimization of dinuc is not necessary for the intercepts (kernel=0). Skip...\n",
      "current kernels\n",
      "\n",
      "Kernel to optimize 1\n",
      "\n",
      "FREEZING KERNELS\n",
      "optimizing feature type mono\n",
      "setting grad status of kernel (mono, dinuc) at 0 to (0, 0)\n",
      "setting grad status of kernel (mono, dinuc) at 1 to (1, 0)\n",
      "setting grad status of kernel (mono, dinuc) at 2 to (0, 0)\n",
      "setting grad status of kernel (mono, dinuc) at 3 to (0, 0)\n",
      "setting grad status of kernel (mono, dinuc) at 4 to (0, 0)\n",
      "setting grad status of kernel (mono, dinuc) at 5 to (0, 0)\n",
      "setting grad status of kernel (mono, dinuc) at 6 to (0, 0)\n",
      "setting grad status of kernel (mono, dinuc) at 7 to (0, 0)\n",
      "setting grad status of kernel (mono, dinuc) at 8 to (0, 0)\n",
      "kernels mask None\n",
      "optimizer:  Adam \n",
      "criterion: PoissonLoss \n",
      "# epochs: 200 \n",
      "early_stopping: 50\n",
      "lr= 0.01, weight_decay= 0, dir weight= 0\n",
      "Epoch: 11, Loss: 0.544976, R2: 0.31,  best epoch: 9,  secs per epoch: 10.464 s,  secs epoch*1k trials: 2.093s\n",
      "Epoch: 21, Loss: 0.540664, R2: 0.31,  best epoch: 19,  secs per epoch: 10.297 s,  secs epoch*1k trials: 2.059s\n",
      "Epoch: 31, Loss: 0.540018, R2: 0.31,  best epoch: 27,  secs per epoch: 10.339 s,  secs epoch*1k trials: 2.068s\n",
      "Epoch: 41, Loss: 0.539774, R2: 0.31,  best epoch: 37,  secs per epoch: 10.504 s,  secs epoch*1k trials: 2.101s\n",
      "Epoch: 51, Loss: 0.539423, R2: 0.31,  best epoch: 48,  secs per epoch: 10.562 s,  secs epoch*1k trials: 2.112s\n",
      "Epoch: 61, Loss: 0.539687, R2: 0.31,  best epoch: 57,  secs per epoch: 10.561 s,  secs epoch*1k trials: 2.112s\n",
      "Epoch: 71, Loss: 0.539587, R2: 0.31,  best epoch: 57,  secs per epoch: 10.550 s,  secs epoch*1k trials: 2.110s\n",
      "Epoch: 81, Loss: 0.539570, R2: 0.31,  best epoch: 73,  secs per epoch: 10.543 s,  secs epoch*1k trials: 2.109s\n",
      "Epoch: 91, Loss: 0.539474, R2: 0.31,  best epoch: 73,  secs per epoch: 10.557 s,  secs epoch*1k trials: 2.111s\n",
      "Epoch: 101, Loss: 0.539625, R2: 0.31,  best epoch: 73,  secs per epoch: 10.555 s,  secs epoch*1k trials: 2.111s\n",
      "Epoch: 111, Loss: 0.539515, R2: 0.31,  best epoch: 73,  secs per epoch: 10.464 s,  secs epoch*1k trials: 2.093s\n",
      "Epoch: 121, Loss: 0.539727, R2: 0.31,  best epoch: 73,  secs per epoch: 10.394 s,  secs epoch*1k trials: 2.079s\n",
      "Epoch: 124, Loss: 0.539510, R2: 0.31,  best epoch: 73,  secs per epoch: 10.836s,  secs epoch*1k trials: 2.167s\n",
      "early stop!\n",
      "Final loss: 0.5395102859 , R2: 0.31\n",
      "Total time (model/function): (2164.332s / 1332.884s)\n",
      "Time per epoch (model/function): (17.596s/ 10.836s)\n",
      "Time per epoch per 1k trials: 2.167s\n",
      "Current time: 2023-02-04 11:07:32.362944\n",
      "\n",
      "\n",
      "final refinement step (after shift)...\n",
      "\n",
      "unfreezing all layers for final refinement\n",
      "kernel grad (0) = 1 \n",
      "kernel grad (1) = 1 \n",
      "kernel grad (2) = 1 \n",
      "kernel grad (3) = 1 \n",
      "kernel grad (4) = 1 \n",
      "kernel grad (5) = 1 \n",
      "kernel grad (6) = 1 \n",
      "kernel grad (7) = 1 \n",
      "kernel grad (8) = 1 \n",
      "\n",
      "kernels mask None\n",
      "kernels mask None\n",
      "optimizer:  Adam \n",
      "criterion: PoissonLoss \n",
      "# epochs: 200 \n",
      "early_stopping: 50\n",
      "lr= 0.01, weight_decay= 0, dir weight= 0\n",
      "Epoch: 11, Loss: 0.185953, R2: 0.31,  best epoch: 9,  secs per epoch: 10.536 s,  secs epoch*1k trials: 2.107s\n",
      "Epoch: 21, Loss: 0.185981, R2: 0.31,  best epoch: 17,  secs per epoch: 10.170 s,  secs epoch*1k trials: 2.034s\n",
      "Epoch: 31, Loss: 0.186216, R2: 0.31,  best epoch: 17,  secs per epoch: 9.972 s,  secs epoch*1k trials: 1.994s\n",
      "Epoch: 41, Loss: 0.185987, R2: 0.31,  best epoch: 17,  secs per epoch: 9.912 s,  secs epoch*1k trials: 1.982s\n",
      "Epoch: 51, Loss: 0.185956, R2: 0.31,  best epoch: 17,  secs per epoch: 9.844 s,  secs epoch*1k trials: 1.969s\n",
      "Epoch: 61, Loss: 0.185910, R2: 0.31,  best epoch: 17,  secs per epoch: 9.796 s,  secs epoch*1k trials: 1.959s\n",
      "Epoch: 71, Loss: 0.185865, R2: 0.31,  best epoch: 66,  secs per epoch: 9.769 s,  secs epoch*1k trials: 1.954s\n",
      "Epoch: 81, Loss: 0.186162, R2: 0.31,  best epoch: 66,  secs per epoch: 9.743 s,  secs epoch*1k trials: 1.949s\n",
      "Epoch: 91, Loss: 0.185938, R2: 0.31,  best epoch: 66,  secs per epoch: 9.726 s,  secs epoch*1k trials: 1.945s\n",
      "Epoch: 101, Loss: 0.185848, R2: 0.31,  best epoch: 66,  secs per epoch: 9.709 s,  secs epoch*1k trials: 1.942s\n",
      "Epoch: 111, Loss: 0.185611, R2: 0.31,  best epoch: 66,  secs per epoch: 9.697 s,  secs epoch*1k trials: 1.939s\n",
      "Epoch: 121, Loss: 0.185594, R2: 0.31,  best epoch: 110,  secs per epoch: 9.678 s,  secs epoch*1k trials: 1.936s\n",
      "Epoch: 131, Loss: 0.185811, R2: 0.31,  best epoch: 120,  secs per epoch: 9.664 s,  secs epoch*1k trials: 1.933s\n",
      "Epoch: 141, Loss: 0.185928, R2: 0.31,  best epoch: 120,  secs per epoch: 9.655 s,  secs epoch*1k trials: 1.931s\n",
      "Epoch: 151, Loss: 0.185832, R2: 0.31,  best epoch: 120,  secs per epoch: 9.632 s,  secs epoch*1k trials: 1.926s\n",
      "Epoch: 161, Loss: 0.185918, R2: 0.31,  best epoch: 120,  secs per epoch: 9.607 s,  secs epoch*1k trials: 1.921s\n",
      "Epoch: 171, Loss: 0.185849, R2: 0.31,  best epoch: 120,  secs per epoch: 9.628 s,  secs epoch*1k trials: 1.926s\n",
      "Epoch: 171, Loss: 0.185849, R2: 0.31,  best epoch: 120,  secs per epoch: 10.094s,  secs epoch*1k trials: 2.019s\n",
      "early stop!\n",
      "Final loss: 0.1858494133 , R2: 0.31\n",
      "Total time (model/function): (3880.250s / 1715.918s)\n",
      "Time per epoch (model/function): (22.825s/ 10.094s)\n",
      "Time per epoch per 1k trials: 2.019s\n",
      "Current time: 2023-02-04 11:37:26.338586\n",
      "best loss 0.18559418618679047\n",
      "current r2 values by newly added kernel\n",
      "[0.3137805722590338]\n",
      "optimizing feature type dinuc\n",
      "the optimization of dinucleotide features is skipped...\n",
      "current kernels\n",
      "\n",
      "Kernel to optimize 2\n",
      "\n",
      "FREEZING KERNELS\n",
      "optimizing feature type mono\n",
      "setting grad status of kernel (mono, dinuc) at 0 to (0, 0)\n",
      "setting grad status of kernel (mono, dinuc) at 1 to (0, 0)\n",
      "setting grad status of kernel (mono, dinuc) at 2 to (1, 0)\n",
      "setting grad status of kernel (mono, dinuc) at 3 to (0, 0)\n",
      "setting grad status of kernel (mono, dinuc) at 4 to (0, 0)\n",
      "setting grad status of kernel (mono, dinuc) at 5 to (0, 0)\n",
      "setting grad status of kernel (mono, dinuc) at 6 to (0, 0)\n",
      "setting grad status of kernel (mono, dinuc) at 7 to (0, 0)\n",
      "setting grad status of kernel (mono, dinuc) at 8 to (0, 0)\n",
      "kernels mask None\n",
      "optimizer:  Adam \n",
      "criterion: PoissonLoss \n",
      "# epochs: 200 \n",
      "early_stopping: 50\n",
      "lr= 0.01, weight_decay= 0, dir weight= 0\n",
      "Epoch: 11, Loss: 0.482506, R2: 0.31,  best epoch: 9,  secs per epoch: 9.685 s,  secs epoch*1k trials: 1.937s\n",
      "Epoch: 21, Loss: 0.476019, R2: 0.31,  best epoch: 19,  secs per epoch: 9.633 s,  secs epoch*1k trials: 1.927s\n",
      "Epoch: 31, Loss: 0.475161, R2: 0.31,  best epoch: 28,  secs per epoch: 9.622 s,  secs epoch*1k trials: 1.924s\n",
      "Epoch: 41, Loss: 0.474506, R2: 0.31,  best epoch: 39,  secs per epoch: 9.601 s,  secs epoch*1k trials: 1.920s\n",
      "Epoch: 51, Loss: 0.474294, R2: 0.31,  best epoch: 45,  secs per epoch: 9.600 s,  secs epoch*1k trials: 1.920s\n",
      "Epoch: 61, Loss: 0.474221, R2: 0.31,  best epoch: 54,  secs per epoch: 9.586 s,  secs epoch*1k trials: 1.917s\n",
      "Epoch: 71, Loss: 0.474269, R2: 0.31,  best epoch: 61,  secs per epoch: 9.579 s,  secs epoch*1k trials: 1.916s\n",
      "Epoch: 81, Loss: 0.474433, R2: 0.31,  best epoch: 61,  secs per epoch: 9.583 s,  secs epoch*1k trials: 1.917s\n",
      "Epoch: 91, Loss: 0.474333, R2: 0.31,  best epoch: 61,  secs per epoch: 9.569 s,  secs epoch*1k trials: 1.914s\n",
      "Epoch: 101, Loss: 0.474659, R2: 0.31,  best epoch: 61,  secs per epoch: 9.566 s,  secs epoch*1k trials: 1.913s\n",
      "Epoch: 111, Loss: 0.474300, R2: 0.31,  best epoch: 61,  secs per epoch: 9.559 s,  secs epoch*1k trials: 1.912s\n",
      "Epoch: 112, Loss: 0.474404, R2: 0.31,  best epoch: 61,  secs per epoch: 10.185s,  secs epoch*1k trials: 2.037s\n",
      "early stop!\n",
      "Final loss: 0.4744043648 , R2: 0.31\n",
      "Total time (model/function): (5010.832s / 1130.582s)\n",
      "Time per epoch (model/function): (45.143s/ 10.185s)\n",
      "Time per epoch per 1k trials: 2.037s\n",
      "Current time: 2023-02-04 11:58:53.609055\n",
      "\n",
      "\n",
      "final refinement step (after shift)...\n",
      "\n",
      "unfreezing all layers for final refinement\n",
      "kernel grad (0) = 1 \n",
      "kernel grad (1) = 1 \n",
      "kernel grad (2) = 1 \n",
      "kernel grad (3) = 1 \n",
      "kernel grad (4) = 1 \n",
      "kernel grad (5) = 1 \n",
      "kernel grad (6) = 1 \n",
      "kernel grad (7) = 1 \n",
      "kernel grad (8) = 1 \n",
      "\n",
      "kernels mask None\n",
      "kernels mask None\n",
      "optimizer:  Adam \n",
      "criterion: PoissonLoss \n",
      "# epochs: 200 \n",
      "early_stopping: 50\n",
      "lr= 0.01, weight_decay= 0, dir weight= 0\n",
      "Epoch: 11, Loss: 0.185844, R2: 0.31,  best epoch: 3,  secs per epoch: 9.759 s,  secs epoch*1k trials: 1.952s\n",
      "Epoch: 21, Loss: 0.186092, R2: 0.31,  best epoch: 13,  secs per epoch: 9.608 s,  secs epoch*1k trials: 1.922s\n",
      "Epoch: 31, Loss: 0.185890, R2: 0.31,  best epoch: 13,  secs per epoch: 9.544 s,  secs epoch*1k trials: 1.909s\n",
      "Epoch: 41, Loss: 0.186137, R2: 0.31,  best epoch: 13,  secs per epoch: 9.504 s,  secs epoch*1k trials: 1.901s\n",
      "Epoch: 51, Loss: 0.185783, R2: 0.31,  best epoch: 13,  secs per epoch: 9.463 s,  secs epoch*1k trials: 1.893s\n",
      "Epoch: 61, Loss: 0.186109, R2: 0.31,  best epoch: 13,  secs per epoch: 9.435 s,  secs epoch*1k trials: 1.887s\n",
      "Epoch: 64, Loss: 0.186063, R2: 0.31,  best epoch: 13,  secs per epoch: 10.274s,  secs epoch*1k trials: 2.055s\n",
      "early stop!\n",
      "Final loss: 0.1860629201 , R2: 0.31\n",
      "Total time (model/function): (5658.125s / 647.293s)\n",
      "Time per epoch (model/function): (89.812s/ 10.274s)\n",
      "Time per epoch per 1k trials: 2.055s\n",
      "Current time: 2023-02-04 12:10:56.844866\n",
      "best loss 0.18568386733531952\n",
      "current r2 values by newly added kernel\n",
      "[0.3137805722590338, 0.31379601496493337]\n",
      "optimizing feature type dinuc\n",
      "the optimization of dinucleotide features is skipped...\n",
      "current kernels\n",
      "\n",
      "Kernel to optimize 3\n",
      "\n",
      "FREEZING KERNELS\n",
      "optimizing feature type mono\n",
      "setting grad status of kernel (mono, dinuc) at 0 to (0, 0)\n",
      "setting grad status of kernel (mono, dinuc) at 1 to (0, 0)\n",
      "setting grad status of kernel (mono, dinuc) at 2 to (0, 0)\n",
      "setting grad status of kernel (mono, dinuc) at 3 to (1, 0)\n",
      "setting grad status of kernel (mono, dinuc) at 4 to (0, 0)\n",
      "setting grad status of kernel (mono, dinuc) at 5 to (0, 0)\n",
      "setting grad status of kernel (mono, dinuc) at 6 to (0, 0)\n",
      "setting grad status of kernel (mono, dinuc) at 7 to (0, 0)\n",
      "setting grad status of kernel (mono, dinuc) at 8 to (0, 0)\n",
      "kernels mask None\n",
      "optimizer:  Adam \n",
      "criterion: PoissonLoss \n",
      "# epochs: 200 \n",
      "early_stopping: 50\n",
      "lr= 0.01, weight_decay= 0, dir weight= 0\n",
      "Epoch: 11, Loss: 0.436322, R2: 0.31,  best epoch: 9,  secs per epoch: 9.547 s,  secs epoch*1k trials: 1.909s\n",
      "Epoch: 21, Loss: 0.432460, R2: 0.31,  best epoch: 19,  secs per epoch: 9.460 s,  secs epoch*1k trials: 1.892s\n",
      "Epoch: 31, Loss: 0.432049, R2: 0.31,  best epoch: 25,  secs per epoch: 9.402 s,  secs epoch*1k trials: 1.880s\n",
      "Epoch: 41, Loss: 0.432101, R2: 0.31,  best epoch: 38,  secs per epoch: 9.489 s,  secs epoch*1k trials: 1.898s\n",
      "Epoch: 51, Loss: 0.431841, R2: 0.31,  best epoch: 38,  secs per epoch: 9.502 s,  secs epoch*1k trials: 1.900s\n",
      "Epoch: 61, Loss: 0.431936, R2: 0.31,  best epoch: 58,  secs per epoch: 9.570 s,  secs epoch*1k trials: 1.914s\n",
      "Epoch: 71, Loss: 0.431910, R2: 0.31,  best epoch: 58,  secs per epoch: 9.597 s,  secs epoch*1k trials: 1.919s\n",
      "Epoch: 81, Loss: 0.432033, R2: 0.31,  best epoch: 58,  secs per epoch: 9.584 s,  secs epoch*1k trials: 1.917s\n",
      "Epoch: 91, Loss: 0.432142, R2: 0.31,  best epoch: 85,  secs per epoch: 9.573 s,  secs epoch*1k trials: 1.915s\n",
      "Epoch: 101, Loss: 0.431968, R2: 0.31,  best epoch: 85,  secs per epoch: 9.569 s,  secs epoch*1k trials: 1.914s\n",
      "Epoch: 111, Loss: 0.431886, R2: 0.31,  best epoch: 85,  secs per epoch: 9.565 s,  secs epoch*1k trials: 1.913s\n",
      "Epoch: 121, Loss: 0.431743, R2: 0.31,  best epoch: 113,  secs per epoch: 9.557 s,  secs epoch*1k trials: 1.911s\n",
      "Epoch: 131, Loss: 0.431828, R2: 0.31,  best epoch: 113,  secs per epoch: 9.552 s,  secs epoch*1k trials: 1.910s\n",
      "Epoch: 141, Loss: 0.431967, R2: 0.31,  best epoch: 113,  secs per epoch: 9.547 s,  secs epoch*1k trials: 1.909s\n",
      "Epoch: 151, Loss: 0.432108, R2: 0.31,  best epoch: 113,  secs per epoch: 9.548 s,  secs epoch*1k trials: 1.910s\n",
      "Epoch: 161, Loss: 0.431896, R2: 0.31,  best epoch: 113,  secs per epoch: 9.551 s,  secs epoch*1k trials: 1.910s\n",
      "Epoch: 164, Loss: 0.431925, R2: 0.31,  best epoch: 113,  secs per epoch: 9.890s,  secs epoch*1k trials: 1.978s\n",
      "early stop!\n",
      "Final loss: 0.4319249272 , R2: 0.31\n",
      "Total time (model/function): (7270.126s / 1612.001s)\n",
      "Time per epoch (model/function): (44.602s/ 9.890s)\n",
      "Time per epoch per 1k trials: 1.978s\n",
      "Current time: 2023-02-04 12:40:22.140694\n",
      "\n",
      "\n",
      "final refinement step (after shift)...\n",
      "\n",
      "unfreezing all layers for final refinement\n",
      "kernel grad (0) = 1 \n",
      "kernel grad (1) = 1 \n",
      "kernel grad (2) = 1 \n",
      "kernel grad (3) = 1 \n",
      "kernel grad (4) = 1 \n",
      "kernel grad (5) = 1 \n",
      "kernel grad (6) = 1 \n",
      "kernel grad (7) = 1 \n",
      "kernel grad (8) = 1 \n",
      "\n",
      "kernels mask None\n",
      "kernels mask None\n",
      "optimizer:  Adam \n",
      "criterion: PoissonLoss \n",
      "# epochs: 200 \n",
      "early_stopping: 50\n",
      "lr= 0.01, weight_decay= 0, dir weight= 0\n",
      "Epoch: 11, Loss: 0.186001, R2: 0.31,  best epoch: 3,  secs per epoch: 9.685 s,  secs epoch*1k trials: 1.937s\n",
      "Epoch: 21, Loss: 0.185751, R2: 0.31,  best epoch: 14,  secs per epoch: 9.776 s,  secs epoch*1k trials: 1.955s\n",
      "Epoch: 31, Loss: 0.186150, R2: 0.31,  best epoch: 14,  secs per epoch: 9.844 s,  secs epoch*1k trials: 1.969s\n",
      "Epoch: 41, Loss: 0.186063, R2: 0.31,  best epoch: 38,  secs per epoch: 9.907 s,  secs epoch*1k trials: 1.981s\n",
      "Epoch: 51, Loss: 0.185963, R2: 0.31,  best epoch: 38,  secs per epoch: 9.924 s,  secs epoch*1k trials: 1.985s\n",
      "Epoch: 61, Loss: 0.185970, R2: 0.31,  best epoch: 38,  secs per epoch: 9.924 s,  secs epoch*1k trials: 1.985s\n",
      "Epoch: 71, Loss: 0.186016, R2: 0.31,  best epoch: 38,  secs per epoch: 9.924 s,  secs epoch*1k trials: 1.985s\n",
      "Epoch: 81, Loss: 0.186006, R2: 0.31,  best epoch: 38,  secs per epoch: 9.928 s,  secs epoch*1k trials: 1.986s\n",
      "Epoch: 89, Loss: 0.185843, R2: 0.31,  best epoch: 38,  secs per epoch: 10.111s,  secs epoch*1k trials: 2.022s\n",
      "early stop!\n",
      "Final loss: 0.1858429372 , R2: 0.31\n",
      "Total time (model/function): (8159.877s / 889.751s)\n",
      "Time per epoch (model/function): (92.726s/ 10.111s)\n",
      "Time per epoch per 1k trials: 2.022s\n",
      "Current time: 2023-02-04 12:56:32.384071\n",
      "best loss 0.18561916649341584\n",
      "current r2 values by newly added kernel\n",
      "[0.3137805722590338, 0.31379601496493337, 0.3137745668789277]\n",
      "optimizing feature type dinuc\n",
      "the optimization of dinucleotide features is skipped...\n",
      "current kernels\n",
      "\n",
      "Kernel to optimize 4\n",
      "\n",
      "FREEZING KERNELS\n",
      "optimizing feature type mono\n",
      "setting grad status of kernel (mono, dinuc) at 0 to (0, 0)\n",
      "setting grad status of kernel (mono, dinuc) at 1 to (0, 0)\n",
      "setting grad status of kernel (mono, dinuc) at 2 to (0, 0)\n",
      "setting grad status of kernel (mono, dinuc) at 3 to (0, 0)\n",
      "setting grad status of kernel (mono, dinuc) at 4 to (1, 0)\n",
      "setting grad status of kernel (mono, dinuc) at 5 to (0, 0)\n",
      "setting grad status of kernel (mono, dinuc) at 6 to (0, 0)\n",
      "setting grad status of kernel (mono, dinuc) at 7 to (0, 0)\n",
      "setting grad status of kernel (mono, dinuc) at 8 to (0, 0)\n",
      "kernels mask None\n",
      "optimizer:  Adam \n",
      "criterion: PoissonLoss \n",
      "# epochs: 200 \n",
      "early_stopping: 50\n",
      "lr= 0.01, weight_decay= 0, dir weight= 0\n",
      "Epoch: 11, Loss: 0.390534, R2: 0.31,  best epoch: 9,  secs per epoch: 10.255 s,  secs epoch*1k trials: 2.051s\n",
      "Epoch: 21, Loss: 0.386697, R2: 0.31,  best epoch: 19,  secs per epoch: 10.004 s,  secs epoch*1k trials: 2.001s\n",
      "Epoch: 31, Loss: 0.386111, R2: 0.31,  best epoch: 26,  secs per epoch: 9.903 s,  secs epoch*1k trials: 1.981s\n",
      "Epoch: 41, Loss: 0.386288, R2: 0.31,  best epoch: 38,  secs per epoch: 9.837 s,  secs epoch*1k trials: 1.967s\n",
      "Epoch: 51, Loss: 0.386276, R2: 0.31,  best epoch: 38,  secs per epoch: 9.803 s,  secs epoch*1k trials: 1.961s\n",
      "Epoch: 61, Loss: 0.386095, R2: 0.31,  best epoch: 58,  secs per epoch: 9.776 s,  secs epoch*1k trials: 1.955s\n",
      "Epoch: 71, Loss: 0.385949, R2: 0.31,  best epoch: 58,  secs per epoch: 9.765 s,  secs epoch*1k trials: 1.953s\n",
      "Epoch: 81, Loss: 0.386174, R2: 0.31,  best epoch: 70,  secs per epoch: 9.788 s,  secs epoch*1k trials: 1.958s\n",
      "Epoch: 91, Loss: 0.386365, R2: 0.31,  best epoch: 70,  secs per epoch: 9.812 s,  secs epoch*1k trials: 1.962s\n",
      "Epoch: 101, Loss: 0.386316, R2: 0.31,  best epoch: 93,  secs per epoch: 9.787 s,  secs epoch*1k trials: 1.957s\n",
      "Epoch: 111, Loss: 0.386283, R2: 0.31,  best epoch: 93,  secs per epoch: 9.758 s,  secs epoch*1k trials: 1.952s\n",
      "Epoch: 121, Loss: 0.386063, R2: 0.31,  best epoch: 93,  secs per epoch: 9.734 s,  secs epoch*1k trials: 1.947s\n",
      "Epoch: 131, Loss: 0.386233, R2: 0.31,  best epoch: 93,  secs per epoch: 9.724 s,  secs epoch*1k trials: 1.945s\n",
      "Epoch: 141, Loss: 0.386322, R2: 0.31,  best epoch: 93,  secs per epoch: 9.712 s,  secs epoch*1k trials: 1.942s\n",
      "Epoch: 144, Loss: 0.386204, R2: 0.31,  best epoch: 93,  secs per epoch: 10.098s,  secs epoch*1k trials: 2.020s\n",
      "early stop!\n",
      "Final loss: 0.3862037003 , R2: 0.31\n",
      "Total time (model/function): (9603.872s / 1443.994s)\n",
      "Time per epoch (model/function): (67.160s/ 10.098s)\n",
      "Time per epoch per 1k trials: 2.020s\n",
      "Current time: 2023-02-04 13:23:15.736467\n",
      "\n",
      "\n",
      "final refinement step (after shift)...\n",
      "\n",
      "unfreezing all layers for final refinement\n",
      "kernel grad (0) = 1 \n",
      "kernel grad (1) = 1 \n",
      "kernel grad (2) = 1 \n",
      "kernel grad (3) = 1 \n",
      "kernel grad (4) = 1 \n",
      "kernel grad (5) = 1 \n",
      "kernel grad (6) = 1 \n",
      "kernel grad (7) = 1 \n",
      "kernel grad (8) = 1 \n",
      "\n",
      "kernels mask None\n",
      "kernels mask None\n",
      "optimizer:  Adam \n",
      "criterion: PoissonLoss \n",
      "# epochs: 200 \n",
      "early_stopping: 50\n",
      "lr= 0.01, weight_decay= 0, dir weight= 0\n",
      "Epoch: 11, Loss: 0.185845, R2: 0.31,  best epoch: 6,  secs per epoch: 9.818 s,  secs epoch*1k trials: 1.964s\n",
      "Epoch: 21, Loss: 0.185882, R2: 0.31,  best epoch: 6,  secs per epoch: 9.663 s,  secs epoch*1k trials: 1.933s\n",
      "Epoch: 31, Loss: 0.186006, R2: 0.31,  best epoch: 6,  secs per epoch: 9.610 s,  secs epoch*1k trials: 1.922s\n",
      "Epoch: 41, Loss: 0.186016, R2: 0.31,  best epoch: 6,  secs per epoch: 9.594 s,  secs epoch*1k trials: 1.919s\n",
      "Epoch: 51, Loss: 0.186107, R2: 0.31,  best epoch: 6,  secs per epoch: 9.581 s,  secs epoch*1k trials: 1.916s\n",
      "Epoch: 57, Loss: 0.185744, R2: 0.31,  best epoch: 6,  secs per epoch: 10.167s,  secs epoch*1k trials: 2.033s\n",
      "early stop!\n",
      "Final loss: 0.1857444823 , R2: 0.31\n",
      "Total time (model/function): (10173.232s / 569.360s)\n",
      "Time per epoch (model/function): (181.665s/ 10.167s)\n",
      "Time per epoch per 1k trials: 2.033s\n",
      "Current time: 2023-02-04 13:34:01.341312\n",
      "best loss 0.18566220104694367\n",
      "current r2 values by newly added kernel\n",
      "[0.3137805722590338, 0.31379601496493337, 0.3137745668789277, 0.3137511891598602]\n",
      "optimizing feature type dinuc\n",
      "the optimization of dinucleotide features is skipped...\n",
      "current kernels\n",
      "\n",
      "Kernel to optimize 5\n",
      "\n",
      "FREEZING KERNELS\n",
      "optimizing feature type mono\n",
      "setting grad status of kernel (mono, dinuc) at 0 to (0, 0)\n",
      "setting grad status of kernel (mono, dinuc) at 1 to (0, 0)\n",
      "setting grad status of kernel (mono, dinuc) at 2 to (0, 0)\n",
      "setting grad status of kernel (mono, dinuc) at 3 to (0, 0)\n",
      "setting grad status of kernel (mono, dinuc) at 4 to (0, 0)\n",
      "setting grad status of kernel (mono, dinuc) at 5 to (1, 0)\n",
      "setting grad status of kernel (mono, dinuc) at 6 to (0, 0)\n",
      "setting grad status of kernel (mono, dinuc) at 7 to (0, 0)\n",
      "setting grad status of kernel (mono, dinuc) at 8 to (0, 0)\n",
      "kernels mask None\n",
      "optimizer:  Adam \n",
      "criterion: PoissonLoss \n",
      "# epochs: 200 \n",
      "early_stopping: 50\n",
      "lr= 0.01, weight_decay= 0, dir weight= 0\n",
      "Epoch: 11, Loss: 0.342089, R2: 0.31,  best epoch: 9,  secs per epoch: 9.856 s,  secs epoch*1k trials: 1.971s\n",
      "Epoch: 21, Loss: 0.337731, R2: 0.31,  best epoch: 19,  secs per epoch: 9.792 s,  secs epoch*1k trials: 1.958s\n",
      "Epoch: 31, Loss: 0.337330, R2: 0.31,  best epoch: 27,  secs per epoch: 9.924 s,  secs epoch*1k trials: 1.985s\n",
      "Epoch: 41, Loss: 0.336681, R2: 0.31,  best epoch: 37,  secs per epoch: 9.965 s,  secs epoch*1k trials: 1.993s\n",
      "Epoch: 51, Loss: 0.337117, R2: 0.31,  best epoch: 40,  secs per epoch: 9.921 s,  secs epoch*1k trials: 1.984s\n",
      "Epoch: 61, Loss: 0.336930, R2: 0.31,  best epoch: 40,  secs per epoch: 9.924 s,  secs epoch*1k trials: 1.985s\n",
      "Epoch: 71, Loss: 0.336751, R2: 0.31,  best epoch: 40,  secs per epoch: 9.964 s,  secs epoch*1k trials: 1.993s\n",
      "Epoch: 81, Loss: 0.336784, R2: 0.31,  best epoch: 40,  secs per epoch: 9.942 s,  secs epoch*1k trials: 1.988s\n",
      "Epoch: 91, Loss: 0.336914, R2: 0.31,  best epoch: 40,  secs per epoch: 9.922 s,  secs epoch*1k trials: 1.984s\n",
      "Epoch: 91, Loss: 0.336914, R2: 0.31,  best epoch: 40,  secs per epoch: 10.801s,  secs epoch*1k trials: 2.160s\n",
      "early stop!\n",
      "Final loss: 0.3369137168 , R2: 0.31\n",
      "Total time (model/function): (11145.338s / 972.106s)\n",
      "Time per epoch (model/function): (123.837s/ 10.801s)\n",
      "Time per epoch per 1k trials: 2.160s\n",
      "Current time: 2023-02-04 13:52:48.085373\n",
      "\n",
      "\n",
      "final refinement step (after shift)...\n",
      "\n",
      "unfreezing all layers for final refinement\n",
      "kernel grad (0) = 1 \n",
      "kernel grad (1) = 1 \n",
      "kernel grad (2) = 1 \n",
      "kernel grad (3) = 1 \n",
      "kernel grad (4) = 1 \n",
      "kernel grad (5) = 1 \n",
      "kernel grad (6) = 1 \n",
      "kernel grad (7) = 1 \n",
      "kernel grad (8) = 1 \n",
      "\n",
      "kernels mask None\n",
      "kernels mask None\n",
      "optimizer:  Adam \n",
      "criterion: PoissonLoss \n",
      "# epochs: 200 \n",
      "early_stopping: 50\n",
      "lr= 0.01, weight_decay= 0, dir weight= 0\n",
      "Epoch: 11, Loss: 0.186084, R2: 0.31,  best epoch: 1,  secs per epoch: 9.944 s,  secs epoch*1k trials: 1.989s\n",
      "Epoch: 21, Loss: 0.185827, R2: 0.31,  best epoch: 1,  secs per epoch: 9.797 s,  secs epoch*1k trials: 1.959s\n",
      "Epoch: 31, Loss: 0.185772, R2: 0.31,  best epoch: 1,  secs per epoch: 9.827 s,  secs epoch*1k trials: 1.965s\n",
      "Epoch: 41, Loss: 0.186045, R2: 0.31,  best epoch: 1,  secs per epoch: 9.851 s,  secs epoch*1k trials: 1.970s\n",
      "Epoch: 51, Loss: 0.185982, R2: 0.31,  best epoch: 42,  secs per epoch: 10.023 s,  secs epoch*1k trials: 2.005s\n",
      "Epoch: 61, Loss: 0.186080, R2: 0.31,  best epoch: 42,  secs per epoch: 10.097 s,  secs epoch*1k trials: 2.019s\n",
      "Epoch: 71, Loss: 0.185818, R2: 0.31,  best epoch: 42,  secs per epoch: 10.186 s,  secs epoch*1k trials: 2.037s\n",
      "Epoch: 81, Loss: 0.185816, R2: 0.31,  best epoch: 42,  secs per epoch: 10.146 s,  secs epoch*1k trials: 2.029s\n",
      "Epoch: 91, Loss: 0.185819, R2: 0.31,  best epoch: 42,  secs per epoch: 10.116 s,  secs epoch*1k trials: 2.023s\n",
      "Epoch: 93, Loss: 0.185853, R2: 0.31,  best epoch: 42,  secs per epoch: 10.821s,  secs epoch*1k trials: 2.164s\n",
      "early stop!\n",
      "Final loss: 0.1858532101 , R2: 0.31\n",
      "Total time (model/function): (12140.901s / 995.563s)\n",
      "Time per epoch (model/function): (131.966s/ 10.821s)\n",
      "Time per epoch per 1k trials: 2.164s\n",
      "Current time: 2023-02-04 14:10:43.953988\n",
      "best loss 0.1854943811893463\n",
      "current r2 values by newly added kernel\n",
      "[0.3137805722590338, 0.31379601496493337, 0.3137745668789277, 0.3137511891598602, 0.31378441600129403]\n",
      "optimizing feature type dinuc\n",
      "the optimization of dinucleotide features is skipped...\n",
      "current kernels\n",
      "\n",
      "Kernel to optimize 6\n",
      "\n",
      "FREEZING KERNELS\n",
      "optimizing feature type mono\n",
      "setting grad status of kernel (mono, dinuc) at 0 to (0, 0)\n",
      "setting grad status of kernel (mono, dinuc) at 1 to (0, 0)\n",
      "setting grad status of kernel (mono, dinuc) at 2 to (0, 0)\n",
      "setting grad status of kernel (mono, dinuc) at 3 to (0, 0)\n",
      "setting grad status of kernel (mono, dinuc) at 4 to (0, 0)\n",
      "setting grad status of kernel (mono, dinuc) at 5 to (0, 0)\n",
      "setting grad status of kernel (mono, dinuc) at 6 to (1, 0)\n",
      "setting grad status of kernel (mono, dinuc) at 7 to (0, 0)\n",
      "setting grad status of kernel (mono, dinuc) at 8 to (0, 0)\n",
      "kernels mask None\n",
      "optimizer:  Adam \n",
      "criterion: PoissonLoss \n",
      "# epochs: 200 \n",
      "early_stopping: 50\n",
      "lr= 0.01, weight_decay= 0, dir weight= 0\n",
      "Epoch: 11, Loss: 0.293057, R2: 0.31,  best epoch: 9,  secs per epoch: 10.043 s,  secs epoch*1k trials: 2.009s\n",
      "Epoch: 21, Loss: 0.288413, R2: 0.31,  best epoch: 19,  secs per epoch: 10.044 s,  secs epoch*1k trials: 2.009s\n",
      "Epoch: 31, Loss: 0.287735, R2: 0.31,  best epoch: 29,  secs per epoch: 9.977 s,  secs epoch*1k trials: 1.995s\n",
      "Epoch: 41, Loss: 0.287501, R2: 0.31,  best epoch: 36,  secs per epoch: 9.958 s,  secs epoch*1k trials: 1.992s\n",
      "Epoch: 51, Loss: 0.287448, R2: 0.31,  best epoch: 42,  secs per epoch: 9.954 s,  secs epoch*1k trials: 1.991s\n",
      "Epoch: 61, Loss: 0.287435, R2: 0.31,  best epoch: 55,  secs per epoch: 10.005 s,  secs epoch*1k trials: 2.001s\n",
      "Epoch: 71, Loss: 0.287755, R2: 0.31,  best epoch: 67,  secs per epoch: 10.077 s,  secs epoch*1k trials: 2.015s\n",
      "Epoch: 81, Loss: 0.287338, R2: 0.31,  best epoch: 67,  secs per epoch: 10.111 s,  secs epoch*1k trials: 2.022s\n",
      "Epoch: 91, Loss: 0.287550, R2: 0.31,  best epoch: 67,  secs per epoch: 10.058 s,  secs epoch*1k trials: 2.012s\n",
      "Epoch: 101, Loss: 0.287440, R2: 0.31,  best epoch: 67,  secs per epoch: 9.990 s,  secs epoch*1k trials: 1.998s\n",
      "Epoch: 111, Loss: 0.287635, R2: 0.31,  best epoch: 67,  secs per epoch: 9.926 s,  secs epoch*1k trials: 1.985s\n",
      "Epoch: 121, Loss: 0.287638, R2: 0.31,  best epoch: 113,  secs per epoch: 9.871 s,  secs epoch*1k trials: 1.974s\n",
      "Epoch: 131, Loss: 0.287983, R2: 0.31,  best epoch: 113,  secs per epoch: 9.818 s,  secs epoch*1k trials: 1.964s\n",
      "Epoch: 141, Loss: 0.287693, R2: 0.31,  best epoch: 113,  secs per epoch: 9.776 s,  secs epoch*1k trials: 1.955s\n",
      "Epoch: 151, Loss: 0.287690, R2: 0.31,  best epoch: 113,  secs per epoch: 9.735 s,  secs epoch*1k trials: 1.947s\n",
      "Epoch: 161, Loss: 0.287286, R2: 0.31,  best epoch: 113,  secs per epoch: 9.700 s,  secs epoch*1k trials: 1.940s\n",
      "Epoch: 164, Loss: 0.287380, R2: 0.31,  best epoch: 113,  secs per epoch: 10.015s,  secs epoch*1k trials: 2.003s\n",
      "early stop!\n",
      "Final loss: 0.2873800814 , R2: 0.31\n",
      "Total time (model/function): (13773.357s / 1632.456s)\n",
      "Time per epoch (model/function): (84.499s/ 10.015s)\n",
      "Time per epoch per 1k trials: 2.003s\n",
      "Current time: 2023-02-04 14:40:30.057343\n",
      "\n",
      "\n",
      "final refinement step (after shift)...\n",
      "\n",
      "unfreezing all layers for final refinement\n",
      "kernel grad (0) = 1 \n",
      "kernel grad (1) = 1 \n",
      "kernel grad (2) = 1 \n",
      "kernel grad (3) = 1 \n",
      "kernel grad (4) = 1 \n",
      "kernel grad (5) = 1 \n",
      "kernel grad (6) = 1 \n",
      "kernel grad (7) = 1 \n",
      "kernel grad (8) = 1 \n",
      "\n",
      "kernels mask None\n",
      "kernels mask None\n",
      "optimizer:  Adam \n",
      "criterion: PoissonLoss \n",
      "# epochs: 200 \n",
      "early_stopping: 50\n",
      "lr= 0.01, weight_decay= 0, dir weight= 0\n",
      "Epoch: 11, Loss: 0.185876, R2: 0.31,  best epoch: 8,  secs per epoch: 9.401 s,  secs epoch*1k trials: 1.880s\n",
      "Epoch: 21, Loss: 0.185915, R2: 0.31,  best epoch: 8,  secs per epoch: 9.327 s,  secs epoch*1k trials: 1.865s\n",
      "Epoch: 31, Loss: 0.186038, R2: 0.31,  best epoch: 8,  secs per epoch: 9.292 s,  secs epoch*1k trials: 1.858s\n",
      "Epoch: 41, Loss: 0.186122, R2: 0.31,  best epoch: 8,  secs per epoch: 9.262 s,  secs epoch*1k trials: 1.852s\n",
      "Epoch: 51, Loss: 0.185883, R2: 0.31,  best epoch: 8,  secs per epoch: 9.226 s,  secs epoch*1k trials: 1.845s\n",
      "Epoch: 59, Loss: 0.185907, R2: 0.31,  best epoch: 8,  secs per epoch: 9.473s,  secs epoch*1k trials: 1.895s\n",
      "early stop!\n",
      "Final loss: 0.1859069914 , R2: 0.31\n",
      "Total time (model/function): (14322.810s / 549.453s)\n",
      "Time per epoch (model/function): (246.945s/ 9.473s)\n",
      "Time per epoch per 1k trials: 1.895s\n",
      "Current time: 2023-02-04 14:50:53.300769\n",
      "best loss 0.1856743037700653\n",
      "current r2 values by newly added kernel\n",
      "[0.3137805722590338, 0.31379601496493337, 0.3137745668789277, 0.3137511891598602, 0.31378441600129403, 0.31378339152196677]\n",
      "optimizing feature type dinuc\n",
      "the optimization of dinucleotide features is skipped...\n",
      "current kernels\n",
      "\n",
      "Kernel to optimize 7\n",
      "\n",
      "FREEZING KERNELS\n",
      "optimizing feature type mono\n",
      "setting grad status of kernel (mono, dinuc) at 0 to (0, 0)\n",
      "setting grad status of kernel (mono, dinuc) at 1 to (0, 0)\n",
      "setting grad status of kernel (mono, dinuc) at 2 to (0, 0)\n",
      "setting grad status of kernel (mono, dinuc) at 3 to (0, 0)\n",
      "setting grad status of kernel (mono, dinuc) at 4 to (0, 0)\n",
      "setting grad status of kernel (mono, dinuc) at 5 to (0, 0)\n",
      "setting grad status of kernel (mono, dinuc) at 6 to (0, 0)\n",
      "setting grad status of kernel (mono, dinuc) at 7 to (1, 0)\n",
      "setting grad status of kernel (mono, dinuc) at 8 to (0, 0)\n",
      "kernels mask None\n",
      "optimizer:  Adam \n",
      "criterion: PoissonLoss \n",
      "# epochs: 200 \n",
      "early_stopping: 50\n",
      "lr= 0.01, weight_decay= 0, dir weight= 0\n",
      "Epoch: 11, Loss: 0.245401, R2: 0.31,  best epoch: 9,  secs per epoch: 9.542 s,  secs epoch*1k trials: 1.908s\n",
      "Epoch: 21, Loss: 0.241816, R2: 0.31,  best epoch: 19,  secs per epoch: 9.431 s,  secs epoch*1k trials: 1.886s\n",
      "Epoch: 31, Loss: 0.240891, R2: 0.31,  best epoch: 27,  secs per epoch: 9.398 s,  secs epoch*1k trials: 1.880s\n",
      "Epoch: 41, Loss: 0.240420, R2: 0.31,  best epoch: 36,  secs per epoch: 9.385 s,  secs epoch*1k trials: 1.877s\n",
      "Epoch: 51, Loss: 0.240631, R2: 0.31,  best epoch: 36,  secs per epoch: 9.385 s,  secs epoch*1k trials: 1.877s\n",
      "Epoch: 61, Loss: 0.240504, R2: 0.31,  best epoch: 59,  secs per epoch: 9.383 s,  secs epoch*1k trials: 1.877s\n",
      "Epoch: 71, Loss: 0.240308, R2: 0.31,  best epoch: 59,  secs per epoch: 9.382 s,  secs epoch*1k trials: 1.876s\n",
      "Epoch: 81, Loss: 0.240647, R2: 0.31,  best epoch: 70,  secs per epoch: 9.385 s,  secs epoch*1k trials: 1.877s\n",
      "Epoch: 91, Loss: 0.240448, R2: 0.31,  best epoch: 70,  secs per epoch: 9.386 s,  secs epoch*1k trials: 1.877s\n",
      "Epoch: 101, Loss: 0.240755, R2: 0.31,  best epoch: 70,  secs per epoch: 9.384 s,  secs epoch*1k trials: 1.877s\n",
      "Epoch: 111, Loss: 0.240434, R2: 0.31,  best epoch: 70,  secs per epoch: 9.387 s,  secs epoch*1k trials: 1.877s\n",
      "Epoch: 121, Loss: 0.240621, R2: 0.31,  best epoch: 70,  secs per epoch: 9.380 s,  secs epoch*1k trials: 1.876s\n",
      "Epoch: 121, Loss: 0.240621, R2: 0.31,  best epoch: 70,  secs per epoch: 10.013s,  secs epoch*1k trials: 2.003s\n",
      "early stop!\n",
      "Final loss: 0.2406214833 , R2: 0.31\n",
      "Total time (model/function): (15524.392s / 1201.582s)\n",
      "Time per epoch (model/function): (129.370s/ 10.013s)\n",
      "Time per epoch per 1k trials: 2.003s\n",
      "Current time: 2023-02-04 15:13:24.585202\n",
      "\n",
      "\n",
      "final refinement step (after shift)...\n",
      "\n",
      "unfreezing all layers for final refinement\n",
      "kernel grad (0) = 1 \n",
      "kernel grad (1) = 1 \n",
      "kernel grad (2) = 1 \n",
      "kernel grad (3) = 1 \n",
      "kernel grad (4) = 1 \n",
      "kernel grad (5) = 1 \n",
      "kernel grad (6) = 1 \n",
      "kernel grad (7) = 1 \n",
      "kernel grad (8) = 1 \n",
      "\n",
      "kernels mask None\n",
      "kernels mask None\n",
      "optimizer:  Adam \n",
      "criterion: PoissonLoss \n",
      "# epochs: 200 \n",
      "early_stopping: 50\n",
      "lr= 0.01, weight_decay= 0, dir weight= 0\n",
      "Epoch: 11, Loss: 0.185887, R2: 0.31,  best epoch: 3,  secs per epoch: 9.382 s,  secs epoch*1k trials: 1.876s\n",
      "Epoch: 21, Loss: 0.185761, R2: 0.31,  best epoch: 12,  secs per epoch: 9.778 s,  secs epoch*1k trials: 1.956s\n",
      "Epoch: 31, Loss: 0.185966, R2: 0.31,  best epoch: 12,  secs per epoch: 9.898 s,  secs epoch*1k trials: 1.980s\n",
      "Epoch: 41, Loss: 0.185796, R2: 0.31,  best epoch: 12,  secs per epoch: 9.860 s,  secs epoch*1k trials: 1.972s\n",
      "Epoch: 51, Loss: 0.185998, R2: 0.31,  best epoch: 12,  secs per epoch: 9.915 s,  secs epoch*1k trials: 1.983s\n",
      "Epoch: 61, Loss: 0.185850, R2: 0.31,  best epoch: 59,  secs per epoch: 9.881 s,  secs epoch*1k trials: 1.976s\n",
      "Epoch: 71, Loss: 0.185929, R2: 0.31,  best epoch: 59,  secs per epoch: 9.883 s,  secs epoch*1k trials: 1.977s\n",
      "Epoch: 81, Loss: 0.185909, R2: 0.31,  best epoch: 59,  secs per epoch: 9.885 s,  secs epoch*1k trials: 1.977s\n",
      "Epoch: 91, Loss: 0.185967, R2: 0.31,  best epoch: 59,  secs per epoch: 9.885 s,  secs epoch*1k trials: 1.977s\n",
      "Epoch: 101, Loss: 0.185906, R2: 0.31,  best epoch: 59,  secs per epoch: 9.894 s,  secs epoch*1k trials: 1.979s\n",
      "Epoch: 110, Loss: 0.185834, R2: 0.31,  best epoch: 59,  secs per epoch: 9.976s,  secs epoch*1k trials: 1.995s\n",
      "early stop!\n",
      "Final loss: 0.1858341634 , R2: 0.31\n",
      "Total time (model/function): (16611.764s / 1087.372s)\n",
      "Time per epoch (model/function): (152.402s/ 9.976s)\n",
      "Time per epoch per 1k trials: 1.995s\n",
      "Current time: 2023-02-04 15:32:53.787358\n",
      "best loss 0.18564098179340363\n",
      "current r2 values by newly added kernel\n",
      "[0.3137805722590338, 0.31379601496493337, 0.3137745668789277, 0.3137511891598602, 0.31378441600129403, 0.31378339152196677, 0.313774071971163]\n",
      "optimizing feature type dinuc\n",
      "the optimization of dinucleotide features is skipped...\n",
      "current kernels\n",
      "\n",
      "Kernel to optimize 8\n",
      "\n",
      "FREEZING KERNELS\n",
      "optimizing feature type mono\n",
      "setting grad status of kernel (mono, dinuc) at 0 to (0, 0)\n",
      "setting grad status of kernel (mono, dinuc) at 1 to (0, 0)\n",
      "setting grad status of kernel (mono, dinuc) at 2 to (0, 0)\n",
      "setting grad status of kernel (mono, dinuc) at 3 to (0, 0)\n",
      "setting grad status of kernel (mono, dinuc) at 4 to (0, 0)\n",
      "setting grad status of kernel (mono, dinuc) at 5 to (0, 0)\n",
      "setting grad status of kernel (mono, dinuc) at 6 to (0, 0)\n",
      "setting grad status of kernel (mono, dinuc) at 7 to (0, 0)\n",
      "setting grad status of kernel (mono, dinuc) at 8 to (1, 0)\n",
      "kernels mask None\n",
      "optimizer:  Adam \n",
      "criterion: PoissonLoss \n",
      "# epochs: 200 \n",
      "early_stopping: 50\n",
      "lr= 0.01, weight_decay= 0, dir weight= 0\n",
      "Epoch: 11, Loss: 0.242800, R2: 0.31,  best epoch: 9,  secs per epoch: 10.070 s,  secs epoch*1k trials: 2.014s\n",
      "Epoch: 21, Loss: 0.243117, R2: 0.31,  best epoch: 9,  secs per epoch: 10.078 s,  secs epoch*1k trials: 2.016s\n",
      "Epoch: 31, Loss: 0.242862, R2: 0.31,  best epoch: 9,  secs per epoch: 9.872 s,  secs epoch*1k trials: 1.974s\n",
      "Epoch: 41, Loss: 0.243112, R2: 0.31,  best epoch: 9,  secs per epoch: 9.722 s,  secs epoch*1k trials: 1.944s\n",
      "Epoch: 51, Loss: 0.242808, R2: 0.31,  best epoch: 9,  secs per epoch: 9.644 s,  secs epoch*1k trials: 1.929s\n",
      "Epoch: 60, Loss: 0.243143, R2: 0.31,  best epoch: 9,  secs per epoch: 79.385s,  secs epoch*1k trials: 15.877s\n",
      "early stop!\n"
     ]
    }
   ],
   "source": [
    "model, best_loss = model.optimize_iterative(train, n_epochs=[100] + [200] * (n_kernels + 1), show_logo=False, use_mono=True, use_dinuc=False, dinuc_mode='local',\n",
    "                                            opt_kernel_shift=[0, 0] + [0] * (n_kernels),\n",
    "                                            opt_kernel_length=[0, 0] + [0] * (n_kernels),\n",
    "                                            shift_max=1, shift_step=1, optimiser=topti.Adam,\n",
    "                                            n_batches=1, n_rounds=2, num_epochs_shift_factor=1, # log_etas=log_etas, # log_etas=log_etas,\n",
    "                                            kernels = [0] + [2] + [20] * (n_kernels), r2_per_epoch=True,\n",
    "                                            exp_max=8,\n",
    "                                            early_stopping=50, log_each=10, w=20, max_w=20) #  target_dim=train.dataset.signal.shape[1])"
   ],
   "metadata": {
    "collapsed": false,
    "pycharm": {
     "name": "#%%\n",
     "is_executing": true
    }
   }
  },
  {
   "cell_type": "code",
   "execution_count": null,
   "outputs": [],
   "source": [
    "plt.subplot(1, 4, 1)\n",
    "plt.plot(model.loss_history_log_dynamic)\n",
    "plt.subplot(1, 4, 2)\n",
    "plt.plot(model.loss_history)\n",
    "plt.subplot(1, 4, 3)\n",
    "plt.plot(model.loss_history_sym_weights)\n"
   ],
   "metadata": {
    "collapsed": false,
    "pycharm": {
     "name": "#%%\n",
     "is_executing": true
    }
   }
  },
  {
   "cell_type": "code",
   "execution_count": null,
   "outputs": [],
   "source": [
    "from matplotlib import rcParams\n",
    "rcParams['figure.figsize'] = 20, 5\n",
    "rcParams['figure.dpi'] = 100\n",
    "# mb.pl.conv(model, n_cols=2, show=True)\n",
    "# plt.show()\n"
   ],
   "metadata": {
    "collapsed": false,
    "pycharm": {
     "name": "#%%\n",
     "is_executing": true
    }
   }
  },
  {
   "cell_type": "code",
   "execution_count": null,
   "outputs": [],
   "source": [
    "tsum = torch.sum\n",
    "texp = torch.exp\n",
    "tspa = torch.sparse_coo_tensor\n",
    "tsmm = torch.sparse.mm\n",
    "t = torch.transpose\n",
    "\n",
    "# connectivities\n",
    "C = model.selex_module.conn_sparse\n",
    "a_ind = C.indices()\n",
    "\n",
    "log_dynamic = model.selex_module.log_dynamic\n",
    "D = model.selex_module.log_dynamic\n",
    "D_tril = tspa(a_ind, D, C.shape)  # .requires_grad_(True).cuda()\n",
    "D_triu = tspa(a_ind, -D, C.shape)  # .requires_grad_(True).cuda()\n",
    "D = D_tril + t(D_triu, 0, 1)\n",
    "# log_dynamic = log_dynamic + -torch.transpose(log_dynamic, 0, 1)\n",
    "# triu_indices = torch.triu_indices(row=n_rounds, col=n_rounds, offset=1)\n",
    "D"
   ],
   "metadata": {
    "collapsed": false,
    "pycharm": {
     "name": "#%%\n",
     "is_executing": true
    }
   }
  },
  {
   "cell_type": "code",
   "execution_count": null,
   "outputs": [],
   "source": [
    "import seaborn as sns\n",
    "mb.pl.set_rcParams({'figure.figsize': [3, 3]})\n",
    "sns.heatmap(D.to_dense().detach().cpu(), cmap='RdBu_r')"
   ],
   "metadata": {
    "collapsed": false,
    "pycharm": {
     "name": "#%%\n",
     "is_executing": true
    }
   }
  },
  {
   "cell_type": "code",
   "execution_count": null,
   "outputs": [],
   "source": [
    "# contributions per newly added kernel\n",
    "rcParams['figure.figsize'] = 2, 3\n",
    "rcParams['figure.dpi'] = 80\n",
    "import seaborn as sns\n",
    "r2 = pd.DataFrame(model.best_r2_by_new_filter, columns=['r2']).reset_index()\n",
    "sns.barplot(data=r2, x='index', y='r2')"
   ],
   "metadata": {
    "collapsed": false,
    "pycharm": {
     "name": "#%%\n",
     "is_executing": true
    }
   }
  },
  {
   "cell_type": "code",
   "execution_count": null,
   "outputs": [],
   "source": [
    "# contributions per newly added kernel\n",
    "rcParams['figure.figsize'] = 2, 3\n",
    "rcParams['figure.dpi'] = 80\n",
    "import seaborn as sns\n",
    "r2 = pd.DataFrame(model.best_r2_by_new_filter, columns=['r2']).reset_index()\n",
    "sns.barplot(data=r2, x='index', y='r2')"
   ],
   "metadata": {
    "collapsed": false,
    "pycharm": {
     "name": "#%%\n",
     "is_executing": true
    }
   }
  },
  {
   "cell_type": "code",
   "execution_count": null,
   "outputs": [],
   "source": [
    "torch.set_printoptions(precision=2)\n",
    "dynamic_score = D.to_dense().detach().cpu().sum(axis=0)\n"
   ],
   "metadata": {
    "collapsed": false,
    "pycharm": {
     "name": "#%%\n",
     "is_executing": true
    }
   }
  },
  {
   "cell_type": "code",
   "execution_count": null,
   "outputs": [],
   "source": [
    "\n",
    "# dyn_score\n",
    "dynamic_score = dynamic_score\n",
    "dynamic_score = (dynamic_score - dynamic_score.min()) / (dynamic_score.max() - dynamic_score.min())\n",
    "ad.obs['dynamic_score'] = dynamic_score"
   ],
   "metadata": {
    "collapsed": false,
    "pycharm": {
     "name": "#%%\n",
     "is_executing": true
    }
   }
  },
  {
   "cell_type": "code",
   "execution_count": null,
   "outputs": [],
   "source": [
    "ad.obs['dynamic_score_cluster'] = np.where(dynamic_score > dynamic_score.mean(), 'dynamic', 'static')\n",
    "z1 = np.where(((dynamic_score - dynamic_score.mean()) / dynamic_score.std()) > 1, 'dynamic', 'static')\n",
    "z2 = np.where(((dynamic_score - dynamic_score.mean()) / dynamic_score.std()) > 2, 'dynamic', 'static')\n",
    "\n",
    "ad.obs['dynamic_score_z1'] = z1\n",
    "ad.obs['dynamic_score_z2'] = z2\n",
    "\n",
    "#  ad.obs['dynamic_score_cluster'] = np.where(dynamic_score > .5, , 0)\n",
    "sns.displot(dynamic_score)\n",
    "plt.xlabel('dynamic score (normalized)')\n"
   ],
   "metadata": {
    "collapsed": false,
    "pycharm": {
     "name": "#%%\n",
     "is_executing": true
    }
   }
  },
  {
   "cell_type": "code",
   "execution_count": null,
   "outputs": [],
   "source": [
    "# contributions per newly added kernel\n",
    "rcParams['figure.figsize'] = 5, 5\n",
    "rcParams['figure.dpi'] = 120\n",
    "sc.pl.umap(ad, color=['dynamic_score'], cmap='RdBu_r', sort_order=True)\n",
    "sc.pl.umap(ad, color=['dynamic_score_z1'], cmap='RdBu_r', sort_order=True)\n"
   ],
   "metadata": {
    "collapsed": false,
    "pycharm": {
     "name": "#%%\n",
     "is_executing": true
    }
   }
  },
  {
   "cell_type": "code",
   "execution_count": null,
   "outputs": [],
   "source": [
    "sc.tl.embedding_density(ad, basis='umap', groupby='dynamic_score_z1')\n",
    "sc.pl.embedding_density(ad, basis='umap', key='umap_density_dynamic_score_z1', group='dynamic') # basis='umap', groupby='dynamic_score_cluster')\n",
    "sc.tl.embedding_density(ad, basis='umap', groupby='dynamic_score_z2')\n",
    "sc.pl.embedding_density(ad, basis='umap', key='umap_density_dynamic_score_z2', group='dynamic') # basis='umap', groupby='dynamic_score_cluster')"
   ],
   "metadata": {
    "collapsed": false,
    "pycharm": {
     "name": "#%%\n",
     "is_executing": true
    }
   }
  },
  {
   "cell_type": "code",
   "execution_count": null,
   "outputs": [],
   "source": [
    "mb.pl.kmer_enrichment(model, train, log_scale=False, style='scatter', ylab='t1', xlab='p1')"
   ],
   "metadata": {
    "collapsed": false,
    "pycharm": {
     "name": "#%%\n",
     "is_executing": true
    }
   }
  },
  {
   "cell_type": "code",
   "execution_count": null,
   "outputs": [],
   "source": [
    "mb.pl.set_rcParams({'figure.figsize': [15, 3], 'figure.dpi': 90})\n",
    "mb.pl.conv(model, title=False, xticks=False, rowspan_dinuc=0, rowspan_mono=1, n_rows=5, n_cols=12) # n_cols=len(reduced_groups))\n"
   ],
   "metadata": {
    "collapsed": false,
    "pycharm": {
     "name": "#%%\n",
     "is_executing": true
    }
   }
  },
  {
   "cell_type": "code",
   "execution_count": null,
   "outputs": [],
   "source": [
    "import resource\n",
    "print('total GB used:', resource.getrusage(resource.RUSAGE_SELF).ru_maxrss / 1e6)\n"
   ],
   "metadata": {
    "collapsed": false,
    "pycharm": {
     "name": "#%%\n",
     "is_executing": true
    }
   }
  }
 ],
 "metadata": {
  "kernelspec": {
   "name": "conda-env-mubind-py",
   "language": "python",
   "display_name": "Python [conda env:mubind]"
  },
  "language_info": {
   "codemirror_mode": {
    "name": "ipython",
    "version": 2
   },
   "file_extension": ".py",
   "mimetype": "text/x-python",
   "name": "python",
   "nbconvert_exporter": "python",
   "pygments_lexer": "ipython2",
   "version": "2.7.6"
  }
 },
 "nbformat": 4,
 "nbformat_minor": 0
}