{
 "cells": [
  {
   "cell_type": "code",
   "execution_count": 1,
   "id": "d41546ef-50a4-4f82-a112-5b32166b5967",
   "metadata": {},
   "outputs": [],
   "source": [
    "%load_ext autoreload\n",
    "%autoreload 2"
   ]
  },
  {
   "cell_type": "code",
   "execution_count": 2,
   "id": "7112493c-84e6-496c-8a5c-72accf85d1c8",
   "metadata": {},
   "outputs": [
    {
     "name": "stderr",
     "output_type": "stream",
     "text": [
      "/home/rio/miniconda3/envs/multibind/lib/python3.7/site-packages/tqdm/auto.py:22: TqdmWarning: IProgress not found. Please update jupyter and ipywidgets. See https://ipywidgets.readthedocs.io/en/stable/user_install.html\n",
      "  from .autonotebook import tqdm as notebook_tqdm\n"
     ]
    },
    {
     "name": "stdout",
     "output_type": "stream",
     "text": [
      "Using device: cpu\n"
     ]
    }
   ],
   "source": [
    "import multibind as mb\n",
    "import numpy as np\n",
    "import pandas as pd\n",
    "import torch\n",
    "import bindome as bd\n",
    "bd.constants.ANNOTATIONS_DIRECTORY = '/mnt/c/Users/ignacio.ibarra/Dropbox/annotations'\n",
    "# mb.models.MultiBind\n",
    "import torch.optim as topti\n",
    "import torch.utils.data as tdata\n",
    "import matplotlib.pyplot as plt\n",
    "import logomaker\n",
    "\n",
    "# Use a GPU if available, as it should be faster.\n",
    "device = torch.device(\"cuda:0\" if torch.cuda.is_available() else \"cpu\")\n",
    "print(\"Using device: \" + str(device))"
   ]
  },
  {
   "cell_type": "code",
   "execution_count": 3,
   "id": "34167188-f7ba-444b-85f3-dd6a43a885b3",
   "metadata": {},
   "outputs": [
    {
     "data": {
      "text/html": [
       "<div>\n",
       "<style scoped>\n",
       "    .dataframe tbody tr th:only-of-type {\n",
       "        vertical-align: middle;\n",
       "    }\n",
       "\n",
       "    .dataframe tbody tr th {\n",
       "        vertical-align: top;\n",
       "    }\n",
       "\n",
       "    .dataframe thead th {\n",
       "        text-align: right;\n",
       "    }\n",
       "</style>\n",
       "<table border=\"1\" class=\"dataframe\">\n",
       "  <thead>\n",
       "    <tr style=\"text-align: right;\">\n",
       "      <th></th>\n",
       "      <th>filename</th>\n",
       "      <th>library</th>\n",
       "      <th>batch</th>\n",
       "      <th>cycle</th>\n",
       "      <th>tf.name</th>\n",
       "      <th>accession</th>\n",
       "    </tr>\n",
       "  </thead>\n",
       "  <tbody>\n",
       "    <tr>\n",
       "      <th>0</th>\n",
       "      <td>ZeroCycle_ES0_TACTAT20NATC_0.txt.gz</td>\n",
       "      <td>TACTAT20NATC</td>\n",
       "      <td>ES0</td>\n",
       "      <td>0</td>\n",
       "      <td>ZEROCYCLE</td>\n",
       "      <td>PRJEB14744</td>\n",
       "    </tr>\n",
       "    <tr>\n",
       "      <th>1</th>\n",
       "      <td>ZeroCycle_ES0_TCTCTT20NGA_0.txt.gz</td>\n",
       "      <td>TCTCTT20NGA</td>\n",
       "      <td>ES0</td>\n",
       "      <td>0</td>\n",
       "      <td>ZEROCYCLE</td>\n",
       "      <td>PRJEB14744</td>\n",
       "    </tr>\n",
       "    <tr>\n",
       "      <th>2</th>\n",
       "      <td>ZeroCycle_ES0_TGTAAA20NGA_0.txt.gz</td>\n",
       "      <td>TGTAAA20NGA</td>\n",
       "      <td>ES0</td>\n",
       "      <td>0</td>\n",
       "      <td>ZEROCYCLE</td>\n",
       "      <td>PRJEB14744</td>\n",
       "    </tr>\n",
       "    <tr>\n",
       "      <th>3</th>\n",
       "      <td>ZeroCycle_ES0_TGTACC30NCAG_0.txt.gz</td>\n",
       "      <td>TGTACC30NCAG</td>\n",
       "      <td>ES0</td>\n",
       "      <td>0</td>\n",
       "      <td>ZEROCYCLE</td>\n",
       "      <td>PRJEB14744</td>\n",
       "    </tr>\n",
       "    <tr>\n",
       "      <th>4</th>\n",
       "      <td>ZeroCycle_ES0_TGTGTC20NGA_0.txt.gz</td>\n",
       "      <td>TGTGTC20NGA</td>\n",
       "      <td>ES0</td>\n",
       "      <td>0</td>\n",
       "      <td>ZEROCYCLE</td>\n",
       "      <td>PRJEB14744</td>\n",
       "    </tr>\n",
       "    <tr>\n",
       "      <th>...</th>\n",
       "      <td>...</td>\n",
       "      <td>...</td>\n",
       "      <td>...</td>\n",
       "      <td>...</td>\n",
       "      <td>...</td>\n",
       "      <td>...</td>\n",
       "    </tr>\n",
       "    <tr>\n",
       "      <th>86</th>\n",
       "      <td>FOXA1_FL_2_KX_TCCCAT40NTGT.fastq.gz</td>\n",
       "      <td>TCCCAT40NTGT</td>\n",
       "      <td>FL</td>\n",
       "      <td>2</td>\n",
       "      <td>FOXA1</td>\n",
       "      <td>PRJEB9797</td>\n",
       "    </tr>\n",
       "    <tr>\n",
       "      <th>87</th>\n",
       "      <td>FOXA1_FL_3_KX_TAGCGT40NTCA.fastq.gz</td>\n",
       "      <td>TAGCGT40NTCA</td>\n",
       "      <td>FL</td>\n",
       "      <td>3</td>\n",
       "      <td>FOXA1</td>\n",
       "      <td>PRJEB9797</td>\n",
       "    </tr>\n",
       "    <tr>\n",
       "      <th>88</th>\n",
       "      <td>FOXA1_FL_3_KX_TCCCAT40NTGT.fastq.gz</td>\n",
       "      <td>TCCCAT40NTGT</td>\n",
       "      <td>FL</td>\n",
       "      <td>3</td>\n",
       "      <td>FOXA1</td>\n",
       "      <td>PRJEB9797</td>\n",
       "    </tr>\n",
       "    <tr>\n",
       "      <th>89</th>\n",
       "      <td>FOXA1_FL_4_KX_TAGCGT40NTCA.fastq.gz</td>\n",
       "      <td>TAGCGT40NTCA</td>\n",
       "      <td>FL</td>\n",
       "      <td>4</td>\n",
       "      <td>FOXA1</td>\n",
       "      <td>PRJEB9797</td>\n",
       "    </tr>\n",
       "    <tr>\n",
       "      <th>90</th>\n",
       "      <td>FOXA1_FL_4_KX_TCCCAT40NTGT.fastq.gz</td>\n",
       "      <td>TCCCAT40NTGT</td>\n",
       "      <td>FL</td>\n",
       "      <td>4</td>\n",
       "      <td>FOXA1</td>\n",
       "      <td>PRJEB9797</td>\n",
       "    </tr>\n",
       "  </tbody>\n",
       "</table>\n",
       "<p>91 rows × 6 columns</p>\n",
       "</div>"
      ],
      "text/plain": [
       "                               filename       library batch cycle    tf.name  \\\n",
       "0   ZeroCycle_ES0_TACTAT20NATC_0.txt.gz  TACTAT20NATC   ES0     0  ZEROCYCLE   \n",
       "1    ZeroCycle_ES0_TCTCTT20NGA_0.txt.gz   TCTCTT20NGA   ES0     0  ZEROCYCLE   \n",
       "2    ZeroCycle_ES0_TGTAAA20NGA_0.txt.gz   TGTAAA20NGA   ES0     0  ZEROCYCLE   \n",
       "3   ZeroCycle_ES0_TGTACC30NCAG_0.txt.gz  TGTACC30NCAG   ES0     0  ZEROCYCLE   \n",
       "4    ZeroCycle_ES0_TGTGTC20NGA_0.txt.gz   TGTGTC20NGA   ES0     0  ZEROCYCLE   \n",
       "..                                  ...           ...   ...   ...        ...   \n",
       "86  FOXA1_FL_2_KX_TCCCAT40NTGT.fastq.gz  TCCCAT40NTGT    FL     2      FOXA1   \n",
       "87  FOXA1_FL_3_KX_TAGCGT40NTCA.fastq.gz  TAGCGT40NTCA    FL     3      FOXA1   \n",
       "88  FOXA1_FL_3_KX_TCCCAT40NTGT.fastq.gz  TCCCAT40NTGT    FL     3      FOXA1   \n",
       "89  FOXA1_FL_4_KX_TAGCGT40NTCA.fastq.gz  TAGCGT40NTCA    FL     4      FOXA1   \n",
       "90  FOXA1_FL_4_KX_TCCCAT40NTGT.fastq.gz  TCCCAT40NTGT    FL     4      FOXA1   \n",
       "\n",
       "     accession  \n",
       "0   PRJEB14744  \n",
       "1   PRJEB14744  \n",
       "2   PRJEB14744  \n",
       "3   PRJEB14744  \n",
       "4   PRJEB14744  \n",
       "..         ...  \n",
       "86   PRJEB9797  \n",
       "87   PRJEB9797  \n",
       "88   PRJEB9797  \n",
       "89   PRJEB9797  \n",
       "90   PRJEB9797  \n",
       "\n",
       "[91 rows x 6 columns]"
      ]
     },
     "execution_count": 3,
     "metadata": {},
     "output_type": "execute_result"
    }
   ],
   "source": [
    "data = bd.bindome.datasets.SELEX.get_data()\n",
    "# data[data['cycle'] == 'AF']\n",
    "data"
   ]
  },
  {
   "cell_type": "code",
   "execution_count": 17,
   "id": "6b20861d-e43b-4c05-b649-74773ad5d982",
   "metadata": {},
   "outputs": [
    {
     "name": "stdout",
     "output_type": "stream",
     "text": [
      "FOXA1\n",
      "# uniq reads/total counts 191580/195771\n",
      "# uniq reads/total counts 160291/165113\n",
      "# uniq reads/total counts 149248/253102\n",
      "# uniq reads/total counts 86056/305659\n",
      "# uniq reads/total counts 147714/148050\n",
      "dict_keys(['FOXA1_FL_1_KX_TAGCGT40NTCA', 'FOXA1_FL_2_KX_TAGCGT40NTCA', 'FOXA1_FL_3_KX_TAGCGT40NTCA', 'FOXA1_FL_4_KX_TAGCGT40NTCA'])\n",
      "dict_keys(['ZeroCycle_TAGCGT40NTCA_0_0'])\n",
      "ZeroCycle_TAGCGT40NTCA_0_0 FOXA1_FL_1_KX_TAGCGT40NTCA\n",
      "(1000, 5)\n",
      "                                        seq  ZeroCycle_TAGCGT40NTCA_0_0  \\\n",
      "0  TGCAGTCTATATAGTTAATATAGGCCCCCCTGTGACTAGC                           3   \n",
      "1  TCCGTTGGCACAGGACAAATAGGCACTTACGTTCAACGCA                           2   \n",
      "2  TCAACCCAGCAAGGCGATCCCCAGACTAACAAACCCGCAA                           2   \n",
      "3  ATGCCCTCTTTCCCCTCACTCTCTGACATTCACACGAGCG                           2   \n",
      "4  TAACTCTAAAGGCCTAGGAAAGATTCTGTGACGGCTACAA                           2   \n",
      "\n",
      "   FOXA1_FL_1_KX_TAGCGT40NTCA  0  1  \n",
      "0                           0  3  0  \n",
      "1                           0  2  0  \n",
      "2                           0  2  0  \n",
      "3                           0  2  0  \n",
      "4                           0  2  0  \n",
      "Epoch:  1, Loss: 1.103\n",
      "Epoch:  2, Loss: 1.103\n",
      "Epoch:  3, Loss: 1.103\n",
      "Epoch:  4, Loss: 1.103\n",
      "Epoch:  5, Loss: 1.103\n",
      "Epoch:  6, Loss: 1.103\n",
      "Epoch:  7, Loss: 1.103\n",
      "Epoch:  8, Loss: 1.103\n",
      "Epoch:  9, Loss: 1.103\n",
      "Epoch: 10, Loss: 1.103\n"
     ]
    },
    {
     "ename": "AssertionError",
     "evalue": "",
     "output_type": "error",
     "traceback": [
      "\u001b[0;31m---------------------------------------------------------------------------\u001b[0m",
      "\u001b[0;31mAssertionError\u001b[0m                            Traceback (most recent call last)",
      "\u001b[0;32m/tmp/ipykernel_2925/3612132481.py\u001b[0m in \u001b[0;36m<module>\u001b[0;34m\u001b[0m\n\u001b[1;32m     65\u001b[0m                 \u001b[0mmodel_by_k\u001b[0m\u001b[0;34m[\u001b[0m\u001b[0mk_model\u001b[0m\u001b[0;34m]\u001b[0m \u001b[0;34m=\u001b[0m \u001b[0mmodel\u001b[0m\u001b[0;34m\u001b[0m\u001b[0;34m\u001b[0m\u001b[0m\n\u001b[1;32m     66\u001b[0m \u001b[0;34m\u001b[0m\u001b[0m\n\u001b[0;32m---> 67\u001b[0;31m                 \u001b[0;32massert\u001b[0m \u001b[0;32mFalse\u001b[0m\u001b[0;34m\u001b[0m\u001b[0;34m\u001b[0m\u001b[0m\n\u001b[0m\u001b[1;32m     68\u001b[0m \u001b[0;34m\u001b[0m\u001b[0m\n\u001b[1;32m     69\u001b[0m                 \u001b[0;31m# stop (debugging)\u001b[0m\u001b[0;34m\u001b[0m\u001b[0;34m\u001b[0m\u001b[0;34m\u001b[0m\u001b[0m\n",
      "\u001b[0;31mAssertionError\u001b[0m: "
     ]
    }
   ],
   "source": [
    "\n",
    "model_by_k = {}\n",
    "for tf in set(data['tf.name']):\n",
    "    if 'ZERO' in tf:\n",
    "        continue\n",
    "    print(tf)\n",
    "    \n",
    "    for library, grp in data.groupby('library'):\n",
    "        \n",
    "        data_sel_tf = grp[grp['tf.name'] == tf]\n",
    "        if data_sel_tf.shape[0] == 0:\n",
    "            continue\n",
    "\n",
    "        reads_tf = mb.bindome.datasets.SELEX.load_read_counts(tf, data=data_sel_tf)\n",
    "        data_sel_zero = grp[(grp['cycle'] == 0) & grp['library'].isin(set(grp[grp['tf.name'] == tf]['library']))]\n",
    "        reads_zero = mb.bindome.datasets.SELEX.load_read_counts(tf, data=data_sel_zero)\n",
    "        \n",
    "        print(reads_tf.keys())\n",
    "        print(reads_zero.keys())\n",
    "        \n",
    "        for k_tf in reads_tf:\n",
    "            for k_r0 in reads_zero:\n",
    "                print(k_r0, k_tf)\n",
    "                \n",
    "                k_model = tf + ':' + k_r0 + ':' + k_tf\n",
    "\n",
    "                n_rounds = 1\n",
    "\n",
    "                next_data = reads_zero[k_r0].merge(reads_tf[k_tf], on='seq', how='outer').fillna(0) # .astype(int)\n",
    "                new_cols = ['seq', k_r0, k_tf]\n",
    "                next_data.columns = ['seq', k_r0, k_tf]\n",
    "                for i, k in enumerate([k_r0, k_tf]):\n",
    "                    next_data[k] = next_data[k].astype(int)\n",
    "                    next_data[i] = next_data[k].astype(int)\n",
    "\n",
    "\n",
    "                next_data = next_data.head(1000)\n",
    "                print(next_data.shape)\n",
    "                \n",
    "                print(next_data.head())\n",
    "                \n",
    "                next_data = mb.tl.calculate_enrichment(next_data, cols=next_data.columns[1:])\n",
    "                \n",
    "                # assign batch and data type\n",
    "                next_data['batch'] = 1\n",
    "                next_data['is_count_data'] = 1\n",
    "\n",
    "                dataset = mb.datasets.SelexDataset(next_data) # n_rounds=n_rounds)\n",
    "                train = tdata.DataLoader(dataset=dataset, batch_size=256, shuffle=True)\n",
    "                train_test = tdata.DataLoader(dataset=dataset, batch_size=1, shuffle=False)                \n",
    "                ### here add the steps to train model\n",
    "                #### \n",
    "                # l2 = []\n",
    "                # optimiser = topti.Adam(model.parameters(), lr=0.001, weight_decay=0.0001)\n",
    "                # # optimiser = topti.LBFGS(model.parameters())\n",
    "                criterion = mb.tl.PoissonLoss()\n",
    "                \n",
    "                # l2 += \n",
    "                model = mb.models.DinucSelex().to(device)\n",
    "                optimiser = topti.Adam(model.parameters(), lr=0.001, weight_decay=0.0001)\n",
    "                mb.tl.train_network(model, train, device, optimiser, criterion, num_epochs=10, log_each=1)\n",
    "                \n",
    "                # probably here load the state of the best epoch and save \n",
    "                \n",
    "                # store model parameters and fit for later visualization\n",
    "                model_by_k[k_model] = model\n",
    "                \n",
    "                assert False\n",
    "                \n",
    "                # stop (debugging)\n",
    "                "
   ]
  },
  {
   "cell_type": "code",
   "execution_count": 38,
   "id": "cd1b4769-6588-4208-b33d-534035ae09a6",
   "metadata": {},
   "outputs": [
    {
     "name": "stdout",
     "output_type": "stream",
     "text": [
      "FOXA1:ZeroCycle_TAGCGT40NTCA_0_0:FOXA1_FL_1_KX_TAGCGT40NTCA\n",
      "0 None\n",
      "1 Conv2d(1, 1, kernel_size=(4, 14), stride=(1, 1), bias=False)\n"
     ]
    },
    {
     "data": {
      "image/png": "[encoded data removed]",
      "text/plain": [
       "<Figure size 720x180 with 1 Axes>"
      ]
     },
     "metadata": {
      "needs_background": "light"
     },
     "output_type": "display_data"
    },
    {
     "name": "stdout",
     "output_type": "stream",
     "text": [
      "2 Conv2d(1, 1, kernel_size=(4, 12), stride=(1, 1), bias=False)\n"
     ]
    },
    {
     "data": {
      "image/png": "[encoded data removed]",
      "text/plain": [
       "<Figure size 720x180 with 1 Axes>"
      ]
     },
     "metadata": {
      "needs_background": "light"
     },
     "output_type": "display_data"
    },
    {
     "name": "stdout",
     "output_type": "stream",
     "text": [
      "\n"
     ]
    }
   ],
   "source": [
    "for k in model_by_k:\n",
    "    print(k)\n",
    "    model = model_by_k[k] \n",
    "    mb.pl.conv_mono(model)\n",
    "    print('')"
   ]
  }
 ],
 "metadata": {
  "kernelspec": {
   "display_name": "multibind",
   "language": "python",
   "name": "multibind"
  },
  "language_info": {
   "codemirror_mode": {
    "name": "ipython",
    "version": 3
   },
   "file_extension": ".py",
   "mimetype": "text/x-python",
   "name": "python",
   "nbconvert_exporter": "python",
   "pygments_lexer": "ipython3",
   "version": "3.7.8"
  }
 },
 "nbformat": 4,
 "nbformat_minor": 5
}
