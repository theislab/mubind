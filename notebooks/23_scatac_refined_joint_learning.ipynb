{
 "cells": [
  {
   "cell_type": "code",
   "execution_count": 1,
   "id": "004d2a17-2952-4822-83ae-09dd177136d6",
   "metadata": {
    "pycharm": {
     "name": "#%%\n"
    }
   },
   "outputs": [],
   "source": [
    "%load_ext autoreload\n",
    "%autoreload 2"
   ]
  },
  {
   "cell_type": "code",
   "execution_count": 2,
   "outputs": [
    {
     "name": "stdout",
     "output_type": "stream",
     "text": [
      "/mnt/c/Users/ignacio.ibarra/Dropbox/workspace/theislab/mubind/notebooks\n"
     ]
    }
   ],
   "source": [
    "cd workspace/theislab/mubind/notebooks"
   ],
   "metadata": {
    "collapsed": false,
    "pycharm": {
     "name": "#%%\n"
    }
   }
  },
  {
   "cell_type": "code",
   "execution_count": 3,
   "id": "27c59d94-fd4a-4a3c-9abf-5109ef97c02f",
   "metadata": {
    "pycharm": {
     "name": "#%%\n"
    }
   },
   "outputs": [
    {
     "name": "stderr",
     "output_type": "stream",
     "text": [
      "/home/rio/miniconda3/envs/mubind/lib/python3.10/site-packages/tqdm/auto.py:22: TqdmWarning: IProgress not found. Please update jupyter and ipywidgets. See https://ipywidgets.readthedocs.io/en/stable/user_install.html\n",
      "  from .autonotebook import tqdm as notebook_tqdm\n"
     ]
    },
    {
     "name": "stdout",
     "output_type": "stream",
     "text": [
      "Using device: cuda:0\n"
     ]
    }
   ],
   "source": [
    "import mubind as mb\n",
    "import numpy as np\n",
    "import pandas as pd\n",
    "import torch\n",
    "import bindome as bd\n",
    "bd.constants.ANNOTATIONS_DIRECTORY = 'annotations'\n",
    "# mb.models.MultiBind\n",
    "import torch.optim as topti\n",
    "import torch.utils.data as tdata\n",
    "import matplotlib.pyplot as plt\n",
    "import logomaker\n",
    "import os\n",
    "import scipy\n",
    "import pickle\n",
    "\n",
    "# Use a GPU if available, as it should be faster.\n",
    "device = torch.device(\"cuda:0\" if torch.cuda.is_available() else \"cpu\")\n",
    "print(\"Using device: \" + str(device))"
   ]
  },
  {
   "cell_type": "code",
   "execution_count": 4,
   "id": "e226d21e-d360-4316-872a-777b6895b51e",
   "metadata": {
    "pycharm": {
     "name": "#%%\n"
    }
   },
   "outputs": [],
   "source": [
    "adata = mb.bindome.datasets.scATAC.PBMCs_10x_v2(datadir='../../atac_poisson_study/data/')\n",
    "peak_ids = adata.var_names"
   ]
  },
  {
   "cell_type": "code",
   "execution_count": 5,
   "outputs": [
    {
     "data": {
      "text/plain": "(10246, 165434)"
     },
     "execution_count": 5,
     "metadata": {},
     "output_type": "execute_result"
    }
   ],
   "source": [
    "adata.shape"
   ],
   "metadata": {
    "collapsed": false,
    "pycharm": {
     "name": "#%%\n"
    }
   }
  },
  {
   "cell_type": "code",
   "execution_count": 6,
   "outputs": [],
   "source": [
    "extend = 50"
   ],
   "metadata": {
    "collapsed": false,
    "pycharm": {
     "name": "#%%\n"
    }
   }
  },
  {
   "cell_type": "code",
   "execution_count": 7,
   "id": "4c6414ce-fd5d-4022-8366-af929eb2d0b3",
   "metadata": {
    "pycharm": {
     "name": "#%%\n"
    }
   },
   "outputs": [],
   "source": [
    "adata.var['summit'] = ((adata.var['end'] + adata.var['start']) / 2).astype(int)\n",
    "adata.var['summit.start'] = adata.var['summit'] - extend\n",
    "adata.var['summit.end'] = adata.var['summit'] + extend"
   ]
  },
  {
   "cell_type": "code",
   "execution_count": 8,
   "id": "2f6301bc-467a-4b74-a736-3e2613aab729",
   "metadata": {
    "pycharm": {
     "name": "#%%\n"
    }
   },
   "outputs": [],
   "source": [
    "adata.var['k.summit'] = adata.var['chr'] + ':' + adata.var['summit.start'].astype(str) + '-' + adata.var['summit.end'].astype(str)"
   ]
  },
  {
   "cell_type": "code",
   "execution_count": 9,
   "id": "3cf46010-160b-48b0-91a7-52465540a639",
   "metadata": {
    "pycharm": {
     "name": "#%%\n"
    }
   },
   "outputs": [
    {
     "data": {
      "text/plain": "(10246, 165434)"
     },
     "execution_count": 9,
     "metadata": {},
     "output_type": "execute_result"
    }
   ],
   "source": [
    "adata.shape"
   ]
  },
  {
   "cell_type": "code",
   "execution_count": 10,
   "id": "7effe82e-e5d9-4eb2-810d-8aa4cd6b0963",
   "metadata": {
    "pycharm": {
     "name": "#%%\n"
    }
   },
   "outputs": [
    {
     "name": "stdout",
     "output_type": "stream",
     "text": [
      "/tmp/tmp1f74wcw1\n",
      "genome hg38 False\n",
      "options\n",
      "/mnt/c/Users/ignacio.ibarra/Dropbox/annotations/hg38/genome/hg38.fa\n",
      "True /mnt/c/Users/ignacio.ibarra/Dropbox/annotations/hg38/genome/hg38.fa\n",
      "running bedtools...\n",
      "bedtools getfasta -fi /mnt/c/Users/ignacio.ibarra/Dropbox/annotations/hg38/genome/hg38.fa -bed /tmp/tmp1f74wcw1 -fo /tmp/tmpgvv0x_n8\n"
     ]
    }
   ],
   "source": [
    "n_seqs = 25000 # adata.shape[1] # None # 1000\n",
    "seqs = mb.bindome.tl.get_sequences_from_bed(adata.var[['chr', 'summit.start', 'summit.end']].head(n_seqs), genome='hg38', uppercase=True)\n",
    "keys = set([s[0] for s in seqs])\n",
    "adata = adata[:,adata.var['k.summit'].isin(keys)]\n",
    "# seqs = [[s[0], s[1].upper()] for s in seqs[0]]"
   ]
  },
  {
   "cell_type": "code",
   "execution_count": 11,
   "outputs": [
    {
     "data": {
      "text/plain": "25000"
     },
     "execution_count": 11,
     "metadata": {},
     "output_type": "execute_result"
    }
   ],
   "source": [
    "len(seqs)"
   ],
   "metadata": {
    "collapsed": false,
    "pycharm": {
     "name": "#%%\n"
    }
   }
  },
  {
   "cell_type": "code",
   "execution_count": 12,
   "id": "43712938-90b9-43f4-8a1d-14c40766ba81",
   "metadata": {
    "pycharm": {
     "name": "#%%\n"
    }
   },
   "outputs": [],
   "source": [
    "# remove Ns\n",
    "for s in seqs:\n",
    "    if 'N' in s:\n",
    "        assert False\n",
    "    # seqs = [[s[0], s[1].replace('N', '')] for s in seqs]\n",
    "counts = adata.X.T"
   ]
  },
  {
   "cell_type": "code",
   "execution_count": 22,
   "outputs": [
    {
     "data": {
      "text/plain": "array([[0., 0., 0., ..., 0., 0., 0.],\n       [0., 0., 0., ..., 0., 0., 0.],\n       [0., 0., 0., ..., 0., 0., 0.],\n       ...,\n       [1., 1., 2., ..., 2., 0., 1.],\n       [0., 0., 0., ..., 0., 0., 0.],\n       [0., 0., 0., ..., 0., 0., 0.]])"
     },
     "execution_count": 22,
     "metadata": {},
     "output_type": "execute_result"
    }
   ],
   "source": [],
   "metadata": {
    "collapsed": false,
    "pycharm": {
     "name": "#%%\n"
    }
   }
  },
  {
   "cell_type": "code",
   "execution_count": null,
   "outputs": [],
   "source": [],
   "metadata": {
    "collapsed": false,
    "pycharm": {
     "name": "#%%\n"
    }
   }
  },
  {
   "cell_type": "code",
   "execution_count": 38,
   "id": "8babeabf-0b8f-478a-b479-121fa62c8408",
   "metadata": {
    "pycharm": {
     "name": "#%%\n"
    }
   },
   "outputs": [],
   "source": [
    "next_data = pd.DataFrame(counts.A) # sparse.from_spmatrix(counts.A)\n",
    "# next_data = pd.DataFrame.sparse.from_spmatrix(counts)# var = []\n",
    "# for ri, r in next_data.iterrows():\n",
    "#     if ri % 1000 == 0:\n",
    "#         print(ri, next_data.shape)\n",
    "#     # print(ri, r.values[:-1], r.values[:-1].var())\n",
    "#     var.append(r.values[:-1].var())\n",
    "#     # break\n",
    "\n"
   ]
  },
  {
   "cell_type": "code",
   "execution_count": 39,
   "id": "6c7c007a-f087-40d5-8930-acbf575c91b5",
   "metadata": {
    "pycharm": {
     "name": "#%%\n"
    }
   },
   "outputs": [],
   "source": [
    "next_data['var'] = next_data.var(axis=1)\n",
    "# next_data = next_data[range(100)].copy()"
   ]
  },
  {
   "cell_type": "code",
   "execution_count": 40,
   "outputs": [],
   "source": [
    "next_data.index = [s[1] for s in seqs]\n",
    "next_data.index.name = 'seq'"
   ],
   "metadata": {
    "collapsed": false,
    "pycharm": {
     "name": "#%%\n"
    }
   }
  },
  {
   "cell_type": "code",
   "execution_count": 41,
   "id": "2cd45e71-f7d5-4813-81af-95b6b93bd924",
   "metadata": {
    "pycharm": {
     "name": "#%%\n"
    }
   },
   "outputs": [],
   "source": [
    "# sum_index = next_data[next_data.columns[:-1]].var(axis=1).sort_values(ascending=False).index"
   ]
  },
  {
   "cell_type": "code",
   "execution_count": 42,
   "id": "78bca871-c907-4b78-a0f9-ec5eea75edde",
   "metadata": {
    "pycharm": {
     "name": "#%%\n"
    }
   },
   "outputs": [],
   "source": [
    "n_cells = 15000\n",
    "top_var = next_data[['var']].sort_values('var', ascending=False).index[:n_cells]"
   ]
  },
  {
   "cell_type": "code",
   "execution_count": 43,
   "id": "8083e53a-9928-4d00-a243-9c40283b4aab",
   "metadata": {
    "pycharm": {
     "name": "#%%\n"
    }
   },
   "outputs": [],
   "source": [
    "# next_data = next_data.head(10000)\n",
    "next_data_sel = next_data.reindex(top_var) # .reset_index(drop=True)"
   ]
  },
  {
   "cell_type": "code",
   "execution_count": 44,
   "id": "609c8c1d-44e5-475b-8031-02f2472df9b8",
   "metadata": {
    "pycharm": {
     "name": "#%%\n"
    }
   },
   "outputs": [
    {
     "data": {
      "text/plain": "                                                      0    1    2    3    4  \\\nseq                                                                           \nCGCCCCAAGGATTCGCTCTTGCGTCACCGCCTCGCCTTCAGGACGCC...  3.0  1.0  6.0  5.0  4.0   \nACTGACTGTCTCCGTCTTCGCCCCTGCCCTGGCCCCGCCCCCTGCCT...  3.0  4.0  3.0  4.0  2.0   \nAAGGCAAACTACAACTCCCAAAGGCCCTTGCGCGGACTCAGCGCGCG...  1.0  0.0  3.0  2.0  1.0   \nGGCGACCGCGGCGCTGCTTCGAGGCGCCACTCCGGGGCGCGGCGGCC...  2.0  2.0  2.0  4.0  2.0   \nACCCTCCCCCGGGGTGGTGCCGGAGGGGGGGATGATGGGTCGAGGGG...  3.0  1.0  3.0  5.0  1.0   \n...                                                 ...  ...  ...  ...  ...   \nAGGCATCAGGGATACAGTGGTGAACAAGCATACACAATCTCTGCCCT...  0.0  0.0  0.0  0.0  0.0   \nAAGGGCCATTGTACTTGCTATTTCCTTTGCCTCTAAGTGCACCTCCT...  0.0  0.0  0.0  0.0  0.0   \nCCTGTATTTTTAAATACACACGTGGGAAAAATTATAAACAAAGGGAG...  0.0  0.0  0.0  0.0  0.0   \nAGGGGTTCTGAATCTAAGCTCCACCCCGTGACCCATTTCCTTTTTGA...  0.0  0.0  0.0  0.0  0.0   \nACTCTGTCACCCAGACTGGGGTGCAGTGGTGCAATCTCTGCTCACTG...  0.0  0.0  0.0  0.0  0.0   \n\n                                                      5    6    7    8    9  \\\nseq                                                                           \nCGCCCCAAGGATTCGCTCTTGCGTCACCGCCTCGCCTTCAGGACGCC...  1.0  9.0  1.0  3.0  5.0   \nACTGACTGTCTCCGTCTTCGCCCCTGCCCTGGCCCCGCCCCCTGCCT...  1.0  5.0  3.0  3.0  3.0   \nAAGGCAAACTACAACTCCCAAAGGCCCTTGCGCGGACTCAGCGCGCG...  4.0  5.0  1.0  1.0  1.0   \nGGCGACCGCGGCGCTGCTTCGAGGCGCCACTCCGGGGCGCGGCGGCC...  3.0  4.0  1.0  2.0  2.0   \nACCCTCCCCCGGGGTGGTGCCGGAGGGGGGGATGATGGGTCGAGGGG...  4.0  8.0  1.0  3.0  1.0   \n...                                                 ...  ...  ...  ...  ...   \nAGGCATCAGGGATACAGTGGTGAACAAGCATACACAATCTCTGCCCT...  0.0  0.0  0.0  0.0  0.0   \nAAGGGCCATTGTACTTGCTATTTCCTTTGCCTCTAAGTGCACCTCCT...  0.0  0.0  0.0  0.0  0.0   \nCCTGTATTTTTAAATACACACGTGGGAAAAATTATAAACAAAGGGAG...  0.0  0.0  0.0  0.0  0.0   \nAGGGGTTCTGAATCTAAGCTCCACCCCGTGACCCATTTCCTTTTTGA...  0.0  0.0  0.0  0.0  0.0   \nACTCTGTCACCCAGACTGGGGTGCAGTGGTGCAATCTCTGCTCACTG...  0.0  0.0  0.0  0.0  0.0   \n\n                                                    ...  10237  10238  10239  \\\nseq                                                 ...                        \nCGCCCCAAGGATTCGCTCTTGCGTCACCGCCTCGCCTTCAGGACGCC...  ...    4.0    1.0    3.0   \nACTGACTGTCTCCGTCTTCGCCCCTGCCCTGGCCCCGCCCCCTGCCT...  ...    2.0    0.0    3.0   \nAAGGCAAACTACAACTCCCAAAGGCCCTTGCGCGGACTCAGCGCGCG...  ...    3.0    1.0    3.0   \nGGCGACCGCGGCGCTGCTTCGAGGCGCCACTCCGGGGCGCGGCGGCC...  ...    0.0    1.0    6.0   \nACCCTCCCCCGGGGTGGTGCCGGAGGGGGGGATGATGGGTCGAGGGG...  ...    2.0    0.0    0.0   \n...                                                 ...    ...    ...    ...   \nAGGCATCAGGGATACAGTGGTGAACAAGCATACACAATCTCTGCCCT...  ...    0.0    0.0    0.0   \nAAGGGCCATTGTACTTGCTATTTCCTTTGCCTCTAAGTGCACCTCCT...  ...    0.0    0.0    0.0   \nCCTGTATTTTTAAATACACACGTGGGAAAAATTATAAACAAAGGGAG...  ...    0.0    0.0    0.0   \nAGGGGTTCTGAATCTAAGCTCCACCCCGTGACCCATTTCCTTTTTGA...  ...    0.0    0.0    0.0   \nACTCTGTCACCCAGACTGGGGTGCAGTGGTGCAATCTCTGCTCACTG...  ...    0.0    0.0    0.0   \n\n                                                    10240  10241  10242  \\\nseq                                                                       \nCGCCCCAAGGATTCGCTCTTGCGTCACCGCCTCGCCTTCAGGACGCC...    0.0    6.0    1.0   \nACTGACTGTCTCCGTCTTCGCCCCTGCCCTGGCCCCGCCCCCTGCCT...    7.0    2.0    3.0   \nAAGGCAAACTACAACTCCCAAAGGCCCTTGCGCGGACTCAGCGCGCG...    3.0    4.0    4.0   \nGGCGACCGCGGCGCTGCTTCGAGGCGCCACTCCGGGGCGCGGCGGCC...    1.0    3.0    3.0   \nACCCTCCCCCGGGGTGGTGCCGGAGGGGGGGATGATGGGTCGAGGGG...    3.0    2.0    4.0   \n...                                                   ...    ...    ...   \nAGGCATCAGGGATACAGTGGTGAACAAGCATACACAATCTCTGCCCT...    0.0    0.0    0.0   \nAAGGGCCATTGTACTTGCTATTTCCTTTGCCTCTAAGTGCACCTCCT...    0.0    0.0    0.0   \nCCTGTATTTTTAAATACACACGTGGGAAAAATTATAAACAAAGGGAG...    0.0    0.0    0.0   \nAGGGGTTCTGAATCTAAGCTCCACCCCGTGACCCATTTCCTTTTTGA...    0.0    0.0    0.0   \nACTCTGTCACCCAGACTGGGGTGCAGTGGTGCAATCTCTGCTCACTG...    0.0    0.0    0.0   \n\n                                                    10243  10244  10245  \\\nseq                                                                       \nCGCCCCAAGGATTCGCTCTTGCGTCACCGCCTCGCCTTCAGGACGCC...    2.0    2.0    1.0   \nACTGACTGTCTCCGTCTTCGCCCCTGCCCTGGCCCCGCCCCCTGCCT...    2.0    2.0    0.0   \nAAGGCAAACTACAACTCCCAAAGGCCCTTGCGCGGACTCAGCGCGCG...    5.0    0.0    2.0   \nGGCGACCGCGGCGCTGCTTCGAGGCGCCACTCCGGGGCGCGGCGGCC...    1.0    2.0    1.0   \nACCCTCCCCCGGGGTGGTGCCGGAGGGGGGGATGATGGGTCGAGGGG...    3.0    3.0    2.0   \n...                                                   ...    ...    ...   \nAGGCATCAGGGATACAGTGGTGAACAAGCATACACAATCTCTGCCCT...    1.0    0.0    0.0   \nAAGGGCCATTGTACTTGCTATTTCCTTTGCCTCTAAGTGCACCTCCT...    0.0    0.0    0.0   \nCCTGTATTTTTAAATACACACGTGGGAAAAATTATAAACAAAGGGAG...    0.0    0.0    0.0   \nAGGGGTTCTGAATCTAAGCTCCACCCCGTGACCCATTTCCTTTTTGA...    0.0    0.0    0.0   \nACTCTGTCACCCAGACTGGGGTGCAGTGGTGCAATCTCTGCTCACTG...    0.0    0.0    0.0   \n\n                                                         var  \nseq                                                           \nCGCCCCAAGGATTCGCTCTTGCGTCACCGCCTCGCCTTCAGGACGCC...  3.954389  \nACTGACTGTCTCCGTCTTCGCCCCTGCCCTGGCCCCGCCCCCTGCCT...  3.728141  \nAAGGCAAACTACAACTCCCAAAGGCCCTTGCGCGGACTCAGCGCGCG...  3.250077  \nGGCGACCGCGGCGCTGCTTCGAGGCGCCACTCCGGGGCGCGGCGGCC...  3.166806  \nACCCTCCCCCGGGGTGGTGCCGGAGGGGGGGATGATGGGTCGAGGGG...  3.141236  \n...                                                      ...  \nAGGCATCAGGGATACAGTGGTGAACAAGCATACACAATCTCTGCCCT...  0.022699  \nAAGGGCCATTGTACTTGCTATTTCCTTTGCCTCTAAGTGCACCTCCT...  0.022699  \nCCTGTATTTTTAAATACACACGTGGGAAAAATTATAAACAAAGGGAG...  0.022693  \nAGGGGTTCTGAATCTAAGCTCCACCCCGTGACCCATTTCCTTTTTGA...  0.022692  \nACTCTGTCACCCAGACTGGGGTGCAGTGGTGCAATCTCTGCTCACTG...  0.022677  \n\n[15000 rows x 10247 columns]",
      "text/html": "<div>\n<style scoped>\n    .dataframe tbody tr th:only-of-type {\n        vertical-align: middle;\n    }\n\n    .dataframe tbody tr th {\n        vertical-align: top;\n    }\n\n    .dataframe thead th {\n        text-align: right;\n    }\n</style>\n<table border=\"1\" class=\"dataframe\">\n  <thead>\n    <tr style=\"text-align: right;\">\n      <th></th>\n      <th>0</th>\n      <th>1</th>\n      <th>2</th>\n      <th>3</th>\n      <th>4</th>\n      <th>5</th>\n      <th>6</th>\n      <th>7</th>\n      <th>8</th>\n      <th>9</th>\n      <th>...</th>\n      <th>10237</th>\n      <th>10238</th>\n      <th>10239</th>\n      <th>10240</th>\n      <th>10241</th>\n      <th>10242</th>\n      <th>10243</th>\n      <th>10244</th>\n      <th>10245</th>\n      <th>var</th>\n    </tr>\n    <tr>\n      <th>seq</th>\n      <th></th>\n      <th></th>\n      <th></th>\n      <th></th>\n      <th></th>\n      <th></th>\n      <th></th>\n      <th></th>\n      <th></th>\n      <th></th>\n      <th></th>\n      <th></th>\n      <th></th>\n      <th></th>\n      <th></th>\n      <th></th>\n      <th></th>\n      <th></th>\n      <th></th>\n      <th></th>\n      <th></th>\n    </tr>\n  </thead>\n  <tbody>\n    <tr>\n      <th>CGCCCCAAGGATTCGCTCTTGCGTCACCGCCTCGCCTTCAGGACGCCTCCGCGCCTCGCCCTGTCCCCAGGGTCAATTCTGGGGTCACCGCCTGTCCCCA</th>\n      <td>3.0</td>\n      <td>1.0</td>\n      <td>6.0</td>\n      <td>5.0</td>\n      <td>4.0</td>\n      <td>1.0</td>\n      <td>9.0</td>\n      <td>1.0</td>\n      <td>3.0</td>\n      <td>5.0</td>\n      <td>...</td>\n      <td>4.0</td>\n      <td>1.0</td>\n      <td>3.0</td>\n      <td>0.0</td>\n      <td>6.0</td>\n      <td>1.0</td>\n      <td>2.0</td>\n      <td>2.0</td>\n      <td>1.0</td>\n      <td>3.954389</td>\n    </tr>\n    <tr>\n      <th>ACTGACTGTCTCCGTCTTCGCCCCTGCCCTGGCCCCGCCCCCTGCCTGCTCTGGCCCCGCCCCGCCGCTCTCTCCGTCTCCGCCCCTGCCCTGGCCCCAC</th>\n      <td>3.0</td>\n      <td>4.0</td>\n      <td>3.0</td>\n      <td>4.0</td>\n      <td>2.0</td>\n      <td>1.0</td>\n      <td>5.0</td>\n      <td>3.0</td>\n      <td>3.0</td>\n      <td>3.0</td>\n      <td>...</td>\n      <td>2.0</td>\n      <td>0.0</td>\n      <td>3.0</td>\n      <td>7.0</td>\n      <td>2.0</td>\n      <td>3.0</td>\n      <td>2.0</td>\n      <td>2.0</td>\n      <td>0.0</td>\n      <td>3.728141</td>\n    </tr>\n    <tr>\n      <th>AAGGCAAACTACAACTCCCAAAGGCCCTTGCGCGGACTCAGCGCGCGAGGGACGAAGGGCGGTCCACTGTAAGGGGAAATGCTGAGGATCACTGGGCTCC</th>\n      <td>1.0</td>\n      <td>0.0</td>\n      <td>3.0</td>\n      <td>2.0</td>\n      <td>1.0</td>\n      <td>4.0</td>\n      <td>5.0</td>\n      <td>1.0</td>\n      <td>1.0</td>\n      <td>1.0</td>\n      <td>...</td>\n      <td>3.0</td>\n      <td>1.0</td>\n      <td>3.0</td>\n      <td>3.0</td>\n      <td>4.0</td>\n      <td>4.0</td>\n      <td>5.0</td>\n      <td>0.0</td>\n      <td>2.0</td>\n      <td>3.250077</td>\n    </tr>\n    <tr>\n      <th>GGCGACCGCGGCGCTGCTTCGAGGCGCCACTCCGGGGCGCGGCGGCCCGGTCTGGCGCTGGCGGCTGCGCGCGGCCCCAAGGTGCCGCCTGGCCCACAGC</th>\n      <td>2.0</td>\n      <td>2.0</td>\n      <td>2.0</td>\n      <td>4.0</td>\n      <td>2.0</td>\n      <td>3.0</td>\n      <td>4.0</td>\n      <td>1.0</td>\n      <td>2.0</td>\n      <td>2.0</td>\n      <td>...</td>\n      <td>0.0</td>\n      <td>1.0</td>\n      <td>6.0</td>\n      <td>1.0</td>\n      <td>3.0</td>\n      <td>3.0</td>\n      <td>1.0</td>\n      <td>2.0</td>\n      <td>1.0</td>\n      <td>3.166806</td>\n    </tr>\n    <tr>\n      <th>ACCCTCCCCCGGGGTGGTGCCGGAGGGGGGGATGATGGGTCGAGGGGTGTGTTTATGTGGAAGCGAGATGACCGGCAGGAACCTGCCCCAATGGGCTGCA</th>\n      <td>3.0</td>\n      <td>1.0</td>\n      <td>3.0</td>\n      <td>5.0</td>\n      <td>1.0</td>\n      <td>4.0</td>\n      <td>8.0</td>\n      <td>1.0</td>\n      <td>3.0</td>\n      <td>1.0</td>\n      <td>...</td>\n      <td>2.0</td>\n      <td>0.0</td>\n      <td>0.0</td>\n      <td>3.0</td>\n      <td>2.0</td>\n      <td>4.0</td>\n      <td>3.0</td>\n      <td>3.0</td>\n      <td>2.0</td>\n      <td>3.141236</td>\n    </tr>\n    <tr>\n      <th>...</th>\n      <td>...</td>\n      <td>...</td>\n      <td>...</td>\n      <td>...</td>\n      <td>...</td>\n      <td>...</td>\n      <td>...</td>\n      <td>...</td>\n      <td>...</td>\n      <td>...</td>\n      <td>...</td>\n      <td>...</td>\n      <td>...</td>\n      <td>...</td>\n      <td>...</td>\n      <td>...</td>\n      <td>...</td>\n      <td>...</td>\n      <td>...</td>\n      <td>...</td>\n      <td>...</td>\n    </tr>\n    <tr>\n      <th>AGGCATCAGGGATACAGTGGTGAACAAGCATACACAATCTCTGCCCTCATGGAGCTTAGATTCTTGGCCAACTCATCCCAGCATGGTGTCTCCTCCTCCA</th>\n      <td>0.0</td>\n      <td>0.0</td>\n      <td>0.0</td>\n      <td>0.0</td>\n      <td>0.0</td>\n      <td>0.0</td>\n      <td>0.0</td>\n      <td>0.0</td>\n      <td>0.0</td>\n      <td>0.0</td>\n      <td>...</td>\n      <td>0.0</td>\n      <td>0.0</td>\n      <td>0.0</td>\n      <td>0.0</td>\n      <td>0.0</td>\n      <td>0.0</td>\n      <td>1.0</td>\n      <td>0.0</td>\n      <td>0.0</td>\n      <td>0.022699</td>\n    </tr>\n    <tr>\n      <th>AAGGGCCATTGTACTTGCTATTTCCTTTGCCTCTAAGTGCACCTCCTCTAACATTTTGCATGAGTCATTCCTTCTCATTATTTAGGTCTTAGCTCAAATG</th>\n      <td>0.0</td>\n      <td>0.0</td>\n      <td>0.0</td>\n      <td>0.0</td>\n      <td>0.0</td>\n      <td>0.0</td>\n      <td>0.0</td>\n      <td>0.0</td>\n      <td>0.0</td>\n      <td>0.0</td>\n      <td>...</td>\n      <td>0.0</td>\n      <td>0.0</td>\n      <td>0.0</td>\n      <td>0.0</td>\n      <td>0.0</td>\n      <td>0.0</td>\n      <td>0.0</td>\n      <td>0.0</td>\n      <td>0.0</td>\n      <td>0.022699</td>\n    </tr>\n    <tr>\n      <th>CCTGTATTTTTAAATACACACGTGGGAAAAATTATAAACAAAGGGAGGAAAATCCTTTAGGAAAAAATGACTTTTGCCAAGCAACTATTTAGTCTCTGCT</th>\n      <td>0.0</td>\n      <td>0.0</td>\n      <td>0.0</td>\n      <td>0.0</td>\n      <td>0.0</td>\n      <td>0.0</td>\n      <td>0.0</td>\n      <td>0.0</td>\n      <td>0.0</td>\n      <td>0.0</td>\n      <td>...</td>\n      <td>0.0</td>\n      <td>0.0</td>\n      <td>0.0</td>\n      <td>0.0</td>\n      <td>0.0</td>\n      <td>0.0</td>\n      <td>0.0</td>\n      <td>0.0</td>\n      <td>0.0</td>\n      <td>0.022693</td>\n    </tr>\n    <tr>\n      <th>AGGGGTTCTGAATCTAAGCTCCACCCCGTGACCCATTTCCTTTTTGAGCCCTCATCGATGCCCCTTCTTTCCTTTCACAGCCCGGTGCATAGCACGCCTC</th>\n      <td>0.0</td>\n      <td>0.0</td>\n      <td>0.0</td>\n      <td>0.0</td>\n      <td>0.0</td>\n      <td>0.0</td>\n      <td>0.0</td>\n      <td>0.0</td>\n      <td>0.0</td>\n      <td>0.0</td>\n      <td>...</td>\n      <td>0.0</td>\n      <td>0.0</td>\n      <td>0.0</td>\n      <td>0.0</td>\n      <td>0.0</td>\n      <td>0.0</td>\n      <td>0.0</td>\n      <td>0.0</td>\n      <td>0.0</td>\n      <td>0.022692</td>\n    </tr>\n    <tr>\n      <th>ACTCTGTCACCCAGACTGGGGTGCAGTGGTGCAATCTCTGCTCACTGCAACCTCCACCACCCGGGTTTAAGCAATTCTTGTGCCTCAGCCTCCGGAGTAG</th>\n      <td>0.0</td>\n      <td>0.0</td>\n      <td>0.0</td>\n      <td>0.0</td>\n      <td>0.0</td>\n      <td>0.0</td>\n      <td>0.0</td>\n      <td>0.0</td>\n      <td>0.0</td>\n      <td>0.0</td>\n      <td>...</td>\n      <td>0.0</td>\n      <td>0.0</td>\n      <td>0.0</td>\n      <td>0.0</td>\n      <td>0.0</td>\n      <td>0.0</td>\n      <td>0.0</td>\n      <td>0.0</td>\n      <td>0.0</td>\n      <td>0.022677</td>\n    </tr>\n  </tbody>\n</table>\n<p>15000 rows × 10247 columns</p>\n</div>"
     },
     "execution_count": 44,
     "metadata": {},
     "output_type": "execute_result"
    }
   ],
   "source": [
    "next_data_sel"
   ]
  },
  {
   "cell_type": "code",
   "execution_count": 45,
   "id": "6ddde91f-8c11-49b9-8c44-17cb244818c4",
   "metadata": {
    "pycharm": {
     "name": "#%%\n"
    }
   },
   "outputs": [],
   "source": [
    "del next_data_sel['var']\n",
    "# next_data_sel.index = next_data_sel['seq']\n",
    "# del next_data_sel['seq']"
   ]
  },
  {
   "cell_type": "code",
   "execution_count": 46,
   "id": "2e1cf5ad-83a6-4d67-9ee8-a465c2a223f5",
   "metadata": {
    "pycharm": {
     "name": "#%%\n"
    }
   },
   "outputs": [
    {
     "data": {
      "text/plain": "                                                    0      1      2      \\\nseq                                                                       \nCGCCCCAAGGATTCGCTCTTGCGTCACCGCCTCGCCTTCAGGACGCC...    3.0    1.0    6.0   \nACTGACTGTCTCCGTCTTCGCCCCTGCCCTGGCCCCGCCCCCTGCCT...    3.0    4.0    3.0   \nAAGGCAAACTACAACTCCCAAAGGCCCTTGCGCGGACTCAGCGCGCG...    1.0    0.0    3.0   \nGGCGACCGCGGCGCTGCTTCGAGGCGCCACTCCGGGGCGCGGCGGCC...    2.0    2.0    2.0   \nACCCTCCCCCGGGGTGGTGCCGGAGGGGGGGATGATGGGTCGAGGGG...    3.0    1.0    3.0   \n...                                                   ...    ...    ...   \nAGGCATCAGGGATACAGTGGTGAACAAGCATACACAATCTCTGCCCT...    0.0    0.0    0.0   \nAAGGGCCATTGTACTTGCTATTTCCTTTGCCTCTAAGTGCACCTCCT...    0.0    0.0    0.0   \nCCTGTATTTTTAAATACACACGTGGGAAAAATTATAAACAAAGGGAG...    0.0    0.0    0.0   \nAGGGGTTCTGAATCTAAGCTCCACCCCGTGACCCATTTCCTTTTTGA...    0.0    0.0    0.0   \nACTCTGTCACCCAGACTGGGGTGCAGTGGTGCAATCTCTGCTCACTG...    0.0    0.0    0.0   \n\n                                                    3      4      5      \\\nseq                                                                       \nCGCCCCAAGGATTCGCTCTTGCGTCACCGCCTCGCCTTCAGGACGCC...    5.0    4.0    1.0   \nACTGACTGTCTCCGTCTTCGCCCCTGCCCTGGCCCCGCCCCCTGCCT...    4.0    2.0    1.0   \nAAGGCAAACTACAACTCCCAAAGGCCCTTGCGCGGACTCAGCGCGCG...    2.0    1.0    4.0   \nGGCGACCGCGGCGCTGCTTCGAGGCGCCACTCCGGGGCGCGGCGGCC...    4.0    2.0    3.0   \nACCCTCCCCCGGGGTGGTGCCGGAGGGGGGGATGATGGGTCGAGGGG...    5.0    1.0    4.0   \n...                                                   ...    ...    ...   \nAGGCATCAGGGATACAGTGGTGAACAAGCATACACAATCTCTGCCCT...    0.0    0.0    0.0   \nAAGGGCCATTGTACTTGCTATTTCCTTTGCCTCTAAGTGCACCTCCT...    0.0    0.0    0.0   \nCCTGTATTTTTAAATACACACGTGGGAAAAATTATAAACAAAGGGAG...    0.0    0.0    0.0   \nAGGGGTTCTGAATCTAAGCTCCACCCCGTGACCCATTTCCTTTTTGA...    0.0    0.0    0.0   \nACTCTGTCACCCAGACTGGGGTGCAGTGGTGCAATCTCTGCTCACTG...    0.0    0.0    0.0   \n\n                                                    6      7      8      \\\nseq                                                                       \nCGCCCCAAGGATTCGCTCTTGCGTCACCGCCTCGCCTTCAGGACGCC...    9.0    1.0    3.0   \nACTGACTGTCTCCGTCTTCGCCCCTGCCCTGGCCCCGCCCCCTGCCT...    5.0    3.0    3.0   \nAAGGCAAACTACAACTCCCAAAGGCCCTTGCGCGGACTCAGCGCGCG...    5.0    1.0    1.0   \nGGCGACCGCGGCGCTGCTTCGAGGCGCCACTCCGGGGCGCGGCGGCC...    4.0    1.0    2.0   \nACCCTCCCCCGGGGTGGTGCCGGAGGGGGGGATGATGGGTCGAGGGG...    8.0    1.0    3.0   \n...                                                   ...    ...    ...   \nAGGCATCAGGGATACAGTGGTGAACAAGCATACACAATCTCTGCCCT...    0.0    0.0    0.0   \nAAGGGCCATTGTACTTGCTATTTCCTTTGCCTCTAAGTGCACCTCCT...    0.0    0.0    0.0   \nCCTGTATTTTTAAATACACACGTGGGAAAAATTATAAACAAAGGGAG...    0.0    0.0    0.0   \nAGGGGTTCTGAATCTAAGCTCCACCCCGTGACCCATTTCCTTTTTGA...    0.0    0.0    0.0   \nACTCTGTCACCCAGACTGGGGTGCAGTGGTGCAATCTCTGCTCACTG...    0.0    0.0    0.0   \n\n                                                    9      ...  10236  10237  \\\nseq                                                        ...                 \nCGCCCCAAGGATTCGCTCTTGCGTCACCGCCTCGCCTTCAGGACGCC...    5.0  ...    3.0    4.0   \nACTGACTGTCTCCGTCTTCGCCCCTGCCCTGGCCCCGCCCCCTGCCT...    3.0  ...    0.0    2.0   \nAAGGCAAACTACAACTCCCAAAGGCCCTTGCGCGGACTCAGCGCGCG...    1.0  ...    2.0    3.0   \nGGCGACCGCGGCGCTGCTTCGAGGCGCCACTCCGGGGCGCGGCGGCC...    2.0  ...    1.0    0.0   \nACCCTCCCCCGGGGTGGTGCCGGAGGGGGGGATGATGGGTCGAGGGG...    1.0  ...    1.0    2.0   \n...                                                   ...  ...    ...    ...   \nAGGCATCAGGGATACAGTGGTGAACAAGCATACACAATCTCTGCCCT...    0.0  ...    0.0    0.0   \nAAGGGCCATTGTACTTGCTATTTCCTTTGCCTCTAAGTGCACCTCCT...    0.0  ...    0.0    0.0   \nCCTGTATTTTTAAATACACACGTGGGAAAAATTATAAACAAAGGGAG...    0.0  ...    0.0    0.0   \nAGGGGTTCTGAATCTAAGCTCCACCCCGTGACCCATTTCCTTTTTGA...    0.0  ...    0.0    0.0   \nACTCTGTCACCCAGACTGGGGTGCAGTGGTGCAATCTCTGCTCACTG...    0.0  ...    0.0    0.0   \n\n                                                    10238  10239  10240  \\\nseq                                                                       \nCGCCCCAAGGATTCGCTCTTGCGTCACCGCCTCGCCTTCAGGACGCC...    1.0    3.0    0.0   \nACTGACTGTCTCCGTCTTCGCCCCTGCCCTGGCCCCGCCCCCTGCCT...    0.0    3.0    7.0   \nAAGGCAAACTACAACTCCCAAAGGCCCTTGCGCGGACTCAGCGCGCG...    1.0    3.0    3.0   \nGGCGACCGCGGCGCTGCTTCGAGGCGCCACTCCGGGGCGCGGCGGCC...    1.0    6.0    1.0   \nACCCTCCCCCGGGGTGGTGCCGGAGGGGGGGATGATGGGTCGAGGGG...    0.0    0.0    3.0   \n...                                                   ...    ...    ...   \nAGGCATCAGGGATACAGTGGTGAACAAGCATACACAATCTCTGCCCT...    0.0    0.0    0.0   \nAAGGGCCATTGTACTTGCTATTTCCTTTGCCTCTAAGTGCACCTCCT...    0.0    0.0    0.0   \nCCTGTATTTTTAAATACACACGTGGGAAAAATTATAAACAAAGGGAG...    0.0    0.0    0.0   \nAGGGGTTCTGAATCTAAGCTCCACCCCGTGACCCATTTCCTTTTTGA...    0.0    0.0    0.0   \nACTCTGTCACCCAGACTGGGGTGCAGTGGTGCAATCTCTGCTCACTG...    0.0    0.0    0.0   \n\n                                                    10241  10242  10243  \\\nseq                                                                       \nCGCCCCAAGGATTCGCTCTTGCGTCACCGCCTCGCCTTCAGGACGCC...    6.0    1.0    2.0   \nACTGACTGTCTCCGTCTTCGCCCCTGCCCTGGCCCCGCCCCCTGCCT...    2.0    3.0    2.0   \nAAGGCAAACTACAACTCCCAAAGGCCCTTGCGCGGACTCAGCGCGCG...    4.0    4.0    5.0   \nGGCGACCGCGGCGCTGCTTCGAGGCGCCACTCCGGGGCGCGGCGGCC...    3.0    3.0    1.0   \nACCCTCCCCCGGGGTGGTGCCGGAGGGGGGGATGATGGGTCGAGGGG...    2.0    4.0    3.0   \n...                                                   ...    ...    ...   \nAGGCATCAGGGATACAGTGGTGAACAAGCATACACAATCTCTGCCCT...    0.0    0.0    1.0   \nAAGGGCCATTGTACTTGCTATTTCCTTTGCCTCTAAGTGCACCTCCT...    0.0    0.0    0.0   \nCCTGTATTTTTAAATACACACGTGGGAAAAATTATAAACAAAGGGAG...    0.0    0.0    0.0   \nAGGGGTTCTGAATCTAAGCTCCACCCCGTGACCCATTTCCTTTTTGA...    0.0    0.0    0.0   \nACTCTGTCACCCAGACTGGGGTGCAGTGGTGCAATCTCTGCTCACTG...    0.0    0.0    0.0   \n\n                                                    10244  10245  \nseq                                                               \nCGCCCCAAGGATTCGCTCTTGCGTCACCGCCTCGCCTTCAGGACGCC...    2.0    1.0  \nACTGACTGTCTCCGTCTTCGCCCCTGCCCTGGCCCCGCCCCCTGCCT...    2.0    0.0  \nAAGGCAAACTACAACTCCCAAAGGCCCTTGCGCGGACTCAGCGCGCG...    0.0    2.0  \nGGCGACCGCGGCGCTGCTTCGAGGCGCCACTCCGGGGCGCGGCGGCC...    2.0    1.0  \nACCCTCCCCCGGGGTGGTGCCGGAGGGGGGGATGATGGGTCGAGGGG...    3.0    2.0  \n...                                                   ...    ...  \nAGGCATCAGGGATACAGTGGTGAACAAGCATACACAATCTCTGCCCT...    0.0    0.0  \nAAGGGCCATTGTACTTGCTATTTCCTTTGCCTCTAAGTGCACCTCCT...    0.0    0.0  \nCCTGTATTTTTAAATACACACGTGGGAAAAATTATAAACAAAGGGAG...    0.0    0.0  \nAGGGGTTCTGAATCTAAGCTCCACCCCGTGACCCATTTCCTTTTTGA...    0.0    0.0  \nACTCTGTCACCCAGACTGGGGTGCAGTGGTGCAATCTCTGCTCACTG...    0.0    0.0  \n\n[15000 rows x 10246 columns]",
      "text/html": "<div>\n<style scoped>\n    .dataframe tbody tr th:only-of-type {\n        vertical-align: middle;\n    }\n\n    .dataframe tbody tr th {\n        vertical-align: top;\n    }\n\n    .dataframe thead th {\n        text-align: right;\n    }\n</style>\n<table border=\"1\" class=\"dataframe\">\n  <thead>\n    <tr style=\"text-align: right;\">\n      <th></th>\n      <th>0</th>\n      <th>1</th>\n      <th>2</th>\n      <th>3</th>\n      <th>4</th>\n      <th>5</th>\n      <th>6</th>\n      <th>7</th>\n      <th>8</th>\n      <th>9</th>\n      <th>...</th>\n      <th>10236</th>\n      <th>10237</th>\n      <th>10238</th>\n      <th>10239</th>\n      <th>10240</th>\n      <th>10241</th>\n      <th>10242</th>\n      <th>10243</th>\n      <th>10244</th>\n      <th>10245</th>\n    </tr>\n    <tr>\n      <th>seq</th>\n      <th></th>\n      <th></th>\n      <th></th>\n      <th></th>\n      <th></th>\n      <th></th>\n      <th></th>\n      <th></th>\n      <th></th>\n      <th></th>\n      <th></th>\n      <th></th>\n      <th></th>\n      <th></th>\n      <th></th>\n      <th></th>\n      <th></th>\n      <th></th>\n      <th></th>\n      <th></th>\n      <th></th>\n    </tr>\n  </thead>\n  <tbody>\n    <tr>\n      <th>CGCCCCAAGGATTCGCTCTTGCGTCACCGCCTCGCCTTCAGGACGCCTCCGCGCCTCGCCCTGTCCCCAGGGTCAATTCTGGGGTCACCGCCTGTCCCCA</th>\n      <td>3.0</td>\n      <td>1.0</td>\n      <td>6.0</td>\n      <td>5.0</td>\n      <td>4.0</td>\n      <td>1.0</td>\n      <td>9.0</td>\n      <td>1.0</td>\n      <td>3.0</td>\n      <td>5.0</td>\n      <td>...</td>\n      <td>3.0</td>\n      <td>4.0</td>\n      <td>1.0</td>\n      <td>3.0</td>\n      <td>0.0</td>\n      <td>6.0</td>\n      <td>1.0</td>\n      <td>2.0</td>\n      <td>2.0</td>\n      <td>1.0</td>\n    </tr>\n    <tr>\n      <th>ACTGACTGTCTCCGTCTTCGCCCCTGCCCTGGCCCCGCCCCCTGCCTGCTCTGGCCCCGCCCCGCCGCTCTCTCCGTCTCCGCCCCTGCCCTGGCCCCAC</th>\n      <td>3.0</td>\n      <td>4.0</td>\n      <td>3.0</td>\n      <td>4.0</td>\n      <td>2.0</td>\n      <td>1.0</td>\n      <td>5.0</td>\n      <td>3.0</td>\n      <td>3.0</td>\n      <td>3.0</td>\n      <td>...</td>\n      <td>0.0</td>\n      <td>2.0</td>\n      <td>0.0</td>\n      <td>3.0</td>\n      <td>7.0</td>\n      <td>2.0</td>\n      <td>3.0</td>\n      <td>2.0</td>\n      <td>2.0</td>\n      <td>0.0</td>\n    </tr>\n    <tr>\n      <th>AAGGCAAACTACAACTCCCAAAGGCCCTTGCGCGGACTCAGCGCGCGAGGGACGAAGGGCGGTCCACTGTAAGGGGAAATGCTGAGGATCACTGGGCTCC</th>\n      <td>1.0</td>\n      <td>0.0</td>\n      <td>3.0</td>\n      <td>2.0</td>\n      <td>1.0</td>\n      <td>4.0</td>\n      <td>5.0</td>\n      <td>1.0</td>\n      <td>1.0</td>\n      <td>1.0</td>\n      <td>...</td>\n      <td>2.0</td>\n      <td>3.0</td>\n      <td>1.0</td>\n      <td>3.0</td>\n      <td>3.0</td>\n      <td>4.0</td>\n      <td>4.0</td>\n      <td>5.0</td>\n      <td>0.0</td>\n      <td>2.0</td>\n    </tr>\n    <tr>\n      <th>GGCGACCGCGGCGCTGCTTCGAGGCGCCACTCCGGGGCGCGGCGGCCCGGTCTGGCGCTGGCGGCTGCGCGCGGCCCCAAGGTGCCGCCTGGCCCACAGC</th>\n      <td>2.0</td>\n      <td>2.0</td>\n      <td>2.0</td>\n      <td>4.0</td>\n      <td>2.0</td>\n      <td>3.0</td>\n      <td>4.0</td>\n      <td>1.0</td>\n      <td>2.0</td>\n      <td>2.0</td>\n      <td>...</td>\n      <td>1.0</td>\n      <td>0.0</td>\n      <td>1.0</td>\n      <td>6.0</td>\n      <td>1.0</td>\n      <td>3.0</td>\n      <td>3.0</td>\n      <td>1.0</td>\n      <td>2.0</td>\n      <td>1.0</td>\n    </tr>\n    <tr>\n      <th>ACCCTCCCCCGGGGTGGTGCCGGAGGGGGGGATGATGGGTCGAGGGGTGTGTTTATGTGGAAGCGAGATGACCGGCAGGAACCTGCCCCAATGGGCTGCA</th>\n      <td>3.0</td>\n      <td>1.0</td>\n      <td>3.0</td>\n      <td>5.0</td>\n      <td>1.0</td>\n      <td>4.0</td>\n      <td>8.0</td>\n      <td>1.0</td>\n      <td>3.0</td>\n      <td>1.0</td>\n      <td>...</td>\n      <td>1.0</td>\n      <td>2.0</td>\n      <td>0.0</td>\n      <td>0.0</td>\n      <td>3.0</td>\n      <td>2.0</td>\n      <td>4.0</td>\n      <td>3.0</td>\n      <td>3.0</td>\n      <td>2.0</td>\n    </tr>\n    <tr>\n      <th>...</th>\n      <td>...</td>\n      <td>...</td>\n      <td>...</td>\n      <td>...</td>\n      <td>...</td>\n      <td>...</td>\n      <td>...</td>\n      <td>...</td>\n      <td>...</td>\n      <td>...</td>\n      <td>...</td>\n      <td>...</td>\n      <td>...</td>\n      <td>...</td>\n      <td>...</td>\n      <td>...</td>\n      <td>...</td>\n      <td>...</td>\n      <td>...</td>\n      <td>...</td>\n      <td>...</td>\n    </tr>\n    <tr>\n      <th>AGGCATCAGGGATACAGTGGTGAACAAGCATACACAATCTCTGCCCTCATGGAGCTTAGATTCTTGGCCAACTCATCCCAGCATGGTGTCTCCTCCTCCA</th>\n      <td>0.0</td>\n      <td>0.0</td>\n      <td>0.0</td>\n      <td>0.0</td>\n      <td>0.0</td>\n      <td>0.0</td>\n      <td>0.0</td>\n      <td>0.0</td>\n      <td>0.0</td>\n      <td>0.0</td>\n      <td>...</td>\n      <td>0.0</td>\n      <td>0.0</td>\n      <td>0.0</td>\n      <td>0.0</td>\n      <td>0.0</td>\n      <td>0.0</td>\n      <td>0.0</td>\n      <td>1.0</td>\n      <td>0.0</td>\n      <td>0.0</td>\n    </tr>\n    <tr>\n      <th>AAGGGCCATTGTACTTGCTATTTCCTTTGCCTCTAAGTGCACCTCCTCTAACATTTTGCATGAGTCATTCCTTCTCATTATTTAGGTCTTAGCTCAAATG</th>\n      <td>0.0</td>\n      <td>0.0</td>\n      <td>0.0</td>\n      <td>0.0</td>\n      <td>0.0</td>\n      <td>0.0</td>\n      <td>0.0</td>\n      <td>0.0</td>\n      <td>0.0</td>\n      <td>0.0</td>\n      <td>...</td>\n      <td>0.0</td>\n      <td>0.0</td>\n      <td>0.0</td>\n      <td>0.0</td>\n      <td>0.0</td>\n      <td>0.0</td>\n      <td>0.0</td>\n      <td>0.0</td>\n      <td>0.0</td>\n      <td>0.0</td>\n    </tr>\n    <tr>\n      <th>CCTGTATTTTTAAATACACACGTGGGAAAAATTATAAACAAAGGGAGGAAAATCCTTTAGGAAAAAATGACTTTTGCCAAGCAACTATTTAGTCTCTGCT</th>\n      <td>0.0</td>\n      <td>0.0</td>\n      <td>0.0</td>\n      <td>0.0</td>\n      <td>0.0</td>\n      <td>0.0</td>\n      <td>0.0</td>\n      <td>0.0</td>\n      <td>0.0</td>\n      <td>0.0</td>\n      <td>...</td>\n      <td>0.0</td>\n      <td>0.0</td>\n      <td>0.0</td>\n      <td>0.0</td>\n      <td>0.0</td>\n      <td>0.0</td>\n      <td>0.0</td>\n      <td>0.0</td>\n      <td>0.0</td>\n      <td>0.0</td>\n    </tr>\n    <tr>\n      <th>AGGGGTTCTGAATCTAAGCTCCACCCCGTGACCCATTTCCTTTTTGAGCCCTCATCGATGCCCCTTCTTTCCTTTCACAGCCCGGTGCATAGCACGCCTC</th>\n      <td>0.0</td>\n      <td>0.0</td>\n      <td>0.0</td>\n      <td>0.0</td>\n      <td>0.0</td>\n      <td>0.0</td>\n      <td>0.0</td>\n      <td>0.0</td>\n      <td>0.0</td>\n      <td>0.0</td>\n      <td>...</td>\n      <td>0.0</td>\n      <td>0.0</td>\n      <td>0.0</td>\n      <td>0.0</td>\n      <td>0.0</td>\n      <td>0.0</td>\n      <td>0.0</td>\n      <td>0.0</td>\n      <td>0.0</td>\n      <td>0.0</td>\n    </tr>\n    <tr>\n      <th>ACTCTGTCACCCAGACTGGGGTGCAGTGGTGCAATCTCTGCTCACTGCAACCTCCACCACCCGGGTTTAAGCAATTCTTGTGCCTCAGCCTCCGGAGTAG</th>\n      <td>0.0</td>\n      <td>0.0</td>\n      <td>0.0</td>\n      <td>0.0</td>\n      <td>0.0</td>\n      <td>0.0</td>\n      <td>0.0</td>\n      <td>0.0</td>\n      <td>0.0</td>\n      <td>0.0</td>\n      <td>...</td>\n      <td>0.0</td>\n      <td>0.0</td>\n      <td>0.0</td>\n      <td>0.0</td>\n      <td>0.0</td>\n      <td>0.0</td>\n      <td>0.0</td>\n      <td>0.0</td>\n      <td>0.0</td>\n      <td>0.0</td>\n    </tr>\n  </tbody>\n</table>\n<p>15000 rows × 10246 columns</p>\n</div>"
     },
     "execution_count": 46,
     "metadata": {},
     "output_type": "execute_result"
    }
   ],
   "source": [
    "next_data_sel"
   ]
  },
  {
   "cell_type": "raw",
   "id": "c9acc510-dc15-4c4e-bb2e-aae98b59655e",
   "metadata": {
    "pycharm": {
     "name": "#%% raw\n"
    }
   },
   "source": [
    "--------------------"
   ]
  },
  {
   "cell_type": "raw",
   "id": "1691dbfb-0211-4987-b8e9-c298e5c80b6a",
   "metadata": {
    "pycharm": {
     "name": "#%% raw\n"
    }
   },
   "source": [
    "--------------------"
   ]
  },
  {
   "cell_type": "code",
   "execution_count": 47,
   "outputs": [],
   "source": [
    "df = next_data_sel.copy()\n",
    "df = df[df.sum(axis=1) != 0]\n",
    "# df2 = []\n",
    "# for i in df.columns:\n",
    "#     df3 = df[[i]].copy()\n",
    "#     df3 = df3.head(100)\n",
    "#     df3.columns = [0]\n",
    "#     df3[1] = 1 # need a minimal non-zero count\n",
    "#     df3['batch'] = i\n",
    "#     df2.append(df3)\n",
    "# df2 = pd.concat(df2)\n",
    "# # df2['is_count_data'] = True\n",
    "# dataset = mb.datasets.SelexDataset(df2, n_rounds=2, labels=[0, 1], enr_series=False)\n",
    "dataset = mb.datasets.SelexDataset(df, n_rounds=df.shape[1], enr_series=False)\n"
   ],
   "metadata": {
    "collapsed": false,
    "pycharm": {
     "name": "#%%\n"
    }
   }
  },
  {
   "cell_type": "code",
   "execution_count": 48,
   "outputs": [
    {
     "data": {
      "text/plain": "(15000, 10246)"
     },
     "execution_count": 48,
     "metadata": {},
     "output_type": "execute_result"
    }
   ],
   "source": [
    "df.shape"
   ],
   "metadata": {
    "collapsed": false,
    "pycharm": {
     "name": "#%%\n"
    }
   }
  },
  {
   "cell_type": "code",
   "execution_count": 49,
   "id": "61b16eaa-2c0a-4c12-9619-dd1242bf2272",
   "metadata": {
    "pycharm": {
     "name": "#%%\n"
    }
   },
   "outputs": [],
   "source": [
    "# df = next_data_sel.copy()\n",
    "# dataset = mb.datasets.GenomicsDataset(df)\n",
    "# train = tdata.DataLoader(dataset=dataset, batch_size=1000, shuffle=True)\n",
    "\n",
    "train = tdata.DataLoader(dataset=dataset, batch_size=512, shuffle=True)"
   ]
  },
  {
   "cell_type": "markdown",
   "source": [],
   "metadata": {
    "collapsed": false,
    "pycharm": {
     "name": "#%% md\n"
    }
   }
  },
  {
   "cell_type": "code",
   "execution_count": null,
   "id": "03c5d106-1ae9-4e82-bebf-58b5bf5be508",
   "metadata": {
    "tags": [],
    "pycharm": {
     "name": "#%%\n",
     "is_executing": true
    }
   },
   "outputs": [
    {
     "name": "stdout",
     "output_type": "stream",
     "text": [
      "next w 20 <class 'int'>\n",
      "<torch.utils.data.dataloader.DataLoader object at 0x7fd501edcfd0>\n",
      "# rounds {10246}\n",
      "# rounds {10246}\n",
      "# use_mono True\n",
      "# use_dinuc False\n",
      "# dinuc_mode local\n",
      "# batches 1\n",
      "# kernels 3\n",
      "# initial w 20\n",
      "# enr_series False\n",
      "\n",
      "Kernel to optimize 0\n",
      "\n",
      "FREEZING KERNELS\n",
      "optimizing feature type mono\n",
      "setting grad status of kernel (mono, dinuc) at 0 to (1, 0)\n",
      "setting grad status of kernel (mono, dinuc) at 1 to (0, 0)\n",
      "setting grad status of kernel (mono, dinuc) at 2 to (0, 0)\n",
      "\n",
      "\n",
      "kernels mask None\n",
      "optimizer:  Adam \n",
      "criterion: PoissonLoss \n",
      "# epochs: 500 \n",
      "early_stopping: 50\n",
      "lr= 0.01, weight_decay= 0.001, dir weight= 0\n"
     ]
    }
   ],
   "source": [
    "model, best_loss = mb.tl.optimize_iterative(train, device, num_epochs=500, show_logo=False, use_mono=True, use_dinuc=False, opt_kernel_shift=0,\n",
    "                                                 early_stopping=50, log_each=10, n_kernels=3, w=20,) #  target_dim=train.dataset.signal.shape[1])"
   ]
  },
  {
   "cell_type": "code",
   "execution_count": null,
   "id": "88b14fdd-8d15-40f5-9ca8-a58bbbb11235",
   "metadata": {
    "pycharm": {
     "name": "#%%\n",
     "is_executing": true
    }
   },
   "outputs": [],
   "source": [
    "r2 = mb.tl.scores(model, train, by='batch')\n",
    "print(\"R^2:\", r2)\n"
   ]
  },
  {
   "cell_type": "code",
   "execution_count": null,
   "outputs": [],
   "source": [
    "from matplotlib import rcParams\n",
    "rcParams['figure.figsize'] = 20, 5\n",
    "rcParams['figure.dpi'] = 100\n",
    "mb.pl.conv(model, n_cols=2, show=True)\n",
    "plt.show()\n"
   ],
   "metadata": {
    "collapsed": false,
    "pycharm": {
     "name": "#%%\n",
     "is_executing": true
    }
   }
  }
 ],
 "metadata": {
  "kernelspec": {
   "name": "conda-env-mubind-py",
   "language": "python",
   "display_name": "Python [conda env:mubind]"
  },
  "language_info": {
   "codemirror_mode": {
    "name": "ipython",
    "version": 3
   },
   "file_extension": ".py",
   "mimetype": "text/x-python",
   "name": "python",
   "nbconvert_exporter": "python",
   "pygments_lexer": "ipython3",
   "version": "3.10.4"
  }
 },
 "nbformat": 4,
 "nbformat_minor": 5
}