{
 "cells": [
  {
   "cell_type": "code",
   "execution_count": 1,
   "id": "d41546ef-50a4-4f82-a112-5b32166b5967",
   "metadata": {},
   "outputs": [],
   "source": [
    "%load_ext autoreload\n",
    "%autoreload 2"
   ]
  },
  {
   "cell_type": "code",
   "execution_count": 2,
   "id": "7112493c-84e6-496c-8a5c-72accf85d1c8",
   "metadata": {},
   "outputs": [
    {
     "name": "stderr",
     "output_type": "stream",
     "text": [
      "/home/rio/miniconda3/envs/multibind/lib/python3.10/site-packages/tqdm/auto.py:22: TqdmWarning: IProgress not found. Please update jupyter and ipywidgets. See https://ipywidgets.readthedocs.io/en/stable/user_install.html\n",
      "  from .autonotebook import tqdm as notebook_tqdm\n"
     ]
    },
    {
     "name": "stdout",
     "output_type": "stream",
     "text": [
      "Using device: cuda:0\n"
     ]
    }
   ],
   "source": [
    "import multibind as mb\n",
    "import numpy as np\n",
    "import pandas as pd\n",
    "import torch\n",
    "import bindome as bd\n",
    "bd.constants.ANNOTATIONS_DIRECTORY = '/mnt/c/Users/ignacio.ibarra/Dropbox/annotations'\n",
    "# mb.models.MultiBind\n",
    "import torch.optim as topti\n",
    "import torch.utils.data as tdata\n",
    "import matplotlib.pyplot as plt\n",
    "import logomaker\n",
    "\n",
    "# Use a GPU if available, as it should be faster.\n",
    "device = torch.device(\"cuda:0\" if torch.cuda.is_available() else \"cpu\")\n",
    "print(\"Using device: \" + str(device))"
   ]
  },
  {
   "cell_type": "code",
   "execution_count": 3,
   "id": "34167188-f7ba-444b-85f3-dd6a43a885b3",
   "metadata": {},
   "outputs": [
    {
     "name": "stdout",
     "output_type": "stream",
     "text": [
      "cardiac_complexes\n",
      "# filenames 22\n",
      "PRJEB14744\n",
      "# filenames 12\n",
      "PRJEB20112\n",
      "# filenames 46\n",
      "PRJEB3289\n",
      "# filenames 68\n",
      "PRJEB9797\n",
      "# filenames 184\n"
     ]
    },
    {
     "data": {
      "text/html": [
       "<div>\n",
       "<style scoped>\n",
       "    .dataframe tbody tr th:only-of-type {\n",
       "        vertical-align: middle;\n",
       "    }\n",
       "\n",
       "    .dataframe tbody tr th {\n",
       "        vertical-align: top;\n",
       "    }\n",
       "\n",
       "    .dataframe thead th {\n",
       "        text-align: right;\n",
       "    }\n",
       "</style>\n",
       "<table border=\"1\" class=\"dataframe\">\n",
       "  <thead>\n",
       "    <tr style=\"text-align: right;\">\n",
       "      <th></th>\n",
       "      <th>filename</th>\n",
       "      <th>library</th>\n",
       "      <th>batch</th>\n",
       "      <th>cycle</th>\n",
       "      <th>tf.name</th>\n",
       "      <th>accession</th>\n",
       "    </tr>\n",
       "  </thead>\n",
       "  <tbody>\n",
       "    <tr>\n",
       "      <th>0</th>\n",
       "      <td>GATA4TBX5_R1_R46_016_999.txt.gz</td>\n",
       "      <td>R46</td>\n",
       "      <td>R46</td>\n",
       "      <td>R46</td>\n",
       "      <td>GATA4TBX5</td>\n",
       "      <td>cardiac_complexes</td>\n",
       "    </tr>\n",
       "    <tr>\n",
       "      <th>1</th>\n",
       "      <td>GATA4TBX5_R2_R46_033_999.txt.gz</td>\n",
       "      <td>R46</td>\n",
       "      <td>R46</td>\n",
       "      <td>R46</td>\n",
       "      <td>GATA4TBX5</td>\n",
       "      <td>cardiac_complexes</td>\n",
       "    </tr>\n",
       "    <tr>\n",
       "      <th>2</th>\n",
       "      <td>GATA4TBX5_R3_R46_051_999.txt.gz</td>\n",
       "      <td>R46</td>\n",
       "      <td>R46</td>\n",
       "      <td>R46</td>\n",
       "      <td>GATA4TBX5</td>\n",
       "      <td>cardiac_complexes</td>\n",
       "    </tr>\n",
       "    <tr>\n",
       "      <th>3</th>\n",
       "      <td>GATA4_R1_R46_032_777.txt.gz</td>\n",
       "      <td>R46</td>\n",
       "      <td>R46</td>\n",
       "      <td>R46</td>\n",
       "      <td>GATA4</td>\n",
       "      <td>cardiac_complexes</td>\n",
       "    </tr>\n",
       "    <tr>\n",
       "      <th>4</th>\n",
       "      <td>GATA4_R2_R46_046_777.txt.gz</td>\n",
       "      <td>R46</td>\n",
       "      <td>R46</td>\n",
       "      <td>R46</td>\n",
       "      <td>GATA4</td>\n",
       "      <td>cardiac_complexes</td>\n",
       "    </tr>\n",
       "    <tr>\n",
       "      <th>...</th>\n",
       "      <td>...</td>\n",
       "      <td>...</td>\n",
       "      <td>...</td>\n",
       "      <td>...</td>\n",
       "      <td>...</td>\n",
       "      <td>...</td>\n",
       "    </tr>\n",
       "    <tr>\n",
       "      <th>327</th>\n",
       "      <td>FOXA1_FL_2_KX_TCCCAT40NTGT.fastq.gz</td>\n",
       "      <td>TCCCAT40NTGT</td>\n",
       "      <td>FL</td>\n",
       "      <td>2</td>\n",
       "      <td>FOXA1</td>\n",
       "      <td>PRJEB9797</td>\n",
       "    </tr>\n",
       "    <tr>\n",
       "      <th>328</th>\n",
       "      <td>FOXA1_FL_3_KX_TAGCGT40NTCA.fastq.gz</td>\n",
       "      <td>TAGCGT40NTCA</td>\n",
       "      <td>FL</td>\n",
       "      <td>3</td>\n",
       "      <td>FOXA1</td>\n",
       "      <td>PRJEB9797</td>\n",
       "    </tr>\n",
       "    <tr>\n",
       "      <th>329</th>\n",
       "      <td>FOXA1_FL_3_KX_TCCCAT40NTGT.fastq.gz</td>\n",
       "      <td>TCCCAT40NTGT</td>\n",
       "      <td>FL</td>\n",
       "      <td>3</td>\n",
       "      <td>FOXA1</td>\n",
       "      <td>PRJEB9797</td>\n",
       "    </tr>\n",
       "    <tr>\n",
       "      <th>330</th>\n",
       "      <td>FOXA1_FL_4_KX_TAGCGT40NTCA.fastq.gz</td>\n",
       "      <td>TAGCGT40NTCA</td>\n",
       "      <td>FL</td>\n",
       "      <td>4</td>\n",
       "      <td>FOXA1</td>\n",
       "      <td>PRJEB9797</td>\n",
       "    </tr>\n",
       "    <tr>\n",
       "      <th>331</th>\n",
       "      <td>FOXA1_FL_4_KX_TCCCAT40NTGT.fastq.gz</td>\n",
       "      <td>TCCCAT40NTGT</td>\n",
       "      <td>FL</td>\n",
       "      <td>4</td>\n",
       "      <td>FOXA1</td>\n",
       "      <td>PRJEB9797</td>\n",
       "    </tr>\n",
       "  </tbody>\n",
       "</table>\n",
       "<p>332 rows × 6 columns</p>\n",
       "</div>"
      ],
      "text/plain": [
       "                                filename       library batch cycle    tf.name  \\\n",
       "0        GATA4TBX5_R1_R46_016_999.txt.gz           R46   R46   R46  GATA4TBX5   \n",
       "1        GATA4TBX5_R2_R46_033_999.txt.gz           R46   R46   R46  GATA4TBX5   \n",
       "2        GATA4TBX5_R3_R46_051_999.txt.gz           R46   R46   R46  GATA4TBX5   \n",
       "3            GATA4_R1_R46_032_777.txt.gz           R46   R46   R46      GATA4   \n",
       "4            GATA4_R2_R46_046_777.txt.gz           R46   R46   R46      GATA4   \n",
       "..                                   ...           ...   ...   ...        ...   \n",
       "327  FOXA1_FL_2_KX_TCCCAT40NTGT.fastq.gz  TCCCAT40NTGT    FL     2      FOXA1   \n",
       "328  FOXA1_FL_3_KX_TAGCGT40NTCA.fastq.gz  TAGCGT40NTCA    FL     3      FOXA1   \n",
       "329  FOXA1_FL_3_KX_TCCCAT40NTGT.fastq.gz  TCCCAT40NTGT    FL     3      FOXA1   \n",
       "330  FOXA1_FL_4_KX_TAGCGT40NTCA.fastq.gz  TAGCGT40NTCA    FL     4      FOXA1   \n",
       "331  FOXA1_FL_4_KX_TCCCAT40NTGT.fastq.gz  TCCCAT40NTGT    FL     4      FOXA1   \n",
       "\n",
       "             accession  \n",
       "0    cardiac_complexes  \n",
       "1    cardiac_complexes  \n",
       "2    cardiac_complexes  \n",
       "3    cardiac_complexes  \n",
       "4    cardiac_complexes  \n",
       "..                 ...  \n",
       "327          PRJEB9797  \n",
       "328          PRJEB9797  \n",
       "329          PRJEB9797  \n",
       "330          PRJEB9797  \n",
       "331          PRJEB9797  \n",
       "\n",
       "[332 rows x 6 columns]"
      ]
     },
     "execution_count": 3,
     "metadata": {},
     "output_type": "execute_result"
    }
   ],
   "source": [
    "data = bd.bindome.datasets.SELEX.get_data()\n",
    "# data[data['cycle'] == 'AF']\n",
    "data"
   ]
  },
  {
   "cell_type": "code",
   "execution_count": 4,
   "id": "44675ae1-dbe2-4b9f-a59f-3697d5bbef34",
   "metadata": {},
   "outputs": [
    {
     "data": {
      "text/plain": [
       "{'ALX1',\n",
       " 'ALX4',\n",
       " 'EGR1',\n",
       " 'ELF2',\n",
       " 'ELF3',\n",
       " 'ELF4',\n",
       " 'ELK1',\n",
       " 'ELK3',\n",
       " 'ETS1',\n",
       " 'ETV4',\n",
       " 'ETV5',\n",
       " 'ETV6',\n",
       " 'FOXA1',\n",
       " 'GATA4',\n",
       " 'GATA4TBX5',\n",
       " 'NKX2-5',\n",
       " 'NKX2-5GATA4',\n",
       " 'NKX2-5TBX5',\n",
       " 'R46',\n",
       " 'SAMPLE',\n",
       " 'TBX5',\n",
       " 'ZEROCYCLE'}"
      ]
     },
     "execution_count": 4,
     "metadata": {},
     "output_type": "execute_result"
    }
   ],
   "source": [
    "set(data['tf.name'])"
   ]
  },
  {
   "cell_type": "markdown",
   "id": "0a407bf8-c81a-4818-95fc-c54b18a40175",
   "metadata": {},
   "source": [
    "### Custom optimization pipeline: one layer is flexible and the others are frozen."
   ]
  },
  {
   "cell_type": "markdown",
   "id": "4d02dd43-9162-4471-ac41-415eab808ae3",
   "metadata": {},
   "source": [
    "Only one unfrozen layer, test with ALX4"
   ]
  },
  {
   "cell_type": "code",
   "execution_count": 5,
   "id": "f2288371-d30a-44df-81d9-42ab9af0fad9",
   "metadata": {
    "tags": []
   },
   "outputs": [],
   "source": [
    "# %time np.array([mb.tl.onehot_mononuc(row['seq'], le, oe) for index, row in next_data.head(10000).iterrows()]).shape"
   ]
  },
  {
   "cell_type": "code",
   "execution_count": 6,
   "id": "08fefa5c-4111-411e-b7c6-0279d8276077",
   "metadata": {
    "tags": []
   },
   "outputs": [],
   "source": [
    "# %time next_data.head(10000)['seq'].apply(mb.tl.onehot_mononuc, args=(le, oe)) # (row['seq'], le, oe) for index, row in next_data.head(10).iterrows()])"
   ]
  },
  {
   "cell_type": "code",
   "execution_count": 12,
   "id": "4c53a8cc-133b-41ad-b59a-12933af3d6da",
   "metadata": {},
   "outputs": [],
   "source": [
    "# update main object to skip reading again in future iterations\n",
    "def update_dict(d1, d2):\n",
    "    for k in list(d2.keys()):\n",
    "        if not k in d1:\n",
    "            d1[k] = d2[k]\n",
    "        else:\n",
    "            d2[k] = d1[k]\n"
   ]
  },
  {
   "cell_type": "code",
   "execution_count": null,
   "id": "1e1eac7d-e775-460f-a980-2583450556e0",
   "metadata": {},
   "outputs": [],
   "source": [
    "reads_tf = {}\n",
    "reads_tf_zero = {}"
   ]
  },
  {
   "cell_type": "code",
   "execution_count": null,
   "id": "6b20861d-e43b-4c05-b649-74773ad5d982",
   "metadata": {
    "tags": []
   },
   "outputs": [
    {
     "name": "stdout",
     "output_type": "stream",
     "text": [
      "ALX4\n",
      "ALX4 TGTGTC20NGA\n",
      "12 2\n",
      "dict_keys(['ALX4_TGTGTC20NGA_W_1', 'ALX4_TGTGTC20NGA_W_2', 'ALX4_TGTGTC20NGA_W_3', 'ALX4_TGTGTC20NGA_W_4']) dict_keys(['ZeroCycle_ES0_TGTGTC20NGA_0', 'ZeroCycle_TGTGTC20NGA_0_0'])\n",
      "4\n",
      "sampling from top n reds in round 1 ...\n",
      "(920358, 12)\n",
      "(10000, 12)\n",
      "loading object (# entries) 10000\n",
      "next w 14\n",
      "kernel to optimize 0\n",
      "Epoch:  1, Loss: 23.621\n",
      "Epoch: 11, Loss: 23.591\n",
      "Epoch: 21, Loss: 23.662\n",
      "before shift optim.\n"
     ]
    },
    {
     "data": {
      "image/png": "[encoded data removed]",
      "text/plain": [
       "<Figure size 360x72 with 4 Axes>"
      ]
     },
     "metadata": {
      "needs_background": "light"
     },
     "output_type": "display_data"
    },
    {
     "name": "stdout",
     "output_type": "stream",
     "text": [
      "after shift optimz model\n"
     ]
    },
    {
     "data": {
      "image/png": "[encoded data removed]",
      "text/plain": [
       "<Figure size 360x72 with 4 Axes>"
      ]
     },
     "metadata": {
      "needs_background": "light"
     },
     "output_type": "display_data"
    },
    {
     "name": "stdout",
     "output_type": "stream",
     "text": [
      "\n",
      "kernel to optimize 1\n",
      "Epoch:  1, Loss: 23.601\n",
      "Epoch: 11, Loss: 23.591\n",
      "Epoch: 21, Loss: 23.642\n",
      "before shift optim.\n"
     ]
    },
    {
     "data": {
      "image/png": "[encoded data removed]",
      "text/plain": [
       "<Figure size 360x72 with 4 Axes>"
      ]
     },
     "metadata": {
      "needs_background": "light"
     },
     "output_type": "display_data"
    },
    {
     "name": "stdout",
     "output_type": "stream",
     "text": [
      "optimize_motif_shift (once)...23.54033546447754 23.57069182395935 23.580810403823854\n",
      "after shift optimz model\n"
     ]
    },
    {
     "data": {
      "image/png": "[encoded data removed]",
      "text/plain": [
       "<Figure size 360x72 with 4 Axes>"
      ]
     },
     "metadata": {
      "needs_background": "light"
     },
     "output_type": "display_data"
    },
    {
     "name": "stdout",
     "output_type": "stream",
     "text": [
      "\n",
      "kernel to optimize 2\n",
      "Epoch:  1, Loss: 23.611\n",
      "Epoch: 11, Loss: 23.601\n",
      "Epoch: 21, Loss: 23.631\n",
      "before shift optim.\n"
     ]
    },
    {
     "data": {
      "image/png": "[encoded data removed]",
      "text/plain": [
       "<Figure size 360x72 with 4 Axes>"
      ]
     },
     "metadata": {
      "needs_background": "light"
     },
     "output_type": "display_data"
    },
    {
     "name": "stdout",
     "output_type": "stream",
     "text": [
      "optimize_motif_shift (once)...23.55045437812805 23.550453996658327 23.560572957992555\n",
      "optimize_motif_shift (again)..."
     ]
    }
   ],
   "source": [
    "from matplotlib import rcParams\n",
    "rcParams['figure.figsize'] = 5, 1\n",
    "\n",
    "model_by_k = {}\n",
    "for tf in set(data['tf.name']):\n",
    "    if 'ZERO' in tf:\n",
    "        continue\n",
    "    if tf != 'ALX4':\n",
    "        continue\n",
    "    print(tf)\n",
    "    \n",
    "    \n",
    "    for library, grp in data.groupby('library'):\n",
    "        \n",
    "        if library != 'TGTGTC20NGA':\n",
    "            continue\n",
    "        \n",
    "        print(tf, library)\n",
    "        \n",
    "        reads_tf_next, reads_zero_next = mb.bindome.datasets.SELEX.load_tf_and_zero_reads(tf, data, library=library,\n",
    "                                                                                          k_skip=reads_tf.keys())\n",
    "        \n",
    "        # update main object to skip reading again in future iterations\n",
    "        update_dict(reads_tf, reads_tf_next)\n",
    "        update_dict(reads_zero, reads_zero_next)\n",
    "        \n",
    "        \n",
    "        print(reads_tf.keys(), reads_zero.keys())\n",
    "        \n",
    "        for k_r0 in reads_zero:\n",
    "\n",
    "            k_model = tf + ':' + k_r0\n",
    "            # print(k_r0, k_tf, k_model)\n",
    "\n",
    "            n_rounds = len(reads_tf.keys())\n",
    "            print(n_rounds)\n",
    "            \n",
    "            # combine all the positive round data\n",
    "            df2 = []\n",
    "            for k in reads_tf.keys():\n",
    "                df = reads_tf[k]\n",
    "                df['k'] = k\n",
    "                df2.append(df)\n",
    "            df = pd.concat(df2)\n",
    "            df = df.pivot('seq', 'k', 'counts').fillna(0).reset_index()\n",
    "\n",
    "            next_data = reads_zero[k_r0].merge(df, on='seq', how='outer').fillna(0) # .astype(int)\n",
    "            \n",
    "            new_cols = ['seq', k_r0] + list(df.columns[1:])\n",
    "            next_data.columns = new_cols\n",
    "            for i, k in enumerate(next_data.columns[1:]):\n",
    "                next_data[k] = next_data[k].astype(int)\n",
    "                next_data[i] = next_data[k].astype(int)\n",
    "\n",
    "                \n",
    "            next_data['sum'] = next_data[[i for i in range(0, n_rounds + 1)]].sum(axis=1).values\n",
    "            next_data = next_data.sort_values('sum', ascending=False)\n",
    "            \n",
    "            print('sampling from top n reds in round 1 ...')\n",
    "            print(next_data.shape)\n",
    "            next_data = next_data.head(10000).reset_index(drop=True)\n",
    "            print(next_data.shape)\n",
    "            \n",
    "            # assert False\n",
    "            \n",
    "            # next_data = next_data.sample(n=35000)\n",
    "\n",
    "            # print(next_data.shape)\n",
    "            # print(next_data.head())\n",
    "\n",
    "            # not needed for the current model, because the enrichment is not predicted\n",
    "            # next_data = mb.tl.calculate_enrichment(next_data, cols=next_data.columns[1:])\n",
    "\n",
    "            # assign batch and data type\n",
    "            next_data['batch'] = 1\n",
    "            next_data['is_count_data'] = 1\n",
    "\n",
    "            print('loading object (# entries)', next_data.shape[0])\n",
    "            dataset = mb.datasets.SelexDataset(next_data, n_rounds=n_rounds)\n",
    "            train = tdata.DataLoader(dataset=dataset, batch_size=256, shuffle=True)\n",
    "            train_test = tdata.DataLoader(dataset=dataset, batch_size=1, shuffle=False)                \n",
    "\n",
    "            model_by_k_next, res_next = mb.tl.train_iterative(train, device, min_w=10, max_w=15, n_rounds=n_rounds)                \n",
    "            res = []\n",
    "            model_by_k = {}\n",
    "\n",
    "            assert False\n",
    "                \n",
    "                # stop (debugging)\n",
    "                "
   ]
  },
  {
   "cell_type": "code",
   "execution_count": null,
   "id": "aaf54923-b7fb-4db2-a34e-fac6a2bef265",
   "metadata": {},
   "outputs": [],
   "source": []
  }
 ],
 "metadata": {
  "kernelspec": {
   "display_name": "multibind",
   "language": "python",
   "name": "multibind"
  },
  "language_info": {
   "codemirror_mode": {
    "name": "ipython",
    "version": 3
   },
   "file_extension": ".py",
   "mimetype": "text/x-python",
   "name": "python",
   "nbconvert_exporter": "python",
   "pygments_lexer": "ipython3",
   "version": "3.10.4"
  }
 },
 "nbformat": 4,
 "nbformat_minor": 5
}
