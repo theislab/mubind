{
 "cells": [
  {
   "cell_type": "markdown",
   "metadata": {},
   "source": [
    "### NRLB with Pytorch\n",
    "https://www.pnas.org/content/115/16/E3692"
   ]
  },
  {
   "cell_type": "code",
   "execution_count": 1,
   "metadata": {},
   "outputs": [
    {
     "name": "stdout",
     "output_type": "stream",
     "text": [
      "here...\n"
     ]
    }
   ],
   "source": [
    "print('here...')"
   ]
  },
  {
   "cell_type": "code",
   "execution_count": 2,
   "metadata": {},
   "outputs": [
    {
     "data": {
      "text/plain": [
       "True"
      ]
     },
     "execution_count": 2,
     "metadata": {},
     "output_type": "execute_result"
    }
   ],
   "source": [
    "import numpy as np\n",
    "\n",
    "import torch\n",
    "import torch.utils.data as tdata\n",
    "import torch.nn as nn\n",
    "import torch.nn.functional as tfunc\n",
    "import torch.optim as topti\n",
    "\n",
    "torch.cuda.is_available()"
   ]
  },
  {
   "cell_type": "code",
   "execution_count": 3,
   "metadata": {},
   "outputs": [
    {
     "name": "stdout",
     "output_type": "stream",
     "text": [
      "Using device: cuda:0\n"
     ]
    }
   ],
   "source": [
    "\n",
    "# Use a GPU if available, as it should be faster.\n",
    "device = torch.device(\"cuda:0\" if torch.cuda.is_available() else \"cpu\")\n",
    "print(\"Using device: \" + str(device))\n"
   ]
  },
  {
   "cell_type": "code",
   "execution_count": 4,
   "metadata": {},
   "outputs": [],
   "source": [
    "\n",
    "# Class for reading training/testing dataset files.\n",
    "class toyDataset(tdata.Dataset):\n",
    "    def __init__(self, dataFile, labelFile):\n",
    "        # Load data from files.\n",
    "        self.inputs = np.loadtxt(dataFile, dtype = np.float32).reshape(-1, 4, 1000)\n",
    "        self.labels = np.loadtxt(labelFile, dtype = np.float32)\n",
    "\n",
    "        self.length = len(self.labels)\n",
    "\n",
    "    def __getitem__(self, index):\n",
    "        # Return a single input/label pair from the dataset.\n",
    "        inputSample = self.inputs[index]\n",
    "        labelSample = self.labels[index]\n",
    "        sample = {\"input\": inputSample, \"label\": labelSample}\n",
    "\n",
    "        return sample\n",
    "\n",
    "    def __len__(self):\n",
    "\n",
    "        return self.length\n"
   ]
  },
  {
   "cell_type": "code",
   "execution_count": 5,
   "metadata": {},
   "outputs": [],
   "source": [
    "import matplotlib.pyplot as plt\n",
    "from os.path import join\n",
    "from os.path import exists"
   ]
  },
  {
   "cell_type": "markdown",
   "metadata": {},
   "source": [
    "Here we define the functions to generate one hot encoded dna sequences"
   ]
  },
  {
   "cell_type": "code",
   "execution_count": 6,
   "metadata": {},
   "outputs": [],
   "source": [
    "from numpy import array\n",
    "from numpy import argmax\n",
    "from sklearn.preprocessing import LabelEncoder\n",
    "from sklearn.preprocessing import OneHotEncoder\n",
    "import re\n",
    "class hot_dna:\n",
    "    def __init__(self,fasta):\n",
    "   \n",
    "        #check for and grab sequence name\n",
    "        if re.search(\">\",fasta):\n",
    "            name = re.split(\"\\n\",fasta)[0]\n",
    "            sequence = re.split(\"\\n\",fasta)[1]\n",
    "        else:\n",
    "            name = 'unknown_sequence'\n",
    "            sequence = fasta\n",
    "\n",
    "        #get sequence into an array\n",
    "        seq_array = array(list(sequence))\n",
    "\n",
    "        #integer encode the sequence\n",
    "        label_encoder = LabelEncoder()\n",
    "        integer_encoded_seq = label_encoder.fit_transform(seq_array)\n",
    "\n",
    "        #one hot the sequence\n",
    "        onehot_encoder = OneHotEncoder(sparse=False)\n",
    "        #reshape because that's what OneHotEncoder likes\n",
    "        integer_encoded_seq = integer_encoded_seq.reshape(len(integer_encoded_seq), 1)\n",
    "        onehot_encoded_seq = onehot_encoder.fit_transform(integer_encoded_seq)\n",
    "\n",
    "        #add the attributes to self \n",
    "        self.name = name\n",
    "        self.sequence = fasta\n",
    "        self.integer = integer_encoded_seq\n",
    "        self.onehot = onehot_encoded_seq"
   ]
  },
  {
   "cell_type": "markdown",
   "metadata": {},
   "source": [
    "Similarity between DNA sequences"
   ]
  },
  {
   "cell_type": "code",
   "execution_count": 7,
   "metadata": {},
   "outputs": [],
   "source": [
    "from difflib import SequenceMatcher\n",
    "\n",
    "def similar(a, b):\n",
    "    return SequenceMatcher(None, a, b).ratio()\n",
    "\n",
    "import itertools\n",
    "\n",
    "def mismatch(word, letters, num_mismatches):\n",
    "    for locs in itertools.combinations(range(len(word)), num_mismatches):\n",
    "        this_word = [[char] for char in word]\n",
    "        for loc in locs:\n",
    "            orig_char = word[loc]\n",
    "            this_word[loc] = [l for l in letters if l != orig_char]\n",
    "        for poss in itertools.product(*this_word):\n",
    "            yield ''.join(poss)"
   ]
  },
  {
   "cell_type": "markdown",
   "metadata": {},
   "source": [
    "### Motif generation function. Not required."
   ]
  },
  {
   "cell_type": "code",
   "execution_count": 8,
   "metadata": {},
   "outputs": [],
   "source": [
    "\n",
    "# given a motif generate a seq of sequences with this seuquence embedded\n",
    "def get_x_and_y(motif, batch=100):\n",
    "    import random\n",
    "    random.seed(500)\n",
    "\n",
    "    import numpy as np\n",
    "    nseqs = 500\n",
    "    length = 15\n",
    "    fg_seqs = np.array([scr.gen.get_random_sequence(length) + 'ACGT' for k in range(nseqs)])\n",
    "    # bg_seqs = np.array([scr.gen.get_random_sequence(length) for k in range(nseqs)])\n",
    "    # bg_seqs = [scr.gen.randomize_sequence(fg_seqs[i]) + 'ACGT' for i in range(len(fg_seqs))]\n",
    "\n",
    "    options = []\n",
    "    for n_mismatches in range(0, min(len(motif), 5)):\n",
    "        next_options = np.random.choice(list(mismatch(motif, 'ACGT', n_mismatches)), 100)[:100]\n",
    "        print(n_mismatches, len(next_options), next_options[:10])\n",
    "        options += list(next_options)\n",
    "    y = []\n",
    "    for i, opt in zip(range(len(fg_seqs)), options):\n",
    "        p = np.random.choice(range(len(fg_seqs[0]) - 4 - len(opt)))\n",
    "        fg_seqs[i] = fg_seqs[i][:p] + opt + fg_seqs[i][p + len(opt):]\n",
    "        y.append(int(similar(motif, opt) * batch))\n",
    "    y_pos = np.array(y)\n",
    "    fg_seqs = fg_seqs[:len(y_pos)]\n",
    "    print(len(fg_seqs))\n",
    "    return fg_seqs, y_pos"
   ]
  },
  {
   "cell_type": "markdown",
   "metadata": {},
   "source": [
    "### Read HT-SELEX data"
   ]
  },
  {
   "cell_type": "code",
   "execution_count": 9,
   "metadata": {},
   "outputs": [],
   "source": [
    "import pandas as pd"
   ]
  },
  {
   "cell_type": "code",
   "execution_count": 10,
   "metadata": {},
   "outputs": [],
   "source": [
    "# nrlb_data = 'https://www.dropbox.com/s/oib5lq23wck3gsh/GATA3_TGTCGT20NGA_AC_4.tsv.gz'\n",
    "# !wget $nrlb_data -O GATA3_TGTCGT20NGA_AC_4.tsv.gz"
   ]
  },
  {
   "cell_type": "code",
   "execution_count": 11,
   "metadata": {},
   "outputs": [],
   "source": [
    "import gzip\n",
    "def get_seqs(fastq_path, round_key):\n",
    "    fastq = np.array([(s.strip()).decode('utf-8') for s in gzip.open(fastq_path)])\n",
    "    mask = np.array([((i + 3) % 4 == 0) for i in range(len(fastq))])\n",
    "    seqs = fastq[mask]\n",
    "    df = pd.DataFrame(seqs, columns=['seq'])\n",
    "    df = df[~df['seq'].str.contains('N')]\n",
    "    seq_counts = df['seq'].value_counts()\n",
    "    df['counts'] = [seq_counts.loc[s] for s in df['seq']]\n",
    "    df['round'] = round_key\n",
    "    df = df.drop_duplicates('seq').sort_values('counts', ascending=False)\n",
    "    return(df)"
   ]
  },
  {
   "cell_type": "code",
   "execution_count": null,
   "metadata": {},
   "outputs": [],
   "source": []
  },
  {
   "cell_type": "code",
   "execution_count": 12,
   "metadata": {},
   "outputs": [],
   "source": [
    "# download CTCF from motif central\n",
    "# !wget http://pbdemo.x3dna.org/files/example_data/singleTF/countTable.0.CTCF_r3.tsv.gz -O data/countTable.0.CTCF_r3.tsv.gz"
   ]
  },
  {
   "cell_type": "code",
   "execution_count": 13,
   "metadata": {},
   "outputs": [],
   "source": [
    "data = pd.read_csv('data/countTable.0.CTCF_r3.tsv.gz', sep='\\t', header=None) # ['sequence', 'round.0', 'round.1']) #  header=False)\n",
    "data.columns = ['seq', 0, 1]"
   ]
  },
  {
   "cell_type": "code",
   "execution_count": 70,
   "metadata": {},
   "outputs": [
    {
     "data": {
      "text/html": [
       "<div>\n",
       "<style scoped>\n",
       "    .dataframe tbody tr th:only-of-type {\n",
       "        vertical-align: middle;\n",
       "    }\n",
       "\n",
       "    .dataframe tbody tr th {\n",
       "        vertical-align: top;\n",
       "    }\n",
       "\n",
       "    .dataframe thead th {\n",
       "        text-align: right;\n",
       "    }\n",
       "</style>\n",
       "<table border=\"1\" class=\"dataframe\">\n",
       "  <thead>\n",
       "    <tr style=\"text-align: right;\">\n",
       "      <th></th>\n",
       "      <th>seq</th>\n",
       "      <th>0</th>\n",
       "      <th>1</th>\n",
       "    </tr>\n",
       "  </thead>\n",
       "  <tbody>\n",
       "    <tr>\n",
       "      <th>0</th>\n",
       "      <td>AAAAAAAGCCCGGAAATAGGCAACTTGTAG</td>\n",
       "      <td>0</td>\n",
       "      <td>1</td>\n",
       "    </tr>\n",
       "    <tr>\n",
       "      <th>1</th>\n",
       "      <td>AAAAAAAGGATGTTCCTAGCAACTTATAAA</td>\n",
       "      <td>1</td>\n",
       "      <td>0</td>\n",
       "    </tr>\n",
       "    <tr>\n",
       "      <th>2</th>\n",
       "      <td>AAAAAACAACGATAACCAACTGCTGCCGGA</td>\n",
       "      <td>0</td>\n",
       "      <td>1</td>\n",
       "    </tr>\n",
       "    <tr>\n",
       "      <th>3</th>\n",
       "      <td>AAAAAACACATGTATGAGTTTTTGATGGAG</td>\n",
       "      <td>1</td>\n",
       "      <td>0</td>\n",
       "    </tr>\n",
       "    <tr>\n",
       "      <th>4</th>\n",
       "      <td>AAAAAACCCTCCTTGGTGTCGGACGGCTAT</td>\n",
       "      <td>0</td>\n",
       "      <td>1</td>\n",
       "    </tr>\n",
       "    <tr>\n",
       "      <th>...</th>\n",
       "      <td>...</td>\n",
       "      <td>...</td>\n",
       "      <td>...</td>\n",
       "    </tr>\n",
       "    <tr>\n",
       "      <th>120091</th>\n",
       "      <td>TTTTTTTTCTTCATTGTTACAGTAGGTAGC</td>\n",
       "      <td>1</td>\n",
       "      <td>0</td>\n",
       "    </tr>\n",
       "    <tr>\n",
       "      <th>120092</th>\n",
       "      <td>TTTTTTTTGACTGCTTGGCTGGCTCCTGTG</td>\n",
       "      <td>1</td>\n",
       "      <td>0</td>\n",
       "    </tr>\n",
       "    <tr>\n",
       "      <th>120093</th>\n",
       "      <td>TTTTTTTTGGTCGGATTCGCTGTTGTTCAC</td>\n",
       "      <td>0</td>\n",
       "      <td>1</td>\n",
       "    </tr>\n",
       "    <tr>\n",
       "      <th>120094</th>\n",
       "      <td>TTTTTTTTTGAACCGGCCGCTCCTATGATC</td>\n",
       "      <td>1</td>\n",
       "      <td>0</td>\n",
       "    </tr>\n",
       "    <tr>\n",
       "      <th>120095</th>\n",
       "      <td>TTTTTTTTTTTTTTTTCTTTTCTTCATCGG</td>\n",
       "      <td>0</td>\n",
       "      <td>1</td>\n",
       "    </tr>\n",
       "  </tbody>\n",
       "</table>\n",
       "<p>120096 rows × 3 columns</p>\n",
       "</div>"
      ],
      "text/plain": [
       "                                   seq  0  1\n",
       "0       AAAAAAAGCCCGGAAATAGGCAACTTGTAG  0  1\n",
       "1       AAAAAAAGGATGTTCCTAGCAACTTATAAA  1  0\n",
       "2       AAAAAACAACGATAACCAACTGCTGCCGGA  0  1\n",
       "3       AAAAAACACATGTATGAGTTTTTGATGGAG  1  0\n",
       "4       AAAAAACCCTCCTTGGTGTCGGACGGCTAT  0  1\n",
       "...                                ... .. ..\n",
       "120091  TTTTTTTTCTTCATTGTTACAGTAGGTAGC  1  0\n",
       "120092  TTTTTTTTGACTGCTTGGCTGGCTCCTGTG  1  0\n",
       "120093  TTTTTTTTGGTCGGATTCGCTGTTGTTCAC  0  1\n",
       "120094  TTTTTTTTTGAACCGGCCGCTCCTATGATC  1  0\n",
       "120095  TTTTTTTTTTTTTTTTCTTTTCTTCATCGG  0  1\n",
       "\n",
       "[120096 rows x 3 columns]"
      ]
     },
     "execution_count": 70,
     "metadata": {},
     "output_type": "execute_result"
    }
   ],
   "source": [
    "data"
   ]
  },
  {
   "cell_type": "code",
   "execution_count": 14,
   "metadata": {},
   "outputs": [],
   "source": [
    "# # r0 = get_seqs('MAX_R0.fastq.gz', 0)\n",
    "# # r1 = get_seqs('MAX_R1.fastq.gz', 1)\n",
    "# r0 = get_seqs('data/ZeroCycle_ES0_TGTCGT20NGA_0.txt.gz', 0)\n",
    "# r1 = get_seqs('data/GATA3_TGTCGT20NGA_AC_1.fastq.gz', 1)"
   ]
  },
  {
   "cell_type": "code",
   "execution_count": 15,
   "metadata": {},
   "outputs": [],
   "source": [
    "# data']"
   ]
  },
  {
   "cell_type": "code",
   "execution_count": 16,
   "metadata": {},
   "outputs": [],
   "source": [
    "# r1.sort_values('counts')"
   ]
  },
  {
   "cell_type": "code",
   "execution_count": 17,
   "metadata": {},
   "outputs": [],
   "source": [
    "# r0.shape, r1.shape"
   ]
  },
  {
   "cell_type": "code",
   "execution_count": 18,
   "metadata": {},
   "outputs": [],
   "source": [
    "# r0 = r0.head(10000)\n",
    "# r1 = r1.head(10000)\n",
    "# # r1['seq'] = r1['seq'].str[:5] + 'GATA' + r1['seq'].str[9:]"
   ]
  },
  {
   "cell_type": "code",
   "execution_count": 19,
   "metadata": {},
   "outputs": [],
   "source": [
    "r1 = data.head(10000)"
   ]
  },
  {
   "cell_type": "code",
   "execution_count": 20,
   "metadata": {},
   "outputs": [],
   "source": [
    "control = 0\n",
    "if control:\n",
    "    seq_len = 9\n",
    "    r0 = []\n",
    "    for seq in itertools.product('ATCG', repeat=seq_len):\n",
    "        seq = ''.join(seq)\n",
    "        r0.append([seq, 1, 0])\n",
    "    r0 = pd.DataFrame(r0, columns=['seq', 'counts', 'round'])\n",
    "    r0['prob'] = r0['counts'] / sum(r0['counts'])\n",
    "    r0 = r0.sample(1000)\n",
    "\n",
    "    r1 = []\n",
    "    for seq in itertools.product('ATCG', repeat=seq_len):\n",
    "        seq = ''.join(seq)\n",
    "        if np.random.random() > .3:\n",
    "            seq = seq[:3] + 'GATA' + seq[7:]\n",
    "        if np.random.random() > .6:\n",
    "            seq = seq[:3] + 'CATA' + seq[7:]\n",
    "\n",
    "        r1.append([seq, 20 if 'GATA' in seq else 10 if 'CATA' in seq else 5, 0])\n",
    "    r1 = pd.DataFrame(r1, columns=['seq', 'counts', 'round'])\n",
    "    r1['prob'] = r1['counts'] / sum(r1['counts'])\n",
    "    r1 = r1.sample(1000)\n"
   ]
  },
  {
   "cell_type": "code",
   "execution_count": 21,
   "metadata": {},
   "outputs": [],
   "source": [
    "def write_fastq_from_seqs_table(seqs, path):\n",
    "    # write fastq.gz from seqs\n",
    "    seqs = [r['seq'] for ri, r in seqs.iterrows() for i in range(r['counts'])]\n",
    "    writer = gzip.open(path, 'wt')\n",
    "    for s in seqs:\n",
    "        writer.write('@\\n')\n",
    "        writer.write(s + '\\n')\n",
    "        writer.write('+\\n')\n",
    "        writer.write('@\\n')\n",
    "    writer.close()\n"
   ]
  },
  {
   "cell_type": "code",
   "execution_count": 22,
   "metadata": {},
   "outputs": [],
   "source": [
    "# write_fastq_from_seqs_table(r1, 'r1.fastq.gz')\n",
    "# write_fastq_from_seqs_table(r0, 'r0.fastq.gz')"
   ]
  },
  {
   "cell_type": "code",
   "execution_count": 23,
   "metadata": {},
   "outputs": [],
   "source": [
    "# paste a GATA motif\n",
    "# r1['seq'] = np.where(r1['counts'] == 2, r1['seq'].str[:5] + 'GATA' + r1['seq'].str[9:], r1['seq'])\n",
    "# r1['seq'] = np.where(r1['counts'] == 2, 'AAAAAAAAAAAAAAAA', 'GGGGGGGGGGGGGGGG') # r1['seq'])"
   ]
  },
  {
   "cell_type": "code",
   "execution_count": 24,
   "metadata": {},
   "outputs": [
    {
     "data": {
      "text/html": [
       "<div>\n",
       "<style scoped>\n",
       "    .dataframe tbody tr th:only-of-type {\n",
       "        vertical-align: middle;\n",
       "    }\n",
       "\n",
       "    .dataframe tbody tr th {\n",
       "        vertical-align: top;\n",
       "    }\n",
       "\n",
       "    .dataframe thead th {\n",
       "        text-align: right;\n",
       "    }\n",
       "</style>\n",
       "<table border=\"1\" class=\"dataframe\">\n",
       "  <thead>\n",
       "    <tr style=\"text-align: right;\">\n",
       "      <th></th>\n",
       "      <th>seq</th>\n",
       "      <th>0</th>\n",
       "      <th>1</th>\n",
       "    </tr>\n",
       "  </thead>\n",
       "  <tbody>\n",
       "    <tr>\n",
       "      <th>0</th>\n",
       "      <td>AAAAAAAGCCCGGAAATAGGCAACTTGTAG</td>\n",
       "      <td>0</td>\n",
       "      <td>1</td>\n",
       "    </tr>\n",
       "    <tr>\n",
       "      <th>1</th>\n",
       "      <td>AAAAAAAGGATGTTCCTAGCAACTTATAAA</td>\n",
       "      <td>1</td>\n",
       "      <td>0</td>\n",
       "    </tr>\n",
       "    <tr>\n",
       "      <th>2</th>\n",
       "      <td>AAAAAACAACGATAACCAACTGCTGCCGGA</td>\n",
       "      <td>0</td>\n",
       "      <td>1</td>\n",
       "    </tr>\n",
       "    <tr>\n",
       "      <th>3</th>\n",
       "      <td>AAAAAACACATGTATGAGTTTTTGATGGAG</td>\n",
       "      <td>1</td>\n",
       "      <td>0</td>\n",
       "    </tr>\n",
       "    <tr>\n",
       "      <th>4</th>\n",
       "      <td>AAAAAACCCTCCTTGGTGTCGGACGGCTAT</td>\n",
       "      <td>0</td>\n",
       "      <td>1</td>\n",
       "    </tr>\n",
       "    <tr>\n",
       "      <th>...</th>\n",
       "      <td>...</td>\n",
       "      <td>...</td>\n",
       "      <td>...</td>\n",
       "    </tr>\n",
       "    <tr>\n",
       "      <th>120091</th>\n",
       "      <td>TTTTTTTTCTTCATTGTTACAGTAGGTAGC</td>\n",
       "      <td>1</td>\n",
       "      <td>0</td>\n",
       "    </tr>\n",
       "    <tr>\n",
       "      <th>120092</th>\n",
       "      <td>TTTTTTTTGACTGCTTGGCTGGCTCCTGTG</td>\n",
       "      <td>1</td>\n",
       "      <td>0</td>\n",
       "    </tr>\n",
       "    <tr>\n",
       "      <th>120093</th>\n",
       "      <td>TTTTTTTTGGTCGGATTCGCTGTTGTTCAC</td>\n",
       "      <td>0</td>\n",
       "      <td>1</td>\n",
       "    </tr>\n",
       "    <tr>\n",
       "      <th>120094</th>\n",
       "      <td>TTTTTTTTTGAACCGGCCGCTCCTATGATC</td>\n",
       "      <td>1</td>\n",
       "      <td>0</td>\n",
       "    </tr>\n",
       "    <tr>\n",
       "      <th>120095</th>\n",
       "      <td>TTTTTTTTTTTTTTTTCTTTTCTTCATCGG</td>\n",
       "      <td>0</td>\n",
       "      <td>1</td>\n",
       "    </tr>\n",
       "  </tbody>\n",
       "</table>\n",
       "<p>120096 rows × 3 columns</p>\n",
       "</div>"
      ],
      "text/plain": [
       "                                   seq  0  1\n",
       "0       AAAAAAAGCCCGGAAATAGGCAACTTGTAG  0  1\n",
       "1       AAAAAAAGGATGTTCCTAGCAACTTATAAA  1  0\n",
       "2       AAAAAACAACGATAACCAACTGCTGCCGGA  0  1\n",
       "3       AAAAAACACATGTATGAGTTTTTGATGGAG  1  0\n",
       "4       AAAAAACCCTCCTTGGTGTCGGACGGCTAT  0  1\n",
       "...                                ... .. ..\n",
       "120091  TTTTTTTTCTTCATTGTTACAGTAGGTAGC  1  0\n",
       "120092  TTTTTTTTGACTGCTTGGCTGGCTCCTGTG  1  0\n",
       "120093  TTTTTTTTGGTCGGATTCGCTGTTGTTCAC  0  1\n",
       "120094  TTTTTTTTTGAACCGGCCGCTCCTATGATC  1  0\n",
       "120095  TTTTTTTTTTTTTTTTCTTTTCTTCATCGG  0  1\n",
       "\n",
       "[120096 rows x 3 columns]"
      ]
     },
     "execution_count": 24,
     "metadata": {},
     "output_type": "execute_result"
    }
   ],
   "source": [
    "data"
   ]
  },
  {
   "cell_type": "code",
   "execution_count": 25,
   "metadata": {},
   "outputs": [
    {
     "name": "stdout",
     "output_type": "stream",
     "text": [
      "selection round 0\n",
      "generating a k-mers table for k=13\n",
      "selection round 1\n",
      "generating a k-mers table for k=13\n"
     ]
    }
   ],
   "source": [
    "kmers_table = {} # round # k\n",
    "kstart = 13\n",
    "kstop = kstart + 1\n",
    "\n",
    "pseudocount = 1\n",
    "for selection_round, df in zip([0, 1], [r1, r1]):\n",
    "    kmer_table_by_k = {}\n",
    "    for k in range(kstart, kstop): # this is also the kernel size\n",
    "        print('selection round', selection_round)\n",
    "        print('generating a k-mers table for k=%i' % k)\n",
    "        unique_kmers = [[r['seq'][si: si + k], r[selection_round] + 1]  for ri, r in df.iterrows() for si in range(len(r['seq']) - k + 1)]\n",
    "        # kmer_table = pd.Series(unique_kmers).value_counts()\n",
    "        # kmer_prob = kmer_table / kmer_table.sum()\n",
    "        kmer_table = pd.DataFrame(unique_kmers, columns=['kmer', 'counts'])\n",
    "        kmer_table = kmer_table.groupby('kmer').sum().sort_values('counts', ascending=False)\n",
    "        kmer_table['prob'] = kmer_table['counts'] / kmer_table['counts'].sum()\n",
    "        kmer_table['round'] = selection_round\n",
    "        kmer_table_by_k[k] = kmer_table\n",
    "    kmers_table[selection_round] = kmer_table_by_k"
   ]
  },
  {
   "cell_type": "code",
   "execution_count": 27,
   "metadata": {},
   "outputs": [
    {
     "data": {
      "text/html": [
       "<div>\n",
       "<style scoped>\n",
       "    .dataframe tbody tr th:only-of-type {\n",
       "        vertical-align: middle;\n",
       "    }\n",
       "\n",
       "    .dataframe tbody tr th {\n",
       "        vertical-align: top;\n",
       "    }\n",
       "\n",
       "    .dataframe thead th {\n",
       "        text-align: right;\n",
       "    }\n",
       "</style>\n",
       "<table border=\"1\" class=\"dataframe\">\n",
       "  <thead>\n",
       "    <tr style=\"text-align: right;\">\n",
       "      <th></th>\n",
       "      <th>counts</th>\n",
       "      <th>prob</th>\n",
       "      <th>round</th>\n",
       "    </tr>\n",
       "    <tr>\n",
       "      <th>kmer</th>\n",
       "      <th></th>\n",
       "      <th></th>\n",
       "      <th></th>\n",
       "    </tr>\n",
       "  </thead>\n",
       "  <tbody>\n",
       "    <tr>\n",
       "      <th>GCTAGGGGGCAGT</th>\n",
       "      <td>7</td>\n",
       "      <td>0.000027</td>\n",
       "      <td>1</td>\n",
       "    </tr>\n",
       "    <tr>\n",
       "      <th>CGCTAGGGGGCAG</th>\n",
       "      <td>7</td>\n",
       "      <td>0.000027</td>\n",
       "      <td>1</td>\n",
       "    </tr>\n",
       "    <tr>\n",
       "      <th>CCGAAAGGGGGCG</th>\n",
       "      <td>6</td>\n",
       "      <td>0.000023</td>\n",
       "      <td>1</td>\n",
       "    </tr>\n",
       "    <tr>\n",
       "      <th>CCTGGTGGTAATA</th>\n",
       "      <td>5</td>\n",
       "      <td>0.000019</td>\n",
       "      <td>1</td>\n",
       "    </tr>\n",
       "    <tr>\n",
       "      <th>ACGACTGTAGGGG</th>\n",
       "      <td>5</td>\n",
       "      <td>0.000019</td>\n",
       "      <td>1</td>\n",
       "    </tr>\n",
       "    <tr>\n",
       "      <th>...</th>\n",
       "      <td>...</td>\n",
       "      <td>...</td>\n",
       "      <td>...</td>\n",
       "    </tr>\n",
       "    <tr>\n",
       "      <th>AAGGGTACAGTAT</th>\n",
       "      <td>1</td>\n",
       "      <td>0.000003</td>\n",
       "      <td>0</td>\n",
       "    </tr>\n",
       "    <tr>\n",
       "      <th>AAGGGTACGGCGG</th>\n",
       "      <td>1</td>\n",
       "      <td>0.000003</td>\n",
       "      <td>0</td>\n",
       "    </tr>\n",
       "    <tr>\n",
       "      <th>AAGGGTACGTATA</th>\n",
       "      <td>1</td>\n",
       "      <td>0.000003</td>\n",
       "      <td>0</td>\n",
       "    </tr>\n",
       "    <tr>\n",
       "      <th>TGGTCGATATAAA</th>\n",
       "      <td>1</td>\n",
       "      <td>0.000003</td>\n",
       "      <td>0</td>\n",
       "    </tr>\n",
       "    <tr>\n",
       "      <th>GGTAGCATTTAAG</th>\n",
       "      <td>1</td>\n",
       "      <td>0.000003</td>\n",
       "      <td>0</td>\n",
       "    </tr>\n",
       "  </tbody>\n",
       "</table>\n",
       "<p>358844 rows × 3 columns</p>\n",
       "</div>"
      ],
      "text/plain": [
       "               counts      prob  round\n",
       "kmer                                  \n",
       "GCTAGGGGGCAGT       7  0.000027      1\n",
       "CGCTAGGGGGCAG       7  0.000027      1\n",
       "CCGAAAGGGGGCG       6  0.000023      1\n",
       "CCTGGTGGTAATA       5  0.000019      1\n",
       "ACGACTGTAGGGG       5  0.000019      1\n",
       "...               ...       ...    ...\n",
       "AAGGGTACAGTAT       1  0.000003      0\n",
       "AAGGGTACGGCGG       1  0.000003      0\n",
       "AAGGGTACGTATA       1  0.000003      0\n",
       "TGGTCGATATAAA       1  0.000003      0\n",
       "GGTAGCATTTAAG       1  0.000003      0\n",
       "\n",
       "[358844 rows x 3 columns]"
      ]
     },
     "execution_count": 27,
     "metadata": {},
     "output_type": "execute_result"
    }
   ],
   "source": [
    "ksel = kstart\n",
    "kmers = pd.concat([kmers_table[sel_round][ksel] for sel_round in kmers_table])\n",
    "kmers\n",
    "kmers.sort_values('prob', ascending=False)"
   ]
  },
  {
   "cell_type": "code",
   "execution_count": 29,
   "metadata": {},
   "outputs": [
    {
     "data": {
      "text/html": [
       "<div>\n",
       "<style scoped>\n",
       "    .dataframe tbody tr th:only-of-type {\n",
       "        vertical-align: middle;\n",
       "    }\n",
       "\n",
       "    .dataframe tbody tr th {\n",
       "        vertical-align: top;\n",
       "    }\n",
       "\n",
       "    .dataframe thead th {\n",
       "        text-align: right;\n",
       "    }\n",
       "</style>\n",
       "<table border=\"1\" class=\"dataframe\">\n",
       "  <thead>\n",
       "    <tr style=\"text-align: right;\">\n",
       "      <th></th>\n",
       "      <th>seq</th>\n",
       "      <th>0</th>\n",
       "      <th>1</th>\n",
       "    </tr>\n",
       "  </thead>\n",
       "  <tbody>\n",
       "    <tr>\n",
       "      <th>9999</th>\n",
       "      <td>ACGGAAATTGGAACGTTGCAGTGGGGGCTG</td>\n",
       "      <td>1</td>\n",
       "      <td>0</td>\n",
       "    </tr>\n",
       "    <tr>\n",
       "      <th>4604</th>\n",
       "      <td>AAGTGATGCAGTCGTAGGGATTATACACAG</td>\n",
       "      <td>1</td>\n",
       "      <td>0</td>\n",
       "    </tr>\n",
       "    <tr>\n",
       "      <th>4616</th>\n",
       "      <td>AAGTGCAGAGCACAGCCTTTAATCTATTTG</td>\n",
       "      <td>1</td>\n",
       "      <td>0</td>\n",
       "    </tr>\n",
       "    <tr>\n",
       "      <th>8154</th>\n",
       "      <td>ACATGTTAGCTTCCTTCGTAGAGTGTAAAT</td>\n",
       "      <td>1</td>\n",
       "      <td>0</td>\n",
       "    </tr>\n",
       "    <tr>\n",
       "      <th>8155</th>\n",
       "      <td>ACATGTTCCCGAACATTTCACCCGCCTTAG</td>\n",
       "      <td>1</td>\n",
       "      <td>0</td>\n",
       "    </tr>\n",
       "    <tr>\n",
       "      <th>...</th>\n",
       "      <td>...</td>\n",
       "      <td>...</td>\n",
       "      <td>...</td>\n",
       "    </tr>\n",
       "    <tr>\n",
       "      <th>4713</th>\n",
       "      <td>AAGTGTCCGAACGGTAACTATTTAGCGGTT</td>\n",
       "      <td>0</td>\n",
       "      <td>1</td>\n",
       "    </tr>\n",
       "    <tr>\n",
       "      <th>4712</th>\n",
       "      <td>AAGTGTCCCGTTTCTGGAGGGGAACTTTGT</td>\n",
       "      <td>0</td>\n",
       "      <td>1</td>\n",
       "    </tr>\n",
       "    <tr>\n",
       "      <th>4708</th>\n",
       "      <td>AAGTGTCAGAATTTAATGGTTCCTCTAGGG</td>\n",
       "      <td>0</td>\n",
       "      <td>1</td>\n",
       "    </tr>\n",
       "    <tr>\n",
       "      <th>4704</th>\n",
       "      <td>AAGTGTAGAGTAGCGGTGACTTAGGGGAGG</td>\n",
       "      <td>0</td>\n",
       "      <td>1</td>\n",
       "    </tr>\n",
       "    <tr>\n",
       "      <th>5000</th>\n",
       "      <td>AATAAGTGCGTATACGTCAGGGGCGAACTG</td>\n",
       "      <td>0</td>\n",
       "      <td>1</td>\n",
       "    </tr>\n",
       "  </tbody>\n",
       "</table>\n",
       "<p>10000 rows × 3 columns</p>\n",
       "</div>"
      ],
      "text/plain": [
       "                                 seq  0  1\n",
       "9999  ACGGAAATTGGAACGTTGCAGTGGGGGCTG  1  0\n",
       "4604  AAGTGATGCAGTCGTAGGGATTATACACAG  1  0\n",
       "4616  AAGTGCAGAGCACAGCCTTTAATCTATTTG  1  0\n",
       "8154  ACATGTTAGCTTCCTTCGTAGAGTGTAAAT  1  0\n",
       "8155  ACATGTTCCCGAACATTTCACCCGCCTTAG  1  0\n",
       "...                              ... .. ..\n",
       "4713  AAGTGTCCGAACGGTAACTATTTAGCGGTT  0  1\n",
       "4712  AAGTGTCCCGTTTCTGGAGGGGAACTTTGT  0  1\n",
       "4708  AAGTGTCAGAATTTAATGGTTCCTCTAGGG  0  1\n",
       "4704  AAGTGTAGAGTAGCGGTGACTTAGGGGAGG  0  1\n",
       "5000  AATAAGTGCGTATACGTCAGGGGCGAACTG  0  1\n",
       "\n",
       "[10000 rows x 3 columns]"
      ]
     },
     "execution_count": 29,
     "metadata": {},
     "output_type": "execute_result"
    }
   ],
   "source": [
    "r1.sort_values(0, ascending=False)"
   ]
  },
  {
   "cell_type": "code",
   "execution_count": 30,
   "metadata": {},
   "outputs": [
    {
     "data": {
      "text/plain": [
       "Text(0.5, 6.79999999999999, 'counts [log]')"
      ]
     },
     "execution_count": 30,
     "metadata": {},
     "output_type": "execute_result"
    },
    {
     "data": {
      "image/png": "[encoded data removed]",
      "text/plain": [
       "<Figure size 360x360 with 1 Axes>"
      ]
     },
     "metadata": {
      "needs_background": "light"
     },
     "output_type": "display_data"
    }
   ],
   "source": [
    "import seaborn as sns\n",
    "sns.displot(np.log(r1[0] + 1))\n",
    "plt.xlabel('counts [log]')"
   ]
  },
  {
   "cell_type": "code",
   "execution_count": 31,
   "metadata": {},
   "outputs": [
    {
     "data": {
      "text/plain": [
       "1    6033\n",
       "0    3967\n",
       "Name: 0, dtype: int64"
      ]
     },
     "execution_count": 31,
     "metadata": {},
     "output_type": "execute_result"
    }
   ],
   "source": [
    "r1[0].value_counts()"
   ]
  },
  {
   "cell_type": "code",
   "execution_count": 32,
   "metadata": {},
   "outputs": [],
   "source": [
    "# calc_Z(kmers_r0, 4)"
   ]
  },
  {
   "cell_type": "code",
   "execution_count": 33,
   "metadata": {},
   "outputs": [],
   "source": [
    "def get_wi(seq, kmers_r0, k):\n",
    "    wi = 0\n",
    "    for si in range(0, len(seq) - k + 1):\n",
    "        kmer = seq[si: si + k]\n",
    "        wi += sum([kmers_r0.loc[kmer]['prob']]) if kmer in kmers_r0.index else 0\n",
    "    return wi"
   ]
  },
  {
   "cell_type": "code",
   "execution_count": 34,
   "metadata": {},
   "outputs": [
    {
     "name": "stdout",
     "output_type": "stream",
     "text": [
      "preparing p_i0 for r0\n",
      "0 out of 10000\n",
      "1000 out of 10000\n",
      "2000 out of 10000\n",
      "3000 out of 10000\n",
      "4000 out of 10000\n",
      "5000 out of 10000\n",
      "6000 out of 10000\n",
      "7000 out of 10000\n",
      "8000 out of 10000\n",
      "9000 out of 10000\n"
     ]
    },
    {
     "name": "stderr",
     "output_type": "stream",
     "text": [
      "/home/icb/ignacio.ibarra/miniconda3/envs/mypython3/lib/python3.7/site-packages/ipykernel_launcher.py:15: SettingWithCopyWarning: \n",
      "A value is trying to be set on a copy of a slice from a DataFrame.\n",
      "Try using .loc[row_indexer,col_indexer] = value instead\n",
      "\n",
      "See the caveats in the documentation: https://pandas.pydata.org/pandas-docs/stable/user_guide/indexing.html#returning-a-view-versus-a-copy\n",
      "  from ipykernel import kernelapp as app\n"
     ]
    },
    {
     "name": "stdout",
     "output_type": "stream",
     "text": [
      "preparing p_i0 for r1\n",
      "0 out of 10000\n",
      "1000 out of 10000\n",
      "2000 out of 10000\n",
      "3000 out of 10000\n",
      "4000 out of 10000\n",
      "5000 out of 10000\n",
      "6000 out of 10000\n",
      "7000 out of 10000\n",
      "8000 out of 10000\n",
      "9000 out of 10000\n"
     ]
    },
    {
     "name": "stderr",
     "output_type": "stream",
     "text": [
      "/home/icb/ignacio.ibarra/miniconda3/envs/mypython3/lib/python3.7/site-packages/ipykernel_launcher.py:30: SettingWithCopyWarning: \n",
      "A value is trying to be set on a copy of a slice from a DataFrame.\n",
      "Try using .loc[row_indexer,col_indexer] = value instead\n",
      "\n",
      "See the caveats in the documentation: https://pandas.pydata.org/pandas-docs/stable/user_guide/indexing.html#returning-a-view-versus-a-copy\n"
     ]
    }
   ],
   "source": [
    "kmers_r1 = kmers_table[1][ksel]\n",
    "kmers_r0 = kmers_table[0][ksel]\n",
    "\n",
    "print('preparing p_i0 for r0')\n",
    "w = []\n",
    "for ri, r in r1.iterrows():\n",
    "    if len(w) % 1000 == 0:\n",
    "        print(len(w), 'out of', r1.shape[0])\n",
    "    seq = r['seq']\n",
    "    # print(seq)\n",
    "    wi = get_wi(seq, kmers_r1, ksel)\n",
    "    # print(seq, wi)\n",
    "    w.append(wi)\n",
    "    # break    \n",
    "r1['p_i0'] = w\n",
    "\n",
    "\n",
    "print('preparing p_i0 for r1')\n",
    "# do the same for r1\n",
    "w = []\n",
    "for ri, r in r1.iterrows():\n",
    "    if len(w) % 1000 == 0:\n",
    "        print(len(w), 'out of', r1.shape[0])\n",
    "    seq = r['seq']\n",
    "    # print(seq)\n",
    "    wi = get_wi(seq, kmers_r0, ksel)\n",
    "    # print(seq, wi)\n",
    "    w.append(wi)\n",
    "    # break    \n",
    "r1['p_i1'] = w\n",
    "\n"
   ]
  },
  {
   "cell_type": "code",
   "execution_count": 35,
   "metadata": {},
   "outputs": [],
   "source": [
    "# Z0 is a constant so arguably we do not need it\n",
    "def calc_Z(kmers_table, seq_len):\n",
    "    for seq in itertools.product('ATCG', repeat=seq_len):\n",
    "        print(''.join(seq))\n",
    "    return"
   ]
  },
  {
   "cell_type": "code",
   "execution_count": 36,
   "metadata": {},
   "outputs": [],
   "source": [
    "### define models\n",
    "\n",
    "# Class for creating the neural network.\n",
    "class nrlb(nn.Module):\n",
    "    def __init__(self, n_bp, kernel_sizes=[10], init_scale=1e-3, initial_conv1d=None,\n",
    "                random_init=0):\n",
    "        super(nrlb, self).__init__()\n",
    "\n",
    "        # Create and initialise weights and biases for the layers.\n",
    "        self.conv1d_set = nn.ModuleList()    \n",
    "        for k in kernel_sizes:\n",
    "            conv1d = nn.Conv1d(4, 1, k)\n",
    "            if initial_conv1d is not None:\n",
    "                print(conv1d.weight.data)\n",
    "                conv1d.weight.data = initial_conv1d\n",
    "                print(conv1d.weight.data)\n",
    "            else:\n",
    "                if not random_init:\n",
    "                    print('zetting weights to zero')\n",
    "                    conv1d.weight.data.fill_(0.0)\n",
    "            self.conv1d_set.append(conv1d)\n",
    "        # self.scale_set = [nn.Parameter(torch.FloatTensor([init_scale])) for k in kernel_sizes]\n",
    "  \n",
    "        # self.batchnorm = torch.nn.BatchNorm1d(1)\n",
    "\n",
    "        # self.softmax_out = nn.Softmax(1)\n",
    "        self.linear1 = nn.Linear(1, 1)\n",
    "#         self.linear2 = nn.Linear(1, 1)\n",
    "#         self.linear3 = nn.Linear(1, 1)\n",
    "#         self.linear4 = nn.Linear(1, 1)\n",
    "#         self.linear5 = nn.Linear(1, 1)\n",
    "\n",
    "        # self.fc2 = nn.Linear(n_bp - kernel_size + 1, 1)\n",
    "\n",
    "    def forward(self, x1_fwd, x1_rev, x2_fwd, x2_rev):\n",
    "        # Create the forward pass through the network.\n",
    "        \n",
    "        res = None # np.zeros(x1.shape[0])\n",
    "        for i, conv1d in enumerate(self.conv1d_set):\n",
    "            \n",
    "            out1 = conv1d(x1_fwd)\n",
    "            out2 = conv1d(x1_rev)\n",
    "\n",
    "            out1 = out1.squeeze()\n",
    "            out2 = out2.squeeze()\n",
    "            \n",
    "            out1 = out1 * x2_fwd\n",
    "            out2 = out2 * x2_rev\n",
    "\n",
    "            # print(out1.shape)\n",
    "            # print(sum(out))\n",
    "            out = torch.sum(out1, axis=1) + torch.sum(out2, axis=1)\n",
    "            \n",
    "            # out = out * self.scale_set[i]\n",
    "\n",
    "            if res is None:\n",
    "                res = out\n",
    "            else:\n",
    "                res += out\n",
    "\n",
    "        # print(res.unsqueeze(-1))\n",
    "        # print(res.shape)\n",
    "        # res = self.softmax_out(res.unsqueeze(-1))\n",
    "\n",
    "        # res = torch.log(res + 1e-15)\n",
    "        # res = self.batchnorm(res.unsqueeze(-1))\n",
    "\n",
    "        res = self.linear1(res.unsqueeze(-1))\n",
    "        # res = self.linear2(res)\n",
    "        # res = self.linear3(res)\n",
    "        # res = self.linear4(res)\n",
    "        # res = self.linear5(res)\n",
    "\n",
    "        # print(res.shape)\n",
    "\n",
    "        return res\n"
   ]
  },
  {
   "cell_type": "code",
   "execution_count": 37,
   "metadata": {},
   "outputs": [
    {
     "data": {
      "text/plain": [
       "1    4310\n",
       "0    6033\n",
       "dtype: int64"
      ]
     },
     "execution_count": 37,
     "metadata": {},
     "output_type": "execute_result"
    }
   ],
   "source": [
    "r1[[1, 0]].sum()"
   ]
  },
  {
   "cell_type": "code",
   "execution_count": 38,
   "metadata": {},
   "outputs": [],
   "source": [
    "# ## x_test = torch.rand(1).to(device='cuda')\n",
    "# x_test = torch.rand([5, 4, 20]).to(device='cuda')\n",
    "# # print(x_test)\n",
    "# out_test = torch.sum(model.conv1d_set[0](x_test), axis=2)\n",
    "# # print(model.softmax_out(out_test))\n",
    "# # print(model.linear_out(out_test))\n",
    "\n",
    "# model.linear3(out_test)"
   ]
  },
  {
   "cell_type": "code",
   "execution_count": 39,
   "metadata": {},
   "outputs": [],
   "source": [
    "# # r1_sel['probe.enrichment'] = r1_sel['p_i1'] / r1_sel['p_i0']\n",
    "# # r1_sel = r1_sel.sort_values('probe.enrichment', ascending=False)\n",
    "# r1_sel[r1_sel['seq'].str.contains('GATA') | r1_sel['seq'].str.contains('TATC')]"
   ]
  },
  {
   "cell_type": "code",
   "execution_count": 40,
   "metadata": {},
   "outputs": [
    {
     "name": "stdout",
     "output_type": "stream",
     "text": [
      "\n",
      "######\n",
      "Query 13\n",
      "preparing data...\n",
      "(10000, 5)\n"
     ]
    },
    {
     "name": "stderr",
     "output_type": "stream",
     "text": [
      "/home/icb/ignacio.ibarra/miniconda3/envs/mypython3/lib/python3.7/site-packages/ipykernel_launcher.py:5: SettingWithCopyWarning: \n",
      "A value is trying to be set on a copy of a slice from a DataFrame.\n",
      "Try using .loc[row_indexer,col_indexer] = value instead\n",
      "\n",
      "See the caveats in the documentation: https://pandas.pydata.org/pandas-docs/stable/user_guide/indexing.html#returning-a-view-versus-a-copy\n",
      "  \"\"\"\n"
     ]
    }
   ],
   "source": [
    "print('\\n######\\nQuery %i' % k)\n",
    "print('preparing data...')\n",
    "x = np.array(r1['seq'])\n",
    "\n",
    "r1['p_i1'] = r1[1] / sum(r1[1])\n",
    "# plt.scatter(r1['p_i0'], r1['p_i1'])\n",
    "\n",
    "y = np.array(r1['p_i1'], dtype=np.float32)\n",
    "\n",
    "\n",
    "print(r1.shape)"
   ]
  },
  {
   "cell_type": "code",
   "execution_count": 41,
   "metadata": {},
   "outputs": [
    {
     "data": {
      "text/plain": [
       "(10000, 6)"
      ]
     },
     "execution_count": 41,
     "metadata": {},
     "output_type": "execute_result"
    }
   ],
   "source": [
    "r1 = r1.sort_values(1, ascending=False)\n",
    "r1['ratio_1_over_0'] = np.log((r1['p_i1'] + 1) / (r1['p_i0'] + 1))\n",
    "r1.shape"
   ]
  },
  {
   "cell_type": "code",
   "execution_count": 42,
   "metadata": {},
   "outputs": [
    {
     "data": {
      "text/html": [
       "<div>\n",
       "<style scoped>\n",
       "    .dataframe tbody tr th:only-of-type {\n",
       "        vertical-align: middle;\n",
       "    }\n",
       "\n",
       "    .dataframe tbody tr th {\n",
       "        vertical-align: top;\n",
       "    }\n",
       "\n",
       "    .dataframe thead th {\n",
       "        text-align: right;\n",
       "    }\n",
       "</style>\n",
       "<table border=\"1\" class=\"dataframe\">\n",
       "  <thead>\n",
       "    <tr style=\"text-align: right;\">\n",
       "      <th></th>\n",
       "      <th>seq</th>\n",
       "      <th>0</th>\n",
       "      <th>1</th>\n",
       "      <th>p_i0</th>\n",
       "      <th>p_i1</th>\n",
       "      <th>ratio_1_over_0</th>\n",
       "    </tr>\n",
       "  </thead>\n",
       "  <tbody>\n",
       "    <tr>\n",
       "      <th>2437</th>\n",
       "      <td>AACGTAGATGGCTAGTTAGCTCCGATGAGG</td>\n",
       "      <td>1</td>\n",
       "      <td>0</td>\n",
       "      <td>0.000101</td>\n",
       "      <td>0.000000</td>\n",
       "      <td>-0.000101</td>\n",
       "    </tr>\n",
       "    <tr>\n",
       "      <th>2438</th>\n",
       "      <td>AACGTAGATTGCTAGTTAGCTCCGATGAGG</td>\n",
       "      <td>1</td>\n",
       "      <td>0</td>\n",
       "      <td>0.000101</td>\n",
       "      <td>0.000000</td>\n",
       "      <td>-0.000101</td>\n",
       "    </tr>\n",
       "    <tr>\n",
       "      <th>1283</th>\n",
       "      <td>AAATATGGCGCGGCCGTCTCGCCCACCTTC</td>\n",
       "      <td>1</td>\n",
       "      <td>0</td>\n",
       "      <td>0.000097</td>\n",
       "      <td>0.000000</td>\n",
       "      <td>-0.000097</td>\n",
       "    </tr>\n",
       "    <tr>\n",
       "      <th>1282</th>\n",
       "      <td>AAATATGGCGCGGCCGTCTAGCCCACCTTC</td>\n",
       "      <td>1</td>\n",
       "      <td>0</td>\n",
       "      <td>0.000097</td>\n",
       "      <td>0.000000</td>\n",
       "      <td>-0.000097</td>\n",
       "    </tr>\n",
       "    <tr>\n",
       "      <th>2775</th>\n",
       "      <td>AACTGTATAAGGCAAAGGCTGTTGTTAGGC</td>\n",
       "      <td>1</td>\n",
       "      <td>0</td>\n",
       "      <td>0.000093</td>\n",
       "      <td>0.000000</td>\n",
       "      <td>-0.000093</td>\n",
       "    </tr>\n",
       "    <tr>\n",
       "      <th>...</th>\n",
       "      <td>...</td>\n",
       "      <td>...</td>\n",
       "      <td>...</td>\n",
       "      <td>...</td>\n",
       "      <td>...</td>\n",
       "      <td>...</td>\n",
       "    </tr>\n",
       "    <tr>\n",
       "      <th>9282</th>\n",
       "      <td>ACCTGTCAGTTTTCGCCACAAAGATATTCG</td>\n",
       "      <td>0</td>\n",
       "      <td>3</td>\n",
       "      <td>0.000280</td>\n",
       "      <td>0.000696</td>\n",
       "      <td>0.000416</td>\n",
       "    </tr>\n",
       "    <tr>\n",
       "      <th>7229</th>\n",
       "      <td>ACAATCCAAACTGTCCGGTCGCCAATTCGC</td>\n",
       "      <td>0</td>\n",
       "      <td>3</td>\n",
       "      <td>0.000280</td>\n",
       "      <td>0.000696</td>\n",
       "      <td>0.000416</td>\n",
       "    </tr>\n",
       "    <tr>\n",
       "      <th>9756</th>\n",
       "      <td>ACGCCACGGGTAGTCGCTAGAGGGGATTTA</td>\n",
       "      <td>0</td>\n",
       "      <td>3</td>\n",
       "      <td>0.000280</td>\n",
       "      <td>0.000696</td>\n",
       "      <td>0.000416</td>\n",
       "    </tr>\n",
       "    <tr>\n",
       "      <th>804</th>\n",
       "      <td>AAAGAGTGGCACTTCGACAGTAACAGCTAG</td>\n",
       "      <td>0</td>\n",
       "      <td>3</td>\n",
       "      <td>0.000280</td>\n",
       "      <td>0.000696</td>\n",
       "      <td>0.000416</td>\n",
       "    </tr>\n",
       "    <tr>\n",
       "      <th>1922</th>\n",
       "      <td>AACATTCGTGCTCGGTCCAGAGTTCCAGCA</td>\n",
       "      <td>0</td>\n",
       "      <td>4</td>\n",
       "      <td>0.000349</td>\n",
       "      <td>0.000928</td>\n",
       "      <td>0.000578</td>\n",
       "    </tr>\n",
       "  </tbody>\n",
       "</table>\n",
       "<p>10000 rows × 6 columns</p>\n",
       "</div>"
      ],
      "text/plain": [
       "                                 seq  0  1      p_i0      p_i1  ratio_1_over_0\n",
       "2437  AACGTAGATGGCTAGTTAGCTCCGATGAGG  1  0  0.000101  0.000000       -0.000101\n",
       "2438  AACGTAGATTGCTAGTTAGCTCCGATGAGG  1  0  0.000101  0.000000       -0.000101\n",
       "1283  AAATATGGCGCGGCCGTCTCGCCCACCTTC  1  0  0.000097  0.000000       -0.000097\n",
       "1282  AAATATGGCGCGGCCGTCTAGCCCACCTTC  1  0  0.000097  0.000000       -0.000097\n",
       "2775  AACTGTATAAGGCAAAGGCTGTTGTTAGGC  1  0  0.000093  0.000000       -0.000093\n",
       "...                              ... .. ..       ...       ...             ...\n",
       "9282  ACCTGTCAGTTTTCGCCACAAAGATATTCG  0  3  0.000280  0.000696        0.000416\n",
       "7229  ACAATCCAAACTGTCCGGTCGCCAATTCGC  0  3  0.000280  0.000696        0.000416\n",
       "9756  ACGCCACGGGTAGTCGCTAGAGGGGATTTA  0  3  0.000280  0.000696        0.000416\n",
       "804   AAAGAGTGGCACTTCGACAGTAACAGCTAG  0  3  0.000280  0.000696        0.000416\n",
       "1922  AACATTCGTGCTCGGTCCAGAGTTCCAGCA  0  4  0.000349  0.000928        0.000578\n",
       "\n",
       "[10000 rows x 6 columns]"
      ]
     },
     "execution_count": 42,
     "metadata": {},
     "output_type": "execute_result"
    }
   ],
   "source": [
    "r1.sort_values('ratio_1_over_0')"
   ]
  },
  {
   "cell_type": "code",
   "execution_count": 43,
   "metadata": {},
   "outputs": [
    {
     "data": {
      "text/plain": [
       "(array([6.033e+03, 1.800e+01, 3.627e+03, 0.000e+00, 4.000e+00, 2.980e+02,\n",
       "        0.000e+00, 1.900e+01, 0.000e+00, 1.000e+00]),\n",
       " array([-1.00934420e-04, -3.30110909e-05,  3.49122380e-05,  1.02835567e-04,\n",
       "         1.70758896e-04,  2.38682225e-04,  3.06605554e-04,  3.74528883e-04,\n",
       "         4.42452212e-04,  5.10375541e-04,  5.78298870e-04]),\n",
       " <BarContainer object of 10 artists>)"
      ]
     },
     "execution_count": 43,
     "metadata": {},
     "output_type": "execute_result"
    },
    {
     "data": {
      "image/png": "[encoded data removed]",
      "text/plain": [
       "<Figure size 432x288 with 1 Axes>"
      ]
     },
     "metadata": {
      "needs_background": "light"
     },
     "output_type": "display_data"
    }
   ],
   "source": [
    "plt.hist(r1['ratio_1_over_0'])"
   ]
  },
  {
   "cell_type": "code",
   "execution_count": 44,
   "metadata": {},
   "outputs": [],
   "source": [
    "y = np.array(r1['ratio_1_over_0'], dtype=np.float32)\n",
    "# y = np.array(r1_sel['probe.enrichment'], dtype=np.float32)\n",
    "# y = np.array(r1['counts'], dtype=np.float32)\n",
    "# r1['ratio_1_over_0']"
   ]
  },
  {
   "cell_type": "code",
   "execution_count": 45,
   "metadata": {},
   "outputs": [
    {
     "name": "stdout",
     "output_type": "stream",
     "text": [
      "preparing one encoding representations...\n",
      "done...\n",
      "(10000, 18)\n",
      "(10000, 18)\n",
      "30\n"
     ]
    }
   ],
   "source": [
    "from Bio.Seq import Seq\n",
    "# str(seq.reverse_complement())\n",
    "\n",
    "print('preparing one encoding representations...')\n",
    "# create the one hot encoding representations. This needs to be appended by the dictionary size to avoid smaller matrices when some nucleotides not found.\n",
    "x1_fwd = np.array([hot_dna(x[i] + 'ACGT').onehot.T[:,:-4].astype(np.float32) for i in range(len(x))])\n",
    "x1_rev = np.array([hot_dna(str(Seq(x[i]).reverse_complement()) + 'ACGT').onehot.T[:,:-4].astype(np.float32) for i in range(len(x))])\n",
    "print('done...')\n",
    "\n",
    "\n",
    "\n",
    "pmin = min(kmers_table[0][ksel]['prob'])\n",
    "\n",
    "x2_fwd = np.array([np.array([kmers_table[0][ksel].loc[xi[si: si + k]]['prob'] if xi[si: si + k] in kmers_table[0][ksel] else pmin\n",
    "                             for si in range(len(xi) - k + 1)], dtype=np.float32)\n",
    "                   for xi in x], dtype=np.float32)\n",
    "\n",
    "x2_rev = np.array([np.array([kmers_table[0][ksel].loc[str(Seq(xi[si: si + k]).reverse_complement())]['prob']\n",
    "                             if str(Seq(xi[si: si + k]).reverse_complement()) in kmers_table[0][ksel] else pmin\n",
    "                             for si in range(len(xi) - k + 1)], dtype=np.float32)\n",
    "                   for xi in x], dtype=np.float32)\n",
    "\n",
    "\n",
    "x2_fwd = x2_fwd.reshape(x2_fwd.shape[:2])\n",
    "print(x2_fwd.shape)\n",
    "\n",
    "x2_rev = x2_rev.reshape(x2_rev.shape[:2])\n",
    "print(x2_rev.shape)\n",
    "\n",
    "scale_01 = False\n",
    "if scale_01:\n",
    "    y = (y - y.min()) / (y.max() - y.min())\n",
    "    \n",
    "# std norm \n",
    "y = (y - y.mean()) / y.std()\n",
    "\n",
    "\n",
    "# x_train -= np.mean(x_train)\n",
    "y += np.abs(np.min(y))\n",
    "\n",
    "# y *= 1e-10\n",
    "\n",
    "# tensors\n",
    "x1_fwd_tensor = torch.FloatTensor(x1_fwd)\n",
    "x1_rev_tensor = torch.FloatTensor(x1_rev)\n",
    "\n",
    "x2_fwd_tensor = torch.FloatTensor(x2_fwd)\n",
    "x2_rev_tensor = torch.FloatTensor(x2_rev)\n",
    "\n",
    "y_tensor = torch.FloatTensor(y)\n",
    "\n",
    "n_bp = len(x[0])\n",
    "print(n_bp)\n"
   ]
  },
  {
   "cell_type": "code",
   "execution_count": 46,
   "metadata": {},
   "outputs": [
    {
     "data": {
      "text/plain": [
       "30"
      ]
     },
     "execution_count": 46,
     "metadata": {},
     "output_type": "execute_result"
    }
   ],
   "source": [
    "len(list(r1['seq'])[0])"
   ]
  },
  {
   "cell_type": "code",
   "execution_count": 47,
   "metadata": {},
   "outputs": [
    {
     "data": {
      "text/plain": [
       "(array([6.033e+03, 1.800e+01, 3.627e+03, 0.000e+00, 4.000e+00, 2.980e+02,\n",
       "        0.000e+00, 1.900e+01, 0.000e+00, 1.000e+00]),\n",
       " array([0.       , 0.7445708, 1.4891416, 2.2337124, 2.9782832, 3.722854 ,\n",
       "        4.467425 , 5.2119956, 5.9565663, 6.701137 , 7.445708 ],\n",
       "       dtype=float32),\n",
       " <BarContainer object of 10 artists>)"
      ]
     },
     "execution_count": 47,
     "metadata": {},
     "output_type": "execute_result"
    },
    {
     "data": {
      "image/png": "[encoded data removed]",
      "text/plain": [
       "<Figure size 432x288 with 1 Axes>"
      ]
     },
     "metadata": {
      "needs_background": "light"
     },
     "output_type": "display_data"
    }
   ],
   "source": [
    "plt.hist(y)"
   ]
  },
  {
   "cell_type": "code",
   "execution_count": 48,
   "metadata": {},
   "outputs": [
    {
     "data": {
      "text/plain": [
       "tensor([7.4457, 5.6702, 5.6702,  ..., 0.3404, 0.3404, 0.3404])"
      ]
     },
     "execution_count": 48,
     "metadata": {},
     "output_type": "execute_result"
    }
   ],
   "source": [
    "y_tensor"
   ]
  },
  {
   "cell_type": "code",
   "execution_count": 49,
   "metadata": {},
   "outputs": [],
   "source": [
    "# out = conv1d(xi)\n",
    "# out_df = pd.DataFrame(out.squeeze().detach().numpy())\n",
    "# # print(out_df.sum(axis=1))\n",
    "# torch.sum(out.squeeze(), axis=1) * p_i0\n",
    "# # out = out.squeeze()"
   ]
  },
  {
   "cell_type": "code",
   "execution_count": 50,
   "metadata": {},
   "outputs": [],
   "source": [
    "# x2_tensor"
   ]
  },
  {
   "cell_type": "code",
   "execution_count": 51,
   "metadata": {},
   "outputs": [],
   "source": [
    "import seaborn as sns"
   ]
  },
  {
   "cell_type": "code",
   "execution_count": 52,
   "metadata": {},
   "outputs": [
    {
     "data": {
      "text/plain": [
       "13"
      ]
     },
     "execution_count": 52,
     "metadata": {},
     "output_type": "execute_result"
    }
   ],
   "source": [
    "k"
   ]
  },
  {
   "cell_type": "code",
   "execution_count": 53,
   "metadata": {},
   "outputs": [
    {
     "name": "stdout",
     "output_type": "stream",
     "text": [
      "# of base pairs 30\n",
      "kernel size (also k-mer length) 13\n"
     ]
    },
    {
     "data": {
      "image/png": "[encoded data removed]",
      "text/plain": [
       "<Figure size 432x288 with 2 Axes>"
      ]
     },
     "metadata": {
      "needs_background": "light"
     },
     "output_type": "display_data"
    },
    {
     "name": "stdout",
     "output_type": "stream",
     "text": [
      "Training...\n"
     ]
    }
   ],
   "source": [
    "n_epochs = 10000\n",
    "print('# of base pairs', n_bp)\n",
    "print('kernel size (also k-mer length)', k)\n",
    "init_scale = 1\n",
    "\n",
    "K = torch.Tensor([[[0, 0, 0, 0],\n",
    "                   [0, 0, 0, 0],\n",
    "                   [0, 0, 0, 0],\n",
    "                   [0, 0, 0, 0]]])\n",
    "\n",
    "K = torch.Tensor([[[0] * k,\n",
    "                   [0] * k,\n",
    "                   [0] * k,\n",
    "                   [0] * k]])\n",
    "\n",
    "model = nrlb(n_bp, kernel_sizes=[k], init_scale=init_scale, # initial_conv1d=K,\n",
    "            random_init=1).to(device) # Create an instance of the network in memory (potentially GPU memory).\n",
    "# net = netsimple(n_bp, kernel_sizes=[k], init_scale=init_scale).to(device) # Create an instance of the network in memory (potentially GPU memory).\n",
    "criterion = nn.MSELoss() # Add a sigmoid activation function to the output.  Use a binary cross entropy\n",
    "                                    # loss function.\n",
    "optimiser = topti.Adam(model.parameters(), lr = 0.001) # Minimise the loss using the Adam algorithm.\n",
    "# optimiser = topti.LBFGS(net.parameters(), lr = 0.01) # Minimise the loss using the Adam algorithm.\n",
    "\n",
    "\n",
    "ppms = []\n",
    "for ppm in model.conv1d_set:\n",
    "    ppm = ppm.weight.data.cpu().numpy()\n",
    "    ppm = pd.DataFrame(ppm[0])    \n",
    "    ppms.append(ppm)\n",
    "for i, ppm in enumerate(ppms):\n",
    "    plt.subplot(len(ppms), 1, i + 1)\n",
    "    sns.heatmap(ppm, cmap='Reds')\n",
    "plt.show()\n",
    "\n",
    "log_each = int(n_epochs / 10)\n",
    "## TRAIN\n",
    "print('Training...')\n",
    "# print('shapes', x1_tensor.shape, x2_tensor.shape, y.shape)\n",
    "\n",
    "labels = y_tensor\n",
    "\n",
    "use_gpu = True\n",
    "if use_gpu:\n",
    "    x1_fwd_tensor = x1_fwd_tensor.to(device='cuda')\n",
    "    x1_rev_tensor = x1_rev_tensor.to(device='cuda')\n",
    "    x2_fwd_tensor = x2_fwd_tensor.to(device='cuda')\n",
    "    x2_rev_tensor = x2_rev_tensor.to(device='cuda')\n",
    "    labels = labels.to(device='cuda')\n"
   ]
  },
  {
   "cell_type": "code",
   "execution_count": 54,
   "metadata": {},
   "outputs": [
    {
     "data": {
      "text/plain": [
       "torch.Size([10000, 18])"
      ]
     },
     "execution_count": 54,
     "metadata": {},
     "output_type": "execute_result"
    }
   ],
   "source": [
    "x2_fwd_tensor.shape"
   ]
  },
  {
   "cell_type": "code",
   "execution_count": 55,
   "metadata": {},
   "outputs": [
    {
     "data": {
      "text/plain": [
       "Parameter containing:\n",
       "tensor([[[ 0.0860,  0.0420, -0.0055,  0.0233,  0.1068,  0.1190, -0.0672,\n",
       "          -0.1351, -0.0120, -0.0094,  0.0797,  0.1280,  0.1158],\n",
       "         [-0.1349,  0.0385, -0.0638, -0.1284, -0.0397, -0.1217, -0.0871,\n",
       "           0.0832,  0.1236, -0.1052, -0.1228,  0.1104, -0.0327],\n",
       "         [ 0.0556, -0.0151,  0.1271,  0.1296,  0.0655,  0.0281, -0.0161,\n",
       "           0.1296,  0.0540,  0.0194,  0.0778, -0.0589,  0.0801],\n",
       "         [-0.1216,  0.1327, -0.1108, -0.0303, -0.0477,  0.1249,  0.0235,\n",
       "          -0.0070, -0.0960,  0.0560,  0.0402, -0.0287,  0.0042]]],\n",
       "       device='cuda:0', requires_grad=True)"
      ]
     },
     "execution_count": 55,
     "metadata": {},
     "output_type": "execute_result"
    }
   ],
   "source": [
    "model.conv1d_set[0].weight"
   ]
  },
  {
   "cell_type": "code",
   "execution_count": 56,
   "metadata": {},
   "outputs": [
    {
     "data": {
      "text/plain": [
       "(torch.Size([10000, 4, 30]),\n",
       " torch.Size([10000, 4, 30]),\n",
       " torch.Size([10000, 18]),\n",
       " torch.Size([10000, 18]))"
      ]
     },
     "execution_count": 56,
     "metadata": {},
     "output_type": "execute_result"
    }
   ],
   "source": [
    "x1_fwd_tensor.shape, x1_rev_tensor.shape, x2_fwd_tensor.shape, x2_rev_tensor.shape"
   ]
  },
  {
   "cell_type": "code",
   "execution_count": 57,
   "metadata": {},
   "outputs": [
    {
     "data": {
      "text/plain": [
       "nrlb(\n",
       "  (conv1d_set): ModuleList(\n",
       "    (0): Conv1d(4, 1, kernel_size=(13,), stride=(1,))\n",
       "  )\n",
       "  (linear1): Linear(in_features=1, out_features=1, bias=True)\n",
       ")"
      ]
     },
     "execution_count": 57,
     "metadata": {},
     "output_type": "execute_result"
    }
   ],
   "source": [
    "model"
   ]
  },
  {
   "cell_type": "code",
   "execution_count": 58,
   "metadata": {},
   "outputs": [
    {
     "name": "stderr",
     "output_type": "stream",
     "text": [
      "/home/icb/ignacio.ibarra/miniconda3/envs/mypython3/lib/python3.7/site-packages/torch/nn/modules/loss.py:431: UserWarning: Using a target size (torch.Size([10000])) that is different to the input size (torch.Size([10000, 1])). This will likely lead to incorrect results due to broadcasting. Please ensure they have the same size.\n",
      "  return F.mse_loss(input, target, reduction=self.reduction)\n"
     ]
    },
    {
     "name": "stdout",
     "output_type": "stream",
     "text": [
      "Epoch:  1, Loss: 1.734753608704\n",
      "Epoch: 1001, Loss: 1.025696396828\n",
      "Epoch: 2001, Loss: 1.000032901764\n",
      "Epoch: 3001, Loss: 1.000000119209\n",
      "Epoch: 4001, Loss: 1.000000119209\n",
      "Epoch: 5001, Loss: 1.000000000000\n",
      "Epoch: 6001, Loss: 1.000000000000\n",
      "Epoch: 7001, Loss: 1.000000119209\n",
      "Epoch: 8001, Loss: 1.000000119209\n",
      "Epoch: 9001, Loss: 1.000000119209\n"
     ]
    }
   ],
   "source": [
    "for epoch in range(n_epochs):\n",
    "\n",
    "    optimiser.zero_grad()\n",
    "\n",
    "    # print(inputs.shape, labels.shape)\n",
    "    outputs = model(x1_fwd_tensor, x1_rev_tensor, x2_fwd_tensor, x2_rev_tensor) # Forward pass through the network.\n",
    "    # outputs = net(inputs) # Forward pass through the network.\n",
    "\n",
    "    # loss = -torch.sum(vx * vy) / (torch.sqrt(torch.sum(vx ** 2)) * torch.sqrt(torch.sum(vy ** 2)))\n",
    "\n",
    "    loss = criterion(outputs, labels)\n",
    "    # def f():\n",
    "    #     return loss\n",
    "    # optimiser.step(f) # Step to minimise the loss according to the gradient.\n",
    "\n",
    "    loss.backward() # Calculate gradients.\n",
    "    optimiser.step() # Step to minimise the loss according to the gradient.\n",
    "\n",
    "    if epoch % log_each == 0:\n",
    "        print(\"Epoch: %2d, Loss: %.12f\" % (epoch + 1, loss))"
   ]
  },
  {
   "cell_type": "code",
   "execution_count": 59,
   "metadata": {},
   "outputs": [
    {
     "name": "stderr",
     "output_type": "stream",
     "text": [
      "Matplotlib is building the font cache; this may take a moment.\n"
     ]
    }
   ],
   "source": [
    "from sklearn import metrics\n",
    "import logomaker"
   ]
  },
  {
   "cell_type": "code",
   "execution_count": 60,
   "metadata": {},
   "outputs": [
    {
     "data": {
      "text/html": [
       "<div>\n",
       "<style scoped>\n",
       "    .dataframe tbody tr th:only-of-type {\n",
       "        vertical-align: middle;\n",
       "    }\n",
       "\n",
       "    .dataframe tbody tr th {\n",
       "        vertical-align: top;\n",
       "    }\n",
       "\n",
       "    .dataframe thead th {\n",
       "        text-align: right;\n",
       "    }\n",
       "</style>\n",
       "<table border=\"1\" class=\"dataframe\">\n",
       "  <thead>\n",
       "    <tr style=\"text-align: right;\">\n",
       "      <th></th>\n",
       "      <th>seq</th>\n",
       "      <th>0</th>\n",
       "      <th>1</th>\n",
       "      <th>p_i0</th>\n",
       "      <th>p_i1</th>\n",
       "      <th>ratio_1_over_0</th>\n",
       "    </tr>\n",
       "  </thead>\n",
       "  <tbody>\n",
       "    <tr>\n",
       "      <th>1922</th>\n",
       "      <td>AACATTCGTGCTCGGTCCAGAGTTCCAGCA</td>\n",
       "      <td>0</td>\n",
       "      <td>4</td>\n",
       "      <td>0.000349</td>\n",
       "      <td>0.000928</td>\n",
       "      <td>0.000578</td>\n",
       "    </tr>\n",
       "    <tr>\n",
       "      <th>3170</th>\n",
       "      <td>AAGAGTACCTACCTTCGTGGTTATGTTAAC</td>\n",
       "      <td>0</td>\n",
       "      <td>3</td>\n",
       "      <td>0.000280</td>\n",
       "      <td>0.000696</td>\n",
       "      <td>0.000416</td>\n",
       "    </tr>\n",
       "    <tr>\n",
       "      <th>4978</th>\n",
       "      <td>AATAAGCAGATAACCGCGCGGGGGCGACTA</td>\n",
       "      <td>0</td>\n",
       "      <td>3</td>\n",
       "      <td>0.000280</td>\n",
       "      <td>0.000696</td>\n",
       "      <td>0.000416</td>\n",
       "    </tr>\n",
       "    <tr>\n",
       "      <th>9756</th>\n",
       "      <td>ACGCCACGGGTAGTCGCTAGAGGGGATTTA</td>\n",
       "      <td>0</td>\n",
       "      <td>3</td>\n",
       "      <td>0.000280</td>\n",
       "      <td>0.000696</td>\n",
       "      <td>0.000416</td>\n",
       "    </tr>\n",
       "    <tr>\n",
       "      <th>9283</th>\n",
       "      <td>ACCTGTCCATCTCTGGGGGTGTAACGAATT</td>\n",
       "      <td>0</td>\n",
       "      <td>3</td>\n",
       "      <td>0.000280</td>\n",
       "      <td>0.000696</td>\n",
       "      <td>0.000416</td>\n",
       "    </tr>\n",
       "    <tr>\n",
       "      <th>...</th>\n",
       "      <td>...</td>\n",
       "      <td>...</td>\n",
       "      <td>...</td>\n",
       "      <td>...</td>\n",
       "      <td>...</td>\n",
       "      <td>...</td>\n",
       "    </tr>\n",
       "    <tr>\n",
       "      <th>3436</th>\n",
       "      <td>AAGCCGCTGTAGTGGCTGTACACAAGAATG</td>\n",
       "      <td>1</td>\n",
       "      <td>0</td>\n",
       "      <td>0.000093</td>\n",
       "      <td>0.000000</td>\n",
       "      <td>-0.000093</td>\n",
       "    </tr>\n",
       "    <tr>\n",
       "      <th>1282</th>\n",
       "      <td>AAATATGGCGCGGCCGTCTAGCCCACCTTC</td>\n",
       "      <td>1</td>\n",
       "      <td>0</td>\n",
       "      <td>0.000097</td>\n",
       "      <td>0.000000</td>\n",
       "      <td>-0.000097</td>\n",
       "    </tr>\n",
       "    <tr>\n",
       "      <th>1283</th>\n",
       "      <td>AAATATGGCGCGGCCGTCTCGCCCACCTTC</td>\n",
       "      <td>1</td>\n",
       "      <td>0</td>\n",
       "      <td>0.000097</td>\n",
       "      <td>0.000000</td>\n",
       "      <td>-0.000097</td>\n",
       "    </tr>\n",
       "    <tr>\n",
       "      <th>2438</th>\n",
       "      <td>AACGTAGATTGCTAGTTAGCTCCGATGAGG</td>\n",
       "      <td>1</td>\n",
       "      <td>0</td>\n",
       "      <td>0.000101</td>\n",
       "      <td>0.000000</td>\n",
       "      <td>-0.000101</td>\n",
       "    </tr>\n",
       "    <tr>\n",
       "      <th>2437</th>\n",
       "      <td>AACGTAGATGGCTAGTTAGCTCCGATGAGG</td>\n",
       "      <td>1</td>\n",
       "      <td>0</td>\n",
       "      <td>0.000101</td>\n",
       "      <td>0.000000</td>\n",
       "      <td>-0.000101</td>\n",
       "    </tr>\n",
       "  </tbody>\n",
       "</table>\n",
       "<p>10000 rows × 6 columns</p>\n",
       "</div>"
      ],
      "text/plain": [
       "                                 seq  0  1      p_i0      p_i1  ratio_1_over_0\n",
       "1922  AACATTCGTGCTCGGTCCAGAGTTCCAGCA  0  4  0.000349  0.000928        0.000578\n",
       "3170  AAGAGTACCTACCTTCGTGGTTATGTTAAC  0  3  0.000280  0.000696        0.000416\n",
       "4978  AATAAGCAGATAACCGCGCGGGGGCGACTA  0  3  0.000280  0.000696        0.000416\n",
       "9756  ACGCCACGGGTAGTCGCTAGAGGGGATTTA  0  3  0.000280  0.000696        0.000416\n",
       "9283  ACCTGTCCATCTCTGGGGGTGTAACGAATT  0  3  0.000280  0.000696        0.000416\n",
       "...                              ... .. ..       ...       ...             ...\n",
       "3436  AAGCCGCTGTAGTGGCTGTACACAAGAATG  1  0  0.000093  0.000000       -0.000093\n",
       "1282  AAATATGGCGCGGCCGTCTAGCCCACCTTC  1  0  0.000097  0.000000       -0.000097\n",
       "1283  AAATATGGCGCGGCCGTCTCGCCCACCTTC  1  0  0.000097  0.000000       -0.000097\n",
       "2438  AACGTAGATTGCTAGTTAGCTCCGATGAGG  1  0  0.000101  0.000000       -0.000101\n",
       "2437  AACGTAGATGGCTAGTTAGCTCCGATGAGG  1  0  0.000101  0.000000       -0.000101\n",
       "\n",
       "[10000 rows x 6 columns]"
      ]
     },
     "execution_count": 60,
     "metadata": {},
     "output_type": "execute_result"
    }
   ],
   "source": [
    "r1.sort_values('ratio_1_over_0', ascending=False)"
   ]
  },
  {
   "cell_type": "code",
   "execution_count": 61,
   "metadata": {},
   "outputs": [
    {
     "data": {
      "text/plain": [
       "array([7.445708 , 5.6701922, 5.6701922, ..., 0.3404299, 0.3404299,\n",
       "       0.3404299], dtype=float32)"
      ]
     },
     "execution_count": 61,
     "metadata": {},
     "output_type": "execute_result"
    }
   ],
   "source": [
    "y"
   ]
  },
  {
   "cell_type": "code",
   "execution_count": 62,
   "metadata": {},
   "outputs": [
    {
     "data": {
      "text/plain": [
       "tensor([3.4651e-06, 3.4651e-06, 3.4651e-06, 3.4651e-06, 3.4651e-06, 3.4651e-06,\n",
       "        3.4651e-06, 3.4651e-06, 3.4651e-06, 3.4651e-06, 3.4651e-06, 3.4651e-06,\n",
       "        3.4651e-06, 3.4651e-06, 3.4651e-06, 3.4651e-06, 3.4651e-06, 3.4651e-06],\n",
       "       device='cuda:0')"
      ]
     },
     "execution_count": 62,
     "metadata": {},
     "output_type": "execute_result"
    }
   ],
   "source": [
    "x2_fwd_tensor[1]"
   ]
  },
  {
   "cell_type": "code",
   "execution_count": 63,
   "metadata": {},
   "outputs": [
    {
     "name": "stdout",
     "output_type": "stream",
     "text": [
      "true [tensor(7.4457), tensor(5.6702), tensor(5.6702), tensor(5.6702), tensor(5.6702)]\n",
      "pred [tensor([1.0983]), tensor([1.0983]), tensor([1.0983]), tensor([1.0983]), tensor([1.0983])]\n",
      "MSE final 1.0000002\n",
      "10000 10000\n"
     ]
    },
    {
     "data": {
      "image/png": "[encoded data removed]",
      "text/plain": [
       "<Figure size 432x288 with 1 Axes>"
      ]
     },
     "metadata": {
      "needs_background": "light"
     },
     "output_type": "display_data"
    },
    {
     "name": "stderr",
     "output_type": "stream",
     "text": [
      "findfont: Font family ['Arial Rounded MT Bold'] not found. Falling back to DejaVu Sans.\n"
     ]
    },
    {
     "name": "stdout",
     "output_type": "stream",
     "text": [
      "[[[-1.03091    -1.0749913  -1.1225172  -1.093676   -1.0101626\n",
      "   -0.99800164 -1.1840663  -1.2517838  -1.1286327  -1.126116\n",
      "   -1.0370911  -0.9888258  -1.0009781 ]\n",
      "  [-1.249804   -1.0764225  -1.1788025  -1.243492   -1.1549287\n",
      "   -1.2371801  -1.2027808  -1.032737   -0.992508   -1.2214609\n",
      "   -1.2390702  -1.005989   -1.1491736 ]\n",
      "  [-1.0609046  -1.1314336  -0.9892145  -0.9866153  -1.050697\n",
      "   -1.0879263  -1.1317848  -0.98578507 -1.0612326  -1.0956584\n",
      "   -1.0371898  -1.1738402  -1.0347435 ]\n",
      "  [-1.2384189  -0.9841854  -1.2275735  -1.1470184  -1.1643832\n",
      "   -0.9918103  -1.0933212  -1.1238868  -1.2129838  -1.0610002\n",
      "   -1.0767751  -1.1456329  -1.1127088 ]]]\n",
      "         0         1         2         3         4         5         6   \\\n",
      "A -1.030910 -1.074991 -1.122517 -1.093676 -1.010163 -0.998002 -1.184066   \n",
      "C -1.249804 -1.076422 -1.178802 -1.243492 -1.154929 -1.237180 -1.202781   \n",
      "G -1.060905 -1.131434 -0.989214 -0.986615 -1.050697 -1.087926 -1.131785   \n",
      "T -1.238419 -0.984185 -1.227574 -1.147018 -1.164383 -0.991810 -1.093321   \n",
      "\n",
      "         7         8         9         10        11        12  \n",
      "A -1.251784 -1.128633 -1.126116 -1.037091 -0.988826 -1.000978  \n",
      "C -1.032737 -0.992508 -1.221461 -1.239070 -1.005989 -1.149174  \n",
      "G -0.985785 -1.061233 -1.095658 -1.037190 -1.173840 -1.034744  \n",
      "T -1.123887 -1.212984 -1.061000 -1.076775 -1.145633 -1.112709  \n"
     ]
    },
    {
     "data": {
      "image/png": "[encoded data removed]",
      "text/plain": [
       "<Figure size 432x288 with 2 Axes>"
      ]
     },
     "metadata": {
      "needs_background": "light"
     },
     "output_type": "display_data"
    },
    {
     "data": {
      "image/png": "[encoded data removed]",
      "text/plain": [
       "<Figure size 720x180 with 1 Axes>"
      ]
     },
     "metadata": {
      "needs_background": "light"
     },
     "output_type": "display_data"
    },
    {
     "data": {
      "text/html": [
       "<div>\n",
       "<style scoped>\n",
       "    .dataframe tbody tr th:only-of-type {\n",
       "        vertical-align: middle;\n",
       "    }\n",
       "\n",
       "    .dataframe tbody tr th {\n",
       "        vertical-align: top;\n",
       "    }\n",
       "\n",
       "    .dataframe thead th {\n",
       "        text-align: right;\n",
       "    }\n",
       "</style>\n",
       "<table border=\"1\" class=\"dataframe\">\n",
       "  <thead>\n",
       "    <tr style=\"text-align: right;\">\n",
       "      <th></th>\n",
       "      <th>0</th>\n",
       "      <th>1</th>\n",
       "      <th>2</th>\n",
       "      <th>3</th>\n",
       "      <th>4</th>\n",
       "      <th>5</th>\n",
       "      <th>6</th>\n",
       "      <th>7</th>\n",
       "      <th>8</th>\n",
       "      <th>9</th>\n",
       "      <th>10</th>\n",
       "      <th>11</th>\n",
       "      <th>12</th>\n",
       "    </tr>\n",
       "  </thead>\n",
       "  <tbody>\n",
       "    <tr>\n",
       "      <th>A</th>\n",
       "      <td>-1.030910</td>\n",
       "      <td>-1.074991</td>\n",
       "      <td>-1.122517</td>\n",
       "      <td>-1.093676</td>\n",
       "      <td>-1.010163</td>\n",
       "      <td>-0.998002</td>\n",
       "      <td>-1.184066</td>\n",
       "      <td>-1.251784</td>\n",
       "      <td>-1.128633</td>\n",
       "      <td>-1.126116</td>\n",
       "      <td>-1.037091</td>\n",
       "      <td>-0.988826</td>\n",
       "      <td>-1.000978</td>\n",
       "    </tr>\n",
       "    <tr>\n",
       "      <th>C</th>\n",
       "      <td>-1.249804</td>\n",
       "      <td>-1.076422</td>\n",
       "      <td>-1.178802</td>\n",
       "      <td>-1.243492</td>\n",
       "      <td>-1.154929</td>\n",
       "      <td>-1.237180</td>\n",
       "      <td>-1.202781</td>\n",
       "      <td>-1.032737</td>\n",
       "      <td>-0.992508</td>\n",
       "      <td>-1.221461</td>\n",
       "      <td>-1.239070</td>\n",
       "      <td>-1.005989</td>\n",
       "      <td>-1.149174</td>\n",
       "    </tr>\n",
       "    <tr>\n",
       "      <th>G</th>\n",
       "      <td>-1.060905</td>\n",
       "      <td>-1.131434</td>\n",
       "      <td>-0.989214</td>\n",
       "      <td>-0.986615</td>\n",
       "      <td>-1.050697</td>\n",
       "      <td>-1.087926</td>\n",
       "      <td>-1.131785</td>\n",
       "      <td>-0.985785</td>\n",
       "      <td>-1.061233</td>\n",
       "      <td>-1.095658</td>\n",
       "      <td>-1.037190</td>\n",
       "      <td>-1.173840</td>\n",
       "      <td>-1.034744</td>\n",
       "    </tr>\n",
       "    <tr>\n",
       "      <th>T</th>\n",
       "      <td>-1.238419</td>\n",
       "      <td>-0.984185</td>\n",
       "      <td>-1.227574</td>\n",
       "      <td>-1.147018</td>\n",
       "      <td>-1.164383</td>\n",
       "      <td>-0.991810</td>\n",
       "      <td>-1.093321</td>\n",
       "      <td>-1.123887</td>\n",
       "      <td>-1.212984</td>\n",
       "      <td>-1.061000</td>\n",
       "      <td>-1.076775</td>\n",
       "      <td>-1.145633</td>\n",
       "      <td>-1.112709</td>\n",
       "    </tr>\n",
       "  </tbody>\n",
       "</table>\n",
       "</div>"
      ],
      "text/plain": [
       "         0         1         2         3         4         5         6   \\\n",
       "A -1.030910 -1.074991 -1.122517 -1.093676 -1.010163 -0.998002 -1.184066   \n",
       "C -1.249804 -1.076422 -1.178802 -1.243492 -1.154929 -1.237180 -1.202781   \n",
       "G -1.060905 -1.131434 -0.989214 -0.986615 -1.050697 -1.087926 -1.131785   \n",
       "T -1.238419 -0.984185 -1.227574 -1.147018 -1.164383 -0.991810 -1.093321   \n",
       "\n",
       "         7         8         9         10        11        12  \n",
       "A -1.251784 -1.128633 -1.126116 -1.037091 -0.988826 -1.000978  \n",
       "C -1.032737 -0.992508 -1.221461 -1.239070 -1.005989 -1.149174  \n",
       "G -0.985785 -1.061233 -1.095658 -1.037190 -1.173840 -1.034744  \n",
       "T -1.123887 -1.212984 -1.061000 -1.076775 -1.145633 -1.112709  "
      ]
     },
     "execution_count": 63,
     "metadata": {},
     "output_type": "execute_result"
    }
   ],
   "source": [
    "# calculate predictions\n",
    "ytrue = []\n",
    "ypred = []\n",
    "with torch.no_grad():\n",
    "    # Get a batch and potentially send it to GPU memory.\n",
    "    # inputs, labels = batch[\"input\"].to(device), batch[\"label\"].to(device)\n",
    "    # inputs = x1_tensor\n",
    "    labels = y_tensor\n",
    "\n",
    "    # print(inputs.shape)\n",
    "    # outputs = torch.sigmoid(net(x1_tensor, x2_tensor))\n",
    "    outputs = model(x1_fwd_tensor, x1_rev_tensor, x2_fwd_tensor, x2_rev_tensor).cpu() # Forward pass through the network.\n",
    "    # predicted = torch.round(outputs)\n",
    "    predicted = outputs\n",
    "\n",
    "    ytrue += list(labels)\n",
    "    ypred += list(outputs)\n",
    "\n",
    "print('true', ytrue[:5])\n",
    "print('pred', ypred[:5])\n",
    "\n",
    "# print('MSE default', metrics.mean_squared_error(y, .sum(axis=1)))\n",
    "print('MSE final', metrics.mean_squared_error(ytrue, ypred))\n",
    "\n",
    "print(len(ytrue), len(ypred))\n",
    "\n",
    "## downstream plots: compare before and after optimization effects\n",
    "# prior relationship between kmer counts and observed \n",
    "# plt.subplot(1, 2, 1)\n",
    "\n",
    "# ypred_init = np.array(x2)\n",
    "# ypred_init = np.array(x2.sum(axis=1))\n",
    "\n",
    "# plt.scatter(np.array(ytrue), ypred_init, s=10, c='red')\n",
    "# plt.xlabel('counts [norm]')\n",
    "# plt.ylabel('sum of k-mer prob')\n",
    "\n",
    "plt.subplot(1, 2, 2)\n",
    "plt.scatter(np.array(ytrue), np.array(ypred), s=10)\n",
    "plt.xlabel('observed value')\n",
    "plt.ylabel('predicted value')\n",
    "\n",
    "plt.tight_layout()\n",
    "plt.show()\n",
    "\n",
    "ppms = []\n",
    "for ppm in model.conv1d_set:\n",
    "    ppm = ppm.weight.data.cpu().numpy()\n",
    "    print(ppm)\n",
    "    ppm = pd.DataFrame(ppm[0])\n",
    "    ppm.index = 'A', 'C', 'G', 'T'\n",
    "    ppms.append(ppm)\n",
    "for i, ppm in enumerate(ppms):\n",
    "    plt.subplot(len(ppms), 1, i + 1)\n",
    "    \n",
    "    cmax, cmin = max(ppm.max()), min(ppm.min())\n",
    "    \n",
    "    sns.heatmap(ppm, cmap='Reds', vmin=cmin, vmax=cmax)\n",
    "    print(ppm)\n",
    "    # create Logo object\n",
    "    crp_logo = logomaker.Logo(ppm.T,\n",
    "                          shade_below=.5,\n",
    "                          fade_below=.5,\n",
    "                          font_name='Arial Rounded MT Bold')\n",
    "    plt.show()\n",
    "\n",
    "    \n",
    "# plt.show()\n",
    "\n",
    "# print(model.scale_set)\n",
    "# print(net, ytrue, ypred)\n",
    "ppm"
   ]
  },
  {
   "cell_type": "code",
   "execution_count": 64,
   "metadata": {},
   "outputs": [
    {
     "data": {
      "text/plain": [
       "(tensor([1.0983]), tensor(7.4457), tensor([1.0983]), tensor(0.))"
      ]
     },
     "execution_count": 64,
     "metadata": {},
     "output_type": "execute_result"
    }
   ],
   "source": [
    "max(ypred), max(ytrue), min(ypred), min(ytrue)"
   ]
  },
  {
   "cell_type": "markdown",
   "metadata": {},
   "source": [
    "## Visualization"
   ]
  },
  {
   "cell_type": "code",
   "execution_count": 65,
   "metadata": {},
   "outputs": [
    {
     "name": "stdout",
     "output_type": "stream",
     "text": [
      "here...\n"
     ]
    }
   ],
   "source": [
    "print('here...')"
   ]
  },
  {
   "cell_type": "code",
   "execution_count": 66,
   "metadata": {},
   "outputs": [
    {
     "data": {
      "text/plain": [
       "array([1.0982865, 1.0982765, 1.0982919, ..., 1.0982968, 1.0982951,\n",
       "       1.0983038], dtype=float32)"
      ]
     },
     "execution_count": 66,
     "metadata": {},
     "output_type": "execute_result"
    }
   ],
   "source": [
    "np.array(ypred)"
   ]
  },
  {
   "cell_type": "code",
   "execution_count": 67,
   "metadata": {},
   "outputs": [
    {
     "data": {
      "text/plain": [
       "<matplotlib.collections.PathCollection at 0x7fc698b49210>"
      ]
     },
     "execution_count": 67,
     "metadata": {},
     "output_type": "execute_result"
    },
    {
     "data": {
      "image/png": "[encoded data removed]",
      "text/plain": [
       "<Figure size 432x288 with 1 Axes>"
      ]
     },
     "metadata": {
      "needs_background": "light"
     },
     "output_type": "display_data"
    }
   ],
   "source": [
    "plt.scatter(np.array(ytrue), np.array(ypred))\n",
    "# plt.autoscale(enable=False, axis='y')"
   ]
  },
  {
   "cell_type": "code",
   "execution_count": 68,
   "metadata": {},
   "outputs": [
    {
     "data": {
      "text/plain": [
       "\u001b[0;31mSignature:\u001b[0m \u001b[0mplt\u001b[0m\u001b[0;34m.\u001b[0m\u001b[0mautoscale\u001b[0m\u001b[0;34m(\u001b[0m\u001b[0menable\u001b[0m\u001b[0;34m=\u001b[0m\u001b[0;32mTrue\u001b[0m\u001b[0;34m,\u001b[0m \u001b[0maxis\u001b[0m\u001b[0;34m=\u001b[0m\u001b[0;34m'both'\u001b[0m\u001b[0;34m,\u001b[0m \u001b[0mtight\u001b[0m\u001b[0;34m=\u001b[0m\u001b[0;32mNone\u001b[0m\u001b[0;34m)\u001b[0m\u001b[0;34m\u001b[0m\u001b[0;34m\u001b[0m\u001b[0m\n",
       "\u001b[0;31mDocstring:\u001b[0m\n",
       "Autoscale the axis view to the data (toggle).\n",
       "\n",
       "Convenience method for simple axis view autoscaling.\n",
       "It turns autoscaling on or off, and then,\n",
       "if autoscaling for either axis is on, it performs\n",
       "the autoscaling on the specified axis or axes.\n",
       "\n",
       "Parameters\n",
       "----------\n",
       "enable : bool or None, default: True\n",
       "    True turns autoscaling on, False turns it off.\n",
       "    None leaves the autoscaling state unchanged.\n",
       "axis : {'both', 'x', 'y'}, default: 'both'\n",
       "    Which axis to operate on.\n",
       "tight : bool or None, default: None\n",
       "    If True, first set the margins to zero.  Then, this argument is\n",
       "    forwarded to `autoscale_view` (regardless of its value); see the\n",
       "    description of its behavior there.\n",
       "\u001b[0;31mFile:\u001b[0m      ~/miniconda3/envs/mypython3/lib/python3.7/site-packages/matplotlib/pyplot.py\n",
       "\u001b[0;31mType:\u001b[0m      function\n"
      ]
     },
     "metadata": {},
     "output_type": "display_data"
    }
   ],
   "source": [
    "plt.autoscale?"
   ]
  },
  {
   "cell_type": "code",
   "execution_count": 69,
   "metadata": {},
   "outputs": [
    {
     "ename": "AttributeError",
     "evalue": "'list' object has no attribute 'cpu'",
     "output_type": "error",
     "traceback": [
      "\u001b[0;31m---------------------------------------------------------------------------\u001b[0m",
      "\u001b[0;31mAttributeError\u001b[0m                            Traceback (most recent call last)",
      "\u001b[0;32m<ipython-input-69-a61a55ac6969>\u001b[0m in \u001b[0;36m<module>\u001b[0;34m\u001b[0m\n\u001b[0;32m----> 1\u001b[0;31m \u001b[0mplt\u001b[0m\u001b[0;34m.\u001b[0m\u001b[0mhist\u001b[0m\u001b[0;34m(\u001b[0m\u001b[0mnp\u001b[0m\u001b[0;34m.\u001b[0m\u001b[0marray\u001b[0m\u001b[0;34m(\u001b[0m\u001b[0mypred\u001b[0m\u001b[0;34m.\u001b[0m\u001b[0mcpu\u001b[0m\u001b[0;34m(\u001b[0m\u001b[0;34m)\u001b[0m\u001b[0;34m)\u001b[0m\u001b[0;34m)\u001b[0m\u001b[0;34m\u001b[0m\u001b[0;34m\u001b[0m\u001b[0m\n\u001b[0m",
      "\u001b[0;31mAttributeError\u001b[0m: 'list' object has no attribute 'cpu'"
     ]
    }
   ],
   "source": [
    "plt.hist(np.array(ypred.cpu()))"
   ]
  },
  {
   "cell_type": "code",
   "execution_count": null,
   "metadata": {},
   "outputs": [],
   "source": [
    "# !pip install torchviz"
   ]
  },
  {
   "cell_type": "code",
   "execution_count": null,
   "metadata": {},
   "outputs": [],
   "source": [
    "model"
   ]
  },
  {
   "cell_type": "code",
   "execution_count": null,
   "metadata": {},
   "outputs": [],
   "source": [
    "from torchviz import make_dot\n",
    "\n",
    "make_dot(outputs.mean(), params=dict(list(model.named_parameters()))).render(\"attached\") # rnn_torchviz\", format=\"png\")\n",
    "# make_dot(r).render(\"attached\", format=\"png\")"
   ]
  },
  {
   "cell_type": "code",
   "execution_count": null,
   "metadata": {},
   "outputs": [],
   "source": [
    "!readlink -f ."
   ]
  },
  {
   "cell_type": "code",
   "execution_count": null,
   "metadata": {},
   "outputs": [],
   "source": [
    "for layer in model.conv1d_set:\n",
    "    print(layer.weight.data)\n",
    "model.linear1.bias, model.linear1.weight\n",
    "# print(layer.weight.data)"
   ]
  },
  {
   "cell_type": "code",
   "execution_count": null,
   "metadata": {},
   "outputs": [],
   "source": [
    "# # fastq = np.array([(s.strip()).decode('utf-8') for s in gzip.open(nrlb_data)])\n",
    "# # print(len(fastq))\n",
    "# # mask = np.array([((i + 3) % 4 == 0) for i in range(len(fastq))])\n",
    "# # seqs = fastq[mask] \n",
    "# df = pd.read_csv('GATA3_TGTCGT20NGA_AC_4.tsv.gz', index_col=0)\n",
    "# # df['seq'] += df['seq'] + ''\n",
    "# # df = df[~df['seq'].str.contains('N')]\n",
    "# # seq_counts = df['seq'].value_counts()\n",
    "# # df['counts'] = [seq_counts.loc[s] for s in df['seq']]\n",
    "# # df = df.drop_duplicates('seq').sort_values('counts', ascending=False)\n",
    "\n",
    "# # selex_path = '/mnt/znas/icb_zstore01/groups/ml01/workspace/ignacio.ibarra/screg/notebooks/protein_dna_landscape/ELK1_EVX1_3_AAD_TGGAAT40NAAT.fastq.tsv'\n",
    "# # df = pd.read_csv(selex_path, sep='\\t', header=None)\n",
    "# # df.columns = ['kmer', 'counts']\n",
    "\n",
    "# print(df.shape)"
   ]
  },
  {
   "cell_type": "code",
   "execution_count": null,
   "metadata": {},
   "outputs": [],
   "source": [
    "\n",
    "# # Class for reading training/testing dataset files.\n",
    "# class toyDataset(tdata.Dataset):\n",
    "#     def __init__(self, dataFile=None, labelFile=None, data_x=None, data_y=None):\n",
    "#         # Load data from files.\n",
    "#         self.inputs = [np.loadtxt(dataFile, dtype = np.float32).reshape(-1, 4, 1000) if dataFile is not None else data_x[0],\n",
    "#                        np.loadtxt(dataFile, dtype = np.float32).reshape(-1, 1, 1000) if dataFile is not None else data_x[1]]\n",
    "        \n",
    "#         self.labels = np.loadtxt(labelFile, dtype = np.float32) if dataFile is not None else data_y\n",
    "\n",
    "#         self.length = len(self.labels)\n",
    "\n",
    "#     def __getitem__(self, index):\n",
    "#         # Return a single input/label pair from the dataset.\n",
    "#         inputSample = self.inputs[index]\n",
    "#         labelSample = self.labels[index]\n",
    "#         sample = {\"input\": inputSample, \"label\": labelSample}\n",
    "\n",
    "#         return sample\n",
    "\n",
    "#     def __len__(self):\n",
    "\n",
    "#         return self.length\n"
   ]
  },
  {
   "cell_type": "markdown",
   "metadata": {},
   "source": [
    "The counts distribution for the observed data (log)"
   ]
  },
  {
   "cell_type": "markdown",
   "metadata": {},
   "source": [
    "## Initial parms for ppms"
   ]
  },
  {
   "cell_type": "code",
   "execution_count": null,
   "metadata": {},
   "outputs": [],
   "source": [
    "import sklearn\n",
    "import pandas as pd\n",
    "import seaborn as sns\n",
    "import matplotlib.pyplot as plt\n",
    "from sklearn import metrics\n",
    "import matplotlib.pyplot as plt"
   ]
  },
  {
   "cell_type": "code",
   "execution_count": null,
   "metadata": {},
   "outputs": [],
   "source": [
    "def get_trained_model(df, kmer_table_by_k, k, n_epochs=10, nsel=2000, log_each=250, init_scale=10000):\n",
    "    \n",
    "    print('\\n######\\nQuery %i' % k)\n",
    "    print('preparing data...')\n",
    "    x = np.array(df['seq'].head(nsel))\n",
    "    y = np.array(df['counts'].head(nsel), dtype=np.float32)\n",
    "    # create the one hot encoding representations. This needs to be appended by the dictionary size to avoid smaller matrices when some nucleotides not found.\n",
    "    x_one_hot = np.array([hot_dna(x[i] + 'ACGT').onehot.T[:,:-4].astype(np.float32) for i in range(len(x))])\n",
    "    x1 = x_one_hot\n",
    "    x2 = np.array([np.array([kmer_table_by_k[k].loc[xi[si: si + k]]['prob'] for si in range(len(xi) - k + 1)], dtype=np.float32)\n",
    "                   for xi in x], dtype=np.float32)\n",
    "    x2 = x2.reshape(x2.shape[:2])\n",
    "    y = (y - y.min()) / (y.max() - y.min())\n",
    "    \n",
    "    # tensors\n",
    "    x1_tensor = torch.FloatTensor(x1)\n",
    "    x2_tensor = torch.FloatTensor(x2)\n",
    "    y_tensor = torch.FloatTensor(y)\n",
    "    \n",
    "    n_bp = len(x[0])\n",
    "    print(n_bp)\n",
    "\n",
    "    \n",
    "    print('# of base pairs', n_bp)\n",
    "    print('kernel size (also k-mer length)', k)\n",
    "    net = netsimple(n_bp, kernel_sizes=[k], init_scale=init_scale).to(device) # Create an instance of the network in memory (potentially GPU memory).\n",
    "    criterion = nn.MSELoss() # Add a sigmoid activation function to the output.  Use a binary cross entropy\n",
    "                                        # loss function.\n",
    "    optimiser = topti.Adam(net.parameters(), lr = 0.01) # Minimise the loss using the Adam algorithm.\n",
    "    \n",
    "    ppms = []\n",
    "    for ppm in net.conv1d_set:\n",
    "        ppm = ppm.weight.data.numpy()\n",
    "        ppm = pd.DataFrame(ppm[0])    \n",
    "        ppms.append(ppm)\n",
    "    for i, ppm in enumerate(ppms):\n",
    "        plt.subplot(len(ppms), 1, i + 1)\n",
    "        sns.heatmap(ppm, cmap='Reds')\n",
    "\n",
    "    ## TRAIN\n",
    "    print('Training...')\n",
    "    print('shapes', x1_tensor.shape, x2_tensor.shape, y.shape)\n",
    "    for epoch in range(n_epochs):\n",
    "        inputs, labels = x1_tensor, y_tensor\n",
    "\n",
    "        optimiser.zero_grad()\n",
    "\n",
    "        # print(inputs.shape, labels.shape)\n",
    "        outputs = net(x1_tensor, x2_tensor) # Forward pass through the network.\n",
    "        # outputs = net(inputs) # Forward pass through the network.\n",
    "\n",
    "        # loss = -torch.sum(vx * vy) / (torch.sqrt(torch.sum(vx ** 2)) * torch.sqrt(torch.sum(vy ** 2)))\n",
    "\n",
    "        loss = criterion(outputs, labels)\n",
    "\n",
    "        loss.backward() # Calculate gradients.\n",
    "        optimiser.step() # Step to minimise the loss according to the gradient.\n",
    "\n",
    "        if epoch % log_each == 0:\n",
    "            print(\"Epoch: %2d, Loss: %.3f\" % (epoch + 1, loss))\n",
    "         \n",
    "    # calculate predictions\n",
    "    ytrue = []\n",
    "    ypred = []\n",
    "    with torch.no_grad():\n",
    "        # Get a batch and potentially send it to GPU memory.\n",
    "        # inputs, labels = batch[\"input\"].to(device), batch[\"label\"].to(device)\n",
    "        inputs, labels = x1_tensor, y_tensor\n",
    "\n",
    "        # print(inputs.shape)\n",
    "        # outputs = torch.sigmoid(net(x1_tensor, x2_tensor))\n",
    "        outputs = net(x1_tensor, x2_tensor)\n",
    "        # predicted = torch.round(outputs)\n",
    "        predicted = outputs\n",
    "\n",
    "        ytrue += list(labels)\n",
    "        ypred += list(outputs)\n",
    "\n",
    "    print('MSE default', metrics.mean_squared_error(y, x2.sum(axis=1)))\n",
    "    print('MSE final', metrics.mean_squared_error(ytrue, ypred))\n",
    "    \n",
    "    print(len(ytrue), len(ypred))\n",
    "\n",
    "    ## downstream plots: compare before and after optimization effects\n",
    "    # prior relationship between kmer counts and observed \n",
    "    plt.subplot(1, 2, 1)\n",
    "    \n",
    "    ypred_init = np.array(x2.sum(axis=1))\n",
    "    \n",
    "    plt.scatter(np.array(ytrue), ypred_init, s=10, c='red')\n",
    "    plt.xlabel('counts [norm]')\n",
    "    plt.ylabel('sum of k-mer prob')\n",
    "\n",
    "    plt.subplot(1, 2, 2)\n",
    "    plt.scatter(np.array(ytrue), np.array(ypred), s=10)\n",
    "    plt.xlabel('observed')\n",
    "    plt.ylabel('predicted')\n",
    "\n",
    "    plt.tight_layout()\n",
    "    plt.show()\n",
    "    \n",
    "    return net, ytrue, ypred"
   ]
  },
  {
   "cell_type": "code",
   "execution_count": null,
   "metadata": {},
   "outputs": [],
   "source": [
    "for ki in range(kstart, kstop):\n",
    "    \n",
    "    # this is a function call to the whole pipeline routine.\n",
    "    nsel = 10000 # df.shape[0] # 10000\n",
    "    net, ytrue, ypred = get_trained_model(df, kmer_table_by_k, ki, n_epochs=2000, log_each=250, nsel=nsel)\n",
    "    \n",
    "    ppms = []\n",
    "    for ppm in net.conv1d_set:\n",
    "        ppm = ppm.weight.data.numpy()\n",
    "        ppm = pd.DataFrame(ppm[0])    \n",
    "        ppms.append(ppm)\n",
    "    for i, ppm in enumerate(ppms):\n",
    "        plt.subplot(len(ppms), 1, i + 1)\n",
    "        sns.heatmap(ppm, cmap='Reds')\n",
    "\n",
    "    plt.show()\n",
    "    \n",
    "    print(net.scale_set)\n",
    "    \n",
    "    ### Visualize results (not working without screg)\n",
    "    plot_logo = False\n",
    "    if plot_logo:\n",
    "        import screg as scr\n",
    "        scr.constants.ANNOTATIONS_DIRECTORY = '/mnt/znas/icb_zstore01/groups/ml01/datasets/annotations'\n",
    "        scr.constants.SCREG_DATA_DIRECTORY = '/mnt/znas/icb_zstore01/groups/ml01/workspace/ignacio.ibarra/screg/data'\n",
    "\n",
    "        for mi, motif in enumerate(ppms):\n",
    "            ppm = pd.DataFrame(motif)\n",
    "            norm = True\n",
    "            if norm:\n",
    "                for c in ppm:\n",
    "                    # print(c)\n",
    "                    ppm[c] = (ppm[c] - min(ppm[c])) / (max(ppm[c]) - min(ppm[c]))\n",
    "                    ppm[c] = ppm[c] / sum(ppm[c])\n",
    "            ppm.index = 'A', 'C', 'G', 'T'\n",
    "            print(mi * 2 + 1)\n",
    "            ax = plt.subplot(len(ppms), 2, mi * 2 + 1)\n",
    "            sns.heatmap(ppm, cmap='Reds',)\n",
    "            print(mi * 2 + 2)\n",
    "            ax = plt.subplot(len(ppms), 2, mi * 2 + 2)\n",
    "            \n",
    "            scr.pl.plot_pwm_model('learned motif %i' % (mi + 1), ppm=ppm, ax=ax)\n",
    "            plt.ylim([0, 1.3])\n",
    "            plt.ylabel('Bits')\n",
    "            ppm\n",
    "            plt.tight_layout()\n",
    "        plt.show()"
   ]
  },
  {
   "cell_type": "markdown",
   "metadata": {},
   "source": [
    "### end. "
   ]
  },
  {
   "cell_type": "markdown",
   "metadata": {},
   "source": [
    "### Checking log conversions here"
   ]
  },
  {
   "cell_type": "code",
   "execution_count": null,
   "metadata": {},
   "outputs": [],
   "source": [
    "import numpy as np\n",
    "# create dummy data for training\n",
    "x_values = [i for i in range(11)]\n",
    "\n",
    "# log conversion\n",
    "x_train = np.array(x_values, dtype=np.float32)\n",
    "x_values = np.power(x_train, 10)\n",
    "x_train = np.log10(x_values + 1)\n",
    "x_train = x_train.reshape(-1, 1)\n",
    "\n",
    "y_values = [2*i + 1 for i in x_values]\n",
    "y_train = np.array(y_values, dtype=np.float32)\n",
    "y_train = np.log10(y_train + 1)\n",
    "\n",
    "x_train += 100\n",
    "\n",
    "x_train -= np.mean(x_train)\n",
    "x_train += np.abs(np.min(x_train))\n",
    "\n",
    "y_train = y_train.reshape(-1, 1)"
   ]
  },
  {
   "cell_type": "code",
   "execution_count": null,
   "metadata": {},
   "outputs": [],
   "source": [
    "plt.scatter(x_train, y_train)"
   ]
  },
  {
   "cell_type": "code",
   "execution_count": null,
   "metadata": {},
   "outputs": [],
   "source": [
    "import torch\n",
    "from torch.autograd import Variable\n",
    "class linearRegression(torch.nn.Module):\n",
    "    def __init__(self, inputSize, outputSize):\n",
    "        super(linearRegression, self).__init__()\n",
    "        self.linear = torch.nn.Linear(inputSize, outputSize)\n",
    "\n",
    "    def forward(self, x):\n",
    "        out = self.linear(x)\n",
    "        return out\n"
   ]
  },
  {
   "cell_type": "code",
   "execution_count": null,
   "metadata": {},
   "outputs": [],
   "source": [
    "inputDim = 1        # takes variable 'x' \n",
    "outputDim = 1       # takes variable 'y'\n",
    "learningRate = 0.001\n",
    "epochs = 10000\n",
    "\n",
    "model = linearRegression(inputDim, outputDim)\n",
    "##### For GPU #######\n",
    "if torch.cuda.is_available():\n",
    "    model.cuda()\n"
   ]
  },
  {
   "cell_type": "code",
   "execution_count": null,
   "metadata": {},
   "outputs": [],
   "source": [
    "criterion = torch.nn.MSELoss() \n",
    "optimizer = torch.optim.SGD(model.parameters(), lr=learningRate)\n",
    "for epoch in range(epochs):\n",
    "    # Converting inputs and labels to Variable\n",
    "    if torch.cuda.is_available():\n",
    "        inputs = Variable(torch.from_numpy(x_train).cuda())\n",
    "        labels = Variable(torch.from_numpy(y_train).cuda())\n",
    "    else:\n",
    "        inputs = Variable(torch.from_numpy(x_train))\n",
    "        labels = Variable(torch.from_numpy(y_train))\n",
    "\n",
    "    # Clear gradient buffers because we don't want any gradient from previous epoch to carry forward, dont want to cummulate gradients\n",
    "    optimizer.zero_grad()\n",
    "\n",
    "    # get output from the model, given the inputs\n",
    "    outputs = model(inputs)\n",
    "\n",
    "    # get loss for the predicted output\n",
    "    loss = criterion(outputs, labels)\n",
    "    # print(loss)\n",
    "    # get gradients w.r.t to parameters\n",
    "    loss.backward()\n",
    "\n",
    "    # update parameters\n",
    "    optimizer.step()\n",
    "\n",
    "    if epoch % int(epochs / 10) == 0:\n",
    "        print('epoch {}, loss {}'.format(epoch, loss.item()))"
   ]
  },
  {
   "cell_type": "code",
   "execution_count": null,
   "metadata": {},
   "outputs": [],
   "source": [
    "x_train, y_train"
   ]
  },
  {
   "cell_type": "code",
   "execution_count": null,
   "metadata": {},
   "outputs": [],
   "source": [
    "model.linear.weight.data.cpu().numpy(), model.linear.bias.data.cpu().numpy()[0]"
   ]
  },
  {
   "cell_type": "code",
   "execution_count": null,
   "metadata": {},
   "outputs": [],
   "source": [
    "with torch.no_grad(): # we don't need gradients in the testing phase\n",
    "    if torch.cuda.is_available():\n",
    "        predicted = model(Variable(torch.from_numpy(x_train).cuda())).cpu().data.numpy()\n",
    "    else:\n",
    "        predicted = model(Variable(torch.from_numpy(x_train))).data.numpy()\n",
    "    print(predicted)\n",
    "\n",
    "plt.clf()\n",
    "plt.plot(x_train, y_train, 'go', label='True data', alpha=0.5)\n",
    "plt.plot(x_train, predicted, '--', label='Predictions', alpha=0.5)\n",
    "plt.legend(loc='best')\n",
    "plt.show()"
   ]
  }
 ],
 "metadata": {
  "kernelspec": {
   "display_name": "Python [conda env:mypython3] *",
   "language": "python",
   "name": "conda-env-mypython3-py"
  },
  "language_info": {
   "codemirror_mode": {
    "name": "ipython",
    "version": 3
   },
   "file_extension": ".py",
   "mimetype": "text/x-python",
   "name": "python",
   "nbconvert_exporter": "python",
   "pygments_lexer": "ipython3",
   "version": "3.7.8"
  }
 },
 "nbformat": 4,
 "nbformat_minor": 4
}
