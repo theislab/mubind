{
 "cells": [
  {
   "cell_type": "code",
   "execution_count": 7,
   "id": "004d2a17-2952-4822-83ae-09dd177136d6",
   "metadata": {},
   "outputs": [],
   "source": [
    "%load_ext autoreload\n",
    "%autoreload 2"
   ]
  },
  {
   "cell_type": "code",
   "execution_count": 8,
   "id": "27c59d94-fd4a-4a3c-9abf-5109ef97c02f",
   "metadata": {},
   "outputs": [
    {
     "name": "stdout",
     "output_type": "stream",
     "text": [
      "Using device: cuda:0\n"
     ]
    }
   ],
   "source": [
    "import mubind as mb\n",
    "import numpy as np\n",
    "import pandas as pd\n",
    "import torch\n",
    "# mb.models.MultiBind\n",
    "import torch.optim as topti\n",
    "import torch.utils.data as tdata\n",
    "import matplotlib.pyplot as plt\n",
    "import logomaker\n",
    "\n",
    "# Use a GPU if available, as it should be faster.\n",
    "device = torch.device(\"cuda:0\" if torch.cuda.is_available() else \"cpu\")\n",
    "print(\"Using device: \" + str(device))"
   ]
  },
  {
   "cell_type": "code",
   "execution_count": 9,
   "id": "83b8f413-5a38-48ca-b690-8b74683dc562",
   "metadata": {},
   "outputs": [],
   "source": [
    "mb.bindome.constants.ANNOTATIONS_DIRECTORY = 'annotations'"
   ]
  },
  {
   "cell_type": "code",
   "execution_count": 10,
   "id": "e226d21e-d360-4316-872a-777b6895b51e",
   "metadata": {},
   "outputs": [],
   "source": [
    "adata = mb.bindome.datasets.scATAC.PBMCs_10x_v2(datadir='../../atac_poisson_study/data/')\n",
    "peak_ids = adata.var_names"
   ]
  },
  {
   "cell_type": "code",
   "execution_count": 11,
   "id": "4c6414ce-fd5d-4022-8366-af929eb2d0b3",
   "metadata": {},
   "outputs": [],
   "source": [
    "adata.var['summit'] = ((adata.var['end'] + adata.var['start']) / 2).astype(int)\n",
    "adata.var['summit.start'] = adata.var['summit'] - 100\n",
    "adata.var['summit.end'] = adata.var['summit'] + 100"
   ]
  },
  {
   "cell_type": "code",
   "execution_count": 12,
   "id": "2f6301bc-467a-4b74-a736-3e2613aab729",
   "metadata": {},
   "outputs": [],
   "source": [
    "adata.var['k.summit'] = adata.var['chr'] + ':' + adata.var['summit.start'].astype(str) + '-' + adata.var['summit.end'].astype(str)"
   ]
  },
  {
   "cell_type": "code",
   "execution_count": 13,
   "id": "3cf46010-160b-48b0-91a7-52465540a639",
   "metadata": {},
   "outputs": [
    {
     "data": {
      "text/plain": [
       "(10246, 165434)"
      ]
     },
     "execution_count": 13,
     "metadata": {},
     "output_type": "execute_result"
    }
   ],
   "source": [
    "adata.shape"
   ]
  },
  {
   "cell_type": "code",
   "execution_count": 14,
   "id": "0b52b233-6252-4829-865c-906fd82bc48d",
   "metadata": {},
   "outputs": [],
   "source": [
    "import mubind as mb"
   ]
  },
  {
   "cell_type": "code",
   "execution_count": 15,
   "id": "7effe82e-e5d9-4eb2-810d-8aa4cd6b0963",
   "metadata": {},
   "outputs": [
    {
     "name": "stdout",
     "output_type": "stream",
     "text": [
      "/tmp/tmp0xfooxd5\n",
      "genome hg38 False\n",
      "options\n",
      "/mnt/c/Users/ignacio.ibarra/Dropbox/annotations/hg38/genome/hg38.fa\n",
      "True /mnt/c/Users/ignacio.ibarra/Dropbox/annotations/hg38/genome/hg38.fa\n",
      "running bedtools...\n",
      "bedtools getfasta -fi /mnt/c/Users/ignacio.ibarra/Dropbox/annotations/hg38/genome/hg38.fa -bed /tmp/tmp0xfooxd5 -fo /tmp/tmpgjcp0ben\n"
     ]
    }
   ],
   "source": [
    "n_seqs = 1000\n",
    "seqs = mb.bindome.tl.get_sequences_from_bed(adata.var[['chr', 'summit.start', 'summit.end']].head(n_seqs), genome='hg38', uppercase=True)\n",
    "keys = set([s[0] for s in seqs])\n",
    "adata = adata[:,adata.var['k.summit'].isin(keys)]\n",
    "# seqs = [[s[0], s[1].upper()] for s in seqs[0]]"
   ]
  },
  {
   "cell_type": "code",
   "execution_count": 16,
   "id": "88a0f698-3282-43bd-835e-af784c80bad1",
   "metadata": {},
   "outputs": [
    {
     "data": {
      "text/plain": [
       "(10246, 1000)"
      ]
     },
     "execution_count": 16,
     "metadata": {},
     "output_type": "execute_result"
    }
   ],
   "source": [
    "adata.shape"
   ]
  },
  {
   "cell_type": "code",
   "execution_count": 18,
   "id": "fbee1199-34d9-495d-a17a-c9a757e63bc4",
   "metadata": {},
   "outputs": [
    {
     "data": {
      "text/plain": [
       "1000"
      ]
     },
     "execution_count": 18,
     "metadata": {},
     "output_type": "execute_result"
    }
   ],
   "source": [
    "len(seqs)"
   ]
  },
  {
   "cell_type": "code",
   "execution_count": 19,
   "id": "43712938-90b9-43f4-8a1d-14c40766ba81",
   "metadata": {},
   "outputs": [],
   "source": [
    "# remove Ns\n",
    "seqs = [[s[0], s[1].replace('N', '')] for s in seqs]\n",
    "counts = adata.X.T"
   ]
  },
  {
   "cell_type": "code",
   "execution_count": 20,
   "id": "8babeabf-0b8f-478a-b479-121fa62c8408",
   "metadata": {},
   "outputs": [],
   "source": [
    "next_data = pd.DataFrame.sparse.from_spmatrix(counts)\n"
   ]
  },
  {
   "cell_type": "code",
   "execution_count": 21,
   "id": "0d579216-c739-4e93-b686-dda243b07310",
   "metadata": {},
   "outputs": [],
   "source": [
    "next_data['seq'] = [s[1] for s in seqs]"
   ]
  },
  {
   "cell_type": "code",
   "execution_count": 22,
   "id": "f97306ac-efa3-4f4f-a15d-164788fe5a12",
   "metadata": {},
   "outputs": [
    {
     "data": {
      "text/html": [
       "<div>\n",
       "<style scoped>\n",
       "    .dataframe tbody tr th:only-of-type {\n",
       "        vertical-align: middle;\n",
       "    }\n",
       "\n",
       "    .dataframe tbody tr th {\n",
       "        vertical-align: top;\n",
       "    }\n",
       "\n",
       "    .dataframe thead th {\n",
       "        text-align: right;\n",
       "    }\n",
       "</style>\n",
       "<table border=\"1\" class=\"dataframe\">\n",
       "  <thead>\n",
       "    <tr style=\"text-align: right;\">\n",
       "      <th></th>\n",
       "      <th>0</th>\n",
       "      <th>1</th>\n",
       "      <th>2</th>\n",
       "      <th>3</th>\n",
       "      <th>4</th>\n",
       "      <th>5</th>\n",
       "      <th>6</th>\n",
       "      <th>7</th>\n",
       "      <th>8</th>\n",
       "      <th>9</th>\n",
       "      <th>...</th>\n",
       "      <th>10237</th>\n",
       "      <th>10238</th>\n",
       "      <th>10239</th>\n",
       "      <th>10240</th>\n",
       "      <th>10241</th>\n",
       "      <th>10242</th>\n",
       "      <th>10243</th>\n",
       "      <th>10244</th>\n",
       "      <th>10245</th>\n",
       "      <th>seq</th>\n",
       "    </tr>\n",
       "  </thead>\n",
       "  <tbody>\n",
       "    <tr>\n",
       "      <th>0</th>\n",
       "      <td>0.0</td>\n",
       "      <td>0.0</td>\n",
       "      <td>0.0</td>\n",
       "      <td>0.0</td>\n",
       "      <td>0.0</td>\n",
       "      <td>0.0</td>\n",
       "      <td>0.0</td>\n",
       "      <td>0.0</td>\n",
       "      <td>0.0</td>\n",
       "      <td>0.0</td>\n",
       "      <td>...</td>\n",
       "      <td>0.0</td>\n",
       "      <td>0.0</td>\n",
       "      <td>0.0</td>\n",
       "      <td>0.0</td>\n",
       "      <td>0.0</td>\n",
       "      <td>0.0</td>\n",
       "      <td>0.0</td>\n",
       "      <td>0.0</td>\n",
       "      <td>0.0</td>\n",
       "      <td>CCCTAACCCTAACCCTAACCCTAACCCTAACCCCTAACCCTAACCC...</td>\n",
       "    </tr>\n",
       "    <tr>\n",
       "      <th>1</th>\n",
       "      <td>0.0</td>\n",
       "      <td>0.0</td>\n",
       "      <td>0.0</td>\n",
       "      <td>0.0</td>\n",
       "      <td>0.0</td>\n",
       "      <td>0.0</td>\n",
       "      <td>0.0</td>\n",
       "      <td>0.0</td>\n",
       "      <td>0.0</td>\n",
       "      <td>0.0</td>\n",
       "      <td>...</td>\n",
       "      <td>0.0</td>\n",
       "      <td>0.0</td>\n",
       "      <td>0.0</td>\n",
       "      <td>0.0</td>\n",
       "      <td>0.0</td>\n",
       "      <td>0.0</td>\n",
       "      <td>0.0</td>\n",
       "      <td>0.0</td>\n",
       "      <td>0.0</td>\n",
       "      <td>ACAACCCTAACCCTAACCCTAACAACCCTAACCCTAACCCTAACCC...</td>\n",
       "    </tr>\n",
       "    <tr>\n",
       "      <th>2</th>\n",
       "      <td>0.0</td>\n",
       "      <td>0.0</td>\n",
       "      <td>0.0</td>\n",
       "      <td>0.0</td>\n",
       "      <td>0.0</td>\n",
       "      <td>0.0</td>\n",
       "      <td>0.0</td>\n",
       "      <td>0.0</td>\n",
       "      <td>0.0</td>\n",
       "      <td>0.0</td>\n",
       "      <td>...</td>\n",
       "      <td>0.0</td>\n",
       "      <td>0.0</td>\n",
       "      <td>0.0</td>\n",
       "      <td>0.0</td>\n",
       "      <td>0.0</td>\n",
       "      <td>0.0</td>\n",
       "      <td>0.0</td>\n",
       "      <td>0.0</td>\n",
       "      <td>0.0</td>\n",
       "      <td>CGCAGAGAGGCGCGCCGCGCCGGCGCAGGCGCAGAGACACATGCTA...</td>\n",
       "    </tr>\n",
       "    <tr>\n",
       "      <th>3</th>\n",
       "      <td>0.0</td>\n",
       "      <td>0.0</td>\n",
       "      <td>0.0</td>\n",
       "      <td>0.0</td>\n",
       "      <td>0.0</td>\n",
       "      <td>0.0</td>\n",
       "      <td>0.0</td>\n",
       "      <td>0.0</td>\n",
       "      <td>0.0</td>\n",
       "      <td>0.0</td>\n",
       "      <td>...</td>\n",
       "      <td>0.0</td>\n",
       "      <td>0.0</td>\n",
       "      <td>0.0</td>\n",
       "      <td>0.0</td>\n",
       "      <td>0.0</td>\n",
       "      <td>0.0</td>\n",
       "      <td>0.0</td>\n",
       "      <td>0.0</td>\n",
       "      <td>0.0</td>\n",
       "      <td>ACTGGGGCCTGAGCTGCGTGGTGGGGAGAGAGTCTCTCCCCTGCCC...</td>\n",
       "    </tr>\n",
       "    <tr>\n",
       "      <th>4</th>\n",
       "      <td>0.0</td>\n",
       "      <td>0.0</td>\n",
       "      <td>0.0</td>\n",
       "      <td>0.0</td>\n",
       "      <td>0.0</td>\n",
       "      <td>0.0</td>\n",
       "      <td>0.0</td>\n",
       "      <td>0.0</td>\n",
       "      <td>0.0</td>\n",
       "      <td>0.0</td>\n",
       "      <td>...</td>\n",
       "      <td>0.0</td>\n",
       "      <td>0.0</td>\n",
       "      <td>0.0</td>\n",
       "      <td>0.0</td>\n",
       "      <td>1.0</td>\n",
       "      <td>0.0</td>\n",
       "      <td>0.0</td>\n",
       "      <td>0.0</td>\n",
       "      <td>0.0</td>\n",
       "      <td>CTTCTGAAAGGGTTGCTTGACCCACAGATGTGAAGCTGAGGCTGAA...</td>\n",
       "    </tr>\n",
       "    <tr>\n",
       "      <th>...</th>\n",
       "      <td>...</td>\n",
       "      <td>...</td>\n",
       "      <td>...</td>\n",
       "      <td>...</td>\n",
       "      <td>...</td>\n",
       "      <td>...</td>\n",
       "      <td>...</td>\n",
       "      <td>...</td>\n",
       "      <td>...</td>\n",
       "      <td>...</td>\n",
       "      <td>...</td>\n",
       "      <td>...</td>\n",
       "      <td>...</td>\n",
       "      <td>...</td>\n",
       "      <td>...</td>\n",
       "      <td>...</td>\n",
       "      <td>...</td>\n",
       "      <td>...</td>\n",
       "      <td>...</td>\n",
       "      <td>...</td>\n",
       "      <td>...</td>\n",
       "    </tr>\n",
       "    <tr>\n",
       "      <th>995</th>\n",
       "      <td>0.0</td>\n",
       "      <td>0.0</td>\n",
       "      <td>0.0</td>\n",
       "      <td>0.0</td>\n",
       "      <td>0.0</td>\n",
       "      <td>0.0</td>\n",
       "      <td>0.0</td>\n",
       "      <td>0.0</td>\n",
       "      <td>0.0</td>\n",
       "      <td>0.0</td>\n",
       "      <td>...</td>\n",
       "      <td>0.0</td>\n",
       "      <td>0.0</td>\n",
       "      <td>0.0</td>\n",
       "      <td>0.0</td>\n",
       "      <td>0.0</td>\n",
       "      <td>0.0</td>\n",
       "      <td>0.0</td>\n",
       "      <td>0.0</td>\n",
       "      <td>0.0</td>\n",
       "      <td>GCTGGGCGGTGAGGAGGGAGCTGCTGCCTGGCACGGGGACAGGGTT...</td>\n",
       "    </tr>\n",
       "    <tr>\n",
       "      <th>996</th>\n",
       "      <td>0.0</td>\n",
       "      <td>0.0</td>\n",
       "      <td>0.0</td>\n",
       "      <td>0.0</td>\n",
       "      <td>0.0</td>\n",
       "      <td>0.0</td>\n",
       "      <td>0.0</td>\n",
       "      <td>0.0</td>\n",
       "      <td>0.0</td>\n",
       "      <td>0.0</td>\n",
       "      <td>...</td>\n",
       "      <td>0.0</td>\n",
       "      <td>0.0</td>\n",
       "      <td>0.0</td>\n",
       "      <td>0.0</td>\n",
       "      <td>0.0</td>\n",
       "      <td>0.0</td>\n",
       "      <td>0.0</td>\n",
       "      <td>0.0</td>\n",
       "      <td>0.0</td>\n",
       "      <td>CTGAAGCCGCTCTCCCCCCACCTCCTGAAAAACGCCAACATTAAAG...</td>\n",
       "    </tr>\n",
       "    <tr>\n",
       "      <th>997</th>\n",
       "      <td>0.0</td>\n",
       "      <td>0.0</td>\n",
       "      <td>0.0</td>\n",
       "      <td>0.0</td>\n",
       "      <td>0.0</td>\n",
       "      <td>0.0</td>\n",
       "      <td>0.0</td>\n",
       "      <td>0.0</td>\n",
       "      <td>0.0</td>\n",
       "      <td>0.0</td>\n",
       "      <td>...</td>\n",
       "      <td>0.0</td>\n",
       "      <td>0.0</td>\n",
       "      <td>0.0</td>\n",
       "      <td>0.0</td>\n",
       "      <td>0.0</td>\n",
       "      <td>1.0</td>\n",
       "      <td>1.0</td>\n",
       "      <td>0.0</td>\n",
       "      <td>0.0</td>\n",
       "      <td>GCAGCCCCCGGCAGCGCCCACCGGACGGGCTGGAACGGTGGGTTAC...</td>\n",
       "    </tr>\n",
       "    <tr>\n",
       "      <th>998</th>\n",
       "      <td>0.0</td>\n",
       "      <td>0.0</td>\n",
       "      <td>0.0</td>\n",
       "      <td>1.0</td>\n",
       "      <td>0.0</td>\n",
       "      <td>0.0</td>\n",
       "      <td>0.0</td>\n",
       "      <td>0.0</td>\n",
       "      <td>0.0</td>\n",
       "      <td>0.0</td>\n",
       "      <td>...</td>\n",
       "      <td>0.0</td>\n",
       "      <td>0.0</td>\n",
       "      <td>0.0</td>\n",
       "      <td>0.0</td>\n",
       "      <td>0.0</td>\n",
       "      <td>0.0</td>\n",
       "      <td>0.0</td>\n",
       "      <td>0.0</td>\n",
       "      <td>0.0</td>\n",
       "      <td>TACCTAAGCTGTCCAAGATCTCCCGGCAGCTGCTGACCCCGAGGGA...</td>\n",
       "    </tr>\n",
       "    <tr>\n",
       "      <th>999</th>\n",
       "      <td>0.0</td>\n",
       "      <td>0.0</td>\n",
       "      <td>0.0</td>\n",
       "      <td>0.0</td>\n",
       "      <td>0.0</td>\n",
       "      <td>1.0</td>\n",
       "      <td>1.0</td>\n",
       "      <td>1.0</td>\n",
       "      <td>0.0</td>\n",
       "      <td>0.0</td>\n",
       "      <td>...</td>\n",
       "      <td>0.0</td>\n",
       "      <td>0.0</td>\n",
       "      <td>0.0</td>\n",
       "      <td>0.0</td>\n",
       "      <td>0.0</td>\n",
       "      <td>0.0</td>\n",
       "      <td>0.0</td>\n",
       "      <td>0.0</td>\n",
       "      <td>0.0</td>\n",
       "      <td>CCAAGCGGCGCCCGAGTGAGGAGTCGTTTCTGCTTTTCTCAGCAAT...</td>\n",
       "    </tr>\n",
       "  </tbody>\n",
       "</table>\n",
       "<p>1000 rows × 10247 columns</p>\n",
       "</div>"
      ],
      "text/plain": [
       "       0    1    2    3    4    5    6    7    8    9  ...  10237  10238  \\\n",
       "0    0.0  0.0  0.0  0.0  0.0  0.0  0.0  0.0  0.0  0.0  ...    0.0    0.0   \n",
       "1    0.0  0.0  0.0  0.0  0.0  0.0  0.0  0.0  0.0  0.0  ...    0.0    0.0   \n",
       "2    0.0  0.0  0.0  0.0  0.0  0.0  0.0  0.0  0.0  0.0  ...    0.0    0.0   \n",
       "3    0.0  0.0  0.0  0.0  0.0  0.0  0.0  0.0  0.0  0.0  ...    0.0    0.0   \n",
       "4    0.0  0.0  0.0  0.0  0.0  0.0  0.0  0.0  0.0  0.0  ...    0.0    0.0   \n",
       "..   ...  ...  ...  ...  ...  ...  ...  ...  ...  ...  ...    ...    ...   \n",
       "995  0.0  0.0  0.0  0.0  0.0  0.0  0.0  0.0  0.0  0.0  ...    0.0    0.0   \n",
       "996  0.0  0.0  0.0  0.0  0.0  0.0  0.0  0.0  0.0  0.0  ...    0.0    0.0   \n",
       "997  0.0  0.0  0.0  0.0  0.0  0.0  0.0  0.0  0.0  0.0  ...    0.0    0.0   \n",
       "998  0.0  0.0  0.0  1.0  0.0  0.0  0.0  0.0  0.0  0.0  ...    0.0    0.0   \n",
       "999  0.0  0.0  0.0  0.0  0.0  1.0  1.0  1.0  0.0  0.0  ...    0.0    0.0   \n",
       "\n",
       "     10239  10240  10241  10242  10243  10244  10245  \\\n",
       "0      0.0    0.0    0.0    0.0    0.0    0.0    0.0   \n",
       "1      0.0    0.0    0.0    0.0    0.0    0.0    0.0   \n",
       "2      0.0    0.0    0.0    0.0    0.0    0.0    0.0   \n",
       "3      0.0    0.0    0.0    0.0    0.0    0.0    0.0   \n",
       "4      0.0    0.0    1.0    0.0    0.0    0.0    0.0   \n",
       "..     ...    ...    ...    ...    ...    ...    ...   \n",
       "995    0.0    0.0    0.0    0.0    0.0    0.0    0.0   \n",
       "996    0.0    0.0    0.0    0.0    0.0    0.0    0.0   \n",
       "997    0.0    0.0    0.0    1.0    1.0    0.0    0.0   \n",
       "998    0.0    0.0    0.0    0.0    0.0    0.0    0.0   \n",
       "999    0.0    0.0    0.0    0.0    0.0    0.0    0.0   \n",
       "\n",
       "                                                   seq  \n",
       "0    CCCTAACCCTAACCCTAACCCTAACCCTAACCCCTAACCCTAACCC...  \n",
       "1    ACAACCCTAACCCTAACCCTAACAACCCTAACCCTAACCCTAACCC...  \n",
       "2    CGCAGAGAGGCGCGCCGCGCCGGCGCAGGCGCAGAGACACATGCTA...  \n",
       "3    ACTGGGGCCTGAGCTGCGTGGTGGGGAGAGAGTCTCTCCCCTGCCC...  \n",
       "4    CTTCTGAAAGGGTTGCTTGACCCACAGATGTGAAGCTGAGGCTGAA...  \n",
       "..                                                 ...  \n",
       "995  GCTGGGCGGTGAGGAGGGAGCTGCTGCCTGGCACGGGGACAGGGTT...  \n",
       "996  CTGAAGCCGCTCTCCCCCCACCTCCTGAAAAACGCCAACATTAAAG...  \n",
       "997  GCAGCCCCCGGCAGCGCCCACCGGACGGGCTGGAACGGTGGGTTAC...  \n",
       "998  TACCTAAGCTGTCCAAGATCTCCCGGCAGCTGCTGACCCCGAGGGA...  \n",
       "999  CCAAGCGGCGCCCGAGTGAGGAGTCGTTTCTGCTTTTCTCAGCAAT...  \n",
       "\n",
       "[1000 rows x 10247 columns]"
      ]
     },
     "execution_count": 22,
     "metadata": {},
     "output_type": "execute_result"
    }
   ],
   "source": [
    "next_data"
   ]
  },
  {
   "cell_type": "code",
   "execution_count": 52,
   "id": "32ca62c7-c514-4436-8cc2-4533687bb627",
   "metadata": {},
   "outputs": [],
   "source": [
    "# next_data[next_data.columns[:-1]].sum(axis=1).sort_values(ascending=False)"
   ]
  },
  {
   "cell_type": "code",
   "execution_count": 23,
   "id": "0402f0e4-eee8-429c-bdc7-3da32fbd00ed",
   "metadata": {},
   "outputs": [
    {
     "name": "stderr",
     "output_type": "stream",
     "text": [
      "/tmp/ipykernel_27764/3781555156.py:1: FutureWarning: Dropping of nuisance columns in DataFrame reductions (with 'numeric_only=None') is deprecated; in a future version this will raise TypeError.  Select only valid columns before calling the reduction.\n",
      "  next_data.head(1000).var(axis=1)\n"
     ]
    },
    {
     "data": {
      "text/plain": [
       "0      0.005533\n",
       "1      0.011194\n",
       "2      0.010443\n",
       "3      0.016172\n",
       "4      0.016230\n",
       "         ...   \n",
       "995    0.030649\n",
       "996    0.056177\n",
       "997    0.080205\n",
       "998    0.025153\n",
       "999    0.156134\n",
       "Length: 1000, dtype: float64"
      ]
     },
     "execution_count": 23,
     "metadata": {},
     "output_type": "execute_result"
    }
   ],
   "source": [
    "next_data.head(1000).var(axis=1)"
   ]
  },
  {
   "cell_type": "code",
   "execution_count": 24,
   "id": "f51aec63-035e-440d-90ab-03d783a7aac3",
   "metadata": {},
   "outputs": [],
   "source": [
    "# next_data.var(axis=1)"
   ]
  },
  {
   "cell_type": "code",
   "execution_count": 25,
   "id": "c1d56c4d-003b-4649-991b-e5445046d39b",
   "metadata": {},
   "outputs": [
    {
     "name": "stdout",
     "output_type": "stream",
     "text": [
      "0 (1000, 10247)\n"
     ]
    }
   ],
   "source": [
    "var = []\n",
    "for ri, r in next_data.iterrows():\n",
    "    if ri % 10000 == 0:\n",
    "        print(ri, next_data.shape)\n",
    "    # print(ri, r.values[:-1], r.values[:-1].var())\n",
    "    var.append(r.values[:-1].var())\n",
    "    # break"
   ]
  },
  {
   "cell_type": "code",
   "execution_count": 26,
   "id": "f4544a8b-2354-4ded-b2dc-e8b3f7e5ead6",
   "metadata": {},
   "outputs": [],
   "source": [
    "next_data['var'] = var"
   ]
  },
  {
   "cell_type": "code",
   "execution_count": 57,
   "id": "2cd45e71-f7d5-4813-81af-95b6b93bd924",
   "metadata": {},
   "outputs": [],
   "source": [
    "# sum_index = next_data[next_data.columns[:-1]].var(axis=1).sort_values(ascending=False).index"
   ]
  },
  {
   "cell_type": "code",
   "execution_count": 27,
   "id": "78bca871-c907-4b78-a0f9-ec5eea75edde",
   "metadata": {},
   "outputs": [],
   "source": [
    "top_var = next_data[['var']].sort_values('var', ascending=False).index[:1000]"
   ]
  },
  {
   "cell_type": "code",
   "execution_count": 28,
   "id": "8083e53a-9928-4d00-a243-9c40283b4aab",
   "metadata": {},
   "outputs": [],
   "source": [
    "# next_data = next_data.head(10000)\n",
    "next_data_sel = next_data.reindex(top_var).reset_index(drop=True)"
   ]
  },
  {
   "cell_type": "code",
   "execution_count": 29,
   "id": "609c8c1d-44e5-475b-8031-02f2472df9b8",
   "metadata": {},
   "outputs": [
    {
     "data": {
      "text/html": [
       "<div>\n",
       "<style scoped>\n",
       "    .dataframe tbody tr th:only-of-type {\n",
       "        vertical-align: middle;\n",
       "    }\n",
       "\n",
       "    .dataframe tbody tr th {\n",
       "        vertical-align: top;\n",
       "    }\n",
       "\n",
       "    .dataframe thead th {\n",
       "        text-align: right;\n",
       "    }\n",
       "</style>\n",
       "<table border=\"1\" class=\"dataframe\">\n",
       "  <thead>\n",
       "    <tr style=\"text-align: right;\">\n",
       "      <th></th>\n",
       "      <th>0</th>\n",
       "      <th>1</th>\n",
       "      <th>2</th>\n",
       "      <th>3</th>\n",
       "      <th>4</th>\n",
       "      <th>5</th>\n",
       "      <th>6</th>\n",
       "      <th>7</th>\n",
       "      <th>8</th>\n",
       "      <th>9</th>\n",
       "      <th>...</th>\n",
       "      <th>10238</th>\n",
       "      <th>10239</th>\n",
       "      <th>10240</th>\n",
       "      <th>10241</th>\n",
       "      <th>10242</th>\n",
       "      <th>10243</th>\n",
       "      <th>10244</th>\n",
       "      <th>10245</th>\n",
       "      <th>seq</th>\n",
       "      <th>var</th>\n",
       "    </tr>\n",
       "  </thead>\n",
       "  <tbody>\n",
       "    <tr>\n",
       "      <th>0</th>\n",
       "      <td>3.0</td>\n",
       "      <td>1.0</td>\n",
       "      <td>2.0</td>\n",
       "      <td>2.0</td>\n",
       "      <td>3.0</td>\n",
       "      <td>1.0</td>\n",
       "      <td>7.0</td>\n",
       "      <td>4.0</td>\n",
       "      <td>3.0</td>\n",
       "      <td>3.0</td>\n",
       "      <td>...</td>\n",
       "      <td>4.0</td>\n",
       "      <td>1.0</td>\n",
       "      <td>7.0</td>\n",
       "      <td>3.0</td>\n",
       "      <td>1.0</td>\n",
       "      <td>6.0</td>\n",
       "      <td>1.0</td>\n",
       "      <td>5.0</td>\n",
       "      <td>GCGCCGGGGCGGGGCCTGCGGGCGGGGCGGGGCCCGGGGCCGCGAA...</td>\n",
       "      <td>2.985921</td>\n",
       "    </tr>\n",
       "    <tr>\n",
       "      <th>1</th>\n",
       "      <td>0.0</td>\n",
       "      <td>1.0</td>\n",
       "      <td>1.0</td>\n",
       "      <td>2.0</td>\n",
       "      <td>1.0</td>\n",
       "      <td>1.0</td>\n",
       "      <td>3.0</td>\n",
       "      <td>3.0</td>\n",
       "      <td>0.0</td>\n",
       "      <td>0.0</td>\n",
       "      <td>...</td>\n",
       "      <td>4.0</td>\n",
       "      <td>3.0</td>\n",
       "      <td>0.0</td>\n",
       "      <td>0.0</td>\n",
       "      <td>1.0</td>\n",
       "      <td>6.0</td>\n",
       "      <td>0.0</td>\n",
       "      <td>5.0</td>\n",
       "      <td>AGGGGCAGACGGCCATGTTCGTGAACGGCGCTTCCCTTGGTGCACC...</td>\n",
       "      <td>2.815682</td>\n",
       "    </tr>\n",
       "    <tr>\n",
       "      <th>2</th>\n",
       "      <td>2.0</td>\n",
       "      <td>3.0</td>\n",
       "      <td>0.0</td>\n",
       "      <td>3.0</td>\n",
       "      <td>3.0</td>\n",
       "      <td>1.0</td>\n",
       "      <td>7.0</td>\n",
       "      <td>3.0</td>\n",
       "      <td>1.0</td>\n",
       "      <td>1.0</td>\n",
       "      <td>...</td>\n",
       "      <td>4.0</td>\n",
       "      <td>1.0</td>\n",
       "      <td>1.0</td>\n",
       "      <td>3.0</td>\n",
       "      <td>3.0</td>\n",
       "      <td>1.0</td>\n",
       "      <td>4.0</td>\n",
       "      <td>2.0</td>\n",
       "      <td>CGGCCTGGGAAACACTGTAGTGACGCCCAATCAAAACGCCACGTCT...</td>\n",
       "      <td>2.670587</td>\n",
       "    </tr>\n",
       "    <tr>\n",
       "      <th>3</th>\n",
       "      <td>5.0</td>\n",
       "      <td>0.0</td>\n",
       "      <td>1.0</td>\n",
       "      <td>0.0</td>\n",
       "      <td>1.0</td>\n",
       "      <td>2.0</td>\n",
       "      <td>1.0</td>\n",
       "      <td>1.0</td>\n",
       "      <td>1.0</td>\n",
       "      <td>3.0</td>\n",
       "      <td>...</td>\n",
       "      <td>2.0</td>\n",
       "      <td>1.0</td>\n",
       "      <td>1.0</td>\n",
       "      <td>0.0</td>\n",
       "      <td>1.0</td>\n",
       "      <td>1.0</td>\n",
       "      <td>0.0</td>\n",
       "      <td>0.0</td>\n",
       "      <td>TGTCCGGATTGCATTTCCTCTCTGGAGCTCTCTCTGTCCTGACCTC...</td>\n",
       "      <td>1.922355</td>\n",
       "    </tr>\n",
       "    <tr>\n",
       "      <th>4</th>\n",
       "      <td>3.0</td>\n",
       "      <td>1.0</td>\n",
       "      <td>2.0</td>\n",
       "      <td>1.0</td>\n",
       "      <td>2.0</td>\n",
       "      <td>2.0</td>\n",
       "      <td>3.0</td>\n",
       "      <td>0.0</td>\n",
       "      <td>0.0</td>\n",
       "      <td>5.0</td>\n",
       "      <td>...</td>\n",
       "      <td>0.0</td>\n",
       "      <td>2.0</td>\n",
       "      <td>0.0</td>\n",
       "      <td>1.0</td>\n",
       "      <td>1.0</td>\n",
       "      <td>2.0</td>\n",
       "      <td>0.0</td>\n",
       "      <td>2.0</td>\n",
       "      <td>GTTGCTCGTCGGTTCCCTCGGCTCCGCCCCCTCGGCTGTGCGTCTG...</td>\n",
       "      <td>1.888301</td>\n",
       "    </tr>\n",
       "  </tbody>\n",
       "</table>\n",
       "<p>5 rows × 10248 columns</p>\n",
       "</div>"
      ],
      "text/plain": [
       "     0    1    2    3    4    5    6    7    8    9  ...  10238  10239  10240  \\\n",
       "0  3.0  1.0  2.0  2.0  3.0  1.0  7.0  4.0  3.0  3.0  ...    4.0    1.0    7.0   \n",
       "1  0.0  1.0  1.0  2.0  1.0  1.0  3.0  3.0  0.0  0.0  ...    4.0    3.0    0.0   \n",
       "2  2.0  3.0  0.0  3.0  3.0  1.0  7.0  3.0  1.0  1.0  ...    4.0    1.0    1.0   \n",
       "3  5.0  0.0  1.0  0.0  1.0  2.0  1.0  1.0  1.0  3.0  ...    2.0    1.0    1.0   \n",
       "4  3.0  1.0  2.0  1.0  2.0  2.0  3.0  0.0  0.0  5.0  ...    0.0    2.0    0.0   \n",
       "\n",
       "   10241  10242  10243  10244  10245  \\\n",
       "0    3.0    1.0    6.0    1.0    5.0   \n",
       "1    0.0    1.0    6.0    0.0    5.0   \n",
       "2    3.0    3.0    1.0    4.0    2.0   \n",
       "3    0.0    1.0    1.0    0.0    0.0   \n",
       "4    1.0    1.0    2.0    0.0    2.0   \n",
       "\n",
       "                                                 seq       var  \n",
       "0  GCGCCGGGGCGGGGCCTGCGGGCGGGGCGGGGCCCGGGGCCGCGAA...  2.985921  \n",
       "1  AGGGGCAGACGGCCATGTTCGTGAACGGCGCTTCCCTTGGTGCACC...  2.815682  \n",
       "2  CGGCCTGGGAAACACTGTAGTGACGCCCAATCAAAACGCCACGTCT...  2.670587  \n",
       "3  TGTCCGGATTGCATTTCCTCTCTGGAGCTCTCTCTGTCCTGACCTC...  1.922355  \n",
       "4  GTTGCTCGTCGGTTCCCTCGGCTCCGCCCCCTCGGCTGTGCGTCTG...  1.888301  \n",
       "\n",
       "[5 rows x 10248 columns]"
      ]
     },
     "execution_count": 29,
     "metadata": {},
     "output_type": "execute_result"
    }
   ],
   "source": [
    "next_data_sel.head()"
   ]
  },
  {
   "cell_type": "code",
   "execution_count": 61,
   "id": "7ad469e4-7ad4-4133-a656-68261c803292",
   "metadata": {},
   "outputs": [],
   "source": [
    "# next_data_sel = next_data.copy().head(5000)\n",
    "# next_data_sel = next_data_sel[[i for i in range(1000)] + ['seq']].head(5000)\n",
    "# next_data_sel = next_data_sel[next_data_sel[next_data_sel.columns[:-1]].sum(axis=1) > 10]\n",
    "# next_data_sel = next_data_sel[next_data_sel['seq'].str.len() == 200].reset_index(drop=True)\n",
    "# next_data_sel"
   ]
  },
  {
   "cell_type": "code",
   "execution_count": 62,
   "id": "38455bca-cdc0-49b9-9596-450e15817bfa",
   "metadata": {
    "jupyter": {
     "source_hidden": true
    },
    "tags": []
   },
   "outputs": [],
   "source": [
    "next_data_sel = next_data_sel[next_data_sel['seq'].str.len() == 200].reset_index(drop=True)"
   ]
  },
  {
   "cell_type": "code",
   "execution_count": 63,
   "id": "8cacd833-a66d-459b-9b39-556539da6af8",
   "metadata": {},
   "outputs": [],
   "source": [
    "# next_data_sel.sum(axis=1)"
   ]
  },
  {
   "cell_type": "code",
   "execution_count": 30,
   "id": "6ddde91f-8c11-49b9-8c44-17cb244818c4",
   "metadata": {},
   "outputs": [],
   "source": [
    "del next_data_sel['var']"
   ]
  },
  {
   "cell_type": "code",
   "execution_count": 31,
   "id": "df89a57c-7150-463b-8d02-2b30c51e47c4",
   "metadata": {},
   "outputs": [
    {
     "data": {
      "text/plain": [
       "10245"
      ]
     },
     "execution_count": 31,
     "metadata": {},
     "output_type": "execute_result"
    }
   ],
   "source": [
    "n_rounds = next_data_sel.shape[1] - 2\n",
    "n_rounds"
   ]
  },
  {
   "cell_type": "code",
   "execution_count": 32,
   "id": "2289af0f-7482-4523-80a7-6f0a106a736d",
   "metadata": {},
   "outputs": [],
   "source": [
    "next_data_sel['batch'] = 0\n",
    "next_data_sel['batch'] = next_data_sel['batch'].astype(float)"
   ]
  },
  {
   "cell_type": "code",
   "execution_count": 40,
   "id": "003f867c-2cab-4b97-a0ea-9ad8ca32e3fc",
   "metadata": {},
   "outputs": [],
   "source": [
    "dataset = mb.datasets.SelexDataset(next_data_sel, n_rounds=n_rounds, single_encoding_step=True, enr_series=False)\n",
    "train = tdata.DataLoader(dataset=dataset, batch_size=100, shuffle=True)\n",
    "train_test = tdata.DataLoader(dataset=dataset, batch_size=5000, shuffle=False)"
   ]
  },
  {
   "cell_type": "code",
   "execution_count": 37,
   "id": "cfd40bb1-233d-447f-8c23-8c4e4a21425a",
   "metadata": {},
   "outputs": [],
   "source": [
    "w = 14\n",
    "n_kernels = 3"
   ]
  },
  {
   "cell_type": "code",
   "execution_count": null,
   "id": "ae4a5b93-52b0-4a4e-bf24-f962507f5a4a",
   "metadata": {},
   "outputs": [
    {
     "name": "stdout",
     "output_type": "stream",
     "text": [
      "# rounds 10245\n",
      "# batches 1\n",
      "# enr_series False\n",
      "next w 16\n",
      "kernel to optimize 0\n",
      "\n",
      "Freezing kernels\n",
      "setting grad status of kernel at 0 to 1\n",
      "setting grad status of kernel at 1 to 0\n",
      "mono grad 1 None\n",
      "di grad 1 None\n",
      "setting grad status of kernel at 2 to 0\n",
      "mono grad 2 None\n",
      "di grad 2 None\n",
      "\n",
      "\n",
      "before kernel optimization.\n"
     ]
    },
    {
     "data": {
      "image/png": "[encoded data removed]",
      "text/plain": [
       "<Figure size 216x72 with 3 Axes>"
      ]
     },
     "metadata": {
      "needs_background": "light"
     },
     "output_type": "display_data"
    },
    {
     "name": "stdout",
     "output_type": "stream",
     "text": [
      "Epoch:  1, Loss: 0.2541 , secs per epoch: 0.264 s\n"
     ]
    }
   ],
   "source": [
    "# assign batch and data type\n",
    "\n",
    "# data['batch'] = 0\n",
    "# data['is_count_data'] = 1\n",
    "# n_batches=3\n",
    "\n",
    "from matplotlib import rcParams\n",
    "rcParams['figure.figsize'] = 3, 1\n",
    "model_by_k_next, res_next = mb.tl.train_iterative(train, device, min_w=16, max_w=17, show_logo=True,\n",
    "                                                  num_epochs=1000, early_stopping=50, use_dinuc=False,\n",
    "                                                  n_kernels=3, log_each=50) #  seed=) # seeds.index[0]) # \n",
    "# res = []\n",
    "# model_by_k = {}\n"
   ]
  }
 ],
 "metadata": {
  "kernelspec": {
   "display_name": "multibind",
   "language": "python",
   "name": "multibind"
  },
  "language_info": {
   "codemirror_mode": {
    "name": "ipython",
    "version": 3
   },
   "file_extension": ".py",
   "mimetype": "text/x-python",
   "name": "python",
   "nbconvert_exporter": "python",
   "pygments_lexer": "ipython3",
   "version": "3.10.4"
  }
 },
 "nbformat": 4,
 "nbformat_minor": 5
}
