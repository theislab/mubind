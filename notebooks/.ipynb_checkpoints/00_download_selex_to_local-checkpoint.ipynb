{
 "cells": [
  {
   "cell_type": "code",
   "execution_count": 1,
   "id": "c121d7b6-3aa8-47e5-89b0-cdf69d8e052f",
   "metadata": {},
   "outputs": [],
   "source": [
    "# load multiple dataset from the annotations directory"
   ]
  },
  {
   "cell_type": "code",
   "execution_count": 2,
   "id": "35ad3c3b-5cea-4651-8409-2d686b12a15c",
   "metadata": {},
   "outputs": [],
   "source": [
    "# move to relevant directory to download"
   ]
  },
  {
   "cell_type": "code",
   "execution_count": 11,
   "id": "714080d9-92d7-43ee-a2eb-f0e2f5a5cac0",
   "metadata": {},
   "outputs": [
    {
     "name": "stdout",
     "output_type": "stream",
     "text": [
      "/mnt/c/Users/ignacio.ibarra/Dropbox/annotations/selex\n"
     ]
    }
   ],
   "source": [
    "cd /mnt/c/Users/ignacio.ibarra/Dropbox/annotations/selex"
   ]
  },
  {
   "cell_type": "code",
   "execution_count": 12,
   "id": "d068ed9a-e3a6-442e-8975-642f0bb08b0f",
   "metadata": {},
   "outputs": [
    {
     "name": "stdout",
     "output_type": "stream",
     "text": [
      "download TF positive data\n"
     ]
    }
   ],
   "source": [
    "print('download TF positive data')"
   ]
  },
  {
   "cell_type": "code",
   "execution_count": 13,
   "id": "a96be1b4-07b7-46c4-992b-96ea70a9c446",
   "metadata": {},
   "outputs": [],
   "source": [
    "tfs = ['FOXA1', 'ETS1', 'ALX1', 'ALX4', 'EGR1', 'ETV6', 'ETV4', 'ETV5', 'ELK1', 'ELK3', 'ELF3', 'ELF4', 'ELF2', 'ELF6']"
   ]
  },
  {
   "cell_type": "markdown",
   "id": "0c7195ab-53f2-40fb-a885-d20955925047",
   "metadata": {},
   "source": [
    "### Getting positive data for rounds R1 to Rn"
   ]
  },
  {
   "cell_type": "code",
   "execution_count": 14,
   "id": "74e5ea86-fe62-48fa-927d-18a0ec25080e",
   "metadata": {},
   "outputs": [
    {
     "data": {
      "text/plain": [
       "'/mnt/c/Users/ignacio.ibarra/Dropbox/annotations/selex'"
      ]
     },
     "execution_count": 14,
     "metadata": {},
     "output_type": "execute_result"
    }
   ],
   "source": [
    "pwd"
   ]
  },
  {
   "cell_type": "code",
   "execution_count": null,
   "id": "78fc6347-7509-4dd3-ae93-6ec138781a8f",
   "metadata": {},
   "outputs": [
    {
     "name": "stdout",
     "output_type": "stream",
     "text": [
      "FOXA1\n",
      "rsync -amv --include=\"*/\" --include=*FOXA1*.gz --exclude=\"*\" sepp:/storage/groups/ml01/datasets/annotations/selex/ .\n",
      "Warning: No xauth data; using fake authentication data for X11 forwarding.\n",
      "receiving file list ... done\n",
      "./\n",
      "PRJEB9797/\n",
      "\n",
      "sent 109 bytes  received 956 bytes  710.00 bytes/sec\n",
      "total size is 157,139,858  speedup is 147,549.16\n",
      "\n",
      "ETS1\n",
      "rsync -amv --include=\"*/\" --include=*ETS1*.gz --exclude=\"*\" sepp:/storage/groups/ml01/datasets/annotations/selex/ .\n",
      "Warning: No xauth data; using fake authentication data for X11 forwarding.\n",
      "receiving file list ... done\n",
      "./\n",
      "PRJEB3289/\n",
      "\n",
      "sent 90 bytes  received 573 bytes  442.00 bytes/sec\n",
      "total size is 96,834,894  speedup is 146,055.65\n",
      "\n",
      "ALX1\n",
      "rsync -amv --include=\"*/\" --include=*ALX1*.gz --exclude=\"*\" sepp:/storage/groups/ml01/datasets/annotations/selex/ .\n",
      "Warning: No xauth data; using fake authentication data for X11 forwarding.\n",
      "receiving file list ... done\n",
      "./\n",
      "PRJEB9797/\n",
      "\n",
      "sent 84 bytes  received 555 bytes  426.00 bytes/sec\n",
      "total size is 57,725,779  speedup is 90,337.68\n",
      "\n",
      "ALX4\n",
      "rsync -amv --include=\"*/\" --include=*ALX4*.gz --exclude=\"*\" sepp:/storage/groups/ml01/datasets/annotations/selex/ .\n",
      "Warning: No xauth data; using fake authentication data for X11 forwarding.\n",
      "receiving file list ... done\n",
      "./\n",
      "PRJEB3289/\n",
      "PRJEB9797/\n",
      "\n",
      "sent 99 bytes  received 712 bytes  1,622.00 bytes/sec\n",
      "total size is 119,689,878  speedup is 147,583.08\n",
      "\n",
      "EGR1\n",
      "rsync -amv --include=\"*/\" --include=*EGR1*.gz --exclude=\"*\" sepp:/storage/groups/ml01/datasets/annotations/selex/ .\n",
      "Warning: No xauth data; using fake authentication data for X11 forwarding.\n",
      "receiving file list ... done\n",
      "./\n",
      "PRJEB3289/\n",
      "PRJEB9797/\n",
      "\n",
      "sent 132 bytes  received 1,237 bytes  2,738.00 bytes/sec\n",
      "total size is 210,635,784  speedup is 153,861.05\n",
      "\n",
      "ETV6\n",
      "rsync -amv --include=\"*/\" --include=*ETV6*.gz --exclude=\"*\" sepp:/storage/groups/ml01/datasets/annotations/selex/ .\n",
      "Warning: No xauth data; using fake authentication data for X11 forwarding.\n",
      "receiving file list ... done\n",
      "./\n",
      "PRJEB3289/\n",
      "PRJEB3289/ETV6_TGAGTG20NGA_AF_1.fastq.gz\n",
      "PRJEB3289/ETV6_TGAGTG20NGA_AF_2.fastq.gz\n",
      "PRJEB3289/ETV6_TGAGTG20NGA_AF_3.fastq.gz\n",
      "PRJEB3289/ETV6_TGAGTG20NGA_AF_4.fastq.gz\n",
      "\n",
      "sent 136 bytes  received 13,241,768 bytes  3,783,401.14 bytes/sec\n",
      "total size is 13,238,072  speedup is 1.00\n",
      "\n",
      "ETV4\n",
      "rsync -amv --include=\"*/\" --include=*ETV4*.gz --exclude=\"*\" sepp:/storage/groups/ml01/datasets/annotations/selex/ .\n",
      "Warning: No xauth data; using fake authentication data for X11 forwarding.\n",
      "receiving file list ... done\n",
      "./\n",
      "PRJEB3289/\n",
      "PRJEB3289/ETV4_TCTATG20NTAG_AG_1.fastq.gz\n",
      "PRJEB3289/ETV4_TCTATG20NTAG_AG_2.fastq.gz\n",
      "PRJEB3289/ETV4_TCTATG20NTAG_AG_3.fastq.gz\n",
      "PRJEB3289/ETV4_TCTATG20NTAG_AG_4.fastq.gz\n",
      "PRJEB9797/\n",
      "PRJEB9797/ETV4_FL_1_KAE_TCTCGA40NCAT.fastq.gz\n",
      "PRJEB9797/ETV4_FL_1_KAE_TGGACG40NAAG.fastq.gz\n",
      "PRJEB9797/ETV4_FL_2_KAE_TCTCGA40NCAT.fastq.gz\n",
      "PRJEB9797/ETV4_FL_2_KAE_TGGACG40NAAG.fastq.gz\n",
      "PRJEB9797/ETV4_FL_3_KAE_TCTCGA40NCAT.fastq.gz\n",
      "PRJEB9797/ETV4_FL_3_KAE_TGGACG40NAAG.fastq.gz\n",
      "PRJEB9797/ETV4_FL_4_KAE_TCTCGA40NCAT.fastq.gz\n",
      "PRJEB9797/ETV4_FL_4_KAE_TGGACG40NAAG.fastq.gz\n",
      "PRJEB9797/ETV4_eDBD_1_KAN_TATACC40NGCC.fastq.gz\n"
     ]
    }
   ],
   "source": [
    "# tf queries\n",
    "selex_dir = '/storage/groups/ml01/datasets/annotations/selex/'\n",
    "basedir = '.' # pwd has to be the selex directory\n",
    "for tf in tfs:\n",
    "    print(tf)\n",
    "    cmd = 'rsync -amv --include=\"*/\" --include=*' + tf + '*.gz --exclude=\"*\" sepp:' + selex_dir + ' ' + basedir\n",
    "    print(cmd)\n",
    "    !$cmd\n",
    "    print('')"
   ]
  },
  {
   "cell_type": "markdown",
   "id": "773f5666-64dc-40c6-8741-d6312e45b912",
   "metadata": {},
   "source": [
    "### Getting round zero data"
   ]
  },
  {
   "cell_type": "code",
   "execution_count": null,
   "id": "253a1544-d06e-4d5c-b313-93751d5840a0",
   "metadata": {},
   "outputs": [],
   "source": [
    "# list all tfs we have in the files\n",
    "import os\n",
    "barcodes = set() \n",
    "for d in os.listdir(basedir):\n",
    "    d2 = os.path.join(basedir, d)\n",
    "    for f in os.listdir(d2):\n",
    "        if not 'Zero' in f:\n",
    "            # print(f)\n",
    "            for k in f.split('.')[0].split('_'):\n",
    "                if '40N' in k or '20N' in k or '14N' in k or '30N' in k:\n",
    "                    # print(k)\n",
    "                    barcodes.add(k)\n",
    "\n",
    "print('# of relevant barcodes', len(barcodes))"
   ]
  },
  {
   "cell_type": "code",
   "execution_count": null,
   "id": "0f2108da-5a3f-4f6c-b668-8e8818cafe47",
   "metadata": {},
   "outputs": [],
   "source": [
    "# tf queries\n",
    "selex_dir = '/storage/groups/ml01/datasets/annotations/selex/'\n",
    "for bc in barcodes:\n",
    "    cmd = 'rsync -amv --include=\"*/\" --include=*Zero*' + bc + '*.gz --exclude=\"*\" sepp:' + selex_dir + ' ' + basedir\n",
    "    print(cmd)\n",
    "    !$cmd\n",
    "    # break"
   ]
  },
  {
   "cell_type": "code",
   "execution_count": null,
   "id": "8c1f07e0-fbb3-4aa9-9d5e-0946693219ce",
   "metadata": {},
   "outputs": [],
   "source": []
  }
 ],
 "metadata": {
  "kernelspec": {
   "display_name": "multibind",
   "language": "python",
   "name": "multibind"
  },
  "language_info": {
   "codemirror_mode": {
    "name": "ipython",
    "version": 3
   },
   "file_extension": ".py",
   "mimetype": "text/x-python",
   "name": "python",
   "nbconvert_exporter": "python",
   "pygments_lexer": "ipython3",
   "version": "3.7.8"
  }
 },
 "nbformat": 4,
 "nbformat_minor": 5
}
