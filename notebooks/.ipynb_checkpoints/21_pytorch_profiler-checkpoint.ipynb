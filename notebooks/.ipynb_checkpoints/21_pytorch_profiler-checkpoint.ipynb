{
 "cells": [
  {
   "cell_type": "code",
   "execution_count": 1,
   "id": "06723943-4395-4e31-9cc8-8e1e5bd5dc4c",
   "metadata": {},
   "outputs": [],
   "source": [
    "%load_ext autoreload\n",
    "%autoreload 2"
   ]
  },
  {
   "cell_type": "code",
   "execution_count": 6,
   "id": "b047c302-049e-4743-8c82-bb506a962e7f",
   "metadata": {},
   "outputs": [],
   "source": [
    "import torch\n",
    "import torchvision.models as models\n",
    "from torch.profiler import profile, record_function, ProfilerActivity"
   ]
  },
  {
   "cell_type": "code",
   "execution_count": 65,
   "id": "fbb101c1-6682-4dc6-ac00-643417a309dc",
   "metadata": {},
   "outputs": [],
   "source": [
    "# device = torch.device(\"cuda:0\" if torch.cuda.is_available() else \"cpu\")\n",
    "device = torch.device('cpu')"
   ]
  },
  {
   "cell_type": "code",
   "execution_count": 7,
   "id": "ae9bdc48-ab09-4b8f-bedf-99d9965060c9",
   "metadata": {},
   "outputs": [],
   "source": [
    "model = models.resnet18()\n",
    "inputs = torch.randn(5, 3, 224, 224)"
   ]
  },
  {
   "cell_type": "code",
   "execution_count": 25,
   "id": "d7d39084-d5f4-4490-b8d5-0594582cfdbd",
   "metadata": {},
   "outputs": [],
   "source": [
    "with profile(activities=[ProfilerActivity.CPU], record_shapes=True) as prof:\n",
    "    with record_function(\"model_inference\"):\n",
    "        model(inputs)"
   ]
  },
  {
   "cell_type": "code",
   "execution_count": 26,
   "id": "ff0c9c95-38b6-464c-955f-21d783398b5e",
   "metadata": {},
   "outputs": [
    {
     "name": "stdout",
     "output_type": "stream",
     "text": [
      "---------------------------------  ------------  ------------  ------------  ------------  ------------  ------------  \n",
      "                             Name    Self CPU %      Self CPU   CPU total %     CPU total  CPU time avg    # of Calls  \n",
      "---------------------------------  ------------  ------------  ------------  ------------  ------------  ------------  \n",
      "                  model_inference        18.98%       3.752ms        96.62%      19.100ms      19.100ms             1  \n",
      "                     aten::conv2d         2.26%     446.000us        27.12%       5.361ms     268.050us            20  \n",
      "                aten::convolution         3.38%     668.000us        24.86%       4.915ms     245.750us            20  \n",
      "                       aten::add_        24.06%       4.757ms        24.06%       4.757ms     169.893us            28  \n",
      "               aten::_convolution         2.31%     457.000us        21.48%       4.247ms     212.350us            20  \n",
      "          aten::cudnn_convolution        18.77%       3.711ms        19.17%       3.790ms     189.500us            20  \n",
      "                 aten::batch_norm         1.25%     247.000us        15.09%       2.983ms     149.150us            20  \n",
      "     aten::_batch_norm_impl_index         2.09%     414.000us        13.84%       2.736ms     136.800us            20  \n",
      "           aten::cudnn_batch_norm         9.19%       1.817ms        11.75%       2.322ms     116.100us            20  \n",
      "                      aten::relu_         1.69%     335.000us         5.71%       1.128ms      66.353us            17  \n",
      "---------------------------------  ------------  ------------  ------------  ------------  ------------  ------------  \n",
      "Self CPU time total: 19.769ms\n",
      "\n"
     ]
    }
   ],
   "source": [
    "print(prof.key_averages().table(sort_by=\"cpu_time_total\", row_limit=10))\n"
   ]
  },
  {
   "cell_type": "code",
   "execution_count": 30,
   "id": "dec573a8-8c1e-4714-afb3-5ec6a16b77b9",
   "metadata": {},
   "outputs": [
    {
     "name": "stdout",
     "output_type": "stream",
     "text": [
      "\n"
     ]
    }
   ],
   "source": [
    "print(prof.key_averages(group_by_input_shape=True).table(sort_by=\"cpu_time_total\", row_limit=10))"
   ]
  },
  {
   "cell_type": "code",
   "execution_count": 34,
   "id": "fe3ad687-b931-4b13-b4ac-b231493c33b3",
   "metadata": {},
   "outputs": [
    {
     "name": "stdout",
     "output_type": "stream",
     "text": [
      "---------------------------------  ------------  ------------  ------------  ------------  ------------  ------------  \n",
      "                             Name    Self CPU %      Self CPU   CPU total %     CPU total  CPU time avg    # of Calls  \n",
      "---------------------------------  ------------  ------------  ------------  ------------  ------------  ------------  \n",
      "                      aten::zeros         0.11%      11.000us         0.19%      18.000us      18.000us             1  \n",
      "                      aten::empty         3.44%     334.000us         3.44%     334.000us       2.738us           122  \n",
      "                      aten::zero_         0.01%       1.000us         0.01%       1.000us       1.000us             1  \n",
      "                  model_inference        21.57%       2.094ms        99.81%       9.688ms       9.688ms             1  \n",
      "                     aten::conv2d         1.14%     111.000us        39.33%       3.817ms     190.850us            20  \n",
      "                aten::convolution         2.64%     256.000us        38.18%       3.706ms     185.300us            20  \n",
      "               aten::_convolution         2.03%     197.000us        35.55%       3.450ms     172.500us            20  \n",
      "          aten::cudnn_convolution        32.63%       3.167ms        33.52%       3.253ms     162.650us            20  \n",
      "                       aten::add_         7.95%     772.000us         7.95%     772.000us      27.571us            28  \n",
      "                 aten::batch_norm         0.86%      83.000us        19.61%       1.903ms      95.150us            20  \n",
      "---------------------------------  ------------  ------------  ------------  ------------  ------------  ------------  \n",
      "Self CPU time total: 9.706ms\n",
      "\n"
     ]
    }
   ],
   "source": [
    "model = models.resnet18().cuda()\n",
    "inputs = torch.randn(5, 3, 224, 224).cuda()\n",
    "\n",
    "activities = [ProfilerActivity.CPU, ProfilerActivity.CUDA]\n",
    "with profile(activities=activities, record_shapes=True) as prof:\n",
    "    with record_function(\"model_inference\"):\n",
    "        model(inputs)\n",
    "\n",
    "print(prof.key_averages().table(sort_by=\"cuda_time_total\", row_limit=10))"
   ]
  },
  {
   "cell_type": "code",
   "execution_count": 35,
   "id": "31424ad7-05fa-4e8a-8ef0-f7673e69aff3",
   "metadata": {},
   "outputs": [
    {
     "name": "stdout",
     "output_type": "stream",
     "text": [
      "Using device: cuda:0\n"
     ]
    }
   ],
   "source": [
    "import mubind as mb\n",
    "import numpy as np\n",
    "import pandas as pd\n",
    "import torch\n",
    "import bindome as bd\n",
    "bd.constants.ANNOTATIONS_DIRECTORY = 'annotations'\n",
    "# mb.models.MultiBind\n",
    "import torch.optim as topti\n",
    "import torch.utils.data as tdata\n",
    "import matplotlib.pyplot as plt\n",
    "import logomaker\n",
    "\n",
    "# Use a GPU if available, as it should be faster.\n",
    "device = torch.device(\"cuda:0\" if torch.cuda.is_available() else \"cpu\")\n",
    "print(\"Using device: \" + str(device))"
   ]
  },
  {
   "cell_type": "code",
   "execution_count": 42,
   "id": "f4dcc9e2-1a9f-4443-9907-070babd60e06",
   "metadata": {},
   "outputs": [],
   "source": [
    "df = mb.bindome.datasets.ProBound.ctcf()\n",
    "df = df.sort_values(1, ascending=False).reset_index(drop=True)\n",
    "# data = df.head(1000)\n",
    "data = df.sample(n=100)\n",
    "# data = df.copy()\n",
    "n_rounds = 1"
   ]
  },
  {
   "cell_type": "code",
   "execution_count": 47,
   "id": "101421b3-4572-49ac-8cee-5cdc5ce96be1",
   "metadata": {},
   "outputs": [],
   "source": [
    "from matplotlib import rcParams\n",
    "rcParams['figure.figsize'] = 3, 1"
   ]
  },
  {
   "cell_type": "code",
   "execution_count": 48,
   "id": "8e4c3981-8585-4866-b06b-7f23b2c0ef5b",
   "metadata": {},
   "outputs": [
    {
     "data": {
      "text/html": [
       "<div>\n",
       "<style scoped>\n",
       "    .dataframe tbody tr th:only-of-type {\n",
       "        vertical-align: middle;\n",
       "    }\n",
       "\n",
       "    .dataframe tbody tr th {\n",
       "        vertical-align: top;\n",
       "    }\n",
       "\n",
       "    .dataframe thead th {\n",
       "        text-align: right;\n",
       "    }\n",
       "</style>\n",
       "<table border=\"1\" class=\"dataframe\">\n",
       "  <thead>\n",
       "    <tr style=\"text-align: right;\">\n",
       "      <th></th>\n",
       "      <th>seq</th>\n",
       "      <th>0</th>\n",
       "      <th>1</th>\n",
       "    </tr>\n",
       "  </thead>\n",
       "  <tbody>\n",
       "    <tr>\n",
       "      <th>20872</th>\n",
       "      <td>TGACGTCTGAAAATCGAGCGAATTGGCCGCGACGCAGGACGTCA</td>\n",
       "      <td>0</td>\n",
       "      <td>1</td>\n",
       "    </tr>\n",
       "    <tr>\n",
       "      <th>63053</th>\n",
       "      <td>TGACGTCTTCTGCTTCACGCGTAGGTGATGCTGGGTAGACGTCA</td>\n",
       "      <td>1</td>\n",
       "      <td>0</td>\n",
       "    </tr>\n",
       "    <tr>\n",
       "      <th>84525</th>\n",
       "      <td>TGACGTCCTGCGTTGGGTAGCGCAGGGAGCTGGGCACGACGTCA</td>\n",
       "      <td>1</td>\n",
       "      <td>0</td>\n",
       "    </tr>\n",
       "    <tr>\n",
       "      <th>24019</th>\n",
       "      <td>TGACGTCTTTTATTTACGTATCTTCGCTACCGGCATTGACGTCA</td>\n",
       "      <td>0</td>\n",
       "      <td>1</td>\n",
       "    </tr>\n",
       "    <tr>\n",
       "      <th>51146</th>\n",
       "      <td>TGACGTCTCGCTTCTCTTGACGGCCTTGGATTGGCTTGACGTCA</td>\n",
       "      <td>1</td>\n",
       "      <td>0</td>\n",
       "    </tr>\n",
       "    <tr>\n",
       "      <th>...</th>\n",
       "      <td>...</td>\n",
       "      <td>...</td>\n",
       "      <td>...</td>\n",
       "    </tr>\n",
       "    <tr>\n",
       "      <th>82357</th>\n",
       "      <td>TGACGTCGACACGGCCCTTTTGTTCCCATTCCGACCAGACGTCA</td>\n",
       "      <td>1</td>\n",
       "      <td>0</td>\n",
       "    </tr>\n",
       "    <tr>\n",
       "      <th>15976</th>\n",
       "      <td>TGACGTCGAGTCGCAGTATTTCGCTAATTCACGGGCCGACGTCA</td>\n",
       "      <td>0</td>\n",
       "      <td>1</td>\n",
       "    </tr>\n",
       "    <tr>\n",
       "      <th>89804</th>\n",
       "      <td>TGACGTCGAGTACCGTGAGAAAAATAAGCTCAAGAACGACGTCA</td>\n",
       "      <td>1</td>\n",
       "      <td>0</td>\n",
       "    </tr>\n",
       "    <tr>\n",
       "      <th>42060</th>\n",
       "      <td>TGACGTCATTTTTCCAGCCGGTGATTTTGTGGTGATTGACGTCA</td>\n",
       "      <td>0</td>\n",
       "      <td>1</td>\n",
       "    </tr>\n",
       "    <tr>\n",
       "      <th>62573</th>\n",
       "      <td>TGACGTCTTATCGGCATGCTCGGTAATGCATTAAAATGACGTCA</td>\n",
       "      <td>1</td>\n",
       "      <td>0</td>\n",
       "    </tr>\n",
       "  </tbody>\n",
       "</table>\n",
       "<p>100 rows × 3 columns</p>\n",
       "</div>"
      ],
      "text/plain": [
       "                                                seq  0  1\n",
       "20872  TGACGTCTGAAAATCGAGCGAATTGGCCGCGACGCAGGACGTCA  0  1\n",
       "63053  TGACGTCTTCTGCTTCACGCGTAGGTGATGCTGGGTAGACGTCA  1  0\n",
       "84525  TGACGTCCTGCGTTGGGTAGCGCAGGGAGCTGGGCACGACGTCA  1  0\n",
       "24019  TGACGTCTTTTATTTACGTATCTTCGCTACCGGCATTGACGTCA  0  1\n",
       "51146  TGACGTCTCGCTTCTCTTGACGGCCTTGGATTGGCTTGACGTCA  1  0\n",
       "...                                             ... .. ..\n",
       "82357  TGACGTCGACACGGCCCTTTTGTTCCCATTCCGACCAGACGTCA  1  0\n",
       "15976  TGACGTCGAGTCGCAGTATTTCGCTAATTCACGGGCCGACGTCA  0  1\n",
       "89804  TGACGTCGAGTACCGTGAGAAAAATAAGCTCAAGAACGACGTCA  1  0\n",
       "42060  TGACGTCATTTTTCCAGCCGGTGATTTTGTGGTGATTGACGTCA  0  1\n",
       "62573  TGACGTCTTATCGGCATGCTCGGTAATGCATTAAAATGACGTCA  1  0\n",
       "\n",
       "[100 rows x 3 columns]"
      ]
     },
     "execution_count": 48,
     "metadata": {},
     "output_type": "execute_result"
    }
   ],
   "source": [
    "data"
   ]
  },
  {
   "cell_type": "code",
   "execution_count": 70,
   "id": "de083d66-b874-4d2d-969f-a9a8f16b063d",
   "metadata": {},
   "outputs": [
    {
     "name": "stdout",
     "output_type": "stream",
     "text": [
      "loading object (# entries) 100\n"
     ]
    }
   ],
   "source": [
    "print('loading object (# entries)', data.shape[0])\n",
    "dataset = mb.datasets.SelexDataset(data, n_rounds=n_rounds)\n",
    "train = tdata.DataLoader(dataset=dataset, batch_size=50000, shuffle=True)"
   ]
  },
  {
   "cell_type": "code",
   "execution_count": 71,
   "id": "9440bd71-4acd-4f26-91b1-a90047bcd2ed",
   "metadata": {},
   "outputs": [
    {
     "name": "stdout",
     "output_type": "stream",
     "text": [
      "next w 20\n",
      "kernel to optimize 0\n",
      "\n",
      "Freezing kernels\n",
      "setting grad status of kernel at 0 to 1\n",
      "setting grad status of kernel at 1 to 0\n",
      "\n",
      "\n",
      "before kernel optimization.\n",
      "\n",
      "#activities\n",
      "[[[1. 1.]\n",
      "  [1. 1.]]]\n",
      "\n",
      "#log_etas\n",
      "Parameter containing:\n",
      "tensor([[0., 0.]], requires_grad=True)\n"
     ]
    },
    {
     "data": {
      "image/png": "[encoded data removed]",
      "text/plain": [
       "<Figure size 216x72 with 1 Axes>"
      ]
     },
     "metadata": {
      "needs_background": "light"
     },
     "output_type": "display_data"
    }
   ],
   "source": [
    "# step 1) freeze everything before the current binding mode\n",
    "w = 20\n",
    "n_kernels = 2\n",
    "n_batches = 1\n",
    "enr_series = True\n",
    "show_logo = True\n",
    "print(\"next w\", w)\n",
    "\n",
    "i = 0\n",
    "model = mb.models.DinucSelex(kernels=[0] + [w] * (n_kernels - 1), n_rounds=n_rounds,\n",
    "                         n_batches=n_batches, enr_series=enr_series).to(device)\n",
    "\n",
    "print(\"kernel to optimize %i\" % i)\n",
    "\n",
    "print('\\nFreezing kernels')\n",
    "for ki in range(n_kernels):\n",
    "    print(\"setting grad status of kernel at %i to %i\" % (ki, ki == i))\n",
    "    mb.tl.update_grad(model, ki, ki == i)\n",
    "print('\\n')\n",
    "\n",
    "if show_logo:\n",
    "    print(\"before kernel optimization.\")\n",
    "    mb.pl.conv_mono(model)\n",
    "\n",
    "lr=100\n",
    "weight_decay=0.1\n",
    "next_optimiser = topti.Adam(model.parameters(),\n",
    "                            lr=lr, weight_decay=weight_decay)"
   ]
  },
  {
   "cell_type": "code",
   "execution_count": 51,
   "id": "aa9f6038-383f-408c-afb1-18b580e51102",
   "metadata": {},
   "outputs": [
    {
     "name": "stdout",
     "output_type": "stream",
     "text": [
      "R^2: -1.5261248674369794\n"
     ]
    },
    {
     "data": {
      "image/png": "[encoded data removed]",
      "text/plain": [
       "<Figure size 360x360 with 2 Axes>"
      ]
     },
     "metadata": {
      "needs_background": "light"
     },
     "output_type": "display_data"
    }
   ],
   "source": [
    "np.log(train.dataset.rounds.mean(axis=0))\n",
    "mb.pl.kmer_enrichment(model, train, k=8)"
   ]
  },
  {
   "cell_type": "code",
   "execution_count": 76,
   "id": "7ec1475d-2224-4ad9-9990-3756f8d9e057",
   "metadata": {},
   "outputs": [],
   "source": [
    "for i, batch in enumerate(train):\n",
    "    # Get a batch and potentially send it to GPU memory.\n",
    "    mononuc = batch[\"mononuc\"].to(device)\n",
    "    b = batch[\"batch\"].to(device) if \"batch\" in batch else None\n",
    "    batch[\"target\"].to(device) if \"target\" in batch else None\n",
    "    rounds = batch[\"rounds\"].to(device) if \"rounds\" in batch else None\n",
    "    batch[\"is_count_data\"] if \"is_count_data\" in batch else None\n",
    "    # seqlen = batch[\"seqlen\"] if \"seqlen\" in batch else None\n",
    "    countsum = batch[\"countsum\"].to(device) if \"countsum\" in batch else Non\n",
    "\n",
    "    inputs = (mononuc, b, countsum)\n",
    "    output = model(inputs)"
   ]
  },
  {
   "cell_type": "code",
   "execution_count": 78,
   "id": "a865092a-0512-453d-8393-3b046e343cc4",
   "metadata": {},
   "outputs": [
    {
     "data": {
      "text/plain": [
       "tensor([[0.0095, 0.9905],\n",
       "        [0.0097, 0.9903],\n",
       "        [0.0098, 0.9902],\n",
       "        [0.0092, 0.9908],\n",
       "        [0.0202, 1.9798],\n",
       "        [0.0100, 0.9900],\n",
       "        [0.0098, 0.9902],\n",
       "        [0.0096, 0.9904],\n",
       "        [0.0095, 0.9905],\n",
       "        [0.0098, 0.9902],\n",
       "        [0.0096, 0.9904],\n",
       "        [0.0095, 0.9905],\n",
       "        [0.0097, 0.9903],\n",
       "        [0.0095, 0.9905],\n",
       "        [0.0093, 0.9907],\n",
       "        [0.0094, 0.9906],\n",
       "        [0.0098, 0.9902],\n",
       "        [0.0094, 0.9906],\n",
       "        [0.0102, 0.9898],\n",
       "        [0.0098, 0.9902],\n",
       "        [0.0096, 0.9904],\n",
       "        [0.0099, 0.9901],\n",
       "        [0.0101, 0.9899],\n",
       "        [0.0101, 0.9899],\n",
       "        [0.0096, 0.9904],\n",
       "        [0.0097, 0.9903],\n",
       "        [0.0100, 0.9900],\n",
       "        [0.0095, 0.9905],\n",
       "        [0.0098, 0.9902],\n",
       "        [0.0185, 1.9815],\n",
       "        [0.0094, 0.9906],\n",
       "        [0.0096, 0.9904],\n",
       "        [0.0100, 0.9900],\n",
       "        [0.0098, 0.9902],\n",
       "        [0.0103, 0.9897],\n",
       "        [0.0097, 0.9903],\n",
       "        [0.0099, 0.9901],\n",
       "        [0.0100, 0.9900],\n",
       "        [0.0096, 0.9904],\n",
       "        [0.0097, 0.9903],\n",
       "        [0.0097, 0.9903],\n",
       "        [0.0101, 0.9899],\n",
       "        [0.0095, 0.9905],\n",
       "        [0.0099, 0.9901],\n",
       "        [0.0096, 0.9904],\n",
       "        [0.0096, 0.9904],\n",
       "        [0.0093, 0.9907],\n",
       "        [0.0103, 0.9897],\n",
       "        [0.0098, 0.9902],\n",
       "        [0.0097, 0.9903],\n",
       "        [0.0099, 0.9901],\n",
       "        [0.0093, 0.9907],\n",
       "        [0.0101, 0.9899],\n",
       "        [0.0096, 0.9904],\n",
       "        [0.0096, 0.9904],\n",
       "        [0.0098, 0.9902],\n",
       "        [0.0095, 0.9905],\n",
       "        [0.0100, 0.9900],\n",
       "        [0.0189, 1.9811],\n",
       "        [0.0096, 0.9904],\n",
       "        [0.0101, 0.9899],\n",
       "        [0.0098, 0.9902],\n",
       "        [0.0094, 0.9906],\n",
       "        [0.0099, 0.9901],\n",
       "        [0.0103, 0.9897],\n",
       "        [0.0100, 0.9900],\n",
       "        [0.0096, 0.9904],\n",
       "        [0.0101, 0.9899],\n",
       "        [0.0098, 0.9902],\n",
       "        [0.0102, 0.9898],\n",
       "        [0.0096, 0.9904],\n",
       "        [0.0095, 0.9905],\n",
       "        [0.0098, 0.9902],\n",
       "        [0.0098, 0.9902],\n",
       "        [0.0100, 0.9900],\n",
       "        [0.0100, 0.9900],\n",
       "        [0.0096, 0.9904],\n",
       "        [0.0097, 0.9903],\n",
       "        [0.0101, 0.9899],\n",
       "        [0.0100, 0.9900],\n",
       "        [0.0094, 0.9906],\n",
       "        [0.0092, 0.9908],\n",
       "        [0.0097, 0.9903],\n",
       "        [0.0102, 0.9898],\n",
       "        [0.0099, 0.9901],\n",
       "        [0.0098, 0.9902],\n",
       "        [0.0099, 0.9901],\n",
       "        [0.0096, 0.9904],\n",
       "        [0.0097, 0.9903],\n",
       "        [0.0098, 0.9902],\n",
       "        [0.0099, 0.9901],\n",
       "        [0.0102, 0.9898],\n",
       "        [0.0096, 0.9904],\n",
       "        [0.0097, 0.9903],\n",
       "        [0.0102, 0.9898],\n",
       "        [0.0096, 0.9904],\n",
       "        [0.0099, 0.9901],\n",
       "        [0.0100, 0.9900],\n",
       "        [0.0095, 0.9905],\n",
       "        [0.0099, 0.9901]], grad_fn=<IndexPutBackward0>)"
      ]
     },
     "execution_count": 78,
     "metadata": {},
     "output_type": "execute_result"
    }
   ],
   "source": [
    "# model(inputs)"
   ]
  },
  {
   "cell_type": "code",
   "execution_count": 102,
   "id": "15f42fce-3dfa-4c33-9cf4-8c8e922722aa",
   "metadata": {},
   "outputs": [
    {
     "name": "stdout",
     "output_type": "stream",
     "text": [
      "optimizing using <class 'torch.optim.adam.Adam'> and <class 'multibind.tl.loss.PoissonLoss'>\n",
      "lr= 100\n",
      "weight_decay= 0.1\n",
      "dir weight 0.02\n",
      "Epoch:  1, Loss: 1.8345 , best epoch: -1 secs per epoch: 0.209 s\n",
      "Epoch: 11, Loss: nan , best epoch: 0 secs per epoch: 0.223 s\n",
      "Epoch: 21, Loss: nan , best epoch: 0 secs per epoch: 0.183 s\n"
     ]
    },
    {
     "ename": "KeyboardInterrupt",
     "evalue": "",
     "output_type": "error",
     "traceback": [
      "\u001b[0;31m---------------------------------------------------------------------------\u001b[0m",
      "\u001b[0;31mKeyboardInterrupt\u001b[0m                         Traceback (most recent call last)",
      "Input \u001b[0;32mIn [102]\u001b[0m, in \u001b[0;36m<cell line: 7>\u001b[0;34m()\u001b[0m\n\u001b[1;32m      4\u001b[0m log_each \u001b[38;5;241m=\u001b[39m \u001b[38;5;241m10\u001b[39m\n\u001b[1;32m      5\u001b[0m dirichlet_regularization \u001b[38;5;241m=\u001b[39m \u001b[38;5;241m0.02\u001b[39m\n\u001b[0;32m----> 7\u001b[0m \u001b[43mmb\u001b[49m\u001b[38;5;241;43m.\u001b[39;49m\u001b[43mtl\u001b[49m\u001b[38;5;241;43m.\u001b[39;49m\u001b[43mtrain_network\u001b[49m\u001b[43m(\u001b[49m\n\u001b[1;32m      8\u001b[0m \u001b[43m    \u001b[49m\u001b[43mmodel\u001b[49m\u001b[43m,\u001b[49m\n\u001b[1;32m      9\u001b[0m \u001b[43m    \u001b[49m\u001b[43mtrain\u001b[49m\u001b[43m,\u001b[49m\n\u001b[1;32m     10\u001b[0m \u001b[43m    \u001b[49m\u001b[43mdevice\u001b[49m\u001b[43m,\u001b[49m\n\u001b[1;32m     11\u001b[0m \u001b[43m    \u001b[49m\u001b[43mnext_optimiser\u001b[49m\u001b[43m,\u001b[49m\n\u001b[1;32m     12\u001b[0m \u001b[43m    \u001b[49m\u001b[43mcriterion\u001b[49m\u001b[43m,\u001b[49m\n\u001b[1;32m     13\u001b[0m \u001b[43m    \u001b[49m\u001b[43mnum_epochs\u001b[49m\u001b[38;5;241;43m=\u001b[39;49m\u001b[43mnum_epochs\u001b[49m\u001b[43m,\u001b[49m\n\u001b[1;32m     14\u001b[0m \u001b[43m    \u001b[49m\u001b[43mearly_stopping\u001b[49m\u001b[38;5;241;43m=\u001b[39;49m\u001b[43mearly_stopping\u001b[49m\u001b[43m,\u001b[49m\n\u001b[1;32m     15\u001b[0m \u001b[43m    \u001b[49m\u001b[43mlog_each\u001b[49m\u001b[38;5;241;43m=\u001b[39;49m\u001b[43mlog_each\u001b[49m\u001b[43m,\u001b[49m\n\u001b[1;32m     16\u001b[0m \u001b[43m    \u001b[49m\u001b[43mdirichlet_regularization\u001b[49m\u001b[38;5;241;43m=\u001b[39;49m\u001b[43mdirichlet_regularization\u001b[49m\u001b[43m,\u001b[49m\n\u001b[1;32m     17\u001b[0m \u001b[43m)\u001b[49m\n",
      "File \u001b[0;32m/mnt/c/Users/ignacio.ibarra/Dropbox/workspace/theislab/multibind/multibind/tl/prediction.py:98\u001b[0m, in \u001b[0;36mtrain_network\u001b[0;34m(model, train_dataloader, device, optimiser, criterion, num_epochs, early_stopping, dirichlet_regularization, log_each)\u001b[0m\n\u001b[1;32m     96\u001b[0m \u001b[38;5;28;01mfor\u001b[39;00m epoch \u001b[38;5;129;01min\u001b[39;00m \u001b[38;5;28mrange\u001b[39m(num_epochs):\n\u001b[1;32m     97\u001b[0m     running_loss \u001b[38;5;241m=\u001b[39m \u001b[38;5;241m0\u001b[39m\n\u001b[0;32m---> 98\u001b[0m     \u001b[38;5;28;01mfor\u001b[39;00m i, batch \u001b[38;5;129;01min\u001b[39;00m \u001b[38;5;28menumerate\u001b[39m(train_dataloader):\n\u001b[1;32m     99\u001b[0m         \u001b[38;5;66;03m# Get a batch and potentially send it to GPU memory.\u001b[39;00m\n\u001b[1;32m    100\u001b[0m         mononuc \u001b[38;5;241m=\u001b[39m batch[\u001b[38;5;124m\"\u001b[39m\u001b[38;5;124mmononuc\u001b[39m\u001b[38;5;124m\"\u001b[39m]\u001b[38;5;241m.\u001b[39mto(device)\n\u001b[1;32m    101\u001b[0m         b \u001b[38;5;241m=\u001b[39m batch[\u001b[38;5;124m\"\u001b[39m\u001b[38;5;124mbatch\u001b[39m\u001b[38;5;124m\"\u001b[39m]\u001b[38;5;241m.\u001b[39mto(device) \u001b[38;5;28;01mif\u001b[39;00m \u001b[38;5;124m\"\u001b[39m\u001b[38;5;124mbatch\u001b[39m\u001b[38;5;124m\"\u001b[39m \u001b[38;5;129;01min\u001b[39;00m batch \u001b[38;5;28;01melse\u001b[39;00m \u001b[38;5;28;01mNone\u001b[39;00m\n",
      "File \u001b[0;32m~/miniconda3/envs/multibind/lib/python3.10/site-packages/torch/utils/data/dataloader.py:530\u001b[0m, in \u001b[0;36m_BaseDataLoaderIter.__next__\u001b[0;34m(self)\u001b[0m\n\u001b[1;32m    528\u001b[0m \u001b[38;5;28;01mif\u001b[39;00m \u001b[38;5;28mself\u001b[39m\u001b[38;5;241m.\u001b[39m_sampler_iter \u001b[38;5;129;01mis\u001b[39;00m \u001b[38;5;28;01mNone\u001b[39;00m:\n\u001b[1;32m    529\u001b[0m     \u001b[38;5;28mself\u001b[39m\u001b[38;5;241m.\u001b[39m_reset()\n\u001b[0;32m--> 530\u001b[0m data \u001b[38;5;241m=\u001b[39m \u001b[38;5;28;43mself\u001b[39;49m\u001b[38;5;241;43m.\u001b[39;49m\u001b[43m_next_data\u001b[49m\u001b[43m(\u001b[49m\u001b[43m)\u001b[49m\n\u001b[1;32m    531\u001b[0m \u001b[38;5;28mself\u001b[39m\u001b[38;5;241m.\u001b[39m_num_yielded \u001b[38;5;241m+\u001b[39m\u001b[38;5;241m=\u001b[39m \u001b[38;5;241m1\u001b[39m\n\u001b[1;32m    532\u001b[0m \u001b[38;5;28;01mif\u001b[39;00m \u001b[38;5;28mself\u001b[39m\u001b[38;5;241m.\u001b[39m_dataset_kind \u001b[38;5;241m==\u001b[39m _DatasetKind\u001b[38;5;241m.\u001b[39mIterable \u001b[38;5;129;01mand\u001b[39;00m \\\n\u001b[1;32m    533\u001b[0m         \u001b[38;5;28mself\u001b[39m\u001b[38;5;241m.\u001b[39m_IterableDataset_len_called \u001b[38;5;129;01mis\u001b[39;00m \u001b[38;5;129;01mnot\u001b[39;00m \u001b[38;5;28;01mNone\u001b[39;00m \u001b[38;5;129;01mand\u001b[39;00m \\\n\u001b[1;32m    534\u001b[0m         \u001b[38;5;28mself\u001b[39m\u001b[38;5;241m.\u001b[39m_num_yielded \u001b[38;5;241m>\u001b[39m \u001b[38;5;28mself\u001b[39m\u001b[38;5;241m.\u001b[39m_IterableDataset_len_called:\n",
      "File \u001b[0;32m~/miniconda3/envs/multibind/lib/python3.10/site-packages/torch/utils/data/dataloader.py:570\u001b[0m, in \u001b[0;36m_SingleProcessDataLoaderIter._next_data\u001b[0;34m(self)\u001b[0m\n\u001b[1;32m    568\u001b[0m \u001b[38;5;28;01mdef\u001b[39;00m \u001b[38;5;21m_next_data\u001b[39m(\u001b[38;5;28mself\u001b[39m):\n\u001b[1;32m    569\u001b[0m     index \u001b[38;5;241m=\u001b[39m \u001b[38;5;28mself\u001b[39m\u001b[38;5;241m.\u001b[39m_next_index()  \u001b[38;5;66;03m# may raise StopIteration\u001b[39;00m\n\u001b[0;32m--> 570\u001b[0m     data \u001b[38;5;241m=\u001b[39m \u001b[38;5;28;43mself\u001b[39;49m\u001b[38;5;241;43m.\u001b[39;49m\u001b[43m_dataset_fetcher\u001b[49m\u001b[38;5;241;43m.\u001b[39;49m\u001b[43mfetch\u001b[49m\u001b[43m(\u001b[49m\u001b[43mindex\u001b[49m\u001b[43m)\u001b[49m  \u001b[38;5;66;03m# may raise StopIteration\u001b[39;00m\n\u001b[1;32m    571\u001b[0m     \u001b[38;5;28;01mif\u001b[39;00m \u001b[38;5;28mself\u001b[39m\u001b[38;5;241m.\u001b[39m_pin_memory:\n\u001b[1;32m    572\u001b[0m         data \u001b[38;5;241m=\u001b[39m _utils\u001b[38;5;241m.\u001b[39mpin_memory\u001b[38;5;241m.\u001b[39mpin_memory(data)\n",
      "File \u001b[0;32m~/miniconda3/envs/multibind/lib/python3.10/site-packages/torch/utils/data/_utils/fetch.py:52\u001b[0m, in \u001b[0;36m_MapDatasetFetcher.fetch\u001b[0;34m(self, possibly_batched_index)\u001b[0m\n\u001b[1;32m     50\u001b[0m \u001b[38;5;28;01melse\u001b[39;00m:\n\u001b[1;32m     51\u001b[0m     data \u001b[38;5;241m=\u001b[39m \u001b[38;5;28mself\u001b[39m\u001b[38;5;241m.\u001b[39mdataset[possibly_batched_index]\n\u001b[0;32m---> 52\u001b[0m \u001b[38;5;28;01mreturn\u001b[39;00m \u001b[38;5;28;43mself\u001b[39;49m\u001b[38;5;241;43m.\u001b[39;49m\u001b[43mcollate_fn\u001b[49m\u001b[43m(\u001b[49m\u001b[43mdata\u001b[49m\u001b[43m)\u001b[49m\n",
      "File \u001b[0;32m~/miniconda3/envs/multibind/lib/python3.10/site-packages/torch/utils/data/_utils/collate.py:157\u001b[0m, in \u001b[0;36mdefault_collate\u001b[0;34m(batch)\u001b[0m\n\u001b[1;32m    155\u001b[0m \u001b[38;5;28;01melif\u001b[39;00m \u001b[38;5;28misinstance\u001b[39m(elem, collections\u001b[38;5;241m.\u001b[39mabc\u001b[38;5;241m.\u001b[39mMapping):\n\u001b[1;32m    156\u001b[0m     \u001b[38;5;28;01mtry\u001b[39;00m:\n\u001b[0;32m--> 157\u001b[0m         \u001b[38;5;28;01mreturn\u001b[39;00m elem_type({key: default_collate([d[key] \u001b[38;5;28;01mfor\u001b[39;00m d \u001b[38;5;129;01min\u001b[39;00m batch]) \u001b[38;5;28;01mfor\u001b[39;00m key \u001b[38;5;129;01min\u001b[39;00m elem})\n\u001b[1;32m    158\u001b[0m     \u001b[38;5;28;01mexcept\u001b[39;00m \u001b[38;5;167;01mTypeError\u001b[39;00m:\n\u001b[1;32m    159\u001b[0m         \u001b[38;5;66;03m# The mapping type may not support `__init__(iterable)`.\u001b[39;00m\n\u001b[1;32m    160\u001b[0m         \u001b[38;5;28;01mreturn\u001b[39;00m {key: default_collate([d[key] \u001b[38;5;28;01mfor\u001b[39;00m d \u001b[38;5;129;01min\u001b[39;00m batch]) \u001b[38;5;28;01mfor\u001b[39;00m key \u001b[38;5;129;01min\u001b[39;00m elem}\n",
      "File \u001b[0;32m~/miniconda3/envs/multibind/lib/python3.10/site-packages/torch/utils/data/_utils/collate.py:157\u001b[0m, in \u001b[0;36m<dictcomp>\u001b[0;34m(.0)\u001b[0m\n\u001b[1;32m    155\u001b[0m \u001b[38;5;28;01melif\u001b[39;00m \u001b[38;5;28misinstance\u001b[39m(elem, collections\u001b[38;5;241m.\u001b[39mabc\u001b[38;5;241m.\u001b[39mMapping):\n\u001b[1;32m    156\u001b[0m     \u001b[38;5;28;01mtry\u001b[39;00m:\n\u001b[0;32m--> 157\u001b[0m         \u001b[38;5;28;01mreturn\u001b[39;00m elem_type({key: \u001b[43mdefault_collate\u001b[49m\u001b[43m(\u001b[49m\u001b[43m[\u001b[49m\u001b[43md\u001b[49m\u001b[43m[\u001b[49m\u001b[43mkey\u001b[49m\u001b[43m]\u001b[49m\u001b[43m \u001b[49m\u001b[38;5;28;43;01mfor\u001b[39;49;00m\u001b[43m \u001b[49m\u001b[43md\u001b[49m\u001b[43m \u001b[49m\u001b[38;5;129;43;01min\u001b[39;49;00m\u001b[43m \u001b[49m\u001b[43mbatch\u001b[49m\u001b[43m]\u001b[49m\u001b[43m)\u001b[49m \u001b[38;5;28;01mfor\u001b[39;00m key \u001b[38;5;129;01min\u001b[39;00m elem})\n\u001b[1;32m    158\u001b[0m     \u001b[38;5;28;01mexcept\u001b[39;00m \u001b[38;5;167;01mTypeError\u001b[39;00m:\n\u001b[1;32m    159\u001b[0m         \u001b[38;5;66;03m# The mapping type may not support `__init__(iterable)`.\u001b[39;00m\n\u001b[1;32m    160\u001b[0m         \u001b[38;5;28;01mreturn\u001b[39;00m {key: default_collate([d[key] \u001b[38;5;28;01mfor\u001b[39;00m d \u001b[38;5;129;01min\u001b[39;00m batch]) \u001b[38;5;28;01mfor\u001b[39;00m key \u001b[38;5;129;01min\u001b[39;00m elem}\n",
      "File \u001b[0;32m~/miniconda3/envs/multibind/lib/python3.10/site-packages/torch/utils/data/_utils/collate.py:146\u001b[0m, in \u001b[0;36mdefault_collate\u001b[0;34m(batch)\u001b[0m\n\u001b[1;32m    143\u001b[0m     \u001b[38;5;28;01mif\u001b[39;00m np_str_obj_array_pattern\u001b[38;5;241m.\u001b[39msearch(elem\u001b[38;5;241m.\u001b[39mdtype\u001b[38;5;241m.\u001b[39mstr) \u001b[38;5;129;01mis\u001b[39;00m \u001b[38;5;129;01mnot\u001b[39;00m \u001b[38;5;28;01mNone\u001b[39;00m:\n\u001b[1;32m    144\u001b[0m         \u001b[38;5;28;01mraise\u001b[39;00m \u001b[38;5;167;01mTypeError\u001b[39;00m(default_collate_err_msg_format\u001b[38;5;241m.\u001b[39mformat(elem\u001b[38;5;241m.\u001b[39mdtype))\n\u001b[0;32m--> 146\u001b[0m     \u001b[38;5;28;01mreturn\u001b[39;00m default_collate([torch\u001b[38;5;241m.\u001b[39mas_tensor(b) \u001b[38;5;28;01mfor\u001b[39;00m b \u001b[38;5;129;01min\u001b[39;00m batch])\n\u001b[1;32m    147\u001b[0m \u001b[38;5;28;01melif\u001b[39;00m elem\u001b[38;5;241m.\u001b[39mshape \u001b[38;5;241m==\u001b[39m ():  \u001b[38;5;66;03m# scalars\u001b[39;00m\n\u001b[1;32m    148\u001b[0m     \u001b[38;5;28;01mreturn\u001b[39;00m torch\u001b[38;5;241m.\u001b[39mas_tensor(batch)\n",
      "File \u001b[0;32m~/miniconda3/envs/multibind/lib/python3.10/site-packages/torch/utils/data/_utils/collate.py:146\u001b[0m, in \u001b[0;36m<listcomp>\u001b[0;34m(.0)\u001b[0m\n\u001b[1;32m    143\u001b[0m     \u001b[38;5;28;01mif\u001b[39;00m np_str_obj_array_pattern\u001b[38;5;241m.\u001b[39msearch(elem\u001b[38;5;241m.\u001b[39mdtype\u001b[38;5;241m.\u001b[39mstr) \u001b[38;5;129;01mis\u001b[39;00m \u001b[38;5;129;01mnot\u001b[39;00m \u001b[38;5;28;01mNone\u001b[39;00m:\n\u001b[1;32m    144\u001b[0m         \u001b[38;5;28;01mraise\u001b[39;00m \u001b[38;5;167;01mTypeError\u001b[39;00m(default_collate_err_msg_format\u001b[38;5;241m.\u001b[39mformat(elem\u001b[38;5;241m.\u001b[39mdtype))\n\u001b[0;32m--> 146\u001b[0m     \u001b[38;5;28;01mreturn\u001b[39;00m default_collate([\u001b[43mtorch\u001b[49m\u001b[38;5;241;43m.\u001b[39;49m\u001b[43mas_tensor\u001b[49m\u001b[43m(\u001b[49m\u001b[43mb\u001b[49m\u001b[43m)\u001b[49m \u001b[38;5;28;01mfor\u001b[39;00m b \u001b[38;5;129;01min\u001b[39;00m batch])\n\u001b[1;32m    147\u001b[0m \u001b[38;5;28;01melif\u001b[39;00m elem\u001b[38;5;241m.\u001b[39mshape \u001b[38;5;241m==\u001b[39m ():  \u001b[38;5;66;03m# scalars\u001b[39;00m\n\u001b[1;32m    148\u001b[0m     \u001b[38;5;28;01mreturn\u001b[39;00m torch\u001b[38;5;241m.\u001b[39mas_tensor(batch)\n",
      "\u001b[0;31mKeyboardInterrupt\u001b[0m: "
     ]
    }
   ],
   "source": [
    "criterion = mb.tl.PoissonLoss()\n",
    "num_epochs = 100\n",
    "early_stopping = 100\n",
    "log_each = 10\n",
    "dirichlet_regularization = 0.02\n",
    "\n",
    "mb.tl.train_network(\n",
    "    model,\n",
    "    train,\n",
    "    device,\n",
    "    next_optimiser,\n",
    "    criterion,\n",
    "    num_epochs=num_epochs,\n",
    "    early_stopping=early_stopping,\n",
    "    log_each=log_each,\n",
    "    dirichlet_regularization=dirichlet_regularization,\n",
    ")"
   ]
  },
  {
   "cell_type": "code",
   "execution_count": 80,
   "id": "855b15b6-94a9-4550-a5f3-0fa9a92e40e1",
   "metadata": {},
   "outputs": [
    {
     "name": "stdout",
     "output_type": "stream",
     "text": [
      "R^2: -2.7127854320974727\n"
     ]
    },
    {
     "data": {
      "image/png": "[encoded data removed]",
      "text/plain": [
       "<Figure size 360x360 with 2 Axes>"
      ]
     },
     "metadata": {
      "needs_background": "light"
     },
     "output_type": "display_data"
    },
    {
     "name": "stdout",
     "output_type": "stream",
     "text": [
      "log_etas\n",
      "Parameter containing:\n",
      "tensor([[ 1.7729, -1.7729]], device='cuda:0', requires_grad=True)\n",
      "activities\n",
      "[[[0.9997131  0.98149365]\n",
      "  [1.         1.        ]]]\n"
     ]
    },
    {
     "data": {
      "image/png": "[encoded data removed]",
      "text/plain": [
       "<Figure size 432x288 with 1 Axes>"
      ]
     },
     "metadata": {
      "needs_background": "light"
     },
     "output_type": "display_data"
    }
   ],
   "source": [
    "mb.pl.kmer_enrichment(model, train, k=8)\n",
    "mb.pl.conv_mono(model)"
   ]
  },
  {
   "cell_type": "code",
   "execution_count": 62,
   "id": "24bb6ca7-3367-4a9b-9ce6-ea28915f3da3",
   "metadata": {},
   "outputs": [
    {
     "name": "stdout",
     "output_type": "stream",
     "text": [
      "R^2: -0.008184272553571015\n"
     ]
    },
    {
     "data": {
      "image/png": "[encoded data removed]",
      "text/plain": [
       "<Figure size 360x360 with 2 Axes>"
      ]
     },
     "metadata": {
      "needs_background": "light"
     },
     "output_type": "display_data"
    }
   ],
   "source": []
  },
  {
   "cell_type": "code",
   "execution_count": 2,
   "id": "6e129417-3af2-4702-812d-5f71043eee56",
   "metadata": {},
   "outputs": [],
   "source": [
    "%load_ext line_profiler"
   ]
  },
  {
   "cell_type": "code",
   "execution_count": 27,
   "id": "4dd4cbe1-e705-4409-b8ff-38a14ec07feb",
   "metadata": {},
   "outputs": [
    {
     "data": {
      "text/plain": [
       "Timer unit: 1e-06 s"
      ]
     },
     "metadata": {},
     "output_type": "display_data"
    }
   ],
   "source": [
    "%lprun -f enumerate enumerate(train)"
   ]
  },
  {
   "cell_type": "code",
   "execution_count": 28,
   "id": "bb8a6963-cc25-4471-9125-a432bc410383",
   "metadata": {},
   "outputs": [],
   "source": [
    "# criterion = mb.tl.PoissonLoss()\n",
    "# num_epochs = 100\n",
    "# early_stopping = 10\n",
    "# log_each = 100\n",
    "# dirichlet_regularization = 0.02\n",
    "\n",
    "# %lprun -f mb.tl.train_network mb.tl.train_network(model, train, device, next_optimiser, criterion, num_epochs=num_epochs, early_stopping=early_stopping, log_each=log_each, dirichlet_regularization=dirichlet_regularization)"
   ]
  },
  {
   "cell_type": "code",
   "execution_count": 22,
   "id": "265bf555-af37-4b5f-a96e-ee8f332b1960",
   "metadata": {},
   "outputs": [
    {
     "name": "stdout",
     "output_type": "stream",
     "text": [
      "R^2: -8.751329108039982\n"
     ]
    },
    {
     "data": {
      "image/png": "[encoded data removed]",
      "text/plain": [
       "<Figure size 360x360 with 2 Axes>"
      ]
     },
     "metadata": {
      "needs_background": "light"
     },
     "output_type": "display_data"
    }
   ],
   "source": [
    "for k in model_by_k_next.keys():\n",
    "    model = model_by_k_next[k]\n",
    "    mb.pl.kmer_enrichment(model, train, k=8)"
   ]
  }
 ],
 "metadata": {
  "kernelspec": {
   "display_name": "multibind",
   "language": "python",
   "name": "multibind"
  },
  "language_info": {
   "codemirror_mode": {
    "name": "ipython",
    "version": 3
   },
   "file_extension": ".py",
   "mimetype": "text/x-python",
   "name": "python",
   "nbconvert_exporter": "python",
   "pygments_lexer": "ipython3",
   "version": "3.10.4"
  }
 },
 "nbformat": 4,
 "nbformat_minor": 5
}
