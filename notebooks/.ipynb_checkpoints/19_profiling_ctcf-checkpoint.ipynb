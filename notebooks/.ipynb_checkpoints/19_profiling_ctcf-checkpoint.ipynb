{
 "cells": [
  {
   "cell_type": "code",
   "execution_count": 1,
   "id": "06723943-4395-4e31-9cc8-8e1e5bd5dc4c",
   "metadata": {},
   "outputs": [],
   "source": [
    "%load_ext autoreload\n",
    "%autoreload 2"
   ]
  },
  {
   "cell_type": "code",
   "execution_count": 2,
   "id": "ce3c3d59-4088-4033-98a5-ed452c8c6d38",
   "metadata": {},
   "outputs": [
    {
     "name": "stdout",
     "output_type": "stream",
     "text": [
      "Using device: cuda:0\n"
     ]
    }
   ],
   "source": [
    "import mubind as mb\n",
    "import numpy as np\n",
    "import pandas as pd\n",
    "import torch\n",
    "import bindome as bd\n",
    "bd.constants.ANNOTATIONS_DIRECTORY = 'annotations'\n",
    "# mb.models.MultiBind\n",
    "import torch.optim as topti\n",
    "import torch.utils.data as tdata\n",
    "import matplotlib.pyplot as plt\n",
    "import logomaker\n",
    "\n",
    "# Use a GPU if available, as it should be faster.\n",
    "device = torch.device(\"cuda:0\" if torch.cuda.is_available() else \"cpu\")\n",
    "print(\"Using device: \" + str(device))"
   ]
  },
  {
   "cell_type": "code",
   "execution_count": 3,
   "id": "c4430450-8ecc-474e-940d-61e79e0cdcc6",
   "metadata": {},
   "outputs": [],
   "source": [
    "df = mb.bindome.datasets.ProBound.ctcf()\n",
    "df = df.sort_values(1, ascending=False).reset_index(drop=True)"
   ]
  },
  {
   "cell_type": "code",
   "execution_count": 4,
   "id": "be8b3b18-1b3d-49c8-8252-320bb1b971c5",
   "metadata": {},
   "outputs": [],
   "source": [
    "# data = df.head(1000)\n",
    "data = df.sample(n=1000)\n",
    "# data = df.copy()"
   ]
  },
  {
   "cell_type": "code",
   "execution_count": 5,
   "id": "fbbc152f-3770-4178-b34b-3b0484c18c21",
   "metadata": {},
   "outputs": [],
   "source": [
    "n_rounds = 1"
   ]
  },
  {
   "cell_type": "code",
   "execution_count": 6,
   "id": "c7feab1b-1726-4d88-b57a-060b6c8b6323",
   "metadata": {},
   "outputs": [],
   "source": [
    "from matplotlib import rcParams\n",
    "rcParams['figure.figsize'] = 5, 1"
   ]
  },
  {
   "cell_type": "code",
   "execution_count": 7,
   "id": "cfd8dac0-c542-4f9f-bb03-9ed0788e8ca3",
   "metadata": {},
   "outputs": [
    {
     "data": {
      "text/html": [
       "<div>\n",
       "<style scoped>\n",
       "    .dataframe tbody tr th:only-of-type {\n",
       "        vertical-align: middle;\n",
       "    }\n",
       "\n",
       "    .dataframe tbody tr th {\n",
       "        vertical-align: top;\n",
       "    }\n",
       "\n",
       "    .dataframe thead th {\n",
       "        text-align: right;\n",
       "    }\n",
       "</style>\n",
       "<table border=\"1\" class=\"dataframe\">\n",
       "  <thead>\n",
       "    <tr style=\"text-align: right;\">\n",
       "      <th></th>\n",
       "      <th>seq</th>\n",
       "      <th>0</th>\n",
       "      <th>1</th>\n",
       "    </tr>\n",
       "  </thead>\n",
       "  <tbody>\n",
       "    <tr>\n",
       "      <th>82610</th>\n",
       "      <td>TGACGTCATTCTGTACATGAAAATCCATGGGTATGGAGACGTCA</td>\n",
       "      <td>1</td>\n",
       "      <td>0</td>\n",
       "    </tr>\n",
       "    <tr>\n",
       "      <th>25283</th>\n",
       "      <td>TGACGTCTGTGGTAAACTTAGTTTACGGCCGTCATCGGACGTCA</td>\n",
       "      <td>0</td>\n",
       "      <td>1</td>\n",
       "    </tr>\n",
       "    <tr>\n",
       "      <th>113145</th>\n",
       "      <td>TGACGTCGCCGAAAGGGGAAAGATACGATAGATAAAAGACGTCA</td>\n",
       "      <td>1</td>\n",
       "      <td>0</td>\n",
       "    </tr>\n",
       "    <tr>\n",
       "      <th>13369</th>\n",
       "      <td>TGACGTCCGATGGCCACCCGCTACAGATCAGATGTAAGACGTCA</td>\n",
       "      <td>0</td>\n",
       "      <td>1</td>\n",
       "    </tr>\n",
       "    <tr>\n",
       "      <th>62546</th>\n",
       "      <td>TGACGTCAAGCACAATTGCTGTGTCACCATTCTTCACGACGTCA</td>\n",
       "      <td>1</td>\n",
       "      <td>0</td>\n",
       "    </tr>\n",
       "    <tr>\n",
       "      <th>...</th>\n",
       "      <td>...</td>\n",
       "      <td>...</td>\n",
       "      <td>...</td>\n",
       "    </tr>\n",
       "    <tr>\n",
       "      <th>48296</th>\n",
       "      <td>TGACGTCTATGTGACGCTGAAGTCAGGTAAAACGAGGGACGTCA</td>\n",
       "      <td>1</td>\n",
       "      <td>0</td>\n",
       "    </tr>\n",
       "    <tr>\n",
       "      <th>53810</th>\n",
       "      <td>TGACGTCTACCCTTAACGGTCAAGTCTTGCATTTCCGGACGTCA</td>\n",
       "      <td>1</td>\n",
       "      <td>0</td>\n",
       "    </tr>\n",
       "    <tr>\n",
       "      <th>4373</th>\n",
       "      <td>TGACGTCGCTGTCTGATCTTTACTAGGTAGGTGTAGGGACGTCA</td>\n",
       "      <td>0</td>\n",
       "      <td>1</td>\n",
       "    </tr>\n",
       "    <tr>\n",
       "      <th>91720</th>\n",
       "      <td>TGACGTCCATCCGTTAGCGAAAGGACACGTCGTGAGTGACGTCA</td>\n",
       "      <td>1</td>\n",
       "      <td>0</td>\n",
       "    </tr>\n",
       "    <tr>\n",
       "      <th>67337</th>\n",
       "      <td>TGACGTCTTTAGCCTACCATGGGAAGTTAGATGCTGAGACGTCA</td>\n",
       "      <td>1</td>\n",
       "      <td>0</td>\n",
       "    </tr>\n",
       "  </tbody>\n",
       "</table>\n",
       "<p>1000 rows × 3 columns</p>\n",
       "</div>"
      ],
      "text/plain": [
       "                                                 seq  0  1\n",
       "82610   TGACGTCATTCTGTACATGAAAATCCATGGGTATGGAGACGTCA  1  0\n",
       "25283   TGACGTCTGTGGTAAACTTAGTTTACGGCCGTCATCGGACGTCA  0  1\n",
       "113145  TGACGTCGCCGAAAGGGGAAAGATACGATAGATAAAAGACGTCA  1  0\n",
       "13369   TGACGTCCGATGGCCACCCGCTACAGATCAGATGTAAGACGTCA  0  1\n",
       "62546   TGACGTCAAGCACAATTGCTGTGTCACCATTCTTCACGACGTCA  1  0\n",
       "...                                              ... .. ..\n",
       "48296   TGACGTCTATGTGACGCTGAAGTCAGGTAAAACGAGGGACGTCA  1  0\n",
       "53810   TGACGTCTACCCTTAACGGTCAAGTCTTGCATTTCCGGACGTCA  1  0\n",
       "4373    TGACGTCGCTGTCTGATCTTTACTAGGTAGGTGTAGGGACGTCA  0  1\n",
       "91720   TGACGTCCATCCGTTAGCGAAAGGACACGTCGTGAGTGACGTCA  1  0\n",
       "67337   TGACGTCTTTAGCCTACCATGGGAAGTTAGATGCTGAGACGTCA  1  0\n",
       "\n",
       "[1000 rows x 3 columns]"
      ]
     },
     "execution_count": 7,
     "metadata": {},
     "output_type": "execute_result"
    }
   ],
   "source": [
    "data"
   ]
  },
  {
   "cell_type": "code",
   "execution_count": 11,
   "id": "fb971a88-b9b8-40ca-a977-7a05db186ddf",
   "metadata": {},
   "outputs": [],
   "source": [
    "data = data.set_index('seq')"
   ]
  },
  {
   "cell_type": "code",
   "execution_count": 12,
   "id": "0301f36d-c2fd-4b03-9c12-e06b7c6c1db7",
   "metadata": {},
   "outputs": [
    {
     "name": "stdout",
     "output_type": "stream",
     "text": [
      "loading object (# entries) 1000\n"
     ]
    }
   ],
   "source": [
    "print('loading object (# entries)', data.shape[0])\n",
    "dataset = mb.datasets.SelexDataset(data, n_rounds=n_rounds)\n",
    "train = tdata.DataLoader(dataset=dataset, batch_size=100, shuffle=True)"
   ]
  },
  {
   "cell_type": "code",
   "execution_count": 22,
   "id": "db6a7ead-5974-420d-b9e1-a6e66ee4cf82",
   "metadata": {},
   "outputs": [
    {
     "data": {
      "text/plain": [
       "BindingModesSimple(\n",
       "  (conv_mono): ModuleList(\n",
       "    (0): None\n",
       "    (1): Conv2d(1, 1, kernel_size=(4, 20), stride=(1, 1), bias=False)\n",
       "  )\n",
       "  (conv_di): ModuleList(\n",
       "    (0): None\n",
       "    (1): Conv2d(1, 1, kernel_size=(16, 20), stride=(1, 1), bias=False)\n",
       "  )\n",
       ")"
      ]
     },
     "execution_count": 22,
     "metadata": {},
     "output_type": "execute_result"
    }
   ],
   "source": []
  },
  {
   "cell_type": "code",
   "execution_count": 24,
   "id": "49c04087-128d-4680-8b0e-c3f488fa7654",
   "metadata": {},
   "outputs": [
    {
     "name": "stdout",
     "output_type": "stream",
     "text": [
      "next w 20\n"
     ]
    }
   ],
   "source": [
    "# step 1) freeze everything before the current binding mode\n",
    "w = 20\n",
    "n_kernels = 2\n",
    "n_batches = 1\n",
    "enr_series = True\n",
    "show_logo = True\n",
    "print(\"next w\", w)\n",
    "\n",
    "i = 0\n",
    "model = mb.models.Multibind('selex', kernels=[0] + [w] * (n_kernels - 1), n_rounds=n_rounds,\n",
    "                         n_batches=n_batches, enr_series=enr_series).to(device)\n",
    "\n",
    "# print(\"kernel to optimize %i\" % i)\n",
    "\n",
    "# print('\\nFreezing kernels')\n",
    "# for ki in range(n_kernels):\n",
    "#     print(\"setting grad status of kernel at %i to %i\" % (ki, ki == i))\n",
    "#     mb.tl.update_grad(model, ki, ki == i)\n",
    "# print('\\n')\n",
    "\n",
    "# if show_logo:\n",
    "#     print(\"before kernel optimization.\")\n",
    "#     mb.pl.conv_mono(model.binding_modes)\n",
    "\n",
    "# lr=100\n",
    "# weight_decay=0.1\n",
    "# next_optimiser = topti.Adam(model.parameters(),\n",
    "#                             lr=lr, weight_decay=weight_decay)"
   ]
  },
  {
   "cell_type": "code",
   "execution_count": 38,
   "id": "be85636a-5f9b-43d7-b645-ac523b869c68",
   "metadata": {},
   "outputs": [
    {
     "ename": "AssertionError",
     "evalue": "",
     "output_type": "error",
     "traceback": [
      "\u001b[0;31m---------------------------------------------------------------------------\u001b[0m",
      "\u001b[0;31mAssertionError\u001b[0m                            Traceback (most recent call last)",
      "Input \u001b[0;32mIn [38]\u001b[0m, in \u001b[0;36m<cell line: 2>\u001b[0;34m()\u001b[0m\n\u001b[1;32m      1\u001b[0m \u001b[38;5;66;03m# np.log(train.dataset.rounds.mean(axis=0))\u001b[39;00m\n\u001b[0;32m----> 2\u001b[0m \u001b[43mmb\u001b[49m\u001b[38;5;241;43m.\u001b[39;49m\u001b[43mpl\u001b[49m\u001b[38;5;241;43m.\u001b[39;49m\u001b[43mkmer_enrichment\u001b[49m\u001b[43m(\u001b[49m\u001b[43mmodel\u001b[49m\u001b[43m,\u001b[49m\u001b[43m \u001b[49m\u001b[43mtrain\u001b[49m\u001b[43m,\u001b[49m\u001b[43m \u001b[49m\u001b[43mk\u001b[49m\u001b[38;5;241;43m=\u001b[39;49m\u001b[38;5;241;43m8\u001b[39;49m\u001b[43m)\u001b[49m\n",
      "File \u001b[0;32m/mnt/c/Users/ignacio.ibarra/Dropbox/workspace/theislab/multibind/multibind/pl/plotting.py:132\u001b[0m, in \u001b[0;36mkmer_enrichment\u001b[0;34m(model, train, k, base_round, enr_round, show)\u001b[0m\n\u001b[1;32m    130\u001b[0m \u001b[38;5;28;01mdef\u001b[39;00m \u001b[38;5;21mkmer_enrichment\u001b[39m(model, train, k\u001b[38;5;241m=\u001b[39m\u001b[38;5;241m8\u001b[39m, base_round\u001b[38;5;241m=\u001b[39m\u001b[38;5;241m0\u001b[39m, enr_round\u001b[38;5;241m=\u001b[39m\u001b[38;5;241m-\u001b[39m\u001b[38;5;241m1\u001b[39m, show\u001b[38;5;241m=\u001b[39m\u001b[38;5;28;01mTrue\u001b[39;00m):\n\u001b[1;32m    131\u001b[0m     \u001b[38;5;66;03m# getting the targets and predictions from the model\u001b[39;00m\n\u001b[0;32m--> 132\u001b[0m     seqs, targets, pred \u001b[38;5;241m=\u001b[39m \u001b[43mmb\u001b[49m\u001b[38;5;241;43m.\u001b[39;49m\u001b[43mtl\u001b[49m\u001b[38;5;241;43m.\u001b[39;49m\u001b[43mtest_network\u001b[49m\u001b[43m(\u001b[49m\u001b[43mmodel\u001b[49m\u001b[43m,\u001b[49m\u001b[43m \u001b[49m\u001b[43mtrain\u001b[49m\u001b[43m,\u001b[49m\u001b[43m \u001b[49m\u001b[38;5;28;43mnext\u001b[39;49m\u001b[43m(\u001b[49m\u001b[43mmodel\u001b[49m\u001b[38;5;241;43m.\u001b[39;49m\u001b[43mparameters\u001b[49m\u001b[43m(\u001b[49m\u001b[43m)\u001b[49m\u001b[43m)\u001b[49m\u001b[38;5;241;43m.\u001b[39;49m\u001b[43mdevice\u001b[49m\u001b[43m)\u001b[49m\n\u001b[1;32m    134\u001b[0m     target_kmers \u001b[38;5;241m=\u001b[39m mb\u001b[38;5;241m.\u001b[39mtl\u001b[38;5;241m.\u001b[39mseqs2kmers(seqs, k\u001b[38;5;241m=\u001b[39mk, counts\u001b[38;5;241m=\u001b[39mtargets)\n\u001b[1;32m    135\u001b[0m     target_labels \u001b[38;5;241m=\u001b[39m [\u001b[38;5;124m\"\u001b[39m\u001b[38;5;124mt\u001b[39m\u001b[38;5;124m\"\u001b[39m \u001b[38;5;241m+\u001b[39m \u001b[38;5;28mstr\u001b[39m(i) \u001b[38;5;28;01mfor\u001b[39;00m i \u001b[38;5;129;01min\u001b[39;00m \u001b[38;5;28mrange\u001b[39m(train\u001b[38;5;241m.\u001b[39mdataset\u001b[38;5;241m.\u001b[39mn_rounds \u001b[38;5;241m+\u001b[39m \u001b[38;5;241m1\u001b[39m)]\n",
      "File \u001b[0;32m/mnt/c/Users/ignacio.ibarra/Dropbox/workspace/theislab/multibind/multibind/tl/prediction.py:62\u001b[0m, in \u001b[0;36mtest_network\u001b[0;34m(model, dataloader, device)\u001b[0m\n\u001b[1;32m     60\u001b[0m \u001b[38;5;28;01melif\u001b[39;00m store_rev:\n\u001b[1;32m     61\u001b[0m     mononuc_rev \u001b[38;5;241m=\u001b[39m batch[\u001b[38;5;124m\"\u001b[39m\u001b[38;5;124mmononuc_rev\u001b[39m\u001b[38;5;124m\"\u001b[39m]\u001b[38;5;241m.\u001b[39mto(device)\n\u001b[0;32m---> 62\u001b[0m     inputs \u001b[38;5;241m=\u001b[39m (mononuc, mononuc_rev, b, countsum)\n\u001b[1;32m     63\u001b[0m \u001b[38;5;28;01melse\u001b[39;00m:\n\u001b[1;32m     64\u001b[0m     inputs \u001b[38;5;241m=\u001b[39m (mononuc, b, countsum)\n",
      "\u001b[0;31mAssertionError\u001b[0m: "
     ]
    }
   ],
   "source": [
    "# np.log(train.dataset.rounds.mean(axis=0))\n",
    "mb.pl.kmer_enrichment(model, train, k=8)"
   ]
  },
  {
   "cell_type": "code",
   "execution_count": 11,
   "id": "b5172d66-e0fd-43b1-9ae6-432f93fc0052",
   "metadata": {},
   "outputs": [
    {
     "name": "stdout",
     "output_type": "stream",
     "text": [
      "total time: 46.275 s\n",
      "secs per epoch: 0.467 s\n"
     ]
    }
   ],
   "source": [
    "criterion = mb.tl.PoissonLoss()\n",
    "num_epochs = 100\n",
    "early_stopping = 100\n",
    "log_each = 10\n",
    "dirichlet_regularization = 0.02\n",
    "\n",
    "mb.tl.train_network(\n",
    "    model,\n",
    "    train,\n",
    "    device,\n",
    "    next_optimiser,\n",
    "    criterion,\n",
    "    num_epochs=num_epochs,\n",
    "    early_stopping=early_stopping,\n",
    "    log_each=log_each,\n",
    "    dirichlet_regularization=dirichlet_regularization,\n",
    ")"
   ]
  },
  {
   "cell_type": "code",
   "execution_count": 12,
   "id": "f9b0a713-8876-47ee-8b3a-9d996fe10271",
   "metadata": {},
   "outputs": [
    {
     "name": "stdout",
     "output_type": "stream",
     "text": [
      "R^2: -0.12329736737036079\n"
     ]
    },
    {
     "data": {
      "image/png": "[encoded data removed]",
      "text/plain": [
       "<Figure size 360x360 with 2 Axes>"
      ]
     },
     "metadata": {
      "needs_background": "light"
     },
     "output_type": "display_data"
    },
    {
     "name": "stdout",
     "output_type": "stream",
     "text": [
      "\n",
      "#activities\n",
      "[[[nan nan]\n",
      "  [ 1.  1.]]]\n",
      "\n",
      "#log_etas\n",
      "Parameter containing:\n",
      "tensor([[nan, nan]], device='cuda:0', requires_grad=True)\n"
     ]
    },
    {
     "data": {
      "image/png": "[encoded data removed]",
      "text/plain": [
       "<Figure size 432x288 with 1 Axes>"
      ]
     },
     "metadata": {
      "needs_background": "light"
     },
     "output_type": "display_data"
    }
   ],
   "source": [
    "mb.pl.kmer_enrichment(model, train, k=8)\n",
    "mb.pl.conv_mono(model)"
   ]
  },
  {
   "cell_type": "code",
   "execution_count": 13,
   "id": "8480a520-3771-4c8c-adfc-d6f39782c77c",
   "metadata": {},
   "outputs": [],
   "source": [
    "%load_ext line_profiler"
   ]
  },
  {
   "cell_type": "code",
   "execution_count": 14,
   "id": "651a1ed3-b27f-47bd-82f0-6fb27fd374d3",
   "metadata": {},
   "outputs": [
    {
     "name": "stderr",
     "output_type": "stream",
     "text": [
      "/home/rio/miniconda3/envs/multibind/lib/python3.10/site-packages/line_profiler/ipython_extension.py:71: UserWarning: Could not extract a code object for the object <class 'enumerate'>\n",
      "  profile = LineProfiler(*funcs)\n"
     ]
    },
    {
     "data": {
      "text/plain": [
       "Timer unit: 1e-06 s"
      ]
     },
     "metadata": {},
     "output_type": "display_data"
    }
   ],
   "source": [
    "%lprun -f enumerate enumerate(train)"
   ]
  },
  {
   "cell_type": "code",
   "execution_count": 15,
   "id": "6f7aed92-0014-4462-8bef-7f121c9636ce",
   "metadata": {},
   "outputs": [
    {
     "name": "stdout",
     "output_type": "stream",
     "text": [
      "total time: 4.974 s\n",
      "secs per epoch: 0.497 s\n"
     ]
    },
    {
     "data": {
      "text/plain": [
       "Timer unit: 1e-06 s\n",
       "\n",
       "Total time: 4.95752 s\n",
       "File: /mnt/c/Users/ignacio.ibarra/Dropbox/workspace/theislab/multibind/multibind/tl/prediction.py\n",
       "Function: train_network at line 73\n",
       "\n",
       "Line #      Hits         Time  Per Hit   % Time  Line Contents\n",
       "==============================================================\n",
       "    73                                           def train_network(\n",
       "    74                                               model,\n",
       "    75                                               train_dataloader,\n",
       "    76                                               device,\n",
       "    77                                               optimiser,\n",
       "    78                                               criterion,\n",
       "    79                                               num_epochs=15,\n",
       "    80                                               early_stopping=-1,\n",
       "    81                                               dirichlet_regularization=0,\n",
       "    82                                               exp_max=40,  # if this value is negative, the exponential barrier will not be used.\n",
       "    83                                               log_each=None,\n",
       "    84                                               verbose=0,\n",
       "    85                                           ):\n",
       "    86                                               # global loss_history\n",
       "    87         1          2.0      2.0      0.0      loss_history = []\n",
       "    88         1          1.0      1.0      0.0      best_loss = None\n",
       "    89         1          1.0      1.0      0.0      best_epoch = -1\n",
       "    90         1          1.0      1.0      0.0      if verbose != 0:\n",
       "    91                                                   print(\n",
       "    92                                                       \"optimizing using\",\n",
       "    93                                                       str(type(optimiser)),\n",
       "    94                                                       \"and\",\n",
       "    95                                                       str(type(criterion)),\n",
       "    96                                                       \"n_epochs\",\n",
       "    97                                                       num_epochs,\n",
       "    98                                                       \"early_stopping\",\n",
       "    99                                                       early_stopping,\n",
       "   100                                                   )\n",
       "   101                                           \n",
       "   102         3          6.0      2.0      0.0      for f in [\"lr\", \"weight_decay\"]:\n",
       "   103         2          5.0      2.5      0.0          if f in optimiser.param_groups[0]:\n",
       "   104         2          3.0      1.5      0.0              if verbose != 0:\n",
       "   105                                                           print(\"%s=\" % f, optimiser.param_groups[0][f], end=\", \")\n",
       "   106                                           \n",
       "   107         1          1.0      1.0      0.0      if verbose != 0:\n",
       "   108                                                   print(\"dir weight=\", dirichlet_regularization)\n",
       "   109                                           \n",
       "   110         1         51.0     51.0      0.0      is_LBFGS = \"LBFGS\" in str(optimiser)\n",
       "   111         1          3.0      3.0      0.0      store_rev = train_dataloader.dataset.store_rev\n",
       "   112                                           \n",
       "   113         1          3.0      3.0      0.0      t0 = time.time()\n",
       "   114        11          7.0      0.6      0.0      for epoch in range(num_epochs):\n",
       "   115        11          8.0      0.7      0.0          running_loss = 0\n",
       "   116       561     646833.0   1153.0     13.0          for i, batch in enumerate(train_dataloader):\n",
       "   117                                                       # Get a batch and potentially send it to GPU memory.\n",
       "   118       550      81170.0    147.6      1.6              mononuc = batch[\"mononuc\"].to(device)\n",
       "   119       550      89390.0    162.5      1.8              b = batch[\"batch\"].to(device) if \"batch\" in batch else None\n",
       "   120       550      84446.0    153.5      1.7              rounds = batch[\"rounds\"].to(device) if \"rounds\" in batch else None\n",
       "   121       550      76994.0    140.0      1.6              countsum = batch[\"countsum\"].to(device) if \"countsum\" in batch else None\n",
       "   122       550        927.0      1.7      0.0              if store_rev:\n",
       "   123                                                           mononuc_rev = batch[\"mononuc_rev\"].to(device)\n",
       "   124                                                           inputs = (mononuc, mononuc_rev, b, countsum)\n",
       "   125                                                       else:\n",
       "   126       550       3120.0      5.7      0.1                  inputs = (mononuc, b, countsum)\n",
       "   127                                           \n",
       "   128       550       7279.0     13.2      0.1              loss = None\n",
       "   129       550        500.0      0.9      0.0              if not is_LBFGS:\n",
       "   130                                                           # PyTorch calculates gradients by accumulating contributions to them (useful for\n",
       "   131                                                           # RNNs).  Hence we must manully set them to zero before calculating them.\n",
       "   132       550      52642.0     95.7      1.1                  optimiser.zero_grad()\n",
       "   133       550    1602686.0   2914.0     32.3                  outputs = model(inputs)  # Forward pass through the network.\n",
       "   134                                           \n",
       "   135                                                           # weight_dist = model.weight_distances_min_k()\n",
       "   136       550      10631.0     19.3      0.2                  dir_weight = dirichlet_regularization * model.dirichlet_regularization()\n",
       "   137                                           \n",
       "   138                                                           # loss = criterion(outputs, rounds) + weight_dist + dir_weight\n",
       "   139       550      49249.0     89.5      1.0                  loss = criterion(outputs, rounds) + dir_weight\n",
       "   140                                           \n",
       "   141       550        778.0      1.4      0.0                  if exp_max >= 0:\n",
       "   142       550     437615.0    795.7      8.8                      loss += model.exp_barrier(exp_max)\n",
       "   143       550    1406831.0   2557.9     28.4                  loss.backward()  # Calculate gradients.\n",
       "   144       550     240689.0    437.6      4.9                  optimiser.step()\n",
       "   145                                           \n",
       "   146                                                       else:\n",
       "   147                                           \n",
       "   148                                                           def closure():\n",
       "   149                                                               optimiser.zero_grad()\n",
       "   150                                                               # this statement here is mandatory to\n",
       "   151                                                               outputs = model(inputs)\n",
       "   152                                           \n",
       "   153                                                               # weight_dist = model.weight_distances_min_k()\n",
       "   154                                                               dir_weight = dirichlet_regularization * model.dirichlet_regularization()\n",
       "   155                                           \n",
       "   156                                                               # loss = criterion(outputs, rounds) + weight_dist + dir_weight\n",
       "   157                                                               loss = criterion(outputs, rounds) + dir_weight\n",
       "   158                                           \n",
       "   159                                                               if exp_max >= 0:\n",
       "   160                                                                   loss += model.exp_barrier(exp_max)\n",
       "   161                                                               loss.backward()  # retain_graph=True)\n",
       "   162                                                               return loss\n",
       "   163                                           \n",
       "   164                                                           loss = optimiser.step(closure)  # Step to minimise the loss according to the gradient.\n",
       "   165       550     163910.0    298.0      3.3              running_loss += loss.item()\n",
       "   166                                           \n",
       "   167        11        173.0     15.7      0.0          loss_final = running_loss / len(train_dataloader)\n",
       "   168        11         14.0      1.3      0.0          if log_each != -1 and epoch > 0 and (epoch % log_each == 0):\n",
       "   169                                                       if verbose != 0:\n",
       "   170                                                           print(\n",
       "   171                                                               \"Epoch: %2d, Loss: %.6f\" % (epoch + 1, loss_final),\n",
       "   172                                                               \", best epoch: %i\" % best_epoch,\n",
       "   173                                                               \"secs per epoch: %.3f s\" % ((time.time() - t0) / max(epoch, 1)),\n",
       "   174                                                           )\n",
       "   175                                           \n",
       "   176        11         12.0      1.1      0.0          if best_loss is None or loss_final < best_loss:\n",
       "   177         1          1.0      1.0      0.0              best_loss = loss_final\n",
       "   178         1          1.0      1.0      0.0              best_epoch = epoch\n",
       "   179         1       1300.0   1300.0      0.0              model.best_model_state = copy.deepcopy(model.state_dict())\n",
       "   180         1          6.0      6.0      0.0              model.best_loss = best_loss\n",
       "   181                                           \n",
       "   182                                                   # print(\"Epoch: %2d, Loss: %.3f\" % (epoch + 1, running_loss / len(train_dataloader)))\n",
       "   183        11         15.0      1.4      0.0          loss_history.append(loss_final)\n",
       "   184                                           \n",
       "   185        11         16.0      1.5      0.0          if early_stopping > 0 and epoch >= best_epoch + early_stopping:\n",
       "   186         1          1.0      1.0      0.0              if verbose != 0:\n",
       "   187                                                           print(\n",
       "   188                                                               \"Epoch: %2d, Loss: %.4f\" % (epoch + 1, loss_final),\n",
       "   189                                                               \", best epoch: %i\" % best_epoch,\n",
       "   190                                                               \"secs per epoch: %.3f s\" % ((time.time() - t0) / max(epoch, 1)),\n",
       "   191                                                           )\n",
       "   192         1          1.0      1.0      0.0              if verbose != 0:\n",
       "   193                                                           print(\"early stop!\")\n",
       "   194         1          1.0      1.0      0.0              break\n",
       "   195                                           \n",
       "   196         1        165.0    165.0      0.0      print(\"total time: %.3f s\" % (time.time() - t0))\n",
       "   197         1         13.0     13.0      0.0      print(\"secs per epoch: %.3f s\" % ((time.time() - t0) / max(epoch, 1)))\n",
       "   198         1         18.0     18.0      0.0      model.loss_history += loss_history"
      ]
     },
     "metadata": {},
     "output_type": "display_data"
    }
   ],
   "source": [
    "criterion = mb.tl.PoissonLoss()\n",
    "num_epochs = 100\n",
    "early_stopping = 10\n",
    "log_each = 100\n",
    "dirichlet_regularization = 0.02\n",
    "\n",
    "%lprun -f mb.tl.train_network mb.tl.train_network(model, train, device, next_optimiser, criterion, num_epochs=num_epochs, early_stopping=early_stopping, log_each=log_each, dirichlet_regularization=dirichlet_regularization)"
   ]
  },
  {
   "cell_type": "code",
   "execution_count": 16,
   "id": "581b2710-47da-468b-bd8f-063cca750751",
   "metadata": {},
   "outputs": [],
   "source": [
    "for i, batch in enumerate(train):\n",
    "    # Get a batch and potentially send it to GPU memory.\n",
    "    mononuc = batch[\"mononuc\"].to(device)\n",
    "    b = batch[\"batch\"].to(device) if \"batch\" in batch else None\n",
    "    batch[\"target\"].to(device) if \"target\" in batch else None\n",
    "    rounds = batch[\"rounds\"].to(device) if \"rounds\" in batch else None\n",
    "    batch[\"is_count_data\"] if \"is_count_data\" in batch else None\n",
    "    # seqlen = batch[\"seqlen\"] if \"seqlen\" in batch else None\n",
    "    countsum = batch[\"countsum\"].to(device) if \"countsum\" in batch else Non\n",
    "\n",
    "    inputs = (mononuc, b, countsum)\n",
    "    \n",
    "    break\n",
    "    \n"
   ]
  },
  {
   "cell_type": "code",
   "execution_count": 17,
   "id": "ebebd0a2-ead7-4f37-9229-27533ee45cec",
   "metadata": {},
   "outputs": [
    {
     "name": "stdout",
     "output_type": "stream",
     "text": [
      "CPU times: user 340 µs, sys: 37 µs, total: 377 µs\n",
      "Wall time: 241 µs\n"
     ]
    },
    {
     "data": {
      "text/plain": [
       "tensor([1., 1., 1.,  ..., 1., 1., 1.], device='cuda:0')"
      ]
     },
     "execution_count": 17,
     "metadata": {},
     "output_type": "execute_result"
    }
   ],
   "source": [
    "%time torch.ones(train.dataset.mononuc.shape[0], device=device)"
   ]
  },
  {
   "cell_type": "code",
   "execution_count": 18,
   "id": "bdc58992-2e07-4805-9b8b-dc93e75a405e",
   "metadata": {},
   "outputs": [
    {
     "name": "stdout",
     "output_type": "stream",
     "text": [
      "CPU times: user 576 µs, sys: 63 µs, total: 639 µs\n",
      "Wall time: 424 µs\n"
     ]
    },
    {
     "data": {
      "text/plain": [
       "tensor([1., 1., 1.,  ..., 1., 1., 1.], device='cuda:0')"
      ]
     },
     "execution_count": 18,
     "metadata": {},
     "output_type": "execute_result"
    }
   ],
   "source": [
    "%time torch.Tensor([1.0] * train.dataset.mononuc.shape[0]).to(device=device)"
   ]
  },
  {
   "cell_type": "code",
   "execution_count": 19,
   "id": "08062f7c-6b8a-4f53-a412-dc7355dbbb3c",
   "metadata": {},
   "outputs": [
    {
     "data": {
      "text/plain": [
       "Timer unit: 1e-06 s\n",
       "\n",
       "Total time: 0.003669 s\n",
       "File: /mnt/c/Users/ignacio.ibarra/Dropbox/workspace/theislab/multibind/multibind/models/models.py\n",
       "Function: forward at line 72\n",
       "\n",
       "Line #      Hits         Time  Per Hit   % Time  Line Contents\n",
       "==============================================================\n",
       "    72                                               def forward(self, x, min_value=1e-15):\n",
       "    73                                                   # Create the forward pass through the network.\n",
       "    74         1          2.0      2.0      0.1          if len(x) == 3:\n",
       "    75         1          1.0      1.0      0.0              mono, batch, countsum = x\n",
       "    76                                                       # padding of sequences\n",
       "    77         1        228.0    228.0      6.2              mono = self.padding(mono)\n",
       "    78         1        444.0    444.0     12.1              mono_rev = mb.tl.mono2revmono(mono)\n",
       "    79                                                   elif len(x) == 4:\n",
       "    80                                                       mono, mono_rev, batch, countsum = x\n",
       "    81                                                       # padding of sequences\n",
       "    82                                                       mono = self.padding(mono)\n",
       "    83                                                       mono_rev = self.padding(mono_rev)\n",
       "    84                                                   else:\n",
       "    85                                                       assert False\n",
       "    86                                           \n",
       "    87                                                   # prepare the dinucleotide objects if we need them\n",
       "    88         1          3.0      3.0      0.1          if self.use_dinuc:\n",
       "    89                                                       di = mb.tl.mono2dinuc(mono)\n",
       "    90                                                       di_rev = mb.tl.mono2dinuc(mono_rev)\n",
       "    91                                                       di = torch.unsqueeze(di, 1)\n",
       "    92                                                       di_rev = torch.unsqueeze(di_rev, 1)\n",
       "    93                                           \n",
       "    94                                                   # unsqueeze mono after preparing di and unsqueezing mono\n",
       "    95         1         24.0     24.0      0.7          mono_rev = torch.unsqueeze(mono_rev, 1)\n",
       "    96         1          3.0      3.0      0.1          mono = torch.unsqueeze(mono, 1)\n",
       "    97                                           \n",
       "    98                                                   # x = torch.zeros([mono.shape[0], len(self.kernels)], requires_grad=True)\n",
       "    99         1          0.0      0.0      0.0          x_ = []\n",
       "   100                                                   # print(mono.device)\n",
       "   101                                                   # print(self.ignore_kernel)\n",
       "   102                                                   # assert False\n",
       "   103         3          6.0      2.0      0.2          for i in range(len(self.kernels)):\n",
       "   104                                                       # print(i)\n",
       "   105                                                       # if self.ignore_kernel is not None and self.ignore_kernel[i]:\n",
       "   106                                                       #     temp = torch.Tensor([0.0] * mono.shape[0]).to(device=mono.device)\n",
       "   107                                                       #     x_.append(temp)\n",
       "   108         2          2.0      1.0      0.1              if self.kernels[i] == 0:\n",
       "   109         1        168.0    168.0      4.6                  temp = torch.Tensor([1.0] * mono.shape[0]).to(device=mono.device)\n",
       "   110         1          2.0      2.0      0.1                  x_.append(temp)\n",
       "   111                                                       else:\n",
       "   112                                                           # check devices match\n",
       "   113         1         45.0     45.0      1.2                  if self.conv_mono[i].weight.device != mono.device:\n",
       "   114                                                               self.conv_mono[i].weight.to(mono.device)\n",
       "   115                                           \n",
       "   116         1          1.0      1.0      0.0                  if self.use_dinuc:\n",
       "   117                                                               temp = torch.cat(\n",
       "   118                                                                   (\n",
       "   119                                                                       self.conv_mono[i](mono),\n",
       "   120                                                                       self.conv_mono[i](mono_rev),\n",
       "   121                                                                       self.conv_di[i](di),\n",
       "   122                                                                       self.conv_di[i](di_rev),\n",
       "   123                                                                   ),\n",
       "   124                                                                   dim=3,\n",
       "   125                                                               )\n",
       "   126                                                           else:\n",
       "   127         1        422.0    422.0     11.5                      temp = torch.cat((self.conv_mono[i](mono), self.conv_mono[i](mono_rev)), dim=3)\n",
       "   128         1         24.0     24.0      0.7                  temp = torch.exp(temp)\n",
       "   129         1         17.0     17.0      0.5                  temp = temp.view(temp.shape[0], -1)\n",
       "   130         1         30.0     30.0      0.8                  temp = torch.sum(temp, axis=1)\n",
       "   131         1          1.0      1.0      0.0                  x_.append(temp)\n",
       "   132                                                           # print(temp.shape, x_.shape)\n",
       "   133                                           \n",
       "   134         1        105.0    105.0      2.9          x = torch.stack(x_).T\n",
       "   135                                           \n",
       "   136         1        128.0    128.0      3.5          scores = torch.zeros([x.shape[0], self.n_rounds + 1]).to(device=mono.device)  #  + min_value# conversion for gpu\n",
       "   137                                                   # print(scores)\n",
       "   138         2          4.0      2.0      0.1          for i in range(self.n_batches):\n",
       "   139                                                       # a = torch.exp(self.log_activities[i, :, :])\n",
       "   140         1        113.0    113.0      3.1              a = torch.exp(torch.stack(list(self.log_activities), dim=1)[i, :, :])\n",
       "   141         1          1.0      1.0      0.0              if self.ignore_kernel is not None:\n",
       "   142                                                           mask = self.ignore_kernel != 1  # == False\n",
       "   143                                                           # print(mask_kernel)\n",
       "   144                                                           # print(x.shape, a.shape, x[batch == i][:,mask_kernel], a[mask_kernel,:].shape)\n",
       "   145                                                           scores[batch == i] = torch.matmul(x[batch == i][:, mask], a[mask, :])\n",
       "   146                                                       else:\n",
       "   147         1        879.0    879.0     24.0                  scores[batch == i] = torch.matmul(x[batch == i], a)\n",
       "   148                                           \n",
       "   149                                                   # print()\n",
       "   150                                                   # print(x)\n",
       "   151                                                   # print(a)\n",
       "   152                                           \n",
       "   153                                                   # print('\\n\\nfinal scores')\n",
       "   154                                                   # print(scores)\n",
       "   155                                                   # assert False\n",
       "   156                                                   # a = torch.reshape(a, [a.shape[0], a.shape[2]])\n",
       "   157                                                   # x = torch.matmul(x, a)\n",
       "   158                                                   # sequential enrichment or independent samples\n",
       "   159         1          2.0      2.0      0.1          if self.enr_series:\n",
       "   160                                                       # print('using enrichment series')\n",
       "   161         1         18.0     18.0      0.5              predictions_ = [scores[:, 0]]\n",
       "   162         2          3.0      1.5      0.1              for i in range(1, self.n_rounds + 1):\n",
       "   163         1         35.0     35.0      1.0                  predictions_.append(predictions_[-1] * scores[:, i])\n",
       "   164         1         38.0     38.0      1.0              out = torch.stack(predictions_).T\n",
       "   165                                           \n",
       "   166                                                       # print('here...')\n",
       "   167                                                       # print(out[:10])\n",
       "   168                                                   else:\n",
       "   169                                                       out = scores\n",
       "   170                                           \n",
       "   171         2          3.0      1.5      0.1          for i in range(self.n_batches):\n",
       "   172         1         46.0     46.0      1.3              eta = torch.exp(self.log_etas[i, :])\n",
       "   173         1        789.0    789.0     21.5              out[batch == i] = out[batch == i] * eta\n",
       "   174                                           \n",
       "   175         1         55.0     55.0      1.5          results = out.T / torch.sum(out, dim=1)\n",
       "   176         1         26.0     26.0      0.7          results = (results * countsum).T\n",
       "   177         1          1.0      1.0      0.0          return results"
      ]
     },
     "metadata": {},
     "output_type": "display_data"
    }
   ],
   "source": [
    "%lprun -f model.forward model.forward(inputs) "
   ]
  }
 ],
 "metadata": {
  "kernelspec": {
   "display_name": "multibind",
   "language": "python",
   "name": "multibind"
  },
  "language_info": {
   "codemirror_mode": {
    "name": "ipython",
    "version": 3
   },
   "file_extension": ".py",
   "mimetype": "text/x-python",
   "name": "python",
   "nbconvert_exporter": "python",
   "pygments_lexer": "ipython3",
   "version": "3.10.4"
  }
 },
 "nbformat": 4,
 "nbformat_minor": 5
}
