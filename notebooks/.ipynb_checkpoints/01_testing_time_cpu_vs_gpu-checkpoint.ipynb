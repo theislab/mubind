{
 "cells": [
  {
   "cell_type": "code",
   "execution_count": 9,
   "id": "745b81be-2d84-4625-8212-1ac053ccf332",
   "metadata": {},
   "outputs": [],
   "source": [
    "import torch\n",
    "import torch.nn as tnn\n"
   ]
  },
  {
   "cell_type": "code",
   "execution_count": 19,
   "id": "9d907703-0d40-4633-87cd-904b813ef649",
   "metadata": {},
   "outputs": [
    {
     "data": {
      "text/plain": [
       "torch.float32"
      ]
     },
     "execution_count": 19,
     "metadata": {},
     "output_type": "execute_result"
    }
   ],
   "source": [
    "kernels = [0, 14, 12]\n",
    "padding_const = .25\n",
    "n_batches = 3\n",
    "n_rounds = 2\n",
    "# tnn.ConstantPad2d((max(kernels) - 1, max(kernels) - 1, 0, 0), padding_const)\n",
    "tnn.Parameter(torch.zeros([n_batches, n_rounds + 1])).dtype"
   ]
  },
  {
   "cell_type": "code",
   "execution_count": 7,
   "id": "d1ebf8b6-9827-416c-8b5b-624c4d62ea10",
   "metadata": {},
   "outputs": [
    {
     "name": "stdout",
     "output_type": "stream",
     "text": [
      "1.11.0+cu113\n",
      "\n",
      "cpu\n",
      "0:00:07.544927\n",
      "\n",
      "cuda:0\n",
      "0:00:03.734372\n"
     ]
    }
   ],
   "source": [
    "import torch\n",
    "import datetime\n",
    "print(torch.__version__)\n",
    "\n",
    "dtype = torch.float32\n",
    "\n",
    "for device_name in ['cpu', 'cuda:0']:\n",
    "    print('')\n",
    "    print(device_name)\n",
    "    device = torch.device(device_name)\n",
    "\n",
    "    # N is batch size; D_in is input dimension;\n",
    "    # H is hidden dimension; D_out is output dimension.\n",
    "    # N, D_in, H, D_out = 64, 1000, 100, 10\n",
    "    N, D_in, H, D_out = 128, 1000, 500, 10\n",
    "\n",
    "    # Create random input and output data\n",
    "    x = torch.randn(N, D_in, device=device, dtype=dtype)\n",
    "    y = torch.randn(N, D_out, device=device, dtype=dtype)\n",
    "\n",
    "    # Randomly initialize weights\n",
    "    w1 = torch.randn(D_in, H, device=device, dtype=dtype)\n",
    "    w2 = torch.randn(H, D_out, device=device, dtype=dtype)\n",
    "\n",
    "\n",
    "    start = datetime.datetime.now()\n",
    "    learning_rate = 1e-6\n",
    "    for t in range(5000):\n",
    "        # Forward pass: compute predicted y\n",
    "        h = x.mm(w1)\n",
    "        h_relu = h.clamp(min=0)\n",
    "        y_pred = h_relu.mm(w2)\n",
    "\n",
    "        # Compute and print loss\n",
    "        loss = (y_pred - y).pow(2).sum().item()\n",
    "        #print(t, loss)\n",
    "\n",
    "        # Backprop to compute gradients of w1 and w2 with respect to loss\n",
    "        grad_y_pred = 2.0 * (y_pred - y)\n",
    "        grad_w2 = h_relu.t().mm(grad_y_pred)\n",
    "        grad_h_relu = grad_y_pred.mm(w2.t())\n",
    "        grad_h = grad_h_relu.clone()\n",
    "        grad_h[h < 0] = 0\n",
    "        grad_w1 = x.t().mm(grad_h)\n",
    "\n",
    "        # Update weights using gradient descent\n",
    "        w1 -= learning_rate * grad_w1\n",
    "        w2 -= learning_rate * grad_w2\n",
    "\n",
    "    end = datetime.datetime.now()\n",
    "    print(end-start)"
   ]
  }
 ],
 "metadata": {
  "kernelspec": {
   "display_name": "Python [conda env:multibind]",
   "language": "python",
   "name": "conda-env-multibind-py"
  },
  "language_info": {
   "codemirror_mode": {
    "name": "ipython",
    "version": 3
   },
   "file_extension": ".py",
   "mimetype": "text/x-python",
   "name": "python",
   "nbconvert_exporter": "python",
   "pygments_lexer": "ipython3",
   "version": "3.10.4"
  }
 },
 "nbformat": 4,
 "nbformat_minor": 5
}
