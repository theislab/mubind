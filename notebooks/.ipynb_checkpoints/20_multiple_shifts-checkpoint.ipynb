{
 "cells": [
  {
   "cell_type": "code",
   "execution_count": 6,
   "id": "67e9d3c9-c581-4867-85aa-b6bb0ff5b2e7",
   "metadata": {},
   "outputs": [
    {
     "name": "stdout",
     "output_type": "stream",
     "text": [
      "The autoreload extension is already loaded. To reload it, use:\n",
      "  %reload_ext autoreload\n"
     ]
    }
   ],
   "source": [
    "%load_ext autoreload\n",
    "%autoreload 2"
   ]
  },
  {
   "cell_type": "code",
   "execution_count": 7,
   "id": "195fb3d1-9d8f-4636-9fd8-9cc90c0380da",
   "metadata": {},
   "outputs": [
    {
     "name": "stdout",
     "output_type": "stream",
     "text": [
      "Using device: cuda:0\n"
     ]
    }
   ],
   "source": [
    "import mubind as mb\n",
    "import numpy as np\n",
    "import pandas as pd\n",
    "import torch\n",
    "import bindome as bd\n",
    "bd.constants.ANNOTATIONS_DIRECTORY = 'annotations'\n",
    "# mb.models.MultiBind\n",
    "import torch.optim as topti\n",
    "import torch.utils.data as tdata\n",
    "import matplotlib.pyplot as plt\n",
    "import logomaker\n",
    "\n",
    "# Use a GPU if available, as it should be faster.\n",
    "device = torch.device(\"cuda:0\" if torch.cuda.is_available() else \"cpu\")\n",
    "print(\"Using device: \" + str(device))"
   ]
  },
  {
   "cell_type": "code",
   "execution_count": 8,
   "id": "e5c9c88a-f198-4da6-bccb-54aae10439b6",
   "metadata": {},
   "outputs": [],
   "source": [
    "df = mb.bindome.datasets.ProBound.ctcf()\n",
    "df = df.sort_values(1, ascending=False).reset_index(drop=True)"
   ]
  },
  {
   "cell_type": "code",
   "execution_count": 9,
   "id": "6ef809fe-edbd-4278-a06c-912afcd76e32",
   "metadata": {},
   "outputs": [
    {
     "data": {
      "text/html": [
       "<div>\n",
       "<style scoped>\n",
       "    .dataframe tbody tr th:only-of-type {\n",
       "        vertical-align: middle;\n",
       "    }\n",
       "\n",
       "    .dataframe tbody tr th {\n",
       "        vertical-align: top;\n",
       "    }\n",
       "\n",
       "    .dataframe thead th {\n",
       "        text-align: right;\n",
       "    }\n",
       "</style>\n",
       "<table border=\"1\" class=\"dataframe\">\n",
       "  <thead>\n",
       "    <tr style=\"text-align: right;\">\n",
       "      <th></th>\n",
       "      <th>seq</th>\n",
       "      <th>0</th>\n",
       "      <th>1</th>\n",
       "    </tr>\n",
       "  </thead>\n",
       "  <tbody>\n",
       "    <tr>\n",
       "      <th>0</th>\n",
       "      <td>TATTCCATGTAGACCGGCCATTGGACTATG</td>\n",
       "      <td>0</td>\n",
       "      <td>4</td>\n",
       "    </tr>\n",
       "    <tr>\n",
       "      <th>1</th>\n",
       "      <td>CCCTAGCGTTGATGGTATCGTAAGTGCGTC</td>\n",
       "      <td>0</td>\n",
       "      <td>4</td>\n",
       "    </tr>\n",
       "    <tr>\n",
       "      <th>2</th>\n",
       "      <td>TAATTAGTGGCTGCTTGTCGGAATGGGCAG</td>\n",
       "      <td>0</td>\n",
       "      <td>4</td>\n",
       "    </tr>\n",
       "    <tr>\n",
       "      <th>3</th>\n",
       "      <td>GAGGGGGCGTTACGCGTTGTGTAGACCTAA</td>\n",
       "      <td>0</td>\n",
       "      <td>4</td>\n",
       "    </tr>\n",
       "    <tr>\n",
       "      <th>4</th>\n",
       "      <td>AGGACCTCAGGTGGAATCTTTTTACTATTG</td>\n",
       "      <td>0</td>\n",
       "      <td>4</td>\n",
       "    </tr>\n",
       "    <tr>\n",
       "      <th>...</th>\n",
       "      <td>...</td>\n",
       "      <td>...</td>\n",
       "      <td>...</td>\n",
       "    </tr>\n",
       "    <tr>\n",
       "      <th>120091</th>\n",
       "      <td>ATATCAGAGAGACAGGACTTGTGACTTTGT</td>\n",
       "      <td>1</td>\n",
       "      <td>0</td>\n",
       "    </tr>\n",
       "    <tr>\n",
       "      <th>120092</th>\n",
       "      <td>ATATCAGAGGGCGTTCGAGGCTTGCTAGGC</td>\n",
       "      <td>1</td>\n",
       "      <td>0</td>\n",
       "    </tr>\n",
       "    <tr>\n",
       "      <th>120093</th>\n",
       "      <td>GGATGGGAGTGCCTTTTGGATGAAAGATTG</td>\n",
       "      <td>1</td>\n",
       "      <td>0</td>\n",
       "    </tr>\n",
       "    <tr>\n",
       "      <th>120094</th>\n",
       "      <td>GGATGGCTTGAGTAACCAAGGATTGCGTGG</td>\n",
       "      <td>1</td>\n",
       "      <td>0</td>\n",
       "    </tr>\n",
       "    <tr>\n",
       "      <th>120095</th>\n",
       "      <td>GCCTTTAAAGCGCTTTAGCATTAAAACGTT</td>\n",
       "      <td>1</td>\n",
       "      <td>0</td>\n",
       "    </tr>\n",
       "  </tbody>\n",
       "</table>\n",
       "<p>120096 rows × 3 columns</p>\n",
       "</div>"
      ],
      "text/plain": [
       "                                   seq  0  1\n",
       "0       TATTCCATGTAGACCGGCCATTGGACTATG  0  4\n",
       "1       CCCTAGCGTTGATGGTATCGTAAGTGCGTC  0  4\n",
       "2       TAATTAGTGGCTGCTTGTCGGAATGGGCAG  0  4\n",
       "3       GAGGGGGCGTTACGCGTTGTGTAGACCTAA  0  4\n",
       "4       AGGACCTCAGGTGGAATCTTTTTACTATTG  0  4\n",
       "...                                ... .. ..\n",
       "120091  ATATCAGAGAGACAGGACTTGTGACTTTGT  1  0\n",
       "120092  ATATCAGAGGGCGTTCGAGGCTTGCTAGGC  1  0\n",
       "120093  GGATGGGAGTGCCTTTTGGATGAAAGATTG  1  0\n",
       "120094  GGATGGCTTGAGTAACCAAGGATTGCGTGG  1  0\n",
       "120095  GCCTTTAAAGCGCTTTAGCATTAAAACGTT  1  0\n",
       "\n",
       "[120096 rows x 3 columns]"
      ]
     },
     "execution_count": 9,
     "metadata": {},
     "output_type": "execute_result"
    }
   ],
   "source": [
    "df"
   ]
  },
  {
   "cell_type": "code",
   "execution_count": 10,
   "id": "bdeb26c5-ef11-4f80-ab4b-3d82c79c7565",
   "metadata": {},
   "outputs": [],
   "source": [
    "n_rounds = 1\n",
    "data = pd.read_csv('../data/countTable.0.CTCF_r3.tsv.gz', sep='\\t', header=None)\n",
    "data.columns = ['seq'] + [i for i in range(n_rounds+1)]\n",
    "# data = data.sample(n=1000)\n",
    "# data.index = range(len(data))\n",
    "dataset = mb.datasets.SelexDataset(data, n_rounds=n_rounds)\n",
    "train = tdata.DataLoader(dataset=dataset, batch_size=256, shuffle=True)"
   ]
  },
  {
   "cell_type": "code",
   "execution_count": 11,
   "id": "4885e7ed-04b4-411e-b591-f02430ad723c",
   "metadata": {},
   "outputs": [],
   "source": [
    "# data = df.head(1000)\n",
    "data = df.sample(n=1000)\n",
    "# data = df.copy()"
   ]
  },
  {
   "cell_type": "code",
   "execution_count": 12,
   "id": "4de4afdd-bb7e-4303-87c0-82b3f39ad294",
   "metadata": {},
   "outputs": [
    {
     "data": {
      "text/plain": [
       "{0, 1}"
      ]
     },
     "execution_count": 12,
     "metadata": {},
     "output_type": "execute_result"
    }
   ],
   "source": [
    "set(data[0])"
   ]
  },
  {
   "cell_type": "code",
   "execution_count": 13,
   "id": "b0cdcfef-6ddc-49f2-9356-9ed0cec120c1",
   "metadata": {},
   "outputs": [],
   "source": [
    "n_rounds = 1"
   ]
  },
  {
   "cell_type": "code",
   "execution_count": 14,
   "id": "cbed92e3-a356-45e6-a068-fbd1376feb79",
   "metadata": {},
   "outputs": [],
   "source": [
    "from matplotlib import rcParams\n",
    "rcParams['figure.figsize'] = 5, 1"
   ]
  },
  {
   "cell_type": "code",
   "execution_count": 15,
   "id": "557c9d5d-a9eb-48c6-827c-e443d0752a2d",
   "metadata": {},
   "outputs": [
    {
     "name": "stdout",
     "output_type": "stream",
     "text": [
      "loading object (# entries) 1000\n"
     ]
    }
   ],
   "source": [
    "print('loading object (# entries)', data.shape[0])\n",
    "dataset = mb.datasets.SelexDataset(data, n_rounds=n_rounds)\n",
    "train = tdata.DataLoader(dataset=dataset, batch_size=1000, shuffle=True)"
   ]
  },
  {
   "cell_type": "code",
   "execution_count": 16,
   "id": "fbbc152f-3770-4178-b34b-3b0484c18c21",
   "metadata": {},
   "outputs": [],
   "source": [
    "n_rounds = 1"
   ]
  },
  {
   "cell_type": "code",
   "execution_count": 17,
   "id": "c7feab1b-1726-4d88-b57a-060b6c8b6323",
   "metadata": {},
   "outputs": [],
   "source": [
    "from matplotlib import rcParams\n",
    "rcParams['figure.figsize'] = 5, 1"
   ]
  },
  {
   "cell_type": "code",
   "execution_count": 18,
   "id": "0301f36d-c2fd-4b03-9c12-e06b7c6c1db7",
   "metadata": {},
   "outputs": [
    {
     "name": "stdout",
     "output_type": "stream",
     "text": [
      "loading object (# entries) 1000\n"
     ]
    }
   ],
   "source": [
    "print('loading object (# entries)', data.shape[0])\n",
    "dataset = mb.datasets.SelexDataset(data, n_rounds=n_rounds)\n",
    "train = tdata.DataLoader(dataset=dataset, batch_size=1000, shuffle=True)"
   ]
  },
  {
   "cell_type": "code",
   "execution_count": 19,
   "id": "e1620ebe-cbb2-4bc8-a0f6-bfd60b3f117a",
   "metadata": {},
   "outputs": [],
   "source": [
    "# train = tdata.DataLoader(dataset=dataset, batch_size=256, shuffle=True)"
   ]
  },
  {
   "cell_type": "code",
   "execution_count": 20,
   "id": "49c04087-128d-4680-8b0e-c3f488fa7654",
   "metadata": {},
   "outputs": [],
   "source": [
    "import numpy as np"
   ]
  },
  {
   "cell_type": "code",
   "execution_count": null,
   "id": "b8266990-cdf7-4d75-839e-b0ed70fb69d1",
   "metadata": {
    "tags": []
   },
   "outputs": [],
   "source": [
    "# assign batch and data type\n",
    "\n",
    "# data['batch'] = 0\n",
    "# data['is_count_data'] = 1\n",
    "# n_batches=3\n",
    "\n",
    "dirichlet_regularization = 0\n",
    "# for dirichlet_regularization_log in range(-5, 3):\n",
    "\n",
    "from matplotlib import rcParams\n",
    "rcParams['figure.figsize'] = 8, 1\n",
    "\n",
    "for ignore_kernel in [0, 1]: # [0, 1]:\n",
    "    print('\\n\\n##NEW JOB')\n",
    "    print('ignore kernel', ignore_kernel)\n",
    "    model_by_k, res_next = mb.tl.train_iterative(train, device, min_w=14, show_logo=True, optimize_motif_shift=True,\n",
    "                                                 dirichlet_regularization=dirichlet_regularization, # 10 ** dirichlet_regularization_log,\n",
    "                                                 lr=[0.01, 0.01, 0.01], weight_decay=[0.01, 0.001, 0.001], ignore_kernel=ignore_kernel,\n",
    "                                                 num_epochs=1000, early_stopping=200, use_dinuc=False, # optimiser=torch.optim.LBFGS,\n",
    "                                                 max_w=15, n_kernels=3, log_each=250, stop_at_kernel=None) #  seed=seed) # seeds.index[0]) # \n",
    "    print('##DONE....\\n\\n')\n",
    "    break\n",
    "# res = []\n",
    "# model_by_k = {}\n"
   ]
  },
  {
   "cell_type": "code",
   "execution_count": null,
   "id": "929b6282-b262-40cb-8edf-2d7323c06182",
   "metadata": {},
   "outputs": [],
   "source": [
    "print('done...')"
   ]
  }
 ],
 "metadata": {
  "kernelspec": {
   "display_name": "multibind",
   "language": "python",
   "name": "multibind"
  },
  "language_info": {
   "codemirror_mode": {
    "name": "ipython",
    "version": 3
   },
   "file_extension": ".py",
   "mimetype": "text/x-python",
   "name": "python",
   "nbconvert_exporter": "python",
   "pygments_lexer": "ipython3",
   "version": "3.10.4"
  }
 },
 "nbformat": 4,
 "nbformat_minor": 5
}
