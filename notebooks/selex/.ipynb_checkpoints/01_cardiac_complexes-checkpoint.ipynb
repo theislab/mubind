{
 "cells": [
  {
   "cell_type": "code",
   "execution_count": 2,
   "id": "433b6cfa",
   "metadata": {},
   "outputs": [],
   "source": [
    "%load_ext autoreload\n",
    "%autoreload 2"
   ]
  },
  {
   "cell_type": "code",
   "execution_count": 12,
   "id": "67c2b127",
   "metadata": {},
   "outputs": [
    {
     "name": "stdout",
     "output_type": "stream",
     "text": [
      "Using device: cuda:0\n"
     ]
    }
   ],
   "source": [
    "import mubind as mb\n",
    "import bindome as bd\n",
    "bd.constants.ANNOTATIONS_DIRECTORY = '../annotations'\n",
    "\n",
    "import os\n",
    "import numpy as np\n",
    "import pandas as pd\n",
    "import torch\n",
    "\n",
    "import torch.optim as topti\n",
    "import torch.utils.data as tdata\n",
    "import matplotlib.pyplot as plt\n",
    "import logomaker\n",
    "import timeit\n",
    "\n",
    "# Use a GPU if available, as it should be faster.\n",
    "device = torch.device(\"cuda:0\" if torch.cuda.is_available() else \"cpu\")\n",
    "print(\"Using device: \" + str(device))"
   ]
  },
  {
   "cell_type": "code",
   "execution_count": 8,
   "id": "3b6906c3",
   "metadata": {},
   "outputs": [
    {
     "name": "stdout",
     "output_type": "stream",
     "text": [
      "cardiac_complexes\n",
      "# filenames 22\n",
      "(22, 2)\n",
      "PRJEB14744\n",
      "PRJEB20112\n",
      "PRJEB3289\n",
      "PRJEB9797\n"
     ]
    }
   ],
   "source": [
    "data = bd.bindome.datasets.SELEX.get_data(accession='cardiac_complexes')\n",
    "# data[data['cycle'] == 'AF']\n",
    "\n",
    "data = data[~data['filename'].str.endswith('.xlsx')]\n",
    "metadata = pd.read_excel(os.path.join(bd.constants.ANNOTATIONS_DIRECTORY, 'selex', 'cardiac_complexes', 'SAMPLE_INFO.xlsx'))\n",
    "data = data.merge(metadata, on='filename')\n",
    "data['cycle'] = data['Round']\n",
    "data['library'] = data['filename'].str.split('.txt.gz').str[0].str.split('_').str[-1]\n",
    "data = data[['filename', 'cycle', 'tf.name', 'accession', 'library']]"
   ]
  },
  {
   "cell_type": "code",
   "execution_count": 9,
   "id": "950af7d8-fecc-4882-b268-adc44147a450",
   "metadata": {},
   "outputs": [
    {
     "data": {
      "text/html": [
       "<div>\n",
       "<style scoped>\n",
       "    .dataframe tbody tr th:only-of-type {\n",
       "        vertical-align: middle;\n",
       "    }\n",
       "\n",
       "    .dataframe tbody tr th {\n",
       "        vertical-align: top;\n",
       "    }\n",
       "\n",
       "    .dataframe thead th {\n",
       "        text-align: right;\n",
       "    }\n",
       "</style>\n",
       "<table border=\"1\" class=\"dataframe\">\n",
       "  <thead>\n",
       "    <tr style=\"text-align: right;\">\n",
       "      <th></th>\n",
       "      <th>filename</th>\n",
       "      <th>cycle</th>\n",
       "      <th>tf.name</th>\n",
       "      <th>accession</th>\n",
       "      <th>library</th>\n",
       "    </tr>\n",
       "  </thead>\n",
       "  <tbody>\n",
       "    <tr>\n",
       "      <th>0</th>\n",
       "      <td>GATA4TBX5_R1_R46_016_999.txt.gz</td>\n",
       "      <td>1</td>\n",
       "      <td>GATA4TBX5</td>\n",
       "      <td>cardiac_complexes</td>\n",
       "      <td>999</td>\n",
       "    </tr>\n",
       "    <tr>\n",
       "      <th>1</th>\n",
       "      <td>GATA4TBX5_R2_R46_033_999.txt.gz</td>\n",
       "      <td>2</td>\n",
       "      <td>GATA4TBX5</td>\n",
       "      <td>cardiac_complexes</td>\n",
       "      <td>999</td>\n",
       "    </tr>\n",
       "    <tr>\n",
       "      <th>2</th>\n",
       "      <td>GATA4TBX5_R3_R46_051_999.txt.gz</td>\n",
       "      <td>3</td>\n",
       "      <td>GATA4TBX5</td>\n",
       "      <td>cardiac_complexes</td>\n",
       "      <td>999</td>\n",
       "    </tr>\n",
       "    <tr>\n",
       "      <th>3</th>\n",
       "      <td>GATA4_R1_R46_032_777.txt.gz</td>\n",
       "      <td>1</td>\n",
       "      <td>GATA4</td>\n",
       "      <td>cardiac_complexes</td>\n",
       "      <td>777</td>\n",
       "    </tr>\n",
       "    <tr>\n",
       "      <th>4</th>\n",
       "      <td>GATA4_R2_R46_046_777.txt.gz</td>\n",
       "      <td>2</td>\n",
       "      <td>GATA4</td>\n",
       "      <td>cardiac_complexes</td>\n",
       "      <td>777</td>\n",
       "    </tr>\n",
       "  </tbody>\n",
       "</table>\n",
       "</div>"
      ],
      "text/plain": [
       "                          filename  cycle    tf.name          accession  \\\n",
       "0  GATA4TBX5_R1_R46_016_999.txt.gz      1  GATA4TBX5  cardiac_complexes   \n",
       "1  GATA4TBX5_R2_R46_033_999.txt.gz      2  GATA4TBX5  cardiac_complexes   \n",
       "2  GATA4TBX5_R3_R46_051_999.txt.gz      3  GATA4TBX5  cardiac_complexes   \n",
       "3      GATA4_R1_R46_032_777.txt.gz      1      GATA4  cardiac_complexes   \n",
       "4      GATA4_R2_R46_046_777.txt.gz      2      GATA4  cardiac_complexes   \n",
       "\n",
       "  library  \n",
       "0     999  \n",
       "1     999  \n",
       "2     999  \n",
       "3     777  \n",
       "4     777  "
      ]
     },
     "execution_count": 9,
     "metadata": {},
     "output_type": "execute_result"
    }
   ],
   "source": [
    "data.head()"
   ]
  },
  {
   "cell_type": "markdown",
   "id": "9bac2838",
   "metadata": {},
   "source": [
    "All TF's, using subsets of only round 0 and 1"
   ]
  },
  {
   "cell_type": "code",
   "execution_count": 10,
   "id": "aba7eab2-5f49-482d-a2e3-c96539ddae43",
   "metadata": {},
   "outputs": [],
   "source": [
    "def update_dict(d1, d2):\n",
    "    for k in list(d2.keys()):\n",
    "        if not k in d1:\n",
    "            d1[k] = d2[k]\n",
    "        else:\n",
    "            d2[k] = d1[k]"
   ]
  },
  {
   "cell_type": "code",
   "execution_count": 60,
   "id": "0cc21296-c0d9-455d-8672-e22d1e9221ef",
   "metadata": {},
   "outputs": [],
   "source": [
    "reads_tf = {}\n",
    "reads_zero = {}"
   ]
  },
  {
   "cell_type": "code",
   "execution_count": 40,
   "id": "2dbb66c5-6d65-496d-a8a4-10f98777fa53",
   "metadata": {},
   "outputs": [],
   "source": [
    "import warnings\n",
    "warnings.filterwarnings(\"ignore\")"
   ]
  },
  {
   "cell_type": "code",
   "execution_count": 52,
   "id": "d2e90a32-310d-410c-92f2-d83a97e9bbae",
   "metadata": {},
   "outputs": [
    {
     "data": {
      "text/plain": [
       "array([100, 100, 100, 100])"
      ]
     },
     "execution_count": 52,
     "metadata": {},
     "output_type": "execute_result"
    }
   ],
   "source": [
    "train.dataset.rounds.sum(axis=0)"
   ]
  },
  {
   "cell_type": "code",
   "execution_count": 82,
   "id": "ae8501f5-84a5-4839-817a-34d1c16f981a",
   "metadata": {},
   "outputs": [
    {
     "data": {
      "text/plain": [
       "(39670, 12)"
      ]
     },
     "execution_count": 82,
     "metadata": {},
     "output_type": "execute_result"
    }
   ],
   "source": [
    "next_data.shape"
   ]
  },
  {
   "cell_type": "code",
   "execution_count": 84,
   "id": "3b9f6413-e71b-43a8-a94c-7a5b1ee57d3c",
   "metadata": {},
   "outputs": [
    {
     "data": {
      "text/plain": [
       "100000"
      ]
     },
     "execution_count": 84,
     "metadata": {},
     "output_type": "execute_result"
    }
   ],
   "source": [
    "n_sample"
   ]
  },
  {
   "cell_type": "code",
   "execution_count": 85,
   "id": "41efebd7-eb35-4b43-a2a7-6a71cee83a69",
   "metadata": {},
   "outputs": [
    {
     "data": {
      "text/html": [
       "<div>\n",
       "<style scoped>\n",
       "    .dataframe tbody tr th:only-of-type {\n",
       "        vertical-align: middle;\n",
       "    }\n",
       "\n",
       "    .dataframe tbody tr th {\n",
       "        vertical-align: top;\n",
       "    }\n",
       "\n",
       "    .dataframe thead th {\n",
       "        text-align: right;\n",
       "    }\n",
       "</style>\n",
       "<table border=\"1\" class=\"dataframe\">\n",
       "  <thead>\n",
       "    <tr style=\"text-align: right;\">\n",
       "      <th></th>\n",
       "      <th>seq</th>\n",
       "      <th>R46_888</th>\n",
       "      <th>NKX2-5TBX5_R1_R46_067_888</th>\n",
       "      <th>NKX2-5TBX5_R2_R46_084_888</th>\n",
       "      <th>NKX2-5TBX5_R3_R46_019_888</th>\n",
       "      <th>0</th>\n",
       "      <th>1</th>\n",
       "      <th>2</th>\n",
       "      <th>3</th>\n",
       "      <th>sum</th>\n",
       "      <th>batch</th>\n",
       "      <th>is_count_data</th>\n",
       "    </tr>\n",
       "  </thead>\n",
       "  <tbody>\n",
       "    <tr>\n",
       "      <th>32681</th>\n",
       "      <td>TAGTGCGGTGTTTAATATCA</td>\n",
       "      <td>0</td>\n",
       "      <td>0</td>\n",
       "      <td>4</td>\n",
       "      <td>0</td>\n",
       "      <td>0</td>\n",
       "      <td>0</td>\n",
       "      <td>4</td>\n",
       "      <td>0</td>\n",
       "      <td>4</td>\n",
       "      <td>1</td>\n",
       "      <td>1</td>\n",
       "    </tr>\n",
       "    <tr>\n",
       "      <th>27128</th>\n",
       "      <td>GGGTAGGGGGGGCTCGAGCG</td>\n",
       "      <td>0</td>\n",
       "      <td>3</td>\n",
       "      <td>0</td>\n",
       "      <td>0</td>\n",
       "      <td>0</td>\n",
       "      <td>3</td>\n",
       "      <td>0</td>\n",
       "      <td>0</td>\n",
       "      <td>3</td>\n",
       "      <td>1</td>\n",
       "      <td>1</td>\n",
       "    </tr>\n",
       "    <tr>\n",
       "      <th>20290</th>\n",
       "      <td>CGTGTTCTAGTCGGAGGGAA</td>\n",
       "      <td>0</td>\n",
       "      <td>3</td>\n",
       "      <td>0</td>\n",
       "      <td>0</td>\n",
       "      <td>0</td>\n",
       "      <td>3</td>\n",
       "      <td>0</td>\n",
       "      <td>0</td>\n",
       "      <td>3</td>\n",
       "      <td>1</td>\n",
       "      <td>1</td>\n",
       "    </tr>\n",
       "    <tr>\n",
       "      <th>26990</th>\n",
       "      <td>GGGGGGTGGGGCGGCGGGGG</td>\n",
       "      <td>0</td>\n",
       "      <td>3</td>\n",
       "      <td>0</td>\n",
       "      <td>0</td>\n",
       "      <td>0</td>\n",
       "      <td>3</td>\n",
       "      <td>0</td>\n",
       "      <td>0</td>\n",
       "      <td>3</td>\n",
       "      <td>1</td>\n",
       "      <td>1</td>\n",
       "    </tr>\n",
       "    <tr>\n",
       "      <th>37462</th>\n",
       "      <td>TTAAATACGCGTCACCTGAG</td>\n",
       "      <td>0</td>\n",
       "      <td>0</td>\n",
       "      <td>3</td>\n",
       "      <td>0</td>\n",
       "      <td>0</td>\n",
       "      <td>0</td>\n",
       "      <td>3</td>\n",
       "      <td>0</td>\n",
       "      <td>3</td>\n",
       "      <td>1</td>\n",
       "      <td>1</td>\n",
       "    </tr>\n",
       "    <tr>\n",
       "      <th>...</th>\n",
       "      <td>...</td>\n",
       "      <td>...</td>\n",
       "      <td>...</td>\n",
       "      <td>...</td>\n",
       "      <td>...</td>\n",
       "      <td>...</td>\n",
       "      <td>...</td>\n",
       "      <td>...</td>\n",
       "      <td>...</td>\n",
       "      <td>...</td>\n",
       "      <td>...</td>\n",
       "      <td>...</td>\n",
       "    </tr>\n",
       "    <tr>\n",
       "      <th>6596</th>\n",
       "      <td>NCCTCGTCTGAGTATCTGAA</td>\n",
       "      <td>1</td>\n",
       "      <td>0</td>\n",
       "      <td>0</td>\n",
       "      <td>0</td>\n",
       "      <td>1</td>\n",
       "      <td>0</td>\n",
       "      <td>0</td>\n",
       "      <td>0</td>\n",
       "      <td>0</td>\n",
       "      <td>1</td>\n",
       "      <td>1</td>\n",
       "    </tr>\n",
       "    <tr>\n",
       "      <th>6595</th>\n",
       "      <td>NAAGTGTACTACTTTACTAT</td>\n",
       "      <td>1</td>\n",
       "      <td>0</td>\n",
       "      <td>0</td>\n",
       "      <td>0</td>\n",
       "      <td>1</td>\n",
       "      <td>0</td>\n",
       "      <td>0</td>\n",
       "      <td>0</td>\n",
       "      <td>0</td>\n",
       "      <td>1</td>\n",
       "      <td>1</td>\n",
       "    </tr>\n",
       "    <tr>\n",
       "      <th>6594</th>\n",
       "      <td>NGTAACTGGAATGAAGTTAC</td>\n",
       "      <td>1</td>\n",
       "      <td>0</td>\n",
       "      <td>0</td>\n",
       "      <td>0</td>\n",
       "      <td>1</td>\n",
       "      <td>0</td>\n",
       "      <td>0</td>\n",
       "      <td>0</td>\n",
       "      <td>0</td>\n",
       "      <td>1</td>\n",
       "      <td>1</td>\n",
       "    </tr>\n",
       "    <tr>\n",
       "      <th>6593</th>\n",
       "      <td>NGGTTGGAGGGGAGTGAGGG</td>\n",
       "      <td>1</td>\n",
       "      <td>0</td>\n",
       "      <td>0</td>\n",
       "      <td>0</td>\n",
       "      <td>1</td>\n",
       "      <td>0</td>\n",
       "      <td>0</td>\n",
       "      <td>0</td>\n",
       "      <td>0</td>\n",
       "      <td>1</td>\n",
       "      <td>1</td>\n",
       "    </tr>\n",
       "    <tr>\n",
       "      <th>0</th>\n",
       "      <td>GCGCCTGGGGGCGGGGGGGG</td>\n",
       "      <td>3</td>\n",
       "      <td>0</td>\n",
       "      <td>0</td>\n",
       "      <td>0</td>\n",
       "      <td>3</td>\n",
       "      <td>0</td>\n",
       "      <td>0</td>\n",
       "      <td>0</td>\n",
       "      <td>0</td>\n",
       "      <td>1</td>\n",
       "      <td>1</td>\n",
       "    </tr>\n",
       "  </tbody>\n",
       "</table>\n",
       "<p>39670 rows × 12 columns</p>\n",
       "</div>"
      ],
      "text/plain": [
       "                        seq  R46_888  NKX2-5TBX5_R1_R46_067_888  \\\n",
       "32681  TAGTGCGGTGTTTAATATCA        0                          0   \n",
       "27128  GGGTAGGGGGGGCTCGAGCG        0                          3   \n",
       "20290  CGTGTTCTAGTCGGAGGGAA        0                          3   \n",
       "26990  GGGGGGTGGGGCGGCGGGGG        0                          3   \n",
       "37462  TTAAATACGCGTCACCTGAG        0                          0   \n",
       "...                     ...      ...                        ...   \n",
       "6596   NCCTCGTCTGAGTATCTGAA        1                          0   \n",
       "6595   NAAGTGTACTACTTTACTAT        1                          0   \n",
       "6594   NGTAACTGGAATGAAGTTAC        1                          0   \n",
       "6593   NGGTTGGAGGGGAGTGAGGG        1                          0   \n",
       "0      GCGCCTGGGGGCGGGGGGGG        3                          0   \n",
       "\n",
       "       NKX2-5TBX5_R2_R46_084_888  NKX2-5TBX5_R3_R46_019_888  0  1  2  3  sum  \\\n",
       "32681                          4                          0  0  0  4  0    4   \n",
       "27128                          0                          0  0  3  0  0    3   \n",
       "20290                          0                          0  0  3  0  0    3   \n",
       "26990                          0                          0  0  3  0  0    3   \n",
       "37462                          3                          0  0  0  3  0    3   \n",
       "...                          ...                        ... .. .. .. ..  ...   \n",
       "6596                           0                          0  1  0  0  0    0   \n",
       "6595                           0                          0  1  0  0  0    0   \n",
       "6594                           0                          0  1  0  0  0    0   \n",
       "6593                           0                          0  1  0  0  0    0   \n",
       "0                              0                          0  3  0  0  0    0   \n",
       "\n",
       "       batch  is_count_data  \n",
       "32681      1              1  \n",
       "27128      1              1  \n",
       "20290      1              1  \n",
       "26990      1              1  \n",
       "37462      1              1  \n",
       "...      ...            ...  \n",
       "6596       1              1  \n",
       "6595       1              1  \n",
       "6594       1              1  \n",
       "6593       1              1  \n",
       "0          1              1  \n",
       "\n",
       "[39670 rows x 12 columns]"
      ]
     },
     "execution_count": 85,
     "metadata": {},
     "output_type": "execute_result"
    }
   ],
   "source": [
    "next_data.head(n_sample)"
   ]
  },
  {
   "cell_type": "code",
   "execution_count": null,
   "id": "2dab5f50",
   "metadata": {
    "tags": []
   },
   "outputs": [
    {
     "name": "stdout",
     "output_type": "stream",
     "text": [
      "NKX2-5TBX5\n",
      "NKX2-5TBX5 888\n",
      "3 2\n",
      "1 out of (2, 5) R46_888.txt.gz ../annotations/selex/cardiac_complexes/R46_888.txt.gz\n",
      "../annotations/selex/cardiac_complexes/R46_888.txt.gz n_sample=10000 is.fastq=False\n",
      "2 out of (2, 5) R46_888.txt.gz ../annotations/selex/cardiac_complexes/R46_888.txt.gz\n",
      "../annotations/selex/cardiac_complexes/R46_888.txt.gz n_sample=10000 is.fastq=False\n",
      "3\n",
      "Loading dataset # features = 39670\n",
      "(10000, 12)\n",
      "Loading time: (s) 0.079261\n",
      "# rounds 3\n",
      "# batches 1\n",
      "# enr_series True\n",
      "next w 16 <class 'int'>\n",
      "\n",
      "Kernel to optimize 0\n",
      "\n",
      "Freezing kernels\n",
      "setting grad status of kernel at 0 to 1\n",
      "setting grad status of kernel at 1 to 0\n",
      "setting grad status of kernel at 2 to 0\n",
      "setting grad status of kernel at 3 to 0\n",
      "\n",
      "\n",
      "before kernel optimization.\n"
     ]
    },
    {
     "data": {
      "image/png": "[encoded data removed]",
      "text/plain": [
       "<Figure size 360x72 with 2 Axes>"
      ]
     },
     "metadata": {
      "needs_background": "light"
     },
     "output_type": "display_data"
    },
    {
     "name": "stdout",
     "output_type": "stream",
     "text": [
      "\n",
      "#activities\n",
      "[[[1. 1. 1. 1.]\n",
      "  [1. 1. 1. 1.]\n",
      "  [1. 1. 1. 1.]\n",
      "  [1. 1. 1. 1.]]]\n",
      "\n",
      "#log_etas\n",
      "Parameter containing:\n",
      "tensor([[0., 0., 0., 0.]], device='cuda:0', requires_grad=True)\n"
     ]
    },
    {
     "data": {
      "image/png": "[encoded data removed]",
      "text/plain": [
       "<Figure size 360x72 with 3 Axes>"
      ]
     },
     "metadata": {
      "needs_background": "light"
     },
     "output_type": "display_data"
    },
    {
     "data": {
      "image/png": "[encoded data removed]",
      "text/plain": [
       "<Figure size 360x72 with 3 Axes>"
      ]
     },
     "metadata": {
      "needs_background": "light"
     },
     "output_type": "display_data"
    },
    {
     "name": "stdout",
     "output_type": "stream",
     "text": [
      "kernels mask None\n",
      "optimizing using <class 'torch.optim.adam.Adam'> and <class 'multibind.tl.loss.PoissonLoss'> n_epochs 1000 early_stopping 150\n",
      "lr= 0.01, weight_decay= 0.001, dir weight= 0\n",
      "Epoch: 101, Loss: 0.600038 , best epoch: 95 secs per epoch: 0.417 s\n",
      "Epoch: 201, Loss: 0.600082 , best epoch: 155 secs per epoch: 0.392 s\n",
      "Epoch: 301, Loss: 0.600133 , best epoch: 255 secs per epoch: 0.372 s\n",
      "Epoch: 401, Loss: 0.600157 , best epoch: 367 secs per epoch: 0.355 s\n",
      "Epoch: 501, Loss: 0.600032 , best epoch: 470 secs per epoch: 0.354 s\n",
      "Epoch: 601, Loss: 0.600050 , best epoch: 470 secs per epoch: 0.368 s\n",
      "Epoch: 621, Loss: 0.6001 , best epoch: 470 secs per epoch: 0.369 s\n",
      "early stop!\n",
      "total time: 228.701 s\n",
      "secs per epoch: 0.369 s\n",
      "\n",
      "##After kernel opt / before shift optim.\n"
     ]
    },
    {
     "data": {
      "image/png": "[encoded data removed]",
      "text/plain": [
       "<Figure size 360x72 with 2 Axes>"
      ]
     },
     "metadata": {
      "needs_background": "light"
     },
     "output_type": "display_data"
    },
    {
     "name": "stdout",
     "output_type": "stream",
     "text": [
      "\n",
      "#activities\n",
      "[[[1.0002587  0.98386246 0.9814529  0.9899707 ]\n",
      "  [1.         1.         1.         1.        ]\n",
      "  [1.         1.         1.         1.        ]\n",
      "  [1.         1.         1.         1.        ]]]\n",
      "\n",
      "#log_etas\n",
      "Parameter containing:\n",
      "tensor([[ 7.9156,  2.6310, -2.6269, -7.9196]], device='cuda:0',\n",
      "       requires_grad=True)\n"
     ]
    },
    {
     "data": {
      "image/png": "[encoded data removed]",
      "text/plain": [
       "<Figure size 360x72 with 3 Axes>"
      ]
     },
     "metadata": {
      "needs_background": "light"
     },
     "output_type": "display_data"
    },
    {
     "data": {
      "image/png": "[encoded data removed]",
      "text/plain": [
       "<Figure size 360x72 with 3 Axes>"
      ]
     },
     "metadata": {
      "needs_background": "light"
     },
     "output_type": "display_data"
    },
    {
     "data": {
      "image/png": "[encoded data removed]",
      "text/plain": [
       "<Figure size 360x72 with 1 Axes>"
      ]
     },
     "metadata": {
      "needs_background": "light"
     },
     "output_type": "display_data"
    },
    {
     "name": "stdout",
     "output_type": "stream",
     "text": [
      "after shift optimz model\n"
     ]
    },
    {
     "data": {
      "image/png": "[encoded data removed]",
      "text/plain": [
       "<Figure size 360x72 with 2 Axes>"
      ]
     },
     "metadata": {
      "needs_background": "light"
     },
     "output_type": "display_data"
    },
    {
     "name": "stdout",
     "output_type": "stream",
     "text": [
      "\n",
      "#activities\n",
      "[[[1.0002587  0.98386246 0.9814529  0.9899707 ]\n",
      "  [1.         1.         1.         1.        ]\n",
      "  [1.         1.         1.         1.        ]\n",
      "  [1.         1.         1.         1.        ]]]\n",
      "\n",
      "#log_etas\n",
      "Parameter containing:\n",
      "tensor([[ 7.9156,  2.6310, -2.6269, -7.9196]], device='cuda:0',\n",
      "       requires_grad=True)\n"
     ]
    },
    {
     "data": {
      "image/png": "[encoded data removed]",
      "text/plain": [
       "<Figure size 360x72 with 3 Axes>"
      ]
     },
     "metadata": {
      "needs_background": "light"
     },
     "output_type": "display_data"
    },
    {
     "data": {
      "image/png": "[encoded data removed]",
      "text/plain": [
       "<Figure size 360x72 with 3 Axes>"
      ]
     },
     "metadata": {
      "needs_background": "light"
     },
     "output_type": "display_data"
    },
    {
     "data": {
      "image/png": "[encoded data removed]",
      "text/plain": [
       "<Figure size 360x72 with 1 Axes>"
      ]
     },
     "metadata": {
      "needs_background": "light"
     },
     "output_type": "display_data"
    },
    {
     "name": "stdout",
     "output_type": "stream",
     "text": [
      "\n",
      "\n",
      "Kernel to optimize 1\n",
      "\n",
      "Freezing kernels\n",
      "setting grad status of kernel at 0 to 0\n",
      "setting grad status of kernel at 1 to 1\n",
      "setting grad status of kernel at 2 to 0\n",
      "setting grad status of kernel at 3 to 0\n",
      "\n",
      "\n",
      "before kernel optimization.\n"
     ]
    },
    {
     "data": {
      "image/png": "[encoded data removed]",
      "text/plain": [
       "<Figure size 360x72 with 2 Axes>"
      ]
     },
     "metadata": {
      "needs_background": "light"
     },
     "output_type": "display_data"
    },
    {
     "name": "stdout",
     "output_type": "stream",
     "text": [
      "\n",
      "#activities\n",
      "[[[1.0002587  0.98386246 0.9814529  0.9899707 ]\n",
      "  [1.         1.         1.         1.        ]\n",
      "  [1.         1.         1.         1.        ]\n",
      "  [1.         1.         1.         1.        ]]]\n",
      "\n",
      "#log_etas\n",
      "Parameter containing:\n",
      "tensor([[ 7.9156,  2.6310, -2.6269, -7.9196]], device='cuda:0',\n",
      "       requires_grad=True)\n"
     ]
    },
    {
     "data": {
      "image/png": "[encoded data removed]",
      "text/plain": [
       "<Figure size 360x72 with 3 Axes>"
      ]
     },
     "metadata": {
      "needs_background": "light"
     },
     "output_type": "display_data"
    },
    {
     "data": {
      "image/png": "[encoded data removed]",
      "text/plain": [
       "<Figure size 360x72 with 3 Axes>"
      ]
     },
     "metadata": {
      "needs_background": "light"
     },
     "output_type": "display_data"
    },
    {
     "name": "stdout",
     "output_type": "stream",
     "text": [
      "kernels mask None\n",
      "optimizing using <class 'torch.optim.adam.Adam'> and <class 'multibind.tl.loss.PoissonLoss'> n_epochs 1000 early_stopping 150\n",
      "lr= 0.01, weight_decay= 0.001, dir weight= 0\n",
      "Epoch: 101, Loss: 0.599993 , best epoch: 1 secs per epoch: 0.417 s\n",
      "Epoch: 152, Loss: 0.6000 , best epoch: 1 secs per epoch: 0.420 s\n",
      "early stop!\n",
      "total time: 63.435 s\n",
      "secs per epoch: 0.420 s\n",
      "\n",
      "##After kernel opt / before shift optim.\n"
     ]
    },
    {
     "data": {
      "image/png": "[encoded data removed]",
      "text/plain": [
       "<Figure size 360x72 with 2 Axes>"
      ]
     },
     "metadata": {
      "needs_background": "light"
     },
     "output_type": "display_data"
    },
    {
     "name": "stdout",
     "output_type": "stream",
     "text": [
      "\n",
      "#activities\n",
      "[[[1.0002587  0.98386246 0.9814529  0.9899707 ]\n",
      "  [0.9993112  0.9467625  0.92626375 0.9650408 ]\n",
      "  [1.         1.         1.         1.        ]\n",
      "  [1.         1.         1.         1.        ]]]\n",
      "\n",
      "#log_etas\n",
      "Parameter containing:\n",
      "tensor([[ 7.6351,  2.5355, -2.5514, -7.6701]], device='cuda:0',\n",
      "       requires_grad=True)\n"
     ]
    },
    {
     "data": {
      "image/png": "[encoded data removed]",
      "text/plain": [
       "<Figure size 360x72 with 3 Axes>"
      ]
     },
     "metadata": {
      "needs_background": "light"
     },
     "output_type": "display_data"
    },
    {
     "data": {
      "image/png": "[encoded data removed]",
      "text/plain": [
       "<Figure size 360x72 with 3 Axes>"
      ]
     },
     "metadata": {
      "needs_background": "light"
     },
     "output_type": "display_data"
    },
    {
     "data": {
      "image/png": "[encoded data removed]",
      "text/plain": [
       "<Figure size 360x72 with 1 Axes>"
      ]
     },
     "metadata": {
      "needs_background": "light"
     },
     "output_type": "display_data"
    },
    {
     "name": "stdout",
     "output_type": "stream",
     "text": [
      "\n",
      "optimize_motif_shift (first)...\n",
      "next expand left: 1, next expand right: 1, shift: 0\n",
      "optimizing using <class 'torch.optim.adam.Adam'> and <class 'multibind.tl.loss.PoissonLoss'> n_epochs 1000 early_stopping 150\n",
      "lr= 0.01, weight_decay= 0.001, dir weight= 0\n",
      "Epoch: 101, Loss: 0.599833 , best epoch: 0 secs per epoch: 0.365 s\n",
      "Epoch: 151, Loss: 0.6000 , best epoch: 0 secs per epoch: 0.358 s\n",
      "early stop!\n",
      "total time: 53.655 s\n",
      "secs per epoch: 0.358 s\n",
      "after opt.\n",
      "\n",
      "#activities\n",
      "[[[1.0002587  0.98386246 0.9814529  0.9899707 ]\n",
      "  [1.0005742  0.8288261  0.7780614  0.8124362 ]\n",
      "  [1.         1.         1.         1.        ]\n",
      "  [1.         1.         1.         1.        ]]]\n",
      "\n",
      "#log_etas\n",
      "Parameter containing:\n",
      "tensor([[ 7.3340,  2.4602, -2.4431, -7.3509]], device='cuda:0',\n",
      "       requires_grad=True)\n"
     ]
    },
    {
     "data": {
      "image/png": "[encoded data removed]",
      "text/plain": [
       "<Figure size 360x72 with 3 Axes>"
      ]
     },
     "metadata": {
      "needs_background": "light"
     },
     "output_type": "display_data"
    },
    {
     "name": "stdout",
     "output_type": "stream",
     "text": [
      "next expand left: 1, next expand right: 2, shift: 0\n",
      "optimizing using <class 'torch.optim.adam.Adam'> and <class 'multibind.tl.loss.PoissonLoss'> n_epochs 1000 early_stopping 150\n",
      "lr= 0.01, weight_decay= 0.001, dir weight= 0\n",
      "Epoch: 101, Loss: 0.599880 , best epoch: 0 secs per epoch: 0.388 s\n",
      "Epoch: 151, Loss: 0.5998 , best epoch: 0 secs per epoch: 0.383 s\n",
      "early stop!\n",
      "total time: 57.383 s\n",
      "secs per epoch: 0.383 s\n",
      "after opt.\n",
      "\n",
      "#activities\n",
      "[[[1.0002587  0.98386246 0.9814529  0.9899707 ]\n",
      "  [0.9994321  0.8544145  0.7941409  0.8338195 ]\n",
      "  [1.         1.         1.         1.        ]\n",
      "  [1.         1.         1.         1.        ]]]\n",
      "\n",
      "#log_etas\n",
      "Parameter containing:\n",
      "tensor([[ 7.3293,  2.4528, -2.4447, -7.3379]], device='cuda:0',\n",
      "       requires_grad=True)\n"
     ]
    },
    {
     "data": {
      "image/png": "[encoded data removed]",
      "text/plain": [
       "<Figure size 360x72 with 3 Axes>"
      ]
     },
     "metadata": {
      "needs_background": "light"
     },
     "output_type": "display_data"
    },
    {
     "name": "stdout",
     "output_type": "stream",
     "text": [
      "next expand left: 2, next expand right: 1, shift: 0\n",
      "optimizing using <class 'torch.optim.adam.Adam'> and <class 'multibind.tl.loss.PoissonLoss'> n_epochs 1000 early_stopping 150\n",
      "lr= 0.01, weight_decay= 0.001, dir weight= 0\n"
     ]
    }
   ],
   "source": [
    "from matplotlib import rcParams\n",
    "rcParams['figure.figsize'] = 5, 1\n",
    "\n",
    "num_epochs = 500\n",
    "early_stopping = 15\n",
    "log_each = 25\n",
    "res = []\n",
    "model_by_k = {}\n",
    "\n",
    "n_sample = 10000\n",
    "\n",
    "for tf in set(data['tf.name']):\n",
    "    if 'ZERO' in tf:\n",
    "        continue\n",
    "    if tf != 'NKX2-5TBX5':\n",
    "        continue\n",
    "    print(tf)\n",
    "    \n",
    "    for library, grp in data.groupby('library'):\n",
    "        if library != '888':\n",
    "            continue\n",
    "        print(tf, library)\n",
    "        \n",
    "        reads_tf_next, reads_zero_next = mb.bindome.datasets.SELEX.load_tf_and_zero_reads(tf, data, library=library,\n",
    "                                                                                          is_fastq=False, n_sample=n_sample,\n",
    "                                                                                          k_skip=reads_tf.keys())\n",
    "        \n",
    "        # update main object to skip reading again in future iterations\n",
    "        update_dict(reads_tf, reads_tf_next)\n",
    "        update_dict(reads_zero, reads_zero_next)\n",
    "        \n",
    "        for k_r0 in reads_zero_next:\n",
    "\n",
    "            k_model = tf + ':' + k_r0\n",
    "            # print(k_r0, k_tf, k_model)\n",
    "\n",
    "            n_rounds = len(reads_tf_next.keys())\n",
    "            print(n_rounds)\n",
    "            \n",
    "            # combine all the positive round data\n",
    "            df2 = []\n",
    "            for k in reads_tf_next.keys():\n",
    "                df = reads_tf_next[k]\n",
    "                df['k'] = k\n",
    "                df2.append(df)\n",
    "            df = pd.concat(df2)\n",
    "            df = df.pivot('seq', 'k', 'counts').fillna(0).reset_index()\n",
    "            seqlen = list(df['seq'].str.len())[0]\n",
    "            \n",
    "            next_data = reads_zero_next[k_r0].merge(df, on='seq', how='outer').fillna(0) # .astype(int)\n",
    "            \n",
    "            new_cols = ['seq', k_r0] + list(df.columns[1:])\n",
    "            next_data.columns = new_cols\n",
    "            for i, k in enumerate(next_data.columns[1:]):\n",
    "                next_data[k] = next_data[k].astype(int)\n",
    "                next_data[i] = next_data[k].astype(int)\n",
    "                \n",
    "            next_data['sum'] = next_data[[i for i in range(1, n_rounds + 1)]].sum(axis=1).values\n",
    "            next_data = next_data.sort_values('sum', ascending=False)\n",
    "            \n",
    "            next_data['batch'] = 1\n",
    "            next_data['is_count_data'] = 1\n",
    "            \n",
    "\n",
    "            print('Loading dataset # features =', next_data.shape[0])\n",
    "            start = timeit.default_timer()\n",
    "            # next_data = next_data.head(n_sample).reset_index(drop=True)\n",
    "            \n",
    "            if n_sample is not None:\n",
    "                next_data = next_data.sample(n_sample).reset_index(drop=True)\n",
    "            \n",
    "            print(next_data.shape)\n",
    "            # assert False\n",
    "            \n",
    "            labels = [i for i in range(n_rounds + 1)]\n",
    "            dataset = mb.datasets.SelexDataset(next_data, n_rounds=n_rounds,\n",
    "                                               single_encoding_step=True, labels=labels)\n",
    "            stop = timeit.default_timer()\n",
    "            print('Loading time: (s)', '%.6f' % (stop - start))\n",
    "\n",
    "            train = tdata.DataLoader(dataset=dataset, batch_size=512, shuffle=True)\n",
    "            model_by_k_next, res_next = mb.tl.train_iterative(train, device, w=16, max_w=20, log_each=100, num_epochs=1000, early_stopping=150)                \n",
    "            update_dict(model_by_k, {k_model: model_by_k_next})\n",
    "            res += res_next\n",
    "            print('done')"
   ]
  },
  {
   "cell_type": "code",
   "execution_count": null,
   "id": "77c611cc-ba0f-407b-afe9-fcc69997eab0",
   "metadata": {},
   "outputs": [],
   "source": [
    "mb.pl.kmer_enrichment(model_by_k_next, train)"
   ]
  }
 ],
 "metadata": {
  "kernelspec": {
   "display_name": "multibind",
   "language": "python",
   "name": "multibind"
  },
  "language_info": {
   "codemirror_mode": {
    "name": "ipython",
    "version": 3
   },
   "file_extension": ".py",
   "mimetype": "text/x-python",
   "name": "python",
   "nbconvert_exporter": "python",
   "pygments_lexer": "ipython3",
   "version": "3.10.4"
  }
 },
 "nbformat": 4,
 "nbformat_minor": 5
}
