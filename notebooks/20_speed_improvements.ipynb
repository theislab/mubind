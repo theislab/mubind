{
 "cells": [
  {
   "cell_type": "code",
   "execution_count": 1,
   "id": "24236511-5246-4101-9cd0-a0bab0f4f5f7",
   "metadata": {},
   "outputs": [],
   "source": [
    "%load_ext autoreload\n",
    "%autoreload 2"
   ]
  },
  {
   "cell_type": "code",
   "execution_count": 2,
   "id": "7b2d7110-4c5e-4a0f-b09d-0b94c7b773ee",
   "metadata": {},
   "outputs": [
    {
     "name": "stderr",
     "output_type": "stream",
     "text": [
      "/home/johanna/anaconda3/envs/multibind/lib/python3.10/site-packages/tqdm/auto.py:22: TqdmWarning: IProgress not found. Please update jupyter and ipywidgets. See https://ipywidgets.readthedocs.io/en/stable/user_install.html\n",
      "  from .autonotebook import tqdm as notebook_tqdm\n"
     ]
    },
    {
     "name": "stdout",
     "output_type": "stream",
     "text": [
      "Using device: cpu\n"
     ]
    }
   ],
   "source": [
    "import multibind as mb\n",
    "import numpy as np\n",
    "import pandas as pd\n",
    "import torch\n",
    "import bindome as bd\n",
    "bd.constants.ANNOTATIONS_DIRECTORY = 'annotations'\n",
    "# mb.models.MultiBind\n",
    "import torch.optim as topti\n",
    "import torch.utils.data as tdata\n",
    "import matplotlib.pyplot as plt\n",
    "import logomaker\n",
    "import seaborn as sns\n",
    "from sklearn.metrics import r2_score\n",
    "\n",
    "# Use a GPU if available, as it should be faster.\n",
    "device = torch.device(\"cuda:0\" if torch.cuda.is_available() else \"cpu\")\n",
    "print(\"Using device: \" + str(device))"
   ]
  },
  {
   "cell_type": "code",
   "execution_count": 6,
   "id": "5e4faa12-7609-4fa7-9bdd-8db1d8e4f8e3",
   "metadata": {},
   "outputs": [],
   "source": [
    "from matplotlib import rcParams\n",
    "rcParams['figure.figsize'] = 5, 1"
   ]
  },
  {
   "cell_type": "code",
   "execution_count": 6,
   "id": "18127354-8317-4901-9239-1a94be38afa7",
   "metadata": {},
   "outputs": [],
   "source": [
    "df = mb.bindome.datasets.ProBound.ctcf(flank_length=0)\n",
    "data = df.sample(n=2000)"
   ]
  },
  {
   "cell_type": "code",
   "execution_count": 7,
   "id": "cd88188d-10a7-452c-84da-6e341da1778f",
   "metadata": {},
   "outputs": [],
   "source": [
    "n_rounds = 1\n",
    "dataset = mb.datasets.SelexDataset(data, n_rounds=n_rounds)\n",
    "train = tdata.DataLoader(dataset=dataset, batch_size=256, shuffle=True)"
   ]
  },
  {
   "cell_type": "markdown",
   "id": "570802d6-cc27-47f0-aac6-fcdbf11a7438",
   "metadata": {
    "tags": []
   },
   "source": [
    "## Optimizing last steps of forward"
   ]
  },
  {
   "cell_type": "code",
   "execution_count": 7,
   "id": "b65d1694-a9d6-4f13-bf55-6c5280eea9dc",
   "metadata": {},
   "outputs": [],
   "source": [
    "model = mb.models.DinucSelex(use_dinuc=False, kernels=[0, 14, 12], n_rounds=1, n_batches=1).to(device)\n",
    "optimiser = topti.Adam(model.parameters(), lr=0.001, weight_decay=0.0001)\n",
    "# optimiser = topti.LBFGS(model.parameters())\n",
    "criterion = mb.tl.PoissonLoss()"
   ]
  },
  {
   "cell_type": "code",
   "execution_count": 9,
   "id": "55c5412a-46c0-41a2-b5c3-0d9abec2ed26",
   "metadata": {},
   "outputs": [],
   "source": [
    "%load_ext line_profiler"
   ]
  },
  {
   "cell_type": "code",
   "execution_count": 16,
   "id": "505c3f6f-84f6-4105-b167-ad6359859c69",
   "metadata": {},
   "outputs": [],
   "source": [
    "i, batch = enumerate(train).__next__()\n",
    "mononuc = batch[\"mononuc\"].to(device)\n",
    "b = batch[\"batch\"].to(device) if \"batch\" in batch else None\n",
    "countsum = batch[\"countsum\"].to(device) if \"countsum\" in batch else None\n",
    "inputs = (mononuc, b, countsum)\n",
    "\n",
    "optimiser.zero_grad()"
   ]
  },
  {
   "cell_type": "code",
   "execution_count": 24,
   "id": "88e5cb90-0103-4cc5-9b52-2b1a00b1b11b",
   "metadata": {
    "collapsed": true,
    "jupyter": {
     "outputs_hidden": true
    },
    "tags": []
   },
   "outputs": [
    {
     "data": {
      "text/plain": [
       "Timer unit: 1e-06 s\n",
       "\n",
       "Total time: 0.006034 s\n",
       "File: /home/johanna/ICB/multibind/multibind/models/models.py\n",
       "Function: forward at line 105\n",
       "\n",
       "Line #      Hits         Time  Per Hit   % Time  Line Contents\n",
       "==============================================================\n",
       "   105                                               def forward(self, x, min_value=1e-15):\n",
       "   106                                                   # Create the forward pass through the network.\n",
       "   107         1          1.0      1.0      0.0          mono, batch, countsum = x\n",
       "   108                                           \n",
       "   109                                                   # convert mono to dinuc\n",
       "   110                                                   # print(mono.shape)\n",
       "   111                                           \n",
       "   112                                                   # print(mono.shape, di.shape)\n",
       "   113                                                   # assert False\n",
       "   114                                           \n",
       "   115                                                   # print(mono.shape)\n",
       "   116                                           \n",
       "   117                                                   # padding of sequences\n",
       "   118         1        153.0    153.0      2.5          mono = self.padding(mono)\n",
       "   119                                                   # print(mono.shape)\n",
       "   120                                                   # assert False\n",
       "   121                                           \n",
       "   122                                                   # prepare the other three objects that we need\n",
       "   123         1         98.0     98.0      1.6          mono_rev = _mono2revmono(mono)\n",
       "   124                                           \n",
       "   125         1        371.0    371.0      6.1          di = _mono2dinuc(mono)\n",
       "   126         1        300.0    300.0      5.0          di_rev = _mono2dinuc(mono_rev)\n",
       "   127                                           \n",
       "   128                                                   # unsqueeze mono after preparing di and unsqueezing mono\n",
       "   129         1          6.0      6.0      0.1          mono_rev = torch.unsqueeze(mono_rev, 1)\n",
       "   130         1          2.0      2.0      0.0          mono = torch.unsqueeze(mono, 1)\n",
       "   131         1          2.0      2.0      0.0          di = torch.unsqueeze(di, 1)\n",
       "   132         1          2.0      2.0      0.0          di_rev = torch.unsqueeze(di_rev, 1)\n",
       "   133                                           \n",
       "   134                                                   # x = torch.zeros([mono.shape[0], len(self.kernels)], requires_grad=True)\n",
       "   135         1          1.0      1.0      0.0          x_ = []\n",
       "   136                                                   # print(mono.device)\n",
       "   137                                                   # print(self.ignore_kernel)\n",
       "   138                                                   # assert False\n",
       "   139         4          2.0      0.5      0.0          for i in range(len(self.kernels)):\n",
       "   140                                                       # print(i)\n",
       "   141                                                       # if self.ignore_kernel is not None and self.ignore_kernel[i]:\n",
       "   142                                                       #     temp = torch.Tensor([0.0] * mono.shape[0]).to(device=mono.device)\n",
       "   143                                                       #     x_.append(temp)\n",
       "   144         3          3.0      1.0      0.0              if self.kernels[i] == 0:\n",
       "   145         1         16.0     16.0      0.3                  temp = torch.Tensor([1.0] * mono.shape[0]).to(device=mono.device)\n",
       "   146         1          1.0      1.0      0.0                  x_.append(temp)\n",
       "   147                                                       else:\n",
       "   148                                                           # check devices match\n",
       "   149         2         27.0     13.5      0.4                  if self.conv_mono[i].weight.device != mono.device:\n",
       "   150                                                               self.conv_mono[i].weight.to(mono.device)\n",
       "   151                                           \n",
       "   152         2          1.0      0.5      0.0                  if self.use_dinuc:\n",
       "   153                                                               temp = torch.cat(\n",
       "   154                                                                   (\n",
       "   155                                                                       self.conv_mono[i](mono),\n",
       "   156                                                                       self.conv_mono[i](mono_rev),\n",
       "   157                                                                       self.conv_di[i](di),\n",
       "   158                                                                       self.conv_di[i](di_rev),\n",
       "   159                                                                   ),\n",
       "   160                                                                   dim=3,\n",
       "   161                                                               )\n",
       "   162                                                           else:\n",
       "   163         2       4669.0   2334.5     77.4                      temp = torch.cat((self.conv_mono[i](mono), self.conv_mono[i](mono_rev)), dim=3)\n",
       "   164         2         63.0     31.5      1.0                  temp = torch.exp(temp)\n",
       "   165         2         14.0      7.0      0.2                  temp = temp.view(temp.shape[0], -1)\n",
       "   166         2         34.0     17.0      0.6                  temp = torch.sum(temp, axis=1)\n",
       "   167         2          2.0      1.0      0.0                  x_.append(temp)\n",
       "   168                                                           # print(temp.shape, x_.shape)\n",
       "   169                                           \n",
       "   170                                           \n",
       "   171         1         16.0     16.0      0.3          x = torch.stack(x_).T\n",
       "   172                                           \n",
       "   173         1          8.0      8.0      0.1          scores = torch.zeros([x.shape[0], self.n_rounds + 1]).to(device=mono.device)  #  + min_value# conversion for gpu\n",
       "   174                                                   # print(scores)\n",
       "   175         2          3.0      1.5      0.0          for i in range(self.n_batches):\n",
       "   176                                                       # a = torch.exp(self.log_activities[i, :, :])\n",
       "   177         1         33.0     33.0      0.5              a = torch.exp(torch.stack(list(self.log_activities), dim=1)[i, :, :])\n",
       "   178         1          2.0      2.0      0.0              if self.ignore_kernel is not None:\n",
       "   179                                                           mask = self.ignore_kernel != 1  # == False\n",
       "   180                                                           # print(mask_kernel)\n",
       "   181                                                           # print(x.shape, a.shape, x[batch == i][:,mask_kernel], a[mask_kernel,:].shape)\n",
       "   182                                                           scores[batch == i] = torch.matmul(x[batch == i][:, mask], a[mask, :])\n",
       "   183                                                       else:\n",
       "   184         1         91.0     91.0      1.5                  scores[batch == i] = torch.matmul(x[batch == i], a)\n",
       "   185                                           \n",
       "   186                                                   # print()\n",
       "   187                                                   # print(x)\n",
       "   188                                                   # print(a)\n",
       "   189                                           \n",
       "   190                                                   # print('\\n\\nfinal scores')\n",
       "   191                                                   # print(scores)\n",
       "   192                                                   # assert False\n",
       "   193                                                   # a = torch.reshape(a, [a.shape[0], a.shape[2]])\n",
       "   194                                                   # x = torch.matmul(x, a)\n",
       "   195                                                   # sequential enrichment or independent samples\n",
       "   196         1          1.0      1.0      0.0          if self.enr_series:\n",
       "   197                                                       # print('using enrichment series')\n",
       "   198         1          5.0      5.0      0.1              predictions_ = [scores[:, 0]]\n",
       "   199         2          2.0      1.0      0.0              for i in range(1, self.n_rounds + 1):\n",
       "   200         1         10.0     10.0      0.2                  predictions_.append(predictions_[-1] * scores[:, i])\n",
       "   201         1         13.0     13.0      0.2              out = torch.stack(predictions_).T\n",
       "   202                                           \n",
       "   203                                                       # print('here...')\n",
       "   204                                                       # print(out[:10])\n",
       "   205                                                   else:\n",
       "   206                                                       out = scores\n",
       "   207                                           \n",
       "   208         2          2.0      1.0      0.0          for i in range(self.n_batches):\n",
       "   209         1         12.0     12.0      0.2              eta = torch.exp(self.log_etas[i, :])\n",
       "   210         1         38.0     38.0      0.6              out[batch == i] = out[batch == i] * eta\n",
       "   211                                           \n",
       "   212         1         17.0     17.0      0.3          results = out.T / torch.sum(out, dim=1)\n",
       "   213         1         12.0     12.0      0.2          results = (results * countsum).T\n",
       "   214         1          1.0      1.0      0.0          return results"
      ]
     },
     "metadata": {},
     "output_type": "display_data"
    }
   ],
   "source": [
    "%lprun -f model.forward model(inputs)"
   ]
  },
  {
   "cell_type": "markdown",
   "id": "172ba42a-71ef-48d1-ba56-4904c8710a4f",
   "metadata": {
    "tags": []
   },
   "source": [
    "## Testing flip vs advanced indexing for _mono2revmono"
   ]
  },
  {
   "cell_type": "code",
   "execution_count": 64,
   "id": "3cf7db9e-db06-4f38-943d-5dad13f32970",
   "metadata": {},
   "outputs": [],
   "source": [
    "i, batch = enumerate(train).__next__()\n",
    "mononuc = batch[\"mononuc\"].to(device)\n",
    "b = batch[\"batch\"].to(device) if \"batch\" in batch else None\n",
    "countsum = batch[\"countsum\"].to(device) if \"countsum\" in batch else None\n",
    "inputs = (mononuc, b, countsum)"
   ]
  },
  {
   "cell_type": "code",
   "execution_count": 65,
   "id": "7eb41009-6604-4392-9a1f-ebc36e725e62",
   "metadata": {},
   "outputs": [],
   "source": [
    "def _mono2revmono_flip(x):\n",
    "    return torch.flip(x, [2])[:, [3, 2, 1, 0], :]"
   ]
  },
  {
   "cell_type": "code",
   "execution_count": 66,
   "id": "69186862-5414-4371-8a7c-fe7d55ba9e45",
   "metadata": {},
   "outputs": [
    {
     "name": "stdout",
     "output_type": "stream",
     "text": [
      "62.5 µs ± 8.34 µs per loop (mean ± std. dev. of 7 runs, 10,000 loops each)\n"
     ]
    }
   ],
   "source": [
    "%timeit _mono2revmono_flip(mononuc)"
   ]
  },
  {
   "cell_type": "code",
   "execution_count": 67,
   "id": "18adfaf6-cc0b-4e45-9858-6b8418359f35",
   "metadata": {},
   "outputs": [],
   "source": [
    "def _mono2revmono_flip2(x):\n",
    "    return torch.flip(x, [1, 2])"
   ]
  },
  {
   "cell_type": "code",
   "execution_count": 68,
   "id": "9a2457cf-d424-47ed-aa0c-747f56829e7e",
   "metadata": {},
   "outputs": [
    {
     "name": "stdout",
     "output_type": "stream",
     "text": [
      "18.6 µs ± 135 ns per loop (mean ± std. dev. of 7 runs, 100,000 loops each)\n"
     ]
    }
   ],
   "source": [
    "%timeit _mono2revmono_flip2(mononuc)"
   ]
  },
  {
   "cell_type": "code",
   "execution_count": 69,
   "id": "0f30af7a-48cf-4425-ae96-c2dadc53384d",
   "metadata": {},
   "outputs": [],
   "source": [
    "def _mono2revmono_index(x):\n",
    "    n = mononuc.shape[2]\n",
    "    reverse_index = torch.arange(n - 1, -1, -1)\n",
    "    # reverse_index\n",
    "    compl_bases = torch.tensor([3, 2, 1, 0])\n",
    "    compl_bases = compl_bases.repeat(30, 1).T\n",
    "    reverse_index = reverse_index.repeat(4, 1)\n",
    "    return mononuc[:, compl_bases, reverse_index]"
   ]
  },
  {
   "cell_type": "code",
   "execution_count": 70,
   "id": "d6cf5616-308e-42d6-a504-06af360d6b1f",
   "metadata": {},
   "outputs": [
    {
     "name": "stdout",
     "output_type": "stream",
     "text": [
      "47 µs ± 2.73 µs per loop (mean ± std. dev. of 7 runs, 10,000 loops each)\n"
     ]
    }
   ],
   "source": [
    "%timeit _mono2revmono_index(mononuc)"
   ]
  },
  {
   "cell_type": "code",
   "execution_count": 71,
   "id": "f93870c2-d9ff-43a8-b322-5bad4d633ccd",
   "metadata": {},
   "outputs": [],
   "source": [
    "def _mono2revmono_index2(x):\n",
    "    n = mononuc.shape[2]\n",
    "    reverse_index = torch.arange(n - 1, -1, -1, device=device)\n",
    "    # reverse_index\n",
    "    compl_bases = torch.tensor([3, 2, 1, 0])\n",
    "    compl_bases = compl_bases.expand(30, 4).T\n",
    "    reverse_index = reverse_index.expand(4, 30)\n",
    "    return mononuc[:, compl_bases, reverse_index]"
   ]
  },
  {
   "cell_type": "code",
   "execution_count": 72,
   "id": "bd3fd704-3463-43e8-92a4-f13eb1c7719f",
   "metadata": {},
   "outputs": [
    {
     "name": "stdout",
     "output_type": "stream",
     "text": [
      "38.4 µs ± 2.86 µs per loop (mean ± std. dev. of 7 runs, 10,000 loops each)\n"
     ]
    }
   ],
   "source": [
    "%timeit _mono2revmono_index2(mononuc)"
   ]
  },
  {
   "cell_type": "code",
   "execution_count": 73,
   "id": "b8330435-fc7e-4835-a1ee-c79e7af78482",
   "metadata": {},
   "outputs": [
    {
     "data": {
      "text/plain": [
       "Timer unit: 1e-06 s\n",
       "\n",
       "Total time: 0.000598 s\n",
       "File: /tmp/ipykernel_11638/2604124128.py\n",
       "Function: _mono2revmono_index2 at line 1\n",
       "\n",
       "Line #      Hits         Time  Per Hit   % Time  Line Contents\n",
       "==============================================================\n",
       "     1                                           def _mono2revmono_index2(x):\n",
       "     2         1         10.0     10.0      1.7      n = mononuc.shape[2]\n",
       "     3         1        354.0    354.0     59.2      reverse_index = torch.arange(n - 1, -1, -1, device=device)\n",
       "     4                                               # reverse_index\n",
       "     5         1         25.0     25.0      4.2      compl_bases = torch.tensor([3, 2, 1, 0])\n",
       "     6         1         63.0     63.0     10.5      compl_bases = compl_bases.expand(30, 4).T\n",
       "     7         1          5.0      5.0      0.8      reverse_index = reverse_index.expand(4, 30)\n",
       "     8         1        141.0    141.0     23.6      return mononuc[:, compl_bases, reverse_index]"
      ]
     },
     "metadata": {},
     "output_type": "display_data"
    }
   ],
   "source": [
    "%lprun -f _mono2revmono_index2 _mono2revmono_index2(mononuc)"
   ]
  },
  {
   "cell_type": "code",
   "execution_count": null,
   "id": "358f4dfb-7f08-41b4-9623-a362984a6fb3",
   "metadata": {},
   "outputs": [],
   "source": []
  },
  {
   "cell_type": "code",
   "execution_count": 74,
   "id": "254d80c7-a56d-4168-988e-76ffe15329cd",
   "metadata": {},
   "outputs": [],
   "source": [
    "import time\n",
    "import torch\n",
    "\n",
    "n = 1024\n",
    "batch_size = 256\n",
    "ntrials = 1000\n",
    "x = torch.randn(batch_size, n)"
   ]
  },
  {
   "cell_type": "code",
   "execution_count": 75,
   "id": "e50709c6-e6e8-42f0-80cb-2858103708f8",
   "metadata": {},
   "outputs": [
    {
     "name": "stdout",
     "output_type": "stream",
     "text": [
      "Flip time (CPU): 0.0904085500005749s\n",
      "Advanced indexing time (CPU): 0.12989644399931422s\n"
     ]
    }
   ],
   "source": [
    "start = time.perf_counter()\n",
    "[x.flip(-1) for _ in range(ntrials)]\n",
    "end = time.perf_counter()\n",
    "print('Flip time (CPU): {}s'.format(end - start))\n",
    "\n",
    "reverse_index = torch.arange(n - 1, -1, -1)\n",
    "start = time.perf_counter()\n",
    "[x[..., reverse_index] for _ in range(ntrials)]\n",
    "end = time.perf_counter()\n",
    "print('Advanced indexing time (CPU): {}s'.format(end - start))"
   ]
  },
  {
   "cell_type": "code",
   "execution_count": 59,
   "id": "75411ed9-0445-45d6-b9dc-af4b2988e9ac",
   "metadata": {},
   "outputs": [],
   "source": [
    "x = x.to('cuda')\n",
    "reverse_index = reverse_index.to('cuda')\n",
    "\n",
    "torch.cuda.synchronize()\n",
    "start = time.perf_counter()\n",
    "[x.flip(-1) for _ in range(ntrials)]\n",
    "torch.cuda.synchronize()\n",
    "end = time.perf_counter()\n",
    "print('Flip time (CUDA): {}s'.format(end - start))\n",
    "\n",
    "start = time.perf_counter()\n",
    "[x[..., reverse_index] for _ in range(ntrials)]\n",
    "torch.cuda.synchronize()\n",
    "end = time.perf_counter()\n",
    "print('Advanced indexing time (CUDA): {}s'.format(end - start))"
   ]
  }
 ],
 "metadata": {
  "kernelspec": {
   "display_name": "Python (multibind)",
   "language": "python",
   "name": "multibind"
  },
  "language_info": {
   "codemirror_mode": {
    "name": "ipython",
    "version": 3
   },
   "file_extension": ".py",
   "mimetype": "text/x-python",
   "name": "python",
   "nbconvert_exporter": "python",
   "pygments_lexer": "ipython3",
   "version": "3.10.4"
  }
 },
 "nbformat": 4,
 "nbformat_minor": 5
}
