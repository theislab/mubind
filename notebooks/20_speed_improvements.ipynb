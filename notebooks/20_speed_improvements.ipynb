{
 "cells": [
  {
   "cell_type": "code",
   "execution_count": 1,
   "id": "24236511-5246-4101-9cd0-a0bab0f4f5f7",
   "metadata": {},
   "outputs": [],
   "source": [
    "%load_ext autoreload\n",
    "%autoreload 2"
   ]
  },
  {
   "cell_type": "code",
   "execution_count": 2,
   "id": "7b2d7110-4c5e-4a0f-b09d-0b94c7b773ee",
   "metadata": {},
   "outputs": [
    {
     "name": "stderr",
     "output_type": "stream",
     "text": [
      "/home/johanna/anaconda3/envs/multibind/lib/python3.10/site-packages/tqdm/auto.py:22: TqdmWarning: IProgress not found. Please update jupyter and ipywidgets. See https://ipywidgets.readthedocs.io/en/stable/user_install.html\n",
      "  from .autonotebook import tqdm as notebook_tqdm\n"
     ]
    },
    {
     "name": "stdout",
     "output_type": "stream",
     "text": [
      "Using device: cpu\n"
     ]
    }
   ],
   "source": [
    "import multibind as mb\n",
    "import numpy as np\n",
    "import pandas as pd\n",
    "import torch\n",
    "import bindome as bd\n",
    "bd.constants.ANNOTATIONS_DIRECTORY = 'annotations'\n",
    "# mb.models.MultiBind\n",
    "import torch.optim as topti\n",
    "import torch.utils.data as tdata\n",
    "import matplotlib.pyplot as plt\n",
    "import logomaker\n",
    "import seaborn as sns\n",
    "from sklearn.metrics import r2_score\n",
    "\n",
    "# Use a GPU if available, as it should be faster.\n",
    "device = torch.device(\"cuda:0\" if torch.cuda.is_available() else \"cpu\")\n",
    "print(\"Using device: \" + str(device))"
   ]
  },
  {
   "cell_type": "code",
   "execution_count": 3,
   "id": "55c5412a-46c0-41a2-b5c3-0d9abec2ed26",
   "metadata": {},
   "outputs": [],
   "source": [
    "%load_ext line_profiler"
   ]
  },
  {
   "cell_type": "code",
   "execution_count": 3,
   "id": "5e4faa12-7609-4fa7-9bdd-8db1d8e4f8e3",
   "metadata": {},
   "outputs": [],
   "source": [
    "from matplotlib import rcParams\n",
    "rcParams['figure.figsize'] = 5, 1"
   ]
  },
  {
   "cell_type": "code",
   "execution_count": 4,
   "id": "18127354-8317-4901-9239-1a94be38afa7",
   "metadata": {},
   "outputs": [],
   "source": [
    "df = mb.bindome.datasets.ProBound.ctcf(flank_length=0)\n",
    "data = df\n",
    "# data = df.sample(n=2000)\n",
    "# data['seq'] = data['seq'].str[-30:]"
   ]
  },
  {
   "cell_type": "code",
   "execution_count": 5,
   "id": "0dd31977-1df5-40de-bdab-3c0123086936",
   "metadata": {},
   "outputs": [
    {
     "data": {
      "text/html": [
       "<div>\n",
       "<style scoped>\n",
       "    .dataframe tbody tr th:only-of-type {\n",
       "        vertical-align: middle;\n",
       "    }\n",
       "\n",
       "    .dataframe tbody tr th {\n",
       "        vertical-align: top;\n",
       "    }\n",
       "\n",
       "    .dataframe thead th {\n",
       "        text-align: right;\n",
       "    }\n",
       "</style>\n",
       "<table border=\"1\" class=\"dataframe\">\n",
       "  <thead>\n",
       "    <tr style=\"text-align: right;\">\n",
       "      <th></th>\n",
       "      <th>seq</th>\n",
       "      <th>0</th>\n",
       "      <th>1</th>\n",
       "    </tr>\n",
       "  </thead>\n",
       "  <tbody>\n",
       "    <tr>\n",
       "      <th>0</th>\n",
       "      <td>AAAAAAAGCCCGGAAATAGGCAACTTGTAG</td>\n",
       "      <td>0</td>\n",
       "      <td>1</td>\n",
       "    </tr>\n",
       "    <tr>\n",
       "      <th>1</th>\n",
       "      <td>AAAAAAAGGATGTTCCTAGCAACTTATAAA</td>\n",
       "      <td>1</td>\n",
       "      <td>0</td>\n",
       "    </tr>\n",
       "    <tr>\n",
       "      <th>2</th>\n",
       "      <td>AAAAAACAACGATAACCAACTGCTGCCGGA</td>\n",
       "      <td>0</td>\n",
       "      <td>1</td>\n",
       "    </tr>\n",
       "    <tr>\n",
       "      <th>3</th>\n",
       "      <td>AAAAAACACATGTATGAGTTTTTGATGGAG</td>\n",
       "      <td>1</td>\n",
       "      <td>0</td>\n",
       "    </tr>\n",
       "    <tr>\n",
       "      <th>4</th>\n",
       "      <td>AAAAAACCCTCCTTGGTGTCGGACGGCTAT</td>\n",
       "      <td>0</td>\n",
       "      <td>1</td>\n",
       "    </tr>\n",
       "    <tr>\n",
       "      <th>...</th>\n",
       "      <td>...</td>\n",
       "      <td>...</td>\n",
       "      <td>...</td>\n",
       "    </tr>\n",
       "    <tr>\n",
       "      <th>120091</th>\n",
       "      <td>TTTTTTTTCTTCATTGTTACAGTAGGTAGC</td>\n",
       "      <td>1</td>\n",
       "      <td>0</td>\n",
       "    </tr>\n",
       "    <tr>\n",
       "      <th>120092</th>\n",
       "      <td>TTTTTTTTGACTGCTTGGCTGGCTCCTGTG</td>\n",
       "      <td>1</td>\n",
       "      <td>0</td>\n",
       "    </tr>\n",
       "    <tr>\n",
       "      <th>120093</th>\n",
       "      <td>TTTTTTTTGGTCGGATTCGCTGTTGTTCAC</td>\n",
       "      <td>0</td>\n",
       "      <td>1</td>\n",
       "    </tr>\n",
       "    <tr>\n",
       "      <th>120094</th>\n",
       "      <td>TTTTTTTTTGAACCGGCCGCTCCTATGATC</td>\n",
       "      <td>1</td>\n",
       "      <td>0</td>\n",
       "    </tr>\n",
       "    <tr>\n",
       "      <th>120095</th>\n",
       "      <td>TTTTTTTTTTTTTTTTCTTTTCTTCATCGG</td>\n",
       "      <td>0</td>\n",
       "      <td>1</td>\n",
       "    </tr>\n",
       "  </tbody>\n",
       "</table>\n",
       "<p>120096 rows × 3 columns</p>\n",
       "</div>"
      ],
      "text/plain": [
       "                                   seq  0  1\n",
       "0       AAAAAAAGCCCGGAAATAGGCAACTTGTAG  0  1\n",
       "1       AAAAAAAGGATGTTCCTAGCAACTTATAAA  1  0\n",
       "2       AAAAAACAACGATAACCAACTGCTGCCGGA  0  1\n",
       "3       AAAAAACACATGTATGAGTTTTTGATGGAG  1  0\n",
       "4       AAAAAACCCTCCTTGGTGTCGGACGGCTAT  0  1\n",
       "...                                ... .. ..\n",
       "120091  TTTTTTTTCTTCATTGTTACAGTAGGTAGC  1  0\n",
       "120092  TTTTTTTTGACTGCTTGGCTGGCTCCTGTG  1  0\n",
       "120093  TTTTTTTTGGTCGGATTCGCTGTTGTTCAC  0  1\n",
       "120094  TTTTTTTTTGAACCGGCCGCTCCTATGATC  1  0\n",
       "120095  TTTTTTTTTTTTTTTTCTTTTCTTCATCGG  0  1\n",
       "\n",
       "[120096 rows x 3 columns]"
      ]
     },
     "execution_count": 5,
     "metadata": {},
     "output_type": "execute_result"
    }
   ],
   "source": [
    "data"
   ]
  },
  {
   "cell_type": "code",
   "execution_count": 5,
   "id": "cd88188d-10a7-452c-84da-6e341da1778f",
   "metadata": {},
   "outputs": [],
   "source": [
    "n_rounds = 1\n",
    "dataset = mb.datasets.SelexDataset(data, n_rounds=n_rounds)\n",
    "train = tdata.DataLoader(dataset=dataset, batch_size=256, shuffle=True)"
   ]
  },
  {
   "cell_type": "markdown",
   "id": "570802d6-cc27-47f0-aac6-fcdbf11a7438",
   "metadata": {
    "tags": []
   },
   "source": [
    "## Optimizing last steps of forward"
   ]
  },
  {
   "cell_type": "code",
   "execution_count": 7,
   "id": "b65d1694-a9d6-4f13-bf55-6c5280eea9dc",
   "metadata": {},
   "outputs": [],
   "source": [
    "model = mb.models.DinucSelex(use_dinuc=False, kernels=[0, 14, 12], n_rounds=1, n_batches=1).to(device)\n",
    "optimiser = topti.Adam(model.parameters(), lr=0.001, weight_decay=0.0001)\n",
    "# optimiser = topti.LBFGS(model.parameters())\n",
    "criterion = mb.tl.PoissonLoss()"
   ]
  },
  {
   "cell_type": "code",
   "execution_count": 16,
   "id": "505c3f6f-84f6-4105-b167-ad6359859c69",
   "metadata": {},
   "outputs": [],
   "source": [
    "i, batch = enumerate(train).__next__()\n",
    "mononuc = batch[\"mononuc\"].to(device)\n",
    "b = batch[\"batch\"].to(device) if \"batch\" in batch else None\n",
    "countsum = batch[\"countsum\"].to(device) if \"countsum\" in batch else None\n",
    "inputs = (mononuc, b, countsum)\n",
    "\n",
    "optimiser.zero_grad()"
   ]
  },
  {
   "cell_type": "code",
   "execution_count": 24,
   "id": "88e5cb90-0103-4cc5-9b52-2b1a00b1b11b",
   "metadata": {
    "collapsed": true,
    "jupyter": {
     "outputs_hidden": true
    },
    "tags": []
   },
   "outputs": [
    {
     "data": {
      "text/plain": [
       "Timer unit: 1e-06 s\n",
       "\n",
       "Total time: 0.006034 s\n",
       "File: /home/johanna/ICB/multibind/multibind/models/models.py\n",
       "Function: forward at line 105\n",
       "\n",
       "Line #      Hits         Time  Per Hit   % Time  Line Contents\n",
       "==============================================================\n",
       "   105                                               def forward(self, x, min_value=1e-15):\n",
       "   106                                                   # Create the forward pass through the network.\n",
       "   107         1          1.0      1.0      0.0          mono, batch, countsum = x\n",
       "   108                                           \n",
       "   109                                                   # convert mono to dinuc\n",
       "   110                                                   # print(mono.shape)\n",
       "   111                                           \n",
       "   112                                                   # print(mono.shape, di.shape)\n",
       "   113                                                   # assert False\n",
       "   114                                           \n",
       "   115                                                   # print(mono.shape)\n",
       "   116                                           \n",
       "   117                                                   # padding of sequences\n",
       "   118         1        153.0    153.0      2.5          mono = self.padding(mono)\n",
       "   119                                                   # print(mono.shape)\n",
       "   120                                                   # assert False\n",
       "   121                                           \n",
       "   122                                                   # prepare the other three objects that we need\n",
       "   123         1         98.0     98.0      1.6          mono_rev = _mono2revmono(mono)\n",
       "   124                                           \n",
       "   125         1        371.0    371.0      6.1          di = _mono2dinuc(mono)\n",
       "   126         1        300.0    300.0      5.0          di_rev = _mono2dinuc(mono_rev)\n",
       "   127                                           \n",
       "   128                                                   # unsqueeze mono after preparing di and unsqueezing mono\n",
       "   129         1          6.0      6.0      0.1          mono_rev = torch.unsqueeze(mono_rev, 1)\n",
       "   130         1          2.0      2.0      0.0          mono = torch.unsqueeze(mono, 1)\n",
       "   131         1          2.0      2.0      0.0          di = torch.unsqueeze(di, 1)\n",
       "   132         1          2.0      2.0      0.0          di_rev = torch.unsqueeze(di_rev, 1)\n",
       "   133                                           \n",
       "   134                                                   # x = torch.zeros([mono.shape[0], len(self.kernels)], requires_grad=True)\n",
       "   135         1          1.0      1.0      0.0          x_ = []\n",
       "   136                                                   # print(mono.device)\n",
       "   137                                                   # print(self.ignore_kernel)\n",
       "   138                                                   # assert False\n",
       "   139         4          2.0      0.5      0.0          for i in range(len(self.kernels)):\n",
       "   140                                                       # print(i)\n",
       "   141                                                       # if self.ignore_kernel is not None and self.ignore_kernel[i]:\n",
       "   142                                                       #     temp = torch.Tensor([0.0] * mono.shape[0]).to(device=mono.device)\n",
       "   143                                                       #     x_.append(temp)\n",
       "   144         3          3.0      1.0      0.0              if self.kernels[i] == 0:\n",
       "   145         1         16.0     16.0      0.3                  temp = torch.Tensor([1.0] * mono.shape[0]).to(device=mono.device)\n",
       "   146         1          1.0      1.0      0.0                  x_.append(temp)\n",
       "   147                                                       else:\n",
       "   148                                                           # check devices match\n",
       "   149         2         27.0     13.5      0.4                  if self.conv_mono[i].weight.device != mono.device:\n",
       "   150                                                               self.conv_mono[i].weight.to(mono.device)\n",
       "   151                                           \n",
       "   152         2          1.0      0.5      0.0                  if self.use_dinuc:\n",
       "   153                                                               temp = torch.cat(\n",
       "   154                                                                   (\n",
       "   155                                                                       self.conv_mono[i](mono),\n",
       "   156                                                                       self.conv_mono[i](mono_rev),\n",
       "   157                                                                       self.conv_di[i](di),\n",
       "   158                                                                       self.conv_di[i](di_rev),\n",
       "   159                                                                   ),\n",
       "   160                                                                   dim=3,\n",
       "   161                                                               )\n",
       "   162                                                           else:\n",
       "   163         2       4669.0   2334.5     77.4                      temp = torch.cat((self.conv_mono[i](mono), self.conv_mono[i](mono_rev)), dim=3)\n",
       "   164         2         63.0     31.5      1.0                  temp = torch.exp(temp)\n",
       "   165         2         14.0      7.0      0.2                  temp = temp.view(temp.shape[0], -1)\n",
       "   166         2         34.0     17.0      0.6                  temp = torch.sum(temp, axis=1)\n",
       "   167         2          2.0      1.0      0.0                  x_.append(temp)\n",
       "   168                                                           # print(temp.shape, x_.shape)\n",
       "   169                                           \n",
       "   170                                           \n",
       "   171         1         16.0     16.0      0.3          x = torch.stack(x_).T\n",
       "   172                                           \n",
       "   173         1          8.0      8.0      0.1          scores = torch.zeros([x.shape[0], self.n_rounds + 1]).to(device=mono.device)  #  + min_value# conversion for gpu\n",
       "   174                                                   # print(scores)\n",
       "   175         2          3.0      1.5      0.0          for i in range(self.n_batches):\n",
       "   176                                                       # a = torch.exp(self.log_activities[i, :, :])\n",
       "   177         1         33.0     33.0      0.5              a = torch.exp(torch.stack(list(self.log_activities), dim=1)[i, :, :])\n",
       "   178         1          2.0      2.0      0.0              if self.ignore_kernel is not None:\n",
       "   179                                                           mask = self.ignore_kernel != 1  # == False\n",
       "   180                                                           # print(mask_kernel)\n",
       "   181                                                           # print(x.shape, a.shape, x[batch == i][:,mask_kernel], a[mask_kernel,:].shape)\n",
       "   182                                                           scores[batch == i] = torch.matmul(x[batch == i][:, mask], a[mask, :])\n",
       "   183                                                       else:\n",
       "   184         1         91.0     91.0      1.5                  scores[batch == i] = torch.matmul(x[batch == i], a)\n",
       "   185                                           \n",
       "   186                                                   # print()\n",
       "   187                                                   # print(x)\n",
       "   188                                                   # print(a)\n",
       "   189                                           \n",
       "   190                                                   # print('\\n\\nfinal scores')\n",
       "   191                                                   # print(scores)\n",
       "   192                                                   # assert False\n",
       "   193                                                   # a = torch.reshape(a, [a.shape[0], a.shape[2]])\n",
       "   194                                                   # x = torch.matmul(x, a)\n",
       "   195                                                   # sequential enrichment or independent samples\n",
       "   196         1          1.0      1.0      0.0          if self.enr_series:\n",
       "   197                                                       # print('using enrichment series')\n",
       "   198         1          5.0      5.0      0.1              predictions_ = [scores[:, 0]]\n",
       "   199         2          2.0      1.0      0.0              for i in range(1, self.n_rounds + 1):\n",
       "   200         1         10.0     10.0      0.2                  predictions_.append(predictions_[-1] * scores[:, i])\n",
       "   201         1         13.0     13.0      0.2              out = torch.stack(predictions_).T\n",
       "   202                                           \n",
       "   203                                                       # print('here...')\n",
       "   204                                                       # print(out[:10])\n",
       "   205                                                   else:\n",
       "   206                                                       out = scores\n",
       "   207                                           \n",
       "   208         2          2.0      1.0      0.0          for i in range(self.n_batches):\n",
       "   209         1         12.0     12.0      0.2              eta = torch.exp(self.log_etas[i, :])\n",
       "   210         1         38.0     38.0      0.6              out[batch == i] = out[batch == i] * eta\n",
       "   211                                           \n",
       "   212         1         17.0     17.0      0.3          results = out.T / torch.sum(out, dim=1)\n",
       "   213         1         12.0     12.0      0.2          results = (results * countsum).T\n",
       "   214         1          1.0      1.0      0.0          return results"
      ]
     },
     "metadata": {},
     "output_type": "display_data"
    }
   ],
   "source": [
    "%lprun -f model.forward model(inputs)"
   ]
  },
  {
   "cell_type": "markdown",
   "id": "172ba42a-71ef-48d1-ba56-4904c8710a4f",
   "metadata": {
    "tags": []
   },
   "source": [
    "## Testing flip vs advanced indexing for _mono2revmono"
   ]
  },
  {
   "cell_type": "code",
   "execution_count": 6,
   "id": "3cf7db9e-db06-4f38-943d-5dad13f32970",
   "metadata": {},
   "outputs": [],
   "source": [
    "i, batch = enumerate(train).__next__()\n",
    "mononuc = batch[\"mononuc\"].to(device)\n",
    "b = batch[\"batch\"].to(device) if \"batch\" in batch else None\n",
    "countsum = batch[\"countsum\"].to(device) if \"countsum\" in batch else None\n",
    "inputs = (mononuc, b, countsum)"
   ]
  },
  {
   "cell_type": "code",
   "execution_count": 7,
   "id": "4361e4c0-a437-4f3d-bfba-cf09fd698357",
   "metadata": {},
   "outputs": [
    {
     "data": {
      "text/plain": [
       "torch.Size([256, 4, 30])"
      ]
     },
     "execution_count": 7,
     "metadata": {},
     "output_type": "execute_result"
    }
   ],
   "source": [
    "mononuc.shape"
   ]
  },
  {
   "cell_type": "code",
   "execution_count": 8,
   "id": "1578392d-5c31-4a9e-8d6d-32e29194471b",
   "metadata": {},
   "outputs": [
    {
     "data": {
      "text/plain": [
       "device(type='cuda', index=0)"
      ]
     },
     "execution_count": 8,
     "metadata": {},
     "output_type": "execute_result"
    }
   ],
   "source": [
    "mononuc.device"
   ]
  },
  {
   "cell_type": "code",
   "execution_count": 16,
   "id": "7eb41009-6604-4392-9a1f-ebc36e725e62",
   "metadata": {},
   "outputs": [],
   "source": [
    "def _mono2revmono_flip(x):\n",
    "    return torch.flip(x, [2])[:, [3, 2, 1, 0], :]"
   ]
  },
  {
   "cell_type": "code",
   "execution_count": 66,
   "id": "69186862-5414-4371-8a7c-fe7d55ba9e45",
   "metadata": {},
   "outputs": [
    {
     "name": "stdout",
     "output_type": "stream",
     "text": [
      "62.5 µs ± 8.34 µs per loop (mean ± std. dev. of 7 runs, 10,000 loops each)\n"
     ]
    }
   ],
   "source": [
    "%timeit _mono2revmono_flip(mononuc) #CPU"
   ]
  },
  {
   "cell_type": "code",
   "execution_count": 42,
   "id": "67be7bec-63f4-4b5a-800f-fe0b125987ae",
   "metadata": {},
   "outputs": [
    {
     "name": "stdout",
     "output_type": "stream",
     "text": [
      "67.4 µs ± 109 ns per loop (mean ± std. dev. of 7 runs, 10,000 loops each)\n"
     ]
    }
   ],
   "source": [
    "%timeit _mono2revmono_flip(mononuc) #GPU"
   ]
  },
  {
   "cell_type": "code",
   "execution_count": 18,
   "id": "18adfaf6-cc0b-4e45-9858-6b8418359f35",
   "metadata": {},
   "outputs": [],
   "source": [
    "def _mono2revmono_flip2(x):\n",
    "    return torch.flip(x, [1, 2])"
   ]
  },
  {
   "cell_type": "code",
   "execution_count": 68,
   "id": "9a2457cf-d424-47ed-aa0c-747f56829e7e",
   "metadata": {},
   "outputs": [
    {
     "name": "stdout",
     "output_type": "stream",
     "text": [
      "18.6 µs ± 135 ns per loop (mean ± std. dev. of 7 runs, 100,000 loops each)\n"
     ]
    }
   ],
   "source": [
    "%timeit _mono2revmono_flip2(mononuc) #CPU"
   ]
  },
  {
   "cell_type": "code",
   "execution_count": 43,
   "id": "d1a5844f-2d42-4683-a7c7-237abe5b9374",
   "metadata": {},
   "outputs": [
    {
     "name": "stdout",
     "output_type": "stream",
     "text": [
      "73.4 µs ± 150 ns per loop (mean ± std. dev. of 7 runs, 10,000 loops each)\n"
     ]
    }
   ],
   "source": [
    "%timeit _mono2revmono_flip2(mononuc) #GPU"
   ]
  },
  {
   "cell_type": "code",
   "execution_count": 24,
   "id": "0f30af7a-48cf-4425-ae96-c2dadc53384d",
   "metadata": {},
   "outputs": [],
   "source": [
    "def _mono2revmono_index(x):\n",
    "    n = mononuc.shape[2]\n",
    "    reverse_index = torch.arange(n - 1, -1, -1, device=mononuc.device)\n",
    "    # reverse_index\n",
    "    compl_bases = torch.tensor([3, 2, 1, 0], device=mononuc.device)\n",
    "    compl_bases = compl_bases.repeat(30, 1).T\n",
    "    reverse_index = reverse_index.repeat(4, 1)\n",
    "    return mononuc[:, compl_bases, reverse_index]"
   ]
  },
  {
   "cell_type": "code",
   "execution_count": 70,
   "id": "d6cf5616-308e-42d6-a504-06af360d6b1f",
   "metadata": {},
   "outputs": [
    {
     "name": "stdout",
     "output_type": "stream",
     "text": [
      "47 µs ± 2.73 µs per loop (mean ± std. dev. of 7 runs, 10,000 loops each)\n"
     ]
    }
   ],
   "source": [
    "%timeit _mono2revmono_index(mononuc) #CPU"
   ]
  },
  {
   "cell_type": "code",
   "execution_count": 44,
   "id": "453e1d28-81a4-4a5b-9a5d-3a34721571e5",
   "metadata": {},
   "outputs": [
    {
     "name": "stdout",
     "output_type": "stream",
     "text": [
      "141 µs ± 202 ns per loop (mean ± std. dev. of 7 runs, 10,000 loops each)\n"
     ]
    }
   ],
   "source": [
    "%timeit _mono2revmono_index(mononuc) #GPU"
   ]
  },
  {
   "cell_type": "code",
   "execution_count": 28,
   "id": "f93870c2-d9ff-43a8-b322-5bad4d633ccd",
   "metadata": {},
   "outputs": [],
   "source": [
    "def _mono2revmono_index2(x):\n",
    "    n = mononuc.shape[2]\n",
    "    reverse_index = torch.arange(n - 1, -1, -1, device=mononuc.device)\n",
    "    # reverse_index\n",
    "    compl_bases = torch.tensor([3, 2, 1, 0], device=mononuc.device)\n",
    "    compl_bases = compl_bases.expand(30, 4).T\n",
    "    reverse_index = reverse_index.expand(4, 30)\n",
    "    return mononuc[:, compl_bases, reverse_index]"
   ]
  },
  {
   "cell_type": "code",
   "execution_count": 72,
   "id": "bd3fd704-3463-43e8-92a4-f13eb1c7719f",
   "metadata": {},
   "outputs": [
    {
     "name": "stdout",
     "output_type": "stream",
     "text": [
      "38.4 µs ± 2.86 µs per loop (mean ± std. dev. of 7 runs, 10,000 loops each)\n"
     ]
    }
   ],
   "source": [
    "%timeit _mono2revmono_index2(mononuc) #CPU"
   ]
  },
  {
   "cell_type": "code",
   "execution_count": 45,
   "id": "143ac331-f220-4660-ab32-c7254dc711dc",
   "metadata": {},
   "outputs": [
    {
     "name": "stdout",
     "output_type": "stream",
     "text": [
      "113 µs ± 88.5 ns per loop (mean ± std. dev. of 7 runs, 10,000 loops each)\n"
     ]
    }
   ],
   "source": [
    "%timeit _mono2revmono_index2(mononuc) #GPU"
   ]
  },
  {
   "cell_type": "code",
   "execution_count": 36,
   "id": "b8330435-fc7e-4835-a1ee-c79e7af78482",
   "metadata": {},
   "outputs": [
    {
     "data": {
      "text/plain": [
       "Timer unit: 1e-06 s\n",
       "\n",
       "Total time: 0.00049 s\n",
       "File: <ipython-input-28-ede875c70c4c>\n",
       "Function: _mono2revmono_index2 at line 1\n",
       "\n",
       "Line #      Hits         Time  Per Hit   % Time  Line Contents\n",
       "==============================================================\n",
       "     1                                           def _mono2revmono_index2(x):\n",
       "     2         1          9.0      9.0      1.8      n = mononuc.shape[2]\n",
       "     3         1        204.0    204.0     41.6      reverse_index = torch.arange(n - 1, -1, -1, device=mononuc.device)\n",
       "     4                                               # reverse_index\n",
       "     5         1        107.0    107.0     21.8      compl_bases = torch.tensor([3, 2, 1, 0], device=mononuc.device)\n",
       "     6         1         30.0     30.0      6.1      compl_bases = compl_bases.expand(30, 4).T\n",
       "     7         1          5.0      5.0      1.0      reverse_index = reverse_index.expand(4, 30)\n",
       "     8         1        135.0    135.0     27.6      return mononuc[:, compl_bases, reverse_index]"
      ]
     },
     "metadata": {},
     "output_type": "display_data"
    }
   ],
   "source": [
    "%lprun -f _mono2revmono_index2 _mono2revmono_index2(mononuc)"
   ]
  },
  {
   "cell_type": "code",
   "execution_count": 51,
   "id": "fe95ae29-7bd3-4274-9e53-e2c0b7f42727",
   "metadata": {},
   "outputs": [],
   "source": [
    "def _mono2revmono_index3(x):\n",
    "    n = mononuc.shape[2]\n",
    "    reverse_index = torch.tensor(np.arange(n-1, -1, -1), device=mononuc.device)\n",
    "    # reverse_index\n",
    "    compl_bases = torch.tensor([3, 2, 1, 0], device=mononuc.device)\n",
    "    compl_bases = compl_bases.expand(30, 4).T\n",
    "    reverse_index = reverse_index.expand(4, 30)\n",
    "    return mononuc[:, compl_bases, reverse_index]"
   ]
  },
  {
   "cell_type": "code",
   "execution_count": 52,
   "id": "81999ab9-286b-4431-ae5d-d0e712fe5fdc",
   "metadata": {},
   "outputs": [
    {
     "name": "stdout",
     "output_type": "stream",
     "text": [
      "129 µs ± 116 ns per loop (mean ± std. dev. of 7 runs, 10,000 loops each)\n"
     ]
    }
   ],
   "source": [
    "%timeit _mono2revmono_index3(mononuc) #GPU"
   ]
  },
  {
   "cell_type": "code",
   "execution_count": 9,
   "id": "b8078986-1944-4eaf-bd35-ada3bea9550f",
   "metadata": {},
   "outputs": [],
   "source": [
    "n = mononuc.shape[2]\n",
    "reverse_index = torch.tensor(np.arange(n-1, -1, -1), device=mononuc.device).expand(4, 30)\n",
    "compl_bases = torch.tensor([3, 2, 1, 0], device=mononuc.device).expand(30, 4).T\n",
    "\n",
    "def _mono2revmono_index4(x):\n",
    "    return mononuc[:, compl_bases, reverse_index]"
   ]
  },
  {
   "cell_type": "code",
   "execution_count": 10,
   "id": "2d3a0ceb-f352-4fe4-b228-7231a9074a65",
   "metadata": {},
   "outputs": [
    {
     "name": "stdout",
     "output_type": "stream",
     "text": [
      "25.8 µs ± 95.4 ns per loop (mean ± std. dev. of 7 runs, 10,000 loops each)\n"
     ]
    }
   ],
   "source": [
    "%timeit _mono2revmono_index4(mononuc) #GPU"
   ]
  },
  {
   "cell_type": "code",
   "execution_count": null,
   "id": "88f1cad4-716f-40c4-875a-c57c5c08f075",
   "metadata": {},
   "outputs": [],
   "source": []
  },
  {
   "cell_type": "code",
   "execution_count": 11,
   "id": "51e1893c-6f1d-471b-88ff-9bdaba1ab2c1",
   "metadata": {},
   "outputs": [],
   "source": [
    "from timeit import default_timer as timer\n",
    "def measure_time_gpu(func, x, n_repeats=10000, n_runs=7, n_warmups=10):\n",
    "    for _ in range(n_warmups):\n",
    "        _ = func(x)\n",
    "        \n",
    "    elapsed_time_ms = 0\n",
    "\n",
    "    for _ in range(n_runs):\n",
    "        start = timer()\n",
    "        for _ in range(n_repeats):\n",
    "            _ = func(x)\n",
    "        torch.cuda.synchronize()\n",
    "        end = timer()\n",
    "        elapsed_time_ms = (end - start) * 1000\n",
    "\n",
    "    return elapsed_time_ms / (n_repeats*n_runs)"
   ]
  },
  {
   "cell_type": "code",
   "execution_count": 63,
   "id": "afa31646-f10a-4a78-be21-212c86d4462f",
   "metadata": {},
   "outputs": [
    {
     "data": {
      "text/plain": [
       "0.009582211183650153"
      ]
     },
     "execution_count": 63,
     "metadata": {},
     "output_type": "execute_result"
    }
   ],
   "source": [
    "measure_time_gpu(_mono2revmono_flip, mononuc)"
   ]
  },
  {
   "cell_type": "code",
   "execution_count": 64,
   "id": "d70c7a76-72e7-40eb-8787-799224476ffa",
   "metadata": {},
   "outputs": [
    {
     "data": {
      "text/plain": [
       "0.010386869417769569"
      ]
     },
     "execution_count": 64,
     "metadata": {},
     "output_type": "execute_result"
    }
   ],
   "source": [
    "measure_time_gpu(_mono2revmono_flip2, mononuc)"
   ]
  },
  {
   "cell_type": "code",
   "execution_count": 65,
   "id": "ca8a5ce5-8282-4952-b9ca-e7ea09958e12",
   "metadata": {},
   "outputs": [
    {
     "data": {
      "text/plain": [
       "0.020045482793024608"
      ]
     },
     "execution_count": 65,
     "metadata": {},
     "output_type": "execute_result"
    }
   ],
   "source": [
    "measure_time_gpu(_mono2revmono_index, mononuc)"
   ]
  },
  {
   "cell_type": "code",
   "execution_count": 66,
   "id": "8c22baeb-f840-474a-8d98-e84ed34b4fc2",
   "metadata": {},
   "outputs": [
    {
     "data": {
      "text/plain": [
       "0.016025118849107196"
      ]
     },
     "execution_count": 66,
     "metadata": {},
     "output_type": "execute_result"
    }
   ],
   "source": [
    "measure_time_gpu(_mono2revmono_index2, mononuc)"
   ]
  },
  {
   "cell_type": "code",
   "execution_count": 12,
   "id": "5167bc5d-cabf-4dab-aedd-12a9489ec7a1",
   "metadata": {},
   "outputs": [
    {
     "data": {
      "text/plain": [
       "0.0037535334272044045"
      ]
     },
     "execution_count": 12,
     "metadata": {},
     "output_type": "execute_result"
    }
   ],
   "source": [
    "measure_time_gpu(_mono2revmono_index4, mononuc)"
   ]
  },
  {
   "cell_type": "code",
   "execution_count": null,
   "id": "53b3fe01-21dc-4655-a3e4-7eb66da59a19",
   "metadata": {},
   "outputs": [],
   "source": []
  },
  {
   "cell_type": "code",
   "execution_count": null,
   "id": "a4a13d38-be13-4350-ad53-a42f8039657f",
   "metadata": {},
   "outputs": [],
   "source": []
  },
  {
   "cell_type": "code",
   "execution_count": 21,
   "id": "254d80c7-a56d-4168-988e-76ffe15329cd",
   "metadata": {},
   "outputs": [],
   "source": [
    "import time\n",
    "import torch\n",
    "\n",
    "n = 1024\n",
    "batch_size = 256\n",
    "ntrials = 1000\n",
    "x = torch.randn(batch_size, n)"
   ]
  },
  {
   "cell_type": "code",
   "execution_count": 75,
   "id": "e50709c6-e6e8-42f0-80cb-2858103708f8",
   "metadata": {},
   "outputs": [
    {
     "name": "stdout",
     "output_type": "stream",
     "text": [
      "Flip time (CPU): 0.0904085500005749s\n",
      "Advanced indexing time (CPU): 0.12989644399931422s\n"
     ]
    }
   ],
   "source": [
    "start = time.perf_counter()\n",
    "[x.flip(-1) for _ in range(ntrials)]\n",
    "end = time.perf_counter()\n",
    "print('Flip time (CPU): {}s'.format(end - start))\n",
    "\n",
    "reverse_index = torch.arange(n - 1, -1, -1)\n",
    "start = time.perf_counter()\n",
    "[x[..., reverse_index] for _ in range(ntrials)]\n",
    "end = time.perf_counter()\n",
    "print('Advanced indexing time (CPU): {}s'.format(end - start))  #calculated on my local CPU"
   ]
  },
  {
   "cell_type": "code",
   "execution_count": 22,
   "id": "f0dbfbd4-38ac-4ee7-9e81-ebd2108238f0",
   "metadata": {},
   "outputs": [
    {
     "name": "stdout",
     "output_type": "stream",
     "text": [
      "Flip time (CPU): 2.085365444421768s\n",
      "Advanced indexing time (CPU): 0.8215824514627457s\n"
     ]
    }
   ],
   "source": [
    "start = time.perf_counter()\n",
    "[x.flip(-1) for _ in range(ntrials)]\n",
    "end = time.perf_counter()\n",
    "print('Flip time (CPU): {}s'.format(end - start))\n",
    "\n",
    "reverse_index = torch.arange(n - 1, -1, -1)\n",
    "start = time.perf_counter()\n",
    "[x[..., reverse_index] for _ in range(ntrials)]\n",
    "end = time.perf_counter()\n",
    "print('Advanced indexing time (CPU): {}s'.format(end - start))  #calculated on a GPU server"
   ]
  },
  {
   "cell_type": "code",
   "execution_count": 41,
   "id": "cf598722-9838-4ba8-8864-7ba309479c07",
   "metadata": {},
   "outputs": [
    {
     "name": "stdout",
     "output_type": "stream",
     "text": [
      "Flip time (CPU): 0.012969546020030975s\n",
      "Advanced indexing time (CPU): 0.05524316430091858s\n"
     ]
    }
   ],
   "source": [
    "start = time.perf_counter()\n",
    "[x.flip(-1) for _ in range(ntrials)]\n",
    "end = time.perf_counter()\n",
    "print('Flip time (CPU): {}s'.format(end - start))\n",
    "\n",
    "start = time.perf_counter()\n",
    "reverse_index = torch.arange(n - 1, -1, -1)\n",
    "[x[..., reverse_index] for _ in range(ntrials)]\n",
    "end = time.perf_counter()\n",
    "print('Advanced indexing time (CPU): {}s'.format(end - start))  #calculated on a GPU server"
   ]
  },
  {
   "cell_type": "code",
   "execution_count": 23,
   "id": "dd11bae3-4a25-4049-8a1d-07260c617a3a",
   "metadata": {},
   "outputs": [
    {
     "name": "stdout",
     "output_type": "stream",
     "text": [
      "Flip time (CUDA): 0.09787975251674652s\n",
      "Advanced indexing time (CUDA): 0.021840713918209076s\n"
     ]
    }
   ],
   "source": [
    "x = x.to('cuda')\n",
    "reverse_index = reverse_index.to('cuda')\n",
    "\n",
    "torch.cuda.synchronize()\n",
    "start = time.perf_counter()\n",
    "[x.flip(-1) for _ in range(ntrials)]\n",
    "torch.cuda.synchronize()\n",
    "end = time.perf_counter()\n",
    "print('Flip time (CUDA): {}s'.format(end - start))\n",
    "\n",
    "start = time.perf_counter()\n",
    "[x[..., reverse_index] for _ in range(ntrials)]\n",
    "torch.cuda.synchronize()\n",
    "end = time.perf_counter()\n",
    "print('Advanced indexing time (CUDA): {}s'.format(end - start))"
   ]
  },
  {
   "cell_type": "code",
   "execution_count": 40,
   "id": "75411ed9-0445-45d6-b9dc-af4b2988e9ac",
   "metadata": {},
   "outputs": [
    {
     "name": "stdout",
     "output_type": "stream",
     "text": [
      "Flip time (CUDA): 0.013288140296936035s\n",
      "Advanced indexing time (CUDA): 0.023818977177143097s\n"
     ]
    }
   ],
   "source": [
    "x = x.to('cuda')\n",
    "reverse_index = reverse_index.to('cuda')\n",
    "\n",
    "torch.cuda.synchronize()\n",
    "start = time.perf_counter()\n",
    "[x.flip(-1) for _ in range(ntrials)]\n",
    "torch.cuda.synchronize()\n",
    "end = time.perf_counter()\n",
    "print('Flip time (CUDA): {}s'.format(end - start))\n",
    "\n",
    "start = time.perf_counter()\n",
    "reverse_index = torch.arange(n - 1, -1, -1, device=x.device)  # creating reverse_index within measured time\n",
    "[x[..., reverse_index] for _ in range(ntrials)]\n",
    "torch.cuda.synchronize()\n",
    "end = time.perf_counter()\n",
    "print('Advanced indexing time (CUDA): {}s'.format(end - start))"
   ]
  },
  {
   "cell_type": "markdown",
   "id": "cee06715-8f11-43eb-b1dd-859b5627f174",
   "metadata": {
    "tags": []
   },
   "source": [
    "## Testing encoding methods for storing the reverse strand\n",
    "This works with numpy on CPU, since it is dataloading."
   ]
  },
  {
   "cell_type": "code",
   "execution_count": 6,
   "id": "45d97ba1-4324-4c72-8b09-03314c65f7e4",
   "metadata": {},
   "outputs": [],
   "source": [
    "n_rounds = 1"
   ]
  },
  {
   "cell_type": "code",
   "execution_count": 10,
   "id": "f9207103-962c-4e6c-a970-2dc001be3459",
   "metadata": {},
   "outputs": [
    {
     "name": "stdout",
     "output_type": "stream",
     "text": [
      "2.95 s ± 26.6 ms per loop (mean ± std. dev. of 7 runs, 1 loop each)\n"
     ]
    }
   ],
   "source": [
    "%timeit dataset = mb.datasets.SelexDataset(data, n_rounds=n_rounds, single_encoding_step=False)"
   ]
  },
  {
   "cell_type": "code",
   "execution_count": 13,
   "id": "a130f3bc-0062-4d2b-a444-2f964c4a30ce",
   "metadata": {},
   "outputs": [
    {
     "name": "stdout",
     "output_type": "stream",
     "text": [
      "1.2 s ± 11.3 ms per loop (mean ± std. dev. of 7 runs, 1 loop each)\n"
     ]
    }
   ],
   "source": [
    "%timeit dataset = mb.datasets.SelexDataset(data, n_rounds=n_rounds, single_encoding_step=True)"
   ]
  },
  {
   "cell_type": "code",
   "execution_count": 48,
   "id": "0176163c-2ca7-4cbc-9a72-8495dfd19bed",
   "metadata": {},
   "outputs": [
    {
     "data": {
      "text/plain": [
       "False"
      ]
     },
     "execution_count": 48,
     "metadata": {},
     "output_type": "execute_result"
    }
   ],
   "source": [
    "dataset1 = mb.datasets.SelexDataset(data, n_rounds=n_rounds, single_encoding_step=False)\n",
    "dataset2 = mb.datasets.SelexDataset(data, n_rounds=n_rounds, single_encoding_step=True)"
   ]
  },
  {
   "cell_type": "code",
   "execution_count": 53,
   "id": "bff804bc-c51e-4130-92a9-5d6d691910cf",
   "metadata": {},
   "outputs": [
    {
     "data": {
      "text/plain": [
       "True"
      ]
     },
     "execution_count": 53,
     "metadata": {},
     "output_type": "execute_result"
    }
   ],
   "source": [
    "np.all(dataset2.mononuc == dataset1.mononuc)"
   ]
  },
  {
   "cell_type": "code",
   "execution_count": 54,
   "id": "e0ca5787-13cb-4400-bee0-7b103ec807b3",
   "metadata": {},
   "outputs": [],
   "source": [
    "mononuc = dataset1.mononuc"
   ]
  },
  {
   "cell_type": "code",
   "execution_count": 55,
   "id": "e32a61e3-8d14-452b-9c90-600d08356bf7",
   "metadata": {},
   "outputs": [],
   "source": [
    "def revert_onehot_mononuc(mononuc):\n",
    "    return np.flip(mononuc, (1, 2))"
   ]
  },
  {
   "cell_type": "code",
   "execution_count": 56,
   "id": "caed44fe-18db-4b1f-9edc-340e0b46799c",
   "metadata": {},
   "outputs": [
    {
     "name": "stdout",
     "output_type": "stream",
     "text": [
      "1.78 µs ± 6.21 ns per loop (mean ± std. dev. of 7 runs, 1,000,000 loops each)\n"
     ]
    }
   ],
   "source": [
    "%timeit mononuc_rev = revert_onehot_mononuc(mononuc)"
   ]
  },
  {
   "cell_type": "code",
   "execution_count": 61,
   "id": "5ae444e4-822e-4fd3-82f9-4d2932ecf70c",
   "metadata": {},
   "outputs": [],
   "source": [
    "def revert_onehot_mononuc2(mononuc):\n",
    "    n = mononuc.shape[2]\n",
    "    reverse_index = np.arange(n - 1, -1, -1)\n",
    "    # reverse_index\n",
    "    compl_bases = np.array([3, 2, 1, 0])\n",
    "    compl_bases = np.tile(compl_bases, (30, 1)).T\n",
    "    reverse_index = np.tile(reverse_index, (4, 1))\n",
    "    return mononuc[:, compl_bases, reverse_index]"
   ]
  },
  {
   "cell_type": "code",
   "execution_count": 62,
   "id": "70e5a200-3181-4e8d-ad9a-3663ce2faf60",
   "metadata": {},
   "outputs": [
    {
     "name": "stdout",
     "output_type": "stream",
     "text": [
      "18.4 ms ± 229 µs per loop (mean ± std. dev. of 7 runs, 100 loops each)\n"
     ]
    }
   ],
   "source": [
    "%timeit mononuc_rev = revert_onehot_mononuc2(mononuc)"
   ]
  },
  {
   "cell_type": "code",
   "execution_count": 63,
   "id": "7c5c2cd1-a650-4272-a17f-4b171a36a2b7",
   "metadata": {},
   "outputs": [
    {
     "data": {
      "text/plain": [
       "True"
      ]
     },
     "execution_count": 63,
     "metadata": {},
     "output_type": "execute_result"
    }
   ],
   "source": [
    "mononuc_rev1 = revert_onehot_mononuc(mononuc)\n",
    "mononuc_rev2 = revert_onehot_mononuc2(mononuc)\n",
    "np.all(mononuc_rev1 == mononuc_rev2)"
   ]
  }
 ],
 "metadata": {
  "kernelspec": {
   "display_name": "Python (multibind)",
   "language": "python",
   "name": "multibind"
  },
  "language_info": {
   "codemirror_mode": {
    "name": "ipython",
    "version": 3
   },
   "file_extension": ".py",
   "mimetype": "text/x-python",
   "name": "python",
   "nbconvert_exporter": "python",
   "pygments_lexer": "ipython3",
   "version": "3.10.4"
  }
 },
 "nbformat": 4,
 "nbformat_minor": 5
}
