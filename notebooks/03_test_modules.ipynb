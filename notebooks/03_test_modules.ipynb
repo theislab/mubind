{
 "cells": [
  {
   "cell_type": "code",
   "execution_count": 1,
   "id": "3c6ae27f-2214-4842-89cf-5625283091d2",
   "metadata": {},
   "outputs": [],
   "source": [
    "%load_ext autoreload\n",
    "%autoreload 2"
   ]
  },
  {
   "cell_type": "code",
   "execution_count": 2,
   "id": "7350a843-8766-4fc1-a99d-9cda99974001",
   "metadata": {},
   "outputs": [],
   "source": [
    "import multibind as mb\n",
    "import numpy as np"
   ]
  },
  {
   "cell_type": "code",
   "execution_count": 3,
   "id": "9d46e97c-3b67-466c-96bf-290e286d1824",
   "metadata": {},
   "outputs": [],
   "source": [
    "x = np.array([3,4,5,6])\n",
    "y = np.array([2,7,8,10])"
   ]
  },
  {
   "cell_type": "code",
   "execution_count": 4,
   "id": "f9302e2c-1c0b-4a7a-8f49-a20de6c9b546",
   "metadata": {},
   "outputs": [
    {
     "data": {
      "image/png": "[encoded data removed]",
      "text/plain": [
       "<Figure size 432x288 with 1 Axes>"
      ]
     },
     "metadata": {
      "needs_background": "light"
     },
     "output_type": "display_data"
    }
   ],
   "source": [
    "mb.pl.scatter(x, y)"
   ]
  },
  {
   "cell_type": "markdown",
   "id": "38a1ed87-f6f4-4e31-8934-95f2444b0bb4",
   "metadata": {},
   "source": [
    "### Simulating data\n",
    "- We can plug random motifs into a set of sequences,"
   ]
  },
  {
   "cell_type": "code",
   "execution_count": 5,
   "id": "8ed8e471-16ec-49d9-88c0-2dae25c26fc7",
   "metadata": {},
   "outputs": [
    {
     "name": "stdout",
     "output_type": "stream",
     "text": [
      "TAAAACGTGCGATT____TG\n",
      "AGCTCGAAAGAGCTTT____\n",
      "CCTCGCTAACGCCA____GT\n",
      "ACCATTCT____GACTGAGC\n",
      "TGAGTCTCCCCC____ACGT\n",
      "AGCTCT____TGGCTGATTA\n",
      "TGG____ACCTTACTTTTAG\n",
      "CTGGTGCTTC____AGAAGA\n",
      "TC____TTTAGTCCATCTCG\n",
      "____CGCAGTTAGGGTATAT\n"
     ]
    }
   ],
   "source": [
    "sim = mb.datasets.simulate_data('____', n_trials=10, seqlen=20)\n",
    "for s in sim:\n",
    "    print(s)"
   ]
  },
  {
   "cell_type": "code",
   "execution_count": 6,
   "id": "6b274395-b0af-4790-91ec-3039d456ca23",
   "metadata": {},
   "outputs": [
    {
     "name": "stdout",
     "output_type": "stream",
     "text": [
      "CTCGTAATGTTCGAGATATT\n",
      "GCAACGGCGGGCGTTAGATA\n",
      "TAATTGCTGATTAAGATAGA\n",
      "GCCTGTGGGATACAGATTGC\n",
      "TTAGGCAAATTTGATAGGGC\n",
      "CTATAAGATATCCCGATTTA\n",
      "CTCGATAGATCTGAGTCAGT\n",
      "GTTTTCTAGCGATACGCCAC\n",
      "ACGATAGCATATCGAACATC\n",
      "GATAGTTATTTCTATTGCAC\n"
     ]
    }
   ],
   "source": [
    "sim = mb.datasets.simulate_data('GATA', n_trials=10, seqlen=20)\n",
    "for s in sim:\n",
    "    print(s)"
   ]
  },
  {
   "cell_type": "markdown",
   "id": "0ba8beda-9c18-4ad7-a666-57ffb0e63395",
   "metadata": {},
   "source": [
    "### Simulated data w/continuous values (SELEX) or binary output (ChIP-seq)"
   ]
  },
  {
   "cell_type": "code",
   "execution_count": 50,
   "id": "652d4f6e-0410-4f0e-a804-6b769e84d77b",
   "metadata": {},
   "outputs": [
    {
     "data": {
      "text/plain": [
       "(array(['GAGGAACCTATCGTAATGTTACGT', 'AGGAACCTAGCAACGGCGGGACGT',\n",
       "        'CGTTAGAGGAACCTACTGATACGT', 'TAAAAACAGGAACCTAGCGAACGT',\n",
       "        'ACAGAGGAACCTAGCAAATTACGT', 'TTGAAGGGCCAGGAACCTATACGT',\n",
       "        'CCCGAAGGAACCTAGGGATCACGT', 'TGAGTCAGGAACCTATAGCAACGT',\n",
       "        'GAGCGCAGGAACCTAGCATAACGT', 'TCGAAAGGAACCTATTATTTACGT',\n",
       "        'CAGGAACCTACTGTGAACTTACGT', 'AAACCAGGAACCTAGTTTAGACGT',\n",
       "        'ATGTCGTTAGGAACCTACTGACGT', 'GTACTCCAGGAACCTAAGGGACGT',\n",
       "        'TAGGAACCTAAAAGATGATGACGT', 'CCGAGGAACCTACCTAAAGCACGT',\n",
       "        'ACAGGCCAGGAACCTACTCGACGT', 'CGTCATAGGAACCTATTGGCACGT',\n",
       "        'GGACTAGGAACCTAGGTCTAACGT', 'TGGAGGAACCTAGTGTAACTACGT'],\n",
       "       dtype='<U24'),\n",
       " array([100, 100, 100, 100, 100, 100, 100, 100, 100, 100, 100, 100, 100,\n",
       "        100, 100, 100, 100, 100, 100, 100]))"
      ]
     },
     "execution_count": 50,
     "metadata": {},
     "output_type": "execute_result"
    }
   ],
   "source": [
    "motif = 'AGGAACCTA'\n",
    "# SELEX\n",
    "x1, y1 = mb.datasets.simulate_xy(motif, n_trials=500, seqlen=20, max_mismatches=5)\n",
    "# ChIP-seq\n",
    "x2, y2 = mb.datasets.simulate_xy(motif, n_trials=500, seqlen=100, max_mismatches=2)\n",
    "y2 = (y2 - y2.min()) / (np.max(y2) - np.min(y2))\n",
    "\n",
    "x1[:20], y1[:20]"
   ]
  }
 ],
 "metadata": {
  "kernelspec": {
   "display_name": "Python [conda env:multibind]",
   "language": "python",
   "name": "conda-env-multibind-py"
  },
  "language_info": {
   "codemirror_mode": {
    "name": "ipython",
    "version": 3
   },
   "file_extension": ".py",
   "mimetype": "text/x-python",
   "name": "python",
   "nbconvert_exporter": "python",
   "pygments_lexer": "ipython3",
   "version": "3.6.3"
  }
 },
 "nbformat": 4,
 "nbformat_minor": 5
}
