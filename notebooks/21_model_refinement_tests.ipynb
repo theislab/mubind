{
 "cells": [
  {
   "cell_type": "code",
   "execution_count": 23,
   "id": "0223cd88-05fa-4f1e-87ca-d559ab3f7188",
   "metadata": {},
   "outputs": [
    {
     "name": "stdout",
     "output_type": "stream",
     "text": [
      "The autoreload extension is already loaded. To reload it, use:\n",
      "  %reload_ext autoreload\n"
     ]
    }
   ],
   "source": [
    "%load_ext autoreload\n",
    "%autoreload 2"
   ]
  },
  {
   "cell_type": "code",
   "execution_count": 24,
   "id": "54abd167-5634-45b0-b368-521132d19161",
   "metadata": {},
   "outputs": [
    {
     "name": "stdout",
     "output_type": "stream",
     "text": [
      "Using device: cpu\n"
     ]
    }
   ],
   "source": [
    "import multibind as mb\n",
    "import numpy as np\n",
    "import pandas as pd\n",
    "import torch\n",
    "import bindome as bd\n",
    "bd.constants.ANNOTATIONS_DIRECTORY = '/home/johanna/ICB/annotations'\n",
    "# mb.models.MultiBind\n",
    "import torch.optim as topti\n",
    "import torch.utils.data as tdata\n",
    "import matplotlib.pyplot as plt\n",
    "import logomaker\n",
    "\n",
    "# Use a GPU if available, as it should be faster.\n",
    "device = torch.device(\"cuda:0\" if torch.cuda.is_available() else \"cpu\")\n",
    "print(\"Using device: \" + str(device))"
   ]
  },
  {
   "cell_type": "code",
   "execution_count": 25,
   "id": "a57a4b8d-f291-4ee9-ad80-da796d65106d",
   "metadata": {},
   "outputs": [],
   "source": [
    "n_rounds = 1\n",
    "data = pd.read_csv('../data/countTable.0.CTCF_r3.tsv.gz', sep='\\t', header=None)\n",
    "data.columns = ['seq'] + [i for i in range(n_rounds+1)]\n",
    "data.index = data['seq']\n",
    "del data['seq']\n",
    "data = data.sample(n=1000)\n",
    "# data.index = range(len(data))\n",
    "dataset = mb.datasets.SelexDataset(data, n_rounds=n_rounds)\n",
    "train = tdata.DataLoader(dataset=dataset, batch_size=128, shuffle=True)\n",
    "# train_test = tdata.DataLoader(dataset=dataset, batch_size=1, shuffle=False)"
   ]
  },
  {
   "cell_type": "code",
   "execution_count": 26,
   "id": "52c5c520-2c7d-4c6a-974a-8fb578d11ea9",
   "metadata": {},
   "outputs": [
    {
     "data": {
      "text/html": [
       "<div>\n",
       "<style scoped>\n",
       "    .dataframe tbody tr th:only-of-type {\n",
       "        vertical-align: middle;\n",
       "    }\n",
       "\n",
       "    .dataframe tbody tr th {\n",
       "        vertical-align: top;\n",
       "    }\n",
       "\n",
       "    .dataframe thead th {\n",
       "        text-align: right;\n",
       "    }\n",
       "</style>\n",
       "<table border=\"1\" class=\"dataframe\">\n",
       "  <thead>\n",
       "    <tr style=\"text-align: right;\">\n",
       "      <th></th>\n",
       "      <th>0</th>\n",
       "      <th>1</th>\n",
       "    </tr>\n",
       "    <tr>\n",
       "      <th>seq</th>\n",
       "      <th></th>\n",
       "      <th></th>\n",
       "    </tr>\n",
       "  </thead>\n",
       "  <tbody>\n",
       "    <tr>\n",
       "      <th>ATATTAGTTATGTCGCGTCTGCTATAGATG</th>\n",
       "      <td>1</td>\n",
       "      <td>0</td>\n",
       "    </tr>\n",
       "    <tr>\n",
       "      <th>AATGTGCTGGTGCTTTTGTTATAGTGAATA</th>\n",
       "      <td>1</td>\n",
       "      <td>0</td>\n",
       "    </tr>\n",
       "    <tr>\n",
       "      <th>AGAAGTGGTCGTGGGTTGAGCTGTTGGAGG</th>\n",
       "      <td>1</td>\n",
       "      <td>0</td>\n",
       "    </tr>\n",
       "    <tr>\n",
       "      <th>CTTGTAGGTTATAACTTTACGCTGAATTTG</th>\n",
       "      <td>1</td>\n",
       "      <td>0</td>\n",
       "    </tr>\n",
       "    <tr>\n",
       "      <th>GGTAGCTGAGCTCAGAGCTAGTAACTAATG</th>\n",
       "      <td>1</td>\n",
       "      <td>0</td>\n",
       "    </tr>\n",
       "    <tr>\n",
       "      <th>...</th>\n",
       "      <td>...</td>\n",
       "      <td>...</td>\n",
       "    </tr>\n",
       "    <tr>\n",
       "      <th>GATGCCCGGGCACAAGGTGTACGGTGCGGG</th>\n",
       "      <td>0</td>\n",
       "      <td>1</td>\n",
       "    </tr>\n",
       "    <tr>\n",
       "      <th>ACGCGGAGCAAATGCTGGTTCATTAAAGGT</th>\n",
       "      <td>1</td>\n",
       "      <td>0</td>\n",
       "    </tr>\n",
       "    <tr>\n",
       "      <th>AGAAATAGGCTAATGCAGAGTATACGCAGG</th>\n",
       "      <td>1</td>\n",
       "      <td>0</td>\n",
       "    </tr>\n",
       "    <tr>\n",
       "      <th>GTGTGTCACATAAAGGACGTTGGACAATTC</th>\n",
       "      <td>0</td>\n",
       "      <td>1</td>\n",
       "    </tr>\n",
       "    <tr>\n",
       "      <th>GAATGCGGATTCAGCAATGTTGGCTAGATG</th>\n",
       "      <td>1</td>\n",
       "      <td>0</td>\n",
       "    </tr>\n",
       "  </tbody>\n",
       "</table>\n",
       "<p>1000 rows × 2 columns</p>\n",
       "</div>"
      ],
      "text/plain": [
       "                                0  1\n",
       "seq                                 \n",
       "ATATTAGTTATGTCGCGTCTGCTATAGATG  1  0\n",
       "AATGTGCTGGTGCTTTTGTTATAGTGAATA  1  0\n",
       "AGAAGTGGTCGTGGGTTGAGCTGTTGGAGG  1  0\n",
       "CTTGTAGGTTATAACTTTACGCTGAATTTG  1  0\n",
       "GGTAGCTGAGCTCAGAGCTAGTAACTAATG  1  0\n",
       "...                            .. ..\n",
       "GATGCCCGGGCACAAGGTGTACGGTGCGGG  0  1\n",
       "ACGCGGAGCAAATGCTGGTTCATTAAAGGT  1  0\n",
       "AGAAATAGGCTAATGCAGAGTATACGCAGG  1  0\n",
       "GTGTGTCACATAAAGGACGTTGGACAATTC  0  1\n",
       "GAATGCGGATTCAGCAATGTTGGCTAGATG  1  0\n",
       "\n",
       "[1000 rows x 2 columns]"
      ]
     },
     "execution_count": 26,
     "metadata": {},
     "output_type": "execute_result"
    }
   ],
   "source": [
    "data"
   ]
  },
  {
   "cell_type": "code",
   "execution_count": 27,
   "id": "15947ecf-8b98-4ed1-833a-82db38240940",
   "metadata": {},
   "outputs": [],
   "source": [
    "model = mb.models.Multibind(kernels=[0, 14, 12], datatype=\"selex\", n_rounds=1, n_batches=1).to(device)\n",
    "l2 = []\n",
    "optimiser = topti.Adam(model.parameters(), lr=0.001, weight_decay=0.0001)\n",
    "# optimiser = topti.LBFGS(model.parameters())\n",
    "criterion = mb.tl.PoissonLoss()"
   ]
  },
  {
   "cell_type": "code",
   "execution_count": 28,
   "id": "c2849452-3981-4790-9bc4-d8eef0a843b3",
   "metadata": {},
   "outputs": [
    {
     "name": "stdout",
     "output_type": "stream",
     "text": [
      "optimizing using <class 'torch.optim.adam.Adam'> and <class 'multibind.tl.loss.PoissonLoss'> n_epochs 500 early_stopping 10\n",
      "lr= 0.001, weight_decay= 0.0001, dir weight= 0\n",
      "Epoch: 11, Loss: 1.663309 , best epoch: 9 secs per epoch: 0.062 s\n",
      "Epoch: 21, Loss: 1.332551 , best epoch: 19 secs per epoch: 0.060 s\n",
      "Epoch: 31, Loss: 1.077441 , best epoch: 29 secs per epoch: 0.060 s\n",
      "Epoch: 41, Loss: 0.933565 , best epoch: 39 secs per epoch: 0.059 s\n",
      "Epoch: 51, Loss: 0.874410 , best epoch: 49 secs per epoch: 0.060 s\n",
      "Epoch: 61, Loss: 0.854477 , best epoch: 59 secs per epoch: 0.059 s\n",
      "Epoch: 71, Loss: 0.848061 , best epoch: 69 secs per epoch: 0.058 s\n",
      "Epoch: 81, Loss: 0.846159 , best epoch: 79 secs per epoch: 0.057 s\n",
      "Epoch: 91, Loss: 0.845833 , best epoch: 88 secs per epoch: 0.056 s\n",
      "Epoch: 101, Loss: 0.845492 , best epoch: 99 secs per epoch: 0.055 s\n",
      "Epoch: 111, Loss: 0.845479 , best epoch: 101 secs per epoch: 0.055 s\n",
      "Epoch: 112, Loss: 0.8456 , best epoch: 101 secs per epoch: 0.055 s\n",
      "early stop!\n",
      "total time: 6.096 s\n",
      "secs per epoch: 0.055 s\n"
     ]
    }
   ],
   "source": [
    "mb.tl.train_network(model, train, device, optimiser, criterion, reconstruction_crit=None, num_epochs=500, early_stopping=10, log_each=10, verbose=2)"
   ]
  },
  {
   "cell_type": "code",
   "execution_count": null,
   "id": "1775af69-3765-46b5-a6a1-6772bb0159c7",
   "metadata": {},
   "outputs": [],
   "source": []
  },
  {
   "cell_type": "code",
   "execution_count": null,
   "id": "ecc56de9-4d5e-43e2-bc4f-3e33c3b18a54",
   "metadata": {},
   "outputs": [],
   "source": []
  }
 ],
 "metadata": {
  "kernelspec": {
   "display_name": "Python (multibind)",
   "language": "python",
   "name": "multibind"
  },
  "language_info": {
   "codemirror_mode": {
    "name": "ipython",
    "version": 3
   },
   "file_extension": ".py",
   "mimetype": "text/x-python",
   "name": "python",
   "nbconvert_exporter": "python",
   "pygments_lexer": "ipython3",
   "version": "3.10.4"
  }
 },
 "nbformat": 4,
 "nbformat_minor": 5
}
