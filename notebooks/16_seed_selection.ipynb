{
 "cells": [
  {
   "cell_type": "code",
   "execution_count": 1,
   "id": "18611f54-b7c7-4689-aed4-42ad6cc5d4cd",
   "metadata": {},
   "outputs": [],
   "source": [
    "%load_ext autoreload\n",
    "%autoreload 2"
   ]
  },
  {
   "cell_type": "code",
   "execution_count": 2,
   "id": "06056445-e90c-4daf-9927-b9d660cd9936",
   "metadata": {},
   "outputs": [
    {
     "name": "stdout",
     "output_type": "stream",
     "text": [
      "Using device: cuda:0\n"
     ]
    }
   ],
   "source": [
    "import mubind as mb\n",
    "import numpy as np\n",
    "import pandas as pd\n",
    "import torch\n",
    "import bindome as bd\n",
    "\n",
    "# here add a direct direct to annotations using e.g. `ln -s annotations_directory .`\n",
    "bd.constants.ANNOTATIONS_DIRECTORY = 'annotations'\n",
    "# mb.models.MultiBind\n",
    "import torch.optim as topti\n",
    "import torch.utils.data as tdata\n",
    "import matplotlib.pyplot as plt\n",
    "import logomaker\n",
    "\n",
    "# Use a GPU if available, as it should be faster.\n",
    "device = torch.device(\"cuda:0\" if torch.cuda.is_available() else \"cpu\")\n",
    "print(\"Using device: \" + str(device))"
   ]
  },
  {
   "cell_type": "code",
   "execution_count": 7,
   "id": "8edef8e5-e021-4958-97fc-77ae6cb8c55d",
   "metadata": {},
   "outputs": [],
   "source": [
    "df = mb.bindome.datasets.ProBound.GR_mult_conc()\n",
    "df = df.sort_values(1, ascending=False).reset_index(drop=True)"
   ]
  },
  {
   "cell_type": "code",
   "execution_count": 28,
   "id": "a364e502-03f4-41d5-b33b-270faab152f5",
   "metadata": {},
   "outputs": [
    {
     "name": "stdout",
     "output_type": "stream",
     "text": [
      "0 out of 100000\n",
      "10000 out of 100000\n",
      "20000 out of 100000\n",
      "30000 out of 100000\n",
      "40000 out of 100000\n",
      "50000 out of 100000\n",
      "60000 out of 100000\n",
      "70000 out of 100000\n",
      "80000 out of 100000\n",
      "90000 out of 100000\n"
     ]
    }
   ],
   "source": [
    "kmers = mb.tl.seqs2kmers(df['seq'].head(100000), 4, log_each=10000)"
   ]
  },
  {
   "cell_type": "code",
   "execution_count": 29,
   "id": "91e043ac-38ba-49ad-8ca4-1d4bd1c2af51",
   "metadata": {},
   "outputs": [
    {
     "name": "stdout",
     "output_type": "stream",
     "text": [
      "cardiac_complexes\n",
      "# filenames 22\n",
      "PRJEB14744\n",
      "# filenames 11\n",
      "PRJEB20112\n",
      "# filenames 46\n",
      "PRJEB3289\n",
      "# filenames 68\n",
      "PRJEB9797\n",
      "# filenames 184\n"
     ]
    }
   ],
   "source": [
    "data = mb.bindome.datasets.SELEX.get_data()"
   ]
  },
  {
   "cell_type": "code",
   "execution_count": 38,
   "id": "335cbdea-5d39-498b-8d0f-c4b187aeeaa9",
   "metadata": {},
   "outputs": [
    {
     "data": {
      "text/plain": [
       "'annotations/selex/PRJEB3289/ELK1_TCGGAA20NAGT_AG_2.fastq.gz'"
      ]
     },
     "execution_count": 38,
     "metadata": {},
     "output_type": "execute_result"
    }
   ],
   "source": []
  },
  {
   "cell_type": "code",
   "execution_count": 44,
   "id": "f7c697df-4207-45d1-8af5-189bbc9eafc5",
   "metadata": {},
   "outputs": [
    {
     "name": "stdout",
     "output_type": "stream",
     "text": [
      "kmc -k10 -m8 annotations/selex/PRJEB3289/ELK1_TCGGAA20NAGT_AG_2.fastq.gz NA kmc_tmp 1> in.txt 2> err.txt\n",
      "kmc_tools transform NA dump NA.txt\n"
     ]
    },
    {
     "name": "stderr",
     "output_type": "stream",
     "text": [
      "in1: 100% \n"
     ]
    }
   ],
   "source": [
    "kmers = mb.tl.fastq2kmers(data['path'][100], 10, log=True)"
   ]
  }
 ],
 "metadata": {
  "kernelspec": {
   "display_name": "multibind",
   "language": "python",
   "name": "multibind"
  },
  "language_info": {
   "codemirror_mode": {
    "name": "ipython",
    "version": 3
   },
   "file_extension": ".py",
   "mimetype": "text/x-python",
   "name": "python",
   "nbconvert_exporter": "python",
   "pygments_lexer": "ipython3",
   "version": "3.10.4"
  }
 },
 "nbformat": 4,
 "nbformat_minor": 5
}
